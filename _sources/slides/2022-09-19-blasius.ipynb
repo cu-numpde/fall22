{
 "cells": [
  {
   "cell_type": "markdown",
   "id": "3471b94b",
   "metadata": {
    "cell_style": "center",
    "slideshow": {
     "slide_type": "slide"
    }
   },
   "source": [
    "# 2022-09-19 Blasius"
   ]
  },
  {
   "cell_type": "markdown",
   "id": "4159be0e",
   "metadata": {
    "cell_style": "split",
    "slideshow": {
     "slide_type": ""
    }
   },
   "source": [
    "## Last time\n",
    "\n",
    "* NLsolve Newton solver library\n",
    "  * p-Laplacian robustness\n",
    "  * diagnostics\n",
    "* Algorithmic differentiation via Zygote\n",
    "* Symbolic differentiation\n",
    "\n",
    "## Today\n",
    "* Structured by-hand differentiation\n",
    "* Concept of PDE-based inference (inverse problems)\n",
    "* The Blasius problem (activity)"
   ]
  },
  {
   "cell_type": "code",
   "execution_count": 2,
   "id": "e82d841d",
   "metadata": {
    "hideOutput": true,
    "slideshow": {
     "slide_type": "skip"
    }
   },
   "outputs": [
    {
     "data": {
      "text/plain": [
       "vander (generic function with 2 methods)"
      ]
     },
     "execution_count": 2,
     "metadata": {},
     "output_type": "execute_result"
    }
   ],
   "source": [
    "using Plots\n",
    "default(linewidth=3)\n",
    "using LinearAlgebra\n",
    "using SparseArrays\n",
    "using Zygote\n",
    "\n",
    "function vander(x, k=nothing)\n",
    "    if k === nothing\n",
    "        k = length(x)\n",
    "    end\n",
    "    V = ones(length(x), k)\n",
    "    for j = 2:k\n",
    "        V[:, j] = V[:, j-1] .* x\n",
    "    end\n",
    "    V\n",
    "end\n"
   ]
  },
  {
   "cell_type": "markdown",
   "id": "af45c2a5",
   "metadata": {
    "slideshow": {
     "slide_type": "slide"
    }
   },
   "source": [
    "# Hand coding derivatives: it's all chain rule and associativity\n",
    "$$ df = f'(x) dx $$"
   ]
  },
  {
   "cell_type": "code",
   "execution_count": 3,
   "id": "dcf1032a",
   "metadata": {
    "cell_style": "split"
   },
   "outputs": [
    {
     "data": {
      "text/plain": [
       "(-1.5346823414986814, (-34.03241959914049,))"
      ]
     },
     "execution_count": 3,
     "metadata": {},
     "output_type": "execute_result"
    }
   ],
   "source": [
    "function f(x)\n",
    "    y = x\n",
    "    for _ in 1:2\n",
    "        a = y^pi\n",
    "        b = cos(a)\n",
    "        c = log(y)\n",
    "        y = b * c\n",
    "    end\n",
    "    y\n",
    "end\n",
    "\n",
    "f(1.9), gradient(f, 1.9)"
   ]
  },
  {
   "cell_type": "code",
   "execution_count": 4,
   "id": "07ec7ef4",
   "metadata": {
    "cell_style": "split"
   },
   "outputs": [
    {
     "data": {
      "text/plain": [
       "-34.03241959914048"
      ]
     },
     "execution_count": 4,
     "metadata": {},
     "output_type": "execute_result"
    }
   ],
   "source": [
    "function df(x, dx)\n",
    "    y = x\n",
    "    dy = dx\n",
    "    for _ in 1:2\n",
    "        a = y^pi\n",
    "        da = pi * y^(pi-1) * dy\n",
    "        b = cos(a)\n",
    "        db = -sin(a) * da\n",
    "        c = log(y)\n",
    "        dc = 1/y * dy\n",
    "        y = b * c\n",
    "        dy = db * c + b * dc\n",
    "    end\n",
    "    dy\n",
    "end\n",
    "\n",
    "df(1.9, 1)"
   ]
  },
  {
   "cell_type": "markdown",
   "id": "7c0de5ea",
   "metadata": {
    "slideshow": {
     "slide_type": "slide"
    }
   },
   "source": [
    "# We can go the other way\n",
    "\n",
    "We can differentiate a composition $h(g(f(x)))$ as\n",
    "\n",
    "\\begin{align}\n",
    "  \\operatorname{d} h &= h' \\operatorname{d} g \\\\\n",
    "  \\operatorname{d} g &= g' \\operatorname{d} f \\\\\n",
    "  \\operatorname{d} f &= f' \\operatorname{d} x.\n",
    "\\end{align}\n",
    "\n",
    "What we've done above is called \"forward mode\", and amounts to placing the parentheses in the chain rule like\n",
    "\n",
    "$$ \\operatorname d h = \\frac{dh}{dg} \\left(\\frac{dg}{df} \\left(\\frac{df}{dx} \\operatorname d x \\right) \\right) .$$\n",
    "\n",
    "The expression means the same thing if we rearrange the parentheses,\n",
    "\n",
    "$$ \\operatorname d h = \\left( \\left( \\left( \\frac{dh}{dg} \\right) \\frac{dg}{df} \\right) \\frac{df}{dx} \\right) \\operatorname d x $$\n",
    "\n",
    "which we can compute with in reverse order via\n",
    "\n",
    "$$ \\underbrace{\\bar x}_{\\frac{dh}{dx}} = \\underbrace{\\bar g \\frac{dg}{df}}_{\\bar f} \\frac{df}{dx} .$$"
   ]
  },
  {
   "cell_type": "markdown",
   "id": "163a414f",
   "metadata": {
    "slideshow": {
     "slide_type": "slide"
    }
   },
   "source": [
    "# A reverse mode example\n",
    "\n",
    "$$ \\underbrace{\\bar x}_{\\frac{dh}{dx}} = \\underbrace{\\bar g \\frac{dg}{df}}_{\\bar f} \\frac{df}{dx} .$$"
   ]
  },
  {
   "cell_type": "code",
   "execution_count": 5,
   "id": "a4a4a693",
   "metadata": {
    "cell_style": "split"
   },
   "outputs": [
    {
     "data": {
      "text/plain": [
       "(-0.32484122107701546, (-1.2559761698835525,))"
      ]
     },
     "execution_count": 5,
     "metadata": {},
     "output_type": "execute_result"
    }
   ],
   "source": [
    "function g(x)\n",
    "    a = x^pi\n",
    "    b = cos(a)\n",
    "    c = log(x)\n",
    "    y = b * c\n",
    "    y\n",
    "end\n",
    "(g(1.4), gradient(g, 1.4))"
   ]
  },
  {
   "cell_type": "code",
   "execution_count": 6,
   "id": "0d51a1d8",
   "metadata": {
    "cell_style": "split"
   },
   "outputs": [
    {
     "data": {
      "text/plain": [
       "-1.2559761698835525"
      ]
     },
     "execution_count": 6,
     "metadata": {},
     "output_type": "execute_result"
    }
   ],
   "source": [
    "function gback(x, y_)\n",
    "    a = x^pi\n",
    "    b = cos(a)\n",
    "    c = log(x)\n",
    "    y = b * c\n",
    "    # backward pass\n",
    "    c_ = y_ * b \n",
    "    b_ = c * y_\n",
    "    a_ = -sin(a) * b_\n",
    "    x_ = 1/x * c_ + pi * x^(pi-1) * a_\n",
    "    x_\n",
    "end\n",
    "gback(1.4, 1)"
   ]
  },
  {
   "cell_type": "markdown",
   "id": "ec931e73",
   "metadata": {
    "slideshow": {
     "slide_type": "slide"
    }
   },
   "source": [
    "# Kinds of algorithmic differentation\n",
    "\n",
    "* Source transformation: Fortran code in, Fortran code out\n",
    "  * Duplicates compiler features, usually incomplete language coverage\n",
    "  * Produces efficient code\n",
    "* Operator overloading: C++ types\n",
    "  * Hard to vectorize\n",
    "  * Loops are effectively unrolled/inefficient\n",
    "* Just-in-time compilation: tightly coupled with compiler\n",
    "  * JIT lag\n",
    "  * Needs dynamic language features (JAX) or tight integration with compiler (Zygote, Enzyme)\n",
    "  * Some [sharp bits](https://jax.readthedocs.io/en/latest/notebooks/Common_Gotchas_in_JAX.html#control-flow)"
   ]
  },
  {
   "cell_type": "markdown",
   "id": "2b1493b0",
   "metadata": {
    "slideshow": {
     "slide_type": "slide"
    }
   },
   "source": [
    "# How does Zygote work?"
   ]
  },
  {
   "cell_type": "code",
   "execution_count": 7,
   "id": "a4846311",
   "metadata": {
    "cell_style": "split"
   },
   "outputs": [
    {
     "name": "stdout",
     "output_type": "stream",
     "text": [
      "\u001b[90m;  @ In[7]:1 within `h1`\u001b[39m\n",
      "\u001b[95mdefine\u001b[39m \u001b[36mdouble\u001b[39m \u001b[93m@julia_h1_5414\u001b[39m\u001b[33m(\u001b[39m\u001b[36mdouble\u001b[39m \u001b[0m%0\u001b[33m)\u001b[39m \u001b[0m#0 \u001b[33m{\u001b[39m\n",
      "\u001b[91mtop:\u001b[39m\n",
      "\u001b[90m; ┌ @ intfuncs.jl:322 within `literal_pow`\u001b[39m\n",
      "\u001b[90m; │┌ @ operators.jl:591 within `*` @ float.jl:385\u001b[39m\n",
      "    \u001b[0m%1 \u001b[0m= \u001b[96m\u001b[1mfmul\u001b[22m\u001b[39m \u001b[36mdouble\u001b[39m \u001b[0m%0\u001b[0m, \u001b[0m%0\n",
      "    \u001b[0m%2 \u001b[0m= \u001b[96m\u001b[1mfmul\u001b[22m\u001b[39m \u001b[36mdouble\u001b[39m \u001b[0m%1\u001b[0m, \u001b[0m%0\n",
      "\u001b[90m; └└\u001b[39m\n",
      "\u001b[90m; ┌ @ promotion.jl:389 within `*` @ float.jl:385\u001b[39m\n",
      "   \u001b[0m%3 \u001b[0m= \u001b[96m\u001b[1mfmul\u001b[22m\u001b[39m \u001b[36mdouble\u001b[39m \u001b[0m%0\u001b[0m, \u001b[33m3.000000e+00\u001b[39m\n",
      "\u001b[90m; └\u001b[39m\n",
      "\u001b[90m; ┌ @ float.jl:383 within `+`\u001b[39m\n",
      "   \u001b[0m%4 \u001b[0m= \u001b[96m\u001b[1mfadd\u001b[22m\u001b[39m \u001b[36mdouble\u001b[39m \u001b[0m%3\u001b[0m, \u001b[0m%2\n",
      "\u001b[90m; └\u001b[39m\n",
      "  \u001b[96m\u001b[1mret\u001b[22m\u001b[39m \u001b[36mdouble\u001b[39m \u001b[0m%4\n",
      "\u001b[33m}\u001b[39m\n"
     ]
    }
   ],
   "source": [
    "h1(x) = x^3 + 3*x\n",
    "h2(x) = ((x * x)  + 3) * x\n",
    "@code_llvm h1(4.)"
   ]
  },
  {
   "cell_type": "code",
   "execution_count": 8,
   "id": "7d6a5aae",
   "metadata": {
    "cell_style": "split"
   },
   "outputs": [
    {
     "name": "stdout",
     "output_type": "stream",
     "text": [
      "\u001b[90m;  @ /home/jed/.julia/packages/Zygote/xGkZ5/src/compiler/interface.jl:95 within `gradient`\u001b[39m\n",
      "\u001b[95mdefine\u001b[39m \u001b[33m[\u001b[39m\u001b[33m1\u001b[39m \u001b[0mx \u001b[36mdouble\u001b[39m\u001b[33m]\u001b[39m \u001b[93m@julia_gradient_5495\u001b[39m\u001b[33m(\u001b[39m\u001b[36mdouble\u001b[39m \u001b[0m%0\u001b[33m)\u001b[39m \u001b[0m#0 \u001b[33m{\u001b[39m\n",
      "\u001b[91mtop:\u001b[39m\n",
      "\u001b[90m;  @ /home/jed/.julia/packages/Zygote/xGkZ5/src/compiler/interface.jl:97 within `gradient`\u001b[39m\n",
      "\u001b[90m; ┌ @ /home/jed/.julia/packages/Zygote/xGkZ5/src/compiler/interface.jl:45 within `#60`\u001b[39m\n",
      "\u001b[90m; │┌ @ In[7]:1 within `Pullback`\u001b[39m\n",
      "\u001b[90m; ││┌ @ /home/jed/.julia/packages/Zygote/xGkZ5/src/compiler/chainrules.jl:206 within `ZBack`\u001b[39m\n",
      "\u001b[90m; │││┌ @ /home/jed/.julia/packages/Zygote/xGkZ5/src/lib/number.jl:12 within `literal_pow_pullback`\u001b[39m\n",
      "\u001b[90m; ││││┌ @ intfuncs.jl:321 within `literal_pow`\u001b[39m\n",
      "\u001b[90m; │││││┌ @ float.jl:385 within `*`\u001b[39m\n",
      "        \u001b[0m%1 \u001b[0m= \u001b[96m\u001b[1mfmul\u001b[22m\u001b[39m \u001b[36mdouble\u001b[39m \u001b[0m%0\u001b[0m, \u001b[0m%0\n",
      "\u001b[90m; ││││└└\u001b[39m\n",
      "\u001b[90m; ││││┌ @ promotion.jl:389 within `*` @ float.jl:385\u001b[39m\n",
      "       \u001b[0m%2 \u001b[0m= \u001b[96m\u001b[1mfmul\u001b[22m\u001b[39m \u001b[36mdouble\u001b[39m \u001b[0m%1\u001b[0m, \u001b[33m3.000000e+00\u001b[39m\n",
      "\u001b[90m; │└└└└\u001b[39m\n",
      "\u001b[90m; │┌ @ /home/jed/.julia/packages/Zygote/xGkZ5/src/lib/lib.jl:17 within `accum`\u001b[39m\n",
      "\u001b[90m; ││┌ @ float.jl:383 within `+`\u001b[39m\n",
      "     \u001b[0m%3 \u001b[0m= \u001b[96m\u001b[1mfadd\u001b[22m\u001b[39m \u001b[36mdouble\u001b[39m \u001b[0m%2\u001b[0m, \u001b[33m3.000000e+00\u001b[39m\n",
      "\u001b[90m; └└└\u001b[39m\n",
      "\u001b[90m;  @ /home/jed/.julia/packages/Zygote/xGkZ5/src/compiler/interface.jl:98 within `gradient`\u001b[39m\n",
      "  \u001b[0m%.fca.0.insert \u001b[0m= \u001b[96m\u001b[1minsertvalue\u001b[22m\u001b[39m \u001b[33m[\u001b[39m\u001b[33m1\u001b[39m \u001b[0mx \u001b[36mdouble\u001b[39m\u001b[33m]\u001b[39m \u001b[95mzeroinitializer\u001b[39m\u001b[0m, \u001b[36mdouble\u001b[39m \u001b[0m%3\u001b[0m, \u001b[33m0\u001b[39m\n",
      "  \u001b[96m\u001b[1mret\u001b[22m\u001b[39m \u001b[33m[\u001b[39m\u001b[33m1\u001b[39m \u001b[0mx \u001b[36mdouble\u001b[39m\u001b[33m]\u001b[39m \u001b[0m%.fca.0.insert\n",
      "\u001b[33m}\u001b[39m\n"
     ]
    }
   ],
   "source": [
    "@code_llvm gradient(h1, 4.)"
   ]
  },
  {
   "cell_type": "markdown",
   "id": "b6180a8e",
   "metadata": {
    "slideshow": {
     "slide_type": "slide"
    }
   },
   "source": [
    "# Forward or reverse?\n",
    "\n",
    "It all depends on the shape.\n",
    "\n",
    "$$ \\operatorname d h = \\frac{dh}{dg} \\left(\\frac{dg}{df} \\left(\\frac{df}{dx} \\operatorname d x \\right) \\right) .$$\n",
    "\n",
    "$$ \\operatorname d h = \\left( \\left( \\left( \\frac{dh}{dg} \\right) \\frac{dg}{df} \\right) \\frac{df}{dx} \\right) \\operatorname d x $$\n",
    "\n",
    "* One input, many outputs: use forward mode\n",
    "  * \"One input\" can be looking in one direction\n",
    "* Many inputs, one output: use reverse mode\n",
    "  * Will need to traverse execution backwards (\"tape\")\n",
    "  * Hierarchical checkpointing\n",
    "* About square? Forward is usually a bit more efficient."
   ]
  },
  {
   "cell_type": "markdown",
   "id": "80af4c12",
   "metadata": {
    "slideshow": {
     "slide_type": "slide"
    }
   },
   "source": [
    "# Inference using PDE-based models\n",
    "\n",
    "<img src=\"https://crikit.science/_images/diagram.png\" width=\"100%\" />"
   ]
  },
  {
   "cell_type": "markdown",
   "id": "d88ae97a",
   "metadata": {
    "slideshow": {
     "slide_type": "slide"
    }
   },
   "source": [
    "# [Compressible Blasius boundary layer](https://en.wikipedia.org/wiki/Blasius_boundary_layer#Compressible_Blasius_boundary_layer)\n",
    "\n",
    "* Activity will solve this 1D nonlinear PDE"
   ]
  }
 ],
 "metadata": {
  "@webio": {
   "lastCommId": null,
   "lastKernelId": null
  },
  "celltoolbar": "Slideshow",
  "kernelspec": {
   "display_name": "Julia 1.7.2",
   "language": "julia",
   "name": "julia-1.7"
  },
  "language_info": {
   "file_extension": ".jl",
   "mimetype": "application/julia",
   "name": "julia",
   "version": "1.8.1"
  },
  "rise": {
   "enable_chalkboard": true
  }
 },
 "nbformat": 4,
 "nbformat_minor": 5
}
