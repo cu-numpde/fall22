{
 "cells": [
  {
   "cell_type": "markdown",
   "id": "3471b94b",
   "metadata": {
    "cell_style": "center",
    "slideshow": {
     "slide_type": "slide"
    }
   },
   "source": [
    "# 2022-11-28 Finite Volume"
   ]
  },
  {
   "cell_type": "markdown",
   "id": "4159be0e",
   "metadata": {
    "cell_style": "split",
    "slideshow": {
     "slide_type": ""
    }
   },
   "source": [
    "## Last time\n",
    "\n",
    "* CEED Fluids for compressible viscous flow\n",
    "* Solvers\n",
    "* Boundary conditions\n",
    "\n",
    "## Today\n",
    "\n",
    "* Notes on unstructured meshing workflow\n",
    "* Finite volume methods for hyperbolic conservation laws\n",
    "* Riemann solvers for scalar equations\n",
    "  * Shocks and the Rankine-Hugoniot condition\n",
    "  * Rarefactions and entropy solutions"
   ]
  },
  {
   "cell_type": "code",
   "execution_count": 1,
   "id": "7fd7f3b0",
   "metadata": {
    "slideshow": {
     "slide_type": "skip"
    }
   },
   "outputs": [
    {
     "name": "stderr",
     "output_type": "stream",
     "text": [
      "┌ Info: Precompiling Plots [91a5bcdd-55d7-5caf-9e0b-520d859cae80]\n",
      "└ @ Base loading.jl:1664\n",
      "WARNING: method definition for == at /home/jed/.julia/packages/ChainRulesCore/ctmSK/src/tangent_types/tangent.jl:68 declares type variable T but does not use it.\n",
      "WARNING: method definition for getindex at /home/jed/.julia/packages/ChainRulesCore/ctmSK/src/tangent_types/tangent.jl:120 declares type variable T but does not use it.\n",
      "WARNING: method definition for getindex at /home/jed/.julia/packages/ChainRulesCore/ctmSK/src/tangent_types/tangent.jl:120 declares type variable P but does not use it.\n",
      "WARNING: method definition for canonicalize at /home/jed/.julia/packages/ChainRulesCore/ctmSK/src/tangent_types/tangent.jl:240 declares type variable L but does not use it.\n",
      "WARNING: method definition for canonicalize at /home/jed/.julia/packages/ChainRulesCore/ctmSK/src/tangent_types/tangent.jl:241 declares type variable L but does not use it.\n"
     ]
    },
    {
     "data": {
      "text/plain": [
       "ode_rk_explicit (generic function with 1 method)"
      ]
     },
     "execution_count": 1,
     "metadata": {},
     "output_type": "execute_result"
    }
   ],
   "source": [
    "using LinearAlgebra\n",
    "using Plots\n",
    "default(linewidth=3)\n",
    "\n",
    "struct RKTable\n",
    "    A::Matrix\n",
    "    b::Vector\n",
    "    c::Vector\n",
    "    function RKTable(A, b)\n",
    "        s = length(b)\n",
    "        A = reshape(A, s, s)\n",
    "        c = vec(sum(A, dims=2))\n",
    "        new(A, b, c)\n",
    "    end\n",
    "end\n",
    "\n",
    "rk4 = RKTable([0 0 0 0; .5 0 0 0; 0 .5 0 0; 0 0 1 0], [1, 2, 2, 1] / 6)\n",
    "\n",
    "function ode_rk_explicit(f, u0; tfinal=1., h=0.1, table=rk4)\n",
    "    u = copy(u0)\n",
    "    t = 0.\n",
    "    n, s = length(u), length(table.c)\n",
    "    fY = zeros(n, s)\n",
    "    thist = [t]\n",
    "    uhist = [u0]\n",
    "    while t < tfinal\n",
    "        tnext = min(t+h, tfinal)\n",
    "        h = tnext - t\n",
    "        for i in 1:s\n",
    "            ti = t + h * table.c[i]\n",
    "            Yi = u + h * sum(fY[:,1:i-1] * table.A[i,1:i-1], dims=2)\n",
    "            fY[:,i] = f(ti, Yi)\n",
    "        end\n",
    "        u += h * fY * table.b\n",
    "        t = tnext\n",
    "        push!(thist, t)\n",
    "        push!(uhist, u)\n",
    "    end\n",
    "    thist, hcat(uhist...)\n",
    "end"
   ]
  },
  {
   "cell_type": "markdown",
   "id": "f60a2fe5",
   "metadata": {
    "slideshow": {
     "slide_type": "slide"
    }
   },
   "source": [
    "# Unstructured meshing"
   ]
  },
  {
   "cell_type": "markdown",
   "id": "ec9883cb",
   "metadata": {
    "cell_style": "split",
    "slideshow": {
     "slide_type": ""
    }
   },
   "source": [
    "* CAD models: spline-based (NURBS) geometry\n",
    "  * Label materials, boundary surfaces\n",
    "  * Proprietary formats or lossy open formats\n",
    "* Geometry clean-up\n",
    "  * Remove rivets, welds, brazing, bolt/thread detail\n",
    "* Mesh generation\n",
    "  * Tetrahedral meshing mostly automatic\n",
    "  * Hexahedral meshes often more efficient (e.g., locking in elasticity)\n",
    "    * Manually decompose geometry\n",
    "    * Various algorithms with poor quality elements\n",
    "  * Usually single node with lots of memory\n",
    "  "
   ]
  },
  {
   "cell_type": "markdown",
   "id": "20039875",
   "metadata": {
    "cell_style": "split",
    "slideshow": {
     "slide_type": ""
    }
   },
   "source": [
    "* Simulation\n",
    "  * Read, partition, solve, write output\n",
    "* Load in visualization software (e.g., Paraview, VisIt)\n",
    "  * Visualization outputs usually contain derived quantities\n",
    "    * Stress, velocity, pressure, temperature, vorticity\n",
    "  * Frequent checkpoints are commonly a bottleneck"
   ]
  },
  {
   "cell_type": "markdown",
   "id": "0284c028",
   "metadata": {
    "slideshow": {
     "slide_type": "slide"
    }
   },
   "source": [
    "# Finite Volume methods for hyperbolic conservation laws"
   ]
  },
  {
   "cell_type": "markdown",
   "id": "5fcdeb3d",
   "metadata": {
    "cell_style": "split"
   },
   "source": [
    "Hyperbolic conservation laws have the form\n",
    "\n",
    "$$ \\frac{\\partial \\mathbf q}{\\partial t} + \\nabla\\cdot F(\\mathbf q) = 0 $$\n",
    "\n",
    "where the (possibly nonlinear) function $F(\\mathbf q)$ is called the **flux**.  If $\\mathbf q$ has $m$ components, $F(\\mathbf q)$ is an $m\\times d$ matrix in $d$ dimensions. \n",
    "\n",
    "We can express finite volume methods by choosing test functions $\\mathbf v(x)$ that are piecewise constant on each element $e$ and integrating by parts\n",
    "\\begin{split} \\int_\\Omega \\mathbf v \\frac{\\partial \\mathbf q}{\\partial t} + \\mathbf v \\nabla\\cdot F(\\mathbf q) = 0 \\text{ for all } \\mathbf v \\\\\n",
    " \\frac{\\partial}{\\partial t} \\left( \\int_e \\mathbf q \\right) + \\int_{\\partial e} F(\\mathbf q) \\cdot \\hat n = 0 \\text{ for all } e .\n",
    "\\end{split}"
   ]
  },
  {
   "cell_type": "markdown",
   "id": "6337a487",
   "metadata": {
    "cell_style": "split"
   },
   "source": [
    "In finite volume methods, we choose as our unknowns the average values $\\bar{\\mathbf q}$ on each element, leading to the discrete equation\n",
    "$$ \\lvert e \\rvert \\frac{\\partial \\bar{\\mathbf q}}{\\partial t} + \\int_{\\partial e} F(\\mathbf q) \\cdot \\hat n = 0 \\text{ for all } e $$\n",
    "where $\\lvert e \\rvert$ is the volume of element $e$.\n",
    "\n",
    "The most basic methods will compute the interface flux in the second term using the cell average $\\bar{\\mathbf q}$, though higher order methods will perform a reconstruction using neighbors.\n",
    "Since $\\bar{\\mathbf q}$ is discontinuous at element interfaces, we will need to define a numerical flux using the (possibly reconstructed) value on each side."
   ]
  },
  {
   "cell_type": "markdown",
   "id": "c236f16e",
   "metadata": {
    "slideshow": {
     "slide_type": "slide"
    }
   },
   "source": [
    "# Examples of hyperbolic conservation laws in 1D"
   ]
  },
  {
   "cell_type": "markdown",
   "id": "19816e4c",
   "metadata": {
    "cell_style": "split"
   },
   "source": [
    "## Advection\n",
    "$$ \\frac{\\partial u}{\\partial t} + \\nabla\\cdot (\\underbrace{c u}_{F(u)}) = 0 $$\n",
    "where $c$ is velocity.  In the absence of boundary conditions, this has the solution\n",
    "$$ u(t,x) = u(0, x-ct) $$\n",
    "in terms of the initial condition.  Lines of constant $x-ct$ are called **characteristics**.\n",
    "* The wave speed is $F'(u) = c$, a constant."
   ]
  },
  {
   "cell_type": "markdown",
   "id": "f0df50ee",
   "metadata": {
    "cell_style": "split"
   },
   "source": [
    "## Burger's Equation\n",
    "$$ \\frac{\\partial u}{\\partial t} + \\nabla\\cdot \\underbrace{\\left(\\frac{u^2}{2}\\right)}_{F(u)} = 0 $$\n",
    "is a model for nonlinear convection.\n",
    "* The wave speed is $F'(u) = u$.\n",
    "\n",
    "## Traffic\n",
    "\n",
    "$$ \\frac{\\partial u}{\\partial t} + \\nabla\\cdot \\big(\\underbrace{u (1-u)}_{F(u)} \\big) = 0 $$\n",
    "where $u \\in [0,1]$ represents density of cars and $1-u$ is their speed.\n",
    "* The wave speed is $F'(u) = 1 - 2u$, representing the speed at which kinematic waves travel.\n",
    "* This is a non-convex flux function."
   ]
  },
  {
   "cell_type": "markdown",
   "id": "fdee90a0",
   "metadata": {
    "slideshow": {
     "slide_type": "slide"
    }
   },
   "source": [
    "# First crack at a numerical flux"
   ]
  },
  {
   "cell_type": "markdown",
   "id": "183d5964",
   "metadata": {
    "cell_style": "split",
    "slideshow": {
     "slide_type": ""
    }
   },
   "source": [
    "We represent the solution in terms of cell averages $\\bar u$, but need to compute\n",
    "$$ \\int_{\\partial e} F(u) \\cdot \\hat n $$\n",
    "on the boundary of each cell (i.e., on each face).  For interior faces, the flux $F(u)$ must be the same when viewed from either side.  As a first idea for an accurate numerical method, we could average the values from the left and right side of each face,\n",
    "$$ u_{\\text{face}} = \\frac{\\bar u_L + \\bar u_R}{2} .$$\n",
    "Let's try that."
   ]
  },
  {
   "cell_type": "code",
   "execution_count": 2,
   "id": "8a8e98c3",
   "metadata": {
    "cell_style": "split"
   },
   "outputs": [
    {
     "name": "stderr",
     "output_type": "stream",
     "text": [
      "┌ Info: Precompiling GR_jll [d2c73de3-f751-5644-a686-071e5b155ba9]\n",
      "└ @ Base loading.jl:1664\n"
     ]
    },
    {
     "data": {
      "image/svg+xml": [
       "<?xml version=\"1.0\" encoding=\"utf-8\"?>\n",
       "<svg xmlns=\"http://www.w3.org/2000/svg\" xmlns:xlink=\"http://www.w3.org/1999/xlink\" width=\"600\" height=\"400\" viewBox=\"0 0 2400 1600\">\n",
       "<defs>\n",
       "  <clipPath id=\"clip180\">\n",
       "    <rect x=\"0\" y=\"0\" width=\"2400\" height=\"1600\"/>\n",
       "  </clipPath>\n",
       "</defs>\n",
       "<path clip-path=\"url(#clip180)\" d=\"\n",
       "M0 1600 L2400 1600 L2400 0 L0 0  Z\n",
       "  \" fill=\"#ffffff\" fill-rule=\"evenodd\" fill-opacity=\"1\"/>\n",
       "<defs>\n",
       "  <clipPath id=\"clip181\">\n",
       "    <rect x=\"480\" y=\"0\" width=\"1681\" height=\"1600\"/>\n",
       "  </clipPath>\n",
       "</defs>\n",
       "<path clip-path=\"url(#clip180)\" d=\"\n",
       "M186.274 1486.45 L2352.76 1486.45 L2352.76 47.2441 L186.274 47.2441  Z\n",
       "  \" fill=\"#ffffff\" fill-rule=\"evenodd\" fill-opacity=\"1\"/>\n",
       "<defs>\n",
       "  <clipPath id=\"clip182\">\n",
       "    <rect x=\"186\" y=\"47\" width=\"2167\" height=\"1440\"/>\n",
       "  </clipPath>\n",
       "</defs>\n",
       "<polyline clip-path=\"url(#clip182)\" style=\"stroke:#000000; stroke-linecap:butt; stroke-linejoin:round; stroke-width:2; stroke-opacity:0.1; fill:none\" points=\"\n",
       "  186.274,1486.45 186.274,47.2441 \n",
       "  \"/>\n",
       "<polyline clip-path=\"url(#clip182)\" style=\"stroke:#000000; stroke-linecap:butt; stroke-linejoin:round; stroke-width:2; stroke-opacity:0.1; fill:none\" points=\"\n",
       "  727.894,1486.45 727.894,47.2441 \n",
       "  \"/>\n",
       "<polyline clip-path=\"url(#clip182)\" style=\"stroke:#000000; stroke-linecap:butt; stroke-linejoin:round; stroke-width:2; stroke-opacity:0.1; fill:none\" points=\"\n",
       "  1269.51,1486.45 1269.51,47.2441 \n",
       "  \"/>\n",
       "<polyline clip-path=\"url(#clip182)\" style=\"stroke:#000000; stroke-linecap:butt; stroke-linejoin:round; stroke-width:2; stroke-opacity:0.1; fill:none\" points=\"\n",
       "  1811.14,1486.45 1811.14,47.2441 \n",
       "  \"/>\n",
       "<polyline clip-path=\"url(#clip182)\" style=\"stroke:#000000; stroke-linecap:butt; stroke-linejoin:round; stroke-width:2; stroke-opacity:0.1; fill:none\" points=\"\n",
       "  2352.76,1486.45 2352.76,47.2441 \n",
       "  \"/>\n",
       "<polyline clip-path=\"url(#clip180)\" style=\"stroke:#000000; stroke-linecap:butt; stroke-linejoin:round; stroke-width:4; stroke-opacity:1; fill:none\" points=\"\n",
       "  186.274,1486.45 2352.76,1486.45 \n",
       "  \"/>\n",
       "<polyline clip-path=\"url(#clip180)\" style=\"stroke:#000000; stroke-linecap:butt; stroke-linejoin:round; stroke-width:4; stroke-opacity:1; fill:none\" points=\"\n",
       "  186.274,1486.45 186.274,1467.55 \n",
       "  \"/>\n",
       "<polyline clip-path=\"url(#clip180)\" style=\"stroke:#000000; stroke-linecap:butt; stroke-linejoin:round; stroke-width:4; stroke-opacity:1; fill:none\" points=\"\n",
       "  727.894,1486.45 727.894,1467.55 \n",
       "  \"/>\n",
       "<polyline clip-path=\"url(#clip180)\" style=\"stroke:#000000; stroke-linecap:butt; stroke-linejoin:round; stroke-width:4; stroke-opacity:1; fill:none\" points=\"\n",
       "  1269.51,1486.45 1269.51,1467.55 \n",
       "  \"/>\n",
       "<polyline clip-path=\"url(#clip180)\" style=\"stroke:#000000; stroke-linecap:butt; stroke-linejoin:round; stroke-width:4; stroke-opacity:1; fill:none\" points=\"\n",
       "  1811.14,1486.45 1811.14,1467.55 \n",
       "  \"/>\n",
       "<polyline clip-path=\"url(#clip180)\" style=\"stroke:#000000; stroke-linecap:butt; stroke-linejoin:round; stroke-width:4; stroke-opacity:1; fill:none\" points=\"\n",
       "  2352.76,1486.45 2352.76,1467.55 \n",
       "  \"/>\n",
       "<path clip-path=\"url(#clip180)\" d=\"M132.802 1532.02 L162.478 1532.02 L162.478 1535.95 L132.802 1535.95 L132.802 1532.02 Z\" fill=\"#000000\" fill-rule=\"evenodd\" fill-opacity=\"1\" /><path clip-path=\"url(#clip180)\" d=\"M173.381 1544.91 L181.019 1544.91 L181.019 1518.55 L172.709 1520.21 L172.709 1515.95 L180.973 1514.29 L185.649 1514.29 L185.649 1544.91 L193.288 1544.91 L193.288 1548.85 L173.381 1548.85 L173.381 1544.91 Z\" fill=\"#000000\" fill-rule=\"evenodd\" fill-opacity=\"1\" /><path clip-path=\"url(#clip180)\" d=\"M202.732 1542.97 L207.616 1542.97 L207.616 1548.85 L202.732 1548.85 L202.732 1542.97 Z\" fill=\"#000000\" fill-rule=\"evenodd\" fill-opacity=\"1\" /><path clip-path=\"url(#clip180)\" d=\"M227.802 1517.37 Q224.19 1517.37 222.362 1520.93 Q220.556 1524.47 220.556 1531.6 Q220.556 1538.71 222.362 1542.27 Q224.19 1545.82 227.802 1545.82 Q231.436 1545.82 233.241 1542.27 Q235.07 1538.71 235.07 1531.6 Q235.07 1524.47 233.241 1520.93 Q231.436 1517.37 227.802 1517.37 M227.802 1513.66 Q233.612 1513.66 236.667 1518.27 Q239.746 1522.85 239.746 1531.6 Q239.746 1540.33 236.667 1544.94 Q233.612 1549.52 227.802 1549.52 Q221.991 1549.52 218.913 1544.94 Q215.857 1540.33 215.857 1531.6 Q215.857 1522.85 218.913 1518.27 Q221.991 1513.66 227.802 1513.66 Z\" fill=\"#000000\" fill-rule=\"evenodd\" fill-opacity=\"1\" /><path clip-path=\"url(#clip180)\" d=\"M674.92 1532.02 L704.596 1532.02 L704.596 1535.95 L674.92 1535.95 L674.92 1532.02 Z\" fill=\"#000000\" fill-rule=\"evenodd\" fill-opacity=\"1\" /><path clip-path=\"url(#clip180)\" d=\"M724.688 1517.37 Q721.077 1517.37 719.249 1520.93 Q717.443 1524.47 717.443 1531.6 Q717.443 1538.71 719.249 1542.27 Q721.077 1545.82 724.688 1545.82 Q728.323 1545.82 730.128 1542.27 Q731.957 1538.71 731.957 1531.6 Q731.957 1524.47 730.128 1520.93 Q728.323 1517.37 724.688 1517.37 M724.688 1513.66 Q730.499 1513.66 733.554 1518.27 Q736.633 1522.85 736.633 1531.6 Q736.633 1540.33 733.554 1544.94 Q730.499 1549.52 724.688 1549.52 Q718.878 1549.52 715.8 1544.94 Q712.744 1540.33 712.744 1531.6 Q712.744 1522.85 715.8 1518.27 Q718.878 1513.66 724.688 1513.66 Z\" fill=\"#000000\" fill-rule=\"evenodd\" fill-opacity=\"1\" /><path clip-path=\"url(#clip180)\" d=\"M744.85 1542.97 L749.735 1542.97 L749.735 1548.85 L744.85 1548.85 L744.85 1542.97 Z\" fill=\"#000000\" fill-rule=\"evenodd\" fill-opacity=\"1\" /><path clip-path=\"url(#clip180)\" d=\"M759.966 1514.29 L778.322 1514.29 L778.322 1518.22 L764.248 1518.22 L764.248 1526.7 Q765.267 1526.35 766.285 1526.19 Q767.304 1526 768.323 1526 Q774.11 1526 777.489 1529.17 Q780.869 1532.34 780.869 1537.76 Q780.869 1543.34 777.397 1546.44 Q773.924 1549.52 767.605 1549.52 Q765.429 1549.52 763.16 1549.15 Q760.915 1548.78 758.508 1548.04 L758.508 1543.34 Q760.591 1544.47 762.813 1545.03 Q765.035 1545.58 767.512 1545.58 Q771.517 1545.58 773.855 1543.48 Q776.193 1541.37 776.193 1537.76 Q776.193 1534.15 773.855 1532.04 Q771.517 1529.94 767.512 1529.94 Q765.637 1529.94 763.762 1530.35 Q761.91 1530.77 759.966 1531.65 L759.966 1514.29 Z\" fill=\"#000000\" fill-rule=\"evenodd\" fill-opacity=\"1\" /><path clip-path=\"url(#clip180)\" d=\"M1246.9 1517.37 Q1243.29 1517.37 1241.46 1520.93 Q1239.65 1524.47 1239.65 1531.6 Q1239.65 1538.71 1241.46 1542.27 Q1243.29 1545.82 1246.9 1545.82 Q1250.53 1545.82 1252.34 1542.27 Q1254.17 1538.71 1254.17 1531.6 Q1254.17 1524.47 1252.34 1520.93 Q1250.53 1517.37 1246.9 1517.37 M1246.9 1513.66 Q1252.71 1513.66 1255.77 1518.27 Q1258.84 1522.85 1258.84 1531.6 Q1258.84 1540.33 1255.77 1544.94 Q1252.71 1549.52 1246.9 1549.52 Q1241.09 1549.52 1238.01 1544.94 Q1234.95 1540.33 1234.95 1531.6 Q1234.95 1522.85 1238.01 1518.27 Q1241.09 1513.66 1246.9 1513.66 Z\" fill=\"#000000\" fill-rule=\"evenodd\" fill-opacity=\"1\" /><path clip-path=\"url(#clip180)\" d=\"M1267.06 1542.97 L1271.95 1542.97 L1271.95 1548.85 L1267.06 1548.85 L1267.06 1542.97 Z\" fill=\"#000000\" fill-rule=\"evenodd\" fill-opacity=\"1\" /><path clip-path=\"url(#clip180)\" d=\"M1292.13 1517.37 Q1288.52 1517.37 1286.69 1520.93 Q1284.89 1524.47 1284.89 1531.6 Q1284.89 1538.71 1286.69 1542.27 Q1288.52 1545.82 1292.13 1545.82 Q1295.76 1545.82 1297.57 1542.27 Q1299.4 1538.71 1299.4 1531.6 Q1299.4 1524.47 1297.57 1520.93 Q1295.76 1517.37 1292.13 1517.37 M1292.13 1513.66 Q1297.94 1513.66 1301 1518.27 Q1304.07 1522.85 1304.07 1531.6 Q1304.07 1540.33 1301 1544.94 Q1297.94 1549.52 1292.13 1549.52 Q1286.32 1549.52 1283.24 1544.94 Q1280.19 1540.33 1280.19 1531.6 Q1280.19 1522.85 1283.24 1518.27 Q1286.32 1513.66 1292.13 1513.66 Z\" fill=\"#000000\" fill-rule=\"evenodd\" fill-opacity=\"1\" /><path clip-path=\"url(#clip180)\" d=\"M1789.02 1517.37 Q1785.41 1517.37 1783.58 1520.93 Q1781.77 1524.47 1781.77 1531.6 Q1781.77 1538.71 1783.58 1542.27 Q1785.41 1545.82 1789.02 1545.82 Q1792.65 1545.82 1794.46 1542.27 Q1796.29 1538.71 1796.29 1531.6 Q1796.29 1524.47 1794.46 1520.93 Q1792.65 1517.37 1789.02 1517.37 M1789.02 1513.66 Q1794.83 1513.66 1797.88 1518.27 Q1800.96 1522.85 1800.96 1531.6 Q1800.96 1540.33 1797.88 1544.94 Q1794.83 1549.52 1789.02 1549.52 Q1783.21 1549.52 1780.13 1544.94 Q1777.07 1540.33 1777.07 1531.6 Q1777.07 1522.85 1780.13 1518.27 Q1783.21 1513.66 1789.02 1513.66 Z\" fill=\"#000000\" fill-rule=\"evenodd\" fill-opacity=\"1\" /><path clip-path=\"url(#clip180)\" d=\"M1809.18 1542.97 L1814.06 1542.97 L1814.06 1548.85 L1809.18 1548.85 L1809.18 1542.97 Z\" fill=\"#000000\" fill-rule=\"evenodd\" fill-opacity=\"1\" /><path clip-path=\"url(#clip180)\" d=\"M1824.3 1514.29 L1842.65 1514.29 L1842.65 1518.22 L1828.58 1518.22 L1828.58 1526.7 Q1829.6 1526.35 1830.61 1526.19 Q1831.63 1526 1832.65 1526 Q1838.44 1526 1841.82 1529.17 Q1845.2 1532.34 1845.2 1537.76 Q1845.2 1543.34 1841.73 1546.44 Q1838.25 1549.52 1831.93 1549.52 Q1829.76 1549.52 1827.49 1549.15 Q1825.24 1548.78 1822.84 1548.04 L1822.84 1543.34 Q1824.92 1544.47 1827.14 1545.03 Q1829.36 1545.58 1831.84 1545.58 Q1835.85 1545.58 1838.18 1543.48 Q1840.52 1541.37 1840.52 1537.76 Q1840.52 1534.15 1838.18 1532.04 Q1835.85 1529.94 1831.84 1529.94 Q1829.97 1529.94 1828.09 1530.35 Q1826.24 1530.77 1824.3 1531.65 L1824.3 1514.29 Z\" fill=\"#000000\" fill-rule=\"evenodd\" fill-opacity=\"1\" /><path clip-path=\"url(#clip180)\" d=\"M2319.91 1544.91 L2327.55 1544.91 L2327.55 1518.55 L2319.24 1520.21 L2319.24 1515.95 L2327.5 1514.29 L2332.18 1514.29 L2332.18 1544.91 L2339.82 1544.91 L2339.82 1548.85 L2319.91 1548.85 L2319.91 1544.91 Z\" fill=\"#000000\" fill-rule=\"evenodd\" fill-opacity=\"1\" /><path clip-path=\"url(#clip180)\" d=\"M2349.26 1542.97 L2354.14 1542.97 L2354.14 1548.85 L2349.26 1548.85 L2349.26 1542.97 Z\" fill=\"#000000\" fill-rule=\"evenodd\" fill-opacity=\"1\" /><path clip-path=\"url(#clip180)\" d=\"M2374.33 1517.37 Q2370.72 1517.37 2368.89 1520.93 Q2367.08 1524.47 2367.08 1531.6 Q2367.08 1538.71 2368.89 1542.27 Q2370.72 1545.82 2374.33 1545.82 Q2377.96 1545.82 2379.77 1542.27 Q2381.6 1538.71 2381.6 1531.6 Q2381.6 1524.47 2379.77 1520.93 Q2377.96 1517.37 2374.33 1517.37 M2374.33 1513.66 Q2380.14 1513.66 2383.2 1518.27 Q2386.27 1522.85 2386.27 1531.6 Q2386.27 1540.33 2383.2 1544.94 Q2380.14 1549.52 2374.33 1549.52 Q2368.52 1549.52 2365.44 1544.94 Q2362.39 1540.33 2362.39 1531.6 Q2362.39 1522.85 2365.44 1518.27 Q2368.52 1513.66 2374.33 1513.66 Z\" fill=\"#000000\" fill-rule=\"evenodd\" fill-opacity=\"1\" /><polyline clip-path=\"url(#clip182)\" style=\"stroke:#000000; stroke-linecap:butt; stroke-linejoin:round; stroke-width:2; stroke-opacity:0.1; fill:none\" points=\"\n",
       "  186.274,1445.72 2352.76,1445.72 \n",
       "  \"/>\n",
       "<polyline clip-path=\"url(#clip182)\" style=\"stroke:#000000; stroke-linecap:butt; stroke-linejoin:round; stroke-width:2; stroke-opacity:0.1; fill:none\" points=\"\n",
       "  186.274,1106.28 2352.76,1106.28 \n",
       "  \"/>\n",
       "<polyline clip-path=\"url(#clip182)\" style=\"stroke:#000000; stroke-linecap:butt; stroke-linejoin:round; stroke-width:2; stroke-opacity:0.1; fill:none\" points=\"\n",
       "  186.274,766.846 2352.76,766.846 \n",
       "  \"/>\n",
       "<polyline clip-path=\"url(#clip182)\" style=\"stroke:#000000; stroke-linecap:butt; stroke-linejoin:round; stroke-width:2; stroke-opacity:0.1; fill:none\" points=\"\n",
       "  186.274,427.411 2352.76,427.411 \n",
       "  \"/>\n",
       "<polyline clip-path=\"url(#clip182)\" style=\"stroke:#000000; stroke-linecap:butt; stroke-linejoin:round; stroke-width:2; stroke-opacity:0.1; fill:none\" points=\"\n",
       "  186.274,87.9763 2352.76,87.9763 \n",
       "  \"/>\n",
       "<polyline clip-path=\"url(#clip180)\" style=\"stroke:#000000; stroke-linecap:butt; stroke-linejoin:round; stroke-width:4; stroke-opacity:1; fill:none\" points=\"\n",
       "  186.274,1486.45 186.274,47.2441 \n",
       "  \"/>\n",
       "<polyline clip-path=\"url(#clip180)\" style=\"stroke:#000000; stroke-linecap:butt; stroke-linejoin:round; stroke-width:4; stroke-opacity:1; fill:none\" points=\"\n",
       "  186.274,1445.72 205.172,1445.72 \n",
       "  \"/>\n",
       "<polyline clip-path=\"url(#clip180)\" style=\"stroke:#000000; stroke-linecap:butt; stroke-linejoin:round; stroke-width:4; stroke-opacity:1; fill:none\" points=\"\n",
       "  186.274,1106.28 205.172,1106.28 \n",
       "  \"/>\n",
       "<polyline clip-path=\"url(#clip180)\" style=\"stroke:#000000; stroke-linecap:butt; stroke-linejoin:round; stroke-width:4; stroke-opacity:1; fill:none\" points=\"\n",
       "  186.274,766.846 205.172,766.846 \n",
       "  \"/>\n",
       "<polyline clip-path=\"url(#clip180)\" style=\"stroke:#000000; stroke-linecap:butt; stroke-linejoin:round; stroke-width:4; stroke-opacity:1; fill:none\" points=\"\n",
       "  186.274,427.411 205.172,427.411 \n",
       "  \"/>\n",
       "<polyline clip-path=\"url(#clip180)\" style=\"stroke:#000000; stroke-linecap:butt; stroke-linejoin:round; stroke-width:4; stroke-opacity:1; fill:none\" points=\"\n",
       "  186.274,87.9763 205.172,87.9763 \n",
       "  \"/>\n",
       "<path clip-path=\"url(#clip180)\" d=\"M62.9365 1431.51 Q59.3254 1431.51 57.4967 1435.08 Q55.6912 1438.62 55.6912 1445.75 Q55.6912 1452.86 57.4967 1456.42 Q59.3254 1459.96 62.9365 1459.96 Q66.5707 1459.96 68.3763 1456.42 Q70.205 1452.86 70.205 1445.75 Q70.205 1438.62 68.3763 1435.08 Q66.5707 1431.51 62.9365 1431.51 M62.9365 1427.81 Q68.7467 1427.81 71.8022 1432.42 Q74.8809 1437 74.8809 1445.75 Q74.8809 1454.48 71.8022 1459.08 Q68.7467 1463.67 62.9365 1463.67 Q57.1264 1463.67 54.0477 1459.08 Q50.9921 1454.48 50.9921 1445.75 Q50.9921 1437 54.0477 1432.42 Q57.1264 1427.81 62.9365 1427.81 Z\" fill=\"#000000\" fill-rule=\"evenodd\" fill-opacity=\"1\" /><path clip-path=\"url(#clip180)\" d=\"M83.0984 1457.12 L87.9827 1457.12 L87.9827 1463 L83.0984 1463 L83.0984 1457.12 Z\" fill=\"#000000\" fill-rule=\"evenodd\" fill-opacity=\"1\" /><path clip-path=\"url(#clip180)\" d=\"M108.168 1431.51 Q104.557 1431.51 102.728 1435.08 Q100.922 1438.62 100.922 1445.75 Q100.922 1452.86 102.728 1456.42 Q104.557 1459.96 108.168 1459.96 Q111.802 1459.96 113.608 1456.42 Q115.436 1452.86 115.436 1445.75 Q115.436 1438.62 113.608 1435.08 Q111.802 1431.51 108.168 1431.51 M108.168 1427.81 Q113.978 1427.81 117.033 1432.42 Q120.112 1437 120.112 1445.75 Q120.112 1454.48 117.033 1459.08 Q113.978 1463.67 108.168 1463.67 Q102.358 1463.67 99.2789 1459.08 Q96.2234 1454.48 96.2234 1445.75 Q96.2234 1437 99.2789 1432.42 Q102.358 1427.81 108.168 1427.81 Z\" fill=\"#000000\" fill-rule=\"evenodd\" fill-opacity=\"1\" /><path clip-path=\"url(#clip180)\" d=\"M138.33 1431.51 Q134.719 1431.51 132.89 1435.08 Q131.084 1438.62 131.084 1445.75 Q131.084 1452.86 132.89 1456.42 Q134.719 1459.96 138.33 1459.96 Q141.964 1459.96 143.769 1456.42 Q145.598 1452.86 145.598 1445.75 Q145.598 1438.62 143.769 1435.08 Q141.964 1431.51 138.33 1431.51 M138.33 1427.81 Q144.14 1427.81 147.195 1432.42 Q150.274 1437 150.274 1445.75 Q150.274 1454.48 147.195 1459.08 Q144.14 1463.67 138.33 1463.67 Q132.519 1463.67 129.441 1459.08 Q126.385 1454.48 126.385 1445.75 Q126.385 1437 129.441 1432.42 Q132.519 1427.81 138.33 1427.81 Z\" fill=\"#000000\" fill-rule=\"evenodd\" fill-opacity=\"1\" /><path clip-path=\"url(#clip180)\" d=\"M63.9319 1092.08 Q60.3208 1092.08 58.4921 1095.64 Q56.6865 1099.19 56.6865 1106.32 Q56.6865 1113.42 58.4921 1116.99 Q60.3208 1120.53 63.9319 1120.53 Q67.5661 1120.53 69.3717 1116.99 Q71.2004 1113.42 71.2004 1106.32 Q71.2004 1099.19 69.3717 1095.64 Q67.5661 1092.08 63.9319 1092.08 M63.9319 1088.38 Q69.742 1088.38 72.7976 1092.98 Q75.8763 1097.57 75.8763 1106.32 Q75.8763 1115.04 72.7976 1119.65 Q69.742 1124.23 63.9319 1124.23 Q58.1217 1124.23 55.043 1119.65 Q51.9875 1115.04 51.9875 1106.32 Q51.9875 1097.57 55.043 1092.98 Q58.1217 1088.38 63.9319 1088.38 Z\" fill=\"#000000\" fill-rule=\"evenodd\" fill-opacity=\"1\" /><path clip-path=\"url(#clip180)\" d=\"M84.0938 1117.68 L88.978 1117.68 L88.978 1123.56 L84.0938 1123.56 L84.0938 1117.68 Z\" fill=\"#000000\" fill-rule=\"evenodd\" fill-opacity=\"1\" /><path clip-path=\"url(#clip180)\" d=\"M103.191 1119.63 L119.51 1119.63 L119.51 1123.56 L97.566 1123.56 L97.566 1119.63 Q100.228 1116.87 104.811 1112.24 Q109.418 1107.59 110.598 1106.25 Q112.844 1103.72 113.723 1101.99 Q114.626 1100.23 114.626 1098.54 Q114.626 1095.78 112.682 1094.05 Q110.76 1092.31 107.658 1092.31 Q105.459 1092.31 103.006 1093.07 Q100.575 1093.84 97.7974 1095.39 L97.7974 1090.67 Q100.621 1089.53 103.075 1088.95 Q105.529 1088.38 107.566 1088.38 Q112.936 1088.38 116.131 1091.06 Q119.325 1093.75 119.325 1098.24 Q119.325 1100.37 118.515 1102.29 Q117.728 1104.19 115.621 1106.78 Q115.043 1107.45 111.941 1110.67 Q108.839 1113.86 103.191 1119.63 Z\" fill=\"#000000\" fill-rule=\"evenodd\" fill-opacity=\"1\" /><path clip-path=\"url(#clip180)\" d=\"M129.371 1089 L147.728 1089 L147.728 1092.94 L133.654 1092.94 L133.654 1101.41 Q134.672 1101.06 135.691 1100.9 Q136.709 1100.71 137.728 1100.71 Q143.515 1100.71 146.894 1103.89 Q150.274 1107.06 150.274 1112.47 Q150.274 1118.05 146.802 1121.15 Q143.33 1124.23 137.01 1124.23 Q134.834 1124.23 132.566 1123.86 Q130.32 1123.49 127.913 1122.75 L127.913 1118.05 Q129.996 1119.19 132.219 1119.74 Q134.441 1120.3 136.918 1120.3 Q140.922 1120.3 143.26 1118.19 Q145.598 1116.08 145.598 1112.47 Q145.598 1108.86 143.26 1106.76 Q140.922 1104.65 136.918 1104.65 Q135.043 1104.65 133.168 1105.07 Q131.316 1105.48 129.371 1106.36 L129.371 1089 Z\" fill=\"#000000\" fill-rule=\"evenodd\" fill-opacity=\"1\" /><path clip-path=\"url(#clip180)\" d=\"M62.9365 752.645 Q59.3254 752.645 57.4967 756.209 Q55.6912 759.751 55.6912 766.881 Q55.6912 773.987 57.4967 777.552 Q59.3254 781.094 62.9365 781.094 Q66.5707 781.094 68.3763 777.552 Q70.205 773.987 70.205 766.881 Q70.205 759.751 68.3763 756.209 Q66.5707 752.645 62.9365 752.645 M62.9365 748.941 Q68.7467 748.941 71.8022 753.547 Q74.8809 758.131 74.8809 766.881 Q74.8809 775.608 71.8022 780.214 Q68.7467 784.797 62.9365 784.797 Q57.1264 784.797 54.0477 780.214 Q50.9921 775.608 50.9921 766.881 Q50.9921 758.131 54.0477 753.547 Q57.1264 748.941 62.9365 748.941 Z\" fill=\"#000000\" fill-rule=\"evenodd\" fill-opacity=\"1\" /><path clip-path=\"url(#clip180)\" d=\"M83.0984 778.246 L87.9827 778.246 L87.9827 784.126 L83.0984 784.126 L83.0984 778.246 Z\" fill=\"#000000\" fill-rule=\"evenodd\" fill-opacity=\"1\" /><path clip-path=\"url(#clip180)\" d=\"M98.2141 749.566 L116.57 749.566 L116.57 753.501 L102.496 753.501 L102.496 761.973 Q103.515 761.626 104.534 761.464 Q105.552 761.279 106.571 761.279 Q112.358 761.279 115.737 764.45 Q119.117 767.621 119.117 773.038 Q119.117 778.617 115.645 781.719 Q112.172 784.797 105.853 784.797 Q103.677 784.797 101.409 784.427 Q99.1632 784.057 96.7558 783.316 L96.7558 778.617 Q98.8391 779.751 101.061 780.307 Q103.284 780.862 105.76 780.862 Q109.765 780.862 112.103 778.756 Q114.441 776.649 114.441 773.038 Q114.441 769.427 112.103 767.321 Q109.765 765.214 105.76 765.214 Q103.885 765.214 102.01 765.631 Q100.159 766.047 98.2141 766.927 L98.2141 749.566 Z\" fill=\"#000000\" fill-rule=\"evenodd\" fill-opacity=\"1\" /><path clip-path=\"url(#clip180)\" d=\"M138.33 752.645 Q134.719 752.645 132.89 756.209 Q131.084 759.751 131.084 766.881 Q131.084 773.987 132.89 777.552 Q134.719 781.094 138.33 781.094 Q141.964 781.094 143.769 777.552 Q145.598 773.987 145.598 766.881 Q145.598 759.751 143.769 756.209 Q141.964 752.645 138.33 752.645 M138.33 748.941 Q144.14 748.941 147.195 753.547 Q150.274 758.131 150.274 766.881 Q150.274 775.608 147.195 780.214 Q144.14 784.797 138.33 784.797 Q132.519 784.797 129.441 780.214 Q126.385 775.608 126.385 766.881 Q126.385 758.131 129.441 753.547 Q132.519 748.941 138.33 748.941 Z\" fill=\"#000000\" fill-rule=\"evenodd\" fill-opacity=\"1\" /><path clip-path=\"url(#clip180)\" d=\"M63.9319 413.21 Q60.3208 413.21 58.4921 416.775 Q56.6865 420.316 56.6865 427.446 Q56.6865 434.552 58.4921 438.117 Q60.3208 441.659 63.9319 441.659 Q67.5661 441.659 69.3717 438.117 Q71.2004 434.552 71.2004 427.446 Q71.2004 420.316 69.3717 416.775 Q67.5661 413.21 63.9319 413.21 M63.9319 409.506 Q69.742 409.506 72.7976 414.113 Q75.8763 418.696 75.8763 427.446 Q75.8763 436.173 72.7976 440.779 Q69.742 445.362 63.9319 445.362 Q58.1217 445.362 55.043 440.779 Q51.9875 436.173 51.9875 427.446 Q51.9875 418.696 55.043 414.113 Q58.1217 409.506 63.9319 409.506 Z\" fill=\"#000000\" fill-rule=\"evenodd\" fill-opacity=\"1\" /><path clip-path=\"url(#clip180)\" d=\"M84.0938 438.812 L88.978 438.812 L88.978 444.691 L84.0938 444.691 L84.0938 438.812 Z\" fill=\"#000000\" fill-rule=\"evenodd\" fill-opacity=\"1\" /><path clip-path=\"url(#clip180)\" d=\"M97.9826 410.131 L120.205 410.131 L120.205 412.122 L107.658 444.691 L102.774 444.691 L114.58 414.066 L97.9826 414.066 L97.9826 410.131 Z\" fill=\"#000000\" fill-rule=\"evenodd\" fill-opacity=\"1\" /><path clip-path=\"url(#clip180)\" d=\"M129.371 410.131 L147.728 410.131 L147.728 414.066 L133.654 414.066 L133.654 422.538 Q134.672 422.191 135.691 422.029 Q136.709 421.844 137.728 421.844 Q143.515 421.844 146.894 425.015 Q150.274 428.187 150.274 433.603 Q150.274 439.182 146.802 442.284 Q143.33 445.362 137.01 445.362 Q134.834 445.362 132.566 444.992 Q130.32 444.622 127.913 443.881 L127.913 439.182 Q129.996 440.316 132.219 440.872 Q134.441 441.427 136.918 441.427 Q140.922 441.427 143.26 439.321 Q145.598 437.214 145.598 433.603 Q145.598 429.992 143.26 427.886 Q140.922 425.779 136.918 425.779 Q135.043 425.779 133.168 426.196 Q131.316 426.613 129.371 427.492 L129.371 410.131 Z\" fill=\"#000000\" fill-rule=\"evenodd\" fill-opacity=\"1\" /><path clip-path=\"url(#clip180)\" d=\"M53.7467 101.321 L61.3856 101.321 L61.3856 74.9555 L53.0754 76.6222 L53.0754 72.3629 L61.3393 70.6963 L66.0152 70.6963 L66.0152 101.321 L73.654 101.321 L73.654 105.256 L53.7467 105.256 L53.7467 101.321 Z\" fill=\"#000000\" fill-rule=\"evenodd\" fill-opacity=\"1\" /><path clip-path=\"url(#clip180)\" d=\"M83.0984 99.3767 L87.9827 99.3767 L87.9827 105.256 L83.0984 105.256 L83.0984 99.3767 Z\" fill=\"#000000\" fill-rule=\"evenodd\" fill-opacity=\"1\" /><path clip-path=\"url(#clip180)\" d=\"M108.168 73.775 Q104.557 73.775 102.728 77.3398 Q100.922 80.8814 100.922 88.011 Q100.922 95.1174 102.728 98.6822 Q104.557 102.224 108.168 102.224 Q111.802 102.224 113.608 98.6822 Q115.436 95.1174 115.436 88.011 Q115.436 80.8814 113.608 77.3398 Q111.802 73.775 108.168 73.775 M108.168 70.0713 Q113.978 70.0713 117.033 74.6777 Q120.112 79.261 120.112 88.011 Q120.112 96.7378 117.033 101.344 Q113.978 105.928 108.168 105.928 Q102.358 105.928 99.2789 101.344 Q96.2234 96.7378 96.2234 88.011 Q96.2234 79.261 99.2789 74.6777 Q102.358 70.0713 108.168 70.0713 Z\" fill=\"#000000\" fill-rule=\"evenodd\" fill-opacity=\"1\" /><path clip-path=\"url(#clip180)\" d=\"M138.33 73.775 Q134.719 73.775 132.89 77.3398 Q131.084 80.8814 131.084 88.011 Q131.084 95.1174 132.89 98.6822 Q134.719 102.224 138.33 102.224 Q141.964 102.224 143.769 98.6822 Q145.598 95.1174 145.598 88.011 Q145.598 80.8814 143.769 77.3398 Q141.964 73.775 138.33 73.775 M138.33 70.0713 Q144.14 70.0713 147.195 74.6777 Q150.274 79.261 150.274 88.011 Q150.274 96.7378 147.195 101.344 Q144.14 105.928 138.33 105.928 Q132.519 105.928 129.441 101.344 Q126.385 96.7378 126.385 88.011 Q126.385 79.261 129.441 74.6777 Q132.519 70.0713 138.33 70.0713 Z\" fill=\"#000000\" fill-rule=\"evenodd\" fill-opacity=\"1\" /><polyline clip-path=\"url(#clip182)\" style=\"stroke:#009af9; stroke-linecap:butt; stroke-linejoin:round; stroke-width:12; stroke-opacity:1; fill:none\" points=\"\n",
       "  186.274,1445.72 189.8,1445.72 193.326,1445.72 196.853,1445.72 200.379,1445.72 216.682,1445.72 232.984,1445.72 241.136,1445.72 249.287,1445.72 257.438,1445.72 \n",
       "  265.589,1445.72 269.665,1445.72 273.741,1445.72 274.76,1445.72 275.779,1445.72 276.797,1444.45 277.816,1439.34 279.854,1429.12 281.892,1418.9 285.968,1398.47 \n",
       "  290.043,1378.04 294.119,1357.6 298.195,1337.17 314.497,1255.43 330.8,1173.7 350.394,1075.46 369.989,977.22 389.583,878.981 409.177,780.743 442.311,614.623 \n",
       "  475.445,448.504 493.441,358.278 511.437,268.052 520.435,222.939 529.433,177.826 533.932,155.269 538.431,132.713 540.681,121.435 542.93,110.156 544.055,104.517 \n",
       "  545.18,98.8782 546.305,93.2391 547.429,88.3526 548.466,93.5514 549.503,98.7502 550.54,103.949 551.577,109.148 553.651,119.545 555.725,129.943 559.873,150.738 \n",
       "  564.02,171.533 572.316,213.123 580.611,254.713 597.202,337.894 613.793,421.074 684.942,777.787 767.375,1191.07 785.689,1282.89 804.003,1374.71 808.581,1397.67 \n",
       "  813.16,1420.62 815.449,1432.1 817.738,1443.58 818.883,1445.72 820.028,1445.72 821.172,1445.72 822.317,1445.72 826.896,1445.72 831.474,1445.72 836.053,1445.72 \n",
       "  840.631,1445.72 872.751,1445.72 904.871,1445.72 939.89,1445.72 974.909,1445.72 992.522,1445.72 1010.14,1445.72 1018.94,1445.72 1027.75,1445.72 1032.15,1445.72 \n",
       "  1036.56,1445.72 1040.96,1445.72 1045.36,1445.72 1047.8,1445.72 1050.23,1445.72 1050.84,1445.72 1051.45,1445.72 1052.06,1445.72 1052.67,1445.72 1053.27,87.9763 \n",
       "  1053.88,87.9763 1054.49,87.9763 1055.1,87.9763 1056.32,87.9763 1057.53,87.9763 1058.75,87.9763 1059.97,87.9763 1062.4,87.9763 1064.84,87.9763 1074.57,87.9763 \n",
       "  1084.31,87.9763 1103.79,87.9763 1123.26,87.9763 1160.32,87.9763 1197.38,87.9763 1274.44,87.9763 1339.31,87.9763 1378.91,87.9763 1418.51,87.9763 1436.65,87.9763 \n",
       "  1454.79,87.9763 1463.86,87.9763 1472.93,87.9763 1475.19,87.9763 1477.46,87.9763 1479.73,87.9763 1482,87.9763 1483.13,87.9763 1484.26,87.9763 1484.83,87.9763 \n",
       "  1485.4,87.9763 1485.96,87.9763 1486.53,1445.72 1487.1,1445.72 1487.66,1445.72 1488.23,1445.72 1488.8,1445.72 1489.93,1445.72 1491.06,1445.72 1495.25,1445.72 \n",
       "  1499.44,1445.72 1503.63,1445.72 1507.82,1445.72 1516.19,1445.72 1524.57,1445.72 1541.32,1445.72 1558.07,1445.72 1592.01,1445.72 1625.95,1445.72 1663.99,1445.72 \n",
       "  1702.02,1445.72 1710.64,1445.72 1719.25,1445.72 1723.56,1445.38 1727.87,1443.47 1732.18,1439.88 1736.49,1434.6 1740.8,1427.65 1745.1,1419.05 1749.41,1408.83 \n",
       "  1753.72,1397 1758.03,1383.6 1762.34,1368.65 1766.65,1352.21 1770.95,1334.3 1775.89,1312.06 1780.82,1288.03 1785.75,1262.3 1790.69,1234.95 1795.62,1206.06 \n",
       "  1800.55,1175.74 1805.48,1144.07 1810.42,1111.18 1815.35,1077.15 1820.28,1042.11 1825.21,1006.17 1830.15,969.446 1840.01,894.129 1849.88,817.147 1859.01,745.259 \n",
       "  1868.15,673.613 1877.28,603.013 1886.42,534.252 1895.55,468.099 1904.68,405.298 1909.25,375.376 1913.82,346.553 1918.39,318.91 1922.95,292.523 1927.46,267.812 \n",
       "  1931.96,244.463 1936.46,222.538 1940.96,202.098 1945.47,183.199 1949.97,165.892 1954.47,150.224 1958.98,136.238 1963.48,123.973 1967.98,113.461 1972.48,104.732 \n",
       "  1976.99,97.8084 1981.49,92.7103 1985.99,89.4512 1990.5,88.0399 1995,88.4804 1999.37,90.6787 2003.74,94.6158 2008.11,100.282 2012.49,107.662 2016.86,116.737 \n",
       "  2021.23,127.484 2025.6,139.875 2029.97,153.878 2034.34,169.458 2038.72,186.574 2043.09,205.182 2047.46,225.234 2051.83,246.68 2056.2,269.463 2060.58,293.525 \n",
       "  2064.95,318.804 2069.43,345.914 2073.91,374.161 2078.39,403.47 2082.87,433.76 2087.36,464.951 2091.84,496.957 2096.32,529.693 2100.8,563.07 2118.73,701.161 \n",
       "  2136.65,842.083 2146.47,918.292 2156.29,992.537 2161.2,1028.62 2166.11,1063.86 2171.03,1098.13 2175.94,1131.33 2180.85,1163.34 2185.76,1194.07 2190.67,1223.41 \n",
       "  2195.58,1251.27 2200.49,1277.56 2205.4,1302.2 2210.31,1325.1 2215.22,1346.18 2218.78,1360.32 2222.35,1373.45 2225.92,1385.54 2229.48,1396.57 2233.05,1406.52 \n",
       "  2236.62,1415.37 2240.18,1423.12 2243.75,1429.74 2247.31,1435.23 2250.88,1439.57 2254.45,1442.77 2258.01,1444.8 2265.15,1445.72 2272.28,1445.72 2300.81,1445.72 \n",
       "  2329.34,1445.72 2335.2,1445.72 2341.05,1445.72 2346.9,1445.72 2352.76,1445.72 \n",
       "  \"/>\n",
       "<path clip-path=\"url(#clip180)\" d=\"\n",
       "M1987.39 198.898 L2280.54 198.898 L2280.54 95.2176 L1987.39 95.2176  Z\n",
       "  \" fill=\"#ffffff\" fill-rule=\"evenodd\" fill-opacity=\"1\"/>\n",
       "<polyline clip-path=\"url(#clip180)\" style=\"stroke:#000000; stroke-linecap:butt; stroke-linejoin:round; stroke-width:4; stroke-opacity:1; fill:none\" points=\"\n",
       "  1987.39,198.898 2280.54,198.898 2280.54,95.2176 1987.39,95.2176 1987.39,198.898 \n",
       "  \"/>\n",
       "<polyline clip-path=\"url(#clip180)\" style=\"stroke:#009af9; stroke-linecap:butt; stroke-linejoin:round; stroke-width:4; stroke-opacity:1; fill:none\" points=\"\n",
       "  2011.46,147.058 2155.89,147.058 \n",
       "  \"/>\n",
       "<path clip-path=\"url(#clip180)\" d=\"M2193.81 166.745 Q2192 171.375 2190.29 172.787 Q2188.58 174.199 2185.71 174.199 L2182.3 174.199 L2182.3 170.634 L2184.8 170.634 Q2186.56 170.634 2187.53 169.8 Q2188.51 168.967 2189.69 165.865 L2190.45 163.921 L2179.97 138.412 L2184.48 138.412 L2192.58 158.689 L2200.68 138.412 L2205.2 138.412 L2193.81 166.745 Z\" fill=\"#000000\" fill-rule=\"evenodd\" fill-opacity=\"1\" /><path clip-path=\"url(#clip180)\" d=\"M2212.49 160.402 L2220.13 160.402 L2220.13 134.037 L2211.82 135.703 L2211.82 131.444 L2220.08 129.778 L2224.76 129.778 L2224.76 160.402 L2232.4 160.402 L2232.4 164.338 L2212.49 164.338 L2212.49 160.402 Z\" fill=\"#000000\" fill-rule=\"evenodd\" fill-opacity=\"1\" /></svg>\n"
      ]
     },
     "execution_count": 2,
     "metadata": {},
     "output_type": "execute_result"
    }
   ],
   "source": [
    "function testfunc(x)\n",
    "    max(1 - 4*abs.(x+2/3),\n",
    "        abs.(x) .< .2,\n",
    "        (2*abs.(x-2/3) .< .5) * cospi(2*(x-2/3)).^2\n",
    "    )\n",
    "end\n",
    "plot(testfunc, xlims=(-1, 1))"
   ]
  },
  {
   "cell_type": "markdown",
   "id": "89f97be1",
   "metadata": {
    "slideshow": {
     "slide_type": "slide"
    }
   },
   "source": [
    "# An implementation"
   ]
  },
  {
   "cell_type": "code",
   "execution_count": 19,
   "id": "5ff0b455",
   "metadata": {
    "cell_style": "split",
    "slideshow": {
     "slide_type": ""
    }
   },
   "outputs": [
    {
     "data": {
      "text/plain": [
       "fv_solve0 (generic function with 2 methods)"
      ]
     },
     "execution_count": 19,
     "metadata": {},
     "output_type": "execute_result"
    }
   ],
   "source": [
    "flux_advection(u) = u\n",
    "flux_burgers(u) = u^2/2\n",
    "flux_traffic(u) = u * (1 - u)\n",
    "\n",
    "function fv_solve0(flux, u_init, n, tfinal=1)\n",
    "    h = 2 / n\n",
    "    x = LinRange(-1+h/2, 1-h/2, n) # cell midpoints (centroids)\n",
    "    idxL = 1 .+ (n-1:2*n-2) .% n\n",
    "    idxR = 1 .+ (n+1:2*n) .% n\n",
    "    function rhs(t, u)\n",
    "        uL = .5 * (u + u[idxL])\n",
    "        uR = .5 * (u + u[idxR])\n",
    "        (flux.(uL) - flux.(uR)) / h\n",
    "    end\n",
    "    thist, uhist = ode_rk_explicit(rhs, u_init.(x), h=h, tfinal=tfinal)\n",
    "    x, thist, uhist\n",
    "end"
   ]
  },
  {
   "cell_type": "code",
   "execution_count": 28,
   "id": "c871365a",
   "metadata": {
    "cell_style": "split",
    "slideshow": {
     "slide_type": ""
    }
   },
   "outputs": [
    {
     "data": {
      "image/svg+xml": [
       "<?xml version=\"1.0\" encoding=\"utf-8\"?>\n",
       "<svg xmlns=\"http://www.w3.org/2000/svg\" xmlns:xlink=\"http://www.w3.org/1999/xlink\" width=\"600\" height=\"400\" viewBox=\"0 0 2400 1600\">\n",
       "<defs>\n",
       "  <clipPath id=\"clip020\">\n",
       "    <rect x=\"0\" y=\"0\" width=\"2400\" height=\"1600\"/>\n",
       "  </clipPath>\n",
       "</defs>\n",
       "<path clip-path=\"url(#clip020)\" d=\"\n",
       "M0 1600 L2400 1600 L2400 0 L0 0  Z\n",
       "  \" fill=\"#ffffff\" fill-rule=\"evenodd\" fill-opacity=\"1\"/>\n",
       "<defs>\n",
       "  <clipPath id=\"clip021\">\n",
       "    <rect x=\"480\" y=\"0\" width=\"1681\" height=\"1600\"/>\n",
       "  </clipPath>\n",
       "</defs>\n",
       "<path clip-path=\"url(#clip020)\" d=\"\n",
       "M147.478 1486.45 L2352.76 1486.45 L2352.76 47.2441 L147.478 47.2441  Z\n",
       "  \" fill=\"#ffffff\" fill-rule=\"evenodd\" fill-opacity=\"1\"/>\n",
       "<defs>\n",
       "  <clipPath id=\"clip022\">\n",
       "    <rect x=\"147\" y=\"47\" width=\"2206\" height=\"1440\"/>\n",
       "  </clipPath>\n",
       "</defs>\n",
       "<polyline clip-path=\"url(#clip022)\" style=\"stroke:#000000; stroke-linecap:butt; stroke-linejoin:round; stroke-width:2; stroke-opacity:0.1; fill:none\" points=\"\n",
       "  204.664,1486.45 204.664,47.2441 \n",
       "  \"/>\n",
       "<polyline clip-path=\"url(#clip022)\" style=\"stroke:#000000; stroke-linecap:butt; stroke-linejoin:round; stroke-width:2; stroke-opacity:0.1; fill:none\" points=\"\n",
       "  727.391,1486.45 727.391,47.2441 \n",
       "  \"/>\n",
       "<polyline clip-path=\"url(#clip022)\" style=\"stroke:#000000; stroke-linecap:butt; stroke-linejoin:round; stroke-width:2; stroke-opacity:0.1; fill:none\" points=\"\n",
       "  1250.12,1486.45 1250.12,47.2441 \n",
       "  \"/>\n",
       "<polyline clip-path=\"url(#clip022)\" style=\"stroke:#000000; stroke-linecap:butt; stroke-linejoin:round; stroke-width:2; stroke-opacity:0.1; fill:none\" points=\"\n",
       "  1772.84,1486.45 1772.84,47.2441 \n",
       "  \"/>\n",
       "<polyline clip-path=\"url(#clip022)\" style=\"stroke:#000000; stroke-linecap:butt; stroke-linejoin:round; stroke-width:2; stroke-opacity:0.1; fill:none\" points=\"\n",
       "  2295.57,1486.45 2295.57,47.2441 \n",
       "  \"/>\n",
       "<polyline clip-path=\"url(#clip020)\" style=\"stroke:#000000; stroke-linecap:butt; stroke-linejoin:round; stroke-width:4; stroke-opacity:1; fill:none\" points=\"\n",
       "  147.478,1486.45 2352.76,1486.45 \n",
       "  \"/>\n",
       "<polyline clip-path=\"url(#clip020)\" style=\"stroke:#000000; stroke-linecap:butt; stroke-linejoin:round; stroke-width:4; stroke-opacity:1; fill:none\" points=\"\n",
       "  204.664,1486.45 204.664,1467.55 \n",
       "  \"/>\n",
       "<polyline clip-path=\"url(#clip020)\" style=\"stroke:#000000; stroke-linecap:butt; stroke-linejoin:round; stroke-width:4; stroke-opacity:1; fill:none\" points=\"\n",
       "  727.391,1486.45 727.391,1467.55 \n",
       "  \"/>\n",
       "<polyline clip-path=\"url(#clip020)\" style=\"stroke:#000000; stroke-linecap:butt; stroke-linejoin:round; stroke-width:4; stroke-opacity:1; fill:none\" points=\"\n",
       "  1250.12,1486.45 1250.12,1467.55 \n",
       "  \"/>\n",
       "<polyline clip-path=\"url(#clip020)\" style=\"stroke:#000000; stroke-linecap:butt; stroke-linejoin:round; stroke-width:4; stroke-opacity:1; fill:none\" points=\"\n",
       "  1772.84,1486.45 1772.84,1467.55 \n",
       "  \"/>\n",
       "<polyline clip-path=\"url(#clip020)\" style=\"stroke:#000000; stroke-linecap:butt; stroke-linejoin:round; stroke-width:4; stroke-opacity:1; fill:none\" points=\"\n",
       "  2295.57,1486.45 2295.57,1467.55 \n",
       "  \"/>\n",
       "<path clip-path=\"url(#clip020)\" d=\"M151.192 1532.02 L180.868 1532.02 L180.868 1535.95 L151.192 1535.95 L151.192 1532.02 Z\" fill=\"#000000\" fill-rule=\"evenodd\" fill-opacity=\"1\" /><path clip-path=\"url(#clip020)\" d=\"M191.771 1544.91 L199.41 1544.91 L199.41 1518.55 L191.099 1520.21 L191.099 1515.95 L199.363 1514.29 L204.039 1514.29 L204.039 1544.91 L211.678 1544.91 L211.678 1548.85 L191.771 1548.85 L191.771 1544.91 Z\" fill=\"#000000\" fill-rule=\"evenodd\" fill-opacity=\"1\" /><path clip-path=\"url(#clip020)\" d=\"M221.122 1542.97 L226.007 1542.97 L226.007 1548.85 L221.122 1548.85 L221.122 1542.97 Z\" fill=\"#000000\" fill-rule=\"evenodd\" fill-opacity=\"1\" /><path clip-path=\"url(#clip020)\" d=\"M246.192 1517.37 Q242.581 1517.37 240.752 1520.93 Q238.946 1524.47 238.946 1531.6 Q238.946 1538.71 240.752 1542.27 Q242.581 1545.82 246.192 1545.82 Q249.826 1545.82 251.632 1542.27 Q253.46 1538.71 253.46 1531.6 Q253.46 1524.47 251.632 1520.93 Q249.826 1517.37 246.192 1517.37 M246.192 1513.66 Q252.002 1513.66 255.057 1518.27 Q258.136 1522.85 258.136 1531.6 Q258.136 1540.33 255.057 1544.94 Q252.002 1549.52 246.192 1549.52 Q240.382 1549.52 237.303 1544.94 Q234.247 1540.33 234.247 1531.6 Q234.247 1522.85 237.303 1518.27 Q240.382 1513.66 246.192 1513.66 Z\" fill=\"#000000\" fill-rule=\"evenodd\" fill-opacity=\"1\" /><path clip-path=\"url(#clip020)\" d=\"M674.416 1532.02 L704.092 1532.02 L704.092 1535.95 L674.416 1535.95 L674.416 1532.02 Z\" fill=\"#000000\" fill-rule=\"evenodd\" fill-opacity=\"1\" /><path clip-path=\"url(#clip020)\" d=\"M724.185 1517.37 Q720.573 1517.37 718.745 1520.93 Q716.939 1524.47 716.939 1531.6 Q716.939 1538.71 718.745 1542.27 Q720.573 1545.82 724.185 1545.82 Q727.819 1545.82 729.624 1542.27 Q731.453 1538.71 731.453 1531.6 Q731.453 1524.47 729.624 1520.93 Q727.819 1517.37 724.185 1517.37 M724.185 1513.66 Q729.995 1513.66 733.05 1518.27 Q736.129 1522.85 736.129 1531.6 Q736.129 1540.33 733.05 1544.94 Q729.995 1549.52 724.185 1549.52 Q718.374 1549.52 715.296 1544.94 Q712.24 1540.33 712.24 1531.6 Q712.24 1522.85 715.296 1518.27 Q718.374 1513.66 724.185 1513.66 Z\" fill=\"#000000\" fill-rule=\"evenodd\" fill-opacity=\"1\" /><path clip-path=\"url(#clip020)\" d=\"M744.346 1542.97 L749.231 1542.97 L749.231 1548.85 L744.346 1548.85 L744.346 1542.97 Z\" fill=\"#000000\" fill-rule=\"evenodd\" fill-opacity=\"1\" /><path clip-path=\"url(#clip020)\" d=\"M759.462 1514.29 L777.819 1514.29 L777.819 1518.22 L763.745 1518.22 L763.745 1526.7 Q764.763 1526.35 765.782 1526.19 Q766.8 1526 767.819 1526 Q773.606 1526 776.985 1529.17 Q780.365 1532.34 780.365 1537.76 Q780.365 1543.34 776.893 1546.44 Q773.42 1549.52 767.101 1549.52 Q764.925 1549.52 762.657 1549.15 Q760.411 1548.78 758.004 1548.04 L758.004 1543.34 Q760.087 1544.47 762.309 1545.03 Q764.532 1545.58 767.008 1545.58 Q771.013 1545.58 773.351 1543.48 Q775.689 1541.37 775.689 1537.76 Q775.689 1534.15 773.351 1532.04 Q771.013 1529.94 767.008 1529.94 Q765.133 1529.94 763.258 1530.35 Q761.407 1530.77 759.462 1531.65 L759.462 1514.29 Z\" fill=\"#000000\" fill-rule=\"evenodd\" fill-opacity=\"1\" /><path clip-path=\"url(#clip020)\" d=\"M1227.5 1517.37 Q1223.89 1517.37 1222.06 1520.93 Q1220.26 1524.47 1220.26 1531.6 Q1220.26 1538.71 1222.06 1542.27 Q1223.89 1545.82 1227.5 1545.82 Q1231.14 1545.82 1232.94 1542.27 Q1234.77 1538.71 1234.77 1531.6 Q1234.77 1524.47 1232.94 1520.93 Q1231.14 1517.37 1227.5 1517.37 M1227.5 1513.66 Q1233.31 1513.66 1236.37 1518.27 Q1239.45 1522.85 1239.45 1531.6 Q1239.45 1540.33 1236.37 1544.94 Q1233.31 1549.52 1227.5 1549.52 Q1221.69 1549.52 1218.61 1544.94 Q1215.56 1540.33 1215.56 1531.6 Q1215.56 1522.85 1218.61 1518.27 Q1221.69 1513.66 1227.5 1513.66 Z\" fill=\"#000000\" fill-rule=\"evenodd\" fill-opacity=\"1\" /><path clip-path=\"url(#clip020)\" d=\"M1247.66 1542.97 L1252.55 1542.97 L1252.55 1548.85 L1247.66 1548.85 L1247.66 1542.97 Z\" fill=\"#000000\" fill-rule=\"evenodd\" fill-opacity=\"1\" /><path clip-path=\"url(#clip020)\" d=\"M1272.73 1517.37 Q1269.12 1517.37 1267.29 1520.93 Q1265.49 1524.47 1265.49 1531.6 Q1265.49 1538.71 1267.29 1542.27 Q1269.12 1545.82 1272.73 1545.82 Q1276.37 1545.82 1278.17 1542.27 Q1280 1538.71 1280 1531.6 Q1280 1524.47 1278.17 1520.93 Q1276.37 1517.37 1272.73 1517.37 M1272.73 1513.66 Q1278.54 1513.66 1281.6 1518.27 Q1284.68 1522.85 1284.68 1531.6 Q1284.68 1540.33 1281.6 1544.94 Q1278.54 1549.52 1272.73 1549.52 Q1266.92 1549.52 1263.84 1544.94 Q1260.79 1540.33 1260.79 1531.6 Q1260.79 1522.85 1263.84 1518.27 Q1266.92 1513.66 1272.73 1513.66 Z\" fill=\"#000000\" fill-rule=\"evenodd\" fill-opacity=\"1\" /><path clip-path=\"url(#clip020)\" d=\"M1750.73 1517.37 Q1747.11 1517.37 1745.29 1520.93 Q1743.48 1524.47 1743.48 1531.6 Q1743.48 1538.71 1745.29 1542.27 Q1747.11 1545.82 1750.73 1545.82 Q1754.36 1545.82 1756.17 1542.27 Q1757.99 1538.71 1757.99 1531.6 Q1757.99 1524.47 1756.17 1520.93 Q1754.36 1517.37 1750.73 1517.37 M1750.73 1513.66 Q1756.54 1513.66 1759.59 1518.27 Q1762.67 1522.85 1762.67 1531.6 Q1762.67 1540.33 1759.59 1544.94 Q1756.54 1549.52 1750.73 1549.52 Q1744.92 1549.52 1741.84 1544.94 Q1738.78 1540.33 1738.78 1531.6 Q1738.78 1522.85 1741.84 1518.27 Q1744.92 1513.66 1750.73 1513.66 Z\" fill=\"#000000\" fill-rule=\"evenodd\" fill-opacity=\"1\" /><path clip-path=\"url(#clip020)\" d=\"M1770.89 1542.97 L1775.77 1542.97 L1775.77 1548.85 L1770.89 1548.85 L1770.89 1542.97 Z\" fill=\"#000000\" fill-rule=\"evenodd\" fill-opacity=\"1\" /><path clip-path=\"url(#clip020)\" d=\"M1786 1514.29 L1804.36 1514.29 L1804.36 1518.22 L1790.29 1518.22 L1790.29 1526.7 Q1791.3 1526.35 1792.32 1526.19 Q1793.34 1526 1794.36 1526 Q1800.15 1526 1803.53 1529.17 Q1806.91 1532.34 1806.91 1537.76 Q1806.91 1543.34 1803.43 1546.44 Q1799.96 1549.52 1793.64 1549.52 Q1791.47 1549.52 1789.2 1549.15 Q1786.95 1548.78 1784.54 1548.04 L1784.54 1543.34 Q1786.63 1544.47 1788.85 1545.03 Q1791.07 1545.58 1793.55 1545.58 Q1797.55 1545.58 1799.89 1543.48 Q1802.23 1541.37 1802.23 1537.76 Q1802.23 1534.15 1799.89 1532.04 Q1797.55 1529.94 1793.55 1529.94 Q1791.67 1529.94 1789.8 1530.35 Q1787.95 1530.77 1786 1531.65 L1786 1514.29 Z\" fill=\"#000000\" fill-rule=\"evenodd\" fill-opacity=\"1\" /><path clip-path=\"url(#clip020)\" d=\"M2262.72 1544.91 L2270.36 1544.91 L2270.36 1518.55 L2262.05 1520.21 L2262.05 1515.95 L2270.32 1514.29 L2274.99 1514.29 L2274.99 1544.91 L2282.63 1544.91 L2282.63 1548.85 L2262.72 1548.85 L2262.72 1544.91 Z\" fill=\"#000000\" fill-rule=\"evenodd\" fill-opacity=\"1\" /><path clip-path=\"url(#clip020)\" d=\"M2292.07 1542.97 L2296.96 1542.97 L2296.96 1548.85 L2292.07 1548.85 L2292.07 1542.97 Z\" fill=\"#000000\" fill-rule=\"evenodd\" fill-opacity=\"1\" /><path clip-path=\"url(#clip020)\" d=\"M2317.14 1517.37 Q2313.53 1517.37 2311.7 1520.93 Q2309.9 1524.47 2309.9 1531.6 Q2309.9 1538.71 2311.7 1542.27 Q2313.53 1545.82 2317.14 1545.82 Q2320.78 1545.82 2322.58 1542.27 Q2324.41 1538.71 2324.41 1531.6 Q2324.41 1524.47 2322.58 1520.93 Q2320.78 1517.37 2317.14 1517.37 M2317.14 1513.66 Q2322.95 1513.66 2326.01 1518.27 Q2329.09 1522.85 2329.09 1531.6 Q2329.09 1540.33 2326.01 1544.94 Q2322.95 1549.52 2317.14 1549.52 Q2311.33 1549.52 2308.25 1544.94 Q2305.2 1540.33 2305.2 1531.6 Q2305.2 1522.85 2308.25 1518.27 Q2311.33 1513.66 2317.14 1513.66 Z\" fill=\"#000000\" fill-rule=\"evenodd\" fill-opacity=\"1\" /><polyline clip-path=\"url(#clip022)\" style=\"stroke:#000000; stroke-linecap:butt; stroke-linejoin:round; stroke-width:2; stroke-opacity:0.1; fill:none\" points=\"\n",
       "  147.478,1325.13 2352.76,1325.13 \n",
       "  \"/>\n",
       "<polyline clip-path=\"url(#clip022)\" style=\"stroke:#000000; stroke-linecap:butt; stroke-linejoin:round; stroke-width:2; stroke-opacity:0.1; fill:none\" points=\"\n",
       "  147.478,1101.81 2352.76,1101.81 \n",
       "  \"/>\n",
       "<polyline clip-path=\"url(#clip022)\" style=\"stroke:#000000; stroke-linecap:butt; stroke-linejoin:round; stroke-width:2; stroke-opacity:0.1; fill:none\" points=\"\n",
       "  147.478,878.502 2352.76,878.502 \n",
       "  \"/>\n",
       "<polyline clip-path=\"url(#clip022)\" style=\"stroke:#000000; stroke-linecap:butt; stroke-linejoin:round; stroke-width:2; stroke-opacity:0.1; fill:none\" points=\"\n",
       "  147.478,655.19 2352.76,655.19 \n",
       "  \"/>\n",
       "<polyline clip-path=\"url(#clip022)\" style=\"stroke:#000000; stroke-linecap:butt; stroke-linejoin:round; stroke-width:2; stroke-opacity:0.1; fill:none\" points=\"\n",
       "  147.478,431.878 2352.76,431.878 \n",
       "  \"/>\n",
       "<polyline clip-path=\"url(#clip022)\" style=\"stroke:#000000; stroke-linecap:butt; stroke-linejoin:round; stroke-width:2; stroke-opacity:0.1; fill:none\" points=\"\n",
       "  147.478,208.566 2352.76,208.566 \n",
       "  \"/>\n",
       "<polyline clip-path=\"url(#clip020)\" style=\"stroke:#000000; stroke-linecap:butt; stroke-linejoin:round; stroke-width:4; stroke-opacity:1; fill:none\" points=\"\n",
       "  147.478,1486.45 147.478,47.2441 \n",
       "  \"/>\n",
       "<polyline clip-path=\"url(#clip020)\" style=\"stroke:#000000; stroke-linecap:butt; stroke-linejoin:round; stroke-width:4; stroke-opacity:1; fill:none\" points=\"\n",
       "  147.478,1325.13 166.376,1325.13 \n",
       "  \"/>\n",
       "<polyline clip-path=\"url(#clip020)\" style=\"stroke:#000000; stroke-linecap:butt; stroke-linejoin:round; stroke-width:4; stroke-opacity:1; fill:none\" points=\"\n",
       "  147.478,1101.81 166.376,1101.81 \n",
       "  \"/>\n",
       "<polyline clip-path=\"url(#clip020)\" style=\"stroke:#000000; stroke-linecap:butt; stroke-linejoin:round; stroke-width:4; stroke-opacity:1; fill:none\" points=\"\n",
       "  147.478,878.502 166.376,878.502 \n",
       "  \"/>\n",
       "<polyline clip-path=\"url(#clip020)\" style=\"stroke:#000000; stroke-linecap:butt; stroke-linejoin:round; stroke-width:4; stroke-opacity:1; fill:none\" points=\"\n",
       "  147.478,655.19 166.376,655.19 \n",
       "  \"/>\n",
       "<polyline clip-path=\"url(#clip020)\" style=\"stroke:#000000; stroke-linecap:butt; stroke-linejoin:round; stroke-width:4; stroke-opacity:1; fill:none\" points=\"\n",
       "  147.478,431.878 166.376,431.878 \n",
       "  \"/>\n",
       "<polyline clip-path=\"url(#clip020)\" style=\"stroke:#000000; stroke-linecap:butt; stroke-linejoin:round; stroke-width:4; stroke-opacity:1; fill:none\" points=\"\n",
       "  147.478,208.566 166.376,208.566 \n",
       "  \"/>\n",
       "<path clip-path=\"url(#clip020)\" d=\"M51.3625 1325.58 L81.0383 1325.58 L81.0383 1329.51 L51.3625 1329.51 L51.3625 1325.58 Z\" fill=\"#000000\" fill-rule=\"evenodd\" fill-opacity=\"1\" /><path clip-path=\"url(#clip020)\" d=\"M95.1586 1338.47 L111.478 1338.47 L111.478 1342.41 L89.5336 1342.41 L89.5336 1338.47 Q92.1956 1335.72 96.7789 1331.09 Q101.385 1326.43 102.566 1325.09 Q104.811 1322.57 105.691 1320.83 Q106.594 1319.07 106.594 1317.38 Q106.594 1314.63 104.649 1312.89 Q102.728 1311.16 99.6261 1311.16 Q97.4271 1311.16 94.9734 1311.92 Q92.5428 1312.68 89.7651 1314.23 L89.7651 1309.51 Q92.5891 1308.38 95.0428 1307.8 Q97.4965 1307.22 99.5335 1307.22 Q104.904 1307.22 108.098 1309.91 Q111.293 1312.59 111.293 1317.08 Q111.293 1319.21 110.483 1321.13 Q109.696 1323.03 107.589 1325.62 Q107.01 1326.29 103.909 1329.51 Q100.807 1332.71 95.1586 1338.47 Z\" fill=\"#000000\" fill-rule=\"evenodd\" fill-opacity=\"1\" /><path clip-path=\"url(#clip020)\" d=\"M50.9921 1102.27 L80.6679 1102.27 L80.6679 1106.2 L50.9921 1106.2 L50.9921 1102.27 Z\" fill=\"#000000\" fill-rule=\"evenodd\" fill-opacity=\"1\" /><path clip-path=\"url(#clip020)\" d=\"M91.5706 1115.16 L99.2095 1115.16 L99.2095 1088.79 L90.8993 1090.46 L90.8993 1086.2 L99.1632 1084.53 L103.839 1084.53 L103.839 1115.16 L111.478 1115.16 L111.478 1119.09 L91.5706 1119.09 L91.5706 1115.16 Z\" fill=\"#000000\" fill-rule=\"evenodd\" fill-opacity=\"1\" /><path clip-path=\"url(#clip020)\" d=\"M99.5335 864.301 Q95.9224 864.301 94.0937 867.865 Q92.2882 871.407 92.2882 878.537 Q92.2882 885.643 94.0937 889.208 Q95.9224 892.75 99.5335 892.75 Q103.168 892.75 104.973 889.208 Q106.802 885.643 106.802 878.537 Q106.802 871.407 104.973 867.865 Q103.168 864.301 99.5335 864.301 M99.5335 860.597 Q105.344 860.597 108.399 865.203 Q111.478 869.787 111.478 878.537 Q111.478 887.264 108.399 891.87 Q105.344 896.453 99.5335 896.453 Q93.7234 896.453 90.6447 891.87 Q87.5892 887.264 87.5892 878.537 Q87.5892 869.787 90.6447 865.203 Q93.7234 860.597 99.5335 860.597 Z\" fill=\"#000000\" fill-rule=\"evenodd\" fill-opacity=\"1\" /><path clip-path=\"url(#clip020)\" d=\"M91.5706 668.535 L99.2095 668.535 L99.2095 642.169 L90.8993 643.836 L90.8993 639.577 L99.1632 637.91 L103.839 637.91 L103.839 668.535 L111.478 668.535 L111.478 672.47 L91.5706 672.47 L91.5706 668.535 Z\" fill=\"#000000\" fill-rule=\"evenodd\" fill-opacity=\"1\" /><path clip-path=\"url(#clip020)\" d=\"M95.1586 445.223 L111.478 445.223 L111.478 449.158 L89.5336 449.158 L89.5336 445.223 Q92.1956 442.468 96.7789 437.839 Q101.385 433.186 102.566 431.843 Q104.811 429.32 105.691 427.584 Q106.594 425.825 106.594 424.135 Q106.594 421.38 104.649 419.644 Q102.728 417.908 99.6261 417.908 Q97.4271 417.908 94.9734 418.672 Q92.5428 419.436 89.7651 420.987 L89.7651 416.265 Q92.5891 415.13 95.0428 414.552 Q97.4965 413.973 99.5335 413.973 Q104.904 413.973 108.098 416.658 Q111.293 419.343 111.293 423.834 Q111.293 425.964 110.483 427.885 Q109.696 429.783 107.589 432.376 Q107.01 433.047 103.909 436.265 Q100.807 439.459 95.1586 445.223 Z\" fill=\"#000000\" fill-rule=\"evenodd\" fill-opacity=\"1\" /><path clip-path=\"url(#clip020)\" d=\"M104.348 207.212 Q107.705 207.929 109.58 210.198 Q111.478 212.466 111.478 215.8 Q111.478 220.915 107.959 223.716 Q104.441 226.517 97.9595 226.517 Q95.7836 226.517 93.4688 226.077 Q91.1771 225.661 88.7234 224.804 L88.7234 220.29 Q90.6678 221.425 92.9826 222.003 Q95.2974 222.582 97.8206 222.582 Q102.219 222.582 104.51 220.846 Q106.825 219.11 106.825 215.8 Q106.825 212.744 104.672 211.031 Q102.543 209.295 98.7234 209.295 L94.6956 209.295 L94.6956 205.453 L98.9085 205.453 Q102.358 205.453 104.186 204.087 Q106.015 202.698 106.015 200.105 Q106.015 197.443 104.117 196.031 Q102.242 194.596 98.7234 194.596 Q96.8021 194.596 94.603 195.013 Q92.4039 195.43 89.7651 196.309 L89.7651 192.142 Q92.4271 191.402 94.7419 191.031 Q97.0798 190.661 99.14 190.661 Q104.464 190.661 107.566 193.092 Q110.668 195.499 110.668 199.619 Q110.668 202.49 109.024 204.48 Q107.381 206.448 104.348 207.212 Z\" fill=\"#000000\" fill-rule=\"evenodd\" fill-opacity=\"1\" /><polyline clip-path=\"url(#clip022)\" style=\"stroke:#009af9; stroke-linecap:butt; stroke-linejoin:round; stroke-width:12; stroke-opacity:1; fill:none\" points=\"\n",
       "  209.891,878.502 220.346,878.502 230.8,878.502 241.255,878.502 251.71,878.502 262.164,878.502 272.619,878.502 283.073,878.502 293.528,877.013 303.982,868.081 \n",
       "  314.437,859.148 324.891,850.216 335.346,841.283 345.8,832.351 356.255,823.418 366.709,814.486 377.164,805.553 387.618,796.621 398.073,787.688 408.527,778.756 \n",
       "  418.982,769.823 429.437,760.891 439.891,751.959 450.346,743.026 460.8,734.094 471.255,725.161 481.709,716.229 492.164,707.296 502.618,698.364 513.073,689.431 \n",
       "  523.527,680.499 533.982,671.566 544.436,662.634 554.891,656.679 565.345,665.611 575.8,674.544 586.254,683.476 596.709,692.409 607.163,701.341 617.618,710.274 \n",
       "  628.073,719.206 638.527,728.139 648.982,737.071 659.436,746.004 669.891,754.936 680.345,763.868 690.8,772.801 701.254,781.733 711.709,790.666 722.163,799.598 \n",
       "  732.618,808.531 743.072,817.463 753.527,826.396 763.981,835.328 774.436,844.261 784.89,853.193 795.345,862.126 805.799,871.058 816.254,878.502 826.709,878.502 \n",
       "  837.163,878.502 847.618,878.502 858.072,878.502 868.527,878.502 878.981,878.502 889.436,878.502 899.89,878.502 910.345,878.502 920.799,878.502 931.254,878.502 \n",
       "  941.708,878.502 952.163,878.502 962.617,878.502 973.072,878.502 983.526,878.502 993.981,878.502 1004.44,878.502 1014.89,878.502 1025.34,878.502 1035.8,878.502 \n",
       "  1046.25,655.19 1056.71,655.19 1067.16,655.19 1077.62,655.19 1088.07,655.19 1098.53,655.19 1108.98,655.19 1119.44,655.19 1129.89,655.19 1140.34,655.19 \n",
       "  1150.8,655.19 1161.25,655.19 1171.71,655.19 1182.16,655.19 1192.62,655.19 1203.07,655.19 1213.53,655.19 1223.98,655.19 1234.44,655.19 1244.89,655.19 \n",
       "  1255.34,655.19 1265.8,655.19 1276.25,655.19 1286.71,655.19 1297.16,655.19 1307.62,655.19 1318.07,655.19 1328.53,655.19 1338.98,655.19 1349.43,655.19 \n",
       "  1359.89,655.19 1370.34,655.19 1380.8,655.19 1391.25,655.19 1401.71,655.19 1412.16,655.19 1422.62,655.19 1433.07,655.19 1443.53,655.19 1453.98,655.19 \n",
       "  1464.43,878.502 1474.89,878.502 1485.34,878.502 1495.8,878.502 1506.25,878.502 1516.71,878.502 1527.16,878.502 1537.62,878.502 1548.07,878.502 1558.53,878.502 \n",
       "  1568.98,878.502 1579.43,878.502 1589.89,878.502 1600.34,878.502 1610.8,878.502 1621.25,878.502 1631.71,878.502 1642.16,878.502 1652.62,878.502 1663.07,878.502 \n",
       "  1673.53,878.502 1683.98,878.502 1694.43,877.89 1704.89,875.552 1715.34,871.499 1725.8,865.796 1736.25,858.532 1746.71,849.823 1757.16,839.804 1767.62,828.635 \n",
       "  1778.07,816.492 1788.53,803.566 1798.98,790.061 1809.43,776.189 1819.89,762.17 1830.34,748.225 1840.8,734.574 1851.25,721.431 1861.71,709.005 1872.16,697.491 \n",
       "  1882.62,687.071 1893.07,677.909 1903.52,670.149 1913.98,663.914 1924.43,659.303 1934.89,656.388 1945.34,655.214 1955.8,655.802 1966.25,658.14 1976.71,662.193 \n",
       "  1987.16,667.896 1997.62,675.16 2008.07,683.869 2018.52,693.888 2028.98,705.057 2039.43,717.2 2049.89,730.126 2060.34,743.631 2070.8,757.503 2081.25,771.522 \n",
       "  2091.71,785.467 2102.16,799.118 2112.62,812.261 2123.07,824.687 2133.52,836.201 2143.98,846.621 2154.43,855.783 2164.89,863.543 2175.34,869.778 2185.8,874.389 \n",
       "  2196.25,877.304 2206.71,878.477 2217.16,878.502 2227.62,878.502 2238.07,878.502 2248.52,878.502 2258.98,878.502 2269.43,878.502 2279.89,878.502 2290.34,878.502 \n",
       "  \n",
       "  \"/>\n",
       "<polyline clip-path=\"url(#clip022)\" style=\"stroke:#e26f46; stroke-linecap:butt; stroke-linejoin:round; stroke-width:12; stroke-opacity:1; fill:none\" points=\"\n",
       "  209.891,878.508 220.346,878.462 230.8,878.628 241.255,878.178 251.71,879.131 262.164,877.69 272.619,878.875 283.073,879.285 293.528,877.434 303.982,877.313 \n",
       "  314.437,879.929 324.891,882.046 335.346,879.886 345.8,872.106 356.255,860.102 366.709,846.049 377.164,831.332 387.618,816.468 398.073,801.583 408.527,786.696 \n",
       "  418.982,771.808 429.437,756.921 439.891,742.034 450.346,727.147 460.8,712.269 471.255,697.467 481.709,683.084 492.164,670.276 502.618,661.43 513.073,659.166 \n",
       "  523.527,663.968 533.982,673.247 544.436,683.033 554.891,690.083 565.345,694.142 575.8,699.649 586.254,708.45 596.709,713.16 607.163,720.204 617.618,726.408 \n",
       "  628.073,732.821 638.527,739.197 648.982,745.578 659.436,751.959 669.891,758.339 680.345,764.719 690.8,771.1 701.254,777.48 711.709,783.86 722.163,790.241 \n",
       "  732.618,796.621 743.072,803 753.527,809.389 763.981,815.715 774.436,822.337 784.89,828.008 795.345,835.632 805.799,841.205 816.254,846.645 826.709,853.882 \n",
       "  837.163,861.914 847.618,868.883 858.072,873.728 868.527,876.476 878.981,877.764 889.436,878.27 899.89,878.438 910.345,878.488 920.799,878.49 931.254,878.548 \n",
       "  941.708,878.279 952.163,879.434 962.617,875.062 973.072,889.43 983.526,847.509 993.981,949.648 1004.44,723.347 1014.89,1132.9 1025.34,442.794 1035.8,1445.72 \n",
       "  1046.25,87.9763 1056.71,1090.9 1067.16,400.791 1077.62,810.345 1088.07,584.044 1098.53,686.183 1108.98,644.262 1119.44,658.63 1129.89,654.258 1140.34,655.412 \n",
       "  1150.8,655.143 1161.25,655.199 1171.71,655.189 1182.16,655.19 1192.62,655.19 1203.07,655.19 1213.53,655.19 1223.98,655.19 1234.44,655.19 1244.89,655.19 \n",
       "  1255.34,655.19 1265.8,655.19 1276.25,655.19 1286.71,655.19 1297.16,655.19 1307.62,655.19 1318.07,655.19 1328.53,655.191 1338.98,655.195 1349.43,655.215 \n",
       "  1359.89,655.3 1370.34,655.606 1380.8,656.547 1391.25,658.973 1401.71,664.173 1412.16,673.425 1422.62,687.246 1433.07,705.086 1443.53,725.85 1453.98,748.802 \n",
       "  1464.43,784.89 1474.89,807.842 1485.34,828.606 1495.8,846.446 1506.25,860.267 1516.71,869.519 1527.16,874.719 1537.62,877.145 1548.07,878.086 1558.53,878.392 \n",
       "  1568.98,878.477 1579.43,878.497 1589.89,878.501 1600.34,878.503 1610.8,878.5 1621.25,878.506 1631.71,878.499 1642.16,878.493 1652.62,878.54 1663.07,878.434 \n",
       "  1673.53,878.535 1683.98,878.603 1694.43,878.389 1704.89,878.274 1715.34,878.6 1725.8,879.143 1736.25,879.268 1746.71,878.217 1757.16,875.217 1767.62,869.406 \n",
       "  1778.07,859.662 1788.53,844.361 1798.98,821.526 1809.43,790.51 1819.89,754.868 1830.34,721.663 1840.8,696.018 1851.25,678.418 1861.71,667.037 1872.16,660.09 \n",
       "  1882.62,656.358 1893.07,655.039 1903.52,655.584 1913.98,657.604 1924.43,660.813 1934.89,664.996 1945.34,669.987 1955.8,675.653 1966.25,681.889 1976.71,688.604 \n",
       "  1987.16,695.726 1997.62,703.192 2008.07,710.945 2018.52,718.938 2028.98,727.127 2039.43,735.473 2049.89,743.939 2060.34,752.491 2070.8,761.096 2081.25,769.722 \n",
       "  2091.71,778.337 2102.16,786.91 2112.62,795.409 2123.07,803.799 2133.52,812.045 2143.98,820.106 2154.43,827.948 2164.89,835.512 2175.34,842.737 2185.8,849.671 \n",
       "  2196.25,855.967 2206.71,861.811 2217.16,867.24 2227.62,871.791 2238.07,875.027 2248.52,876.947 2258.98,877.899 2269.43,878.299 2279.89,878.442 2290.34,878.485 \n",
       "  \n",
       "  \"/>\n",
       "</svg>\n"
      ]
     },
     "execution_count": 28,
     "metadata": {},
     "output_type": "execute_result"
    }
   ],
   "source": [
    "x, thist, uhist = fv_solve0(flux_traffic, testfunc, 200, .05)\n",
    "plot(x, uhist[:,1:5:end], legend=:none)"
   ]
  },
  {
   "cell_type": "markdown",
   "id": "60c3cf90",
   "metadata": {
    "slideshow": {
     "slide_type": "fragment"
    }
   },
   "source": [
    "Evidenitly our method has serious problems for discontinuous solutions and nonlinear problems."
   ]
  },
  {
   "cell_type": "markdown",
   "id": "e37cafb6",
   "metadata": {
    "slideshow": {
     "slide_type": "slide"
    }
   },
   "source": [
    "# Shocks, rarefactions, and Riemann problems"
   ]
  },
  {
   "cell_type": "markdown",
   "id": "fde825ad",
   "metadata": {
    "cell_style": "split"
   },
   "source": [
    "Burger's equation evolved a discontinuity in finite time from a smooth initial condition.  It turns out that all nonlinear hyperbolic equations have this property.  For Burgers, the peak travels to the right, overtaking the troughs.\n",
    "* This is called a **shock** and corresponds to characteristics converging when the gradient of the solution is negative.\n",
    "* When the gradient is positive, the characteristics diverge to produce a **rarefaction**.  The relationship to positive and negative gradients is reversed for a non-convex flux like Traffic."
   ]
  },
  {
   "cell_type": "markdown",
   "id": "366590cb",
   "metadata": {
    "cell_style": "split"
   },
   "source": [
    "We need a solution method that can correctly compute fluxes in case of a discontinuous solution.  Finite volume methods represent this in terms of a Riemann problem,\n",
    "$$ u(0, x) = \\begin{cases}\n",
    "u_L & \\text{if} & x < 0 \\\\\n",
    "u_R & \\text{if} & x > 0\n",
    "\\end{cases}\n",
    "$$\n",
    "where $u_L$ and $u_R$ are given.  The solution of a Riemann problem is the solution $u(t, x)$ at positive times.  In our finite volume schemes, it will be sufficient to compute the flux at $x=0$ at an infinitessimal positive time\n",
    "$$\\tilde F(u_L, u_R) = \\lim_{t\\to 0} F\\big(u(t, 0) \\big) . $$\n",
    "We call $\\tilde F$ the **numerical flux** and require that it must be consistent when there is no discontinuity,\n",
    "$$ \\tilde F(u, u) = F(u) .$$"
   ]
  },
  {
   "cell_type": "markdown",
   "id": "18ddf816",
   "metadata": {
    "slideshow": {
     "slide_type": "slide"
    }
   },
   "source": [
    "# A solver based on Riemann problems"
   ]
  },
  {
   "cell_type": "code",
   "execution_count": 12,
   "id": "1c459966",
   "metadata": {
    "cell_style": "split"
   },
   "outputs": [
    {
     "data": {
      "text/plain": [
       "fv_solve1 (generic function with 2 methods)"
      ]
     },
     "execution_count": 12,
     "metadata": {},
     "output_type": "execute_result"
    }
   ],
   "source": [
    "riemann_advection(uL, uR) = 1*uL # velocity is +1\n",
    "\n",
    "function fv_solve1(riemann, u_init, n, tfinal=1)\n",
    "    h = 2 / n\n",
    "    x = LinRange(-1+h/2, 1-h/2, n) # cell midpoints (centroids)\n",
    "    idxL = 1 .+ (n-1:2*n-2) .% n\n",
    "    idxR = 1 .+ (n+1:2*n) .% n\n",
    "    function rhs(t, u)\n",
    "        fluxL = riemann(u[idxL], u)\n",
    "        fluxR = riemann(u, u[idxR])\n",
    "        (fluxL - fluxR) / h\n",
    "    end\n",
    "    thist, uhist = ode_rk_explicit(rhs, u_init.(x), h=h, tfinal=tfinal)\n",
    "    x, thist, uhist\n",
    "end"
   ]
  },
  {
   "cell_type": "code",
   "execution_count": 32,
   "id": "f5335c2c",
   "metadata": {
    "cell_style": "split"
   },
   "outputs": [
    {
     "data": {
      "image/svg+xml": [
       "<?xml version=\"1.0\" encoding=\"utf-8\"?>\n",
       "<svg xmlns=\"http://www.w3.org/2000/svg\" xmlns:xlink=\"http://www.w3.org/1999/xlink\" width=\"600\" height=\"400\" viewBox=\"0 0 2400 1600\">\n",
       "<defs>\n",
       "  <clipPath id=\"clip180\">\n",
       "    <rect x=\"0\" y=\"0\" width=\"2400\" height=\"1600\"/>\n",
       "  </clipPath>\n",
       "</defs>\n",
       "<path clip-path=\"url(#clip180)\" d=\"\n",
       "M0 1600 L2400 1600 L2400 0 L0 0  Z\n",
       "  \" fill=\"#ffffff\" fill-rule=\"evenodd\" fill-opacity=\"1\"/>\n",
       "<defs>\n",
       "  <clipPath id=\"clip181\">\n",
       "    <rect x=\"480\" y=\"0\" width=\"1681\" height=\"1600\"/>\n",
       "  </clipPath>\n",
       "</defs>\n",
       "<path clip-path=\"url(#clip180)\" d=\"\n",
       "M186.274 1486.45 L2352.76 1486.45 L2352.76 47.2441 L186.274 47.2441  Z\n",
       "  \" fill=\"#ffffff\" fill-rule=\"evenodd\" fill-opacity=\"1\"/>\n",
       "<defs>\n",
       "  <clipPath id=\"clip182\">\n",
       "    <rect x=\"186\" y=\"47\" width=\"2167\" height=\"1440\"/>\n",
       "  </clipPath>\n",
       "</defs>\n",
       "<polyline clip-path=\"url(#clip182)\" style=\"stroke:#000000; stroke-linecap:butt; stroke-linejoin:round; stroke-width:2; stroke-opacity:0.1; fill:none\" points=\"\n",
       "  245.028,1486.45 245.028,47.2441 \n",
       "  \"/>\n",
       "<polyline clip-path=\"url(#clip182)\" style=\"stroke:#000000; stroke-linecap:butt; stroke-linejoin:round; stroke-width:2; stroke-opacity:0.1; fill:none\" points=\"\n",
       "  757.272,1486.45 757.272,47.2441 \n",
       "  \"/>\n",
       "<polyline clip-path=\"url(#clip182)\" style=\"stroke:#000000; stroke-linecap:butt; stroke-linejoin:round; stroke-width:2; stroke-opacity:0.1; fill:none\" points=\"\n",
       "  1269.51,1486.45 1269.51,47.2441 \n",
       "  \"/>\n",
       "<polyline clip-path=\"url(#clip182)\" style=\"stroke:#000000; stroke-linecap:butt; stroke-linejoin:round; stroke-width:2; stroke-opacity:0.1; fill:none\" points=\"\n",
       "  1781.76,1486.45 1781.76,47.2441 \n",
       "  \"/>\n",
       "<polyline clip-path=\"url(#clip182)\" style=\"stroke:#000000; stroke-linecap:butt; stroke-linejoin:round; stroke-width:2; stroke-opacity:0.1; fill:none\" points=\"\n",
       "  2294,1486.45 2294,47.2441 \n",
       "  \"/>\n",
       "<polyline clip-path=\"url(#clip180)\" style=\"stroke:#000000; stroke-linecap:butt; stroke-linejoin:round; stroke-width:4; stroke-opacity:1; fill:none\" points=\"\n",
       "  186.274,1486.45 2352.76,1486.45 \n",
       "  \"/>\n",
       "<polyline clip-path=\"url(#clip180)\" style=\"stroke:#000000; stroke-linecap:butt; stroke-linejoin:round; stroke-width:4; stroke-opacity:1; fill:none\" points=\"\n",
       "  245.028,1486.45 245.028,1467.55 \n",
       "  \"/>\n",
       "<polyline clip-path=\"url(#clip180)\" style=\"stroke:#000000; stroke-linecap:butt; stroke-linejoin:round; stroke-width:4; stroke-opacity:1; fill:none\" points=\"\n",
       "  757.272,1486.45 757.272,1467.55 \n",
       "  \"/>\n",
       "<polyline clip-path=\"url(#clip180)\" style=\"stroke:#000000; stroke-linecap:butt; stroke-linejoin:round; stroke-width:4; stroke-opacity:1; fill:none\" points=\"\n",
       "  1269.51,1486.45 1269.51,1467.55 \n",
       "  \"/>\n",
       "<polyline clip-path=\"url(#clip180)\" style=\"stroke:#000000; stroke-linecap:butt; stroke-linejoin:round; stroke-width:4; stroke-opacity:1; fill:none\" points=\"\n",
       "  1781.76,1486.45 1781.76,1467.55 \n",
       "  \"/>\n",
       "<polyline clip-path=\"url(#clip180)\" style=\"stroke:#000000; stroke-linecap:butt; stroke-linejoin:round; stroke-width:4; stroke-opacity:1; fill:none\" points=\"\n",
       "  2294,1486.45 2294,1467.55 \n",
       "  \"/>\n",
       "<path clip-path=\"url(#clip180)\" d=\"M191.556 1532.02 L221.232 1532.02 L221.232 1535.95 L191.556 1535.95 L191.556 1532.02 Z\" fill=\"#000000\" fill-rule=\"evenodd\" fill-opacity=\"1\" /><path clip-path=\"url(#clip180)\" d=\"M232.135 1544.91 L239.774 1544.91 L239.774 1518.55 L231.464 1520.21 L231.464 1515.95 L239.727 1514.29 L244.403 1514.29 L244.403 1544.91 L252.042 1544.91 L252.042 1548.85 L232.135 1548.85 L232.135 1544.91 Z\" fill=\"#000000\" fill-rule=\"evenodd\" fill-opacity=\"1\" /><path clip-path=\"url(#clip180)\" d=\"M261.487 1542.97 L266.371 1542.97 L266.371 1548.85 L261.487 1548.85 L261.487 1542.97 Z\" fill=\"#000000\" fill-rule=\"evenodd\" fill-opacity=\"1\" /><path clip-path=\"url(#clip180)\" d=\"M286.556 1517.37 Q282.945 1517.37 281.116 1520.93 Q279.311 1524.47 279.311 1531.6 Q279.311 1538.71 281.116 1542.27 Q282.945 1545.82 286.556 1545.82 Q290.19 1545.82 291.996 1542.27 Q293.824 1538.71 293.824 1531.6 Q293.824 1524.47 291.996 1520.93 Q290.19 1517.37 286.556 1517.37 M286.556 1513.66 Q292.366 1513.66 295.422 1518.27 Q298.5 1522.85 298.5 1531.6 Q298.5 1540.33 295.422 1544.94 Q292.366 1549.52 286.556 1549.52 Q280.746 1549.52 277.667 1544.94 Q274.611 1540.33 274.611 1531.6 Q274.611 1522.85 277.667 1518.27 Q280.746 1513.66 286.556 1513.66 Z\" fill=\"#000000\" fill-rule=\"evenodd\" fill-opacity=\"1\" /><path clip-path=\"url(#clip180)\" d=\"M704.297 1532.02 L733.973 1532.02 L733.973 1535.95 L704.297 1535.95 L704.297 1532.02 Z\" fill=\"#000000\" fill-rule=\"evenodd\" fill-opacity=\"1\" /><path clip-path=\"url(#clip180)\" d=\"M754.066 1517.37 Q750.455 1517.37 748.626 1520.93 Q746.82 1524.47 746.82 1531.6 Q746.82 1538.71 748.626 1542.27 Q750.455 1545.82 754.066 1545.82 Q757.7 1545.82 759.505 1542.27 Q761.334 1538.71 761.334 1531.6 Q761.334 1524.47 759.505 1520.93 Q757.7 1517.37 754.066 1517.37 M754.066 1513.66 Q759.876 1513.66 762.931 1518.27 Q766.01 1522.85 766.01 1531.6 Q766.01 1540.33 762.931 1544.94 Q759.876 1549.52 754.066 1549.52 Q748.255 1549.52 745.177 1544.94 Q742.121 1540.33 742.121 1531.6 Q742.121 1522.85 745.177 1518.27 Q748.255 1513.66 754.066 1513.66 Z\" fill=\"#000000\" fill-rule=\"evenodd\" fill-opacity=\"1\" /><path clip-path=\"url(#clip180)\" d=\"M774.228 1542.97 L779.112 1542.97 L779.112 1548.85 L774.228 1548.85 L774.228 1542.97 Z\" fill=\"#000000\" fill-rule=\"evenodd\" fill-opacity=\"1\" /><path clip-path=\"url(#clip180)\" d=\"M789.343 1514.29 L807.7 1514.29 L807.7 1518.22 L793.626 1518.22 L793.626 1526.7 Q794.644 1526.35 795.663 1526.19 Q796.681 1526 797.7 1526 Q803.487 1526 806.866 1529.17 Q810.246 1532.34 810.246 1537.76 Q810.246 1543.34 806.774 1546.44 Q803.301 1549.52 796.982 1549.52 Q794.806 1549.52 792.538 1549.15 Q790.292 1548.78 787.885 1548.04 L787.885 1543.34 Q789.968 1544.47 792.19 1545.03 Q794.413 1545.58 796.889 1545.58 Q800.894 1545.58 803.232 1543.48 Q805.57 1541.37 805.57 1537.76 Q805.57 1534.15 803.232 1532.04 Q800.894 1529.94 796.889 1529.94 Q795.014 1529.94 793.139 1530.35 Q791.288 1530.77 789.343 1531.65 L789.343 1514.29 Z\" fill=\"#000000\" fill-rule=\"evenodd\" fill-opacity=\"1\" /><path clip-path=\"url(#clip180)\" d=\"M1246.9 1517.37 Q1243.29 1517.37 1241.46 1520.93 Q1239.65 1524.47 1239.65 1531.6 Q1239.65 1538.71 1241.46 1542.27 Q1243.29 1545.82 1246.9 1545.82 Q1250.53 1545.82 1252.34 1542.27 Q1254.17 1538.71 1254.17 1531.6 Q1254.17 1524.47 1252.34 1520.93 Q1250.53 1517.37 1246.9 1517.37 M1246.9 1513.66 Q1252.71 1513.66 1255.77 1518.27 Q1258.84 1522.85 1258.84 1531.6 Q1258.84 1540.33 1255.77 1544.94 Q1252.71 1549.52 1246.9 1549.52 Q1241.09 1549.52 1238.01 1544.94 Q1234.95 1540.33 1234.95 1531.6 Q1234.95 1522.85 1238.01 1518.27 Q1241.09 1513.66 1246.9 1513.66 Z\" fill=\"#000000\" fill-rule=\"evenodd\" fill-opacity=\"1\" /><path clip-path=\"url(#clip180)\" d=\"M1267.06 1542.97 L1271.95 1542.97 L1271.95 1548.85 L1267.06 1548.85 L1267.06 1542.97 Z\" fill=\"#000000\" fill-rule=\"evenodd\" fill-opacity=\"1\" /><path clip-path=\"url(#clip180)\" d=\"M1292.13 1517.37 Q1288.52 1517.37 1286.69 1520.93 Q1284.89 1524.47 1284.89 1531.6 Q1284.89 1538.71 1286.69 1542.27 Q1288.52 1545.82 1292.13 1545.82 Q1295.76 1545.82 1297.57 1542.27 Q1299.4 1538.71 1299.4 1531.6 Q1299.4 1524.47 1297.57 1520.93 Q1295.76 1517.37 1292.13 1517.37 M1292.13 1513.66 Q1297.94 1513.66 1301 1518.27 Q1304.07 1522.85 1304.07 1531.6 Q1304.07 1540.33 1301 1544.94 Q1297.94 1549.52 1292.13 1549.52 Q1286.32 1549.52 1283.24 1544.94 Q1280.19 1540.33 1280.19 1531.6 Q1280.19 1522.85 1283.24 1518.27 Q1286.32 1513.66 1292.13 1513.66 Z\" fill=\"#000000\" fill-rule=\"evenodd\" fill-opacity=\"1\" /><path clip-path=\"url(#clip180)\" d=\"M1759.64 1517.37 Q1756.03 1517.37 1754.2 1520.93 Q1752.4 1524.47 1752.4 1531.6 Q1752.4 1538.71 1754.2 1542.27 Q1756.03 1545.82 1759.64 1545.82 Q1763.27 1545.82 1765.08 1542.27 Q1766.91 1538.71 1766.91 1531.6 Q1766.91 1524.47 1765.08 1520.93 Q1763.27 1517.37 1759.64 1517.37 M1759.64 1513.66 Q1765.45 1513.66 1768.51 1518.27 Q1771.58 1522.85 1771.58 1531.6 Q1771.58 1540.33 1768.51 1544.94 Q1765.45 1549.52 1759.64 1549.52 Q1753.83 1549.52 1750.75 1544.94 Q1747.7 1540.33 1747.7 1531.6 Q1747.7 1522.85 1750.75 1518.27 Q1753.83 1513.66 1759.64 1513.66 Z\" fill=\"#000000\" fill-rule=\"evenodd\" fill-opacity=\"1\" /><path clip-path=\"url(#clip180)\" d=\"M1779.8 1542.97 L1784.69 1542.97 L1784.69 1548.85 L1779.8 1548.85 L1779.8 1542.97 Z\" fill=\"#000000\" fill-rule=\"evenodd\" fill-opacity=\"1\" /><path clip-path=\"url(#clip180)\" d=\"M1794.92 1514.29 L1813.27 1514.29 L1813.27 1518.22 L1799.2 1518.22 L1799.2 1526.7 Q1800.22 1526.35 1801.24 1526.19 Q1802.26 1526 1803.27 1526 Q1809.06 1526 1812.44 1529.17 Q1815.82 1532.34 1815.82 1537.76 Q1815.82 1543.34 1812.35 1546.44 Q1808.88 1549.52 1802.56 1549.52 Q1800.38 1549.52 1798.11 1549.15 Q1795.87 1548.78 1793.46 1548.04 L1793.46 1543.34 Q1795.54 1544.47 1797.77 1545.03 Q1799.99 1545.58 1802.46 1545.58 Q1806.47 1545.58 1808.81 1543.48 Q1811.14 1541.37 1811.14 1537.76 Q1811.14 1534.15 1808.81 1532.04 Q1806.47 1529.94 1802.46 1529.94 Q1800.59 1529.94 1798.71 1530.35 Q1796.86 1530.77 1794.92 1531.65 L1794.92 1514.29 Z\" fill=\"#000000\" fill-rule=\"evenodd\" fill-opacity=\"1\" /><path clip-path=\"url(#clip180)\" d=\"M2261.15 1544.91 L2268.79 1544.91 L2268.79 1518.55 L2260.48 1520.21 L2260.48 1515.95 L2268.75 1514.29 L2273.42 1514.29 L2273.42 1544.91 L2281.06 1544.91 L2281.06 1548.85 L2261.15 1548.85 L2261.15 1544.91 Z\" fill=\"#000000\" fill-rule=\"evenodd\" fill-opacity=\"1\" /><path clip-path=\"url(#clip180)\" d=\"M2290.51 1542.97 L2295.39 1542.97 L2295.39 1548.85 L2290.51 1548.85 L2290.51 1542.97 Z\" fill=\"#000000\" fill-rule=\"evenodd\" fill-opacity=\"1\" /><path clip-path=\"url(#clip180)\" d=\"M2315.58 1517.37 Q2311.96 1517.37 2310.14 1520.93 Q2308.33 1524.47 2308.33 1531.6 Q2308.33 1538.71 2310.14 1542.27 Q2311.96 1545.82 2315.58 1545.82 Q2319.21 1545.82 2321.02 1542.27 Q2322.84 1538.71 2322.84 1531.6 Q2322.84 1524.47 2321.02 1520.93 Q2319.21 1517.37 2315.58 1517.37 M2315.58 1513.66 Q2321.39 1513.66 2324.44 1518.27 Q2327.52 1522.85 2327.52 1531.6 Q2327.52 1540.33 2324.44 1544.94 Q2321.39 1549.52 2315.58 1549.52 Q2309.77 1549.52 2306.69 1544.94 Q2303.63 1540.33 2303.63 1531.6 Q2303.63 1522.85 2306.69 1518.27 Q2309.77 1513.66 2315.58 1513.66 Z\" fill=\"#000000\" fill-rule=\"evenodd\" fill-opacity=\"1\" /><polyline clip-path=\"url(#clip182)\" style=\"stroke:#000000; stroke-linecap:butt; stroke-linejoin:round; stroke-width:2; stroke-opacity:0.1; fill:none\" points=\"\n",
       "  186.274,1445.72 2352.76,1445.72 \n",
       "  \"/>\n",
       "<polyline clip-path=\"url(#clip182)\" style=\"stroke:#000000; stroke-linecap:butt; stroke-linejoin:round; stroke-width:2; stroke-opacity:0.1; fill:none\" points=\"\n",
       "  186.274,1106.28 2352.76,1106.28 \n",
       "  \"/>\n",
       "<polyline clip-path=\"url(#clip182)\" style=\"stroke:#000000; stroke-linecap:butt; stroke-linejoin:round; stroke-width:2; stroke-opacity:0.1; fill:none\" points=\"\n",
       "  186.274,766.846 2352.76,766.846 \n",
       "  \"/>\n",
       "<polyline clip-path=\"url(#clip182)\" style=\"stroke:#000000; stroke-linecap:butt; stroke-linejoin:round; stroke-width:2; stroke-opacity:0.1; fill:none\" points=\"\n",
       "  186.274,427.411 2352.76,427.411 \n",
       "  \"/>\n",
       "<polyline clip-path=\"url(#clip182)\" style=\"stroke:#000000; stroke-linecap:butt; stroke-linejoin:round; stroke-width:2; stroke-opacity:0.1; fill:none\" points=\"\n",
       "  186.274,87.9763 2352.76,87.9763 \n",
       "  \"/>\n",
       "<polyline clip-path=\"url(#clip180)\" style=\"stroke:#000000; stroke-linecap:butt; stroke-linejoin:round; stroke-width:4; stroke-opacity:1; fill:none\" points=\"\n",
       "  186.274,1486.45 186.274,47.2441 \n",
       "  \"/>\n",
       "<polyline clip-path=\"url(#clip180)\" style=\"stroke:#000000; stroke-linecap:butt; stroke-linejoin:round; stroke-width:4; stroke-opacity:1; fill:none\" points=\"\n",
       "  186.274,1445.72 205.172,1445.72 \n",
       "  \"/>\n",
       "<polyline clip-path=\"url(#clip180)\" style=\"stroke:#000000; stroke-linecap:butt; stroke-linejoin:round; stroke-width:4; stroke-opacity:1; fill:none\" points=\"\n",
       "  186.274,1106.28 205.172,1106.28 \n",
       "  \"/>\n",
       "<polyline clip-path=\"url(#clip180)\" style=\"stroke:#000000; stroke-linecap:butt; stroke-linejoin:round; stroke-width:4; stroke-opacity:1; fill:none\" points=\"\n",
       "  186.274,766.846 205.172,766.846 \n",
       "  \"/>\n",
       "<polyline clip-path=\"url(#clip180)\" style=\"stroke:#000000; stroke-linecap:butt; stroke-linejoin:round; stroke-width:4; stroke-opacity:1; fill:none\" points=\"\n",
       "  186.274,427.411 205.172,427.411 \n",
       "  \"/>\n",
       "<polyline clip-path=\"url(#clip180)\" style=\"stroke:#000000; stroke-linecap:butt; stroke-linejoin:round; stroke-width:4; stroke-opacity:1; fill:none\" points=\"\n",
       "  186.274,87.9763 205.172,87.9763 \n",
       "  \"/>\n",
       "<path clip-path=\"url(#clip180)\" d=\"M62.9365 1431.51 Q59.3254 1431.51 57.4967 1435.08 Q55.6912 1438.62 55.6912 1445.75 Q55.6912 1452.86 57.4967 1456.42 Q59.3254 1459.96 62.9365 1459.96 Q66.5707 1459.96 68.3763 1456.42 Q70.205 1452.86 70.205 1445.75 Q70.205 1438.62 68.3763 1435.08 Q66.5707 1431.51 62.9365 1431.51 M62.9365 1427.81 Q68.7467 1427.81 71.8022 1432.42 Q74.8809 1437 74.8809 1445.75 Q74.8809 1454.48 71.8022 1459.08 Q68.7467 1463.67 62.9365 1463.67 Q57.1264 1463.67 54.0477 1459.08 Q50.9921 1454.48 50.9921 1445.75 Q50.9921 1437 54.0477 1432.42 Q57.1264 1427.81 62.9365 1427.81 Z\" fill=\"#000000\" fill-rule=\"evenodd\" fill-opacity=\"1\" /><path clip-path=\"url(#clip180)\" d=\"M83.0984 1457.12 L87.9827 1457.12 L87.9827 1463 L83.0984 1463 L83.0984 1457.12 Z\" fill=\"#000000\" fill-rule=\"evenodd\" fill-opacity=\"1\" /><path clip-path=\"url(#clip180)\" d=\"M108.168 1431.51 Q104.557 1431.51 102.728 1435.08 Q100.922 1438.62 100.922 1445.75 Q100.922 1452.86 102.728 1456.42 Q104.557 1459.96 108.168 1459.96 Q111.802 1459.96 113.608 1456.42 Q115.436 1452.86 115.436 1445.75 Q115.436 1438.62 113.608 1435.08 Q111.802 1431.51 108.168 1431.51 M108.168 1427.81 Q113.978 1427.81 117.033 1432.42 Q120.112 1437 120.112 1445.75 Q120.112 1454.48 117.033 1459.08 Q113.978 1463.67 108.168 1463.67 Q102.358 1463.67 99.2789 1459.08 Q96.2234 1454.48 96.2234 1445.75 Q96.2234 1437 99.2789 1432.42 Q102.358 1427.81 108.168 1427.81 Z\" fill=\"#000000\" fill-rule=\"evenodd\" fill-opacity=\"1\" /><path clip-path=\"url(#clip180)\" d=\"M138.33 1431.51 Q134.719 1431.51 132.89 1435.08 Q131.084 1438.62 131.084 1445.75 Q131.084 1452.86 132.89 1456.42 Q134.719 1459.96 138.33 1459.96 Q141.964 1459.96 143.769 1456.42 Q145.598 1452.86 145.598 1445.75 Q145.598 1438.62 143.769 1435.08 Q141.964 1431.51 138.33 1431.51 M138.33 1427.81 Q144.14 1427.81 147.195 1432.42 Q150.274 1437 150.274 1445.75 Q150.274 1454.48 147.195 1459.08 Q144.14 1463.67 138.33 1463.67 Q132.519 1463.67 129.441 1459.08 Q126.385 1454.48 126.385 1445.75 Q126.385 1437 129.441 1432.42 Q132.519 1427.81 138.33 1427.81 Z\" fill=\"#000000\" fill-rule=\"evenodd\" fill-opacity=\"1\" /><path clip-path=\"url(#clip180)\" d=\"M63.9319 1092.08 Q60.3208 1092.08 58.4921 1095.64 Q56.6865 1099.19 56.6865 1106.32 Q56.6865 1113.42 58.4921 1116.99 Q60.3208 1120.53 63.9319 1120.53 Q67.5661 1120.53 69.3717 1116.99 Q71.2004 1113.42 71.2004 1106.32 Q71.2004 1099.19 69.3717 1095.64 Q67.5661 1092.08 63.9319 1092.08 M63.9319 1088.38 Q69.742 1088.38 72.7976 1092.98 Q75.8763 1097.57 75.8763 1106.32 Q75.8763 1115.04 72.7976 1119.65 Q69.742 1124.23 63.9319 1124.23 Q58.1217 1124.23 55.043 1119.65 Q51.9875 1115.04 51.9875 1106.32 Q51.9875 1097.57 55.043 1092.98 Q58.1217 1088.38 63.9319 1088.38 Z\" fill=\"#000000\" fill-rule=\"evenodd\" fill-opacity=\"1\" /><path clip-path=\"url(#clip180)\" d=\"M84.0938 1117.68 L88.978 1117.68 L88.978 1123.56 L84.0938 1123.56 L84.0938 1117.68 Z\" fill=\"#000000\" fill-rule=\"evenodd\" fill-opacity=\"1\" /><path clip-path=\"url(#clip180)\" d=\"M103.191 1119.63 L119.51 1119.63 L119.51 1123.56 L97.566 1123.56 L97.566 1119.63 Q100.228 1116.87 104.811 1112.24 Q109.418 1107.59 110.598 1106.25 Q112.844 1103.72 113.723 1101.99 Q114.626 1100.23 114.626 1098.54 Q114.626 1095.78 112.682 1094.05 Q110.76 1092.31 107.658 1092.31 Q105.459 1092.31 103.006 1093.07 Q100.575 1093.84 97.7974 1095.39 L97.7974 1090.67 Q100.621 1089.53 103.075 1088.95 Q105.529 1088.38 107.566 1088.38 Q112.936 1088.38 116.131 1091.06 Q119.325 1093.75 119.325 1098.24 Q119.325 1100.37 118.515 1102.29 Q117.728 1104.19 115.621 1106.78 Q115.043 1107.45 111.941 1110.67 Q108.839 1113.86 103.191 1119.63 Z\" fill=\"#000000\" fill-rule=\"evenodd\" fill-opacity=\"1\" /><path clip-path=\"url(#clip180)\" d=\"M129.371 1089 L147.728 1089 L147.728 1092.94 L133.654 1092.94 L133.654 1101.41 Q134.672 1101.06 135.691 1100.9 Q136.709 1100.71 137.728 1100.71 Q143.515 1100.71 146.894 1103.89 Q150.274 1107.06 150.274 1112.47 Q150.274 1118.05 146.802 1121.15 Q143.33 1124.23 137.01 1124.23 Q134.834 1124.23 132.566 1123.86 Q130.32 1123.49 127.913 1122.75 L127.913 1118.05 Q129.996 1119.19 132.219 1119.74 Q134.441 1120.3 136.918 1120.3 Q140.922 1120.3 143.26 1118.19 Q145.598 1116.08 145.598 1112.47 Q145.598 1108.86 143.26 1106.76 Q140.922 1104.65 136.918 1104.65 Q135.043 1104.65 133.168 1105.07 Q131.316 1105.48 129.371 1106.36 L129.371 1089 Z\" fill=\"#000000\" fill-rule=\"evenodd\" fill-opacity=\"1\" /><path clip-path=\"url(#clip180)\" d=\"M62.9365 752.645 Q59.3254 752.645 57.4967 756.209 Q55.6912 759.751 55.6912 766.881 Q55.6912 773.987 57.4967 777.552 Q59.3254 781.094 62.9365 781.094 Q66.5707 781.094 68.3763 777.552 Q70.205 773.987 70.205 766.881 Q70.205 759.751 68.3763 756.209 Q66.5707 752.645 62.9365 752.645 M62.9365 748.941 Q68.7467 748.941 71.8022 753.547 Q74.8809 758.131 74.8809 766.881 Q74.8809 775.608 71.8022 780.214 Q68.7467 784.797 62.9365 784.797 Q57.1264 784.797 54.0477 780.214 Q50.9921 775.608 50.9921 766.881 Q50.9921 758.131 54.0477 753.547 Q57.1264 748.941 62.9365 748.941 Z\" fill=\"#000000\" fill-rule=\"evenodd\" fill-opacity=\"1\" /><path clip-path=\"url(#clip180)\" d=\"M83.0984 778.246 L87.9827 778.246 L87.9827 784.126 L83.0984 784.126 L83.0984 778.246 Z\" fill=\"#000000\" fill-rule=\"evenodd\" fill-opacity=\"1\" /><path clip-path=\"url(#clip180)\" d=\"M98.2141 749.566 L116.57 749.566 L116.57 753.501 L102.496 753.501 L102.496 761.973 Q103.515 761.626 104.534 761.464 Q105.552 761.279 106.571 761.279 Q112.358 761.279 115.737 764.45 Q119.117 767.621 119.117 773.038 Q119.117 778.617 115.645 781.719 Q112.172 784.797 105.853 784.797 Q103.677 784.797 101.409 784.427 Q99.1632 784.057 96.7558 783.316 L96.7558 778.617 Q98.8391 779.751 101.061 780.307 Q103.284 780.862 105.76 780.862 Q109.765 780.862 112.103 778.756 Q114.441 776.649 114.441 773.038 Q114.441 769.427 112.103 767.321 Q109.765 765.214 105.76 765.214 Q103.885 765.214 102.01 765.631 Q100.159 766.047 98.2141 766.927 L98.2141 749.566 Z\" fill=\"#000000\" fill-rule=\"evenodd\" fill-opacity=\"1\" /><path clip-path=\"url(#clip180)\" d=\"M138.33 752.645 Q134.719 752.645 132.89 756.209 Q131.084 759.751 131.084 766.881 Q131.084 773.987 132.89 777.552 Q134.719 781.094 138.33 781.094 Q141.964 781.094 143.769 777.552 Q145.598 773.987 145.598 766.881 Q145.598 759.751 143.769 756.209 Q141.964 752.645 138.33 752.645 M138.33 748.941 Q144.14 748.941 147.195 753.547 Q150.274 758.131 150.274 766.881 Q150.274 775.608 147.195 780.214 Q144.14 784.797 138.33 784.797 Q132.519 784.797 129.441 780.214 Q126.385 775.608 126.385 766.881 Q126.385 758.131 129.441 753.547 Q132.519 748.941 138.33 748.941 Z\" fill=\"#000000\" fill-rule=\"evenodd\" fill-opacity=\"1\" /><path clip-path=\"url(#clip180)\" d=\"M63.9319 413.21 Q60.3208 413.21 58.4921 416.775 Q56.6865 420.316 56.6865 427.446 Q56.6865 434.552 58.4921 438.117 Q60.3208 441.659 63.9319 441.659 Q67.5661 441.659 69.3717 438.117 Q71.2004 434.552 71.2004 427.446 Q71.2004 420.316 69.3717 416.775 Q67.5661 413.21 63.9319 413.21 M63.9319 409.506 Q69.742 409.506 72.7976 414.113 Q75.8763 418.696 75.8763 427.446 Q75.8763 436.173 72.7976 440.779 Q69.742 445.362 63.9319 445.362 Q58.1217 445.362 55.043 440.779 Q51.9875 436.173 51.9875 427.446 Q51.9875 418.696 55.043 414.113 Q58.1217 409.506 63.9319 409.506 Z\" fill=\"#000000\" fill-rule=\"evenodd\" fill-opacity=\"1\" /><path clip-path=\"url(#clip180)\" d=\"M84.0938 438.812 L88.978 438.812 L88.978 444.691 L84.0938 444.691 L84.0938 438.812 Z\" fill=\"#000000\" fill-rule=\"evenodd\" fill-opacity=\"1\" /><path clip-path=\"url(#clip180)\" d=\"M97.9826 410.131 L120.205 410.131 L120.205 412.122 L107.658 444.691 L102.774 444.691 L114.58 414.066 L97.9826 414.066 L97.9826 410.131 Z\" fill=\"#000000\" fill-rule=\"evenodd\" fill-opacity=\"1\" /><path clip-path=\"url(#clip180)\" d=\"M129.371 410.131 L147.728 410.131 L147.728 414.066 L133.654 414.066 L133.654 422.538 Q134.672 422.191 135.691 422.029 Q136.709 421.844 137.728 421.844 Q143.515 421.844 146.894 425.015 Q150.274 428.187 150.274 433.603 Q150.274 439.182 146.802 442.284 Q143.33 445.362 137.01 445.362 Q134.834 445.362 132.566 444.992 Q130.32 444.622 127.913 443.881 L127.913 439.182 Q129.996 440.316 132.219 440.872 Q134.441 441.427 136.918 441.427 Q140.922 441.427 143.26 439.321 Q145.598 437.214 145.598 433.603 Q145.598 429.992 143.26 427.886 Q140.922 425.779 136.918 425.779 Q135.043 425.779 133.168 426.196 Q131.316 426.613 129.371 427.492 L129.371 410.131 Z\" fill=\"#000000\" fill-rule=\"evenodd\" fill-opacity=\"1\" /><path clip-path=\"url(#clip180)\" d=\"M53.7467 101.321 L61.3856 101.321 L61.3856 74.9555 L53.0754 76.6222 L53.0754 72.3629 L61.3393 70.6963 L66.0152 70.6963 L66.0152 101.321 L73.654 101.321 L73.654 105.256 L53.7467 105.256 L53.7467 101.321 Z\" fill=\"#000000\" fill-rule=\"evenodd\" fill-opacity=\"1\" /><path clip-path=\"url(#clip180)\" d=\"M83.0984 99.3767 L87.9827 99.3767 L87.9827 105.256 L83.0984 105.256 L83.0984 99.3767 Z\" fill=\"#000000\" fill-rule=\"evenodd\" fill-opacity=\"1\" /><path clip-path=\"url(#clip180)\" d=\"M108.168 73.775 Q104.557 73.775 102.728 77.3398 Q100.922 80.8814 100.922 88.011 Q100.922 95.1174 102.728 98.6822 Q104.557 102.224 108.168 102.224 Q111.802 102.224 113.608 98.6822 Q115.436 95.1174 115.436 88.011 Q115.436 80.8814 113.608 77.3398 Q111.802 73.775 108.168 73.775 M108.168 70.0713 Q113.978 70.0713 117.033 74.6777 Q120.112 79.261 120.112 88.011 Q120.112 96.7378 117.033 101.344 Q113.978 105.928 108.168 105.928 Q102.358 105.928 99.2789 101.344 Q96.2234 96.7378 96.2234 88.011 Q96.2234 79.261 99.2789 74.6777 Q102.358 70.0713 108.168 70.0713 Z\" fill=\"#000000\" fill-rule=\"evenodd\" fill-opacity=\"1\" /><path clip-path=\"url(#clip180)\" d=\"M138.33 73.775 Q134.719 73.775 132.89 77.3398 Q131.084 80.8814 131.084 88.011 Q131.084 95.1174 132.89 98.6822 Q134.719 102.224 138.33 102.224 Q141.964 102.224 143.769 98.6822 Q145.598 95.1174 145.598 88.011 Q145.598 80.8814 143.769 77.3398 Q141.964 73.775 138.33 73.775 M138.33 70.0713 Q144.14 70.0713 147.195 74.6777 Q150.274 79.261 150.274 88.011 Q150.274 96.7378 147.195 101.344 Q144.14 105.928 138.33 105.928 Q132.519 105.928 129.441 101.344 Q126.385 96.7378 126.385 88.011 Q126.385 79.261 129.441 74.6777 Q132.519 70.0713 138.33 70.0713 Z\" fill=\"#000000\" fill-rule=\"evenodd\" fill-opacity=\"1\" /><polyline clip-path=\"url(#clip182)\" style=\"stroke:#009af9; stroke-linecap:butt; stroke-linejoin:round; stroke-width:12; stroke-opacity:1; fill:none\" points=\"\n",
       "  247.59,1445.72 252.712,1445.72 257.834,1445.72 262.957,1445.72 268.079,1445.72 273.202,1445.72 278.324,1445.72 283.447,1445.72 288.569,1445.72 293.691,1445.72 \n",
       "  298.814,1445.72 303.936,1445.72 309.059,1445.72 314.181,1445.72 319.304,1445.72 324.426,1445.72 329.548,1445.72 334.671,1423.09 339.793,1395.93 344.916,1368.78 \n",
       "  350.038,1341.62 355.161,1314.47 360.283,1287.31 365.405,1260.16 370.528,1233 375.65,1205.85 380.773,1178.69 385.895,1151.54 391.018,1124.38 396.14,1097.23 \n",
       "  401.263,1070.07 406.385,1042.92 411.507,1015.76 416.63,988.61 421.752,961.455 426.875,934.301 431.997,907.146 437.12,879.991 442.242,852.836 447.364,825.681 \n",
       "  452.487,798.527 457.609,771.372 462.732,744.217 467.854,717.062 472.977,689.907 478.099,662.753 483.221,635.598 488.344,608.443 493.466,581.288 498.589,554.133 \n",
       "  503.711,526.979 508.834,499.824 513.956,472.669 519.078,445.514 524.201,418.36 529.323,391.205 534.446,364.05 539.568,336.895 544.691,309.74 549.813,282.586 \n",
       "  554.936,255.431 560.058,228.276 565.18,201.121 570.303,173.966 575.425,146.812 580.548,119.657 585.67,92.5021 590.793,110.605 595.915,137.76 601.037,164.915 \n",
       "  606.16,192.07 611.282,219.224 616.405,246.379 621.527,273.534 626.65,300.689 631.772,327.844 636.894,354.998 642.017,382.153 647.139,409.308 652.262,436.463 \n",
       "  657.384,463.618 662.507,490.772 667.629,517.927 672.751,545.082 677.874,572.237 682.996,599.391 688.119,626.546 693.241,653.701 698.364,680.856 703.486,708.011 \n",
       "  708.609,735.165 713.731,762.32 718.853,789.475 723.976,816.63 729.098,843.785 734.221,870.939 739.343,898.094 744.466,925.249 749.588,952.404 754.71,979.558 \n",
       "  759.833,1006.71 764.955,1033.87 770.078,1061.02 775.2,1088.18 780.323,1115.33 785.445,1142.49 790.567,1169.64 795.69,1196.8 800.812,1223.95 805.935,1251.11 \n",
       "  811.057,1278.26 816.18,1305.42 821.302,1332.57 826.424,1359.73 831.547,1386.88 836.669,1414.04 841.792,1441.19 846.914,1445.72 852.037,1445.72 857.159,1445.72 \n",
       "  862.282,1445.72 867.404,1445.72 872.526,1445.72 877.649,1445.72 882.771,1445.72 887.894,1445.72 893.016,1445.72 898.139,1445.72 903.261,1445.72 908.383,1445.72 \n",
       "  913.506,1445.72 918.628,1445.72 923.751,1445.72 928.873,1445.72 933.996,1445.72 939.118,1445.72 944.24,1445.72 949.363,1445.72 954.485,1445.72 959.608,1445.72 \n",
       "  964.73,1445.72 969.853,1445.72 974.975,1445.72 980.097,1445.72 985.22,1445.72 990.342,1445.72 995.465,1445.72 1000.59,1445.72 1005.71,1445.72 1010.83,1445.72 \n",
       "  1015.95,1445.72 1021.08,1445.72 1026.2,1445.72 1031.32,1445.72 1036.44,1445.72 1041.57,1445.72 1046.69,1445.72 1051.81,1445.72 1056.93,1445.72 1062.06,1445.72 \n",
       "  1067.18,87.9763 1072.3,87.9763 1077.42,87.9763 1082.55,87.9763 1087.67,87.9763 1092.79,87.9763 1097.91,87.9763 1103.04,87.9763 1108.16,87.9763 1113.28,87.9763 \n",
       "  1118.4,87.9763 1123.53,87.9763 1128.65,87.9763 1133.77,87.9763 1138.89,87.9763 1144.02,87.9763 1149.14,87.9763 1154.26,87.9763 1159.38,87.9763 1164.51,87.9763 \n",
       "  1169.63,87.9763 1174.75,87.9763 1179.87,87.9763 1184.99,87.9763 1190.12,87.9763 1195.24,87.9763 1200.36,87.9763 1205.48,87.9763 1210.61,87.9763 1215.73,87.9763 \n",
       "  1220.85,87.9763 1225.97,87.9763 1231.1,87.9763 1236.22,87.9763 1241.34,87.9763 1246.46,87.9763 1251.59,87.9763 1256.71,87.9763 1261.83,87.9763 1266.95,87.9763 \n",
       "  1272.08,87.9763 1277.2,87.9763 1282.32,87.9763 1287.44,87.9763 1292.57,87.9763 1297.69,87.9763 1302.81,87.9763 1307.93,87.9763 1313.06,87.9763 1318.18,87.9763 \n",
       "  1323.3,87.9763 1328.42,87.9763 1333.55,87.9763 1338.67,87.9763 1343.79,87.9763 1348.91,87.9763 1354.04,87.9763 1359.16,87.9763 1364.28,87.9763 1369.4,87.9763 \n",
       "  1374.52,87.9763 1379.65,87.9763 1384.77,87.9763 1389.89,87.9763 1395.01,87.9763 1400.14,87.9763 1405.26,87.9763 1410.38,87.9763 1415.5,87.9763 1420.63,87.9763 \n",
       "  1425.75,87.9763 1430.87,87.9763 1435.99,87.9763 1441.12,87.9763 1446.24,87.9763 1451.36,87.9763 1456.48,87.9763 1461.61,87.9763 1466.73,87.9763 1471.85,87.9763 \n",
       "  1476.97,1445.72 1482.1,1445.72 1487.22,1445.72 1492.34,1445.72 1497.46,1445.72 1502.59,1445.72 1507.71,1445.72 1512.83,1445.72 1517.95,1445.72 1523.08,1445.72 \n",
       "  1528.2,1445.72 1533.32,1445.72 1538.44,1445.72 1543.57,1445.72 1548.69,1445.72 1553.81,1445.72 1558.93,1445.72 1564.05,1445.72 1569.18,1445.72 1574.3,1445.72 \n",
       "  1579.42,1445.72 1584.54,1445.72 1589.67,1445.72 1594.79,1445.72 1599.91,1445.72 1605.03,1445.72 1610.16,1445.72 1615.28,1445.72 1620.4,1445.72 1625.52,1445.72 \n",
       "  1630.65,1445.72 1635.77,1445.72 1640.89,1445.72 1646.01,1445.72 1651.14,1445.72 1656.26,1445.72 1661.38,1445.72 1666.5,1445.72 1671.63,1445.72 1676.75,1445.72 \n",
       "  1681.87,1445.72 1686.99,1445.72 1692.12,1445.72 1697.24,1445.68 1702.36,1443.89 1707.48,1439.43 1712.61,1432.32 1717.73,1422.58 1722.85,1410.26 1727.97,1395.39 \n",
       "  1733.1,1378.05 1738.22,1358.29 1743.34,1336.19 1748.46,1311.85 1753.58,1285.36 1758.71,1256.83 1763.83,1226.36 1768.95,1194.07 1774.07,1160.1 1779.2,1124.58 \n",
       "  1784.32,1087.65 1789.44,1049.45 1794.56,1010.13 1799.69,969.856 1804.81,928.779 1809.93,887.063 1815.05,844.873 1820.18,802.375 1825.3,759.737 1830.42,717.127 \n",
       "  1835.54,674.713 1840.67,632.662 1845.79,591.142 1850.91,550.314 1856.03,510.341 1861.16,471.381 1866.28,433.586 1871.4,397.107 1876.52,362.087 1881.65,328.664 \n",
       "  1886.77,296.971 1891.89,267.132 1897.01,239.265 1902.14,213.48 1907.26,189.88 1912.38,168.556 1917.5,149.593 1922.63,133.067 1927.75,119.041 1932.87,107.572 \n",
       "  1937.99,98.7054 1943.11,92.4753 1948.24,88.9066 1953.36,88.0135 1958.48,89.7994 1963.6,94.2573 1968.73,101.37 1973.85,111.108 1978.97,123.435 1984.09,138.3 \n",
       "  1989.22,155.647 1994.34,175.405 1999.46,197.498 2004.58,221.838 2009.71,248.328 2014.83,276.865 2019.95,307.335 2025.07,339.619 2030.2,373.59 2035.32,409.112 \n",
       "  2040.44,446.046 2045.56,484.246 2050.69,523.561 2055.81,563.836 2060.93,604.913 2066.05,646.629 2071.18,688.819 2076.3,731.317 2081.42,773.955 2086.54,816.565 \n",
       "  2091.67,858.979 2096.79,901.03 2101.91,942.55 2107.03,983.378 2112.16,1023.35 2117.28,1062.31 2122.4,1100.11 2127.52,1136.58 2132.64,1171.6 2137.77,1205.03 \n",
       "  2142.89,1236.72 2148.01,1266.56 2153.13,1294.43 2158.26,1320.21 2163.38,1343.81 2168.5,1365.14 2173.62,1384.1 2178.75,1400.63 2183.87,1414.65 2188.99,1426.12 \n",
       "  2194.11,1434.99 2199.24,1441.22 2204.36,1444.79 2209.48,1445.72 2214.6,1445.72 2219.73,1445.72 2224.85,1445.72 2229.97,1445.72 2235.09,1445.72 2240.22,1445.72 \n",
       "  2245.34,1445.72 2250.46,1445.72 2255.58,1445.72 2260.71,1445.72 2265.83,1445.72 2270.95,1445.72 2276.07,1445.72 2281.2,1445.72 2286.32,1445.72 2291.44,1445.72 \n",
       "  \n",
       "  \"/>\n",
       "<polyline clip-path=\"url(#clip182)\" style=\"stroke:#e26f46; stroke-linecap:butt; stroke-linejoin:round; stroke-width:12; stroke-opacity:1; fill:none\" points=\"\n",
       "  247.59,1445.72 252.712,1445.72 257.834,1445.72 262.957,1445.72 268.079,1445.72 273.202,1445.72 278.324,1445.72 283.447,1445.72 288.569,1445.72 293.691,1445.72 \n",
       "  298.814,1445.72 303.936,1445.72 309.059,1445.72 314.181,1445.72 319.304,1445.72 324.426,1445.72 329.548,1445.72 334.671,1445.55 339.793,1444.6 344.916,1441.62 \n",
       "  350.038,1435.09 355.161,1423.92 360.283,1407.96 365.405,1387.89 370.528,1364.83 375.65,1339.83 380.773,1313.72 385.895,1287.02 391.018,1260.06 396.14,1232.97 \n",
       "  401.263,1205.84 406.385,1178.69 411.507,1151.54 416.63,1124.38 421.752,1097.23 426.875,1070.07 431.997,1042.92 437.12,1015.76 442.242,988.61 447.364,961.455 \n",
       "  452.487,934.301 457.609,907.146 462.732,879.991 467.854,852.836 472.977,825.681 478.099,798.527 483.221,771.372 488.344,744.217 493.466,717.062 498.589,689.907 \n",
       "  503.711,662.753 508.834,635.598 513.956,608.443 519.078,581.288 524.201,554.133 529.323,526.979 534.446,499.824 539.568,472.669 544.691,445.514 549.813,418.36 \n",
       "  554.936,391.205 560.058,364.05 565.18,336.895 570.303,309.74 575.425,282.586 580.548,255.431 585.67,228.276 590.793,201.457 595.915,176.196 601.037,155.005 \n",
       "  606.16,140.903 611.282,136.097 616.405,140.866 621.527,153.84 626.65,172.801 631.772,195.645 636.894,220.718 642.017,246.958 647.139,273.739 652.262,300.756 \n",
       "  657.384,327.863 662.507,355.004 667.629,382.154 672.751,409.308 677.874,436.463 682.996,463.618 688.119,490.772 693.241,517.927 698.364,545.082 703.486,572.237 \n",
       "  708.609,599.391 713.731,626.546 718.853,653.701 723.976,680.856 729.098,708.011 734.221,735.165 739.343,762.32 744.466,789.475 749.588,816.63 754.71,843.785 \n",
       "  759.833,870.939 764.955,898.094 770.078,925.249 775.2,952.404 780.323,979.558 785.445,1006.71 790.567,1033.87 795.69,1061.02 800.812,1088.18 805.935,1115.33 \n",
       "  811.057,1142.49 816.18,1169.64 821.302,1196.8 826.424,1223.95 831.547,1251.11 836.669,1278.26 841.792,1305.42 846.914,1332.4 852.037,1358.61 857.159,1382.78 \n",
       "  862.282,1403.41 867.404,1419.39 872.526,1430.59 877.649,1437.68 882.771,1441.77 887.894,1443.93 893.016,1444.97 898.139,1445.43 903.261,1445.61 908.383,1445.68 \n",
       "  913.506,1445.71 918.628,1445.71 923.751,1445.72 928.873,1445.72 933.996,1445.72 939.118,1445.72 944.24,1445.72 949.363,1445.72 954.485,1445.72 959.608,1445.72 \n",
       "  964.73,1445.72 969.853,1445.72 974.975,1445.72 980.097,1445.72 985.22,1445.72 990.342,1445.72 995.465,1445.72 1000.59,1445.72 1005.71,1445.72 1010.83,1445.72 \n",
       "  1015.95,1445.72 1021.08,1445.72 1026.2,1445.72 1031.32,1445.72 1036.44,1445.72 1041.57,1445.72 1046.69,1445.72 1051.81,1445.72 1056.93,1445.72 1062.06,1445.72 \n",
       "  1067.18,1435.65 1072.3,1390.9 1077.42,1277.78 1082.55,1087.73 1087.67,846.849 1092.79,607.753 1097.91,409.459 1103.04,269.501 1108.16,180.975 1113.28,131.826 \n",
       "  1118.4,106.652 1123.53,95.4663 1128.65,90.6015 1133.77,88.8827 1138.89,88.2211 1144.02,88.0574 1149.14,87.9884 1154.26,87.9816 1159.38,87.9764 1164.51,87.9764 \n",
       "  1169.63,87.9763 1174.75,87.9763 1179.87,87.9763 1184.99,87.9763 1190.12,87.9763 1195.24,87.9763 1200.36,87.9763 1205.48,87.9763 1210.61,87.9763 1215.73,87.9763 \n",
       "  1220.85,87.9763 1225.97,87.9763 1231.1,87.9763 1236.22,87.9763 1241.34,87.9763 1246.46,87.9763 1251.59,87.9763 1256.71,87.9763 1261.83,87.9763 1266.95,87.9763 \n",
       "  1272.08,87.9763 1277.2,87.9763 1282.32,87.9763 1287.44,87.9763 1292.57,87.9763 1297.69,87.9763 1302.81,87.9763 1307.93,87.9763 1313.06,87.9763 1318.18,87.9763 \n",
       "  1323.3,87.9763 1328.42,87.9763 1333.55,87.9763 1338.67,87.9763 1343.79,87.9763 1348.91,87.9763 1354.04,87.9763 1359.16,87.9763 1364.28,87.9763 1369.4,87.9763 \n",
       "  1374.52,87.9763 1379.65,87.9763 1384.77,87.9763 1389.89,87.9763 1395.01,87.9763 1400.14,87.9763 1405.26,87.9763 1410.38,87.9763 1415.5,87.9763 1420.63,87.9763 \n",
       "  1425.75,87.9763 1430.87,87.9763 1435.99,87.9763 1441.12,87.9763 1446.24,87.9763 1451.36,87.9763 1456.48,87.9763 1461.61,87.9763 1466.73,87.9763 1471.85,87.9763 \n",
       "  1476.97,98.045 1482.1,142.795 1487.22,255.912 1492.34,445.96 1497.46,686.843 1502.59,925.939 1507.71,1124.23 1512.83,1264.19 1517.95,1352.72 1523.08,1401.87 \n",
       "  1528.2,1427.04 1533.32,1438.23 1538.44,1443.09 1543.57,1444.81 1548.69,1445.47 1553.81,1445.63 1558.93,1445.7 1564.05,1445.71 1569.18,1445.72 1574.3,1445.72 \n",
       "  1579.42,1445.72 1584.54,1445.72 1589.67,1445.72 1594.79,1445.72 1599.91,1445.72 1605.03,1445.72 1610.16,1445.72 1615.28,1445.72 1620.4,1445.72 1625.52,1445.72 \n",
       "  1630.65,1445.72 1635.77,1445.72 1640.89,1445.72 1646.01,1445.72 1651.14,1445.72 1656.26,1445.72 1661.38,1445.72 1666.5,1445.72 1671.63,1445.72 1676.75,1445.72 \n",
       "  1681.87,1445.72 1686.99,1445.72 1692.12,1445.72 1697.24,1445.72 1702.36,1445.7 1707.48,1445.61 1712.61,1445.25 1717.73,1444.32 1722.85,1442.37 1727.97,1438.93 \n",
       "  1733.1,1433.61 1738.22,1426.11 1743.34,1416.25 1748.46,1403.95 1753.58,1389.19 1758.71,1371.99 1763.83,1352.41 1768.95,1330.53 1774.07,1306.42 1779.2,1280.18 \n",
       "  1784.32,1251.92 1789.44,1221.74 1794.56,1189.77 1799.69,1156.13 1804.81,1120.95 1809.93,1084.37 1815.05,1046.55 1820.18,1007.61 1825.3,967.73 1830.42,927.054 \n",
       "  1835.54,885.746 1840.67,843.969 1845.79,801.888 1850.91,759.668 1856.03,717.476 1861.16,675.48 1866.28,633.844 1871.4,592.732 1876.52,552.308 1881.65,512.731 \n",
       "  1886.77,474.157 1891.89,436.737 1897.01,400.621 1902.14,365.949 1907.26,332.86 1912.38,301.484 1917.5,271.944 1922.63,244.357 1927.75,218.833 1932.87,195.471 \n",
       "  1937.99,174.364 1943.11,155.595 1948.24,139.239 1953.36,125.36 1958.48,114.012 1963.6,105.241 1968.73,99.0802 1973.85,95.5553 1978.97,94.6796 1984.09,96.4567 \n",
       "  1989.22,100.88 1994.34,107.931 1999.46,117.582 2004.58,129.796 2009.71,144.524 2014.83,161.708 2019.95,181.28 2025.07,203.163 2030.2,227.271 2035.32,253.508 \n",
       "  2040.44,281.772 2045.56,311.949 2050.69,343.922 2055.81,377.564 2060.93,412.742 2066.05,449.318 2071.18,487.146 2076.3,526.079 2081.42,565.962 2086.54,606.638 \n",
       "  2091.67,647.946 2096.79,689.723 2101.91,731.804 2107.03,774.024 2112.16,816.216 2117.28,858.212 2122.4,899.848 2127.52,940.96 2132.64,981.384 2137.77,1020.96 \n",
       "  2142.89,1059.54 2148.01,1096.95 2153.13,1133.07 2158.26,1167.74 2163.38,1200.83 2168.5,1232.21 2173.62,1261.75 2178.75,1289.33 2183.87,1314.86 2188.99,1338.22 \n",
       "  2194.11,1359.33 2199.24,1378.1 2204.36,1394.45 2209.48,1408.33 2214.6,1419.69 2219.73,1428.56 2224.85,1435.08 2229.97,1439.53 2235.09,1442.36 2240.22,1444.02 \n",
       "  2245.34,1444.92 2250.46,1445.37 2255.58,1445.57 2260.71,1445.66 2265.83,1445.7 2270.95,1445.71 2276.07,1445.71 2281.2,1445.72 2286.32,1445.72 2291.44,1445.72 \n",
       "  \n",
       "  \"/>\n",
       "<polyline clip-path=\"url(#clip182)\" style=\"stroke:#3da44d; stroke-linecap:butt; stroke-linejoin:round; stroke-width:12; stroke-opacity:1; fill:none\" points=\"\n",
       "  247.59,1445.63 252.712,1445.68 257.834,1445.7 262.957,1445.71 268.079,1445.71 273.202,1445.71 278.324,1445.72 283.447,1445.72 288.569,1445.72 293.691,1445.72 \n",
       "  298.814,1445.72 303.936,1445.72 309.059,1445.72 314.181,1445.72 319.304,1445.72 324.426,1445.72 329.548,1445.72 334.671,1445.71 339.793,1445.7 344.916,1445.63 \n",
       "  350.038,1445.39 355.161,1444.68 360.283,1443.03 365.405,1439.79 370.528,1434.23 375.65,1425.7 380.773,1413.82 385.895,1398.55 391.018,1380.13 396.14,1359.07 \n",
       "  401.263,1335.92 406.385,1311.27 411.507,1285.6 416.63,1259.28 421.752,1232.58 426.875,1205.65 431.997,1178.6 437.12,1151.5 442.242,1124.37 447.364,1097.22 \n",
       "  452.487,1070.07 457.609,1042.92 462.732,1015.76 467.854,988.61 472.977,961.455 478.099,934.301 483.221,907.146 488.344,879.991 493.466,852.836 498.589,825.681 \n",
       "  503.711,798.527 508.834,771.372 513.956,744.217 519.078,717.062 524.201,689.907 529.323,662.753 534.446,635.598 539.568,608.443 544.691,581.288 549.813,554.133 \n",
       "  554.936,526.979 560.058,499.824 565.18,472.669 570.303,445.514 575.425,418.36 580.548,391.205 585.67,364.05 590.793,336.898 595.915,309.768 601.037,282.748 \n",
       "  606.16,256.091 611.282,230.354 616.405,206.49 621.527,185.814 626.65,169.789 631.772,159.688 636.894,156.284 642.017,159.681 647.139,169.355 652.262,184.339 \n",
       "  657.384,203.471 662.507,225.614 667.629,249.799 672.751,275.282 677.874,301.543 682.996,328.242 688.119,355.176 693.241,382.229 698.364,409.339 703.486,436.475 \n",
       "  708.609,463.622 713.731,490.774 718.853,517.928 723.976,545.082 729.098,572.237 734.221,599.391 739.343,626.546 744.466,653.701 749.588,680.856 754.71,708.011 \n",
       "  759.833,735.165 764.955,762.32 770.078,789.475 775.2,816.63 780.323,843.785 785.445,870.939 790.567,898.094 795.69,925.249 800.812,952.404 805.935,979.558 \n",
       "  811.057,1006.71 816.18,1033.87 821.302,1061.02 826.424,1088.18 831.547,1115.33 836.669,1142.49 841.792,1169.64 846.914,1196.8 852.037,1223.94 857.159,1251.03 \n",
       "  862.282,1277.93 867.404,1304.38 872.526,1329.89 877.649,1353.8 882.771,1375.39 887.894,1394.02 893.016,1409.3 898.139,1421.18 903.261,1429.92 908.383,1436 \n",
       "  913.506,1440.02 918.628,1442.52 923.751,1444.01 928.873,1444.84 933.996,1445.29 939.118,1445.52 944.24,1445.63 949.363,1445.68 954.485,1445.7 959.608,1445.71 \n",
       "  964.73,1445.71 969.853,1445.71 974.975,1445.72 980.097,1445.72 985.22,1445.72 990.342,1445.72 995.465,1445.72 1000.59,1445.72 1005.71,1445.72 1010.83,1445.72 \n",
       "  1015.95,1445.72 1021.08,1445.72 1026.2,1445.72 1031.32,1445.72 1036.44,1445.72 1041.57,1445.72 1046.69,1445.72 1051.81,1445.72 1056.93,1445.72 1062.06,1445.72 \n",
       "  1067.18,1445.64 1072.3,1444.98 1077.42,1441.82 1082.55,1431.55 1087.67,1406.03 1092.79,1354.93 1097.91,1269.49 1103.04,1147.07 1108.16,993.821 1113.28,823.586 \n",
       "  1118.4,653.576 1123.53,499.279 1128.65,370.851 1133.77,272.094 1138.89,201.502 1144.02,154.365 1149.14,124.838 1154.26,107.432 1159.38,97.7446 1164.51,92.6466 \n",
       "  1169.63,90.1031 1174.75,88.8996 1179.87,88.3582 1184.99,88.1269 1190.12,88.0328 1195.24,87.9965 1200.36,87.9832 1205.48,87.9785 1210.61,87.977 1215.73,87.9765 \n",
       "  1220.85,87.9763 1225.97,87.9763 1231.1,87.9763 1236.22,87.9763 1241.34,87.9763 1246.46,87.9763 1251.59,87.9763 1256.71,87.9763 1261.83,87.9763 1266.95,87.9763 \n",
       "  1272.08,87.9763 1277.2,87.9763 1282.32,87.9763 1287.44,87.9763 1292.57,87.9763 1297.69,87.9763 1302.81,87.9763 1307.93,87.9763 1313.06,87.9763 1318.18,87.9763 \n",
       "  1323.3,87.9763 1328.42,87.9763 1333.55,87.9763 1338.67,87.9763 1343.79,87.9763 1348.91,87.9763 1354.04,87.9763 1359.16,87.9763 1364.28,87.9763 1369.4,87.9763 \n",
       "  1374.52,87.9763 1379.65,87.9763 1384.77,87.9763 1389.89,87.9763 1395.01,87.9763 1400.14,87.9763 1405.26,87.9763 1410.38,87.9763 1415.5,87.9763 1420.63,87.9763 \n",
       "  1425.75,87.9763 1430.87,87.9763 1435.99,87.9763 1441.12,87.9763 1446.24,87.9763 1451.36,87.9763 1456.48,87.9763 1461.61,87.9763 1466.73,87.9763 1471.85,87.9763 \n",
       "  1476.97,88.0509 1482.1,88.7147 1487.22,91.8673 1492.34,102.142 1497.46,127.667 1502.59,178.758 1507.71,264.199 1512.83,386.62 1517.95,539.871 1523.08,710.106 \n",
       "  1528.2,880.116 1533.32,1034.41 1538.44,1162.84 1543.57,1261.6 1548.69,1332.19 1553.81,1379.33 1558.93,1408.85 1564.05,1426.26 1569.18,1435.95 1574.3,1441.05 \n",
       "  1579.42,1443.59 1584.54,1444.79 1589.67,1445.33 1594.79,1445.57 1599.91,1445.66 1605.03,1445.7 1610.16,1445.71 1615.28,1445.71 1620.4,1445.72 1625.52,1445.72 \n",
       "  1630.65,1445.72 1635.77,1445.72 1640.89,1445.72 1646.01,1445.72 1651.14,1445.72 1656.26,1445.72 1661.38,1445.72 1666.5,1445.72 1671.63,1445.72 1676.75,1445.72 \n",
       "  1681.87,1445.72 1686.99,1445.72 1692.12,1445.72 1697.24,1445.72 1702.36,1445.72 1707.48,1445.71 1712.61,1445.71 1717.73,1445.68 1722.85,1445.59 1727.97,1445.35 \n",
       "  1733.1,1444.82 1738.22,1443.79 1743.34,1441.97 1748.46,1439.05 1753.58,1434.71 1758.71,1428.65 1763.83,1420.61 1768.95,1410.43 1774.07,1397.98 1779.2,1383.19 \n",
       "  1784.32,1366.07 1789.44,1346.64 1794.56,1324.94 1799.69,1301.05 1804.81,1275.06 1809.93,1247.06 1815.05,1217.18 1820.18,1185.51 1825.3,1152.19 1830.42,1117.36 \n",
       "  1835.54,1081.14 1840.67,1043.67 1845.79,1005.12 1850.91,965.626 1856.03,925.348 1861.16,884.444 1866.28,843.075 1871.4,801.406 1876.52,759.601 1881.65,717.824 \n",
       "  1886.77,676.24 1891.89,635.015 1897.01,594.309 1902.14,554.284 1907.26,515.098 1912.38,476.906 1917.5,439.858 1922.63,404.101 1927.75,369.775 1932.87,337.016 \n",
       "  1937.99,305.953 1943.11,276.71 1948.24,249.401 1953.36,224.133 1958.48,201.008 1963.6,180.116 1968.73,161.539 1973.85,145.352 1978.97,131.617 1984.09,120.388 \n",
       "  1989.22,111.712 1994.34,105.62 1999.46,102.139 2004.58,101.28 2009.71,103.049 2014.83,107.437 2019.95,114.427 2025.07,123.992 2030.2,136.094 2035.32,150.686 \n",
       "  2040.44,167.709 2045.56,187.097 2050.69,208.773 2055.81,232.651 2060.93,258.637 2066.05,286.629 2071.18,316.516 2076.3,348.181 2081.42,381.498 2086.54,416.335 \n",
       "  2091.67,452.556 2096.79,490.018 2101.91,528.571 2107.03,568.066 2112.16,608.344 2117.28,649.248 2122.4,690.617 2127.52,732.286 2132.64,774.091 2137.77,815.868 \n",
       "  2142.89,857.452 2148.01,898.677 2153.13,939.383 2158.26,979.408 2163.38,1018.59 2168.5,1056.79 2173.62,1093.83 2178.75,1129.59 2183.87,1163.92 2188.99,1196.68 \n",
       "  2194.11,1227.74 2199.24,1256.98 2204.36,1284.29 2209.48,1309.56 2214.6,1332.68 2219.73,1353.58 2224.85,1372.16 2229.97,1388.38 2235.09,1402.2 2240.22,1413.67 \n",
       "  2245.34,1422.87 2250.46,1430 2255.58,1435.3 2260.71,1439.07 2265.83,1441.65 2270.95,1443.33 2276.07,1444.37 2281.2,1444.99 2286.32,1445.34 2291.44,1445.53 \n",
       "  \n",
       "  \"/>\n",
       "<polyline clip-path=\"url(#clip182)\" style=\"stroke:#c271d2; stroke-linecap:butt; stroke-linejoin:round; stroke-width:12; stroke-opacity:1; fill:none\" points=\"\n",
       "  247.59,1441.42 252.712,1443.01 257.834,1444.06 262.957,1444.73 268.079,1445.15 273.202,1445.4 278.324,1445.54 283.447,1445.63 288.569,1445.67 293.691,1445.69 \n",
       "  298.814,1445.7 303.936,1445.71 309.059,1445.71 314.181,1445.71 319.304,1445.72 324.426,1445.72 329.548,1445.72 334.671,1445.72 339.793,1445.72 344.916,1445.71 \n",
       "  350.038,1445.71 355.161,1445.69 360.283,1445.62 365.405,1445.43 370.528,1444.99 375.65,1444.06 380.773,1442.32 385.895,1439.32 391.018,1434.61 396.14,1427.72 \n",
       "  401.263,1418.29 406.385,1406.1 411.507,1391.14 416.63,1373.53 421.752,1353.58 426.875,1331.64 431.997,1308.13 437.12,1283.42 442.242,1257.85 447.364,1231.67 \n",
       "  452.487,1205.11 457.609,1178.3 462.732,1151.33 467.854,1124.28 472.977,1097.18 478.099,1070.05 483.221,1042.91 488.344,1015.76 493.466,988.608 498.589,961.454 \n",
       "  503.711,934.3 508.834,907.146 513.956,879.991 519.078,852.836 524.201,825.681 529.323,798.527 534.446,771.372 539.568,744.217 544.691,717.062 549.813,689.907 \n",
       "  554.936,662.753 560.058,635.598 565.18,608.443 570.303,581.288 575.425,554.133 580.548,526.979 585.67,499.824 590.793,472.669 595.915,445.515 601.037,418.362 \n",
       "  606.16,391.218 611.282,364.105 616.405,337.087 621.527,310.305 626.65,284.035 631.772,258.735 636.894,235.075 642.017,213.905 647.139,196.176 652.262,182.802 \n",
       "  657.384,174.51 662.507,171.726 667.629,174.507 672.751,182.56 677.874,195.314 682.996,212.026 688.119,231.897 693.241,254.163 698.364,278.158 703.486,303.347 \n",
       "  708.609,329.322 713.731,355.794 718.853,382.568 723.976,409.517 729.098,436.565 734.221,463.666 739.343,490.794 744.466,517.937 749.588,545.086 754.71,572.238 \n",
       "  759.833,599.392 764.955,626.547 770.078,653.701 775.2,680.856 780.323,708.011 785.445,735.165 790.567,762.32 795.69,789.475 800.812,816.63 805.935,843.785 \n",
       "  811.057,870.939 816.18,898.094 821.302,925.249 826.424,952.404 831.547,979.558 836.669,1006.71 841.792,1033.87 846.914,1061.02 852.037,1088.18 857.159,1115.33 \n",
       "  862.282,1142.48 867.404,1169.61 872.526,1196.7 877.649,1223.67 882.771,1250.38 887.894,1276.61 893.016,1302.02 898.139,1326.18 903.261,1348.62 908.383,1368.89 \n",
       "  913.506,1386.61 918.628,1401.58 923.751,1413.77 928.873,1423.32 933.996,1430.52 939.118,1435.74 944.24,1439.38 949.363,1441.82 954.485,1443.4 959.608,1444.39 \n",
       "  964.73,1444.98 969.853,1445.32 974.975,1445.51 980.097,1445.61 985.22,1445.66 990.342,1445.69 995.465,1445.7 1000.59,1445.71 1005.71,1445.71 1010.83,1445.71 \n",
       "  1015.95,1445.72 1021.08,1445.72 1026.2,1445.72 1031.32,1445.72 1036.44,1445.72 1041.57,1445.72 1046.69,1445.72 1051.81,1445.72 1056.93,1445.72 1062.06,1445.72 \n",
       "  1067.18,1445.72 1072.3,1445.71 1077.42,1445.66 1082.55,1445.41 1087.67,1444.51 1092.79,1441.87 1097.91,1435.3 1103.04,1421.26 1108.16,1394.95 1113.28,1351.04 \n",
       "  1118.4,1285.1 1123.53,1195.06 1128.65,1082.44 1133.77,952.469 1138.89,813.261 1144.02,674.134 1149.14,543.788 1154.26,428.84 1159.38,333.078 1164.51,257.473 \n",
       "  1169.63,200.747 1174.75,160.198 1179.87,132.525 1184.99,114.459 1190.12,103.158 1195.24,96.3732 1200.36,92.46 1205.48,90.2888 1210.61,89.1287 1215.73,88.5315 \n",
       "  1220.85,88.2349 1225.97,88.0928 1231.1,88.0271 1236.22,87.9977 1241.34,87.985 1246.46,87.9797 1251.59,87.9776 1256.71,87.9768 1261.83,87.9765 1266.95,87.9763 \n",
       "  1272.08,87.9763 1277.2,87.9763 1282.32,87.9763 1287.44,87.9763 1292.57,87.9763 1297.69,87.9763 1302.81,87.9763 1307.93,87.9763 1313.06,87.9763 1318.18,87.9763 \n",
       "  1323.3,87.9763 1328.42,87.9763 1333.55,87.9763 1338.67,87.9763 1343.79,87.9763 1348.91,87.9763 1354.04,87.9763 1359.16,87.9763 1364.28,87.9763 1369.4,87.9763 \n",
       "  1374.52,87.9763 1379.65,87.9763 1384.77,87.9763 1389.89,87.9763 1395.01,87.9763 1400.14,87.9763 1405.26,87.9763 1410.38,87.9763 1415.5,87.9763 1420.63,87.9763 \n",
       "  1425.75,87.9763 1430.87,87.9763 1435.99,87.9763 1441.12,87.9763 1446.24,87.9763 1451.36,87.9763 1456.48,87.9763 1461.61,87.9763 1466.73,87.9763 1471.85,87.9763 \n",
       "  1476.97,87.9768 1482.1,87.9842 1487.22,88.0357 1492.34,88.2815 1497.46,89.1783 1502.59,91.8267 1507.71,98.3961 1512.83,112.432 1517.95,138.745 1523.08,182.648 \n",
       "  1528.2,248.596 1533.32,338.633 1538.44,451.256 1543.57,581.223 1548.69,720.431 1553.81,859.558 1558.93,989.904 1564.05,1104.85 1569.18,1200.61 1574.3,1276.22 \n",
       "  1579.42,1332.95 1584.54,1373.49 1589.67,1401.17 1594.79,1419.23 1599.91,1430.53 1605.03,1437.32 1610.16,1441.23 1615.28,1443.4 1620.4,1444.56 1625.52,1445.16 \n",
       "  1630.65,1445.46 1635.77,1445.6 1640.89,1445.66 1646.01,1445.69 1651.14,1445.71 1656.26,1445.71 1661.38,1445.71 1666.5,1445.72 1671.63,1445.72 1676.75,1445.72 \n",
       "  1681.87,1445.72 1686.99,1445.72 1692.12,1445.72 1697.24,1445.72 1702.36,1445.72 1707.48,1445.72 1712.61,1445.72 1717.73,1445.72 1722.85,1445.71 1727.97,1445.7 \n",
       "  1733.1,1445.68 1738.22,1445.62 1743.34,1445.47 1748.46,1445.16 1753.58,1444.59 1758.71,1443.58 1763.83,1441.94 1768.95,1439.42 1774.07,1435.77 1779.2,1430.73 \n",
       "  1784.32,1424.06 1789.44,1415.54 1794.56,1405.01 1799.69,1392.34 1804.81,1377.47 1809.93,1360.36 1815.05,1341.01 1820.18,1319.46 1825.3,1295.76 1830.42,1270 \n",
       "  1835.54,1242.26 1840.67,1212.66 1845.79,1181.3 1850.91,1148.3 1856.03,1113.8 1861.16,1077.93 1866.28,1040.83 1871.4,1002.65 1876.52,963.545 1881.65,923.659 \n",
       "  1886.77,883.155 1891.89,842.192 1897.01,800.931 1902.14,759.536 1907.26,718.169 1912.38,676.995 1917.5,636.175 1922.63,595.871 1927.75,556.242 1932.87,517.444 \n",
       "  1937.99,479.63 1943.11,442.95 1948.24,407.548 1953.36,373.564 1958.48,341.132 1963.6,310.38 1968.73,281.43 1973.85,254.395 1978.97,229.383 1984.09,206.492 \n",
       "  1989.22,185.812 1994.34,167.425 1999.46,151.405 2004.58,137.812 2009.71,126.703 2014.83,118.12 2019.95,112.097 2025.07,108.658 2030.2,107.816 2035.32,109.576 \n",
       "  2040.44,113.929 2045.56,120.859 2050.69,130.339 2055.81,142.33 2060.93,156.787 2066.05,173.651 2071.18,192.856 2076.3,214.326 2081.42,237.977 2086.54,263.715 \n",
       "  2091.67,291.438 2096.79,321.038 2101.91,352.397 2107.03,385.392 2112.16,419.893 2117.28,455.762 2122.4,492.859 2127.52,531.038 2132.64,570.147 2137.77,610.033 \n",
       "  2142.89,650.537 2148.01,691.5 2153.13,732.761 2158.26,774.156 2163.38,815.523 2168.5,856.697 2173.62,897.517 2178.75,937.821 2183.87,977.45 2188.99,1016.25 \n",
       "  2194.11,1054.06 2199.24,1090.74 2204.36,1126.14 2209.48,1160.13 2214.6,1192.56 2219.73,1223.31 2224.85,1252.26 2229.97,1279.3 2235.09,1304.31 2240.22,1327.21 \n",
       "  2245.34,1347.92 2250.46,1366.37 2255.58,1382.53 2260.71,1396.43 2265.83,1408.12 2270.95,1417.71 2276.07,1425.37 2281.2,1431.33 2286.32,1435.82 2291.44,1439.1 \n",
       "  \n",
       "  \"/>\n",
       "<polyline clip-path=\"url(#clip182)\" style=\"stroke:#ac8d18; stroke-linecap:butt; stroke-linejoin:round; stroke-width:12; stroke-opacity:1; fill:none\" points=\"\n",
       "  247.59,1412.88 252.712,1421.02 257.834,1427.52 262.957,1432.6 268.079,1436.46 273.202,1439.34 278.324,1441.42 283.447,1442.89 288.569,1443.9 293.691,1444.58 \n",
       "  298.814,1445.02 303.936,1445.3 309.059,1445.47 314.181,1445.58 319.304,1445.64 324.426,1445.67 329.548,1445.69 334.671,1445.7 339.793,1445.71 344.916,1445.71 \n",
       "  350.038,1445.71 355.161,1445.71 360.283,1445.71 365.405,1445.71 370.528,1445.69 375.65,1445.64 380.773,1445.51 385.895,1445.25 391.018,1444.71 396.14,1443.73 \n",
       "  401.263,1442.06 406.385,1439.39 411.507,1435.38 416.63,1429.67 421.752,1421.95 426.875,1411.97 431.997,1399.6 437.12,1384.82 442.242,1367.72 447.364,1348.5 \n",
       "  452.487,1327.41 457.609,1304.77 462.732,1280.86 467.854,1255.98 472.977,1230.37 478.099,1204.23 483.221,1177.72 488.344,1150.97 493.466,1124.06 498.589,1097.05 \n",
       "  503.711,1069.98 508.834,1042.87 513.956,1015.74 519.078,988.597 524.201,961.449 529.323,934.297 534.446,907.144 539.568,879.99 544.691,852.836 549.813,825.681 \n",
       "  554.936,798.527 560.058,771.372 565.18,744.217 570.303,717.062 575.425,689.907 580.548,662.753 585.67,635.598 590.793,608.443 595.915,581.288 601.037,554.134 \n",
       "  606.16,526.979 611.282,499.825 616.405,472.674 621.527,445.532 626.65,418.415 631.772,391.363 636.894,364.455 642.017,337.836 647.139,311.746 652.262,286.549 \n",
       "  657.384,262.736 662.507,240.921 667.629,221.794 672.751,206.057 677.874,194.346 682.996,187.145 688.119,184.731 693.241,187.143 698.364,194.187 703.486,205.476 \n",
       "  708.609,220.486 713.731,238.622 718.853,259.278 723.976,281.889 729.098,305.961 734.221,331.084 739.343,356.939 744.466,383.286 749.588,409.952 754.71,436.82 \n",
       "  759.833,463.81 764.955,490.874 770.078,517.979 775.2,545.108 780.323,572.249 785.445,599.398 790.567,626.549 795.69,653.702 800.812,680.856 805.935,708.011 \n",
       "  811.057,735.166 816.18,762.32 821.302,789.475 826.424,816.63 831.547,843.785 836.669,870.939 841.792,898.094 846.914,925.249 852.037,952.404 857.159,979.558 \n",
       "  862.282,1006.71 867.404,1033.87 872.526,1061.02 877.649,1088.17 882.771,1115.3 887.894,1142.41 893.016,1169.44 898.139,1196.33 903.261,1222.95 908.383,1249.12 \n",
       "  913.506,1274.61 918.628,1299.09 923.751,1322.23 928.873,1343.68 933.996,1363.11 939.118,1380.29 944.24,1395.08 949.363,1407.45 954.485,1417.5 959.608,1425.43 \n",
       "  964.73,1431.51 969.853,1436.02 974.975,1439.27 980.097,1441.54 985.22,1443.08 990.342,1444.1 995.465,1444.75 1000.59,1445.15 1005.71,1445.39 1010.83,1445.54 \n",
       "  1015.95,1445.62 1021.08,1445.66 1026.2,1445.69 1031.32,1445.7 1036.44,1445.71 1041.57,1445.71 1046.69,1445.71 1051.81,1445.72 1056.93,1445.72 1062.06,1445.72 \n",
       "  1067.18,1445.72 1072.3,1445.72 1077.42,1445.71 1082.55,1445.71 1087.67,1445.69 1092.79,1445.61 1097.91,1445.36 1103.04,1444.64 1108.16,1442.85 1113.28,1438.9 \n",
       "  1118.4,1431.01 1123.53,1416.69 1128.65,1392.8 1133.77,1356.04 1138.89,1303.47 1144.02,1233.34 1149.14,1145.63 1154.26,1042.43 1159.38,927.76 1164.51,807.084 \n",
       "  1169.63,686.448 1174.75,571.596 1179.87,467.218 1184.99,376.473 1190.12,300.857 1195.24,240.357 1200.36,193.805 1205.48,159.307 1210.61,134.653 1215.73,117.639 \n",
       "  1220.85,106.291 1225.97,98.9673 1231.1,94.3895 1236.22,91.6161 1241.34,89.9863 1246.46,89.0567 1251.59,88.5417 1256.71,88.2645 1261.83,88.1194 1266.95,88.0455 \n",
       "  1272.08,88.0089 1277.2,87.9913 1282.32,87.983 1287.44,87.9792 1292.57,87.9775 1297.69,87.9768 1302.81,87.9765 1307.93,87.9764 1313.06,87.9763 1318.18,87.9763 \n",
       "  1323.3,87.9763 1328.42,87.9763 1333.55,87.9763 1338.67,87.9763 1343.79,87.9763 1348.91,87.9763 1354.04,87.9763 1359.16,87.9763 1364.28,87.9763 1369.4,87.9763 \n",
       "  1374.52,87.9763 1379.65,87.9763 1384.77,87.9763 1389.89,87.9763 1395.01,87.9763 1400.14,87.9763 1405.26,87.9763 1410.38,87.9763 1415.5,87.9763 1420.63,87.9763 \n",
       "  1425.75,87.9763 1430.87,87.9763 1435.99,87.9763 1441.12,87.9763 1446.24,87.9763 1451.36,87.9763 1456.48,87.9763 1461.61,87.9763 1466.73,87.9763 1471.85,87.9763 \n",
       "  1476.97,87.9763 1482.1,87.9764 1487.22,87.977 1492.34,87.9812 1497.46,88.0014 1502.59,88.0797 1507.71,88.3353 1512.83,89.0559 1517.95,90.8424 1523.08,94.7936 \n",
       "  1528.2,102.678 1533.32,117.005 1538.44,140.888 1543.57,177.656 1548.69,230.222 1553.81,300.356 1558.93,388.062 1564.05,491.266 1569.18,605.932 1574.3,726.608 \n",
       "  1579.42,847.244 1584.54,962.095 1589.67,1066.47 1594.79,1157.22 1599.91,1232.84 1605.03,1293.34 1610.16,1339.89 1615.28,1374.38 1620.4,1399.04 1625.52,1416.05 \n",
       "  1630.65,1427.4 1635.77,1434.72 1640.89,1439.3 1646.01,1442.08 1651.14,1443.71 1656.26,1444.64 1661.38,1445.15 1666.5,1445.43 1671.63,1445.57 1676.75,1445.65 \n",
       "  1681.87,1445.68 1686.99,1445.7 1692.12,1445.71 1697.24,1445.71 1702.36,1445.71 1707.48,1445.72 1712.61,1445.72 1717.73,1445.72 1722.85,1445.72 1727.97,1445.72 \n",
       "  1733.1,1445.71 1738.22,1445.71 1743.34,1445.71 1748.46,1445.69 1753.58,1445.65 1758.71,1445.56 1763.83,1445.38 1768.95,1445.05 1774.07,1444.47 1779.2,1443.53 \n",
       "  1784.32,1442.06 1789.44,1439.88 1794.56,1436.77 1799.69,1432.52 1804.81,1426.9 1809.93,1419.71 1815.05,1410.76 1820.18,1399.89 1825.3,1387 1830.42,1372 \n",
       "  1835.54,1354.86 1840.67,1335.55 1845.79,1314.11 1850.91,1290.58 1856.03,1265.03 1861.16,1237.53 1866.28,1208.2 1871.4,1177.13 1876.52,1144.45 1881.65,1110.28 \n",
       "  1886.77,1074.76 1891.89,1038.02 1897.01,1000.21 1902.14,961.485 1907.26,921.989 1912.38,881.88 1917.5,841.318 1922.63,800.462 1927.75,759.473 1932.87,718.513 \n",
       "  1937.99,677.743 1943.11,637.326 1948.24,597.42 1953.36,558.182 1958.48,519.768 1963.6,482.329 1968.73,446.012 1973.85,410.962 1978.97,377.317 1984.09,345.209 \n",
       "  1989.22,314.764 1994.34,286.104 1999.46,259.341 2004.58,234.581 2009.71,211.922 2014.83,191.453 2019.95,173.254 2025.07,157.399 2030.2,143.948 2035.32,132.956 \n",
       "  2040.44,124.465 2045.56,118.509 2050.69,115.113 2055.81,114.288 2060.93,116.039 2066.05,120.358 2071.18,127.228 2076.3,136.623 2081.42,148.505 2086.54,162.827 \n",
       "  2091.67,179.533 2096.79,198.557 2101.91,219.824 2107.03,243.249 2112.16,268.741 2117.28,296.199 2122.4,325.514 2127.52,356.571 2132.64,389.247 2137.77,423.414 \n",
       "  2142.89,458.935 2148.01,495.672 2153.13,533.479 2158.26,572.207 2163.38,611.703 2168.5,651.812 2173.62,692.374 2178.75,733.23 2183.87,774.219 2188.99,815.179 \n",
       "  2194.11,855.948 2199.24,896.366 2204.36,936.272 2209.48,975.51 2214.6,1013.92 2219.73,1051.36 2224.85,1087.68 2229.97,1122.73 2235.09,1156.38 2240.22,1188.48 \n",
       "  2245.34,1218.93 2250.46,1247.59 2255.58,1274.36 2260.71,1299.14 2265.83,1321.84 2270.95,1342.4 2276.07,1360.78 2281.2,1376.96 2286.32,1390.99 2291.44,1402.92 \n",
       "  \n",
       "  \"/>\n",
       "</svg>\n"
      ]
     },
     "execution_count": 32,
     "metadata": {},
     "output_type": "execute_result"
    }
   ],
   "source": [
    "x, thist, uhist = fv_solve1(riemann_advection, testfunc, 400, .1)\n",
    "plot(x, uhist[:,1:5:end], legend=:none)"
   ]
  },
  {
   "cell_type": "markdown",
   "id": "9285840b",
   "metadata": {
    "slideshow": {
     "slide_type": "fragment"
    }
   },
   "source": [
    "## Observations\n",
    "* Good: no oscillations/noisy artifacts: solutians are bounded between 0 and 1, just like exact solution.\n",
    "* Bad: Lots of numerical diffusion."
   ]
  },
  {
   "cell_type": "markdown",
   "id": "5eea8ce9",
   "metadata": {
    "slideshow": {
     "slide_type": "slide"
    }
   },
   "source": [
    "# Rankine-Hugoniot condition"
   ]
  },
  {
   "cell_type": "markdown",
   "id": "c302e618",
   "metadata": {
    "cell_style": "split",
    "slideshow": {
     "slide_type": ""
    }
   },
   "source": [
    "For a nonlinear equation, we need to know which direction the shock is moving.  If we move into the reference frame of the shock, the flux on the left must be equal to the flux on the right.  This leads to shock speed $s$ satisfying\n",
    "$$ s (\\underbrace{u_R - u_L}_{\\Delta u}) = (\\underbrace{F(u_R) - F(u_L)}_{\\Delta F}) \\cdot \\hat n $$\n",
    "where $\\hat n$ is any direction (e.g., the normal to a face in a multi-dimensional finite volume method).\n",
    "This condition holds also for hyperbolic system.\n",
    "\n",
    "For Burger's equation\n",
    "$$ \\frac{\\partial u}{\\partial t} + \\nabla\\cdot (u^2/2) = 0, $$\n",
    "our Riemann problem produces a shock if $u_L > u_R$, i.e., $\\Delta u < 0$.\n",
    "The shock moves to the right $(s > 0)$ if $\\Delta F < 0$, i.e., $F(u_L) > F(u_R)$."
   ]
  },
  {
   "cell_type": "markdown",
   "id": "715fd012",
   "metadata": {
    "cell_style": "split",
    "slideshow": {
     "slide_type": ""
    }
   },
   "source": [
    "![Toro (2009) Figure 2.13](../img/Toro-Shock-2.13.png)\n",
    "\n",
    "So if the solution is a shock, the numerical flux is the maximum of $f(u_L)$ and $f(u_R)$.\n",
    "We still don't know what to do in case of a rarefaction so will just average and see what happens."
   ]
  },
  {
   "cell_type": "markdown",
   "id": "87323914",
   "metadata": {
    "slideshow": {
     "slide_type": "slide"
    }
   },
   "source": [
    "# Burgers Riemann problem (shock)"
   ]
  },
  {
   "cell_type": "code",
   "execution_count": 33,
   "id": "2fea27ef",
   "metadata": {
    "cell_style": "split"
   },
   "outputs": [
    {
     "data": {
      "text/plain": [
       "riemann_burgers_shock (generic function with 1 method)"
      ]
     },
     "execution_count": 33,
     "metadata": {},
     "output_type": "execute_result"
    }
   ],
   "source": [
    "function riemann_burgers_shock(uL, uR)\n",
    "    flux = zero(uL)\n",
    "    for i in 1:length(flux)\n",
    "        flux[i] = if uL[i] > uR[i] # shock\n",
    "            max(flux_burgers(uL[i]), flux_burgers(uR[i]))\n",
    "        else\n",
    "            flux_burgers(.5*(uL[i] + uR[i]))\n",
    "        end\n",
    "    end\n",
    "    flux\n",
    "end"
   ]
  },
  {
   "cell_type": "code",
   "execution_count": 34,
   "id": "d4639e19",
   "metadata": {
    "cell_style": "split"
   },
   "outputs": [
    {
     "data": {
      "image/svg+xml": [
       "<?xml version=\"1.0\" encoding=\"utf-8\"?>\n",
       "<svg xmlns=\"http://www.w3.org/2000/svg\" xmlns:xlink=\"http://www.w3.org/1999/xlink\" width=\"600\" height=\"400\" viewBox=\"0 0 2400 1600\">\n",
       "<defs>\n",
       "  <clipPath id=\"clip220\">\n",
       "    <rect x=\"0\" y=\"0\" width=\"2400\" height=\"1600\"/>\n",
       "  </clipPath>\n",
       "</defs>\n",
       "<path clip-path=\"url(#clip220)\" d=\"\n",
       "M0 1600 L2400 1600 L2400 0 L0 0  Z\n",
       "  \" fill=\"#ffffff\" fill-rule=\"evenodd\" fill-opacity=\"1\"/>\n",
       "<defs>\n",
       "  <clipPath id=\"clip221\">\n",
       "    <rect x=\"480\" y=\"0\" width=\"1681\" height=\"1600\"/>\n",
       "  </clipPath>\n",
       "</defs>\n",
       "<path clip-path=\"url(#clip220)\" d=\"\n",
       "M193.936 1486.45 L2352.76 1486.45 L2352.76 47.2441 L193.936 47.2441  Z\n",
       "  \" fill=\"#ffffff\" fill-rule=\"evenodd\" fill-opacity=\"1\"/>\n",
       "<defs>\n",
       "  <clipPath id=\"clip222\">\n",
       "    <rect x=\"193\" y=\"47\" width=\"2160\" height=\"1440\"/>\n",
       "  </clipPath>\n",
       "</defs>\n",
       "<polyline clip-path=\"url(#clip222)\" style=\"stroke:#000000; stroke-linecap:butt; stroke-linejoin:round; stroke-width:2; stroke-opacity:0.1; fill:none\" points=\"\n",
       "  244.749,1486.45 244.749,47.2441 \n",
       "  \"/>\n",
       "<polyline clip-path=\"url(#clip222)\" style=\"stroke:#000000; stroke-linecap:butt; stroke-linejoin:round; stroke-width:2; stroke-opacity:0.1; fill:none\" points=\"\n",
       "  759.047,1486.45 759.047,47.2441 \n",
       "  \"/>\n",
       "<polyline clip-path=\"url(#clip222)\" style=\"stroke:#000000; stroke-linecap:butt; stroke-linejoin:round; stroke-width:2; stroke-opacity:0.1; fill:none\" points=\"\n",
       "  1273.35,1486.45 1273.35,47.2441 \n",
       "  \"/>\n",
       "<polyline clip-path=\"url(#clip222)\" style=\"stroke:#000000; stroke-linecap:butt; stroke-linejoin:round; stroke-width:2; stroke-opacity:0.1; fill:none\" points=\"\n",
       "  1787.64,1486.45 1787.64,47.2441 \n",
       "  \"/>\n",
       "<polyline clip-path=\"url(#clip222)\" style=\"stroke:#000000; stroke-linecap:butt; stroke-linejoin:round; stroke-width:2; stroke-opacity:0.1; fill:none\" points=\"\n",
       "  2301.94,1486.45 2301.94,47.2441 \n",
       "  \"/>\n",
       "<polyline clip-path=\"url(#clip220)\" style=\"stroke:#000000; stroke-linecap:butt; stroke-linejoin:round; stroke-width:4; stroke-opacity:1; fill:none\" points=\"\n",
       "  193.936,1486.45 2352.76,1486.45 \n",
       "  \"/>\n",
       "<polyline clip-path=\"url(#clip220)\" style=\"stroke:#000000; stroke-linecap:butt; stroke-linejoin:round; stroke-width:4; stroke-opacity:1; fill:none\" points=\"\n",
       "  244.749,1486.45 244.749,1467.55 \n",
       "  \"/>\n",
       "<polyline clip-path=\"url(#clip220)\" style=\"stroke:#000000; stroke-linecap:butt; stroke-linejoin:round; stroke-width:4; stroke-opacity:1; fill:none\" points=\"\n",
       "  759.047,1486.45 759.047,1467.55 \n",
       "  \"/>\n",
       "<polyline clip-path=\"url(#clip220)\" style=\"stroke:#000000; stroke-linecap:butt; stroke-linejoin:round; stroke-width:4; stroke-opacity:1; fill:none\" points=\"\n",
       "  1273.35,1486.45 1273.35,1467.55 \n",
       "  \"/>\n",
       "<polyline clip-path=\"url(#clip220)\" style=\"stroke:#000000; stroke-linecap:butt; stroke-linejoin:round; stroke-width:4; stroke-opacity:1; fill:none\" points=\"\n",
       "  1787.64,1486.45 1787.64,1467.55 \n",
       "  \"/>\n",
       "<polyline clip-path=\"url(#clip220)\" style=\"stroke:#000000; stroke-linecap:butt; stroke-linejoin:round; stroke-width:4; stroke-opacity:1; fill:none\" points=\"\n",
       "  2301.94,1486.45 2301.94,1467.55 \n",
       "  \"/>\n",
       "<path clip-path=\"url(#clip220)\" d=\"M191.277 1532.02 L220.953 1532.02 L220.953 1535.95 L191.277 1535.95 L191.277 1532.02 Z\" fill=\"#000000\" fill-rule=\"evenodd\" fill-opacity=\"1\" /><path clip-path=\"url(#clip220)\" d=\"M231.855 1544.91 L239.494 1544.91 L239.494 1518.55 L231.184 1520.21 L231.184 1515.95 L239.448 1514.29 L244.124 1514.29 L244.124 1544.91 L251.763 1544.91 L251.763 1548.85 L231.855 1548.85 L231.855 1544.91 Z\" fill=\"#000000\" fill-rule=\"evenodd\" fill-opacity=\"1\" /><path clip-path=\"url(#clip220)\" d=\"M261.207 1542.97 L266.091 1542.97 L266.091 1548.85 L261.207 1548.85 L261.207 1542.97 Z\" fill=\"#000000\" fill-rule=\"evenodd\" fill-opacity=\"1\" /><path clip-path=\"url(#clip220)\" d=\"M286.276 1517.37 Q282.665 1517.37 280.836 1520.93 Q279.031 1524.47 279.031 1531.6 Q279.031 1538.71 280.836 1542.27 Q282.665 1545.82 286.276 1545.82 Q289.91 1545.82 291.716 1542.27 Q293.545 1538.71 293.545 1531.6 Q293.545 1524.47 291.716 1520.93 Q289.91 1517.37 286.276 1517.37 M286.276 1513.66 Q292.086 1513.66 295.142 1518.27 Q298.221 1522.85 298.221 1531.6 Q298.221 1540.33 295.142 1544.94 Q292.086 1549.52 286.276 1549.52 Q280.466 1549.52 277.387 1544.94 Q274.332 1540.33 274.332 1531.6 Q274.332 1522.85 277.387 1518.27 Q280.466 1513.66 286.276 1513.66 Z\" fill=\"#000000\" fill-rule=\"evenodd\" fill-opacity=\"1\" /><path clip-path=\"url(#clip220)\" d=\"M706.073 1532.02 L735.749 1532.02 L735.749 1535.95 L706.073 1535.95 L706.073 1532.02 Z\" fill=\"#000000\" fill-rule=\"evenodd\" fill-opacity=\"1\" /><path clip-path=\"url(#clip220)\" d=\"M755.841 1517.37 Q752.23 1517.37 750.402 1520.93 Q748.596 1524.47 748.596 1531.6 Q748.596 1538.71 750.402 1542.27 Q752.23 1545.82 755.841 1545.82 Q759.476 1545.82 761.281 1542.27 Q763.11 1538.71 763.11 1531.6 Q763.11 1524.47 761.281 1520.93 Q759.476 1517.37 755.841 1517.37 M755.841 1513.66 Q761.651 1513.66 764.707 1518.27 Q767.786 1522.85 767.786 1531.6 Q767.786 1540.33 764.707 1544.94 Q761.651 1549.52 755.841 1549.52 Q750.031 1549.52 746.952 1544.94 Q743.897 1540.33 743.897 1531.6 Q743.897 1522.85 746.952 1518.27 Q750.031 1513.66 755.841 1513.66 Z\" fill=\"#000000\" fill-rule=\"evenodd\" fill-opacity=\"1\" /><path clip-path=\"url(#clip220)\" d=\"M776.003 1542.97 L780.887 1542.97 L780.887 1548.85 L776.003 1548.85 L776.003 1542.97 Z\" fill=\"#000000\" fill-rule=\"evenodd\" fill-opacity=\"1\" /><path clip-path=\"url(#clip220)\" d=\"M791.119 1514.29 L809.475 1514.29 L809.475 1518.22 L795.401 1518.22 L795.401 1526.7 Q796.42 1526.35 797.438 1526.19 Q798.457 1526 799.475 1526 Q805.262 1526 808.642 1529.17 Q812.022 1532.34 812.022 1537.76 Q812.022 1543.34 808.549 1546.44 Q805.077 1549.52 798.758 1549.52 Q796.582 1549.52 794.313 1549.15 Q792.068 1548.78 789.661 1548.04 L789.661 1543.34 Q791.744 1544.47 793.966 1545.03 Q796.188 1545.58 798.665 1545.58 Q802.67 1545.58 805.008 1543.48 Q807.346 1541.37 807.346 1537.76 Q807.346 1534.15 805.008 1532.04 Q802.67 1529.94 798.665 1529.94 Q796.79 1529.94 794.915 1530.35 Q793.063 1530.77 791.119 1531.65 L791.119 1514.29 Z\" fill=\"#000000\" fill-rule=\"evenodd\" fill-opacity=\"1\" /><path clip-path=\"url(#clip220)\" d=\"M1250.73 1517.37 Q1247.12 1517.37 1245.29 1520.93 Q1243.49 1524.47 1243.49 1531.6 Q1243.49 1538.71 1245.29 1542.27 Q1247.12 1545.82 1250.73 1545.82 Q1254.36 1545.82 1256.17 1542.27 Q1258 1538.71 1258 1531.6 Q1258 1524.47 1256.17 1520.93 Q1254.36 1517.37 1250.73 1517.37 M1250.73 1513.66 Q1256.54 1513.66 1259.6 1518.27 Q1262.67 1522.85 1262.67 1531.6 Q1262.67 1540.33 1259.6 1544.94 Q1256.54 1549.52 1250.73 1549.52 Q1244.92 1549.52 1241.84 1544.94 Q1238.79 1540.33 1238.79 1531.6 Q1238.79 1522.85 1241.84 1518.27 Q1244.92 1513.66 1250.73 1513.66 Z\" fill=\"#000000\" fill-rule=\"evenodd\" fill-opacity=\"1\" /><path clip-path=\"url(#clip220)\" d=\"M1270.89 1542.97 L1275.78 1542.97 L1275.78 1548.85 L1270.89 1548.85 L1270.89 1542.97 Z\" fill=\"#000000\" fill-rule=\"evenodd\" fill-opacity=\"1\" /><path clip-path=\"url(#clip220)\" d=\"M1295.96 1517.37 Q1292.35 1517.37 1290.52 1520.93 Q1288.72 1524.47 1288.72 1531.6 Q1288.72 1538.71 1290.52 1542.27 Q1292.35 1545.82 1295.96 1545.82 Q1299.6 1545.82 1301.4 1542.27 Q1303.23 1538.71 1303.23 1531.6 Q1303.23 1524.47 1301.4 1520.93 Q1299.6 1517.37 1295.96 1517.37 M1295.96 1513.66 Q1301.77 1513.66 1304.83 1518.27 Q1307.91 1522.85 1307.91 1531.6 Q1307.91 1540.33 1304.83 1544.94 Q1301.77 1549.52 1295.96 1549.52 Q1290.15 1549.52 1287.07 1544.94 Q1284.02 1540.33 1284.02 1531.6 Q1284.02 1522.85 1287.07 1518.27 Q1290.15 1513.66 1295.96 1513.66 Z\" fill=\"#000000\" fill-rule=\"evenodd\" fill-opacity=\"1\" /><path clip-path=\"url(#clip220)\" d=\"M1765.53 1517.37 Q1761.92 1517.37 1760.09 1520.93 Q1758.28 1524.47 1758.28 1531.6 Q1758.28 1538.71 1760.09 1542.27 Q1761.92 1545.82 1765.53 1545.82 Q1769.16 1545.82 1770.97 1542.27 Q1772.8 1538.71 1772.8 1531.6 Q1772.8 1524.47 1770.97 1520.93 Q1769.16 1517.37 1765.53 1517.37 M1765.53 1513.66 Q1771.34 1513.66 1774.39 1518.27 Q1777.47 1522.85 1777.47 1531.6 Q1777.47 1540.33 1774.39 1544.94 Q1771.34 1549.52 1765.53 1549.52 Q1759.72 1549.52 1756.64 1544.94 Q1753.58 1540.33 1753.58 1531.6 Q1753.58 1522.85 1756.64 1518.27 Q1759.72 1513.66 1765.53 1513.66 Z\" fill=\"#000000\" fill-rule=\"evenodd\" fill-opacity=\"1\" /><path clip-path=\"url(#clip220)\" d=\"M1785.69 1542.97 L1790.57 1542.97 L1790.57 1548.85 L1785.69 1548.85 L1785.69 1542.97 Z\" fill=\"#000000\" fill-rule=\"evenodd\" fill-opacity=\"1\" /><path clip-path=\"url(#clip220)\" d=\"M1800.8 1514.29 L1819.16 1514.29 L1819.16 1518.22 L1805.09 1518.22 L1805.09 1526.7 Q1806.11 1526.35 1807.12 1526.19 Q1808.14 1526 1809.16 1526 Q1814.95 1526 1818.33 1529.17 Q1821.71 1532.34 1821.71 1537.76 Q1821.71 1543.34 1818.23 1546.44 Q1814.76 1549.52 1808.44 1549.52 Q1806.27 1549.52 1804 1549.15 Q1801.75 1548.78 1799.35 1548.04 L1799.35 1543.34 Q1801.43 1544.47 1803.65 1545.03 Q1805.87 1545.58 1808.35 1545.58 Q1812.36 1545.58 1814.69 1543.48 Q1817.03 1541.37 1817.03 1537.76 Q1817.03 1534.15 1814.69 1532.04 Q1812.36 1529.94 1808.35 1529.94 Q1806.48 1529.94 1804.6 1530.35 Q1802.75 1530.77 1800.8 1531.65 L1800.8 1514.29 Z\" fill=\"#000000\" fill-rule=\"evenodd\" fill-opacity=\"1\" /><path clip-path=\"url(#clip220)\" d=\"M2269.1 1544.91 L2276.74 1544.91 L2276.74 1518.55 L2268.42 1520.21 L2268.42 1515.95 L2276.69 1514.29 L2281.36 1514.29 L2281.36 1544.91 L2289 1544.91 L2289 1548.85 L2269.1 1548.85 L2269.1 1544.91 Z\" fill=\"#000000\" fill-rule=\"evenodd\" fill-opacity=\"1\" /><path clip-path=\"url(#clip220)\" d=\"M2298.45 1542.97 L2303.33 1542.97 L2303.33 1548.85 L2298.45 1548.85 L2298.45 1542.97 Z\" fill=\"#000000\" fill-rule=\"evenodd\" fill-opacity=\"1\" /><path clip-path=\"url(#clip220)\" d=\"M2323.52 1517.37 Q2319.91 1517.37 2318.08 1520.93 Q2316.27 1524.47 2316.27 1531.6 Q2316.27 1538.71 2318.08 1542.27 Q2319.91 1545.82 2323.52 1545.82 Q2327.15 1545.82 2328.96 1542.27 Q2330.79 1538.71 2330.79 1531.6 Q2330.79 1524.47 2328.96 1520.93 Q2327.15 1517.37 2323.52 1517.37 M2323.52 1513.66 Q2329.33 1513.66 2332.38 1518.27 Q2335.46 1522.85 2335.46 1531.6 Q2335.46 1540.33 2332.38 1544.94 Q2329.33 1549.52 2323.52 1549.52 Q2317.71 1549.52 2314.63 1544.94 Q2311.57 1540.33 2311.57 1531.6 Q2311.57 1522.85 2314.63 1518.27 Q2317.71 1513.66 2323.52 1513.66 Z\" fill=\"#000000\" fill-rule=\"evenodd\" fill-opacity=\"1\" /><polyline clip-path=\"url(#clip222)\" style=\"stroke:#000000; stroke-linecap:butt; stroke-linejoin:round; stroke-width:2; stroke-opacity:0.1; fill:none\" points=\"\n",
       "  193.936,1446.05 2352.76,1446.05 \n",
       "  \"/>\n",
       "<polyline clip-path=\"url(#clip222)\" style=\"stroke:#000000; stroke-linecap:butt; stroke-linejoin:round; stroke-width:2; stroke-opacity:0.1; fill:none\" points=\"\n",
       "  193.936,1106.45 2352.76,1106.45 \n",
       "  \"/>\n",
       "<polyline clip-path=\"url(#clip222)\" style=\"stroke:#000000; stroke-linecap:butt; stroke-linejoin:round; stroke-width:2; stroke-opacity:0.1; fill:none\" points=\"\n",
       "  193.936,766.846 2352.76,766.846 \n",
       "  \"/>\n",
       "<polyline clip-path=\"url(#clip222)\" style=\"stroke:#000000; stroke-linecap:butt; stroke-linejoin:round; stroke-width:2; stroke-opacity:0.1; fill:none\" points=\"\n",
       "  193.936,427.244 2352.76,427.244 \n",
       "  \"/>\n",
       "<polyline clip-path=\"url(#clip222)\" style=\"stroke:#000000; stroke-linecap:butt; stroke-linejoin:round; stroke-width:2; stroke-opacity:0.1; fill:none\" points=\"\n",
       "  193.936,87.6411 2352.76,87.6411 \n",
       "  \"/>\n",
       "<polyline clip-path=\"url(#clip220)\" style=\"stroke:#000000; stroke-linecap:butt; stroke-linejoin:round; stroke-width:4; stroke-opacity:1; fill:none\" points=\"\n",
       "  193.936,1486.45 193.936,47.2441 \n",
       "  \"/>\n",
       "<polyline clip-path=\"url(#clip220)\" style=\"stroke:#000000; stroke-linecap:butt; stroke-linejoin:round; stroke-width:4; stroke-opacity:1; fill:none\" points=\"\n",
       "  193.936,1446.05 212.834,1446.05 \n",
       "  \"/>\n",
       "<polyline clip-path=\"url(#clip220)\" style=\"stroke:#000000; stroke-linecap:butt; stroke-linejoin:round; stroke-width:4; stroke-opacity:1; fill:none\" points=\"\n",
       "  193.936,1106.45 212.834,1106.45 \n",
       "  \"/>\n",
       "<polyline clip-path=\"url(#clip220)\" style=\"stroke:#000000; stroke-linecap:butt; stroke-linejoin:round; stroke-width:4; stroke-opacity:1; fill:none\" points=\"\n",
       "  193.936,766.846 212.834,766.846 \n",
       "  \"/>\n",
       "<polyline clip-path=\"url(#clip220)\" style=\"stroke:#000000; stroke-linecap:butt; stroke-linejoin:round; stroke-width:4; stroke-opacity:1; fill:none\" points=\"\n",
       "  193.936,427.244 212.834,427.244 \n",
       "  \"/>\n",
       "<polyline clip-path=\"url(#clip220)\" style=\"stroke:#000000; stroke-linecap:butt; stroke-linejoin:round; stroke-width:4; stroke-opacity:1; fill:none\" points=\"\n",
       "  193.936,87.6411 212.834,87.6411 \n",
       "  \"/>\n",
       "<path clip-path=\"url(#clip220)\" d=\"M50.9921 1446.5 L80.6679 1446.5 L80.6679 1450.44 L50.9921 1450.44 L50.9921 1446.5 Z\" fill=\"#000000\" fill-rule=\"evenodd\" fill-opacity=\"1\" /><path clip-path=\"url(#clip220)\" d=\"M91.5706 1459.4 L99.2095 1459.4 L99.2095 1433.03 L90.8993 1434.7 L90.8993 1430.44 L99.1632 1428.77 L103.839 1428.77 L103.839 1459.4 L111.478 1459.4 L111.478 1463.33 L91.5706 1463.33 L91.5706 1459.4 Z\" fill=\"#000000\" fill-rule=\"evenodd\" fill-opacity=\"1\" /><path clip-path=\"url(#clip220)\" d=\"M120.922 1457.45 L125.807 1457.45 L125.807 1463.33 L120.922 1463.33 L120.922 1457.45 Z\" fill=\"#000000\" fill-rule=\"evenodd\" fill-opacity=\"1\" /><path clip-path=\"url(#clip220)\" d=\"M145.992 1431.85 Q142.381 1431.85 140.552 1435.41 Q138.746 1438.96 138.746 1446.09 Q138.746 1453.19 140.552 1456.76 Q142.381 1460.3 145.992 1460.3 Q149.626 1460.3 151.431 1456.76 Q153.26 1453.19 153.26 1446.09 Q153.26 1438.96 151.431 1435.41 Q149.626 1431.85 145.992 1431.85 M145.992 1428.15 Q151.802 1428.15 154.857 1432.75 Q157.936 1437.34 157.936 1446.09 Q157.936 1454.81 154.857 1459.42 Q151.802 1464 145.992 1464 Q140.181 1464 137.103 1459.42 Q134.047 1454.81 134.047 1446.09 Q134.047 1437.34 137.103 1432.75 Q140.181 1428.15 145.992 1428.15 Z\" fill=\"#000000\" fill-rule=\"evenodd\" fill-opacity=\"1\" /><path clip-path=\"url(#clip220)\" d=\"M51.9875 1106.9 L81.6633 1106.9 L81.6633 1110.83 L51.9875 1110.83 L51.9875 1106.9 Z\" fill=\"#000000\" fill-rule=\"evenodd\" fill-opacity=\"1\" /><path clip-path=\"url(#clip220)\" d=\"M101.756 1092.25 Q98.1447 1092.25 96.316 1095.81 Q94.5104 1099.35 94.5104 1106.48 Q94.5104 1113.59 96.316 1117.15 Q98.1447 1120.7 101.756 1120.7 Q105.39 1120.7 107.196 1117.15 Q109.024 1113.59 109.024 1106.48 Q109.024 1099.35 107.196 1095.81 Q105.39 1092.25 101.756 1092.25 M101.756 1088.54 Q107.566 1088.54 110.621 1093.15 Q113.7 1097.73 113.7 1106.48 Q113.7 1115.21 110.621 1119.82 Q107.566 1124.4 101.756 1124.4 Q95.9456 1124.4 92.8669 1119.82 Q89.8114 1115.21 89.8114 1106.48 Q89.8114 1097.73 92.8669 1093.15 Q95.9456 1088.54 101.756 1088.54 Z\" fill=\"#000000\" fill-rule=\"evenodd\" fill-opacity=\"1\" /><path clip-path=\"url(#clip220)\" d=\"M121.918 1117.85 L126.802 1117.85 L126.802 1123.73 L121.918 1123.73 L121.918 1117.85 Z\" fill=\"#000000\" fill-rule=\"evenodd\" fill-opacity=\"1\" /><path clip-path=\"url(#clip220)\" d=\"M137.033 1089.17 L155.39 1089.17 L155.39 1093.1 L141.316 1093.1 L141.316 1101.58 Q142.334 1101.23 143.353 1101.07 Q144.371 1100.88 145.39 1100.88 Q151.177 1100.88 154.556 1104.05 Q157.936 1107.22 157.936 1112.64 Q157.936 1118.22 154.464 1121.32 Q150.992 1124.4 144.672 1124.4 Q142.496 1124.4 140.228 1124.03 Q137.982 1123.66 135.575 1122.92 L135.575 1118.22 Q137.658 1119.35 139.881 1119.91 Q142.103 1120.46 144.58 1120.46 Q148.584 1120.46 150.922 1118.36 Q153.26 1116.25 153.26 1112.64 Q153.26 1109.03 150.922 1106.92 Q148.584 1104.82 144.58 1104.82 Q142.705 1104.82 140.83 1105.23 Q138.978 1105.65 137.033 1106.53 L137.033 1089.17 Z\" fill=\"#000000\" fill-rule=\"evenodd\" fill-opacity=\"1\" /><path clip-path=\"url(#clip220)\" d=\"M100.76 752.645 Q97.1493 752.645 95.3206 756.209 Q93.515 759.751 93.515 766.881 Q93.515 773.987 95.3206 777.552 Q97.1493 781.094 100.76 781.094 Q104.395 781.094 106.2 777.552 Q108.029 773.987 108.029 766.881 Q108.029 759.751 106.2 756.209 Q104.395 752.645 100.76 752.645 M100.76 748.941 Q106.571 748.941 109.626 753.547 Q112.705 758.131 112.705 766.881 Q112.705 775.608 109.626 780.214 Q106.571 784.797 100.76 784.797 Q94.9502 784.797 91.8715 780.214 Q88.816 775.608 88.816 766.881 Q88.816 758.131 91.8715 753.547 Q94.9502 748.941 100.76 748.941 Z\" fill=\"#000000\" fill-rule=\"evenodd\" fill-opacity=\"1\" /><path clip-path=\"url(#clip220)\" d=\"M120.922 778.246 L125.807 778.246 L125.807 784.126 L120.922 784.126 L120.922 778.246 Z\" fill=\"#000000\" fill-rule=\"evenodd\" fill-opacity=\"1\" /><path clip-path=\"url(#clip220)\" d=\"M145.992 752.645 Q142.381 752.645 140.552 756.209 Q138.746 759.751 138.746 766.881 Q138.746 773.987 140.552 777.552 Q142.381 781.094 145.992 781.094 Q149.626 781.094 151.431 777.552 Q153.26 773.987 153.26 766.881 Q153.26 759.751 151.431 756.209 Q149.626 752.645 145.992 752.645 M145.992 748.941 Q151.802 748.941 154.857 753.547 Q157.936 758.131 157.936 766.881 Q157.936 775.608 154.857 780.214 Q151.802 784.797 145.992 784.797 Q140.181 784.797 137.103 780.214 Q134.047 775.608 134.047 766.881 Q134.047 758.131 137.103 753.547 Q140.181 748.941 145.992 748.941 Z\" fill=\"#000000\" fill-rule=\"evenodd\" fill-opacity=\"1\" /><path clip-path=\"url(#clip220)\" d=\"M101.756 413.042 Q98.1447 413.042 96.316 416.607 Q94.5104 420.149 94.5104 427.278 Q94.5104 434.385 96.316 437.95 Q98.1447 441.491 101.756 441.491 Q105.39 441.491 107.196 437.95 Q109.024 434.385 109.024 427.278 Q109.024 420.149 107.196 416.607 Q105.39 413.042 101.756 413.042 M101.756 409.339 Q107.566 409.339 110.621 413.945 Q113.7 418.528 113.7 427.278 Q113.7 436.005 110.621 440.612 Q107.566 445.195 101.756 445.195 Q95.9456 445.195 92.8669 440.612 Q89.8114 436.005 89.8114 427.278 Q89.8114 418.528 92.8669 413.945 Q95.9456 409.339 101.756 409.339 Z\" fill=\"#000000\" fill-rule=\"evenodd\" fill-opacity=\"1\" /><path clip-path=\"url(#clip220)\" d=\"M121.918 438.644 L126.802 438.644 L126.802 444.524 L121.918 444.524 L121.918 438.644 Z\" fill=\"#000000\" fill-rule=\"evenodd\" fill-opacity=\"1\" /><path clip-path=\"url(#clip220)\" d=\"M137.033 409.964 L155.39 409.964 L155.39 413.899 L141.316 413.899 L141.316 422.371 Q142.334 422.024 143.353 421.862 Q144.371 421.676 145.39 421.676 Q151.177 421.676 154.556 424.848 Q157.936 428.019 157.936 433.436 Q157.936 439.014 154.464 442.116 Q150.992 445.195 144.672 445.195 Q142.496 445.195 140.228 444.824 Q137.982 444.454 135.575 443.713 L135.575 439.014 Q137.658 440.149 139.881 440.704 Q142.103 441.26 144.58 441.26 Q148.584 441.26 150.922 439.153 Q153.26 437.047 153.26 433.436 Q153.26 429.825 150.922 427.718 Q148.584 425.612 144.58 425.612 Q142.705 425.612 140.83 426.028 Q138.978 426.445 137.033 427.325 L137.033 409.964 Z\" fill=\"#000000\" fill-rule=\"evenodd\" fill-opacity=\"1\" /><path clip-path=\"url(#clip220)\" d=\"M91.5706 100.986 L99.2095 100.986 L99.2095 74.6204 L90.8993 76.287 L90.8993 72.0278 L99.1632 70.3611 L103.839 70.3611 L103.839 100.986 L111.478 100.986 L111.478 104.921 L91.5706 104.921 L91.5706 100.986 Z\" fill=\"#000000\" fill-rule=\"evenodd\" fill-opacity=\"1\" /><path clip-path=\"url(#clip220)\" d=\"M120.922 99.0415 L125.807 99.0415 L125.807 104.921 L120.922 104.921 L120.922 99.0415 Z\" fill=\"#000000\" fill-rule=\"evenodd\" fill-opacity=\"1\" /><path clip-path=\"url(#clip220)\" d=\"M145.992 73.4398 Q142.381 73.4398 140.552 77.0046 Q138.746 80.5463 138.746 87.6759 Q138.746 94.7823 140.552 98.3471 Q142.381 101.889 145.992 101.889 Q149.626 101.889 151.431 98.3471 Q153.26 94.7823 153.26 87.6759 Q153.26 80.5463 151.431 77.0046 Q149.626 73.4398 145.992 73.4398 M145.992 69.7361 Q151.802 69.7361 154.857 74.3426 Q157.936 78.9259 157.936 87.6759 Q157.936 96.4027 154.857 101.009 Q151.802 105.592 145.992 105.592 Q140.181 105.592 137.103 101.009 Q134.047 96.4027 134.047 87.6759 Q134.047 78.9259 137.103 74.3426 Q140.181 69.7361 145.992 69.7361 Z\" fill=\"#000000\" fill-rule=\"evenodd\" fill-opacity=\"1\" /><polyline clip-path=\"url(#clip222)\" style=\"stroke:#009af9; stroke-linecap:butt; stroke-linejoin:round; stroke-width:12; stroke-opacity:1; fill:none\" points=\"\n",
       "  255.035,1445.72 275.607,1443.04 296.179,1437.69 316.751,1429.69 337.322,1419.08 357.894,1405.9 378.466,1390.19 399.038,1372.02 419.61,1351.47 440.182,1328.6 \n",
       "  460.754,1303.52 481.326,1276.33 501.898,1247.12 522.47,1216.01 543.042,1183.14 563.614,1148.62 584.186,1112.59 604.758,1075.2 625.33,1036.59 645.902,996.918 \n",
       "  666.474,956.338 687.046,915.01 707.617,873.097 728.189,830.765 748.761,788.18 769.333,745.512 789.905,702.927 810.477,660.595 831.049,618.682 851.621,577.354 \n",
       "  872.193,536.774 892.765,497.101 913.337,458.493 933.909,421.103 954.481,385.076 975.053,350.557 995.625,317.68 1016.2,286.576 1036.77,257.367 1057.34,230.169 \n",
       "  1077.91,205.089 1098.48,182.226 1119.06,161.67 1139.63,143.503 1160.2,127.795 1180.77,114.61 1201.34,103.999 1221.92,96.0033 1242.49,90.6555 1263.06,87.9763 \n",
       "  1283.63,87.9763 1304.2,90.6555 1324.78,96.0033 1345.35,103.999 1365.92,114.61 1386.49,127.795 1407.06,143.503 1427.64,161.67 1448.21,182.226 1468.78,205.089 \n",
       "  1489.35,230.169 1509.92,257.367 1530.5,286.576 1551.07,317.68 1571.64,350.557 1592.21,385.076 1612.78,421.103 1633.35,458.493 1653.93,497.101 1674.5,536.774 \n",
       "  1695.07,577.354 1715.64,618.682 1736.21,660.595 1756.79,702.927 1777.36,745.512 1797.93,788.18 1818.5,830.765 1839.07,873.097 1859.65,915.01 1880.22,956.338 \n",
       "  1900.79,996.918 1921.36,1036.59 1941.93,1075.2 1962.51,1112.59 1983.08,1148.62 2003.65,1183.14 2024.22,1216.01 2044.79,1247.12 2065.37,1276.33 2085.94,1303.52 \n",
       "  2106.51,1328.6 2127.08,1351.47 2147.65,1372.02 2168.23,1390.19 2188.8,1405.9 2209.37,1419.08 2229.94,1429.69 2250.51,1437.69 2271.09,1443.04 2291.66,1445.72 \n",
       "  \n",
       "  \"/>\n",
       "<polyline clip-path=\"url(#clip222)\" style=\"stroke:#e26f46; stroke-linecap:butt; stroke-linejoin:round; stroke-width:12; stroke-opacity:1; fill:none\" points=\"\n",
       "  255.035,1341.31 275.607,1323.81 296.179,1305.73 316.751,1286.41 337.322,1266.3 357.894,1245.85 378.466,1224.56 399.038,1202.67 419.61,1180.4 440.182,1157.5 \n",
       "  460.754,1134.24 481.326,1110.54 501.898,1086.49 522.47,1062.09 543.042,1037.39 563.614,1012.41 584.186,987.197 604.758,961.766 625.33,936.148 645.902,910.369 \n",
       "  666.474,884.456 687.046,858.433 707.617,832.325 728.189,806.158 748.761,779.954 769.333,753.738 789.905,727.534 810.477,701.367 831.049,675.259 851.621,649.236 \n",
       "  872.193,623.323 892.765,597.544 913.337,571.926 933.909,546.495 954.481,521.279 975.053,496.305 995.625,471.605 1016.2,447.207 1036.77,423.149 1057.34,399.448 \n",
       "  1077.91,376.188 1098.48,353.294 1119.06,331.019 1139.63,309.128 1160.2,287.84 1180.77,267.389 1201.34,247.282 1221.92,227.964 1242.49,209.879 1263.06,192.386 \n",
       "  1283.63,175.359 1304.2,159.731 1324.78,145.989 1345.35,133.353 1365.92,120.87 1386.49,109.064 1407.06,99.911 1427.64,95.2147 1448.21,94.3976 1468.78,95.3643 \n",
       "  1489.35,98.1211 1509.92,103.115 1530.5,110.803 1551.07,121.686 1571.64,136.317 1592.21,155.3 1612.78,179.312 1633.35,209.118 1653.93,245.592 1674.5,289.728 \n",
       "  1695.07,342.629 1715.64,405.454 1736.21,479.29 1756.79,564.864 1777.36,662.045 1797.93,871.647 1818.5,968.828 1839.07,1054.4 1859.65,1128.24 1880.22,1191.06 \n",
       "  1900.79,1243.96 1921.36,1288.1 1941.93,1324.57 1962.51,1354.38 1983.08,1378.39 2003.65,1397.37 2024.22,1412.01 2044.79,1422.89 2065.37,1430.58 2085.94,1435.57 \n",
       "  2106.51,1438.33 2127.08,1439.29 2147.65,1438.48 2168.23,1433.78 2188.8,1424.63 2209.37,1412.82 2229.94,1400.34 2250.51,1387.7 2271.09,1373.96 2291.66,1358.33 \n",
       "  \n",
       "  \"/>\n",
       "<polyline clip-path=\"url(#clip222)\" style=\"stroke:#3da44d; stroke-linecap:butt; stroke-linejoin:round; stroke-width:12; stroke-opacity:1; fill:none\" points=\"\n",
       "  255.035,1212.29 275.607,1195.83 296.179,1179.03 316.751,1161.82 337.322,1144.45 357.894,1127.13 378.466,1109.59 399.038,1091.72 419.61,1073.83 440.182,1055.9 \n",
       "  460.754,1037.7 481.326,1019.45 501.898,1001.16 522.47,982.687 543.042,964.203 563.614,945.61 584.186,926.966 604.758,908.261 625.33,889.506 645.902,870.707 \n",
       "  666.474,851.872 687.046,833.008 707.617,814.121 728.189,795.217 748.761,776.304 769.333,757.388 789.905,738.475 810.477,719.571 831.049,700.684 851.621,681.82 \n",
       "  872.193,662.985 892.765,644.186 913.337,625.431 933.909,606.726 954.481,588.082 975.053,569.489 995.625,551.005 1016.2,532.534 1036.77,514.238 1057.34,495.992 \n",
       "  1077.91,477.794 1098.48,459.864 1119.06,441.974 1139.63,424.105 1160.2,406.563 1180.77,389.24 1201.34,371.871 1221.92,354.657 1242.49,337.866 1263.06,321.402 \n",
       "  1283.63,304.952 1304.2,288.525 1324.78,272.534 1345.35,257.168 1365.92,242.235 1386.49,227.388 1407.06,212.453 1427.64,197.801 1448.21,184.129 1468.78,171.752 \n",
       "  1489.35,160.268 1509.92,148.72 1530.5,136.457 1551.07,123.772 1571.64,112.268 1592.21,104.281 1612.78,100.88 1633.35,100.639 1653.93,102.067 1674.5,105.521 \n",
       "  1695.07,111.68 1715.64,121.582 1736.21,136.874 1756.79,160.507 1777.36,198.864 1797.93,1334.83 1818.5,1373.18 1839.07,1396.82 1859.65,1412.11 1880.22,1422.01 \n",
       "  1900.79,1428.17 1921.36,1431.62 1941.93,1433.05 1962.51,1432.81 1983.08,1429.41 2003.65,1421.42 2024.22,1409.92 2044.79,1397.24 2065.37,1384.97 2085.94,1373.42 \n",
       "  2106.51,1361.94 2127.08,1349.56 2147.65,1335.89 2168.23,1321.24 2188.8,1306.3 2209.37,1291.46 2229.94,1276.52 2250.51,1261.16 2271.09,1245.17 2291.66,1228.74 \n",
       "  \n",
       "  \"/>\n",
       "<polyline clip-path=\"url(#clip222)\" style=\"stroke:#c271d2; stroke-linecap:butt; stroke-linejoin:round; stroke-width:12; stroke-opacity:1; fill:none\" points=\"\n",
       "  255.035,1122.77 275.607,1108.84 296.179,1094.89 316.751,1080.75 337.322,1066.46 357.894,1052.14 378.466,1037.9 399.038,1023.58 419.61,1009.09 440.182,994.586 \n",
       "  460.754,980.14 481.326,965.603 501.898,950.964 522.47,936.378 543.042,921.747 563.614,907.043 584.186,892.372 604.758,877.642 625.33,862.911 645.902,848.157 \n",
       "  666.474,833.392 687.046,818.615 707.617,803.83 728.189,789.039 748.761,774.244 769.333,759.448 789.905,744.653 810.477,729.862 831.049,715.077 851.621,700.3 \n",
       "  872.193,685.535 892.765,670.781 913.337,656.05 933.909,641.32 954.481,626.649 975.053,611.945 995.625,597.314 1016.2,582.728 1036.77,568.089 1057.34,553.552 \n",
       "  1077.91,539.106 1098.48,524.6 1119.06,510.111 1139.63,495.796 1160.2,481.547 1180.77,467.236 1201.34,452.944 1221.92,438.807 1242.49,424.849 1263.06,410.922 \n",
       "  1283.63,396.912 1304.2,382.946 1324.78,369.206 1345.35,355.683 1365.92,342.287 1386.49,328.87 1407.06,315.4 1427.64,302.011 1448.21,288.872 1468.78,276.146 \n",
       "  1489.35,263.761 1509.92,251.408 1530.5,238.918 1551.07,226.291 1571.64,213.743 1592.21,201.686 1612.78,190.49 1633.35,180.291 1653.93,170.591 1674.5,160.717 \n",
       "  1695.07,149.876 1715.64,137.76 1736.21,125.364 1756.79,114.923 1777.36,108.392 1797.93,1425.3 1818.5,1418.77 1839.07,1408.33 1859.65,1395.93 1880.22,1383.82 \n",
       "  1900.79,1372.98 1921.36,1363.1 1941.93,1353.4 1962.51,1343.2 1983.08,1332.01 2003.65,1319.95 2024.22,1307.4 2044.79,1294.77 2065.37,1282.28 2085.94,1269.93 \n",
       "  2106.51,1257.55 2127.08,1244.82 2147.65,1231.68 2168.23,1218.29 2188.8,1204.82 2209.37,1191.41 2229.94,1178.01 2250.51,1164.49 2271.09,1150.75 2291.66,1136.78 \n",
       "  \n",
       "  \"/>\n",
       "<polyline clip-path=\"url(#clip222)\" style=\"stroke:#ac8d18; stroke-linecap:butt; stroke-linejoin:round; stroke-width:12; stroke-opacity:1; fill:none\" points=\"\n",
       "  255.035,1061.68 275.607,1049.79 296.179,1037.95 316.751,1026.14 337.322,1014.31 357.894,1002.38 378.466,990.387 399.038,978.401 419.61,966.474 440.182,954.505 \n",
       "  460.754,942.437 481.326,930.374 501.898,918.36 522.47,906.305 543.042,894.184 563.614,882.105 584.186,870.018 604.758,857.879 625.33,845.773 645.902,833.636 \n",
       "  666.474,821.503 687.046,809.362 707.617,797.217 728.189,785.07 748.761,772.921 769.333,760.771 789.905,748.622 810.477,736.475 831.049,724.33 851.621,712.189 \n",
       "  872.193,700.056 892.765,687.919 913.337,675.813 933.909,663.674 954.481,651.587 975.053,639.508 995.625,627.387 1016.2,615.332 1036.77,603.318 1057.34,591.255 \n",
       "  1077.91,579.187 1098.48,567.218 1119.06,555.291 1139.63,543.305 1160.2,531.308 1180.77,519.385 1201.34,507.551 1221.92,495.746 1242.49,483.905 1263.06,472.016 \n",
       "  1283.63,460.204 1304.2,448.527 1324.78,436.92 1345.35,425.316 1365.92,413.665 1386.49,401.991 1407.06,390.41 1427.64,378.95 1448.21,367.609 1468.78,356.394 \n",
       "  1489.35,345.161 1509.92,333.889 1530.5,322.507 1551.07,311.302 1571.64,299.991 1592.21,289.792 1612.78,277.596 1633.35,270.383 1653.93,254.215 1674.5,251.795 \n",
       "  1695.07,231.221 1715.64,230.142 1736.21,210.178 1756.79,209.289 1777.36,191.146 1797.93,1342.55 1818.5,1324.4 1839.07,1323.51 1859.65,1303.55 1880.22,1302.47 \n",
       "  1900.79,1281.9 1921.36,1279.48 1941.93,1263.31 1962.51,1256.1 1983.08,1243.9 2003.65,1233.7 2024.22,1222.39 2044.79,1211.18 2065.37,1199.8 2085.94,1188.53 \n",
       "  2106.51,1177.3 2127.08,1166.08 2147.65,1154.74 2168.23,1143.28 2188.8,1131.7 2209.37,1120.03 2229.94,1108.38 2250.51,1096.77 2271.09,1085.16 2291.66,1073.49 \n",
       "  \n",
       "  \"/>\n",
       "<polyline clip-path=\"url(#clip222)\" style=\"stroke:#00a9ad; stroke-linecap:butt; stroke-linejoin:round; stroke-width:12; stroke-opacity:1; fill:none\" points=\"\n",
       "  255.035,1017.87 275.607,1007.8 296.179,997.648 316.751,987.446 337.322,977.241 357.894,967.055 378.466,956.899 399.038,946.719 419.61,936.473 440.182,926.198 \n",
       "  460.754,915.972 481.326,905.763 501.898,895.5 522.47,885.204 543.042,874.938 563.614,864.689 584.186,854.388 604.758,844.091 625.33,833.82 645.902,823.509 \n",
       "  666.474,813.216 687.046,802.913 707.617,792.61 728.189,782.305 748.761,771.999 769.333,761.693 789.905,751.387 810.477,741.082 831.049,730.779 851.621,720.476 \n",
       "  872.193,710.183 892.765,699.872 913.337,689.601 933.909,679.304 954.481,669.003 975.053,658.754 995.625,648.488 1016.2,638.192 1036.77,627.929 1057.34,617.72 \n",
       "  1077.91,607.494 1098.48,597.219 1119.06,586.973 1139.63,576.793 1160.2,566.637 1180.77,556.451 1201.34,546.246 1221.92,536.044 1242.49,525.893 1263.06,515.82 \n",
       "  1283.63,505.762 1304.2,495.658 1324.78,485.531 1345.35,475.418 1365.92,465.347 1386.49,455.409 1407.06,445.425 1427.64,435.644 1448.21,425.31 1468.78,416.242 \n",
       "  1489.35,404.362 1509.92,398.04 1530.5,382.305 1551.07,380.853 1571.64,361.439 1592.21,361.837 1612.78,342.647 1633.35,341.638 1653.93,323.287 1674.5,322.744 \n",
       "  1695.07,303.606 1715.64,303.593 1736.21,285.055 1756.79,285.351 1777.36,266.823 1797.93,1266.87 1818.5,1248.34 1839.07,1248.64 1859.65,1230.1 1880.22,1230.09 \n",
       "  1900.79,1210.95 1921.36,1210.4 1941.93,1192.05 1962.51,1191.05 1983.08,1171.86 2003.65,1172.25 2024.22,1152.84 2044.79,1151.39 2065.37,1135.65 2085.94,1129.33 \n",
       "  2106.51,1117.45 2127.08,1108.38 2147.65,1098.05 2168.23,1088.27 2188.8,1078.28 2209.37,1068.34 2229.94,1058.27 2250.51,1048.16 2271.09,1038.03 2291.66,1027.93 \n",
       "  \n",
       "  \"/>\n",
       "</svg>\n"
      ]
     },
     "execution_count": 34,
     "metadata": {},
     "output_type": "execute_result"
    }
   ],
   "source": [
    "x, thist, uhist = fv_solve1(\n",
    "    riemann_burgers_shock, cospi, 100, 1)\n",
    "plot(x, uhist[:,1:10:end], legend=:none)"
   ]
  },
  {
   "cell_type": "markdown",
   "id": "7ed9134f",
   "metadata": {
    "slideshow": {
     "slide_type": "slide"
    }
   },
   "source": [
    "# Rarefactions\n",
    "\n",
    "This solution was better, but we still have odd ripples in the rarefaction. This is an **expansion shock**, which is a **mathematical solution** to the PDE, but not a physical solution."
   ]
  },
  {
   "cell_type": "markdown",
   "id": "bf8f55ed",
   "metadata": {
    "cell_style": "split"
   },
   "source": [
    "![Toro (2009) Figure 2.14](../img/Toro-ShockRarefaction-2.14.png)"
   ]
  },
  {
   "cell_type": "markdown",
   "id": "830cc529",
   "metadata": {
    "cell_style": "split"
   },
   "source": [
    "but this violates the **entropy condition**\n",
    "$$ F'(u_L) > s > F'(u_R) . $$\n",
    "Shocks are compressive phenomena and physical solutions to the expansive scenario $F'(u_L) < F'(u_R)$ are rarefactions."
   ]
  },
  {
   "cell_type": "markdown",
   "id": "4d34f9f4",
   "metadata": {
    "slideshow": {
     "slide_type": "slide"
    }
   },
   "source": [
    "# Physical rarefactions"
   ]
  },
  {
   "cell_type": "markdown",
   "id": "e9e69fc1",
   "metadata": {
    "cell_style": "split"
   },
   "source": [
    "![Toro (2009) Figure 2.16](../img/Toro-Rarefaction-2.16.png)"
   ]
  },
  {
   "cell_type": "markdown",
   "id": "d18e9f13",
   "metadata": {
    "cell_style": "split"
   },
   "source": [
    "We need to color into the rarefaction in a physical way. We can justify this by considering the hyperbolic problem to be the singular limit of a problem with diffusion/viscosity, leading to \"viscosity solutions\"."
   ]
  },
  {
   "cell_type": "markdown",
   "id": "ce50e4d5",
   "metadata": {
    "slideshow": {
     "slide_type": "slide"
    }
   },
   "source": [
    "# Entropy functions\n",
    "\n"
   ]
  },
  {
   "cell_type": "markdown",
   "id": "84b4ff75",
   "metadata": {
    "cell_style": "split"
   },
   "source": [
    "Consider a smooth function $\\eta(u)$ that is convex $\\eta''(u) > 0$ and a smooth solution $u(t,x)$.\n",
    "Then\n",
    "$$ u_t + F(u)_x = 0 $$\n",
    "is equivalent to\n",
    "$$ u_t + F'(u) u_x = 0 $$\n",
    "and we can write\n",
    "$$ \\eta'(u) u_t + \\eta'(u) F'(u) u_x = 0 . $$\n",
    "If we find a function $\\psi(u)$ such that $\\psi'(u) = \\eta'(u) F'(u)$, the equation above is equivalent (for smooth solutions) to\n",
    "$$ \\eta(u)_t + \\psi(u)_x = 0 $$\n",
    "which is a conservation law for the entropy $\\eta(u)$ with entropy flux $\\psi(u)$.\n"
   ]
  },
  {
   "cell_type": "markdown",
   "id": "fa4a46f7",
   "metadata": {
    "cell_style": "split"
   },
   "source": [
    "Now consider the parabolic equation\n",
    "$$ u_t + F(u)_x -\\epsilon u_{xx} = 0 $$\n",
    "for some positive $\\epsilon$.\n",
    "\n",
    "This equation has a smooth solution for any $\\epsilon > 0$ and $t > 0$ so we can multiply by $\\eta'(u)$ as above and apply the chain rule to yield\n",
    "$$ \\eta(u)_t + \\psi(u)_x - \\epsilon \\eta'(u) u_{xx} = 0 . $$\n",
    "Rearranging the last term produces\n",
    "$$ \\eta(u)_t + \\psi(u)_x - \\epsilon \\Big( \\eta'(u) u_x \\Big)_x = - \\epsilon \\eta''(u) u_x^2 . $$\n",
    "If both terms involving $\\epsilon$ were to vanish, we would be left with conservation of entropy."
   ]
  },
  {
   "cell_type": "markdown",
   "id": "6d313b3b",
   "metadata": {
    "slideshow": {
     "slide_type": "slide"
    }
   },
   "source": [
    "# Entropy solutions: $\\epsilon\\to 0$\n",
    "\n",
    "$$ \\eta(u)_t + \\psi(u)_x - \\epsilon \\Big( \\eta'(u) u_x \\Big)_x = - \\epsilon \\eta''(u) u_x^2 $$"
   ]
  },
  {
   "cell_type": "markdown",
   "id": "af206b05",
   "metadata": {
    "cell_style": "split"
   },
   "source": [
    "## Left side\n",
    "$$ \\int_a^b \\Big( \\eta'(u) u_x \\Big)_x dx = \\eta'(u) u_x |_{x=a}^b $$\n",
    "which is bounded independent of the values $u_x$ may take inside the interval.  Consequently, the left hand side reduces to a conservation law in the limit $\\epsilon\\to 0$."
   ]
  },
  {
   "cell_type": "markdown",
   "id": "57b75430",
   "metadata": {
    "cell_style": "split"
   },
   "source": [
    "## Right side\n",
    "\n",
    "The integral of the right hand side, however, does not vanish in the limit since\n",
    "$$\\int_a^b u_x^2$$ is unbounded as $u_x$ grows.\n",
    "* $\\eta(u)$ being convex implies $\\eta''(u) > 0$.\n",
    "\n",
    "So entropy must be dissipated across shocks,\n",
    "$$ \\eta(u)_t + \\psi(u)_x \\le 0, $$\n",
    "with equality for smooth solutions and strict inequality at shocks."
   ]
  },
  {
   "cell_type": "markdown",
   "id": "d3ddd88f",
   "metadata": {
    "slideshow": {
     "slide_type": "slide"
    }
   },
   "source": [
    "# Mathematical versus physical entropy\n",
    "\n",
    "Our choice of $\\eta(u)$ being a convex function $\\eta''(u) > 0$ causes entropy to be **dissipated** across shocks.  This is the convention in math literature because convex analysis chose the sign (versus \"concave analysis\").\n",
    "\n",
    "Physical entropy is **produced** by such processes, so $-\\eta(u)$ would make sense as a physical entropy."
   ]
  },
  {
   "cell_type": "markdown",
   "id": "e8fa2ddd",
   "metadata": {
    "cell_style": "split",
    "slideshow": {
     "slide_type": ""
    }
   },
   "source": [
    "## Uniqueness\n",
    "\n",
    "While any convex function will work to show uniqueness for **scalar** conservation laws, that is not true of hyperbolic **systems**, for which the \"entropy pair\" $(\\eta, \\psi)$ should satisfy a symmetry property. A \"physical entropy\" exists for real systems, and may be used for this purpose."
   ]
  },
  {
   "cell_type": "markdown",
   "id": "23c80f46",
   "metadata": {
    "cell_style": "split",
    "slideshow": {
     "slide_type": ""
    }
   },
   "source": [
    "## Shallow water\n",
    "\n",
    "$$\\begin{bmatrix} h \\\\ h\\mathbf u \\end{bmatrix}_t + \\nabla\\cdot\\begin{bmatrix} h\\mathbf u \\\\ h \\mathbf u \\otimes \\mathbf u + \\frac{g}{2} h^2 \\mathbf I \\end{bmatrix} = 0$$\n",
    "\n",
    "* conserve mass and momentum\n",
    "* energy is only conserved for smooth solutions\n",
    "* shocks (crashing waves) produce heat, but energy is not a state variable.\n",
    "* Energy is the \"entropy\" of shallow water\n",
    "$$ \\eta = \\underbrace{\\frac h 2 \\lvert \\mathbf u \\rvert^2}_{\\text{kinetic}} + \\underbrace{\\frac g 2 h^2}_{\\text{potential}}$$"
   ]
  },
  {
   "cell_type": "markdown",
   "id": "1b76c7ef",
   "metadata": {
    "slideshow": {
     "slide_type": "slide"
    }
   },
   "source": [
    "# Looking into the rarefaction fan\n",
    "\n"
   ]
  },
  {
   "cell_type": "code",
   "execution_count": 35,
   "id": "83e34248",
   "metadata": {
    "cell_style": "split"
   },
   "outputs": [
    {
     "data": {
      "text/plain": [
       "riemann_burgers (generic function with 1 method)"
      ]
     },
     "execution_count": 35,
     "metadata": {},
     "output_type": "execute_result"
    }
   ],
   "source": [
    "function riemann_burgers(uL, uR)\n",
    "    flux = zero(uL)\n",
    "    for i in 1:length(flux)\n",
    "        fL = flux_burgers(uL[i])\n",
    "        fR = flux_burgers(uR[i])\n",
    "        flux[i] = if uL[i] > uR[i] # shock\n",
    "            max(fL, fR)\n",
    "        elseif uL[i] > 0 # rarefaction all to the right\n",
    "            fL\n",
    "        elseif uR[i] < 0 # rarefaction all to the left\n",
    "            fR\n",
    "        else\n",
    "            0\n",
    "        end\n",
    "    end\n",
    "    flux\n",
    "end"
   ]
  },
  {
   "cell_type": "code",
   "execution_count": 36,
   "id": "10135413",
   "metadata": {
    "cell_style": "split",
    "scrolled": false
   },
   "outputs": [
    {
     "data": {
      "image/svg+xml": [
       "<?xml version=\"1.0\" encoding=\"utf-8\"?>\n",
       "<svg xmlns=\"http://www.w3.org/2000/svg\" xmlns:xlink=\"http://www.w3.org/1999/xlink\" width=\"600\" height=\"400\" viewBox=\"0 0 2400 1600\">\n",
       "<defs>\n",
       "  <clipPath id=\"clip260\">\n",
       "    <rect x=\"0\" y=\"0\" width=\"2400\" height=\"1600\"/>\n",
       "  </clipPath>\n",
       "</defs>\n",
       "<path clip-path=\"url(#clip260)\" d=\"\n",
       "M0 1600 L2400 1600 L2400 0 L0 0  Z\n",
       "  \" fill=\"#ffffff\" fill-rule=\"evenodd\" fill-opacity=\"1\"/>\n",
       "<defs>\n",
       "  <clipPath id=\"clip261\">\n",
       "    <rect x=\"480\" y=\"0\" width=\"1681\" height=\"1600\"/>\n",
       "  </clipPath>\n",
       "</defs>\n",
       "<path clip-path=\"url(#clip260)\" d=\"\n",
       "M193.936 1486.45 L2352.76 1486.45 L2352.76 47.2441 L193.936 47.2441  Z\n",
       "  \" fill=\"#ffffff\" fill-rule=\"evenodd\" fill-opacity=\"1\"/>\n",
       "<defs>\n",
       "  <clipPath id=\"clip262\">\n",
       "    <rect x=\"193\" y=\"47\" width=\"2160\" height=\"1440\"/>\n",
       "  </clipPath>\n",
       "</defs>\n",
       "<polyline clip-path=\"url(#clip262)\" style=\"stroke:#000000; stroke-linecap:butt; stroke-linejoin:round; stroke-width:2; stroke-opacity:0.1; fill:none\" points=\"\n",
       "  244.749,1486.45 244.749,47.2441 \n",
       "  \"/>\n",
       "<polyline clip-path=\"url(#clip262)\" style=\"stroke:#000000; stroke-linecap:butt; stroke-linejoin:round; stroke-width:2; stroke-opacity:0.1; fill:none\" points=\"\n",
       "  759.047,1486.45 759.047,47.2441 \n",
       "  \"/>\n",
       "<polyline clip-path=\"url(#clip262)\" style=\"stroke:#000000; stroke-linecap:butt; stroke-linejoin:round; stroke-width:2; stroke-opacity:0.1; fill:none\" points=\"\n",
       "  1273.35,1486.45 1273.35,47.2441 \n",
       "  \"/>\n",
       "<polyline clip-path=\"url(#clip262)\" style=\"stroke:#000000; stroke-linecap:butt; stroke-linejoin:round; stroke-width:2; stroke-opacity:0.1; fill:none\" points=\"\n",
       "  1787.64,1486.45 1787.64,47.2441 \n",
       "  \"/>\n",
       "<polyline clip-path=\"url(#clip262)\" style=\"stroke:#000000; stroke-linecap:butt; stroke-linejoin:round; stroke-width:2; stroke-opacity:0.1; fill:none\" points=\"\n",
       "  2301.94,1486.45 2301.94,47.2441 \n",
       "  \"/>\n",
       "<polyline clip-path=\"url(#clip260)\" style=\"stroke:#000000; stroke-linecap:butt; stroke-linejoin:round; stroke-width:4; stroke-opacity:1; fill:none\" points=\"\n",
       "  193.936,1486.45 2352.76,1486.45 \n",
       "  \"/>\n",
       "<polyline clip-path=\"url(#clip260)\" style=\"stroke:#000000; stroke-linecap:butt; stroke-linejoin:round; stroke-width:4; stroke-opacity:1; fill:none\" points=\"\n",
       "  244.749,1486.45 244.749,1467.55 \n",
       "  \"/>\n",
       "<polyline clip-path=\"url(#clip260)\" style=\"stroke:#000000; stroke-linecap:butt; stroke-linejoin:round; stroke-width:4; stroke-opacity:1; fill:none\" points=\"\n",
       "  759.047,1486.45 759.047,1467.55 \n",
       "  \"/>\n",
       "<polyline clip-path=\"url(#clip260)\" style=\"stroke:#000000; stroke-linecap:butt; stroke-linejoin:round; stroke-width:4; stroke-opacity:1; fill:none\" points=\"\n",
       "  1273.35,1486.45 1273.35,1467.55 \n",
       "  \"/>\n",
       "<polyline clip-path=\"url(#clip260)\" style=\"stroke:#000000; stroke-linecap:butt; stroke-linejoin:round; stroke-width:4; stroke-opacity:1; fill:none\" points=\"\n",
       "  1787.64,1486.45 1787.64,1467.55 \n",
       "  \"/>\n",
       "<polyline clip-path=\"url(#clip260)\" style=\"stroke:#000000; stroke-linecap:butt; stroke-linejoin:round; stroke-width:4; stroke-opacity:1; fill:none\" points=\"\n",
       "  2301.94,1486.45 2301.94,1467.55 \n",
       "  \"/>\n",
       "<path clip-path=\"url(#clip260)\" d=\"M191.277 1532.02 L220.953 1532.02 L220.953 1535.95 L191.277 1535.95 L191.277 1532.02 Z\" fill=\"#000000\" fill-rule=\"evenodd\" fill-opacity=\"1\" /><path clip-path=\"url(#clip260)\" d=\"M231.855 1544.91 L239.494 1544.91 L239.494 1518.55 L231.184 1520.21 L231.184 1515.95 L239.448 1514.29 L244.124 1514.29 L244.124 1544.91 L251.763 1544.91 L251.763 1548.85 L231.855 1548.85 L231.855 1544.91 Z\" fill=\"#000000\" fill-rule=\"evenodd\" fill-opacity=\"1\" /><path clip-path=\"url(#clip260)\" d=\"M261.207 1542.97 L266.091 1542.97 L266.091 1548.85 L261.207 1548.85 L261.207 1542.97 Z\" fill=\"#000000\" fill-rule=\"evenodd\" fill-opacity=\"1\" /><path clip-path=\"url(#clip260)\" d=\"M286.276 1517.37 Q282.665 1517.37 280.836 1520.93 Q279.031 1524.47 279.031 1531.6 Q279.031 1538.71 280.836 1542.27 Q282.665 1545.82 286.276 1545.82 Q289.91 1545.82 291.716 1542.27 Q293.545 1538.71 293.545 1531.6 Q293.545 1524.47 291.716 1520.93 Q289.91 1517.37 286.276 1517.37 M286.276 1513.66 Q292.086 1513.66 295.142 1518.27 Q298.221 1522.85 298.221 1531.6 Q298.221 1540.33 295.142 1544.94 Q292.086 1549.52 286.276 1549.52 Q280.466 1549.52 277.387 1544.94 Q274.332 1540.33 274.332 1531.6 Q274.332 1522.85 277.387 1518.27 Q280.466 1513.66 286.276 1513.66 Z\" fill=\"#000000\" fill-rule=\"evenodd\" fill-opacity=\"1\" /><path clip-path=\"url(#clip260)\" d=\"M706.073 1532.02 L735.749 1532.02 L735.749 1535.95 L706.073 1535.95 L706.073 1532.02 Z\" fill=\"#000000\" fill-rule=\"evenodd\" fill-opacity=\"1\" /><path clip-path=\"url(#clip260)\" d=\"M755.841 1517.37 Q752.23 1517.37 750.402 1520.93 Q748.596 1524.47 748.596 1531.6 Q748.596 1538.71 750.402 1542.27 Q752.23 1545.82 755.841 1545.82 Q759.476 1545.82 761.281 1542.27 Q763.11 1538.71 763.11 1531.6 Q763.11 1524.47 761.281 1520.93 Q759.476 1517.37 755.841 1517.37 M755.841 1513.66 Q761.651 1513.66 764.707 1518.27 Q767.786 1522.85 767.786 1531.6 Q767.786 1540.33 764.707 1544.94 Q761.651 1549.52 755.841 1549.52 Q750.031 1549.52 746.952 1544.94 Q743.897 1540.33 743.897 1531.6 Q743.897 1522.85 746.952 1518.27 Q750.031 1513.66 755.841 1513.66 Z\" fill=\"#000000\" fill-rule=\"evenodd\" fill-opacity=\"1\" /><path clip-path=\"url(#clip260)\" d=\"M776.003 1542.97 L780.887 1542.97 L780.887 1548.85 L776.003 1548.85 L776.003 1542.97 Z\" fill=\"#000000\" fill-rule=\"evenodd\" fill-opacity=\"1\" /><path clip-path=\"url(#clip260)\" d=\"M791.119 1514.29 L809.475 1514.29 L809.475 1518.22 L795.401 1518.22 L795.401 1526.7 Q796.42 1526.35 797.438 1526.19 Q798.457 1526 799.475 1526 Q805.262 1526 808.642 1529.17 Q812.022 1532.34 812.022 1537.76 Q812.022 1543.34 808.549 1546.44 Q805.077 1549.52 798.758 1549.52 Q796.582 1549.52 794.313 1549.15 Q792.068 1548.78 789.661 1548.04 L789.661 1543.34 Q791.744 1544.47 793.966 1545.03 Q796.188 1545.58 798.665 1545.58 Q802.67 1545.58 805.008 1543.48 Q807.346 1541.37 807.346 1537.76 Q807.346 1534.15 805.008 1532.04 Q802.67 1529.94 798.665 1529.94 Q796.79 1529.94 794.915 1530.35 Q793.063 1530.77 791.119 1531.65 L791.119 1514.29 Z\" fill=\"#000000\" fill-rule=\"evenodd\" fill-opacity=\"1\" /><path clip-path=\"url(#clip260)\" d=\"M1250.73 1517.37 Q1247.12 1517.37 1245.29 1520.93 Q1243.49 1524.47 1243.49 1531.6 Q1243.49 1538.71 1245.29 1542.27 Q1247.12 1545.82 1250.73 1545.82 Q1254.36 1545.82 1256.17 1542.27 Q1258 1538.71 1258 1531.6 Q1258 1524.47 1256.17 1520.93 Q1254.36 1517.37 1250.73 1517.37 M1250.73 1513.66 Q1256.54 1513.66 1259.6 1518.27 Q1262.67 1522.85 1262.67 1531.6 Q1262.67 1540.33 1259.6 1544.94 Q1256.54 1549.52 1250.73 1549.52 Q1244.92 1549.52 1241.84 1544.94 Q1238.79 1540.33 1238.79 1531.6 Q1238.79 1522.85 1241.84 1518.27 Q1244.92 1513.66 1250.73 1513.66 Z\" fill=\"#000000\" fill-rule=\"evenodd\" fill-opacity=\"1\" /><path clip-path=\"url(#clip260)\" d=\"M1270.89 1542.97 L1275.78 1542.97 L1275.78 1548.85 L1270.89 1548.85 L1270.89 1542.97 Z\" fill=\"#000000\" fill-rule=\"evenodd\" fill-opacity=\"1\" /><path clip-path=\"url(#clip260)\" d=\"M1295.96 1517.37 Q1292.35 1517.37 1290.52 1520.93 Q1288.72 1524.47 1288.72 1531.6 Q1288.72 1538.71 1290.52 1542.27 Q1292.35 1545.82 1295.96 1545.82 Q1299.6 1545.82 1301.4 1542.27 Q1303.23 1538.71 1303.23 1531.6 Q1303.23 1524.47 1301.4 1520.93 Q1299.6 1517.37 1295.96 1517.37 M1295.96 1513.66 Q1301.77 1513.66 1304.83 1518.27 Q1307.91 1522.85 1307.91 1531.6 Q1307.91 1540.33 1304.83 1544.94 Q1301.77 1549.52 1295.96 1549.52 Q1290.15 1549.52 1287.07 1544.94 Q1284.02 1540.33 1284.02 1531.6 Q1284.02 1522.85 1287.07 1518.27 Q1290.15 1513.66 1295.96 1513.66 Z\" fill=\"#000000\" fill-rule=\"evenodd\" fill-opacity=\"1\" /><path clip-path=\"url(#clip260)\" d=\"M1765.53 1517.37 Q1761.92 1517.37 1760.09 1520.93 Q1758.28 1524.47 1758.28 1531.6 Q1758.28 1538.71 1760.09 1542.27 Q1761.92 1545.82 1765.53 1545.82 Q1769.16 1545.82 1770.97 1542.27 Q1772.8 1538.71 1772.8 1531.6 Q1772.8 1524.47 1770.97 1520.93 Q1769.16 1517.37 1765.53 1517.37 M1765.53 1513.66 Q1771.34 1513.66 1774.39 1518.27 Q1777.47 1522.85 1777.47 1531.6 Q1777.47 1540.33 1774.39 1544.94 Q1771.34 1549.52 1765.53 1549.52 Q1759.72 1549.52 1756.64 1544.94 Q1753.58 1540.33 1753.58 1531.6 Q1753.58 1522.85 1756.64 1518.27 Q1759.72 1513.66 1765.53 1513.66 Z\" fill=\"#000000\" fill-rule=\"evenodd\" fill-opacity=\"1\" /><path clip-path=\"url(#clip260)\" d=\"M1785.69 1542.97 L1790.57 1542.97 L1790.57 1548.85 L1785.69 1548.85 L1785.69 1542.97 Z\" fill=\"#000000\" fill-rule=\"evenodd\" fill-opacity=\"1\" /><path clip-path=\"url(#clip260)\" d=\"M1800.8 1514.29 L1819.16 1514.29 L1819.16 1518.22 L1805.09 1518.22 L1805.09 1526.7 Q1806.11 1526.35 1807.12 1526.19 Q1808.14 1526 1809.16 1526 Q1814.95 1526 1818.33 1529.17 Q1821.71 1532.34 1821.71 1537.76 Q1821.71 1543.34 1818.23 1546.44 Q1814.76 1549.52 1808.44 1549.52 Q1806.27 1549.52 1804 1549.15 Q1801.75 1548.78 1799.35 1548.04 L1799.35 1543.34 Q1801.43 1544.47 1803.65 1545.03 Q1805.87 1545.58 1808.35 1545.58 Q1812.36 1545.58 1814.69 1543.48 Q1817.03 1541.37 1817.03 1537.76 Q1817.03 1534.15 1814.69 1532.04 Q1812.36 1529.94 1808.35 1529.94 Q1806.48 1529.94 1804.6 1530.35 Q1802.75 1530.77 1800.8 1531.65 L1800.8 1514.29 Z\" fill=\"#000000\" fill-rule=\"evenodd\" fill-opacity=\"1\" /><path clip-path=\"url(#clip260)\" d=\"M2269.1 1544.91 L2276.74 1544.91 L2276.74 1518.55 L2268.42 1520.21 L2268.42 1515.95 L2276.69 1514.29 L2281.36 1514.29 L2281.36 1544.91 L2289 1544.91 L2289 1548.85 L2269.1 1548.85 L2269.1 1544.91 Z\" fill=\"#000000\" fill-rule=\"evenodd\" fill-opacity=\"1\" /><path clip-path=\"url(#clip260)\" d=\"M2298.45 1542.97 L2303.33 1542.97 L2303.33 1548.85 L2298.45 1548.85 L2298.45 1542.97 Z\" fill=\"#000000\" fill-rule=\"evenodd\" fill-opacity=\"1\" /><path clip-path=\"url(#clip260)\" d=\"M2323.52 1517.37 Q2319.91 1517.37 2318.08 1520.93 Q2316.27 1524.47 2316.27 1531.6 Q2316.27 1538.71 2318.08 1542.27 Q2319.91 1545.82 2323.52 1545.82 Q2327.15 1545.82 2328.96 1542.27 Q2330.79 1538.71 2330.79 1531.6 Q2330.79 1524.47 2328.96 1520.93 Q2327.15 1517.37 2323.52 1517.37 M2323.52 1513.66 Q2329.33 1513.66 2332.38 1518.27 Q2335.46 1522.85 2335.46 1531.6 Q2335.46 1540.33 2332.38 1544.94 Q2329.33 1549.52 2323.52 1549.52 Q2317.71 1549.52 2314.63 1544.94 Q2311.57 1540.33 2311.57 1531.6 Q2311.57 1522.85 2314.63 1518.27 Q2317.71 1513.66 2323.52 1513.66 Z\" fill=\"#000000\" fill-rule=\"evenodd\" fill-opacity=\"1\" /><polyline clip-path=\"url(#clip262)\" style=\"stroke:#000000; stroke-linecap:butt; stroke-linejoin:round; stroke-width:2; stroke-opacity:0.1; fill:none\" points=\"\n",
       "  193.936,1446.05 2352.76,1446.05 \n",
       "  \"/>\n",
       "<polyline clip-path=\"url(#clip262)\" style=\"stroke:#000000; stroke-linecap:butt; stroke-linejoin:round; stroke-width:2; stroke-opacity:0.1; fill:none\" points=\"\n",
       "  193.936,1106.45 2352.76,1106.45 \n",
       "  \"/>\n",
       "<polyline clip-path=\"url(#clip262)\" style=\"stroke:#000000; stroke-linecap:butt; stroke-linejoin:round; stroke-width:2; stroke-opacity:0.1; fill:none\" points=\"\n",
       "  193.936,766.846 2352.76,766.846 \n",
       "  \"/>\n",
       "<polyline clip-path=\"url(#clip262)\" style=\"stroke:#000000; stroke-linecap:butt; stroke-linejoin:round; stroke-width:2; stroke-opacity:0.1; fill:none\" points=\"\n",
       "  193.936,427.244 2352.76,427.244 \n",
       "  \"/>\n",
       "<polyline clip-path=\"url(#clip262)\" style=\"stroke:#000000; stroke-linecap:butt; stroke-linejoin:round; stroke-width:2; stroke-opacity:0.1; fill:none\" points=\"\n",
       "  193.936,87.6411 2352.76,87.6411 \n",
       "  \"/>\n",
       "<polyline clip-path=\"url(#clip260)\" style=\"stroke:#000000; stroke-linecap:butt; stroke-linejoin:round; stroke-width:4; stroke-opacity:1; fill:none\" points=\"\n",
       "  193.936,1486.45 193.936,47.2441 \n",
       "  \"/>\n",
       "<polyline clip-path=\"url(#clip260)\" style=\"stroke:#000000; stroke-linecap:butt; stroke-linejoin:round; stroke-width:4; stroke-opacity:1; fill:none\" points=\"\n",
       "  193.936,1446.05 212.834,1446.05 \n",
       "  \"/>\n",
       "<polyline clip-path=\"url(#clip260)\" style=\"stroke:#000000; stroke-linecap:butt; stroke-linejoin:round; stroke-width:4; stroke-opacity:1; fill:none\" points=\"\n",
       "  193.936,1106.45 212.834,1106.45 \n",
       "  \"/>\n",
       "<polyline clip-path=\"url(#clip260)\" style=\"stroke:#000000; stroke-linecap:butt; stroke-linejoin:round; stroke-width:4; stroke-opacity:1; fill:none\" points=\"\n",
       "  193.936,766.846 212.834,766.846 \n",
       "  \"/>\n",
       "<polyline clip-path=\"url(#clip260)\" style=\"stroke:#000000; stroke-linecap:butt; stroke-linejoin:round; stroke-width:4; stroke-opacity:1; fill:none\" points=\"\n",
       "  193.936,427.244 212.834,427.244 \n",
       "  \"/>\n",
       "<polyline clip-path=\"url(#clip260)\" style=\"stroke:#000000; stroke-linecap:butt; stroke-linejoin:round; stroke-width:4; stroke-opacity:1; fill:none\" points=\"\n",
       "  193.936,87.6411 212.834,87.6411 \n",
       "  \"/>\n",
       "<path clip-path=\"url(#clip260)\" d=\"M50.9921 1446.5 L80.6679 1446.5 L80.6679 1450.44 L50.9921 1450.44 L50.9921 1446.5 Z\" fill=\"#000000\" fill-rule=\"evenodd\" fill-opacity=\"1\" /><path clip-path=\"url(#clip260)\" d=\"M91.5706 1459.4 L99.2095 1459.4 L99.2095 1433.03 L90.8993 1434.7 L90.8993 1430.44 L99.1632 1428.77 L103.839 1428.77 L103.839 1459.4 L111.478 1459.4 L111.478 1463.33 L91.5706 1463.33 L91.5706 1459.4 Z\" fill=\"#000000\" fill-rule=\"evenodd\" fill-opacity=\"1\" /><path clip-path=\"url(#clip260)\" d=\"M120.922 1457.45 L125.807 1457.45 L125.807 1463.33 L120.922 1463.33 L120.922 1457.45 Z\" fill=\"#000000\" fill-rule=\"evenodd\" fill-opacity=\"1\" /><path clip-path=\"url(#clip260)\" d=\"M145.992 1431.85 Q142.381 1431.85 140.552 1435.41 Q138.746 1438.96 138.746 1446.09 Q138.746 1453.19 140.552 1456.76 Q142.381 1460.3 145.992 1460.3 Q149.626 1460.3 151.431 1456.76 Q153.26 1453.19 153.26 1446.09 Q153.26 1438.96 151.431 1435.41 Q149.626 1431.85 145.992 1431.85 M145.992 1428.15 Q151.802 1428.15 154.857 1432.75 Q157.936 1437.34 157.936 1446.09 Q157.936 1454.81 154.857 1459.42 Q151.802 1464 145.992 1464 Q140.181 1464 137.103 1459.42 Q134.047 1454.81 134.047 1446.09 Q134.047 1437.34 137.103 1432.75 Q140.181 1428.15 145.992 1428.15 Z\" fill=\"#000000\" fill-rule=\"evenodd\" fill-opacity=\"1\" /><path clip-path=\"url(#clip260)\" d=\"M51.9875 1106.9 L81.6633 1106.9 L81.6633 1110.83 L51.9875 1110.83 L51.9875 1106.9 Z\" fill=\"#000000\" fill-rule=\"evenodd\" fill-opacity=\"1\" /><path clip-path=\"url(#clip260)\" d=\"M101.756 1092.25 Q98.1447 1092.25 96.316 1095.81 Q94.5104 1099.35 94.5104 1106.48 Q94.5104 1113.59 96.316 1117.15 Q98.1447 1120.7 101.756 1120.7 Q105.39 1120.7 107.196 1117.15 Q109.024 1113.59 109.024 1106.48 Q109.024 1099.35 107.196 1095.81 Q105.39 1092.25 101.756 1092.25 M101.756 1088.54 Q107.566 1088.54 110.621 1093.15 Q113.7 1097.73 113.7 1106.48 Q113.7 1115.21 110.621 1119.82 Q107.566 1124.4 101.756 1124.4 Q95.9456 1124.4 92.8669 1119.82 Q89.8114 1115.21 89.8114 1106.48 Q89.8114 1097.73 92.8669 1093.15 Q95.9456 1088.54 101.756 1088.54 Z\" fill=\"#000000\" fill-rule=\"evenodd\" fill-opacity=\"1\" /><path clip-path=\"url(#clip260)\" d=\"M121.918 1117.85 L126.802 1117.85 L126.802 1123.73 L121.918 1123.73 L121.918 1117.85 Z\" fill=\"#000000\" fill-rule=\"evenodd\" fill-opacity=\"1\" /><path clip-path=\"url(#clip260)\" d=\"M137.033 1089.17 L155.39 1089.17 L155.39 1093.1 L141.316 1093.1 L141.316 1101.58 Q142.334 1101.23 143.353 1101.07 Q144.371 1100.88 145.39 1100.88 Q151.177 1100.88 154.556 1104.05 Q157.936 1107.22 157.936 1112.64 Q157.936 1118.22 154.464 1121.32 Q150.992 1124.4 144.672 1124.4 Q142.496 1124.4 140.228 1124.03 Q137.982 1123.66 135.575 1122.92 L135.575 1118.22 Q137.658 1119.35 139.881 1119.91 Q142.103 1120.46 144.58 1120.46 Q148.584 1120.46 150.922 1118.36 Q153.26 1116.25 153.26 1112.64 Q153.26 1109.03 150.922 1106.92 Q148.584 1104.82 144.58 1104.82 Q142.705 1104.82 140.83 1105.23 Q138.978 1105.65 137.033 1106.53 L137.033 1089.17 Z\" fill=\"#000000\" fill-rule=\"evenodd\" fill-opacity=\"1\" /><path clip-path=\"url(#clip260)\" d=\"M100.76 752.645 Q97.1493 752.645 95.3206 756.209 Q93.515 759.751 93.515 766.881 Q93.515 773.987 95.3206 777.552 Q97.1493 781.094 100.76 781.094 Q104.395 781.094 106.2 777.552 Q108.029 773.987 108.029 766.881 Q108.029 759.751 106.2 756.209 Q104.395 752.645 100.76 752.645 M100.76 748.941 Q106.571 748.941 109.626 753.547 Q112.705 758.131 112.705 766.881 Q112.705 775.608 109.626 780.214 Q106.571 784.797 100.76 784.797 Q94.9502 784.797 91.8715 780.214 Q88.816 775.608 88.816 766.881 Q88.816 758.131 91.8715 753.547 Q94.9502 748.941 100.76 748.941 Z\" fill=\"#000000\" fill-rule=\"evenodd\" fill-opacity=\"1\" /><path clip-path=\"url(#clip260)\" d=\"M120.922 778.246 L125.807 778.246 L125.807 784.126 L120.922 784.126 L120.922 778.246 Z\" fill=\"#000000\" fill-rule=\"evenodd\" fill-opacity=\"1\" /><path clip-path=\"url(#clip260)\" d=\"M145.992 752.645 Q142.381 752.645 140.552 756.209 Q138.746 759.751 138.746 766.881 Q138.746 773.987 140.552 777.552 Q142.381 781.094 145.992 781.094 Q149.626 781.094 151.431 777.552 Q153.26 773.987 153.26 766.881 Q153.26 759.751 151.431 756.209 Q149.626 752.645 145.992 752.645 M145.992 748.941 Q151.802 748.941 154.857 753.547 Q157.936 758.131 157.936 766.881 Q157.936 775.608 154.857 780.214 Q151.802 784.797 145.992 784.797 Q140.181 784.797 137.103 780.214 Q134.047 775.608 134.047 766.881 Q134.047 758.131 137.103 753.547 Q140.181 748.941 145.992 748.941 Z\" fill=\"#000000\" fill-rule=\"evenodd\" fill-opacity=\"1\" /><path clip-path=\"url(#clip260)\" d=\"M101.756 413.042 Q98.1447 413.042 96.316 416.607 Q94.5104 420.149 94.5104 427.278 Q94.5104 434.385 96.316 437.95 Q98.1447 441.491 101.756 441.491 Q105.39 441.491 107.196 437.95 Q109.024 434.385 109.024 427.278 Q109.024 420.149 107.196 416.607 Q105.39 413.042 101.756 413.042 M101.756 409.339 Q107.566 409.339 110.621 413.945 Q113.7 418.528 113.7 427.278 Q113.7 436.005 110.621 440.612 Q107.566 445.195 101.756 445.195 Q95.9456 445.195 92.8669 440.612 Q89.8114 436.005 89.8114 427.278 Q89.8114 418.528 92.8669 413.945 Q95.9456 409.339 101.756 409.339 Z\" fill=\"#000000\" fill-rule=\"evenodd\" fill-opacity=\"1\" /><path clip-path=\"url(#clip260)\" d=\"M121.918 438.644 L126.802 438.644 L126.802 444.524 L121.918 444.524 L121.918 438.644 Z\" fill=\"#000000\" fill-rule=\"evenodd\" fill-opacity=\"1\" /><path clip-path=\"url(#clip260)\" d=\"M137.033 409.964 L155.39 409.964 L155.39 413.899 L141.316 413.899 L141.316 422.371 Q142.334 422.024 143.353 421.862 Q144.371 421.676 145.39 421.676 Q151.177 421.676 154.556 424.848 Q157.936 428.019 157.936 433.436 Q157.936 439.014 154.464 442.116 Q150.992 445.195 144.672 445.195 Q142.496 445.195 140.228 444.824 Q137.982 444.454 135.575 443.713 L135.575 439.014 Q137.658 440.149 139.881 440.704 Q142.103 441.26 144.58 441.26 Q148.584 441.26 150.922 439.153 Q153.26 437.047 153.26 433.436 Q153.26 429.825 150.922 427.718 Q148.584 425.612 144.58 425.612 Q142.705 425.612 140.83 426.028 Q138.978 426.445 137.033 427.325 L137.033 409.964 Z\" fill=\"#000000\" fill-rule=\"evenodd\" fill-opacity=\"1\" /><path clip-path=\"url(#clip260)\" d=\"M91.5706 100.986 L99.2095 100.986 L99.2095 74.6204 L90.8993 76.287 L90.8993 72.0278 L99.1632 70.3611 L103.839 70.3611 L103.839 100.986 L111.478 100.986 L111.478 104.921 L91.5706 104.921 L91.5706 100.986 Z\" fill=\"#000000\" fill-rule=\"evenodd\" fill-opacity=\"1\" /><path clip-path=\"url(#clip260)\" d=\"M120.922 99.0415 L125.807 99.0415 L125.807 104.921 L120.922 104.921 L120.922 99.0415 Z\" fill=\"#000000\" fill-rule=\"evenodd\" fill-opacity=\"1\" /><path clip-path=\"url(#clip260)\" d=\"M145.992 73.4398 Q142.381 73.4398 140.552 77.0046 Q138.746 80.5463 138.746 87.6759 Q138.746 94.7823 140.552 98.3471 Q142.381 101.889 145.992 101.889 Q149.626 101.889 151.431 98.3471 Q153.26 94.7823 153.26 87.6759 Q153.26 80.5463 151.431 77.0046 Q149.626 73.4398 145.992 73.4398 M145.992 69.7361 Q151.802 69.7361 154.857 74.3426 Q157.936 78.9259 157.936 87.6759 Q157.936 96.4027 154.857 101.009 Q151.802 105.592 145.992 105.592 Q140.181 105.592 137.103 101.009 Q134.047 96.4027 134.047 87.6759 Q134.047 78.9259 137.103 74.3426 Q140.181 69.7361 145.992 69.7361 Z\" fill=\"#000000\" fill-rule=\"evenodd\" fill-opacity=\"1\" /><polyline clip-path=\"url(#clip262)\" style=\"stroke:#009af9; stroke-linecap:butt; stroke-linejoin:round; stroke-width:12; stroke-opacity:1; fill:none\" points=\"\n",
       "  255.035,1445.72 275.607,1443.04 296.179,1437.69 316.751,1429.69 337.322,1419.08 357.894,1405.9 378.466,1390.19 399.038,1372.02 419.61,1351.47 440.182,1328.6 \n",
       "  460.754,1303.52 481.326,1276.33 501.898,1247.12 522.47,1216.01 543.042,1183.14 563.614,1148.62 584.186,1112.59 604.758,1075.2 625.33,1036.59 645.902,996.918 \n",
       "  666.474,956.338 687.046,915.01 707.617,873.097 728.189,830.765 748.761,788.18 769.333,745.512 789.905,702.927 810.477,660.595 831.049,618.682 851.621,577.354 \n",
       "  872.193,536.774 892.765,497.101 913.337,458.493 933.909,421.103 954.481,385.076 975.053,350.557 995.625,317.68 1016.2,286.576 1036.77,257.367 1057.34,230.169 \n",
       "  1077.91,205.089 1098.48,182.226 1119.06,161.67 1139.63,143.503 1160.2,127.795 1180.77,114.61 1201.34,103.999 1221.92,96.0033 1242.49,90.6555 1263.06,87.9763 \n",
       "  1283.63,87.9763 1304.2,90.6555 1324.78,96.0033 1345.35,103.999 1365.92,114.61 1386.49,127.795 1407.06,143.503 1427.64,161.67 1448.21,182.226 1468.78,205.089 \n",
       "  1489.35,230.169 1509.92,257.367 1530.5,286.576 1551.07,317.68 1571.64,350.557 1592.21,385.076 1612.78,421.103 1633.35,458.493 1653.93,497.101 1674.5,536.774 \n",
       "  1695.07,577.354 1715.64,618.682 1736.21,660.595 1756.79,702.927 1777.36,745.512 1797.93,788.18 1818.5,830.765 1839.07,873.097 1859.65,915.01 1880.22,956.338 \n",
       "  1900.79,996.918 1921.36,1036.59 1941.93,1075.2 1962.51,1112.59 1983.08,1148.62 2003.65,1183.14 2024.22,1216.01 2044.79,1247.12 2065.37,1276.33 2085.94,1303.52 \n",
       "  2106.51,1328.6 2127.08,1351.47 2147.65,1372.02 2168.23,1390.19 2188.8,1405.9 2209.37,1419.08 2229.94,1429.69 2250.51,1437.69 2271.09,1443.04 2291.66,1445.72 \n",
       "  \n",
       "  \"/>\n",
       "<polyline clip-path=\"url(#clip262)\" style=\"stroke:#e26f46; stroke-linecap:butt; stroke-linejoin:round; stroke-width:12; stroke-opacity:1; fill:none\" points=\"\n",
       "  255.035,1338.51 275.607,1321.77 296.179,1304.11 316.751,1285.62 337.322,1266.35 357.894,1246.36 378.466,1225.7 399.038,1204.44 419.61,1182.61 440.182,1160.27 \n",
       "  460.754,1137.44 481.326,1114.18 501.898,1090.51 522.47,1066.47 543.042,1042.1 563.614,1017.43 584.186,992.482 604.758,967.29 625.33,941.881 645.902,916.282 \n",
       "  666.474,890.518 687.046,864.609 707.617,838.566 728.189,812.332 748.761,785.284 769.333,748.407 789.905,721.36 810.477,695.126 831.049,669.082 851.621,643.174 \n",
       "  872.193,617.41 892.765,591.811 913.337,566.402 933.909,541.21 954.481,516.263 975.053,491.589 995.625,467.219 1016.2,443.184 1036.77,419.516 1057.34,396.251 \n",
       "  1077.91,373.426 1098.48,351.079 1119.06,329.251 1139.63,307.987 1160.2,287.335 1180.77,267.345 1201.34,248.073 1221.92,229.578 1242.49,211.925 1263.06,195.187 \n",
       "  1283.63,179.439 1304.2,164.77 1324.78,151.272 1345.35,139.052 1365.92,128.227 1386.49,118.928 1407.06,111.303 1427.64,105.519 1448.21,101.765 1468.78,100.259 \n",
       "  1489.35,101.248 1509.92,105.02 1530.5,111.905 1551.07,122.291 1571.64,136.63 1592.21,155.452 1612.78,179.38 1633.35,209.146 1653.93,245.603 1674.5,289.732 \n",
       "  1695.07,342.63 1715.64,405.455 1736.21,479.29 1756.79,564.864 1777.36,662.045 1797.93,871.647 1818.5,968.828 1839.07,1054.4 1859.65,1128.24 1880.22,1191.06 \n",
       "  1900.79,1243.96 1921.36,1288.09 1941.93,1324.55 1962.51,1354.31 1983.08,1378.24 2003.65,1397.06 2024.22,1411.4 2044.79,1421.79 2065.37,1428.67 2085.94,1432.44 \n",
       "  2106.51,1433.43 2127.08,1431.93 2147.65,1428.17 2168.23,1422.39 2188.8,1414.76 2209.37,1405.47 2229.94,1394.64 2250.51,1382.42 2271.09,1368.92 2291.66,1354.25 \n",
       "  \n",
       "  \"/>\n",
       "<polyline clip-path=\"url(#clip262)\" style=\"stroke:#3da44d; stroke-linecap:butt; stroke-linejoin:round; stroke-width:12; stroke-opacity:1; fill:none\" points=\"\n",
       "  255.035,1214.64 275.607,1198.48 296.179,1182.07 316.751,1165.42 337.322,1148.56 357.894,1131.49 378.466,1114.24 399.038,1096.81 419.61,1079.22 440.182,1061.49 \n",
       "  460.754,1043.61 481.326,1025.61 501.898,1007.5 522.47,989.269 543.042,970.944 563.614,952.528 584.186,934.03 604.758,915.458 625.33,896.817 645.902,878.115 \n",
       "  666.474,859.354 687.046,840.533 707.617,821.635 728.189,802.591 748.761,783.081 769.333,750.611 789.905,731.101 810.477,712.057 831.049,693.159 851.621,674.338 \n",
       "  872.193,655.577 892.765,636.875 913.337,618.234 933.909,599.662 954.481,581.164 975.053,562.748 995.625,544.423 1016.2,526.196 1036.77,508.078 1057.34,490.077 \n",
       "  1077.91,472.204 1098.48,454.468 1119.06,436.881 1139.63,419.455 1160.2,402.202 1180.77,385.137 1201.34,368.273 1221.92,351.626 1242.49,335.214 1263.06,319.055 \n",
       "  1283.63,303.168 1304.2,287.578 1324.78,272.307 1345.35,257.383 1365.92,242.836 1386.49,228.7 1407.06,215.014 1427.64,201.818 1448.21,189.164 1468.78,177.107 \n",
       "  1489.35,165.713 1509.92,155.057 1530.5,145.231 1551.07,136.341 1571.64,128.52 1592.21,121.928 1612.78,116.767 1633.35,113.296 1653.93,111.857 1674.5,112.914 \n",
       "  1695.07,117.125 1715.64,125.478 1736.21,139.573 1756.79,162.307 1777.36,200.012 1797.93,1333.68 1818.5,1371.39 1839.07,1394.12 1859.65,1408.21 1880.22,1416.57 \n",
       "  1900.79,1420.78 1921.36,1421.83 1941.93,1420.4 1962.51,1416.93 1983.08,1411.76 2003.65,1405.17 2024.22,1397.35 2044.79,1388.46 2065.37,1378.63 2085.94,1367.98 \n",
       "  2106.51,1356.58 2127.08,1344.53 2147.65,1331.87 2168.23,1318.68 2188.8,1304.99 2209.37,1290.86 2229.94,1276.31 2250.51,1261.39 2271.09,1246.11 2291.66,1230.52 \n",
       "  \n",
       "  \"/>\n",
       "<polyline clip-path=\"url(#clip262)\" style=\"stroke:#c271d2; stroke-linecap:butt; stroke-linejoin:round; stroke-width:12; stroke-opacity:1; fill:none\" points=\"\n",
       "  255.035,1127.68 275.607,1113.95 296.179,1100.13 316.751,1086.23 337.322,1072.25 357.894,1058.19 378.466,1044.06 399.038,1029.87 419.61,1015.61 440.182,1001.3 \n",
       "  460.754,986.937 481.326,972.523 501.898,958.063 522.47,943.561 543.042,929.018 563.614,914.439 584.186,899.826 604.758,885.181 625.33,870.506 645.902,855.801 \n",
       "  666.474,841.065 687.046,826.29 707.617,811.459 728.189,796.525 748.761,781.348 769.333,752.344 789.905,737.167 810.477,722.233 831.049,707.402 851.621,692.627 \n",
       "  872.193,677.891 892.765,663.186 913.337,648.511 933.909,633.866 954.481,619.253 975.053,604.674 995.625,590.131 1016.2,575.629 1036.77,561.169 1057.34,546.755 \n",
       "  1077.91,532.39 1098.48,518.079 1119.06,503.825 1139.63,489.631 1160.2,475.503 1180.77,461.445 1201.34,447.461 1221.92,433.557 1242.49,419.738 1263.06,406.009 \n",
       "  1283.63,392.377 1304.2,378.849 1324.78,365.431 1345.35,352.132 1365.92,338.959 1386.49,325.922 1407.06,313.031 1427.64,300.297 1448.21,287.732 1468.78,275.349 \n",
       "  1489.35,263.164 1509.92,251.192 1530.5,239.453 1551.07,227.969 1571.64,216.763 1592.21,205.864 1612.78,195.305 1633.35,185.124 1653.93,175.367 1674.5,166.088 \n",
       "  1695.07,157.356 1715.64,149.255 1736.21,141.893 1756.79,135.415 1777.36,130.018 1797.93,1403.67 1818.5,1398.28 1839.07,1391.8 1859.65,1384.44 1880.22,1376.34 \n",
       "  1900.79,1367.6 1921.36,1358.33 1941.93,1348.57 1962.51,1338.39 1983.08,1327.83 2003.65,1316.93 2024.22,1305.72 2044.79,1294.24 2065.37,1282.5 2085.94,1270.53 \n",
       "  2106.51,1258.34 2127.08,1245.96 2147.65,1233.39 2168.23,1220.66 2188.8,1207.77 2209.37,1194.73 2229.94,1181.56 2250.51,1168.26 2271.09,1154.84 2291.66,1141.31 \n",
       "  \n",
       "  \"/>\n",
       "<polyline clip-path=\"url(#clip262)\" style=\"stroke:#ac8d18; stroke-linecap:butt; stroke-linejoin:round; stroke-width:12; stroke-opacity:1; fill:none\" points=\"\n",
       "  255.035,1067.46 275.607,1055.81 296.179,1044.13 316.751,1032.41 337.322,1020.65 357.894,1008.85 378.466,997.028 399.038,985.173 419.61,973.29 440.182,961.38 \n",
       "  460.754,949.446 481.326,937.488 501.898,925.508 522.47,913.507 543.042,901.487 563.614,889.449 584.186,877.393 604.758,865.319 625.33,853.229 645.902,841.12 \n",
       "  666.474,828.989 687.046,816.829 707.617,804.628 728.189,792.355 748.761,779.949 769.333,753.743 789.905,741.337 810.477,729.064 831.049,716.863 851.621,704.703 \n",
       "  872.193,692.572 892.765,680.463 913.337,668.373 933.909,656.299 954.481,644.243 975.053,632.205 995.625,620.185 1016.2,608.184 1036.77,596.204 1057.34,584.246 \n",
       "  1077.91,572.312 1098.48,560.402 1119.06,548.519 1139.63,536.664 1160.2,524.839 1180.77,513.046 1201.34,501.287 1221.92,489.563 1242.49,477.878 1263.06,466.232 \n",
       "  1283.63,454.629 1304.2,443.07 1324.78,431.56 1345.35,420.1 1365.92,408.693 1386.49,397.343 1407.06,386.052 1427.64,374.826 1448.21,363.667 1468.78,352.581 \n",
       "  1489.35,341.57 1509.92,330.642 1530.5,319.801 1551.07,309.052 1571.64,298.404 1592.21,287.863 1612.78,277.436 1633.35,267.134 1653.93,256.967 1674.5,246.945 \n",
       "  1695.07,237.081 1715.64,227.392 1736.21,217.893 1756.79,208.605 1777.36,199.551 1797.93,1334.14 1818.5,1325.09 1839.07,1315.8 1859.65,1306.3 1880.22,1296.61 \n",
       "  1900.79,1286.75 1921.36,1276.73 1941.93,1266.56 1962.51,1256.26 1983.08,1245.83 2003.65,1235.29 2024.22,1224.64 2044.79,1213.89 2065.37,1203.05 2085.94,1192.12 \n",
       "  2106.51,1181.11 2127.08,1170.02 2147.65,1158.87 2168.23,1147.64 2188.8,1136.35 2209.37,1125 2229.94,1113.59 2250.51,1102.13 2271.09,1090.62 2291.66,1079.06 \n",
       "  \n",
       "  \"/>\n",
       "<polyline clip-path=\"url(#clip262)\" style=\"stroke:#00a9ad; stroke-linecap:butt; stroke-linejoin:round; stroke-width:12; stroke-opacity:1; fill:none\" points=\"\n",
       "  255.035,1024.04 275.607,1014.01 296.179,1003.96 316.751,993.882 337.322,983.789 357.894,973.679 378.466,963.553 399.038,953.41 419.61,943.253 440.182,933.081 \n",
       "  460.754,922.896 481.326,912.698 501.898,902.488 522.47,892.267 543.042,882.034 563.614,871.791 584.186,861.536 604.758,851.271 625.33,840.994 645.902,830.704 \n",
       "  666.474,820.396 687.046,810.067 707.617,799.706 728.189,789.295 748.761,778.796 769.333,754.896 789.905,744.397 810.477,733.986 831.049,723.625 851.621,713.296 \n",
       "  872.193,702.988 892.765,692.698 913.337,682.421 933.909,672.156 954.481,661.901 975.053,651.658 995.625,641.425 1016.2,631.204 1036.77,620.994 1057.34,610.796 \n",
       "  1077.91,600.611 1098.48,590.439 1119.06,580.282 1139.63,570.139 1160.2,560.013 1180.77,549.903 1201.34,539.81 1221.92,529.736 1242.49,519.682 1263.06,509.648 \n",
       "  1283.63,499.636 1304.2,489.647 1324.78,479.681 1345.35,469.741 1365.92,459.827 1386.49,449.94 1407.06,440.084 1427.64,430.257 1448.21,420.464 1468.78,410.704 \n",
       "  1489.35,400.981 1509.92,391.295 1530.5,381.649 1551.07,372.046 1571.64,362.487 1592.21,352.975 1612.78,343.514 1633.35,334.105 1653.93,324.753 1674.5,315.46 \n",
       "  1695.07,306.231 1715.64,297.071 1736.21,287.983 1756.79,278.973 1777.36,270.047 1797.93,1263.65 1818.5,1254.72 1839.07,1245.71 1859.65,1236.62 1880.22,1227.46 \n",
       "  1900.79,1218.23 1921.36,1208.94 1941.93,1199.59 1962.51,1190.18 1983.08,1180.72 2003.65,1171.21 2024.22,1161.65 2044.79,1152.04 2065.37,1142.4 2085.94,1132.71 \n",
       "  2106.51,1122.99 2127.08,1113.23 2147.65,1103.43 2168.23,1093.61 2188.8,1083.75 2209.37,1073.87 2229.94,1063.95 2250.51,1054.01 2271.09,1044.05 2291.66,1034.06 \n",
       "  \n",
       "  \"/>\n",
       "</svg>\n"
      ]
     },
     "execution_count": 36,
     "metadata": {},
     "output_type": "execute_result"
    }
   ],
   "source": [
    "x, thist, uhist = fv_solve1(\n",
    "    riemann_burgers, cospi, 100, 1)\n",
    "plot(x, uhist[:,1:10:end], legend=:none)"
   ]
  },
  {
   "cell_type": "markdown",
   "id": "bc00ba24",
   "metadata": {
    "slideshow": {
     "slide_type": "slide"
    }
   },
   "source": [
    "# Traffic equation"
   ]
  },
  {
   "cell_type": "markdown",
   "id": "47bb4b3f",
   "metadata": {
    "cell_style": "split"
   },
   "source": [
    "Our flux function is\n",
    "$$ f(u) = u (1 - u) $$\n",
    "and corresponding wave speed is\n",
    "$$ f'(u) = 1 - 2 u . $$\n",
    "* **Shock**\n",
    "The entropy condition for a shock\n",
    "$$ f'(u_L) > f'(u_R) $$\n",
    "occurs whenever $u_L < u_R$.\n",
    "By Rankine-Hugoniot\n",
    "$$ s \\Delta u = \\Delta f, $$\n",
    "the shock moves to the right when $\\Delta f = f(u_R) - f(u_L)$ is positive, in which case the flux is $f(u_L)$.  Taking the other case, the numerical flux for a shock is $\\min[f(u_L), f(u_R)]$.\n",
    "\n",
    "* **Rarefaction**\n",
    "A rarefaction occurs when $u_L > u_R$ and moves to the right when $f'(u_L) > 0$ which is the case when $u_L < 1/2$.\n",
    "Note that while $f'(1/2) = 0$ appears within a sonic rarefaction, the flux $f(1/2) \\ne 0$."
   ]
  },
  {
   "cell_type": "code",
   "execution_count": 18,
   "id": "6ebf0261",
   "metadata": {
    "cell_style": "split"
   },
   "outputs": [
    {
     "data": {
      "image/svg+xml": [
       "<?xml version=\"1.0\" encoding=\"utf-8\"?>\n",
       "<svg xmlns=\"http://www.w3.org/2000/svg\" xmlns:xlink=\"http://www.w3.org/1999/xlink\" width=\"600\" height=\"400\" viewBox=\"0 0 2400 1600\">\n",
       "<defs>\n",
       "  <clipPath id=\"clip660\">\n",
       "    <rect x=\"0\" y=\"0\" width=\"2400\" height=\"1600\"/>\n",
       "  </clipPath>\n",
       "</defs>\n",
       "<path clip-path=\"url(#clip660)\" d=\"\n",
       "M0 1600 L2400 1600 L2400 0 L0 0  Z\n",
       "  \" fill=\"#ffffff\" fill-rule=\"evenodd\" fill-opacity=\"1\"/>\n",
       "<defs>\n",
       "  <clipPath id=\"clip661\">\n",
       "    <rect x=\"480\" y=\"0\" width=\"1681\" height=\"1600\"/>\n",
       "  </clipPath>\n",
       "</defs>\n",
       "<path clip-path=\"url(#clip660)\" d=\"\n",
       "M186.274 1486.45 L2352.76 1486.45 L2352.76 47.2441 L186.274 47.2441  Z\n",
       "  \" fill=\"#ffffff\" fill-rule=\"evenodd\" fill-opacity=\"1\"/>\n",
       "<defs>\n",
       "  <clipPath id=\"clip662\">\n",
       "    <rect x=\"186\" y=\"47\" width=\"2167\" height=\"1440\"/>\n",
       "  </clipPath>\n",
       "</defs>\n",
       "<polyline clip-path=\"url(#clip662)\" style=\"stroke:#000000; stroke-linecap:butt; stroke-linejoin:round; stroke-width:2; stroke-opacity:0.1; fill:none\" points=\"\n",
       "  237.267,1486.45 237.267,47.2441 \n",
       "  \"/>\n",
       "<polyline clip-path=\"url(#clip662)\" style=\"stroke:#000000; stroke-linecap:butt; stroke-linejoin:round; stroke-width:2; stroke-opacity:0.1; fill:none\" points=\"\n",
       "  753.391,1486.45 753.391,47.2441 \n",
       "  \"/>\n",
       "<polyline clip-path=\"url(#clip662)\" style=\"stroke:#000000; stroke-linecap:butt; stroke-linejoin:round; stroke-width:2; stroke-opacity:0.1; fill:none\" points=\"\n",
       "  1269.51,1486.45 1269.51,47.2441 \n",
       "  \"/>\n",
       "<polyline clip-path=\"url(#clip662)\" style=\"stroke:#000000; stroke-linecap:butt; stroke-linejoin:round; stroke-width:2; stroke-opacity:0.1; fill:none\" points=\"\n",
       "  1785.64,1486.45 1785.64,47.2441 \n",
       "  \"/>\n",
       "<polyline clip-path=\"url(#clip662)\" style=\"stroke:#000000; stroke-linecap:butt; stroke-linejoin:round; stroke-width:2; stroke-opacity:0.1; fill:none\" points=\"\n",
       "  2301.76,1486.45 2301.76,47.2441 \n",
       "  \"/>\n",
       "<polyline clip-path=\"url(#clip660)\" style=\"stroke:#000000; stroke-linecap:butt; stroke-linejoin:round; stroke-width:4; stroke-opacity:1; fill:none\" points=\"\n",
       "  186.274,1486.45 2352.76,1486.45 \n",
       "  \"/>\n",
       "<polyline clip-path=\"url(#clip660)\" style=\"stroke:#000000; stroke-linecap:butt; stroke-linejoin:round; stroke-width:4; stroke-opacity:1; fill:none\" points=\"\n",
       "  237.267,1486.45 237.267,1467.55 \n",
       "  \"/>\n",
       "<polyline clip-path=\"url(#clip660)\" style=\"stroke:#000000; stroke-linecap:butt; stroke-linejoin:round; stroke-width:4; stroke-opacity:1; fill:none\" points=\"\n",
       "  753.391,1486.45 753.391,1467.55 \n",
       "  \"/>\n",
       "<polyline clip-path=\"url(#clip660)\" style=\"stroke:#000000; stroke-linecap:butt; stroke-linejoin:round; stroke-width:4; stroke-opacity:1; fill:none\" points=\"\n",
       "  1269.51,1486.45 1269.51,1467.55 \n",
       "  \"/>\n",
       "<polyline clip-path=\"url(#clip660)\" style=\"stroke:#000000; stroke-linecap:butt; stroke-linejoin:round; stroke-width:4; stroke-opacity:1; fill:none\" points=\"\n",
       "  1785.64,1486.45 1785.64,1467.55 \n",
       "  \"/>\n",
       "<polyline clip-path=\"url(#clip660)\" style=\"stroke:#000000; stroke-linecap:butt; stroke-linejoin:round; stroke-width:4; stroke-opacity:1; fill:none\" points=\"\n",
       "  2301.76,1486.45 2301.76,1467.55 \n",
       "  \"/>\n",
       "<path clip-path=\"url(#clip660)\" d=\"M183.795 1532.02 L213.471 1532.02 L213.471 1535.95 L183.795 1535.95 L183.795 1532.02 Z\" fill=\"#000000\" fill-rule=\"evenodd\" fill-opacity=\"1\" /><path clip-path=\"url(#clip660)\" d=\"M224.374 1544.91 L232.012 1544.91 L232.012 1518.55 L223.702 1520.21 L223.702 1515.95 L231.966 1514.29 L236.642 1514.29 L236.642 1544.91 L244.281 1544.91 L244.281 1548.85 L224.374 1548.85 L224.374 1544.91 Z\" fill=\"#000000\" fill-rule=\"evenodd\" fill-opacity=\"1\" /><path clip-path=\"url(#clip660)\" d=\"M253.725 1542.97 L258.61 1542.97 L258.61 1548.85 L253.725 1548.85 L253.725 1542.97 Z\" fill=\"#000000\" fill-rule=\"evenodd\" fill-opacity=\"1\" /><path clip-path=\"url(#clip660)\" d=\"M278.795 1517.37 Q275.184 1517.37 273.355 1520.93 Q271.549 1524.47 271.549 1531.6 Q271.549 1538.71 273.355 1542.27 Q275.184 1545.82 278.795 1545.82 Q282.429 1545.82 284.234 1542.27 Q286.063 1538.71 286.063 1531.6 Q286.063 1524.47 284.234 1520.93 Q282.429 1517.37 278.795 1517.37 M278.795 1513.66 Q284.605 1513.66 287.66 1518.27 Q290.739 1522.85 290.739 1531.6 Q290.739 1540.33 287.66 1544.94 Q284.605 1549.52 278.795 1549.52 Q272.984 1549.52 269.906 1544.94 Q266.85 1540.33 266.85 1531.6 Q266.85 1522.85 269.906 1518.27 Q272.984 1513.66 278.795 1513.66 Z\" fill=\"#000000\" fill-rule=\"evenodd\" fill-opacity=\"1\" /><path clip-path=\"url(#clip660)\" d=\"M700.417 1532.02 L730.093 1532.02 L730.093 1535.95 L700.417 1535.95 L700.417 1532.02 Z\" fill=\"#000000\" fill-rule=\"evenodd\" fill-opacity=\"1\" /><path clip-path=\"url(#clip660)\" d=\"M750.185 1517.37 Q746.574 1517.37 744.745 1520.93 Q742.94 1524.47 742.94 1531.6 Q742.94 1538.71 744.745 1542.27 Q746.574 1545.82 750.185 1545.82 Q753.819 1545.82 755.625 1542.27 Q757.453 1538.71 757.453 1531.6 Q757.453 1524.47 755.625 1520.93 Q753.819 1517.37 750.185 1517.37 M750.185 1513.66 Q755.995 1513.66 759.051 1518.27 Q762.129 1522.85 762.129 1531.6 Q762.129 1540.33 759.051 1544.94 Q755.995 1549.52 750.185 1549.52 Q744.375 1549.52 741.296 1544.94 Q738.241 1540.33 738.241 1531.6 Q738.241 1522.85 741.296 1518.27 Q744.375 1513.66 750.185 1513.66 Z\" fill=\"#000000\" fill-rule=\"evenodd\" fill-opacity=\"1\" /><path clip-path=\"url(#clip660)\" d=\"M770.347 1542.97 L775.231 1542.97 L775.231 1548.85 L770.347 1548.85 L770.347 1542.97 Z\" fill=\"#000000\" fill-rule=\"evenodd\" fill-opacity=\"1\" /><path clip-path=\"url(#clip660)\" d=\"M785.463 1514.29 L803.819 1514.29 L803.819 1518.22 L789.745 1518.22 L789.745 1526.7 Q790.763 1526.35 791.782 1526.19 Q792.801 1526 793.819 1526 Q799.606 1526 802.986 1529.17 Q806.365 1532.34 806.365 1537.76 Q806.365 1543.34 802.893 1546.44 Q799.421 1549.52 793.101 1549.52 Q790.926 1549.52 788.657 1549.15 Q786.412 1548.78 784.004 1548.04 L784.004 1543.34 Q786.088 1544.47 788.31 1545.03 Q790.532 1545.58 793.009 1545.58 Q797.013 1545.58 799.351 1543.48 Q801.689 1541.37 801.689 1537.76 Q801.689 1534.15 799.351 1532.04 Q797.013 1529.94 793.009 1529.94 Q791.134 1529.94 789.259 1530.35 Q787.407 1530.77 785.463 1531.65 L785.463 1514.29 Z\" fill=\"#000000\" fill-rule=\"evenodd\" fill-opacity=\"1\" /><path clip-path=\"url(#clip660)\" d=\"M1246.9 1517.37 Q1243.29 1517.37 1241.46 1520.93 Q1239.65 1524.47 1239.65 1531.6 Q1239.65 1538.71 1241.46 1542.27 Q1243.29 1545.82 1246.9 1545.82 Q1250.53 1545.82 1252.34 1542.27 Q1254.17 1538.71 1254.17 1531.6 Q1254.17 1524.47 1252.34 1520.93 Q1250.53 1517.37 1246.9 1517.37 M1246.9 1513.66 Q1252.71 1513.66 1255.77 1518.27 Q1258.84 1522.85 1258.84 1531.6 Q1258.84 1540.33 1255.77 1544.94 Q1252.71 1549.52 1246.9 1549.52 Q1241.09 1549.52 1238.01 1544.94 Q1234.95 1540.33 1234.95 1531.6 Q1234.95 1522.85 1238.01 1518.27 Q1241.09 1513.66 1246.9 1513.66 Z\" fill=\"#000000\" fill-rule=\"evenodd\" fill-opacity=\"1\" /><path clip-path=\"url(#clip660)\" d=\"M1267.06 1542.97 L1271.95 1542.97 L1271.95 1548.85 L1267.06 1548.85 L1267.06 1542.97 Z\" fill=\"#000000\" fill-rule=\"evenodd\" fill-opacity=\"1\" /><path clip-path=\"url(#clip660)\" d=\"M1292.13 1517.37 Q1288.52 1517.37 1286.69 1520.93 Q1284.89 1524.47 1284.89 1531.6 Q1284.89 1538.71 1286.69 1542.27 Q1288.52 1545.82 1292.13 1545.82 Q1295.76 1545.82 1297.57 1542.27 Q1299.4 1538.71 1299.4 1531.6 Q1299.4 1524.47 1297.57 1520.93 Q1295.76 1517.37 1292.13 1517.37 M1292.13 1513.66 Q1297.94 1513.66 1301 1518.27 Q1304.07 1522.85 1304.07 1531.6 Q1304.07 1540.33 1301 1544.94 Q1297.94 1549.52 1292.13 1549.52 Q1286.32 1549.52 1283.24 1544.94 Q1280.19 1540.33 1280.19 1531.6 Q1280.19 1522.85 1283.24 1518.27 Q1286.32 1513.66 1292.13 1513.66 Z\" fill=\"#000000\" fill-rule=\"evenodd\" fill-opacity=\"1\" /><path clip-path=\"url(#clip660)\" d=\"M1763.52 1517.37 Q1759.91 1517.37 1758.08 1520.93 Q1756.28 1524.47 1756.28 1531.6 Q1756.28 1538.71 1758.08 1542.27 Q1759.91 1545.82 1763.52 1545.82 Q1767.16 1545.82 1768.96 1542.27 Q1770.79 1538.71 1770.79 1531.6 Q1770.79 1524.47 1768.96 1520.93 Q1767.16 1517.37 1763.52 1517.37 M1763.52 1513.66 Q1769.33 1513.66 1772.39 1518.27 Q1775.47 1522.85 1775.47 1531.6 Q1775.47 1540.33 1772.39 1544.94 Q1769.33 1549.52 1763.52 1549.52 Q1757.71 1549.52 1754.63 1544.94 Q1751.58 1540.33 1751.58 1531.6 Q1751.58 1522.85 1754.63 1518.27 Q1757.71 1513.66 1763.52 1513.66 Z\" fill=\"#000000\" fill-rule=\"evenodd\" fill-opacity=\"1\" /><path clip-path=\"url(#clip660)\" d=\"M1783.68 1542.97 L1788.57 1542.97 L1788.57 1548.85 L1783.68 1548.85 L1783.68 1542.97 Z\" fill=\"#000000\" fill-rule=\"evenodd\" fill-opacity=\"1\" /><path clip-path=\"url(#clip660)\" d=\"M1798.8 1514.29 L1817.15 1514.29 L1817.15 1518.22 L1803.08 1518.22 L1803.08 1526.7 Q1804.1 1526.35 1805.12 1526.19 Q1806.14 1526 1807.15 1526 Q1812.94 1526 1816.32 1529.17 Q1819.7 1532.34 1819.7 1537.76 Q1819.7 1543.34 1816.23 1546.44 Q1812.76 1549.52 1806.44 1549.52 Q1804.26 1549.52 1801.99 1549.15 Q1799.75 1548.78 1797.34 1548.04 L1797.34 1543.34 Q1799.42 1544.47 1801.65 1545.03 Q1803.87 1545.58 1806.34 1545.58 Q1810.35 1545.58 1812.69 1543.48 Q1815.03 1541.37 1815.03 1537.76 Q1815.03 1534.15 1812.69 1532.04 Q1810.35 1529.94 1806.34 1529.94 Q1804.47 1529.94 1802.59 1530.35 Q1800.74 1530.77 1798.8 1531.65 L1798.8 1514.29 Z\" fill=\"#000000\" fill-rule=\"evenodd\" fill-opacity=\"1\" /><path clip-path=\"url(#clip660)\" d=\"M2268.92 1544.91 L2276.55 1544.91 L2276.55 1518.55 L2268.24 1520.21 L2268.24 1515.95 L2276.51 1514.29 L2281.18 1514.29 L2281.18 1544.91 L2288.82 1544.91 L2288.82 1548.85 L2268.92 1548.85 L2268.92 1544.91 Z\" fill=\"#000000\" fill-rule=\"evenodd\" fill-opacity=\"1\" /><path clip-path=\"url(#clip660)\" d=\"M2298.27 1542.97 L2303.15 1542.97 L2303.15 1548.85 L2298.27 1548.85 L2298.27 1542.97 Z\" fill=\"#000000\" fill-rule=\"evenodd\" fill-opacity=\"1\" /><path clip-path=\"url(#clip660)\" d=\"M2323.34 1517.37 Q2319.73 1517.37 2317.9 1520.93 Q2316.09 1524.47 2316.09 1531.6 Q2316.09 1538.71 2317.9 1542.27 Q2319.73 1545.82 2323.34 1545.82 Q2326.97 1545.82 2328.78 1542.27 Q2330.61 1538.71 2330.61 1531.6 Q2330.61 1524.47 2328.78 1520.93 Q2326.97 1517.37 2323.34 1517.37 M2323.34 1513.66 Q2329.15 1513.66 2332.2 1518.27 Q2335.28 1522.85 2335.28 1531.6 Q2335.28 1540.33 2332.2 1544.94 Q2329.15 1549.52 2323.34 1549.52 Q2317.53 1549.52 2314.45 1544.94 Q2311.39 1540.33 2311.39 1531.6 Q2311.39 1522.85 2314.45 1518.27 Q2317.53 1513.66 2323.34 1513.66 Z\" fill=\"#000000\" fill-rule=\"evenodd\" fill-opacity=\"1\" /><polyline clip-path=\"url(#clip662)\" style=\"stroke:#000000; stroke-linecap:butt; stroke-linejoin:round; stroke-width:2; stroke-opacity:0.1; fill:none\" points=\"\n",
       "  186.274,1445.72 2352.76,1445.72 \n",
       "  \"/>\n",
       "<polyline clip-path=\"url(#clip662)\" style=\"stroke:#000000; stroke-linecap:butt; stroke-linejoin:round; stroke-width:2; stroke-opacity:0.1; fill:none\" points=\"\n",
       "  186.274,1106.28 2352.76,1106.28 \n",
       "  \"/>\n",
       "<polyline clip-path=\"url(#clip662)\" style=\"stroke:#000000; stroke-linecap:butt; stroke-linejoin:round; stroke-width:2; stroke-opacity:0.1; fill:none\" points=\"\n",
       "  186.274,766.846 2352.76,766.846 \n",
       "  \"/>\n",
       "<polyline clip-path=\"url(#clip662)\" style=\"stroke:#000000; stroke-linecap:butt; stroke-linejoin:round; stroke-width:2; stroke-opacity:0.1; fill:none\" points=\"\n",
       "  186.274,427.411 2352.76,427.411 \n",
       "  \"/>\n",
       "<polyline clip-path=\"url(#clip662)\" style=\"stroke:#000000; stroke-linecap:butt; stroke-linejoin:round; stroke-width:2; stroke-opacity:0.1; fill:none\" points=\"\n",
       "  186.274,87.9763 2352.76,87.9763 \n",
       "  \"/>\n",
       "<polyline clip-path=\"url(#clip660)\" style=\"stroke:#000000; stroke-linecap:butt; stroke-linejoin:round; stroke-width:4; stroke-opacity:1; fill:none\" points=\"\n",
       "  186.274,1486.45 186.274,47.2441 \n",
       "  \"/>\n",
       "<polyline clip-path=\"url(#clip660)\" style=\"stroke:#000000; stroke-linecap:butt; stroke-linejoin:round; stroke-width:4; stroke-opacity:1; fill:none\" points=\"\n",
       "  186.274,1445.72 205.172,1445.72 \n",
       "  \"/>\n",
       "<polyline clip-path=\"url(#clip660)\" style=\"stroke:#000000; stroke-linecap:butt; stroke-linejoin:round; stroke-width:4; stroke-opacity:1; fill:none\" points=\"\n",
       "  186.274,1106.28 205.172,1106.28 \n",
       "  \"/>\n",
       "<polyline clip-path=\"url(#clip660)\" style=\"stroke:#000000; stroke-linecap:butt; stroke-linejoin:round; stroke-width:4; stroke-opacity:1; fill:none\" points=\"\n",
       "  186.274,766.846 205.172,766.846 \n",
       "  \"/>\n",
       "<polyline clip-path=\"url(#clip660)\" style=\"stroke:#000000; stroke-linecap:butt; stroke-linejoin:round; stroke-width:4; stroke-opacity:1; fill:none\" points=\"\n",
       "  186.274,427.411 205.172,427.411 \n",
       "  \"/>\n",
       "<polyline clip-path=\"url(#clip660)\" style=\"stroke:#000000; stroke-linecap:butt; stroke-linejoin:round; stroke-width:4; stroke-opacity:1; fill:none\" points=\"\n",
       "  186.274,87.9763 205.172,87.9763 \n",
       "  \"/>\n",
       "<path clip-path=\"url(#clip660)\" d=\"M62.9365 1431.51 Q59.3254 1431.51 57.4967 1435.08 Q55.6912 1438.62 55.6912 1445.75 Q55.6912 1452.86 57.4967 1456.42 Q59.3254 1459.96 62.9365 1459.96 Q66.5707 1459.96 68.3763 1456.42 Q70.205 1452.86 70.205 1445.75 Q70.205 1438.62 68.3763 1435.08 Q66.5707 1431.51 62.9365 1431.51 M62.9365 1427.81 Q68.7467 1427.81 71.8022 1432.42 Q74.8809 1437 74.8809 1445.75 Q74.8809 1454.48 71.8022 1459.08 Q68.7467 1463.67 62.9365 1463.67 Q57.1264 1463.67 54.0477 1459.08 Q50.9921 1454.48 50.9921 1445.75 Q50.9921 1437 54.0477 1432.42 Q57.1264 1427.81 62.9365 1427.81 Z\" fill=\"#000000\" fill-rule=\"evenodd\" fill-opacity=\"1\" /><path clip-path=\"url(#clip660)\" d=\"M83.0984 1457.12 L87.9827 1457.12 L87.9827 1463 L83.0984 1463 L83.0984 1457.12 Z\" fill=\"#000000\" fill-rule=\"evenodd\" fill-opacity=\"1\" /><path clip-path=\"url(#clip660)\" d=\"M108.168 1431.51 Q104.557 1431.51 102.728 1435.08 Q100.922 1438.62 100.922 1445.75 Q100.922 1452.86 102.728 1456.42 Q104.557 1459.96 108.168 1459.96 Q111.802 1459.96 113.608 1456.42 Q115.436 1452.86 115.436 1445.75 Q115.436 1438.62 113.608 1435.08 Q111.802 1431.51 108.168 1431.51 M108.168 1427.81 Q113.978 1427.81 117.033 1432.42 Q120.112 1437 120.112 1445.75 Q120.112 1454.48 117.033 1459.08 Q113.978 1463.67 108.168 1463.67 Q102.358 1463.67 99.2789 1459.08 Q96.2234 1454.48 96.2234 1445.75 Q96.2234 1437 99.2789 1432.42 Q102.358 1427.81 108.168 1427.81 Z\" fill=\"#000000\" fill-rule=\"evenodd\" fill-opacity=\"1\" /><path clip-path=\"url(#clip660)\" d=\"M138.33 1431.51 Q134.719 1431.51 132.89 1435.08 Q131.084 1438.62 131.084 1445.75 Q131.084 1452.86 132.89 1456.42 Q134.719 1459.96 138.33 1459.96 Q141.964 1459.96 143.769 1456.42 Q145.598 1452.86 145.598 1445.75 Q145.598 1438.62 143.769 1435.08 Q141.964 1431.51 138.33 1431.51 M138.33 1427.81 Q144.14 1427.81 147.195 1432.42 Q150.274 1437 150.274 1445.75 Q150.274 1454.48 147.195 1459.08 Q144.14 1463.67 138.33 1463.67 Q132.519 1463.67 129.441 1459.08 Q126.385 1454.48 126.385 1445.75 Q126.385 1437 129.441 1432.42 Q132.519 1427.81 138.33 1427.81 Z\" fill=\"#000000\" fill-rule=\"evenodd\" fill-opacity=\"1\" /><path clip-path=\"url(#clip660)\" d=\"M63.9319 1092.08 Q60.3208 1092.08 58.4921 1095.64 Q56.6865 1099.19 56.6865 1106.32 Q56.6865 1113.42 58.4921 1116.99 Q60.3208 1120.53 63.9319 1120.53 Q67.5661 1120.53 69.3717 1116.99 Q71.2004 1113.42 71.2004 1106.32 Q71.2004 1099.19 69.3717 1095.64 Q67.5661 1092.08 63.9319 1092.08 M63.9319 1088.38 Q69.742 1088.38 72.7976 1092.98 Q75.8763 1097.57 75.8763 1106.32 Q75.8763 1115.04 72.7976 1119.65 Q69.742 1124.23 63.9319 1124.23 Q58.1217 1124.23 55.043 1119.65 Q51.9875 1115.04 51.9875 1106.32 Q51.9875 1097.57 55.043 1092.98 Q58.1217 1088.38 63.9319 1088.38 Z\" fill=\"#000000\" fill-rule=\"evenodd\" fill-opacity=\"1\" /><path clip-path=\"url(#clip660)\" d=\"M84.0938 1117.68 L88.978 1117.68 L88.978 1123.56 L84.0938 1123.56 L84.0938 1117.68 Z\" fill=\"#000000\" fill-rule=\"evenodd\" fill-opacity=\"1\" /><path clip-path=\"url(#clip660)\" d=\"M103.191 1119.63 L119.51 1119.63 L119.51 1123.56 L97.566 1123.56 L97.566 1119.63 Q100.228 1116.87 104.811 1112.24 Q109.418 1107.59 110.598 1106.25 Q112.844 1103.72 113.723 1101.99 Q114.626 1100.23 114.626 1098.54 Q114.626 1095.78 112.682 1094.05 Q110.76 1092.31 107.658 1092.31 Q105.459 1092.31 103.006 1093.07 Q100.575 1093.84 97.7974 1095.39 L97.7974 1090.67 Q100.621 1089.53 103.075 1088.95 Q105.529 1088.38 107.566 1088.38 Q112.936 1088.38 116.131 1091.06 Q119.325 1093.75 119.325 1098.24 Q119.325 1100.37 118.515 1102.29 Q117.728 1104.19 115.621 1106.78 Q115.043 1107.45 111.941 1110.67 Q108.839 1113.86 103.191 1119.63 Z\" fill=\"#000000\" fill-rule=\"evenodd\" fill-opacity=\"1\" /><path clip-path=\"url(#clip660)\" d=\"M129.371 1089 L147.728 1089 L147.728 1092.94 L133.654 1092.94 L133.654 1101.41 Q134.672 1101.06 135.691 1100.9 Q136.709 1100.71 137.728 1100.71 Q143.515 1100.71 146.894 1103.89 Q150.274 1107.06 150.274 1112.47 Q150.274 1118.05 146.802 1121.15 Q143.33 1124.23 137.01 1124.23 Q134.834 1124.23 132.566 1123.86 Q130.32 1123.49 127.913 1122.75 L127.913 1118.05 Q129.996 1119.19 132.219 1119.74 Q134.441 1120.3 136.918 1120.3 Q140.922 1120.3 143.26 1118.19 Q145.598 1116.08 145.598 1112.47 Q145.598 1108.86 143.26 1106.76 Q140.922 1104.65 136.918 1104.65 Q135.043 1104.65 133.168 1105.07 Q131.316 1105.48 129.371 1106.36 L129.371 1089 Z\" fill=\"#000000\" fill-rule=\"evenodd\" fill-opacity=\"1\" /><path clip-path=\"url(#clip660)\" d=\"M62.9365 752.645 Q59.3254 752.645 57.4967 756.209 Q55.6912 759.751 55.6912 766.881 Q55.6912 773.987 57.4967 777.552 Q59.3254 781.094 62.9365 781.094 Q66.5707 781.094 68.3763 777.552 Q70.205 773.987 70.205 766.881 Q70.205 759.751 68.3763 756.209 Q66.5707 752.645 62.9365 752.645 M62.9365 748.941 Q68.7467 748.941 71.8022 753.547 Q74.8809 758.131 74.8809 766.881 Q74.8809 775.608 71.8022 780.214 Q68.7467 784.797 62.9365 784.797 Q57.1264 784.797 54.0477 780.214 Q50.9921 775.608 50.9921 766.881 Q50.9921 758.131 54.0477 753.547 Q57.1264 748.941 62.9365 748.941 Z\" fill=\"#000000\" fill-rule=\"evenodd\" fill-opacity=\"1\" /><path clip-path=\"url(#clip660)\" d=\"M83.0984 778.246 L87.9827 778.246 L87.9827 784.126 L83.0984 784.126 L83.0984 778.246 Z\" fill=\"#000000\" fill-rule=\"evenodd\" fill-opacity=\"1\" /><path clip-path=\"url(#clip660)\" d=\"M98.2141 749.566 L116.57 749.566 L116.57 753.501 L102.496 753.501 L102.496 761.973 Q103.515 761.626 104.534 761.464 Q105.552 761.279 106.571 761.279 Q112.358 761.279 115.737 764.45 Q119.117 767.621 119.117 773.038 Q119.117 778.617 115.645 781.719 Q112.172 784.797 105.853 784.797 Q103.677 784.797 101.409 784.427 Q99.1632 784.057 96.7558 783.316 L96.7558 778.617 Q98.8391 779.751 101.061 780.307 Q103.284 780.862 105.76 780.862 Q109.765 780.862 112.103 778.756 Q114.441 776.649 114.441 773.038 Q114.441 769.427 112.103 767.321 Q109.765 765.214 105.76 765.214 Q103.885 765.214 102.01 765.631 Q100.159 766.047 98.2141 766.927 L98.2141 749.566 Z\" fill=\"#000000\" fill-rule=\"evenodd\" fill-opacity=\"1\" /><path clip-path=\"url(#clip660)\" d=\"M138.33 752.645 Q134.719 752.645 132.89 756.209 Q131.084 759.751 131.084 766.881 Q131.084 773.987 132.89 777.552 Q134.719 781.094 138.33 781.094 Q141.964 781.094 143.769 777.552 Q145.598 773.987 145.598 766.881 Q145.598 759.751 143.769 756.209 Q141.964 752.645 138.33 752.645 M138.33 748.941 Q144.14 748.941 147.195 753.547 Q150.274 758.131 150.274 766.881 Q150.274 775.608 147.195 780.214 Q144.14 784.797 138.33 784.797 Q132.519 784.797 129.441 780.214 Q126.385 775.608 126.385 766.881 Q126.385 758.131 129.441 753.547 Q132.519 748.941 138.33 748.941 Z\" fill=\"#000000\" fill-rule=\"evenodd\" fill-opacity=\"1\" /><path clip-path=\"url(#clip660)\" d=\"M63.9319 413.21 Q60.3208 413.21 58.4921 416.775 Q56.6865 420.316 56.6865 427.446 Q56.6865 434.552 58.4921 438.117 Q60.3208 441.659 63.9319 441.659 Q67.5661 441.659 69.3717 438.117 Q71.2004 434.552 71.2004 427.446 Q71.2004 420.316 69.3717 416.775 Q67.5661 413.21 63.9319 413.21 M63.9319 409.506 Q69.742 409.506 72.7976 414.113 Q75.8763 418.696 75.8763 427.446 Q75.8763 436.173 72.7976 440.779 Q69.742 445.362 63.9319 445.362 Q58.1217 445.362 55.043 440.779 Q51.9875 436.173 51.9875 427.446 Q51.9875 418.696 55.043 414.113 Q58.1217 409.506 63.9319 409.506 Z\" fill=\"#000000\" fill-rule=\"evenodd\" fill-opacity=\"1\" /><path clip-path=\"url(#clip660)\" d=\"M84.0938 438.812 L88.978 438.812 L88.978 444.691 L84.0938 444.691 L84.0938 438.812 Z\" fill=\"#000000\" fill-rule=\"evenodd\" fill-opacity=\"1\" /><path clip-path=\"url(#clip660)\" d=\"M97.9826 410.131 L120.205 410.131 L120.205 412.122 L107.658 444.691 L102.774 444.691 L114.58 414.066 L97.9826 414.066 L97.9826 410.131 Z\" fill=\"#000000\" fill-rule=\"evenodd\" fill-opacity=\"1\" /><path clip-path=\"url(#clip660)\" d=\"M129.371 410.131 L147.728 410.131 L147.728 414.066 L133.654 414.066 L133.654 422.538 Q134.672 422.191 135.691 422.029 Q136.709 421.844 137.728 421.844 Q143.515 421.844 146.894 425.015 Q150.274 428.187 150.274 433.603 Q150.274 439.182 146.802 442.284 Q143.33 445.362 137.01 445.362 Q134.834 445.362 132.566 444.992 Q130.32 444.622 127.913 443.881 L127.913 439.182 Q129.996 440.316 132.219 440.872 Q134.441 441.427 136.918 441.427 Q140.922 441.427 143.26 439.321 Q145.598 437.214 145.598 433.603 Q145.598 429.992 143.26 427.886 Q140.922 425.779 136.918 425.779 Q135.043 425.779 133.168 426.196 Q131.316 426.613 129.371 427.492 L129.371 410.131 Z\" fill=\"#000000\" fill-rule=\"evenodd\" fill-opacity=\"1\" /><path clip-path=\"url(#clip660)\" d=\"M53.7467 101.321 L61.3856 101.321 L61.3856 74.9555 L53.0754 76.6222 L53.0754 72.3629 L61.3393 70.6963 L66.0152 70.6963 L66.0152 101.321 L73.654 101.321 L73.654 105.256 L53.7467 105.256 L53.7467 101.321 Z\" fill=\"#000000\" fill-rule=\"evenodd\" fill-opacity=\"1\" /><path clip-path=\"url(#clip660)\" d=\"M83.0984 99.3767 L87.9827 99.3767 L87.9827 105.256 L83.0984 105.256 L83.0984 99.3767 Z\" fill=\"#000000\" fill-rule=\"evenodd\" fill-opacity=\"1\" /><path clip-path=\"url(#clip660)\" d=\"M108.168 73.775 Q104.557 73.775 102.728 77.3398 Q100.922 80.8814 100.922 88.011 Q100.922 95.1174 102.728 98.6822 Q104.557 102.224 108.168 102.224 Q111.802 102.224 113.608 98.6822 Q115.436 95.1174 115.436 88.011 Q115.436 80.8814 113.608 77.3398 Q111.802 73.775 108.168 73.775 M108.168 70.0713 Q113.978 70.0713 117.033 74.6777 Q120.112 79.261 120.112 88.011 Q120.112 96.7378 117.033 101.344 Q113.978 105.928 108.168 105.928 Q102.358 105.928 99.2789 101.344 Q96.2234 96.7378 96.2234 88.011 Q96.2234 79.261 99.2789 74.6777 Q102.358 70.0713 108.168 70.0713 Z\" fill=\"#000000\" fill-rule=\"evenodd\" fill-opacity=\"1\" /><path clip-path=\"url(#clip660)\" d=\"M138.33 73.775 Q134.719 73.775 132.89 77.3398 Q131.084 80.8814 131.084 88.011 Q131.084 95.1174 132.89 98.6822 Q134.719 102.224 138.33 102.224 Q141.964 102.224 143.769 98.6822 Q145.598 95.1174 145.598 88.011 Q145.598 80.8814 143.769 77.3398 Q141.964 73.775 138.33 73.775 M138.33 70.0713 Q144.14 70.0713 147.195 74.6777 Q150.274 79.261 150.274 88.011 Q150.274 96.7378 147.195 101.344 Q144.14 105.928 138.33 105.928 Q132.519 105.928 129.441 101.344 Q126.385 96.7378 126.385 88.011 Q126.385 79.261 129.441 74.6777 Q132.519 70.0713 138.33 70.0713 Z\" fill=\"#000000\" fill-rule=\"evenodd\" fill-opacity=\"1\" /><polyline clip-path=\"url(#clip662)\" style=\"stroke:#009af9; stroke-linecap:butt; stroke-linejoin:round; stroke-width:12; stroke-opacity:1; fill:none\" points=\"\n",
       "  247.59,1445.72 268.234,1445.72 288.879,1445.72 309.524,1445.72 330.169,1409.51 350.814,1300.89 371.459,1192.27 392.104,1083.65 412.749,975.033 433.394,866.414 \n",
       "  454.039,757.794 474.684,649.175 495.329,540.556 515.974,431.937 536.619,323.318 557.264,214.699 577.909,106.079 598.554,178.492 619.199,287.111 639.844,395.731 \n",
       "  660.489,504.35 681.134,612.969 701.779,721.588 722.424,830.207 743.069,938.826 763.713,1047.45 784.358,1156.06 805.003,1264.68 825.648,1373.3 846.293,1445.72 \n",
       "  866.938,1445.72 887.583,1445.72 908.228,1445.72 928.873,1445.72 949.518,1445.72 970.163,1445.72 990.808,1445.72 1011.45,1445.72 1032.1,1445.72 1052.74,1445.72 \n",
       "  1073.39,87.9763 1094.03,87.9763 1114.68,87.9763 1135.32,87.9763 1155.97,87.9763 1176.61,87.9763 1197.26,87.9763 1217.9,87.9763 1238.55,87.9763 1259.19,87.9763 \n",
       "  1279.84,87.9763 1300.48,87.9763 1321.13,87.9763 1341.77,87.9763 1362.42,87.9763 1383.06,87.9763 1403.71,87.9763 1424.35,87.9763 1445,87.9763 1465.64,87.9763 \n",
       "  1486.29,1445.72 1506.93,1445.72 1527.58,1445.72 1548.22,1445.72 1568.87,1445.72 1589.51,1445.72 1610.16,1445.72 1630.8,1445.72 1651.45,1445.72 1672.09,1445.72 \n",
       "  1692.74,1445.72 1713.38,1436.21 1734.03,1387.02 1754.67,1298.87 1775.32,1177.29 1795.96,1029.92 1816.61,866.017 1837.25,695.885 1857.9,530.211 1878.54,379.406 \n",
       "  1899.19,252.945 1919.83,158.774 1940.48,102.811 1961.12,88.5718 1981.77,116.951 2002.41,186.165 2023.06,291.866 2043.7,427.411 2064.35,584.284 2084.99,752.629 \n",
       "  2105.64,921.866 2126.28,1081.36 2146.93,1221.1 2167.57,1332.29 2188.22,1407.95 2208.86,1443.33 2229.51,1445.72 2250.15,1445.72 2270.8,1445.72 2291.44,1445.72 \n",
       "  \n",
       "  \"/>\n",
       "<polyline clip-path=\"url(#clip662)\" style=\"stroke:#e26f46; stroke-linecap:butt; stroke-linejoin:round; stroke-width:12; stroke-opacity:1; fill:none\" points=\"\n",
       "  247.59,1409.49 268.234,1425.21 288.879,1434.95 309.524,1440.49 330.169,1443.1 350.814,1442.28 371.459,1433.76 392.104,1407.17 412.749,1343.51 433.394,1212.55 \n",
       "  454.039,735.143 474.684,345.201 495.329,260.847 515.974,242.887 536.619,264.226 557.264,307.79 577.909,362.714 598.554,422.253 619.199,482.61 639.844,542.992 \n",
       "  660.489,603.467 681.134,664.339 701.779,728.053 722.424,818.22 743.069,879.743 763.713,940.355 784.358,1000.78 805.003,1061.15 825.648,1121.5 846.293,1181.11 \n",
       "  866.938,1238.19 887.583,1290.5 908.228,1335.83 928.873,1372.6 949.518,1400.26 970.163,1419.44 990.808,1431.64 1011.45,1438.76 1032.1,1442.55 1052.74,1443.62 \n",
       "  1073.39,87.9763 1094.03,87.9763 1114.68,87.9773 1135.32,87.9789 1155.97,87.992 1176.61,88.0256 1197.26,88.1512 1217.9,88.483 1238.55,89.3778 1259.19,91.4214 \n",
       "  1279.84,95.8395 1300.48,104.331 1321.13,119.36 1341.77,143.524 1362.42,179.477 1383.06,228.944 1403.71,292.796 1424.35,370.868 1445,463.328 1465.64,572.873 \n",
       "  1486.29,960.819 1506.93,1070.36 1527.58,1162.82 1548.22,1240.9 1568.87,1304.75 1589.51,1354.22 1610.16,1390.17 1630.8,1414.33 1651.45,1429.36 1672.09,1437.85 \n",
       "  1692.74,1442.27 1713.38,1444.24 1734.03,1444.44 1754.67,1441.38 1775.32,1430.04 1795.96,1398.18 1816.61,1314.75 1837.25,349.77 1857.9,179.265 1878.54,163.555 \n",
       "  1899.19,179.785 1919.83,214.417 1940.48,260.942 1961.12,315.721 1981.77,376.508 2002.41,441.81 2023.06,510.607 2043.7,582.289 2064.35,657.221 2084.99,753.336 \n",
       "  2105.64,865.53 2126.28,939.746 2146.93,1011.51 2167.57,1080.7 2188.22,1146.61 2208.86,1208.22 2229.51,1264.25 2250.15,1313.29 2270.8,1354.15 2291.44,1386.15 \n",
       "  \n",
       "  \"/>\n",
       "<polyline clip-path=\"url(#clip662)\" style=\"stroke:#3da44d; stroke-linecap:butt; stroke-linejoin:round; stroke-width:12; stroke-opacity:1; fill:none\" points=\"\n",
       "  247.59,1275.85 268.234,1308.73 288.879,1338.16 309.524,1363.77 330.169,1385.35 350.814,1402.84 371.459,1416.32 392.104,1425.7 412.749,1430.21 433.394,1426.72 \n",
       "  454.039,1224.26 474.684,301.543 495.329,325.729 515.974,359.201 536.619,397.235 557.264,437.553 577.909,478.912 598.554,520.648 619.199,562.477 639.844,604.367 \n",
       "  660.489,646.406 681.134,688.856 701.779,732.902 722.424,810.047 743.069,852.435 763.713,894.479 784.358,936.38 805.003,978.218 825.648,1020.02 846.293,1061.76 \n",
       "  866.938,1103.27 887.583,1144.25 908.228,1184.32 928.873,1222.99 949.518,1259.69 970.163,1293.87 990.808,1324.95 1011.45,1352.46 1032.1,1376.05 1052.74,1304.51 \n",
       "  1073.39,88.7739 1094.03,89.6059 1114.68,91.1408 1135.32,93.815 1155.97,98.2153 1176.61,105.054 1197.26,115.105 1217.9,129.111 1238.55,147.677 1259.19,171.196 \n",
       "  1279.84,199.819 1300.48,233.471 1321.13,271.903 1341.77,314.763 1362.42,361.669 1383.06,412.279 1403.71,466.369 1424.35,523.956 1445,585.605 1465.64,653.697 \n",
       "  1486.29,879.995 1506.93,948.087 1527.58,1009.74 1548.22,1067.32 1568.87,1121.41 1589.51,1172.02 1610.16,1218.93 1630.8,1261.79 1651.45,1300.22 1672.09,1333.87 \n",
       "  1692.74,1362.5 1713.38,1386.01 1734.03,1404.57 1754.67,1418.52 1775.32,1428.3 1795.96,1434.09 1816.61,1434.97 1837.25,676.974 1857.9,255.449 1878.54,288.692 \n",
       "  1899.19,326.045 1919.83,366.172 1940.48,408.322 1961.12,452.024 1981.77,496.965 2002.41,542.951 2023.06,589.908 2043.7,638.004 2064.35,688.278 2084.99,753.976 \n",
       "  2105.64,839.226 2126.28,888.669 2146.93,936.423 2167.57,983.277 2188.22,1029.29 2208.86,1074.35 2229.51,1118.24 2250.15,1160.7 2270.8,1201.39 2291.44,1239.91 \n",
       "  \n",
       "  \"/>\n",
       "<polyline clip-path=\"url(#clip662)\" style=\"stroke:#c271d2; stroke-linecap:butt; stroke-linejoin:round; stroke-width:12; stroke-opacity:1; fill:none\" points=\"\n",
       "  247.59,1166.61 268.234,1197.3 288.879,1226.9 309.524,1255.24 330.169,1282.09 350.814,1307.26 371.459,1330.52 392.104,1351.65 412.749,1370.46 433.394,1386.66 \n",
       "  454.039,1397.88 474.684,1098.68 495.329,416.759 515.974,447.383 536.619,478.743 557.264,510.478 577.909,542.389 598.554,574.374 619.199,606.407 639.844,638.511 \n",
       "  660.489,670.755 681.134,703.306 701.779,736.674 722.424,804.117 743.069,836.457 763.713,868.614 784.358,900.683 805.003,932.702 825.648,964.692 846.293,996.658 \n",
       "  866.938,1028.58 887.583,1060.4 908.228,1092.05 928.873,1123.42 949.518,1154.36 970.163,1184.71 990.808,1214.27 1011.45,1242.83 1032.1,1270.15 1052.74,787.834 \n",
       "  1073.39,110.464 1094.03,119.93 1114.68,131.954 1135.32,146.726 1155.97,164.334 1176.61,184.769 1197.26,207.939 1217.9,233.688 1238.55,261.824 1259.19,292.138 \n",
       "  1279.84,324.418 1300.48,358.47 1321.13,394.12 1341.77,431.23 1362.42,469.701 1383.06,509.492 1403.71,550.649 1424.35,593.37 1445,638.213 1465.64,686.977 \n",
       "  1486.29,846.715 1506.93,895.479 1527.58,940.322 1548.22,983.043 1568.87,1024.2 1589.51,1063.99 1610.16,1102.46 1630.8,1139.57 1651.45,1175.22 1672.09,1209.27 \n",
       "  1692.74,1241.55 1713.38,1271.87 1734.03,1300 1754.67,1325.75 1775.32,1348.92 1795.96,1369.32 1816.61,1386.82 1837.25,1347.11 1857.9,483.289 1878.54,393.516 \n",
       "  1899.19,425.719 1919.83,458.652 1940.48,492.182 1961.12,526.218 1981.77,560.711 2002.41,595.657 2023.06,631.13 2043.7,667.403 2064.35,705.45 2084.99,754.559 \n",
       "  2105.64,823.994 2126.28,861.479 2146.93,897.391 2167.57,932.662 2188.22,967.504 2208.86,1001.96 2229.51,1036 2250.15,1069.58 2270.8,1102.61 2291.44,1135 \n",
       "  \n",
       "  \"/>\n",
       "<polyline clip-path=\"url(#clip662)\" style=\"stroke:#ac8d18; stroke-linecap:butt; stroke-linejoin:round; stroke-width:12; stroke-opacity:1; fill:none\" points=\"\n",
       "  247.59,1092.54 268.234,1118.71 288.879,1144.47 309.524,1169.77 330.169,1194.52 350.814,1218.63 371.459,1242.03 392.104,1264.59 412.749,1286.2 433.394,1306.73 \n",
       "  454.039,1326.01 474.684,1339.12 495.329,1158.02 515.974,529.465 536.619,530.744 557.264,556.582 577.909,582.471 598.554,608.397 619.199,634.363 639.844,660.394 \n",
       "  660.489,686.54 681.134,712.899 701.779,739.691 722.424,799.619 743.069,825.844 763.713,851.881 784.358,877.851 805.003,903.784 825.648,929.694 846.293,955.586 \n",
       "  866.938,981.46 887.583,1007.31 908.228,1033.1 928.873,1058.83 949.518,1084.43 970.163,1109.87 990.808,1135.07 1011.45,1159.98 1032.1,1091.51 1052.74,209.047 \n",
       "  1073.39,174.986 1094.03,192.744 1114.68,212.175 1135.32,233.16 1155.97,255.57 1176.61,279.276 1197.26,304.153 1217.9,330.084 1238.55,356.965 1259.19,384.703 \n",
       "  1279.84,413.222 1300.48,442.457 1321.13,472.363 1341.77,502.915 1362.42,534.109 1383.06,565.979 1403.71,598.614 1424.35,632.213 1445,667.246 1465.64,705.129 \n",
       "  1486.29,828.563 1506.93,866.446 1527.58,901.479 1548.22,935.078 1568.87,967.713 1589.51,999.583 1610.16,1030.78 1630.8,1061.33 1651.45,1091.24 1672.09,1120.47 \n",
       "  1692.74,1148.99 1713.38,1176.73 1734.03,1203.61 1754.67,1229.54 1775.32,1254.42 1795.96,1278.12 1816.61,1300.53 1837.25,1320.76 1857.9,1243.83 1878.54,541.439 \n",
       "  1899.19,490.103 1919.83,517.178 1940.48,544.511 1961.12,572.088 1981.77,599.916 2002.41,628.031 2023.06,656.536 2043.7,685.695 2064.35,716.333 2084.99,755.091 \n",
       "  2105.64,814.058 2126.28,844.397 2146.93,873.268 2167.57,901.569 2188.22,929.548 2208.86,957.291 2229.51,984.82 2250.15,1012.13 2270.8,1039.21 2291.44,1066.03 \n",
       "  \n",
       "  \"/>\n",
       "<polyline clip-path=\"url(#clip662)\" style=\"stroke:#00a9ad; stroke-linecap:butt; stroke-linejoin:round; stroke-width:12; stroke-opacity:1; fill:none\" points=\"\n",
       "  247.59,1040.94 268.234,1063.28 288.879,1085.44 309.524,1107.39 330.169,1129.11 350.814,1150.55 371.459,1171.68 392.104,1192.47 412.749,1212.85 433.394,1232.77 \n",
       "  454.039,1252.18 474.684,1270.9 495.329,1284.66 515.974,1195.13 536.619,671.238 557.264,588.375 577.909,610.146 598.554,631.944 619.199,653.779 639.844,675.669 \n",
       "  660.489,697.648 681.134,719.775 701.779,742.16 722.424,796.09 743.069,818.218 763.713,840.106 784.358,861.929 805.003,883.72 825.648,905.491 846.293,927.248 \n",
       "  866.938,948.994 887.583,970.727 908.228,992.442 928.873,1014.13 949.518,1035.78 970.163,1057.37 990.808,1078.88 1011.45,1099.21 1032.1,421.514 1052.74,233.3 \n",
       "  1073.39,251.216 1094.03,270.794 1114.68,291.148 1135.32,312.206 1155.97,333.897 1176.61,356.162 1197.26,378.948 1217.9,402.208 1238.55,425.903 1259.19,450.002 \n",
       "  1279.84,474.481 1300.48,499.324 1321.13,524.525 1341.77,550.09 1362.42,576.039 1383.06,602.42 1403.71,629.322 1424.35,656.922 1445,685.613 1465.64,716.559 \n",
       "  1486.29,817.133 1506.93,848.079 1527.58,876.77 1548.22,904.37 1568.87,931.272 1589.51,957.653 1610.16,983.602 1630.8,1009.17 1651.45,1034.37 1672.09,1059.21 \n",
       "  1692.74,1083.69 1713.38,1107.79 1734.03,1131.48 1754.67,1154.74 1775.32,1177.53 1795.96,1199.79 1816.61,1221.49 1837.25,1242.53 1857.9,1260.72 1878.54,1181.31 \n",
       "  1899.19,615.2 1919.83,557.1 1940.48,580.062 1961.12,603.177 1981.77,626.467 2002.41,649.978 2023.06,673.813 2043.7,698.207 2064.35,723.842 2084.99,755.578 \n",
       "  2105.64,807.065 2126.28,832.611 2146.93,856.8 2167.57,880.46 2188.22,903.838 2208.86,927.031 2229.51,950.078 2250.15,972.995 2270.8,995.783 2291.44,1018.44 \n",
       "  \n",
       "  \"/>\n",
       "<polyline clip-path=\"url(#clip662)\" style=\"stroke:#ed5d92; stroke-linecap:butt; stroke-linejoin:round; stroke-width:12; stroke-opacity:1; fill:none\" points=\"\n",
       "  247.59,1003.31 268.234,1022.67 288.879,1041.94 309.524,1061.1 330.169,1080.13 350.814,1099.04 371.459,1117.79 392.104,1136.37 412.749,1154.77 433.394,1172.94 \n",
       "  454.039,1190.88 474.684,1208.54 495.329,1225.76 515.974,1239.44 536.619,1198 557.264,818.659 577.909,630.436 598.554,649.242 619.199,668.079 639.844,686.962 \n",
       "  660.489,705.914 681.134,724.973 701.779,744.217 722.424,793.246 743.069,812.439 763.713,831.336 784.358,850.159 805.003,868.949 825.648,887.723 846.293,906.484 \n",
       "  866.938,925.236 887.583,943.98 908.228,962.714 928.873,981.437 949.518,1000.14 970.163,1018.83 990.808,1037.48 1011.45,623.444 1032.1,287.78 1052.74,299.8 \n",
       "  1073.39,318.022 1094.03,336.678 1114.68,355.708 1135.32,375.081 1155.97,394.767 1176.61,414.741 1197.26,434.982 1217.9,455.472 1238.55,476.198 1259.19,497.15 \n",
       "  1279.84,518.323 1300.48,539.717 1321.13,561.337 1341.77,583.198 1362.42,605.326 1383.06,627.768 1403.71,650.607 1424.35,673.995 1445,698.27 1465.64,724.416 \n",
       "  1486.29,809.276 1506.93,835.422 1527.58,859.697 1548.22,883.085 1568.87,905.924 1589.51,928.366 1610.16,950.494 1630.8,972.355 1651.45,993.975 1672.09,1015.37 \n",
       "  1692.74,1036.54 1713.38,1057.49 1734.03,1078.22 1754.67,1098.71 1775.32,1118.95 1795.96,1138.92 1816.61,1158.61 1837.25,1177.98 1857.9,1196.94 1878.54,1212.14 \n",
       "  1899.19,1139.59 1919.83,676.124 1940.48,605.756 1961.12,625.636 1981.77,645.654 2002.41,665.859 2023.06,686.344 2043.7,707.313 2064.35,729.332 2084.99,756.027 \n",
       "  2105.64,801.877 2126.28,823.967 2146.93,844.809 2167.57,865.157 2188.22,885.243 2208.86,905.167 2229.51,924.974 2250.15,944.685 2270.8,964.31 2291.44,983.851 \n",
       "  \n",
       "  \"/>\n",
       "<polyline clip-path=\"url(#clip662)\" style=\"stroke:#c68125; stroke-linecap:butt; stroke-linejoin:round; stroke-width:12; stroke-opacity:1; fill:none\" points=\"\n",
       "  247.59,974.743 268.234,991.785 288.879,1008.77 309.524,1025.69 330.169,1042.53 350.814,1059.31 371.459,1076 392.104,1092.59 412.749,1109.09 433.394,1125.47 \n",
       "  454.039,1141.73 474.684,1157.85 495.329,1173.81 515.974,1189.45 536.619,1202.59 557.264,1184.74 577.909,947.874 598.554,667.539 619.199,679.065 639.844,695.666 \n",
       "  660.489,712.321 681.134,729.058 701.779,745.958 722.424,790.907 743.069,807.888 763.713,824.53 784.358,841.083 805.003,857.603 825.648,874.104 846.293,890.595 \n",
       "  866.938,907.078 887.583,923.554 908.228,940.024 928.873,956.487 949.518,972.942 970.163,989.386 990.808,765.317 1011.45,342.548 1032.1,339.024 1052.74,355.448 \n",
       "  1073.39,372.317 1094.03,389.405 1114.68,406.696 1135.32,424.174 1155.97,441.827 1176.61,459.645 1197.26,477.619 1217.9,495.743 1238.55,514.014 1259.19,532.429 \n",
       "  1279.84,550.991 1300.48,569.704 1321.13,588.578 1341.77,607.629 1362.42,626.884 1383.06,646.386 1403.71,666.21 1424.35,686.49 1445,707.519 1465.64,730.15 \n",
       "  1486.29,803.542 1506.93,826.173 1527.58,847.202 1548.22,867.482 1568.87,887.305 1589.51,906.808 1610.16,926.063 1630.8,945.114 1651.45,963.988 1672.09,982.701 \n",
       "  1692.74,1001.26 1713.38,1019.68 1734.03,1037.95 1754.67,1056.07 1775.32,1074.05 1795.96,1091.87 1816.61,1109.52 1837.25,1127 1857.9,1144.28 1878.54,1161.2 \n",
       "  1899.19,1173.56 1919.83,1108.66 1940.48,723.882 1961.12,642.626 1981.77,660.178 2002.41,677.894 2023.06,695.856 2043.7,714.242 2064.35,733.52 2084.99,756.442 \n",
       "  2105.64,797.874 2126.28,817.347 2146.93,835.673 2167.57,853.534 2188.22,871.151 2208.86,888.618 2229.51,905.982 2250.15,923.266 2270.8,940.484 2291.44,957.643 \n",
       "  \n",
       "  \"/>\n",
       "<polyline clip-path=\"url(#clip662)\" style=\"stroke:#00a98d; stroke-linecap:butt; stroke-linejoin:round; stroke-width:12; stroke-opacity:1; fill:none\" points=\"\n",
       "  247.59,952.351 268.234,967.551 288.879,982.709 309.524,997.825 330.169,1012.9 350.814,1027.92 371.459,1042.89 392.104,1057.81 412.749,1072.67 433.394,1087.46 \n",
       "  454.039,1102.19 474.684,1116.83 495.329,1131.38 515.974,1145.84 536.619,1160.05 557.264,1172.46 577.909,1166.31 598.554,1027.18 619.199,729.087 639.844,702.588 \n",
       "  660.489,717.441 681.134,732.363 701.779,747.45 722.424,788.949 743.069,804.202 763.713,819.081 784.358,833.86 805.003,848.6 825.648,863.322 846.293,878.033 \n",
       "  866.938,892.736 887.583,907.434 908.228,922.127 928.873,936.816 949.518,951.499 970.163,857.807 990.808,406.913 1011.45,371.222 1032.1,385.373 1052.74,400.621 \n",
       "  1073.39,416.017 1094.03,431.541 1114.68,447.187 1135.32,462.947 1155.97,478.816 1176.61,494.79 1197.26,510.866 1217.9,527.042 1238.55,543.319 1259.19,559.699 \n",
       "  1279.84,576.185 1300.48,592.783 1321.13,609.506 1341.77,626.368 1362.42,643.396 1383.06,660.628 1403.71,678.131 1424.35,696.026 1445,714.571 1465.64,734.519 \n",
       "  1486.29,799.173 1506.93,819.121 1527.58,837.666 1548.22,855.561 1568.87,873.064 1589.51,890.296 1610.16,907.324 1630.8,924.186 1651.45,940.909 1672.09,957.507 \n",
       "  1692.74,973.993 1713.38,990.373 1734.03,1006.65 1754.67,1022.83 1775.32,1038.9 1795.96,1054.88 1816.61,1070.75 1837.25,1086.51 1857.9,1102.15 1878.54,1117.66 \n",
       "  1899.19,1132.77 1919.83,1142.62 1940.48,1083.68 1961.12,761.994 1981.77,671.561 2002.41,687.334 2023.06,703.327 2043.7,719.691 2064.35,736.82 2084.99,756.826 \n",
       "  2105.64,794.692 2126.28,812.111 2146.93,828.472 2167.57,844.397 2188.22,860.092 2208.86,875.646 2229.51,891.105 2250.15,906.493 2270.8,921.826 2291.44,937.11 \n",
       "  \n",
       "  \"/>\n",
       "<polyline clip-path=\"url(#clip662)\" style=\"stroke:#8e971d; stroke-linecap:butt; stroke-linejoin:round; stroke-width:12; stroke-opacity:1; fill:none\" points=\"\n",
       "  247.59,934.335 268.234,948.043 288.879,961.721 309.524,975.368 330.169,988.983 350.814,1002.57 371.459,1016.12 392.104,1029.63 412.749,1043.11 433.394,1056.54 \n",
       "  454.039,1069.93 474.684,1083.28 495.329,1096.57 515.974,1109.8 536.619,1122.96 557.264,1135.93 577.909,1147.56 598.554,1147.42 619.199,1066.66 639.844,807.663 \n",
       "  660.489,721.635 681.134,735.1 701.779,748.743 722.424,787.285 743.069,801.147 763.713,814.612 784.358,827.965 805.003,841.276 825.648,854.566 846.293,867.844 \n",
       "  866.938,881.116 887.583,894.382 908.228,907.644 928.873,920.902 949.518,902.947 970.163,489.601 990.808,399.145 1011.45,409.702 1032.1,423.505 1052.74,437.462 \n",
       "  1073.39,451.506 1094.03,465.633 1114.68,479.839 1135.32,494.122 1155.97,508.478 1176.61,522.908 1197.26,537.409 1217.9,551.984 1238.55,566.633 1259.19,581.36 \n",
       "  1279.84,596.169 1300.48,611.069 1321.13,626.068 1341.77,641.183 1362.42,656.438 1383.06,671.868 1403.71,687.533 1424.35,703.542 1445,720.126 1465.64,737.958 \n",
       "  1486.29,795.734 1506.93,813.566 1527.58,830.15 1548.22,846.159 1568.87,861.824 1589.51,877.254 1610.16,892.509 1630.8,907.624 1651.45,922.623 1672.09,937.522 \n",
       "  1692.74,952.332 1713.38,967.059 1734.03,981.708 1754.67,996.283 1775.32,1010.78 1795.96,1025.21 1816.61,1039.57 1837.25,1053.85 1857.9,1068.06 1878.54,1082.18 \n",
       "  1899.19,1096.2 1919.83,1109.73 1940.48,1117.36 1961.12,1063.48 1981.77,792.278 2002.41,694.94 2023.06,709.351 2043.7,724.091 2064.35,739.488 2084.99,757.182 \n",
       "  2105.64,792.102 2126.28,807.864 2146.93,822.646 2167.57,837.02 2188.22,851.176 2208.86,865.198 2229.51,879.131 2250.15,892.999 2270.8,906.817 2291.44,920.594 \n",
       "  \n",
       "  \"/>\n",
       "<polyline clip-path=\"url(#clip662)\" style=\"stroke:#00a8cb; stroke-linecap:butt; stroke-linejoin:round; stroke-width:12; stroke-opacity:1; fill:none\" points=\"\n",
       "  247.59,919.527 268.234,932.007 288.879,944.463 309.524,956.894 330.169,969.303 350.814,981.687 371.459,994.048 392.104,1006.38 412.749,1018.69 433.394,1030.98 \n",
       "  454.039,1043.23 474.684,1055.45 495.329,1067.64 515.974,1079.79 536.619,1091.9 557.264,1103.95 577.909,1115.85 598.554,1126.73 619.199,1129.77 639.844,1082.59 \n",
       "  660.489,885.336 681.134,742.93 701.779,749.874 722.424,785.854 743.069,798.571 763.713,810.875 784.358,823.058 805.003,835.194 825.648,847.308 846.293,859.409 \n",
       "  866.938,871.503 887.583,883.592 908.228,895.676 928.873,906.246 949.518,590.261 970.163,426.069 990.808,429.911 1011.45,442.334 1032.1,455.068 1052.74,467.867 \n",
       "  1073.39,480.727 1094.03,493.643 1114.68,506.615 1135.32,519.641 1155.97,532.722 1176.61,545.856 1197.26,559.045 1217.9,572.291 1238.55,585.594 1259.19,598.96 \n",
       "  1279.84,612.394 1300.48,625.901 1321.13,639.493 1341.77,653.185 1362.42,666.997 1383.06,680.962 1403.71,695.137 1424.35,709.617 1445,724.614 1465.64,740.735 \n",
       "  1486.29,792.957 1506.93,809.078 1527.58,824.075 1548.22,838.555 1568.87,852.729 1589.51,866.695 1610.16,880.507 1630.8,894.199 1651.45,907.791 1672.09,921.298 \n",
       "  1692.74,934.732 1713.38,948.098 1734.03,961.401 1754.67,974.647 1775.32,987.836 1795.96,1000.97 1816.61,1014.05 1837.25,1027.08 1857.9,1040.05 1878.54,1052.97 \n",
       "  1899.19,1065.82 1919.83,1078.58 1940.48,1090.71 1961.12,1096.43 1981.77,1046.62 2002.41,817.013 2023.06,714.313 2043.7,727.717 2064.35,741.69 2084.99,757.514 \n",
       "  2105.64,789.953 2126.28,804.348 2146.93,817.833 2167.57,830.935 2188.22,843.83 2208.86,856.598 2229.51,869.281 2250.15,881.904 2270.8,894.48 2291.44,907.019 \n",
       "  \n",
       "  \"/>\n",
       "</svg>\n"
      ]
     },
     "execution_count": 18,
     "metadata": {},
     "output_type": "execute_result"
    }
   ],
   "source": [
    "function riemann_traffic(uL, uR)\n",
    "    flux = zero(uL)\n",
    "    for i in 1:length(flux)\n",
    "        fL = flux_traffic(uL[i])\n",
    "        fR = flux_traffic(uR[i])\n",
    "        flux[i] = if uL[i] < uR[i] # shock\n",
    "            min(fL, fR)\n",
    "        elseif uL[i] < .5 # rarefaction all to the right\n",
    "            fL\n",
    "        elseif uR[i] > .5 # rarefaction all to the left\n",
    "            fR\n",
    "        else\n",
    "            flux_traffic(.5)\n",
    "        end\n",
    "    end\n",
    "    flux \n",
    "end\n",
    "x, thist, uhist = fv_solve1(riemann_traffic, testfunc, 100, 1)\n",
    "plot(x, uhist[:,1:5:end], legend=:none)"
   ]
  },
  {
   "cell_type": "markdown",
   "id": "57204200",
   "metadata": {
    "slideshow": {
     "slide_type": "slide"
    }
   },
   "source": [
    "# Preview: Riemann problem for the Euler equations"
   ]
  },
  {
   "cell_type": "markdown",
   "id": "b0570467",
   "metadata": {
    "cell_style": "split"
   },
   "source": [
    "<img src=\"../img/Toro-Euler-4.1.png\" />"
   ]
  },
  {
   "cell_type": "markdown",
   "id": "66e5cbcd",
   "metadata": {
    "cell_style": "split"
   },
   "source": [
    "* Two nonlinear (acoustic) waves\n",
    "  * Either is a shock or rarefaction\n",
    "* One linearly degenerate (contact) wave\n",
    "  * Not a shock or rarefaction\n",
    "  * Pressure is constant across the contact wave\n",
    "  * Different temperature and density\n",
    "* Need to determine the wave structure to sample the flux."
   ]
  },
  {
   "cell_type": "markdown",
   "id": "c99f370e",
   "metadata": {
    "slideshow": {
     "slide_type": "slide"
    }
   },
   "source": [
    "# Further resources"
   ]
  },
  {
   "cell_type": "markdown",
   "id": "745ba1e6",
   "metadata": {
    "cell_style": "split",
    "slideshow": {
     "slide_type": ""
    }
   },
   "source": [
    "## Book: Riemann Problems and Jupyter Solutions\n",
    "\n",
    "[Riemann Problems and Jupyter Solutions: Theory and Approximate Solvers for Hyperbolic PDEs](http://www.clawpack.org/riemann_book/) by David I. Ketcheson, Randall J. LeVeque, and Mauricio del Razo Sarmina is an excellent compilation of Jupyter notebooks for learning about hyperbolic conservation laws and Riemann solvers.\n",
    "\n",
    "You can [run in Binder](https://mybinder.org/v2/gh/clawpack/riemann_book/master) to interact with the notebooks without needing to install Clawpack."
   ]
  },
  {
   "cell_type": "markdown",
   "id": "9061ae12",
   "metadata": {
    "cell_style": "split",
    "slideshow": {
     "slide_type": ""
    }
   },
   "source": [
    "## Riemann solvers and gas dynamics\n",
    "\n",
    "[Toro: Riemann Solvers and Numerical Methods for Fluid Dynamics](https://link.springer.com/book/10.1007%2Fb79761#toc) (free download for CU students)"
   ]
  }
 ],
 "metadata": {
  "@webio": {
   "lastCommId": null,
   "lastKernelId": null
  },
  "celltoolbar": "Slideshow",
  "kernelspec": {
   "display_name": "Julia 1.7.2",
   "language": "julia",
   "name": "julia-1.7"
  },
  "language_info": {
   "file_extension": ".jl",
   "mimetype": "application/julia",
   "name": "julia",
   "version": "1.8.3"
  },
  "rise": {
   "enable_chalkboard": true
  }
 },
 "nbformat": 4,
 "nbformat_minor": 5
}
