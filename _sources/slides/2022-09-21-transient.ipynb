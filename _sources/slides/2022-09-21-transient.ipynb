{
 "cells": [
  {
   "cell_type": "markdown",
   "id": "3471b94b",
   "metadata": {
    "cell_style": "center",
    "slideshow": {
     "slide_type": "slide"
    }
   },
   "source": [
    "# 2022-09-21 Transient Intro"
   ]
  },
  {
   "cell_type": "markdown",
   "id": "4159be0e",
   "metadata": {
    "cell_style": "split",
    "slideshow": {
     "slide_type": ""
    }
   },
   "source": [
    "## Last time\n",
    "\n",
    "* Structured by-hand differentiation\n",
    "* Concept of PDE-based inference (inverse problems)\n",
    "* The Blasius problem (activity)\n",
    "\n",
    "## Today\n",
    "\n",
    "* Blasius working session\n",
    "* Intro to transient problems\n",
    "* Stability diagrams\n",
    "* Energy dissipation\n",
    "* $A$ and $L$ stability"
   ]
  },
  {
   "cell_type": "code",
   "execution_count": 2,
   "id": "e82d841d",
   "metadata": {
    "hideOutput": true,
    "slideshow": {
     "slide_type": "skip"
    }
   },
   "outputs": [
    {
     "data": {
      "text/plain": [
       "vander (generic function with 2 methods)"
      ]
     },
     "execution_count": 2,
     "metadata": {},
     "output_type": "execute_result"
    }
   ],
   "source": [
    "using Plots\n",
    "default(linewidth=3)\n",
    "using LinearAlgebra\n",
    "using SparseArrays\n",
    "using Zygote\n",
    "\n",
    "function vander(x, k=nothing)\n",
    "    if k === nothing\n",
    "        k = length(x)\n",
    "    end\n",
    "    V = ones(length(x), k)\n",
    "    for j = 2:k\n",
    "        V[:, j] = V[:, j-1] .* x\n",
    "    end\n",
    "    V\n",
    "end\n"
   ]
  },
  {
   "cell_type": "markdown",
   "id": "d88ae97a",
   "metadata": {
    "slideshow": {
     "slide_type": "slide"
    }
   },
   "source": [
    "# [Compressible Blasius boundary layer](https://en.wikipedia.org/wiki/Blasius_boundary_layer#Compressible_Blasius_boundary_layer)\n",
    "\n",
    "* Activity will solve this 1D nonlinear PDE"
   ]
  },
  {
   "cell_type": "markdown",
   "id": "8c758618",
   "metadata": {
    "slideshow": {
     "slide_type": "slide"
    }
   },
   "source": [
    "# Ordinary Differential Equations\n",
    "\n",
    "Given initial condition $u_0 = u(t=0)$, find $u(t)$ for $t > 0$ that satisfies\n",
    "\n",
    "$$ \\dot u \\equiv \\frac{\\partial u}{\\partial t} = f(t, u) $$"
   ]
  },
  {
   "cell_type": "markdown",
   "id": "229fb2db",
   "metadata": {
    "cell_style": "center"
   },
   "source": [
    "| Application | $u$ | $f$ |\n",
    "| --- | --- | --- |\n",
    "| Orbital dynamics | position, momentum | conservation of momentum|\n",
    "| Chemical reactions | concentration | conservation of atoms |\n",
    "| Epidemiology | infected/recovered population | transmission and recovery |\n",
    "| Heat transfer | temperature | conservation of energy |\n",
    "| Seismology | displacement, momentum | conservative of momentum |"
   ]
  },
  {
   "cell_type": "markdown",
   "id": "e68ff75b",
   "metadata": {
    "slideshow": {
     "slide_type": "slide"
    }
   },
   "source": [
    "# Solving differential equations"
   ]
  },
  {
   "cell_type": "markdown",
   "id": "cf586f73",
   "metadata": {
    "cell_style": "split"
   },
   "source": [
    "## Linear equations\n",
    "\n",
    "$$ \\dot u = A(t) u + \\text{source}(t)$$\n",
    "\n",
    "* Autonomous if $A(t) = A$ and source independent of $t$\n",
    "\n",
    "* Suppose $u$ and $a = A$ are scalars: $u(t) = e^{at} u_0$"
   ]
  },
  {
   "cell_type": "markdown",
   "id": "4fae8f09",
   "metadata": {
    "cell_style": "split"
   },
   "source": [
    "## Can do the same for systems\n",
    "\n",
    "$$ y(t) = e^{A t} y_0 $$\n",
    "\n",
    "#### What does it mean to exponentiate a matrix?\n",
    "\n",
    "Taylor series!\n",
    "\n",
    "$$ e^A = 1 + A + \\frac{A^2}{2} + \\frac{A^3}{3!} + \\dotsb $$\n",
    "and there are many [practical ways to compute it](https://doi.org/10.1137/S00361445024180)."
   ]
  },
  {
   "cell_type": "markdown",
   "id": "ebc12b79",
   "metadata": {
    "slideshow": {
     "slide_type": "fragment"
    }
   },
   "source": [
    "#### Question\n",
    "Suppose that the diagonalization $A = X \\Lambda X^{-1}$ exists and derive a finite expression for the matrix exponential using the scalar `exp` function."
   ]
  },
  {
   "cell_type": "markdown",
   "id": "1e6653ae",
   "metadata": {
    "slideshow": {
     "slide_type": "slide"
    }
   },
   "source": [
    "# Forward Euler method"
   ]
  },
  {
   "cell_type": "code",
   "execution_count": 3,
   "id": "e7f55b6e",
   "metadata": {
    "cell_style": "split"
   },
   "outputs": [
    {
     "data": {
      "text/plain": [
       "ode_euler (generic function with 1 method)"
      ]
     },
     "execution_count": 3,
     "metadata": {},
     "output_type": "execute_result"
    }
   ],
   "source": [
    "function ode_euler(f, u0; tfinal=10., h=0.1)\n",
    "    u = copy(u0)\n",
    "    t = 0.\n",
    "    thist = [t]\n",
    "    uhist = [u0]\n",
    "    while t < tfinal\n",
    "        tnext = min(t+h, tfinal)\n",
    "        h = tnext - t\n",
    "        u += h * f(t, u)\n",
    "        t = tnext\n",
    "        push!(thist, t)\n",
    "        push!(uhist, u)\n",
    "    end\n",
    "    thist, hcat(uhist...)\n",
    "end"
   ]
  },
  {
   "cell_type": "code",
   "execution_count": 50,
   "id": "b3b90edf",
   "metadata": {
    "cell_style": "split"
   },
   "outputs": [
    {
     "data": {
      "image/svg+xml": [
       "<?xml version=\"1.0\" encoding=\"utf-8\"?>\n",
       "<svg xmlns=\"http://www.w3.org/2000/svg\" xmlns:xlink=\"http://www.w3.org/1999/xlink\" width=\"600\" height=\"400\" viewBox=\"0 0 2400 1600\">\n",
       "<defs>\n",
       "  <clipPath id=\"clip170\">\n",
       "    <rect x=\"0\" y=\"0\" width=\"2400\" height=\"1600\"/>\n",
       "  </clipPath>\n",
       "</defs>\n",
       "<path clip-path=\"url(#clip170)\" d=\"\n",
       "M0 1600 L2400 1600 L2400 0 L0 0  Z\n",
       "  \" fill=\"#ffffff\" fill-rule=\"evenodd\" fill-opacity=\"1\"/>\n",
       "<defs>\n",
       "  <clipPath id=\"clip171\">\n",
       "    <rect x=\"480\" y=\"0\" width=\"1681\" height=\"1600\"/>\n",
       "  </clipPath>\n",
       "</defs>\n",
       "<path clip-path=\"url(#clip170)\" d=\"\n",
       "M239.19 1486.45 L2352.76 1486.45 L2352.76 47.2441 L239.19 47.2441  Z\n",
       "  \" fill=\"#ffffff\" fill-rule=\"evenodd\" fill-opacity=\"1\"/>\n",
       "<defs>\n",
       "  <clipPath id=\"clip172\">\n",
       "    <rect x=\"239\" y=\"47\" width=\"2115\" height=\"1440\"/>\n",
       "  </clipPath>\n",
       "</defs>\n",
       "<polyline clip-path=\"url(#clip172)\" style=\"stroke:#000000; stroke-linecap:butt; stroke-linejoin:round; stroke-width:2; stroke-opacity:0.1; fill:none\" points=\"\n",
       "  299.008,1486.45 299.008,47.2441 \n",
       "  \"/>\n",
       "<polyline clip-path=\"url(#clip172)\" style=\"stroke:#000000; stroke-linecap:butt; stroke-linejoin:round; stroke-width:2; stroke-opacity:0.1; fill:none\" points=\"\n",
       "  797.491,1486.45 797.491,47.2441 \n",
       "  \"/>\n",
       "<polyline clip-path=\"url(#clip172)\" style=\"stroke:#000000; stroke-linecap:butt; stroke-linejoin:round; stroke-width:2; stroke-opacity:0.1; fill:none\" points=\"\n",
       "  1295.97,1486.45 1295.97,47.2441 \n",
       "  \"/>\n",
       "<polyline clip-path=\"url(#clip172)\" style=\"stroke:#000000; stroke-linecap:butt; stroke-linejoin:round; stroke-width:2; stroke-opacity:0.1; fill:none\" points=\"\n",
       "  1794.46,1486.45 1794.46,47.2441 \n",
       "  \"/>\n",
       "<polyline clip-path=\"url(#clip172)\" style=\"stroke:#000000; stroke-linecap:butt; stroke-linejoin:round; stroke-width:2; stroke-opacity:0.1; fill:none\" points=\"\n",
       "  2292.94,1486.45 2292.94,47.2441 \n",
       "  \"/>\n",
       "<polyline clip-path=\"url(#clip170)\" style=\"stroke:#000000; stroke-linecap:butt; stroke-linejoin:round; stroke-width:4; stroke-opacity:1; fill:none\" points=\"\n",
       "  239.19,1486.45 2352.76,1486.45 \n",
       "  \"/>\n",
       "<polyline clip-path=\"url(#clip170)\" style=\"stroke:#000000; stroke-linecap:butt; stroke-linejoin:round; stroke-width:4; stroke-opacity:1; fill:none\" points=\"\n",
       "  299.008,1486.45 299.008,1467.55 \n",
       "  \"/>\n",
       "<polyline clip-path=\"url(#clip170)\" style=\"stroke:#000000; stroke-linecap:butt; stroke-linejoin:round; stroke-width:4; stroke-opacity:1; fill:none\" points=\"\n",
       "  797.491,1486.45 797.491,1467.55 \n",
       "  \"/>\n",
       "<polyline clip-path=\"url(#clip170)\" style=\"stroke:#000000; stroke-linecap:butt; stroke-linejoin:round; stroke-width:4; stroke-opacity:1; fill:none\" points=\"\n",
       "  1295.97,1486.45 1295.97,1467.55 \n",
       "  \"/>\n",
       "<polyline clip-path=\"url(#clip170)\" style=\"stroke:#000000; stroke-linecap:butt; stroke-linejoin:round; stroke-width:4; stroke-opacity:1; fill:none\" points=\"\n",
       "  1794.46,1486.45 1794.46,1467.55 \n",
       "  \"/>\n",
       "<polyline clip-path=\"url(#clip170)\" style=\"stroke:#000000; stroke-linecap:butt; stroke-linejoin:round; stroke-width:4; stroke-opacity:1; fill:none\" points=\"\n",
       "  2292.94,1486.45 2292.94,1467.55 \n",
       "  \"/>\n",
       "<path clip-path=\"url(#clip170)\" d=\"M276.393 1517.37 Q272.782 1517.37 270.953 1520.93 Q269.147 1524.47 269.147 1531.6 Q269.147 1538.71 270.953 1542.27 Q272.782 1545.82 276.393 1545.82 Q280.027 1545.82 281.832 1542.27 Q283.661 1538.71 283.661 1531.6 Q283.661 1524.47 281.832 1520.93 Q280.027 1517.37 276.393 1517.37 M276.393 1513.66 Q282.203 1513.66 285.258 1518.27 Q288.337 1522.85 288.337 1531.6 Q288.337 1540.33 285.258 1544.94 Q282.203 1549.52 276.393 1549.52 Q270.583 1549.52 267.504 1544.94 Q264.448 1540.33 264.448 1531.6 Q264.448 1522.85 267.504 1518.27 Q270.583 1513.66 276.393 1513.66 Z\" fill=\"#000000\" fill-rule=\"evenodd\" fill-opacity=\"1\" /><path clip-path=\"url(#clip170)\" d=\"M296.555 1542.97 L301.439 1542.97 L301.439 1548.85 L296.555 1548.85 L296.555 1542.97 Z\" fill=\"#000000\" fill-rule=\"evenodd\" fill-opacity=\"1\" /><path clip-path=\"url(#clip170)\" d=\"M321.624 1517.37 Q318.013 1517.37 316.184 1520.93 Q314.379 1524.47 314.379 1531.6 Q314.379 1538.71 316.184 1542.27 Q318.013 1545.82 321.624 1545.82 Q325.258 1545.82 327.064 1542.27 Q328.892 1538.71 328.892 1531.6 Q328.892 1524.47 327.064 1520.93 Q325.258 1517.37 321.624 1517.37 M321.624 1513.66 Q327.434 1513.66 330.49 1518.27 Q333.568 1522.85 333.568 1531.6 Q333.568 1540.33 330.49 1544.94 Q327.434 1549.52 321.624 1549.52 Q315.814 1549.52 312.735 1544.94 Q309.68 1540.33 309.68 1531.6 Q309.68 1522.85 312.735 1518.27 Q315.814 1513.66 321.624 1513.66 Z\" fill=\"#000000\" fill-rule=\"evenodd\" fill-opacity=\"1\" /><path clip-path=\"url(#clip170)\" d=\"M769.227 1544.91 L785.546 1544.91 L785.546 1548.85 L763.602 1548.85 L763.602 1544.91 Q766.264 1542.16 770.847 1537.53 Q775.454 1532.88 776.634 1531.53 Q778.88 1529.01 779.759 1527.27 Q780.662 1525.51 780.662 1523.82 Q780.662 1521.07 778.718 1519.33 Q776.796 1517.6 773.695 1517.6 Q771.495 1517.6 769.042 1518.36 Q766.611 1519.13 763.833 1520.68 L763.833 1515.95 Q766.658 1514.82 769.111 1514.24 Q771.565 1513.66 773.602 1513.66 Q778.972 1513.66 782.167 1516.35 Q785.361 1519.03 785.361 1523.52 Q785.361 1525.65 784.551 1527.57 Q783.764 1529.47 781.657 1532.07 Q781.079 1532.74 777.977 1535.95 Q774.875 1539.15 769.227 1544.91 Z\" fill=\"#000000\" fill-rule=\"evenodd\" fill-opacity=\"1\" /><path clip-path=\"url(#clip170)\" d=\"M795.361 1542.97 L800.245 1542.97 L800.245 1548.85 L795.361 1548.85 L795.361 1542.97 Z\" fill=\"#000000\" fill-rule=\"evenodd\" fill-opacity=\"1\" /><path clip-path=\"url(#clip170)\" d=\"M810.477 1514.29 L828.833 1514.29 L828.833 1518.22 L814.759 1518.22 L814.759 1526.7 Q815.778 1526.35 816.796 1526.19 Q817.815 1526 818.833 1526 Q824.62 1526 828 1529.17 Q831.379 1532.34 831.379 1537.76 Q831.379 1543.34 827.907 1546.44 Q824.435 1549.52 818.116 1549.52 Q815.94 1549.52 813.671 1549.15 Q811.426 1548.78 809.018 1548.04 L809.018 1543.34 Q811.102 1544.47 813.324 1545.03 Q815.546 1545.58 818.023 1545.58 Q822.028 1545.58 824.366 1543.48 Q826.704 1541.37 826.704 1537.76 Q826.704 1534.15 824.366 1532.04 Q822.028 1529.94 818.023 1529.94 Q816.148 1529.94 814.273 1530.35 Q812.421 1530.77 810.477 1531.65 L810.477 1514.29 Z\" fill=\"#000000\" fill-rule=\"evenodd\" fill-opacity=\"1\" /><path clip-path=\"url(#clip170)\" d=\"M1263.14 1514.29 L1281.49 1514.29 L1281.49 1518.22 L1267.42 1518.22 L1267.42 1526.7 Q1268.44 1526.35 1269.46 1526.19 Q1270.48 1526 1271.49 1526 Q1277.28 1526 1280.66 1529.17 Q1284.04 1532.34 1284.04 1537.76 Q1284.04 1543.34 1280.57 1546.44 Q1277.1 1549.52 1270.78 1549.52 Q1268.6 1549.52 1266.33 1549.15 Q1264.09 1548.78 1261.68 1548.04 L1261.68 1543.34 Q1263.76 1544.47 1265.98 1545.03 Q1268.21 1545.58 1270.68 1545.58 Q1274.69 1545.58 1277.03 1543.48 Q1279.36 1541.37 1279.36 1537.76 Q1279.36 1534.15 1277.03 1532.04 Q1274.69 1529.94 1270.68 1529.94 Q1268.81 1529.94 1266.93 1530.35 Q1265.08 1530.77 1263.14 1531.65 L1263.14 1514.29 Z\" fill=\"#000000\" fill-rule=\"evenodd\" fill-opacity=\"1\" /><path clip-path=\"url(#clip170)\" d=\"M1293.25 1542.97 L1298.14 1542.97 L1298.14 1548.85 L1293.25 1548.85 L1293.25 1542.97 Z\" fill=\"#000000\" fill-rule=\"evenodd\" fill-opacity=\"1\" /><path clip-path=\"url(#clip170)\" d=\"M1318.32 1517.37 Q1314.71 1517.37 1312.88 1520.93 Q1311.08 1524.47 1311.08 1531.6 Q1311.08 1538.71 1312.88 1542.27 Q1314.71 1545.82 1318.32 1545.82 Q1321.96 1545.82 1323.76 1542.27 Q1325.59 1538.71 1325.59 1531.6 Q1325.59 1524.47 1323.76 1520.93 Q1321.96 1517.37 1318.32 1517.37 M1318.32 1513.66 Q1324.13 1513.66 1327.19 1518.27 Q1330.27 1522.85 1330.27 1531.6 Q1330.27 1540.33 1327.19 1544.94 Q1324.13 1549.52 1318.32 1549.52 Q1312.51 1549.52 1309.43 1544.94 Q1306.38 1540.33 1306.38 1531.6 Q1306.38 1522.85 1309.43 1518.27 Q1312.51 1513.66 1318.32 1513.66 Z\" fill=\"#000000\" fill-rule=\"evenodd\" fill-opacity=\"1\" /><path clip-path=\"url(#clip170)\" d=\"M1760.78 1514.29 L1783 1514.29 L1783 1516.28 L1770.45 1548.85 L1765.57 1548.85 L1777.37 1518.22 L1760.78 1518.22 L1760.78 1514.29 Z\" fill=\"#000000\" fill-rule=\"evenodd\" fill-opacity=\"1\" /><path clip-path=\"url(#clip170)\" d=\"M1792.12 1542.97 L1797 1542.97 L1797 1548.85 L1792.12 1548.85 L1792.12 1542.97 Z\" fill=\"#000000\" fill-rule=\"evenodd\" fill-opacity=\"1\" /><path clip-path=\"url(#clip170)\" d=\"M1807.23 1514.29 L1825.59 1514.29 L1825.59 1518.22 L1811.52 1518.22 L1811.52 1526.7 Q1812.53 1526.35 1813.55 1526.19 Q1814.57 1526 1815.59 1526 Q1821.38 1526 1824.76 1529.17 Q1828.14 1532.34 1828.14 1537.76 Q1828.14 1543.34 1824.66 1546.44 Q1821.19 1549.52 1814.87 1549.52 Q1812.7 1549.52 1810.43 1549.15 Q1808.18 1548.78 1805.77 1548.04 L1805.77 1543.34 Q1807.86 1544.47 1810.08 1545.03 Q1812.3 1545.58 1814.78 1545.58 Q1818.78 1545.58 1821.12 1543.48 Q1823.46 1541.37 1823.46 1537.76 Q1823.46 1534.15 1821.12 1532.04 Q1818.78 1529.94 1814.78 1529.94 Q1812.9 1529.94 1811.03 1530.35 Q1809.18 1530.77 1807.23 1531.65 L1807.23 1514.29 Z\" fill=\"#000000\" fill-rule=\"evenodd\" fill-opacity=\"1\" /><path clip-path=\"url(#clip170)\" d=\"M2245.01 1544.91 L2252.65 1544.91 L2252.65 1518.55 L2244.34 1520.21 L2244.34 1515.95 L2252.6 1514.29 L2257.28 1514.29 L2257.28 1544.91 L2264.92 1544.91 L2264.92 1548.85 L2245.01 1548.85 L2245.01 1544.91 Z\" fill=\"#000000\" fill-rule=\"evenodd\" fill-opacity=\"1\" /><path clip-path=\"url(#clip170)\" d=\"M2284.36 1517.37 Q2280.75 1517.37 2278.92 1520.93 Q2277.12 1524.47 2277.12 1531.6 Q2277.12 1538.71 2278.92 1542.27 Q2280.75 1545.82 2284.36 1545.82 Q2288 1545.82 2289.8 1542.27 Q2291.63 1538.71 2291.63 1531.6 Q2291.63 1524.47 2289.8 1520.93 Q2288 1517.37 2284.36 1517.37 M2284.36 1513.66 Q2290.17 1513.66 2293.23 1518.27 Q2296.31 1522.85 2296.31 1531.6 Q2296.31 1540.33 2293.23 1544.94 Q2290.17 1549.52 2284.36 1549.52 Q2278.55 1549.52 2275.47 1544.94 Q2272.42 1540.33 2272.42 1531.6 Q2272.42 1522.85 2275.47 1518.27 Q2278.55 1513.66 2284.36 1513.66 Z\" fill=\"#000000\" fill-rule=\"evenodd\" fill-opacity=\"1\" /><path clip-path=\"url(#clip170)\" d=\"M2304.52 1542.97 L2309.41 1542.97 L2309.41 1548.85 L2304.52 1548.85 L2304.52 1542.97 Z\" fill=\"#000000\" fill-rule=\"evenodd\" fill-opacity=\"1\" /><path clip-path=\"url(#clip170)\" d=\"M2329.59 1517.37 Q2325.98 1517.37 2324.15 1520.93 Q2322.35 1524.47 2322.35 1531.6 Q2322.35 1538.71 2324.15 1542.27 Q2325.98 1545.82 2329.59 1545.82 Q2333.23 1545.82 2335.03 1542.27 Q2336.86 1538.71 2336.86 1531.6 Q2336.86 1524.47 2335.03 1520.93 Q2333.23 1517.37 2329.59 1517.37 M2329.59 1513.66 Q2335.4 1513.66 2338.46 1518.27 Q2341.54 1522.85 2341.54 1531.6 Q2341.54 1540.33 2338.46 1544.94 Q2335.4 1549.52 2329.59 1549.52 Q2323.78 1549.52 2320.7 1544.94 Q2317.65 1540.33 2317.65 1531.6 Q2317.65 1522.85 2320.7 1518.27 Q2323.78 1513.66 2329.59 1513.66 Z\" fill=\"#000000\" fill-rule=\"evenodd\" fill-opacity=\"1\" /><polyline clip-path=\"url(#clip172)\" style=\"stroke:#000000; stroke-linecap:butt; stroke-linejoin:round; stroke-width:2; stroke-opacity:0.1; fill:none\" points=\"\n",
       "  239.19,1354.94 2352.76,1354.94 \n",
       "  \"/>\n",
       "<polyline clip-path=\"url(#clip172)\" style=\"stroke:#000000; stroke-linecap:butt; stroke-linejoin:round; stroke-width:2; stroke-opacity:0.1; fill:none\" points=\"\n",
       "  239.19,1029.96 2352.76,1029.96 \n",
       "  \"/>\n",
       "<polyline clip-path=\"url(#clip172)\" style=\"stroke:#000000; stroke-linecap:butt; stroke-linejoin:round; stroke-width:2; stroke-opacity:0.1; fill:none\" points=\"\n",
       "  239.19,704.979 2352.76,704.979 \n",
       "  \"/>\n",
       "<polyline clip-path=\"url(#clip172)\" style=\"stroke:#000000; stroke-linecap:butt; stroke-linejoin:round; stroke-width:2; stroke-opacity:0.1; fill:none\" points=\"\n",
       "  239.19,380.001 2352.76,380.001 \n",
       "  \"/>\n",
       "<polyline clip-path=\"url(#clip172)\" style=\"stroke:#000000; stroke-linecap:butt; stroke-linejoin:round; stroke-width:2; stroke-opacity:0.1; fill:none\" points=\"\n",
       "  239.19,55.0224 2352.76,55.0224 \n",
       "  \"/>\n",
       "<polyline clip-path=\"url(#clip170)\" style=\"stroke:#000000; stroke-linecap:butt; stroke-linejoin:round; stroke-width:4; stroke-opacity:1; fill:none\" points=\"\n",
       "  239.19,1486.45 239.19,47.2441 \n",
       "  \"/>\n",
       "<polyline clip-path=\"url(#clip170)\" style=\"stroke:#000000; stroke-linecap:butt; stroke-linejoin:round; stroke-width:4; stroke-opacity:1; fill:none\" points=\"\n",
       "  239.19,1354.94 258.088,1354.94 \n",
       "  \"/>\n",
       "<polyline clip-path=\"url(#clip170)\" style=\"stroke:#000000; stroke-linecap:butt; stroke-linejoin:round; stroke-width:4; stroke-opacity:1; fill:none\" points=\"\n",
       "  239.19,1029.96 258.088,1029.96 \n",
       "  \"/>\n",
       "<polyline clip-path=\"url(#clip170)\" style=\"stroke:#000000; stroke-linecap:butt; stroke-linejoin:round; stroke-width:4; stroke-opacity:1; fill:none\" points=\"\n",
       "  239.19,704.979 258.088,704.979 \n",
       "  \"/>\n",
       "<polyline clip-path=\"url(#clip170)\" style=\"stroke:#000000; stroke-linecap:butt; stroke-linejoin:round; stroke-width:4; stroke-opacity:1; fill:none\" points=\"\n",
       "  239.19,380.001 258.088,380.001 \n",
       "  \"/>\n",
       "<polyline clip-path=\"url(#clip170)\" style=\"stroke:#000000; stroke-linecap:butt; stroke-linejoin:round; stroke-width:4; stroke-opacity:1; fill:none\" points=\"\n",
       "  239.19,55.0224 258.088,55.0224 \n",
       "  \"/>\n",
       "<path clip-path=\"url(#clip170)\" d=\"M50.9921 1355.39 L80.6679 1355.39 L80.6679 1359.32 L50.9921 1359.32 L50.9921 1355.39 Z\" fill=\"#000000\" fill-rule=\"evenodd\" fill-opacity=\"1\" /><path clip-path=\"url(#clip170)\" d=\"M103.608 1341.73 L91.8021 1360.18 L103.608 1360.18 L103.608 1341.73 M102.381 1337.66 L108.26 1337.66 L108.26 1360.18 L113.191 1360.18 L113.191 1364.07 L108.26 1364.07 L108.26 1372.22 L103.608 1372.22 L103.608 1364.07 L88.0058 1364.07 L88.0058 1359.55 L102.381 1337.66 Z\" fill=\"#000000\" fill-rule=\"evenodd\" fill-opacity=\"1\" /><path clip-path=\"url(#clip170)\" d=\"M130.922 1340.74 Q127.311 1340.74 125.482 1344.3 Q123.677 1347.84 123.677 1354.97 Q123.677 1362.08 125.482 1365.64 Q127.311 1369.18 130.922 1369.18 Q134.556 1369.18 136.362 1365.64 Q138.191 1362.08 138.191 1354.97 Q138.191 1347.84 136.362 1344.3 Q134.556 1340.74 130.922 1340.74 M130.922 1337.03 Q136.732 1337.03 139.788 1341.64 Q142.867 1346.22 142.867 1354.97 Q142.867 1363.7 139.788 1368.3 Q136.732 1372.89 130.922 1372.89 Q125.112 1372.89 122.033 1368.3 Q118.978 1363.7 118.978 1354.97 Q118.978 1346.22 122.033 1341.64 Q125.112 1337.03 130.922 1337.03 Z\" fill=\"#000000\" fill-rule=\"evenodd\" fill-opacity=\"1\" /><path clip-path=\"url(#clip170)\" d=\"M161.084 1340.74 Q157.473 1340.74 155.644 1344.3 Q153.839 1347.84 153.839 1354.97 Q153.839 1362.08 155.644 1365.64 Q157.473 1369.18 161.084 1369.18 Q164.718 1369.18 166.524 1365.64 Q168.353 1362.08 168.353 1354.97 Q168.353 1347.84 166.524 1344.3 Q164.718 1340.74 161.084 1340.74 M161.084 1337.03 Q166.894 1337.03 169.95 1341.64 Q173.029 1346.22 173.029 1354.97 Q173.029 1363.7 169.95 1368.3 Q166.894 1372.89 161.084 1372.89 Q155.274 1372.89 152.195 1368.3 Q149.14 1363.7 149.14 1354.97 Q149.14 1346.22 152.195 1341.64 Q155.274 1337.03 161.084 1337.03 Z\" fill=\"#000000\" fill-rule=\"evenodd\" fill-opacity=\"1\" /><path clip-path=\"url(#clip170)\" d=\"M191.246 1340.74 Q187.635 1340.74 185.806 1344.3 Q184.001 1347.84 184.001 1354.97 Q184.001 1362.08 185.806 1365.64 Q187.635 1369.18 191.246 1369.18 Q194.88 1369.18 196.686 1365.64 Q198.514 1362.08 198.514 1354.97 Q198.514 1347.84 196.686 1344.3 Q194.88 1340.74 191.246 1340.74 M191.246 1337.03 Q197.056 1337.03 200.112 1341.64 Q203.19 1346.22 203.19 1354.97 Q203.19 1363.7 200.112 1368.3 Q197.056 1372.89 191.246 1372.89 Q185.436 1372.89 182.357 1368.3 Q179.302 1363.7 179.302 1354.97 Q179.302 1346.22 182.357 1341.64 Q185.436 1337.03 191.246 1337.03 Z\" fill=\"#000000\" fill-rule=\"evenodd\" fill-opacity=\"1\" /><path clip-path=\"url(#clip170)\" d=\"M50.9921 1030.41 L80.6679 1030.41 L80.6679 1034.34 L50.9921 1034.34 L50.9921 1030.41 Z\" fill=\"#000000\" fill-rule=\"evenodd\" fill-opacity=\"1\" /><path clip-path=\"url(#clip170)\" d=\"M94.7882 1043.3 L111.108 1043.3 L111.108 1047.24 L89.1632 1047.24 L89.1632 1043.3 Q91.8252 1040.55 96.4085 1035.92 Q101.015 1031.27 102.196 1029.92 Q104.441 1027.4 105.321 1025.66 Q106.223 1023.9 106.223 1022.21 Q106.223 1019.46 104.279 1017.72 Q102.358 1015.99 99.2558 1015.99 Q97.0567 1015.99 94.603 1016.75 Q92.1725 1017.52 89.3947 1019.07 L89.3947 1014.34 Q92.2188 1013.21 94.6724 1012.63 Q97.1261 1012.05 99.1632 1012.05 Q104.534 1012.05 107.728 1014.74 Q110.922 1017.42 110.922 1021.91 Q110.922 1024.04 110.112 1025.96 Q109.325 1027.86 107.219 1030.46 Q106.64 1031.13 103.538 1034.34 Q100.436 1037.54 94.7882 1043.3 Z\" fill=\"#000000\" fill-rule=\"evenodd\" fill-opacity=\"1\" /><path clip-path=\"url(#clip170)\" d=\"M130.922 1015.76 Q127.311 1015.76 125.482 1019.32 Q123.677 1022.86 123.677 1029.99 Q123.677 1037.1 125.482 1040.66 Q127.311 1044.21 130.922 1044.21 Q134.556 1044.21 136.362 1040.66 Q138.191 1037.1 138.191 1029.99 Q138.191 1022.86 136.362 1019.32 Q134.556 1015.76 130.922 1015.76 M130.922 1012.05 Q136.732 1012.05 139.788 1016.66 Q142.867 1021.24 142.867 1029.99 Q142.867 1038.72 139.788 1043.33 Q136.732 1047.91 130.922 1047.91 Q125.112 1047.91 122.033 1043.33 Q118.978 1038.72 118.978 1029.99 Q118.978 1021.24 122.033 1016.66 Q125.112 1012.05 130.922 1012.05 Z\" fill=\"#000000\" fill-rule=\"evenodd\" fill-opacity=\"1\" /><path clip-path=\"url(#clip170)\" d=\"M161.084 1015.76 Q157.473 1015.76 155.644 1019.32 Q153.839 1022.86 153.839 1029.99 Q153.839 1037.1 155.644 1040.66 Q157.473 1044.21 161.084 1044.21 Q164.718 1044.21 166.524 1040.66 Q168.353 1037.1 168.353 1029.99 Q168.353 1022.86 166.524 1019.32 Q164.718 1015.76 161.084 1015.76 M161.084 1012.05 Q166.894 1012.05 169.95 1016.66 Q173.029 1021.24 173.029 1029.99 Q173.029 1038.72 169.95 1043.33 Q166.894 1047.91 161.084 1047.91 Q155.274 1047.91 152.195 1043.33 Q149.14 1038.72 149.14 1029.99 Q149.14 1021.24 152.195 1016.66 Q155.274 1012.05 161.084 1012.05 Z\" fill=\"#000000\" fill-rule=\"evenodd\" fill-opacity=\"1\" /><path clip-path=\"url(#clip170)\" d=\"M191.246 1015.76 Q187.635 1015.76 185.806 1019.32 Q184.001 1022.86 184.001 1029.99 Q184.001 1037.1 185.806 1040.66 Q187.635 1044.21 191.246 1044.21 Q194.88 1044.21 196.686 1040.66 Q198.514 1037.1 198.514 1029.99 Q198.514 1022.86 196.686 1019.32 Q194.88 1015.76 191.246 1015.76 M191.246 1012.05 Q197.056 1012.05 200.112 1016.66 Q203.19 1021.24 203.19 1029.99 Q203.19 1038.72 200.112 1043.33 Q197.056 1047.91 191.246 1047.91 Q185.436 1047.91 182.357 1043.33 Q179.302 1038.72 179.302 1029.99 Q179.302 1021.24 182.357 1016.66 Q185.436 1012.05 191.246 1012.05 Z\" fill=\"#000000\" fill-rule=\"evenodd\" fill-opacity=\"1\" /><path clip-path=\"url(#clip170)\" d=\"M191.246 690.778 Q187.635 690.778 185.806 694.343 Q184.001 697.885 184.001 705.014 Q184.001 712.121 185.806 715.685 Q187.635 719.227 191.246 719.227 Q194.88 719.227 196.686 715.685 Q198.514 712.121 198.514 705.014 Q198.514 697.885 196.686 694.343 Q194.88 690.778 191.246 690.778 M191.246 687.074 Q197.056 687.074 200.112 691.681 Q203.19 696.264 203.19 705.014 Q203.19 713.741 200.112 718.347 Q197.056 722.931 191.246 722.931 Q185.436 722.931 182.357 718.347 Q179.302 713.741 179.302 705.014 Q179.302 696.264 182.357 691.681 Q185.436 687.074 191.246 687.074 Z\" fill=\"#000000\" fill-rule=\"evenodd\" fill-opacity=\"1\" /><path clip-path=\"url(#clip170)\" d=\"M94.7882 393.346 L111.108 393.346 L111.108 397.281 L89.1632 397.281 L89.1632 393.346 Q91.8252 390.591 96.4085 385.962 Q101.015 381.309 102.196 379.966 Q104.441 377.443 105.321 375.707 Q106.223 373.948 106.223 372.258 Q106.223 369.503 104.279 367.767 Q102.358 366.031 99.2558 366.031 Q97.0567 366.031 94.603 366.795 Q92.1725 367.559 89.3947 369.11 L89.3947 364.388 Q92.2188 363.253 94.6724 362.675 Q97.1261 362.096 99.1632 362.096 Q104.534 362.096 107.728 364.781 Q110.922 367.466 110.922 371.957 Q110.922 374.087 110.112 376.008 Q109.325 377.906 107.219 380.499 Q106.64 381.17 103.538 384.387 Q100.436 387.582 94.7882 393.346 Z\" fill=\"#000000\" fill-rule=\"evenodd\" fill-opacity=\"1\" /><path clip-path=\"url(#clip170)\" d=\"M130.922 365.8 Q127.311 365.8 125.482 369.364 Q123.677 372.906 123.677 380.036 Q123.677 387.142 125.482 390.707 Q127.311 394.249 130.922 394.249 Q134.556 394.249 136.362 390.707 Q138.191 387.142 138.191 380.036 Q138.191 372.906 136.362 369.364 Q134.556 365.8 130.922 365.8 M130.922 362.096 Q136.732 362.096 139.788 366.702 Q142.867 371.286 142.867 380.036 Q142.867 388.762 139.788 393.369 Q136.732 397.952 130.922 397.952 Q125.112 397.952 122.033 393.369 Q118.978 388.762 118.978 380.036 Q118.978 371.286 122.033 366.702 Q125.112 362.096 130.922 362.096 Z\" fill=\"#000000\" fill-rule=\"evenodd\" fill-opacity=\"1\" /><path clip-path=\"url(#clip170)\" d=\"M161.084 365.8 Q157.473 365.8 155.644 369.364 Q153.839 372.906 153.839 380.036 Q153.839 387.142 155.644 390.707 Q157.473 394.249 161.084 394.249 Q164.718 394.249 166.524 390.707 Q168.353 387.142 168.353 380.036 Q168.353 372.906 166.524 369.364 Q164.718 365.8 161.084 365.8 M161.084 362.096 Q166.894 362.096 169.95 366.702 Q173.029 371.286 173.029 380.036 Q173.029 388.762 169.95 393.369 Q166.894 397.952 161.084 397.952 Q155.274 397.952 152.195 393.369 Q149.14 388.762 149.14 380.036 Q149.14 371.286 152.195 366.702 Q155.274 362.096 161.084 362.096 Z\" fill=\"#000000\" fill-rule=\"evenodd\" fill-opacity=\"1\" /><path clip-path=\"url(#clip170)\" d=\"M191.246 365.8 Q187.635 365.8 185.806 369.364 Q184.001 372.906 184.001 380.036 Q184.001 387.142 185.806 390.707 Q187.635 394.249 191.246 394.249 Q194.88 394.249 196.686 390.707 Q198.514 387.142 198.514 380.036 Q198.514 372.906 196.686 369.364 Q194.88 365.8 191.246 365.8 M191.246 362.096 Q197.056 362.096 200.112 366.702 Q203.19 371.286 203.19 380.036 Q203.19 388.762 200.112 393.369 Q197.056 397.952 191.246 397.952 Q185.436 397.952 182.357 393.369 Q179.302 388.762 179.302 380.036 Q179.302 371.286 182.357 366.702 Q185.436 362.096 191.246 362.096 Z\" fill=\"#000000\" fill-rule=\"evenodd\" fill-opacity=\"1\" /><path clip-path=\"url(#clip170)\" d=\"M103.608 41.8165 L91.8021 60.2655 L103.608 60.2655 L103.608 41.8165 M102.381 37.7424 L108.26 37.7424 L108.26 60.2655 L113.191 60.2655 L113.191 64.1543 L108.26 64.1543 L108.26 72.3024 L103.608 72.3024 L103.608 64.1543 L88.0058 64.1543 L88.0058 59.6405 L102.381 37.7424 Z\" fill=\"#000000\" fill-rule=\"evenodd\" fill-opacity=\"1\" /><path clip-path=\"url(#clip170)\" d=\"M130.922 40.8211 Q127.311 40.8211 125.482 44.3859 Q123.677 47.9276 123.677 55.0571 Q123.677 62.1636 125.482 65.7284 Q127.311 69.27 130.922 69.27 Q134.556 69.27 136.362 65.7284 Q138.191 62.1636 138.191 55.0571 Q138.191 47.9276 136.362 44.3859 Q134.556 40.8211 130.922 40.8211 M130.922 37.1174 Q136.732 37.1174 139.788 41.7239 Q142.867 46.3072 142.867 55.0571 Q142.867 63.784 139.788 68.3904 Q136.732 72.9737 130.922 72.9737 Q125.112 72.9737 122.033 68.3904 Q118.978 63.784 118.978 55.0571 Q118.978 46.3072 122.033 41.7239 Q125.112 37.1174 130.922 37.1174 Z\" fill=\"#000000\" fill-rule=\"evenodd\" fill-opacity=\"1\" /><path clip-path=\"url(#clip170)\" d=\"M161.084 40.8211 Q157.473 40.8211 155.644 44.3859 Q153.839 47.9276 153.839 55.0571 Q153.839 62.1636 155.644 65.7284 Q157.473 69.27 161.084 69.27 Q164.718 69.27 166.524 65.7284 Q168.353 62.1636 168.353 55.0571 Q168.353 47.9276 166.524 44.3859 Q164.718 40.8211 161.084 40.8211 M161.084 37.1174 Q166.894 37.1174 169.95 41.7239 Q173.029 46.3072 173.029 55.0571 Q173.029 63.784 169.95 68.3904 Q166.894 72.9737 161.084 72.9737 Q155.274 72.9737 152.195 68.3904 Q149.14 63.784 149.14 55.0571 Q149.14 46.3072 152.195 41.7239 Q155.274 37.1174 161.084 37.1174 Z\" fill=\"#000000\" fill-rule=\"evenodd\" fill-opacity=\"1\" /><path clip-path=\"url(#clip170)\" d=\"M191.246 40.8211 Q187.635 40.8211 185.806 44.3859 Q184.001 47.9276 184.001 55.0571 Q184.001 62.1636 185.806 65.7284 Q187.635 69.27 191.246 69.27 Q194.88 69.27 196.686 65.7284 Q198.514 62.1636 198.514 55.0571 Q198.514 47.9276 196.686 44.3859 Q194.88 40.8211 191.246 40.8211 M191.246 37.1174 Q197.056 37.1174 200.112 41.7239 Q203.19 46.3072 203.19 55.0571 Q203.19 63.784 200.112 68.3904 Q197.056 72.9737 191.246 72.9737 Q185.436 72.9737 182.357 68.3904 Q179.302 63.784 179.302 55.0571 Q179.302 46.3072 182.357 41.7239 Q185.436 37.1174 191.246 37.1174 Z\" fill=\"#000000\" fill-rule=\"evenodd\" fill-opacity=\"1\" /><circle clip-path=\"url(#clip172)\" cx=\"299.008\" cy=\"704.898\" r=\"14.4\" fill=\"#009af9\" fill-rule=\"evenodd\" fill-opacity=\"1\" stroke=\"#000000\" stroke-opacity=\"1\" stroke-width=\"3.2\"/>\n",
       "<circle clip-path=\"url(#clip172)\" cx=\"338.887\" cy=\"704.719\" r=\"14.4\" fill=\"#009af9\" fill-rule=\"evenodd\" fill-opacity=\"1\" stroke=\"#000000\" stroke-opacity=\"1\" stroke-width=\"3.2\"/>\n",
       "<circle clip-path=\"url(#clip172)\" cx=\"378.765\" cy=\"704.941\" r=\"14.4\" fill=\"#009af9\" fill-rule=\"evenodd\" fill-opacity=\"1\" stroke=\"#000000\" stroke-opacity=\"1\" stroke-width=\"3.2\"/>\n",
       "<circle clip-path=\"url(#clip172)\" cx=\"418.644\" cy=\"704.696\" r=\"14.4\" fill=\"#009af9\" fill-rule=\"evenodd\" fill-opacity=\"1\" stroke=\"#000000\" stroke-opacity=\"1\" stroke-width=\"3.2\"/>\n",
       "<circle clip-path=\"url(#clip172)\" cx=\"458.523\" cy=\"705.024\" r=\"14.4\" fill=\"#009af9\" fill-rule=\"evenodd\" fill-opacity=\"1\" stroke=\"#000000\" stroke-opacity=\"1\" stroke-width=\"3.2\"/>\n",
       "<circle clip-path=\"url(#clip172)\" cx=\"498.401\" cy=\"704.677\" r=\"14.4\" fill=\"#009af9\" fill-rule=\"evenodd\" fill-opacity=\"1\" stroke=\"#000000\" stroke-opacity=\"1\" stroke-width=\"3.2\"/>\n",
       "<circle clip-path=\"url(#clip172)\" cx=\"538.28\" cy=\"705.15\" r=\"14.4\" fill=\"#009af9\" fill-rule=\"evenodd\" fill-opacity=\"1\" stroke=\"#000000\" stroke-opacity=\"1\" stroke-width=\"3.2\"/>\n",
       "<circle clip-path=\"url(#clip172)\" cx=\"578.158\" cy=\"704.646\" r=\"14.4\" fill=\"#009af9\" fill-rule=\"evenodd\" fill-opacity=\"1\" stroke=\"#000000\" stroke-opacity=\"1\" stroke-width=\"3.2\"/>\n",
       "<circle clip-path=\"url(#clip172)\" cx=\"618.037\" cy=\"705.319\" r=\"14.4\" fill=\"#009af9\" fill-rule=\"evenodd\" fill-opacity=\"1\" stroke=\"#000000\" stroke-opacity=\"1\" stroke-width=\"3.2\"/>\n",
       "<circle clip-path=\"url(#clip172)\" cx=\"657.916\" cy=\"704.582\" r=\"14.4\" fill=\"#009af9\" fill-rule=\"evenodd\" fill-opacity=\"1\" stroke=\"#000000\" stroke-opacity=\"1\" stroke-width=\"3.2\"/>\n",
       "<circle clip-path=\"url(#clip172)\" cx=\"697.794\" cy=\"705.537\" r=\"14.4\" fill=\"#009af9\" fill-rule=\"evenodd\" fill-opacity=\"1\" stroke=\"#000000\" stroke-opacity=\"1\" stroke-width=\"3.2\"/>\n",
       "<circle clip-path=\"url(#clip172)\" cx=\"737.673\" cy=\"704.458\" r=\"14.4\" fill=\"#009af9\" fill-rule=\"evenodd\" fill-opacity=\"1\" stroke=\"#000000\" stroke-opacity=\"1\" stroke-width=\"3.2\"/>\n",
       "<circle clip-path=\"url(#clip172)\" cx=\"777.551\" cy=\"705.815\" r=\"14.4\" fill=\"#009af9\" fill-rule=\"evenodd\" fill-opacity=\"1\" stroke=\"#000000\" stroke-opacity=\"1\" stroke-width=\"3.2\"/>\n",
       "<circle clip-path=\"url(#clip172)\" cx=\"817.43\" cy=\"704.24\" r=\"14.4\" fill=\"#009af9\" fill-rule=\"evenodd\" fill-opacity=\"1\" stroke=\"#000000\" stroke-opacity=\"1\" stroke-width=\"3.2\"/>\n",
       "<circle clip-path=\"url(#clip172)\" cx=\"857.309\" cy=\"706.172\" r=\"14.4\" fill=\"#009af9\" fill-rule=\"evenodd\" fill-opacity=\"1\" stroke=\"#000000\" stroke-opacity=\"1\" stroke-width=\"3.2\"/>\n",
       "<circle clip-path=\"url(#clip172)\" cx=\"897.187\" cy=\"703.884\" r=\"14.4\" fill=\"#009af9\" fill-rule=\"evenodd\" fill-opacity=\"1\" stroke=\"#000000\" stroke-opacity=\"1\" stroke-width=\"3.2\"/>\n",
       "<circle clip-path=\"url(#clip172)\" cx=\"937.066\" cy=\"706.647\" r=\"14.4\" fill=\"#009af9\" fill-rule=\"evenodd\" fill-opacity=\"1\" stroke=\"#000000\" stroke-opacity=\"1\" stroke-width=\"3.2\"/>\n",
       "<circle clip-path=\"url(#clip172)\" cx=\"976.944\" cy=\"703.335\" r=\"14.4\" fill=\"#009af9\" fill-rule=\"evenodd\" fill-opacity=\"1\" stroke=\"#000000\" stroke-opacity=\"1\" stroke-width=\"3.2\"/>\n",
       "<circle clip-path=\"url(#clip172)\" cx=\"1016.82\" cy=\"707.298\" r=\"14.4\" fill=\"#009af9\" fill-rule=\"evenodd\" fill-opacity=\"1\" stroke=\"#000000\" stroke-opacity=\"1\" stroke-width=\"3.2\"/>\n",
       "<circle clip-path=\"url(#clip172)\" cx=\"1056.7\" cy=\"702.517\" r=\"14.4\" fill=\"#009af9\" fill-rule=\"evenodd\" fill-opacity=\"1\" stroke=\"#000000\" stroke-opacity=\"1\" stroke-width=\"3.2\"/>\n",
       "<circle clip-path=\"url(#clip172)\" cx=\"1096.58\" cy=\"708.217\" r=\"14.4\" fill=\"#009af9\" fill-rule=\"evenodd\" fill-opacity=\"1\" stroke=\"#000000\" stroke-opacity=\"1\" stroke-width=\"3.2\"/>\n",
       "<circle clip-path=\"url(#clip172)\" cx=\"1136.46\" cy=\"701.328\" r=\"14.4\" fill=\"#009af9\" fill-rule=\"evenodd\" fill-opacity=\"1\" stroke=\"#000000\" stroke-opacity=\"1\" stroke-width=\"3.2\"/>\n",
       "<circle clip-path=\"url(#clip172)\" cx=\"1176.34\" cy=\"709.536\" r=\"14.4\" fill=\"#009af9\" fill-rule=\"evenodd\" fill-opacity=\"1\" stroke=\"#000000\" stroke-opacity=\"1\" stroke-width=\"3.2\"/>\n",
       "<circle clip-path=\"url(#clip172)\" cx=\"1216.22\" cy=\"699.621\" r=\"14.4\" fill=\"#009af9\" fill-rule=\"evenodd\" fill-opacity=\"1\" stroke=\"#000000\" stroke-opacity=\"1\" stroke-width=\"3.2\"/>\n",
       "<circle clip-path=\"url(#clip172)\" cx=\"1256.09\" cy=\"711.449\" r=\"14.4\" fill=\"#009af9\" fill-rule=\"evenodd\" fill-opacity=\"1\" stroke=\"#000000\" stroke-opacity=\"1\" stroke-width=\"3.2\"/>\n",
       "<circle clip-path=\"url(#clip172)\" cx=\"1295.97\" cy=\"697.184\" r=\"14.4\" fill=\"#009af9\" fill-rule=\"evenodd\" fill-opacity=\"1\" stroke=\"#000000\" stroke-opacity=\"1\" stroke-width=\"3.2\"/>\n",
       "<circle clip-path=\"url(#clip172)\" cx=\"1335.85\" cy=\"714.232\" r=\"14.4\" fill=\"#009af9\" fill-rule=\"evenodd\" fill-opacity=\"1\" stroke=\"#000000\" stroke-opacity=\"1\" stroke-width=\"3.2\"/>\n",
       "<circle clip-path=\"url(#clip172)\" cx=\"1375.73\" cy=\"693.708\" r=\"14.4\" fill=\"#009af9\" fill-rule=\"evenodd\" fill-opacity=\"1\" stroke=\"#000000\" stroke-opacity=\"1\" stroke-width=\"3.2\"/>\n",
       "<circle clip-path=\"url(#clip172)\" cx=\"1415.61\" cy=\"718.278\" r=\"14.4\" fill=\"#009af9\" fill-rule=\"evenodd\" fill-opacity=\"1\" stroke=\"#000000\" stroke-opacity=\"1\" stroke-width=\"3.2\"/>\n",
       "<circle clip-path=\"url(#clip172)\" cx=\"1455.49\" cy=\"688.744\" r=\"14.4\" fill=\"#009af9\" fill-rule=\"evenodd\" fill-opacity=\"1\" stroke=\"#000000\" stroke-opacity=\"1\" stroke-width=\"3.2\"/>\n",
       "<circle clip-path=\"url(#clip172)\" cx=\"1495.37\" cy=\"724.145\" r=\"14.4\" fill=\"#009af9\" fill-rule=\"evenodd\" fill-opacity=\"1\" stroke=\"#000000\" stroke-opacity=\"1\" stroke-width=\"3.2\"/>\n",
       "<circle clip-path=\"url(#clip172)\" cx=\"1535.24\" cy=\"681.637\" r=\"14.4\" fill=\"#009af9\" fill-rule=\"evenodd\" fill-opacity=\"1\" stroke=\"#000000\" stroke-opacity=\"1\" stroke-width=\"3.2\"/>\n",
       "<circle clip-path=\"url(#clip172)\" cx=\"1575.12\" cy=\"732.634\" r=\"14.4\" fill=\"#009af9\" fill-rule=\"evenodd\" fill-opacity=\"1\" stroke=\"#000000\" stroke-opacity=\"1\" stroke-width=\"3.2\"/>\n",
       "<circle clip-path=\"url(#clip172)\" cx=\"1615\" cy=\"671.439\" r=\"14.4\" fill=\"#009af9\" fill-rule=\"evenodd\" fill-opacity=\"1\" stroke=\"#000000\" stroke-opacity=\"1\" stroke-width=\"3.2\"/>\n",
       "<circle clip-path=\"url(#clip172)\" cx=\"1654.88\" cy=\"744.888\" r=\"14.4\" fill=\"#009af9\" fill-rule=\"evenodd\" fill-opacity=\"1\" stroke=\"#000000\" stroke-opacity=\"1\" stroke-width=\"3.2\"/>\n",
       "<circle clip-path=\"url(#clip172)\" cx=\"1694.76\" cy=\"656.779\" r=\"14.4\" fill=\"#009af9\" fill-rule=\"evenodd\" fill-opacity=\"1\" stroke=\"#000000\" stroke-opacity=\"1\" stroke-width=\"3.2\"/>\n",
       "<circle clip-path=\"url(#clip172)\" cx=\"1734.64\" cy=\"762.551\" r=\"14.4\" fill=\"#009af9\" fill-rule=\"evenodd\" fill-opacity=\"1\" stroke=\"#000000\" stroke-opacity=\"1\" stroke-width=\"3.2\"/>\n",
       "<circle clip-path=\"url(#clip172)\" cx=\"1774.52\" cy=\"635.676\" r=\"14.4\" fill=\"#009af9\" fill-rule=\"evenodd\" fill-opacity=\"1\" stroke=\"#000000\" stroke-opacity=\"1\" stroke-width=\"3.2\"/>\n",
       "<circle clip-path=\"url(#clip172)\" cx=\"1814.39\" cy=\"787.986\" r=\"14.4\" fill=\"#009af9\" fill-rule=\"evenodd\" fill-opacity=\"1\" stroke=\"#000000\" stroke-opacity=\"1\" stroke-width=\"3.2\"/>\n",
       "<circle clip-path=\"url(#clip172)\" cx=\"1854.27\" cy=\"605.281\" r=\"14.4\" fill=\"#009af9\" fill-rule=\"evenodd\" fill-opacity=\"1\" stroke=\"#000000\" stroke-opacity=\"1\" stroke-width=\"3.2\"/>\n",
       "<circle clip-path=\"url(#clip172)\" cx=\"1894.15\" cy=\"824.598\" r=\"14.4\" fill=\"#009af9\" fill-rule=\"evenodd\" fill-opacity=\"1\" stroke=\"#000000\" stroke-opacity=\"1\" stroke-width=\"3.2\"/>\n",
       "<circle clip-path=\"url(#clip172)\" cx=\"1934.03\" cy=\"561.489\" r=\"14.4\" fill=\"#009af9\" fill-rule=\"evenodd\" fill-opacity=\"1\" stroke=\"#000000\" stroke-opacity=\"1\" stroke-width=\"3.2\"/>\n",
       "<circle clip-path=\"url(#clip172)\" cx=\"1973.91\" cy=\"877.289\" r=\"14.4\" fill=\"#009af9\" fill-rule=\"evenodd\" fill-opacity=\"1\" stroke=\"#000000\" stroke-opacity=\"1\" stroke-width=\"3.2\"/>\n",
       "<circle clip-path=\"url(#clip172)\" cx=\"2013.79\" cy=\"498.393\" r=\"14.4\" fill=\"#009af9\" fill-rule=\"evenodd\" fill-opacity=\"1\" stroke=\"#000000\" stroke-opacity=\"1\" stroke-width=\"3.2\"/>\n",
       "<circle clip-path=\"url(#clip172)\" cx=\"2053.67\" cy=\"953.125\" r=\"14.4\" fill=\"#009af9\" fill-rule=\"evenodd\" fill-opacity=\"1\" stroke=\"#000000\" stroke-opacity=\"1\" stroke-width=\"3.2\"/>\n",
       "<circle clip-path=\"url(#clip172)\" cx=\"2093.55\" cy=\"407.494\" r=\"14.4\" fill=\"#009af9\" fill-rule=\"evenodd\" fill-opacity=\"1\" stroke=\"#000000\" stroke-opacity=\"1\" stroke-width=\"3.2\"/>\n",
       "<circle clip-path=\"url(#clip172)\" cx=\"2133.42\" cy=\"1062.29\" r=\"14.4\" fill=\"#009af9\" fill-rule=\"evenodd\" fill-opacity=\"1\" stroke=\"#000000\" stroke-opacity=\"1\" stroke-width=\"3.2\"/>\n",
       "<circle clip-path=\"url(#clip172)\" cx=\"2173.3\" cy=\"276.558\" r=\"14.4\" fill=\"#009af9\" fill-rule=\"evenodd\" fill-opacity=\"1\" stroke=\"#000000\" stroke-opacity=\"1\" stroke-width=\"3.2\"/>\n",
       "<circle clip-path=\"url(#clip172)\" cx=\"2213.18\" cy=\"1219.44\" r=\"14.4\" fill=\"#009af9\" fill-rule=\"evenodd\" fill-opacity=\"1\" stroke=\"#000000\" stroke-opacity=\"1\" stroke-width=\"3.2\"/>\n",
       "<circle clip-path=\"url(#clip172)\" cx=\"2253.06\" cy=\"87.9763\" r=\"14.4\" fill=\"#009af9\" fill-rule=\"evenodd\" fill-opacity=\"1\" stroke=\"#000000\" stroke-opacity=\"1\" stroke-width=\"3.2\"/>\n",
       "<circle clip-path=\"url(#clip172)\" cx=\"2292.94\" cy=\"1445.72\" r=\"14.4\" fill=\"#009af9\" fill-rule=\"evenodd\" fill-opacity=\"1\" stroke=\"#000000\" stroke-opacity=\"1\" stroke-width=\"3.2\"/>\n",
       "<polyline clip-path=\"url(#clip172)\" style=\"stroke:#e26f46; stroke-linecap:butt; stroke-linejoin:round; stroke-width:12; stroke-opacity:1; fill:none\" points=\"\n",
       "  299.008,704.817 302.254,704.817 305.499,704.817 308.744,704.817 311.99,704.817 326.994,704.818 341.998,704.821 349.5,704.822 357.002,704.824 364.504,704.826 \n",
       "  372.007,704.828 379.509,704.83 387.011,704.832 394.513,704.835 402.015,704.838 417.019,704.845 432.023,704.852 441.04,704.856 450.057,704.861 459.074,704.866 \n",
       "  468.091,704.872 486.125,704.883 504.158,704.896 519.406,704.906 534.653,704.918 549.9,704.929 565.148,704.941 598.273,704.968 631.399,704.995 661.938,705.019 \n",
       "  692.477,705.043 708.847,705.055 725.218,705.067 741.588,705.078 757.959,705.088 767.442,705.093 776.926,705.099 786.409,705.104 795.893,705.109 805.376,705.113 \n",
       "  814.86,705.118 824.343,705.121 833.826,705.125 842.254,705.128 850.682,705.131 859.11,705.133 867.537,705.135 875.965,705.137 884.393,705.138 892.821,705.14 \n",
       "  901.248,705.141 916.029,705.142 930.81,705.142 945.591,705.141 960.371,705.139 968.429,705.138 976.486,705.137 984.544,705.135 992.601,705.133 1000.66,705.13 \n",
       "  1008.72,705.128 1016.77,705.125 1024.83,705.122 1032.94,705.119 1041.04,705.115 1049.15,705.112 1057.25,705.108 1073.46,705.099 1089.67,705.09 1107.6,705.079 \n",
       "  1125.52,705.067 1143.44,705.054 1161.37,705.041 1195.47,705.014 1229.58,704.987 1265.04,704.958 1300.51,704.93 1315.43,704.918 1330.36,704.907 1345.28,704.897 \n",
       "  1360.21,704.886 1369.32,704.88 1378.43,704.875 1387.55,704.869 1396.66,704.864 1405.77,704.859 1414.88,704.854 1423.99,704.849 1433.1,704.845 1441.45,704.841 \n",
       "  1449.8,704.838 1458.14,704.834 1466.49,704.832 1474.84,704.829 1483.18,704.826 1491.53,704.824 1499.88,704.822 1507.59,704.821 1515.3,704.82 1523,704.819 \n",
       "  1530.71,704.818 1538.42,704.817 1546.13,704.817 1553.84,704.817 1561.55,704.817 1569.36,704.818 1577.17,704.818 1584.98,704.819 1592.78,704.82 1600.59,704.822 \n",
       "  1608.4,704.823 1616.21,704.825 1624.02,704.827 1632.77,704.83 1641.52,704.833 1650.27,704.836 1659.03,704.84 1667.78,704.844 1676.53,704.848 1685.28,704.852 \n",
       "  1694.03,704.856 1709.89,704.865 1725.75,704.875 1741.61,704.885 1757.47,704.896 1775.63,704.909 1793.79,704.923 1811.95,704.937 1830.11,704.951 1863.74,704.978 \n",
       "  1897.37,705.006 1913.94,705.019 1930.52,705.032 1947.1,705.044 1963.67,705.057 1979.77,705.068 1995.86,705.078 2011.96,705.089 2028.05,705.098 2036.3,705.102 \n",
       "  2044.55,705.107 2052.8,705.111 2061.05,705.115 2077.55,705.122 2094.05,705.128 2103.09,705.13 2112.12,705.133 2121.16,705.135 2130.2,705.137 2139.24,705.139 \n",
       "  2148.28,705.14 2157.32,705.141 2166.35,705.142 2179.48,705.142 2192.61,705.141 2205.74,705.14 2218.87,705.138 2232,705.136 2245.13,705.133 2258.26,705.129 \n",
       "  2271.39,705.124 2276.78,705.122 2282.16,705.12 2287.55,705.118 2292.94,705.116 \n",
       "  \"/>\n",
       "<path clip-path=\"url(#clip170)\" d=\"\n",
       "M1995.03 250.738 L2282.3 250.738 L2282.3 95.2176 L1995.03 95.2176  Z\n",
       "  \" fill=\"#ffffff\" fill-rule=\"evenodd\" fill-opacity=\"1\"/>\n",
       "<polyline clip-path=\"url(#clip170)\" style=\"stroke:#000000; stroke-linecap:butt; stroke-linejoin:round; stroke-width:4; stroke-opacity:1; fill:none\" points=\"\n",
       "  1995.03,250.738 2282.3,250.738 2282.3,95.2176 1995.03,95.2176 1995.03,250.738 \n",
       "  \"/>\n",
       "<circle clip-path=\"url(#clip170)\" cx=\"2088.97\" cy=\"147.058\" r=\"23.04\" fill=\"#009af9\" fill-rule=\"evenodd\" fill-opacity=\"1\" stroke=\"#000000\" stroke-opacity=\"1\" stroke-width=\"5.12\"/>\n",
       "<path clip-path=\"url(#clip170)\" d=\"M2196.75 166.745 Q2194.94 171.375 2193.23 172.787 Q2191.52 174.199 2188.65 174.199 L2185.24 174.199 L2185.24 170.634 L2187.74 170.634 Q2189.5 170.634 2190.47 169.8 Q2191.45 168.967 2192.63 165.865 L2193.39 163.921 L2182.91 138.412 L2187.42 138.412 L2195.52 158.689 L2203.62 138.412 L2208.14 138.412 L2196.75 166.745 Z\" fill=\"#000000\" fill-rule=\"evenodd\" fill-opacity=\"1\" /><path clip-path=\"url(#clip170)\" d=\"M2215.43 160.402 L2223.07 160.402 L2223.07 134.037 L2214.76 135.703 L2214.76 131.444 L2223.02 129.778 L2227.7 129.778 L2227.7 160.402 L2235.34 160.402 L2235.34 164.338 L2215.43 164.338 L2215.43 160.402 Z\" fill=\"#000000\" fill-rule=\"evenodd\" fill-opacity=\"1\" /><polyline clip-path=\"url(#clip170)\" style=\"stroke:#e26f46; stroke-linecap:butt; stroke-linejoin:round; stroke-width:4; stroke-opacity:1; fill:none\" points=\"\n",
       "  2018.52,198.898 2159.42,198.898 \n",
       "  \"/>\n",
       "<path clip-path=\"url(#clip170)\" d=\"M2196.75 218.585 Q2194.94 223.215 2193.23 224.627 Q2191.52 226.039 2188.65 226.039 L2185.24 226.039 L2185.24 222.474 L2187.74 222.474 Q2189.5 222.474 2190.47 221.64 Q2191.45 220.807 2192.63 217.705 L2193.39 215.761 L2182.91 190.252 L2187.42 190.252 L2195.52 210.529 L2203.62 190.252 L2208.14 190.252 L2196.75 218.585 Z\" fill=\"#000000\" fill-rule=\"evenodd\" fill-opacity=\"1\" /><path clip-path=\"url(#clip170)\" d=\"M2218.65 212.242 L2234.97 212.242 L2234.97 216.178 L2213.02 216.178 L2213.02 212.242 Q2215.68 209.488 2220.27 204.858 Q2224.87 200.205 2226.05 198.863 Q2228.3 196.34 2229.18 194.604 Q2230.08 192.844 2230.08 191.155 Q2230.08 188.4 2228.14 186.664 Q2226.22 184.928 2223.11 184.928 Q2220.91 184.928 2218.46 185.692 Q2216.03 186.455 2213.25 188.006 L2213.25 183.284 Q2216.08 182.15 2218.53 181.571 Q2220.98 180.993 2223.02 180.993 Q2228.39 180.993 2231.59 183.678 Q2234.78 186.363 2234.78 190.854 Q2234.78 192.983 2233.97 194.905 Q2233.18 196.803 2231.08 199.395 Q2230.5 200.067 2227.4 203.284 Q2224.29 206.479 2218.65 212.242 Z\" fill=\"#000000\" fill-rule=\"evenodd\" fill-opacity=\"1\" /></svg>\n"
      ]
     },
     "execution_count": 50,
     "metadata": {},
     "output_type": "execute_result"
    }
   ],
   "source": [
    "f1(t, u; k=11) = -k * (u .- cos(t))\n",
    "\n",
    "thist, uhist = ode_euler(f1, [.5], tfinal=10, h=.2)\n",
    "scatter(thist, uhist[1,:])\n",
    "plot!(cos)"
   ]
  }
 ],
 "metadata": {
  "@webio": {
   "lastCommId": null,
   "lastKernelId": null
  },
  "celltoolbar": "Slideshow",
  "kernelspec": {
   "display_name": "Julia 1.7.2",
   "language": "julia",
   "name": "julia-1.7"
  },
  "language_info": {
   "file_extension": ".jl",
   "mimetype": "application/julia",
   "name": "julia",
   "version": "1.8.1"
  },
  "rise": {
   "enable_chalkboard": true
  }
 },
 "nbformat": 4,
 "nbformat_minor": 5
}
