{
 "cells": [
  {
   "cell_type": "markdown",
   "id": "3471b94b",
   "metadata": {
    "cell_style": "center",
    "slideshow": {
     "slide_type": "slide"
    }
   },
   "source": [
    "# 2022-11-16 FE for Compressible flow"
   ]
  },
  {
   "cell_type": "markdown",
   "id": "4159be0e",
   "metadata": {
    "cell_style": "split",
    "slideshow": {
     "slide_type": ""
    }
   },
   "source": [
    "## Last time\n",
    "\n",
    "* Solver diagnostics\n",
    "* Reading profiles\n",
    "* Amortizing costs\n",
    "\n",
    "## Today\n",
    "\n",
    "* Equations\n",
    "  * Conservation\n",
    "  * Choice of variables\n",
    "* SUPG stabilization\n",
    "* Solvers\n",
    "* Boundary conditions"
   ]
  },
  {
   "cell_type": "code",
   "execution_count": 1,
   "id": "e82d841d",
   "metadata": {
    "hideOutput": true,
    "slideshow": {
     "slide_type": "skip"
    }
   },
   "outputs": [],
   "source": [
    "using Plots\n",
    "default(linewidth=3)\n",
    "using LinearAlgebra\n",
    "using SparseArrays"
   ]
  },
  {
   "cell_type": "markdown",
   "id": "4c093e63",
   "metadata": {
    "slideshow": {
     "slide_type": "slide"
    }
   },
   "source": [
    "# Conservation of mass, momentum, and energy"
   ]
  },
  {
   "cell_type": "markdown",
   "id": "31ddd5fa",
   "metadata": {},
   "source": [
    "$$\\frac{\\partial \\bm{q}}{\\partial t} + \\nabla \\cdot \\bm{F}(\\bm{q}) -S(\\bm{q}) = 0$$\n"
   ]
  },
  {
   "cell_type": "markdown",
   "id": "b12af1fb",
   "metadata": {
    "cell_style": "split"
   },
   "source": [
    "$$\\bm{q} =        \\begin{pmatrix}            \\rho \\\\             \\rho \\bm{ u }\\\\            E \\equiv \\rho e        \\end{pmatrix}        \\begin{array}{l}            \\leftarrow\\textrm{ volume mass density}\\\\            \\leftarrow\\textrm{ momentum density}\\\\            \\leftarrow\\textrm{ energy density}        \\end{array}$$\n",
    "\n",
    "* Equation of state\n",
    "\n",
    "\\begin{align}\n",
    "P &= \\Big(\\underbrace{\\frac{c_p}{c_v}}_{\\gamma} - 1\\Big)\\underbrace{\\left(E - \\frac\\rho 2 \\bm u \\cdot \\bm u - \\rho g z \\right)}_{\\rho e_{\\text{internal}}} \\\\\n",
    "T &= e_{\\text{internal}} / c_v\n",
    "\\end{align}"
   ]
  },
  {
   "cell_type": "markdown",
   "id": "95677c59",
   "metadata": {
    "cell_style": "split"
   },
   "source": [
    "\\begin{aligned}\n",
    "\\bm{F}(\\bm{q}) &=\n",
    "\\underbrace{\\begin{pmatrix}\n",
    "    \\rho\\bm{u}\\\\\n",
    "    {\\rho \\bm{u} \\otimes \\bm{u}} + P \\bm{I}_3 \\\\\n",
    "    {(E + P)\\bm{u}}\n",
    "\\end{pmatrix}}_{\\bm F_{\\text{adv}}} +\n",
    "\\underbrace{\\begin{pmatrix}\n",
    "0 \\\\\n",
    "-  \\bm{\\sigma} \\\\\n",
    " - \\bm{u}  \\cdot \\bm{\\sigma} - k \\nabla T\n",
    "\\end{pmatrix}}_{\\bm F_{\\text{diff}}},\\\\\n",
    "S(\\bm{q}) &=\n",
    "- \\begin{pmatrix}\n",
    "    0\\\\\n",
    "    \\rho g \\bm{\\hat{k}}\\\\\n",
    "    0\n",
    "\\end{pmatrix}.\n",
    "\\end{aligned}\n"
   ]
  },
  {
   "cell_type": "markdown",
   "id": "6258796f",
   "metadata": {
    "slideshow": {
     "slide_type": "slide"
    }
   },
   "source": [
    "# Choice of variables"
   ]
  },
  {
   "cell_type": "markdown",
   "id": "a691a39b",
   "metadata": {
    "cell_style": "split"
   },
   "source": [
    "## Acoustic wave speed\n",
    "\n",
    "$$a = \\sqrt{c_p(\\gamma - 1) T}$$\n",
    "\n",
    "| material | speed |\n",
    "|---|---|\n",
    "| air | 340 m/s |\n",
    "| water | 1500 m/s |\n",
    "\n",
    "## Mach number\n",
    "\n",
    "$$\\mathrm{Ma} = \\frac{\\lVert \\bm u \\rVert}{a}$$"
   ]
  },
  {
   "cell_type": "markdown",
   "id": "59d5470a",
   "metadata": {
    "cell_style": "split",
    "slideshow": {
     "slide_type": ""
    }
   },
   "source": [
    "## Primitive variables\n",
    "\n",
    "$$\\bm y = \\begin{pmatrix} P \\\\ \\bm u \\\\ T \\end{pmatrix}$$\n",
    "\n",
    "Using the equation of state, we can write\n",
    "$\\bm y(\\bm q)$ or $\\bm q(\\bm y)$. But these transformations are **ill conditioned for $\\mathrm{Ma} \\ll 1$**.\n",
    "\n",
    "$$ \\frac{\\partial \\bm q}{\\partial t} = \\frac{\\partial \\bm q}{\\partial \\bm y} \\frac{\\partial \\bm y}{\\partial t}$$"
   ]
  },
  {
   "cell_type": "markdown",
   "id": "7e62162b",
   "metadata": {
    "slideshow": {
     "slide_type": "slide"
    }
   },
   "source": [
    "## Blasius profile (thanks, Leila Ghaffari)\n",
    "\n",
    "* Take an analytic Blasius profile.\n",
    "* `Primitive`: Write $\\bm y$ in a piecewise linear space with nodally exact values.\n",
    "* `Conservative`: Write $\\bm q$ in a piecewise linear space with nodally exact values.\n"
   ]
  },
  {
   "cell_type": "markdown",
   "id": "0d446193",
   "metadata": {
    "cell_style": "split",
    "slideshow": {
     "slide_type": ""
    }
   },
   "source": [
    "<img src=\"../img/Temperature_p1.png\" />"
   ]
  },
  {
   "cell_type": "markdown",
   "id": "8bfacbd2",
   "metadata": {
    "cell_style": "split"
   },
   "source": [
    "<img src=\"../img/Temperature_p2.png\" />"
   ]
  },
  {
   "cell_type": "markdown",
   "id": "f5c03d46",
   "metadata": {
    "slideshow": {
     "slide_type": "slide"
    }
   },
   "source": [
    "# Stabilization\n",
    "\n",
    "\\begin{align}\n",
    "  \\int_{\\Omega} \\bm v \\cdot \\left( \\frac{\\partial \\bm{q}}{\\partial t} - \\bm{S}(\\bm{y}) \\right)  \\,dV\n",
    "  - \\int_{\\Omega} \\nabla \\bm v \\!:\\! \\bm{F}(\\bm{y})\\,dV & \\\\\n",
    "  + \\int_{\\partial \\Omega} \\bm v \\cdot \\bm{F}(\\bm{y}) \\cdot \\widehat{\\bm{n}} \\,dS & \\\\\n",
    "  + \\int_{\\Omega} \\nabla \\bm v : \\frac{\\partial \\bm F_{\\text{adv}}}{\\partial \\bm q} \\bm \\tau \\left( \\frac{\\partial \\bm{q}}{\\partial t} \\, + \\,\n",
    "  \\nabla \\cdot \\bm{F} \\, (\\bm{y}) - \\bm{S}(\\bm{y}) \\right) \\,dV &= 0\n",
    "\\end{align}"
   ]
  },
  {
   "cell_type": "markdown",
   "id": "8c179315",
   "metadata": {
    "slideshow": {
     "slide_type": "slide"
    }
   },
   "source": [
    "# Time integration\n",
    "\n",
    "* Fully implicit $G(t, \\bm y, \\dot{\\bm y}) = 0$ with generalized alpha.\n",
    "* Newton method, usually about 3 iterations per time step.\n",
    "* Krylov method\n",
    "  * GMRES when using a strong preconditioner\n",
    "    * Block Jacobi/incomplete LU\n",
    "  * BCGS($\\ell$) with a weak preconditioner\n",
    "    * Point-block Jacobi"
   ]
  },
  {
   "cell_type": "markdown",
   "id": "17e9e4c7",
   "metadata": {
    "slideshow": {
     "slide_type": "slide"
    }
   },
   "source": [
    "# Running on Alpine"
   ]
  },
  {
   "cell_type": "markdown",
   "id": "4195ebd0",
   "metadata": {
    "cell_style": "split",
    "slideshow": {
     "slide_type": ""
    }
   },
   "source": [
    "```console\n",
    "$ ssh login.rc.colorado.edu\n",
    "rc$ module load slurm/alpine\n",
    "rc$ acompile\n",
    "acompile$ . /projects/jeka2967/activate.bash\n",
    "```"
   ]
  },
  {
   "cell_type": "markdown",
   "id": "b22832ce",
   "metadata": {
    "cell_style": "split"
   },
   "source": [
    "```console\n",
    "$ git clone \\\n",
    "    https://github.com/CEED/libCEED\n",
    "$ cd libCEED/examples/fluids\n",
    "$ make\n",
    "$ mpiexec -n 1 ./navierstokes \\\n",
    "    -options_file FILE.yaml\n",
    "```"
   ]
  },
  {
   "cell_type": "markdown",
   "id": "a2f98b53",
   "metadata": {
    "slideshow": {
     "slide_type": ""
    }
   },
   "source": [
    "## Running in Docker\n",
    "\n",
    "Clone the `libCEED` repository and `cd libCEED/examples/fluids`\n",
    "```console\n",
    "host$ docker run -it --rm -v $(pwd):/work registry.gitlab.com/micromorph/ratel\n",
    "$ make\n",
    "$ mpiexec -n 2 ./navierstokes -options_file FILE.yaml\n",
    "```"
   ]
  }
 ],
 "metadata": {
  "@webio": {
   "lastCommId": null,
   "lastKernelId": null
  },
  "celltoolbar": "Slideshow",
  "kernelspec": {
   "display_name": "Julia 1.7.2",
   "language": "julia",
   "name": "julia-1.7"
  },
  "language_info": {
   "file_extension": ".jl",
   "mimetype": "application/julia",
   "name": "julia",
   "version": "1.8.2"
  },
  "rise": {
   "enable_chalkboard": true
  }
 },
 "nbformat": 4,
 "nbformat_minor": 5
}
