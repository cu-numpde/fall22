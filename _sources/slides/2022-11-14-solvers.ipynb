{
 "cells": [
  {
   "cell_type": "markdown",
   "id": "3471b94b",
   "metadata": {
    "cell_style": "center",
    "slideshow": {
     "slide_type": "slide"
    }
   },
   "source": [
    "# 2022-11-14 Ratel Hands-on"
   ]
  },
  {
   "cell_type": "markdown",
   "id": "4159be0e",
   "metadata": {
    "cell_style": "split",
    "slideshow": {
     "slide_type": ""
    }
   },
   "source": [
    "## Last time\n",
    "\n",
    "* Intro to solid mechanics, Ratel\n",
    "* Singularities and $hp$ adaptivity\n",
    "* Cost of sparse matrices\n",
    "* GPU performance with Ratel and context\n",
    "\n",
    "## Today\n",
    "\n",
    "* Solver diagnostics\n",
    "* Reading profiles\n",
    "* Amortizing costs"
   ]
  },
  {
   "cell_type": "markdown",
   "id": "8c575b76",
   "metadata": {
    "cell_style": "split",
    "hideCode": true,
    "hidePrompt": true,
    "slideshow": {
     "slide_type": ""
    }
   },
   "source": [
    "<video src=\"../img/schwarz-pendulum.webm\" autoplay loop controls width=\"100%\" />"
   ]
  },
  {
   "cell_type": "code",
   "execution_count": 1,
   "id": "e82d841d",
   "metadata": {
    "hideOutput": true,
    "slideshow": {
     "slide_type": "skip"
    }
   },
   "outputs": [],
   "source": [
    "using Plots\n",
    "default(linewidth=3)\n",
    "using LinearAlgebra\n",
    "using SparseArrays"
   ]
  },
  {
   "cell_type": "markdown",
   "id": "17e9e4c7",
   "metadata": {
    "slideshow": {
     "slide_type": "slide"
    }
   },
   "source": [
    "# Running on Alpine"
   ]
  },
  {
   "cell_type": "markdown",
   "id": "4195ebd0",
   "metadata": {
    "cell_style": "split",
    "slideshow": {
     "slide_type": ""
    }
   },
   "source": [
    "```console\n",
    "$ ssh login.rc.colorado.edu\n",
    "rc$ module load slurm/alpine\n",
    "rc$ acompile\n",
    "acompile$ . /projects/jeka2967/activate.bash\n",
    "```"
   ]
  },
  {
   "cell_type": "markdown",
   "id": "b22832ce",
   "metadata": {
    "cell_style": "split"
   },
   "source": [
    "```console\n",
    "$ git clone \\\n",
    "    https://gitlab.com/micromorph/ratel\n",
    "$ cd ratel/examples\n",
    "$ mpiexec -n 1 ratel-quasistatic \\\n",
    "    -options_file FILE.yml\n",
    "```"
   ]
  },
  {
   "cell_type": "markdown",
   "id": "eac955e4",
   "metadata": {
    "slideshow": {
     "slide_type": ""
    }
   },
   "source": [
    "## Running in Docker\n",
    "\n",
    "Clone the Ratel repository and cd into it\n",
    "```console\n",
    "host$ docker run -it --rm -v $(pwd):/work registry.gitlab.com/micromorph/ratel\n",
    "$ mpiexec -n 2 ratel-quasistatic -options_file ex02-quasistatic-elasticity-multi-material.yml\n",
    "```"
   ]
  },
  {
   "cell_type": "markdown",
   "id": "e5c79034",
   "metadata": {
    "slideshow": {
     "slide_type": "slide"
    }
   },
   "source": [
    "# Suggested test problem\n",
    "\n",
    "```console\n",
    "$ mpiexec -n 6 ratel-quasistatic -options_file ex02-quasistatic-elasticity-schwarz-pendulum.yml\n",
    "```"
   ]
  },
  {
   "cell_type": "markdown",
   "id": "651f9ff1",
   "metadata": {
    "slideshow": {
     "slide_type": "slide"
    }
   },
   "source": [
    "# Quasi-Newton methods (BFGS)"
   ]
  },
  {
   "cell_type": "markdown",
   "id": "e1f50445",
   "metadata": {
    "cell_style": "split"
   },
   "source": [
    "BFGS is a method that does not require a linear solve.\n",
    "* It starts with an operation $J_0^{-1}$, which is meant to be an approximation of the inverse Jacobian (like a preconditioner).\n",
    "* Each iteration creates a symmetric rank-2 update,\n",
    "$$J_{k+1}^{-1} = \\left(I - \\frac{s_k z_k^T}{s_k^T z_k}\\right)                                                                                                           J_k^{-1} \\left(I - \\frac{s_k z_k^T}{s_k^T z_k}\\right) + \\frac{s_k s_k^T}{s_k^T z_k}$$\n",
    "* BFGS is equivalent to conjugate gradients for a linear problem.\n",
    "* `-snes_type qn -snes_qn_scale_type jacobian`\n",
    "  * This uses an iterative solve for $J_0$\n",
    "* Add `-ksp_type preonly` (skip the iterative solve)"
   ]
  },
  {
   "cell_type": "markdown",
   "id": "0390536c",
   "metadata": {
    "cell_style": "split"
   },
   "source": [
    "## Newton\n",
    "* Good diagnostics because we can tighten linear solve independent from nonlinear.\n",
    "* `-ksp_converged_reason -ksp_view_singularvalues`\n",
    "* Are we \"over-solving\"; see `-snes_ksp_ew` to automatically adjust during convergence\n",
    "\n",
    "## Quasi-Newton\n",
    "* Fewer Jacobian assemblies and preconditioner setups\n",
    "* Maybe fewer linear solve iterations (automatically avoids over-solving)"
   ]
  },
  {
   "cell_type": "markdown",
   "id": "ce32c641",
   "metadata": {
    "slideshow": {
     "slide_type": "slide"
    }
   },
   "source": [
    "# Solids: efficient matrix-free Jacobians\n",
    "## cf. [Davydov et al. (2020)](https://doi.org/10.1002/nme.6336)\n",
    "\n",
    "<img src=\"../img/libceed-solids-initial-current.png\" width=\"80%\" />\n",
    "<img src=\"../img/libceed-solids-jacobian-table.png\" width=\"80%\" />"
   ]
  },
  {
   "cell_type": "markdown",
   "id": "a4a139a9",
   "metadata": {
    "slideshow": {
     "slide_type": "slide"
    }
   },
   "source": [
    "# Suggestions (use `-ts_view` and `-log_view`)"
   ]
  },
  {
   "cell_type": "markdown",
   "id": "6e9d5ee4",
   "metadata": {
    "cell_style": "split",
    "slideshow": {
     "slide_type": ""
    }
   },
   "source": [
    "* Change from `initial` to `current` configuration\n",
    "\n",
    "```console\n",
    "$ git grep model: examples/*.yml\n",
    "```\n",
    "\n",
    "* Try assembling and using AMG directly (instead of p-MG first): `-multigrid amg_only`\n",
    "  * And try a direct solve: `-pc_type cholesky`\n",
    "  * Try using one-level domain decomposition `-pc_type bjacobi` or `asm`\n",
    "  * What is the marginal cost of p-refinement (`-order`) versus h-refinement (see `tps` `refine` and `layers`)?\n",
    "  * Relative benefit of quasi-Newton?\n",
    "\n",
    "* How does thickness affect solve cost? What about Poisson ratio `nu`? (Edit the input file or override from command line.)"
   ]
  },
  {
   "cell_type": "markdown",
   "id": "74f96d68",
   "metadata": {
    "cell_style": "split",
    "slideshow": {
     "slide_type": ""
    }
   },
   "source": [
    "* Visualization (if you have Paraview)\n",
    "  * `-ts_monitor_solution cgns:sol.cgns` (just stores displacement at each time step)\n",
    "  * `-ts_monitor_diagnostic_quantities cgns:diag.cgns` (lots of diagnostic fields)\n",
    "  * `-view_diagnostic_quantities vtk:diagnostic.vtu` (only at the final time)\n",
    "  * For CGNS: load `Point Arrays` (lower left sidebar) and `Apply` after opening file.\n",
    "  * \"Warp by Vector\" (Control-Space to search by name, or use `Filters->Common` menu)\n",
    "  * *von Mises stress* is an indicator for plastic yield (elasticity no longer valid)"
   ]
  }
 ],
 "metadata": {
  "@webio": {
   "lastCommId": null,
   "lastKernelId": null
  },
  "celltoolbar": "Slideshow",
  "kernelspec": {
   "display_name": "Julia 1.7.2",
   "language": "julia",
   "name": "julia-1.7"
  },
  "language_info": {
   "file_extension": ".jl",
   "mimetype": "application/julia",
   "name": "julia",
   "version": "1.8.2"
  },
  "rise": {
   "enable_chalkboard": true
  }
 },
 "nbformat": 4,
 "nbformat_minor": 5
}
