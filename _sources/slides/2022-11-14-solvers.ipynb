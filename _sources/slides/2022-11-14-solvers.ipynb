{
 "cells": [
  {
   "cell_type": "markdown",
   "id": "3471b94b",
   "metadata": {
    "cell_style": "center",
    "slideshow": {
     "slide_type": "slide"
    }
   },
   "source": [
    "# 2022-11-14 Ratel Hands-on"
   ]
  },
  {
   "cell_type": "markdown",
   "id": "4159be0e",
   "metadata": {
    "cell_style": "split",
    "slideshow": {
     "slide_type": ""
    }
   },
   "source": [
    "## Last time\n",
    "\n",
    "* Intro to solid mechanics, Ratel\n",
    "* Singularities and $hp$ adaptivity\n",
    "* Cost of sparse matrices\n",
    "* GPU performance with Ratel and context\n",
    "\n",
    "## Today\n",
    "\n",
    "* Solver diagnostics\n",
    "* Reading profiles\n",
    "* Amortizing costs"
   ]
  },
  {
   "cell_type": "markdown",
   "id": "aa91087e",
   "metadata": {
    "cell_style": "split",
    "hideCode": true,
    "hidePrompt": true,
    "slideshow": {
     "slide_type": ""
    }
   },
   "source": [
    "<video src=\"img/schwarz-pendulum.webm\" autoplay loop controls width=\"100%\" />"
   ]
  },
  {
   "cell_type": "code",
   "execution_count": 1,
   "id": "e82d841d",
   "metadata": {
    "hideOutput": true,
    "slideshow": {
     "slide_type": "skip"
    }
   },
   "outputs": [],
   "source": [
    "using Plots\n",
    "default(linewidth=3)\n",
    "using LinearAlgebra\n",
    "using SparseArrays"
   ]
  },
  {
   "cell_type": "markdown",
   "id": "52f1459a",
   "metadata": {
    "slideshow": {
     "slide_type": "slide"
    }
   },
   "source": [
    "# Running on Alpine"
   ]
  },
  {
   "cell_type": "markdown",
   "id": "debb1d45",
   "metadata": {
    "cell_style": "split",
    "slideshow": {
     "slide_type": ""
    }
   },
   "source": [
    "```console\n",
    "$ ssh login.rc.colorado.edu\n",
    "rc$ module load slurm/alpine\n",
    "rc$ acompile\n",
    "acompile$ . /projects/jeka2967/activate.bash\n",
    "```"
   ]
  },
  {
   "cell_type": "markdown",
   "id": "e26c298e",
   "metadata": {
    "cell_style": "split"
   },
   "source": [
    "```console\n",
    "$ git clone \\\n",
    "    https://gitlab.com/micromorph/ratel\n",
    "$ cd ratel/examples\n",
    "$ mpiexec -n 1 ratel-quasistatic \\\n",
    "    -options_file FILE.yml\n",
    "```"
   ]
  },
  {
   "cell_type": "markdown",
   "id": "5c59cfe9",
   "metadata": {
    "slideshow": {
     "slide_type": ""
    }
   },
   "source": [
    "## Running in Docker\n",
    "\n",
    "Clone the Ratel repository and cd into it\n",
    "```console\n",
    "host$ docker run -it --rm -v $(pwd):/work registry.gitlab.com/micromorph/ratel\n",
    "$ mpiexec -n 2 ratel-quasistatic -options_file ex02-quasistatic-elasticity-multi-material.yml\n",
    "```"
   ]
  },
  {
   "cell_type": "markdown",
   "id": "f3b52ea8",
   "metadata": {
    "slideshow": {
     "slide_type": "slide"
    }
   },
   "source": [
    "# Suggested test problem\n",
    "\n",
    "```console\n",
    "$ mpiexec -n 6 ratel-quasistatic -options_file ex02-quasistatic-elasticity-schwarz-pendulum.yml\n",
    "```"
   ]
  },
  {
   "cell_type": "markdown",
   "id": "2f9ba0cb",
   "metadata": {
    "slideshow": {
     "slide_type": "slide"
    }
   },
   "source": [
    "# Quasi-Newton methods (BFGS)"
   ]
  },
  {
   "cell_type": "markdown",
   "id": "3e86f63d",
   "metadata": {
    "cell_style": "split"
   },
   "source": [
    "BFGS is a method that does not require a linear solve.\n",
    "* It starts with an operation $J_0^{-1}$, which is meant to be an approximation of the inverse Jacobian (like a preconditioner).\n",
    "* Each iteration creates a symmetric rank-2 update,\n",
    "$$J_{k+1}^{-1} = \\left(I - \\frac{s_k z_k^T}{s_k^T z_k}\\right)                                                                                                           J_k^{-1} \\left(I - \\frac{s_k z_k^T}{s_k^T z_k}\\right) + \\frac{s_k s_k^T}{s_k^T z_k}$$\n",
    "* BFGS is equivalent to conjugate gradients for a linear problem."
   ]
  },
  {
   "cell_type": "markdown",
   "id": "2c90689d",
   "metadata": {
    "cell_style": "split"
   },
   "source": [
    "* `-snes_type qn -snes_qn_scale_type jacobian`\n",
    "  * This uses an iterative solve for $J_0$\n",
    "* Add `-ksp_type preonly` (skip the iterative solve)"
   ]
  },
  {
   "cell_type": "markdown",
   "id": "ce32c641",
   "metadata": {
    "slideshow": {
     "slide_type": "slide"
    }
   },
   "source": [
    "# Solids: efficient matrix-free Jacobians\n",
    "## cf. [Davydov et al. (2020)](https://doi.org/10.1002/nme.6336)\n",
    "\n",
    "<img src=\"img/libceed-solids-initial-current.png\" width=\"80%\" />\n",
    "<img src=\"img/libceed-solids-jacobian-table.png\" width=\"80%\" />"
   ]
  },
  {
   "cell_type": "markdown",
   "id": "9a3b9b7d",
   "metadata": {
    "slideshow": {
     "slide_type": "slide"
    }
   },
   "source": [
    "# Suggestions (use `-ts_view` and `-log_view`)"
   ]
  },
  {
   "cell_type": "markdown",
   "id": "d8c71aed",
   "metadata": {
    "cell_style": "split",
    "slideshow": {
     "slide_type": ""
    }
   },
   "source": [
    "* Change from initial to current configuration\n",
    "\n",
    "```console\n",
    "$ git grep model: examples/*.yml\n",
    "```\n",
    "\n",
    "* Try assembling and using AMG directly (instead of p-MG first): `-multigrid amg_only`\n",
    "  * And try a direct solve: `-pc_type cholesky`\n",
    "\n",
    "* How does thickness affect solve cost? Edit the input file or override from command line."
   ]
  },
  {
   "cell_type": "markdown",
   "id": "6e4f18ee",
   "metadata": {
    "cell_style": "split",
    "slideshow": {
     "slide_type": ""
    }
   },
   "source": [
    "* Visualization (if you have Paraview)\n",
    "  * `-ts_monitor_solution cgns:sol.cgns`\n",
    "  * `-view_diagnostic_quantities vtk:diagnostic.vtu`"
   ]
  }
 ],
 "metadata": {
  "@webio": {
   "lastCommId": null,
   "lastKernelId": null
  },
  "celltoolbar": "Slideshow",
  "kernelspec": {
   "display_name": "Julia 1.7.2",
   "language": "julia",
   "name": "julia-1.7"
  },
  "language_info": {
   "file_extension": ".jl",
   "mimetype": "application/julia",
   "name": "julia",
   "version": "1.8.2"
  },
  "rise": {
   "enable_chalkboard": true
  }
 },
 "nbformat": 4,
 "nbformat_minor": 5
}
