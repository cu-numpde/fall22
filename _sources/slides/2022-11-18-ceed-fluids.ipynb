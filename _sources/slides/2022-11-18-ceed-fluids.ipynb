{
 "cells": [
  {
   "cell_type": "markdown",
   "id": "3471b94b",
   "metadata": {
    "cell_style": "center",
    "slideshow": {
     "slide_type": "slide"
    }
   },
   "source": [
    "# 2022-11-18 CEED Fluids"
   ]
  },
  {
   "cell_type": "markdown",
   "id": "4159be0e",
   "metadata": {
    "cell_style": "split",
    "slideshow": {
     "slide_type": ""
    }
   },
   "source": [
    "## Last time\n",
    "\n",
    "* Equations\n",
    "  * Conservation\n",
    "  * Choice of variables\n",
    "* SUPG stabilization\n",
    "\n",
    "## Today\n",
    "* Solvers\n",
    "* Boundary conditions"
   ]
  },
  {
   "cell_type": "code",
   "execution_count": 1,
   "id": "e82d841d",
   "metadata": {
    "hideOutput": true,
    "slideshow": {
     "slide_type": "skip"
    }
   },
   "outputs": [],
   "source": [
    "using Plots\n",
    "default(linewidth=3)\n",
    "using LinearAlgebra\n",
    "using SparseArrays"
   ]
  },
  {
   "cell_type": "markdown",
   "id": "4c093e63",
   "metadata": {
    "slideshow": {
     "slide_type": "slide"
    }
   },
   "source": [
    "# Conservation of mass, momentum, and energy"
   ]
  },
  {
   "cell_type": "markdown",
   "id": "31ddd5fa",
   "metadata": {},
   "source": [
    "$$\\newcommand{\\bm}{\\mathbf} \\frac{\\partial \\bm{q}}{\\partial t} + \\nabla \\cdot \\bm{F}(\\bm{q}) -S(\\bm{q}) = 0$$\n"
   ]
  },
  {
   "cell_type": "markdown",
   "id": "b12af1fb",
   "metadata": {
    "cell_style": "split"
   },
   "source": [
    "$$\\bm{q} =        \\begin{pmatrix}            \\rho \\\\             \\rho \\bm{ u }\\\\            E \\equiv \\rho e        \\end{pmatrix}        \\begin{array}{l}            \\leftarrow\\textrm{ volume mass density}\\\\            \\leftarrow\\textrm{ momentum density}\\\\            \\leftarrow\\textrm{ energy density}        \\end{array}$$\n",
    "\n",
    "* Equation of state\n",
    "\n",
    "\\begin{align}\n",
    "P &= \\Big(\\underbrace{\\frac{c_p}{c_v}}_{\\gamma} - 1\\Big)\\underbrace{\\left(E - \\frac\\rho 2 \\bm u \\cdot \\bm u - \\rho g z \\right)}_{\\rho e_{\\text{internal}}} \\\\\n",
    "T &= e_{\\text{internal}} / c_v\n",
    "\\end{align}"
   ]
  },
  {
   "cell_type": "markdown",
   "id": "95677c59",
   "metadata": {
    "cell_style": "split"
   },
   "source": [
    "\\begin{aligned}\n",
    "\\bm{F}(\\bm{q}) &=\n",
    "\\underbrace{\\begin{pmatrix}\n",
    "    \\rho\\bm{u}\\\\\n",
    "    {\\rho \\bm{u} \\otimes \\bm{u}} + P \\bm{I}_3 \\\\\n",
    "    {(E + P)\\bm{u}}\n",
    "\\end{pmatrix}}_{\\bm F_{\\text{adv}}} +\n",
    "\\underbrace{\\begin{pmatrix}\n",
    "0 \\\\\n",
    "-  \\bm{\\sigma} \\\\\n",
    " - \\bm{u}  \\cdot \\bm{\\sigma} - k \\nabla T\n",
    "\\end{pmatrix}}_{\\bm F_{\\text{diff}}},\\\\\n",
    "S(\\bm{q}) &=\n",
    "- \\begin{pmatrix}\n",
    "    0\\\\\n",
    "    \\rho g \\bm{\\hat{k}}\\\\\n",
    "    0\n",
    "\\end{pmatrix}.\n",
    "\\end{aligned}\n"
   ]
  },
  {
   "cell_type": "markdown",
   "id": "6258796f",
   "metadata": {
    "slideshow": {
     "slide_type": "slide"
    }
   },
   "source": [
    "# Choice of variables"
   ]
  },
  {
   "cell_type": "markdown",
   "id": "a691a39b",
   "metadata": {
    "cell_style": "split"
   },
   "source": [
    "## Acoustic wave speed\n",
    "\n",
    "$$a = \\sqrt{c_p(\\gamma - 1) T}$$\n",
    "\n",
    "| material | speed |\n",
    "|---|---|\n",
    "| air | 340 m/s |\n",
    "| water | 1500 m/s |\n",
    "\n",
    "## Mach number\n",
    "\n",
    "$$\\mathrm{Ma} = \\frac{\\lVert \\bm u \\rVert}{a}$$"
   ]
  },
  {
   "cell_type": "markdown",
   "id": "59d5470a",
   "metadata": {
    "cell_style": "split",
    "slideshow": {
     "slide_type": ""
    }
   },
   "source": [
    "## Primitive variables\n",
    "\n",
    "$$\\bm y = \\begin{pmatrix} P \\\\ \\bm u \\\\ T \\end{pmatrix}$$\n",
    "\n",
    "Using the equation of state, we can write\n",
    "$\\bm y(\\bm q)$ or $\\bm q(\\bm y)$. But these transformations are **ill conditioned for $\\mathrm{Ma} \\ll 1$**.\n",
    "\n",
    "$$ \\frac{\\partial \\bm q}{\\partial t} = \\frac{\\partial \\bm q}{\\partial \\bm y} \\frac{\\partial \\bm y}{\\partial t}$$"
   ]
  },
  {
   "cell_type": "markdown",
   "id": "7e62162b",
   "metadata": {
    "slideshow": {
     "slide_type": "slide"
    }
   },
   "source": [
    "## Blasius profile (thanks, Leila Ghaffari)\n",
    "\n",
    "* Take an analytic Blasius profile.\n",
    "* `Primitive`: Write $\\bm y$ in a piecewise linear space with nodally exact values.\n",
    "* `Conservative`: Write $\\bm q$ in a piecewise linear space with nodally exact values.\n"
   ]
  },
  {
   "cell_type": "markdown",
   "id": "0d446193",
   "metadata": {
    "cell_style": "split",
    "slideshow": {
     "slide_type": ""
    }
   },
   "source": [
    "<img src=\"../img/Temperature_p1.png\" />"
   ]
  },
  {
   "cell_type": "markdown",
   "id": "8bfacbd2",
   "metadata": {
    "cell_style": "split"
   },
   "source": [
    "<img src=\"../img/Temperature_p2.png\" />"
   ]
  },
  {
   "cell_type": "markdown",
   "id": "f5c03d46",
   "metadata": {
    "slideshow": {
     "slide_type": "slide"
    }
   },
   "source": [
    "# Stabilization\n",
    "\n",
    "\\begin{align}\n",
    "  \\int_{\\Omega} \\bm v \\cdot \\left( \\frac{\\partial \\bm{q}}{\\partial t} - \\bm{S}(\\bm{y}) \\right)  \\,dV\n",
    "  - \\int_{\\Omega} \\nabla \\bm v \\!:\\! \\bm{F}(\\bm{y})\\,dV & \\\\\n",
    "  + \\int_{\\partial \\Omega} \\bm v \\cdot \\bm{F}(\\bm{y}) \\cdot \\widehat{\\bm{n}} \\,dS & \\\\\n",
    "  + \\int_{\\Omega} \\nabla \\bm v : \\frac{\\partial \\bm F_{\\text{adv}}}{\\partial \\bm q} \\bm \\tau \\left( \\frac{\\partial \\bm{q}}{\\partial t} \\, + \\,\n",
    "  \\nabla \\cdot \\bm{F} \\, (\\bm{y}) - \\bm{S}(\\bm{y}) \\right) \\,dV &= 0\n",
    "\\end{align}\n",
    "\n",
    "* Boundary term needs to be replaced with actual boundary conditions\n",
    "* The strong form term $\\nabla\\cdot \\bm F(\\bm y)$\n",
    "  * is ill-defined at shocks or discontinuous materials\n",
    "  * involves the second derivative of velocity and temperature; many ignore for linear elements, but [it's better](https://doi.org/10.1016/S0045-7825(98)00284-9) to use a (lumped) projection."
   ]
  },
  {
   "cell_type": "markdown",
   "id": "8c179315",
   "metadata": {
    "slideshow": {
     "slide_type": "slide"
    }
   },
   "source": [
    "# Time integration\n",
    "\n",
    "* Fully implicit $G(t, \\bm y, \\dot{\\bm y}) = 0$ with generalized alpha.\n",
    "* Newton method, usually about 3 iterations per time step.\n",
    "* Krylov method\n",
    "  * GMRES when using a strong preconditioner\n",
    "    * Block Jacobi/incomplete LU\n",
    "  * BCGS($\\ell$) with a weak preconditioner\n",
    "    * Point-block Jacobi"
   ]
  },
  {
   "cell_type": "markdown",
   "id": "65cec440",
   "metadata": {
    "slideshow": {
     "slide_type": "slide"
    }
   },
   "source": [
    "# Boundary conditions (ref: [Mengaldo et al (2014)](https://doi.org/10.2514/6.2014-2923))\n",
    "\n",
    "<img src=\"../img/Mengaldo-Fig6.png\" />"
   ]
  },
  {
   "cell_type": "markdown",
   "id": "37956591",
   "metadata": {
    "slideshow": {
     "slide_type": "slide"
    }
   },
   "source": [
    "# Boundary conditions"
   ]
  },
  {
   "cell_type": "markdown",
   "id": "39e85533",
   "metadata": {
    "cell_style": "split",
    "slideshow": {
     "slide_type": ""
    }
   },
   "source": [
    "* Unlike solid mechanics, the \"natural\" boundary condition is not physical (it's like a free surface). So we need boundary conditions all around.\n",
    "\n",
    "## Symmetry (free slip)\n",
    "* Normal velocity = 0, no boundary integral\n",
    "\n",
    "## Wall (no-slip)\n",
    "* Total velocity = 0\n",
    "* Can prescribe temperature (heat sink) or leave it insulated (more complicated for conservative variables)"
   ]
  },
  {
   "cell_type": "markdown",
   "id": "bc85b9fd",
   "metadata": {
    "cell_style": "split",
    "slideshow": {
     "slide_type": ""
    }
   },
   "source": [
    "## Freestream boundaries\n",
    "\n",
    "* Unified way to handle inflow and outflow (sometimes both).\n",
    "* Requires solving a \"Riemann problem\"\n",
    "\n",
    "## Viscous inflow\n",
    "\n",
    "* Prescribe velocity and temperature, compute boundary integral for energy flux.\n",
    "\n",
    "## Viscous outflow\n",
    "* Prescribe pressure, compute flux with modified ghost pressure $2 P_{\\text{ext}} - P_{\\text{int}}$\n",
    "* Compute viscous flux based on interior values"
   ]
  },
  {
   "cell_type": "markdown",
   "id": "0691c146",
   "metadata": {
    "slideshow": {
     "slide_type": "slide"
    }
   },
   "source": [
    "# Convergence to steady state (from Mengaldo)\n",
    "\n",
    "<img src=\"../img/Mengaldo-Fig7.png\" />"
   ]
  },
  {
   "cell_type": "markdown",
   "id": "b6858e51",
   "metadata": {
    "slideshow": {
     "slide_type": "slide"
    }
   },
   "source": [
    "# Freestream wave test problem\n",
    "\n",
    "```\n",
    "$ mpiexec -n 6 build/fluids-navierstokes -options_file examples/fluids/newtonianwave.yaml\n",
    "```"
   ]
  },
  {
   "cell_type": "markdown",
   "id": "2779df0f",
   "metadata": {
    "cell_style": "split"
   },
   "source": [
    "## HLL\n",
    "<video src=\"../img/nwave-hll.webm\" loop controls />"
   ]
  },
  {
   "cell_type": "markdown",
   "id": "8ed1c6ff",
   "metadata": {
    "cell_style": "split"
   },
   "source": [
    "## HLLC\n",
    "<video src=\"../img/nwave-hllc.webm\" loop controls />"
   ]
  },
  {
   "cell_type": "markdown",
   "id": "5f8c8afe",
   "metadata": {
    "slideshow": {
     "slide_type": "slide"
    }
   },
   "source": [
    "# Open Problem:\n",
    "# Turbulent viscous inflow and outflow with non-reflecting boundary conditions."
   ]
  },
  {
   "cell_type": "markdown",
   "id": "0d14e9eb",
   "metadata": {
    "slideshow": {
     "slide_type": "slide"
    }
   },
   "source": [
    "# Boundary layers for turbulent flow\n"
   ]
  },
  {
   "attachments": {
    "image.png": {
     "image/png": "[encoded data removed]"
    }
   },
   "cell_type": "markdown",
   "id": "4a0c9d63",
   "metadata": {
    "cell_style": "split"
   },
   "source": [
    "![image.png](attachment:image.png)"
   ]
  },
  {
   "cell_type": "markdown",
   "id": "8ea22c39",
   "metadata": {
    "cell_style": "split"
   },
   "source": [
    "* Geometric spacing near the wall\n",
    "  * Aspect ratio $10$ to $10^5$\n",
    "  * Wall-resolved or wall-modeled\n",
    "* Turbulent boundary layer\n",
    "* Far field\n",
    "* In unstructured CFD, most elements are close to a wall."
   ]
  },
  {
   "cell_type": "markdown",
   "id": "17e9e4c7",
   "metadata": {
    "slideshow": {
     "slide_type": "slide"
    }
   },
   "source": [
    "# Running on Alpine"
   ]
  },
  {
   "cell_type": "markdown",
   "id": "4195ebd0",
   "metadata": {
    "cell_style": "split",
    "slideshow": {
     "slide_type": ""
    }
   },
   "source": [
    "```console\n",
    "$ ssh login.rc.colorado.edu\n",
    "rc$ module load slurm/alpine\n",
    "rc$ acompile\n",
    "acompile$ . /projects/jeka2967/activate.bash\n",
    "```"
   ]
  },
  {
   "cell_type": "markdown",
   "id": "b22832ce",
   "metadata": {
    "cell_style": "split"
   },
   "source": [
    "```console\n",
    "$ git clone \\\n",
    "    https://github.com/CEED/libCEED\n",
    "$ cd libCEED/examples/fluids\n",
    "$ make\n",
    "$ mpiexec -n 1 ./navierstokes \\\n",
    "    -options_file FILE.yaml\n",
    "```"
   ]
  },
  {
   "cell_type": "markdown",
   "id": "a2f98b53",
   "metadata": {
    "slideshow": {
     "slide_type": ""
    }
   },
   "source": [
    "## Running in Docker\n",
    "\n",
    "Clone the `libCEED` repository and `cd libCEED/examples/fluids`\n",
    "```console\n",
    "host$ docker run -it --rm -v $(pwd):/work registry.gitlab.com/micromorph/ratel\n",
    "$ make\n",
    "$ mpiexec -n 2 ./navierstokes -options_file FILE.yaml\n",
    "```"
   ]
  }
 ],
 "metadata": {
  "@webio": {
   "lastCommId": null,
   "lastKernelId": null
  },
  "celltoolbar": "Slideshow",
  "kernelspec": {
   "display_name": "Julia 1.7.2",
   "language": "julia",
   "name": "julia-1.7"
  },
  "language_info": {
   "file_extension": ".jl",
   "mimetype": "application/julia",
   "name": "julia",
   "version": "1.8.2"
  },
  "rise": {
   "enable_chalkboard": true
  }
 },
 "nbformat": 4,
 "nbformat_minor": 5
}
