{
 "cells": [
  {
   "cell_type": "markdown",
   "id": "3471b94b",
   "metadata": {
    "cell_style": "center",
    "slideshow": {
     "slide_type": "slide"
    }
   },
   "source": [
    "# 2022-10-24 Galerkin methods"
   ]
  },
  {
   "cell_type": "markdown",
   "id": "4159be0e",
   "metadata": {
    "cell_style": "split",
    "slideshow": {
     "slide_type": ""
    }
   },
   "source": [
    "## Last time\n",
    "\n",
    "* Algebraic multigrid\n",
    "* Smoothed aggregation\n",
    "* Multigrid in PETSc\n",
    "* Projects\n",
    "\n",
    "## Today\n",
    "\n",
    "* Questions about projects\n",
    "* Galerkin methods\n",
    "  * Weak forms\n",
    "  * $L^2$ Projection\n",
    "  * Galerkin \"optimality\""
   ]
  },
  {
   "cell_type": "code",
   "execution_count": 2,
   "id": "e82d841d",
   "metadata": {
    "hideOutput": true,
    "slideshow": {
     "slide_type": "skip"
    }
   },
   "outputs": [
    {
     "data": {
      "text/plain": [
       "my_spy (generic function with 1 method)"
      ]
     },
     "execution_count": 2,
     "metadata": {},
     "output_type": "execute_result"
    }
   ],
   "source": [
    "using Plots\n",
    "default(linewidth=3)\n",
    "using LinearAlgebra\n",
    "using SparseArrays\n",
    "\n",
    "function my_spy(A)\n",
    "    cmax = norm(vec(A), Inf)\n",
    "    s = max(1, ceil(120 / size(A, 1)))\n",
    "    spy(A, marker=(:square, s), c=:diverging_rainbow_bgymr_45_85_c67_n256, clims=(-cmax, cmax))\n",
    "end\n"
   ]
  },
  {
   "cell_type": "markdown",
   "id": "68d90842",
   "metadata": {
    "slideshow": {
     "slide_type": "slide"
    }
   },
   "source": [
    "# Searching for projects"
   ]
  },
  {
   "cell_type": "markdown",
   "id": "10c2afc1",
   "metadata": {
    "cell_style": "split",
    "slideshow": {
     "slide_type": ""
    }
   },
   "source": [
    "## [GitHub codesearch](https://github.com/search)\n",
    "\n",
    "* Check Insights -> Contributors\n",
    "  * Sustained versus short-term activity\n",
    "  * Number of stakeholders\n",
    "  * `git shortlog -se --since=2016 | sort -n`\n",
    "* Community signals\n",
    "  * Code of Conduct\n",
    "  * Contributing guidelines, pull request templates\n",
    "  * Active review and mentoring in pull requests\n",
    "* Continuous integration\n",
    "  * Actions tab, also report in pull requests\n",
    "  * Pipelines for repositories on GitLab"
   ]
  },
  {
   "cell_type": "markdown",
   "id": "d92ab6ea",
   "metadata": {
    "cell_style": "split"
   },
   "source": [
    "## Journals\n",
    "\n",
    "### [Journal of Open Source Software](https://joss.theoj.org/papers)\n",
    "\n",
    "* Papers on mature software with many users\n",
    "* Immature research software with a few users, but best practices and intent to grow\n",
    "\n",
    "### [Geoscientific Model Development](https://geoscientific-model-development.net/)\n",
    "\n",
    "* Blends software and methods work"
   ]
  },
  {
   "cell_type": "markdown",
   "id": "9e6345d2",
   "metadata": {
    "slideshow": {
     "slide_type": "slide"
    }
   },
   "source": [
    "# Integration by parts"
   ]
  },
  {
   "cell_type": "markdown",
   "id": "bbe5e537",
   "metadata": {
    "cell_style": "split"
   },
   "source": [
    "## One dimension\n",
    "\n",
    "> it's the product rule backwards\n",
    "\n",
    "\\begin{align} \\int_a^b d(uv) &= \\int_a^b u dv + \\int_a^b v du \\\\\n",
    "(uv)_a^b &= \\int_a^b u dv + \\int_a^b v du \\\\\n",
    "\\int_a^b u dv &= (uv)_a^b - \\int_a^b v du\n",
    "\\end{align}\n",
    "\n",
    "> you can move the derivative to the other term; it'll cost you a minus sign and a boundary term"
   ]
  },
  {
   "cell_type": "markdown",
   "id": "d7914db8",
   "metadata": {
    "cell_style": "split"
   },
   "source": [
    "## Multiple dimensions\n",
    "\n",
    "\\begin{align}\n",
    "\\int_\\Omega v \\nabla\\cdot \\mathbf f = -\\int_\\Omega \\nabla v \\cdot \\mathbf f + \\int_{\\partial \\Omega} v \\mathbf f \\cdot \\mathbf n\n",
    "\\end{align}\n",
    "\n",
    "## Strong form\n",
    "\n",
    "$$ -\\nabla\\cdot(\\kappa \\nabla u) = 0 $$\n",
    "\n",
    "## Weak form\n",
    "* multiply by a test function and integrate by parts\n",
    "\n",
    "\\begin{align} -\\int_\\Omega v \\nabla\\cdot(\\kappa \\nabla u) = 0, \\forall v \\\\\n",
    "\\int_\\Omega \\nabla v \\cdot \\kappa \\nabla u - \\int_{\\partial\\Omega} v \\underbrace{\\kappa \\nabla u \\cdot \\mathbf n}_{\\text{boundary condition}} = 0\n",
    "\\end{align}"
   ]
  },
  {
   "cell_type": "markdown",
   "id": "fb46332f",
   "metadata": {
    "slideshow": {
     "slide_type": "slide"
    }
   },
   "source": [
    "# Variational: from minimization to weak forms"
   ]
  },
  {
   "cell_type": "markdown",
   "id": "e0ad5201",
   "metadata": {
    "cell_style": "split",
    "slideshow": {
     "slide_type": ""
    }
   },
   "source": [
    "## Minimization\n",
    "\n",
    "Find $u\\in \\mathcal V$ such that\n",
    "\n",
    "\\begin{align}\n",
    "u &= \\arg\\min \\int_\\Omega \\frac 1 p \\lVert \\nabla u \\rVert^p \\\\\n",
    "&= \\arg\\min \\int_\\Omega \\frac 1 p (\\nabla u \\cdot \\nabla u)^{p/2}\n",
    "\\end{align}"
   ]
  },
  {
   "cell_type": "markdown",
   "id": "3aa52752",
   "metadata": {
    "cell_style": "split"
   },
   "source": [
    "## Variations\n",
    "\n",
    "> If $f(x)$ is a minimum, then $df = f'(x) dx = 0$ for all $dx$.\n",
    "\n",
    "So if $u \\in \\mathcal V$ is a minimizer, then \n",
    "\\begin{align}\n",
    "\\int_\\Omega \\underbrace{\\lVert \\nabla u \\rVert^{p-2}}_{\\kappa(u)} \\nabla u \\cdot \\nabla du = 0\n",
    "\\end{align}\n",
    "for all $du \\in \\mathcal V$.\n",
    "\n",
    "* It's common to use $v$ in place of $du$.\n",
    "* Our discretization will reflect this structure\n",
    "\n",
    "$$ v_h^T F(u_h) \\sim \\int_\\Omega \\nabla v \\cdot \\kappa(u) \\cdot \\nabla u $$"
   ]
  },
  {
   "cell_type": "markdown",
   "id": "29cb62aa",
   "metadata": {
    "slideshow": {
     "slide_type": "slide"
    }
   },
   "source": [
    "# Finite elements"
   ]
  },
  {
   "cell_type": "markdown",
   "id": "6cfc0454",
   "metadata": {
    "cell_style": "split"
   },
   "source": [
    "## Problem statement\n",
    "\n",
    "Find $u \\in \\mathcal V$ such that\n",
    "\\begin{align} \\int_\\Omega \\nabla v \\cdot \\kappa \\nabla u - \\int_{\\partial\\Omega} v \\underbrace{\\kappa \\nabla u \\cdot \\mathbf n}_{\\text{boundary condition}} = 0, \\forall v \\in \\mathcal V\n",
    "\\end{align}\n",
    "\n",
    "### What do we need?\n",
    "* A way to integrate\n",
    "* A space $\\mathcal V$\n",
    "* Boundary conditions"
   ]
  },
  {
   "cell_type": "markdown",
   "id": "1e943f37",
   "metadata": {
    "cell_style": "split"
   },
   "source": [
    "## Ciarlet (1978) definition\n",
    "\n",
    "A **finite element** is a triple $(K, P, N)$ where\n",
    "* $K$ is a bounded domain with piecewise smooth boundary\n",
    "* $P = \\{p_j\\}_1^k$ is a finite-dimensional function space over $K$ (\"prime basis\")\n",
    "* $N = \\{n_i\\}_1^k$ is a basis for the dual space (\"nodes\")\n",
    "\n",
    "It is common for nodes to be pointwise evaluation\n",
    "$$ \\langle n_i, p_j \\rangle = p_j(x_i) $$"
   ]
  },
  {
   "cell_type": "markdown",
   "id": "fb99db5d",
   "metadata": {
    "slideshow": {
     "slide_type": "fragment"
    }
   },
   "source": [
    "### First: choose a single element $K = \\Omega$"
   ]
  },
  {
   "cell_type": "markdown",
   "id": "38257af1",
   "metadata": {
    "slideshow": {
     "slide_type": "slide"
    }
   },
   "source": [
    "# Quadrature\n",
    "\n",
    "Our elements will be a line segment and we'll define quadrature on the standard line segment, $\\hat K = (-1, 1)$. A quadrature is a set of points $q_i$ and weights $w_i$ such that\n",
    "$$ \\int_{-1}^1 f(x) \\approx \\sum_{i=1}^n w_i f(q_i) $$"
   ]
  },
  {
   "cell_type": "code",
   "execution_count": 27,
   "id": "6e50fea7",
   "metadata": {
    "cell_style": "split"
   },
   "outputs": [
    {
     "data": {
      "text/plain": [
       "plot_quad_accuracy (generic function with 1 method)"
      ]
     },
     "execution_count": 27,
     "metadata": {},
     "output_type": "execute_result"
    }
   ],
   "source": [
    "default(linewidth=4)\n",
    "function quad_trapezoid(n)\n",
    "    q = LinRange(-1, 1, n)\n",
    "    w = 2 * ones(n) / (n - 1)\n",
    "    w[[1,end]] ./= 2\n",
    "    q, w\n",
    "end\n",
    "\n",
    "function plot_quad_accuracy(f, F, quad)\n",
    "    ns = 2 .^ (2:7)\n",
    "    exact = F(1) - F(-1)\n",
    "    function err(n)\n",
    "        q, w = quad(n)\n",
    "        w' * f.(q) - exact\n",
    "    end\n",
    "    errors = [abs.(err(n)) for n in ns]\n",
    "    plot(ns, errors, marker=:auto, label=quad)\n",
    "    plot!(ns, ns.^(-2), xscale=:log10, yscale=:log10)    \n",
    "end"
   ]
  },
  {
   "cell_type": "code",
   "execution_count": 28,
   "id": "1f27cd15",
   "metadata": {
    "cell_style": "split"
   },
   "outputs": [
    {
     "data": {
      "image/svg+xml": [
       "<?xml version=\"1.0\" encoding=\"utf-8\"?>\n",
       "<svg xmlns=\"http://www.w3.org/2000/svg\" xmlns:xlink=\"http://www.w3.org/1999/xlink\" width=\"600\" height=\"400\" viewBox=\"0 0 2400 1600\">\n",
       "<defs>\n",
       "  <clipPath id=\"clip260\">\n",
       "    <rect x=\"0\" y=\"0\" width=\"2400\" height=\"1600\"/>\n",
       "  </clipPath>\n",
       "</defs>\n",
       "<path clip-path=\"url(#clip260)\" d=\"\n",
       "M0 1600 L2400 1600 L2400 0 L0 0  Z\n",
       "  \" fill=\"#ffffff\" fill-rule=\"evenodd\" fill-opacity=\"1\"/>\n",
       "<defs>\n",
       "  <clipPath id=\"clip261\">\n",
       "    <rect x=\"480\" y=\"0\" width=\"1681\" height=\"1600\"/>\n",
       "  </clipPath>\n",
       "</defs>\n",
       "<path clip-path=\"url(#clip260)\" d=\"\n",
       "M189.496 1474.16 L2352.76 1474.16 L2352.76 47.2441 L189.496 47.2441  Z\n",
       "  \" fill=\"#ffffff\" fill-rule=\"evenodd\" fill-opacity=\"1\"/>\n",
       "<defs>\n",
       "  <clipPath id=\"clip262\">\n",
       "    <rect x=\"189\" y=\"47\" width=\"2164\" height=\"1428\"/>\n",
       "  </clipPath>\n",
       "</defs>\n",
       "<polyline clip-path=\"url(#clip262)\" style=\"stroke:#000000; stroke-linecap:butt; stroke-linejoin:round; stroke-width:2; stroke-opacity:0.1; fill:none\" points=\"\n",
       "  790.281,1474.16 790.281,47.2441 \n",
       "  \"/>\n",
       "<polyline clip-path=\"url(#clip262)\" style=\"stroke:#000000; stroke-linecap:butt; stroke-linejoin:round; stroke-width:2; stroke-opacity:0.1; fill:none\" points=\"\n",
       "  2146.17,1474.16 2146.17,47.2441 \n",
       "  \"/>\n",
       "<polyline clip-path=\"url(#clip260)\" style=\"stroke:#000000; stroke-linecap:butt; stroke-linejoin:round; stroke-width:4; stroke-opacity:1; fill:none\" points=\"\n",
       "  189.496,1474.16 2352.76,1474.16 \n",
       "  \"/>\n",
       "<polyline clip-path=\"url(#clip260)\" style=\"stroke:#000000; stroke-linecap:butt; stroke-linejoin:round; stroke-width:4; stroke-opacity:1; fill:none\" points=\"\n",
       "  790.281,1474.16 790.281,1455.27 \n",
       "  \"/>\n",
       "<polyline clip-path=\"url(#clip260)\" style=\"stroke:#000000; stroke-linecap:butt; stroke-linejoin:round; stroke-width:4; stroke-opacity:1; fill:none\" points=\"\n",
       "  2146.17,1474.16 2146.17,1455.27 \n",
       "  \"/>\n",
       "<path clip-path=\"url(#clip260)\" d=\"M756.609 1548.29 L764.248 1548.29 L764.248 1521.92 L755.938 1523.59 L755.938 1519.33 L764.202 1517.66 L768.877 1517.66 L768.877 1548.29 L776.516 1548.29 L776.516 1552.22 L756.609 1552.22 L756.609 1548.29 Z\" fill=\"#000000\" fill-rule=\"evenodd\" fill-opacity=\"1\" /><path clip-path=\"url(#clip260)\" d=\"M795.961 1520.74 Q792.35 1520.74 790.521 1524.31 Q788.715 1527.85 788.715 1534.98 Q788.715 1542.09 790.521 1545.65 Q792.35 1549.19 795.961 1549.19 Q799.595 1549.19 801.4 1545.65 Q803.229 1542.09 803.229 1534.98 Q803.229 1527.85 801.4 1524.31 Q799.595 1520.74 795.961 1520.74 M795.961 1517.04 Q801.771 1517.04 804.826 1521.65 Q807.905 1526.23 807.905 1534.98 Q807.905 1543.71 804.826 1548.31 Q801.771 1552.9 795.961 1552.9 Q790.15 1552.9 787.072 1548.31 Q784.016 1543.71 784.016 1534.98 Q784.016 1526.23 787.072 1521.65 Q790.15 1517.04 795.961 1517.04 Z\" fill=\"#000000\" fill-rule=\"evenodd\" fill-opacity=\"1\" /><path clip-path=\"url(#clip260)\" d=\"M808.45 1521.62 L814.657 1521.62 L814.657 1500.19 L807.905 1501.55 L807.905 1498.09 L814.619 1496.73 L818.419 1496.73 L818.419 1521.62 L824.625 1521.62 L824.625 1524.81 L808.45 1524.81 L808.45 1521.62 Z\" fill=\"#000000\" fill-rule=\"evenodd\" fill-opacity=\"1\" /><path clip-path=\"url(#clip260)\" d=\"M2111.94 1548.29 L2119.58 1548.29 L2119.58 1521.92 L2111.27 1523.59 L2111.27 1519.33 L2119.53 1517.66 L2124.21 1517.66 L2124.21 1548.29 L2131.85 1548.29 L2131.85 1552.22 L2111.94 1552.22 L2111.94 1548.29 Z\" fill=\"#000000\" fill-rule=\"evenodd\" fill-opacity=\"1\" /><path clip-path=\"url(#clip260)\" d=\"M2151.29 1520.74 Q2147.68 1520.74 2145.85 1524.31 Q2144.05 1527.85 2144.05 1534.98 Q2144.05 1542.09 2145.85 1545.65 Q2147.68 1549.19 2151.29 1549.19 Q2154.93 1549.19 2156.73 1545.65 Q2158.56 1542.09 2158.56 1534.98 Q2158.56 1527.85 2156.73 1524.31 Q2154.93 1520.74 2151.29 1520.74 M2151.29 1517.04 Q2157.1 1517.04 2160.16 1521.65 Q2163.24 1526.23 2163.24 1534.98 Q2163.24 1543.71 2160.16 1548.31 Q2157.1 1552.9 2151.29 1552.9 Q2145.48 1552.9 2142.4 1548.31 Q2139.35 1543.71 2139.35 1534.98 Q2139.35 1526.23 2142.4 1521.65 Q2145.48 1517.04 2151.29 1517.04 Z\" fill=\"#000000\" fill-rule=\"evenodd\" fill-opacity=\"1\" /><path clip-path=\"url(#clip260)\" d=\"M2167.81 1521.62 L2181.07 1521.62 L2181.07 1524.81 L2163.24 1524.81 L2163.24 1521.62 Q2165.4 1519.38 2169.12 1515.62 Q2172.87 1511.84 2173.82 1510.75 Q2175.65 1508.7 2176.36 1507.29 Q2177.1 1505.86 2177.1 1504.48 Q2177.1 1502.24 2175.52 1500.83 Q2173.96 1499.42 2171.44 1499.42 Q2169.65 1499.42 2167.66 1500.04 Q2165.68 1500.67 2163.42 1501.93 L2163.42 1498.09 Q2165.72 1497.17 2167.71 1496.7 Q2169.71 1496.23 2171.36 1496.23 Q2175.72 1496.23 2178.32 1498.41 Q2180.92 1500.59 2180.92 1504.24 Q2180.92 1505.97 2180.26 1507.53 Q2179.62 1509.07 2177.91 1511.18 Q2177.44 1511.72 2174.92 1514.34 Q2172.4 1516.93 2167.81 1521.62 Z\" fill=\"#000000\" fill-rule=\"evenodd\" fill-opacity=\"1\" /><polyline clip-path=\"url(#clip262)\" style=\"stroke:#000000; stroke-linecap:butt; stroke-linejoin:round; stroke-width:2; stroke-opacity:0.1; fill:none\" points=\"\n",
       "  189.496,1359.05 2352.76,1359.05 \n",
       "  \"/>\n",
       "<polyline clip-path=\"url(#clip262)\" style=\"stroke:#000000; stroke-linecap:butt; stroke-linejoin:round; stroke-width:2; stroke-opacity:0.1; fill:none\" points=\"\n",
       "  189.496,661.962 2352.76,661.962 \n",
       "  \"/>\n",
       "<polyline clip-path=\"url(#clip260)\" style=\"stroke:#000000; stroke-linecap:butt; stroke-linejoin:round; stroke-width:4; stroke-opacity:1; fill:none\" points=\"\n",
       "  189.496,1474.16 189.496,47.2441 \n",
       "  \"/>\n",
       "<polyline clip-path=\"url(#clip260)\" style=\"stroke:#000000; stroke-linecap:butt; stroke-linejoin:round; stroke-width:4; stroke-opacity:1; fill:none\" points=\"\n",
       "  189.496,1359.05 208.394,1359.05 \n",
       "  \"/>\n",
       "<polyline clip-path=\"url(#clip260)\" style=\"stroke:#000000; stroke-linecap:butt; stroke-linejoin:round; stroke-width:4; stroke-opacity:1; fill:none\" points=\"\n",
       "  189.496,661.962 208.394,661.962 \n",
       "  \"/>\n",
       "<path clip-path=\"url(#clip260)\" d=\"M51.6634 1378.84 L59.3023 1378.84 L59.3023 1352.47 L50.9921 1354.14 L50.9921 1349.88 L59.256 1348.21 L63.9319 1348.21 L63.9319 1378.84 L71.5707 1378.84 L71.5707 1382.77 L51.6634 1382.77 L51.6634 1378.84 Z\" fill=\"#000000\" fill-rule=\"evenodd\" fill-opacity=\"1\" /><path clip-path=\"url(#clip260)\" d=\"M91.0151 1351.29 Q87.404 1351.29 85.5753 1354.86 Q83.7697 1358.4 83.7697 1365.53 Q83.7697 1372.63 85.5753 1376.2 Q87.404 1379.74 91.0151 1379.74 Q94.6493 1379.74 96.4548 1376.2 Q98.2835 1372.63 98.2835 1365.53 Q98.2835 1358.4 96.4548 1354.86 Q94.6493 1351.29 91.0151 1351.29 M91.0151 1347.59 Q96.8252 1347.59 99.8808 1352.19 Q102.959 1356.78 102.959 1365.53 Q102.959 1374.25 99.8808 1378.86 Q96.8252 1383.44 91.0151 1383.44 Q85.2049 1383.44 82.1262 1378.86 Q79.0707 1374.25 79.0707 1365.53 Q79.0707 1356.78 82.1262 1352.19 Q85.2049 1347.59 91.0151 1347.59 Z\" fill=\"#000000\" fill-rule=\"evenodd\" fill-opacity=\"1\" /><path clip-path=\"url(#clip260)\" d=\"M102.959 1341.69 L127.071 1341.69 L127.071 1344.89 L102.959 1344.89 L102.959 1341.69 Z\" fill=\"#000000\" fill-rule=\"evenodd\" fill-opacity=\"1\" /><path clip-path=\"url(#clip260)\" d=\"M145.71 1330.59 L136.118 1345.58 L145.71 1345.58 L145.71 1330.59 M144.713 1327.28 L149.49 1327.28 L149.49 1345.58 L153.496 1345.58 L153.496 1348.74 L149.49 1348.74 L149.49 1355.36 L145.71 1355.36 L145.71 1348.74 L133.033 1348.74 L133.033 1345.08 L144.713 1327.28 Z\" fill=\"#000000\" fill-rule=\"evenodd\" fill-opacity=\"1\" /><path clip-path=\"url(#clip260)\" d=\"M53.3561 681.754 L60.995 681.754 L60.995 655.389 L52.6848 657.056 L52.6848 652.796 L60.9487 651.13 L65.6246 651.13 L65.6246 681.754 L73.2634 681.754 L73.2634 685.69 L53.3561 685.69 L53.3561 681.754 Z\" fill=\"#000000\" fill-rule=\"evenodd\" fill-opacity=\"1\" /><path clip-path=\"url(#clip260)\" d=\"M92.7078 654.208 Q89.0967 654.208 87.268 657.773 Q85.4624 661.315 85.4624 668.444 Q85.4624 675.551 87.268 679.116 Q89.0967 682.657 92.7078 682.657 Q96.342 682.657 98.1475 679.116 Q99.9762 675.551 99.9762 668.444 Q99.9762 661.315 98.1475 657.773 Q96.342 654.208 92.7078 654.208 M92.7078 650.505 Q98.5179 650.505 101.573 655.111 Q104.652 659.694 104.652 668.444 Q104.652 677.171 101.573 681.778 Q98.5179 686.361 92.7078 686.361 Q86.8976 686.361 83.8189 681.778 Q80.7634 677.171 80.7634 668.444 Q80.7634 659.694 83.8189 655.111 Q86.8976 650.505 92.7078 650.505 Z\" fill=\"#000000\" fill-rule=\"evenodd\" fill-opacity=\"1\" /><path clip-path=\"url(#clip260)\" d=\"M104.652 644.606 L128.764 644.606 L128.764 647.803 L104.652 647.803 L104.652 644.606 Z\" fill=\"#000000\" fill-rule=\"evenodd\" fill-opacity=\"1\" /><path clip-path=\"url(#clip260)\" d=\"M140.236 655.082 L153.496 655.082 L153.496 658.279 L135.666 658.279 L135.666 655.082 Q137.829 652.844 141.553 649.082 Q145.296 645.302 146.255 644.211 Q148.079 642.161 148.794 640.75 Q149.527 639.321 149.527 637.948 Q149.527 635.71 147.948 634.299 Q146.387 632.889 143.866 632.889 Q142.08 632.889 140.086 633.509 Q138.111 634.13 135.854 635.39 L135.854 631.553 Q138.149 630.632 140.142 630.162 Q142.136 629.691 143.791 629.691 Q148.155 629.691 150.75 631.873 Q153.345 634.055 153.345 637.704 Q153.345 639.434 152.687 640.995 Q152.048 642.537 150.336 644.644 Q149.866 645.189 147.346 647.803 Q144.826 650.399 140.236 655.082 Z\" fill=\"#000000\" fill-rule=\"evenodd\" fill-opacity=\"1\" /><polyline clip-path=\"url(#clip262)\" style=\"stroke:#009af9; stroke-linecap:butt; stroke-linejoin:round; stroke-width:16; stroke-opacity:1; fill:none\" points=\"\n",
       "  250.72,87.6286 658.883,344.139 1067.04,574.869 1475.21,794.639 1883.37,1009.33 2291.53,1221.56 \n",
       "  \"/>\n",
       "<line clip-path=\"url(#clip262)\" x1=\"250.72\" y1=\"87.6286\" x2=\"250.72\" y2=\"71.6286\" style=\"stroke:#009af9; stroke-width:3.2; stroke-opacity:1\"/>\n",
       "<line clip-path=\"url(#clip262)\" x1=\"250.72\" y1=\"87.6286\" x2=\"234.72\" y2=\"87.6286\" style=\"stroke:#009af9; stroke-width:3.2; stroke-opacity:1\"/>\n",
       "<line clip-path=\"url(#clip262)\" x1=\"250.72\" y1=\"87.6286\" x2=\"250.72\" y2=\"103.629\" style=\"stroke:#009af9; stroke-width:3.2; stroke-opacity:1\"/>\n",
       "<line clip-path=\"url(#clip262)\" x1=\"250.72\" y1=\"87.6286\" x2=\"266.72\" y2=\"87.6286\" style=\"stroke:#009af9; stroke-width:3.2; stroke-opacity:1\"/>\n",
       "<line clip-path=\"url(#clip262)\" x1=\"658.883\" y1=\"344.139\" x2=\"658.883\" y2=\"328.139\" style=\"stroke:#009af9; stroke-width:3.2; stroke-opacity:1\"/>\n",
       "<line clip-path=\"url(#clip262)\" x1=\"658.883\" y1=\"344.139\" x2=\"642.883\" y2=\"344.139\" style=\"stroke:#009af9; stroke-width:3.2; stroke-opacity:1\"/>\n",
       "<line clip-path=\"url(#clip262)\" x1=\"658.883\" y1=\"344.139\" x2=\"658.883\" y2=\"360.139\" style=\"stroke:#009af9; stroke-width:3.2; stroke-opacity:1\"/>\n",
       "<line clip-path=\"url(#clip262)\" x1=\"658.883\" y1=\"344.139\" x2=\"674.883\" y2=\"344.139\" style=\"stroke:#009af9; stroke-width:3.2; stroke-opacity:1\"/>\n",
       "<line clip-path=\"url(#clip262)\" x1=\"1067.04\" y1=\"574.869\" x2=\"1067.04\" y2=\"558.869\" style=\"stroke:#009af9; stroke-width:3.2; stroke-opacity:1\"/>\n",
       "<line clip-path=\"url(#clip262)\" x1=\"1067.04\" y1=\"574.869\" x2=\"1051.04\" y2=\"574.869\" style=\"stroke:#009af9; stroke-width:3.2; stroke-opacity:1\"/>\n",
       "<line clip-path=\"url(#clip262)\" x1=\"1067.04\" y1=\"574.869\" x2=\"1067.04\" y2=\"590.869\" style=\"stroke:#009af9; stroke-width:3.2; stroke-opacity:1\"/>\n",
       "<line clip-path=\"url(#clip262)\" x1=\"1067.04\" y1=\"574.869\" x2=\"1083.04\" y2=\"574.869\" style=\"stroke:#009af9; stroke-width:3.2; stroke-opacity:1\"/>\n",
       "<line clip-path=\"url(#clip262)\" x1=\"1475.21\" y1=\"794.639\" x2=\"1475.21\" y2=\"778.639\" style=\"stroke:#009af9; stroke-width:3.2; stroke-opacity:1\"/>\n",
       "<line clip-path=\"url(#clip262)\" x1=\"1475.21\" y1=\"794.639\" x2=\"1459.21\" y2=\"794.639\" style=\"stroke:#009af9; stroke-width:3.2; stroke-opacity:1\"/>\n",
       "<line clip-path=\"url(#clip262)\" x1=\"1475.21\" y1=\"794.639\" x2=\"1475.21\" y2=\"810.639\" style=\"stroke:#009af9; stroke-width:3.2; stroke-opacity:1\"/>\n",
       "<line clip-path=\"url(#clip262)\" x1=\"1475.21\" y1=\"794.639\" x2=\"1491.21\" y2=\"794.639\" style=\"stroke:#009af9; stroke-width:3.2; stroke-opacity:1\"/>\n",
       "<line clip-path=\"url(#clip262)\" x1=\"1883.37\" y1=\"1009.33\" x2=\"1883.37\" y2=\"993.326\" style=\"stroke:#009af9; stroke-width:3.2; stroke-opacity:1\"/>\n",
       "<line clip-path=\"url(#clip262)\" x1=\"1883.37\" y1=\"1009.33\" x2=\"1867.37\" y2=\"1009.33\" style=\"stroke:#009af9; stroke-width:3.2; stroke-opacity:1\"/>\n",
       "<line clip-path=\"url(#clip262)\" x1=\"1883.37\" y1=\"1009.33\" x2=\"1883.37\" y2=\"1025.33\" style=\"stroke:#009af9; stroke-width:3.2; stroke-opacity:1\"/>\n",
       "<line clip-path=\"url(#clip262)\" x1=\"1883.37\" y1=\"1009.33\" x2=\"1899.37\" y2=\"1009.33\" style=\"stroke:#009af9; stroke-width:3.2; stroke-opacity:1\"/>\n",
       "<line clip-path=\"url(#clip262)\" x1=\"2291.53\" y1=\"1221.56\" x2=\"2291.53\" y2=\"1205.56\" style=\"stroke:#009af9; stroke-width:3.2; stroke-opacity:1\"/>\n",
       "<line clip-path=\"url(#clip262)\" x1=\"2291.53\" y1=\"1221.56\" x2=\"2275.53\" y2=\"1221.56\" style=\"stroke:#009af9; stroke-width:3.2; stroke-opacity:1\"/>\n",
       "<line clip-path=\"url(#clip262)\" x1=\"2291.53\" y1=\"1221.56\" x2=\"2291.53\" y2=\"1237.56\" style=\"stroke:#009af9; stroke-width:3.2; stroke-opacity:1\"/>\n",
       "<line clip-path=\"url(#clip262)\" x1=\"2291.53\" y1=\"1221.56\" x2=\"2307.53\" y2=\"1221.56\" style=\"stroke:#009af9; stroke-width:3.2; stroke-opacity:1\"/>\n",
       "<polyline clip-path=\"url(#clip262)\" style=\"stroke:#e26f46; stroke-linecap:butt; stroke-linejoin:round; stroke-width:16; stroke-opacity:1; fill:none\" points=\"\n",
       "  250.72,384.565 658.883,594.408 1067.04,804.251 1475.21,1014.09 1883.37,1223.94 2291.53,1433.78 \n",
       "  \"/>\n",
       "<path clip-path=\"url(#clip260)\" d=\"\n",
       "M1680.68 250.328 L2280.65 250.328 L2280.65 94.8081 L1680.68 94.8081  Z\n",
       "  \" fill=\"#ffffff\" fill-rule=\"evenodd\" fill-opacity=\"1\"/>\n",
       "<polyline clip-path=\"url(#clip260)\" style=\"stroke:#000000; stroke-linecap:butt; stroke-linejoin:round; stroke-width:4; stroke-opacity:1; fill:none\" points=\"\n",
       "  1680.68,250.328 2280.65,250.328 2280.65,94.8081 1680.68,94.8081 1680.68,250.328 \n",
       "  \"/>\n",
       "<polyline clip-path=\"url(#clip260)\" style=\"stroke:#009af9; stroke-linecap:butt; stroke-linejoin:round; stroke-width:4; stroke-opacity:1; fill:none\" points=\"\n",
       "  1704.72,146.648 1848.93,146.648 \n",
       "  \"/>\n",
       "<line clip-path=\"url(#clip260)\" x1=\"1776.83\" y1=\"146.648\" x2=\"1776.83\" y2=\"121.048\" style=\"stroke:#009af9; stroke-width:5.12; stroke-opacity:1\"/>\n",
       "<line clip-path=\"url(#clip260)\" x1=\"1776.83\" y1=\"146.648\" x2=\"1751.23\" y2=\"146.648\" style=\"stroke:#009af9; stroke-width:5.12; stroke-opacity:1\"/>\n",
       "<line clip-path=\"url(#clip260)\" x1=\"1776.83\" y1=\"146.648\" x2=\"1776.83\" y2=\"172.248\" style=\"stroke:#009af9; stroke-width:5.12; stroke-opacity:1\"/>\n",
       "<line clip-path=\"url(#clip260)\" x1=\"1776.83\" y1=\"146.648\" x2=\"1802.43\" y2=\"146.648\" style=\"stroke:#009af9; stroke-width:5.12; stroke-opacity:1\"/>\n",
       "<path clip-path=\"url(#clip260)\" d=\"M1877.37 150.988 Q1877.37 155.687 1879.29 158.373 Q1881.23 161.035 1884.61 161.035 Q1887.99 161.035 1889.94 158.373 Q1891.88 155.687 1891.88 150.988 Q1891.88 146.289 1889.94 143.627 Q1887.99 140.942 1884.61 140.942 Q1881.23 140.942 1879.29 143.627 Q1877.37 146.289 1877.37 150.988 M1891.88 160.039 Q1890.54 162.354 1888.48 163.488 Q1886.44 164.599 1883.57 164.599 Q1878.87 164.599 1875.91 160.849 Q1872.97 157.099 1872.97 150.988 Q1872.97 144.877 1875.91 141.127 Q1878.87 137.377 1883.57 137.377 Q1886.44 137.377 1888.48 138.512 Q1890.54 139.623 1891.88 141.937 L1891.88 138.002 L1896.14 138.002 L1896.14 173.789 L1891.88 173.789 L1891.88 160.039 Z\" fill=\"#000000\" fill-rule=\"evenodd\" fill-opacity=\"1\" /><path clip-path=\"url(#clip260)\" d=\"M1904.47 153.697 L1904.47 138.002 L1908.73 138.002 L1908.73 153.535 Q1908.73 157.215 1910.17 159.067 Q1911.6 160.896 1914.47 160.896 Q1917.92 160.896 1919.91 158.697 Q1921.93 156.498 1921.93 152.701 L1921.93 138.002 L1926.19 138.002 L1926.19 163.928 L1921.93 163.928 L1921.93 159.947 Q1920.38 162.308 1918.32 163.465 Q1916.28 164.599 1913.57 164.599 Q1909.1 164.599 1906.79 161.822 Q1904.47 159.044 1904.47 153.697 M1915.19 137.377 L1915.19 137.377 Z\" fill=\"#000000\" fill-rule=\"evenodd\" fill-opacity=\"1\" /><path clip-path=\"url(#clip260)\" d=\"M1946.74 150.896 Q1941.58 150.896 1939.59 152.076 Q1937.6 153.257 1937.6 156.104 Q1937.6 158.373 1939.08 159.715 Q1940.59 161.035 1943.16 161.035 Q1946.7 161.035 1948.83 158.535 Q1950.98 156.011 1950.98 151.845 L1950.98 150.896 L1946.74 150.896 M1955.24 149.137 L1955.24 163.928 L1950.98 163.928 L1950.98 159.993 Q1949.52 162.354 1947.34 163.488 Q1945.17 164.599 1942.02 164.599 Q1938.04 164.599 1935.68 162.377 Q1933.34 160.132 1933.34 156.382 Q1933.34 152.007 1936.26 149.785 Q1939.2 147.562 1945.01 147.562 L1950.98 147.562 L1950.98 147.146 Q1950.98 144.206 1949.03 142.609 Q1947.11 140.988 1943.62 140.988 Q1941.4 140.988 1939.29 141.521 Q1937.18 142.053 1935.24 143.118 L1935.24 139.183 Q1937.58 138.28 1939.78 137.84 Q1941.97 137.377 1944.06 137.377 Q1949.68 137.377 1952.46 140.294 Q1955.24 143.211 1955.24 149.137 Z\" fill=\"#000000\" fill-rule=\"evenodd\" fill-opacity=\"1\" /><path clip-path=\"url(#clip260)\" d=\"M1981.07 141.937 L1981.07 127.91 L1985.33 127.91 L1985.33 163.928 L1981.07 163.928 L1981.07 160.039 Q1979.73 162.354 1977.67 163.488 Q1975.63 164.599 1972.76 164.599 Q1968.06 164.599 1965.1 160.849 Q1962.16 157.099 1962.16 150.988 Q1962.16 144.877 1965.1 141.127 Q1968.06 137.377 1972.76 137.377 Q1975.63 137.377 1977.67 138.512 Q1979.73 139.623 1981.07 141.937 M1966.56 150.988 Q1966.56 155.687 1968.48 158.373 Q1970.42 161.035 1973.8 161.035 Q1977.18 161.035 1979.13 158.373 Q1981.07 155.687 1981.07 150.988 Q1981.07 146.289 1979.13 143.627 Q1977.18 140.942 1973.8 140.942 Q1970.42 140.942 1968.48 143.627 Q1966.56 146.289 1966.56 150.988 Z\" fill=\"#000000\" fill-rule=\"evenodd\" fill-opacity=\"1\" /><path clip-path=\"url(#clip260)\" d=\"M2013.8 171.798 L2013.8 175.109 L1989.17 175.109 L1989.17 171.798 L2013.8 171.798 Z\" fill=\"#000000\" fill-rule=\"evenodd\" fill-opacity=\"1\" /><path clip-path=\"url(#clip260)\" d=\"M2022.02 130.641 L2022.02 138.002 L2030.79 138.002 L2030.79 141.312 L2022.02 141.312 L2022.02 155.386 Q2022.02 158.558 2022.88 159.461 Q2023.76 160.363 2026.42 160.363 L2030.79 160.363 L2030.79 163.928 L2026.42 163.928 Q2021.49 163.928 2019.61 162.099 Q2017.74 160.248 2017.74 155.386 L2017.74 141.312 L2014.61 141.312 L2014.61 138.002 L2017.74 138.002 L2017.74 130.641 L2022.02 130.641 Z\" fill=\"#000000\" fill-rule=\"evenodd\" fill-opacity=\"1\" /><path clip-path=\"url(#clip260)\" d=\"M2051.42 141.984 Q2050.7 141.567 2049.84 141.382 Q2049.01 141.174 2047.99 141.174 Q2044.38 141.174 2042.44 143.535 Q2040.52 145.873 2040.52 150.271 L2040.52 163.928 L2036.23 163.928 L2036.23 138.002 L2040.52 138.002 L2040.52 142.03 Q2041.86 139.669 2044.01 138.535 Q2046.16 137.377 2049.24 137.377 Q2049.68 137.377 2050.21 137.447 Q2050.75 137.493 2051.4 137.609 L2051.42 141.984 Z\" fill=\"#000000\" fill-rule=\"evenodd\" fill-opacity=\"1\" /><path clip-path=\"url(#clip260)\" d=\"M2067.67 150.896 Q2062.51 150.896 2060.52 152.076 Q2058.52 153.257 2058.52 156.104 Q2058.52 158.373 2060.01 159.715 Q2061.51 161.035 2064.08 161.035 Q2067.62 161.035 2069.75 158.535 Q2071.9 156.011 2071.9 151.845 L2071.9 150.896 L2067.67 150.896 M2076.16 149.137 L2076.16 163.928 L2071.9 163.928 L2071.9 159.993 Q2070.45 162.354 2068.27 163.488 Q2066.09 164.599 2062.95 164.599 Q2058.96 164.599 2056.6 162.377 Q2054.27 160.132 2054.27 156.382 Q2054.27 152.007 2057.18 149.785 Q2060.12 147.562 2065.93 147.562 L2071.9 147.562 L2071.9 147.146 Q2071.9 144.206 2069.96 142.609 Q2068.04 140.988 2064.54 140.988 Q2062.32 140.988 2060.21 141.521 Q2058.11 142.053 2056.16 143.118 L2056.16 139.183 Q2058.5 138.28 2060.7 137.84 Q2062.9 137.377 2064.98 137.377 Q2070.61 137.377 2073.39 140.294 Q2076.16 143.211 2076.16 149.137 Z\" fill=\"#000000\" fill-rule=\"evenodd\" fill-opacity=\"1\" /><path clip-path=\"url(#clip260)\" d=\"M2089.06 160.039 L2089.06 173.789 L2084.77 173.789 L2084.77 138.002 L2089.06 138.002 L2089.06 141.937 Q2090.4 139.623 2092.44 138.512 Q2094.5 137.377 2097.34 137.377 Q2102.07 137.377 2105.01 141.127 Q2107.97 144.877 2107.97 150.988 Q2107.97 157.099 2105.01 160.849 Q2102.07 164.599 2097.34 164.599 Q2094.5 164.599 2092.44 163.488 Q2090.4 162.354 2089.06 160.039 M2103.55 150.988 Q2103.55 146.289 2101.6 143.627 Q2099.68 140.942 2096.3 140.942 Q2092.92 140.942 2090.98 143.627 Q2089.06 146.289 2089.06 150.988 Q2089.06 155.687 2090.98 158.373 Q2092.92 161.035 2096.3 161.035 Q2099.68 161.035 2101.6 158.373 Q2103.55 155.687 2103.55 150.988 Z\" fill=\"#000000\" fill-rule=\"evenodd\" fill-opacity=\"1\" /><path clip-path=\"url(#clip260)\" d=\"M2137.2 149.9 L2137.2 151.984 L2117.62 151.984 Q2117.9 156.382 2120.26 158.697 Q2122.64 160.988 2126.88 160.988 Q2129.33 160.988 2131.63 160.386 Q2133.94 159.785 2136.21 158.581 L2136.21 162.609 Q2133.92 163.581 2131.51 164.09 Q2129.1 164.599 2126.63 164.599 Q2120.42 164.599 2116.79 160.988 Q2113.18 157.377 2113.18 151.22 Q2113.18 144.854 2116.6 141.127 Q2120.05 137.377 2125.89 137.377 Q2131.12 137.377 2134.15 140.757 Q2137.2 144.113 2137.2 149.9 M2132.95 148.65 Q2132.9 145.155 2130.98 143.072 Q2129.08 140.988 2125.93 140.988 Q2122.37 140.988 2120.21 143.002 Q2118.08 145.016 2117.76 148.674 L2132.95 148.65 Z\" fill=\"#000000\" fill-rule=\"evenodd\" fill-opacity=\"1\" /><path clip-path=\"url(#clip260)\" d=\"M2142.34 138.002 L2162.58 138.002 L2162.58 141.891 L2146.56 160.525 L2162.58 160.525 L2162.58 163.928 L2141.77 163.928 L2141.77 160.039 L2157.78 141.405 L2142.34 141.405 L2142.34 138.002 Z\" fill=\"#000000\" fill-rule=\"evenodd\" fill-opacity=\"1\" /><path clip-path=\"url(#clip260)\" d=\"M2179.13 140.988 Q2175.7 140.988 2173.71 143.674 Q2171.72 146.336 2171.72 150.988 Q2171.72 155.641 2173.69 158.326 Q2175.68 160.988 2179.13 160.988 Q2182.53 160.988 2184.52 158.303 Q2186.51 155.618 2186.51 150.988 Q2186.51 146.382 2184.52 143.697 Q2182.53 140.988 2179.13 140.988 M2179.13 137.377 Q2184.68 137.377 2187.85 140.988 Q2191.02 144.6 2191.02 150.988 Q2191.02 157.354 2187.85 160.988 Q2184.68 164.599 2179.13 164.599 Q2173.55 164.599 2170.38 160.988 Q2167.23 157.354 2167.23 150.988 Q2167.23 144.6 2170.38 140.988 Q2173.55 137.377 2179.13 137.377 Z\" fill=\"#000000\" fill-rule=\"evenodd\" fill-opacity=\"1\" /><path clip-path=\"url(#clip260)\" d=\"M2198.08 138.002 L2202.34 138.002 L2202.34 163.928 L2198.08 163.928 L2198.08 138.002 M2198.08 127.91 L2202.34 127.91 L2202.34 133.303 L2198.08 133.303 L2198.08 127.91 Z\" fill=\"#000000\" fill-rule=\"evenodd\" fill-opacity=\"1\" /><path clip-path=\"url(#clip260)\" d=\"M2228.32 141.937 L2228.32 127.91 L2232.57 127.91 L2232.57 163.928 L2228.32 163.928 L2228.32 160.039 Q2226.97 162.354 2224.91 163.488 Q2222.88 164.599 2220.01 164.599 Q2215.31 164.599 2212.34 160.849 Q2209.4 157.099 2209.4 150.988 Q2209.4 144.877 2212.34 141.127 Q2215.31 137.377 2220.01 137.377 Q2222.88 137.377 2224.91 138.512 Q2226.97 139.623 2228.32 141.937 M2213.8 150.988 Q2213.8 155.687 2215.72 158.373 Q2217.67 161.035 2221.05 161.035 Q2224.43 161.035 2226.37 158.373 Q2228.32 155.687 2228.32 150.988 Q2228.32 146.289 2226.37 143.627 Q2224.43 140.942 2221.05 140.942 Q2217.67 140.942 2215.72 143.627 Q2213.8 146.289 2213.8 150.988 Z\" fill=\"#000000\" fill-rule=\"evenodd\" fill-opacity=\"1\" /><polyline clip-path=\"url(#clip260)\" style=\"stroke:#e26f46; stroke-linecap:butt; stroke-linejoin:round; stroke-width:4; stroke-opacity:1; fill:none\" points=\"\n",
       "  1704.72,198.488 1848.93,198.488 \n",
       "  \"/>\n",
       "<path clip-path=\"url(#clip260)\" d=\"M1886.81 218.176 Q1885.01 222.805 1883.29 224.217 Q1881.58 225.629 1878.71 225.629 L1875.31 225.629 L1875.31 222.064 L1877.81 222.064 Q1879.57 222.064 1880.54 221.231 Q1881.51 220.398 1882.69 217.296 L1883.46 215.351 L1872.97 189.842 L1877.48 189.842 L1885.59 210.12 L1893.69 189.842 L1898.2 189.842 L1886.81 218.176 Z\" fill=\"#000000\" fill-rule=\"evenodd\" fill-opacity=\"1\" /><path clip-path=\"url(#clip260)\" d=\"M1908.71 211.833 L1925.03 211.833 L1925.03 215.768 L1903.09 215.768 L1903.09 211.833 Q1905.75 209.078 1910.33 204.449 Q1914.94 199.796 1916.12 198.453 Q1918.36 195.93 1919.24 194.194 Q1920.15 192.435 1920.15 190.745 Q1920.15 187.99 1918.2 186.254 Q1916.28 184.518 1913.18 184.518 Q1910.98 184.518 1908.53 185.282 Q1906.1 186.046 1903.32 187.597 L1903.32 182.875 Q1906.14 181.741 1908.6 181.162 Q1911.05 180.583 1913.09 180.583 Q1918.46 180.583 1921.65 183.268 Q1924.84 185.953 1924.84 190.444 Q1924.84 192.574 1924.03 194.495 Q1923.25 196.393 1921.14 198.986 Q1920.56 199.657 1917.46 202.875 Q1914.36 206.069 1908.71 211.833 Z\" fill=\"#000000\" fill-rule=\"evenodd\" fill-opacity=\"1\" /></svg>\n"
      ]
     },
     "execution_count": 28,
     "metadata": {},
     "output_type": "execute_result"
    }
   ],
   "source": [
    "plot_quad_accuracy(exp, exp, quad_trapezoid)\n",
    "plot_quad_accuracy(x -> 3*x^2, x -> x^3, quad_trapezoid)"
   ]
  },
  {
   "cell_type": "markdown",
   "id": "40d1d454",
   "metadata": {
    "slideshow": {
     "slide_type": "slide"
    }
   },
   "source": [
    "# Integration via polynomial interpolation\n",
    "\n",
    "* Pick some points $x_i$\n",
    "* Evaluate the function there $f_i = f(x_i)$\n",
    "* Find the polynomial that interpolates the data\n",
    "* Integrate the polynomial\n",
    "\n",
    "## What order of accuracy can we expect?\n",
    "* What degree polynomials can be integrate exactly?"
   ]
  },
  {
   "cell_type": "markdown",
   "id": "604bdba2",
   "metadata": {
    "cell_style": "center",
    "slideshow": {
     "slide_type": "slide"
    }
   },
   "source": [
    "# Doing better: Gauss quadrature\n",
    "\n",
    "Suppose a polynomial on the interval $[-1,1]$ can be written as\n",
    "\n",
    "$$ P_n(x) q(x) + r(x) $$\n",
    "\n",
    "where $P_n(x)$ is the $n$th Legendre polnomials and both $q(x)$ and $r(x)$ are polynomials of maximum degree $n-1$.\n",
    "\n",
    "* Why is $\\int_{-1}^1 P_n(x) q(x) = 0$?\n",
    "* Can every polynomials of degree $2n-1$ be written in the above form?\n",
    "* How many roots does $P_n(x)$ have on the interval?\n",
    "* Can we choose points $\\{x_i\\}$ such that the first term is 0?\n",
    "\n",
    "If $P_n(x_i) = 0$ for each $x_i$, then we need only integrate $r(x)$, which is done exactly by integrating its interpolating polynomial.  How do we find these roots $x_i$?"
   ]
  },
  {
   "cell_type": "markdown",
   "id": "3d223ce1",
   "metadata": {
    "slideshow": {
     "slide_type": "slide"
    }
   },
   "source": [
    "# Gauss-Legendre in code\n",
    "\n",
    "1. Solve for the points, compute the weights\n",
    "  * Use a Newton solver to find the roots. You can use the recurrence to write a recurrence for the derivatives.\n",
    "  * Create a Vandermonde matrix and extract the first row of the inverse or (using more structure) the derivatives at the quadrature points.\n",
    "2. Use duality of polynomial roots and matrix eigenvalues.\n",
    "  * A fascinating mathematical voyage (topic of graduate linear algebra class)."
   ]
  },
  {
   "cell_type": "code",
   "execution_count": 29,
   "id": "44670972",
   "metadata": {
    "cell_style": "split"
   },
   "outputs": [
    {
     "data": {
      "text/plain": [
       "gauss_legendre (generic function with 1 method)"
      ]
     },
     "execution_count": 29,
     "metadata": {},
     "output_type": "execute_result"
    }
   ],
   "source": [
    "function gauss_legendre(n)\n",
    "    \"\"\"Gauss-Legendre integration using Golub-Welsch algorithm\"\"\"\n",
    "    beta = @. .5 / sqrt(1 - (2 * (1:n-1))^(-2))\n",
    "    T = diagm(-1 => beta, 1 => beta)\n",
    "    D, V = eigen(T)\n",
    "    w = V[1,:].^2 * 2\n",
    "    q = D\n",
    "    q, w\n",
    "end"
   ]
  },
  {
   "cell_type": "code",
   "execution_count": 6,
   "id": "44c65afc",
   "metadata": {
    "cell_style": "split"
   },
   "outputs": [
    {
     "data": {
      "image/svg+xml": [
       "<?xml version=\"1.0\" encoding=\"utf-8\"?>\n",
       "<svg xmlns=\"http://www.w3.org/2000/svg\" xmlns:xlink=\"http://www.w3.org/1999/xlink\" width=\"600\" height=\"400\" viewBox=\"0 0 2400 1600\">\n",
       "<defs>\n",
       "  <clipPath id=\"clip900\">\n",
       "    <rect x=\"0\" y=\"0\" width=\"2400\" height=\"1600\"/>\n",
       "  </clipPath>\n",
       "</defs>\n",
       "<path clip-path=\"url(#clip900)\" d=\"\n",
       "M0 1600 L2400 1600 L2400 0 L0 0  Z\n",
       "  \" fill=\"#ffffff\" fill-rule=\"evenodd\" fill-opacity=\"1\"/>\n",
       "<defs>\n",
       "  <clipPath id=\"clip901\">\n",
       "    <rect x=\"480\" y=\"0\" width=\"1681\" height=\"1600\"/>\n",
       "  </clipPath>\n",
       "</defs>\n",
       "<path clip-path=\"url(#clip900)\" d=\"\n",
       "M213.607 1474.16 L2352.76 1474.16 L2352.76 47.2441 L213.607 47.2441  Z\n",
       "  \" fill=\"#ffffff\" fill-rule=\"evenodd\" fill-opacity=\"1\"/>\n",
       "<defs>\n",
       "  <clipPath id=\"clip902\">\n",
       "    <rect x=\"213\" y=\"47\" width=\"2140\" height=\"1428\"/>\n",
       "  </clipPath>\n",
       "</defs>\n",
       "<polyline clip-path=\"url(#clip902)\" style=\"stroke:#000000; stroke-linecap:butt; stroke-linejoin:round; stroke-width:2; stroke-opacity:0.1; fill:none\" points=\"\n",
       "  807.697,1474.16 807.697,47.2441 \n",
       "  \"/>\n",
       "<polyline clip-path=\"url(#clip902)\" style=\"stroke:#000000; stroke-linecap:butt; stroke-linejoin:round; stroke-width:2; stroke-opacity:0.1; fill:none\" points=\"\n",
       "  2148.47,1474.16 2148.47,47.2441 \n",
       "  \"/>\n",
       "<polyline clip-path=\"url(#clip900)\" style=\"stroke:#000000; stroke-linecap:butt; stroke-linejoin:round; stroke-width:4; stroke-opacity:1; fill:none\" points=\"\n",
       "  213.607,1474.16 2352.76,1474.16 \n",
       "  \"/>\n",
       "<polyline clip-path=\"url(#clip900)\" style=\"stroke:#000000; stroke-linecap:butt; stroke-linejoin:round; stroke-width:4; stroke-opacity:1; fill:none\" points=\"\n",
       "  807.697,1474.16 807.697,1455.27 \n",
       "  \"/>\n",
       "<polyline clip-path=\"url(#clip900)\" style=\"stroke:#000000; stroke-linecap:butt; stroke-linejoin:round; stroke-width:4; stroke-opacity:1; fill:none\" points=\"\n",
       "  2148.47,1474.16 2148.47,1455.27 \n",
       "  \"/>\n",
       "<path clip-path=\"url(#clip900)\" d=\"M774.024 1548.29 L781.663 1548.29 L781.663 1521.92 L773.353 1523.59 L773.353 1519.33 L781.617 1517.66 L786.293 1517.66 L786.293 1548.29 L793.932 1548.29 L793.932 1552.22 L774.024 1552.22 L774.024 1548.29 Z\" fill=\"#000000\" fill-rule=\"evenodd\" fill-opacity=\"1\" /><path clip-path=\"url(#clip900)\" d=\"M813.376 1520.74 Q809.765 1520.74 807.936 1524.31 Q806.131 1527.85 806.131 1534.98 Q806.131 1542.09 807.936 1545.65 Q809.765 1549.19 813.376 1549.19 Q817.01 1549.19 818.816 1545.65 Q820.644 1542.09 820.644 1534.98 Q820.644 1527.85 818.816 1524.31 Q817.01 1520.74 813.376 1520.74 M813.376 1517.04 Q819.186 1517.04 822.242 1521.65 Q825.32 1526.23 825.32 1534.98 Q825.32 1543.71 822.242 1548.31 Q819.186 1552.9 813.376 1552.9 Q807.566 1552.9 804.487 1548.31 Q801.432 1543.71 801.432 1534.98 Q801.432 1526.23 804.487 1521.65 Q807.566 1517.04 813.376 1517.04 Z\" fill=\"#000000\" fill-rule=\"evenodd\" fill-opacity=\"1\" /><path clip-path=\"url(#clip900)\" d=\"M825.866 1521.62 L832.072 1521.62 L832.072 1500.19 L825.32 1501.55 L825.32 1498.09 L832.035 1496.73 L835.834 1496.73 L835.834 1521.62 L842.04 1521.62 L842.04 1524.81 L825.866 1524.81 L825.866 1521.62 Z\" fill=\"#000000\" fill-rule=\"evenodd\" fill-opacity=\"1\" /><path clip-path=\"url(#clip900)\" d=\"M2114.24 1548.29 L2121.88 1548.29 L2121.88 1521.92 L2113.57 1523.59 L2113.57 1519.33 L2121.84 1517.66 L2126.51 1517.66 L2126.51 1548.29 L2134.15 1548.29 L2134.15 1552.22 L2114.24 1552.22 L2114.24 1548.29 Z\" fill=\"#000000\" fill-rule=\"evenodd\" fill-opacity=\"1\" /><path clip-path=\"url(#clip900)\" d=\"M2153.59 1520.74 Q2149.98 1520.74 2148.15 1524.31 Q2146.35 1527.85 2146.35 1534.98 Q2146.35 1542.09 2148.15 1545.65 Q2149.98 1549.19 2153.59 1549.19 Q2157.23 1549.19 2159.03 1545.65 Q2160.86 1542.09 2160.86 1534.98 Q2160.86 1527.85 2159.03 1524.31 Q2157.23 1520.74 2153.59 1520.74 M2153.59 1517.04 Q2159.4 1517.04 2162.46 1521.65 Q2165.54 1526.23 2165.54 1534.98 Q2165.54 1543.71 2162.46 1548.31 Q2159.4 1552.9 2153.59 1552.9 Q2147.78 1552.9 2144.71 1548.31 Q2141.65 1543.71 2141.65 1534.98 Q2141.65 1526.23 2144.71 1521.65 Q2147.78 1517.04 2153.59 1517.04 Z\" fill=\"#000000\" fill-rule=\"evenodd\" fill-opacity=\"1\" /><path clip-path=\"url(#clip900)\" d=\"M2170.11 1521.62 L2183.37 1521.62 L2183.37 1524.81 L2165.54 1524.81 L2165.54 1521.62 Q2167.7 1519.38 2171.43 1515.62 Q2175.17 1511.84 2176.13 1510.75 Q2177.95 1508.7 2178.67 1507.29 Q2179.4 1505.86 2179.4 1504.48 Q2179.4 1502.24 2177.82 1500.83 Q2176.26 1499.42 2173.74 1499.42 Q2171.95 1499.42 2169.96 1500.04 Q2167.98 1500.67 2165.73 1501.93 L2165.73 1498.09 Q2168.02 1497.17 2170.01 1496.7 Q2172.01 1496.23 2173.66 1496.23 Q2178.03 1496.23 2180.62 1498.41 Q2183.22 1500.59 2183.22 1504.24 Q2183.22 1505.97 2182.56 1507.53 Q2181.92 1509.07 2180.21 1511.18 Q2179.74 1511.72 2177.22 1514.34 Q2174.7 1516.93 2170.11 1521.62 Z\" fill=\"#000000\" fill-rule=\"evenodd\" fill-opacity=\"1\" /><polyline clip-path=\"url(#clip902)\" style=\"stroke:#000000; stroke-linecap:butt; stroke-linejoin:round; stroke-width:2; stroke-opacity:0.1; fill:none\" points=\"\n",
       "  213.607,1012.14 2352.76,1012.14 \n",
       "  \"/>\n",
       "<polyline clip-path=\"url(#clip902)\" style=\"stroke:#000000; stroke-linecap:butt; stroke-linejoin:round; stroke-width:2; stroke-opacity:0.1; fill:none\" points=\"\n",
       "  213.607,523.12 2352.76,523.12 \n",
       "  \"/>\n",
       "<polyline clip-path=\"url(#clip900)\" style=\"stroke:#000000; stroke-linecap:butt; stroke-linejoin:round; stroke-width:4; stroke-opacity:1; fill:none\" points=\"\n",
       "  213.607,1474.16 213.607,47.2441 \n",
       "  \"/>\n",
       "<polyline clip-path=\"url(#clip900)\" style=\"stroke:#000000; stroke-linecap:butt; stroke-linejoin:round; stroke-width:4; stroke-opacity:1; fill:none\" points=\"\n",
       "  213.607,1012.14 232.505,1012.14 \n",
       "  \"/>\n",
       "<polyline clip-path=\"url(#clip900)\" style=\"stroke:#000000; stroke-linecap:butt; stroke-linejoin:round; stroke-width:4; stroke-opacity:1; fill:none\" points=\"\n",
       "  213.607,523.12 232.505,523.12 \n",
       "  \"/>\n",
       "<path clip-path=\"url(#clip900)\" d=\"M51.6634 1031.93 L59.3023 1031.93 L59.3023 1005.56 L50.9921 1007.23 L50.9921 1002.97 L59.256 1001.3 L63.9319 1001.3 L63.9319 1031.93 L71.5707 1031.93 L71.5707 1035.86 L51.6634 1035.86 L51.6634 1031.93 Z\" fill=\"#000000\" fill-rule=\"evenodd\" fill-opacity=\"1\" /><path clip-path=\"url(#clip900)\" d=\"M91.0151 1004.38 Q87.404 1004.38 85.5753 1007.95 Q83.7697 1011.49 83.7697 1018.62 Q83.7697 1025.73 85.5753 1029.29 Q87.404 1032.83 91.0151 1032.83 Q94.6493 1032.83 96.4548 1029.29 Q98.2835 1025.73 98.2835 1018.62 Q98.2835 1011.49 96.4548 1007.95 Q94.6493 1004.38 91.0151 1004.38 M91.0151 1000.68 Q96.8252 1000.68 99.8808 1005.29 Q102.959 1009.87 102.959 1018.62 Q102.959 1027.35 99.8808 1031.95 Q96.8252 1036.54 91.0151 1036.54 Q85.2049 1036.54 82.1262 1031.95 Q79.0707 1027.35 79.0707 1018.62 Q79.0707 1009.87 82.1262 1005.29 Q85.2049 1000.68 91.0151 1000.68 Z\" fill=\"#000000\" fill-rule=\"evenodd\" fill-opacity=\"1\" /><path clip-path=\"url(#clip900)\" d=\"M102.959 994.781 L127.071 994.781 L127.071 997.978 L102.959 997.978 L102.959 994.781 Z\" fill=\"#000000\" fill-rule=\"evenodd\" fill-opacity=\"1\" /><path clip-path=\"url(#clip900)\" d=\"M135.929 1005.26 L142.136 1005.26 L142.136 983.835 L135.384 985.189 L135.384 981.728 L142.098 980.374 L145.898 980.374 L145.898 1005.26 L152.104 1005.26 L152.104 1008.45 L135.929 1008.45 L135.929 1005.26 Z\" fill=\"#000000\" fill-rule=\"evenodd\" fill-opacity=\"1\" /><path clip-path=\"url(#clip900)\" d=\"M167.903 982.875 Q164.969 982.875 163.483 985.772 Q162.016 988.649 162.016 994.442 Q162.016 1000.22 163.483 1003.11 Q164.969 1005.99 167.903 1005.99 Q170.855 1005.99 172.322 1003.11 Q173.808 1000.22 173.808 994.442 Q173.808 988.649 172.322 985.772 Q170.855 982.875 167.903 982.875 M167.903 979.866 Q172.623 979.866 175.106 983.609 Q177.607 987.333 177.607 994.442 Q177.607 1001.53 175.106 1005.28 Q172.623 1009 167.903 1009 Q163.182 1009 160.68 1005.28 Q158.198 1001.53 158.198 994.442 Q158.198 987.333 160.68 983.609 Q163.182 979.866 167.903 979.866 Z\" fill=\"#000000\" fill-rule=\"evenodd\" fill-opacity=\"1\" /><path clip-path=\"url(#clip900)\" d=\"M76.9787 542.913 L84.6175 542.913 L84.6175 516.547 L76.3074 518.214 L76.3074 513.955 L84.5712 512.288 L89.2471 512.288 L89.2471 542.913 L96.886 542.913 L96.886 546.848 L76.9787 546.848 L76.9787 542.913 Z\" fill=\"#000000\" fill-rule=\"evenodd\" fill-opacity=\"1\" /><path clip-path=\"url(#clip900)\" d=\"M116.33 515.367 Q112.719 515.367 110.891 518.931 Q109.085 522.473 109.085 529.603 Q109.085 536.709 110.891 540.274 Q112.719 543.815 116.33 543.815 Q119.965 543.815 121.77 540.274 Q123.599 536.709 123.599 529.603 Q123.599 522.473 121.77 518.931 Q119.965 515.367 116.33 515.367 M116.33 511.663 Q122.14 511.663 125.196 516.269 Q128.275 520.853 128.275 529.603 Q128.275 538.329 125.196 542.936 Q122.14 547.519 116.33 547.519 Q110.52 547.519 107.441 542.936 Q104.386 538.329 104.386 529.603 Q104.386 520.853 107.441 516.269 Q110.52 511.663 116.33 511.663 Z\" fill=\"#000000\" fill-rule=\"evenodd\" fill-opacity=\"1\" /><path clip-path=\"url(#clip900)\" d=\"M128.275 505.764 L152.386 505.764 L152.386 508.962 L128.275 508.962 L128.275 505.764 Z\" fill=\"#000000\" fill-rule=\"evenodd\" fill-opacity=\"1\" /><path clip-path=\"url(#clip900)\" d=\"M160.624 491.357 L175.539 491.357 L175.539 494.555 L164.103 494.555 L164.103 501.438 Q164.931 501.156 165.759 501.025 Q166.586 500.874 167.414 500.874 Q172.116 500.874 174.862 503.451 Q177.607 506.028 177.607 510.429 Q177.607 514.961 174.786 517.481 Q171.965 519.983 166.831 519.983 Q165.063 519.983 163.22 519.682 Q161.395 519.381 159.439 518.779 L159.439 514.961 Q161.132 515.883 162.937 516.334 Q164.743 516.786 166.755 516.786 Q170.009 516.786 171.909 515.074 Q173.808 513.363 173.808 510.429 Q173.808 507.495 171.909 505.783 Q170.009 504.071 166.755 504.071 Q165.232 504.071 163.709 504.41 Q162.204 504.749 160.624 505.463 L160.624 491.357 Z\" fill=\"#000000\" fill-rule=\"evenodd\" fill-opacity=\"1\" /><polyline clip-path=\"url(#clip902)\" style=\"stroke:#009af9; stroke-linecap:butt; stroke-linejoin:round; stroke-width:16; stroke-opacity:1; fill:none\" points=\"\n",
       "  274.149,87.6286 677.762,1381.12 1081.38,1433.78 1484.99,1370.76 1888.6,1430.08 2292.21,1393.34 \n",
       "  \"/>\n",
       "<line clip-path=\"url(#clip902)\" x1=\"274.149\" y1=\"87.6286\" x2=\"274.149\" y2=\"71.6286\" style=\"stroke:#009af9; stroke-width:3.2; stroke-opacity:1\"/>\n",
       "<line clip-path=\"url(#clip902)\" x1=\"274.149\" y1=\"87.6286\" x2=\"258.149\" y2=\"87.6286\" style=\"stroke:#009af9; stroke-width:3.2; stroke-opacity:1\"/>\n",
       "<line clip-path=\"url(#clip902)\" x1=\"274.149\" y1=\"87.6286\" x2=\"274.149\" y2=\"103.629\" style=\"stroke:#009af9; stroke-width:3.2; stroke-opacity:1\"/>\n",
       "<line clip-path=\"url(#clip902)\" x1=\"274.149\" y1=\"87.6286\" x2=\"290.149\" y2=\"87.6286\" style=\"stroke:#009af9; stroke-width:3.2; stroke-opacity:1\"/>\n",
       "<line clip-path=\"url(#clip902)\" x1=\"677.762\" y1=\"1381.12\" x2=\"677.762\" y2=\"1365.12\" style=\"stroke:#009af9; stroke-width:3.2; stroke-opacity:1\"/>\n",
       "<line clip-path=\"url(#clip902)\" x1=\"677.762\" y1=\"1381.12\" x2=\"661.762\" y2=\"1381.12\" style=\"stroke:#009af9; stroke-width:3.2; stroke-opacity:1\"/>\n",
       "<line clip-path=\"url(#clip902)\" x1=\"677.762\" y1=\"1381.12\" x2=\"677.762\" y2=\"1397.12\" style=\"stroke:#009af9; stroke-width:3.2; stroke-opacity:1\"/>\n",
       "<line clip-path=\"url(#clip902)\" x1=\"677.762\" y1=\"1381.12\" x2=\"693.762\" y2=\"1381.12\" style=\"stroke:#009af9; stroke-width:3.2; stroke-opacity:1\"/>\n",
       "<line clip-path=\"url(#clip902)\" x1=\"1081.38\" y1=\"1433.78\" x2=\"1081.38\" y2=\"1417.78\" style=\"stroke:#009af9; stroke-width:3.2; stroke-opacity:1\"/>\n",
       "<line clip-path=\"url(#clip902)\" x1=\"1081.38\" y1=\"1433.78\" x2=\"1065.38\" y2=\"1433.78\" style=\"stroke:#009af9; stroke-width:3.2; stroke-opacity:1\"/>\n",
       "<line clip-path=\"url(#clip902)\" x1=\"1081.38\" y1=\"1433.78\" x2=\"1081.38\" y2=\"1449.78\" style=\"stroke:#009af9; stroke-width:3.2; stroke-opacity:1\"/>\n",
       "<line clip-path=\"url(#clip902)\" x1=\"1081.38\" y1=\"1433.78\" x2=\"1097.38\" y2=\"1433.78\" style=\"stroke:#009af9; stroke-width:3.2; stroke-opacity:1\"/>\n",
       "<line clip-path=\"url(#clip902)\" x1=\"1484.99\" y1=\"1370.76\" x2=\"1484.99\" y2=\"1354.76\" style=\"stroke:#009af9; stroke-width:3.2; stroke-opacity:1\"/>\n",
       "<line clip-path=\"url(#clip902)\" x1=\"1484.99\" y1=\"1370.76\" x2=\"1468.99\" y2=\"1370.76\" style=\"stroke:#009af9; stroke-width:3.2; stroke-opacity:1\"/>\n",
       "<line clip-path=\"url(#clip902)\" x1=\"1484.99\" y1=\"1370.76\" x2=\"1484.99\" y2=\"1386.76\" style=\"stroke:#009af9; stroke-width:3.2; stroke-opacity:1\"/>\n",
       "<line clip-path=\"url(#clip902)\" x1=\"1484.99\" y1=\"1370.76\" x2=\"1500.99\" y2=\"1370.76\" style=\"stroke:#009af9; stroke-width:3.2; stroke-opacity:1\"/>\n",
       "<line clip-path=\"url(#clip902)\" x1=\"1888.6\" y1=\"1430.08\" x2=\"1888.6\" y2=\"1414.08\" style=\"stroke:#009af9; stroke-width:3.2; stroke-opacity:1\"/>\n",
       "<line clip-path=\"url(#clip902)\" x1=\"1888.6\" y1=\"1430.08\" x2=\"1872.6\" y2=\"1430.08\" style=\"stroke:#009af9; stroke-width:3.2; stroke-opacity:1\"/>\n",
       "<line clip-path=\"url(#clip902)\" x1=\"1888.6\" y1=\"1430.08\" x2=\"1888.6\" y2=\"1446.08\" style=\"stroke:#009af9; stroke-width:3.2; stroke-opacity:1\"/>\n",
       "<line clip-path=\"url(#clip902)\" x1=\"1888.6\" y1=\"1430.08\" x2=\"1904.6\" y2=\"1430.08\" style=\"stroke:#009af9; stroke-width:3.2; stroke-opacity:1\"/>\n",
       "<line clip-path=\"url(#clip902)\" x1=\"2292.21\" y1=\"1393.34\" x2=\"2292.21\" y2=\"1377.34\" style=\"stroke:#009af9; stroke-width:3.2; stroke-opacity:1\"/>\n",
       "<line clip-path=\"url(#clip902)\" x1=\"2292.21\" y1=\"1393.34\" x2=\"2276.21\" y2=\"1393.34\" style=\"stroke:#009af9; stroke-width:3.2; stroke-opacity:1\"/>\n",
       "<line clip-path=\"url(#clip902)\" x1=\"2292.21\" y1=\"1393.34\" x2=\"2292.21\" y2=\"1409.34\" style=\"stroke:#009af9; stroke-width:3.2; stroke-opacity:1\"/>\n",
       "<line clip-path=\"url(#clip902)\" x1=\"2292.21\" y1=\"1393.34\" x2=\"2308.21\" y2=\"1393.34\" style=\"stroke:#009af9; stroke-width:3.2; stroke-opacity:1\"/>\n",
       "<polyline clip-path=\"url(#clip902)\" style=\"stroke:#e26f46; stroke-linecap:butt; stroke-linejoin:round; stroke-width:16; stroke-opacity:1; fill:none\" points=\"\n",
       "  274.149,151.871 677.762,210.754 1081.38,269.638 1484.99,328.521 1888.6,387.404 2292.21,446.288 \n",
       "  \"/>\n",
       "<path clip-path=\"url(#clip900)\" d=\"\n",
       "M1677.27 250.328 L2281.45 250.328 L2281.45 94.8081 L1677.27 94.8081  Z\n",
       "  \" fill=\"#ffffff\" fill-rule=\"evenodd\" fill-opacity=\"1\"/>\n",
       "<polyline clip-path=\"url(#clip900)\" style=\"stroke:#000000; stroke-linecap:butt; stroke-linejoin:round; stroke-width:4; stroke-opacity:1; fill:none\" points=\"\n",
       "  1677.27,250.328 2281.45,250.328 2281.45,94.8081 1677.27,94.8081 1677.27,250.328 \n",
       "  \"/>\n",
       "<polyline clip-path=\"url(#clip900)\" style=\"stroke:#009af9; stroke-linecap:butt; stroke-linejoin:round; stroke-width:4; stroke-opacity:1; fill:none\" points=\"\n",
       "  1701.03,146.648 1843.64,146.648 \n",
       "  \"/>\n",
       "<line clip-path=\"url(#clip900)\" x1=\"1772.34\" y1=\"146.648\" x2=\"1772.34\" y2=\"121.048\" style=\"stroke:#009af9; stroke-width:5.12; stroke-opacity:1\"/>\n",
       "<line clip-path=\"url(#clip900)\" x1=\"1772.34\" y1=\"146.648\" x2=\"1746.74\" y2=\"146.648\" style=\"stroke:#009af9; stroke-width:5.12; stroke-opacity:1\"/>\n",
       "<line clip-path=\"url(#clip900)\" x1=\"1772.34\" y1=\"146.648\" x2=\"1772.34\" y2=\"172.248\" style=\"stroke:#009af9; stroke-width:5.12; stroke-opacity:1\"/>\n",
       "<line clip-path=\"url(#clip900)\" x1=\"1772.34\" y1=\"146.648\" x2=\"1797.94\" y2=\"146.648\" style=\"stroke:#009af9; stroke-width:5.12; stroke-opacity:1\"/>\n",
       "<path clip-path=\"url(#clip900)\" d=\"M1886.32 150.664 Q1886.32 146.035 1884.4 143.488 Q1882.5 140.942 1879.06 140.942 Q1875.63 140.942 1873.71 143.488 Q1871.81 146.035 1871.81 150.664 Q1871.81 155.271 1873.71 157.817 Q1875.63 160.363 1879.06 160.363 Q1882.5 160.363 1884.4 157.817 Q1886.32 155.271 1886.32 150.664 M1890.58 160.711 Q1890.58 167.331 1887.64 170.548 Q1884.7 173.789 1878.64 173.789 Q1876.39 173.789 1874.4 173.442 Q1872.41 173.118 1870.54 172.423 L1870.54 168.28 Q1872.41 169.298 1874.24 169.785 Q1876.07 170.271 1877.97 170.271 Q1882.16 170.271 1884.24 168.072 Q1886.32 165.896 1886.32 161.474 L1886.32 159.368 Q1885 161.66 1882.94 162.794 Q1880.88 163.928 1878.01 163.928 Q1873.24 163.928 1870.33 160.294 Q1867.41 156.66 1867.41 150.664 Q1867.41 144.646 1870.33 141.012 Q1873.24 137.377 1878.01 137.377 Q1880.88 137.377 1882.94 138.512 Q1885 139.646 1886.32 141.937 L1886.32 138.002 L1890.58 138.002 L1890.58 160.711 Z\" fill=\"#000000\" fill-rule=\"evenodd\" fill-opacity=\"1\" /><path clip-path=\"url(#clip900)\" d=\"M1911.14 150.896 Q1905.98 150.896 1903.99 152.076 Q1901.99 153.257 1901.99 156.104 Q1901.99 158.373 1903.48 159.715 Q1904.98 161.035 1907.55 161.035 Q1911.09 161.035 1913.22 158.535 Q1915.37 156.011 1915.37 151.845 L1915.37 150.896 L1911.14 150.896 M1919.63 149.137 L1919.63 163.928 L1915.37 163.928 L1915.37 159.993 Q1913.92 162.354 1911.74 163.488 Q1909.56 164.599 1906.42 164.599 Q1902.43 164.599 1900.07 162.377 Q1897.74 160.132 1897.74 156.382 Q1897.74 152.007 1900.65 149.785 Q1903.59 147.562 1909.4 147.562 L1915.37 147.562 L1915.37 147.146 Q1915.37 144.206 1913.43 142.609 Q1911.51 140.988 1908.01 140.988 Q1905.79 140.988 1903.68 141.521 Q1901.58 142.053 1899.63 143.118 L1899.63 139.183 Q1901.97 138.28 1904.17 137.84 Q1906.37 137.377 1908.45 137.377 Q1914.08 137.377 1916.86 140.294 Q1919.63 143.211 1919.63 149.137 Z\" fill=\"#000000\" fill-rule=\"evenodd\" fill-opacity=\"1\" /><path clip-path=\"url(#clip900)\" d=\"M1927.97 153.697 L1927.97 138.002 L1932.23 138.002 L1932.23 153.535 Q1932.23 157.215 1933.66 159.067 Q1935.1 160.896 1937.97 160.896 Q1941.42 160.896 1943.41 158.697 Q1945.42 156.498 1945.42 152.701 L1945.42 138.002 L1949.68 138.002 L1949.68 163.928 L1945.42 163.928 L1945.42 159.947 Q1943.87 162.308 1941.81 163.465 Q1939.77 164.599 1937.06 164.599 Q1932.6 164.599 1930.28 161.822 Q1927.97 159.044 1927.97 153.697 M1938.68 137.377 L1938.68 137.377 Z\" fill=\"#000000\" fill-rule=\"evenodd\" fill-opacity=\"1\" /><path clip-path=\"url(#clip900)\" d=\"M1974.98 138.766 L1974.98 142.794 Q1973.17 141.868 1971.23 141.405 Q1969.29 140.942 1967.2 140.942 Q1964.03 140.942 1962.43 141.914 Q1960.86 142.887 1960.86 144.831 Q1960.86 146.312 1961.99 147.169 Q1963.13 148.002 1966.55 148.766 L1968.01 149.09 Q1972.55 150.062 1974.45 151.845 Q1976.37 153.604 1976.37 156.775 Q1976.37 160.386 1973.5 162.493 Q1970.65 164.599 1965.65 164.599 Q1963.57 164.599 1961.3 164.183 Q1959.05 163.789 1956.55 162.979 L1956.55 158.581 Q1958.92 159.808 1961.21 160.433 Q1963.5 161.035 1965.74 161.035 Q1968.75 161.035 1970.37 160.016 Q1971.99 158.974 1971.99 157.099 Q1971.99 155.363 1970.81 154.437 Q1969.66 153.512 1965.7 152.655 L1964.22 152.308 Q1960.26 151.474 1958.5 149.762 Q1956.74 148.025 1956.74 145.016 Q1956.74 141.359 1959.33 139.368 Q1961.93 137.377 1966.69 137.377 Q1969.05 137.377 1971.14 137.725 Q1973.22 138.072 1974.98 138.766 Z\" fill=\"#000000\" fill-rule=\"evenodd\" fill-opacity=\"1\" /><path clip-path=\"url(#clip900)\" d=\"M1999.68 138.766 L1999.68 142.794 Q1997.87 141.868 1995.93 141.405 Q1993.99 140.942 1991.9 140.942 Q1988.73 140.942 1987.13 141.914 Q1985.56 142.887 1985.56 144.831 Q1985.56 146.312 1986.69 147.169 Q1987.83 148.002 1991.25 148.766 L1992.71 149.09 Q1997.25 150.062 1999.15 151.845 Q2001.07 153.604 2001.07 156.775 Q2001.07 160.386 1998.2 162.493 Q1995.35 164.599 1990.35 164.599 Q1988.27 164.599 1986 164.183 Q1983.75 163.789 1981.25 162.979 L1981.25 158.581 Q1983.61 159.808 1985.91 160.433 Q1988.2 161.035 1990.44 161.035 Q1993.45 161.035 1995.07 160.016 Q1996.69 158.974 1996.69 157.099 Q1996.69 155.363 1995.51 154.437 Q1994.36 153.512 1990.4 152.655 L1988.92 152.308 Q1984.96 151.474 1983.2 149.762 Q1981.44 148.025 1981.44 145.016 Q1981.44 141.359 1984.03 139.368 Q1986.62 137.377 1991.39 137.377 Q1993.75 137.377 1995.84 137.725 Q1997.92 138.072 1999.68 138.766 Z\" fill=\"#000000\" fill-rule=\"evenodd\" fill-opacity=\"1\" /><path clip-path=\"url(#clip900)\" d=\"M2027.55 171.798 L2027.55 175.109 L2002.92 175.109 L2002.92 171.798 L2027.55 171.798 Z\" fill=\"#000000\" fill-rule=\"evenodd\" fill-opacity=\"1\" /><path clip-path=\"url(#clip900)\" d=\"M2031.55 127.91 L2035.81 127.91 L2035.81 163.928 L2031.55 163.928 L2031.55 127.91 Z\" fill=\"#000000\" fill-rule=\"evenodd\" fill-opacity=\"1\" /><path clip-path=\"url(#clip900)\" d=\"M2066.9 149.9 L2066.9 151.984 L2047.32 151.984 Q2047.6 156.382 2049.96 158.697 Q2052.34 160.988 2056.58 160.988 Q2059.03 160.988 2061.32 160.386 Q2063.64 159.785 2065.91 158.581 L2065.91 162.609 Q2063.61 163.581 2061.21 164.09 Q2058.8 164.599 2056.32 164.599 Q2050.12 164.599 2046.48 160.988 Q2042.87 157.377 2042.87 151.22 Q2042.87 144.854 2046.3 141.127 Q2049.75 137.377 2055.58 137.377 Q2060.81 137.377 2063.85 140.757 Q2066.9 144.113 2066.9 149.9 M2062.64 148.65 Q2062.6 145.155 2060.67 143.072 Q2058.78 140.988 2055.63 140.988 Q2052.06 140.988 2049.91 143.002 Q2047.78 145.016 2047.46 148.674 L2062.64 148.65 Z\" fill=\"#000000\" fill-rule=\"evenodd\" fill-opacity=\"1\" /><path clip-path=\"url(#clip900)\" d=\"M2090.95 150.664 Q2090.95 146.035 2089.03 143.488 Q2087.13 140.942 2083.68 140.942 Q2080.26 140.942 2078.34 143.488 Q2076.44 146.035 2076.44 150.664 Q2076.44 155.271 2078.34 157.817 Q2080.26 160.363 2083.68 160.363 Q2087.13 160.363 2089.03 157.817 Q2090.95 155.271 2090.95 150.664 M2095.21 160.711 Q2095.21 167.331 2092.27 170.548 Q2089.33 173.789 2083.27 173.789 Q2081.02 173.789 2079.03 173.442 Q2077.04 173.118 2075.17 172.423 L2075.17 168.28 Q2077.04 169.298 2078.87 169.785 Q2080.7 170.271 2082.6 170.271 Q2086.79 170.271 2088.87 168.072 Q2090.95 165.896 2090.95 161.474 L2090.95 159.368 Q2089.63 161.66 2087.57 162.794 Q2085.51 163.928 2082.64 163.928 Q2077.87 163.928 2074.96 160.294 Q2072.04 156.66 2072.04 150.664 Q2072.04 144.646 2074.96 141.012 Q2077.87 137.377 2082.64 137.377 Q2085.51 137.377 2087.57 138.512 Q2089.63 139.646 2090.95 141.937 L2090.95 138.002 L2095.21 138.002 L2095.21 160.711 Z\" fill=\"#000000\" fill-rule=\"evenodd\" fill-opacity=\"1\" /><path clip-path=\"url(#clip900)\" d=\"M2126.16 149.9 L2126.16 151.984 L2106.58 151.984 Q2106.85 156.382 2109.22 158.697 Q2111.6 160.988 2115.84 160.988 Q2118.29 160.988 2120.58 160.386 Q2122.9 159.785 2125.16 158.581 L2125.16 162.609 Q2122.87 163.581 2120.47 164.09 Q2118.06 164.599 2115.58 164.599 Q2109.38 164.599 2105.74 160.988 Q2102.13 157.377 2102.13 151.22 Q2102.13 144.854 2105.56 141.127 Q2109.01 137.377 2114.84 137.377 Q2120.07 137.377 2123.1 140.757 Q2126.16 144.113 2126.16 149.9 M2121.9 148.65 Q2121.85 145.155 2119.93 143.072 Q2118.04 140.988 2114.89 140.988 Q2111.32 140.988 2109.17 143.002 Q2107.04 145.016 2106.72 148.674 L2121.9 148.65 Z\" fill=\"#000000\" fill-rule=\"evenodd\" fill-opacity=\"1\" /><path clip-path=\"url(#clip900)\" d=\"M2154.7 148.28 L2154.7 163.928 L2150.44 163.928 L2150.44 148.419 Q2150.44 144.738 2149.01 142.91 Q2147.57 141.081 2144.7 141.081 Q2141.25 141.081 2139.26 143.28 Q2137.27 145.479 2137.27 149.275 L2137.27 163.928 L2132.99 163.928 L2132.99 138.002 L2137.27 138.002 L2137.27 142.03 Q2138.8 139.692 2140.86 138.535 Q2142.94 137.377 2145.65 137.377 Q2150.12 137.377 2152.41 140.155 Q2154.7 142.91 2154.7 148.28 Z\" fill=\"#000000\" fill-rule=\"evenodd\" fill-opacity=\"1\" /><path clip-path=\"url(#clip900)\" d=\"M2180.26 141.937 L2180.26 127.91 L2184.52 127.91 L2184.52 163.928 L2180.26 163.928 L2180.26 160.039 Q2178.91 162.354 2176.85 163.488 Q2174.82 164.599 2171.95 164.599 Q2167.25 164.599 2164.29 160.849 Q2161.35 157.099 2161.35 150.988 Q2161.35 144.877 2164.29 141.127 Q2167.25 137.377 2171.95 137.377 Q2174.82 137.377 2176.85 138.512 Q2178.91 139.623 2180.26 141.937 M2165.74 150.988 Q2165.74 155.687 2167.66 158.373 Q2169.61 161.035 2172.99 161.035 Q2176.37 161.035 2178.31 158.373 Q2180.26 155.687 2180.26 150.988 Q2180.26 146.289 2178.31 143.627 Q2176.37 140.942 2172.99 140.942 Q2169.61 140.942 2167.66 143.627 Q2165.74 146.289 2165.74 150.988 Z\" fill=\"#000000\" fill-rule=\"evenodd\" fill-opacity=\"1\" /><path clip-path=\"url(#clip900)\" d=\"M2208.31 141.984 Q2207.6 141.567 2206.74 141.382 Q2205.91 141.174 2204.89 141.174 Q2201.28 141.174 2199.33 143.535 Q2197.41 145.873 2197.41 150.271 L2197.41 163.928 L2193.13 163.928 L2193.13 138.002 L2197.41 138.002 L2197.41 142.03 Q2198.75 139.669 2200.91 138.535 Q2203.06 137.377 2206.14 137.377 Q2206.58 137.377 2207.11 137.447 Q2207.64 137.493 2208.29 137.609 L2208.31 141.984 Z\" fill=\"#000000\" fill-rule=\"evenodd\" fill-opacity=\"1\" /><path clip-path=\"url(#clip900)\" d=\"M2233.91 149.9 L2233.91 151.984 L2214.33 151.984 Q2214.61 156.382 2216.97 158.697 Q2219.35 160.988 2223.59 160.988 Q2226.04 160.988 2228.34 160.386 Q2230.65 159.785 2232.92 158.581 L2232.92 162.609 Q2230.63 163.581 2228.22 164.09 Q2225.81 164.599 2223.34 164.599 Q2217.13 164.599 2213.5 160.988 Q2209.89 157.377 2209.89 151.22 Q2209.89 144.854 2213.31 141.127 Q2216.76 137.377 2222.59 137.377 Q2227.83 137.377 2230.86 140.757 Q2233.91 144.113 2233.91 149.9 M2229.66 148.65 Q2229.61 145.155 2227.69 143.072 Q2225.79 140.988 2222.64 140.988 Q2219.08 140.988 2216.92 143.002 Q2214.79 145.016 2214.47 148.674 L2229.66 148.65 Z\" fill=\"#000000\" fill-rule=\"evenodd\" fill-opacity=\"1\" /><polyline clip-path=\"url(#clip900)\" style=\"stroke:#e26f46; stroke-linecap:butt; stroke-linejoin:round; stroke-width:4; stroke-opacity:1; fill:none\" points=\"\n",
       "  1701.03,198.488 1843.64,198.488 \n",
       "  \"/>\n",
       "<path clip-path=\"url(#clip900)\" d=\"M1881.25 218.176 Q1879.45 222.805 1877.74 224.217 Q1876.02 225.629 1873.15 225.629 L1869.75 225.629 L1869.75 222.064 L1872.25 222.064 Q1874.01 222.064 1874.98 221.231 Q1875.95 220.398 1877.13 217.296 L1877.9 215.351 L1867.41 189.842 L1871.93 189.842 L1880.03 210.12 L1888.13 189.842 L1892.64 189.842 L1881.25 218.176 Z\" fill=\"#000000\" fill-rule=\"evenodd\" fill-opacity=\"1\" /><path clip-path=\"url(#clip900)\" d=\"M1903.15 211.833 L1919.47 211.833 L1919.47 215.768 L1897.53 215.768 L1897.53 211.833 Q1900.19 209.078 1904.77 204.449 Q1909.38 199.796 1910.56 198.453 Q1912.8 195.93 1913.68 194.194 Q1914.59 192.435 1914.59 190.745 Q1914.59 187.99 1912.64 186.254 Q1910.72 184.518 1907.62 184.518 Q1905.42 184.518 1902.97 185.282 Q1900.54 186.046 1897.76 187.597 L1897.76 182.875 Q1900.58 181.741 1903.04 181.162 Q1905.49 180.583 1907.53 180.583 Q1912.9 180.583 1916.09 183.268 Q1919.29 185.953 1919.29 190.444 Q1919.29 192.574 1918.48 194.495 Q1917.69 196.393 1915.58 198.986 Q1915 199.657 1911.9 202.875 Q1908.8 206.069 1903.15 211.833 Z\" fill=\"#000000\" fill-rule=\"evenodd\" fill-opacity=\"1\" /></svg>\n"
      ]
     },
     "execution_count": 6,
     "metadata": {},
     "output_type": "execute_result"
    }
   ],
   "source": [
    "plot_quad_accuracy(exp, exp, gauss_legendre)\n",
    "plot_quad_accuracy(x -> 11*x^10, x -> x^11, gauss_legendre)\n"
   ]
  },
  {
   "cell_type": "markdown",
   "id": "11392712",
   "metadata": {
    "slideshow": {
     "slide_type": "slide"
    }
   },
   "source": [
    "# Legendre polynomials"
   ]
  },
  {
   "cell_type": "code",
   "execution_count": 30,
   "id": "f270d3b5",
   "metadata": {
    "cell_style": "split"
   },
   "outputs": [
    {
     "data": {
      "text/plain": [
       "vander_legendre (generic function with 2 methods)"
      ]
     },
     "execution_count": 30,
     "metadata": {},
     "output_type": "execute_result"
    }
   ],
   "source": [
    "function vander_legendre(x, k=nothing)\n",
    "    if isnothing(k)\n",
    "        k = length(x) # Square by default\n",
    "    end\n",
    "    m = length(x)\n",
    "    Q = ones(m, k)\n",
    "    Q[:, 2] = x\n",
    "    for n in 1:k-2\n",
    "        Q[:, n+2] = ((2*n + 1) * x .* Q[:, n+1] - n * Q[:, n]) / (n + 1)\n",
    "    end\n",
    "    Q\n",
    "end"
   ]
  },
  {
   "cell_type": "code",
   "execution_count": 31,
   "id": "6207e3f9",
   "metadata": {
    "cell_style": "split"
   },
   "outputs": [
    {
     "data": {
      "image/svg+xml": [
       "<?xml version=\"1.0\" encoding=\"utf-8\"?>\n",
       "<svg xmlns=\"http://www.w3.org/2000/svg\" xmlns:xlink=\"http://www.w3.org/1999/xlink\" width=\"600\" height=\"400\" viewBox=\"0 0 2400 1600\">\n",
       "<defs>\n",
       "  <clipPath id=\"clip300\">\n",
       "    <rect x=\"0\" y=\"0\" width=\"2400\" height=\"1600\"/>\n",
       "  </clipPath>\n",
       "</defs>\n",
       "<path clip-path=\"url(#clip300)\" d=\"\n",
       "M0 1600 L2400 1600 L2400 0 L0 0  Z\n",
       "  \" fill=\"#ffffff\" fill-rule=\"evenodd\" fill-opacity=\"1\"/>\n",
       "<defs>\n",
       "  <clipPath id=\"clip301\">\n",
       "    <rect x=\"480\" y=\"0\" width=\"1681\" height=\"1600\"/>\n",
       "  </clipPath>\n",
       "</defs>\n",
       "<path clip-path=\"url(#clip300)\" d=\"\n",
       "M193.936 1486.45 L2352.76 1486.45 L2352.76 47.2441 L193.936 47.2441  Z\n",
       "  \" fill=\"#ffffff\" fill-rule=\"evenodd\" fill-opacity=\"1\"/>\n",
       "<defs>\n",
       "  <clipPath id=\"clip302\">\n",
       "    <rect x=\"193\" y=\"47\" width=\"2160\" height=\"1440\"/>\n",
       "  </clipPath>\n",
       "</defs>\n",
       "<polyline clip-path=\"url(#clip302)\" style=\"stroke:#000000; stroke-linecap:butt; stroke-linejoin:round; stroke-width:2; stroke-opacity:0.1; fill:none\" points=\"\n",
       "  255.035,1486.45 255.035,47.2441 \n",
       "  \"/>\n",
       "<polyline clip-path=\"url(#clip302)\" style=\"stroke:#000000; stroke-linecap:butt; stroke-linejoin:round; stroke-width:2; stroke-opacity:0.1; fill:none\" points=\"\n",
       "  764.19,1486.45 764.19,47.2441 \n",
       "  \"/>\n",
       "<polyline clip-path=\"url(#clip302)\" style=\"stroke:#000000; stroke-linecap:butt; stroke-linejoin:round; stroke-width:2; stroke-opacity:0.1; fill:none\" points=\"\n",
       "  1273.35,1486.45 1273.35,47.2441 \n",
       "  \"/>\n",
       "<polyline clip-path=\"url(#clip302)\" style=\"stroke:#000000; stroke-linecap:butt; stroke-linejoin:round; stroke-width:2; stroke-opacity:0.1; fill:none\" points=\"\n",
       "  1782.5,1486.45 1782.5,47.2441 \n",
       "  \"/>\n",
       "<polyline clip-path=\"url(#clip302)\" style=\"stroke:#000000; stroke-linecap:butt; stroke-linejoin:round; stroke-width:2; stroke-opacity:0.1; fill:none\" points=\"\n",
       "  2291.66,1486.45 2291.66,47.2441 \n",
       "  \"/>\n",
       "<polyline clip-path=\"url(#clip300)\" style=\"stroke:#000000; stroke-linecap:butt; stroke-linejoin:round; stroke-width:4; stroke-opacity:1; fill:none\" points=\"\n",
       "  193.936,1486.45 2352.76,1486.45 \n",
       "  \"/>\n",
       "<polyline clip-path=\"url(#clip300)\" style=\"stroke:#000000; stroke-linecap:butt; stroke-linejoin:round; stroke-width:4; stroke-opacity:1; fill:none\" points=\"\n",
       "  255.035,1486.45 255.035,1467.55 \n",
       "  \"/>\n",
       "<polyline clip-path=\"url(#clip300)\" style=\"stroke:#000000; stroke-linecap:butt; stroke-linejoin:round; stroke-width:4; stroke-opacity:1; fill:none\" points=\"\n",
       "  764.19,1486.45 764.19,1467.55 \n",
       "  \"/>\n",
       "<polyline clip-path=\"url(#clip300)\" style=\"stroke:#000000; stroke-linecap:butt; stroke-linejoin:round; stroke-width:4; stroke-opacity:1; fill:none\" points=\"\n",
       "  1273.35,1486.45 1273.35,1467.55 \n",
       "  \"/>\n",
       "<polyline clip-path=\"url(#clip300)\" style=\"stroke:#000000; stroke-linecap:butt; stroke-linejoin:round; stroke-width:4; stroke-opacity:1; fill:none\" points=\"\n",
       "  1782.5,1486.45 1782.5,1467.55 \n",
       "  \"/>\n",
       "<polyline clip-path=\"url(#clip300)\" style=\"stroke:#000000; stroke-linecap:butt; stroke-linejoin:round; stroke-width:4; stroke-opacity:1; fill:none\" points=\"\n",
       "  2291.66,1486.45 2291.66,1467.55 \n",
       "  \"/>\n",
       "<path clip-path=\"url(#clip300)\" d=\"M201.563 1532.02 L231.239 1532.02 L231.239 1535.95 L201.563 1535.95 L201.563 1532.02 Z\" fill=\"#000000\" fill-rule=\"evenodd\" fill-opacity=\"1\" /><path clip-path=\"url(#clip300)\" d=\"M242.141 1544.91 L249.78 1544.91 L249.78 1518.55 L241.47 1520.21 L241.47 1515.95 L249.734 1514.29 L254.41 1514.29 L254.41 1544.91 L262.049 1544.91 L262.049 1548.85 L242.141 1548.85 L242.141 1544.91 Z\" fill=\"#000000\" fill-rule=\"evenodd\" fill-opacity=\"1\" /><path clip-path=\"url(#clip300)\" d=\"M271.493 1542.97 L276.377 1542.97 L276.377 1548.85 L271.493 1548.85 L271.493 1542.97 Z\" fill=\"#000000\" fill-rule=\"evenodd\" fill-opacity=\"1\" /><path clip-path=\"url(#clip300)\" d=\"M296.562 1517.37 Q292.951 1517.37 291.122 1520.93 Q289.317 1524.47 289.317 1531.6 Q289.317 1538.71 291.122 1542.27 Q292.951 1545.82 296.562 1545.82 Q300.196 1545.82 302.002 1542.27 Q303.831 1538.71 303.831 1531.6 Q303.831 1524.47 302.002 1520.93 Q300.196 1517.37 296.562 1517.37 M296.562 1513.66 Q302.372 1513.66 305.428 1518.27 Q308.507 1522.85 308.507 1531.6 Q308.507 1540.33 305.428 1544.94 Q302.372 1549.52 296.562 1549.52 Q290.752 1549.52 287.673 1544.94 Q284.618 1540.33 284.618 1531.6 Q284.618 1522.85 287.673 1518.27 Q290.752 1513.66 296.562 1513.66 Z\" fill=\"#000000\" fill-rule=\"evenodd\" fill-opacity=\"1\" /><path clip-path=\"url(#clip300)\" d=\"M711.216 1532.02 L740.892 1532.02 L740.892 1535.95 L711.216 1535.95 L711.216 1532.02 Z\" fill=\"#000000\" fill-rule=\"evenodd\" fill-opacity=\"1\" /><path clip-path=\"url(#clip300)\" d=\"M760.984 1517.37 Q757.373 1517.37 755.545 1520.93 Q753.739 1524.47 753.739 1531.6 Q753.739 1538.71 755.545 1542.27 Q757.373 1545.82 760.984 1545.82 Q764.619 1545.82 766.424 1542.27 Q768.253 1538.71 768.253 1531.6 Q768.253 1524.47 766.424 1520.93 Q764.619 1517.37 760.984 1517.37 M760.984 1513.66 Q766.794 1513.66 769.85 1518.27 Q772.929 1522.85 772.929 1531.6 Q772.929 1540.33 769.85 1544.94 Q766.794 1549.52 760.984 1549.52 Q755.174 1549.52 752.095 1544.94 Q749.04 1540.33 749.04 1531.6 Q749.04 1522.85 752.095 1518.27 Q755.174 1513.66 760.984 1513.66 Z\" fill=\"#000000\" fill-rule=\"evenodd\" fill-opacity=\"1\" /><path clip-path=\"url(#clip300)\" d=\"M781.146 1542.97 L786.03 1542.97 L786.03 1548.85 L781.146 1548.85 L781.146 1542.97 Z\" fill=\"#000000\" fill-rule=\"evenodd\" fill-opacity=\"1\" /><path clip-path=\"url(#clip300)\" d=\"M796.262 1514.29 L814.618 1514.29 L814.618 1518.22 L800.544 1518.22 L800.544 1526.7 Q801.563 1526.35 802.581 1526.19 Q803.6 1526 804.618 1526 Q810.405 1526 813.785 1529.17 Q817.165 1532.34 817.165 1537.76 Q817.165 1543.34 813.692 1546.44 Q810.22 1549.52 803.901 1549.52 Q801.725 1549.52 799.456 1549.15 Q797.211 1548.78 794.804 1548.04 L794.804 1543.34 Q796.887 1544.47 799.109 1545.03 Q801.331 1545.58 803.808 1545.58 Q807.813 1545.58 810.151 1543.48 Q812.489 1541.37 812.489 1537.76 Q812.489 1534.15 810.151 1532.04 Q807.813 1529.94 803.808 1529.94 Q801.933 1529.94 800.058 1530.35 Q798.206 1530.77 796.262 1531.65 L796.262 1514.29 Z\" fill=\"#000000\" fill-rule=\"evenodd\" fill-opacity=\"1\" /><path clip-path=\"url(#clip300)\" d=\"M1250.73 1517.37 Q1247.12 1517.37 1245.29 1520.93 Q1243.49 1524.47 1243.49 1531.6 Q1243.49 1538.71 1245.29 1542.27 Q1247.12 1545.82 1250.73 1545.82 Q1254.36 1545.82 1256.17 1542.27 Q1258 1538.71 1258 1531.6 Q1258 1524.47 1256.17 1520.93 Q1254.36 1517.37 1250.73 1517.37 M1250.73 1513.66 Q1256.54 1513.66 1259.6 1518.27 Q1262.67 1522.85 1262.67 1531.6 Q1262.67 1540.33 1259.6 1544.94 Q1256.54 1549.52 1250.73 1549.52 Q1244.92 1549.52 1241.84 1544.94 Q1238.79 1540.33 1238.79 1531.6 Q1238.79 1522.85 1241.84 1518.27 Q1244.92 1513.66 1250.73 1513.66 Z\" fill=\"#000000\" fill-rule=\"evenodd\" fill-opacity=\"1\" /><path clip-path=\"url(#clip300)\" d=\"M1270.89 1542.97 L1275.78 1542.97 L1275.78 1548.85 L1270.89 1548.85 L1270.89 1542.97 Z\" fill=\"#000000\" fill-rule=\"evenodd\" fill-opacity=\"1\" /><path clip-path=\"url(#clip300)\" d=\"M1295.96 1517.37 Q1292.35 1517.37 1290.52 1520.93 Q1288.72 1524.47 1288.72 1531.6 Q1288.72 1538.71 1290.52 1542.27 Q1292.35 1545.82 1295.96 1545.82 Q1299.6 1545.82 1301.4 1542.27 Q1303.23 1538.71 1303.23 1531.6 Q1303.23 1524.47 1301.4 1520.93 Q1299.6 1517.37 1295.96 1517.37 M1295.96 1513.66 Q1301.77 1513.66 1304.83 1518.27 Q1307.91 1522.85 1307.91 1531.6 Q1307.91 1540.33 1304.83 1544.94 Q1301.77 1549.52 1295.96 1549.52 Q1290.15 1549.52 1287.07 1544.94 Q1284.02 1540.33 1284.02 1531.6 Q1284.02 1522.85 1287.07 1518.27 Q1290.15 1513.66 1295.96 1513.66 Z\" fill=\"#000000\" fill-rule=\"evenodd\" fill-opacity=\"1\" /><path clip-path=\"url(#clip300)\" d=\"M1760.38 1517.37 Q1756.77 1517.37 1754.94 1520.93 Q1753.14 1524.47 1753.14 1531.6 Q1753.14 1538.71 1754.94 1542.27 Q1756.77 1545.82 1760.38 1545.82 Q1764.02 1545.82 1765.82 1542.27 Q1767.65 1538.71 1767.65 1531.6 Q1767.65 1524.47 1765.82 1520.93 Q1764.02 1517.37 1760.38 1517.37 M1760.38 1513.66 Q1766.19 1513.66 1769.25 1518.27 Q1772.33 1522.85 1772.33 1531.6 Q1772.33 1540.33 1769.25 1544.94 Q1766.19 1549.52 1760.38 1549.52 Q1754.57 1549.52 1751.49 1544.94 Q1748.44 1540.33 1748.44 1531.6 Q1748.44 1522.85 1751.49 1518.27 Q1754.57 1513.66 1760.38 1513.66 Z\" fill=\"#000000\" fill-rule=\"evenodd\" fill-opacity=\"1\" /><path clip-path=\"url(#clip300)\" d=\"M1780.55 1542.97 L1785.43 1542.97 L1785.43 1548.85 L1780.55 1548.85 L1780.55 1542.97 Z\" fill=\"#000000\" fill-rule=\"evenodd\" fill-opacity=\"1\" /><path clip-path=\"url(#clip300)\" d=\"M1795.66 1514.29 L1814.02 1514.29 L1814.02 1518.22 L1799.94 1518.22 L1799.94 1526.7 Q1800.96 1526.35 1801.98 1526.19 Q1803 1526 1804.02 1526 Q1809.8 1526 1813.18 1529.17 Q1816.56 1532.34 1816.56 1537.76 Q1816.56 1543.34 1813.09 1546.44 Q1809.62 1549.52 1803.3 1549.52 Q1801.12 1549.52 1798.86 1549.15 Q1796.61 1548.78 1794.2 1548.04 L1794.2 1543.34 Q1796.29 1544.47 1798.51 1545.03 Q1800.73 1545.58 1803.21 1545.58 Q1807.21 1545.58 1809.55 1543.48 Q1811.89 1541.37 1811.89 1537.76 Q1811.89 1534.15 1809.55 1532.04 Q1807.21 1529.94 1803.21 1529.94 Q1801.33 1529.94 1799.46 1530.35 Q1797.61 1530.77 1795.66 1531.65 L1795.66 1514.29 Z\" fill=\"#000000\" fill-rule=\"evenodd\" fill-opacity=\"1\" /><path clip-path=\"url(#clip300)\" d=\"M2258.81 1544.91 L2266.45 1544.91 L2266.45 1518.55 L2258.14 1520.21 L2258.14 1515.95 L2266.4 1514.29 L2271.08 1514.29 L2271.08 1544.91 L2278.72 1544.91 L2278.72 1548.85 L2258.81 1548.85 L2258.81 1544.91 Z\" fill=\"#000000\" fill-rule=\"evenodd\" fill-opacity=\"1\" /><path clip-path=\"url(#clip300)\" d=\"M2288.16 1542.97 L2293.05 1542.97 L2293.05 1548.85 L2288.16 1548.85 L2288.16 1542.97 Z\" fill=\"#000000\" fill-rule=\"evenodd\" fill-opacity=\"1\" /><path clip-path=\"url(#clip300)\" d=\"M2313.23 1517.37 Q2309.62 1517.37 2307.79 1520.93 Q2305.99 1524.47 2305.99 1531.6 Q2305.99 1538.71 2307.79 1542.27 Q2309.62 1545.82 2313.23 1545.82 Q2316.87 1545.82 2318.67 1542.27 Q2320.5 1538.71 2320.5 1531.6 Q2320.5 1524.47 2318.67 1520.93 Q2316.87 1517.37 2313.23 1517.37 M2313.23 1513.66 Q2319.04 1513.66 2322.1 1518.27 Q2325.18 1522.85 2325.18 1531.6 Q2325.18 1540.33 2322.1 1544.94 Q2319.04 1549.52 2313.23 1549.52 Q2307.42 1549.52 2304.34 1544.94 Q2301.29 1540.33 2301.29 1531.6 Q2301.29 1522.85 2304.34 1518.27 Q2307.42 1513.66 2313.23 1513.66 Z\" fill=\"#000000\" fill-rule=\"evenodd\" fill-opacity=\"1\" /><polyline clip-path=\"url(#clip302)\" style=\"stroke:#000000; stroke-linecap:butt; stroke-linejoin:round; stroke-width:2; stroke-opacity:0.1; fill:none\" points=\"\n",
       "  193.936,1445.72 2352.76,1445.72 \n",
       "  \"/>\n",
       "<polyline clip-path=\"url(#clip302)\" style=\"stroke:#000000; stroke-linecap:butt; stroke-linejoin:round; stroke-width:2; stroke-opacity:0.1; fill:none\" points=\"\n",
       "  193.936,1106.28 2352.76,1106.28 \n",
       "  \"/>\n",
       "<polyline clip-path=\"url(#clip302)\" style=\"stroke:#000000; stroke-linecap:butt; stroke-linejoin:round; stroke-width:2; stroke-opacity:0.1; fill:none\" points=\"\n",
       "  193.936,766.846 2352.76,766.846 \n",
       "  \"/>\n",
       "<polyline clip-path=\"url(#clip302)\" style=\"stroke:#000000; stroke-linecap:butt; stroke-linejoin:round; stroke-width:2; stroke-opacity:0.1; fill:none\" points=\"\n",
       "  193.936,427.411 2352.76,427.411 \n",
       "  \"/>\n",
       "<polyline clip-path=\"url(#clip302)\" style=\"stroke:#000000; stroke-linecap:butt; stroke-linejoin:round; stroke-width:2; stroke-opacity:0.1; fill:none\" points=\"\n",
       "  193.936,87.9763 2352.76,87.9763 \n",
       "  \"/>\n",
       "<polyline clip-path=\"url(#clip300)\" style=\"stroke:#000000; stroke-linecap:butt; stroke-linejoin:round; stroke-width:4; stroke-opacity:1; fill:none\" points=\"\n",
       "  193.936,1486.45 193.936,47.2441 \n",
       "  \"/>\n",
       "<polyline clip-path=\"url(#clip300)\" style=\"stroke:#000000; stroke-linecap:butt; stroke-linejoin:round; stroke-width:4; stroke-opacity:1; fill:none\" points=\"\n",
       "  193.936,1445.72 212.834,1445.72 \n",
       "  \"/>\n",
       "<polyline clip-path=\"url(#clip300)\" style=\"stroke:#000000; stroke-linecap:butt; stroke-linejoin:round; stroke-width:4; stroke-opacity:1; fill:none\" points=\"\n",
       "  193.936,1106.28 212.834,1106.28 \n",
       "  \"/>\n",
       "<polyline clip-path=\"url(#clip300)\" style=\"stroke:#000000; stroke-linecap:butt; stroke-linejoin:round; stroke-width:4; stroke-opacity:1; fill:none\" points=\"\n",
       "  193.936,766.846 212.834,766.846 \n",
       "  \"/>\n",
       "<polyline clip-path=\"url(#clip300)\" style=\"stroke:#000000; stroke-linecap:butt; stroke-linejoin:round; stroke-width:4; stroke-opacity:1; fill:none\" points=\"\n",
       "  193.936,427.411 212.834,427.411 \n",
       "  \"/>\n",
       "<polyline clip-path=\"url(#clip300)\" style=\"stroke:#000000; stroke-linecap:butt; stroke-linejoin:round; stroke-width:4; stroke-opacity:1; fill:none\" points=\"\n",
       "  193.936,87.9763 212.834,87.9763 \n",
       "  \"/>\n",
       "<path clip-path=\"url(#clip300)\" d=\"M50.9921 1446.17 L80.6679 1446.17 L80.6679 1450.1 L50.9921 1450.1 L50.9921 1446.17 Z\" fill=\"#000000\" fill-rule=\"evenodd\" fill-opacity=\"1\" /><path clip-path=\"url(#clip300)\" d=\"M91.5706 1459.06 L99.2095 1459.06 L99.2095 1432.69 L90.8993 1434.36 L90.8993 1430.1 L99.1632 1428.44 L103.839 1428.44 L103.839 1459.06 L111.478 1459.06 L111.478 1463 L91.5706 1463 L91.5706 1459.06 Z\" fill=\"#000000\" fill-rule=\"evenodd\" fill-opacity=\"1\" /><path clip-path=\"url(#clip300)\" d=\"M120.922 1457.12 L125.807 1457.12 L125.807 1463 L120.922 1463 L120.922 1457.12 Z\" fill=\"#000000\" fill-rule=\"evenodd\" fill-opacity=\"1\" /><path clip-path=\"url(#clip300)\" d=\"M145.992 1431.51 Q142.381 1431.51 140.552 1435.08 Q138.746 1438.62 138.746 1445.75 Q138.746 1452.86 140.552 1456.42 Q142.381 1459.96 145.992 1459.96 Q149.626 1459.96 151.431 1456.42 Q153.26 1452.86 153.26 1445.75 Q153.26 1438.62 151.431 1435.08 Q149.626 1431.51 145.992 1431.51 M145.992 1427.81 Q151.802 1427.81 154.857 1432.42 Q157.936 1437 157.936 1445.75 Q157.936 1454.48 154.857 1459.08 Q151.802 1463.67 145.992 1463.67 Q140.181 1463.67 137.103 1459.08 Q134.047 1454.48 134.047 1445.75 Q134.047 1437 137.103 1432.42 Q140.181 1427.81 145.992 1427.81 Z\" fill=\"#000000\" fill-rule=\"evenodd\" fill-opacity=\"1\" /><path clip-path=\"url(#clip300)\" d=\"M51.9875 1106.73 L81.6633 1106.73 L81.6633 1110.67 L51.9875 1110.67 L51.9875 1106.73 Z\" fill=\"#000000\" fill-rule=\"evenodd\" fill-opacity=\"1\" /><path clip-path=\"url(#clip300)\" d=\"M101.756 1092.08 Q98.1447 1092.08 96.316 1095.64 Q94.5104 1099.19 94.5104 1106.32 Q94.5104 1113.42 96.316 1116.99 Q98.1447 1120.53 101.756 1120.53 Q105.39 1120.53 107.196 1116.99 Q109.024 1113.42 109.024 1106.32 Q109.024 1099.19 107.196 1095.64 Q105.39 1092.08 101.756 1092.08 M101.756 1088.38 Q107.566 1088.38 110.621 1092.98 Q113.7 1097.57 113.7 1106.32 Q113.7 1115.04 110.621 1119.65 Q107.566 1124.23 101.756 1124.23 Q95.9456 1124.23 92.8669 1119.65 Q89.8114 1115.04 89.8114 1106.32 Q89.8114 1097.57 92.8669 1092.98 Q95.9456 1088.38 101.756 1088.38 Z\" fill=\"#000000\" fill-rule=\"evenodd\" fill-opacity=\"1\" /><path clip-path=\"url(#clip300)\" d=\"M121.918 1117.68 L126.802 1117.68 L126.802 1123.56 L121.918 1123.56 L121.918 1117.68 Z\" fill=\"#000000\" fill-rule=\"evenodd\" fill-opacity=\"1\" /><path clip-path=\"url(#clip300)\" d=\"M137.033 1089 L155.39 1089 L155.39 1092.94 L141.316 1092.94 L141.316 1101.41 Q142.334 1101.06 143.353 1100.9 Q144.371 1100.71 145.39 1100.71 Q151.177 1100.71 154.556 1103.89 Q157.936 1107.06 157.936 1112.47 Q157.936 1118.05 154.464 1121.15 Q150.992 1124.23 144.672 1124.23 Q142.496 1124.23 140.228 1123.86 Q137.982 1123.49 135.575 1122.75 L135.575 1118.05 Q137.658 1119.19 139.881 1119.74 Q142.103 1120.3 144.58 1120.3 Q148.584 1120.3 150.922 1118.19 Q153.26 1116.08 153.26 1112.47 Q153.26 1108.86 150.922 1106.76 Q148.584 1104.65 144.58 1104.65 Q142.705 1104.65 140.83 1105.07 Q138.978 1105.48 137.033 1106.36 L137.033 1089 Z\" fill=\"#000000\" fill-rule=\"evenodd\" fill-opacity=\"1\" /><path clip-path=\"url(#clip300)\" d=\"M100.76 752.645 Q97.1493 752.645 95.3206 756.209 Q93.515 759.751 93.515 766.881 Q93.515 773.987 95.3206 777.552 Q97.1493 781.094 100.76 781.094 Q104.395 781.094 106.2 777.552 Q108.029 773.987 108.029 766.881 Q108.029 759.751 106.2 756.209 Q104.395 752.645 100.76 752.645 M100.76 748.941 Q106.571 748.941 109.626 753.547 Q112.705 758.131 112.705 766.881 Q112.705 775.608 109.626 780.214 Q106.571 784.797 100.76 784.797 Q94.9502 784.797 91.8715 780.214 Q88.816 775.608 88.816 766.881 Q88.816 758.131 91.8715 753.547 Q94.9502 748.941 100.76 748.941 Z\" fill=\"#000000\" fill-rule=\"evenodd\" fill-opacity=\"1\" /><path clip-path=\"url(#clip300)\" d=\"M120.922 778.246 L125.807 778.246 L125.807 784.126 L120.922 784.126 L120.922 778.246 Z\" fill=\"#000000\" fill-rule=\"evenodd\" fill-opacity=\"1\" /><path clip-path=\"url(#clip300)\" d=\"M145.992 752.645 Q142.381 752.645 140.552 756.209 Q138.746 759.751 138.746 766.881 Q138.746 773.987 140.552 777.552 Q142.381 781.094 145.992 781.094 Q149.626 781.094 151.431 777.552 Q153.26 773.987 153.26 766.881 Q153.26 759.751 151.431 756.209 Q149.626 752.645 145.992 752.645 M145.992 748.941 Q151.802 748.941 154.857 753.547 Q157.936 758.131 157.936 766.881 Q157.936 775.608 154.857 780.214 Q151.802 784.797 145.992 784.797 Q140.181 784.797 137.103 780.214 Q134.047 775.608 134.047 766.881 Q134.047 758.131 137.103 753.547 Q140.181 748.941 145.992 748.941 Z\" fill=\"#000000\" fill-rule=\"evenodd\" fill-opacity=\"1\" /><path clip-path=\"url(#clip300)\" d=\"M101.756 413.21 Q98.1447 413.21 96.316 416.775 Q94.5104 420.316 94.5104 427.446 Q94.5104 434.552 96.316 438.117 Q98.1447 441.659 101.756 441.659 Q105.39 441.659 107.196 438.117 Q109.024 434.552 109.024 427.446 Q109.024 420.316 107.196 416.775 Q105.39 413.21 101.756 413.21 M101.756 409.506 Q107.566 409.506 110.621 414.113 Q113.7 418.696 113.7 427.446 Q113.7 436.173 110.621 440.779 Q107.566 445.362 101.756 445.362 Q95.9456 445.362 92.8669 440.779 Q89.8114 436.173 89.8114 427.446 Q89.8114 418.696 92.8669 414.113 Q95.9456 409.506 101.756 409.506 Z\" fill=\"#000000\" fill-rule=\"evenodd\" fill-opacity=\"1\" /><path clip-path=\"url(#clip300)\" d=\"M121.918 438.812 L126.802 438.812 L126.802 444.691 L121.918 444.691 L121.918 438.812 Z\" fill=\"#000000\" fill-rule=\"evenodd\" fill-opacity=\"1\" /><path clip-path=\"url(#clip300)\" d=\"M137.033 410.131 L155.39 410.131 L155.39 414.066 L141.316 414.066 L141.316 422.538 Q142.334 422.191 143.353 422.029 Q144.371 421.844 145.39 421.844 Q151.177 421.844 154.556 425.015 Q157.936 428.187 157.936 433.603 Q157.936 439.182 154.464 442.284 Q150.992 445.362 144.672 445.362 Q142.496 445.362 140.228 444.992 Q137.982 444.622 135.575 443.881 L135.575 439.182 Q137.658 440.316 139.881 440.872 Q142.103 441.427 144.58 441.427 Q148.584 441.427 150.922 439.321 Q153.26 437.214 153.26 433.603 Q153.26 429.992 150.922 427.886 Q148.584 425.779 144.58 425.779 Q142.705 425.779 140.83 426.196 Q138.978 426.613 137.033 427.492 L137.033 410.131 Z\" fill=\"#000000\" fill-rule=\"evenodd\" fill-opacity=\"1\" /><path clip-path=\"url(#clip300)\" d=\"M91.5706 101.321 L99.2095 101.321 L99.2095 74.9555 L90.8993 76.6222 L90.8993 72.3629 L99.1632 70.6963 L103.839 70.6963 L103.839 101.321 L111.478 101.321 L111.478 105.256 L91.5706 105.256 L91.5706 101.321 Z\" fill=\"#000000\" fill-rule=\"evenodd\" fill-opacity=\"1\" /><path clip-path=\"url(#clip300)\" d=\"M120.922 99.3767 L125.807 99.3767 L125.807 105.256 L120.922 105.256 L120.922 99.3767 Z\" fill=\"#000000\" fill-rule=\"evenodd\" fill-opacity=\"1\" /><path clip-path=\"url(#clip300)\" d=\"M145.992 73.775 Q142.381 73.775 140.552 77.3398 Q138.746 80.8814 138.746 88.011 Q138.746 95.1174 140.552 98.6822 Q142.381 102.224 145.992 102.224 Q149.626 102.224 151.431 98.6822 Q153.26 95.1174 153.26 88.011 Q153.26 80.8814 151.431 77.3398 Q149.626 73.775 145.992 73.775 M145.992 70.0713 Q151.802 70.0713 154.857 74.6777 Q157.936 79.261 157.936 88.011 Q157.936 96.7378 154.857 101.344 Q151.802 105.928 145.992 105.928 Q140.181 105.928 137.103 101.344 Q134.047 96.7378 134.047 88.011 Q134.047 79.261 137.103 74.6777 Q140.181 70.0713 145.992 70.0713 Z\" fill=\"#000000\" fill-rule=\"evenodd\" fill-opacity=\"1\" /><polyline clip-path=\"url(#clip302)\" style=\"stroke:#009af9; stroke-linecap:butt; stroke-linejoin:round; stroke-width:16; stroke-opacity:1; fill:none\" points=\"\n",
       "  255.035,87.9763 296.598,87.9763 338.162,87.9763 379.726,87.9763 421.29,87.9763 462.853,87.9763 504.417,87.9763 545.981,87.9763 587.544,87.9763 629.108,87.9763 \n",
       "  670.672,87.9763 712.236,87.9763 753.799,87.9763 795.363,87.9763 836.927,87.9763 878.491,87.9763 920.054,87.9763 961.618,87.9763 1003.18,87.9763 1044.75,87.9763 \n",
       "  1086.31,87.9763 1127.87,87.9763 1169.44,87.9763 1211,87.9763 1252.56,87.9763 1294.13,87.9763 1335.69,87.9763 1377.26,87.9763 1418.82,87.9763 1460.38,87.9763 \n",
       "  1501.95,87.9763 1543.51,87.9763 1585.07,87.9763 1626.64,87.9763 1668.2,87.9763 1709.77,87.9763 1751.33,87.9763 1792.89,87.9763 1834.46,87.9763 1876.02,87.9763 \n",
       "  1917.58,87.9763 1959.15,87.9763 2000.71,87.9763 2042.27,87.9763 2083.84,87.9763 2125.4,87.9763 2166.97,87.9763 2208.53,87.9763 2250.09,87.9763 2291.66,87.9763 \n",
       "  \n",
       "  \"/>\n",
       "<polyline clip-path=\"url(#clip302)\" style=\"stroke:#e26f46; stroke-linecap:butt; stroke-linejoin:round; stroke-width:16; stroke-opacity:1; fill:none\" points=\"\n",
       "  255.035,1445.72 296.598,1418.01 338.162,1390.3 379.726,1362.59 421.29,1334.88 462.853,1307.17 504.417,1279.46 545.981,1251.75 587.544,1224.04 629.108,1196.33 \n",
       "  670.672,1168.63 712.236,1140.92 753.799,1113.21 795.363,1085.5 836.927,1057.79 878.491,1030.08 920.054,1002.37 961.618,974.663 1003.18,946.954 1044.75,919.245 \n",
       "  1086.31,891.536 1127.87,863.827 1169.44,836.118 1211,808.409 1252.56,780.7 1294.13,752.992 1335.69,725.283 1377.26,697.574 1418.82,669.865 1460.38,642.156 \n",
       "  1501.95,614.447 1543.51,586.738 1585.07,559.029 1626.64,531.32 1668.2,503.611 1709.77,475.902 1751.33,448.193 1792.89,420.484 1834.46,392.775 1876.02,365.066 \n",
       "  1917.58,337.357 1959.15,309.648 2000.71,281.939 2042.27,254.23 2083.84,226.521 2125.4,198.812 2166.97,171.103 2208.53,143.394 2250.09,115.685 2291.66,87.9763 \n",
       "  \n",
       "  \"/>\n",
       "<polyline clip-path=\"url(#clip302)\" style=\"stroke:#3da44d; stroke-linecap:butt; stroke-linejoin:round; stroke-width:16; stroke-opacity:1; fill:none\" points=\"\n",
       "  255.035,87.9763 296.598,169.407 338.162,247.444 379.726,322.089 421.29,393.34 462.853,461.199 504.417,525.665 545.981,586.738 587.544,644.418 629.108,698.705 \n",
       "  670.672,749.599 712.236,797.1 753.799,841.208 795.363,881.923 836.927,919.245 878.491,953.175 920.054,983.711 961.618,1010.85 1003.18,1034.61 1044.75,1054.96 \n",
       "  1086.31,1071.93 1127.87,1085.5 1169.44,1095.68 1211,1102.46 1252.56,1105.86 1294.13,1105.86 1335.69,1102.46 1377.26,1095.68 1418.82,1085.5 1460.38,1071.93 \n",
       "  1501.95,1054.96 1543.51,1034.61 1585.07,1010.85 1626.64,983.711 1668.2,953.175 1709.77,919.245 1751.33,881.923 1792.89,841.208 1834.46,797.1 1876.02,749.599 \n",
       "  1917.58,698.705 1959.15,644.418 2000.71,586.738 2042.27,525.665 2083.84,461.199 2125.4,393.34 2166.97,322.089 2208.53,247.444 2250.09,169.407 2291.66,87.9763 \n",
       "  \n",
       "  \"/>\n",
       "<polyline clip-path=\"url(#clip302)\" style=\"stroke:#c271d2; stroke-linecap:butt; stroke-linejoin:round; stroke-width:16; stroke-opacity:1; fill:none\" points=\"\n",
       "  255.035,1445.72 296.598,1287.83 338.162,1146.21 379.726,1020.18 421.29,909.032 462.853,812.079 504.417,728.629 545.981,657.989 587.544,599.467 629.108,552.37 \n",
       "  670.672,516.005 712.236,489.681 753.799,472.705 795.363,464.384 836.927,464.027 878.491,470.939 920.054,484.43 961.618,503.807 1003.18,528.377 1044.75,557.448 \n",
       "  1086.31,590.327 1127.87,626.322 1169.44,664.741 1211,704.89 1252.56,746.079 1294.13,787.613 1335.69,828.802 1377.26,868.951 1418.82,907.37 1460.38,943.365 \n",
       "  1501.95,976.244 1543.51,1005.32 1585.07,1029.88 1626.64,1049.26 1668.2,1062.75 1709.77,1069.67 1751.33,1069.31 1792.89,1060.99 1834.46,1044.01 1876.02,1017.69 \n",
       "  1917.58,981.322 1959.15,934.225 2000.71,875.703 2042.27,805.063 2083.84,721.613 2125.4,624.66 2166.97,513.513 2208.53,387.478 2250.09,245.863 2291.66,87.9763 \n",
       "  \n",
       "  \"/>\n",
       "<polyline clip-path=\"url(#clip302)\" style=\"stroke:#ac8d18; stroke-linecap:butt; stroke-linejoin:round; stroke-width:16; stroke-opacity:1; fill:none\" points=\"\n",
       "  255.035,87.9763 296.598,340.419 338.162,546.698 379.726,711.366 421.29,838.774 462.853,933.078 504.417,998.232 545.981,1038 587.544,1055.94 629.108,1055.41 \n",
       "  670.672,1039.58 712.236,1011.42 753.799,973.7 795.363,928.989 836.927,879.661 878.491,827.893 920.054,775.664 961.618,724.753 1003.18,676.744 1044.75,633.022 \n",
       "  1086.31,594.773 1127.87,562.987 1169.44,538.455 1211,521.771 1252.56,513.33 1294.13,513.33 1335.69,521.771 1377.26,538.455 1418.82,562.987 1460.38,594.773 \n",
       "  1501.95,633.022 1543.51,676.744 1585.07,724.753 1626.64,775.664 1668.2,827.893 1709.77,879.661 1751.33,928.989 1792.89,973.7 1834.46,1011.42 1876.02,1039.58 \n",
       "  1917.58,1055.41 1959.15,1055.94 2000.71,1038 2042.27,998.232 2083.84,933.078 2125.4,838.774 2166.97,711.366 2208.53,546.698 2250.09,340.419 2291.66,87.9763 \n",
       "  \n",
       "  \"/>\n",
       "<polyline clip-path=\"url(#clip302)\" style=\"stroke:#00a9ad; stroke-linecap:butt; stroke-linejoin:round; stroke-width:16; stroke-opacity:1; fill:none\" points=\"\n",
       "  255.035,1445.72 296.598,1086.3 338.162,827.269 379.726,651.815 421.29,544.764 462.853,492.507 504.417,482.923 545.981,505.307 587.544,550.302 629.108,609.82 \n",
       "  670.672,676.972 712.236,745.999 753.799,812.19 795.363,871.821 836.927,922.073 878.491,960.963 920.054,987.272 961.618,1000.47 1003.18,1000.65 1044.75,988.44 \n",
       "  1086.31,964.951 1127.87,931.686 1169.44,890.48 1211,843.419 1252.56,792.773 1294.13,740.919 1335.69,690.273 1377.26,643.212 1418.82,602.006 1460.38,568.741 \n",
       "  1501.95,545.252 1543.51,533.043 1585.07,533.221 1626.64,546.42 1668.2,572.729 1709.77,611.619 1751.33,661.871 1792.89,721.502 1834.46,787.693 1876.02,856.72 \n",
       "  1917.58,923.872 1959.15,983.39 2000.71,1028.38 2042.27,1050.77 2083.84,1041.18 2125.4,988.928 2166.97,881.877 2208.53,706.423 2250.09,447.392 2291.66,87.9763 \n",
       "  \n",
       "  \"/>\n",
       "<path clip-path=\"url(#clip300)\" d=\"\n",
       "M1986.78 458.098 L2280.8 458.098 L2280.8 95.2176 L1986.78 95.2176  Z\n",
       "  \" fill=\"#ffffff\" fill-rule=\"evenodd\" fill-opacity=\"1\"/>\n",
       "<polyline clip-path=\"url(#clip300)\" style=\"stroke:#000000; stroke-linecap:butt; stroke-linejoin:round; stroke-width:4; stroke-opacity:1; fill:none\" points=\"\n",
       "  1986.78,458.098 2280.8,458.098 2280.8,95.2176 1986.78,95.2176 1986.78,458.098 \n",
       "  \"/>\n",
       "<polyline clip-path=\"url(#clip300)\" style=\"stroke:#009af9; stroke-linecap:butt; stroke-linejoin:round; stroke-width:4; stroke-opacity:1; fill:none\" points=\"\n",
       "  2010.77,147.058 2154.69,147.058 \n",
       "  \"/>\n",
       "<path clip-path=\"url(#clip300)\" d=\"M2192.52 166.745 Q2190.72 171.375 2189 172.787 Q2187.29 174.199 2184.42 174.199 L2181.02 174.199 L2181.02 170.634 L2183.52 170.634 Q2185.28 170.634 2186.25 169.8 Q2187.22 168.967 2188.4 165.865 L2189.16 163.921 L2178.68 138.412 L2183.19 138.412 L2191.29 158.689 L2199.4 138.412 L2203.91 138.412 L2192.52 166.745 Z\" fill=\"#000000\" fill-rule=\"evenodd\" fill-opacity=\"1\" /><path clip-path=\"url(#clip300)\" d=\"M2211.2 160.402 L2218.84 160.402 L2218.84 134.037 L2210.53 135.703 L2210.53 131.444 L2218.79 129.778 L2223.47 129.778 L2223.47 160.402 L2231.11 160.402 L2231.11 164.338 L2211.2 164.338 L2211.2 160.402 Z\" fill=\"#000000\" fill-rule=\"evenodd\" fill-opacity=\"1\" /><polyline clip-path=\"url(#clip300)\" style=\"stroke:#e26f46; stroke-linecap:butt; stroke-linejoin:round; stroke-width:4; stroke-opacity:1; fill:none\" points=\"\n",
       "  2010.77,198.898 2154.69,198.898 \n",
       "  \"/>\n",
       "<path clip-path=\"url(#clip300)\" d=\"M2192.52 218.585 Q2190.72 223.215 2189 224.627 Q2187.29 226.039 2184.42 226.039 L2181.02 226.039 L2181.02 222.474 L2183.52 222.474 Q2185.28 222.474 2186.25 221.64 Q2187.22 220.807 2188.4 217.705 L2189.16 215.761 L2178.68 190.252 L2183.19 190.252 L2191.29 210.529 L2199.4 190.252 L2203.91 190.252 L2192.52 218.585 Z\" fill=\"#000000\" fill-rule=\"evenodd\" fill-opacity=\"1\" /><path clip-path=\"url(#clip300)\" d=\"M2214.42 212.242 L2230.74 212.242 L2230.74 216.178 L2208.79 216.178 L2208.79 212.242 Q2211.46 209.488 2216.04 204.858 Q2220.65 200.205 2221.83 198.863 Q2224.07 196.34 2224.95 194.604 Q2225.85 192.844 2225.85 191.155 Q2225.85 188.4 2223.91 186.664 Q2221.99 184.928 2218.89 184.928 Q2216.69 184.928 2214.23 185.692 Q2211.8 186.455 2209.03 188.006 L2209.03 183.284 Q2211.85 182.15 2214.3 181.571 Q2216.76 180.993 2218.79 180.993 Q2224.16 180.993 2227.36 183.678 Q2230.55 186.363 2230.55 190.854 Q2230.55 192.983 2229.74 194.905 Q2228.96 196.803 2226.85 199.395 Q2226.27 200.067 2223.17 203.284 Q2220.07 206.479 2214.42 212.242 Z\" fill=\"#000000\" fill-rule=\"evenodd\" fill-opacity=\"1\" /><polyline clip-path=\"url(#clip300)\" style=\"stroke:#3da44d; stroke-linecap:butt; stroke-linejoin:round; stroke-width:4; stroke-opacity:1; fill:none\" points=\"\n",
       "  2010.77,250.738 2154.69,250.738 \n",
       "  \"/>\n",
       "<path clip-path=\"url(#clip300)\" d=\"M2192.52 270.425 Q2190.72 275.055 2189 276.467 Q2187.29 277.879 2184.42 277.879 L2181.02 277.879 L2181.02 274.314 L2183.52 274.314 Q2185.28 274.314 2186.25 273.48 Q2187.22 272.647 2188.4 269.545 L2189.16 267.601 L2178.68 242.092 L2183.19 242.092 L2191.29 262.369 L2199.4 242.092 L2203.91 242.092 L2192.52 270.425 Z\" fill=\"#000000\" fill-rule=\"evenodd\" fill-opacity=\"1\" /><path clip-path=\"url(#clip300)\" d=\"M2224.56 249.383 Q2227.91 250.101 2229.79 252.369 Q2231.69 254.638 2231.69 257.971 Q2231.69 263.087 2228.17 265.888 Q2224.65 268.689 2218.17 268.689 Q2215.99 268.689 2213.68 268.249 Q2211.39 267.832 2208.93 266.976 L2208.93 262.462 Q2210.88 263.596 2213.19 264.175 Q2215.51 264.754 2218.03 264.754 Q2222.43 264.754 2224.72 263.018 Q2227.03 261.281 2227.03 257.971 Q2227.03 254.916 2224.88 253.203 Q2222.75 251.467 2218.93 251.467 L2214.9 251.467 L2214.9 247.624 L2219.12 247.624 Q2222.57 247.624 2224.4 246.258 Q2226.22 244.87 2226.22 242.277 Q2226.22 239.615 2224.33 238.203 Q2222.45 236.768 2218.93 236.768 Q2217.01 236.768 2214.81 237.184 Q2212.61 237.601 2209.97 238.481 L2209.97 234.314 Q2212.64 233.573 2214.95 233.203 Q2217.29 232.833 2219.35 232.833 Q2224.67 232.833 2227.78 235.263 Q2230.88 237.67 2230.88 241.791 Q2230.88 244.661 2229.23 246.652 Q2227.59 248.62 2224.56 249.383 Z\" fill=\"#000000\" fill-rule=\"evenodd\" fill-opacity=\"1\" /><polyline clip-path=\"url(#clip300)\" style=\"stroke:#c271d2; stroke-linecap:butt; stroke-linejoin:round; stroke-width:4; stroke-opacity:1; fill:none\" points=\"\n",
       "  2010.77,302.578 2154.69,302.578 \n",
       "  \"/>\n",
       "<path clip-path=\"url(#clip300)\" d=\"M2192.52 322.265 Q2190.72 326.895 2189 328.307 Q2187.29 329.719 2184.42 329.719 L2181.02 329.719 L2181.02 326.154 L2183.52 326.154 Q2185.28 326.154 2186.25 325.32 Q2187.22 324.487 2188.4 321.385 L2189.16 319.441 L2178.68 293.932 L2183.19 293.932 L2191.29 314.209 L2199.4 293.932 L2203.91 293.932 L2192.52 322.265 Z\" fill=\"#000000\" fill-rule=\"evenodd\" fill-opacity=\"1\" /><path clip-path=\"url(#clip300)\" d=\"M2223.24 289.372 L2211.43 307.821 L2223.24 307.821 L2223.24 289.372 M2222.01 285.298 L2227.89 285.298 L2227.89 307.821 L2232.82 307.821 L2232.82 311.709 L2227.89 311.709 L2227.89 319.858 L2223.24 319.858 L2223.24 311.709 L2207.64 311.709 L2207.64 307.196 L2222.01 285.298 Z\" fill=\"#000000\" fill-rule=\"evenodd\" fill-opacity=\"1\" /><polyline clip-path=\"url(#clip300)\" style=\"stroke:#ac8d18; stroke-linecap:butt; stroke-linejoin:round; stroke-width:4; stroke-opacity:1; fill:none\" points=\"\n",
       "  2010.77,354.418 2154.69,354.418 \n",
       "  \"/>\n",
       "<path clip-path=\"url(#clip300)\" d=\"M2192.52 374.105 Q2190.72 378.735 2189 380.147 Q2187.29 381.559 2184.42 381.559 L2181.02 381.559 L2181.02 377.994 L2183.52 377.994 Q2185.28 377.994 2186.25 377.16 Q2187.22 376.327 2188.4 373.225 L2189.16 371.281 L2178.68 345.772 L2183.19 345.772 L2191.29 366.049 L2199.4 345.772 L2203.91 345.772 L2192.52 374.105 Z\" fill=\"#000000\" fill-rule=\"evenodd\" fill-opacity=\"1\" /><path clip-path=\"url(#clip300)\" d=\"M2210.44 337.138 L2228.79 337.138 L2228.79 341.073 L2214.72 341.073 L2214.72 349.545 Q2215.74 349.198 2216.76 349.036 Q2217.78 348.85 2218.79 348.85 Q2224.58 348.85 2227.96 352.022 Q2231.34 355.193 2231.34 360.61 Q2231.34 366.188 2227.87 369.29 Q2224.4 372.369 2218.08 372.369 Q2215.9 372.369 2213.63 371.998 Q2211.39 371.628 2208.98 370.887 L2208.98 366.188 Q2211.06 367.323 2213.28 367.878 Q2215.51 368.434 2217.98 368.434 Q2221.99 368.434 2224.33 366.327 Q2226.66 364.221 2226.66 360.61 Q2226.66 356.999 2224.33 354.892 Q2221.99 352.786 2217.98 352.786 Q2216.11 352.786 2214.23 353.202 Q2212.38 353.619 2210.44 354.499 L2210.44 337.138 Z\" fill=\"#000000\" fill-rule=\"evenodd\" fill-opacity=\"1\" /><polyline clip-path=\"url(#clip300)\" style=\"stroke:#00a9ad; stroke-linecap:butt; stroke-linejoin:round; stroke-width:4; stroke-opacity:1; fill:none\" points=\"\n",
       "  2010.77,406.258 2154.69,406.258 \n",
       "  \"/>\n",
       "<path clip-path=\"url(#clip300)\" d=\"M2192.52 425.945 Q2190.72 430.575 2189 431.987 Q2187.29 433.399 2184.42 433.399 L2181.02 433.399 L2181.02 429.834 L2183.52 429.834 Q2185.28 429.834 2186.25 429 Q2187.22 428.167 2188.4 425.065 L2189.16 423.121 L2178.68 397.612 L2183.19 397.612 L2191.29 417.889 L2199.4 397.612 L2203.91 397.612 L2192.52 425.945 Z\" fill=\"#000000\" fill-rule=\"evenodd\" fill-opacity=\"1\" /><path clip-path=\"url(#clip300)\" d=\"M2220.97 404.394 Q2217.82 404.394 2215.97 406.547 Q2214.14 408.7 2214.14 412.45 Q2214.14 416.176 2215.97 418.352 Q2217.82 420.505 2220.97 420.505 Q2224.12 420.505 2225.95 418.352 Q2227.8 416.176 2227.8 412.45 Q2227.8 408.7 2225.95 406.547 Q2224.12 404.394 2220.97 404.394 M2230.25 389.741 L2230.25 394.001 Q2228.49 393.167 2226.69 392.728 Q2224.9 392.288 2223.15 392.288 Q2218.52 392.288 2216.06 395.413 Q2213.63 398.538 2213.28 404.857 Q2214.65 402.843 2216.71 401.778 Q2218.77 400.69 2221.25 400.69 Q2226.46 400.69 2229.47 403.862 Q2232.5 407.01 2232.5 412.45 Q2232.5 417.774 2229.35 420.991 Q2226.2 424.209 2220.97 424.209 Q2214.97 424.209 2211.8 419.626 Q2208.63 415.019 2208.63 406.292 Q2208.63 398.098 2212.52 393.237 Q2216.41 388.353 2222.96 388.353 Q2224.72 388.353 2226.5 388.7 Q2228.31 389.047 2230.25 389.741 Z\" fill=\"#000000\" fill-rule=\"evenodd\" fill-opacity=\"1\" /></svg>\n"
      ]
     },
     "execution_count": 31,
     "metadata": {},
     "output_type": "execute_result"
    }
   ],
   "source": [
    "x = LinRange(-1, 1, 50)\n",
    "P = vander_legendre(x, 6)\n",
    "plot(x, P)"
   ]
  },
  {
   "cell_type": "markdown",
   "id": "1657e91e",
   "metadata": {
    "slideshow": {
     "slide_type": "slide"
    }
   },
   "source": [
    "# Prime to nodal basis\n",
    "\n",
    "A **nodal basis** $\\{ \\phi_j(x) \\}$ is one that satisfies\n",
    "$ n_i(\\phi_j) = \\delta_{ij} . $\n",
    "\n",
    "We write $\\phi_j$ in the prime basis by solving with the generalized Vandermonde matrix $V_{ij} = \\langle n_i, p_j \\rangle$,\n",
    "$$ \\phi_j(x) = \\sum_k p_k(x) (V^{-1})_{k,j} . $$"
   ]
  },
  {
   "cell_type": "code",
   "execution_count": 9,
   "id": "3fb34a25",
   "metadata": {
    "cell_style": "split",
    "scrolled": true,
    "slideshow": {
     "slide_type": ""
    }
   },
   "outputs": [
    {
     "data": {
      "image/svg+xml": [
       "<?xml version=\"1.0\" encoding=\"utf-8\"?>\n",
       "<svg xmlns=\"http://www.w3.org/2000/svg\" xmlns:xlink=\"http://www.w3.org/1999/xlink\" width=\"600\" height=\"400\" viewBox=\"0 0 2400 1600\">\n",
       "<defs>\n",
       "  <clipPath id=\"clip980\">\n",
       "    <rect x=\"0\" y=\"0\" width=\"2400\" height=\"1600\"/>\n",
       "  </clipPath>\n",
       "</defs>\n",
       "<path clip-path=\"url(#clip980)\" d=\"\n",
       "M0 1600 L2400 1600 L2400 0 L0 0  Z\n",
       "  \" fill=\"#ffffff\" fill-rule=\"evenodd\" fill-opacity=\"1\"/>\n",
       "<defs>\n",
       "  <clipPath id=\"clip981\">\n",
       "    <rect x=\"480\" y=\"0\" width=\"1681\" height=\"1600\"/>\n",
       "  </clipPath>\n",
       "</defs>\n",
       "<path clip-path=\"url(#clip980)\" d=\"\n",
       "M149.191 1486.45 L2352.76 1486.45 L2352.76 47.2441 L149.191 47.2441  Z\n",
       "  \" fill=\"#ffffff\" fill-rule=\"evenodd\" fill-opacity=\"1\"/>\n",
       "<defs>\n",
       "  <clipPath id=\"clip982\">\n",
       "    <rect x=\"149\" y=\"47\" width=\"2205\" height=\"1440\"/>\n",
       "  </clipPath>\n",
       "</defs>\n",
       "<polyline clip-path=\"url(#clip982)\" style=\"stroke:#000000; stroke-linecap:butt; stroke-linejoin:round; stroke-width:2; stroke-opacity:0.1; fill:none\" points=\"\n",
       "  211.556,1486.45 211.556,47.2441 \n",
       "  \"/>\n",
       "<polyline clip-path=\"url(#clip982)\" style=\"stroke:#000000; stroke-linecap:butt; stroke-linejoin:round; stroke-width:2; stroke-opacity:0.1; fill:none\" points=\"\n",
       "  731.265,1486.45 731.265,47.2441 \n",
       "  \"/>\n",
       "<polyline clip-path=\"url(#clip982)\" style=\"stroke:#000000; stroke-linecap:butt; stroke-linejoin:round; stroke-width:2; stroke-opacity:0.1; fill:none\" points=\"\n",
       "  1250.97,1486.45 1250.97,47.2441 \n",
       "  \"/>\n",
       "<polyline clip-path=\"url(#clip982)\" style=\"stroke:#000000; stroke-linecap:butt; stroke-linejoin:round; stroke-width:2; stroke-opacity:0.1; fill:none\" points=\"\n",
       "  1770.68,1486.45 1770.68,47.2441 \n",
       "  \"/>\n",
       "<polyline clip-path=\"url(#clip982)\" style=\"stroke:#000000; stroke-linecap:butt; stroke-linejoin:round; stroke-width:2; stroke-opacity:0.1; fill:none\" points=\"\n",
       "  2290.39,1486.45 2290.39,47.2441 \n",
       "  \"/>\n",
       "<polyline clip-path=\"url(#clip980)\" style=\"stroke:#000000; stroke-linecap:butt; stroke-linejoin:round; stroke-width:4; stroke-opacity:1; fill:none\" points=\"\n",
       "  149.191,1486.45 2352.76,1486.45 \n",
       "  \"/>\n",
       "<polyline clip-path=\"url(#clip980)\" style=\"stroke:#000000; stroke-linecap:butt; stroke-linejoin:round; stroke-width:4; stroke-opacity:1; fill:none\" points=\"\n",
       "  211.556,1486.45 211.556,1467.55 \n",
       "  \"/>\n",
       "<polyline clip-path=\"url(#clip980)\" style=\"stroke:#000000; stroke-linecap:butt; stroke-linejoin:round; stroke-width:4; stroke-opacity:1; fill:none\" points=\"\n",
       "  731.265,1486.45 731.265,1467.55 \n",
       "  \"/>\n",
       "<polyline clip-path=\"url(#clip980)\" style=\"stroke:#000000; stroke-linecap:butt; stroke-linejoin:round; stroke-width:4; stroke-opacity:1; fill:none\" points=\"\n",
       "  1250.97,1486.45 1250.97,1467.55 \n",
       "  \"/>\n",
       "<polyline clip-path=\"url(#clip980)\" style=\"stroke:#000000; stroke-linecap:butt; stroke-linejoin:round; stroke-width:4; stroke-opacity:1; fill:none\" points=\"\n",
       "  1770.68,1486.45 1770.68,1467.55 \n",
       "  \"/>\n",
       "<polyline clip-path=\"url(#clip980)\" style=\"stroke:#000000; stroke-linecap:butt; stroke-linejoin:round; stroke-width:4; stroke-opacity:1; fill:none\" points=\"\n",
       "  2290.39,1486.45 2290.39,1467.55 \n",
       "  \"/>\n",
       "<path clip-path=\"url(#clip980)\" d=\"M158.084 1532.02 L187.76 1532.02 L187.76 1535.95 L158.084 1535.95 L158.084 1532.02 Z\" fill=\"#000000\" fill-rule=\"evenodd\" fill-opacity=\"1\" /><path clip-path=\"url(#clip980)\" d=\"M198.662 1544.91 L206.301 1544.91 L206.301 1518.55 L197.991 1520.21 L197.991 1515.95 L206.255 1514.29 L210.931 1514.29 L210.931 1544.91 L218.57 1544.91 L218.57 1548.85 L198.662 1548.85 L198.662 1544.91 Z\" fill=\"#000000\" fill-rule=\"evenodd\" fill-opacity=\"1\" /><path clip-path=\"url(#clip980)\" d=\"M228.014 1542.97 L232.898 1542.97 L232.898 1548.85 L228.014 1548.85 L228.014 1542.97 Z\" fill=\"#000000\" fill-rule=\"evenodd\" fill-opacity=\"1\" /><path clip-path=\"url(#clip980)\" d=\"M253.083 1517.37 Q249.472 1517.37 247.644 1520.93 Q245.838 1524.47 245.838 1531.6 Q245.838 1538.71 247.644 1542.27 Q249.472 1545.82 253.083 1545.82 Q256.718 1545.82 258.523 1542.27 Q260.352 1538.71 260.352 1531.6 Q260.352 1524.47 258.523 1520.93 Q256.718 1517.37 253.083 1517.37 M253.083 1513.66 Q258.894 1513.66 261.949 1518.27 Q265.028 1522.85 265.028 1531.6 Q265.028 1540.33 261.949 1544.94 Q258.894 1549.52 253.083 1549.52 Q247.273 1549.52 244.195 1544.94 Q241.139 1540.33 241.139 1531.6 Q241.139 1522.85 244.195 1518.27 Q247.273 1513.66 253.083 1513.66 Z\" fill=\"#000000\" fill-rule=\"evenodd\" fill-opacity=\"1\" /><path clip-path=\"url(#clip980)\" d=\"M678.29 1532.02 L707.966 1532.02 L707.966 1535.95 L678.29 1535.95 L678.29 1532.02 Z\" fill=\"#000000\" fill-rule=\"evenodd\" fill-opacity=\"1\" /><path clip-path=\"url(#clip980)\" d=\"M728.059 1517.37 Q724.448 1517.37 722.619 1520.93 Q720.813 1524.47 720.813 1531.6 Q720.813 1538.71 722.619 1542.27 Q724.448 1545.82 728.059 1545.82 Q731.693 1545.82 733.498 1542.27 Q735.327 1538.71 735.327 1531.6 Q735.327 1524.47 733.498 1520.93 Q731.693 1517.37 728.059 1517.37 M728.059 1513.66 Q733.869 1513.66 736.924 1518.27 Q740.003 1522.85 740.003 1531.6 Q740.003 1540.33 736.924 1544.94 Q733.869 1549.52 728.059 1549.52 Q722.248 1549.52 719.17 1544.94 Q716.114 1540.33 716.114 1531.6 Q716.114 1522.85 719.17 1518.27 Q722.248 1513.66 728.059 1513.66 Z\" fill=\"#000000\" fill-rule=\"evenodd\" fill-opacity=\"1\" /><path clip-path=\"url(#clip980)\" d=\"M748.221 1542.97 L753.105 1542.97 L753.105 1548.85 L748.221 1548.85 L748.221 1542.97 Z\" fill=\"#000000\" fill-rule=\"evenodd\" fill-opacity=\"1\" /><path clip-path=\"url(#clip980)\" d=\"M763.336 1514.29 L781.693 1514.29 L781.693 1518.22 L767.619 1518.22 L767.619 1526.7 Q768.637 1526.35 769.656 1526.19 Q770.674 1526 771.693 1526 Q777.48 1526 780.859 1529.17 Q784.239 1532.34 784.239 1537.76 Q784.239 1543.34 780.767 1546.44 Q777.294 1549.52 770.975 1549.52 Q768.799 1549.52 766.531 1549.15 Q764.285 1548.78 761.878 1548.04 L761.878 1543.34 Q763.961 1544.47 766.183 1545.03 Q768.406 1545.58 770.882 1545.58 Q774.887 1545.58 777.225 1543.48 Q779.563 1541.37 779.563 1537.76 Q779.563 1534.15 777.225 1532.04 Q774.887 1529.94 770.882 1529.94 Q769.008 1529.94 767.133 1530.35 Q765.281 1530.77 763.336 1531.65 L763.336 1514.29 Z\" fill=\"#000000\" fill-rule=\"evenodd\" fill-opacity=\"1\" /><path clip-path=\"url(#clip980)\" d=\"M1228.36 1517.37 Q1224.75 1517.37 1222.92 1520.93 Q1221.11 1524.47 1221.11 1531.6 Q1221.11 1538.71 1222.92 1542.27 Q1224.75 1545.82 1228.36 1545.82 Q1231.99 1545.82 1233.8 1542.27 Q1235.63 1538.71 1235.63 1531.6 Q1235.63 1524.47 1233.8 1520.93 Q1231.99 1517.37 1228.36 1517.37 M1228.36 1513.66 Q1234.17 1513.66 1237.22 1518.27 Q1240.3 1522.85 1240.3 1531.6 Q1240.3 1540.33 1237.22 1544.94 Q1234.17 1549.52 1228.36 1549.52 Q1222.55 1549.52 1219.47 1544.94 Q1216.41 1540.33 1216.41 1531.6 Q1216.41 1522.85 1219.47 1518.27 Q1222.55 1513.66 1228.36 1513.66 Z\" fill=\"#000000\" fill-rule=\"evenodd\" fill-opacity=\"1\" /><path clip-path=\"url(#clip980)\" d=\"M1248.52 1542.97 L1253.4 1542.97 L1253.4 1548.85 L1248.52 1548.85 L1248.52 1542.97 Z\" fill=\"#000000\" fill-rule=\"evenodd\" fill-opacity=\"1\" /><path clip-path=\"url(#clip980)\" d=\"M1273.59 1517.37 Q1269.98 1517.37 1268.15 1520.93 Q1266.34 1524.47 1266.34 1531.6 Q1266.34 1538.71 1268.15 1542.27 Q1269.98 1545.82 1273.59 1545.82 Q1277.22 1545.82 1279.03 1542.27 Q1280.86 1538.71 1280.86 1531.6 Q1280.86 1524.47 1279.03 1520.93 Q1277.22 1517.37 1273.59 1517.37 M1273.59 1513.66 Q1279.4 1513.66 1282.45 1518.27 Q1285.53 1522.85 1285.53 1531.6 Q1285.53 1540.33 1282.45 1544.94 Q1279.4 1549.52 1273.59 1549.52 Q1267.78 1549.52 1264.7 1544.94 Q1261.64 1540.33 1261.64 1531.6 Q1261.64 1522.85 1264.7 1518.27 Q1267.78 1513.66 1273.59 1513.66 Z\" fill=\"#000000\" fill-rule=\"evenodd\" fill-opacity=\"1\" /><path clip-path=\"url(#clip980)\" d=\"M1748.56 1517.37 Q1744.95 1517.37 1743.12 1520.93 Q1741.32 1524.47 1741.32 1531.6 Q1741.32 1538.71 1743.12 1542.27 Q1744.95 1545.82 1748.56 1545.82 Q1752.2 1545.82 1754 1542.27 Q1755.83 1538.71 1755.83 1531.6 Q1755.83 1524.47 1754 1520.93 Q1752.2 1517.37 1748.56 1517.37 M1748.56 1513.66 Q1754.37 1513.66 1757.43 1518.27 Q1760.51 1522.85 1760.51 1531.6 Q1760.51 1540.33 1757.43 1544.94 Q1754.37 1549.52 1748.56 1549.52 Q1742.75 1549.52 1739.68 1544.94 Q1736.62 1540.33 1736.62 1531.6 Q1736.62 1522.85 1739.68 1518.27 Q1742.75 1513.66 1748.56 1513.66 Z\" fill=\"#000000\" fill-rule=\"evenodd\" fill-opacity=\"1\" /><path clip-path=\"url(#clip980)\" d=\"M1768.73 1542.97 L1773.61 1542.97 L1773.61 1548.85 L1768.73 1548.85 L1768.73 1542.97 Z\" fill=\"#000000\" fill-rule=\"evenodd\" fill-opacity=\"1\" /><path clip-path=\"url(#clip980)\" d=\"M1783.84 1514.29 L1802.2 1514.29 L1802.2 1518.22 L1788.12 1518.22 L1788.12 1526.7 Q1789.14 1526.35 1790.16 1526.19 Q1791.18 1526 1792.2 1526 Q1797.99 1526 1801.36 1529.17 Q1804.74 1532.34 1804.74 1537.76 Q1804.74 1543.34 1801.27 1546.44 Q1797.8 1549.52 1791.48 1549.52 Q1789.3 1549.52 1787.04 1549.15 Q1784.79 1548.78 1782.38 1548.04 L1782.38 1543.34 Q1784.47 1544.47 1786.69 1545.03 Q1788.91 1545.58 1791.39 1545.58 Q1795.39 1545.58 1797.73 1543.48 Q1800.07 1541.37 1800.07 1537.76 Q1800.07 1534.15 1797.73 1532.04 Q1795.39 1529.94 1791.39 1529.94 Q1789.51 1529.94 1787.64 1530.35 Q1785.79 1530.77 1783.84 1531.65 L1783.84 1514.29 Z\" fill=\"#000000\" fill-rule=\"evenodd\" fill-opacity=\"1\" /><path clip-path=\"url(#clip980)\" d=\"M2257.54 1544.91 L2265.18 1544.91 L2265.18 1518.55 L2256.87 1520.21 L2256.87 1515.95 L2265.14 1514.29 L2269.81 1514.29 L2269.81 1544.91 L2277.45 1544.91 L2277.45 1548.85 L2257.54 1548.85 L2257.54 1544.91 Z\" fill=\"#000000\" fill-rule=\"evenodd\" fill-opacity=\"1\" /><path clip-path=\"url(#clip980)\" d=\"M2286.9 1542.97 L2291.78 1542.97 L2291.78 1548.85 L2286.9 1548.85 L2286.9 1542.97 Z\" fill=\"#000000\" fill-rule=\"evenodd\" fill-opacity=\"1\" /><path clip-path=\"url(#clip980)\" d=\"M2311.96 1517.37 Q2308.35 1517.37 2306.53 1520.93 Q2304.72 1524.47 2304.72 1531.6 Q2304.72 1538.71 2306.53 1542.27 Q2308.35 1545.82 2311.96 1545.82 Q2315.6 1545.82 2317.4 1542.27 Q2319.23 1538.71 2319.23 1531.6 Q2319.23 1524.47 2317.4 1520.93 Q2315.6 1517.37 2311.96 1517.37 M2311.96 1513.66 Q2317.77 1513.66 2320.83 1518.27 Q2323.91 1522.85 2323.91 1531.6 Q2323.91 1540.33 2320.83 1544.94 Q2317.77 1549.52 2311.96 1549.52 Q2306.15 1549.52 2303.08 1544.94 Q2300.02 1540.33 2300.02 1531.6 Q2300.02 1522.85 2303.08 1518.27 Q2306.15 1513.66 2311.96 1513.66 Z\" fill=\"#000000\" fill-rule=\"evenodd\" fill-opacity=\"1\" /><polyline clip-path=\"url(#clip982)\" style=\"stroke:#000000; stroke-linecap:butt; stroke-linejoin:round; stroke-width:2; stroke-opacity:0.1; fill:none\" points=\"\n",
       "  149.191,1453.7 2352.76,1453.7 \n",
       "  \"/>\n",
       "<polyline clip-path=\"url(#clip982)\" style=\"stroke:#000000; stroke-linecap:butt; stroke-linejoin:round; stroke-width:2; stroke-opacity:0.1; fill:none\" points=\"\n",
       "  149.191,1096.11 2352.76,1096.11 \n",
       "  \"/>\n",
       "<polyline clip-path=\"url(#clip982)\" style=\"stroke:#000000; stroke-linecap:butt; stroke-linejoin:round; stroke-width:2; stroke-opacity:0.1; fill:none\" points=\"\n",
       "  149.191,738.522 2352.76,738.522 \n",
       "  \"/>\n",
       "<polyline clip-path=\"url(#clip982)\" style=\"stroke:#000000; stroke-linecap:butt; stroke-linejoin:round; stroke-width:2; stroke-opacity:0.1; fill:none\" points=\"\n",
       "  149.191,380.935 2352.76,380.935 \n",
       "  \"/>\n",
       "<polyline clip-path=\"url(#clip980)\" style=\"stroke:#000000; stroke-linecap:butt; stroke-linejoin:round; stroke-width:4; stroke-opacity:1; fill:none\" points=\"\n",
       "  149.191,1486.45 149.191,47.2441 \n",
       "  \"/>\n",
       "<polyline clip-path=\"url(#clip980)\" style=\"stroke:#000000; stroke-linecap:butt; stroke-linejoin:round; stroke-width:4; stroke-opacity:1; fill:none\" points=\"\n",
       "  149.191,1453.7 168.089,1453.7 \n",
       "  \"/>\n",
       "<polyline clip-path=\"url(#clip980)\" style=\"stroke:#000000; stroke-linecap:butt; stroke-linejoin:round; stroke-width:4; stroke-opacity:1; fill:none\" points=\"\n",
       "  149.191,1096.11 168.089,1096.11 \n",
       "  \"/>\n",
       "<polyline clip-path=\"url(#clip980)\" style=\"stroke:#000000; stroke-linecap:butt; stroke-linejoin:round; stroke-width:4; stroke-opacity:1; fill:none\" points=\"\n",
       "  149.191,738.522 168.089,738.522 \n",
       "  \"/>\n",
       "<polyline clip-path=\"url(#clip980)\" style=\"stroke:#000000; stroke-linecap:butt; stroke-linejoin:round; stroke-width:4; stroke-opacity:1; fill:none\" points=\"\n",
       "  149.191,380.935 168.089,380.935 \n",
       "  \"/>\n",
       "<path clip-path=\"url(#clip980)\" d=\"M50.9921 1454.15 L80.6679 1454.15 L80.6679 1458.08 L50.9921 1458.08 L50.9921 1454.15 Z\" fill=\"#000000\" fill-rule=\"evenodd\" fill-opacity=\"1\" /><path clip-path=\"url(#clip980)\" d=\"M103.608 1440.49 L91.8021 1458.94 L103.608 1458.94 L103.608 1440.49 M102.381 1436.42 L108.26 1436.42 L108.26 1458.94 L113.191 1458.94 L113.191 1462.83 L108.26 1462.83 L108.26 1470.98 L103.608 1470.98 L103.608 1462.83 L88.0058 1462.83 L88.0058 1458.31 L102.381 1436.42 Z\" fill=\"#000000\" fill-rule=\"evenodd\" fill-opacity=\"1\" /><path clip-path=\"url(#clip980)\" d=\"M53.0754 1096.56 L82.7512 1096.56 L82.7512 1100.5 L53.0754 1100.5 L53.0754 1096.56 Z\" fill=\"#000000\" fill-rule=\"evenodd\" fill-opacity=\"1\" /><path clip-path=\"url(#clip980)\" d=\"M96.8715 1109.45 L113.191 1109.45 L113.191 1113.39 L91.2465 1113.39 L91.2465 1109.45 Q93.9086 1106.7 98.4919 1102.07 Q103.098 1097.42 104.279 1096.07 Q106.524 1093.55 107.404 1091.81 Q108.307 1090.06 108.307 1088.37 Q108.307 1085.61 106.362 1083.87 Q104.441 1082.14 101.339 1082.14 Q99.14 1082.14 96.6863 1082.9 Q94.2558 1083.67 91.478 1085.22 L91.478 1080.5 Q94.3021 1079.36 96.7558 1078.78 Q99.2095 1078.2 101.246 1078.2 Q106.617 1078.2 109.811 1080.89 Q113.006 1083.57 113.006 1088.06 Q113.006 1090.19 112.196 1092.12 Q111.408 1094.01 109.302 1096.61 Q108.723 1097.28 105.621 1100.5 Q102.52 1103.69 96.8715 1109.45 Z\" fill=\"#000000\" fill-rule=\"evenodd\" fill-opacity=\"1\" /><path clip-path=\"url(#clip980)\" d=\"M101.246 724.32 Q97.6354 724.32 95.8067 727.885 Q94.0012 731.427 94.0012 738.556 Q94.0012 745.663 95.8067 749.228 Q97.6354 752.769 101.246 752.769 Q104.881 752.769 106.686 749.228 Q108.515 745.663 108.515 738.556 Q108.515 731.427 106.686 727.885 Q104.881 724.32 101.246 724.32 M101.246 720.617 Q107.057 720.617 110.112 725.223 Q113.191 729.806 113.191 738.556 Q113.191 747.283 110.112 751.89 Q107.057 756.473 101.246 756.473 Q95.4363 756.473 92.3576 751.89 Q89.3021 747.283 89.3021 738.556 Q89.3021 729.806 92.3576 725.223 Q95.4363 720.617 101.246 720.617 Z\" fill=\"#000000\" fill-rule=\"evenodd\" fill-opacity=\"1\" /><path clip-path=\"url(#clip980)\" d=\"M96.8715 394.28 L113.191 394.28 L113.191 398.215 L91.2465 398.215 L91.2465 394.28 Q93.9086 391.525 98.4919 386.895 Q103.098 382.243 104.279 380.9 Q106.524 378.377 107.404 376.641 Q108.307 374.882 108.307 373.192 Q108.307 370.437 106.362 368.701 Q104.441 366.965 101.339 366.965 Q99.14 366.965 96.6863 367.729 Q94.2558 368.493 91.478 370.044 L91.478 365.321 Q94.3021 364.187 96.7558 363.608 Q99.2095 363.03 101.246 363.03 Q106.617 363.03 109.811 365.715 Q113.006 368.4 113.006 372.891 Q113.006 375.02 112.196 376.942 Q111.408 378.84 109.302 381.432 Q108.723 382.104 105.621 385.321 Q102.52 388.516 96.8715 394.28 Z\" fill=\"#000000\" fill-rule=\"evenodd\" fill-opacity=\"1\" /><polyline clip-path=\"url(#clip982)\" style=\"stroke:#009af9; stroke-linecap:butt; stroke-linejoin:round; stroke-width:16; stroke-opacity:1; fill:none\" points=\"\n",
       "  211.556,559.728 253.981,635.203 296.406,683.019 338.832,711.882 381.257,728.184 423.682,736.507 466.107,740.045 508.532,740.946 550.958,740.59 593.383,739.802 \n",
       "  635.808,739.03 678.233,738.473 720.658,738.175 763.084,738.099 805.509,738.173 847.934,738.32 890.359,738.476 932.784,738.597 975.21,738.664 1017.63,738.673 \n",
       "  1060.06,738.636 1102.49,738.574 1144.91,738.507 1187.34,738.455 1229.76,738.428 1272.19,738.432 1314.61,738.462 1357.04,738.51 1399.46,738.561 1441.89,738.601 \n",
       "  1484.31,738.617 1526.74,738.604 1569.16,738.562 1611.59,738.499 1654.01,738.433 1696.44,738.382 1738.86,738.369 1781.29,738.409 1823.71,738.507 1866.14,738.652 \n",
       "  1908.56,738.81 1950.99,738.925 1993.41,738.926 2035.84,738.734 2078.26,738.293 2120.69,737.603 2163.12,736.784 2205.54,736.16 2247.97,736.369 2290.39,738.522 \n",
       "  \n",
       "  \"/>\n",
       "<polyline clip-path=\"url(#clip982)\" style=\"stroke:#e26f46; stroke-linecap:butt; stroke-linejoin:round; stroke-width:16; stroke-opacity:1; fill:none\" points=\"\n",
       "  211.556,738.522 253.981,529.301 296.406,448.474 338.832,444.28 381.257,480.882 423.682,534.535 466.107,590.456 508.532,640.316 550.958,680.258 593.383,709.359 \n",
       "  635.808,728.476 678.233,739.395 720.658,744.238 763.084,745.067 805.509,743.655 847.934,741.37 890.359,739.147 932.784,737.519 975.21,736.689 1017.63,736.616 \n",
       "  1060.06,737.103 1102.49,737.884 1144.91,738.691 1187.34,739.311 1229.76,739.611 1272.19,739.556 1314.61,739.196 1357.04,738.652 1399.46,738.082 1441.89,737.645 \n",
       "  1484.31,737.47 1526.74,737.621 1569.16,738.085 1611.59,738.761 1654.01,739.475 1696.44,740.008 1738.86,740.14 1781.29,739.709 1823.71,738.671 1866.14,737.158 \n",
       "  1908.56,735.521 1950.99,734.334 1993.41,734.343 2035.84,736.331 2078.26,740.873 2120.69,747.93 2163.12,756.257 2205.54,762.563 2247.97,760.372 2290.39,738.522 \n",
       "  \n",
       "  \"/>\n",
       "<polyline clip-path=\"url(#clip982)\" style=\"stroke:#3da44d; stroke-linecap:butt; stroke-linejoin:round; stroke-width:16; stroke-opacity:1; fill:none\" points=\"\n",
       "  211.556,738.522 253.981,1114.65 296.406,1188.1 338.832,1103.22 381.257,954.607 423.682,800.103 466.107,671.219 508.532,581.393 550.958,532.357 593.383,518.943 \n",
       "  635.808,532.587 678.233,563.772 720.658,603.621 763.084,644.822 805.509,682.052 847.934,712.038 890.359,733.36 932.784,746.108 975.21,751.462 1017.63,751.258 \n",
       "  1060.06,747.585 1102.49,742.447 1144.91,737.511 1187.34,733.945 1229.76,732.353 1272.19,732.79 1314.61,734.854 1357.04,737.824 1399.46,740.841 1441.89,743.081 \n",
       "  1484.31,743.927 1526.74,743.097 1569.16,740.718 1611.59,737.328 1654.01,733.811 1696.44,731.235 1738.86,730.644 1781.29,732.781 1823.71,737.805 1866.14,745.033 \n",
       "  1908.56,752.769 1950.99,758.301 1993.41,758.163 2035.84,748.768 2078.26,727.569 2120.69,694.882 2163.12,656.581 2205.54,627.857 2247.97,638.296 2290.39,738.522 \n",
       "  \n",
       "  \"/>\n",
       "<polyline clip-path=\"url(#clip982)\" style=\"stroke:#c271d2; stroke-linecap:butt; stroke-linejoin:round; stroke-width:16; stroke-opacity:1; fill:none\" points=\"\n",
       "  211.556,738.522 253.981,172.513 296.406,87.9763 338.832,235.041 381.257,456.897 423.682,663.86 466.107,812.82 508.532,891.285 550.958,905.286 593.383,870.491 \n",
       "  635.808,805.962 678.233,730.027 720.658,657.812 763.084,600.054 805.509,562.839 847.934,547.987 890.359,553.84 932.784,576.262 975.21,609.691 1017.63,648.127 \n",
       "  1060.06,685.973 1102.49,718.678 1144.91,743.147 1187.34,757.921 1229.76,763.135 1272.19,760.295 1314.61,751.9 1357.04,740.979 1399.46,730.584 1441.89,723.31 \n",
       "  1484.31,720.884 1526.74,723.882 1569.16,731.617 1611.59,742.215 1654.01,752.902 1696.44,760.482 1738.86,761.991 1781.29,755.445 1823.71,740.613 1866.14,719.678 \n",
       "  1908.56,697.63 1950.99,682.182 1993.41,682.971 2035.84,709.731 2078.26,769.106 2120.69,859.686 2163.12,964.805 2205.54,1042.58 2247.97,1012.59 2290.39,738.522 \n",
       "  \n",
       "  \"/>\n",
       "<polyline clip-path=\"url(#clip982)\" style=\"stroke:#ac8d18; stroke-linecap:butt; stroke-linejoin:round; stroke-width:16; stroke-opacity:1; fill:none\" points=\"\n",
       "  211.556,738.522 253.981,1365.07 296.406,1445.72 338.832,1274.77 381.257,1031.59 423.682,814.172 466.107,665.532 508.532,593.798 550.958,587.223 593.383,624.913 \n",
       "  635.808,684.124 678.233,744.827 720.658,792.175 763.084,817.396 805.509,817.579 847.934,794.745 890.359,754.504 932.784,704.56 975.21,653.266 1017.63,608.353 \n",
       "  1060.06,575.949 1102.49,559.927 1144.91,561.608 1187.34,579.803 1229.76,611.146 1272.19,650.676 1314.61,692.577 1357.04,730.993 1399.46,760.846 1441.89,778.54 \n",
       "  1484.31,782.498 1526.74,773.446 1569.16,754.395 1611.59,730.293 1654.01,707.343 1696.44,692.017 1738.86,689.842 1781.29,704.058 1823.71,734.332 1866.14,775.723 \n",
       "  1908.56,818.186 1950.99,846.967 1993.41,844.281 2035.84,792.787 2078.26,681.405 2120.69,514.166 2163.12,322.804 2205.54,183.982 2247.97,242.065 2290.39,738.522 \n",
       "  \n",
       "  \"/>\n",
       "<polyline clip-path=\"url(#clip982)\" style=\"stroke:#00a9ad; stroke-linecap:butt; stroke-linejoin:round; stroke-width:16; stroke-opacity:1; fill:none\" points=\"\n",
       "  211.556,738.522 253.981,242.065 296.406,183.982 338.832,322.804 381.257,514.166 423.682,681.405 466.107,792.787 508.532,844.281 550.958,846.967 593.383,818.186 \n",
       "  635.808,775.723 678.233,734.332 720.658,704.058 763.084,689.842 805.509,692.017 847.934,707.343 890.359,730.293 932.784,754.395 975.21,773.446 1017.63,782.498 \n",
       "  1060.06,778.54 1102.49,760.846 1144.91,730.993 1187.34,692.577 1229.76,650.676 1272.19,611.146 1314.61,579.803 1357.04,561.608 1399.46,559.927 1441.89,575.949 \n",
       "  1484.31,608.353 1526.74,653.266 1569.16,704.56 1611.59,754.504 1654.01,794.745 1696.44,817.579 1738.86,817.396 1781.29,792.175 1823.71,744.827 1866.14,684.124 \n",
       "  1908.56,624.913 1950.99,587.223 1993.41,593.798 2035.84,665.532 2078.26,814.172 2120.69,1031.59 2163.12,1274.77 2205.54,1445.72 2247.97,1365.07 2290.39,738.522 \n",
       "  \n",
       "  \"/>\n",
       "<polyline clip-path=\"url(#clip982)\" style=\"stroke:#ed5d92; stroke-linecap:butt; stroke-linejoin:round; stroke-width:16; stroke-opacity:1; fill:none\" points=\"\n",
       "  211.556,738.522 253.981,1012.59 296.406,1042.58 338.832,964.805 381.257,859.686 423.682,769.106 466.107,709.731 508.532,682.971 550.958,682.182 593.383,697.63 \n",
       "  635.808,719.678 678.233,740.613 720.658,755.445 763.084,761.991 805.509,760.482 847.934,752.902 890.359,742.215 932.784,731.617 975.21,723.882 1017.63,720.884 \n",
       "  1060.06,723.31 1102.49,730.584 1144.91,740.979 1187.34,751.9 1229.76,760.295 1272.19,763.135 1314.61,757.921 1357.04,743.147 1399.46,718.678 1441.89,685.973 \n",
       "  1484.31,648.127 1526.74,609.691 1569.16,576.262 1611.59,553.84 1654.01,547.987 1696.44,562.839 1738.86,600.054 1781.29,657.812 1823.71,730.027 1866.14,805.962 \n",
       "  1908.56,870.491 1950.99,905.286 1993.41,891.285 2035.84,812.82 2078.26,663.86 2120.69,456.897 2163.12,235.041 2205.54,87.9763 2247.97,172.513 2290.39,738.522 \n",
       "  \n",
       "  \"/>\n",
       "<polyline clip-path=\"url(#clip982)\" style=\"stroke:#c68125; stroke-linecap:butt; stroke-linejoin:round; stroke-width:16; stroke-opacity:1; fill:none\" points=\"\n",
       "  211.556,738.522 253.981,638.296 296.406,627.857 338.832,656.581 381.257,694.882 423.682,727.569 466.107,748.768 508.532,758.163 550.958,758.301 593.383,752.769 \n",
       "  635.808,745.033 678.233,737.805 720.658,732.781 763.084,730.644 805.509,731.235 847.934,733.811 890.359,737.328 932.784,740.718 975.21,743.097 1017.63,743.927 \n",
       "  1060.06,743.081 1102.49,740.841 1144.91,737.824 1187.34,734.854 1229.76,732.79 1272.19,732.353 1314.61,733.945 1357.04,737.511 1399.46,742.447 1441.89,747.585 \n",
       "  1484.31,751.258 1526.74,751.462 1569.16,746.108 1611.59,733.36 1654.01,712.038 1696.44,682.052 1738.86,644.822 1781.29,603.621 1823.71,563.772 1866.14,532.587 \n",
       "  1908.56,518.943 1950.99,532.357 1993.41,581.393 2035.84,671.219 2078.26,800.103 2120.69,954.607 2163.12,1103.22 2205.54,1188.1 2247.97,1114.65 2290.39,738.522 \n",
       "  \n",
       "  \"/>\n",
       "<polyline clip-path=\"url(#clip982)\" style=\"stroke:#00a98d; stroke-linecap:butt; stroke-linejoin:round; stroke-width:16; stroke-opacity:1; fill:none\" points=\"\n",
       "  211.556,738.522 253.981,760.372 296.406,762.563 338.832,756.257 381.257,747.93 423.682,740.873 466.107,736.331 508.532,734.343 550.958,734.334 593.383,735.521 \n",
       "  635.808,737.158 678.233,738.671 720.658,739.709 763.084,740.14 805.509,740.008 847.934,739.475 890.359,738.761 932.784,738.085 975.21,737.621 1017.63,737.47 \n",
       "  1060.06,737.645 1102.49,738.082 1144.91,738.652 1187.34,739.196 1229.76,739.556 1272.19,739.611 1314.61,739.311 1357.04,738.691 1399.46,737.884 1441.89,737.103 \n",
       "  1484.31,736.616 1526.74,736.689 1569.16,737.519 1611.59,739.147 1654.01,741.37 1696.44,743.655 1738.86,745.067 1781.29,744.238 1823.71,739.395 1866.14,728.476 \n",
       "  1908.56,709.359 1950.99,680.258 1993.41,640.316 2035.84,590.456 2078.26,534.535 2120.69,480.882 2163.12,444.28 2205.54,448.474 2247.97,529.301 2290.39,738.522 \n",
       "  \n",
       "  \"/>\n",
       "<polyline clip-path=\"url(#clip982)\" style=\"stroke:#8e971d; stroke-linecap:butt; stroke-linejoin:round; stroke-width:16; stroke-opacity:1; fill:none\" points=\"\n",
       "  211.556,738.522 253.981,736.369 296.406,736.16 338.832,736.784 381.257,737.603 423.682,738.293 466.107,738.734 508.532,738.926 550.958,738.925 593.383,738.81 \n",
       "  635.808,738.652 678.233,738.507 720.658,738.409 763.084,738.369 805.509,738.382 847.934,738.433 890.359,738.499 932.784,738.562 975.21,738.604 1017.63,738.617 \n",
       "  1060.06,738.601 1102.49,738.561 1144.91,738.51 1187.34,738.462 1229.76,738.432 1272.19,738.428 1314.61,738.455 1357.04,738.507 1399.46,738.574 1441.89,738.636 \n",
       "  1484.31,738.673 1526.74,738.664 1569.16,738.597 1611.59,738.476 1654.01,738.32 1696.44,738.173 1738.86,738.099 1781.29,738.175 1823.71,738.473 1866.14,739.03 \n",
       "  1908.56,739.802 1950.99,740.59 1993.41,740.946 2035.84,740.045 2078.26,736.507 2120.69,728.184 2163.12,711.882 2205.54,683.019 2247.97,635.203 2290.39,559.728 \n",
       "  \n",
       "  \"/>\n",
       "<circle clip-path=\"url(#clip982)\" cx=\"211.556\" cy=\"559.728\" r=\"14.4\" fill=\"#00a8cb\" fill-rule=\"evenodd\" fill-opacity=\"1\" stroke=\"#000000\" stroke-opacity=\"1\" stroke-width=\"3.2\"/>\n",
       "<circle clip-path=\"url(#clip982)\" cx=\"442.538\" cy=\"559.728\" r=\"14.4\" fill=\"#00a8cb\" fill-rule=\"evenodd\" fill-opacity=\"1\" stroke=\"#000000\" stroke-opacity=\"1\" stroke-width=\"3.2\"/>\n",
       "<circle clip-path=\"url(#clip982)\" cx=\"673.519\" cy=\"559.728\" r=\"14.4\" fill=\"#00a8cb\" fill-rule=\"evenodd\" fill-opacity=\"1\" stroke=\"#000000\" stroke-opacity=\"1\" stroke-width=\"3.2\"/>\n",
       "<circle clip-path=\"url(#clip982)\" cx=\"904.501\" cy=\"559.728\" r=\"14.4\" fill=\"#00a8cb\" fill-rule=\"evenodd\" fill-opacity=\"1\" stroke=\"#000000\" stroke-opacity=\"1\" stroke-width=\"3.2\"/>\n",
       "<circle clip-path=\"url(#clip982)\" cx=\"1135.48\" cy=\"559.728\" r=\"14.4\" fill=\"#00a8cb\" fill-rule=\"evenodd\" fill-opacity=\"1\" stroke=\"#000000\" stroke-opacity=\"1\" stroke-width=\"3.2\"/>\n",
       "<circle clip-path=\"url(#clip982)\" cx=\"1366.46\" cy=\"559.728\" r=\"14.4\" fill=\"#00a8cb\" fill-rule=\"evenodd\" fill-opacity=\"1\" stroke=\"#000000\" stroke-opacity=\"1\" stroke-width=\"3.2\"/>\n",
       "<circle clip-path=\"url(#clip982)\" cx=\"1597.45\" cy=\"559.728\" r=\"14.4\" fill=\"#00a8cb\" fill-rule=\"evenodd\" fill-opacity=\"1\" stroke=\"#000000\" stroke-opacity=\"1\" stroke-width=\"3.2\"/>\n",
       "<circle clip-path=\"url(#clip982)\" cx=\"1828.43\" cy=\"559.728\" r=\"14.4\" fill=\"#00a8cb\" fill-rule=\"evenodd\" fill-opacity=\"1\" stroke=\"#000000\" stroke-opacity=\"1\" stroke-width=\"3.2\"/>\n",
       "<circle clip-path=\"url(#clip982)\" cx=\"2059.41\" cy=\"559.728\" r=\"14.4\" fill=\"#00a8cb\" fill-rule=\"evenodd\" fill-opacity=\"1\" stroke=\"#000000\" stroke-opacity=\"1\" stroke-width=\"3.2\"/>\n",
       "<circle clip-path=\"url(#clip982)\" cx=\"2290.39\" cy=\"559.728\" r=\"14.4\" fill=\"#00a8cb\" fill-rule=\"evenodd\" fill-opacity=\"1\" stroke=\"#000000\" stroke-opacity=\"1\" stroke-width=\"3.2\"/>\n",
       "<path clip-path=\"url(#clip980)\" d=\"\n",
       "M1950.64 717.298 L2279.3 717.298 L2279.3 95.2176 L1950.64 95.2176  Z\n",
       "  \" fill=\"#ffffff\" fill-rule=\"evenodd\" fill-opacity=\"1\"/>\n",
       "<polyline clip-path=\"url(#clip980)\" style=\"stroke:#000000; stroke-linecap:butt; stroke-linejoin:round; stroke-width:4; stroke-opacity:1; fill:none\" points=\"\n",
       "  1950.64,717.298 2279.3,717.298 2279.3,95.2176 1950.64,95.2176 1950.64,717.298 \n",
       "  \"/>\n",
       "<polyline clip-path=\"url(#clip980)\" style=\"stroke:#009af9; stroke-linecap:butt; stroke-linejoin:round; stroke-width:4; stroke-opacity:1; fill:none\" points=\"\n",
       "  1975.13,147.058 2122.03,147.058 \n",
       "  \"/>\n",
       "<path clip-path=\"url(#clip980)\" d=\"M2160.36 166.745 Q2158.55 171.375 2156.84 172.787 Q2155.13 174.199 2152.26 174.199 L2148.85 174.199 L2148.85 170.634 L2151.35 170.634 Q2153.11 170.634 2154.09 169.8 Q2155.06 168.967 2156.24 165.865 L2157 163.921 L2146.52 138.412 L2151.03 138.412 L2159.13 158.689 L2167.23 138.412 L2171.75 138.412 L2160.36 166.745 Z\" fill=\"#000000\" fill-rule=\"evenodd\" fill-opacity=\"1\" /><path clip-path=\"url(#clip980)\" d=\"M2179.04 160.402 L2186.68 160.402 L2186.68 134.037 L2178.37 135.703 L2178.37 131.444 L2186.63 129.778 L2191.31 129.778 L2191.31 160.402 L2198.95 160.402 L2198.95 164.338 L2179.04 164.338 L2179.04 160.402 Z\" fill=\"#000000\" fill-rule=\"evenodd\" fill-opacity=\"1\" /><polyline clip-path=\"url(#clip980)\" style=\"stroke:#e26f46; stroke-linecap:butt; stroke-linejoin:round; stroke-width:4; stroke-opacity:1; fill:none\" points=\"\n",
       "  1975.13,198.898 2122.03,198.898 \n",
       "  \"/>\n",
       "<path clip-path=\"url(#clip980)\" d=\"M2160.36 218.585 Q2158.55 223.215 2156.84 224.627 Q2155.13 226.039 2152.26 226.039 L2148.85 226.039 L2148.85 222.474 L2151.35 222.474 Q2153.11 222.474 2154.09 221.64 Q2155.06 220.807 2156.24 217.705 L2157 215.761 L2146.52 190.252 L2151.03 190.252 L2159.13 210.529 L2167.23 190.252 L2171.75 190.252 L2160.36 218.585 Z\" fill=\"#000000\" fill-rule=\"evenodd\" fill-opacity=\"1\" /><path clip-path=\"url(#clip980)\" d=\"M2182.26 212.242 L2198.58 212.242 L2198.58 216.178 L2176.63 216.178 L2176.63 212.242 Q2179.29 209.488 2183.88 204.858 Q2188.48 200.205 2189.66 198.863 Q2191.91 196.34 2192.79 194.604 Q2193.69 192.844 2193.69 191.155 Q2193.69 188.4 2191.75 186.664 Q2189.83 184.928 2186.72 184.928 Q2184.53 184.928 2182.07 185.692 Q2179.64 186.455 2176.86 188.006 L2176.86 183.284 Q2179.69 182.15 2182.14 181.571 Q2184.6 180.993 2186.63 180.993 Q2192 180.993 2195.2 183.678 Q2198.39 186.363 2198.39 190.854 Q2198.39 192.983 2197.58 194.905 Q2196.79 196.803 2194.69 199.395 Q2194.11 200.067 2191.01 203.284 Q2187.91 206.479 2182.26 212.242 Z\" fill=\"#000000\" fill-rule=\"evenodd\" fill-opacity=\"1\" /><polyline clip-path=\"url(#clip980)\" style=\"stroke:#3da44d; stroke-linecap:butt; stroke-linejoin:round; stroke-width:4; stroke-opacity:1; fill:none\" points=\"\n",
       "  1975.13,250.738 2122.03,250.738 \n",
       "  \"/>\n",
       "<path clip-path=\"url(#clip980)\" d=\"M2160.36 270.425 Q2158.55 275.055 2156.84 276.467 Q2155.13 277.879 2152.26 277.879 L2148.85 277.879 L2148.85 274.314 L2151.35 274.314 Q2153.11 274.314 2154.09 273.48 Q2155.06 272.647 2156.24 269.545 L2157 267.601 L2146.52 242.092 L2151.03 242.092 L2159.13 262.369 L2167.23 242.092 L2171.75 242.092 L2160.36 270.425 Z\" fill=\"#000000\" fill-rule=\"evenodd\" fill-opacity=\"1\" /><path clip-path=\"url(#clip980)\" d=\"M2192.4 249.383 Q2195.75 250.101 2197.63 252.369 Q2199.53 254.638 2199.53 257.971 Q2199.53 263.087 2196.01 265.888 Q2192.49 268.689 2186.01 268.689 Q2183.83 268.689 2181.52 268.249 Q2179.22 267.832 2176.77 266.976 L2176.77 262.462 Q2178.72 263.596 2181.03 264.175 Q2183.35 264.754 2185.87 264.754 Q2190.27 264.754 2192.56 263.018 Q2194.87 261.281 2194.87 257.971 Q2194.87 254.916 2192.72 253.203 Q2190.59 251.467 2186.77 251.467 L2182.74 251.467 L2182.74 247.624 L2186.96 247.624 Q2190.41 247.624 2192.23 246.258 Q2194.06 244.87 2194.06 242.277 Q2194.06 239.615 2192.16 238.203 Q2190.29 236.768 2186.77 236.768 Q2184.85 236.768 2182.65 237.184 Q2180.45 237.601 2177.81 238.481 L2177.81 234.314 Q2180.47 233.573 2182.79 233.203 Q2185.13 232.833 2187.19 232.833 Q2192.51 232.833 2195.61 235.263 Q2198.72 237.67 2198.72 241.791 Q2198.72 244.661 2197.07 246.652 Q2195.43 248.62 2192.4 249.383 Z\" fill=\"#000000\" fill-rule=\"evenodd\" fill-opacity=\"1\" /><polyline clip-path=\"url(#clip980)\" style=\"stroke:#c271d2; stroke-linecap:butt; stroke-linejoin:round; stroke-width:4; stroke-opacity:1; fill:none\" points=\"\n",
       "  1975.13,302.578 2122.03,302.578 \n",
       "  \"/>\n",
       "<path clip-path=\"url(#clip980)\" d=\"M2160.36 322.265 Q2158.55 326.895 2156.84 328.307 Q2155.13 329.719 2152.26 329.719 L2148.85 329.719 L2148.85 326.154 L2151.35 326.154 Q2153.11 326.154 2154.09 325.32 Q2155.06 324.487 2156.24 321.385 L2157 319.441 L2146.52 293.932 L2151.03 293.932 L2159.13 314.209 L2167.23 293.932 L2171.75 293.932 L2160.36 322.265 Z\" fill=\"#000000\" fill-rule=\"evenodd\" fill-opacity=\"1\" /><path clip-path=\"url(#clip980)\" d=\"M2191.08 289.372 L2179.27 307.821 L2191.08 307.821 L2191.08 289.372 M2189.85 285.298 L2195.73 285.298 L2195.73 307.821 L2200.66 307.821 L2200.66 311.709 L2195.73 311.709 L2195.73 319.858 L2191.08 319.858 L2191.08 311.709 L2175.47 311.709 L2175.47 307.196 L2189.85 285.298 Z\" fill=\"#000000\" fill-rule=\"evenodd\" fill-opacity=\"1\" /><polyline clip-path=\"url(#clip980)\" style=\"stroke:#ac8d18; stroke-linecap:butt; stroke-linejoin:round; stroke-width:4; stroke-opacity:1; fill:none\" points=\"\n",
       "  1975.13,354.418 2122.03,354.418 \n",
       "  \"/>\n",
       "<path clip-path=\"url(#clip980)\" d=\"M2160.36 374.105 Q2158.55 378.735 2156.84 380.147 Q2155.13 381.559 2152.26 381.559 L2148.85 381.559 L2148.85 377.994 L2151.35 377.994 Q2153.11 377.994 2154.09 377.16 Q2155.06 376.327 2156.24 373.225 L2157 371.281 L2146.52 345.772 L2151.03 345.772 L2159.13 366.049 L2167.23 345.772 L2171.75 345.772 L2160.36 374.105 Z\" fill=\"#000000\" fill-rule=\"evenodd\" fill-opacity=\"1\" /><path clip-path=\"url(#clip980)\" d=\"M2178.28 337.138 L2196.63 337.138 L2196.63 341.073 L2182.56 341.073 L2182.56 349.545 Q2183.58 349.198 2184.6 349.036 Q2185.61 348.85 2186.63 348.85 Q2192.42 348.85 2195.8 352.022 Q2199.18 355.193 2199.18 360.61 Q2199.18 366.188 2195.71 369.29 Q2192.23 372.369 2185.91 372.369 Q2183.74 372.369 2181.47 371.998 Q2179.22 371.628 2176.82 370.887 L2176.82 366.188 Q2178.9 367.323 2181.12 367.878 Q2183.35 368.434 2185.82 368.434 Q2189.83 368.434 2192.16 366.327 Q2194.5 364.221 2194.5 360.61 Q2194.5 356.999 2192.16 354.892 Q2189.83 352.786 2185.82 352.786 Q2183.95 352.786 2182.07 353.202 Q2180.22 353.619 2178.28 354.499 L2178.28 337.138 Z\" fill=\"#000000\" fill-rule=\"evenodd\" fill-opacity=\"1\" /><polyline clip-path=\"url(#clip980)\" style=\"stroke:#00a9ad; stroke-linecap:butt; stroke-linejoin:round; stroke-width:4; stroke-opacity:1; fill:none\" points=\"\n",
       "  1975.13,406.258 2122.03,406.258 \n",
       "  \"/>\n",
       "<path clip-path=\"url(#clip980)\" d=\"M2160.36 425.945 Q2158.55 430.575 2156.84 431.987 Q2155.13 433.399 2152.26 433.399 L2148.85 433.399 L2148.85 429.834 L2151.35 429.834 Q2153.11 429.834 2154.09 429 Q2155.06 428.167 2156.24 425.065 L2157 423.121 L2146.52 397.612 L2151.03 397.612 L2159.13 417.889 L2167.23 397.612 L2171.75 397.612 L2160.36 425.945 Z\" fill=\"#000000\" fill-rule=\"evenodd\" fill-opacity=\"1\" /><path clip-path=\"url(#clip980)\" d=\"M2188.81 404.394 Q2185.66 404.394 2183.81 406.547 Q2181.98 408.7 2181.98 412.45 Q2181.98 416.176 2183.81 418.352 Q2185.66 420.505 2188.81 420.505 Q2191.96 420.505 2193.78 418.352 Q2195.64 416.176 2195.64 412.45 Q2195.64 408.7 2193.78 406.547 Q2191.96 404.394 2188.81 404.394 M2198.09 389.741 L2198.09 394.001 Q2196.33 393.167 2194.53 392.728 Q2192.74 392.288 2190.98 392.288 Q2186.35 392.288 2183.9 395.413 Q2181.47 398.538 2181.12 404.857 Q2182.49 402.843 2184.55 401.778 Q2186.61 400.69 2189.09 400.69 Q2194.29 400.69 2197.3 403.862 Q2200.34 407.01 2200.34 412.45 Q2200.34 417.774 2197.19 420.991 Q2194.04 424.209 2188.81 424.209 Q2182.81 424.209 2179.64 419.626 Q2176.47 415.019 2176.47 406.292 Q2176.47 398.098 2180.36 393.237 Q2184.25 388.353 2190.8 388.353 Q2192.56 388.353 2194.34 388.7 Q2196.15 389.047 2198.09 389.741 Z\" fill=\"#000000\" fill-rule=\"evenodd\" fill-opacity=\"1\" /><polyline clip-path=\"url(#clip980)\" style=\"stroke:#ed5d92; stroke-linecap:butt; stroke-linejoin:round; stroke-width:4; stroke-opacity:1; fill:none\" points=\"\n",
       "  1975.13,458.098 2122.03,458.098 \n",
       "  \"/>\n",
       "<path clip-path=\"url(#clip980)\" d=\"M2160.36 477.785 Q2158.55 482.415 2156.84 483.827 Q2155.13 485.239 2152.26 485.239 L2148.85 485.239 L2148.85 481.674 L2151.35 481.674 Q2153.11 481.674 2154.09 480.84 Q2155.06 480.007 2156.24 476.905 L2157 474.961 L2146.52 449.452 L2151.03 449.452 L2159.13 469.729 L2167.23 449.452 L2171.75 449.452 L2160.36 477.785 Z\" fill=\"#000000\" fill-rule=\"evenodd\" fill-opacity=\"1\" /><path clip-path=\"url(#clip980)\" d=\"M2177.05 440.818 L2199.27 440.818 L2199.27 442.808 L2186.72 475.378 L2181.84 475.378 L2193.65 444.753 L2177.05 444.753 L2177.05 440.818 Z\" fill=\"#000000\" fill-rule=\"evenodd\" fill-opacity=\"1\" /><polyline clip-path=\"url(#clip980)\" style=\"stroke:#c68125; stroke-linecap:butt; stroke-linejoin:round; stroke-width:4; stroke-opacity:1; fill:none\" points=\"\n",
       "  1975.13,509.938 2122.03,509.938 \n",
       "  \"/>\n",
       "<path clip-path=\"url(#clip980)\" d=\"M2160.36 529.625 Q2158.55 534.255 2156.84 535.667 Q2155.13 537.079 2152.26 537.079 L2148.85 537.079 L2148.85 533.514 L2151.35 533.514 Q2153.11 533.514 2154.09 532.68 Q2155.06 531.847 2156.24 528.745 L2157 526.801 L2146.52 501.292 L2151.03 501.292 L2159.13 521.569 L2167.23 501.292 L2171.75 501.292 L2160.36 529.625 Z\" fill=\"#000000\" fill-rule=\"evenodd\" fill-opacity=\"1\" /><path clip-path=\"url(#clip980)\" d=\"M2188.23 510.806 Q2184.9 510.806 2182.97 512.588 Q2181.08 514.37 2181.08 517.495 Q2181.08 520.62 2182.97 522.403 Q2184.9 524.185 2188.23 524.185 Q2191.56 524.185 2193.48 522.403 Q2195.41 520.597 2195.41 517.495 Q2195.41 514.37 2193.48 512.588 Q2191.59 510.806 2188.23 510.806 M2183.55 508.815 Q2180.54 508.074 2178.85 506.014 Q2177.19 503.954 2177.19 500.991 Q2177.19 496.847 2180.13 494.44 Q2183.09 492.033 2188.23 492.033 Q2193.39 492.033 2196.33 494.44 Q2199.27 496.847 2199.27 500.991 Q2199.27 503.954 2197.58 506.014 Q2195.91 508.074 2192.93 508.815 Q2196.31 509.602 2198.18 511.894 Q2200.08 514.185 2200.08 517.495 Q2200.08 522.519 2197 525.204 Q2193.95 527.889 2188.23 527.889 Q2182.51 527.889 2179.43 525.204 Q2176.38 522.519 2176.38 517.495 Q2176.38 514.185 2178.28 511.894 Q2180.17 509.602 2183.55 508.815 M2181.84 501.431 Q2181.84 504.116 2183.51 505.62 Q2185.2 507.125 2188.23 507.125 Q2191.24 507.125 2192.93 505.62 Q2194.64 504.116 2194.64 501.431 Q2194.64 498.745 2192.93 497.241 Q2191.24 495.736 2188.23 495.736 Q2185.2 495.736 2183.51 497.241 Q2181.84 498.745 2181.84 501.431 Z\" fill=\"#000000\" fill-rule=\"evenodd\" fill-opacity=\"1\" /><polyline clip-path=\"url(#clip980)\" style=\"stroke:#00a98d; stroke-linecap:butt; stroke-linejoin:round; stroke-width:4; stroke-opacity:1; fill:none\" points=\"\n",
       "  1975.13,561.778 2122.03,561.778 \n",
       "  \"/>\n",
       "<path clip-path=\"url(#clip980)\" d=\"M2160.36 581.465 Q2158.55 586.095 2156.84 587.507 Q2155.13 588.919 2152.26 588.919 L2148.85 588.919 L2148.85 585.354 L2151.35 585.354 Q2153.11 585.354 2154.09 584.52 Q2155.06 583.687 2156.24 580.585 L2157 578.641 L2146.52 553.132 L2151.03 553.132 L2159.13 573.409 L2167.23 553.132 L2171.75 553.132 L2160.36 581.465 Z\" fill=\"#000000\" fill-rule=\"evenodd\" fill-opacity=\"1\" /><path clip-path=\"url(#clip980)\" d=\"M2178.37 578.34 L2178.37 574.081 Q2180.13 574.914 2181.93 575.354 Q2183.74 575.794 2185.47 575.794 Q2190.1 575.794 2192.53 572.692 Q2194.99 569.567 2195.34 563.224 Q2193.99 565.215 2191.93 566.28 Q2189.87 567.345 2187.37 567.345 Q2182.19 567.345 2179.16 564.22 Q2176.15 561.072 2176.15 555.632 Q2176.15 550.308 2179.29 547.09 Q2182.44 543.873 2187.67 543.873 Q2193.67 543.873 2196.82 548.479 Q2199.99 553.062 2199.99 561.812 Q2199.99 569.984 2196.1 574.868 Q2192.23 579.729 2185.68 579.729 Q2183.92 579.729 2182.12 579.382 Q2180.31 579.034 2178.37 578.34 M2187.67 563.687 Q2190.82 563.687 2192.65 561.534 Q2194.5 559.382 2194.5 555.632 Q2194.5 551.905 2192.65 549.752 Q2190.82 547.576 2187.67 547.576 Q2184.53 547.576 2182.67 549.752 Q2180.85 551.905 2180.85 555.632 Q2180.85 559.382 2182.67 561.534 Q2184.53 563.687 2187.67 563.687 Z\" fill=\"#000000\" fill-rule=\"evenodd\" fill-opacity=\"1\" /><polyline clip-path=\"url(#clip980)\" style=\"stroke:#8e971d; stroke-linecap:butt; stroke-linejoin:round; stroke-width:4; stroke-opacity:1; fill:none\" points=\"\n",
       "  1975.13,613.618 2122.03,613.618 \n",
       "  \"/>\n",
       "<path clip-path=\"url(#clip980)\" d=\"M2160.36 633.305 Q2158.55 637.935 2156.84 639.347 Q2155.13 640.759 2152.26 640.759 L2148.85 640.759 L2148.85 637.194 L2151.35 637.194 Q2153.11 637.194 2154.09 636.36 Q2155.06 635.527 2156.24 632.425 L2157 630.481 L2146.52 604.972 L2151.03 604.972 L2159.13 625.249 L2167.23 604.972 L2171.75 604.972 L2160.36 633.305 Z\" fill=\"#000000\" fill-rule=\"evenodd\" fill-opacity=\"1\" /><path clip-path=\"url(#clip980)\" d=\"M2179.04 626.962 L2186.68 626.962 L2186.68 600.597 L2178.37 602.263 L2178.37 598.004 L2186.63 596.338 L2191.31 596.338 L2191.31 626.962 L2198.95 626.962 L2198.95 630.898 L2179.04 630.898 L2179.04 626.962 Z\" fill=\"#000000\" fill-rule=\"evenodd\" fill-opacity=\"1\" /><path clip-path=\"url(#clip980)\" d=\"M2218.39 599.416 Q2214.78 599.416 2212.95 602.981 Q2211.15 606.523 2211.15 613.652 Q2211.15 620.759 2212.95 624.324 Q2214.78 627.865 2218.39 627.865 Q2222.03 627.865 2223.83 624.324 Q2225.66 620.759 2225.66 613.652 Q2225.66 606.523 2223.83 602.981 Q2222.03 599.416 2218.39 599.416 M2218.39 595.713 Q2224.2 595.713 2227.26 600.319 Q2230.34 604.902 2230.34 613.652 Q2230.34 622.379 2227.26 626.986 Q2224.2 631.569 2218.39 631.569 Q2212.58 631.569 2209.5 626.986 Q2206.45 622.379 2206.45 613.652 Q2206.45 604.902 2209.5 600.319 Q2212.58 595.713 2218.39 595.713 Z\" fill=\"#000000\" fill-rule=\"evenodd\" fill-opacity=\"1\" /><circle clip-path=\"url(#clip980)\" cx=\"2048.58\" cy=\"665.458\" r=\"23.04\" fill=\"#00a8cb\" fill-rule=\"evenodd\" fill-opacity=\"1\" stroke=\"#000000\" stroke-opacity=\"1\" stroke-width=\"5.12\"/>\n",
       "<path clip-path=\"url(#clip980)\" d=\"M2160.36 685.145 Q2158.55 689.775 2156.84 691.187 Q2155.13 692.599 2152.26 692.599 L2148.85 692.599 L2148.85 689.034 L2151.35 689.034 Q2153.11 689.034 2154.09 688.2 Q2155.06 687.367 2156.24 684.265 L2157 682.321 L2146.52 656.812 L2151.03 656.812 L2159.13 677.089 L2167.23 656.812 L2171.75 656.812 L2160.36 685.145 Z\" fill=\"#000000\" fill-rule=\"evenodd\" fill-opacity=\"1\" /><path clip-path=\"url(#clip980)\" d=\"M2179.04 678.802 L2186.68 678.802 L2186.68 652.437 L2178.37 654.103 L2178.37 649.844 L2186.63 648.178 L2191.31 648.178 L2191.31 678.802 L2198.95 678.802 L2198.95 682.738 L2179.04 682.738 L2179.04 678.802 Z\" fill=\"#000000\" fill-rule=\"evenodd\" fill-opacity=\"1\" /><path clip-path=\"url(#clip980)\" d=\"M2209.2 678.802 L2216.84 678.802 L2216.84 652.437 L2208.53 654.103 L2208.53 649.844 L2216.79 648.178 L2221.47 648.178 L2221.47 678.802 L2229.11 678.802 L2229.11 682.738 L2209.2 682.738 L2209.2 678.802 Z\" fill=\"#000000\" fill-rule=\"evenodd\" fill-opacity=\"1\" /></svg>\n"
      ]
     },
     "execution_count": 9,
     "metadata": {},
     "output_type": "execute_result"
    }
   ],
   "source": [
    "k = 10\n",
    "xn = LinRange(-1, 1, k)\n",
    "V = vander_legendre(xn)\n",
    "xx = LinRange(-1, 1, 50)\n",
    "Pxx = vander_legendre(xx, k)\n",
    "Pn = Pxx / V\n",
    "plot(xx, Pn)\n",
    "scatter!(xn, one.(xn))"
   ]
  },
  {
   "cell_type": "code",
   "execution_count": 10,
   "id": "1efc623f",
   "metadata": {
    "cell_style": "split",
    "slideshow": {
     "slide_type": "fragment"
    }
   },
   "outputs": [
    {
     "data": {
      "image/svg+xml": [
       "<?xml version=\"1.0\" encoding=\"utf-8\"?>\n",
       "<svg xmlns=\"http://www.w3.org/2000/svg\" xmlns:xlink=\"http://www.w3.org/1999/xlink\" width=\"600\" height=\"400\" viewBox=\"0 0 2400 1600\">\n",
       "<defs>\n",
       "  <clipPath id=\"clip020\">\n",
       "    <rect x=\"0\" y=\"0\" width=\"2400\" height=\"1600\"/>\n",
       "  </clipPath>\n",
       "</defs>\n",
       "<path clip-path=\"url(#clip020)\" d=\"\n",
       "M0 1600 L2400 1600 L2400 0 L0 0  Z\n",
       "  \" fill=\"#ffffff\" fill-rule=\"evenodd\" fill-opacity=\"1\"/>\n",
       "<defs>\n",
       "  <clipPath id=\"clip021\">\n",
       "    <rect x=\"480\" y=\"0\" width=\"1681\" height=\"1600\"/>\n",
       "  </clipPath>\n",
       "</defs>\n",
       "<path clip-path=\"url(#clip020)\" d=\"\n",
       "M186.274 1486.45 L2352.76 1486.45 L2352.76 47.2441 L186.274 47.2441  Z\n",
       "  \" fill=\"#ffffff\" fill-rule=\"evenodd\" fill-opacity=\"1\"/>\n",
       "<defs>\n",
       "  <clipPath id=\"clip022\">\n",
       "    <rect x=\"186\" y=\"47\" width=\"2167\" height=\"1440\"/>\n",
       "  </clipPath>\n",
       "</defs>\n",
       "<polyline clip-path=\"url(#clip022)\" style=\"stroke:#000000; stroke-linecap:butt; stroke-linejoin:round; stroke-width:2; stroke-opacity:0.1; fill:none\" points=\"\n",
       "  247.59,1486.45 247.59,47.2441 \n",
       "  \"/>\n",
       "<polyline clip-path=\"url(#clip022)\" style=\"stroke:#000000; stroke-linecap:butt; stroke-linejoin:round; stroke-width:2; stroke-opacity:0.1; fill:none\" points=\"\n",
       "  758.552,1486.45 758.552,47.2441 \n",
       "  \"/>\n",
       "<polyline clip-path=\"url(#clip022)\" style=\"stroke:#000000; stroke-linecap:butt; stroke-linejoin:round; stroke-width:2; stroke-opacity:0.1; fill:none\" points=\"\n",
       "  1269.51,1486.45 1269.51,47.2441 \n",
       "  \"/>\n",
       "<polyline clip-path=\"url(#clip022)\" style=\"stroke:#000000; stroke-linecap:butt; stroke-linejoin:round; stroke-width:2; stroke-opacity:0.1; fill:none\" points=\"\n",
       "  1780.48,1486.45 1780.48,47.2441 \n",
       "  \"/>\n",
       "<polyline clip-path=\"url(#clip022)\" style=\"stroke:#000000; stroke-linecap:butt; stroke-linejoin:round; stroke-width:2; stroke-opacity:0.1; fill:none\" points=\"\n",
       "  2291.44,1486.45 2291.44,47.2441 \n",
       "  \"/>\n",
       "<polyline clip-path=\"url(#clip020)\" style=\"stroke:#000000; stroke-linecap:butt; stroke-linejoin:round; stroke-width:4; stroke-opacity:1; fill:none\" points=\"\n",
       "  186.274,1486.45 2352.76,1486.45 \n",
       "  \"/>\n",
       "<polyline clip-path=\"url(#clip020)\" style=\"stroke:#000000; stroke-linecap:butt; stroke-linejoin:round; stroke-width:4; stroke-opacity:1; fill:none\" points=\"\n",
       "  247.59,1486.45 247.59,1467.55 \n",
       "  \"/>\n",
       "<polyline clip-path=\"url(#clip020)\" style=\"stroke:#000000; stroke-linecap:butt; stroke-linejoin:round; stroke-width:4; stroke-opacity:1; fill:none\" points=\"\n",
       "  758.552,1486.45 758.552,1467.55 \n",
       "  \"/>\n",
       "<polyline clip-path=\"url(#clip020)\" style=\"stroke:#000000; stroke-linecap:butt; stroke-linejoin:round; stroke-width:4; stroke-opacity:1; fill:none\" points=\"\n",
       "  1269.51,1486.45 1269.51,1467.55 \n",
       "  \"/>\n",
       "<polyline clip-path=\"url(#clip020)\" style=\"stroke:#000000; stroke-linecap:butt; stroke-linejoin:round; stroke-width:4; stroke-opacity:1; fill:none\" points=\"\n",
       "  1780.48,1486.45 1780.48,1467.55 \n",
       "  \"/>\n",
       "<polyline clip-path=\"url(#clip020)\" style=\"stroke:#000000; stroke-linecap:butt; stroke-linejoin:round; stroke-width:4; stroke-opacity:1; fill:none\" points=\"\n",
       "  2291.44,1486.45 2291.44,1467.55 \n",
       "  \"/>\n",
       "<path clip-path=\"url(#clip020)\" d=\"M194.118 1532.02 L223.793 1532.02 L223.793 1535.95 L194.118 1535.95 L194.118 1532.02 Z\" fill=\"#000000\" fill-rule=\"evenodd\" fill-opacity=\"1\" /><path clip-path=\"url(#clip020)\" d=\"M234.696 1544.91 L242.335 1544.91 L242.335 1518.55 L234.025 1520.21 L234.025 1515.95 L242.289 1514.29 L246.965 1514.29 L246.965 1544.91 L254.603 1544.91 L254.603 1548.85 L234.696 1548.85 L234.696 1544.91 Z\" fill=\"#000000\" fill-rule=\"evenodd\" fill-opacity=\"1\" /><path clip-path=\"url(#clip020)\" d=\"M264.048 1542.97 L268.932 1542.97 L268.932 1548.85 L264.048 1548.85 L264.048 1542.97 Z\" fill=\"#000000\" fill-rule=\"evenodd\" fill-opacity=\"1\" /><path clip-path=\"url(#clip020)\" d=\"M289.117 1517.37 Q285.506 1517.37 283.677 1520.93 Q281.872 1524.47 281.872 1531.6 Q281.872 1538.71 283.677 1542.27 Q285.506 1545.82 289.117 1545.82 Q292.751 1545.82 294.557 1542.27 Q296.386 1538.71 296.386 1531.6 Q296.386 1524.47 294.557 1520.93 Q292.751 1517.37 289.117 1517.37 M289.117 1513.66 Q294.927 1513.66 297.983 1518.27 Q301.061 1522.85 301.061 1531.6 Q301.061 1540.33 297.983 1544.94 Q294.927 1549.52 289.117 1549.52 Q283.307 1549.52 280.228 1544.94 Q277.173 1540.33 277.173 1531.6 Q277.173 1522.85 280.228 1518.27 Q283.307 1513.66 289.117 1513.66 Z\" fill=\"#000000\" fill-rule=\"evenodd\" fill-opacity=\"1\" /><path clip-path=\"url(#clip020)\" d=\"M705.578 1532.02 L735.254 1532.02 L735.254 1535.95 L705.578 1535.95 L705.578 1532.02 Z\" fill=\"#000000\" fill-rule=\"evenodd\" fill-opacity=\"1\" /><path clip-path=\"url(#clip020)\" d=\"M755.346 1517.37 Q751.735 1517.37 749.906 1520.93 Q748.101 1524.47 748.101 1531.6 Q748.101 1538.71 749.906 1542.27 Q751.735 1545.82 755.346 1545.82 Q758.98 1545.82 760.786 1542.27 Q762.615 1538.71 762.615 1531.6 Q762.615 1524.47 760.786 1520.93 Q758.98 1517.37 755.346 1517.37 M755.346 1513.66 Q761.156 1513.66 764.212 1518.27 Q767.291 1522.85 767.291 1531.6 Q767.291 1540.33 764.212 1544.94 Q761.156 1549.52 755.346 1549.52 Q749.536 1549.52 746.457 1544.94 Q743.402 1540.33 743.402 1531.6 Q743.402 1522.85 746.457 1518.27 Q749.536 1513.66 755.346 1513.66 Z\" fill=\"#000000\" fill-rule=\"evenodd\" fill-opacity=\"1\" /><path clip-path=\"url(#clip020)\" d=\"M775.508 1542.97 L780.392 1542.97 L780.392 1548.85 L775.508 1548.85 L775.508 1542.97 Z\" fill=\"#000000\" fill-rule=\"evenodd\" fill-opacity=\"1\" /><path clip-path=\"url(#clip020)\" d=\"M790.624 1514.29 L808.98 1514.29 L808.98 1518.22 L794.906 1518.22 L794.906 1526.7 Q795.925 1526.35 796.943 1526.19 Q797.962 1526 798.98 1526 Q804.767 1526 808.147 1529.17 Q811.526 1532.34 811.526 1537.76 Q811.526 1543.34 808.054 1546.44 Q804.582 1549.52 798.263 1549.52 Q796.087 1549.52 793.818 1549.15 Q791.573 1548.78 789.166 1548.04 L789.166 1543.34 Q791.249 1544.47 793.471 1545.03 Q795.693 1545.58 798.17 1545.58 Q802.175 1545.58 804.513 1543.48 Q806.851 1541.37 806.851 1537.76 Q806.851 1534.15 804.513 1532.04 Q802.175 1529.94 798.17 1529.94 Q796.295 1529.94 794.42 1530.35 Q792.568 1530.77 790.624 1531.65 L790.624 1514.29 Z\" fill=\"#000000\" fill-rule=\"evenodd\" fill-opacity=\"1\" /><path clip-path=\"url(#clip020)\" d=\"M1246.9 1517.37 Q1243.29 1517.37 1241.46 1520.93 Q1239.65 1524.47 1239.65 1531.6 Q1239.65 1538.71 1241.46 1542.27 Q1243.29 1545.82 1246.9 1545.82 Q1250.53 1545.82 1252.34 1542.27 Q1254.17 1538.71 1254.17 1531.6 Q1254.17 1524.47 1252.34 1520.93 Q1250.53 1517.37 1246.9 1517.37 M1246.9 1513.66 Q1252.71 1513.66 1255.77 1518.27 Q1258.84 1522.85 1258.84 1531.6 Q1258.84 1540.33 1255.77 1544.94 Q1252.71 1549.52 1246.9 1549.52 Q1241.09 1549.52 1238.01 1544.94 Q1234.95 1540.33 1234.95 1531.6 Q1234.95 1522.85 1238.01 1518.27 Q1241.09 1513.66 1246.9 1513.66 Z\" fill=\"#000000\" fill-rule=\"evenodd\" fill-opacity=\"1\" /><path clip-path=\"url(#clip020)\" d=\"M1267.06 1542.97 L1271.95 1542.97 L1271.95 1548.85 L1267.06 1548.85 L1267.06 1542.97 Z\" fill=\"#000000\" fill-rule=\"evenodd\" fill-opacity=\"1\" /><path clip-path=\"url(#clip020)\" d=\"M1292.13 1517.37 Q1288.52 1517.37 1286.69 1520.93 Q1284.89 1524.47 1284.89 1531.6 Q1284.89 1538.71 1286.69 1542.27 Q1288.52 1545.82 1292.13 1545.82 Q1295.76 1545.82 1297.57 1542.27 Q1299.4 1538.71 1299.4 1531.6 Q1299.4 1524.47 1297.57 1520.93 Q1295.76 1517.37 1292.13 1517.37 M1292.13 1513.66 Q1297.94 1513.66 1301 1518.27 Q1304.07 1522.85 1304.07 1531.6 Q1304.07 1540.33 1301 1544.94 Q1297.94 1549.52 1292.13 1549.52 Q1286.32 1549.52 1283.24 1544.94 Q1280.19 1540.33 1280.19 1531.6 Q1280.19 1522.85 1283.24 1518.27 Q1286.32 1513.66 1292.13 1513.66 Z\" fill=\"#000000\" fill-rule=\"evenodd\" fill-opacity=\"1\" /><path clip-path=\"url(#clip020)\" d=\"M1758.36 1517.37 Q1754.75 1517.37 1752.92 1520.93 Q1751.11 1524.47 1751.11 1531.6 Q1751.11 1538.71 1752.92 1542.27 Q1754.75 1545.82 1758.36 1545.82 Q1761.99 1545.82 1763.8 1542.27 Q1765.63 1538.71 1765.63 1531.6 Q1765.63 1524.47 1763.8 1520.93 Q1761.99 1517.37 1758.36 1517.37 M1758.36 1513.66 Q1764.17 1513.66 1767.23 1518.27 Q1770.3 1522.85 1770.3 1531.6 Q1770.3 1540.33 1767.23 1544.94 Q1764.17 1549.52 1758.36 1549.52 Q1752.55 1549.52 1749.47 1544.94 Q1746.42 1540.33 1746.42 1531.6 Q1746.42 1522.85 1749.47 1518.27 Q1752.55 1513.66 1758.36 1513.66 Z\" fill=\"#000000\" fill-rule=\"evenodd\" fill-opacity=\"1\" /><path clip-path=\"url(#clip020)\" d=\"M1778.52 1542.97 L1783.41 1542.97 L1783.41 1548.85 L1778.52 1548.85 L1778.52 1542.97 Z\" fill=\"#000000\" fill-rule=\"evenodd\" fill-opacity=\"1\" /><path clip-path=\"url(#clip020)\" d=\"M1793.64 1514.29 L1811.99 1514.29 L1811.99 1518.22 L1797.92 1518.22 L1797.92 1526.7 Q1798.94 1526.35 1799.96 1526.19 Q1800.98 1526 1801.99 1526 Q1807.78 1526 1811.16 1529.17 Q1814.54 1532.34 1814.54 1537.76 Q1814.54 1543.34 1811.07 1546.44 Q1807.6 1549.52 1801.28 1549.52 Q1799.1 1549.52 1796.83 1549.15 Q1794.59 1548.78 1792.18 1548.04 L1792.18 1543.34 Q1794.26 1544.47 1796.48 1545.03 Q1798.71 1545.58 1801.18 1545.58 Q1805.19 1545.58 1807.53 1543.48 Q1809.86 1541.37 1809.86 1537.76 Q1809.86 1534.15 1807.53 1532.04 Q1805.19 1529.94 1801.18 1529.94 Q1799.31 1529.94 1797.43 1530.35 Q1795.58 1530.77 1793.64 1531.65 L1793.64 1514.29 Z\" fill=\"#000000\" fill-rule=\"evenodd\" fill-opacity=\"1\" /><path clip-path=\"url(#clip020)\" d=\"M2258.59 1544.91 L2266.23 1544.91 L2266.23 1518.55 L2257.92 1520.21 L2257.92 1515.95 L2266.19 1514.29 L2270.86 1514.29 L2270.86 1544.91 L2278.5 1544.91 L2278.5 1548.85 L2258.59 1548.85 L2258.59 1544.91 Z\" fill=\"#000000\" fill-rule=\"evenodd\" fill-opacity=\"1\" /><path clip-path=\"url(#clip020)\" d=\"M2287.95 1542.97 L2292.83 1542.97 L2292.83 1548.85 L2287.95 1548.85 L2287.95 1542.97 Z\" fill=\"#000000\" fill-rule=\"evenodd\" fill-opacity=\"1\" /><path clip-path=\"url(#clip020)\" d=\"M2313.01 1517.37 Q2309.4 1517.37 2307.57 1520.93 Q2305.77 1524.47 2305.77 1531.6 Q2305.77 1538.71 2307.57 1542.27 Q2309.4 1545.82 2313.01 1545.82 Q2316.65 1545.82 2318.45 1542.27 Q2320.28 1538.71 2320.28 1531.6 Q2320.28 1524.47 2318.45 1520.93 Q2316.65 1517.37 2313.01 1517.37 M2313.01 1513.66 Q2318.82 1513.66 2321.88 1518.27 Q2324.96 1522.85 2324.96 1531.6 Q2324.96 1540.33 2321.88 1544.94 Q2318.82 1549.52 2313.01 1549.52 Q2307.2 1549.52 2304.13 1544.94 Q2301.07 1540.33 2301.07 1531.6 Q2301.07 1522.85 2304.13 1518.27 Q2307.2 1513.66 2313.01 1513.66 Z\" fill=\"#000000\" fill-rule=\"evenodd\" fill-opacity=\"1\" /><polyline clip-path=\"url(#clip022)\" style=\"stroke:#000000; stroke-linecap:butt; stroke-linejoin:round; stroke-width:2; stroke-opacity:0.1; fill:none\" points=\"\n",
       "  186.274,1207.25 2352.76,1207.25 \n",
       "  \"/>\n",
       "<polyline clip-path=\"url(#clip022)\" style=\"stroke:#000000; stroke-linecap:butt; stroke-linejoin:round; stroke-width:2; stroke-opacity:0.1; fill:none\" points=\"\n",
       "  186.274,927.431 2352.76,927.431 \n",
       "  \"/>\n",
       "<polyline clip-path=\"url(#clip022)\" style=\"stroke:#000000; stroke-linecap:butt; stroke-linejoin:round; stroke-width:2; stroke-opacity:0.1; fill:none\" points=\"\n",
       "  186.274,647.613 2352.76,647.613 \n",
       "  \"/>\n",
       "<polyline clip-path=\"url(#clip022)\" style=\"stroke:#000000; stroke-linecap:butt; stroke-linejoin:round; stroke-width:2; stroke-opacity:0.1; fill:none\" points=\"\n",
       "  186.274,367.795 2352.76,367.795 \n",
       "  \"/>\n",
       "<polyline clip-path=\"url(#clip022)\" style=\"stroke:#000000; stroke-linecap:butt; stroke-linejoin:round; stroke-width:2; stroke-opacity:0.1; fill:none\" points=\"\n",
       "  186.274,87.9763 2352.76,87.9763 \n",
       "  \"/>\n",
       "<polyline clip-path=\"url(#clip020)\" style=\"stroke:#000000; stroke-linecap:butt; stroke-linejoin:round; stroke-width:4; stroke-opacity:1; fill:none\" points=\"\n",
       "  186.274,1486.45 186.274,47.2441 \n",
       "  \"/>\n",
       "<polyline clip-path=\"url(#clip020)\" style=\"stroke:#000000; stroke-linecap:butt; stroke-linejoin:round; stroke-width:4; stroke-opacity:1; fill:none\" points=\"\n",
       "  186.274,1207.25 205.172,1207.25 \n",
       "  \"/>\n",
       "<polyline clip-path=\"url(#clip020)\" style=\"stroke:#000000; stroke-linecap:butt; stroke-linejoin:round; stroke-width:4; stroke-opacity:1; fill:none\" points=\"\n",
       "  186.274,927.431 205.172,927.431 \n",
       "  \"/>\n",
       "<polyline clip-path=\"url(#clip020)\" style=\"stroke:#000000; stroke-linecap:butt; stroke-linejoin:round; stroke-width:4; stroke-opacity:1; fill:none\" points=\"\n",
       "  186.274,647.613 205.172,647.613 \n",
       "  \"/>\n",
       "<polyline clip-path=\"url(#clip020)\" style=\"stroke:#000000; stroke-linecap:butt; stroke-linejoin:round; stroke-width:4; stroke-opacity:1; fill:none\" points=\"\n",
       "  186.274,367.795 205.172,367.795 \n",
       "  \"/>\n",
       "<polyline clip-path=\"url(#clip020)\" style=\"stroke:#000000; stroke-linecap:butt; stroke-linejoin:round; stroke-width:4; stroke-opacity:1; fill:none\" points=\"\n",
       "  186.274,87.9763 205.172,87.9763 \n",
       "  \"/>\n",
       "<path clip-path=\"url(#clip020)\" d=\"M62.9365 1193.05 Q59.3254 1193.05 57.4967 1196.61 Q55.6912 1200.15 55.6912 1207.28 Q55.6912 1214.39 57.4967 1217.96 Q59.3254 1221.5 62.9365 1221.5 Q66.5707 1221.5 68.3763 1217.96 Q70.205 1214.39 70.205 1207.28 Q70.205 1200.15 68.3763 1196.61 Q66.5707 1193.05 62.9365 1193.05 M62.9365 1189.34 Q68.7467 1189.34 71.8022 1193.95 Q74.8809 1198.53 74.8809 1207.28 Q74.8809 1216.01 71.8022 1220.62 Q68.7467 1225.2 62.9365 1225.2 Q57.1264 1225.2 54.0477 1220.62 Q50.9921 1216.01 50.9921 1207.28 Q50.9921 1198.53 54.0477 1193.95 Q57.1264 1189.34 62.9365 1189.34 Z\" fill=\"#000000\" fill-rule=\"evenodd\" fill-opacity=\"1\" /><path clip-path=\"url(#clip020)\" d=\"M83.0984 1218.65 L87.9827 1218.65 L87.9827 1224.53 L83.0984 1224.53 L83.0984 1218.65 Z\" fill=\"#000000\" fill-rule=\"evenodd\" fill-opacity=\"1\" /><path clip-path=\"url(#clip020)\" d=\"M108.168 1193.05 Q104.557 1193.05 102.728 1196.61 Q100.922 1200.15 100.922 1207.28 Q100.922 1214.39 102.728 1217.96 Q104.557 1221.5 108.168 1221.5 Q111.802 1221.5 113.608 1217.96 Q115.436 1214.39 115.436 1207.28 Q115.436 1200.15 113.608 1196.61 Q111.802 1193.05 108.168 1193.05 M108.168 1189.34 Q113.978 1189.34 117.033 1193.95 Q120.112 1198.53 120.112 1207.28 Q120.112 1216.01 117.033 1220.62 Q113.978 1225.2 108.168 1225.2 Q102.358 1225.2 99.2789 1220.62 Q96.2234 1216.01 96.2234 1207.28 Q96.2234 1198.53 99.2789 1193.95 Q102.358 1189.34 108.168 1189.34 Z\" fill=\"#000000\" fill-rule=\"evenodd\" fill-opacity=\"1\" /><path clip-path=\"url(#clip020)\" d=\"M138.33 1193.05 Q134.719 1193.05 132.89 1196.61 Q131.084 1200.15 131.084 1207.28 Q131.084 1214.39 132.89 1217.96 Q134.719 1221.5 138.33 1221.5 Q141.964 1221.5 143.769 1217.96 Q145.598 1214.39 145.598 1207.28 Q145.598 1200.15 143.769 1196.61 Q141.964 1193.05 138.33 1193.05 M138.33 1189.34 Q144.14 1189.34 147.195 1193.95 Q150.274 1198.53 150.274 1207.28 Q150.274 1216.01 147.195 1220.62 Q144.14 1225.2 138.33 1225.2 Q132.519 1225.2 129.441 1220.62 Q126.385 1216.01 126.385 1207.28 Q126.385 1198.53 129.441 1193.95 Q132.519 1189.34 138.33 1189.34 Z\" fill=\"#000000\" fill-rule=\"evenodd\" fill-opacity=\"1\" /><path clip-path=\"url(#clip020)\" d=\"M63.9319 913.23 Q60.3208 913.23 58.4921 916.795 Q56.6865 920.336 56.6865 927.466 Q56.6865 934.572 58.4921 938.137 Q60.3208 941.679 63.9319 941.679 Q67.5661 941.679 69.3717 938.137 Q71.2004 934.572 71.2004 927.466 Q71.2004 920.336 69.3717 916.795 Q67.5661 913.23 63.9319 913.23 M63.9319 909.526 Q69.742 909.526 72.7976 914.133 Q75.8763 918.716 75.8763 927.466 Q75.8763 936.193 72.7976 940.799 Q69.742 945.383 63.9319 945.383 Q58.1217 945.383 55.043 940.799 Q51.9875 936.193 51.9875 927.466 Q51.9875 918.716 55.043 914.133 Q58.1217 909.526 63.9319 909.526 Z\" fill=\"#000000\" fill-rule=\"evenodd\" fill-opacity=\"1\" /><path clip-path=\"url(#clip020)\" d=\"M84.0938 938.832 L88.978 938.832 L88.978 944.711 L84.0938 944.711 L84.0938 938.832 Z\" fill=\"#000000\" fill-rule=\"evenodd\" fill-opacity=\"1\" /><path clip-path=\"url(#clip020)\" d=\"M103.191 940.776 L119.51 940.776 L119.51 944.711 L97.566 944.711 L97.566 940.776 Q100.228 938.021 104.811 933.392 Q109.418 928.739 110.598 927.397 Q112.844 924.873 113.723 923.137 Q114.626 921.378 114.626 919.688 Q114.626 916.934 112.682 915.198 Q110.76 913.461 107.658 913.461 Q105.459 913.461 103.006 914.225 Q100.575 914.989 97.7974 916.54 L97.7974 911.818 Q100.621 910.684 103.075 910.105 Q105.529 909.526 107.566 909.526 Q112.936 909.526 116.131 912.211 Q119.325 914.897 119.325 919.387 Q119.325 921.517 118.515 923.438 Q117.728 925.336 115.621 927.929 Q115.043 928.6 111.941 931.818 Q108.839 935.012 103.191 940.776 Z\" fill=\"#000000\" fill-rule=\"evenodd\" fill-opacity=\"1\" /><path clip-path=\"url(#clip020)\" d=\"M129.371 910.151 L147.728 910.151 L147.728 914.086 L133.654 914.086 L133.654 922.559 Q134.672 922.211 135.691 922.049 Q136.709 921.864 137.728 921.864 Q143.515 921.864 146.894 925.035 Q150.274 928.207 150.274 933.623 Q150.274 939.202 146.802 942.304 Q143.33 945.383 137.01 945.383 Q134.834 945.383 132.566 945.012 Q130.32 944.642 127.913 943.901 L127.913 939.202 Q129.996 940.336 132.219 940.892 Q134.441 941.447 136.918 941.447 Q140.922 941.447 143.26 939.341 Q145.598 937.234 145.598 933.623 Q145.598 930.012 143.26 927.906 Q140.922 925.799 136.918 925.799 Q135.043 925.799 133.168 926.216 Q131.316 926.633 129.371 927.512 L129.371 910.151 Z\" fill=\"#000000\" fill-rule=\"evenodd\" fill-opacity=\"1\" /><path clip-path=\"url(#clip020)\" d=\"M62.9365 633.412 Q59.3254 633.412 57.4967 636.976 Q55.6912 640.518 55.6912 647.648 Q55.6912 654.754 57.4967 658.319 Q59.3254 661.861 62.9365 661.861 Q66.5707 661.861 68.3763 658.319 Q70.205 654.754 70.205 647.648 Q70.205 640.518 68.3763 636.976 Q66.5707 633.412 62.9365 633.412 M62.9365 629.708 Q68.7467 629.708 71.8022 634.314 Q74.8809 638.898 74.8809 647.648 Q74.8809 656.374 71.8022 660.981 Q68.7467 665.564 62.9365 665.564 Q57.1264 665.564 54.0477 660.981 Q50.9921 656.374 50.9921 647.648 Q50.9921 638.898 54.0477 634.314 Q57.1264 629.708 62.9365 629.708 Z\" fill=\"#000000\" fill-rule=\"evenodd\" fill-opacity=\"1\" /><path clip-path=\"url(#clip020)\" d=\"M83.0984 659.013 L87.9827 659.013 L87.9827 664.893 L83.0984 664.893 L83.0984 659.013 Z\" fill=\"#000000\" fill-rule=\"evenodd\" fill-opacity=\"1\" /><path clip-path=\"url(#clip020)\" d=\"M98.2141 630.333 L116.57 630.333 L116.57 634.268 L102.496 634.268 L102.496 642.74 Q103.515 642.393 104.534 642.231 Q105.552 642.046 106.571 642.046 Q112.358 642.046 115.737 645.217 Q119.117 648.388 119.117 653.805 Q119.117 659.384 115.645 662.486 Q112.172 665.564 105.853 665.564 Q103.677 665.564 101.409 665.194 Q99.1632 664.823 96.7558 664.083 L96.7558 659.384 Q98.8391 660.518 101.061 661.074 Q103.284 661.629 105.76 661.629 Q109.765 661.629 112.103 659.523 Q114.441 657.416 114.441 653.805 Q114.441 650.194 112.103 648.087 Q109.765 645.981 105.76 645.981 Q103.885 645.981 102.01 646.398 Q100.159 646.814 98.2141 647.694 L98.2141 630.333 Z\" fill=\"#000000\" fill-rule=\"evenodd\" fill-opacity=\"1\" /><path clip-path=\"url(#clip020)\" d=\"M138.33 633.412 Q134.719 633.412 132.89 636.976 Q131.084 640.518 131.084 647.648 Q131.084 654.754 132.89 658.319 Q134.719 661.861 138.33 661.861 Q141.964 661.861 143.769 658.319 Q145.598 654.754 145.598 647.648 Q145.598 640.518 143.769 636.976 Q141.964 633.412 138.33 633.412 M138.33 629.708 Q144.14 629.708 147.195 634.314 Q150.274 638.898 150.274 647.648 Q150.274 656.374 147.195 660.981 Q144.14 665.564 138.33 665.564 Q132.519 665.564 129.441 660.981 Q126.385 656.374 126.385 647.648 Q126.385 638.898 129.441 634.314 Q132.519 629.708 138.33 629.708 Z\" fill=\"#000000\" fill-rule=\"evenodd\" fill-opacity=\"1\" /><path clip-path=\"url(#clip020)\" d=\"M63.9319 353.593 Q60.3208 353.593 58.4921 357.158 Q56.6865 360.7 56.6865 367.829 Q56.6865 374.936 58.4921 378.501 Q60.3208 382.042 63.9319 382.042 Q67.5661 382.042 69.3717 378.501 Q71.2004 374.936 71.2004 367.829 Q71.2004 360.7 69.3717 357.158 Q67.5661 353.593 63.9319 353.593 M63.9319 349.89 Q69.742 349.89 72.7976 354.496 Q75.8763 359.079 75.8763 367.829 Q75.8763 376.556 72.7976 381.163 Q69.742 385.746 63.9319 385.746 Q58.1217 385.746 55.043 381.163 Q51.9875 376.556 51.9875 367.829 Q51.9875 359.079 55.043 354.496 Q58.1217 349.89 63.9319 349.89 Z\" fill=\"#000000\" fill-rule=\"evenodd\" fill-opacity=\"1\" /><path clip-path=\"url(#clip020)\" d=\"M84.0938 379.195 L88.978 379.195 L88.978 385.075 L84.0938 385.075 L84.0938 379.195 Z\" fill=\"#000000\" fill-rule=\"evenodd\" fill-opacity=\"1\" /><path clip-path=\"url(#clip020)\" d=\"M97.9826 350.515 L120.205 350.515 L120.205 352.505 L107.658 385.075 L102.774 385.075 L114.58 354.45 L97.9826 354.45 L97.9826 350.515 Z\" fill=\"#000000\" fill-rule=\"evenodd\" fill-opacity=\"1\" /><path clip-path=\"url(#clip020)\" d=\"M129.371 350.515 L147.728 350.515 L147.728 354.45 L133.654 354.45 L133.654 362.922 Q134.672 362.575 135.691 362.413 Q136.709 362.228 137.728 362.228 Q143.515 362.228 146.894 365.399 Q150.274 368.57 150.274 373.987 Q150.274 379.565 146.802 382.667 Q143.33 385.746 137.01 385.746 Q134.834 385.746 132.566 385.376 Q130.32 385.005 127.913 384.264 L127.913 379.565 Q129.996 380.7 132.219 381.255 Q134.441 381.811 136.918 381.811 Q140.922 381.811 143.26 379.704 Q145.598 377.598 145.598 373.987 Q145.598 370.376 143.26 368.269 Q140.922 366.163 136.918 366.163 Q135.043 366.163 133.168 366.579 Q131.316 366.996 129.371 367.876 L129.371 350.515 Z\" fill=\"#000000\" fill-rule=\"evenodd\" fill-opacity=\"1\" /><path clip-path=\"url(#clip020)\" d=\"M53.7467 101.321 L61.3856 101.321 L61.3856 74.9555 L53.0754 76.6222 L53.0754 72.3629 L61.3393 70.6963 L66.0152 70.6963 L66.0152 101.321 L73.654 101.321 L73.654 105.256 L53.7467 105.256 L53.7467 101.321 Z\" fill=\"#000000\" fill-rule=\"evenodd\" fill-opacity=\"1\" /><path clip-path=\"url(#clip020)\" d=\"M83.0984 99.3767 L87.9827 99.3767 L87.9827 105.256 L83.0984 105.256 L83.0984 99.3767 Z\" fill=\"#000000\" fill-rule=\"evenodd\" fill-opacity=\"1\" /><path clip-path=\"url(#clip020)\" d=\"M108.168 73.775 Q104.557 73.775 102.728 77.3398 Q100.922 80.8814 100.922 88.011 Q100.922 95.1174 102.728 98.6822 Q104.557 102.224 108.168 102.224 Q111.802 102.224 113.608 98.6822 Q115.436 95.1174 115.436 88.011 Q115.436 80.8814 113.608 77.3398 Q111.802 73.775 108.168 73.775 M108.168 70.0713 Q113.978 70.0713 117.033 74.6777 Q120.112 79.261 120.112 88.011 Q120.112 96.7378 117.033 101.344 Q113.978 105.928 108.168 105.928 Q102.358 105.928 99.2789 101.344 Q96.2234 96.7378 96.2234 88.011 Q96.2234 79.261 99.2789 74.6777 Q102.358 70.0713 108.168 70.0713 Z\" fill=\"#000000\" fill-rule=\"evenodd\" fill-opacity=\"1\" /><path clip-path=\"url(#clip020)\" d=\"M138.33 73.775 Q134.719 73.775 132.89 77.3398 Q131.084 80.8814 131.084 88.011 Q131.084 95.1174 132.89 98.6822 Q134.719 102.224 138.33 102.224 Q141.964 102.224 143.769 98.6822 Q145.598 95.1174 145.598 88.011 Q145.598 80.8814 143.769 77.3398 Q141.964 73.775 138.33 73.775 M138.33 70.0713 Q144.14 70.0713 147.195 74.6777 Q150.274 79.261 150.274 88.011 Q150.274 96.7378 147.195 101.344 Q144.14 105.928 138.33 105.928 Q132.519 105.928 129.441 101.344 Q126.385 96.7378 126.385 88.011 Q126.385 79.261 129.441 74.6777 Q132.519 70.0713 138.33 70.0713 Z\" fill=\"#000000\" fill-rule=\"evenodd\" fill-opacity=\"1\" /><polyline clip-path=\"url(#clip022)\" style=\"stroke:#009af9; stroke-linecap:butt; stroke-linejoin:round; stroke-width:16; stroke-opacity:1; fill:none\" points=\"\n",
       "  247.59,87.9763 289.301,848.825 331.012,1213.78 372.723,1343.13 414.434,1346.3 456.146,1294.41 497.857,1230.5 539.568,1177.67 581.279,1145.54 622.991,1135.18 \n",
       "  664.702,1142.77 706.413,1162.29 748.124,1187.32 789.836,1212.21 831.547,1232.71 873.258,1246.19 914.969,1251.65 956.681,1249.45 998.392,1240.98 1040.1,1228.31 \n",
       "  1081.81,1213.78 1123.53,1199.68 1165.24,1187.95 1206.95,1180 1248.66,1176.59 1290.37,1177.82 1332.08,1183.14 1373.79,1191.52 1415.5,1201.57 1457.22,1211.76 \n",
       "  1498.93,1220.59 1540.64,1226.84 1582.35,1229.67 1624.06,1228.78 1665.77,1224.43 1707.48,1217.43 1749.19,1209.04 1790.91,1200.79 1832.62,1194.24 1874.33,1190.72 \n",
       "  1916.04,1191.03 1957.75,1195.21 1999.46,1202.32 2041.17,1210.49 2082.88,1217.15 2124.6,1219.61 2166.31,1216.11 2208.02,1207.53 2249.73,1199.78 2291.44,1207.25 \n",
       "  \n",
       "  \"/>\n",
       "<polyline clip-path=\"url(#clip022)\" style=\"stroke:#e26f46; stroke-linecap:butt; stroke-linejoin:round; stroke-width:16; stroke-opacity:1; fill:none\" points=\"\n",
       "  247.59,1207.25 289.301,303.554 331.012,88.1232 372.723,236.562 414.434,535.689 456.146,854.794 497.857,1122.45 539.568,1308.12 581.279,1407.81 622.991,1433.27 \n",
       "  664.702,1403.94 706.413,1341.41 748.124,1265.66 789.836,1192.93 831.547,1134.68 873.258,1097.44 914.969,1083.21 956.681,1090.34 998.392,1114.47 1040.1,1149.69 \n",
       "  1081.81,1189.49 1123.53,1227.7 1165.24,1259.17 1206.95,1280.25 1248.66,1289.06 1290.37,1285.51 1332.08,1271.14 1373.79,1248.8 1415.5,1222.2 1457.22,1195.41 \n",
       "  1498.93,1172.28 1540.64,1156.02 1582.35,1148.74 1624.06,1151.17 1665.77,1162.58 1707.48,1180.82 1749.19,1202.61 1790.91,1223.97 1832.62,1240.87 1874.33,1249.9 \n",
       "  1916.04,1249.02 1957.75,1238.23 1999.46,1219.92 2041.17,1198.92 2082.88,1181.85 2124.6,1175.59 2166.31,1184.57 2208.02,1206.54 2249.73,1226.32 2291.44,1207.25 \n",
       "  \n",
       "  \"/>\n",
       "<polyline clip-path=\"url(#clip022)\" style=\"stroke:#3da44d; stroke-linecap:butt; stroke-linejoin:round; stroke-width:16; stroke-opacity:1; fill:none\" points=\"\n",
       "  247.59,1207.25 289.301,1418.4 331.012,1197.81 372.723,825.838 414.434,469.993 456.146,216.958 497.857,98.0757 539.568,109.185 581.279,225.691 622.991,413.636 \n",
       "  664.702,637.486 706.413,865.235 748.124,1071.39 789.836,1238.33 831.547,1356.43 873.258,1423.33 914.969,1442.67 956.681,1422.54 998.392,1373.76 1040.1,1308.29 \n",
       "  1081.81,1237.82 1123.53,1172.62 1165.24,1120.66 1206.95,1087.13 1248.66,1074.25 1290.37,1081.4 1332.08,1105.52 1373.79,1141.68 1415.5,1183.84 1457.22,1225.65 \n",
       "  1498.93,1261.19 1540.64,1285.77 1582.35,1296.39 1624.06,1292.21 1665.77,1274.58 1707.48,1246.89 1749.19,1214.18 1790.91,1182.39 1832.62,1157.46 1874.33,1144.33 \n",
       "  1916.04,1145.84 1957.75,1161.86 1999.46,1188.74 2041.17,1219.37 2082.88,1244.12 2124.6,1253.09 2166.31,1240 2208.02,1208.27 2249.73,1179.84 2291.44,1207.25 \n",
       "  \n",
       "  \"/>\n",
       "<polyline clip-path=\"url(#clip022)\" style=\"stroke:#c271d2; stroke-linecap:butt; stroke-linejoin:round; stroke-width:16; stroke-opacity:1; fill:none\" points=\"\n",
       "  247.59,1207.25 289.301,1097.05 331.012,1211.64 372.723,1358.19 414.434,1436.62 456.146,1410.05 497.857,1281.71 539.568,1077.61 581.279,833.696 622.991,586.982 \n",
       "  664.702,369.727 706.413,206.142 748.124,110.979 789.836,89.5532 831.547,138.754 873.258,248.695 914.969,404.704 956.681,589.405 998.392,784.716 1040.1,973.608 \n",
       "  1081.81,1141.53 1123.53,1277.43 1165.24,1374.39 1206.95,1429.82 1248.66,1445.22 1290.37,1425.73 1332.08,1379.27 1373.79,1315.58 1415.5,1245.13 1457.22,1178.02 \n",
       "  1498.93,1122.95 1540.64,1086.37 1582.35,1071.87 1624.06,1079.81 1665.77,1107.41 1707.48,1149.08 1749.19,1197.18 1790.91,1243.06 1832.62,1278.37 1874.33,1296.43 \n",
       "  1916.04,1293.67 1957.75,1270.69 1999.46,1232.95 2041.17,1190.51 2082.88,1156.63 2124.6,1144.65 2166.31,1162.75 2208.02,1205.87 2249.73,1244.15 2291.44,1207.25 \n",
       "  \n",
       "  \"/>\n",
       "<polyline clip-path=\"url(#clip022)\" style=\"stroke:#ac8d18; stroke-linecap:butt; stroke-linejoin:round; stroke-width:16; stroke-opacity:1; fill:none\" points=\"\n",
       "  247.59,1207.25 289.301,1278 331.012,1204.53 372.723,1117.57 414.434,1077.44 456.146,1098.96 497.857,1170.19 539.568,1266.36 581.279,1359.47 622.991,1424.72 \n",
       "  664.702,1444.11 706.413,1408.15 748.124,1315.9 789.836,1174.02 831.547,995.14 873.258,795.813 914.969,594.412 956.681,409.107 998.392,256.09 1040.1,148.178 \n",
       "  1081.81,93.8263 1123.53,96.6022 1165.24,155.111 1206.95,263.336 1248.66,411.347 1290.37,586.296 1332.08,773.621 1373.79,958.352 1415.5,1126.43 1457.22,1265.94 \n",
       "  1498.93,1368.14 1540.64,1428.21 1582.35,1445.72 1624.06,1424.59 1665.77,1372.76 1707.48,1301.29 1749.19,1223.17 1790.91,1151.77 1832.62,1099.06 1874.33,1073.8 \n",
       "  1916.04,1079.87 1957.75,1115.02 1999.46,1170.35 2041.17,1231 2082.88,1278.3 2124.6,1294.23 2166.31,1268.51 2208.02,1209.14 2249.73,1157.3 2291.44,1207.25 \n",
       "  \n",
       "  \"/>\n",
       "<polyline clip-path=\"url(#clip022)\" style=\"stroke:#00a9ad; stroke-linecap:butt; stroke-linejoin:round; stroke-width:16; stroke-opacity:1; fill:none\" points=\"\n",
       "  247.59,1207.25 289.301,1157.3 331.012,1209.14 372.723,1268.51 414.434,1294.23 456.146,1278.3 497.857,1231 539.568,1170.35 581.279,1115.02 622.991,1079.87 \n",
       "  664.702,1073.8 706.413,1099.06 748.124,1151.77 789.836,1223.17 831.547,1301.29 873.258,1372.76 914.969,1424.59 956.681,1445.72 998.392,1428.21 1040.1,1368.14 \n",
       "  1081.81,1265.94 1123.53,1126.43 1165.24,958.352 1206.95,773.621 1248.66,586.296 1290.37,411.347 1332.08,263.336 1373.79,155.111 1415.5,96.6022 1457.22,93.8263 \n",
       "  1498.93,148.178 1540.64,256.09 1582.35,409.107 1624.06,594.412 1665.77,795.813 1707.48,995.14 1749.19,1174.02 1790.91,1315.9 1832.62,1408.15 1874.33,1444.11 \n",
       "  1916.04,1424.72 1957.75,1359.47 1999.46,1266.36 2041.17,1170.19 2082.88,1098.96 2124.6,1077.44 2166.31,1117.57 2208.02,1204.53 2249.73,1278 2291.44,1207.25 \n",
       "  \n",
       "  \"/>\n",
       "<polyline clip-path=\"url(#clip022)\" style=\"stroke:#ed5d92; stroke-linecap:butt; stroke-linejoin:round; stroke-width:16; stroke-opacity:1; fill:none\" points=\"\n",
       "  247.59,1207.25 289.301,1244.15 331.012,1205.87 372.723,1162.75 414.434,1144.65 456.146,1156.63 497.857,1190.51 539.568,1232.95 581.279,1270.69 622.991,1293.67 \n",
       "  664.702,1296.43 706.413,1278.37 748.124,1243.06 789.836,1197.18 831.547,1149.08 873.258,1107.41 914.969,1079.81 956.681,1071.87 998.392,1086.37 1040.1,1122.95 \n",
       "  1081.81,1178.02 1123.53,1245.13 1165.24,1315.58 1206.95,1379.27 1248.66,1425.73 1290.37,1445.22 1332.08,1429.82 1373.79,1374.39 1415.5,1277.43 1457.22,1141.53 \n",
       "  1498.93,973.608 1540.64,784.716 1582.35,589.405 1624.06,404.704 1665.77,248.695 1707.48,138.754 1749.19,89.5532 1790.91,110.979 1832.62,206.142 1874.33,369.727 \n",
       "  1916.04,586.982 1957.75,833.696 1999.46,1077.61 2041.17,1281.71 2082.88,1410.05 2124.6,1436.62 2166.31,1358.19 2208.02,1211.64 2249.73,1097.05 2291.44,1207.25 \n",
       "  \n",
       "  \"/>\n",
       "<polyline clip-path=\"url(#clip022)\" style=\"stroke:#c68125; stroke-linecap:butt; stroke-linejoin:round; stroke-width:16; stroke-opacity:1; fill:none\" points=\"\n",
       "  247.59,1207.25 289.301,1179.84 331.012,1208.27 372.723,1240 414.434,1253.09 456.146,1244.12 497.857,1219.37 539.568,1188.74 581.279,1161.86 622.991,1145.84 \n",
       "  664.702,1144.33 706.413,1157.46 748.124,1182.39 789.836,1214.18 831.547,1246.89 873.258,1274.58 914.969,1292.21 956.681,1296.39 998.392,1285.77 1040.1,1261.19 \n",
       "  1081.81,1225.65 1123.53,1183.84 1165.24,1141.68 1206.95,1105.52 1248.66,1081.4 1290.37,1074.25 1332.08,1087.13 1373.79,1120.66 1415.5,1172.62 1457.22,1237.82 \n",
       "  1498.93,1308.29 1540.64,1373.76 1582.35,1422.54 1624.06,1442.67 1665.77,1423.33 1707.48,1356.43 1749.19,1238.33 1790.91,1071.39 1832.62,865.235 1874.33,637.486 \n",
       "  1916.04,413.636 1957.75,225.691 1999.46,109.185 2041.17,98.0757 2082.88,216.958 2124.6,469.993 2166.31,825.838 2208.02,1197.81 2249.73,1418.4 2291.44,1207.25 \n",
       "  \n",
       "  \"/>\n",
       "<polyline clip-path=\"url(#clip022)\" style=\"stroke:#00a98d; stroke-linecap:butt; stroke-linejoin:round; stroke-width:16; stroke-opacity:1; fill:none\" points=\"\n",
       "  247.59,1207.25 289.301,1226.32 331.012,1206.54 372.723,1184.57 414.434,1175.59 456.146,1181.85 497.857,1198.92 539.568,1219.92 581.279,1238.23 622.991,1249.02 \n",
       "  664.702,1249.9 706.413,1240.87 748.124,1223.97 789.836,1202.61 831.547,1180.82 873.258,1162.58 914.969,1151.17 956.681,1148.74 998.392,1156.02 1040.1,1172.28 \n",
       "  1081.81,1195.41 1123.53,1222.2 1165.24,1248.8 1206.95,1271.14 1248.66,1285.51 1290.37,1289.06 1332.08,1280.25 1373.79,1259.17 1415.5,1227.7 1457.22,1189.49 \n",
       "  1498.93,1149.69 1540.64,1114.47 1582.35,1090.34 1624.06,1083.21 1665.77,1097.44 1707.48,1134.68 1749.19,1192.93 1790.91,1265.66 1832.62,1341.41 1874.33,1403.94 \n",
       "  1916.04,1433.27 1957.75,1407.81 1999.46,1308.12 2041.17,1122.45 2082.88,854.794 2124.6,535.689 2166.31,236.562 2208.02,88.1232 2249.73,303.554 2291.44,1207.25 \n",
       "  \n",
       "  \"/>\n",
       "<polyline clip-path=\"url(#clip022)\" style=\"stroke:#8e971d; stroke-linecap:butt; stroke-linejoin:round; stroke-width:16; stroke-opacity:1; fill:none\" points=\"\n",
       "  247.59,1207.25 289.301,1199.78 331.012,1207.53 372.723,1216.11 414.434,1219.61 456.146,1217.15 497.857,1210.49 539.568,1202.32 581.279,1195.21 622.991,1191.03 \n",
       "  664.702,1190.72 706.413,1194.24 748.124,1200.79 789.836,1209.04 831.547,1217.43 873.258,1224.43 914.969,1228.78 956.681,1229.67 998.392,1226.84 1040.1,1220.59 \n",
       "  1081.81,1211.76 1123.53,1201.57 1165.24,1191.52 1206.95,1183.14 1248.66,1177.82 1290.37,1176.59 1332.08,1180 1373.79,1187.95 1415.5,1199.68 1457.22,1213.78 \n",
       "  1498.93,1228.31 1540.64,1240.98 1582.35,1249.45 1624.06,1251.65 1665.77,1246.19 1707.48,1232.71 1749.19,1212.21 1790.91,1187.32 1832.62,1162.29 1874.33,1142.77 \n",
       "  1916.04,1135.18 1957.75,1145.54 1999.46,1177.67 2041.17,1230.5 2082.88,1294.41 2124.6,1346.3 2166.31,1343.13 2208.02,1213.78 2249.73,848.825 2291.44,87.9763 \n",
       "  \n",
       "  \"/>\n",
       "<circle clip-path=\"url(#clip022)\" cx=\"247.59\" cy=\"87.9763\" r=\"14.4\" fill=\"#00a8cb\" fill-rule=\"evenodd\" fill-opacity=\"1\" stroke=\"#000000\" stroke-opacity=\"1\" stroke-width=\"3.2\"/>\n",
       "<circle clip-path=\"url(#clip022)\" cx=\"329.82\" cy=\"87.9763\" r=\"14.4\" fill=\"#00a8cb\" fill-rule=\"evenodd\" fill-opacity=\"1\" stroke=\"#000000\" stroke-opacity=\"1\" stroke-width=\"3.2\"/>\n",
       "<circle clip-path=\"url(#clip022)\" cx=\"514.543\" cy=\"87.9763\" r=\"14.4\" fill=\"#00a8cb\" fill-rule=\"evenodd\" fill-opacity=\"1\" stroke=\"#000000\" stroke-opacity=\"1\" stroke-width=\"3.2\"/>\n",
       "<circle clip-path=\"url(#clip022)\" cx=\"781.111\" cy=\"87.9763\" r=\"14.4\" fill=\"#00a8cb\" fill-rule=\"evenodd\" fill-opacity=\"1\" stroke=\"#000000\" stroke-opacity=\"1\" stroke-width=\"3.2\"/>\n",
       "<circle clip-path=\"url(#clip022)\" cx=\"1100.61\" cy=\"87.9763\" r=\"14.4\" fill=\"#00a8cb\" fill-rule=\"evenodd\" fill-opacity=\"1\" stroke=\"#000000\" stroke-opacity=\"1\" stroke-width=\"3.2\"/>\n",
       "<circle clip-path=\"url(#clip022)\" cx=\"1438.42\" cy=\"87.9763\" r=\"14.4\" fill=\"#00a8cb\" fill-rule=\"evenodd\" fill-opacity=\"1\" stroke=\"#000000\" stroke-opacity=\"1\" stroke-width=\"3.2\"/>\n",
       "<circle clip-path=\"url(#clip022)\" cx=\"1757.92\" cy=\"87.9763\" r=\"14.4\" fill=\"#00a8cb\" fill-rule=\"evenodd\" fill-opacity=\"1\" stroke=\"#000000\" stroke-opacity=\"1\" stroke-width=\"3.2\"/>\n",
       "<circle clip-path=\"url(#clip022)\" cx=\"2024.49\" cy=\"87.9763\" r=\"14.4\" fill=\"#00a8cb\" fill-rule=\"evenodd\" fill-opacity=\"1\" stroke=\"#000000\" stroke-opacity=\"1\" stroke-width=\"3.2\"/>\n",
       "<circle clip-path=\"url(#clip022)\" cx=\"2209.21\" cy=\"87.9763\" r=\"14.4\" fill=\"#00a8cb\" fill-rule=\"evenodd\" fill-opacity=\"1\" stroke=\"#000000\" stroke-opacity=\"1\" stroke-width=\"3.2\"/>\n",
       "<circle clip-path=\"url(#clip022)\" cx=\"2291.44\" cy=\"87.9763\" r=\"14.4\" fill=\"#00a8cb\" fill-rule=\"evenodd\" fill-opacity=\"1\" stroke=\"#000000\" stroke-opacity=\"1\" stroke-width=\"3.2\"/>\n",
       "<path clip-path=\"url(#clip020)\" d=\"\n",
       "M1956 717.298 L2280.54 717.298 L2280.54 95.2176 L1956 95.2176  Z\n",
       "  \" fill=\"#ffffff\" fill-rule=\"evenodd\" fill-opacity=\"1\"/>\n",
       "<polyline clip-path=\"url(#clip020)\" style=\"stroke:#000000; stroke-linecap:butt; stroke-linejoin:round; stroke-width:4; stroke-opacity:1; fill:none\" points=\"\n",
       "  1956,717.298 2280.54,717.298 2280.54,95.2176 1956,95.2176 1956,717.298 \n",
       "  \"/>\n",
       "<polyline clip-path=\"url(#clip020)\" style=\"stroke:#009af9; stroke-linecap:butt; stroke-linejoin:round; stroke-width:4; stroke-opacity:1; fill:none\" points=\"\n",
       "  1980.07,147.058 2124.5,147.058 \n",
       "  \"/>\n",
       "<path clip-path=\"url(#clip020)\" d=\"M2162.42 166.745 Q2160.61 171.375 2158.9 172.787 Q2157.19 174.199 2154.32 174.199 L2150.91 174.199 L2150.91 170.634 L2153.41 170.634 Q2155.17 170.634 2156.15 169.8 Q2157.12 168.967 2158.3 165.865 L2159.06 163.921 L2148.58 138.412 L2153.09 138.412 L2161.19 158.689 L2169.29 138.412 L2173.81 138.412 L2162.42 166.745 Z\" fill=\"#000000\" fill-rule=\"evenodd\" fill-opacity=\"1\" /><path clip-path=\"url(#clip020)\" d=\"M2181.1 160.402 L2188.74 160.402 L2188.74 134.037 L2180.43 135.703 L2180.43 131.444 L2188.69 129.778 L2193.37 129.778 L2193.37 160.402 L2201.01 160.402 L2201.01 164.338 L2181.1 164.338 L2181.1 160.402 Z\" fill=\"#000000\" fill-rule=\"evenodd\" fill-opacity=\"1\" /><polyline clip-path=\"url(#clip020)\" style=\"stroke:#e26f46; stroke-linecap:butt; stroke-linejoin:round; stroke-width:4; stroke-opacity:1; fill:none\" points=\"\n",
       "  1980.07,198.898 2124.5,198.898 \n",
       "  \"/>\n",
       "<path clip-path=\"url(#clip020)\" d=\"M2162.42 218.585 Q2160.61 223.215 2158.9 224.627 Q2157.19 226.039 2154.32 226.039 L2150.91 226.039 L2150.91 222.474 L2153.41 222.474 Q2155.17 222.474 2156.15 221.64 Q2157.12 220.807 2158.3 217.705 L2159.06 215.761 L2148.58 190.252 L2153.09 190.252 L2161.19 210.529 L2169.29 190.252 L2173.81 190.252 L2162.42 218.585 Z\" fill=\"#000000\" fill-rule=\"evenodd\" fill-opacity=\"1\" /><path clip-path=\"url(#clip020)\" d=\"M2184.32 212.242 L2200.64 212.242 L2200.64 216.178 L2178.69 216.178 L2178.69 212.242 Q2181.35 209.488 2185.94 204.858 Q2190.54 200.205 2191.72 198.863 Q2193.97 196.34 2194.85 194.604 Q2195.75 192.844 2195.75 191.155 Q2195.75 188.4 2193.81 186.664 Q2191.89 184.928 2188.78 184.928 Q2186.59 184.928 2184.13 185.692 Q2181.7 186.455 2178.92 188.006 L2178.92 183.284 Q2181.75 182.15 2184.2 181.571 Q2186.66 180.993 2188.69 180.993 Q2194.06 180.993 2197.26 183.678 Q2200.45 186.363 2200.45 190.854 Q2200.45 192.983 2199.64 194.905 Q2198.85 196.803 2196.75 199.395 Q2196.17 200.067 2193.07 203.284 Q2189.97 206.479 2184.32 212.242 Z\" fill=\"#000000\" fill-rule=\"evenodd\" fill-opacity=\"1\" /><polyline clip-path=\"url(#clip020)\" style=\"stroke:#3da44d; stroke-linecap:butt; stroke-linejoin:round; stroke-width:4; stroke-opacity:1; fill:none\" points=\"\n",
       "  1980.07,250.738 2124.5,250.738 \n",
       "  \"/>\n",
       "<path clip-path=\"url(#clip020)\" d=\"M2162.42 270.425 Q2160.61 275.055 2158.9 276.467 Q2157.19 277.879 2154.32 277.879 L2150.91 277.879 L2150.91 274.314 L2153.41 274.314 Q2155.17 274.314 2156.15 273.48 Q2157.12 272.647 2158.3 269.545 L2159.06 267.601 L2148.58 242.092 L2153.09 242.092 L2161.19 262.369 L2169.29 242.092 L2173.81 242.092 L2162.42 270.425 Z\" fill=\"#000000\" fill-rule=\"evenodd\" fill-opacity=\"1\" /><path clip-path=\"url(#clip020)\" d=\"M2194.46 249.383 Q2197.81 250.101 2199.69 252.369 Q2201.59 254.638 2201.59 257.971 Q2201.59 263.087 2198.07 265.888 Q2194.55 268.689 2188.07 268.689 Q2185.89 268.689 2183.58 268.249 Q2181.28 267.832 2178.83 266.976 L2178.83 262.462 Q2180.78 263.596 2183.09 264.175 Q2185.41 264.754 2187.93 264.754 Q2192.33 264.754 2194.62 263.018 Q2196.93 261.281 2196.93 257.971 Q2196.93 254.916 2194.78 253.203 Q2192.65 251.467 2188.83 251.467 L2184.8 251.467 L2184.8 247.624 L2189.02 247.624 Q2192.47 247.624 2194.29 246.258 Q2196.12 244.87 2196.12 242.277 Q2196.12 239.615 2194.22 238.203 Q2192.35 236.768 2188.83 236.768 Q2186.91 236.768 2184.71 237.184 Q2182.51 237.601 2179.87 238.481 L2179.87 234.314 Q2182.53 233.573 2184.85 233.203 Q2187.19 232.833 2189.25 232.833 Q2194.57 232.833 2197.67 235.263 Q2200.78 237.67 2200.78 241.791 Q2200.78 244.661 2199.13 246.652 Q2197.49 248.62 2194.46 249.383 Z\" fill=\"#000000\" fill-rule=\"evenodd\" fill-opacity=\"1\" /><polyline clip-path=\"url(#clip020)\" style=\"stroke:#c271d2; stroke-linecap:butt; stroke-linejoin:round; stroke-width:4; stroke-opacity:1; fill:none\" points=\"\n",
       "  1980.07,302.578 2124.5,302.578 \n",
       "  \"/>\n",
       "<path clip-path=\"url(#clip020)\" d=\"M2162.42 322.265 Q2160.61 326.895 2158.9 328.307 Q2157.19 329.719 2154.32 329.719 L2150.91 329.719 L2150.91 326.154 L2153.41 326.154 Q2155.17 326.154 2156.15 325.32 Q2157.12 324.487 2158.3 321.385 L2159.06 319.441 L2148.58 293.932 L2153.09 293.932 L2161.19 314.209 L2169.29 293.932 L2173.81 293.932 L2162.42 322.265 Z\" fill=\"#000000\" fill-rule=\"evenodd\" fill-opacity=\"1\" /><path clip-path=\"url(#clip020)\" d=\"M2193.14 289.372 L2181.33 307.821 L2193.14 307.821 L2193.14 289.372 M2191.91 285.298 L2197.79 285.298 L2197.79 307.821 L2202.72 307.821 L2202.72 311.709 L2197.79 311.709 L2197.79 319.858 L2193.14 319.858 L2193.14 311.709 L2177.53 311.709 L2177.53 307.196 L2191.91 285.298 Z\" fill=\"#000000\" fill-rule=\"evenodd\" fill-opacity=\"1\" /><polyline clip-path=\"url(#clip020)\" style=\"stroke:#ac8d18; stroke-linecap:butt; stroke-linejoin:round; stroke-width:4; stroke-opacity:1; fill:none\" points=\"\n",
       "  1980.07,354.418 2124.5,354.418 \n",
       "  \"/>\n",
       "<path clip-path=\"url(#clip020)\" d=\"M2162.42 374.105 Q2160.61 378.735 2158.9 380.147 Q2157.19 381.559 2154.32 381.559 L2150.91 381.559 L2150.91 377.994 L2153.41 377.994 Q2155.17 377.994 2156.15 377.16 Q2157.12 376.327 2158.3 373.225 L2159.06 371.281 L2148.58 345.772 L2153.09 345.772 L2161.19 366.049 L2169.29 345.772 L2173.81 345.772 L2162.42 374.105 Z\" fill=\"#000000\" fill-rule=\"evenodd\" fill-opacity=\"1\" /><path clip-path=\"url(#clip020)\" d=\"M2180.34 337.138 L2198.69 337.138 L2198.69 341.073 L2184.62 341.073 L2184.62 349.545 Q2185.64 349.198 2186.66 349.036 Q2187.67 348.85 2188.69 348.85 Q2194.48 348.85 2197.86 352.022 Q2201.24 355.193 2201.24 360.61 Q2201.24 366.188 2197.77 369.29 Q2194.29 372.369 2187.97 372.369 Q2185.8 372.369 2183.53 371.998 Q2181.28 371.628 2178.88 370.887 L2178.88 366.188 Q2180.96 367.323 2183.18 367.878 Q2185.41 368.434 2187.88 368.434 Q2191.89 368.434 2194.22 366.327 Q2196.56 364.221 2196.56 360.61 Q2196.56 356.999 2194.22 354.892 Q2191.89 352.786 2187.88 352.786 Q2186.01 352.786 2184.13 353.202 Q2182.28 353.619 2180.34 354.499 L2180.34 337.138 Z\" fill=\"#000000\" fill-rule=\"evenodd\" fill-opacity=\"1\" /><polyline clip-path=\"url(#clip020)\" style=\"stroke:#00a9ad; stroke-linecap:butt; stroke-linejoin:round; stroke-width:4; stroke-opacity:1; fill:none\" points=\"\n",
       "  1980.07,406.258 2124.5,406.258 \n",
       "  \"/>\n",
       "<path clip-path=\"url(#clip020)\" d=\"M2162.42 425.945 Q2160.61 430.575 2158.9 431.987 Q2157.19 433.399 2154.32 433.399 L2150.91 433.399 L2150.91 429.834 L2153.41 429.834 Q2155.17 429.834 2156.15 429 Q2157.12 428.167 2158.3 425.065 L2159.06 423.121 L2148.58 397.612 L2153.09 397.612 L2161.19 417.889 L2169.29 397.612 L2173.81 397.612 L2162.42 425.945 Z\" fill=\"#000000\" fill-rule=\"evenodd\" fill-opacity=\"1\" /><path clip-path=\"url(#clip020)\" d=\"M2190.87 404.394 Q2187.72 404.394 2185.87 406.547 Q2184.04 408.7 2184.04 412.45 Q2184.04 416.176 2185.87 418.352 Q2187.72 420.505 2190.87 420.505 Q2194.02 420.505 2195.85 418.352 Q2197.7 416.176 2197.7 412.45 Q2197.7 408.7 2195.85 406.547 Q2194.02 404.394 2190.87 404.394 M2200.15 389.741 L2200.15 394.001 Q2198.39 393.167 2196.59 392.728 Q2194.8 392.288 2193.04 392.288 Q2188.41 392.288 2185.96 395.413 Q2183.53 398.538 2183.18 404.857 Q2184.55 402.843 2186.61 401.778 Q2188.67 400.69 2191.15 400.69 Q2196.35 400.69 2199.36 403.862 Q2202.4 407.01 2202.4 412.45 Q2202.4 417.774 2199.25 420.991 Q2196.1 424.209 2190.87 424.209 Q2184.87 424.209 2181.7 419.626 Q2178.53 415.019 2178.53 406.292 Q2178.53 398.098 2182.42 393.237 Q2186.31 388.353 2192.86 388.353 Q2194.62 388.353 2196.4 388.7 Q2198.21 389.047 2200.15 389.741 Z\" fill=\"#000000\" fill-rule=\"evenodd\" fill-opacity=\"1\" /><polyline clip-path=\"url(#clip020)\" style=\"stroke:#ed5d92; stroke-linecap:butt; stroke-linejoin:round; stroke-width:4; stroke-opacity:1; fill:none\" points=\"\n",
       "  1980.07,458.098 2124.5,458.098 \n",
       "  \"/>\n",
       "<path clip-path=\"url(#clip020)\" d=\"M2162.42 477.785 Q2160.61 482.415 2158.9 483.827 Q2157.19 485.239 2154.32 485.239 L2150.91 485.239 L2150.91 481.674 L2153.41 481.674 Q2155.17 481.674 2156.15 480.84 Q2157.12 480.007 2158.3 476.905 L2159.06 474.961 L2148.58 449.452 L2153.09 449.452 L2161.19 469.729 L2169.29 449.452 L2173.81 449.452 L2162.42 477.785 Z\" fill=\"#000000\" fill-rule=\"evenodd\" fill-opacity=\"1\" /><path clip-path=\"url(#clip020)\" d=\"M2179.11 440.818 L2201.33 440.818 L2201.33 442.808 L2188.78 475.378 L2183.9 475.378 L2195.71 444.753 L2179.11 444.753 L2179.11 440.818 Z\" fill=\"#000000\" fill-rule=\"evenodd\" fill-opacity=\"1\" /><polyline clip-path=\"url(#clip020)\" style=\"stroke:#c68125; stroke-linecap:butt; stroke-linejoin:round; stroke-width:4; stroke-opacity:1; fill:none\" points=\"\n",
       "  1980.07,509.938 2124.5,509.938 \n",
       "  \"/>\n",
       "<path clip-path=\"url(#clip020)\" d=\"M2162.42 529.625 Q2160.61 534.255 2158.9 535.667 Q2157.19 537.079 2154.32 537.079 L2150.91 537.079 L2150.91 533.514 L2153.41 533.514 Q2155.17 533.514 2156.15 532.68 Q2157.12 531.847 2158.3 528.745 L2159.06 526.801 L2148.58 501.292 L2153.09 501.292 L2161.19 521.569 L2169.29 501.292 L2173.81 501.292 L2162.42 529.625 Z\" fill=\"#000000\" fill-rule=\"evenodd\" fill-opacity=\"1\" /><path clip-path=\"url(#clip020)\" d=\"M2190.29 510.806 Q2186.96 510.806 2185.03 512.588 Q2183.14 514.37 2183.14 517.495 Q2183.14 520.62 2185.03 522.403 Q2186.96 524.185 2190.29 524.185 Q2193.62 524.185 2195.54 522.403 Q2197.47 520.597 2197.47 517.495 Q2197.47 514.37 2195.54 512.588 Q2193.65 510.806 2190.29 510.806 M2185.61 508.815 Q2182.6 508.074 2180.91 506.014 Q2179.25 503.954 2179.25 500.991 Q2179.25 496.847 2182.19 494.44 Q2185.15 492.033 2190.29 492.033 Q2195.45 492.033 2198.39 494.44 Q2201.33 496.847 2201.33 500.991 Q2201.33 503.954 2199.64 506.014 Q2197.97 508.074 2194.99 508.815 Q2198.37 509.602 2200.24 511.894 Q2202.14 514.185 2202.14 517.495 Q2202.14 522.519 2199.06 525.204 Q2196.01 527.889 2190.29 527.889 Q2184.57 527.889 2181.49 525.204 Q2178.44 522.519 2178.44 517.495 Q2178.44 514.185 2180.34 511.894 Q2182.23 509.602 2185.61 508.815 M2183.9 501.431 Q2183.9 504.116 2185.57 505.62 Q2187.26 507.125 2190.29 507.125 Q2193.3 507.125 2194.99 505.62 Q2196.7 504.116 2196.7 501.431 Q2196.7 498.745 2194.99 497.241 Q2193.3 495.736 2190.29 495.736 Q2187.26 495.736 2185.57 497.241 Q2183.9 498.745 2183.9 501.431 Z\" fill=\"#000000\" fill-rule=\"evenodd\" fill-opacity=\"1\" /><polyline clip-path=\"url(#clip020)\" style=\"stroke:#00a98d; stroke-linecap:butt; stroke-linejoin:round; stroke-width:4; stroke-opacity:1; fill:none\" points=\"\n",
       "  1980.07,561.778 2124.5,561.778 \n",
       "  \"/>\n",
       "<path clip-path=\"url(#clip020)\" d=\"M2162.42 581.465 Q2160.61 586.095 2158.9 587.507 Q2157.19 588.919 2154.32 588.919 L2150.91 588.919 L2150.91 585.354 L2153.41 585.354 Q2155.17 585.354 2156.15 584.52 Q2157.12 583.687 2158.3 580.585 L2159.06 578.641 L2148.58 553.132 L2153.09 553.132 L2161.19 573.409 L2169.29 553.132 L2173.81 553.132 L2162.42 581.465 Z\" fill=\"#000000\" fill-rule=\"evenodd\" fill-opacity=\"1\" /><path clip-path=\"url(#clip020)\" d=\"M2180.43 578.34 L2180.43 574.081 Q2182.19 574.914 2183.99 575.354 Q2185.8 575.794 2187.53 575.794 Q2192.16 575.794 2194.6 572.692 Q2197.05 569.567 2197.4 563.224 Q2196.05 565.215 2193.99 566.28 Q2191.93 567.345 2189.43 567.345 Q2184.25 567.345 2181.22 564.22 Q2178.21 561.072 2178.21 555.632 Q2178.21 550.308 2181.35 547.09 Q2184.5 543.873 2189.73 543.873 Q2195.73 543.873 2198.88 548.479 Q2202.05 553.062 2202.05 561.812 Q2202.05 569.984 2198.16 574.868 Q2194.29 579.729 2187.74 579.729 Q2185.98 579.729 2184.18 579.382 Q2182.37 579.034 2180.43 578.34 M2189.73 563.687 Q2192.88 563.687 2194.71 561.534 Q2196.56 559.382 2196.56 555.632 Q2196.56 551.905 2194.71 549.752 Q2192.88 547.576 2189.73 547.576 Q2186.59 547.576 2184.73 549.752 Q2182.91 551.905 2182.91 555.632 Q2182.91 559.382 2184.73 561.534 Q2186.59 563.687 2189.73 563.687 Z\" fill=\"#000000\" fill-rule=\"evenodd\" fill-opacity=\"1\" /><polyline clip-path=\"url(#clip020)\" style=\"stroke:#8e971d; stroke-linecap:butt; stroke-linejoin:round; stroke-width:4; stroke-opacity:1; fill:none\" points=\"\n",
       "  1980.07,613.618 2124.5,613.618 \n",
       "  \"/>\n",
       "<path clip-path=\"url(#clip020)\" d=\"M2162.42 633.305 Q2160.61 637.935 2158.9 639.347 Q2157.19 640.759 2154.32 640.759 L2150.91 640.759 L2150.91 637.194 L2153.41 637.194 Q2155.17 637.194 2156.15 636.36 Q2157.12 635.527 2158.3 632.425 L2159.06 630.481 L2148.58 604.972 L2153.09 604.972 L2161.19 625.249 L2169.29 604.972 L2173.81 604.972 L2162.42 633.305 Z\" fill=\"#000000\" fill-rule=\"evenodd\" fill-opacity=\"1\" /><path clip-path=\"url(#clip020)\" d=\"M2181.1 626.962 L2188.74 626.962 L2188.74 600.597 L2180.43 602.263 L2180.43 598.004 L2188.69 596.338 L2193.37 596.338 L2193.37 626.962 L2201.01 626.962 L2201.01 630.898 L2181.1 630.898 L2181.1 626.962 Z\" fill=\"#000000\" fill-rule=\"evenodd\" fill-opacity=\"1\" /><path clip-path=\"url(#clip020)\" d=\"M2220.45 599.416 Q2216.84 599.416 2215.01 602.981 Q2213.21 606.523 2213.21 613.652 Q2213.21 620.759 2215.01 624.324 Q2216.84 627.865 2220.45 627.865 Q2224.09 627.865 2225.89 624.324 Q2227.72 620.759 2227.72 613.652 Q2227.72 606.523 2225.89 602.981 Q2224.09 599.416 2220.45 599.416 M2220.45 595.713 Q2226.26 595.713 2229.32 600.319 Q2232.4 604.902 2232.4 613.652 Q2232.4 622.379 2229.32 626.986 Q2226.26 631.569 2220.45 631.569 Q2214.64 631.569 2211.56 626.986 Q2208.51 622.379 2208.51 613.652 Q2208.51 604.902 2211.56 600.319 Q2214.64 595.713 2220.45 595.713 Z\" fill=\"#000000\" fill-rule=\"evenodd\" fill-opacity=\"1\" /><circle clip-path=\"url(#clip020)\" cx=\"2052.29\" cy=\"665.458\" r=\"23.04\" fill=\"#00a8cb\" fill-rule=\"evenodd\" fill-opacity=\"1\" stroke=\"#000000\" stroke-opacity=\"1\" stroke-width=\"5.12\"/>\n",
       "<path clip-path=\"url(#clip020)\" d=\"M2162.42 685.145 Q2160.61 689.775 2158.9 691.187 Q2157.19 692.599 2154.32 692.599 L2150.91 692.599 L2150.91 689.034 L2153.41 689.034 Q2155.17 689.034 2156.15 688.2 Q2157.12 687.367 2158.3 684.265 L2159.06 682.321 L2148.58 656.812 L2153.09 656.812 L2161.19 677.089 L2169.29 656.812 L2173.81 656.812 L2162.42 685.145 Z\" fill=\"#000000\" fill-rule=\"evenodd\" fill-opacity=\"1\" /><path clip-path=\"url(#clip020)\" d=\"M2181.1 678.802 L2188.74 678.802 L2188.74 652.437 L2180.43 654.103 L2180.43 649.844 L2188.69 648.178 L2193.37 648.178 L2193.37 678.802 L2201.01 678.802 L2201.01 682.738 L2181.1 682.738 L2181.1 678.802 Z\" fill=\"#000000\" fill-rule=\"evenodd\" fill-opacity=\"1\" /><path clip-path=\"url(#clip020)\" d=\"M2211.26 678.802 L2218.9 678.802 L2218.9 652.437 L2210.59 654.103 L2210.59 649.844 L2218.85 648.178 L2223.53 648.178 L2223.53 678.802 L2231.17 678.802 L2231.17 682.738 L2211.26 682.738 L2211.26 678.802 Z\" fill=\"#000000\" fill-rule=\"evenodd\" fill-opacity=\"1\" /></svg>\n"
      ]
     },
     "execution_count": 10,
     "metadata": {},
     "output_type": "execute_result"
    }
   ],
   "source": [
    "using FastGaussQuadrature\n",
    "xn, _ = gausslobatto(k)\n",
    "V = vander_legendre(xn)\n",
    "Pn = Pxx / V\n",
    "plot(xx, Pn)\n",
    "scatter!(xn, one.(xn))"
   ]
  },
  {
   "cell_type": "code",
   "execution_count": 11,
   "id": "230e8866",
   "metadata": {
    "slideshow": {
     "slide_type": "skip"
    }
   },
   "outputs": [
    {
     "data": {
      "text/plain": [
       "vander_legendre_deriv (generic function with 2 methods)"
      ]
     },
     "execution_count": 11,
     "metadata": {},
     "output_type": "execute_result"
    }
   ],
   "source": [
    "function vander_legendre_deriv(x, k=nothing)\n",
    "    if isnothing(k)\n",
    "        k = length(x) # Square by default\n",
    "    end\n",
    "    m = length(x)\n",
    "    Q = ones(m, k)\n",
    "    dQ = zeros(m, k)\n",
    "    Q[:, 2] = x\n",
    "    dQ[:, 2] .= 1\n",
    "    for n in 1:k-2\n",
    "        Q[:, n+2] = ((2*n + 1) * x .* Q[:, n+1] - n * Q[:, n]) / (n + 1)\n",
    "        dQ[:, n+2] = (2*n + 1) * Q[:,n+1] + dQ[:,n]\n",
    "    end\n",
    "    Q, dQ\n",
    "end"
   ]
  },
  {
   "cell_type": "markdown",
   "id": "ed8f0dc4",
   "metadata": {
    "slideshow": {
     "slide_type": "slide"
    }
   },
   "source": [
    "# Galerkin method: $L^2$ projection\n",
    "\n",
    "A nice test problem that doesn't require derivatives or boundary conditions:\n",
    "Find $u \\in \\mathcal V_h$ such that\n",
    "$$ \\int_{-1}^1 v(x) \\big[ u(x) - f(x) \\big] = 0, \\quad \\forall v \\in \\mathcal V_h$$"
   ]
  },
  {
   "cell_type": "code",
   "execution_count": 12,
   "id": "96ec301b",
   "metadata": {
    "cell_style": "split"
   },
   "outputs": [
    {
     "data": {
      "text/plain": [
       "L2_galerkin (generic function with 1 method)"
      ]
     },
     "execution_count": 12,
     "metadata": {},
     "output_type": "execute_result"
    }
   ],
   "source": [
    "function febasis(P, Q)\n",
    "    x, _ = gausslobatto(P)\n",
    "    q, w = gausslegendre(Q)\n",
    "    Pk, _ = vander_legendre_deriv(x)\n",
    "    Bp, Dp = vander_legendre_deriv(q, P)\n",
    "    B = Bp / Pk\n",
    "    D = Dp / Pk\n",
    "    x, q, w, B, D\n",
    "end\n",
    "\n",
    "function L2_galerkin(P, Q, f)\n",
    "    x, q, w, B, _ = febasis(P, Q)\n",
    "    A = B' * diagm(w) * B\n",
    "    rhs = B' * diagm(w) * f.(q)\n",
    "    u = A \\ rhs\n",
    "    x, u\n",
    "end"
   ]
  },
  {
   "cell_type": "code",
   "execution_count": 34,
   "id": "139878d2",
   "metadata": {
    "cell_style": "split"
   },
   "outputs": [
    {
     "data": {
      "image/svg+xml": [
       "<?xml version=\"1.0\" encoding=\"utf-8\"?>\n",
       "<svg xmlns=\"http://www.w3.org/2000/svg\" xmlns:xlink=\"http://www.w3.org/1999/xlink\" width=\"600\" height=\"400\" viewBox=\"0 0 2400 1600\">\n",
       "<defs>\n",
       "  <clipPath id=\"clip380\">\n",
       "    <rect x=\"0\" y=\"0\" width=\"2400\" height=\"1600\"/>\n",
       "  </clipPath>\n",
       "</defs>\n",
       "<path clip-path=\"url(#clip380)\" d=\"\n",
       "M0 1600 L2400 1600 L2400 0 L0 0  Z\n",
       "  \" fill=\"#ffffff\" fill-rule=\"evenodd\" fill-opacity=\"1\"/>\n",
       "<defs>\n",
       "  <clipPath id=\"clip381\">\n",
       "    <rect x=\"480\" y=\"0\" width=\"1681\" height=\"1600\"/>\n",
       "  </clipPath>\n",
       "</defs>\n",
       "<path clip-path=\"url(#clip380)\" d=\"\n",
       "M193.936 1486.45 L2352.76 1486.45 L2352.76 123.472 L193.936 123.472  Z\n",
       "  \" fill=\"#ffffff\" fill-rule=\"evenodd\" fill-opacity=\"1\"/>\n",
       "<defs>\n",
       "  <clipPath id=\"clip382\">\n",
       "    <rect x=\"193\" y=\"123\" width=\"2160\" height=\"1364\"/>\n",
       "  </clipPath>\n",
       "</defs>\n",
       "<polyline clip-path=\"url(#clip382)\" style=\"stroke:#000000; stroke-linecap:butt; stroke-linejoin:round; stroke-width:2; stroke-opacity:0.1; fill:none\" points=\"\n",
       "  255.035,1486.45 255.035,123.472 \n",
       "  \"/>\n",
       "<polyline clip-path=\"url(#clip382)\" style=\"stroke:#000000; stroke-linecap:butt; stroke-linejoin:round; stroke-width:2; stroke-opacity:0.1; fill:none\" points=\"\n",
       "  764.19,1486.45 764.19,123.472 \n",
       "  \"/>\n",
       "<polyline clip-path=\"url(#clip382)\" style=\"stroke:#000000; stroke-linecap:butt; stroke-linejoin:round; stroke-width:2; stroke-opacity:0.1; fill:none\" points=\"\n",
       "  1273.35,1486.45 1273.35,123.472 \n",
       "  \"/>\n",
       "<polyline clip-path=\"url(#clip382)\" style=\"stroke:#000000; stroke-linecap:butt; stroke-linejoin:round; stroke-width:2; stroke-opacity:0.1; fill:none\" points=\"\n",
       "  1782.5,1486.45 1782.5,123.472 \n",
       "  \"/>\n",
       "<polyline clip-path=\"url(#clip382)\" style=\"stroke:#000000; stroke-linecap:butt; stroke-linejoin:round; stroke-width:2; stroke-opacity:0.1; fill:none\" points=\"\n",
       "  2291.66,1486.45 2291.66,123.472 \n",
       "  \"/>\n",
       "<polyline clip-path=\"url(#clip380)\" style=\"stroke:#000000; stroke-linecap:butt; stroke-linejoin:round; stroke-width:4; stroke-opacity:1; fill:none\" points=\"\n",
       "  193.936,1486.45 2352.76,1486.45 \n",
       "  \"/>\n",
       "<polyline clip-path=\"url(#clip380)\" style=\"stroke:#000000; stroke-linecap:butt; stroke-linejoin:round; stroke-width:4; stroke-opacity:1; fill:none\" points=\"\n",
       "  255.035,1486.45 255.035,1467.55 \n",
       "  \"/>\n",
       "<polyline clip-path=\"url(#clip380)\" style=\"stroke:#000000; stroke-linecap:butt; stroke-linejoin:round; stroke-width:4; stroke-opacity:1; fill:none\" points=\"\n",
       "  764.19,1486.45 764.19,1467.55 \n",
       "  \"/>\n",
       "<polyline clip-path=\"url(#clip380)\" style=\"stroke:#000000; stroke-linecap:butt; stroke-linejoin:round; stroke-width:4; stroke-opacity:1; fill:none\" points=\"\n",
       "  1273.35,1486.45 1273.35,1467.55 \n",
       "  \"/>\n",
       "<polyline clip-path=\"url(#clip380)\" style=\"stroke:#000000; stroke-linecap:butt; stroke-linejoin:round; stroke-width:4; stroke-opacity:1; fill:none\" points=\"\n",
       "  1782.5,1486.45 1782.5,1467.55 \n",
       "  \"/>\n",
       "<polyline clip-path=\"url(#clip380)\" style=\"stroke:#000000; stroke-linecap:butt; stroke-linejoin:round; stroke-width:4; stroke-opacity:1; fill:none\" points=\"\n",
       "  2291.66,1486.45 2291.66,1467.55 \n",
       "  \"/>\n",
       "<path clip-path=\"url(#clip380)\" d=\"M201.563 1532.02 L231.239 1532.02 L231.239 1535.95 L201.563 1535.95 L201.563 1532.02 Z\" fill=\"#000000\" fill-rule=\"evenodd\" fill-opacity=\"1\" /><path clip-path=\"url(#clip380)\" d=\"M242.141 1544.91 L249.78 1544.91 L249.78 1518.55 L241.47 1520.21 L241.47 1515.95 L249.734 1514.29 L254.41 1514.29 L254.41 1544.91 L262.049 1544.91 L262.049 1548.85 L242.141 1548.85 L242.141 1544.91 Z\" fill=\"#000000\" fill-rule=\"evenodd\" fill-opacity=\"1\" /><path clip-path=\"url(#clip380)\" d=\"M271.493 1542.97 L276.377 1542.97 L276.377 1548.85 L271.493 1548.85 L271.493 1542.97 Z\" fill=\"#000000\" fill-rule=\"evenodd\" fill-opacity=\"1\" /><path clip-path=\"url(#clip380)\" d=\"M296.562 1517.37 Q292.951 1517.37 291.122 1520.93 Q289.317 1524.47 289.317 1531.6 Q289.317 1538.71 291.122 1542.27 Q292.951 1545.82 296.562 1545.82 Q300.196 1545.82 302.002 1542.27 Q303.831 1538.71 303.831 1531.6 Q303.831 1524.47 302.002 1520.93 Q300.196 1517.37 296.562 1517.37 M296.562 1513.66 Q302.372 1513.66 305.428 1518.27 Q308.507 1522.85 308.507 1531.6 Q308.507 1540.33 305.428 1544.94 Q302.372 1549.52 296.562 1549.52 Q290.752 1549.52 287.673 1544.94 Q284.618 1540.33 284.618 1531.6 Q284.618 1522.85 287.673 1518.27 Q290.752 1513.66 296.562 1513.66 Z\" fill=\"#000000\" fill-rule=\"evenodd\" fill-opacity=\"1\" /><path clip-path=\"url(#clip380)\" d=\"M711.216 1532.02 L740.892 1532.02 L740.892 1535.95 L711.216 1535.95 L711.216 1532.02 Z\" fill=\"#000000\" fill-rule=\"evenodd\" fill-opacity=\"1\" /><path clip-path=\"url(#clip380)\" d=\"M760.984 1517.37 Q757.373 1517.37 755.545 1520.93 Q753.739 1524.47 753.739 1531.6 Q753.739 1538.71 755.545 1542.27 Q757.373 1545.82 760.984 1545.82 Q764.619 1545.82 766.424 1542.27 Q768.253 1538.71 768.253 1531.6 Q768.253 1524.47 766.424 1520.93 Q764.619 1517.37 760.984 1517.37 M760.984 1513.66 Q766.794 1513.66 769.85 1518.27 Q772.929 1522.85 772.929 1531.6 Q772.929 1540.33 769.85 1544.94 Q766.794 1549.52 760.984 1549.52 Q755.174 1549.52 752.095 1544.94 Q749.04 1540.33 749.04 1531.6 Q749.04 1522.85 752.095 1518.27 Q755.174 1513.66 760.984 1513.66 Z\" fill=\"#000000\" fill-rule=\"evenodd\" fill-opacity=\"1\" /><path clip-path=\"url(#clip380)\" d=\"M781.146 1542.97 L786.03 1542.97 L786.03 1548.85 L781.146 1548.85 L781.146 1542.97 Z\" fill=\"#000000\" fill-rule=\"evenodd\" fill-opacity=\"1\" /><path clip-path=\"url(#clip380)\" d=\"M796.262 1514.29 L814.618 1514.29 L814.618 1518.22 L800.544 1518.22 L800.544 1526.7 Q801.563 1526.35 802.581 1526.19 Q803.6 1526 804.618 1526 Q810.405 1526 813.785 1529.17 Q817.165 1532.34 817.165 1537.76 Q817.165 1543.34 813.692 1546.44 Q810.22 1549.52 803.901 1549.52 Q801.725 1549.52 799.456 1549.15 Q797.211 1548.78 794.804 1548.04 L794.804 1543.34 Q796.887 1544.47 799.109 1545.03 Q801.331 1545.58 803.808 1545.58 Q807.813 1545.58 810.151 1543.48 Q812.489 1541.37 812.489 1537.76 Q812.489 1534.15 810.151 1532.04 Q807.813 1529.94 803.808 1529.94 Q801.933 1529.94 800.058 1530.35 Q798.206 1530.77 796.262 1531.65 L796.262 1514.29 Z\" fill=\"#000000\" fill-rule=\"evenodd\" fill-opacity=\"1\" /><path clip-path=\"url(#clip380)\" d=\"M1250.73 1517.37 Q1247.12 1517.37 1245.29 1520.93 Q1243.49 1524.47 1243.49 1531.6 Q1243.49 1538.71 1245.29 1542.27 Q1247.12 1545.82 1250.73 1545.82 Q1254.36 1545.82 1256.17 1542.27 Q1258 1538.71 1258 1531.6 Q1258 1524.47 1256.17 1520.93 Q1254.36 1517.37 1250.73 1517.37 M1250.73 1513.66 Q1256.54 1513.66 1259.6 1518.27 Q1262.67 1522.85 1262.67 1531.6 Q1262.67 1540.33 1259.6 1544.94 Q1256.54 1549.52 1250.73 1549.52 Q1244.92 1549.52 1241.84 1544.94 Q1238.79 1540.33 1238.79 1531.6 Q1238.79 1522.85 1241.84 1518.27 Q1244.92 1513.66 1250.73 1513.66 Z\" fill=\"#000000\" fill-rule=\"evenodd\" fill-opacity=\"1\" /><path clip-path=\"url(#clip380)\" d=\"M1270.89 1542.97 L1275.78 1542.97 L1275.78 1548.85 L1270.89 1548.85 L1270.89 1542.97 Z\" fill=\"#000000\" fill-rule=\"evenodd\" fill-opacity=\"1\" /><path clip-path=\"url(#clip380)\" d=\"M1295.96 1517.37 Q1292.35 1517.37 1290.52 1520.93 Q1288.72 1524.47 1288.72 1531.6 Q1288.72 1538.71 1290.52 1542.27 Q1292.35 1545.82 1295.96 1545.82 Q1299.6 1545.82 1301.4 1542.27 Q1303.23 1538.71 1303.23 1531.6 Q1303.23 1524.47 1301.4 1520.93 Q1299.6 1517.37 1295.96 1517.37 M1295.96 1513.66 Q1301.77 1513.66 1304.83 1518.27 Q1307.91 1522.85 1307.91 1531.6 Q1307.91 1540.33 1304.83 1544.94 Q1301.77 1549.52 1295.96 1549.52 Q1290.15 1549.52 1287.07 1544.94 Q1284.02 1540.33 1284.02 1531.6 Q1284.02 1522.85 1287.07 1518.27 Q1290.15 1513.66 1295.96 1513.66 Z\" fill=\"#000000\" fill-rule=\"evenodd\" fill-opacity=\"1\" /><path clip-path=\"url(#clip380)\" d=\"M1760.38 1517.37 Q1756.77 1517.37 1754.94 1520.93 Q1753.14 1524.47 1753.14 1531.6 Q1753.14 1538.71 1754.94 1542.27 Q1756.77 1545.82 1760.38 1545.82 Q1764.02 1545.82 1765.82 1542.27 Q1767.65 1538.71 1767.65 1531.6 Q1767.65 1524.47 1765.82 1520.93 Q1764.02 1517.37 1760.38 1517.37 M1760.38 1513.66 Q1766.19 1513.66 1769.25 1518.27 Q1772.33 1522.85 1772.33 1531.6 Q1772.33 1540.33 1769.25 1544.94 Q1766.19 1549.52 1760.38 1549.52 Q1754.57 1549.52 1751.49 1544.94 Q1748.44 1540.33 1748.44 1531.6 Q1748.44 1522.85 1751.49 1518.27 Q1754.57 1513.66 1760.38 1513.66 Z\" fill=\"#000000\" fill-rule=\"evenodd\" fill-opacity=\"1\" /><path clip-path=\"url(#clip380)\" d=\"M1780.55 1542.97 L1785.43 1542.97 L1785.43 1548.85 L1780.55 1548.85 L1780.55 1542.97 Z\" fill=\"#000000\" fill-rule=\"evenodd\" fill-opacity=\"1\" /><path clip-path=\"url(#clip380)\" d=\"M1795.66 1514.29 L1814.02 1514.29 L1814.02 1518.22 L1799.94 1518.22 L1799.94 1526.7 Q1800.96 1526.35 1801.98 1526.19 Q1803 1526 1804.02 1526 Q1809.8 1526 1813.18 1529.17 Q1816.56 1532.34 1816.56 1537.76 Q1816.56 1543.34 1813.09 1546.44 Q1809.62 1549.52 1803.3 1549.52 Q1801.12 1549.52 1798.86 1549.15 Q1796.61 1548.78 1794.2 1548.04 L1794.2 1543.34 Q1796.29 1544.47 1798.51 1545.03 Q1800.73 1545.58 1803.21 1545.58 Q1807.21 1545.58 1809.55 1543.48 Q1811.89 1541.37 1811.89 1537.76 Q1811.89 1534.15 1809.55 1532.04 Q1807.21 1529.94 1803.21 1529.94 Q1801.33 1529.94 1799.46 1530.35 Q1797.61 1530.77 1795.66 1531.65 L1795.66 1514.29 Z\" fill=\"#000000\" fill-rule=\"evenodd\" fill-opacity=\"1\" /><path clip-path=\"url(#clip380)\" d=\"M2258.81 1544.91 L2266.45 1544.91 L2266.45 1518.55 L2258.14 1520.21 L2258.14 1515.95 L2266.4 1514.29 L2271.08 1514.29 L2271.08 1544.91 L2278.72 1544.91 L2278.72 1548.85 L2258.81 1548.85 L2258.81 1544.91 Z\" fill=\"#000000\" fill-rule=\"evenodd\" fill-opacity=\"1\" /><path clip-path=\"url(#clip380)\" d=\"M2288.16 1542.97 L2293.05 1542.97 L2293.05 1548.85 L2288.16 1548.85 L2288.16 1542.97 Z\" fill=\"#000000\" fill-rule=\"evenodd\" fill-opacity=\"1\" /><path clip-path=\"url(#clip380)\" d=\"M2313.23 1517.37 Q2309.62 1517.37 2307.79 1520.93 Q2305.99 1524.47 2305.99 1531.6 Q2305.99 1538.71 2307.79 1542.27 Q2309.62 1545.82 2313.23 1545.82 Q2316.87 1545.82 2318.67 1542.27 Q2320.5 1538.71 2320.5 1531.6 Q2320.5 1524.47 2318.67 1520.93 Q2316.87 1517.37 2313.23 1517.37 M2313.23 1513.66 Q2319.04 1513.66 2322.1 1518.27 Q2325.18 1522.85 2325.18 1531.6 Q2325.18 1540.33 2322.1 1544.94 Q2319.04 1549.52 2313.23 1549.52 Q2307.42 1549.52 2304.34 1544.94 Q2301.29 1540.33 2301.29 1531.6 Q2301.29 1522.85 2304.34 1518.27 Q2307.42 1513.66 2313.23 1513.66 Z\" fill=\"#000000\" fill-rule=\"evenodd\" fill-opacity=\"1\" /><polyline clip-path=\"url(#clip382)\" style=\"stroke:#000000; stroke-linecap:butt; stroke-linejoin:round; stroke-width:2; stroke-opacity:0.1; fill:none\" points=\"\n",
       "  193.936,1401.22 2352.76,1401.22 \n",
       "  \"/>\n",
       "<polyline clip-path=\"url(#clip382)\" style=\"stroke:#000000; stroke-linecap:butt; stroke-linejoin:round; stroke-width:2; stroke-opacity:0.1; fill:none\" points=\"\n",
       "  193.936,1103.09 2352.76,1103.09 \n",
       "  \"/>\n",
       "<polyline clip-path=\"url(#clip382)\" style=\"stroke:#000000; stroke-linecap:butt; stroke-linejoin:round; stroke-width:2; stroke-opacity:0.1; fill:none\" points=\"\n",
       "  193.936,804.96 2352.76,804.96 \n",
       "  \"/>\n",
       "<polyline clip-path=\"url(#clip382)\" style=\"stroke:#000000; stroke-linecap:butt; stroke-linejoin:round; stroke-width:2; stroke-opacity:0.1; fill:none\" points=\"\n",
       "  193.936,506.831 2352.76,506.831 \n",
       "  \"/>\n",
       "<polyline clip-path=\"url(#clip382)\" style=\"stroke:#000000; stroke-linecap:butt; stroke-linejoin:round; stroke-width:2; stroke-opacity:0.1; fill:none\" points=\"\n",
       "  193.936,208.702 2352.76,208.702 \n",
       "  \"/>\n",
       "<polyline clip-path=\"url(#clip380)\" style=\"stroke:#000000; stroke-linecap:butt; stroke-linejoin:round; stroke-width:4; stroke-opacity:1; fill:none\" points=\"\n",
       "  193.936,1486.45 193.936,123.472 \n",
       "  \"/>\n",
       "<polyline clip-path=\"url(#clip380)\" style=\"stroke:#000000; stroke-linecap:butt; stroke-linejoin:round; stroke-width:4; stroke-opacity:1; fill:none\" points=\"\n",
       "  193.936,1401.22 212.834,1401.22 \n",
       "  \"/>\n",
       "<polyline clip-path=\"url(#clip380)\" style=\"stroke:#000000; stroke-linecap:butt; stroke-linejoin:round; stroke-width:4; stroke-opacity:1; fill:none\" points=\"\n",
       "  193.936,1103.09 212.834,1103.09 \n",
       "  \"/>\n",
       "<polyline clip-path=\"url(#clip380)\" style=\"stroke:#000000; stroke-linecap:butt; stroke-linejoin:round; stroke-width:4; stroke-opacity:1; fill:none\" points=\"\n",
       "  193.936,804.96 212.834,804.96 \n",
       "  \"/>\n",
       "<polyline clip-path=\"url(#clip380)\" style=\"stroke:#000000; stroke-linecap:butt; stroke-linejoin:round; stroke-width:4; stroke-opacity:1; fill:none\" points=\"\n",
       "  193.936,506.831 212.834,506.831 \n",
       "  \"/>\n",
       "<polyline clip-path=\"url(#clip380)\" style=\"stroke:#000000; stroke-linecap:butt; stroke-linejoin:round; stroke-width:4; stroke-opacity:1; fill:none\" points=\"\n",
       "  193.936,208.702 212.834,208.702 \n",
       "  \"/>\n",
       "<path clip-path=\"url(#clip380)\" d=\"M50.9921 1401.67 L80.6679 1401.67 L80.6679 1405.6 L50.9921 1405.6 L50.9921 1401.67 Z\" fill=\"#000000\" fill-rule=\"evenodd\" fill-opacity=\"1\" /><path clip-path=\"url(#clip380)\" d=\"M91.5706 1414.56 L99.2095 1414.56 L99.2095 1388.2 L90.8993 1389.86 L90.8993 1385.6 L99.1632 1383.94 L103.839 1383.94 L103.839 1414.56 L111.478 1414.56 L111.478 1418.5 L91.5706 1418.5 L91.5706 1414.56 Z\" fill=\"#000000\" fill-rule=\"evenodd\" fill-opacity=\"1\" /><path clip-path=\"url(#clip380)\" d=\"M120.922 1412.62 L125.807 1412.62 L125.807 1418.5 L120.922 1418.5 L120.922 1412.62 Z\" fill=\"#000000\" fill-rule=\"evenodd\" fill-opacity=\"1\" /><path clip-path=\"url(#clip380)\" d=\"M145.992 1387.02 Q142.381 1387.02 140.552 1390.58 Q138.746 1394.12 138.746 1401.25 Q138.746 1408.36 140.552 1411.92 Q142.381 1415.47 145.992 1415.47 Q149.626 1415.47 151.431 1411.92 Q153.26 1408.36 153.26 1401.25 Q153.26 1394.12 151.431 1390.58 Q149.626 1387.02 145.992 1387.02 M145.992 1383.31 Q151.802 1383.31 154.857 1387.92 Q157.936 1392.5 157.936 1401.25 Q157.936 1409.98 154.857 1414.59 Q151.802 1419.17 145.992 1419.17 Q140.181 1419.17 137.103 1414.59 Q134.047 1409.98 134.047 1401.25 Q134.047 1392.5 137.103 1387.92 Q140.181 1383.31 145.992 1383.31 Z\" fill=\"#000000\" fill-rule=\"evenodd\" fill-opacity=\"1\" /><path clip-path=\"url(#clip380)\" d=\"M51.9875 1103.54 L81.6633 1103.54 L81.6633 1107.48 L51.9875 1107.48 L51.9875 1103.54 Z\" fill=\"#000000\" fill-rule=\"evenodd\" fill-opacity=\"1\" /><path clip-path=\"url(#clip380)\" d=\"M101.756 1088.89 Q98.1447 1088.89 96.316 1092.45 Q94.5104 1095.99 94.5104 1103.12 Q94.5104 1110.23 96.316 1113.79 Q98.1447 1117.34 101.756 1117.34 Q105.39 1117.34 107.196 1113.79 Q109.024 1110.23 109.024 1103.12 Q109.024 1095.99 107.196 1092.45 Q105.39 1088.89 101.756 1088.89 M101.756 1085.18 Q107.566 1085.18 110.621 1089.79 Q113.7 1094.37 113.7 1103.12 Q113.7 1111.85 110.621 1116.46 Q107.566 1121.04 101.756 1121.04 Q95.9456 1121.04 92.8669 1116.46 Q89.8114 1111.85 89.8114 1103.12 Q89.8114 1094.37 92.8669 1089.79 Q95.9456 1085.18 101.756 1085.18 Z\" fill=\"#000000\" fill-rule=\"evenodd\" fill-opacity=\"1\" /><path clip-path=\"url(#clip380)\" d=\"M121.918 1114.49 L126.802 1114.49 L126.802 1120.37 L121.918 1120.37 L121.918 1114.49 Z\" fill=\"#000000\" fill-rule=\"evenodd\" fill-opacity=\"1\" /><path clip-path=\"url(#clip380)\" d=\"M137.033 1085.81 L155.39 1085.81 L155.39 1089.74 L141.316 1089.74 L141.316 1098.22 Q142.334 1097.87 143.353 1097.71 Q144.371 1097.52 145.39 1097.52 Q151.177 1097.52 154.556 1100.69 Q157.936 1103.86 157.936 1109.28 Q157.936 1114.86 154.464 1117.96 Q150.992 1121.04 144.672 1121.04 Q142.496 1121.04 140.228 1120.67 Q137.982 1120.3 135.575 1119.56 L135.575 1114.86 Q137.658 1115.99 139.881 1116.55 Q142.103 1117.1 144.58 1117.1 Q148.584 1117.1 150.922 1115 Q153.26 1112.89 153.26 1109.28 Q153.26 1105.67 150.922 1103.56 Q148.584 1101.46 144.58 1101.46 Q142.705 1101.46 140.83 1101.87 Q138.978 1102.29 137.033 1103.17 L137.033 1085.81 Z\" fill=\"#000000\" fill-rule=\"evenodd\" fill-opacity=\"1\" /><path clip-path=\"url(#clip380)\" d=\"M100.76 790.759 Q97.1493 790.759 95.3206 794.323 Q93.515 797.865 93.515 804.995 Q93.515 812.101 95.3206 815.666 Q97.1493 819.208 100.76 819.208 Q104.395 819.208 106.2 815.666 Q108.029 812.101 108.029 804.995 Q108.029 797.865 106.2 794.323 Q104.395 790.759 100.76 790.759 M100.76 787.055 Q106.571 787.055 109.626 791.661 Q112.705 796.245 112.705 804.995 Q112.705 813.722 109.626 818.328 Q106.571 822.911 100.76 822.911 Q94.9502 822.911 91.8715 818.328 Q88.816 813.722 88.816 804.995 Q88.816 796.245 91.8715 791.661 Q94.9502 787.055 100.76 787.055 Z\" fill=\"#000000\" fill-rule=\"evenodd\" fill-opacity=\"1\" /><path clip-path=\"url(#clip380)\" d=\"M120.922 816.36 L125.807 816.36 L125.807 822.24 L120.922 822.24 L120.922 816.36 Z\" fill=\"#000000\" fill-rule=\"evenodd\" fill-opacity=\"1\" /><path clip-path=\"url(#clip380)\" d=\"M145.992 790.759 Q142.381 790.759 140.552 794.323 Q138.746 797.865 138.746 804.995 Q138.746 812.101 140.552 815.666 Q142.381 819.208 145.992 819.208 Q149.626 819.208 151.431 815.666 Q153.26 812.101 153.26 804.995 Q153.26 797.865 151.431 794.323 Q149.626 790.759 145.992 790.759 M145.992 787.055 Q151.802 787.055 154.857 791.661 Q157.936 796.245 157.936 804.995 Q157.936 813.722 154.857 818.328 Q151.802 822.911 145.992 822.911 Q140.181 822.911 137.103 818.328 Q134.047 813.722 134.047 804.995 Q134.047 796.245 137.103 791.661 Q140.181 787.055 145.992 787.055 Z\" fill=\"#000000\" fill-rule=\"evenodd\" fill-opacity=\"1\" /><path clip-path=\"url(#clip380)\" d=\"M101.756 492.63 Q98.1447 492.63 96.316 496.195 Q94.5104 499.736 94.5104 506.866 Q94.5104 513.972 96.316 517.537 Q98.1447 521.079 101.756 521.079 Q105.39 521.079 107.196 517.537 Q109.024 513.972 109.024 506.866 Q109.024 499.736 107.196 496.195 Q105.39 492.63 101.756 492.63 M101.756 488.926 Q107.566 488.926 110.621 493.533 Q113.7 498.116 113.7 506.866 Q113.7 515.593 110.621 520.199 Q107.566 524.782 101.756 524.782 Q95.9456 524.782 92.8669 520.199 Q89.8114 515.593 89.8114 506.866 Q89.8114 498.116 92.8669 493.533 Q95.9456 488.926 101.756 488.926 Z\" fill=\"#000000\" fill-rule=\"evenodd\" fill-opacity=\"1\" /><path clip-path=\"url(#clip380)\" d=\"M121.918 518.232 L126.802 518.232 L126.802 524.111 L121.918 524.111 L121.918 518.232 Z\" fill=\"#000000\" fill-rule=\"evenodd\" fill-opacity=\"1\" /><path clip-path=\"url(#clip380)\" d=\"M137.033 489.551 L155.39 489.551 L155.39 493.486 L141.316 493.486 L141.316 501.959 Q142.334 501.611 143.353 501.449 Q144.371 501.264 145.39 501.264 Q151.177 501.264 154.556 504.435 Q157.936 507.607 157.936 513.023 Q157.936 518.602 154.464 521.704 Q150.992 524.782 144.672 524.782 Q142.496 524.782 140.228 524.412 Q137.982 524.042 135.575 523.301 L135.575 518.602 Q137.658 519.736 139.881 520.292 Q142.103 520.847 144.58 520.847 Q148.584 520.847 150.922 518.741 Q153.26 516.634 153.26 513.023 Q153.26 509.412 150.922 507.306 Q148.584 505.199 144.58 505.199 Q142.705 505.199 140.83 505.616 Q138.978 506.033 137.033 506.912 L137.033 489.551 Z\" fill=\"#000000\" fill-rule=\"evenodd\" fill-opacity=\"1\" /><path clip-path=\"url(#clip380)\" d=\"M91.5706 222.047 L99.2095 222.047 L99.2095 195.682 L90.8993 197.348 L90.8993 193.089 L99.1632 191.422 L103.839 191.422 L103.839 222.047 L111.478 222.047 L111.478 225.982 L91.5706 225.982 L91.5706 222.047 Z\" fill=\"#000000\" fill-rule=\"evenodd\" fill-opacity=\"1\" /><path clip-path=\"url(#clip380)\" d=\"M120.922 220.103 L125.807 220.103 L125.807 225.982 L120.922 225.982 L120.922 220.103 Z\" fill=\"#000000\" fill-rule=\"evenodd\" fill-opacity=\"1\" /><path clip-path=\"url(#clip380)\" d=\"M145.992 194.501 Q142.381 194.501 140.552 198.066 Q138.746 201.607 138.746 208.737 Q138.746 215.844 140.552 219.408 Q142.381 222.95 145.992 222.95 Q149.626 222.95 151.431 219.408 Q153.26 215.844 153.26 208.737 Q153.26 201.607 151.431 198.066 Q149.626 194.501 145.992 194.501 M145.992 190.797 Q151.802 190.797 154.857 195.404 Q157.936 199.987 157.936 208.737 Q157.936 217.464 154.857 222.07 Q151.802 226.654 145.992 226.654 Q140.181 226.654 137.103 222.07 Q134.047 217.464 134.047 208.737 Q134.047 199.987 137.103 195.404 Q140.181 190.797 145.992 190.797 Z\" fill=\"#000000\" fill-rule=\"evenodd\" fill-opacity=\"1\" /><path clip-path=\"url(#clip380)\" d=\"M548.639 63.9476 L548.639 47.7034 L535.271 47.7034 L535.271 40.9789 L556.741 40.9789 L556.741 66.9452 Q552.001 70.3075 546.29 72.0494 Q540.578 73.7508 534.096 73.7508 Q519.918 73.7508 511.897 65.4869 Q503.917 57.1826 503.917 42.3968 Q503.917 27.5705 511.897 19.3066 Q519.918 11.0023 534.096 11.0023 Q540.011 11.0023 545.317 12.4606 Q550.665 13.9189 555.161 16.7545 L555.161 25.464 Q550.624 21.6156 545.52 19.6712 Q540.416 17.7268 534.785 17.7268 Q523.686 17.7268 518.095 23.9246 Q512.546 30.1225 512.546 42.3968 Q512.546 54.6305 518.095 60.8284 Q523.686 67.0263 534.785 67.0263 Q539.12 67.0263 542.522 66.2971 Q545.925 65.5274 548.639 63.9476 Z\" fill=\"#000000\" fill-rule=\"evenodd\" fill-opacity=\"1\" /><path clip-path=\"url(#clip380)\" d=\"M591.984 49.7694 Q582.95 49.7694 579.467 51.8354 Q575.983 53.9013 575.983 58.8839 Q575.983 62.8538 578.575 65.2034 Q581.208 67.5124 585.705 67.5124 Q591.903 67.5124 595.63 63.1374 Q599.397 58.7219 599.397 51.4303 L599.397 49.7694 L591.984 49.7694 M606.851 46.6907 L606.851 72.576 L599.397 72.576 L599.397 65.6895 Q596.845 69.8214 593.037 71.8063 Q589.229 73.7508 583.72 73.7508 Q576.752 73.7508 572.621 69.8619 Q568.529 65.9325 568.529 59.3701 Q568.529 51.7138 573.633 47.825 Q578.778 43.9361 588.946 43.9361 L599.397 43.9361 L599.397 43.2069 Q599.397 38.0623 595.994 35.2672 Q592.632 32.4315 586.515 32.4315 Q582.626 32.4315 578.94 33.3632 Q575.254 34.295 571.851 36.1584 L571.851 29.2718 Q575.942 27.692 579.791 26.9223 Q583.639 26.1121 587.285 26.1121 Q597.129 26.1121 601.99 31.2163 Q606.851 36.3204 606.851 46.6907 Z\" fill=\"#000000\" fill-rule=\"evenodd\" fill-opacity=\"1\" /><path clip-path=\"url(#clip380)\" d=\"M622.204 9.54393 L629.657 9.54393 L629.657 72.576 L622.204 72.576 L622.204 9.54393 Z\" fill=\"#000000\" fill-rule=\"evenodd\" fill-opacity=\"1\" /><path clip-path=\"url(#clip380)\" d=\"M684.061 48.0275 L684.061 51.6733 L649.79 51.6733 Q650.276 59.3701 654.408 63.421 Q658.581 67.4314 665.994 67.4314 Q670.288 67.4314 674.298 66.3781 Q678.349 65.3249 682.319 63.2184 L682.319 70.267 Q678.309 71.9684 674.096 72.8596 Q669.883 73.7508 665.548 73.7508 Q654.692 73.7508 648.332 67.4314 Q642.013 61.1119 642.013 50.3365 Q642.013 39.1965 648.008 32.6746 Q654.044 26.1121 664.252 26.1121 Q673.407 26.1121 678.714 32.0264 Q684.061 37.9003 684.061 48.0275 M676.607 45.84 Q676.526 39.7232 673.164 36.0774 Q669.842 32.4315 664.333 32.4315 Q658.095 32.4315 654.327 35.9558 Q650.6 39.4801 650.033 45.8805 L676.607 45.84 Z\" fill=\"#000000\" fill-rule=\"evenodd\" fill-opacity=\"1\" /><path clip-path=\"url(#clip380)\" d=\"M722.585 34.1734 Q721.329 33.4443 719.83 33.1202 Q718.372 32.7556 716.59 32.7556 Q710.27 32.7556 706.868 36.8875 Q703.505 40.9789 703.505 48.6757 L703.505 72.576 L696.011 72.576 L696.011 27.2059 L703.505 27.2059 L703.505 34.2544 Q705.855 30.1225 709.622 28.1376 Q713.389 26.1121 718.777 26.1121 Q719.547 26.1121 720.479 26.2337 Q721.41 26.3147 722.545 26.5172 L722.585 34.1734 Z\" fill=\"#000000\" fill-rule=\"evenodd\" fill-opacity=\"1\" /><path clip-path=\"url(#clip380)\" d=\"M730.12 9.54393 L737.614 9.54393 L737.614 46.7717 L759.853 27.2059 L769.373 27.2059 L745.311 48.4326 L770.386 72.576 L760.664 72.576 L737.614 50.4176 L737.614 72.576 L730.12 72.576 L730.12 9.54393 Z\" fill=\"#000000\" fill-rule=\"evenodd\" fill-opacity=\"1\" /><path clip-path=\"url(#clip380)\" d=\"M778.447 27.2059 L785.901 27.2059 L785.901 72.576 L778.447 72.576 L778.447 27.2059 M778.447 9.54393 L785.901 9.54393 L785.901 18.9825 L778.447 18.9825 L778.447 9.54393 Z\" fill=\"#000000\" fill-rule=\"evenodd\" fill-opacity=\"1\" /><path clip-path=\"url(#clip380)\" d=\"M839.211 45.1919 L839.211 72.576 L831.757 72.576 L831.757 45.4349 Q831.757 38.994 829.245 35.7938 Q826.734 32.5936 821.711 32.5936 Q815.675 32.5936 812.191 36.4419 Q808.707 40.2903 808.707 46.9338 L808.707 72.576 L801.213 72.576 L801.213 27.2059 L808.707 27.2059 L808.707 34.2544 Q811.381 30.163 814.986 28.1376 Q818.632 26.1121 823.372 26.1121 Q831.19 26.1121 835.2 30.9732 Q839.211 35.7938 839.211 45.1919 Z\" fill=\"#000000\" fill-rule=\"evenodd\" fill-opacity=\"1\" /><path clip-path=\"url(#clip380)\" d=\"M919.256 48.0275 L919.256 51.6733 L884.986 51.6733 Q885.472 59.3701 889.604 63.421 Q893.776 67.4314 901.189 67.4314 Q905.483 67.4314 909.494 66.3781 Q913.545 65.3249 917.515 63.2184 L917.515 70.267 Q913.504 71.9684 909.291 72.8596 Q905.078 73.7508 900.744 73.7508 Q889.887 73.7508 883.527 67.4314 Q877.208 61.1119 877.208 50.3365 Q877.208 39.1965 883.203 32.6746 Q889.239 26.1121 899.447 26.1121 Q908.603 26.1121 913.909 32.0264 Q919.256 37.9003 919.256 48.0275 M911.803 45.84 Q911.722 39.7232 908.359 36.0774 Q905.038 32.4315 899.529 32.4315 Q893.29 32.4315 889.523 35.9558 Q885.796 39.4801 885.229 45.8805 L911.803 45.84 Z\" fill=\"#000000\" fill-rule=\"evenodd\" fill-opacity=\"1\" /><path clip-path=\"url(#clip380)\" d=\"M957.781 34.1734 Q956.525 33.4443 955.026 33.1202 Q953.568 32.7556 951.785 32.7556 Q945.466 32.7556 942.063 36.8875 Q938.701 40.9789 938.701 48.6757 L938.701 72.576 L931.207 72.576 L931.207 27.2059 L938.701 27.2059 L938.701 34.2544 Q941.05 30.1225 944.818 28.1376 Q948.585 26.1121 953.973 26.1121 Q954.742 26.1121 955.674 26.2337 Q956.606 26.3147 957.74 26.5172 L957.781 34.1734 Z\" fill=\"#000000\" fill-rule=\"evenodd\" fill-opacity=\"1\" /><path clip-path=\"url(#clip380)\" d=\"M990.431 34.1734 Q989.175 33.4443 987.676 33.1202 Q986.218 32.7556 984.435 32.7556 Q978.116 32.7556 974.713 36.8875 Q971.351 40.9789 971.351 48.6757 L971.351 72.576 L963.857 72.576 L963.857 27.2059 L971.351 27.2059 L971.351 34.2544 Q973.701 30.1225 977.468 28.1376 Q981.235 26.1121 986.623 26.1121 Q987.393 26.1121 988.324 26.2337 Q989.256 26.3147 990.39 26.5172 L990.431 34.1734 Z\" fill=\"#000000\" fill-rule=\"evenodd\" fill-opacity=\"1\" /><path clip-path=\"url(#clip380)\" d=\"M1014.01 32.4315 Q1008.01 32.4315 1004.53 37.1306 Q1001.04 41.7891 1001.04 49.9314 Q1001.04 58.0738 1004.49 62.7728 Q1007.97 67.4314 1014.01 67.4314 Q1019.96 67.4314 1023.45 62.7323 Q1026.93 58.0333 1026.93 49.9314 Q1026.93 41.8701 1023.45 37.1711 Q1019.96 32.4315 1014.01 32.4315 M1014.01 26.1121 Q1023.73 26.1121 1029.28 32.4315 Q1034.83 38.7509 1034.83 49.9314 Q1034.83 61.0714 1029.28 67.4314 Q1023.73 73.7508 1014.01 73.7508 Q1004.24 73.7508 998.695 67.4314 Q993.185 61.0714 993.185 49.9314 Q993.185 38.7509 998.695 32.4315 Q1004.24 26.1121 1014.01 26.1121 Z\" fill=\"#000000\" fill-rule=\"evenodd\" fill-opacity=\"1\" /><path clip-path=\"url(#clip380)\" d=\"M1073.47 34.1734 Q1072.22 33.4443 1070.72 33.1202 Q1069.26 32.7556 1067.48 32.7556 Q1061.16 32.7556 1057.76 36.8875 Q1054.39 40.9789 1054.39 48.6757 L1054.39 72.576 L1046.9 72.576 L1046.9 27.2059 L1054.39 27.2059 L1054.39 34.2544 Q1056.74 30.1225 1060.51 28.1376 Q1064.28 26.1121 1069.67 26.1121 Q1070.44 26.1121 1071.37 26.2337 Q1072.3 26.3147 1073.43 26.5172 L1073.47 34.1734 Z\" fill=\"#000000\" fill-rule=\"evenodd\" fill-opacity=\"1\" /><path clip-path=\"url(#clip380)\" d=\"M1081.74 62.2867 L1090.29 62.2867 L1090.29 72.576 L1081.74 72.576 L1081.74 62.2867 M1081.74 29.6769 L1090.29 29.6769 L1090.29 39.9662 L1081.74 39.9662 L1081.74 29.6769 Z\" fill=\"#000000\" fill-rule=\"evenodd\" fill-opacity=\"1\" /><path clip-path=\"url(#clip380)\" d=\"M1152.71 17.4837 Q1146.39 17.4837 1143.19 23.7221 Q1140.03 29.92 1140.03 42.3968 Q1140.03 54.833 1143.19 61.0714 Q1146.39 67.2693 1152.71 67.2693 Q1159.07 67.2693 1162.23 61.0714 Q1165.43 54.833 1165.43 42.3968 Q1165.43 29.92 1162.23 23.7221 Q1159.07 17.4837 1152.71 17.4837 M1152.71 11.0023 Q1162.88 11.0023 1168.22 19.0636 Q1173.61 27.0843 1173.61 42.3968 Q1173.61 57.6687 1168.22 65.73 Q1162.88 73.7508 1152.71 73.7508 Q1142.54 73.7508 1137.15 65.73 Q1131.81 57.6687 1131.81 42.3968 Q1131.81 27.0843 1137.15 19.0636 Q1142.54 11.0023 1152.71 11.0023 Z\" fill=\"#000000\" fill-rule=\"evenodd\" fill-opacity=\"1\" /><path clip-path=\"url(#clip380)\" d=\"M1187.99 62.2867 L1196.54 62.2867 L1196.54 72.576 L1187.99 72.576 L1187.99 62.2867 Z\" fill=\"#000000\" fill-rule=\"evenodd\" fill-opacity=\"1\" /><path clip-path=\"url(#clip380)\" d=\"M1239.16 39.9662 Q1245.03 41.222 1248.31 45.1919 Q1251.63 49.1618 1251.63 54.9951 Q1251.63 63.9476 1245.48 68.8492 Q1239.32 73.7508 1227.98 73.7508 Q1224.17 73.7508 1220.12 72.9811 Q1216.11 72.2519 1211.81 70.7531 L1211.81 62.8538 Q1215.22 64.8388 1219.27 65.8515 Q1223.32 66.8642 1227.73 66.8642 Q1235.43 66.8642 1239.44 63.826 Q1243.49 60.7879 1243.49 54.9951 Q1243.49 49.6479 1239.72 46.6502 Q1236 43.612 1229.31 43.612 L1222.26 43.612 L1222.26 36.8875 L1229.64 36.8875 Q1235.67 36.8875 1238.87 34.4975 Q1242.07 32.067 1242.07 27.5299 Q1242.07 22.8714 1238.75 20.4004 Q1235.47 17.8888 1229.31 17.8888 Q1225.95 17.8888 1222.1 18.618 Q1218.25 19.3471 1213.64 20.8865 L1213.64 13.5948 Q1218.29 12.2985 1222.35 11.6504 Q1226.44 11.0023 1230.04 11.0023 Q1239.36 11.0023 1244.79 15.2557 Q1250.22 19.4686 1250.22 26.6793 Q1250.22 31.7024 1247.34 35.1862 Q1244.46 38.6294 1239.16 39.9662 Z\" fill=\"#000000\" fill-rule=\"evenodd\" fill-opacity=\"1\" /><path clip-path=\"url(#clip380)\" d=\"M1268.57 65.6895 L1281.93 65.6895 L1281.93 19.5497 L1267.39 22.4663 L1267.39 15.0127 L1281.85 12.096 L1290.04 12.096 L1290.04 65.6895 L1303.4 65.6895 L1303.4 72.576 L1268.57 72.576 L1268.57 65.6895 Z\" fill=\"#000000\" fill-rule=\"evenodd\" fill-opacity=\"1\" /><path clip-path=\"url(#clip380)\" d=\"M1337.43 17.4837 Q1331.11 17.4837 1327.91 23.7221 Q1324.75 29.92 1324.75 42.3968 Q1324.75 54.833 1327.91 61.0714 Q1331.11 67.2693 1337.43 67.2693 Q1343.79 67.2693 1346.95 61.0714 Q1350.15 54.833 1350.15 42.3968 Q1350.15 29.92 1346.95 23.7221 Q1343.79 17.4837 1337.43 17.4837 M1337.43 11.0023 Q1347.6 11.0023 1352.95 19.0636 Q1358.33 27.0843 1358.33 42.3968 Q1358.33 57.6687 1352.95 65.73 Q1347.6 73.7508 1337.43 73.7508 Q1327.26 73.7508 1321.88 65.73 Q1316.53 57.6687 1316.53 42.3968 Q1316.53 27.0843 1321.88 19.0636 Q1327.26 11.0023 1337.43 11.0023 Z\" fill=\"#000000\" fill-rule=\"evenodd\" fill-opacity=\"1\" /><path clip-path=\"url(#clip380)\" d=\"M1374.13 65.6895 L1387.5 65.6895 L1387.5 19.5497 L1372.96 22.4663 L1372.96 15.0127 L1387.42 12.096 L1395.6 12.096 L1395.6 65.6895 L1408.97 65.6895 L1408.97 72.576 L1374.13 72.576 L1374.13 65.6895 Z\" fill=\"#000000\" fill-rule=\"evenodd\" fill-opacity=\"1\" /><path clip-path=\"url(#clip380)\" d=\"M1443 17.4837 Q1436.68 17.4837 1433.48 23.7221 Q1430.32 29.92 1430.32 42.3968 Q1430.32 54.833 1433.48 61.0714 Q1436.68 67.2693 1443 67.2693 Q1449.36 67.2693 1452.52 61.0714 Q1455.72 54.833 1455.72 42.3968 Q1455.72 29.92 1452.52 23.7221 Q1449.36 17.4837 1443 17.4837 M1443 11.0023 Q1453.17 11.0023 1458.51 19.0636 Q1463.9 27.0843 1463.9 42.3968 Q1463.9 57.6687 1458.51 65.73 Q1453.17 73.7508 1443 73.7508 Q1432.83 73.7508 1427.44 65.73 Q1422.1 57.6687 1422.1 42.3968 Q1422.1 27.0843 1427.44 19.0636 Q1432.83 11.0023 1443 11.0023 Z\" fill=\"#000000\" fill-rule=\"evenodd\" fill-opacity=\"1\" /><path clip-path=\"url(#clip380)\" d=\"M1476.22 12.096 L1515.1 12.096 L1515.1 15.5798 L1493.15 72.576 L1484.6 72.576 L1505.26 18.9825 L1476.22 18.9825 L1476.22 12.096 Z\" fill=\"#000000\" fill-rule=\"evenodd\" fill-opacity=\"1\" /><path clip-path=\"url(#clip380)\" d=\"M1549.58 39.075 Q1544.07 39.075 1540.83 42.8424 Q1537.63 46.6097 1537.63 53.1722 Q1537.63 59.6941 1540.83 63.502 Q1544.07 67.2693 1549.58 67.2693 Q1555.09 67.2693 1558.29 63.502 Q1561.53 59.6941 1561.53 53.1722 Q1561.53 46.6097 1558.29 42.8424 Q1555.09 39.075 1549.58 39.075 M1565.82 13.4328 L1565.82 20.8865 Q1562.74 19.4281 1559.58 18.6585 Q1556.46 17.8888 1553.38 17.8888 Q1545.28 17.8888 1540.99 23.3575 Q1536.74 28.8262 1536.13 39.8852 Q1538.52 36.3609 1542.12 34.4975 Q1545.73 32.5936 1550.06 32.5936 Q1559.18 32.5936 1564.44 38.1433 Q1569.75 43.6525 1569.75 53.1722 Q1569.75 62.4892 1564.24 68.12 Q1558.73 73.7508 1549.58 73.7508 Q1539.09 73.7508 1533.54 65.73 Q1527.99 57.6687 1527.99 42.3968 Q1527.99 28.0566 1534.79 19.5497 Q1541.6 11.0023 1553.06 11.0023 Q1556.14 11.0023 1559.26 11.6099 Q1562.42 12.2175 1565.82 13.4328 Z\" fill=\"#000000\" fill-rule=\"evenodd\" fill-opacity=\"1\" /><path clip-path=\"url(#clip380)\" d=\"M1585.27 65.6895 L1598.63 65.6895 L1598.63 19.5497 L1584.09 22.4663 L1584.09 15.0127 L1598.55 12.096 L1606.74 12.096 L1606.74 65.6895 L1620.1 65.6895 L1620.1 72.576 L1585.27 72.576 L1585.27 65.6895 Z\" fill=\"#000000\" fill-rule=\"evenodd\" fill-opacity=\"1\" /><path clip-path=\"url(#clip380)\" d=\"M1655.14 39.075 Q1649.63 39.075 1646.39 42.8424 Q1643.19 46.6097 1643.19 53.1722 Q1643.19 59.6941 1646.39 63.502 Q1649.63 67.2693 1655.14 67.2693 Q1660.65 67.2693 1663.85 63.502 Q1667.09 59.6941 1667.09 53.1722 Q1667.09 46.6097 1663.85 42.8424 Q1660.65 39.075 1655.14 39.075 M1671.39 13.4328 L1671.39 20.8865 Q1668.31 19.4281 1665.15 18.6585 Q1662.03 17.8888 1658.95 17.8888 Q1650.85 17.8888 1646.56 23.3575 Q1642.3 28.8262 1641.69 39.8852 Q1644.08 36.3609 1647.69 34.4975 Q1651.3 32.5936 1655.63 32.5936 Q1664.74 32.5936 1670.01 38.1433 Q1675.32 43.6525 1675.32 53.1722 Q1675.32 62.4892 1669.81 68.12 Q1664.3 73.7508 1655.14 73.7508 Q1644.65 73.7508 1639.1 65.73 Q1633.55 57.6687 1633.55 42.3968 Q1633.55 28.0566 1640.36 19.5497 Q1647.16 11.0023 1658.63 11.0023 Q1661.71 11.0023 1664.83 11.6099 Q1667.99 12.2175 1671.39 13.4328 Z\" fill=\"#000000\" fill-rule=\"evenodd\" fill-opacity=\"1\" /><path clip-path=\"url(#clip380)\" d=\"M1696.46 65.6895 L1725.02 65.6895 L1725.02 72.576 L1686.62 72.576 L1686.62 65.6895 Q1691.28 60.8689 1699.3 52.7671 Q1707.36 44.6248 1709.43 42.2752 Q1713.36 37.8598 1714.89 34.8216 Q1716.47 31.7429 1716.47 28.7857 Q1716.47 23.9651 1713.07 20.927 Q1709.71 17.8888 1704.28 17.8888 Q1700.43 17.8888 1696.14 19.2256 Q1691.89 20.5624 1687.02 23.2765 L1687.02 15.0127 Q1691.97 13.0277 1696.26 12.015 Q1700.55 11.0023 1704.12 11.0023 Q1713.52 11.0023 1719.11 15.7013 Q1724.7 20.4004 1724.7 28.2591 Q1724.7 31.9859 1723.28 35.3482 Q1721.9 38.6699 1718.22 43.2069 Q1717.2 44.3817 1711.78 50.0125 Q1706.35 55.6027 1696.46 65.6895 Z\" fill=\"#000000\" fill-rule=\"evenodd\" fill-opacity=\"1\" /><path clip-path=\"url(#clip380)\" d=\"M1742.28 12.096 L1774.4 12.096 L1774.4 18.9825 L1749.77 18.9825 L1749.77 33.8088 Q1751.56 33.2012 1753.34 32.9176 Q1755.12 32.5936 1756.9 32.5936 Q1767.03 32.5936 1772.94 38.1433 Q1778.86 43.6931 1778.86 53.1722 Q1778.86 62.9348 1772.78 68.3631 Q1766.71 73.7508 1755.65 73.7508 Q1751.84 73.7508 1747.87 73.1026 Q1743.94 72.4545 1739.73 71.1582 L1739.73 62.9348 Q1743.37 64.9198 1747.26 65.892 Q1751.15 66.8642 1755.48 66.8642 Q1762.49 66.8642 1766.58 63.1779 Q1770.68 59.4916 1770.68 53.1722 Q1770.68 46.8528 1766.58 43.1664 Q1762.49 39.4801 1755.48 39.4801 Q1752.2 39.4801 1748.92 40.2093 Q1745.68 40.9384 1742.28 42.4778 L1742.28 12.096 Z\" fill=\"#000000\" fill-rule=\"evenodd\" fill-opacity=\"1\" /><path clip-path=\"url(#clip380)\" d=\"M1795.22 71.3202 L1795.22 63.8666 Q1798.3 65.3249 1801.46 66.0946 Q1804.62 66.8642 1807.66 66.8642 Q1815.76 66.8642 1820.02 61.436 Q1824.31 55.9673 1824.92 44.8678 Q1822.57 48.3516 1818.96 50.215 Q1815.36 52.0784 1810.98 52.0784 Q1801.91 52.0784 1796.6 46.6097 Q1791.34 41.1005 1791.34 31.5808 Q1791.34 22.2638 1796.84 16.633 Q1802.35 11.0023 1811.51 11.0023 Q1822 11.0023 1827.51 19.0636 Q1833.06 27.0843 1833.06 42.3968 Q1833.06 56.6965 1826.25 65.2439 Q1819.49 73.7508 1808.02 73.7508 Q1804.95 73.7508 1801.79 73.1431 Q1798.63 72.5355 1795.22 71.3202 M1811.51 45.678 Q1817.02 45.678 1820.22 41.9107 Q1823.46 38.1433 1823.46 31.5808 Q1823.46 25.0589 1820.22 21.2916 Q1817.02 17.4837 1811.51 17.4837 Q1806 17.4837 1802.76 21.2916 Q1799.56 25.0589 1799.56 31.5808 Q1799.56 38.1433 1802.76 41.9107 Q1806 45.678 1811.51 45.678 Z\" fill=\"#000000\" fill-rule=\"evenodd\" fill-opacity=\"1\" /><path clip-path=\"url(#clip380)\" d=\"M1847.85 12.096 L1879.97 12.096 L1879.97 18.9825 L1855.34 18.9825 L1855.34 33.8088 Q1857.12 33.2012 1858.9 32.9176 Q1860.69 32.5936 1862.47 32.5936 Q1872.6 32.5936 1878.51 38.1433 Q1884.42 43.6931 1884.42 53.1722 Q1884.42 62.9348 1878.35 68.3631 Q1872.27 73.7508 1861.21 73.7508 Q1857.41 73.7508 1853.44 73.1026 Q1849.51 72.4545 1845.29 71.1582 L1845.29 62.9348 Q1848.94 64.9198 1852.83 65.892 Q1856.72 66.8642 1861.05 66.8642 Q1868.06 66.8642 1872.15 63.1779 Q1876.24 59.4916 1876.24 53.1722 Q1876.24 46.8528 1872.15 43.1664 Q1868.06 39.4801 1861.05 39.4801 Q1857.77 39.4801 1854.49 40.2093 Q1851.25 40.9384 1847.85 42.4778 L1847.85 12.096 Z\" fill=\"#000000\" fill-rule=\"evenodd\" fill-opacity=\"1\" /><path clip-path=\"url(#clip380)\" d=\"M1901.97 65.6895 L1915.33 65.6895 L1915.33 19.5497 L1900.79 22.4663 L1900.79 15.0127 L1915.25 12.096 L1923.44 12.096 L1923.44 65.6895 L1936.8 65.6895 L1936.8 72.576 L1901.97 72.576 L1901.97 65.6895 Z\" fill=\"#000000\" fill-rule=\"evenodd\" fill-opacity=\"1\" /><path clip-path=\"url(#clip380)\" d=\"M1953.41 12.096 L1985.54 12.096 L1985.54 18.9825 L1960.91 18.9825 L1960.91 33.8088 Q1962.69 33.2012 1964.47 32.9176 Q1966.25 32.5936 1968.04 32.5936 Q1978.16 32.5936 1984.08 38.1433 Q1989.99 43.6931 1989.99 53.1722 Q1989.99 62.9348 1983.92 68.3631 Q1977.84 73.7508 1966.78 73.7508 Q1962.97 73.7508 1959 73.1026 Q1955.07 72.4545 1950.86 71.1582 L1950.86 62.9348 Q1954.51 64.9198 1958.39 65.892 Q1962.28 66.8642 1966.62 66.8642 Q1973.63 66.8642 1977.72 63.1779 Q1981.81 59.4916 1981.81 53.1722 Q1981.81 46.8528 1977.72 43.1664 Q1973.63 39.4801 1966.62 39.4801 Q1963.34 39.4801 1960.06 40.2093 Q1956.81 40.9384 1953.41 42.4778 L1953.41 12.096 Z\" fill=\"#000000\" fill-rule=\"evenodd\" fill-opacity=\"1\" /><path clip-path=\"url(#clip380)\" d=\"M2006.2 12.096 L2038.32 12.096 L2038.32 18.9825 L2013.69 18.9825 L2013.69 33.8088 Q2015.47 33.2012 2017.25 32.9176 Q2019.04 32.5936 2020.82 32.5936 Q2030.95 32.5936 2036.86 38.1433 Q2042.77 43.6931 2042.77 53.1722 Q2042.77 62.9348 2036.7 68.3631 Q2030.62 73.7508 2019.56 73.7508 Q2015.76 73.7508 2011.79 73.1026 Q2007.86 72.4545 2003.64 71.1582 L2003.64 62.9348 Q2007.29 64.9198 2011.18 65.892 Q2015.07 66.8642 2019.4 66.8642 Q2026.41 66.8642 2030.5 63.1779 Q2034.59 59.4916 2034.59 53.1722 Q2034.59 46.8528 2030.5 43.1664 Q2026.41 39.4801 2019.4 39.4801 Q2016.12 39.4801 2012.84 40.2093 Q2009.6 40.9384 2006.2 42.4778 L2006.2 12.096 Z\" fill=\"#000000\" fill-rule=\"evenodd\" fill-opacity=\"1\" /><polyline clip-path=\"url(#clip382)\" style=\"stroke:#009af9; stroke-linecap:butt; stroke-linejoin:round; stroke-width:16; stroke-opacity:1; fill:none\" points=\"\n",
       "  255.035,1284.04 385.643,1447.87 670.811,1365.63 1060.21,1281.88 1486.48,328.04 1875.88,244.294 2161.05,162.047 2291.66,325.875 \n",
       "  \"/>\n",
       "<line clip-path=\"url(#clip382)\" x1=\"255.035\" y1=\"1284.04\" x2=\"255.035\" y2=\"1268.04\" style=\"stroke:#009af9; stroke-width:3.2; stroke-opacity:1\"/>\n",
       "<line clip-path=\"url(#clip382)\" x1=\"255.035\" y1=\"1284.04\" x2=\"239.035\" y2=\"1284.04\" style=\"stroke:#009af9; stroke-width:3.2; stroke-opacity:1\"/>\n",
       "<line clip-path=\"url(#clip382)\" x1=\"255.035\" y1=\"1284.04\" x2=\"255.035\" y2=\"1300.04\" style=\"stroke:#009af9; stroke-width:3.2; stroke-opacity:1\"/>\n",
       "<line clip-path=\"url(#clip382)\" x1=\"255.035\" y1=\"1284.04\" x2=\"271.035\" y2=\"1284.04\" style=\"stroke:#009af9; stroke-width:3.2; stroke-opacity:1\"/>\n",
       "<line clip-path=\"url(#clip382)\" x1=\"385.643\" y1=\"1447.87\" x2=\"385.643\" y2=\"1431.87\" style=\"stroke:#009af9; stroke-width:3.2; stroke-opacity:1\"/>\n",
       "<line clip-path=\"url(#clip382)\" x1=\"385.643\" y1=\"1447.87\" x2=\"369.643\" y2=\"1447.87\" style=\"stroke:#009af9; stroke-width:3.2; stroke-opacity:1\"/>\n",
       "<line clip-path=\"url(#clip382)\" x1=\"385.643\" y1=\"1447.87\" x2=\"385.643\" y2=\"1463.87\" style=\"stroke:#009af9; stroke-width:3.2; stroke-opacity:1\"/>\n",
       "<line clip-path=\"url(#clip382)\" x1=\"385.643\" y1=\"1447.87\" x2=\"401.643\" y2=\"1447.87\" style=\"stroke:#009af9; stroke-width:3.2; stroke-opacity:1\"/>\n",
       "<line clip-path=\"url(#clip382)\" x1=\"670.811\" y1=\"1365.63\" x2=\"670.811\" y2=\"1349.63\" style=\"stroke:#009af9; stroke-width:3.2; stroke-opacity:1\"/>\n",
       "<line clip-path=\"url(#clip382)\" x1=\"670.811\" y1=\"1365.63\" x2=\"654.811\" y2=\"1365.63\" style=\"stroke:#009af9; stroke-width:3.2; stroke-opacity:1\"/>\n",
       "<line clip-path=\"url(#clip382)\" x1=\"670.811\" y1=\"1365.63\" x2=\"670.811\" y2=\"1381.63\" style=\"stroke:#009af9; stroke-width:3.2; stroke-opacity:1\"/>\n",
       "<line clip-path=\"url(#clip382)\" x1=\"670.811\" y1=\"1365.63\" x2=\"686.811\" y2=\"1365.63\" style=\"stroke:#009af9; stroke-width:3.2; stroke-opacity:1\"/>\n",
       "<line clip-path=\"url(#clip382)\" x1=\"1060.21\" y1=\"1281.88\" x2=\"1060.21\" y2=\"1265.88\" style=\"stroke:#009af9; stroke-width:3.2; stroke-opacity:1\"/>\n",
       "<line clip-path=\"url(#clip382)\" x1=\"1060.21\" y1=\"1281.88\" x2=\"1044.21\" y2=\"1281.88\" style=\"stroke:#009af9; stroke-width:3.2; stroke-opacity:1\"/>\n",
       "<line clip-path=\"url(#clip382)\" x1=\"1060.21\" y1=\"1281.88\" x2=\"1060.21\" y2=\"1297.88\" style=\"stroke:#009af9; stroke-width:3.2; stroke-opacity:1\"/>\n",
       "<line clip-path=\"url(#clip382)\" x1=\"1060.21\" y1=\"1281.88\" x2=\"1076.21\" y2=\"1281.88\" style=\"stroke:#009af9; stroke-width:3.2; stroke-opacity:1\"/>\n",
       "<line clip-path=\"url(#clip382)\" x1=\"1486.48\" y1=\"328.04\" x2=\"1486.48\" y2=\"312.04\" style=\"stroke:#009af9; stroke-width:3.2; stroke-opacity:1\"/>\n",
       "<line clip-path=\"url(#clip382)\" x1=\"1486.48\" y1=\"328.04\" x2=\"1470.48\" y2=\"328.04\" style=\"stroke:#009af9; stroke-width:3.2; stroke-opacity:1\"/>\n",
       "<line clip-path=\"url(#clip382)\" x1=\"1486.48\" y1=\"328.04\" x2=\"1486.48\" y2=\"344.04\" style=\"stroke:#009af9; stroke-width:3.2; stroke-opacity:1\"/>\n",
       "<line clip-path=\"url(#clip382)\" x1=\"1486.48\" y1=\"328.04\" x2=\"1502.48\" y2=\"328.04\" style=\"stroke:#009af9; stroke-width:3.2; stroke-opacity:1\"/>\n",
       "<line clip-path=\"url(#clip382)\" x1=\"1875.88\" y1=\"244.294\" x2=\"1875.88\" y2=\"228.294\" style=\"stroke:#009af9; stroke-width:3.2; stroke-opacity:1\"/>\n",
       "<line clip-path=\"url(#clip382)\" x1=\"1875.88\" y1=\"244.294\" x2=\"1859.88\" y2=\"244.294\" style=\"stroke:#009af9; stroke-width:3.2; stroke-opacity:1\"/>\n",
       "<line clip-path=\"url(#clip382)\" x1=\"1875.88\" y1=\"244.294\" x2=\"1875.88\" y2=\"260.294\" style=\"stroke:#009af9; stroke-width:3.2; stroke-opacity:1\"/>\n",
       "<line clip-path=\"url(#clip382)\" x1=\"1875.88\" y1=\"244.294\" x2=\"1891.88\" y2=\"244.294\" style=\"stroke:#009af9; stroke-width:3.2; stroke-opacity:1\"/>\n",
       "<line clip-path=\"url(#clip382)\" x1=\"2161.05\" y1=\"162.047\" x2=\"2161.05\" y2=\"146.047\" style=\"stroke:#009af9; stroke-width:3.2; stroke-opacity:1\"/>\n",
       "<line clip-path=\"url(#clip382)\" x1=\"2161.05\" y1=\"162.047\" x2=\"2145.05\" y2=\"162.047\" style=\"stroke:#009af9; stroke-width:3.2; stroke-opacity:1\"/>\n",
       "<line clip-path=\"url(#clip382)\" x1=\"2161.05\" y1=\"162.047\" x2=\"2161.05\" y2=\"178.047\" style=\"stroke:#009af9; stroke-width:3.2; stroke-opacity:1\"/>\n",
       "<line clip-path=\"url(#clip382)\" x1=\"2161.05\" y1=\"162.047\" x2=\"2177.05\" y2=\"162.047\" style=\"stroke:#009af9; stroke-width:3.2; stroke-opacity:1\"/>\n",
       "<line clip-path=\"url(#clip382)\" x1=\"2291.66\" y1=\"325.875\" x2=\"2291.66\" y2=\"309.875\" style=\"stroke:#009af9; stroke-width:3.2; stroke-opacity:1\"/>\n",
       "<line clip-path=\"url(#clip382)\" x1=\"2291.66\" y1=\"325.875\" x2=\"2275.66\" y2=\"325.875\" style=\"stroke:#009af9; stroke-width:3.2; stroke-opacity:1\"/>\n",
       "<line clip-path=\"url(#clip382)\" x1=\"2291.66\" y1=\"325.875\" x2=\"2291.66\" y2=\"341.875\" style=\"stroke:#009af9; stroke-width:3.2; stroke-opacity:1\"/>\n",
       "<line clip-path=\"url(#clip382)\" x1=\"2291.66\" y1=\"325.875\" x2=\"2307.66\" y2=\"325.875\" style=\"stroke:#009af9; stroke-width:3.2; stroke-opacity:1\"/>\n",
       "<polyline clip-path=\"url(#clip382)\" style=\"stroke:#e26f46; stroke-linecap:butt; stroke-linejoin:round; stroke-width:16; stroke-opacity:1; fill:none\" points=\"\n",
       "  255.035,1401.16 268.294,1401.16 390.898,1401.01 464.577,1400.79 526.872,1400.44 594.542,1399.7 656.928,1398.42 723.812,1395.84 801.304,1389.76 835.737,1385.21 \n",
       "  870.17,1378.89 900.364,1371.38 930.558,1361.43 947.018,1354.72 963.478,1346.93 979.938,1337.91 996.398,1327.49 1012.96,1315.41 1029.51,1301.53 1046.07,1285.63 \n",
       "  1062.63,1267.51 1071.78,1256.46 1080.94,1244.64 1090.09,1232 1099.24,1218.52 1108.4,1204.18 1117.55,1188.95 1126.7,1172.81 1135.86,1155.75 1144.57,1138.65 \n",
       "  1153.28,1120.72 1161.98,1101.96 1170.69,1082.39 1188.11,1040.88 1205.53,996.474 1223.64,947.655 1241.75,896.718 1259.86,844.371 1277.98,791.408 1293.22,746.955 \n",
       "  1308.47,703.143 1323.71,660.436 1338.96,619.248 1348.27,595.006 1357.57,571.531 1366.88,548.881 1376.19,527.103 1385.49,506.232 1394.8,486.294 1404.11,467.307 \n",
       "  1413.41,449.276 1421.94,433.599 1430.46,418.718 1438.99,404.622 1447.51,391.296 1464.57,366.879 1481.62,345.285 1497.36,327.667 1513.11,312.1 1528.86,298.399 \n",
       "  1544.61,286.384 1560.56,275.754 1576.51,266.503 1592.46,258.471 1608.42,251.514 1626.29,244.829 1644.17,239.161 1662.05,234.362 1679.93,230.305 1712.33,224.496 \n",
       "  1744.73,220.233 1818.92,214.295 1887.62,211.558 1955.34,210.172 2021.1,209.473 2088.51,209.1 2162.36,208.895 2269.65,208.77 2291.66,208.756 \n",
       "  \"/>\n",
       "<path clip-path=\"url(#clip380)\" d=\"\n",
       "M1988.5 1441.02 L2280.8 1441.02 L2280.8 1285.5 L1988.5 1285.5  Z\n",
       "  \" fill=\"#ffffff\" fill-rule=\"evenodd\" fill-opacity=\"1\"/>\n",
       "<polyline clip-path=\"url(#clip380)\" style=\"stroke:#000000; stroke-linecap:butt; stroke-linejoin:round; stroke-width:4; stroke-opacity:1; fill:none\" points=\"\n",
       "  1988.5,1441.02 2280.8,1441.02 2280.8,1285.5 1988.5,1285.5 1988.5,1441.02 \n",
       "  \"/>\n",
       "<polyline clip-path=\"url(#clip380)\" style=\"stroke:#009af9; stroke-linecap:butt; stroke-linejoin:round; stroke-width:4; stroke-opacity:1; fill:none\" points=\"\n",
       "  2012.48,1337.34 2156.4,1337.34 \n",
       "  \"/>\n",
       "<line clip-path=\"url(#clip380)\" x1=\"2084.44\" y1=\"1337.34\" x2=\"2084.44\" y2=\"1311.74\" style=\"stroke:#009af9; stroke-width:5.12; stroke-opacity:1\"/>\n",
       "<line clip-path=\"url(#clip380)\" x1=\"2084.44\" y1=\"1337.34\" x2=\"2058.84\" y2=\"1337.34\" style=\"stroke:#009af9; stroke-width:5.12; stroke-opacity:1\"/>\n",
       "<line clip-path=\"url(#clip380)\" x1=\"2084.44\" y1=\"1337.34\" x2=\"2084.44\" y2=\"1362.94\" style=\"stroke:#009af9; stroke-width:5.12; stroke-opacity:1\"/>\n",
       "<line clip-path=\"url(#clip380)\" x1=\"2084.44\" y1=\"1337.34\" x2=\"2110.04\" y2=\"1337.34\" style=\"stroke:#009af9; stroke-width:5.12; stroke-opacity:1\"/>\n",
       "<path clip-path=\"url(#clip380)\" d=\"M2194.23 1357.02 Q2192.43 1361.65 2190.72 1363.06 Q2189 1364.48 2186.13 1364.48 L2182.73 1364.48 L2182.73 1360.91 L2185.23 1360.91 Q2186.99 1360.91 2187.96 1360.08 Q2188.93 1359.24 2190.11 1356.14 L2190.88 1354.2 L2180.39 1328.69 L2184.91 1328.69 L2193.01 1348.97 L2201.11 1328.69 L2205.62 1328.69 L2194.23 1357.02 Z\" fill=\"#000000\" fill-rule=\"evenodd\" fill-opacity=\"1\" /><path clip-path=\"url(#clip380)\" d=\"M2212.91 1350.68 L2220.55 1350.68 L2220.55 1324.31 L2212.24 1325.98 L2212.24 1321.72 L2220.51 1320.06 L2225.18 1320.06 L2225.18 1350.68 L2232.82 1350.68 L2232.82 1354.62 L2212.91 1354.62 L2212.91 1350.68 Z\" fill=\"#000000\" fill-rule=\"evenodd\" fill-opacity=\"1\" /><polyline clip-path=\"url(#clip380)\" style=\"stroke:#e26f46; stroke-linecap:butt; stroke-linejoin:round; stroke-width:4; stroke-opacity:1; fill:none\" points=\"\n",
       "  2012.48,1389.18 2156.4,1389.18 \n",
       "  \"/>\n",
       "<path clip-path=\"url(#clip380)\" d=\"M2194.23 1408.86 Q2192.43 1413.49 2190.72 1414.9 Q2189 1416.32 2186.13 1416.32 L2182.73 1416.32 L2182.73 1412.75 L2185.23 1412.75 Q2186.99 1412.75 2187.96 1411.92 Q2188.93 1411.08 2190.11 1407.98 L2190.88 1406.04 L2180.39 1380.53 L2184.91 1380.53 L2193.01 1400.81 L2201.11 1380.53 L2205.62 1380.53 L2194.23 1408.86 Z\" fill=\"#000000\" fill-rule=\"evenodd\" fill-opacity=\"1\" /><path clip-path=\"url(#clip380)\" d=\"M2216.13 1402.52 L2232.45 1402.52 L2232.45 1406.46 L2210.51 1406.46 L2210.51 1402.52 Q2213.17 1399.77 2217.75 1395.14 Q2222.36 1390.48 2223.54 1389.14 Q2225.78 1386.62 2226.66 1384.88 Q2227.57 1383.12 2227.57 1381.43 Q2227.57 1378.68 2225.62 1376.94 Q2223.7 1375.21 2220.6 1375.21 Q2218.4 1375.21 2215.95 1375.97 Q2213.52 1376.73 2210.74 1378.28 L2210.74 1373.56 Q2213.56 1372.43 2216.02 1371.85 Q2218.47 1371.27 2220.51 1371.27 Q2225.88 1371.27 2229.07 1373.96 Q2232.27 1376.64 2232.27 1381.13 Q2232.27 1383.26 2231.46 1385.18 Q2230.67 1387.08 2228.56 1389.67 Q2227.98 1390.34 2224.88 1393.56 Q2221.78 1396.76 2216.13 1402.52 Z\" fill=\"#000000\" fill-rule=\"evenodd\" fill-opacity=\"1\" /></svg>\n"
      ]
     },
     "execution_count": 34,
     "metadata": {},
     "output_type": "execute_result"
    }
   ],
   "source": [
    "f(x) = tanh(5*x)\n",
    "P, Q = 8, 8\n",
    "x, u = L2_galerkin(P, Q, f)\n",
    "error = u - f.(x)\n",
    "plot(x, u, marker=:auto, legend=:bottomright)\n",
    "plot!(f, title=\"Galerkin error: $(norm(error))\")"
   ]
  },
  {
   "cell_type": "markdown",
   "id": "15f6867e",
   "metadata": {
    "slideshow": {
     "slide_type": "slide"
    }
   },
   "source": [
    "# Embed the solution in the continuous space\n",
    "\n",
    "In thel last figure, the Galerkin solution was represented by a piecewise linear function, emphasizing its nodal values. Let's make a nicer plot by multiplying by the corresponding nodal basis function."
   ]
  },
  {
   "cell_type": "code",
   "execution_count": 51,
   "id": "0e019170",
   "metadata": {
    "cell_style": "split"
   },
   "outputs": [
    {
     "data": {
      "image/svg+xml": [
       "<?xml version=\"1.0\" encoding=\"utf-8\"?>\n",
       "<svg xmlns=\"http://www.w3.org/2000/svg\" xmlns:xlink=\"http://www.w3.org/1999/xlink\" width=\"600\" height=\"400\" viewBox=\"0 0 2400 1600\">\n",
       "<defs>\n",
       "  <clipPath id=\"clip020\">\n",
       "    <rect x=\"0\" y=\"0\" width=\"2400\" height=\"1600\"/>\n",
       "  </clipPath>\n",
       "</defs>\n",
       "<path clip-path=\"url(#clip020)\" d=\"\n",
       "M0 1600 L2400 1600 L2400 0 L0 0  Z\n",
       "  \" fill=\"#ffffff\" fill-rule=\"evenodd\" fill-opacity=\"1\"/>\n",
       "<defs>\n",
       "  <clipPath id=\"clip021\">\n",
       "    <rect x=\"480\" y=\"0\" width=\"1681\" height=\"1600\"/>\n",
       "  </clipPath>\n",
       "</defs>\n",
       "<path clip-path=\"url(#clip020)\" d=\"\n",
       "M193.936 1486.45 L2352.76 1486.45 L2352.76 123.472 L193.936 123.472  Z\n",
       "  \" fill=\"#ffffff\" fill-rule=\"evenodd\" fill-opacity=\"1\"/>\n",
       "<defs>\n",
       "  <clipPath id=\"clip022\">\n",
       "    <rect x=\"193\" y=\"123\" width=\"2160\" height=\"1364\"/>\n",
       "  </clipPath>\n",
       "</defs>\n",
       "<polyline clip-path=\"url(#clip022)\" style=\"stroke:#000000; stroke-linecap:butt; stroke-linejoin:round; stroke-width:2; stroke-opacity:0.1; fill:none\" points=\"\n",
       "  193.936,1486.45 193.936,123.472 \n",
       "  \"/>\n",
       "<polyline clip-path=\"url(#clip022)\" style=\"stroke:#000000; stroke-linecap:butt; stroke-linejoin:round; stroke-width:2; stroke-opacity:0.1; fill:none\" points=\"\n",
       "  733.641,1486.45 733.641,123.472 \n",
       "  \"/>\n",
       "<polyline clip-path=\"url(#clip022)\" style=\"stroke:#000000; stroke-linecap:butt; stroke-linejoin:round; stroke-width:2; stroke-opacity:0.1; fill:none\" points=\"\n",
       "  1273.35,1486.45 1273.35,123.472 \n",
       "  \"/>\n",
       "<polyline clip-path=\"url(#clip022)\" style=\"stroke:#000000; stroke-linecap:butt; stroke-linejoin:round; stroke-width:2; stroke-opacity:0.1; fill:none\" points=\"\n",
       "  1813.05,1486.45 1813.05,123.472 \n",
       "  \"/>\n",
       "<polyline clip-path=\"url(#clip022)\" style=\"stroke:#000000; stroke-linecap:butt; stroke-linejoin:round; stroke-width:2; stroke-opacity:0.1; fill:none\" points=\"\n",
       "  2352.76,1486.45 2352.76,123.472 \n",
       "  \"/>\n",
       "<polyline clip-path=\"url(#clip020)\" style=\"stroke:#000000; stroke-linecap:butt; stroke-linejoin:round; stroke-width:4; stroke-opacity:1; fill:none\" points=\"\n",
       "  193.936,1486.45 2352.76,1486.45 \n",
       "  \"/>\n",
       "<polyline clip-path=\"url(#clip020)\" style=\"stroke:#000000; stroke-linecap:butt; stroke-linejoin:round; stroke-width:4; stroke-opacity:1; fill:none\" points=\"\n",
       "  193.936,1486.45 193.936,1467.55 \n",
       "  \"/>\n",
       "<polyline clip-path=\"url(#clip020)\" style=\"stroke:#000000; stroke-linecap:butt; stroke-linejoin:round; stroke-width:4; stroke-opacity:1; fill:none\" points=\"\n",
       "  733.641,1486.45 733.641,1467.55 \n",
       "  \"/>\n",
       "<polyline clip-path=\"url(#clip020)\" style=\"stroke:#000000; stroke-linecap:butt; stroke-linejoin:round; stroke-width:4; stroke-opacity:1; fill:none\" points=\"\n",
       "  1273.35,1486.45 1273.35,1467.55 \n",
       "  \"/>\n",
       "<polyline clip-path=\"url(#clip020)\" style=\"stroke:#000000; stroke-linecap:butt; stroke-linejoin:round; stroke-width:4; stroke-opacity:1; fill:none\" points=\"\n",
       "  1813.05,1486.45 1813.05,1467.55 \n",
       "  \"/>\n",
       "<polyline clip-path=\"url(#clip020)\" style=\"stroke:#000000; stroke-linecap:butt; stroke-linejoin:round; stroke-width:4; stroke-opacity:1; fill:none\" points=\"\n",
       "  2352.76,1486.45 2352.76,1467.55 \n",
       "  \"/>\n",
       "<path clip-path=\"url(#clip020)\" d=\"M140.464 1532.02 L170.14 1532.02 L170.14 1535.95 L140.464 1535.95 L140.464 1532.02 Z\" fill=\"#000000\" fill-rule=\"evenodd\" fill-opacity=\"1\" /><path clip-path=\"url(#clip020)\" d=\"M181.043 1544.91 L188.681 1544.91 L188.681 1518.55 L180.371 1520.21 L180.371 1515.95 L188.635 1514.29 L193.311 1514.29 L193.311 1544.91 L200.95 1544.91 L200.95 1548.85 L181.043 1548.85 L181.043 1544.91 Z\" fill=\"#000000\" fill-rule=\"evenodd\" fill-opacity=\"1\" /><path clip-path=\"url(#clip020)\" d=\"M210.394 1542.97 L215.278 1542.97 L215.278 1548.85 L210.394 1548.85 L210.394 1542.97 Z\" fill=\"#000000\" fill-rule=\"evenodd\" fill-opacity=\"1\" /><path clip-path=\"url(#clip020)\" d=\"M235.464 1517.37 Q231.852 1517.37 230.024 1520.93 Q228.218 1524.47 228.218 1531.6 Q228.218 1538.71 230.024 1542.27 Q231.852 1545.82 235.464 1545.82 Q239.098 1545.82 240.903 1542.27 Q242.732 1538.71 242.732 1531.6 Q242.732 1524.47 240.903 1520.93 Q239.098 1517.37 235.464 1517.37 M235.464 1513.66 Q241.274 1513.66 244.329 1518.27 Q247.408 1522.85 247.408 1531.6 Q247.408 1540.33 244.329 1544.94 Q241.274 1549.52 235.464 1549.52 Q229.653 1549.52 226.575 1544.94 Q223.519 1540.33 223.519 1531.6 Q223.519 1522.85 226.575 1518.27 Q229.653 1513.66 235.464 1513.66 Z\" fill=\"#000000\" fill-rule=\"evenodd\" fill-opacity=\"1\" /><path clip-path=\"url(#clip020)\" d=\"M680.667 1532.02 L710.342 1532.02 L710.342 1535.95 L680.667 1535.95 L680.667 1532.02 Z\" fill=\"#000000\" fill-rule=\"evenodd\" fill-opacity=\"1\" /><path clip-path=\"url(#clip020)\" d=\"M730.435 1517.37 Q726.824 1517.37 724.995 1520.93 Q723.19 1524.47 723.19 1531.6 Q723.19 1538.71 724.995 1542.27 Q726.824 1545.82 730.435 1545.82 Q734.069 1545.82 735.875 1542.27 Q737.703 1538.71 737.703 1531.6 Q737.703 1524.47 735.875 1520.93 Q734.069 1517.37 730.435 1517.37 M730.435 1513.66 Q736.245 1513.66 739.301 1518.27 Q742.379 1522.85 742.379 1531.6 Q742.379 1540.33 739.301 1544.94 Q736.245 1549.52 730.435 1549.52 Q724.625 1549.52 721.546 1544.94 Q718.491 1540.33 718.491 1531.6 Q718.491 1522.85 721.546 1518.27 Q724.625 1513.66 730.435 1513.66 Z\" fill=\"#000000\" fill-rule=\"evenodd\" fill-opacity=\"1\" /><path clip-path=\"url(#clip020)\" d=\"M750.597 1542.97 L755.481 1542.97 L755.481 1548.85 L750.597 1548.85 L750.597 1542.97 Z\" fill=\"#000000\" fill-rule=\"evenodd\" fill-opacity=\"1\" /><path clip-path=\"url(#clip020)\" d=\"M765.713 1514.29 L784.069 1514.29 L784.069 1518.22 L769.995 1518.22 L769.995 1526.7 Q771.013 1526.35 772.032 1526.19 Q773.05 1526 774.069 1526 Q779.856 1526 783.236 1529.17 Q786.615 1532.34 786.615 1537.76 Q786.615 1543.34 783.143 1546.44 Q779.671 1549.52 773.351 1549.52 Q771.175 1549.52 768.907 1549.15 Q766.662 1548.78 764.254 1548.04 L764.254 1543.34 Q766.338 1544.47 768.56 1545.03 Q770.782 1545.58 773.259 1545.58 Q777.263 1545.58 779.601 1543.48 Q781.939 1541.37 781.939 1537.76 Q781.939 1534.15 779.601 1532.04 Q777.263 1529.94 773.259 1529.94 Q771.384 1529.94 769.509 1530.35 Q767.657 1530.77 765.713 1531.65 L765.713 1514.29 Z\" fill=\"#000000\" fill-rule=\"evenodd\" fill-opacity=\"1\" /><path clip-path=\"url(#clip020)\" d=\"M1250.73 1517.37 Q1247.12 1517.37 1245.29 1520.93 Q1243.49 1524.47 1243.49 1531.6 Q1243.49 1538.71 1245.29 1542.27 Q1247.12 1545.82 1250.73 1545.82 Q1254.36 1545.82 1256.17 1542.27 Q1258 1538.71 1258 1531.6 Q1258 1524.47 1256.17 1520.93 Q1254.36 1517.37 1250.73 1517.37 M1250.73 1513.66 Q1256.54 1513.66 1259.6 1518.27 Q1262.67 1522.85 1262.67 1531.6 Q1262.67 1540.33 1259.6 1544.94 Q1256.54 1549.52 1250.73 1549.52 Q1244.92 1549.52 1241.84 1544.94 Q1238.79 1540.33 1238.79 1531.6 Q1238.79 1522.85 1241.84 1518.27 Q1244.92 1513.66 1250.73 1513.66 Z\" fill=\"#000000\" fill-rule=\"evenodd\" fill-opacity=\"1\" /><path clip-path=\"url(#clip020)\" d=\"M1270.89 1542.97 L1275.78 1542.97 L1275.78 1548.85 L1270.89 1548.85 L1270.89 1542.97 Z\" fill=\"#000000\" fill-rule=\"evenodd\" fill-opacity=\"1\" /><path clip-path=\"url(#clip020)\" d=\"M1295.96 1517.37 Q1292.35 1517.37 1290.52 1520.93 Q1288.72 1524.47 1288.72 1531.6 Q1288.72 1538.71 1290.52 1542.27 Q1292.35 1545.82 1295.96 1545.82 Q1299.6 1545.82 1301.4 1542.27 Q1303.23 1538.71 1303.23 1531.6 Q1303.23 1524.47 1301.4 1520.93 Q1299.6 1517.37 1295.96 1517.37 M1295.96 1513.66 Q1301.77 1513.66 1304.83 1518.27 Q1307.91 1522.85 1307.91 1531.6 Q1307.91 1540.33 1304.83 1544.94 Q1301.77 1549.52 1295.96 1549.52 Q1290.15 1549.52 1287.07 1544.94 Q1284.02 1540.33 1284.02 1531.6 Q1284.02 1522.85 1287.07 1518.27 Q1290.15 1513.66 1295.96 1513.66 Z\" fill=\"#000000\" fill-rule=\"evenodd\" fill-opacity=\"1\" /><path clip-path=\"url(#clip020)\" d=\"M1790.93 1517.37 Q1787.32 1517.37 1785.49 1520.93 Q1783.69 1524.47 1783.69 1531.6 Q1783.69 1538.71 1785.49 1542.27 Q1787.32 1545.82 1790.93 1545.82 Q1794.57 1545.82 1796.37 1542.27 Q1798.2 1538.71 1798.2 1531.6 Q1798.2 1524.47 1796.37 1520.93 Q1794.57 1517.37 1790.93 1517.37 M1790.93 1513.66 Q1796.74 1513.66 1799.8 1518.27 Q1802.88 1522.85 1802.88 1531.6 Q1802.88 1540.33 1799.8 1544.94 Q1796.74 1549.52 1790.93 1549.52 Q1785.12 1549.52 1782.04 1544.94 Q1778.99 1540.33 1778.99 1531.6 Q1778.99 1522.85 1782.04 1518.27 Q1785.12 1513.66 1790.93 1513.66 Z\" fill=\"#000000\" fill-rule=\"evenodd\" fill-opacity=\"1\" /><path clip-path=\"url(#clip020)\" d=\"M1811.09 1542.97 L1815.98 1542.97 L1815.98 1548.85 L1811.09 1548.85 L1811.09 1542.97 Z\" fill=\"#000000\" fill-rule=\"evenodd\" fill-opacity=\"1\" /><path clip-path=\"url(#clip020)\" d=\"M1826.21 1514.29 L1844.57 1514.29 L1844.57 1518.22 L1830.49 1518.22 L1830.49 1526.7 Q1831.51 1526.35 1832.53 1526.19 Q1833.55 1526 1834.57 1526 Q1840.35 1526 1843.73 1529.17 Q1847.11 1532.34 1847.11 1537.76 Q1847.11 1543.34 1843.64 1546.44 Q1840.17 1549.52 1833.85 1549.52 Q1831.67 1549.52 1829.41 1549.15 Q1827.16 1548.78 1824.75 1548.04 L1824.75 1543.34 Q1826.84 1544.47 1829.06 1545.03 Q1831.28 1545.58 1833.76 1545.58 Q1837.76 1545.58 1840.1 1543.48 Q1842.44 1541.37 1842.44 1537.76 Q1842.44 1534.15 1840.1 1532.04 Q1837.76 1529.94 1833.76 1529.94 Q1831.88 1529.94 1830.01 1530.35 Q1828.16 1530.77 1826.21 1531.65 L1826.21 1514.29 Z\" fill=\"#000000\" fill-rule=\"evenodd\" fill-opacity=\"1\" /><path clip-path=\"url(#clip020)\" d=\"M2319.91 1544.91 L2327.55 1544.91 L2327.55 1518.55 L2319.24 1520.21 L2319.24 1515.95 L2327.5 1514.29 L2332.18 1514.29 L2332.18 1544.91 L2339.82 1544.91 L2339.82 1548.85 L2319.91 1548.85 L2319.91 1544.91 Z\" fill=\"#000000\" fill-rule=\"evenodd\" fill-opacity=\"1\" /><path clip-path=\"url(#clip020)\" d=\"M2349.26 1542.97 L2354.14 1542.97 L2354.14 1548.85 L2349.26 1548.85 L2349.26 1542.97 Z\" fill=\"#000000\" fill-rule=\"evenodd\" fill-opacity=\"1\" /><path clip-path=\"url(#clip020)\" d=\"M2374.33 1517.37 Q2370.72 1517.37 2368.89 1520.93 Q2367.08 1524.47 2367.08 1531.6 Q2367.08 1538.71 2368.89 1542.27 Q2370.72 1545.82 2374.33 1545.82 Q2377.96 1545.82 2379.77 1542.27 Q2381.6 1538.71 2381.6 1531.6 Q2381.6 1524.47 2379.77 1520.93 Q2377.96 1517.37 2374.33 1517.37 M2374.33 1513.66 Q2380.14 1513.66 2383.2 1518.27 Q2386.27 1522.85 2386.27 1531.6 Q2386.27 1540.33 2383.2 1544.94 Q2380.14 1549.52 2374.33 1549.52 Q2368.52 1549.52 2365.44 1544.94 Q2362.39 1540.33 2362.39 1531.6 Q2362.39 1522.85 2365.44 1518.27 Q2368.52 1513.66 2374.33 1513.66 Z\" fill=\"#000000\" fill-rule=\"evenodd\" fill-opacity=\"1\" /><polyline clip-path=\"url(#clip022)\" style=\"stroke:#000000; stroke-linecap:butt; stroke-linejoin:round; stroke-width:2; stroke-opacity:0.1; fill:none\" points=\"\n",
       "  193.936,1402.24 2352.76,1402.24 \n",
       "  \"/>\n",
       "<polyline clip-path=\"url(#clip022)\" style=\"stroke:#000000; stroke-linecap:butt; stroke-linejoin:round; stroke-width:2; stroke-opacity:0.1; fill:none\" points=\"\n",
       "  193.936,1103.6 2352.76,1103.6 \n",
       "  \"/>\n",
       "<polyline clip-path=\"url(#clip022)\" style=\"stroke:#000000; stroke-linecap:butt; stroke-linejoin:round; stroke-width:2; stroke-opacity:0.1; fill:none\" points=\"\n",
       "  193.936,804.96 2352.76,804.96 \n",
       "  \"/>\n",
       "<polyline clip-path=\"url(#clip022)\" style=\"stroke:#000000; stroke-linecap:butt; stroke-linejoin:round; stroke-width:2; stroke-opacity:0.1; fill:none\" points=\"\n",
       "  193.936,506.32 2352.76,506.32 \n",
       "  \"/>\n",
       "<polyline clip-path=\"url(#clip022)\" style=\"stroke:#000000; stroke-linecap:butt; stroke-linejoin:round; stroke-width:2; stroke-opacity:0.1; fill:none\" points=\"\n",
       "  193.936,207.68 2352.76,207.68 \n",
       "  \"/>\n",
       "<polyline clip-path=\"url(#clip020)\" style=\"stroke:#000000; stroke-linecap:butt; stroke-linejoin:round; stroke-width:4; stroke-opacity:1; fill:none\" points=\"\n",
       "  193.936,1486.45 193.936,123.472 \n",
       "  \"/>\n",
       "<polyline clip-path=\"url(#clip020)\" style=\"stroke:#000000; stroke-linecap:butt; stroke-linejoin:round; stroke-width:4; stroke-opacity:1; fill:none\" points=\"\n",
       "  193.936,1402.24 212.834,1402.24 \n",
       "  \"/>\n",
       "<polyline clip-path=\"url(#clip020)\" style=\"stroke:#000000; stroke-linecap:butt; stroke-linejoin:round; stroke-width:4; stroke-opacity:1; fill:none\" points=\"\n",
       "  193.936,1103.6 212.834,1103.6 \n",
       "  \"/>\n",
       "<polyline clip-path=\"url(#clip020)\" style=\"stroke:#000000; stroke-linecap:butt; stroke-linejoin:round; stroke-width:4; stroke-opacity:1; fill:none\" points=\"\n",
       "  193.936,804.96 212.834,804.96 \n",
       "  \"/>\n",
       "<polyline clip-path=\"url(#clip020)\" style=\"stroke:#000000; stroke-linecap:butt; stroke-linejoin:round; stroke-width:4; stroke-opacity:1; fill:none\" points=\"\n",
       "  193.936,506.32 212.834,506.32 \n",
       "  \"/>\n",
       "<polyline clip-path=\"url(#clip020)\" style=\"stroke:#000000; stroke-linecap:butt; stroke-linejoin:round; stroke-width:4; stroke-opacity:1; fill:none\" points=\"\n",
       "  193.936,207.68 212.834,207.68 \n",
       "  \"/>\n",
       "<path clip-path=\"url(#clip020)\" d=\"M50.9921 1402.69 L80.6679 1402.69 L80.6679 1406.63 L50.9921 1406.63 L50.9921 1402.69 Z\" fill=\"#000000\" fill-rule=\"evenodd\" fill-opacity=\"1\" /><path clip-path=\"url(#clip020)\" d=\"M91.5706 1415.58 L99.2095 1415.58 L99.2095 1389.22 L90.8993 1390.89 L90.8993 1386.63 L99.1632 1384.96 L103.839 1384.96 L103.839 1415.58 L111.478 1415.58 L111.478 1419.52 L91.5706 1419.52 L91.5706 1415.58 Z\" fill=\"#000000\" fill-rule=\"evenodd\" fill-opacity=\"1\" /><path clip-path=\"url(#clip020)\" d=\"M120.922 1413.64 L125.807 1413.64 L125.807 1419.52 L120.922 1419.52 L120.922 1413.64 Z\" fill=\"#000000\" fill-rule=\"evenodd\" fill-opacity=\"1\" /><path clip-path=\"url(#clip020)\" d=\"M145.992 1388.04 Q142.381 1388.04 140.552 1391.6 Q138.746 1395.15 138.746 1402.27 Q138.746 1409.38 140.552 1412.95 Q142.381 1416.49 145.992 1416.49 Q149.626 1416.49 151.431 1412.95 Q153.26 1409.38 153.26 1402.27 Q153.26 1395.15 151.431 1391.6 Q149.626 1388.04 145.992 1388.04 M145.992 1384.34 Q151.802 1384.34 154.857 1388.94 Q157.936 1393.52 157.936 1402.27 Q157.936 1411 154.857 1415.61 Q151.802 1420.19 145.992 1420.19 Q140.181 1420.19 137.103 1415.61 Q134.047 1411 134.047 1402.27 Q134.047 1393.52 137.103 1388.94 Q140.181 1384.34 145.992 1384.34 Z\" fill=\"#000000\" fill-rule=\"evenodd\" fill-opacity=\"1\" /><path clip-path=\"url(#clip020)\" d=\"M51.9875 1104.05 L81.6633 1104.05 L81.6633 1107.99 L51.9875 1107.99 L51.9875 1104.05 Z\" fill=\"#000000\" fill-rule=\"evenodd\" fill-opacity=\"1\" /><path clip-path=\"url(#clip020)\" d=\"M101.756 1089.4 Q98.1447 1089.4 96.316 1092.96 Q94.5104 1096.51 94.5104 1103.63 Q94.5104 1110.74 96.316 1114.31 Q98.1447 1117.85 101.756 1117.85 Q105.39 1117.85 107.196 1114.31 Q109.024 1110.74 109.024 1103.63 Q109.024 1096.51 107.196 1092.96 Q105.39 1089.4 101.756 1089.4 M101.756 1085.7 Q107.566 1085.7 110.621 1090.3 Q113.7 1094.88 113.7 1103.63 Q113.7 1112.36 110.621 1116.97 Q107.566 1121.55 101.756 1121.55 Q95.9456 1121.55 92.8669 1116.97 Q89.8114 1112.36 89.8114 1103.63 Q89.8114 1094.88 92.8669 1090.3 Q95.9456 1085.7 101.756 1085.7 Z\" fill=\"#000000\" fill-rule=\"evenodd\" fill-opacity=\"1\" /><path clip-path=\"url(#clip020)\" d=\"M121.918 1115 L126.802 1115 L126.802 1120.88 L121.918 1120.88 L121.918 1115 Z\" fill=\"#000000\" fill-rule=\"evenodd\" fill-opacity=\"1\" /><path clip-path=\"url(#clip020)\" d=\"M137.033 1086.32 L155.39 1086.32 L155.39 1090.26 L141.316 1090.26 L141.316 1098.73 Q142.334 1098.38 143.353 1098.22 Q144.371 1098.03 145.39 1098.03 Q151.177 1098.03 154.556 1101.2 Q157.936 1104.38 157.936 1109.79 Q157.936 1115.37 154.464 1118.47 Q150.992 1121.55 144.672 1121.55 Q142.496 1121.55 140.228 1121.18 Q137.982 1120.81 135.575 1120.07 L135.575 1115.37 Q137.658 1116.51 139.881 1117.06 Q142.103 1117.62 144.58 1117.62 Q148.584 1117.62 150.922 1115.51 Q153.26 1113.4 153.26 1109.79 Q153.26 1106.18 150.922 1104.07 Q148.584 1101.97 144.58 1101.97 Q142.705 1101.97 140.83 1102.38 Q138.978 1102.8 137.033 1103.68 L137.033 1086.32 Z\" fill=\"#000000\" fill-rule=\"evenodd\" fill-opacity=\"1\" /><path clip-path=\"url(#clip020)\" d=\"M100.76 790.759 Q97.1493 790.759 95.3206 794.323 Q93.515 797.865 93.515 804.995 Q93.515 812.101 95.3206 815.666 Q97.1493 819.208 100.76 819.208 Q104.395 819.208 106.2 815.666 Q108.029 812.101 108.029 804.995 Q108.029 797.865 106.2 794.323 Q104.395 790.759 100.76 790.759 M100.76 787.055 Q106.571 787.055 109.626 791.661 Q112.705 796.245 112.705 804.995 Q112.705 813.722 109.626 818.328 Q106.571 822.911 100.76 822.911 Q94.9502 822.911 91.8715 818.328 Q88.816 813.722 88.816 804.995 Q88.816 796.245 91.8715 791.661 Q94.9502 787.055 100.76 787.055 Z\" fill=\"#000000\" fill-rule=\"evenodd\" fill-opacity=\"1\" /><path clip-path=\"url(#clip020)\" d=\"M120.922 816.36 L125.807 816.36 L125.807 822.24 L120.922 822.24 L120.922 816.36 Z\" fill=\"#000000\" fill-rule=\"evenodd\" fill-opacity=\"1\" /><path clip-path=\"url(#clip020)\" d=\"M145.992 790.759 Q142.381 790.759 140.552 794.323 Q138.746 797.865 138.746 804.995 Q138.746 812.101 140.552 815.666 Q142.381 819.208 145.992 819.208 Q149.626 819.208 151.431 815.666 Q153.26 812.101 153.26 804.995 Q153.26 797.865 151.431 794.323 Q149.626 790.759 145.992 790.759 M145.992 787.055 Q151.802 787.055 154.857 791.661 Q157.936 796.245 157.936 804.995 Q157.936 813.722 154.857 818.328 Q151.802 822.911 145.992 822.911 Q140.181 822.911 137.103 818.328 Q134.047 813.722 134.047 804.995 Q134.047 796.245 137.103 791.661 Q140.181 787.055 145.992 787.055 Z\" fill=\"#000000\" fill-rule=\"evenodd\" fill-opacity=\"1\" /><path clip-path=\"url(#clip020)\" d=\"M101.756 492.119 Q98.1447 492.119 96.316 495.683 Q94.5104 499.225 94.5104 506.355 Q94.5104 513.461 96.316 517.026 Q98.1447 520.568 101.756 520.568 Q105.39 520.568 107.196 517.026 Q109.024 513.461 109.024 506.355 Q109.024 499.225 107.196 495.683 Q105.39 492.119 101.756 492.119 M101.756 488.415 Q107.566 488.415 110.621 493.021 Q113.7 497.605 113.7 506.355 Q113.7 515.082 110.621 519.688 Q107.566 524.271 101.756 524.271 Q95.9456 524.271 92.8669 519.688 Q89.8114 515.082 89.8114 506.355 Q89.8114 497.605 92.8669 493.021 Q95.9456 488.415 101.756 488.415 Z\" fill=\"#000000\" fill-rule=\"evenodd\" fill-opacity=\"1\" /><path clip-path=\"url(#clip020)\" d=\"M121.918 517.72 L126.802 517.72 L126.802 523.6 L121.918 523.6 L121.918 517.72 Z\" fill=\"#000000\" fill-rule=\"evenodd\" fill-opacity=\"1\" /><path clip-path=\"url(#clip020)\" d=\"M137.033 489.04 L155.39 489.04 L155.39 492.975 L141.316 492.975 L141.316 501.447 Q142.334 501.1 143.353 500.938 Q144.371 500.753 145.39 500.753 Q151.177 500.753 154.556 503.924 Q157.936 507.095 157.936 512.512 Q157.936 518.091 154.464 521.193 Q150.992 524.271 144.672 524.271 Q142.496 524.271 140.228 523.901 Q137.982 523.531 135.575 522.79 L135.575 518.091 Q137.658 519.225 139.881 519.781 Q142.103 520.336 144.58 520.336 Q148.584 520.336 150.922 518.23 Q153.26 516.123 153.26 512.512 Q153.26 508.901 150.922 506.795 Q148.584 504.688 144.58 504.688 Q142.705 504.688 140.83 505.105 Q138.978 505.521 137.033 506.401 L137.033 489.04 Z\" fill=\"#000000\" fill-rule=\"evenodd\" fill-opacity=\"1\" /><path clip-path=\"url(#clip020)\" d=\"M91.5706 221.025 L99.2095 221.025 L99.2095 194.659 L90.8993 196.326 L90.8993 192.067 L99.1632 190.4 L103.839 190.4 L103.839 221.025 L111.478 221.025 L111.478 224.96 L91.5706 224.96 L91.5706 221.025 Z\" fill=\"#000000\" fill-rule=\"evenodd\" fill-opacity=\"1\" /><path clip-path=\"url(#clip020)\" d=\"M120.922 219.08 L125.807 219.08 L125.807 224.96 L120.922 224.96 L120.922 219.08 Z\" fill=\"#000000\" fill-rule=\"evenodd\" fill-opacity=\"1\" /><path clip-path=\"url(#clip020)\" d=\"M145.992 193.479 Q142.381 193.479 140.552 197.043 Q138.746 200.585 138.746 207.715 Q138.746 214.821 140.552 218.386 Q142.381 221.928 145.992 221.928 Q149.626 221.928 151.431 218.386 Q153.26 214.821 153.26 207.715 Q153.26 200.585 151.431 197.043 Q149.626 193.479 145.992 193.479 M145.992 189.775 Q151.802 189.775 154.857 194.381 Q157.936 198.965 157.936 207.715 Q157.936 216.442 154.857 221.048 Q151.802 225.631 145.992 225.631 Q140.181 225.631 137.103 221.048 Q134.047 216.442 134.047 207.715 Q134.047 198.965 137.103 194.381 Q140.181 189.775 145.992 189.775 Z\" fill=\"#000000\" fill-rule=\"evenodd\" fill-opacity=\"1\" /><path clip-path=\"url(#clip020)\" d=\"M522.248 63.9476 L522.248 47.7034 L508.88 47.7034 L508.88 40.9789 L530.349 40.9789 L530.349 66.9452 Q525.61 70.3075 519.898 72.0494 Q514.186 73.7508 507.705 73.7508 Q493.527 73.7508 485.506 65.4869 Q477.526 57.1826 477.526 42.3968 Q477.526 27.5705 485.506 19.3066 Q493.527 11.0023 507.705 11.0023 Q513.619 11.0023 518.926 12.4606 Q524.273 13.9189 528.77 16.7545 L528.77 25.464 Q524.232 21.6156 519.128 19.6712 Q514.024 17.7268 508.393 17.7268 Q497.294 17.7268 491.704 23.9246 Q486.154 30.1225 486.154 42.3968 Q486.154 54.6305 491.704 60.8284 Q497.294 67.0263 508.393 67.0263 Q512.728 67.0263 516.131 66.2971 Q519.533 65.5274 522.248 63.9476 Z\" fill=\"#000000\" fill-rule=\"evenodd\" fill-opacity=\"1\" /><path clip-path=\"url(#clip020)\" d=\"M565.592 49.7694 Q556.559 49.7694 553.075 51.8354 Q549.591 53.9013 549.591 58.8839 Q549.591 62.8538 552.184 65.2034 Q554.817 67.5124 559.313 67.5124 Q565.511 67.5124 569.238 63.1374 Q573.005 58.7219 573.005 51.4303 L573.005 49.7694 L565.592 49.7694 M580.459 46.6907 L580.459 72.576 L573.005 72.576 L573.005 65.6895 Q570.453 69.8214 566.645 71.8063 Q562.838 73.7508 557.328 73.7508 Q550.361 73.7508 546.229 69.8619 Q542.137 65.9325 542.137 59.3701 Q542.137 51.7138 547.242 47.825 Q552.386 43.9361 562.554 43.9361 L573.005 43.9361 L573.005 43.2069 Q573.005 38.0623 569.603 35.2672 Q566.24 32.4315 560.124 32.4315 Q556.235 32.4315 552.548 33.3632 Q548.862 34.295 545.459 36.1584 L545.459 29.2718 Q549.551 27.692 553.399 26.9223 Q557.247 26.1121 560.893 26.1121 Q570.737 26.1121 575.598 31.2163 Q580.459 36.3204 580.459 46.6907 Z\" fill=\"#000000\" fill-rule=\"evenodd\" fill-opacity=\"1\" /><path clip-path=\"url(#clip020)\" d=\"M595.812 9.54393 L603.266 9.54393 L603.266 72.576 L595.812 72.576 L595.812 9.54393 Z\" fill=\"#000000\" fill-rule=\"evenodd\" fill-opacity=\"1\" /><path clip-path=\"url(#clip020)\" d=\"M657.669 48.0275 L657.669 51.6733 L623.399 51.6733 Q623.885 59.3701 628.017 63.421 Q632.189 67.4314 639.602 67.4314 Q643.896 67.4314 647.907 66.3781 Q651.957 65.3249 655.927 63.2184 L655.927 70.267 Q651.917 71.9684 647.704 72.8596 Q643.491 73.7508 639.157 73.7508 Q628.3 73.7508 621.94 67.4314 Q615.621 61.1119 615.621 50.3365 Q615.621 39.1965 621.616 32.6746 Q627.652 26.1121 637.86 26.1121 Q647.015 26.1121 652.322 32.0264 Q657.669 37.9003 657.669 48.0275 M650.216 45.84 Q650.135 39.7232 646.772 36.0774 Q643.451 32.4315 637.941 32.4315 Q631.703 32.4315 627.936 35.9558 Q624.209 39.4801 623.642 45.8805 L650.216 45.84 Z\" fill=\"#000000\" fill-rule=\"evenodd\" fill-opacity=\"1\" /><path clip-path=\"url(#clip020)\" d=\"M696.193 34.1734 Q694.938 33.4443 693.439 33.1202 Q691.98 32.7556 690.198 32.7556 Q683.879 32.7556 680.476 36.8875 Q677.114 40.9789 677.114 48.6757 L677.114 72.576 L669.619 72.576 L669.619 27.2059 L677.114 27.2059 L677.114 34.2544 Q679.463 30.1225 683.23 28.1376 Q686.998 26.1121 692.386 26.1121 Q693.155 26.1121 694.087 26.2337 Q695.019 26.3147 696.153 26.5172 L696.193 34.1734 Z\" fill=\"#000000\" fill-rule=\"evenodd\" fill-opacity=\"1\" /><path clip-path=\"url(#clip020)\" d=\"M703.728 9.54393 L711.222 9.54393 L711.222 46.7717 L733.462 27.2059 L742.981 27.2059 L718.919 48.4326 L743.994 72.576 L734.272 72.576 L711.222 50.4176 L711.222 72.576 L703.728 72.576 L703.728 9.54393 Z\" fill=\"#000000\" fill-rule=\"evenodd\" fill-opacity=\"1\" /><path clip-path=\"url(#clip020)\" d=\"M752.055 27.2059 L759.509 27.2059 L759.509 72.576 L752.055 72.576 L752.055 27.2059 M752.055 9.54393 L759.509 9.54393 L759.509 18.9825 L752.055 18.9825 L752.055 9.54393 Z\" fill=\"#000000\" fill-rule=\"evenodd\" fill-opacity=\"1\" /><path clip-path=\"url(#clip020)\" d=\"M812.819 45.1919 L812.819 72.576 L805.365 72.576 L805.365 45.4349 Q805.365 38.994 802.854 35.7938 Q800.342 32.5936 795.319 32.5936 Q789.283 32.5936 785.799 36.4419 Q782.316 40.2903 782.316 46.9338 L782.316 72.576 L774.821 72.576 L774.821 27.2059 L782.316 27.2059 L782.316 34.2544 Q784.989 30.163 788.594 28.1376 Q792.24 26.1121 796.98 26.1121 Q804.798 26.1121 808.809 30.9732 Q812.819 35.7938 812.819 45.1919 Z\" fill=\"#000000\" fill-rule=\"evenodd\" fill-opacity=\"1\" /><path clip-path=\"url(#clip020)\" d=\"M892.865 48.0275 L892.865 51.6733 L858.594 51.6733 Q859.08 59.3701 863.212 63.421 Q867.385 67.4314 874.798 67.4314 Q879.092 67.4314 883.102 66.3781 Q887.153 65.3249 891.123 63.2184 L891.123 70.267 Q887.112 71.9684 882.9 72.8596 Q878.687 73.7508 874.352 73.7508 Q863.496 73.7508 857.136 67.4314 Q850.816 61.1119 850.816 50.3365 Q850.816 39.1965 856.812 32.6746 Q862.848 26.1121 873.056 26.1121 Q882.211 26.1121 887.518 32.0264 Q892.865 37.9003 892.865 48.0275 M885.411 45.84 Q885.33 39.7232 881.968 36.0774 Q878.646 32.4315 873.137 32.4315 Q866.898 32.4315 863.131 35.9558 Q859.404 39.4801 858.837 45.8805 L885.411 45.84 Z\" fill=\"#000000\" fill-rule=\"evenodd\" fill-opacity=\"1\" /><path clip-path=\"url(#clip020)\" d=\"M931.389 34.1734 Q930.133 33.4443 928.634 33.1202 Q927.176 32.7556 925.394 32.7556 Q919.074 32.7556 915.671 36.8875 Q912.309 40.9789 912.309 48.6757 L912.309 72.576 L904.815 72.576 L904.815 27.2059 L912.309 27.2059 L912.309 34.2544 Q914.659 30.1225 918.426 28.1376 Q922.193 26.1121 927.581 26.1121 Q928.351 26.1121 929.282 26.2337 Q930.214 26.3147 931.348 26.5172 L931.389 34.1734 Z\" fill=\"#000000\" fill-rule=\"evenodd\" fill-opacity=\"1\" /><path clip-path=\"url(#clip020)\" d=\"M964.039 34.1734 Q962.783 33.4443 961.285 33.1202 Q959.826 32.7556 958.044 32.7556 Q951.724 32.7556 948.322 36.8875 Q944.959 40.9789 944.959 48.6757 L944.959 72.576 L937.465 72.576 L937.465 27.2059 L944.959 27.2059 L944.959 34.2544 Q947.309 30.1225 951.076 28.1376 Q954.844 26.1121 960.231 26.1121 Q961.001 26.1121 961.933 26.2337 Q962.864 26.3147 963.999 26.5172 L964.039 34.1734 Z\" fill=\"#000000\" fill-rule=\"evenodd\" fill-opacity=\"1\" /><path clip-path=\"url(#clip020)\" d=\"M987.615 32.4315 Q981.62 32.4315 978.136 37.1306 Q974.653 41.7891 974.653 49.9314 Q974.653 58.0738 978.096 62.7728 Q981.58 67.4314 987.615 67.4314 Q993.57 67.4314 997.054 62.7323 Q1000.54 58.0333 1000.54 49.9314 Q1000.54 41.8701 997.054 37.1711 Q993.57 32.4315 987.615 32.4315 M987.615 26.1121 Q997.338 26.1121 1002.89 32.4315 Q1008.44 38.7509 1008.44 49.9314 Q1008.44 61.0714 1002.89 67.4314 Q997.338 73.7508 987.615 73.7508 Q977.853 73.7508 972.303 67.4314 Q966.794 61.0714 966.794 49.9314 Q966.794 38.7509 972.303 32.4315 Q977.853 26.1121 987.615 26.1121 Z\" fill=\"#000000\" fill-rule=\"evenodd\" fill-opacity=\"1\" /><path clip-path=\"url(#clip020)\" d=\"M1047.08 34.1734 Q1045.83 33.4443 1044.33 33.1202 Q1042.87 32.7556 1041.09 32.7556 Q1034.77 32.7556 1031.37 36.8875 Q1028 40.9789 1028 48.6757 L1028 72.576 L1020.51 72.576 L1020.51 27.2059 L1028 27.2059 L1028 34.2544 Q1030.35 30.1225 1034.12 28.1376 Q1037.89 26.1121 1043.27 26.1121 Q1044.04 26.1121 1044.98 26.2337 Q1045.91 26.3147 1047.04 26.5172 L1047.08 34.1734 Z\" fill=\"#000000\" fill-rule=\"evenodd\" fill-opacity=\"1\" /><path clip-path=\"url(#clip020)\" d=\"M1055.35 62.2867 L1063.89 62.2867 L1063.89 72.576 L1055.35 72.576 L1055.35 62.2867 M1055.35 29.6769 L1063.89 29.6769 L1063.89 39.9662 L1055.35 39.9662 L1055.35 29.6769 Z\" fill=\"#000000\" fill-rule=\"evenodd\" fill-opacity=\"1\" /><path clip-path=\"url(#clip020)\" d=\"M1126.32 17.4837 Q1120 17.4837 1116.8 23.7221 Q1113.64 29.92 1113.64 42.3968 Q1113.64 54.833 1116.8 61.0714 Q1120 67.2693 1126.32 67.2693 Q1132.68 67.2693 1135.84 61.0714 Q1139.04 54.833 1139.04 42.3968 Q1139.04 29.92 1135.84 23.7221 Q1132.68 17.4837 1126.32 17.4837 M1126.32 11.0023 Q1136.49 11.0023 1141.83 19.0636 Q1147.22 27.0843 1147.22 42.3968 Q1147.22 57.6687 1141.83 65.73 Q1136.49 73.7508 1126.32 73.7508 Q1116.15 73.7508 1110.76 65.73 Q1105.42 57.6687 1105.42 42.3968 Q1105.42 27.0843 1110.76 19.0636 Q1116.15 11.0023 1126.32 11.0023 Z\" fill=\"#000000\" fill-rule=\"evenodd\" fill-opacity=\"1\" /><path clip-path=\"url(#clip020)\" d=\"M1161.6 62.2867 L1170.15 62.2867 L1170.15 72.576 L1161.6 72.576 L1161.6 62.2867 Z\" fill=\"#000000\" fill-rule=\"evenodd\" fill-opacity=\"1\" /><path clip-path=\"url(#clip020)\" d=\"M1189.39 65.6895 L1202.76 65.6895 L1202.76 19.5497 L1188.22 22.4663 L1188.22 15.0127 L1202.68 12.096 L1210.86 12.096 L1210.86 65.6895 L1224.23 65.6895 L1224.23 72.576 L1189.39 72.576 L1189.39 65.6895 Z\" fill=\"#000000\" fill-rule=\"evenodd\" fill-opacity=\"1\" /><path clip-path=\"url(#clip020)\" d=\"M1247.81 65.6895 L1276.36 65.6895 L1276.36 72.576 L1237.96 72.576 L1237.96 65.6895 Q1242.62 60.8689 1250.64 52.7671 Q1258.7 44.6248 1260.77 42.2752 Q1264.7 37.8598 1266.24 34.8216 Q1267.82 31.7429 1267.82 28.7857 Q1267.82 23.9651 1264.41 20.927 Q1261.05 17.8888 1255.62 17.8888 Q1251.77 17.8888 1247.48 19.2256 Q1243.23 20.5624 1238.37 23.2765 L1238.37 15.0127 Q1243.31 13.0277 1247.6 12.015 Q1251.9 11.0023 1255.46 11.0023 Q1264.86 11.0023 1270.45 15.7013 Q1276.04 20.4004 1276.04 28.2591 Q1276.04 31.9859 1274.62 35.3482 Q1273.24 38.6699 1269.56 43.2069 Q1268.55 44.3817 1263.12 50.0125 Q1257.69 55.6027 1247.81 65.6895 Z\" fill=\"#000000\" fill-rule=\"evenodd\" fill-opacity=\"1\" /><path clip-path=\"url(#clip020)\" d=\"M1318.33 39.9662 Q1324.21 41.222 1327.49 45.1919 Q1330.81 49.1618 1330.81 54.9951 Q1330.81 63.9476 1324.65 68.8492 Q1318.49 73.7508 1307.15 73.7508 Q1303.34 73.7508 1299.29 72.9811 Q1295.28 72.2519 1290.99 70.7531 L1290.99 62.8538 Q1294.39 64.8388 1298.44 65.8515 Q1302.49 66.8642 1306.91 66.8642 Q1314.6 66.8642 1318.61 63.826 Q1322.67 60.7879 1322.67 54.9951 Q1322.67 49.6479 1318.9 46.6502 Q1315.17 43.612 1308.49 43.612 L1301.44 43.612 L1301.44 36.8875 L1308.81 36.8875 Q1314.85 36.8875 1318.05 34.4975 Q1321.25 32.067 1321.25 27.5299 Q1321.25 22.8714 1317.93 20.4004 Q1314.64 17.8888 1308.49 17.8888 Q1305.13 17.8888 1301.28 18.618 Q1297.43 19.3471 1292.81 20.8865 L1292.81 13.5948 Q1297.47 12.2985 1301.52 11.6504 Q1305.61 11.0023 1309.22 11.0023 Q1318.53 11.0023 1323.96 15.2557 Q1329.39 19.4686 1329.39 26.6793 Q1329.39 31.7024 1326.51 35.1862 Q1323.64 38.6294 1318.33 39.9662 Z\" fill=\"#000000\" fill-rule=\"evenodd\" fill-opacity=\"1\" /><path clip-path=\"url(#clip020)\" d=\"M1364.84 39.075 Q1359.33 39.075 1356.09 42.8424 Q1352.89 46.6097 1352.89 53.1722 Q1352.89 59.6941 1356.09 63.502 Q1359.33 67.2693 1364.84 67.2693 Q1370.34 67.2693 1373.55 63.502 Q1376.79 59.6941 1376.79 53.1722 Q1376.79 46.6097 1373.55 42.8424 Q1370.34 39.075 1364.84 39.075 M1381.08 13.4328 L1381.08 20.8865 Q1378 19.4281 1374.84 18.6585 Q1371.72 17.8888 1368.64 17.8888 Q1360.54 17.8888 1356.25 23.3575 Q1351.99 28.8262 1351.39 39.8852 Q1353.78 36.3609 1357.38 34.4975 Q1360.99 32.5936 1365.32 32.5936 Q1374.44 32.5936 1379.7 38.1433 Q1385.01 43.6525 1385.01 53.1722 Q1385.01 62.4892 1379.5 68.12 Q1373.99 73.7508 1364.84 73.7508 Q1354.34 73.7508 1348.79 65.73 Q1343.24 57.6687 1343.24 42.3968 Q1343.24 28.0566 1350.05 19.5497 Q1356.86 11.0023 1368.32 11.0023 Q1371.4 11.0023 1374.52 11.6099 Q1377.68 12.2175 1381.08 13.4328 Z\" fill=\"#000000\" fill-rule=\"evenodd\" fill-opacity=\"1\" /><path clip-path=\"url(#clip020)\" d=\"M1423.9 39.9662 Q1429.77 41.222 1433.05 45.1919 Q1436.37 49.1618 1436.37 54.9951 Q1436.37 63.9476 1430.22 68.8492 Q1424.06 73.7508 1412.72 73.7508 Q1408.91 73.7508 1404.86 72.9811 Q1400.85 72.2519 1396.55 70.7531 L1396.55 62.8538 Q1399.96 64.8388 1404.01 65.8515 Q1408.06 66.8642 1412.47 66.8642 Q1420.17 66.8642 1424.18 63.826 Q1428.23 60.7879 1428.23 54.9951 Q1428.23 49.6479 1424.46 46.6502 Q1420.74 43.612 1414.05 43.612 L1407.01 43.612 L1407.01 36.8875 L1414.38 36.8875 Q1420.41 36.8875 1423.61 34.4975 Q1426.81 32.067 1426.81 27.5299 Q1426.81 22.8714 1423.49 20.4004 Q1420.21 17.8888 1414.05 17.8888 Q1410.69 17.8888 1406.84 18.618 Q1403 19.3471 1398.38 20.8865 L1398.38 13.5948 Q1403.04 12.2985 1407.09 11.6504 Q1411.18 11.0023 1414.78 11.0023 Q1424.1 11.0023 1429.53 15.2557 Q1434.96 19.4686 1434.96 26.6793 Q1434.96 31.7024 1432.08 35.1862 Q1429.2 38.6294 1423.9 39.9662 Z\" fill=\"#000000\" fill-rule=\"evenodd\" fill-opacity=\"1\" /><path clip-path=\"url(#clip020)\" d=\"M1458.94 65.6895 L1487.5 65.6895 L1487.5 72.576 L1449.09 72.576 L1449.09 65.6895 Q1453.75 60.8689 1461.77 52.7671 Q1469.84 44.6248 1471.9 42.2752 Q1475.83 37.8598 1477.37 34.8216 Q1478.95 31.7429 1478.95 28.7857 Q1478.95 23.9651 1475.55 20.927 Q1472.18 17.8888 1466.76 17.8888 Q1462.91 17.8888 1458.61 19.2256 Q1454.36 20.5624 1449.5 23.2765 L1449.5 15.0127 Q1454.44 13.0277 1458.74 12.015 Q1463.03 11.0023 1466.59 11.0023 Q1475.99 11.0023 1481.58 15.7013 Q1487.17 20.4004 1487.17 28.2591 Q1487.17 31.9859 1485.76 35.3482 Q1484.38 38.6699 1480.69 43.2069 Q1479.68 44.3817 1474.25 50.0125 Q1468.82 55.6027 1458.94 65.6895 Z\" fill=\"#000000\" fill-rule=\"evenodd\" fill-opacity=\"1\" /><path clip-path=\"url(#clip020)\" d=\"M1502.61 12.096 L1541.5 12.096 L1541.5 15.5798 L1519.54 72.576 L1510.99 72.576 L1531.65 18.9825 L1502.61 18.9825 L1502.61 12.096 Z\" fill=\"#000000\" fill-rule=\"evenodd\" fill-opacity=\"1\" /><path clip-path=\"url(#clip020)\" d=\"M1574.96 17.4837 Q1568.64 17.4837 1565.44 23.7221 Q1562.28 29.92 1562.28 42.3968 Q1562.28 54.833 1565.44 61.0714 Q1568.64 67.2693 1574.96 67.2693 Q1581.32 67.2693 1584.48 61.0714 Q1587.68 54.833 1587.68 42.3968 Q1587.68 29.92 1584.48 23.7221 Q1581.32 17.4837 1574.96 17.4837 M1574.96 11.0023 Q1585.12 11.0023 1590.47 19.0636 Q1595.86 27.0843 1595.86 42.3968 Q1595.86 57.6687 1590.47 65.73 Q1585.12 73.7508 1574.96 73.7508 Q1564.79 73.7508 1559.4 65.73 Q1554.05 57.6687 1554.05 42.3968 Q1554.05 27.0843 1559.4 19.0636 Q1564.79 11.0023 1574.96 11.0023 Z\" fill=\"#000000\" fill-rule=\"evenodd\" fill-opacity=\"1\" /><path clip-path=\"url(#clip020)\" d=\"M1627.74 43.8551 Q1621.91 43.8551 1618.54 46.9743 Q1615.22 50.0935 1615.22 55.5622 Q1615.22 61.0309 1618.54 64.1501 Q1621.91 67.2693 1627.74 67.2693 Q1633.57 67.2693 1636.93 64.1501 Q1640.3 60.9904 1640.3 55.5622 Q1640.3 50.0935 1636.93 46.9743 Q1633.61 43.8551 1627.74 43.8551 M1619.56 40.3713 Q1614.29 39.075 1611.33 35.4697 Q1608.42 31.8644 1608.42 26.6793 Q1608.42 19.4281 1613.56 15.2152 Q1618.75 11.0023 1627.74 11.0023 Q1636.77 11.0023 1641.92 15.2152 Q1647.06 19.4281 1647.06 26.6793 Q1647.06 31.8644 1644.1 35.4697 Q1641.19 39.075 1635.96 40.3713 Q1641.88 41.7486 1645.16 45.759 Q1648.48 49.7694 1648.48 55.5622 Q1648.48 64.3527 1643.09 69.0517 Q1637.75 73.7508 1627.74 73.7508 Q1617.73 73.7508 1612.35 69.0517 Q1607 64.3527 1607 55.5622 Q1607 49.7694 1610.32 45.759 Q1613.64 41.7486 1619.56 40.3713 M1616.56 27.4489 Q1616.56 32.148 1619.48 34.7811 Q1622.43 37.4142 1627.74 37.4142 Q1633.01 37.4142 1635.96 34.7811 Q1638.96 32.148 1638.96 27.4489 Q1638.96 22.7499 1635.96 20.1168 Q1633.01 17.4837 1627.74 17.4837 Q1622.43 17.4837 1619.48 20.1168 Q1616.56 22.7499 1616.56 27.4489 Z\" fill=\"#000000\" fill-rule=\"evenodd\" fill-opacity=\"1\" /><path clip-path=\"url(#clip020)\" d=\"M1687.81 39.9662 Q1693.69 41.222 1696.97 45.1919 Q1700.29 49.1618 1700.29 54.9951 Q1700.29 63.9476 1694.13 68.8492 Q1687.98 73.7508 1676.63 73.7508 Q1672.83 73.7508 1668.77 72.9811 Q1664.76 72.2519 1660.47 70.7531 L1660.47 62.8538 Q1663.87 64.8388 1667.92 65.8515 Q1671.98 66.8642 1676.39 66.8642 Q1684.09 66.8642 1688.1 63.826 Q1692.15 60.7879 1692.15 54.9951 Q1692.15 49.6479 1688.38 46.6502 Q1684.65 43.612 1677.97 43.612 L1670.92 43.612 L1670.92 36.8875 L1678.29 36.8875 Q1684.33 36.8875 1687.53 34.4975 Q1690.73 32.067 1690.73 27.5299 Q1690.73 22.8714 1687.41 20.4004 Q1684.13 17.8888 1677.97 17.8888 Q1674.61 17.8888 1670.76 18.618 Q1666.91 19.3471 1662.29 20.8865 L1662.29 13.5948 Q1666.95 12.2985 1671 11.6504 Q1675.09 11.0023 1678.7 11.0023 Q1688.02 11.0023 1693.44 15.2557 Q1698.87 19.4686 1698.87 26.6793 Q1698.87 31.7024 1696 35.1862 Q1693.12 38.6294 1687.81 39.9662 Z\" fill=\"#000000\" fill-rule=\"evenodd\" fill-opacity=\"1\" /><path clip-path=\"url(#clip020)\" d=\"M1717.22 65.6895 L1730.59 65.6895 L1730.59 19.5497 L1716.05 22.4663 L1716.05 15.0127 L1730.51 12.096 L1738.69 12.096 L1738.69 65.6895 L1752.06 65.6895 L1752.06 72.576 L1717.22 72.576 L1717.22 65.6895 Z\" fill=\"#000000\" fill-rule=\"evenodd\" fill-opacity=\"1\" /><path clip-path=\"url(#clip020)\" d=\"M1768.83 71.3202 L1768.83 63.8666 Q1771.91 65.3249 1775.07 66.0946 Q1778.23 66.8642 1781.27 66.8642 Q1789.37 66.8642 1793.62 61.436 Q1797.92 55.9673 1798.53 44.8678 Q1796.18 48.3516 1792.57 50.215 Q1788.97 52.0784 1784.59 52.0784 Q1775.52 52.0784 1770.21 46.6097 Q1764.94 41.1005 1764.94 31.5808 Q1764.94 22.2638 1770.45 16.633 Q1775.96 11.0023 1785.12 11.0023 Q1795.61 11.0023 1801.12 19.0636 Q1806.67 27.0843 1806.67 42.3968 Q1806.67 56.6965 1799.86 65.2439 Q1793.1 73.7508 1781.63 73.7508 Q1778.55 73.7508 1775.39 73.1431 Q1772.24 72.5355 1768.83 71.3202 M1785.12 45.678 Q1790.63 45.678 1793.83 41.9107 Q1797.07 38.1433 1797.07 31.5808 Q1797.07 25.0589 1793.83 21.2916 Q1790.63 17.4837 1785.12 17.4837 Q1779.61 17.4837 1776.37 21.2916 Q1773.17 25.0589 1773.17 31.5808 Q1773.17 38.1433 1776.37 41.9107 Q1779.61 45.678 1785.12 45.678 Z\" fill=\"#000000\" fill-rule=\"evenodd\" fill-opacity=\"1\" /><path clip-path=\"url(#clip020)\" d=\"M1846.16 39.9662 Q1852.04 41.222 1855.32 45.1919 Q1858.64 49.1618 1858.64 54.9951 Q1858.64 63.9476 1852.48 68.8492 Q1846.33 73.7508 1834.98 73.7508 Q1831.18 73.7508 1827.12 72.9811 Q1823.11 72.2519 1818.82 70.7531 L1818.82 62.8538 Q1822.22 64.8388 1826.27 65.8515 Q1830.33 66.8642 1834.74 66.8642 Q1842.44 66.8642 1846.45 63.826 Q1850.5 60.7879 1850.5 54.9951 Q1850.5 49.6479 1846.73 46.6502 Q1843 43.612 1836.32 43.612 L1829.27 43.612 L1829.27 36.8875 L1836.64 36.8875 Q1842.68 36.8875 1845.88 34.4975 Q1849.08 32.067 1849.08 27.5299 Q1849.08 22.8714 1845.76 20.4004 Q1842.48 17.8888 1836.32 17.8888 Q1832.96 17.8888 1829.11 18.618 Q1825.26 19.3471 1820.64 20.8865 L1820.64 13.5948 Q1825.3 12.2985 1829.35 11.6504 Q1833.44 11.0023 1837.05 11.0023 Q1846.37 11.0023 1851.79 15.2557 Q1857.22 19.4686 1857.22 26.6793 Q1857.22 31.7024 1854.35 35.1862 Q1851.47 38.6294 1846.16 39.9662 Z\" fill=\"#000000\" fill-rule=\"evenodd\" fill-opacity=\"1\" /><path clip-path=\"url(#clip020)\" d=\"M1898.95 39.9662 Q1904.82 41.222 1908.1 45.1919 Q1911.42 49.1618 1911.42 54.9951 Q1911.42 63.9476 1905.27 68.8492 Q1899.11 73.7508 1887.77 73.7508 Q1883.96 73.7508 1879.91 72.9811 Q1875.9 72.2519 1871.6 70.7531 L1871.6 62.8538 Q1875.01 64.8388 1879.06 65.8515 Q1883.11 66.8642 1887.52 66.8642 Q1895.22 66.8642 1899.23 63.826 Q1903.28 60.7879 1903.28 54.9951 Q1903.28 49.6479 1899.51 46.6502 Q1895.79 43.612 1889.1 43.612 L1882.06 43.612 L1882.06 36.8875 L1889.43 36.8875 Q1895.46 36.8875 1898.66 34.4975 Q1901.86 32.067 1901.86 27.5299 Q1901.86 22.8714 1898.54 20.4004 Q1895.26 17.8888 1889.1 17.8888 Q1885.74 17.8888 1881.89 18.618 Q1878.04 19.3471 1873.43 20.8865 L1873.43 13.5948 Q1878.09 12.2985 1882.14 11.6504 Q1886.23 11.0023 1889.83 11.0023 Q1899.15 11.0023 1904.58 15.2557 Q1910.01 19.4686 1910.01 26.6793 Q1910.01 31.7024 1907.13 35.1862 Q1904.25 38.6294 1898.95 39.9662 Z\" fill=\"#000000\" fill-rule=\"evenodd\" fill-opacity=\"1\" /><path clip-path=\"url(#clip020)\" d=\"M1927.02 12.096 L1959.14 12.096 L1959.14 18.9825 L1934.51 18.9825 L1934.51 33.8088 Q1936.3 33.2012 1938.08 32.9176 Q1939.86 32.5936 1941.64 32.5936 Q1951.77 32.5936 1957.69 38.1433 Q1963.6 43.6931 1963.6 53.1722 Q1963.6 62.9348 1957.52 68.3631 Q1951.45 73.7508 1940.39 73.7508 Q1936.58 73.7508 1932.61 73.1026 Q1928.68 72.4545 1924.47 71.1582 L1924.47 62.9348 Q1928.11 64.9198 1932 65.892 Q1935.89 66.8642 1940.23 66.8642 Q1947.23 66.8642 1951.33 63.1779 Q1955.42 59.4916 1955.42 53.1722 Q1955.42 46.8528 1951.33 43.1664 Q1947.23 39.4801 1940.23 39.4801 Q1936.94 39.4801 1933.66 40.2093 Q1930.42 40.9384 1927.02 42.4778 L1927.02 12.096 Z\" fill=\"#000000\" fill-rule=\"evenodd\" fill-opacity=\"1\" /><path clip-path=\"url(#clip020)\" d=\"M1979.97 71.3202 L1979.97 63.8666 Q1983.04 65.3249 1986.2 66.0946 Q1989.36 66.8642 1992.4 66.8642 Q2000.5 66.8642 2004.76 61.436 Q2009.05 55.9673 2009.66 44.8678 Q2007.31 48.3516 2003.7 50.215 Q2000.1 52.0784 1995.72 52.0784 Q1986.65 52.0784 1981.34 46.6097 Q1976.08 41.1005 1976.08 31.5808 Q1976.08 22.2638 1981.59 16.633 Q1987.1 11.0023 1996.25 11.0023 Q2006.74 11.0023 2012.25 19.0636 Q2017.8 27.0843 2017.8 42.3968 Q2017.8 56.6965 2011 65.2439 Q2004.23 73.7508 1992.77 73.7508 Q1989.69 73.7508 1986.53 73.1431 Q1983.37 72.5355 1979.97 71.3202 M1996.25 45.678 Q2001.76 45.678 2004.96 41.9107 Q2008.2 38.1433 2008.2 31.5808 Q2008.2 25.0589 2004.96 21.2916 Q2001.76 17.4837 1996.25 17.4837 Q1990.74 17.4837 1987.5 21.2916 Q1984.3 25.0589 1984.3 31.5808 Q1984.3 38.1433 1987.5 41.9107 Q1990.74 45.678 1996.25 45.678 Z\" fill=\"#000000\" fill-rule=\"evenodd\" fill-opacity=\"1\" /><path clip-path=\"url(#clip020)\" d=\"M2032.59 12.096 L2064.71 12.096 L2064.71 18.9825 L2040.08 18.9825 L2040.08 33.8088 Q2041.86 33.2012 2043.65 32.9176 Q2045.43 32.5936 2047.21 32.5936 Q2057.34 32.5936 2063.25 38.1433 Q2069.17 43.6931 2069.17 53.1722 Q2069.17 62.9348 2063.09 68.3631 Q2057.01 73.7508 2045.95 73.7508 Q2042.15 73.7508 2038.18 73.1026 Q2034.25 72.4545 2030.03 71.1582 L2030.03 62.9348 Q2033.68 64.9198 2037.57 65.892 Q2041.46 66.8642 2045.79 66.8642 Q2052.8 66.8642 2056.89 63.1779 Q2060.98 59.4916 2060.98 53.1722 Q2060.98 46.8528 2056.89 43.1664 Q2052.8 39.4801 2045.79 39.4801 Q2042.51 39.4801 2039.23 40.2093 Q2035.99 40.9384 2032.59 42.4778 L2032.59 12.096 Z\" fill=\"#000000\" fill-rule=\"evenodd\" fill-opacity=\"1\" /><polyline clip-path=\"url(#clip022)\" style=\"stroke:#009af9; stroke-linecap:butt; stroke-linejoin:round; stroke-width:16; stroke-opacity:1; fill:none\" points=\"\n",
       "  193.936,1402.19 207.991,1402.18 337.951,1402.03 416.051,1401.82 482.084,1401.46 553.814,1400.72 619.943,1399.44 690.84,1396.85 772.981,1390.76 809.48,1386.21 \n",
       "  845.979,1379.88 877.985,1372.35 909.991,1362.38 927.439,1355.66 944.886,1347.86 962.334,1338.83 979.782,1328.39 997.333,1316.29 1014.88,1302.38 1032.44,1286.46 \n",
       "  1049.99,1268.31 1059.69,1257.24 1069.39,1245.39 1079.09,1232.73 1088.8,1219.23 1098.5,1204.86 1108.2,1189.61 1117.91,1173.44 1127.61,1156.35 1136.84,1139.23 \n",
       "  1146.07,1121.27 1155.3,1102.47 1164.54,1082.86 1183,1041.29 1201.46,996.802 1220.66,947.899 1239.86,896.875 1259.06,844.439 1278.25,791.384 1294.41,746.855 \n",
       "  1310.57,702.969 1326.74,660.188 1342.9,618.929 1352.76,594.646 1362.63,571.131 1372.49,548.442 1382.36,526.626 1392.22,505.719 1402.09,485.748 1411.95,466.728 \n",
       "  1421.82,448.667 1430.85,432.962 1439.89,418.056 1448.93,403.935 1457.96,390.587 1476.04,366.128 1494.11,344.497 1510.81,326.849 1527.5,311.255 1544.19,297.53 \n",
       "  1560.88,285.495 1577.79,274.846 1594.7,265.579 1611.61,257.534 1628.52,250.565 1647.47,243.869 1666.42,238.191 1685.37,233.384 1704.32,229.32 1738.67,223.501 \n",
       "  1773.01,219.231 1851.66,213.282 1924.47,210.54 1996.26,209.152 2065.96,208.452 2137.42,208.079 2215.7,207.873 2329.43,207.747 2352.76,207.734 \n",
       "  \"/>\n",
       "<polyline clip-path=\"url(#clip022)\" style=\"stroke:#e26f46; stroke-linecap:butt; stroke-linejoin:round; stroke-width:16; stroke-opacity:1; fill:none\" points=\"\n",
       "  194.245,1447.14 195.564,1444.1 197.935,1438.86 201.357,1431.85 205.826,1423.61 211.339,1414.76 217.889,1405.98 225.47,1397.92 234.075,1391.16 243.696,1386.17 \n",
       "  254.323,1383.23 265.945,1382.49 278.552,1383.86 292.13,1387.1 306.668,1391.8 322.15,1397.42 338.561,1403.37 355.886,1409.02 374.107,1413.8 393.207,1417.2 \n",
       "  413.166,1418.88 433.967,1418.65 455.587,1416.53 478.006,1412.71 501.203,1407.55 525.154,1401.57 549.836,1395.36 575.225,1389.55 601.296,1384.72 628.023,1381.37 \n",
       "  655.382,1379.81 683.344,1380.13 711.882,1382.19 740.969,1385.53 770.577,1389.46 800.675,1393.02 831.236,1395.03 862.228,1394.19 893.622,1389.14 925.387,1378.52 \n",
       "  957.492,1361.12 989.906,1335.92 1022.6,1302.19 1055.53,1259.55 1088.68,1208.04 1122.01,1148.08 1155.49,1080.54 1189.08,1006.64 1222.75,927.959 1256.48,846.297 \n",
       "  1290.22,763.623 1323.94,681.961 1357.61,603.277 1391.21,529.382 1424.68,461.839 1458.01,401.883 1491.16,350.367 1524.1,307.733 1556.79,274.002 1589.2,248.8 \n",
       "  1621.3,231.399 1653.07,220.782 1684.46,215.727 1715.46,214.889 1746.02,216.901 1776.12,220.455 1805.72,224.387 1834.81,227.734 1863.35,229.788 1891.31,230.113 \n",
       "  1918.67,228.55 1945.4,225.197 1971.47,220.372 1996.86,214.56 2021.54,208.351 2045.49,202.37 2068.69,197.214 2091.1,193.39 2112.73,191.267 2133.53,191.042 \n",
       "  2153.49,192.722 2172.58,196.125 2190.81,200.896 2208.13,206.547 2224.54,212.495 2240.02,218.119 2254.56,222.816 2268.14,226.056 2280.75,227.429 2292.37,226.685 \n",
       "  2303,223.755 2312.62,218.759 2321.22,212.002 2328.8,203.942 2335.35,195.162 2340.87,186.313 2345.33,178.066 2348.76,171.055 2351.13,165.823 2352.45,162.775 \n",
       "  \n",
       "  \"/>\n",
       "<circle clip-path=\"url(#clip022)\" cx=\"193.936\" cy=\"1447.87\" r=\"14.4\" fill=\"#000000\" fill-rule=\"evenodd\" fill-opacity=\"1\" stroke=\"none\"/>\n",
       "<circle clip-path=\"url(#clip022)\" cx=\"280.792\" cy=\"1384.29\" r=\"14.4\" fill=\"#000000\" fill-rule=\"evenodd\" fill-opacity=\"1\" stroke=\"none\"/>\n",
       "<circle clip-path=\"url(#clip022)\" cx=\"475.906\" cy=\"1413.12\" r=\"14.4\" fill=\"#000000\" fill-rule=\"evenodd\" fill-opacity=\"1\" stroke=\"none\"/>\n",
       "<circle clip-path=\"url(#clip022)\" cx=\"757.469\" cy=\"1387.72\" r=\"14.4\" fill=\"#000000\" fill-rule=\"evenodd\" fill-opacity=\"1\" stroke=\"none\"/>\n",
       "<circle clip-path=\"url(#clip022)\" cx=\"1094.94\" cy=\"1197.37\" r=\"14.4\" fill=\"#000000\" fill-rule=\"evenodd\" fill-opacity=\"1\" stroke=\"none\"/>\n",
       "<circle clip-path=\"url(#clip022)\" cx=\"1451.75\" cy=\"412.546\" r=\"14.4\" fill=\"#000000\" fill-rule=\"evenodd\" fill-opacity=\"1\" stroke=\"none\"/>\n",
       "<circle clip-path=\"url(#clip022)\" cx=\"1789.22\" cy=\"222.203\" r=\"14.4\" fill=\"#000000\" fill-rule=\"evenodd\" fill-opacity=\"1\" stroke=\"none\"/>\n",
       "<circle clip-path=\"url(#clip022)\" cx=\"2070.79\" cy=\"196.799\" r=\"14.4\" fill=\"#000000\" fill-rule=\"evenodd\" fill-opacity=\"1\" stroke=\"none\"/>\n",
       "<circle clip-path=\"url(#clip022)\" cx=\"2265.9\" cy=\"225.627\" r=\"14.4\" fill=\"#000000\" fill-rule=\"evenodd\" fill-opacity=\"1\" stroke=\"none\"/>\n",
       "<circle clip-path=\"url(#clip022)\" cx=\"2352.76\" cy=\"162.047\" r=\"14.4\" fill=\"#000000\" fill-rule=\"evenodd\" fill-opacity=\"1\" stroke=\"none\"/>\n",
       "<path clip-path=\"url(#clip020)\" d=\"\n",
       "M1646.53 1441.02 L2280.8 1441.02 L2280.8 1233.66 L1646.53 1233.66  Z\n",
       "  \" fill=\"#ffffff\" fill-rule=\"evenodd\" fill-opacity=\"1\"/>\n",
       "<polyline clip-path=\"url(#clip020)\" style=\"stroke:#000000; stroke-linecap:butt; stroke-linejoin:round; stroke-width:4; stroke-opacity:1; fill:none\" points=\"\n",
       "  1646.53,1441.02 2280.8,1441.02 2280.8,1233.66 1646.53,1233.66 1646.53,1441.02 \n",
       "  \"/>\n",
       "<polyline clip-path=\"url(#clip020)\" style=\"stroke:#009af9; stroke-linecap:butt; stroke-linejoin:round; stroke-width:4; stroke-opacity:1; fill:none\" points=\"\n",
       "  1670.52,1285.5 1814.44,1285.5 \n",
       "  \"/>\n",
       "<path clip-path=\"url(#clip020)\" d=\"M1862.45 1288.75 L1862.45 1290.83 L1842.87 1290.83 Q1843.15 1295.23 1845.51 1297.54 Q1847.89 1299.84 1852.13 1299.84 Q1854.58 1299.84 1856.87 1299.23 Q1859.19 1298.63 1861.46 1297.43 L1861.46 1301.46 Q1859.17 1302.43 1856.76 1302.94 Q1854.35 1303.45 1851.87 1303.45 Q1845.67 1303.45 1842.04 1299.84 Q1838.43 1296.22 1838.43 1290.07 Q1838.43 1283.7 1841.85 1279.97 Q1845.3 1276.22 1851.13 1276.22 Q1856.37 1276.22 1859.4 1279.6 Q1862.45 1282.96 1862.45 1288.75 M1858.19 1287.5 Q1858.15 1284 1856.23 1281.92 Q1854.33 1279.84 1851.18 1279.84 Q1847.62 1279.84 1845.46 1281.85 Q1843.33 1283.86 1843.01 1287.52 L1858.19 1287.5 Z\" fill=\"#000000\" fill-rule=\"evenodd\" fill-opacity=\"1\" /><path clip-path=\"url(#clip020)\" d=\"M1890.16 1276.85 L1880.79 1289.47 L1890.65 1302.78 L1885.62 1302.78 L1878.08 1292.59 L1870.53 1302.78 L1865.51 1302.78 L1875.58 1289.21 L1866.37 1276.85 L1871.39 1276.85 L1878.26 1286.09 L1885.14 1276.85 L1890.16 1276.85 Z\" fill=\"#000000\" fill-rule=\"evenodd\" fill-opacity=\"1\" /><path clip-path=\"url(#clip020)\" d=\"M1908.45 1289.74 Q1903.29 1289.74 1901.3 1290.92 Q1899.3 1292.1 1899.3 1294.95 Q1899.3 1297.22 1900.79 1298.56 Q1902.29 1299.88 1904.86 1299.88 Q1908.4 1299.88 1910.53 1297.38 Q1912.68 1294.86 1912.68 1290.69 L1912.68 1289.74 L1908.45 1289.74 M1916.94 1287.98 L1916.94 1302.78 L1912.68 1302.78 L1912.68 1298.84 Q1911.23 1301.2 1909.05 1302.34 Q1906.87 1303.45 1903.73 1303.45 Q1899.74 1303.45 1897.38 1301.22 Q1895.05 1298.98 1895.05 1295.23 Q1895.05 1290.85 1897.96 1288.63 Q1900.9 1286.41 1906.71 1286.41 L1912.68 1286.41 L1912.68 1285.99 Q1912.68 1283.05 1910.74 1281.46 Q1908.82 1279.84 1905.32 1279.84 Q1903.1 1279.84 1900.99 1280.37 Q1898.89 1280.9 1896.94 1281.97 L1896.94 1278.03 Q1899.28 1277.13 1901.48 1276.69 Q1903.68 1276.22 1905.76 1276.22 Q1911.39 1276.22 1914.17 1279.14 Q1916.94 1282.06 1916.94 1287.98 Z\" fill=\"#000000\" fill-rule=\"evenodd\" fill-opacity=\"1\" /><path clip-path=\"url(#clip020)\" d=\"M1944.37 1277.84 L1944.37 1281.83 Q1942.57 1280.83 1940.74 1280.34 Q1938.93 1279.84 1937.08 1279.84 Q1932.94 1279.84 1930.65 1282.47 Q1928.36 1285.09 1928.36 1289.84 Q1928.36 1294.58 1930.65 1297.22 Q1932.94 1299.84 1937.08 1299.84 Q1938.93 1299.84 1940.74 1299.35 Q1942.57 1298.84 1944.37 1297.84 L1944.37 1301.78 Q1942.59 1302.61 1940.67 1303.03 Q1938.77 1303.45 1936.62 1303.45 Q1930.76 1303.45 1927.31 1299.77 Q1923.86 1296.09 1923.86 1289.84 Q1923.86 1283.49 1927.34 1279.86 Q1930.83 1276.22 1936.9 1276.22 Q1938.86 1276.22 1940.74 1276.64 Q1942.61 1277.03 1944.37 1277.84 Z\" fill=\"#000000\" fill-rule=\"evenodd\" fill-opacity=\"1\" /><path clip-path=\"url(#clip020)\" d=\"M1955.99 1269.49 L1955.99 1276.85 L1964.77 1276.85 L1964.77 1280.16 L1955.99 1280.16 L1955.99 1294.23 Q1955.99 1297.41 1956.85 1298.31 Q1957.73 1299.21 1960.39 1299.21 L1964.77 1299.21 L1964.77 1302.78 L1960.39 1302.78 Q1955.46 1302.78 1953.59 1300.95 Q1951.71 1299.09 1951.71 1294.23 L1951.71 1280.16 L1948.59 1280.16 L1948.59 1276.85 L1951.71 1276.85 L1951.71 1269.49 L1955.99 1269.49 Z\" fill=\"#000000\" fill-rule=\"evenodd\" fill-opacity=\"1\" /><polyline clip-path=\"url(#clip020)\" style=\"stroke:#e26f46; stroke-linecap:butt; stroke-linejoin:round; stroke-width:4; stroke-opacity:1; fill:none\" points=\"\n",
       "  1670.52,1337.34 1814.44,1337.34 \n",
       "  \"/>\n",
       "<path clip-path=\"url(#clip020)\" d=\"M1863.98 1349.68 L1863.98 1340.4 L1856.34 1340.4 L1856.34 1336.56 L1868.61 1336.56 L1868.61 1351.4 Q1865.9 1353.32 1862.64 1354.31 Q1859.37 1355.29 1855.67 1355.29 Q1847.57 1355.29 1842.99 1350.56 Q1838.43 1345.82 1838.43 1337.37 Q1838.43 1328.9 1842.99 1324.18 Q1847.57 1319.43 1855.67 1319.43 Q1859.05 1319.43 1862.08 1320.26 Q1865.14 1321.1 1867.71 1322.72 L1867.71 1327.69 Q1865.12 1325.5 1862.2 1324.38 Q1859.28 1323.27 1856.06 1323.27 Q1849.72 1323.27 1846.53 1326.81 Q1843.36 1330.36 1843.36 1337.37 Q1843.36 1344.36 1846.53 1347.9 Q1849.72 1351.44 1856.06 1351.44 Q1858.54 1351.44 1860.49 1351.03 Q1862.43 1350.59 1863.98 1349.68 Z\" fill=\"#000000\" fill-rule=\"evenodd\" fill-opacity=\"1\" /><path clip-path=\"url(#clip020)\" d=\"M1888.75 1341.58 Q1883.59 1341.58 1881.6 1342.76 Q1879.61 1343.94 1879.61 1346.79 Q1879.61 1349.06 1881.09 1350.4 Q1882.59 1351.72 1885.16 1351.72 Q1888.7 1351.72 1890.83 1349.22 Q1892.99 1346.7 1892.99 1342.53 L1892.99 1341.58 L1888.75 1341.58 M1897.24 1339.82 L1897.24 1354.62 L1892.99 1354.62 L1892.99 1350.68 Q1891.53 1353.04 1889.35 1354.18 Q1887.18 1355.29 1884.03 1355.29 Q1880.05 1355.29 1877.68 1353.06 Q1875.35 1350.82 1875.35 1347.07 Q1875.35 1342.69 1878.26 1340.47 Q1881.2 1338.25 1887.01 1338.25 L1892.99 1338.25 L1892.99 1337.83 Q1892.99 1334.89 1891.04 1333.3 Q1889.12 1331.68 1885.62 1331.68 Q1883.4 1331.68 1881.3 1332.21 Q1879.19 1332.74 1877.24 1333.81 L1877.24 1329.87 Q1879.58 1328.97 1881.78 1328.53 Q1883.98 1328.06 1886.06 1328.06 Q1891.69 1328.06 1894.47 1330.98 Q1897.24 1333.9 1897.24 1339.82 Z\" fill=\"#000000\" fill-rule=\"evenodd\" fill-opacity=\"1\" /><path clip-path=\"url(#clip020)\" d=\"M1906.02 1318.6 L1910.28 1318.6 L1910.28 1354.62 L1906.02 1354.62 L1906.02 1318.6 Z\" fill=\"#000000\" fill-rule=\"evenodd\" fill-opacity=\"1\" /><path clip-path=\"url(#clip020)\" d=\"M1941.36 1340.59 L1941.36 1342.67 L1921.78 1342.67 Q1922.06 1347.07 1924.42 1349.38 Q1926.8 1351.68 1931.04 1351.68 Q1933.49 1351.68 1935.79 1351.07 Q1938.1 1350.47 1940.37 1349.27 L1940.37 1353.3 Q1938.08 1354.27 1935.67 1354.78 Q1933.26 1355.29 1930.79 1355.29 Q1924.58 1355.29 1920.95 1351.68 Q1917.34 1348.06 1917.34 1341.91 Q1917.34 1335.54 1920.76 1331.81 Q1924.21 1328.06 1930.05 1328.06 Q1935.28 1328.06 1938.31 1331.44 Q1941.36 1334.8 1941.36 1340.59 M1937.11 1339.34 Q1937.06 1335.84 1935.14 1333.76 Q1933.24 1331.68 1930.09 1331.68 Q1926.53 1331.68 1924.37 1333.69 Q1922.24 1335.7 1921.92 1339.36 L1937.11 1339.34 Z\" fill=\"#000000\" fill-rule=\"evenodd\" fill-opacity=\"1\" /><path clip-path=\"url(#clip020)\" d=\"M1963.38 1332.67 Q1962.66 1332.25 1961.8 1332.07 Q1960.97 1331.86 1959.95 1331.86 Q1956.34 1331.86 1954.4 1334.22 Q1952.48 1336.56 1952.48 1340.96 L1952.48 1354.62 L1948.19 1354.62 L1948.19 1328.69 L1952.48 1328.69 L1952.48 1332.72 Q1953.82 1330.36 1955.97 1329.22 Q1958.12 1328.06 1961.2 1328.06 Q1961.64 1328.06 1962.17 1328.13 Q1962.71 1328.18 1963.36 1328.3 L1963.38 1332.67 Z\" fill=\"#000000\" fill-rule=\"evenodd\" fill-opacity=\"1\" /><path clip-path=\"url(#clip020)\" d=\"M1967.68 1318.6 L1971.97 1318.6 L1971.97 1339.87 L1984.67 1328.69 L1990.11 1328.69 L1976.36 1340.82 L1990.69 1354.62 L1985.14 1354.62 L1971.97 1341.95 L1971.97 1354.62 L1967.68 1354.62 L1967.68 1318.6 Z\" fill=\"#000000\" fill-rule=\"evenodd\" fill-opacity=\"1\" /><path clip-path=\"url(#clip020)\" d=\"M1995.3 1328.69 L1999.56 1328.69 L1999.56 1354.62 L1995.3 1354.62 L1995.3 1328.69 M1995.3 1318.6 L1999.56 1318.6 L1999.56 1323.99 L1995.3 1323.99 L1995.3 1318.6 Z\" fill=\"#000000\" fill-rule=\"evenodd\" fill-opacity=\"1\" /><path clip-path=\"url(#clip020)\" d=\"M2030.02 1338.97 L2030.02 1354.62 L2025.76 1354.62 L2025.76 1339.11 Q2025.76 1335.43 2024.33 1333.6 Q2022.89 1331.77 2020.02 1331.77 Q2016.57 1331.77 2014.58 1333.97 Q2012.59 1336.17 2012.59 1339.96 L2012.59 1354.62 L2008.31 1354.62 L2008.31 1328.69 L2012.59 1328.69 L2012.59 1332.72 Q2014.12 1330.38 2016.18 1329.22 Q2018.26 1328.06 2020.97 1328.06 Q2025.44 1328.06 2027.73 1330.84 Q2030.02 1333.6 2030.02 1338.97 Z\" fill=\"#000000\" fill-rule=\"evenodd\" fill-opacity=\"1\" /><path clip-path=\"url(#clip020)\" d=\"M2070.11 1329.45 L2070.11 1333.48 Q2068.31 1332.56 2066.36 1332.09 Q2064.42 1331.63 2062.34 1331.63 Q2059.16 1331.63 2057.57 1332.6 Q2055.99 1333.57 2055.99 1335.52 Q2055.99 1337 2057.13 1337.86 Q2058.26 1338.69 2061.69 1339.45 L2063.15 1339.78 Q2067.68 1340.75 2069.58 1342.53 Q2071.5 1344.29 2071.5 1347.46 Q2071.5 1351.07 2068.63 1353.18 Q2065.79 1355.29 2060.79 1355.29 Q2058.7 1355.29 2056.43 1354.87 Q2054.19 1354.48 2051.69 1353.67 L2051.69 1349.27 Q2054.05 1350.5 2056.34 1351.12 Q2058.63 1351.72 2060.88 1351.72 Q2063.89 1351.72 2065.51 1350.7 Q2067.13 1349.66 2067.13 1347.79 Q2067.13 1346.05 2065.95 1345.12 Q2064.79 1344.2 2060.83 1343.34 L2059.35 1343 Q2055.39 1342.16 2053.63 1340.45 Q2051.87 1338.71 2051.87 1335.7 Q2051.87 1332.05 2054.47 1330.06 Q2057.06 1328.06 2061.83 1328.06 Q2064.19 1328.06 2066.27 1328.41 Q2068.35 1328.76 2070.11 1329.45 Z\" fill=\"#000000\" fill-rule=\"evenodd\" fill-opacity=\"1\" /><path clip-path=\"url(#clip020)\" d=\"M2088.33 1331.68 Q2084.91 1331.68 2082.91 1334.36 Q2080.92 1337.02 2080.92 1341.68 Q2080.92 1346.33 2082.89 1349.01 Q2084.88 1351.68 2088.33 1351.68 Q2091.73 1351.68 2093.72 1348.99 Q2095.72 1346.31 2095.72 1341.68 Q2095.72 1337.07 2093.72 1334.38 Q2091.73 1331.68 2088.33 1331.68 M2088.33 1328.06 Q2093.89 1328.06 2097.06 1331.68 Q2100.23 1335.29 2100.23 1341.68 Q2100.23 1348.04 2097.06 1351.68 Q2093.89 1355.29 2088.33 1355.29 Q2082.75 1355.29 2079.58 1351.68 Q2076.43 1348.04 2076.43 1341.68 Q2076.43 1335.29 2079.58 1331.68 Q2082.75 1328.06 2088.33 1328.06 Z\" fill=\"#000000\" fill-rule=\"evenodd\" fill-opacity=\"1\" /><path clip-path=\"url(#clip020)\" d=\"M2107.29 1318.6 L2111.55 1318.6 L2111.55 1354.62 L2107.29 1354.62 L2107.29 1318.6 Z\" fill=\"#000000\" fill-rule=\"evenodd\" fill-opacity=\"1\" /><path clip-path=\"url(#clip020)\" d=\"M2120.02 1344.38 L2120.02 1328.69 L2124.28 1328.69 L2124.28 1344.22 Q2124.28 1347.9 2125.72 1349.75 Q2127.15 1351.58 2130.02 1351.58 Q2133.47 1351.58 2135.46 1349.38 Q2137.47 1347.18 2137.47 1343.39 L2137.47 1328.69 L2141.73 1328.69 L2141.73 1354.62 L2137.47 1354.62 L2137.47 1350.63 Q2135.92 1352.99 2133.86 1354.15 Q2131.83 1355.29 2129.12 1355.29 Q2124.65 1355.29 2122.34 1352.51 Q2120.02 1349.73 2120.02 1344.38 M2130.74 1328.06 L2130.74 1328.06 Z\" fill=\"#000000\" fill-rule=\"evenodd\" fill-opacity=\"1\" /><path clip-path=\"url(#clip020)\" d=\"M2154.72 1321.33 L2154.72 1328.69 L2163.49 1328.69 L2163.49 1332 L2154.72 1332 L2154.72 1346.07 Q2154.72 1349.25 2155.58 1350.15 Q2156.46 1351.05 2159.12 1351.05 L2163.49 1351.05 L2163.49 1354.62 L2159.12 1354.62 Q2154.19 1354.62 2152.31 1352.79 Q2150.44 1350.93 2150.44 1346.07 L2150.44 1332 L2147.31 1332 L2147.31 1328.69 L2150.44 1328.69 L2150.44 1321.33 L2154.72 1321.33 Z\" fill=\"#000000\" fill-rule=\"evenodd\" fill-opacity=\"1\" /><path clip-path=\"url(#clip020)\" d=\"M2169.09 1328.69 L2173.35 1328.69 L2173.35 1354.62 L2169.09 1354.62 L2169.09 1328.69 M2169.09 1318.6 L2173.35 1318.6 L2173.35 1323.99 L2169.09 1323.99 L2169.09 1318.6 Z\" fill=\"#000000\" fill-rule=\"evenodd\" fill-opacity=\"1\" /><path clip-path=\"url(#clip020)\" d=\"M2192.31 1331.68 Q2188.89 1331.68 2186.9 1334.36 Q2184.91 1337.02 2184.91 1341.68 Q2184.91 1346.33 2186.87 1349.01 Q2188.86 1351.68 2192.31 1351.68 Q2195.72 1351.68 2197.71 1348.99 Q2199.7 1346.31 2199.7 1341.68 Q2199.7 1337.07 2197.71 1334.38 Q2195.72 1331.68 2192.31 1331.68 M2192.31 1328.06 Q2197.87 1328.06 2201.04 1331.68 Q2204.21 1335.29 2204.21 1341.68 Q2204.21 1348.04 2201.04 1351.68 Q2197.87 1355.29 2192.31 1355.29 Q2186.73 1355.29 2183.56 1351.68 Q2180.41 1348.04 2180.41 1341.68 Q2180.41 1335.29 2183.56 1331.68 Q2186.73 1328.06 2192.31 1328.06 Z\" fill=\"#000000\" fill-rule=\"evenodd\" fill-opacity=\"1\" /><path clip-path=\"url(#clip020)\" d=\"M2232.82 1338.97 L2232.82 1354.62 L2228.56 1354.62 L2228.56 1339.11 Q2228.56 1335.43 2227.13 1333.6 Q2225.69 1331.77 2222.82 1331.77 Q2219.37 1331.77 2217.38 1333.97 Q2215.39 1336.17 2215.39 1339.96 L2215.39 1354.62 L2211.11 1354.62 L2211.11 1328.69 L2215.39 1328.69 L2215.39 1332.72 Q2216.92 1330.38 2218.98 1329.22 Q2221.06 1328.06 2223.77 1328.06 Q2228.24 1328.06 2230.53 1330.84 Q2232.82 1333.6 2232.82 1338.97 Z\" fill=\"#000000\" fill-rule=\"evenodd\" fill-opacity=\"1\" /><circle clip-path=\"url(#clip020)\" cx=\"1742.48\" cy=\"1389.18\" r=\"23.04\" fill=\"#000000\" fill-rule=\"evenodd\" fill-opacity=\"1\" stroke=\"none\"/>\n",
       "<path clip-path=\"url(#clip020)\" d=\"M1838.43 1371.9 L1844.72 1371.9 L1860.05 1400.81 L1860.05 1371.9 L1864.58 1371.9 L1864.58 1406.46 L1858.29 1406.46 L1842.96 1377.54 L1842.96 1406.46 L1838.43 1406.46 L1838.43 1371.9 Z\" fill=\"#000000\" fill-rule=\"evenodd\" fill-opacity=\"1\" /><path clip-path=\"url(#clip020)\" d=\"M1883.75 1383.52 Q1880.32 1383.52 1878.33 1386.2 Q1876.34 1388.86 1876.34 1393.52 Q1876.34 1398.17 1878.31 1400.85 Q1880.3 1403.52 1883.75 1403.52 Q1887.15 1403.52 1889.14 1400.83 Q1891.13 1398.15 1891.13 1393.52 Q1891.13 1388.91 1889.14 1386.22 Q1887.15 1383.52 1883.75 1383.52 M1883.75 1379.9 Q1889.3 1379.9 1892.48 1383.52 Q1895.65 1387.13 1895.65 1393.52 Q1895.65 1399.88 1892.48 1403.52 Q1889.3 1407.13 1883.75 1407.13 Q1878.17 1407.13 1875 1403.52 Q1871.85 1399.88 1871.85 1393.52 Q1871.85 1387.13 1875 1383.52 Q1878.17 1379.9 1883.75 1379.9 Z\" fill=\"#000000\" fill-rule=\"evenodd\" fill-opacity=\"1\" /><path clip-path=\"url(#clip020)\" d=\"M1919.77 1384.46 L1919.77 1370.44 L1924.03 1370.44 L1924.03 1406.46 L1919.77 1406.46 L1919.77 1402.57 Q1918.43 1404.88 1916.36 1406.02 Q1914.33 1407.13 1911.46 1407.13 Q1906.76 1407.13 1903.8 1403.38 Q1900.86 1399.63 1900.86 1393.52 Q1900.86 1387.4 1903.8 1383.65 Q1906.76 1379.9 1911.46 1379.9 Q1914.33 1379.9 1916.36 1381.04 Q1918.43 1382.15 1919.77 1384.46 M1905.25 1393.52 Q1905.25 1398.21 1907.18 1400.9 Q1909.12 1403.56 1912.5 1403.56 Q1915.88 1403.56 1917.82 1400.9 Q1919.77 1398.21 1919.77 1393.52 Q1919.77 1388.82 1917.82 1386.15 Q1915.88 1383.47 1912.5 1383.47 Q1909.12 1383.47 1907.18 1386.15 Q1905.25 1388.82 1905.25 1393.52 Z\" fill=\"#000000\" fill-rule=\"evenodd\" fill-opacity=\"1\" /><path clip-path=\"url(#clip020)\" d=\"M1944.58 1393.42 Q1939.42 1393.42 1937.43 1394.6 Q1935.44 1395.78 1935.44 1398.63 Q1935.44 1400.9 1936.92 1402.24 Q1938.42 1403.56 1940.99 1403.56 Q1944.54 1403.56 1946.67 1401.06 Q1948.82 1398.54 1948.82 1394.37 L1948.82 1393.42 L1944.58 1393.42 M1953.08 1391.66 L1953.08 1406.46 L1948.82 1406.46 L1948.82 1402.52 Q1947.36 1404.88 1945.18 1406.02 Q1943.01 1407.13 1939.86 1407.13 Q1935.88 1407.13 1933.52 1404.9 Q1931.18 1402.66 1931.18 1398.91 Q1931.18 1394.53 1934.1 1392.31 Q1937.04 1390.09 1942.85 1390.09 L1948.82 1390.09 L1948.82 1389.67 Q1948.82 1386.73 1946.87 1385.14 Q1944.95 1383.52 1941.46 1383.52 Q1939.24 1383.52 1937.13 1384.05 Q1935.02 1384.58 1933.08 1385.65 L1933.08 1381.71 Q1935.42 1380.81 1937.61 1380.37 Q1939.81 1379.9 1941.9 1379.9 Q1947.52 1379.9 1950.3 1382.82 Q1953.08 1385.74 1953.08 1391.66 Z\" fill=\"#000000\" fill-rule=\"evenodd\" fill-opacity=\"1\" /><path clip-path=\"url(#clip020)\" d=\"M1961.85 1370.44 L1966.11 1370.44 L1966.11 1406.46 L1961.85 1406.46 L1961.85 1370.44 Z\" fill=\"#000000\" fill-rule=\"evenodd\" fill-opacity=\"1\" /><path clip-path=\"url(#clip020)\" d=\"M1987.04 1380.53 L1991.55 1380.53 L1999.65 1402.29 L2007.75 1380.53 L2012.27 1380.53 L2002.54 1406.46 L1996.76 1406.46 L1987.04 1380.53 Z\" fill=\"#000000\" fill-rule=\"evenodd\" fill-opacity=\"1\" /><path clip-path=\"url(#clip020)\" d=\"M2029.93 1393.42 Q2024.77 1393.42 2022.78 1394.6 Q2020.79 1395.78 2020.79 1398.63 Q2020.79 1400.9 2022.27 1402.24 Q2023.77 1403.56 2026.34 1403.56 Q2029.88 1403.56 2032.01 1401.06 Q2034.17 1398.54 2034.17 1394.37 L2034.17 1393.42 L2029.93 1393.42 M2038.42 1391.66 L2038.42 1406.46 L2034.17 1406.46 L2034.17 1402.52 Q2032.71 1404.88 2030.53 1406.02 Q2028.35 1407.13 2025.21 1407.13 Q2021.23 1407.13 2018.86 1404.9 Q2016.53 1402.66 2016.53 1398.91 Q2016.53 1394.53 2019.44 1392.31 Q2022.38 1390.09 2028.19 1390.09 L2034.17 1390.09 L2034.17 1389.67 Q2034.17 1386.73 2032.22 1385.14 Q2030.3 1383.52 2026.8 1383.52 Q2024.58 1383.52 2022.48 1384.05 Q2020.37 1384.58 2018.42 1385.65 L2018.42 1381.71 Q2020.76 1380.81 2022.96 1380.37 Q2025.16 1379.9 2027.24 1379.9 Q2032.87 1379.9 2035.65 1382.82 Q2038.42 1385.74 2038.42 1391.66 Z\" fill=\"#000000\" fill-rule=\"evenodd\" fill-opacity=\"1\" /><path clip-path=\"url(#clip020)\" d=\"M2047.2 1370.44 L2051.46 1370.44 L2051.46 1406.46 L2047.2 1406.46 L2047.2 1370.44 Z\" fill=\"#000000\" fill-rule=\"evenodd\" fill-opacity=\"1\" /><path clip-path=\"url(#clip020)\" d=\"M2059.93 1396.22 L2059.93 1380.53 L2064.19 1380.53 L2064.19 1396.06 Q2064.19 1399.74 2065.62 1401.59 Q2067.06 1403.42 2069.93 1403.42 Q2073.38 1403.42 2075.37 1401.22 Q2077.38 1399.02 2077.38 1395.23 L2077.38 1380.53 L2081.64 1380.53 L2081.64 1406.46 L2077.38 1406.46 L2077.38 1402.47 Q2075.83 1404.83 2073.77 1405.99 Q2071.73 1407.13 2069.03 1407.13 Q2064.56 1407.13 2062.24 1404.35 Q2059.93 1401.57 2059.93 1396.22 M2070.65 1379.9 L2070.65 1379.9 Z\" fill=\"#000000\" fill-rule=\"evenodd\" fill-opacity=\"1\" /><path clip-path=\"url(#clip020)\" d=\"M2112.59 1392.43 L2112.59 1394.51 L2093.01 1394.51 Q2093.29 1398.91 2095.65 1401.22 Q2098.03 1403.52 2102.27 1403.52 Q2104.72 1403.52 2107.01 1402.91 Q2109.33 1402.31 2111.6 1401.11 L2111.6 1405.14 Q2109.3 1406.11 2106.9 1406.62 Q2104.49 1407.13 2102.01 1407.13 Q2095.81 1407.13 2092.17 1403.52 Q2088.56 1399.9 2088.56 1393.75 Q2088.56 1387.38 2091.99 1383.65 Q2095.44 1379.9 2101.27 1379.9 Q2106.5 1379.9 2109.54 1383.28 Q2112.59 1386.64 2112.59 1392.43 M2108.33 1391.18 Q2108.29 1387.68 2106.36 1385.6 Q2104.47 1383.52 2101.32 1383.52 Q2097.75 1383.52 2095.6 1385.53 Q2093.47 1387.54 2093.15 1391.2 L2108.33 1391.18 Z\" fill=\"#000000\" fill-rule=\"evenodd\" fill-opacity=\"1\" /><path clip-path=\"url(#clip020)\" d=\"M2136.11 1381.29 L2136.11 1385.32 Q2134.3 1384.4 2132.36 1383.93 Q2130.41 1383.47 2128.33 1383.47 Q2125.16 1383.47 2123.56 1384.44 Q2121.99 1385.41 2121.99 1387.36 Q2121.99 1388.84 2123.12 1389.7 Q2124.26 1390.53 2127.68 1391.29 L2129.14 1391.62 Q2133.68 1392.59 2135.58 1394.37 Q2137.5 1396.13 2137.5 1399.3 Q2137.5 1402.91 2134.63 1405.02 Q2131.78 1407.13 2126.78 1407.13 Q2124.7 1407.13 2122.43 1406.71 Q2120.18 1406.32 2117.68 1405.51 L2117.68 1401.11 Q2120.04 1402.34 2122.34 1402.96 Q2124.63 1403.56 2126.87 1403.56 Q2129.88 1403.56 2131.5 1402.54 Q2133.12 1401.5 2133.12 1399.63 Q2133.12 1397.89 2131.94 1396.96 Q2130.78 1396.04 2126.83 1395.18 L2125.35 1394.84 Q2121.39 1394 2119.63 1392.29 Q2117.87 1390.55 2117.87 1387.54 Q2117.87 1383.89 2120.46 1381.9 Q2123.05 1379.9 2127.82 1379.9 Q2130.18 1379.9 2132.27 1380.25 Q2134.35 1380.6 2136.11 1381.29 Z\" fill=\"#000000\" fill-rule=\"evenodd\" fill-opacity=\"1\" /></svg>\n"
      ]
     },
     "execution_count": 51,
     "metadata": {},
     "output_type": "execute_result"
    }
   ],
   "source": [
    "P, Q = 10, 12\n",
    "x, u = L2_galerkin(P, Q, f)\n",
    "error = u - f.(x)\n",
    "_, xx, _, BB, _ = febasis(P, 100)\n",
    "plot(f, label=\"exact\", title=\"Galerkin error: $(norm(error))\",\n",
    "  xlim=(-1, 1), legend=:bottomright)\n",
    "plot!(xx, BB * u, label=\"Galerkin solution\")\n",
    "scatter!(x, u, marker=:circle, color=:black, label=\"Nodal values\")"
   ]
  },
  {
   "cell_type": "code",
   "execution_count": 53,
   "id": "78f13bca",
   "metadata": {
    "cell_style": "split",
    "hideOutput": true
   },
   "outputs": [
    {
     "data": {
      "image/svg+xml": [
       "<?xml version=\"1.0\" encoding=\"utf-8\"?>\n",
       "<svg xmlns=\"http://www.w3.org/2000/svg\" xmlns:xlink=\"http://www.w3.org/1999/xlink\" width=\"600\" height=\"400\" viewBox=\"0 0 2400 1600\">\n",
       "<defs>\n",
       "  <clipPath id=\"clip100\">\n",
       "    <rect x=\"0\" y=\"0\" width=\"2400\" height=\"1600\"/>\n",
       "  </clipPath>\n",
       "</defs>\n",
       "<path clip-path=\"url(#clip100)\" d=\"\n",
       "M0 1600 L2400 1600 L2400 0 L0 0  Z\n",
       "  \" fill=\"#ffffff\" fill-rule=\"evenodd\" fill-opacity=\"1\"/>\n",
       "<defs>\n",
       "  <clipPath id=\"clip101\">\n",
       "    <rect x=\"480\" y=\"0\" width=\"1681\" height=\"1600\"/>\n",
       "  </clipPath>\n",
       "</defs>\n",
       "<path clip-path=\"url(#clip100)\" d=\"\n",
       "M276.876 1423.18 L2352.76 1423.18 L2352.76 123.472 L276.876 123.472  Z\n",
       "  \" fill=\"#ffffff\" fill-rule=\"evenodd\" fill-opacity=\"1\"/>\n",
       "<defs>\n",
       "  <clipPath id=\"clip102\">\n",
       "    <rect x=\"276\" y=\"123\" width=\"2077\" height=\"1301\"/>\n",
       "  </clipPath>\n",
       "</defs>\n",
       "<polyline clip-path=\"url(#clip102)\" style=\"stroke:#000000; stroke-linecap:butt; stroke-linejoin:round; stroke-width:2; stroke-opacity:0.1; fill:none\" points=\"\n",
       "  304.541,1423.18 304.541,123.472 \n",
       "  \"/>\n",
       "<polyline clip-path=\"url(#clip102)\" style=\"stroke:#000000; stroke-linecap:butt; stroke-linejoin:round; stroke-width:2; stroke-opacity:0.1; fill:none\" points=\"\n",
       "  693.108,1423.18 693.108,123.472 \n",
       "  \"/>\n",
       "<polyline clip-path=\"url(#clip102)\" style=\"stroke:#000000; stroke-linecap:butt; stroke-linejoin:round; stroke-width:2; stroke-opacity:0.1; fill:none\" points=\"\n",
       "  1081.68,1423.18 1081.68,123.472 \n",
       "  \"/>\n",
       "<polyline clip-path=\"url(#clip102)\" style=\"stroke:#000000; stroke-linecap:butt; stroke-linejoin:round; stroke-width:2; stroke-opacity:0.1; fill:none\" points=\"\n",
       "  1470.24,1423.18 1470.24,123.472 \n",
       "  \"/>\n",
       "<polyline clip-path=\"url(#clip102)\" style=\"stroke:#000000; stroke-linecap:butt; stroke-linejoin:round; stroke-width:2; stroke-opacity:0.1; fill:none\" points=\"\n",
       "  1858.81,1423.18 1858.81,123.472 \n",
       "  \"/>\n",
       "<polyline clip-path=\"url(#clip102)\" style=\"stroke:#000000; stroke-linecap:butt; stroke-linejoin:round; stroke-width:2; stroke-opacity:0.1; fill:none\" points=\"\n",
       "  2247.38,1423.18 2247.38,123.472 \n",
       "  \"/>\n",
       "<polyline clip-path=\"url(#clip100)\" style=\"stroke:#000000; stroke-linecap:butt; stroke-linejoin:round; stroke-width:4; stroke-opacity:1; fill:none\" points=\"\n",
       "  276.876,1423.18 2352.76,1423.18 \n",
       "  \"/>\n",
       "<polyline clip-path=\"url(#clip100)\" style=\"stroke:#000000; stroke-linecap:butt; stroke-linejoin:round; stroke-width:4; stroke-opacity:1; fill:none\" points=\"\n",
       "  304.541,1423.18 304.541,1404.28 \n",
       "  \"/>\n",
       "<polyline clip-path=\"url(#clip100)\" style=\"stroke:#000000; stroke-linecap:butt; stroke-linejoin:round; stroke-width:4; stroke-opacity:1; fill:none\" points=\"\n",
       "  693.108,1423.18 693.108,1404.28 \n",
       "  \"/>\n",
       "<polyline clip-path=\"url(#clip100)\" style=\"stroke:#000000; stroke-linecap:butt; stroke-linejoin:round; stroke-width:4; stroke-opacity:1; fill:none\" points=\"\n",
       "  1081.68,1423.18 1081.68,1404.28 \n",
       "  \"/>\n",
       "<polyline clip-path=\"url(#clip100)\" style=\"stroke:#000000; stroke-linecap:butt; stroke-linejoin:round; stroke-width:4; stroke-opacity:1; fill:none\" points=\"\n",
       "  1470.24,1423.18 1470.24,1404.28 \n",
       "  \"/>\n",
       "<polyline clip-path=\"url(#clip100)\" style=\"stroke:#000000; stroke-linecap:butt; stroke-linejoin:round; stroke-width:4; stroke-opacity:1; fill:none\" points=\"\n",
       "  1858.81,1423.18 1858.81,1404.28 \n",
       "  \"/>\n",
       "<polyline clip-path=\"url(#clip100)\" style=\"stroke:#000000; stroke-linecap:butt; stroke-linejoin:round; stroke-width:4; stroke-opacity:1; fill:none\" points=\"\n",
       "  2247.38,1423.18 2247.38,1404.28 \n",
       "  \"/>\n",
       "<path clip-path=\"url(#clip100)\" d=\"M304.541 1454.1 Q300.93 1454.1 299.102 1457.66 Q297.296 1461.2 297.296 1468.33 Q297.296 1475.44 299.102 1479.01 Q300.93 1482.55 304.541 1482.55 Q308.176 1482.55 309.981 1479.01 Q311.81 1475.44 311.81 1468.33 Q311.81 1461.2 309.981 1457.66 Q308.176 1454.1 304.541 1454.1 M304.541 1450.39 Q310.352 1450.39 313.407 1455 Q316.486 1459.58 316.486 1468.33 Q316.486 1477.06 313.407 1481.67 Q310.352 1486.25 304.541 1486.25 Q298.731 1486.25 295.653 1481.67 Q292.597 1477.06 292.597 1468.33 Q292.597 1459.58 295.653 1455 Q298.731 1450.39 304.541 1450.39 Z\" fill=\"#000000\" fill-rule=\"evenodd\" fill-opacity=\"1\" /><path clip-path=\"url(#clip100)\" d=\"M667.808 1451.02 L686.164 1451.02 L686.164 1454.96 L672.09 1454.96 L672.09 1463.43 Q673.109 1463.08 674.127 1462.92 Q675.146 1462.73 676.164 1462.73 Q681.951 1462.73 685.331 1465.9 Q688.71 1469.08 688.71 1474.49 Q688.71 1480.07 685.238 1483.17 Q681.766 1486.25 675.447 1486.25 Q673.271 1486.25 671.002 1485.88 Q668.757 1485.51 666.349 1484.77 L666.349 1480.07 Q668.433 1481.2 670.655 1481.76 Q672.877 1482.32 675.354 1482.32 Q679.359 1482.32 681.697 1480.21 Q684.034 1478.1 684.034 1474.49 Q684.034 1470.88 681.697 1468.77 Q679.359 1466.67 675.354 1466.67 Q673.479 1466.67 671.604 1467.08 Q669.752 1467.5 667.808 1468.38 L667.808 1451.02 Z\" fill=\"#000000\" fill-rule=\"evenodd\" fill-opacity=\"1\" /><path clip-path=\"url(#clip100)\" d=\"M707.923 1454.1 Q704.312 1454.1 702.483 1457.66 Q700.678 1461.2 700.678 1468.33 Q700.678 1475.44 702.483 1479.01 Q704.312 1482.55 707.923 1482.55 Q711.557 1482.55 713.363 1479.01 Q715.192 1475.44 715.192 1468.33 Q715.192 1461.2 713.363 1457.66 Q711.557 1454.1 707.923 1454.1 M707.923 1450.39 Q713.733 1450.39 716.789 1455 Q719.868 1459.58 719.868 1468.33 Q719.868 1477.06 716.789 1481.67 Q713.733 1486.25 707.923 1486.25 Q702.113 1486.25 699.034 1481.67 Q695.979 1477.06 695.979 1468.33 Q695.979 1459.58 699.034 1455 Q702.113 1450.39 707.923 1450.39 Z\" fill=\"#000000\" fill-rule=\"evenodd\" fill-opacity=\"1\" /><path clip-path=\"url(#clip100)\" d=\"M1041.28 1481.64 L1048.92 1481.64 L1048.92 1455.28 L1040.61 1456.95 L1040.61 1452.69 L1048.87 1451.02 L1053.55 1451.02 L1053.55 1481.64 L1061.19 1481.64 L1061.19 1485.58 L1041.28 1485.58 L1041.28 1481.64 Z\" fill=\"#000000\" fill-rule=\"evenodd\" fill-opacity=\"1\" /><path clip-path=\"url(#clip100)\" d=\"M1080.63 1454.1 Q1077.02 1454.1 1075.19 1457.66 Q1073.39 1461.2 1073.39 1468.33 Q1073.39 1475.44 1075.19 1479.01 Q1077.02 1482.55 1080.63 1482.55 Q1084.27 1482.55 1086.07 1479.01 Q1087.9 1475.44 1087.9 1468.33 Q1087.9 1461.2 1086.07 1457.66 Q1084.27 1454.1 1080.63 1454.1 M1080.63 1450.39 Q1086.44 1450.39 1089.5 1455 Q1092.58 1459.58 1092.58 1468.33 Q1092.58 1477.06 1089.5 1481.67 Q1086.44 1486.25 1080.63 1486.25 Q1074.82 1486.25 1071.74 1481.67 Q1068.69 1477.06 1068.69 1468.33 Q1068.69 1459.58 1071.74 1455 Q1074.82 1450.39 1080.63 1450.39 Z\" fill=\"#000000\" fill-rule=\"evenodd\" fill-opacity=\"1\" /><path clip-path=\"url(#clip100)\" d=\"M1110.8 1454.1 Q1107.18 1454.1 1105.36 1457.66 Q1103.55 1461.2 1103.55 1468.33 Q1103.55 1475.44 1105.36 1479.01 Q1107.18 1482.55 1110.8 1482.55 Q1114.43 1482.55 1116.24 1479.01 Q1118.06 1475.44 1118.06 1468.33 Q1118.06 1461.2 1116.24 1457.66 Q1114.43 1454.1 1110.8 1454.1 M1110.8 1450.39 Q1116.61 1450.39 1119.66 1455 Q1122.74 1459.58 1122.74 1468.33 Q1122.74 1477.06 1119.66 1481.67 Q1116.61 1486.25 1110.8 1486.25 Q1104.99 1486.25 1101.91 1481.67 Q1098.85 1477.06 1098.85 1468.33 Q1098.85 1459.58 1101.91 1455 Q1104.99 1450.39 1110.8 1450.39 Z\" fill=\"#000000\" fill-rule=\"evenodd\" fill-opacity=\"1\" /><path clip-path=\"url(#clip100)\" d=\"M1429.85 1481.64 L1437.49 1481.64 L1437.49 1455.28 L1429.18 1456.95 L1429.18 1452.69 L1437.44 1451.02 L1442.12 1451.02 L1442.12 1481.64 L1449.76 1481.64 L1449.76 1485.58 L1429.85 1485.58 L1429.85 1481.64 Z\" fill=\"#000000\" fill-rule=\"evenodd\" fill-opacity=\"1\" /><path clip-path=\"url(#clip100)\" d=\"M1459.25 1451.02 L1477.6 1451.02 L1477.6 1454.96 L1463.53 1454.96 L1463.53 1463.43 Q1464.55 1463.08 1465.57 1462.92 Q1466.59 1462.73 1467.6 1462.73 Q1473.39 1462.73 1476.77 1465.9 Q1480.15 1469.08 1480.15 1474.49 Q1480.15 1480.07 1476.68 1483.17 Q1473.21 1486.25 1466.89 1486.25 Q1464.71 1486.25 1462.44 1485.88 Q1460.2 1485.51 1457.79 1484.77 L1457.79 1480.07 Q1459.87 1481.2 1462.09 1481.76 Q1464.32 1482.32 1466.79 1482.32 Q1470.8 1482.32 1473.14 1480.21 Q1475.47 1478.1 1475.47 1474.49 Q1475.47 1470.88 1473.14 1468.77 Q1470.8 1466.67 1466.79 1466.67 Q1464.92 1466.67 1463.04 1467.08 Q1461.19 1467.5 1459.25 1468.38 L1459.25 1451.02 Z\" fill=\"#000000\" fill-rule=\"evenodd\" fill-opacity=\"1\" /><path clip-path=\"url(#clip100)\" d=\"M1499.36 1454.1 Q1495.75 1454.1 1493.92 1457.66 Q1492.12 1461.2 1492.12 1468.33 Q1492.12 1475.44 1493.92 1479.01 Q1495.75 1482.55 1499.36 1482.55 Q1503 1482.55 1504.8 1479.01 Q1506.63 1475.44 1506.63 1468.33 Q1506.63 1461.2 1504.8 1457.66 Q1503 1454.1 1499.36 1454.1 M1499.36 1450.39 Q1505.17 1450.39 1508.23 1455 Q1511.31 1459.58 1511.31 1468.33 Q1511.31 1477.06 1508.23 1481.67 Q1505.17 1486.25 1499.36 1486.25 Q1493.55 1486.25 1490.47 1481.67 Q1487.42 1477.06 1487.42 1468.33 Q1487.42 1459.58 1490.47 1455 Q1493.55 1450.39 1499.36 1450.39 Z\" fill=\"#000000\" fill-rule=\"evenodd\" fill-opacity=\"1\" /><path clip-path=\"url(#clip100)\" d=\"M1822.5 1481.64 L1838.82 1481.64 L1838.82 1485.58 L1816.88 1485.58 L1816.88 1481.64 Q1819.54 1478.89 1824.12 1474.26 Q1828.73 1469.61 1829.91 1468.27 Q1832.15 1465.74 1833.03 1464.01 Q1833.94 1462.25 1833.94 1460.56 Q1833.94 1457.8 1831.99 1456.07 Q1830.07 1454.33 1826.97 1454.33 Q1824.77 1454.33 1822.32 1455.09 Q1819.89 1455.86 1817.11 1457.41 L1817.11 1452.69 Q1819.93 1451.55 1822.39 1450.97 Q1824.84 1450.39 1826.88 1450.39 Q1832.25 1450.39 1835.44 1453.08 Q1838.64 1455.77 1838.64 1460.26 Q1838.64 1462.39 1837.83 1464.31 Q1837.04 1466.2 1834.93 1468.8 Q1834.35 1469.47 1831.25 1472.69 Q1828.15 1475.88 1822.5 1481.64 Z\" fill=\"#000000\" fill-rule=\"evenodd\" fill-opacity=\"1\" /><path clip-path=\"url(#clip100)\" d=\"M1858.64 1454.1 Q1855.02 1454.1 1853.2 1457.66 Q1851.39 1461.2 1851.39 1468.33 Q1851.39 1475.44 1853.2 1479.01 Q1855.02 1482.55 1858.64 1482.55 Q1862.27 1482.55 1864.08 1479.01 Q1865.9 1475.44 1865.9 1468.33 Q1865.9 1461.2 1864.08 1457.66 Q1862.27 1454.1 1858.64 1454.1 M1858.64 1450.39 Q1864.45 1450.39 1867.5 1455 Q1870.58 1459.58 1870.58 1468.33 Q1870.58 1477.06 1867.5 1481.67 Q1864.45 1486.25 1858.64 1486.25 Q1852.83 1486.25 1849.75 1481.67 Q1846.69 1477.06 1846.69 1468.33 Q1846.69 1459.58 1849.75 1455 Q1852.83 1450.39 1858.64 1450.39 Z\" fill=\"#000000\" fill-rule=\"evenodd\" fill-opacity=\"1\" /><path clip-path=\"url(#clip100)\" d=\"M1888.8 1454.1 Q1885.19 1454.1 1883.36 1457.66 Q1881.55 1461.2 1881.55 1468.33 Q1881.55 1475.44 1883.36 1479.01 Q1885.19 1482.55 1888.8 1482.55 Q1892.43 1482.55 1894.24 1479.01 Q1896.07 1475.44 1896.07 1468.33 Q1896.07 1461.2 1894.24 1457.66 Q1892.43 1454.1 1888.8 1454.1 M1888.8 1450.39 Q1894.61 1450.39 1897.66 1455 Q1900.74 1459.58 1900.74 1468.33 Q1900.74 1477.06 1897.66 1481.67 Q1894.61 1486.25 1888.8 1486.25 Q1882.99 1486.25 1879.91 1481.67 Q1876.85 1477.06 1876.85 1468.33 Q1876.85 1459.58 1879.91 1455 Q1882.99 1450.39 1888.8 1450.39 Z\" fill=\"#000000\" fill-rule=\"evenodd\" fill-opacity=\"1\" /><path clip-path=\"url(#clip100)\" d=\"M2211.07 1481.64 L2227.39 1481.64 L2227.39 1485.58 L2205.44 1485.58 L2205.44 1481.64 Q2208.11 1478.89 2212.69 1474.26 Q2217.3 1469.61 2218.48 1468.27 Q2220.72 1465.74 2221.6 1464.01 Q2222.5 1462.25 2222.5 1460.56 Q2222.5 1457.8 2220.56 1456.07 Q2218.64 1454.33 2215.54 1454.33 Q2213.34 1454.33 2210.88 1455.09 Q2208.45 1455.86 2205.68 1457.41 L2205.68 1452.69 Q2208.5 1451.55 2210.95 1450.97 Q2213.41 1450.39 2215.44 1450.39 Q2220.81 1450.39 2224.01 1453.08 Q2227.2 1455.77 2227.2 1460.26 Q2227.2 1462.39 2226.39 1464.31 Q2225.61 1466.2 2223.5 1468.8 Q2222.92 1469.47 2219.82 1472.69 Q2216.72 1475.88 2211.07 1481.64 Z\" fill=\"#000000\" fill-rule=\"evenodd\" fill-opacity=\"1\" /><path clip-path=\"url(#clip100)\" d=\"M2237.25 1451.02 L2255.61 1451.02 L2255.61 1454.96 L2241.53 1454.96 L2241.53 1463.43 Q2242.55 1463.08 2243.57 1462.92 Q2244.59 1462.73 2245.61 1462.73 Q2251.39 1462.73 2254.77 1465.9 Q2258.15 1469.08 2258.15 1474.49 Q2258.15 1480.07 2254.68 1483.17 Q2251.21 1486.25 2244.89 1486.25 Q2242.71 1486.25 2240.44 1485.88 Q2238.2 1485.51 2235.79 1484.77 L2235.79 1480.07 Q2237.87 1481.2 2240.1 1481.76 Q2242.32 1482.32 2244.8 1482.32 Q2248.8 1482.32 2251.14 1480.21 Q2253.48 1478.1 2253.48 1474.49 Q2253.48 1470.88 2251.14 1468.77 Q2248.8 1466.67 2244.8 1466.67 Q2242.92 1466.67 2241.05 1467.08 Q2239.19 1467.5 2237.25 1468.38 L2237.25 1451.02 Z\" fill=\"#000000\" fill-rule=\"evenodd\" fill-opacity=\"1\" /><path clip-path=\"url(#clip100)\" d=\"M2277.36 1454.1 Q2273.75 1454.1 2271.93 1457.66 Q2270.12 1461.2 2270.12 1468.33 Q2270.12 1475.44 2271.93 1479.01 Q2273.75 1482.55 2277.36 1482.55 Q2281 1482.55 2282.8 1479.01 Q2284.63 1475.44 2284.63 1468.33 Q2284.63 1461.2 2282.8 1457.66 Q2281 1454.1 2277.36 1454.1 M2277.36 1450.39 Q2283.17 1450.39 2286.23 1455 Q2289.31 1459.58 2289.31 1468.33 Q2289.31 1477.06 2286.23 1481.67 Q2283.17 1486.25 2277.36 1486.25 Q2271.55 1486.25 2268.48 1481.67 Q2265.42 1477.06 2265.42 1468.33 Q2265.42 1459.58 2268.48 1455 Q2271.55 1450.39 2277.36 1450.39 Z\" fill=\"#000000\" fill-rule=\"evenodd\" fill-opacity=\"1\" /><path clip-path=\"url(#clip100)\" d=\"M1069.78 1546.53 L1069.78 1568.04 L1063.93 1568.04 L1063.93 1546.72 Q1063.93 1541.66 1061.95 1539.14 Q1059.98 1536.63 1056.03 1536.63 Q1051.29 1536.63 1048.55 1539.65 Q1045.82 1542.68 1045.82 1547.9 L1045.82 1568.04 L1039.93 1568.04 L1039.93 1532.4 L1045.82 1532.4 L1045.82 1537.93 Q1047.92 1534.72 1050.75 1533.13 Q1053.61 1531.54 1057.34 1531.54 Q1063.48 1531.54 1066.63 1535.36 Q1069.78 1539.14 1069.78 1546.53 Z\" fill=\"#000000\" fill-rule=\"evenodd\" fill-opacity=\"1\" /><path clip-path=\"url(#clip100)\" d=\"M1080.86 1553.98 L1080.86 1532.4 L1086.72 1532.4 L1086.72 1553.75 Q1086.72 1558.81 1088.69 1561.36 Q1090.66 1563.87 1094.61 1563.87 Q1099.35 1563.87 1102.09 1560.85 Q1104.86 1557.83 1104.86 1552.61 L1104.86 1532.4 L1110.72 1532.4 L1110.72 1568.04 L1104.86 1568.04 L1104.86 1562.57 Q1102.73 1565.82 1099.89 1567.41 Q1097.09 1568.97 1093.37 1568.97 Q1087.23 1568.97 1084.04 1565.15 Q1080.86 1561.33 1080.86 1553.98 M1095.6 1531.54 L1095.6 1531.54 Z\" fill=\"#000000\" fill-rule=\"evenodd\" fill-opacity=\"1\" /><path clip-path=\"url(#clip100)\" d=\"M1150.53 1539.24 Q1152.73 1535.29 1155.78 1533.41 Q1158.84 1531.54 1162.98 1531.54 Q1168.55 1531.54 1171.57 1535.45 Q1174.6 1539.33 1174.6 1546.53 L1174.6 1568.04 L1168.71 1568.04 L1168.71 1546.72 Q1168.71 1541.59 1166.89 1539.11 Q1165.08 1536.63 1161.35 1536.63 Q1156.8 1536.63 1154.16 1539.65 Q1151.52 1542.68 1151.52 1547.9 L1151.52 1568.04 L1145.63 1568.04 L1145.63 1546.72 Q1145.63 1541.56 1143.82 1539.11 Q1142 1536.63 1138.22 1536.63 Q1133.73 1536.63 1131.09 1539.68 Q1128.44 1542.71 1128.44 1547.9 L1128.44 1568.04 L1122.56 1568.04 L1122.56 1532.4 L1128.44 1532.4 L1128.44 1537.93 Q1130.45 1534.66 1133.25 1533.1 Q1136.05 1531.54 1139.9 1531.54 Q1143.79 1531.54 1146.49 1533.51 Q1149.23 1535.48 1150.53 1539.24 Z\" fill=\"#000000\" fill-rule=\"evenodd\" fill-opacity=\"1\" /><path clip-path=\"url(#clip100)\" d=\"M1211.87 1550.25 Q1211.87 1543.79 1209.19 1540.13 Q1206.55 1536.44 1201.9 1536.44 Q1197.26 1536.44 1194.58 1540.13 Q1191.94 1543.79 1191.94 1550.25 Q1191.94 1556.71 1194.58 1560.4 Q1197.26 1564.07 1201.9 1564.07 Q1206.55 1564.07 1209.19 1560.4 Q1211.87 1556.71 1211.87 1550.25 M1191.94 1537.81 Q1193.79 1534.62 1196.59 1533.1 Q1199.42 1531.54 1203.34 1531.54 Q1209.83 1531.54 1213.87 1536.69 Q1217.95 1541.85 1217.95 1550.25 Q1217.95 1558.65 1213.87 1563.81 Q1209.83 1568.97 1203.34 1568.97 Q1199.42 1568.97 1196.59 1567.44 Q1193.79 1565.88 1191.94 1562.7 L1191.94 1568.04 L1186.05 1568.04 L1186.05 1518.52 L1191.94 1518.52 L1191.94 1537.81 Z\" fill=\"#000000\" fill-rule=\"evenodd\" fill-opacity=\"1\" /><path clip-path=\"url(#clip100)\" d=\"M1258.15 1548.76 L1258.15 1551.62 L1231.22 1551.62 Q1231.6 1557.67 1234.85 1560.85 Q1238.12 1564 1243.95 1564 Q1247.32 1564 1250.47 1563.17 Q1253.66 1562.35 1256.78 1560.69 L1256.78 1566.23 Q1253.63 1567.57 1250.32 1568.27 Q1247.01 1568.97 1243.6 1568.97 Q1235.07 1568.97 1230.07 1564 Q1225.11 1559.04 1225.11 1550.57 Q1225.11 1541.82 1229.82 1536.69 Q1234.56 1531.54 1242.58 1531.54 Q1249.77 1531.54 1253.94 1536.18 Q1258.15 1540.8 1258.15 1548.76 M1252.29 1547.04 Q1252.22 1542.23 1249.58 1539.37 Q1246.97 1536.5 1242.64 1536.5 Q1237.74 1536.5 1234.78 1539.27 Q1231.85 1542.04 1231.41 1547.07 L1252.29 1547.04 Z\" fill=\"#000000\" fill-rule=\"evenodd\" fill-opacity=\"1\" /><path clip-path=\"url(#clip100)\" d=\"M1288.41 1537.87 Q1287.43 1537.3 1286.25 1537.04 Q1285.1 1536.76 1283.7 1536.76 Q1278.74 1536.76 1276.06 1540 Q1273.42 1543.22 1273.42 1549.27 L1273.42 1568.04 L1267.53 1568.04 L1267.53 1532.4 L1273.42 1532.4 L1273.42 1537.93 Q1275.27 1534.69 1278.23 1533.13 Q1281.19 1531.54 1285.42 1531.54 Q1286.03 1531.54 1286.76 1531.63 Q1287.49 1531.7 1288.38 1531.85 L1288.41 1537.87 Z\" fill=\"#000000\" fill-rule=\"evenodd\" fill-opacity=\"1\" /><path clip-path=\"url(#clip100)\" d=\"M1329.09 1536.5 Q1324.38 1536.5 1321.64 1540.19 Q1318.91 1543.85 1318.91 1550.25 Q1318.91 1556.65 1321.61 1560.34 Q1324.35 1564 1329.09 1564 Q1333.77 1564 1336.51 1560.31 Q1339.24 1556.62 1339.24 1550.25 Q1339.24 1543.92 1336.51 1540.23 Q1333.77 1536.5 1329.09 1536.5 M1329.09 1531.54 Q1336.73 1531.54 1341.09 1536.5 Q1345.45 1541.47 1345.45 1550.25 Q1345.45 1559 1341.09 1564 Q1336.73 1568.97 1329.09 1568.97 Q1321.42 1568.97 1317.06 1564 Q1312.73 1559 1312.73 1550.25 Q1312.73 1541.47 1317.06 1536.5 Q1321.42 1531.54 1329.09 1531.54 Z\" fill=\"#000000\" fill-rule=\"evenodd\" fill-opacity=\"1\" /><path clip-path=\"url(#clip100)\" d=\"M1373.21 1518.52 L1373.21 1523.39 L1367.6 1523.39 Q1364.45 1523.39 1363.21 1524.66 Q1362 1525.93 1362 1529.24 L1362 1532.4 L1371.65 1532.4 L1371.65 1536.95 L1362 1536.95 L1362 1568.04 L1356.11 1568.04 L1356.11 1536.95 L1350.51 1536.95 L1350.51 1532.4 L1356.11 1532.4 L1356.11 1529.91 Q1356.11 1523.96 1358.88 1521.26 Q1361.65 1518.52 1367.67 1518.52 L1373.21 1518.52 Z\" fill=\"#000000\" fill-rule=\"evenodd\" fill-opacity=\"1\" /><path clip-path=\"url(#clip100)\" d=\"M1404.49 1562.7 L1404.49 1581.6 L1398.6 1581.6 L1398.6 1532.4 L1404.49 1532.4 L1404.49 1537.81 Q1406.34 1534.62 1409.14 1533.1 Q1411.97 1531.54 1415.89 1531.54 Q1422.38 1531.54 1426.42 1536.69 Q1430.5 1541.85 1430.5 1550.25 Q1430.5 1558.65 1426.42 1563.81 Q1422.38 1568.97 1415.89 1568.97 Q1411.97 1568.97 1409.14 1567.44 Q1406.34 1565.88 1404.49 1562.7 M1424.42 1550.25 Q1424.42 1543.79 1421.74 1540.13 Q1419.1 1536.44 1414.45 1536.44 Q1409.81 1536.44 1407.13 1540.13 Q1404.49 1543.79 1404.49 1550.25 Q1404.49 1556.71 1407.13 1560.4 Q1409.81 1564.07 1414.45 1564.07 Q1419.1 1564.07 1421.74 1560.4 Q1424.42 1556.71 1424.42 1550.25 Z\" fill=\"#000000\" fill-rule=\"evenodd\" fill-opacity=\"1\" /><path clip-path=\"url(#clip100)\" d=\"M1454.02 1536.5 Q1449.31 1536.5 1446.57 1540.19 Q1443.83 1543.85 1443.83 1550.25 Q1443.83 1556.65 1446.54 1560.34 Q1449.28 1564 1454.02 1564 Q1458.7 1564 1461.43 1560.31 Q1464.17 1556.62 1464.17 1550.25 Q1464.17 1543.92 1461.43 1540.23 Q1458.7 1536.5 1454.02 1536.5 M1454.02 1531.54 Q1461.66 1531.54 1466.02 1536.5 Q1470.38 1541.47 1470.38 1550.25 Q1470.38 1559 1466.02 1564 Q1461.66 1568.97 1454.02 1568.97 Q1446.35 1568.97 1441.99 1564 Q1437.66 1559 1437.66 1550.25 Q1437.66 1541.47 1441.99 1536.5 Q1446.35 1531.54 1454.02 1531.54 Z\" fill=\"#000000\" fill-rule=\"evenodd\" fill-opacity=\"1\" /><path clip-path=\"url(#clip100)\" d=\"M1480.09 1532.4 L1485.94 1532.4 L1485.94 1568.04 L1480.09 1568.04 L1480.09 1532.4 M1480.09 1518.52 L1485.94 1518.52 L1485.94 1525.93 L1480.09 1525.93 L1480.09 1518.52 Z\" fill=\"#000000\" fill-rule=\"evenodd\" fill-opacity=\"1\" /><path clip-path=\"url(#clip100)\" d=\"M1527.83 1546.53 L1527.83 1568.04 L1521.97 1568.04 L1521.97 1546.72 Q1521.97 1541.66 1520 1539.14 Q1518.02 1536.63 1514.08 1536.63 Q1509.34 1536.63 1506.6 1539.65 Q1503.86 1542.68 1503.86 1547.9 L1503.86 1568.04 L1497.97 1568.04 L1497.97 1532.4 L1503.86 1532.4 L1503.86 1537.93 Q1505.96 1534.72 1508.79 1533.13 Q1511.66 1531.54 1515.38 1531.54 Q1521.53 1531.54 1524.68 1535.36 Q1527.83 1539.14 1527.83 1546.53 Z\" fill=\"#000000\" fill-rule=\"evenodd\" fill-opacity=\"1\" /><path clip-path=\"url(#clip100)\" d=\"M1545.3 1522.27 L1545.3 1532.4 L1557.37 1532.4 L1557.37 1536.95 L1545.3 1536.95 L1545.3 1556.3 Q1545.3 1560.66 1546.48 1561.9 Q1547.69 1563.14 1551.35 1563.14 L1557.37 1563.14 L1557.37 1568.04 L1551.35 1568.04 Q1544.57 1568.04 1541.99 1565.53 Q1539.41 1562.98 1539.41 1556.3 L1539.41 1536.95 L1535.12 1536.95 L1535.12 1532.4 L1539.41 1532.4 L1539.41 1522.27 L1545.3 1522.27 Z\" fill=\"#000000\" fill-rule=\"evenodd\" fill-opacity=\"1\" /><path clip-path=\"url(#clip100)\" d=\"M1587.79 1533.45 L1587.79 1538.98 Q1585.31 1537.71 1582.64 1537.07 Q1579.96 1536.44 1577.1 1536.44 Q1572.74 1536.44 1570.54 1537.77 Q1568.38 1539.11 1568.38 1541.79 Q1568.38 1543.82 1569.94 1545 Q1571.5 1546.15 1576.21 1547.2 L1578.21 1547.64 Q1584.45 1548.98 1587.06 1551.43 Q1589.7 1553.85 1589.7 1558.21 Q1589.7 1563.17 1585.76 1566.07 Q1581.84 1568.97 1574.97 1568.97 Q1572.1 1568.97 1568.98 1568.39 Q1565.9 1567.85 1562.46 1566.74 L1562.46 1560.69 Q1565.7 1562.38 1568.86 1563.24 Q1572.01 1564.07 1575.09 1564.07 Q1579.23 1564.07 1581.46 1562.66 Q1583.69 1561.23 1583.69 1558.65 Q1583.69 1556.27 1582.06 1554.99 Q1580.47 1553.72 1575.03 1552.54 L1572.99 1552.07 Q1567.55 1550.92 1565.13 1548.56 Q1562.71 1546.18 1562.71 1542.04 Q1562.71 1537.01 1566.28 1534.27 Q1569.84 1531.54 1576.4 1531.54 Q1579.65 1531.54 1582.51 1532.01 Q1585.37 1532.49 1587.79 1533.45 Z\" fill=\"#000000\" fill-rule=\"evenodd\" fill-opacity=\"1\" /><polyline clip-path=\"url(#clip102)\" style=\"stroke:#000000; stroke-linecap:butt; stroke-linejoin:round; stroke-width:2; stroke-opacity:0.1; fill:none\" points=\"\n",
       "  276.876,1044.43 2352.76,1044.43 \n",
       "  \"/>\n",
       "<polyline clip-path=\"url(#clip102)\" style=\"stroke:#000000; stroke-linecap:butt; stroke-linejoin:round; stroke-width:2; stroke-opacity:0.1; fill:none\" points=\"\n",
       "  276.876,596.362 2352.76,596.362 \n",
       "  \"/>\n",
       "<polyline clip-path=\"url(#clip102)\" style=\"stroke:#000000; stroke-linecap:butt; stroke-linejoin:round; stroke-width:2; stroke-opacity:0.1; fill:none\" points=\"\n",
       "  276.876,148.297 2352.76,148.297 \n",
       "  \"/>\n",
       "<polyline clip-path=\"url(#clip100)\" style=\"stroke:#000000; stroke-linecap:butt; stroke-linejoin:round; stroke-width:4; stroke-opacity:1; fill:none\" points=\"\n",
       "  276.876,1423.18 276.876,123.472 \n",
       "  \"/>\n",
       "<polyline clip-path=\"url(#clip100)\" style=\"stroke:#000000; stroke-linecap:butt; stroke-linejoin:round; stroke-width:4; stroke-opacity:1; fill:none\" points=\"\n",
       "  276.876,1044.43 295.773,1044.43 \n",
       "  \"/>\n",
       "<polyline clip-path=\"url(#clip100)\" style=\"stroke:#000000; stroke-linecap:butt; stroke-linejoin:round; stroke-width:4; stroke-opacity:1; fill:none\" points=\"\n",
       "  276.876,596.362 295.773,596.362 \n",
       "  \"/>\n",
       "<polyline clip-path=\"url(#clip100)\" style=\"stroke:#000000; stroke-linecap:butt; stroke-linejoin:round; stroke-width:4; stroke-opacity:1; fill:none\" points=\"\n",
       "  276.876,148.297 295.773,148.297 \n",
       "  \"/>\n",
       "<path clip-path=\"url(#clip100)\" d=\"M114.931 1064.22 L122.57 1064.22 L122.57 1037.85 L114.26 1039.52 L114.26 1035.26 L122.524 1033.59 L127.2 1033.59 L127.2 1064.22 L134.839 1064.22 L134.839 1068.15 L114.931 1068.15 L114.931 1064.22 Z\" fill=\"#000000\" fill-rule=\"evenodd\" fill-opacity=\"1\" /><path clip-path=\"url(#clip100)\" d=\"M154.283 1036.67 Q150.672 1036.67 148.843 1040.24 Q147.038 1043.78 147.038 1050.91 Q147.038 1058.02 148.843 1061.58 Q150.672 1065.12 154.283 1065.12 Q157.917 1065.12 159.723 1061.58 Q161.552 1058.02 161.552 1050.91 Q161.552 1043.78 159.723 1040.24 Q157.917 1036.67 154.283 1036.67 M154.283 1032.97 Q160.093 1032.97 163.149 1037.58 Q166.227 1042.16 166.227 1050.91 Q166.227 1059.64 163.149 1064.24 Q160.093 1068.83 154.283 1068.83 Q148.473 1068.83 145.394 1064.24 Q142.339 1059.64 142.339 1050.91 Q142.339 1042.16 145.394 1037.58 Q148.473 1032.97 154.283 1032.97 Z\" fill=\"#000000\" fill-rule=\"evenodd\" fill-opacity=\"1\" /><path clip-path=\"url(#clip100)\" d=\"M166.227 1027.07 L190.339 1027.07 L190.339 1030.27 L166.227 1030.27 L166.227 1027.07 Z\" fill=\"#000000\" fill-rule=\"evenodd\" fill-opacity=\"1\" /><path clip-path=\"url(#clip100)\" d=\"M199.197 1037.55 L205.404 1037.55 L205.404 1016.12 L198.652 1017.48 L198.652 1014.02 L205.366 1012.66 L209.166 1012.66 L209.166 1037.55 L215.372 1037.55 L215.372 1040.74 L199.197 1040.74 L199.197 1037.55 Z\" fill=\"#000000\" fill-rule=\"evenodd\" fill-opacity=\"1\" /><path clip-path=\"url(#clip100)\" d=\"M231.171 1015.17 Q228.237 1015.17 226.751 1018.06 Q225.284 1020.94 225.284 1026.73 Q225.284 1032.51 226.751 1035.4 Q228.237 1038.28 231.171 1038.28 Q234.124 1038.28 235.591 1035.4 Q237.076 1032.51 237.076 1026.73 Q237.076 1020.94 235.591 1018.06 Q234.124 1015.17 231.171 1015.17 M231.171 1012.16 Q235.891 1012.16 238.374 1015.9 Q240.876 1019.62 240.876 1026.73 Q240.876 1033.82 238.374 1037.57 Q235.891 1041.29 231.171 1041.29 Q226.45 1041.29 223.949 1037.57 Q221.466 1033.82 221.466 1026.73 Q221.466 1019.62 223.949 1015.9 Q226.45 1012.16 231.171 1012.16 Z\" fill=\"#000000\" fill-rule=\"evenodd\" fill-opacity=\"1\" /><path clip-path=\"url(#clip100)\" d=\"M140.247 616.155 L147.886 616.155 L147.886 589.789 L139.575 591.456 L139.575 587.197 L147.839 585.53 L152.515 585.53 L152.515 616.155 L160.154 616.155 L160.154 620.09 L140.247 620.09 L140.247 616.155 Z\" fill=\"#000000\" fill-rule=\"evenodd\" fill-opacity=\"1\" /><path clip-path=\"url(#clip100)\" d=\"M179.598 588.609 Q175.987 588.609 174.159 592.173 Q172.353 595.715 172.353 602.845 Q172.353 609.951 174.159 613.516 Q175.987 617.057 179.598 617.057 Q183.233 617.057 185.038 613.516 Q186.867 609.951 186.867 602.845 Q186.867 595.715 185.038 592.173 Q183.233 588.609 179.598 588.609 M179.598 584.905 Q185.409 584.905 188.464 589.511 Q191.543 594.095 191.543 602.845 Q191.543 611.571 188.464 616.178 Q185.409 620.761 179.598 620.761 Q173.788 620.761 170.71 616.178 Q167.654 611.571 167.654 602.845 Q167.654 594.095 170.71 589.511 Q173.788 584.905 179.598 584.905 Z\" fill=\"#000000\" fill-rule=\"evenodd\" fill-opacity=\"1\" /><path clip-path=\"url(#clip100)\" d=\"M191.543 579.006 L215.654 579.006 L215.654 582.204 L191.543 582.204 L191.543 579.006 Z\" fill=\"#000000\" fill-rule=\"evenodd\" fill-opacity=\"1\" /><path clip-path=\"url(#clip100)\" d=\"M223.892 564.599 L238.807 564.599 L238.807 567.797 L227.372 567.797 L227.372 574.68 Q228.199 574.398 229.027 574.267 Q229.854 574.116 230.682 574.116 Q235.384 574.116 238.13 576.693 Q240.876 579.27 240.876 583.671 Q240.876 588.203 238.054 590.723 Q235.233 593.225 230.099 593.225 Q228.331 593.225 226.488 592.924 Q224.663 592.623 222.707 592.021 L222.707 588.203 Q224.4 589.125 226.205 589.576 Q228.011 590.028 230.023 590.028 Q233.277 590.028 235.177 588.316 Q237.076 586.605 237.076 583.671 Q237.076 580.737 235.177 579.025 Q233.277 577.314 230.023 577.314 Q228.5 577.314 226.977 577.652 Q225.472 577.991 223.892 578.705 L223.892 564.599 Z\" fill=\"#000000\" fill-rule=\"evenodd\" fill-opacity=\"1\" /><path clip-path=\"url(#clip100)\" d=\"M170.17 168.09 L177.809 168.09 L177.809 141.724 L169.499 143.391 L169.499 139.132 L177.762 137.465 L182.438 137.465 L182.438 168.09 L190.077 168.09 L190.077 172.025 L170.17 172.025 L170.17 168.09 Z\" fill=\"#000000\" fill-rule=\"evenodd\" fill-opacity=\"1\" /><path clip-path=\"url(#clip100)\" d=\"M209.522 140.544 Q205.91 140.544 204.082 144.109 Q202.276 147.65 202.276 154.78 Q202.276 161.886 204.082 165.451 Q205.91 168.993 209.522 168.993 Q213.156 168.993 214.961 165.451 Q216.79 161.886 216.79 154.78 Q216.79 147.65 214.961 144.109 Q213.156 140.544 209.522 140.544 M209.522 136.84 Q215.332 136.84 218.387 141.447 Q221.466 146.03 221.466 154.78 Q221.466 163.507 218.387 168.113 Q215.332 172.696 209.522 172.696 Q203.711 172.696 200.633 168.113 Q197.577 163.507 197.577 154.78 Q197.577 146.03 200.633 141.447 Q203.711 136.84 209.522 136.84 Z\" fill=\"#000000\" fill-rule=\"evenodd\" fill-opacity=\"1\" /><path clip-path=\"url(#clip100)\" d=\"M231.171 119.036 Q228.237 119.036 226.751 121.933 Q225.284 124.81 225.284 130.603 Q225.284 136.377 226.751 139.273 Q228.237 142.151 231.171 142.151 Q234.124 142.151 235.591 139.273 Q237.076 136.377 237.076 130.603 Q237.076 124.81 235.591 121.933 Q234.124 119.036 231.171 119.036 M231.171 116.027 Q235.891 116.027 238.374 119.77 Q240.876 123.494 240.876 130.603 Q240.876 137.693 238.374 141.436 Q235.891 145.16 231.171 145.16 Q226.45 145.16 223.949 141.436 Q221.466 137.693 221.466 130.603 Q221.466 123.494 223.949 119.77 Q226.45 116.027 231.171 116.027 Z\" fill=\"#000000\" fill-rule=\"evenodd\" fill-opacity=\"1\" /><path clip-path=\"url(#clip100)\" d=\"M44.7161 817.393 L47.5806 817.393 L47.5806 844.32 Q53.6281 843.938 56.8109 840.691 Q59.9619 837.413 59.9619 831.588 Q59.9619 828.214 59.1344 825.063 Q58.3069 821.88 56.6518 818.761 L62.1899 818.761 Q63.5267 821.912 64.227 825.222 Q64.9272 828.533 64.9272 831.938 Q64.9272 840.468 59.9619 845.465 Q54.9967 850.431 46.5303 850.431 Q37.7774 850.431 32.6531 845.72 Q27.4968 840.978 27.4968 832.957 Q27.4968 825.763 32.1438 821.594 Q36.7589 817.393 44.7161 817.393 M42.9973 823.249 Q38.1912 823.313 35.3266 825.954 Q32.4621 828.564 32.4621 832.893 Q32.4621 837.795 35.2312 840.755 Q38.0002 843.683 43.0292 844.129 L42.9973 823.249 Z\" fill=\"#000000\" fill-rule=\"evenodd\" fill-opacity=\"1\" /><path clip-path=\"url(#clip100)\" d=\"M33.8307 787.124 Q33.2578 788.11 33.0032 789.288 Q32.7167 790.434 32.7167 791.834 Q32.7167 796.8 35.9632 799.473 Q39.1779 802.115 45.2253 802.115 L64.0042 802.115 L64.0042 808.003 L28.3562 808.003 L28.3562 802.115 L33.8944 802.115 Q30.6479 800.269 29.0883 797.309 Q27.4968 794.349 27.4968 790.116 Q27.4968 789.511 27.5923 788.779 Q27.656 788.047 27.8151 787.155 L33.8307 787.124 Z\" fill=\"#000000\" fill-rule=\"evenodd\" fill-opacity=\"1\" /><path clip-path=\"url(#clip100)\" d=\"M33.8307 761.47 Q33.2578 762.457 33.0032 763.634 Q32.7167 764.78 32.7167 766.18 Q32.7167 771.146 35.9632 773.819 Q39.1779 776.461 45.2253 776.461 L64.0042 776.461 L64.0042 782.349 L28.3562 782.349 L28.3562 776.461 L33.8944 776.461 Q30.6479 774.615 29.0883 771.655 Q27.4968 768.695 27.4968 764.462 Q27.4968 763.857 27.5923 763.125 Q27.656 762.393 27.8151 761.502 L33.8307 761.47 Z\" fill=\"#000000\" fill-rule=\"evenodd\" fill-opacity=\"1\" /><path clip-path=\"url(#clip100)\" d=\"M32.4621 742.946 Q32.4621 747.656 36.1542 750.394 Q39.8145 753.131 46.212 753.131 Q52.6095 753.131 56.3017 750.425 Q59.9619 747.688 59.9619 742.946 Q59.9619 738.267 56.2698 735.53 Q52.5777 732.792 46.212 732.792 Q39.8781 732.792 36.186 735.53 Q32.4621 738.267 32.4621 742.946 M27.4968 742.946 Q27.4968 735.307 32.4621 730.946 Q37.4273 726.586 46.212 726.586 Q54.9649 726.586 59.9619 730.946 Q64.9272 735.307 64.9272 742.946 Q64.9272 750.616 59.9619 754.977 Q54.9649 759.306 46.212 759.306 Q37.4273 759.306 32.4621 754.977 Q27.4968 750.616 27.4968 742.946 Z\" fill=\"#000000\" fill-rule=\"evenodd\" fill-opacity=\"1\" /><path clip-path=\"url(#clip100)\" d=\"M33.8307 696.221 Q33.2578 697.208 33.0032 698.386 Q32.7167 699.532 32.7167 700.932 Q32.7167 705.897 35.9632 708.571 Q39.1779 711.213 45.2253 711.213 L64.0042 711.213 L64.0042 717.101 L28.3562 717.101 L28.3562 711.213 L33.8944 711.213 Q30.6479 709.367 29.0883 706.406 Q27.4968 703.446 27.4968 699.213 Q27.4968 698.609 27.5923 697.876 Q27.656 697.144 27.8151 696.253 L33.8307 696.221 Z\" fill=\"#000000\" fill-rule=\"evenodd\" fill-opacity=\"1\" /><path clip-path=\"url(#clip100)\" d=\"M1094.63 16.7545 L1094.63 25.383 Q1090.5 21.5346 1085.8 19.6307 Q1081.14 17.7268 1075.87 17.7268 Q1065.5 17.7268 1059.99 24.0867 Q1054.48 30.4061 1054.48 42.3968 Q1054.48 54.3469 1059.99 60.7069 Q1065.5 67.0263 1075.87 67.0263 Q1081.14 67.0263 1085.8 65.1223 Q1090.5 63.2184 1094.63 59.3701 L1094.63 67.9175 Q1090.33 70.8341 1085.51 72.2924 Q1080.73 73.7508 1075.39 73.7508 Q1061.65 73.7508 1053.76 65.3654 Q1045.86 56.9395 1045.86 42.3968 Q1045.86 27.8135 1053.76 19.4281 Q1061.65 11.0023 1075.39 11.0023 Q1080.82 11.0023 1085.6 12.4606 Q1090.42 13.8784 1094.63 16.7545 Z\" fill=\"#000000\" fill-rule=\"evenodd\" fill-opacity=\"1\" /><path clip-path=\"url(#clip100)\" d=\"M1124.52 32.4315 Q1118.53 32.4315 1115.05 37.1306 Q1111.56 41.7891 1111.56 49.9314 Q1111.56 58.0738 1115 62.7728 Q1118.49 67.4314 1124.52 67.4314 Q1130.48 67.4314 1133.96 62.7323 Q1137.45 58.0333 1137.45 49.9314 Q1137.45 41.8701 1133.96 37.1711 Q1130.48 32.4315 1124.52 32.4315 M1124.52 26.1121 Q1134.25 26.1121 1139.8 32.4315 Q1145.35 38.7509 1145.35 49.9314 Q1145.35 61.0714 1139.8 67.4314 Q1134.25 73.7508 1124.52 73.7508 Q1114.76 73.7508 1109.21 67.4314 Q1103.7 61.0714 1103.7 49.9314 Q1103.7 38.7509 1109.21 32.4315 Q1114.76 26.1121 1124.52 26.1121 Z\" fill=\"#000000\" fill-rule=\"evenodd\" fill-opacity=\"1\" /><path clip-path=\"url(#clip100)\" d=\"M1195.42 45.1919 L1195.42 72.576 L1187.96 72.576 L1187.96 45.4349 Q1187.96 38.994 1185.45 35.7938 Q1182.94 32.5936 1177.92 32.5936 Q1171.88 32.5936 1168.4 36.4419 Q1164.91 40.2903 1164.91 46.9338 L1164.91 72.576 L1157.42 72.576 L1157.42 27.2059 L1164.91 27.2059 L1164.91 34.2544 Q1167.59 30.163 1171.19 28.1376 Q1174.84 26.1121 1179.58 26.1121 Q1187.39 26.1121 1191.4 30.9732 Q1195.42 35.7938 1195.42 45.1919 Z\" fill=\"#000000\" fill-rule=\"evenodd\" fill-opacity=\"1\" /><path clip-path=\"url(#clip100)\" d=\"M1204.93 27.2059 L1212.83 27.2059 L1227.01 65.2844 L1241.19 27.2059 L1249.09 27.2059 L1232.08 72.576 L1221.95 72.576 L1204.93 27.2059 Z\" fill=\"#000000\" fill-rule=\"evenodd\" fill-opacity=\"1\" /><path clip-path=\"url(#clip100)\" d=\"M1298.19 48.0275 L1298.19 51.6733 L1263.92 51.6733 Q1264.4 59.3701 1268.53 63.421 Q1272.71 67.4314 1280.12 67.4314 Q1284.41 67.4314 1288.42 66.3781 Q1292.47 65.3249 1296.44 63.2184 L1296.44 70.267 Q1292.43 71.9684 1288.22 72.8596 Q1284.01 73.7508 1279.67 73.7508 Q1268.82 73.7508 1262.46 67.4314 Q1256.14 61.1119 1256.14 50.3365 Q1256.14 39.1965 1262.13 32.6746 Q1268.17 26.1121 1278.38 26.1121 Q1287.53 26.1121 1292.84 32.0264 Q1298.19 37.9003 1298.19 48.0275 M1290.73 45.84 Q1290.65 39.7232 1287.29 36.0774 Q1283.97 32.4315 1278.46 32.4315 Q1272.22 32.4315 1268.45 35.9558 Q1264.73 39.4801 1264.16 45.8805 L1290.73 45.84 Z\" fill=\"#000000\" fill-rule=\"evenodd\" fill-opacity=\"1\" /><path clip-path=\"url(#clip100)\" d=\"M1336.71 34.1734 Q1335.46 33.4443 1333.96 33.1202 Q1332.5 32.7556 1330.72 32.7556 Q1324.4 32.7556 1320.99 36.8875 Q1317.63 40.9789 1317.63 48.6757 L1317.63 72.576 L1310.14 72.576 L1310.14 27.2059 L1317.63 27.2059 L1317.63 34.2544 Q1319.98 30.1225 1323.75 28.1376 Q1327.52 26.1121 1332.9 26.1121 Q1333.67 26.1121 1334.6 26.2337 Q1335.54 26.3147 1336.67 26.5172 L1336.71 34.1734 Z\" fill=\"#000000\" fill-rule=\"evenodd\" fill-opacity=\"1\" /><path clip-path=\"url(#clip100)\" d=\"M1372.93 49.3643 Q1372.93 41.2625 1369.56 36.8065 Q1366.24 32.3505 1360.21 32.3505 Q1354.21 32.3505 1350.85 36.8065 Q1347.53 41.2625 1347.53 49.3643 Q1347.53 57.4256 1350.85 61.8816 Q1354.21 66.3376 1360.21 66.3376 Q1366.24 66.3376 1369.56 61.8816 Q1372.93 57.4256 1372.93 49.3643 M1380.38 66.9452 Q1380.38 78.5308 1375.23 84.1616 Q1370.09 89.8329 1359.48 89.8329 Q1355.55 89.8329 1352.06 89.2252 Q1348.58 88.6581 1345.3 87.4428 L1345.3 80.1917 Q1348.58 81.9741 1351.78 82.8248 Q1354.98 83.6755 1358.3 83.6755 Q1365.63 83.6755 1369.28 79.8271 Q1372.93 76.0193 1372.93 68.282 L1372.93 64.5957 Q1370.62 68.6061 1367.01 70.5911 Q1363.41 72.576 1358.38 72.576 Q1350.04 72.576 1344.93 66.2161 Q1339.83 59.8562 1339.83 49.3643 Q1339.83 38.832 1344.93 32.472 Q1350.04 26.1121 1358.38 26.1121 Q1363.41 26.1121 1367.01 28.0971 Q1370.62 30.082 1372.93 34.0924 L1372.93 27.2059 L1380.38 27.2059 L1380.38 66.9452 Z\" fill=\"#000000\" fill-rule=\"evenodd\" fill-opacity=\"1\" /><path clip-path=\"url(#clip100)\" d=\"M1434.54 48.0275 L1434.54 51.6733 L1400.27 51.6733 Q1400.76 59.3701 1404.89 63.421 Q1409.06 67.4314 1416.47 67.4314 Q1420.77 67.4314 1424.78 66.3781 Q1428.83 65.3249 1432.8 63.2184 L1432.8 70.267 Q1428.79 71.9684 1424.57 72.8596 Q1420.36 73.7508 1416.03 73.7508 Q1405.17 73.7508 1398.81 67.4314 Q1392.49 61.1119 1392.49 50.3365 Q1392.49 39.1965 1398.49 32.6746 Q1404.52 26.1121 1414.73 26.1121 Q1423.89 26.1121 1429.19 32.0264 Q1434.54 37.9003 1434.54 48.0275 M1427.09 45.84 Q1427.01 39.7232 1423.64 36.0774 Q1420.32 32.4315 1414.81 32.4315 Q1408.57 32.4315 1404.81 35.9558 Q1401.08 39.4801 1400.51 45.8805 L1427.09 45.84 Z\" fill=\"#000000\" fill-rule=\"evenodd\" fill-opacity=\"1\" /><path clip-path=\"url(#clip100)\" d=\"M1484.49 45.1919 L1484.49 72.576 L1477.03 72.576 L1477.03 45.4349 Q1477.03 38.994 1474.52 35.7938 Q1472.01 32.5936 1466.99 32.5936 Q1460.95 32.5936 1457.47 36.4419 Q1453.98 40.2903 1453.98 46.9338 L1453.98 72.576 L1446.49 72.576 L1446.49 27.2059 L1453.98 27.2059 L1453.98 34.2544 Q1456.66 30.163 1460.26 28.1376 Q1463.91 26.1121 1468.65 26.1121 Q1476.47 26.1121 1480.48 30.9732 Q1484.49 35.7938 1484.49 45.1919 Z\" fill=\"#000000\" fill-rule=\"evenodd\" fill-opacity=\"1\" /><path clip-path=\"url(#clip100)\" d=\"M1532 28.9478 L1532 35.9153 Q1528.85 34.1734 1525.65 33.3227 Q1522.49 32.4315 1519.24 32.4315 Q1511.99 32.4315 1507.98 37.0496 Q1503.97 41.6271 1503.97 49.9314 Q1503.97 58.2358 1507.98 62.8538 Q1511.99 67.4314 1519.24 67.4314 Q1522.49 67.4314 1525.65 66.5807 Q1528.85 65.6895 1532 63.9476 L1532 70.8341 Q1528.89 72.2924 1525.52 73.0216 Q1522.2 73.7508 1518.43 73.7508 Q1508.19 73.7508 1502.15 67.3098 Q1496.11 60.8689 1496.11 49.9314 Q1496.11 38.832 1502.19 32.472 Q1508.31 26.1121 1518.92 26.1121 Q1522.36 26.1121 1525.65 26.8413 Q1528.93 27.5299 1532 28.9478 Z\" fill=\"#000000\" fill-rule=\"evenodd\" fill-opacity=\"1\" /><path clip-path=\"url(#clip100)\" d=\"M1583.78 48.0275 L1583.78 51.6733 L1549.5 51.6733 Q1549.99 59.3701 1554.12 63.421 Q1558.3 67.4314 1565.71 67.4314 Q1570 67.4314 1574.01 66.3781 Q1578.06 65.3249 1582.03 63.2184 L1582.03 70.267 Q1578.02 71.9684 1573.81 72.8596 Q1569.6 73.7508 1565.26 73.7508 Q1554.41 73.7508 1548.05 67.4314 Q1541.73 61.1119 1541.73 50.3365 Q1541.73 39.1965 1547.72 32.6746 Q1553.76 26.1121 1563.97 26.1121 Q1573.12 26.1121 1578.43 32.0264 Q1583.78 37.9003 1583.78 48.0275 M1576.32 45.84 Q1576.24 39.7232 1572.88 36.0774 Q1569.56 32.4315 1564.05 32.4315 Q1557.81 32.4315 1554.04 35.9558 Q1550.32 39.4801 1549.75 45.8805 L1576.32 45.84 Z\" fill=\"#000000\" fill-rule=\"evenodd\" fill-opacity=\"1\" /><polyline clip-path=\"url(#clip102)\" style=\"stroke:#009af9; stroke-linecap:butt; stroke-linejoin:round; stroke-width:16; stroke-opacity:1; fill:none\" points=\"\n",
       "  335.627,160.256 366.712,193.865 428.883,275.057 553.224,452.467 801.907,822.476 1299.27,1386.4 2294,1365.48 \n",
       "  \"/>\n",
       "<circle clip-path=\"url(#clip102)\" cx=\"335.627\" cy=\"160.256\" r=\"14.4\" fill=\"#009af9\" fill-rule=\"evenodd\" fill-opacity=\"1\" stroke=\"#000000\" stroke-opacity=\"1\" stroke-width=\"3.2\"/>\n",
       "<circle clip-path=\"url(#clip102)\" cx=\"366.712\" cy=\"193.865\" r=\"14.4\" fill=\"#009af9\" fill-rule=\"evenodd\" fill-opacity=\"1\" stroke=\"#000000\" stroke-opacity=\"1\" stroke-width=\"3.2\"/>\n",
       "<circle clip-path=\"url(#clip102)\" cx=\"428.883\" cy=\"275.057\" r=\"14.4\" fill=\"#009af9\" fill-rule=\"evenodd\" fill-opacity=\"1\" stroke=\"#000000\" stroke-opacity=\"1\" stroke-width=\"3.2\"/>\n",
       "<circle clip-path=\"url(#clip102)\" cx=\"553.224\" cy=\"452.467\" r=\"14.4\" fill=\"#009af9\" fill-rule=\"evenodd\" fill-opacity=\"1\" stroke=\"#000000\" stroke-opacity=\"1\" stroke-width=\"3.2\"/>\n",
       "<circle clip-path=\"url(#clip102)\" cx=\"801.907\" cy=\"822.476\" r=\"14.4\" fill=\"#009af9\" fill-rule=\"evenodd\" fill-opacity=\"1\" stroke=\"#000000\" stroke-opacity=\"1\" stroke-width=\"3.2\"/>\n",
       "<circle clip-path=\"url(#clip102)\" cx=\"1299.27\" cy=\"1386.4\" r=\"14.4\" fill=\"#009af9\" fill-rule=\"evenodd\" fill-opacity=\"1\" stroke=\"#000000\" stroke-opacity=\"1\" stroke-width=\"3.2\"/>\n",
       "<circle clip-path=\"url(#clip102)\" cx=\"2294\" cy=\"1365.48\" r=\"14.4\" fill=\"#009af9\" fill-rule=\"evenodd\" fill-opacity=\"1\" stroke=\"#000000\" stroke-opacity=\"1\" stroke-width=\"3.2\"/>\n",
       "<path clip-path=\"url(#clip100)\" d=\"\n",
       "M2000.48 270.476 L2283.56 270.476 L2283.56 166.796 L2000.48 166.796  Z\n",
       "  \" fill=\"#ffffff\" fill-rule=\"evenodd\" fill-opacity=\"1\"/>\n",
       "<polyline clip-path=\"url(#clip100)\" style=\"stroke:#000000; stroke-linecap:butt; stroke-linejoin:round; stroke-width:4; stroke-opacity:1; fill:none\" points=\"\n",
       "  2000.48,270.476 2283.56,270.476 2283.56,166.796 2000.48,166.796 2000.48,270.476 \n",
       "  \"/>\n",
       "<polyline clip-path=\"url(#clip100)\" style=\"stroke:#009af9; stroke-linecap:butt; stroke-linejoin:round; stroke-width:4; stroke-opacity:1; fill:none\" points=\"\n",
       "  2023.54,218.636 2161.93,218.636 \n",
       "  \"/>\n",
       "<circle clip-path=\"url(#clip100)\" cx=\"2092.74\" cy=\"218.636\" r=\"23.04\" fill=\"#009af9\" fill-rule=\"evenodd\" fill-opacity=\"1\" stroke=\"#000000\" stroke-opacity=\"1\" stroke-width=\"5.12\"/>\n",
       "<path clip-path=\"url(#clip100)\" d=\"M2198.84 238.323 Q2197.04 242.953 2195.32 244.365 Q2193.61 245.777 2190.74 245.777 L2187.34 245.777 L2187.34 242.212 L2189.84 242.212 Q2191.6 242.212 2192.57 241.379 Q2193.54 240.545 2194.72 237.443 L2195.48 235.499 L2185 209.99 L2189.51 209.99 L2197.61 230.268 L2205.72 209.99 L2210.23 209.99 L2198.84 238.323 Z\" fill=\"#000000\" fill-rule=\"evenodd\" fill-opacity=\"1\" /><path clip-path=\"url(#clip100)\" d=\"M2217.52 231.981 L2225.16 231.981 L2225.16 205.615 L2216.85 207.282 L2216.85 203.022 L2225.11 201.356 L2229.79 201.356 L2229.79 231.981 L2237.43 231.981 L2237.43 235.916 L2217.52 235.916 L2217.52 231.981 Z\" fill=\"#000000\" fill-rule=\"evenodd\" fill-opacity=\"1\" /></svg>\n"
      ]
     },
     "execution_count": 53,
     "metadata": {},
     "output_type": "execute_result"
    }
   ],
   "source": [
    "ns = 2 .^ (2:8)\n",
    "function L2_error(n)\n",
    "    x, u = L2_galerkin(n, n, f)\n",
    "    norm(u - f.(x))\n",
    "end\n",
    "plot(ns, L2_error.(ns), marker=:circle, yscale=:log10,\n",
    "  title=\"Convergence\", xlabel=\"number of points\", ylabel=\"error\")"
   ]
  },
  {
   "cell_type": "markdown",
   "id": "a27da104",
   "metadata": {
    "slideshow": {
     "slide_type": "slide"
    }
   },
   "source": [
    "# Galerkin error estimates"
   ]
  },
  {
   "cell_type": "markdown",
   "id": "ff2b2754",
   "metadata": {
    "cell_style": "split"
   },
   "source": [
    "We introduce the notation\n",
    "$$ a(v, u) = \\int_\\Omega \\nabla v(x) \\cdot \\nabla u(x) $$\n",
    "and note that $a$ is\n",
    "* bilinear (linear in each of its arguments)\n",
    "* symmetric: $a(u, v) = a(v,u)$\n",
    "* positive definite: $a(u, u) > 0$ when $u \\ne 0$\n",
    "thus defines an inner product on the function space $V$."
   ]
  },
  {
   "cell_type": "markdown",
   "id": "4966b4c5",
   "metadata": {
    "cell_style": "split"
   },
   "source": [
    "We also introduce the $L^2$ inner product\n",
    "$$ \\langle u, v \\rangle = \\int_\\Omega u(x) v(x) $$\n",
    "so that our continuous weak form is to find $u \\in V$ such that\n",
    "$$ a(v, u) = \\langle v, f \\rangle, \\quad \\forall v\\in V. $$\n",
    "Our Galerkin discretization is to find $u_h \\in V_h \\subset V$ such that\n",
    "$$ a(v_h, u_h) = \\langle v_h, f \\rangle, \\quad \\forall v_h \\in V_h . $$\n",
    "Since $V_h \\subset V$, we can subtract these two, yielding\n",
    "$$ a(v_h, u_h - u) = 0, \\quad \\forall v_h \\in V_h .$$\n",
    "This says that the error in the discrete solution $u_h - u$ is $a$-orthogonal to all test functions $v_h$."
   ]
  },
  {
   "cell_type": "markdown",
   "id": "842f1ca8",
   "metadata": {
    "slideshow": {
     "slide_type": "slide"
    }
   },
   "source": [
    "# Galerkin optimality via energy norms"
   ]
  },
  {
   "cell_type": "markdown",
   "id": "fba20ff3",
   "metadata": {
    "cell_style": "split",
    "slideshow": {
     "slide_type": ""
    }
   },
   "source": [
    "We can also define the \"energy norm\" or $a$-norm,\n",
    "$$ \\lVert u \\rVert_a = \\sqrt{a(u,u)} . $$\n",
    "This norm satisfies the Cauchy-Schwarz inequality,\n",
    "$$ \\lvert a(u,v) \\rvert \\le \\lVert u \\rVert_a \\lVert v \\rVert_a . $$\n",
    "Now,\n",
    "\\begin{align}\n",
    "\\lVert u_h - u \\rVert_a^2 &= a(u_h - u, u_h - u) \\\\\n",
    "&= a(u_h - v_h, u_h - u) + a(v_h - u, u_h - u) \\\\\n",
    "&= a(v_h - u, u_h - u) \\\\\n",
    "&\\le \\lVert v_h - u \\rVert_a \\lVert u_h - u \\rVert_a .\n",
    "\\end{align}\n",
    "In other words,\n",
    "$$\\lVert u_h - u \\rVert_a \\le \\lVert v_h - u \\rVert_a, \\quad \\forall v_h \\in V_h .$$\n",
    "So the solution $u_h$ computed by the Galerkin discretization is optimal over the subspace $V_h$ as measured in the $a$-norm."
   ]
  },
  {
   "cell_type": "markdown",
   "id": "58a462a3",
   "metadata": {
    "cell_style": "split"
   },
   "source": [
    "## Observations\n",
    "* The Galerkin method computes the exact solution any time it resides in the subspace $V_h$.\n",
    "* The Galerkin method is automatically symmetric any time the weak form is symmetric.\n",
    "* The Galerkin method can be spectrally accurate, similar to the Chebyshev finite difference methods.\n",
    "* For a nonlinear problem, discretization and differentiation will commute."
   ]
  }
 ],
 "metadata": {
  "@webio": {
   "lastCommId": null,
   "lastKernelId": null
  },
  "celltoolbar": "Slideshow",
  "kernelspec": {
   "display_name": "Julia 1.7.2",
   "language": "julia",
   "name": "julia-1.7"
  },
  "language_info": {
   "file_extension": ".jl",
   "mimetype": "application/julia",
   "name": "julia",
   "version": "1.8.2"
  },
  "rise": {
   "enable_chalkboard": true
  }
 },
 "nbformat": 4,
 "nbformat_minor": 5
}
