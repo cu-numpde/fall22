{
 "cells": [
  {
   "cell_type": "markdown",
   "id": "4159be0e",
   "metadata": {
    "cell_style": "split",
    "slideshow": {
     "slide_type": "slide"
    }
   },
   "source": [
    "# 2022-08-24 Finite Differences\n",
    "\n",
    "## Last time\n",
    "* General shape of PDE solvers and stakeholders\n",
    "* Comparing/plotting cost and accuracy\n",
    "* Learning strategy\n",
    "\n",
    "## Today\n",
    "* Discussion and scoping\n",
    "* Evaluating derivatives\n",
    "* Taylor series and truncation error\n",
    "* Stability"
   ]
  },
  {
   "cell_type": "markdown",
   "id": "0199b817",
   "metadata": {
    "cell_style": "split"
   },
   "source": [
    "## Examples of PDE\n",
    "\n",
    "* Navier-Stokes (viscous fluids)\n",
    "  * nonlinear\n",
    "  * incompressible or compressible\n",
    "* Elasticity\n",
    "  * linear elasticity\n",
    "  * hyperelasticity (geometric nonlinear + material nonlinearity)\n",
    "  * time dependent (dynamics) or steady state\n",
    "* Hamilton-Jacobi-Bellman\n",
    "  * optimal control\n",
    "* Wave equations\n",
    "  * acoustics\n",
    "  * elasticity\n",
    "  * electromagnetics\n",
    "  * frequency domain"
   ]
  },
  {
   "cell_type": "markdown",
   "id": "fc669b50",
   "metadata": {
    "slideshow": {
     "slide_type": "slide"
    }
   },
   "source": [
    "# Choices in scoping the class"
   ]
  },
  {
   "cell_type": "markdown",
   "id": "339f3aae",
   "metadata": {
    "cell_style": "split"
   },
   "source": [
    "## Theory\n",
    "\n",
    "Analysis first, confirm using numerics.\n",
    "Limited to simpler models."
   ]
  },
  {
   "cell_type": "markdown",
   "id": "415071e9",
   "metadata": {
    "cell_style": "split"
   },
   "source": [
    "## Applied\n",
    "Numerics first, pointers to useful theory."
   ]
  },
  {
   "cell_type": "markdown",
   "id": "01262771",
   "metadata": {},
   "source": [
    "---"
   ]
  },
  {
   "cell_type": "markdown",
   "id": "3483ca71",
   "metadata": {
    "cell_style": "split",
    "slideshow": {
     "slide_type": "fragment"
    }
   },
   "source": [
    "## Build from scratch\n",
    "\n",
    "Limited to simpler models, but you'll understand everything under the hood."
   ]
  },
  {
   "cell_type": "markdown",
   "id": "0a060582",
   "metadata": {
    "cell_style": "split"
   },
   "source": [
    "## Build using libraries\n",
    "\n",
    "More installation and software layers, but can solve more interesting problems."
   ]
  },
  {
   "cell_type": "markdown",
   "id": "dd050c4e",
   "metadata": {
    "hideOutput": true,
    "slideshow": {
     "slide_type": "slide"
    }
   },
   "source": [
    "# Consider the boundary value problem: find $u$:\n",
    "\n",
    "\\begin{gather} -\\frac{d^2 u}{dx^2} = f(x) \\quad x \\in \\Omega = (-1,1) \\\\\n",
    "u(-1) = a \\quad \\frac{du}{dx}(1) = b .\n",
    "\\end{gather}"
   ]
  },
  {
   "cell_type": "markdown",
   "id": "56e4af5a",
   "metadata": {
    "cell_style": "split",
    "slideshow": {
     "slide_type": ""
    }
   },
   "source": [
    "We say\n",
    "* $f(x)$ is the \"forcing\"\n",
    "* the left boundary condition is Dirichlet\n",
    "* the right boundary condition is Neumann"
   ]
  },
  {
   "cell_type": "markdown",
   "id": "ef6a7e85",
   "metadata": {
    "cell_style": "split",
    "slideshow": {
     "slide_type": ""
    }
   },
   "source": [
    "We need to choose\n",
    "* how to represent $u(x)$, including evaluating it on the boundary,\n",
    "* how to compute derivatives of $u$,\n",
    "* in what sense to ask for the differential equation to be satisfied,\n",
    "* where to evaluate $f(x)$ or integrals thereof,\n",
    "* how to enforce boundary conditions."
   ]
  },
  {
   "cell_type": "markdown",
   "id": "62272e73",
   "metadata": {
    "hideOutput": true,
    "slideshow": {
     "slide_type": "slide"
    }
   },
   "source": [
    "# Finite Difference/collocation approach to solve $u$:\n",
    "\n",
    "\\begin{gather} -\\frac{d^2 u}{dx^2} = f(x) \\quad x \\in \\Omega = (-1,1) \\\\\n",
    "u(-1) = a \\quad \\frac{du}{dx}(1) = b .\n",
    "\\end{gather}"
   ]
  },
  {
   "cell_type": "markdown",
   "id": "04c6db76",
   "metadata": {},
   "source": [
    "* Represent the function $u(x)$ by its values $u_i = u(x_i)$ at a discrete set of points $$ -1 = x_1 < x_2 < \\dotsb < x_n = 1 . $$\n",
    "  * The FD framework does not uniquely specify the solution values at other points\n",
    "* Compute derivatives at $x_i$ via differencing formulas involving a finite number of neighbor points (independent of the total number of points $n$).\n",
    "* FD methods ask for the differential equation to be satisfied pointwise at each $x_i$ in the interior of the domain.\n",
    "* Evaluate the forcing term $f$ pointwise at $x_i$.\n",
    "* Approximate derivatives at discrete boundary points ($x_n = 1$ above), typically using one-sided differencing formulas."
   ]
  },
  {
   "cell_type": "markdown",
   "id": "d6bf7ff5",
   "metadata": {
    "slideshow": {
     "slide_type": "slide"
    }
   },
   "source": [
    "# Computing a derivative"
   ]
  },
  {
   "cell_type": "code",
   "execution_count": 12,
   "id": "0589d738",
   "metadata": {
    "cell_style": "split"
   },
   "outputs": [
    {
     "data": {
      "image/svg+xml": [
       "<?xml version=\"1.0\" encoding=\"utf-8\"?>\n",
       "<svg xmlns=\"http://www.w3.org/2000/svg\" xmlns:xlink=\"http://www.w3.org/1999/xlink\" width=\"600\" height=\"400\" viewBox=\"0 0 2400 1600\">\n",
       "<defs>\n",
       "  <clipPath id=\"clip610\">\n",
       "    <rect x=\"0\" y=\"0\" width=\"2400\" height=\"1600\"/>\n",
       "  </clipPath>\n",
       "</defs>\n",
       "<path clip-path=\"url(#clip610)\" d=\"\n",
       "M0 1600 L2400 1600 L2400 0 L0 0  Z\n",
       "  \" fill=\"#ffffff\" fill-rule=\"evenodd\" fill-opacity=\"1\"/>\n",
       "<defs>\n",
       "  <clipPath id=\"clip611\">\n",
       "    <rect x=\"480\" y=\"0\" width=\"1681\" height=\"1600\"/>\n",
       "  </clipPath>\n",
       "</defs>\n",
       "<path clip-path=\"url(#clip610)\" d=\"\n",
       "M193.936 1486.45 L2352.76 1486.45 L2352.76 47.2441 L193.936 47.2441  Z\n",
       "  \" fill=\"#ffffff\" fill-rule=\"evenodd\" fill-opacity=\"1\"/>\n",
       "<defs>\n",
       "  <clipPath id=\"clip612\">\n",
       "    <rect x=\"193\" y=\"47\" width=\"2160\" height=\"1440\"/>\n",
       "  </clipPath>\n",
       "</defs>\n",
       "<polyline clip-path=\"url(#clip612)\" style=\"stroke:#000000; stroke-linecap:butt; stroke-linejoin:round; stroke-width:2; stroke-opacity:0.1; fill:none\" points=\"\n",
       "  255.035,1486.45 255.035,47.2441 \n",
       "  \"/>\n",
       "<polyline clip-path=\"url(#clip612)\" style=\"stroke:#000000; stroke-linecap:butt; stroke-linejoin:round; stroke-width:2; stroke-opacity:0.1; fill:none\" points=\"\n",
       "  594.472,1486.45 594.472,47.2441 \n",
       "  \"/>\n",
       "<polyline clip-path=\"url(#clip612)\" style=\"stroke:#000000; stroke-linecap:butt; stroke-linejoin:round; stroke-width:2; stroke-opacity:0.1; fill:none\" points=\"\n",
       "  933.909,1486.45 933.909,47.2441 \n",
       "  \"/>\n",
       "<polyline clip-path=\"url(#clip612)\" style=\"stroke:#000000; stroke-linecap:butt; stroke-linejoin:round; stroke-width:2; stroke-opacity:0.1; fill:none\" points=\"\n",
       "  1273.35,1486.45 1273.35,47.2441 \n",
       "  \"/>\n",
       "<polyline clip-path=\"url(#clip612)\" style=\"stroke:#000000; stroke-linecap:butt; stroke-linejoin:round; stroke-width:2; stroke-opacity:0.1; fill:none\" points=\"\n",
       "  1612.78,1486.45 1612.78,47.2441 \n",
       "  \"/>\n",
       "<polyline clip-path=\"url(#clip612)\" style=\"stroke:#000000; stroke-linecap:butt; stroke-linejoin:round; stroke-width:2; stroke-opacity:0.1; fill:none\" points=\"\n",
       "  1952.22,1486.45 1952.22,47.2441 \n",
       "  \"/>\n",
       "<polyline clip-path=\"url(#clip612)\" style=\"stroke:#000000; stroke-linecap:butt; stroke-linejoin:round; stroke-width:2; stroke-opacity:0.1; fill:none\" points=\"\n",
       "  2291.66,1486.45 2291.66,47.2441 \n",
       "  \"/>\n",
       "<polyline clip-path=\"url(#clip610)\" style=\"stroke:#000000; stroke-linecap:butt; stroke-linejoin:round; stroke-width:4; stroke-opacity:1; fill:none\" points=\"\n",
       "  193.936,1486.45 2352.76,1486.45 \n",
       "  \"/>\n",
       "<polyline clip-path=\"url(#clip610)\" style=\"stroke:#000000; stroke-linecap:butt; stroke-linejoin:round; stroke-width:4; stroke-opacity:1; fill:none\" points=\"\n",
       "  255.035,1486.45 255.035,1467.55 \n",
       "  \"/>\n",
       "<polyline clip-path=\"url(#clip610)\" style=\"stroke:#000000; stroke-linecap:butt; stroke-linejoin:round; stroke-width:4; stroke-opacity:1; fill:none\" points=\"\n",
       "  594.472,1486.45 594.472,1467.55 \n",
       "  \"/>\n",
       "<polyline clip-path=\"url(#clip610)\" style=\"stroke:#000000; stroke-linecap:butt; stroke-linejoin:round; stroke-width:4; stroke-opacity:1; fill:none\" points=\"\n",
       "  933.909,1486.45 933.909,1467.55 \n",
       "  \"/>\n",
       "<polyline clip-path=\"url(#clip610)\" style=\"stroke:#000000; stroke-linecap:butt; stroke-linejoin:round; stroke-width:4; stroke-opacity:1; fill:none\" points=\"\n",
       "  1273.35,1486.45 1273.35,1467.55 \n",
       "  \"/>\n",
       "<polyline clip-path=\"url(#clip610)\" style=\"stroke:#000000; stroke-linecap:butt; stroke-linejoin:round; stroke-width:4; stroke-opacity:1; fill:none\" points=\"\n",
       "  1612.78,1486.45 1612.78,1467.55 \n",
       "  \"/>\n",
       "<polyline clip-path=\"url(#clip610)\" style=\"stroke:#000000; stroke-linecap:butt; stroke-linejoin:round; stroke-width:4; stroke-opacity:1; fill:none\" points=\"\n",
       "  1952.22,1486.45 1952.22,1467.55 \n",
       "  \"/>\n",
       "<polyline clip-path=\"url(#clip610)\" style=\"stroke:#000000; stroke-linecap:butt; stroke-linejoin:round; stroke-width:4; stroke-opacity:1; fill:none\" points=\"\n",
       "  2291.66,1486.45 2291.66,1467.55 \n",
       "  \"/>\n",
       "<path clip-path=\"url(#clip610)\" d=\"M224.502 1532.02 L254.178 1532.02 L254.178 1535.95 L224.502 1535.95 L224.502 1532.02 Z\" fill=\"#000000\" fill-rule=\"evenodd\" fill-opacity=\"1\" /><path clip-path=\"url(#clip610)\" d=\"M278.437 1530.21 Q281.794 1530.93 283.669 1533.2 Q285.567 1535.47 285.567 1538.8 Q285.567 1543.92 282.048 1546.72 Q278.53 1549.52 272.048 1549.52 Q269.873 1549.52 267.558 1549.08 Q265.266 1548.66 262.812 1547.81 L262.812 1543.29 Q264.757 1544.43 267.072 1545.01 Q269.386 1545.58 271.91 1545.58 Q276.308 1545.58 278.599 1543.85 Q280.914 1542.11 280.914 1538.8 Q280.914 1535.75 278.761 1534.03 Q276.632 1532.3 272.812 1532.3 L268.785 1532.3 L268.785 1528.45 L272.998 1528.45 Q276.447 1528.45 278.275 1527.09 Q280.104 1525.7 280.104 1523.11 Q280.104 1520.45 278.206 1519.03 Q276.331 1517.6 272.812 1517.6 Q270.891 1517.6 268.692 1518.01 Q266.493 1518.43 263.854 1519.31 L263.854 1515.14 Q266.516 1514.4 268.831 1514.03 Q271.169 1513.66 273.229 1513.66 Q278.553 1513.66 281.655 1516.09 Q284.757 1518.5 284.757 1522.62 Q284.757 1525.49 283.113 1527.48 Q281.47 1529.45 278.437 1530.21 Z\" fill=\"#000000\" fill-rule=\"evenodd\" fill-opacity=\"1\" /><path clip-path=\"url(#clip610)\" d=\"M564.414 1532.02 L594.09 1532.02 L594.09 1535.95 L564.414 1535.95 L564.414 1532.02 Z\" fill=\"#000000\" fill-rule=\"evenodd\" fill-opacity=\"1\" /><path clip-path=\"url(#clip610)\" d=\"M608.21 1544.91 L624.529 1544.91 L624.529 1548.85 L602.585 1548.85 L602.585 1544.91 Q605.247 1542.16 609.83 1537.53 Q614.437 1532.88 615.617 1531.53 Q617.863 1529.01 618.742 1527.27 Q619.645 1525.51 619.645 1523.82 Q619.645 1521.07 617.701 1519.33 Q615.78 1517.6 612.678 1517.6 Q610.479 1517.6 608.025 1518.36 Q605.594 1519.13 602.817 1520.68 L602.817 1515.95 Q605.641 1514.82 608.094 1514.24 Q610.548 1513.66 612.585 1513.66 Q617.955 1513.66 621.15 1516.35 Q624.344 1519.03 624.344 1523.52 Q624.344 1525.65 623.534 1527.57 Q622.747 1529.47 620.641 1532.07 Q620.062 1532.74 616.96 1535.95 Q613.858 1539.15 608.21 1544.91 Z\" fill=\"#000000\" fill-rule=\"evenodd\" fill-opacity=\"1\" /><path clip-path=\"url(#clip610)\" d=\"M903.666 1532.02 L933.342 1532.02 L933.342 1535.95 L903.666 1535.95 L903.666 1532.02 Z\" fill=\"#000000\" fill-rule=\"evenodd\" fill-opacity=\"1\" /><path clip-path=\"url(#clip610)\" d=\"M944.244 1544.91 L951.883 1544.91 L951.883 1518.55 L943.573 1520.21 L943.573 1515.95 L951.837 1514.29 L956.513 1514.29 L956.513 1544.91 L964.152 1544.91 L964.152 1548.85 L944.244 1548.85 L944.244 1544.91 Z\" fill=\"#000000\" fill-rule=\"evenodd\" fill-opacity=\"1\" /><path clip-path=\"url(#clip610)\" d=\"M1273.35 1517.37 Q1269.73 1517.37 1267.91 1520.93 Q1266.1 1524.47 1266.1 1531.6 Q1266.1 1538.71 1267.91 1542.27 Q1269.73 1545.82 1273.35 1545.82 Q1276.98 1545.82 1278.79 1542.27 Q1280.61 1538.71 1280.61 1531.6 Q1280.61 1524.47 1278.79 1520.93 Q1276.98 1517.37 1273.35 1517.37 M1273.35 1513.66 Q1279.16 1513.66 1282.21 1518.27 Q1285.29 1522.85 1285.29 1531.6 Q1285.29 1540.33 1282.21 1544.94 Q1279.16 1549.52 1273.35 1549.52 Q1267.54 1549.52 1264.46 1544.94 Q1261.4 1540.33 1261.4 1531.6 Q1261.4 1522.85 1264.46 1518.27 Q1267.54 1513.66 1273.35 1513.66 Z\" fill=\"#000000\" fill-rule=\"evenodd\" fill-opacity=\"1\" /><path clip-path=\"url(#clip610)\" d=\"M1603.17 1544.91 L1610.8 1544.91 L1610.8 1518.55 L1602.49 1520.21 L1602.49 1515.95 L1610.76 1514.29 L1615.43 1514.29 L1615.43 1544.91 L1623.07 1544.91 L1623.07 1548.85 L1603.17 1548.85 L1603.17 1544.91 Z\" fill=\"#000000\" fill-rule=\"evenodd\" fill-opacity=\"1\" /><path clip-path=\"url(#clip610)\" d=\"M1946.87 1544.91 L1963.19 1544.91 L1963.19 1548.85 L1941.25 1548.85 L1941.25 1544.91 Q1943.91 1542.16 1948.49 1537.53 Q1953.1 1532.88 1954.28 1531.53 Q1956.53 1529.01 1957.41 1527.27 Q1958.31 1525.51 1958.31 1523.82 Q1958.31 1521.07 1956.36 1519.33 Q1954.44 1517.6 1951.34 1517.6 Q1949.14 1517.6 1946.69 1518.36 Q1944.26 1519.13 1941.48 1520.68 L1941.48 1515.95 Q1944.3 1514.82 1946.76 1514.24 Q1949.21 1513.66 1951.25 1513.66 Q1956.62 1513.66 1959.81 1516.35 Q1963.01 1519.03 1963.01 1523.52 Q1963.01 1525.65 1962.2 1527.57 Q1961.41 1529.47 1959.3 1532.07 Q1958.72 1532.74 1955.62 1535.95 Q1952.52 1539.15 1946.87 1544.91 Z\" fill=\"#000000\" fill-rule=\"evenodd\" fill-opacity=\"1\" /><path clip-path=\"url(#clip610)\" d=\"M2295.9 1530.21 Q2299.26 1530.93 2301.14 1533.2 Q2303.03 1535.47 2303.03 1538.8 Q2303.03 1543.92 2299.52 1546.72 Q2296 1549.52 2289.52 1549.52 Q2287.34 1549.52 2285.03 1549.08 Q2282.73 1548.66 2280.28 1547.81 L2280.28 1543.29 Q2282.22 1544.43 2284.54 1545.01 Q2286.85 1545.58 2289.38 1545.58 Q2293.78 1545.58 2296.07 1543.85 Q2298.38 1542.11 2298.38 1538.8 Q2298.38 1535.75 2296.23 1534.03 Q2294.1 1532.3 2290.28 1532.3 L2286.25 1532.3 L2286.25 1528.45 L2290.47 1528.45 Q2293.91 1528.45 2295.74 1527.09 Q2297.57 1525.7 2297.57 1523.11 Q2297.57 1520.45 2295.67 1519.03 Q2293.8 1517.6 2290.28 1517.6 Q2288.36 1517.6 2286.16 1518.01 Q2283.96 1518.43 2281.32 1519.31 L2281.32 1515.14 Q2283.98 1514.4 2286.3 1514.03 Q2288.64 1513.66 2290.7 1513.66 Q2296.02 1513.66 2299.12 1516.09 Q2302.22 1518.5 2302.22 1522.62 Q2302.22 1525.49 2300.58 1527.48 Q2298.94 1529.45 2295.9 1530.21 Z\" fill=\"#000000\" fill-rule=\"evenodd\" fill-opacity=\"1\" /><polyline clip-path=\"url(#clip612)\" style=\"stroke:#000000; stroke-linecap:butt; stroke-linejoin:round; stroke-width:2; stroke-opacity:0.1; fill:none\" points=\"\n",
       "  193.936,1447.42 2352.76,1447.42 \n",
       "  \"/>\n",
       "<polyline clip-path=\"url(#clip612)\" style=\"stroke:#000000; stroke-linecap:butt; stroke-linejoin:round; stroke-width:2; stroke-opacity:0.1; fill:none\" points=\"\n",
       "  193.936,1107.13 2352.76,1107.13 \n",
       "  \"/>\n",
       "<polyline clip-path=\"url(#clip612)\" style=\"stroke:#000000; stroke-linecap:butt; stroke-linejoin:round; stroke-width:2; stroke-opacity:0.1; fill:none\" points=\"\n",
       "  193.936,766.846 2352.76,766.846 \n",
       "  \"/>\n",
       "<polyline clip-path=\"url(#clip612)\" style=\"stroke:#000000; stroke-linecap:butt; stroke-linejoin:round; stroke-width:2; stroke-opacity:0.1; fill:none\" points=\"\n",
       "  193.936,426.559 2352.76,426.559 \n",
       "  \"/>\n",
       "<polyline clip-path=\"url(#clip612)\" style=\"stroke:#000000; stroke-linecap:butt; stroke-linejoin:round; stroke-width:2; stroke-opacity:0.1; fill:none\" points=\"\n",
       "  193.936,86.2714 2352.76,86.2714 \n",
       "  \"/>\n",
       "<polyline clip-path=\"url(#clip610)\" style=\"stroke:#000000; stroke-linecap:butt; stroke-linejoin:round; stroke-width:4; stroke-opacity:1; fill:none\" points=\"\n",
       "  193.936,1486.45 193.936,47.2441 \n",
       "  \"/>\n",
       "<polyline clip-path=\"url(#clip610)\" style=\"stroke:#000000; stroke-linecap:butt; stroke-linejoin:round; stroke-width:4; stroke-opacity:1; fill:none\" points=\"\n",
       "  193.936,1447.42 212.834,1447.42 \n",
       "  \"/>\n",
       "<polyline clip-path=\"url(#clip610)\" style=\"stroke:#000000; stroke-linecap:butt; stroke-linejoin:round; stroke-width:4; stroke-opacity:1; fill:none\" points=\"\n",
       "  193.936,1107.13 212.834,1107.13 \n",
       "  \"/>\n",
       "<polyline clip-path=\"url(#clip610)\" style=\"stroke:#000000; stroke-linecap:butt; stroke-linejoin:round; stroke-width:4; stroke-opacity:1; fill:none\" points=\"\n",
       "  193.936,766.846 212.834,766.846 \n",
       "  \"/>\n",
       "<polyline clip-path=\"url(#clip610)\" style=\"stroke:#000000; stroke-linecap:butt; stroke-linejoin:round; stroke-width:4; stroke-opacity:1; fill:none\" points=\"\n",
       "  193.936,426.559 212.834,426.559 \n",
       "  \"/>\n",
       "<polyline clip-path=\"url(#clip610)\" style=\"stroke:#000000; stroke-linecap:butt; stroke-linejoin:round; stroke-width:4; stroke-opacity:1; fill:none\" points=\"\n",
       "  193.936,86.2714 212.834,86.2714 \n",
       "  \"/>\n",
       "<path clip-path=\"url(#clip610)\" d=\"M50.9921 1447.87 L80.6679 1447.87 L80.6679 1451.81 L50.9921 1451.81 L50.9921 1447.87 Z\" fill=\"#000000\" fill-rule=\"evenodd\" fill-opacity=\"1\" /><path clip-path=\"url(#clip610)\" d=\"M91.5706 1460.77 L99.2095 1460.77 L99.2095 1434.4 L90.8993 1436.07 L90.8993 1431.81 L99.1632 1430.14 L103.839 1430.14 L103.839 1460.77 L111.478 1460.77 L111.478 1464.7 L91.5706 1464.7 L91.5706 1460.77 Z\" fill=\"#000000\" fill-rule=\"evenodd\" fill-opacity=\"1\" /><path clip-path=\"url(#clip610)\" d=\"M120.922 1458.82 L125.807 1458.82 L125.807 1464.7 L120.922 1464.7 L120.922 1458.82 Z\" fill=\"#000000\" fill-rule=\"evenodd\" fill-opacity=\"1\" /><path clip-path=\"url(#clip610)\" d=\"M145.992 1433.22 Q142.381 1433.22 140.552 1436.78 Q138.746 1440.33 138.746 1447.46 Q138.746 1454.56 140.552 1458.13 Q142.381 1461.67 145.992 1461.67 Q149.626 1461.67 151.431 1458.13 Q153.26 1454.56 153.26 1447.46 Q153.26 1440.33 151.431 1436.78 Q149.626 1433.22 145.992 1433.22 M145.992 1429.52 Q151.802 1429.52 154.857 1434.12 Q157.936 1438.71 157.936 1447.46 Q157.936 1456.18 154.857 1460.79 Q151.802 1465.37 145.992 1465.37 Q140.181 1465.37 137.103 1460.79 Q134.047 1456.18 134.047 1447.46 Q134.047 1438.71 137.103 1434.12 Q140.181 1429.52 145.992 1429.52 Z\" fill=\"#000000\" fill-rule=\"evenodd\" fill-opacity=\"1\" /><path clip-path=\"url(#clip610)\" d=\"M51.9875 1107.58 L81.6633 1107.58 L81.6633 1111.52 L51.9875 1111.52 L51.9875 1107.58 Z\" fill=\"#000000\" fill-rule=\"evenodd\" fill-opacity=\"1\" /><path clip-path=\"url(#clip610)\" d=\"M101.756 1092.93 Q98.1447 1092.93 96.316 1096.5 Q94.5104 1100.04 94.5104 1107.17 Q94.5104 1114.27 96.316 1117.84 Q98.1447 1121.38 101.756 1121.38 Q105.39 1121.38 107.196 1117.84 Q109.024 1114.27 109.024 1107.17 Q109.024 1100.04 107.196 1096.5 Q105.39 1092.93 101.756 1092.93 M101.756 1089.23 Q107.566 1089.23 110.621 1093.83 Q113.7 1098.42 113.7 1107.17 Q113.7 1115.89 110.621 1120.5 Q107.566 1125.08 101.756 1125.08 Q95.9456 1125.08 92.8669 1120.5 Q89.8114 1115.89 89.8114 1107.17 Q89.8114 1098.42 92.8669 1093.83 Q95.9456 1089.23 101.756 1089.23 Z\" fill=\"#000000\" fill-rule=\"evenodd\" fill-opacity=\"1\" /><path clip-path=\"url(#clip610)\" d=\"M121.918 1118.53 L126.802 1118.53 L126.802 1124.41 L121.918 1124.41 L121.918 1118.53 Z\" fill=\"#000000\" fill-rule=\"evenodd\" fill-opacity=\"1\" /><path clip-path=\"url(#clip610)\" d=\"M137.033 1089.85 L155.39 1089.85 L155.39 1093.79 L141.316 1093.79 L141.316 1102.26 Q142.334 1101.91 143.353 1101.75 Q144.371 1101.57 145.39 1101.57 Q151.177 1101.57 154.556 1104.74 Q157.936 1107.91 157.936 1113.33 Q157.936 1118.9 154.464 1122.01 Q150.992 1125.08 144.672 1125.08 Q142.496 1125.08 140.228 1124.71 Q137.982 1124.34 135.575 1123.6 L135.575 1118.9 Q137.658 1120.04 139.881 1120.59 Q142.103 1121.15 144.58 1121.15 Q148.584 1121.15 150.922 1119.04 Q153.26 1116.94 153.26 1113.33 Q153.26 1109.71 150.922 1107.61 Q148.584 1105.5 144.58 1105.5 Q142.705 1105.5 140.83 1105.92 Q138.978 1106.33 137.033 1107.21 L137.033 1089.85 Z\" fill=\"#000000\" fill-rule=\"evenodd\" fill-opacity=\"1\" /><path clip-path=\"url(#clip610)\" d=\"M100.76 752.645 Q97.1493 752.645 95.3206 756.209 Q93.515 759.751 93.515 766.881 Q93.515 773.987 95.3206 777.552 Q97.1493 781.094 100.76 781.094 Q104.395 781.094 106.2 777.552 Q108.029 773.987 108.029 766.881 Q108.029 759.751 106.2 756.209 Q104.395 752.645 100.76 752.645 M100.76 748.941 Q106.571 748.941 109.626 753.547 Q112.705 758.131 112.705 766.881 Q112.705 775.608 109.626 780.214 Q106.571 784.797 100.76 784.797 Q94.9502 784.797 91.8715 780.214 Q88.816 775.608 88.816 766.881 Q88.816 758.131 91.8715 753.547 Q94.9502 748.941 100.76 748.941 Z\" fill=\"#000000\" fill-rule=\"evenodd\" fill-opacity=\"1\" /><path clip-path=\"url(#clip610)\" d=\"M120.922 778.246 L125.807 778.246 L125.807 784.126 L120.922 784.126 L120.922 778.246 Z\" fill=\"#000000\" fill-rule=\"evenodd\" fill-opacity=\"1\" /><path clip-path=\"url(#clip610)\" d=\"M145.992 752.645 Q142.381 752.645 140.552 756.209 Q138.746 759.751 138.746 766.881 Q138.746 773.987 140.552 777.552 Q142.381 781.094 145.992 781.094 Q149.626 781.094 151.431 777.552 Q153.26 773.987 153.26 766.881 Q153.26 759.751 151.431 756.209 Q149.626 752.645 145.992 752.645 M145.992 748.941 Q151.802 748.941 154.857 753.547 Q157.936 758.131 157.936 766.881 Q157.936 775.608 154.857 780.214 Q151.802 784.797 145.992 784.797 Q140.181 784.797 137.103 780.214 Q134.047 775.608 134.047 766.881 Q134.047 758.131 137.103 753.547 Q140.181 748.941 145.992 748.941 Z\" fill=\"#000000\" fill-rule=\"evenodd\" fill-opacity=\"1\" /><path clip-path=\"url(#clip610)\" d=\"M101.756 412.357 Q98.1447 412.357 96.316 415.922 Q94.5104 419.464 94.5104 426.593 Q94.5104 433.7 96.316 437.265 Q98.1447 440.806 101.756 440.806 Q105.39 440.806 107.196 437.265 Q109.024 433.7 109.024 426.593 Q109.024 419.464 107.196 415.922 Q105.39 412.357 101.756 412.357 M101.756 408.654 Q107.566 408.654 110.621 413.26 Q113.7 417.843 113.7 426.593 Q113.7 435.32 110.621 439.927 Q107.566 444.51 101.756 444.51 Q95.9456 444.51 92.8669 439.927 Q89.8114 435.32 89.8114 426.593 Q89.8114 417.843 92.8669 413.26 Q95.9456 408.654 101.756 408.654 Z\" fill=\"#000000\" fill-rule=\"evenodd\" fill-opacity=\"1\" /><path clip-path=\"url(#clip610)\" d=\"M121.918 437.959 L126.802 437.959 L126.802 443.839 L121.918 443.839 L121.918 437.959 Z\" fill=\"#000000\" fill-rule=\"evenodd\" fill-opacity=\"1\" /><path clip-path=\"url(#clip610)\" d=\"M137.033 409.279 L155.39 409.279 L155.39 413.214 L141.316 413.214 L141.316 421.686 Q142.334 421.339 143.353 421.177 Q144.371 420.992 145.39 420.992 Q151.177 420.992 154.556 424.163 Q157.936 427.334 157.936 432.751 Q157.936 438.329 154.464 441.431 Q150.992 444.51 144.672 444.51 Q142.496 444.51 140.228 444.14 Q137.982 443.769 135.575 443.029 L135.575 438.329 Q137.658 439.464 139.881 440.019 Q142.103 440.575 144.58 440.575 Q148.584 440.575 150.922 438.468 Q153.26 436.362 153.26 432.751 Q153.26 429.14 150.922 427.033 Q148.584 424.927 144.58 424.927 Q142.705 424.927 140.83 425.343 Q138.978 425.76 137.033 426.64 L137.033 409.279 Z\" fill=\"#000000\" fill-rule=\"evenodd\" fill-opacity=\"1\" /><path clip-path=\"url(#clip610)\" d=\"M91.5706 99.6163 L99.2095 99.6163 L99.2095 73.2507 L90.8993 74.9173 L90.8993 70.6581 L99.1632 68.9914 L103.839 68.9914 L103.839 99.6163 L111.478 99.6163 L111.478 103.551 L91.5706 103.551 L91.5706 99.6163 Z\" fill=\"#000000\" fill-rule=\"evenodd\" fill-opacity=\"1\" /><path clip-path=\"url(#clip610)\" d=\"M120.922 97.6718 L125.807 97.6718 L125.807 103.551 L120.922 103.551 L120.922 97.6718 Z\" fill=\"#000000\" fill-rule=\"evenodd\" fill-opacity=\"1\" /><path clip-path=\"url(#clip610)\" d=\"M145.992 72.0701 Q142.381 72.0701 140.552 75.6349 Q138.746 79.1766 138.746 86.3062 Q138.746 93.4126 140.552 96.9774 Q142.381 100.519 145.992 100.519 Q149.626 100.519 151.431 96.9774 Q153.26 93.4126 153.26 86.3062 Q153.26 79.1766 151.431 75.6349 Q149.626 72.0701 145.992 72.0701 M145.992 68.3664 Q151.802 68.3664 154.857 72.9729 Q157.936 77.5562 157.936 86.3062 Q157.936 95.033 154.857 99.6394 Q151.802 104.223 145.992 104.223 Q140.181 104.223 137.103 99.6394 Q134.047 95.033 134.047 86.3062 Q134.047 77.5562 137.103 72.9729 Q140.181 68.3664 145.992 68.3664 Z\" fill=\"#000000\" fill-rule=\"evenodd\" fill-opacity=\"1\" /><polyline clip-path=\"url(#clip612)\" style=\"stroke:#009af9; stroke-linecap:butt; stroke-linejoin:round; stroke-width:12; stroke-opacity:1; fill:none\" points=\"\n",
       "  255.035,862.889 305.95,962.496 356.866,1057.71 407.781,1146.39 458.697,1226.55 509.612,1296.38 560.528,1354.32 611.444,1399.07 662.359,1429.62 713.275,1445.29 \n",
       "  764.19,1445.72 815.106,1430.9 866.021,1401.17 916.937,1357.19 967.853,1299.96 1018.77,1230.75 1069.68,1151.13 1120.6,1062.87 1171.51,967.97 1222.43,868.55 \n",
       "  1273.35,766.846 1324.26,665.142 1375.18,565.722 1426.09,470.82 1477.01,382.565 1527.92,302.94 1578.84,233.734 1629.75,176.5 1680.67,132.524 1731.59,102.793 \n",
       "  1782.5,87.9763 1833.42,88.405 1884.33,104.07 1935.25,134.62 1986.16,179.368 2037.08,237.309 2087.99,307.143 2138.91,387.301 2189.83,475.982 2240.74,571.196 \n",
       "  2291.66,670.803 \n",
       "  \"/>\n",
       "<circle clip-path=\"url(#clip612)\" cx=\"255.035\" cy=\"862.889\" r=\"14.4\" fill=\"#009af9\" fill-rule=\"evenodd\" fill-opacity=\"1\" stroke=\"#000000\" stroke-opacity=\"1\" stroke-width=\"3.2\"/>\n",
       "<circle clip-path=\"url(#clip612)\" cx=\"305.95\" cy=\"962.496\" r=\"14.4\" fill=\"#009af9\" fill-rule=\"evenodd\" fill-opacity=\"1\" stroke=\"#000000\" stroke-opacity=\"1\" stroke-width=\"3.2\"/>\n",
       "<circle clip-path=\"url(#clip612)\" cx=\"356.866\" cy=\"1057.71\" r=\"14.4\" fill=\"#009af9\" fill-rule=\"evenodd\" fill-opacity=\"1\" stroke=\"#000000\" stroke-opacity=\"1\" stroke-width=\"3.2\"/>\n",
       "<circle clip-path=\"url(#clip612)\" cx=\"407.781\" cy=\"1146.39\" r=\"14.4\" fill=\"#009af9\" fill-rule=\"evenodd\" fill-opacity=\"1\" stroke=\"#000000\" stroke-opacity=\"1\" stroke-width=\"3.2\"/>\n",
       "<circle clip-path=\"url(#clip612)\" cx=\"458.697\" cy=\"1226.55\" r=\"14.4\" fill=\"#009af9\" fill-rule=\"evenodd\" fill-opacity=\"1\" stroke=\"#000000\" stroke-opacity=\"1\" stroke-width=\"3.2\"/>\n",
       "<circle clip-path=\"url(#clip612)\" cx=\"509.612\" cy=\"1296.38\" r=\"14.4\" fill=\"#009af9\" fill-rule=\"evenodd\" fill-opacity=\"1\" stroke=\"#000000\" stroke-opacity=\"1\" stroke-width=\"3.2\"/>\n",
       "<circle clip-path=\"url(#clip612)\" cx=\"560.528\" cy=\"1354.32\" r=\"14.4\" fill=\"#009af9\" fill-rule=\"evenodd\" fill-opacity=\"1\" stroke=\"#000000\" stroke-opacity=\"1\" stroke-width=\"3.2\"/>\n",
       "<circle clip-path=\"url(#clip612)\" cx=\"611.444\" cy=\"1399.07\" r=\"14.4\" fill=\"#009af9\" fill-rule=\"evenodd\" fill-opacity=\"1\" stroke=\"#000000\" stroke-opacity=\"1\" stroke-width=\"3.2\"/>\n",
       "<circle clip-path=\"url(#clip612)\" cx=\"662.359\" cy=\"1429.62\" r=\"14.4\" fill=\"#009af9\" fill-rule=\"evenodd\" fill-opacity=\"1\" stroke=\"#000000\" stroke-opacity=\"1\" stroke-width=\"3.2\"/>\n",
       "<circle clip-path=\"url(#clip612)\" cx=\"713.275\" cy=\"1445.29\" r=\"14.4\" fill=\"#009af9\" fill-rule=\"evenodd\" fill-opacity=\"1\" stroke=\"#000000\" stroke-opacity=\"1\" stroke-width=\"3.2\"/>\n",
       "<circle clip-path=\"url(#clip612)\" cx=\"764.19\" cy=\"1445.72\" r=\"14.4\" fill=\"#009af9\" fill-rule=\"evenodd\" fill-opacity=\"1\" stroke=\"#000000\" stroke-opacity=\"1\" stroke-width=\"3.2\"/>\n",
       "<circle clip-path=\"url(#clip612)\" cx=\"815.106\" cy=\"1430.9\" r=\"14.4\" fill=\"#009af9\" fill-rule=\"evenodd\" fill-opacity=\"1\" stroke=\"#000000\" stroke-opacity=\"1\" stroke-width=\"3.2\"/>\n",
       "<circle clip-path=\"url(#clip612)\" cx=\"866.021\" cy=\"1401.17\" r=\"14.4\" fill=\"#009af9\" fill-rule=\"evenodd\" fill-opacity=\"1\" stroke=\"#000000\" stroke-opacity=\"1\" stroke-width=\"3.2\"/>\n",
       "<circle clip-path=\"url(#clip612)\" cx=\"916.937\" cy=\"1357.19\" r=\"14.4\" fill=\"#009af9\" fill-rule=\"evenodd\" fill-opacity=\"1\" stroke=\"#000000\" stroke-opacity=\"1\" stroke-width=\"3.2\"/>\n",
       "<circle clip-path=\"url(#clip612)\" cx=\"967.853\" cy=\"1299.96\" r=\"14.4\" fill=\"#009af9\" fill-rule=\"evenodd\" fill-opacity=\"1\" stroke=\"#000000\" stroke-opacity=\"1\" stroke-width=\"3.2\"/>\n",
       "<circle clip-path=\"url(#clip612)\" cx=\"1018.77\" cy=\"1230.75\" r=\"14.4\" fill=\"#009af9\" fill-rule=\"evenodd\" fill-opacity=\"1\" stroke=\"#000000\" stroke-opacity=\"1\" stroke-width=\"3.2\"/>\n",
       "<circle clip-path=\"url(#clip612)\" cx=\"1069.68\" cy=\"1151.13\" r=\"14.4\" fill=\"#009af9\" fill-rule=\"evenodd\" fill-opacity=\"1\" stroke=\"#000000\" stroke-opacity=\"1\" stroke-width=\"3.2\"/>\n",
       "<circle clip-path=\"url(#clip612)\" cx=\"1120.6\" cy=\"1062.87\" r=\"14.4\" fill=\"#009af9\" fill-rule=\"evenodd\" fill-opacity=\"1\" stroke=\"#000000\" stroke-opacity=\"1\" stroke-width=\"3.2\"/>\n",
       "<circle clip-path=\"url(#clip612)\" cx=\"1171.51\" cy=\"967.97\" r=\"14.4\" fill=\"#009af9\" fill-rule=\"evenodd\" fill-opacity=\"1\" stroke=\"#000000\" stroke-opacity=\"1\" stroke-width=\"3.2\"/>\n",
       "<circle clip-path=\"url(#clip612)\" cx=\"1222.43\" cy=\"868.55\" r=\"14.4\" fill=\"#009af9\" fill-rule=\"evenodd\" fill-opacity=\"1\" stroke=\"#000000\" stroke-opacity=\"1\" stroke-width=\"3.2\"/>\n",
       "<circle clip-path=\"url(#clip612)\" cx=\"1273.35\" cy=\"766.846\" r=\"14.4\" fill=\"#009af9\" fill-rule=\"evenodd\" fill-opacity=\"1\" stroke=\"#000000\" stroke-opacity=\"1\" stroke-width=\"3.2\"/>\n",
       "<circle clip-path=\"url(#clip612)\" cx=\"1324.26\" cy=\"665.142\" r=\"14.4\" fill=\"#009af9\" fill-rule=\"evenodd\" fill-opacity=\"1\" stroke=\"#000000\" stroke-opacity=\"1\" stroke-width=\"3.2\"/>\n",
       "<circle clip-path=\"url(#clip612)\" cx=\"1375.18\" cy=\"565.722\" r=\"14.4\" fill=\"#009af9\" fill-rule=\"evenodd\" fill-opacity=\"1\" stroke=\"#000000\" stroke-opacity=\"1\" stroke-width=\"3.2\"/>\n",
       "<circle clip-path=\"url(#clip612)\" cx=\"1426.09\" cy=\"470.82\" r=\"14.4\" fill=\"#009af9\" fill-rule=\"evenodd\" fill-opacity=\"1\" stroke=\"#000000\" stroke-opacity=\"1\" stroke-width=\"3.2\"/>\n",
       "<circle clip-path=\"url(#clip612)\" cx=\"1477.01\" cy=\"382.565\" r=\"14.4\" fill=\"#009af9\" fill-rule=\"evenodd\" fill-opacity=\"1\" stroke=\"#000000\" stroke-opacity=\"1\" stroke-width=\"3.2\"/>\n",
       "<circle clip-path=\"url(#clip612)\" cx=\"1527.92\" cy=\"302.94\" r=\"14.4\" fill=\"#009af9\" fill-rule=\"evenodd\" fill-opacity=\"1\" stroke=\"#000000\" stroke-opacity=\"1\" stroke-width=\"3.2\"/>\n",
       "<circle clip-path=\"url(#clip612)\" cx=\"1578.84\" cy=\"233.734\" r=\"14.4\" fill=\"#009af9\" fill-rule=\"evenodd\" fill-opacity=\"1\" stroke=\"#000000\" stroke-opacity=\"1\" stroke-width=\"3.2\"/>\n",
       "<circle clip-path=\"url(#clip612)\" cx=\"1629.75\" cy=\"176.5\" r=\"14.4\" fill=\"#009af9\" fill-rule=\"evenodd\" fill-opacity=\"1\" stroke=\"#000000\" stroke-opacity=\"1\" stroke-width=\"3.2\"/>\n",
       "<circle clip-path=\"url(#clip612)\" cx=\"1680.67\" cy=\"132.524\" r=\"14.4\" fill=\"#009af9\" fill-rule=\"evenodd\" fill-opacity=\"1\" stroke=\"#000000\" stroke-opacity=\"1\" stroke-width=\"3.2\"/>\n",
       "<circle clip-path=\"url(#clip612)\" cx=\"1731.59\" cy=\"102.793\" r=\"14.4\" fill=\"#009af9\" fill-rule=\"evenodd\" fill-opacity=\"1\" stroke=\"#000000\" stroke-opacity=\"1\" stroke-width=\"3.2\"/>\n",
       "<circle clip-path=\"url(#clip612)\" cx=\"1782.5\" cy=\"87.9763\" r=\"14.4\" fill=\"#009af9\" fill-rule=\"evenodd\" fill-opacity=\"1\" stroke=\"#000000\" stroke-opacity=\"1\" stroke-width=\"3.2\"/>\n",
       "<circle clip-path=\"url(#clip612)\" cx=\"1833.42\" cy=\"88.405\" r=\"14.4\" fill=\"#009af9\" fill-rule=\"evenodd\" fill-opacity=\"1\" stroke=\"#000000\" stroke-opacity=\"1\" stroke-width=\"3.2\"/>\n",
       "<circle clip-path=\"url(#clip612)\" cx=\"1884.33\" cy=\"104.07\" r=\"14.4\" fill=\"#009af9\" fill-rule=\"evenodd\" fill-opacity=\"1\" stroke=\"#000000\" stroke-opacity=\"1\" stroke-width=\"3.2\"/>\n",
       "<circle clip-path=\"url(#clip612)\" cx=\"1935.25\" cy=\"134.62\" r=\"14.4\" fill=\"#009af9\" fill-rule=\"evenodd\" fill-opacity=\"1\" stroke=\"#000000\" stroke-opacity=\"1\" stroke-width=\"3.2\"/>\n",
       "<circle clip-path=\"url(#clip612)\" cx=\"1986.16\" cy=\"179.368\" r=\"14.4\" fill=\"#009af9\" fill-rule=\"evenodd\" fill-opacity=\"1\" stroke=\"#000000\" stroke-opacity=\"1\" stroke-width=\"3.2\"/>\n",
       "<circle clip-path=\"url(#clip612)\" cx=\"2037.08\" cy=\"237.309\" r=\"14.4\" fill=\"#009af9\" fill-rule=\"evenodd\" fill-opacity=\"1\" stroke=\"#000000\" stroke-opacity=\"1\" stroke-width=\"3.2\"/>\n",
       "<circle clip-path=\"url(#clip612)\" cx=\"2087.99\" cy=\"307.143\" r=\"14.4\" fill=\"#009af9\" fill-rule=\"evenodd\" fill-opacity=\"1\" stroke=\"#000000\" stroke-opacity=\"1\" stroke-width=\"3.2\"/>\n",
       "<circle clip-path=\"url(#clip612)\" cx=\"2138.91\" cy=\"387.301\" r=\"14.4\" fill=\"#009af9\" fill-rule=\"evenodd\" fill-opacity=\"1\" stroke=\"#000000\" stroke-opacity=\"1\" stroke-width=\"3.2\"/>\n",
       "<circle clip-path=\"url(#clip612)\" cx=\"2189.83\" cy=\"475.982\" r=\"14.4\" fill=\"#009af9\" fill-rule=\"evenodd\" fill-opacity=\"1\" stroke=\"#000000\" stroke-opacity=\"1\" stroke-width=\"3.2\"/>\n",
       "<circle clip-path=\"url(#clip612)\" cx=\"2240.74\" cy=\"571.196\" r=\"14.4\" fill=\"#009af9\" fill-rule=\"evenodd\" fill-opacity=\"1\" stroke=\"#000000\" stroke-opacity=\"1\" stroke-width=\"3.2\"/>\n",
       "<circle clip-path=\"url(#clip612)\" cx=\"2291.66\" cy=\"670.803\" r=\"14.4\" fill=\"#009af9\" fill-rule=\"evenodd\" fill-opacity=\"1\" stroke=\"#000000\" stroke-opacity=\"1\" stroke-width=\"3.2\"/>\n",
       "<path clip-path=\"url(#clip610)\" d=\"\n",
       "M1988.5 198.898 L2280.8 198.898 L2280.8 95.2176 L1988.5 95.2176  Z\n",
       "  \" fill=\"#ffffff\" fill-rule=\"evenodd\" fill-opacity=\"1\"/>\n",
       "<polyline clip-path=\"url(#clip610)\" style=\"stroke:#000000; stroke-linecap:butt; stroke-linejoin:round; stroke-width:4; stroke-opacity:1; fill:none\" points=\"\n",
       "  1988.5,198.898 2280.8,198.898 2280.8,95.2176 1988.5,95.2176 1988.5,198.898 \n",
       "  \"/>\n",
       "<polyline clip-path=\"url(#clip610)\" style=\"stroke:#009af9; stroke-linecap:butt; stroke-linejoin:round; stroke-width:4; stroke-opacity:1; fill:none\" points=\"\n",
       "  2012.48,147.058 2156.4,147.058 \n",
       "  \"/>\n",
       "<circle clip-path=\"url(#clip610)\" cx=\"2084.44\" cy=\"147.058\" r=\"23.04\" fill=\"#009af9\" fill-rule=\"evenodd\" fill-opacity=\"1\" stroke=\"#000000\" stroke-opacity=\"1\" stroke-width=\"5.12\"/>\n",
       "<path clip-path=\"url(#clip610)\" d=\"M2194.23 166.745 Q2192.43 171.375 2190.72 172.787 Q2189 174.199 2186.13 174.199 L2182.73 174.199 L2182.73 170.634 L2185.23 170.634 Q2186.99 170.634 2187.96 169.8 Q2188.93 168.967 2190.11 165.865 L2190.88 163.921 L2180.39 138.412 L2184.91 138.412 L2193.01 158.689 L2201.11 138.412 L2205.62 138.412 L2194.23 166.745 Z\" fill=\"#000000\" fill-rule=\"evenodd\" fill-opacity=\"1\" /><path clip-path=\"url(#clip610)\" d=\"M2212.91 160.402 L2220.55 160.402 L2220.55 134.037 L2212.24 135.703 L2212.24 131.444 L2220.51 129.778 L2225.18 129.778 L2225.18 160.402 L2232.82 160.402 L2232.82 164.338 L2212.91 164.338 L2212.91 160.402 Z\" fill=\"#000000\" fill-rule=\"evenodd\" fill-opacity=\"1\" /></svg>\n"
      ]
     },
     "execution_count": 12,
     "metadata": {},
     "output_type": "execute_result"
    }
   ],
   "source": [
    "using Plots\n",
    "default(linewidth=3)\n",
    "\n",
    "n = 41\n",
    "h = 6 / (n - 1)\n",
    "x = LinRange(-3, 3, n)\n",
    "u = sin.(x)\n",
    "plot(x, u, marker=:circle)"
   ]
  },
  {
   "cell_type": "code",
   "execution_count": 13,
   "id": "62753d85",
   "metadata": {
    "cell_style": "split"
   },
   "outputs": [
    {
     "data": {
      "image/svg+xml": [
       "<?xml version=\"1.0\" encoding=\"utf-8\"?>\n",
       "<svg xmlns=\"http://www.w3.org/2000/svg\" xmlns:xlink=\"http://www.w3.org/1999/xlink\" width=\"600\" height=\"400\" viewBox=\"0 0 2400 1600\">\n",
       "<defs>\n",
       "  <clipPath id=\"clip650\">\n",
       "    <rect x=\"0\" y=\"0\" width=\"2400\" height=\"1600\"/>\n",
       "  </clipPath>\n",
       "</defs>\n",
       "<path clip-path=\"url(#clip650)\" d=\"\n",
       "M0 1600 L2400 1600 L2400 0 L0 0  Z\n",
       "  \" fill=\"#ffffff\" fill-rule=\"evenodd\" fill-opacity=\"1\"/>\n",
       "<defs>\n",
       "  <clipPath id=\"clip651\">\n",
       "    <rect x=\"480\" y=\"0\" width=\"1681\" height=\"1600\"/>\n",
       "  </clipPath>\n",
       "</defs>\n",
       "<path clip-path=\"url(#clip650)\" d=\"\n",
       "M193.936 1486.45 L2352.76 1486.45 L2352.76 47.2441 L193.936 47.2441  Z\n",
       "  \" fill=\"#ffffff\" fill-rule=\"evenodd\" fill-opacity=\"1\"/>\n",
       "<defs>\n",
       "  <clipPath id=\"clip652\">\n",
       "    <rect x=\"193\" y=\"47\" width=\"2160\" height=\"1440\"/>\n",
       "  </clipPath>\n",
       "</defs>\n",
       "<polyline clip-path=\"url(#clip652)\" style=\"stroke:#000000; stroke-linecap:butt; stroke-linejoin:round; stroke-width:2; stroke-opacity:0.1; fill:none\" points=\"\n",
       "  255.035,1486.45 255.035,47.2441 \n",
       "  \"/>\n",
       "<polyline clip-path=\"url(#clip652)\" style=\"stroke:#000000; stroke-linecap:butt; stroke-linejoin:round; stroke-width:2; stroke-opacity:0.1; fill:none\" points=\"\n",
       "  594.472,1486.45 594.472,47.2441 \n",
       "  \"/>\n",
       "<polyline clip-path=\"url(#clip652)\" style=\"stroke:#000000; stroke-linecap:butt; stroke-linejoin:round; stroke-width:2; stroke-opacity:0.1; fill:none\" points=\"\n",
       "  933.909,1486.45 933.909,47.2441 \n",
       "  \"/>\n",
       "<polyline clip-path=\"url(#clip652)\" style=\"stroke:#000000; stroke-linecap:butt; stroke-linejoin:round; stroke-width:2; stroke-opacity:0.1; fill:none\" points=\"\n",
       "  1273.35,1486.45 1273.35,47.2441 \n",
       "  \"/>\n",
       "<polyline clip-path=\"url(#clip652)\" style=\"stroke:#000000; stroke-linecap:butt; stroke-linejoin:round; stroke-width:2; stroke-opacity:0.1; fill:none\" points=\"\n",
       "  1612.78,1486.45 1612.78,47.2441 \n",
       "  \"/>\n",
       "<polyline clip-path=\"url(#clip652)\" style=\"stroke:#000000; stroke-linecap:butt; stroke-linejoin:round; stroke-width:2; stroke-opacity:0.1; fill:none\" points=\"\n",
       "  1952.22,1486.45 1952.22,47.2441 \n",
       "  \"/>\n",
       "<polyline clip-path=\"url(#clip652)\" style=\"stroke:#000000; stroke-linecap:butt; stroke-linejoin:round; stroke-width:2; stroke-opacity:0.1; fill:none\" points=\"\n",
       "  2291.66,1486.45 2291.66,47.2441 \n",
       "  \"/>\n",
       "<polyline clip-path=\"url(#clip650)\" style=\"stroke:#000000; stroke-linecap:butt; stroke-linejoin:round; stroke-width:4; stroke-opacity:1; fill:none\" points=\"\n",
       "  193.936,1486.45 2352.76,1486.45 \n",
       "  \"/>\n",
       "<polyline clip-path=\"url(#clip650)\" style=\"stroke:#000000; stroke-linecap:butt; stroke-linejoin:round; stroke-width:4; stroke-opacity:1; fill:none\" points=\"\n",
       "  255.035,1486.45 255.035,1467.55 \n",
       "  \"/>\n",
       "<polyline clip-path=\"url(#clip650)\" style=\"stroke:#000000; stroke-linecap:butt; stroke-linejoin:round; stroke-width:4; stroke-opacity:1; fill:none\" points=\"\n",
       "  594.472,1486.45 594.472,1467.55 \n",
       "  \"/>\n",
       "<polyline clip-path=\"url(#clip650)\" style=\"stroke:#000000; stroke-linecap:butt; stroke-linejoin:round; stroke-width:4; stroke-opacity:1; fill:none\" points=\"\n",
       "  933.909,1486.45 933.909,1467.55 \n",
       "  \"/>\n",
       "<polyline clip-path=\"url(#clip650)\" style=\"stroke:#000000; stroke-linecap:butt; stroke-linejoin:round; stroke-width:4; stroke-opacity:1; fill:none\" points=\"\n",
       "  1273.35,1486.45 1273.35,1467.55 \n",
       "  \"/>\n",
       "<polyline clip-path=\"url(#clip650)\" style=\"stroke:#000000; stroke-linecap:butt; stroke-linejoin:round; stroke-width:4; stroke-opacity:1; fill:none\" points=\"\n",
       "  1612.78,1486.45 1612.78,1467.55 \n",
       "  \"/>\n",
       "<polyline clip-path=\"url(#clip650)\" style=\"stroke:#000000; stroke-linecap:butt; stroke-linejoin:round; stroke-width:4; stroke-opacity:1; fill:none\" points=\"\n",
       "  1952.22,1486.45 1952.22,1467.55 \n",
       "  \"/>\n",
       "<polyline clip-path=\"url(#clip650)\" style=\"stroke:#000000; stroke-linecap:butt; stroke-linejoin:round; stroke-width:4; stroke-opacity:1; fill:none\" points=\"\n",
       "  2291.66,1486.45 2291.66,1467.55 \n",
       "  \"/>\n",
       "<path clip-path=\"url(#clip650)\" d=\"M224.502 1532.02 L254.178 1532.02 L254.178 1535.95 L224.502 1535.95 L224.502 1532.02 Z\" fill=\"#000000\" fill-rule=\"evenodd\" fill-opacity=\"1\" /><path clip-path=\"url(#clip650)\" d=\"M278.437 1530.21 Q281.794 1530.93 283.669 1533.2 Q285.567 1535.47 285.567 1538.8 Q285.567 1543.92 282.048 1546.72 Q278.53 1549.52 272.048 1549.52 Q269.873 1549.52 267.558 1549.08 Q265.266 1548.66 262.812 1547.81 L262.812 1543.29 Q264.757 1544.43 267.072 1545.01 Q269.386 1545.58 271.91 1545.58 Q276.308 1545.58 278.599 1543.85 Q280.914 1542.11 280.914 1538.8 Q280.914 1535.75 278.761 1534.03 Q276.632 1532.3 272.812 1532.3 L268.785 1532.3 L268.785 1528.45 L272.998 1528.45 Q276.447 1528.45 278.275 1527.09 Q280.104 1525.7 280.104 1523.11 Q280.104 1520.45 278.206 1519.03 Q276.331 1517.6 272.812 1517.6 Q270.891 1517.6 268.692 1518.01 Q266.493 1518.43 263.854 1519.31 L263.854 1515.14 Q266.516 1514.4 268.831 1514.03 Q271.169 1513.66 273.229 1513.66 Q278.553 1513.66 281.655 1516.09 Q284.757 1518.5 284.757 1522.62 Q284.757 1525.49 283.113 1527.48 Q281.47 1529.45 278.437 1530.21 Z\" fill=\"#000000\" fill-rule=\"evenodd\" fill-opacity=\"1\" /><path clip-path=\"url(#clip650)\" d=\"M564.414 1532.02 L594.09 1532.02 L594.09 1535.95 L564.414 1535.95 L564.414 1532.02 Z\" fill=\"#000000\" fill-rule=\"evenodd\" fill-opacity=\"1\" /><path clip-path=\"url(#clip650)\" d=\"M608.21 1544.91 L624.529 1544.91 L624.529 1548.85 L602.585 1548.85 L602.585 1544.91 Q605.247 1542.16 609.83 1537.53 Q614.437 1532.88 615.617 1531.53 Q617.863 1529.01 618.742 1527.27 Q619.645 1525.51 619.645 1523.82 Q619.645 1521.07 617.701 1519.33 Q615.78 1517.6 612.678 1517.6 Q610.479 1517.6 608.025 1518.36 Q605.594 1519.13 602.817 1520.68 L602.817 1515.95 Q605.641 1514.82 608.094 1514.24 Q610.548 1513.66 612.585 1513.66 Q617.955 1513.66 621.15 1516.35 Q624.344 1519.03 624.344 1523.52 Q624.344 1525.65 623.534 1527.57 Q622.747 1529.47 620.641 1532.07 Q620.062 1532.74 616.96 1535.95 Q613.858 1539.15 608.21 1544.91 Z\" fill=\"#000000\" fill-rule=\"evenodd\" fill-opacity=\"1\" /><path clip-path=\"url(#clip650)\" d=\"M903.666 1532.02 L933.342 1532.02 L933.342 1535.95 L903.666 1535.95 L903.666 1532.02 Z\" fill=\"#000000\" fill-rule=\"evenodd\" fill-opacity=\"1\" /><path clip-path=\"url(#clip650)\" d=\"M944.244 1544.91 L951.883 1544.91 L951.883 1518.55 L943.573 1520.21 L943.573 1515.95 L951.837 1514.29 L956.513 1514.29 L956.513 1544.91 L964.152 1544.91 L964.152 1548.85 L944.244 1548.85 L944.244 1544.91 Z\" fill=\"#000000\" fill-rule=\"evenodd\" fill-opacity=\"1\" /><path clip-path=\"url(#clip650)\" d=\"M1273.35 1517.37 Q1269.73 1517.37 1267.91 1520.93 Q1266.1 1524.47 1266.1 1531.6 Q1266.1 1538.71 1267.91 1542.27 Q1269.73 1545.82 1273.35 1545.82 Q1276.98 1545.82 1278.79 1542.27 Q1280.61 1538.71 1280.61 1531.6 Q1280.61 1524.47 1278.79 1520.93 Q1276.98 1517.37 1273.35 1517.37 M1273.35 1513.66 Q1279.16 1513.66 1282.21 1518.27 Q1285.29 1522.85 1285.29 1531.6 Q1285.29 1540.33 1282.21 1544.94 Q1279.16 1549.52 1273.35 1549.52 Q1267.54 1549.52 1264.46 1544.94 Q1261.4 1540.33 1261.4 1531.6 Q1261.4 1522.85 1264.46 1518.27 Q1267.54 1513.66 1273.35 1513.66 Z\" fill=\"#000000\" fill-rule=\"evenodd\" fill-opacity=\"1\" /><path clip-path=\"url(#clip650)\" d=\"M1603.17 1544.91 L1610.8 1544.91 L1610.8 1518.55 L1602.49 1520.21 L1602.49 1515.95 L1610.76 1514.29 L1615.43 1514.29 L1615.43 1544.91 L1623.07 1544.91 L1623.07 1548.85 L1603.17 1548.85 L1603.17 1544.91 Z\" fill=\"#000000\" fill-rule=\"evenodd\" fill-opacity=\"1\" /><path clip-path=\"url(#clip650)\" d=\"M1946.87 1544.91 L1963.19 1544.91 L1963.19 1548.85 L1941.25 1548.85 L1941.25 1544.91 Q1943.91 1542.16 1948.49 1537.53 Q1953.1 1532.88 1954.28 1531.53 Q1956.53 1529.01 1957.41 1527.27 Q1958.31 1525.51 1958.31 1523.82 Q1958.31 1521.07 1956.36 1519.33 Q1954.44 1517.6 1951.34 1517.6 Q1949.14 1517.6 1946.69 1518.36 Q1944.26 1519.13 1941.48 1520.68 L1941.48 1515.95 Q1944.3 1514.82 1946.76 1514.24 Q1949.21 1513.66 1951.25 1513.66 Q1956.62 1513.66 1959.81 1516.35 Q1963.01 1519.03 1963.01 1523.52 Q1963.01 1525.65 1962.2 1527.57 Q1961.41 1529.47 1959.3 1532.07 Q1958.72 1532.74 1955.62 1535.95 Q1952.52 1539.15 1946.87 1544.91 Z\" fill=\"#000000\" fill-rule=\"evenodd\" fill-opacity=\"1\" /><path clip-path=\"url(#clip650)\" d=\"M2295.9 1530.21 Q2299.26 1530.93 2301.14 1533.2 Q2303.03 1535.47 2303.03 1538.8 Q2303.03 1543.92 2299.52 1546.72 Q2296 1549.52 2289.52 1549.52 Q2287.34 1549.52 2285.03 1549.08 Q2282.73 1548.66 2280.28 1547.81 L2280.28 1543.29 Q2282.22 1544.43 2284.54 1545.01 Q2286.85 1545.58 2289.38 1545.58 Q2293.78 1545.58 2296.07 1543.85 Q2298.38 1542.11 2298.38 1538.8 Q2298.38 1535.75 2296.23 1534.03 Q2294.1 1532.3 2290.28 1532.3 L2286.25 1532.3 L2286.25 1528.45 L2290.47 1528.45 Q2293.91 1528.45 2295.74 1527.09 Q2297.57 1525.7 2297.57 1523.11 Q2297.57 1520.45 2295.67 1519.03 Q2293.8 1517.6 2290.28 1517.6 Q2288.36 1517.6 2286.16 1518.01 Q2283.96 1518.43 2281.32 1519.31 L2281.32 1515.14 Q2283.98 1514.4 2286.3 1514.03 Q2288.64 1513.66 2290.7 1513.66 Q2296.02 1513.66 2299.12 1516.09 Q2302.22 1518.5 2302.22 1522.62 Q2302.22 1525.49 2300.58 1527.48 Q2298.94 1529.45 2295.9 1530.21 Z\" fill=\"#000000\" fill-rule=\"evenodd\" fill-opacity=\"1\" /><polyline clip-path=\"url(#clip652)\" style=\"stroke:#000000; stroke-linecap:butt; stroke-linejoin:round; stroke-width:2; stroke-opacity:0.1; fill:none\" points=\"\n",
       "  193.936,1452.54 2352.76,1452.54 \n",
       "  \"/>\n",
       "<polyline clip-path=\"url(#clip652)\" style=\"stroke:#000000; stroke-linecap:butt; stroke-linejoin:round; stroke-width:2; stroke-opacity:0.1; fill:none\" points=\"\n",
       "  193.936,1111.4 2352.76,1111.4 \n",
       "  \"/>\n",
       "<polyline clip-path=\"url(#clip652)\" style=\"stroke:#000000; stroke-linecap:butt; stroke-linejoin:round; stroke-width:2; stroke-opacity:0.1; fill:none\" points=\"\n",
       "  193.936,770.26 2352.76,770.26 \n",
       "  \"/>\n",
       "<polyline clip-path=\"url(#clip652)\" style=\"stroke:#000000; stroke-linecap:butt; stroke-linejoin:round; stroke-width:2; stroke-opacity:0.1; fill:none\" points=\"\n",
       "  193.936,429.118 2352.76,429.118 \n",
       "  \"/>\n",
       "<polyline clip-path=\"url(#clip652)\" style=\"stroke:#000000; stroke-linecap:butt; stroke-linejoin:round; stroke-width:2; stroke-opacity:0.1; fill:none\" points=\"\n",
       "  193.936,87.9763 2352.76,87.9763 \n",
       "  \"/>\n",
       "<polyline clip-path=\"url(#clip650)\" style=\"stroke:#000000; stroke-linecap:butt; stroke-linejoin:round; stroke-width:4; stroke-opacity:1; fill:none\" points=\"\n",
       "  193.936,1486.45 193.936,47.2441 \n",
       "  \"/>\n",
       "<polyline clip-path=\"url(#clip650)\" style=\"stroke:#000000; stroke-linecap:butt; stroke-linejoin:round; stroke-width:4; stroke-opacity:1; fill:none\" points=\"\n",
       "  193.936,1452.54 212.834,1452.54 \n",
       "  \"/>\n",
       "<polyline clip-path=\"url(#clip650)\" style=\"stroke:#000000; stroke-linecap:butt; stroke-linejoin:round; stroke-width:4; stroke-opacity:1; fill:none\" points=\"\n",
       "  193.936,1111.4 212.834,1111.4 \n",
       "  \"/>\n",
       "<polyline clip-path=\"url(#clip650)\" style=\"stroke:#000000; stroke-linecap:butt; stroke-linejoin:round; stroke-width:4; stroke-opacity:1; fill:none\" points=\"\n",
       "  193.936,770.26 212.834,770.26 \n",
       "  \"/>\n",
       "<polyline clip-path=\"url(#clip650)\" style=\"stroke:#000000; stroke-linecap:butt; stroke-linejoin:round; stroke-width:4; stroke-opacity:1; fill:none\" points=\"\n",
       "  193.936,429.118 212.834,429.118 \n",
       "  \"/>\n",
       "<polyline clip-path=\"url(#clip650)\" style=\"stroke:#000000; stroke-linecap:butt; stroke-linejoin:round; stroke-width:4; stroke-opacity:1; fill:none\" points=\"\n",
       "  193.936,87.9763 212.834,87.9763 \n",
       "  \"/>\n",
       "<path clip-path=\"url(#clip650)\" d=\"M50.9921 1453 L80.6679 1453 L80.6679 1456.93 L50.9921 1456.93 L50.9921 1453 Z\" fill=\"#000000\" fill-rule=\"evenodd\" fill-opacity=\"1\" /><path clip-path=\"url(#clip650)\" d=\"M91.5706 1465.89 L99.2095 1465.89 L99.2095 1439.52 L90.8993 1441.19 L90.8993 1436.93 L99.1632 1435.26 L103.839 1435.26 L103.839 1465.89 L111.478 1465.89 L111.478 1469.82 L91.5706 1469.82 L91.5706 1465.89 Z\" fill=\"#000000\" fill-rule=\"evenodd\" fill-opacity=\"1\" /><path clip-path=\"url(#clip650)\" d=\"M120.922 1463.94 L125.807 1463.94 L125.807 1469.82 L120.922 1469.82 L120.922 1463.94 Z\" fill=\"#000000\" fill-rule=\"evenodd\" fill-opacity=\"1\" /><path clip-path=\"url(#clip650)\" d=\"M145.992 1438.34 Q142.381 1438.34 140.552 1441.91 Q138.746 1445.45 138.746 1452.58 Q138.746 1459.68 140.552 1463.25 Q142.381 1466.79 145.992 1466.79 Q149.626 1466.79 151.431 1463.25 Q153.26 1459.68 153.26 1452.58 Q153.26 1445.45 151.431 1441.91 Q149.626 1438.34 145.992 1438.34 M145.992 1434.64 Q151.802 1434.64 154.857 1439.25 Q157.936 1443.83 157.936 1452.58 Q157.936 1461.31 154.857 1465.91 Q151.802 1470.49 145.992 1470.49 Q140.181 1470.49 137.103 1465.91 Q134.047 1461.31 134.047 1452.58 Q134.047 1443.83 137.103 1439.25 Q140.181 1434.64 145.992 1434.64 Z\" fill=\"#000000\" fill-rule=\"evenodd\" fill-opacity=\"1\" /><path clip-path=\"url(#clip650)\" d=\"M51.9875 1111.85 L81.6633 1111.85 L81.6633 1115.79 L51.9875 1115.79 L51.9875 1111.85 Z\" fill=\"#000000\" fill-rule=\"evenodd\" fill-opacity=\"1\" /><path clip-path=\"url(#clip650)\" d=\"M101.756 1097.2 Q98.1447 1097.2 96.316 1100.77 Q94.5104 1104.31 94.5104 1111.44 Q94.5104 1118.54 96.316 1122.11 Q98.1447 1125.65 101.756 1125.65 Q105.39 1125.65 107.196 1122.11 Q109.024 1118.54 109.024 1111.44 Q109.024 1104.31 107.196 1100.77 Q105.39 1097.2 101.756 1097.2 M101.756 1093.5 Q107.566 1093.5 110.621 1098.1 Q113.7 1102.69 113.7 1111.44 Q113.7 1120.16 110.621 1124.77 Q107.566 1129.35 101.756 1129.35 Q95.9456 1129.35 92.8669 1124.77 Q89.8114 1120.16 89.8114 1111.44 Q89.8114 1102.69 92.8669 1098.1 Q95.9456 1093.5 101.756 1093.5 Z\" fill=\"#000000\" fill-rule=\"evenodd\" fill-opacity=\"1\" /><path clip-path=\"url(#clip650)\" d=\"M121.918 1122.8 L126.802 1122.8 L126.802 1128.68 L121.918 1128.68 L121.918 1122.8 Z\" fill=\"#000000\" fill-rule=\"evenodd\" fill-opacity=\"1\" /><path clip-path=\"url(#clip650)\" d=\"M137.033 1094.12 L155.39 1094.12 L155.39 1098.06 L141.316 1098.06 L141.316 1106.53 Q142.334 1106.18 143.353 1106.02 Q144.371 1105.83 145.39 1105.83 Q151.177 1105.83 154.556 1109.01 Q157.936 1112.18 157.936 1117.59 Q157.936 1123.17 154.464 1126.27 Q150.992 1129.35 144.672 1129.35 Q142.496 1129.35 140.228 1128.98 Q137.982 1128.61 135.575 1127.87 L135.575 1123.17 Q137.658 1124.31 139.881 1124.86 Q142.103 1125.42 144.58 1125.42 Q148.584 1125.42 150.922 1123.31 Q153.26 1121.2 153.26 1117.59 Q153.26 1113.98 150.922 1111.88 Q148.584 1109.77 144.58 1109.77 Q142.705 1109.77 140.83 1110.19 Q138.978 1110.6 137.033 1111.48 L137.033 1094.12 Z\" fill=\"#000000\" fill-rule=\"evenodd\" fill-opacity=\"1\" /><path clip-path=\"url(#clip650)\" d=\"M100.76 756.059 Q97.1493 756.059 95.3206 759.623 Q93.515 763.165 93.515 770.295 Q93.515 777.401 95.3206 780.966 Q97.1493 784.508 100.76 784.508 Q104.395 784.508 106.2 780.966 Q108.029 777.401 108.029 770.295 Q108.029 763.165 106.2 759.623 Q104.395 756.059 100.76 756.059 M100.76 752.355 Q106.571 752.355 109.626 756.961 Q112.705 761.545 112.705 770.295 Q112.705 779.021 109.626 783.628 Q106.571 788.211 100.76 788.211 Q94.9502 788.211 91.8715 783.628 Q88.816 779.021 88.816 770.295 Q88.816 761.545 91.8715 756.961 Q94.9502 752.355 100.76 752.355 Z\" fill=\"#000000\" fill-rule=\"evenodd\" fill-opacity=\"1\" /><path clip-path=\"url(#clip650)\" d=\"M120.922 781.66 L125.807 781.66 L125.807 787.54 L120.922 787.54 L120.922 781.66 Z\" fill=\"#000000\" fill-rule=\"evenodd\" fill-opacity=\"1\" /><path clip-path=\"url(#clip650)\" d=\"M145.992 756.059 Q142.381 756.059 140.552 759.623 Q138.746 763.165 138.746 770.295 Q138.746 777.401 140.552 780.966 Q142.381 784.508 145.992 784.508 Q149.626 784.508 151.431 780.966 Q153.26 777.401 153.26 770.295 Q153.26 763.165 151.431 759.623 Q149.626 756.059 145.992 756.059 M145.992 752.355 Q151.802 752.355 154.857 756.961 Q157.936 761.545 157.936 770.295 Q157.936 779.021 154.857 783.628 Q151.802 788.211 145.992 788.211 Q140.181 788.211 137.103 783.628 Q134.047 779.021 134.047 770.295 Q134.047 761.545 137.103 756.961 Q140.181 752.355 145.992 752.355 Z\" fill=\"#000000\" fill-rule=\"evenodd\" fill-opacity=\"1\" /><path clip-path=\"url(#clip650)\" d=\"M101.756 414.917 Q98.1447 414.917 96.316 418.482 Q94.5104 422.023 94.5104 429.153 Q94.5104 436.259 96.316 439.824 Q98.1447 443.366 101.756 443.366 Q105.39 443.366 107.196 439.824 Q109.024 436.259 109.024 429.153 Q109.024 422.023 107.196 418.482 Q105.39 414.917 101.756 414.917 M101.756 411.213 Q107.566 411.213 110.621 415.82 Q113.7 420.403 113.7 429.153 Q113.7 437.88 110.621 442.486 Q107.566 447.069 101.756 447.069 Q95.9456 447.069 92.8669 442.486 Q89.8114 437.88 89.8114 429.153 Q89.8114 420.403 92.8669 415.82 Q95.9456 411.213 101.756 411.213 Z\" fill=\"#000000\" fill-rule=\"evenodd\" fill-opacity=\"1\" /><path clip-path=\"url(#clip650)\" d=\"M121.918 440.519 L126.802 440.519 L126.802 446.398 L121.918 446.398 L121.918 440.519 Z\" fill=\"#000000\" fill-rule=\"evenodd\" fill-opacity=\"1\" /><path clip-path=\"url(#clip650)\" d=\"M137.033 411.838 L155.39 411.838 L155.39 415.773 L141.316 415.773 L141.316 424.245 Q142.334 423.898 143.353 423.736 Q144.371 423.551 145.39 423.551 Q151.177 423.551 154.556 426.722 Q157.936 429.894 157.936 435.31 Q157.936 440.889 154.464 443.991 Q150.992 447.069 144.672 447.069 Q142.496 447.069 140.228 446.699 Q137.982 446.329 135.575 445.588 L135.575 440.889 Q137.658 442.023 139.881 442.579 Q142.103 443.134 144.58 443.134 Q148.584 443.134 150.922 441.028 Q153.26 438.921 153.26 435.31 Q153.26 431.699 150.922 429.593 Q148.584 427.486 144.58 427.486 Q142.705 427.486 140.83 427.903 Q138.978 428.32 137.033 429.199 L137.033 411.838 Z\" fill=\"#000000\" fill-rule=\"evenodd\" fill-opacity=\"1\" /><path clip-path=\"url(#clip650)\" d=\"M91.5706 101.321 L99.2095 101.321 L99.2095 74.9555 L90.8993 76.6222 L90.8993 72.3629 L99.1632 70.6963 L103.839 70.6963 L103.839 101.321 L111.478 101.321 L111.478 105.256 L91.5706 105.256 L91.5706 101.321 Z\" fill=\"#000000\" fill-rule=\"evenodd\" fill-opacity=\"1\" /><path clip-path=\"url(#clip650)\" d=\"M120.922 99.3767 L125.807 99.3767 L125.807 105.256 L120.922 105.256 L120.922 99.3767 Z\" fill=\"#000000\" fill-rule=\"evenodd\" fill-opacity=\"1\" /><path clip-path=\"url(#clip650)\" d=\"M145.992 73.775 Q142.381 73.775 140.552 77.3398 Q138.746 80.8814 138.746 88.011 Q138.746 95.1174 140.552 98.6822 Q142.381 102.224 145.992 102.224 Q149.626 102.224 151.431 98.6822 Q153.26 95.1174 153.26 88.011 Q153.26 80.8814 151.431 77.3398 Q149.626 73.775 145.992 73.775 M145.992 70.0713 Q151.802 70.0713 154.857 74.6777 Q157.936 79.261 157.936 88.011 Q157.936 96.7378 154.857 101.344 Q151.802 105.928 145.992 105.928 Q140.181 105.928 137.103 101.344 Q134.047 96.7378 134.047 88.011 Q134.047 79.261 137.103 74.6777 Q140.181 70.0713 145.992 70.0713 Z\" fill=\"#000000\" fill-rule=\"evenodd\" fill-opacity=\"1\" /><polyline clip-path=\"url(#clip652)\" style=\"stroke:#009af9; stroke-linecap:butt; stroke-linejoin:round; stroke-width:12; stroke-opacity:1; fill:none\" points=\"\n",
       "  255.035,1445.72 305.95,1423.74 356.866,1387.09 407.781,1336.59 458.697,1273.37 509.612,1198.85 560.528,1114.71 611.444,1022.83 662.359,925.276 713.275,824.243 \n",
       "  764.19,721.997 815.106,620.835 866.021,523.029 916.937,430.775 967.853,346.146 1018.77,271.041 1069.68,207.147 1120.6,155.9 1171.51,118.449 1222.43,95.6376 \n",
       "  1273.35,87.9763 1324.26,95.6376 1375.18,118.449 1426.09,155.9 1477.01,207.147 1527.92,271.041 1578.84,346.146 1629.75,430.775 1680.67,523.029 1731.59,620.835 \n",
       "  1782.5,721.997 1833.42,824.243 1884.33,925.276 1935.25,1022.83 1986.16,1114.71 2037.08,1198.85 2087.99,1273.37 2138.91,1336.59 2189.83,1387.09 2240.74,1423.74 \n",
       "  2291.66,1445.72 \n",
       "  \"/>\n",
       "<polyline clip-path=\"url(#clip652)\" style=\"stroke:#e26f46; stroke-linecap:butt; stroke-linejoin:round; stroke-width:12; stroke-opacity:1; fill:none\" points=\"\n",
       "  255.035,1435.98 305.95,1406.61 356.866,1362.95 407.781,1305.99 458.697,1236.99 509.612,1157.51 560.528,1069.33 611.444,974.435 662.359,874.956 713.275,773.125 \n",
       "  764.19,671.23 815.106,571.56 866.021,476.351 916.937,387.743 967.853,307.726 1018.77,238.096 1069.68,180.417 1120.6,135.985 1171.51,105.797 1222.43,90.532 \n",
       "  1273.35,90.532 1324.26,105.797 1375.18,135.985 1426.09,180.417 1477.01,238.096 1527.92,307.726 1578.84,387.743 1629.75,476.351 1680.67,571.56 1731.59,671.23 \n",
       "  1782.5,773.125 1833.42,874.956 1884.33,974.435 1935.25,1069.33 1986.16,1157.51 2037.08,1236.99 2087.99,1305.99 2138.91,1362.95 2189.83,1406.61 2240.74,1435.98 \n",
       "  \n",
       "  \"/>\n",
       "<circle clip-path=\"url(#clip652)\" cx=\"255.035\" cy=\"1435.98\" r=\"14.4\" fill=\"#e26f46\" fill-rule=\"evenodd\" fill-opacity=\"1\" stroke=\"#000000\" stroke-opacity=\"1\" stroke-width=\"3.2\"/>\n",
       "<circle clip-path=\"url(#clip652)\" cx=\"305.95\" cy=\"1406.61\" r=\"14.4\" fill=\"#e26f46\" fill-rule=\"evenodd\" fill-opacity=\"1\" stroke=\"#000000\" stroke-opacity=\"1\" stroke-width=\"3.2\"/>\n",
       "<circle clip-path=\"url(#clip652)\" cx=\"356.866\" cy=\"1362.95\" r=\"14.4\" fill=\"#e26f46\" fill-rule=\"evenodd\" fill-opacity=\"1\" stroke=\"#000000\" stroke-opacity=\"1\" stroke-width=\"3.2\"/>\n",
       "<circle clip-path=\"url(#clip652)\" cx=\"407.781\" cy=\"1305.99\" r=\"14.4\" fill=\"#e26f46\" fill-rule=\"evenodd\" fill-opacity=\"1\" stroke=\"#000000\" stroke-opacity=\"1\" stroke-width=\"3.2\"/>\n",
       "<circle clip-path=\"url(#clip652)\" cx=\"458.697\" cy=\"1236.99\" r=\"14.4\" fill=\"#e26f46\" fill-rule=\"evenodd\" fill-opacity=\"1\" stroke=\"#000000\" stroke-opacity=\"1\" stroke-width=\"3.2\"/>\n",
       "<circle clip-path=\"url(#clip652)\" cx=\"509.612\" cy=\"1157.51\" r=\"14.4\" fill=\"#e26f46\" fill-rule=\"evenodd\" fill-opacity=\"1\" stroke=\"#000000\" stroke-opacity=\"1\" stroke-width=\"3.2\"/>\n",
       "<circle clip-path=\"url(#clip652)\" cx=\"560.528\" cy=\"1069.33\" r=\"14.4\" fill=\"#e26f46\" fill-rule=\"evenodd\" fill-opacity=\"1\" stroke=\"#000000\" stroke-opacity=\"1\" stroke-width=\"3.2\"/>\n",
       "<circle clip-path=\"url(#clip652)\" cx=\"611.444\" cy=\"974.435\" r=\"14.4\" fill=\"#e26f46\" fill-rule=\"evenodd\" fill-opacity=\"1\" stroke=\"#000000\" stroke-opacity=\"1\" stroke-width=\"3.2\"/>\n",
       "<circle clip-path=\"url(#clip652)\" cx=\"662.359\" cy=\"874.956\" r=\"14.4\" fill=\"#e26f46\" fill-rule=\"evenodd\" fill-opacity=\"1\" stroke=\"#000000\" stroke-opacity=\"1\" stroke-width=\"3.2\"/>\n",
       "<circle clip-path=\"url(#clip652)\" cx=\"713.275\" cy=\"773.125\" r=\"14.4\" fill=\"#e26f46\" fill-rule=\"evenodd\" fill-opacity=\"1\" stroke=\"#000000\" stroke-opacity=\"1\" stroke-width=\"3.2\"/>\n",
       "<circle clip-path=\"url(#clip652)\" cx=\"764.19\" cy=\"671.23\" r=\"14.4\" fill=\"#e26f46\" fill-rule=\"evenodd\" fill-opacity=\"1\" stroke=\"#000000\" stroke-opacity=\"1\" stroke-width=\"3.2\"/>\n",
       "<circle clip-path=\"url(#clip652)\" cx=\"815.106\" cy=\"571.56\" r=\"14.4\" fill=\"#e26f46\" fill-rule=\"evenodd\" fill-opacity=\"1\" stroke=\"#000000\" stroke-opacity=\"1\" stroke-width=\"3.2\"/>\n",
       "<circle clip-path=\"url(#clip652)\" cx=\"866.021\" cy=\"476.351\" r=\"14.4\" fill=\"#e26f46\" fill-rule=\"evenodd\" fill-opacity=\"1\" stroke=\"#000000\" stroke-opacity=\"1\" stroke-width=\"3.2\"/>\n",
       "<circle clip-path=\"url(#clip652)\" cx=\"916.937\" cy=\"387.743\" r=\"14.4\" fill=\"#e26f46\" fill-rule=\"evenodd\" fill-opacity=\"1\" stroke=\"#000000\" stroke-opacity=\"1\" stroke-width=\"3.2\"/>\n",
       "<circle clip-path=\"url(#clip652)\" cx=\"967.853\" cy=\"307.726\" r=\"14.4\" fill=\"#e26f46\" fill-rule=\"evenodd\" fill-opacity=\"1\" stroke=\"#000000\" stroke-opacity=\"1\" stroke-width=\"3.2\"/>\n",
       "<circle clip-path=\"url(#clip652)\" cx=\"1018.77\" cy=\"238.096\" r=\"14.4\" fill=\"#e26f46\" fill-rule=\"evenodd\" fill-opacity=\"1\" stroke=\"#000000\" stroke-opacity=\"1\" stroke-width=\"3.2\"/>\n",
       "<circle clip-path=\"url(#clip652)\" cx=\"1069.68\" cy=\"180.417\" r=\"14.4\" fill=\"#e26f46\" fill-rule=\"evenodd\" fill-opacity=\"1\" stroke=\"#000000\" stroke-opacity=\"1\" stroke-width=\"3.2\"/>\n",
       "<circle clip-path=\"url(#clip652)\" cx=\"1120.6\" cy=\"135.985\" r=\"14.4\" fill=\"#e26f46\" fill-rule=\"evenodd\" fill-opacity=\"1\" stroke=\"#000000\" stroke-opacity=\"1\" stroke-width=\"3.2\"/>\n",
       "<circle clip-path=\"url(#clip652)\" cx=\"1171.51\" cy=\"105.797\" r=\"14.4\" fill=\"#e26f46\" fill-rule=\"evenodd\" fill-opacity=\"1\" stroke=\"#000000\" stroke-opacity=\"1\" stroke-width=\"3.2\"/>\n",
       "<circle clip-path=\"url(#clip652)\" cx=\"1222.43\" cy=\"90.532\" r=\"14.4\" fill=\"#e26f46\" fill-rule=\"evenodd\" fill-opacity=\"1\" stroke=\"#000000\" stroke-opacity=\"1\" stroke-width=\"3.2\"/>\n",
       "<circle clip-path=\"url(#clip652)\" cx=\"1273.35\" cy=\"90.532\" r=\"14.4\" fill=\"#e26f46\" fill-rule=\"evenodd\" fill-opacity=\"1\" stroke=\"#000000\" stroke-opacity=\"1\" stroke-width=\"3.2\"/>\n",
       "<circle clip-path=\"url(#clip652)\" cx=\"1324.26\" cy=\"105.797\" r=\"14.4\" fill=\"#e26f46\" fill-rule=\"evenodd\" fill-opacity=\"1\" stroke=\"#000000\" stroke-opacity=\"1\" stroke-width=\"3.2\"/>\n",
       "<circle clip-path=\"url(#clip652)\" cx=\"1375.18\" cy=\"135.985\" r=\"14.4\" fill=\"#e26f46\" fill-rule=\"evenodd\" fill-opacity=\"1\" stroke=\"#000000\" stroke-opacity=\"1\" stroke-width=\"3.2\"/>\n",
       "<circle clip-path=\"url(#clip652)\" cx=\"1426.09\" cy=\"180.417\" r=\"14.4\" fill=\"#e26f46\" fill-rule=\"evenodd\" fill-opacity=\"1\" stroke=\"#000000\" stroke-opacity=\"1\" stroke-width=\"3.2\"/>\n",
       "<circle clip-path=\"url(#clip652)\" cx=\"1477.01\" cy=\"238.096\" r=\"14.4\" fill=\"#e26f46\" fill-rule=\"evenodd\" fill-opacity=\"1\" stroke=\"#000000\" stroke-opacity=\"1\" stroke-width=\"3.2\"/>\n",
       "<circle clip-path=\"url(#clip652)\" cx=\"1527.92\" cy=\"307.726\" r=\"14.4\" fill=\"#e26f46\" fill-rule=\"evenodd\" fill-opacity=\"1\" stroke=\"#000000\" stroke-opacity=\"1\" stroke-width=\"3.2\"/>\n",
       "<circle clip-path=\"url(#clip652)\" cx=\"1578.84\" cy=\"387.743\" r=\"14.4\" fill=\"#e26f46\" fill-rule=\"evenodd\" fill-opacity=\"1\" stroke=\"#000000\" stroke-opacity=\"1\" stroke-width=\"3.2\"/>\n",
       "<circle clip-path=\"url(#clip652)\" cx=\"1629.75\" cy=\"476.351\" r=\"14.4\" fill=\"#e26f46\" fill-rule=\"evenodd\" fill-opacity=\"1\" stroke=\"#000000\" stroke-opacity=\"1\" stroke-width=\"3.2\"/>\n",
       "<circle clip-path=\"url(#clip652)\" cx=\"1680.67\" cy=\"571.56\" r=\"14.4\" fill=\"#e26f46\" fill-rule=\"evenodd\" fill-opacity=\"1\" stroke=\"#000000\" stroke-opacity=\"1\" stroke-width=\"3.2\"/>\n",
       "<circle clip-path=\"url(#clip652)\" cx=\"1731.59\" cy=\"671.23\" r=\"14.4\" fill=\"#e26f46\" fill-rule=\"evenodd\" fill-opacity=\"1\" stroke=\"#000000\" stroke-opacity=\"1\" stroke-width=\"3.2\"/>\n",
       "<circle clip-path=\"url(#clip652)\" cx=\"1782.5\" cy=\"773.125\" r=\"14.4\" fill=\"#e26f46\" fill-rule=\"evenodd\" fill-opacity=\"1\" stroke=\"#000000\" stroke-opacity=\"1\" stroke-width=\"3.2\"/>\n",
       "<circle clip-path=\"url(#clip652)\" cx=\"1833.42\" cy=\"874.956\" r=\"14.4\" fill=\"#e26f46\" fill-rule=\"evenodd\" fill-opacity=\"1\" stroke=\"#000000\" stroke-opacity=\"1\" stroke-width=\"3.2\"/>\n",
       "<circle clip-path=\"url(#clip652)\" cx=\"1884.33\" cy=\"974.435\" r=\"14.4\" fill=\"#e26f46\" fill-rule=\"evenodd\" fill-opacity=\"1\" stroke=\"#000000\" stroke-opacity=\"1\" stroke-width=\"3.2\"/>\n",
       "<circle clip-path=\"url(#clip652)\" cx=\"1935.25\" cy=\"1069.33\" r=\"14.4\" fill=\"#e26f46\" fill-rule=\"evenodd\" fill-opacity=\"1\" stroke=\"#000000\" stroke-opacity=\"1\" stroke-width=\"3.2\"/>\n",
       "<circle clip-path=\"url(#clip652)\" cx=\"1986.16\" cy=\"1157.51\" r=\"14.4\" fill=\"#e26f46\" fill-rule=\"evenodd\" fill-opacity=\"1\" stroke=\"#000000\" stroke-opacity=\"1\" stroke-width=\"3.2\"/>\n",
       "<circle clip-path=\"url(#clip652)\" cx=\"2037.08\" cy=\"1236.99\" r=\"14.4\" fill=\"#e26f46\" fill-rule=\"evenodd\" fill-opacity=\"1\" stroke=\"#000000\" stroke-opacity=\"1\" stroke-width=\"3.2\"/>\n",
       "<circle clip-path=\"url(#clip652)\" cx=\"2087.99\" cy=\"1305.99\" r=\"14.4\" fill=\"#e26f46\" fill-rule=\"evenodd\" fill-opacity=\"1\" stroke=\"#000000\" stroke-opacity=\"1\" stroke-width=\"3.2\"/>\n",
       "<circle clip-path=\"url(#clip652)\" cx=\"2138.91\" cy=\"1362.95\" r=\"14.4\" fill=\"#e26f46\" fill-rule=\"evenodd\" fill-opacity=\"1\" stroke=\"#000000\" stroke-opacity=\"1\" stroke-width=\"3.2\"/>\n",
       "<circle clip-path=\"url(#clip652)\" cx=\"2189.83\" cy=\"1406.61\" r=\"14.4\" fill=\"#e26f46\" fill-rule=\"evenodd\" fill-opacity=\"1\" stroke=\"#000000\" stroke-opacity=\"1\" stroke-width=\"3.2\"/>\n",
       "<circle clip-path=\"url(#clip652)\" cx=\"2240.74\" cy=\"1435.98\" r=\"14.4\" fill=\"#e26f46\" fill-rule=\"evenodd\" fill-opacity=\"1\" stroke=\"#000000\" stroke-opacity=\"1\" stroke-width=\"3.2\"/>\n",
       "<path clip-path=\"url(#clip650)\" d=\"\n",
       "M1988.5 250.738 L2280.8 250.738 L2280.8 95.2176 L1988.5 95.2176  Z\n",
       "  \" fill=\"#ffffff\" fill-rule=\"evenodd\" fill-opacity=\"1\"/>\n",
       "<polyline clip-path=\"url(#clip650)\" style=\"stroke:#000000; stroke-linecap:butt; stroke-linejoin:round; stroke-width:4; stroke-opacity:1; fill:none\" points=\"\n",
       "  1988.5,250.738 2280.8,250.738 2280.8,95.2176 1988.5,95.2176 1988.5,250.738 \n",
       "  \"/>\n",
       "<polyline clip-path=\"url(#clip650)\" style=\"stroke:#009af9; stroke-linecap:butt; stroke-linejoin:round; stroke-width:4; stroke-opacity:1; fill:none\" points=\"\n",
       "  2012.48,147.058 2156.4,147.058 \n",
       "  \"/>\n",
       "<path clip-path=\"url(#clip650)\" d=\"M2194.23 166.745 Q2192.43 171.375 2190.72 172.787 Q2189 174.199 2186.13 174.199 L2182.73 174.199 L2182.73 170.634 L2185.23 170.634 Q2186.99 170.634 2187.96 169.8 Q2188.93 168.967 2190.11 165.865 L2190.88 163.921 L2180.39 138.412 L2184.91 138.412 L2193.01 158.689 L2201.11 138.412 L2205.62 138.412 L2194.23 166.745 Z\" fill=\"#000000\" fill-rule=\"evenodd\" fill-opacity=\"1\" /><path clip-path=\"url(#clip650)\" d=\"M2212.91 160.402 L2220.55 160.402 L2220.55 134.037 L2212.24 135.703 L2212.24 131.444 L2220.51 129.778 L2225.18 129.778 L2225.18 160.402 L2232.82 160.402 L2232.82 164.338 L2212.91 164.338 L2212.91 160.402 Z\" fill=\"#000000\" fill-rule=\"evenodd\" fill-opacity=\"1\" /><polyline clip-path=\"url(#clip650)\" style=\"stroke:#e26f46; stroke-linecap:butt; stroke-linejoin:round; stroke-width:4; stroke-opacity:1; fill:none\" points=\"\n",
       "  2012.48,198.898 2156.4,198.898 \n",
       "  \"/>\n",
       "<circle clip-path=\"url(#clip650)\" cx=\"2084.44\" cy=\"198.898\" r=\"23.04\" fill=\"#e26f46\" fill-rule=\"evenodd\" fill-opacity=\"1\" stroke=\"#000000\" stroke-opacity=\"1\" stroke-width=\"5.12\"/>\n",
       "<path clip-path=\"url(#clip650)\" d=\"M2194.23 218.585 Q2192.43 223.215 2190.72 224.627 Q2189 226.039 2186.13 226.039 L2182.73 226.039 L2182.73 222.474 L2185.23 222.474 Q2186.99 222.474 2187.96 221.64 Q2188.93 220.807 2190.11 217.705 L2190.88 215.761 L2180.39 190.252 L2184.91 190.252 L2193.01 210.529 L2201.11 190.252 L2205.62 190.252 L2194.23 218.585 Z\" fill=\"#000000\" fill-rule=\"evenodd\" fill-opacity=\"1\" /><path clip-path=\"url(#clip650)\" d=\"M2216.13 212.242 L2232.45 212.242 L2232.45 216.178 L2210.51 216.178 L2210.51 212.242 Q2213.17 209.488 2217.75 204.858 Q2222.36 200.205 2223.54 198.863 Q2225.78 196.34 2226.66 194.604 Q2227.57 192.844 2227.57 191.155 Q2227.57 188.4 2225.62 186.664 Q2223.7 184.928 2220.6 184.928 Q2218.4 184.928 2215.95 185.692 Q2213.52 186.455 2210.74 188.006 L2210.74 183.284 Q2213.56 182.15 2216.02 181.571 Q2218.47 180.993 2220.51 180.993 Q2225.88 180.993 2229.07 183.678 Q2232.27 186.363 2232.27 190.854 Q2232.27 192.983 2231.46 194.905 Q2230.67 196.803 2228.56 199.395 Q2227.98 200.067 2224.88 203.284 Q2221.78 206.479 2216.13 212.242 Z\" fill=\"#000000\" fill-rule=\"evenodd\" fill-opacity=\"1\" /></svg>\n"
      ]
     },
     "execution_count": 13,
     "metadata": {},
     "output_type": "execute_result"
    }
   ],
   "source": [
    "u_x = cos.(x)\n",
    "fd_u_x = (u[2:end] - u[1:end-1]) / h\n",
    "\n",
    "plot(x, u_x)\n",
    "plot!(x[1:end-1], fd_u_x, marker=:circle)"
   ]
  },
  {
   "cell_type": "markdown",
   "id": "e9bbb99e",
   "metadata": {
    "slideshow": {
     "slide_type": "slide"
    }
   },
   "source": [
    "# How accurate is it?\n",
    "\n",
    "Without loss of generality, we'll approximate $u'(x_i = 0)$, taking $h = x_{i+1} - x_i$.\n",
    "\n",
    "$$ u(x) = u(0) + u'(0)x + u''(0)x^2/2! + O(x^3)$$\n",
    "and substitute into the differencing formula\n",
    "$$ \\begin{split} u'(0) \\approx \\frac{u(h) - u(0)}{h} = h^{-1} \\Big( u(0) + u'(0) h + u''(0)h^2/2 + O(h^3) - u(0) \\Big) \\\\\n",
    "= u'(0) + u''(0)h/2 + O(h^2) . \\end{split}$$\n",
    "Evidently the error in this approximation is $u''(0)h/2 + O(h^2)$. We say this method is *first order accurate*."
   ]
  },
  {
   "cell_type": "markdown",
   "id": "3d1ef4b2",
   "metadata": {
    "cell_style": "center",
    "slideshow": {
     "slide_type": "slide"
    }
   },
   "source": [
    "# Activity on stability and accuracy computing derivatives"
   ]
  }
 ],
 "metadata": {
  "celltoolbar": "Slideshow",
  "kernelspec": {
   "display_name": "Julia 1.7.2",
   "language": "julia",
   "name": "julia-1.7"
  },
  "language_info": {
   "file_extension": ".jl",
   "mimetype": "application/julia",
   "name": "julia",
   "version": "1.8.0"
  },
  "rise": {
   "enable_chalkboard": true
  }
 },
 "nbformat": 4,
 "nbformat_minor": 5
}
