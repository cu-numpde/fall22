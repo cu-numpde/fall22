{
 "cells": [
  {
   "cell_type": "markdown",
   "id": "3471b94b",
   "metadata": {
    "cell_style": "center",
    "slideshow": {
     "slide_type": "slide"
    }
   },
   "source": [
    "# 2022-10-12 Krylov and preconditioning"
   ]
  },
  {
   "cell_type": "markdown",
   "id": "4159be0e",
   "metadata": {
    "cell_style": "split",
    "slideshow": {
     "slide_type": ""
    }
   },
   "source": [
    "## Last time\n",
    "\n",
    "* Classical iterative methods\n",
    "* Concept of preconditioning\n",
    "\n",
    "## Today\n",
    "* Krylov methods (focus on GMRES)\n",
    "* PETSc experiments\n",
    "* Simple preconditioners"
   ]
  },
  {
   "cell_type": "code",
   "execution_count": 3,
   "id": "e82d841d",
   "metadata": {
    "hideOutput": true,
    "slideshow": {
     "slide_type": "skip"
    }
   },
   "outputs": [
    {
     "data": {
      "text/plain": [
       "advdiff_matrix (generic function with 1 method)"
      ]
     },
     "execution_count": 3,
     "metadata": {},
     "output_type": "execute_result"
    }
   ],
   "source": [
    "using Plots\n",
    "default(linewidth=3)\n",
    "using LinearAlgebra\n",
    "using SparseArrays\n",
    "\n",
    "function my_spy(A)\n",
    "    cmax = norm(vec(A), Inf)\n",
    "    s = max(1, ceil(120 / size(A, 1)))\n",
    "    spy(A, marker=(:square, s), c=:diverging_rainbow_bgymr_45_85_c67_n256, clims=(-cmax, cmax))\n",
    "end\n",
    "\n",
    "function advdiff_matrix(n; kappa=1, wind=[0, 0])\n",
    "    h = 2 / (n + 1)\n",
    "    rows = Vector{Int64}()\n",
    "    cols = Vector{Int64}()\n",
    "    vals = Vector{Float64}()\n",
    "    idx((i, j),) = (i-1)*n + j\n",
    "    in_domain((i, j),) = 1 <= i <= n && 1 <= j <= n\n",
    "    stencil_advect = [-wind[1], -wind[2], 0, wind[1], wind[2]] / h\n",
    "    stencil_diffuse = [-1, -1, 4, -1, -1] * kappa / h^2\n",
    "    stencil = stencil_advect + stencil_diffuse\n",
    "    for i in 1:n\n",
    "        for j in 1:n\n",
    "            neighbors = [(i-1, j), (i, j-1), (i, j), (i+1, j), (i, j+1)]\n",
    "            mask = in_domain.(neighbors)\n",
    "            append!(rows, idx.(repeat([(i,j)], 5))[mask])\n",
    "            append!(cols, idx.(neighbors)[mask])\n",
    "            append!(vals, stencil[mask])\n",
    "        end\n",
    "    end\n",
    "    sparse(rows, cols, vals)\n",
    "end"
   ]
  },
  {
   "cell_type": "markdown",
   "id": "890e5b17",
   "metadata": {
    "slideshow": {
     "slide_type": "slide"
    }
   },
   "source": [
    "# Krylov subspaces\n",
    "\n",
    "All matrix iterations work with approximations in a *Krylov subspace*, which has the form\n",
    "\n",
    "$$ K_n = \\big[ b \\big| Ab \\big| A^2 b \\big| \\dotsm \\big| A^{n-1} b \\big] . $$\n",
    "\n",
    "This matrix is horribly ill-conditioned and cannot stably be computed as written.  Instead, we seek an orthogonal basis $Q_n$ that spans the same space as $K_n$.  We could write this as a factorization\n",
    "\n",
    "$$ K_n = Q_n R_n $$\n",
    "\n",
    "where the first column $q_0 = b / \\lVert b \\rVert$.  The $R_n$ is unnecessary and hopelessly ill-conditioned, so a slightly different procedure is used."
   ]
  },
  {
   "cell_type": "markdown",
   "id": "e8701b02",
   "metadata": {
    "slideshow": {
     "slide_type": "slide"
    }
   },
   "source": [
    "# Arnoldi iteration\n",
    "\n",
    "The Arnoldi iteration applies orthogonal similarity transformations to reduce $A$ to [Hessenberg form](https://en.wikipedia.org/wiki/Hessenberg_matrix), starting from a vector $q_0 = b$,\n",
    "\n",
    "$$ A = Q H Q^* . $$\n",
    "\n",
    "Let's multiply on the right by $Q$ and examine the first $n$ columns,\n",
    "\n",
    "$$ A Q_n = Q_{n+1} H_n $$\n",
    "where $H_n$ is an $(n+1) \\times n$ Hessenberg matrix."
   ]
  },
  {
   "cell_type": "markdown",
   "id": "db7b3ce3",
   "metadata": {
    "slideshow": {
     "slide_type": "slide"
    }
   },
   "source": [
    "# Aside: Conditioning of Arnoldi process\n",
    "The Arnoldi process is well-conditioned because $Q$ is orthogonal and\n",
    "\n",
    "$$ \\lVert H_n \\rVert \\le \\lVert Q_{n+1}^* \\rVert \\lVert A \\rVert \\lVert Q_n \\rVert \\le \\lVert A \\rVert $$.\n",
    "\n",
    "For a lower bound, we have\n",
    "\n",
    "$$ \\sigma_{\\min}(A)^2 \\le x^* A^* A x $$\n",
    "\n",
    "for all $x$ of norm 1.  It must also be true for any $x = Q_n y$ where $\\lVert y\\rVert = 1$, thus\n",
    "\n",
    "$$ \\sigma_{\\min}(A)^2 \\le y^* Q_n^* A^* A Q_n y = y^* H_n^* Q_{n+1}^* Q_{n+1} H_n y = y^* H_n^* H_n y . $$"
   ]
  },
  {
   "cell_type": "markdown",
   "id": "d63150de",
   "metadata": {
    "slideshow": {
     "slide_type": "slide"
    }
   },
   "source": [
    "# GMRES\n",
    "$$ A Q_n = Q_{n+1} H_n $$"
   ]
  },
  {
   "cell_type": "markdown",
   "id": "1e634ae5",
   "metadata": {
    "cell_style": "split",
    "slideshow": {
     "slide_type": ""
    }
   },
   "source": [
    "GMRES (Generalized Minimum Residual) minimizes\n",
    "$$ \\lVert A x - b \\rVert $$\n",
    "over the subspace $Q_n$.  I.e., $x = Q_n y$ for some $y$.  By the Arnoldi recurrence, this is equivalent to\n",
    "$$ \\lVert Q_{n+1} H_n y - b \\lVert $$\n",
    "which can be solved by minimizing\n",
    "$$ \\lVert H_n y - Q_{n+1}^* b \\rVert . $$\n",
    "Since $q_0 = b/\\lVert b \\lVert$, the least squares problem is to minimize\n",
    "$$ \\Big\\lVert H_n y - \\lVert b \\rVert e_0 \\Big\\rVert . $$\n",
    "The solution of this least squares problem is achieved by incrementally updating a $QR$ factorization of $H_n$."
   ]
  },
  {
   "cell_type": "markdown",
   "id": "cda12635",
   "metadata": {
    "cell_style": "split",
    "slideshow": {
     "slide_type": "fragment"
    }
   },
   "source": [
    "## Notes\n",
    "* The solution $x_n$ constructed by GMRES at iteration $n$ is not explicitly available.  If a solution is needed, it must be constructed by solving the $(n+1)\\times n$ least squares problem and forming the solution as a linear combination of the $n$ vectors $Q_n$.  The leading cost is $2mn$ where $m \\gg n$.\n",
    "* The residual vector $r_n = A x_n - b$ is not explicitly available in GMRES.  To compute it, first build the solution $x_n$ as above.\n",
    "* GMRES minimizes the 2-norm of the residual $\\lVert r_n \\rVert$ which is equivalent to the $A^* A$ norm of the error $\\lVert x_n - x_* \\rVert_{A^* A}$."
   ]
  },
  {
   "cell_type": "markdown",
   "id": "f49f20ee",
   "metadata": {
    "slideshow": {
     "slide_type": "slide"
    }
   },
   "source": [
    "# More notes on GMRES\n",
    "\n",
    "* GMRES needs to store the full $Q_n$, which is unaffordable for large $n$ (many iterations).  The standard solution is to choose a \"restart\" $k$ and to discard $Q_n$ and start over with an initial guess $x_k$ after each $k$ iterations.  This algorithm is called GMRES(k).  PETSc's default solver is GMRES(30) and the restart can be controlled using the run-time option `-ksp_gmres_restart`.\n",
    "* Most implementations of GMRES use classical Gram-Schmidt because it is much faster in parallel (one reduction per iteration instead of $n$ reductions per iteration).  The PETSc option `-ksp_gmres_modifiedgramschmidt` can be used when you suspect that classical Gram-Schmidt may be causing instability.\n",
    "* There is a very similar (and older) algorithm called GCR that maintains $x_n$ and $r_n$.  This is useful, for example, if a convergence tolerance needs to inspect individual entries.  GCR requires $2n$ vectors instead of $n$ vectors, and can tolerate a nonlinear preconditioner.  FGMRES is a newer algorithm with similar properties to GCR."
   ]
  },
  {
   "cell_type": "markdown",
   "id": "a07ae2a7",
   "metadata": {
    "slideshow": {
     "slide_type": "slide"
    }
   },
   "source": [
    "# Experiments in [PETSc](https://petsc.org)\n",
    "\n",
    "* PETSc = Portable Extensible Toolkit for Scientific computing\n",
    "* `./configure`, `make`\n",
    "  * Depends on BLAS and LAPACK (default system or package manager)\n",
    "    * or `./configure --download-f2cblaslapack --download-blis`\n",
    "  * Depends on MPI for parallelism (package manager)\n",
    "    * or `./configure --download-mpich` (or `--download-openmpi`)\n",
    "* `docker run -it --rm jedbrown/petsc`\n",
    "* Lots of examples (mostly C and Fortran, some Python)\n",
    "* Experimental bindings in Rust, Julia\n",
    "* We'll use `src/snes/tutorials/ex15.c`\n",
    "  * \"p-Bratu\": combines p-Laplacian with Bratu nonlinearity\n",
    "  $$ -\\nabla\\cdot\\big(\\kappa(\\nabla u) \\nabla u\\big) - \\lambda e^u = f $$\n",
    "  * Newton solver with Krylov on each iteration"
   ]
  },
  {
   "cell_type": "markdown",
   "id": "0144760c",
   "metadata": {
    "slideshow": {
     "slide_type": "slide"
    }
   },
   "source": [
    "# Simple preconditioners"
   ]
  },
  {
   "cell_type": "markdown",
   "id": "b0c22dd4",
   "metadata": {
    "cell_style": "split"
   },
   "source": [
    "## Jacobi `-pc_type jacobi`\n",
    "\n",
    "$$ P_{\\text{Jacobi}}^{-1} = D^{-1} $$\n",
    "where $D$ is the diagonal of $A$.\n",
    "\n",
    "## Gauss-Seidel `-pc_type sor`\n",
    "\n",
    "$$ P_{GS}^{-1} = (L+D)^{-1} $$\n",
    "where $L$ is the (strictly) lower triangular part of $A$.  The upper triangular part may be used instead, or a symmetric form\n",
    "$$ P_{SGS}^{-1} = (L+U)^{-1} A \\Big( I - (L+D)^{-1} \\Big) . $$\n",
    "\n",
    "### Over-relaxation\n",
    "\n",
    "`-pc_sor_omega 1.` is default (Gauss-Seidel)"
   ]
  },
  {
   "cell_type": "markdown",
   "id": "44f7d362",
   "metadata": {
    "cell_style": "split",
    "slideshow": {
     "slide_type": ""
    }
   },
   "source": [
    "## Run p-Laplacian example\n",
    "```console\n",
    "$ cd src/snes/tutorials\n",
    "$ make ex15\n",
    "$ ./ex15 -da_refine 2 -dm_view\n",
    "$ ./ex15 -ksp_monitor -pc_type jacobi\n",
    "$ ./ex15 -snes_view\n",
    "```\n",
    "\n",
    "## Experiments\n",
    "\n",
    "* How does iteration count vary under grid refinement?\n",
    "* How sensitive is it to parameters\n",
    "  * p-Laplacian `-p` $> 1$ and `-epsilon` $> 0$\n",
    "  * Bratu `-lambda` $< 6.8$\n",
    "* How sensitive to `-ksp_gmres_restart`?\n",
    "* `-ksp_monitor_true_residual`\n",
    "* `-ksp_view_eigenvalues`"
   ]
  },
  {
   "cell_type": "markdown",
   "id": "7359efcb",
   "metadata": {
    "slideshow": {
     "slide_type": "slide"
    }
   },
   "source": [
    "# Symmetric problems\n",
    "\n",
    "## Lanczos iteration: like GMRES for symmetric problems\n",
    "\n",
    "If $A$ is symmetric, then $H = Q^T A Q$ is also symmetric.  Since $H$ is Hessenberg, this means $H$ is tridiagonal.  Instead of storing $Q_n$, it is sufficient to store only the last two columns since the iteration satisfies a 3-term recurrence.  The analog of GMRES for the symmetric case is called MINRES and is also useful for solving symmetric indefinite problems.\n",
    "\n",
    "## Conjugate Gradients: changing the norm\n",
    "\n",
    "Instead of minimizing the $A^T A$ norm of the error, the Conjugate Gradient method minimizes the $A$ norm of the error.  For $A$ to induce a norm, it must be symmetric positive definite.  [Jeremy Shewchuck's guide to CG](http://www.cs.cmu.edu/%7Equake-papers/painless-conjugate-gradient.pdf) is an excellent resource."
   ]
  },
  {
   "cell_type": "markdown",
   "id": "c9f57e0b",
   "metadata": {
    "slideshow": {
     "slide_type": "slide"
    }
   },
   "source": [
    "# Incomplete factorization"
   ]
  },
  {
   "cell_type": "markdown",
   "id": "185b6d73",
   "metadata": {
    "cell_style": "split"
   },
   "source": [
    "* Start factoring like in a sparse direct solver\n",
    "  * **ILU(0)** Discard fill outside the sparsity pattern of $A$\n",
    "  * **ILU($k$)**: only allow $k$ levels of fill\n",
    "  * **ILUT($\\epsilon$)**: only keep fill values larger than $\\epsilon$\n",
    "\n",
    "## Experiments\n",
    "* Try `-pc_factor_levels 2`\n",
    "* Impact on cost (check `-log_view`)\n",
    "* Impact on scalability (`-da_refine 6`)"
   ]
  },
  {
   "cell_type": "markdown",
   "id": "81a5f1b4",
   "metadata": {
    "cell_style": "split"
   },
   "source": [
    "## Kershaw (1978) matrix\n",
    "\n",
    "Incomplete Cholesky can break down for SPD matrices.\n",
    "\n",
    "```console\n",
    "$ make $PETSC_ARCH/tests/ksp/pc/tutorials/ex1\n",
    "```\n",
    "and try running."
   ]
  },
  {
   "cell_type": "code",
   "execution_count": 16,
   "id": "3e389a97",
   "metadata": {
    "cell_style": "split"
   },
   "outputs": [
    {
     "data": {
      "text/plain": [
       "4-element Vector{Float64}:\n",
       " 0.17157287525380904\n",
       " 0.17157287525381085\n",
       " 5.828427124746186\n",
       " 5.82842712474619"
      ]
     },
     "execution_count": 16,
     "metadata": {},
     "output_type": "execute_result"
    }
   ],
   "source": [
    "K = [3 -2 0 2; -2 3 -2 0; 0 -2 3 -2; 2 0 -2 3]\n",
    "eigvals(K)"
   ]
  },
  {
   "cell_type": "markdown",
   "id": "b4ca1029",
   "metadata": {
    "slideshow": {
     "slide_type": "slide"
    }
   },
   "source": [
    "# Domain decomposition"
   ]
  },
  {
   "cell_type": "markdown",
   "id": "0cda10a9",
   "metadata": {
    "cell_style": "split"
   },
   "source": [
    "![](https://upload.wikimedia.org/wikipedia/commons/a/a9/Ddm_original_logo.png)"
   ]
  },
  {
   "cell_type": "markdown",
   "id": "2077fda9",
   "metadata": {
    "cell_style": "split"
   },
   "source": [
    "## Alternating Schwarz method\n",
    "```python\n",
    "bc_circ = guess()\n",
    "while not converged:\n",
    "    u_circ = solve(A_circ, bc_circ)\n",
    "    bc_rect = eval(u_circ, rect)\n",
    "    u_rect = solve(A_rect, bc_rect)\n",
    "    bc_circ = eval(u_rect, circ)\n",
    "```\n",
    "\n",
    "This method was proposed in 1870 by [Hermann Schwarz](https://en.wikipedia.org/wiki/Hermann_Schwarz) as a theoretical tool, and is now called a **multiplicative** Schwarz method because the solves depend on each other.  We can see it as a generalization of Gauss-Seidel in which we solve on subdomains instead of at individual grid points.  As with Gauss-Seidel, it is difficult to expose parallelism."
   ]
  },
  {
   "cell_type": "markdown",
   "id": "5cf8c455",
   "metadata": {
    "slideshow": {
     "slide_type": "slide"
    }
   },
   "source": [
    "# Additive Schwarz\n",
    "\n",
    "The additive Schwarz method is more comparable to Jacobi, with each domain solved in parallel.  Our fundamental operation will be an embedding of each subdomain $V_i$ into the global domain $V$, which we call the **prolongation**\n",
    "\n",
    "$$ P_i : V_i \\to V $$\n",
    "\n",
    "The transpose of prolongation, $P_i^T$, will sometimes be called **restriction**.\n",
    "Let's work an example."
   ]
  },
  {
   "cell_type": "code",
   "execution_count": 25,
   "id": "6a09a1ae",
   "metadata": {
    "cell_style": "split"
   },
   "outputs": [],
   "source": [
    "n = 21\n",
    "x = LinRange(-1, 1, n)\n",
    "overlap = 0\n",
    "domains = [(1, n÷3), (n÷3+1, 2*n÷3), (2*n÷3+1, n)]\n",
    "Id = diagm(ones(n))\n",
    "P = []\n",
    "for (i, (left, right)) in enumerate(domains)\n",
    "    push!(P, Id[:, left:right])\n",
    "end"
   ]
  },
  {
   "cell_type": "code",
   "execution_count": 27,
   "id": "554a4db2",
   "metadata": {
    "cell_style": "split"
   },
   "outputs": [
    {
     "data": {
      "image/svg+xml": [
       "<?xml version=\"1.0\" encoding=\"utf-8\"?>\n",
       "<svg xmlns=\"http://www.w3.org/2000/svg\" xmlns:xlink=\"http://www.w3.org/1999/xlink\" width=\"600\" height=\"400\" viewBox=\"0 0 2400 1600\">\n",
       "<defs>\n",
       "  <clipPath id=\"clip220\">\n",
       "    <rect x=\"0\" y=\"0\" width=\"2400\" height=\"1600\"/>\n",
       "  </clipPath>\n",
       "</defs>\n",
       "<path clip-path=\"url(#clip220)\" d=\"\n",
       "M0 1600 L2400 1600 L2400 0 L0 0  Z\n",
       "  \" fill=\"#ffffff\" fill-rule=\"evenodd\" fill-opacity=\"1\"/>\n",
       "<defs>\n",
       "  <clipPath id=\"clip221\">\n",
       "    <rect x=\"480\" y=\"0\" width=\"1681\" height=\"1600\"/>\n",
       "  </clipPath>\n",
       "</defs>\n",
       "<path clip-path=\"url(#clip220)\" d=\"\n",
       "M156.112 1486.45 L2352.76 1486.45 L2352.76 47.2441 L156.112 47.2441  Z\n",
       "  \" fill=\"#ffffff\" fill-rule=\"evenodd\" fill-opacity=\"1\"/>\n",
       "<defs>\n",
       "  <clipPath id=\"clip222\">\n",
       "    <rect x=\"156\" y=\"47\" width=\"2198\" height=\"1440\"/>\n",
       "  </clipPath>\n",
       "</defs>\n",
       "<polyline clip-path=\"url(#clip222)\" style=\"stroke:#000000; stroke-linecap:butt; stroke-linejoin:round; stroke-width:2; stroke-opacity:0.1; fill:none\" points=\"\n",
       "  218.281,1486.45 218.281,47.2441 \n",
       "  \"/>\n",
       "<polyline clip-path=\"url(#clip222)\" style=\"stroke:#000000; stroke-linecap:butt; stroke-linejoin:round; stroke-width:2; stroke-opacity:0.1; fill:none\" points=\"\n",
       "  736.358,1486.45 736.358,47.2441 \n",
       "  \"/>\n",
       "<polyline clip-path=\"url(#clip222)\" style=\"stroke:#000000; stroke-linecap:butt; stroke-linejoin:round; stroke-width:2; stroke-opacity:0.1; fill:none\" points=\"\n",
       "  1254.43,1486.45 1254.43,47.2441 \n",
       "  \"/>\n",
       "<polyline clip-path=\"url(#clip222)\" style=\"stroke:#000000; stroke-linecap:butt; stroke-linejoin:round; stroke-width:2; stroke-opacity:0.1; fill:none\" points=\"\n",
       "  1772.51,1486.45 1772.51,47.2441 \n",
       "  \"/>\n",
       "<polyline clip-path=\"url(#clip222)\" style=\"stroke:#000000; stroke-linecap:butt; stroke-linejoin:round; stroke-width:2; stroke-opacity:0.1; fill:none\" points=\"\n",
       "  2290.59,1486.45 2290.59,47.2441 \n",
       "  \"/>\n",
       "<polyline clip-path=\"url(#clip220)\" style=\"stroke:#000000; stroke-linecap:butt; stroke-linejoin:round; stroke-width:4; stroke-opacity:1; fill:none\" points=\"\n",
       "  156.112,1486.45 2352.76,1486.45 \n",
       "  \"/>\n",
       "<polyline clip-path=\"url(#clip220)\" style=\"stroke:#000000; stroke-linecap:butt; stroke-linejoin:round; stroke-width:4; stroke-opacity:1; fill:none\" points=\"\n",
       "  218.281,1486.45 218.281,1467.55 \n",
       "  \"/>\n",
       "<polyline clip-path=\"url(#clip220)\" style=\"stroke:#000000; stroke-linecap:butt; stroke-linejoin:round; stroke-width:4; stroke-opacity:1; fill:none\" points=\"\n",
       "  736.358,1486.45 736.358,1467.55 \n",
       "  \"/>\n",
       "<polyline clip-path=\"url(#clip220)\" style=\"stroke:#000000; stroke-linecap:butt; stroke-linejoin:round; stroke-width:4; stroke-opacity:1; fill:none\" points=\"\n",
       "  1254.43,1486.45 1254.43,1467.55 \n",
       "  \"/>\n",
       "<polyline clip-path=\"url(#clip220)\" style=\"stroke:#000000; stroke-linecap:butt; stroke-linejoin:round; stroke-width:4; stroke-opacity:1; fill:none\" points=\"\n",
       "  1772.51,1486.45 1772.51,1467.55 \n",
       "  \"/>\n",
       "<polyline clip-path=\"url(#clip220)\" style=\"stroke:#000000; stroke-linecap:butt; stroke-linejoin:round; stroke-width:4; stroke-opacity:1; fill:none\" points=\"\n",
       "  2290.59,1486.45 2290.59,1467.55 \n",
       "  \"/>\n",
       "<path clip-path=\"url(#clip220)\" d=\"M164.809 1530.29 L194.485 1530.29 L194.485 1534.23 L164.809 1534.23 L164.809 1530.29 Z\" fill=\"#000000\" fill-rule=\"evenodd\" fill-opacity=\"1\" /><path clip-path=\"url(#clip220)\" d=\"M205.388 1543.18 L213.027 1543.18 L213.027 1516.82 L204.717 1518.49 L204.717 1514.23 L212.98 1512.56 L217.656 1512.56 L217.656 1543.18 L225.295 1543.18 L225.295 1547.12 L205.388 1547.12 L205.388 1543.18 Z\" fill=\"#000000\" fill-rule=\"evenodd\" fill-opacity=\"1\" /><path clip-path=\"url(#clip220)\" d=\"M234.74 1541.24 L239.624 1541.24 L239.624 1547.12 L234.74 1547.12 L234.74 1541.24 Z\" fill=\"#000000\" fill-rule=\"evenodd\" fill-opacity=\"1\" /><path clip-path=\"url(#clip220)\" d=\"M259.809 1515.64 Q256.198 1515.64 254.369 1519.2 Q252.564 1522.75 252.564 1529.87 Q252.564 1536.98 254.369 1540.55 Q256.198 1544.09 259.809 1544.09 Q263.443 1544.09 265.249 1540.55 Q267.077 1536.98 267.077 1529.87 Q267.077 1522.75 265.249 1519.2 Q263.443 1515.64 259.809 1515.64 M259.809 1511.93 Q265.619 1511.93 268.675 1516.54 Q271.753 1521.12 271.753 1529.87 Q271.753 1538.6 268.675 1543.21 Q265.619 1547.79 259.809 1547.79 Q253.999 1547.79 250.92 1543.21 Q247.864 1538.6 247.864 1529.87 Q247.864 1521.12 250.92 1516.54 Q253.999 1511.93 259.809 1511.93 Z\" fill=\"#000000\" fill-rule=\"evenodd\" fill-opacity=\"1\" /><path clip-path=\"url(#clip220)\" d=\"M683.383 1530.29 L713.059 1530.29 L713.059 1534.23 L683.383 1534.23 L683.383 1530.29 Z\" fill=\"#000000\" fill-rule=\"evenodd\" fill-opacity=\"1\" /><path clip-path=\"url(#clip220)\" d=\"M733.152 1515.64 Q729.541 1515.64 727.712 1519.2 Q725.906 1522.75 725.906 1529.87 Q725.906 1536.98 727.712 1540.55 Q729.541 1544.09 733.152 1544.09 Q736.786 1544.09 738.591 1540.55 Q740.42 1536.98 740.42 1529.87 Q740.42 1522.75 738.591 1519.2 Q736.786 1515.64 733.152 1515.64 M733.152 1511.93 Q738.962 1511.93 742.017 1516.54 Q745.096 1521.12 745.096 1529.87 Q745.096 1538.6 742.017 1543.21 Q738.962 1547.79 733.152 1547.79 Q727.341 1547.79 724.263 1543.21 Q721.207 1538.6 721.207 1529.87 Q721.207 1521.12 724.263 1516.54 Q727.341 1511.93 733.152 1511.93 Z\" fill=\"#000000\" fill-rule=\"evenodd\" fill-opacity=\"1\" /><path clip-path=\"url(#clip220)\" d=\"M753.314 1541.24 L758.198 1541.24 L758.198 1547.12 L753.314 1547.12 L753.314 1541.24 Z\" fill=\"#000000\" fill-rule=\"evenodd\" fill-opacity=\"1\" /><path clip-path=\"url(#clip220)\" d=\"M768.429 1512.56 L786.786 1512.56 L786.786 1516.5 L772.712 1516.5 L772.712 1524.97 Q773.73 1524.62 774.749 1524.46 Q775.767 1524.27 776.786 1524.27 Q782.573 1524.27 785.952 1527.44 Q789.332 1530.62 789.332 1536.03 Q789.332 1541.61 785.86 1544.71 Q782.387 1547.79 776.068 1547.79 Q773.892 1547.79 771.624 1547.42 Q769.378 1547.05 766.971 1546.31 L766.971 1541.61 Q769.054 1542.74 771.276 1543.3 Q773.499 1543.86 775.975 1543.86 Q779.98 1543.86 782.318 1541.75 Q784.656 1539.64 784.656 1536.03 Q784.656 1532.42 782.318 1530.31 Q779.98 1528.21 775.975 1528.21 Q774.101 1528.21 772.226 1528.62 Q770.374 1529.04 768.429 1529.92 L768.429 1512.56 Z\" fill=\"#000000\" fill-rule=\"evenodd\" fill-opacity=\"1\" /><path clip-path=\"url(#clip220)\" d=\"M1231.82 1515.64 Q1228.21 1515.64 1226.38 1519.2 Q1224.57 1522.75 1224.57 1529.87 Q1224.57 1536.98 1226.38 1540.55 Q1228.21 1544.09 1231.82 1544.09 Q1235.45 1544.09 1237.26 1540.55 Q1239.09 1536.98 1239.09 1529.87 Q1239.09 1522.75 1237.26 1519.2 Q1235.45 1515.64 1231.82 1515.64 M1231.82 1511.93 Q1237.63 1511.93 1240.68 1516.54 Q1243.76 1521.12 1243.76 1529.87 Q1243.76 1538.6 1240.68 1543.21 Q1237.63 1547.79 1231.82 1547.79 Q1226.01 1547.79 1222.93 1543.21 Q1219.87 1538.6 1219.87 1529.87 Q1219.87 1521.12 1222.93 1516.54 Q1226.01 1511.93 1231.82 1511.93 Z\" fill=\"#000000\" fill-rule=\"evenodd\" fill-opacity=\"1\" /><path clip-path=\"url(#clip220)\" d=\"M1251.98 1541.24 L1256.86 1541.24 L1256.86 1547.12 L1251.98 1547.12 L1251.98 1541.24 Z\" fill=\"#000000\" fill-rule=\"evenodd\" fill-opacity=\"1\" /><path clip-path=\"url(#clip220)\" d=\"M1277.05 1515.64 Q1273.44 1515.64 1271.61 1519.2 Q1269.8 1522.75 1269.8 1529.87 Q1269.8 1536.98 1271.61 1540.55 Q1273.44 1544.09 1277.05 1544.09 Q1280.68 1544.09 1282.49 1540.55 Q1284.32 1536.98 1284.32 1529.87 Q1284.32 1522.75 1282.49 1519.2 Q1280.68 1515.64 1277.05 1515.64 M1277.05 1511.93 Q1282.86 1511.93 1285.92 1516.54 Q1288.99 1521.12 1288.99 1529.87 Q1288.99 1538.6 1285.92 1543.21 Q1282.86 1547.79 1277.05 1547.79 Q1271.24 1547.79 1268.16 1543.21 Q1265.11 1538.6 1265.11 1529.87 Q1265.11 1521.12 1268.16 1516.54 Q1271.24 1511.93 1277.05 1511.93 Z\" fill=\"#000000\" fill-rule=\"evenodd\" fill-opacity=\"1\" /><path clip-path=\"url(#clip220)\" d=\"M1750.39 1515.64 Q1746.78 1515.64 1744.95 1519.2 Q1743.15 1522.75 1743.15 1529.87 Q1743.15 1536.98 1744.95 1540.55 Q1746.78 1544.09 1750.39 1544.09 Q1754.03 1544.09 1755.83 1540.55 Q1757.66 1536.98 1757.66 1529.87 Q1757.66 1522.75 1755.83 1519.2 Q1754.03 1515.64 1750.39 1515.64 M1750.39 1511.93 Q1756.2 1511.93 1759.26 1516.54 Q1762.34 1521.12 1762.34 1529.87 Q1762.34 1538.6 1759.26 1543.21 Q1756.2 1547.79 1750.39 1547.79 Q1744.58 1547.79 1741.5 1543.21 Q1738.45 1538.6 1738.45 1529.87 Q1738.45 1521.12 1741.5 1516.54 Q1744.58 1511.93 1750.39 1511.93 Z\" fill=\"#000000\" fill-rule=\"evenodd\" fill-opacity=\"1\" /><path clip-path=\"url(#clip220)\" d=\"M1770.55 1541.24 L1775.44 1541.24 L1775.44 1547.12 L1770.55 1547.12 L1770.55 1541.24 Z\" fill=\"#000000\" fill-rule=\"evenodd\" fill-opacity=\"1\" /><path clip-path=\"url(#clip220)\" d=\"M1785.67 1512.56 L1804.03 1512.56 L1804.03 1516.5 L1789.95 1516.5 L1789.95 1524.97 Q1790.97 1524.62 1791.99 1524.46 Q1793.01 1524.27 1794.03 1524.27 Q1799.81 1524.27 1803.19 1527.44 Q1806.57 1530.62 1806.57 1536.03 Q1806.57 1541.61 1803.1 1544.71 Q1799.63 1547.79 1793.31 1547.79 Q1791.13 1547.79 1788.86 1547.42 Q1786.62 1547.05 1784.21 1546.31 L1784.21 1541.61 Q1786.3 1542.74 1788.52 1543.3 Q1790.74 1543.86 1793.22 1543.86 Q1797.22 1543.86 1799.56 1541.75 Q1801.9 1539.64 1801.9 1536.03 Q1801.9 1532.42 1799.56 1530.31 Q1797.22 1528.21 1793.22 1528.21 Q1791.34 1528.21 1789.47 1528.62 Q1787.61 1529.04 1785.67 1529.92 L1785.67 1512.56 Z\" fill=\"#000000\" fill-rule=\"evenodd\" fill-opacity=\"1\" /><path clip-path=\"url(#clip220)\" d=\"M2257.74 1543.18 L2265.38 1543.18 L2265.38 1516.82 L2257.07 1518.49 L2257.07 1514.23 L2265.33 1512.56 L2270.01 1512.56 L2270.01 1543.18 L2277.65 1543.18 L2277.65 1547.12 L2257.74 1547.12 L2257.74 1543.18 Z\" fill=\"#000000\" fill-rule=\"evenodd\" fill-opacity=\"1\" /><path clip-path=\"url(#clip220)\" d=\"M2287.09 1541.24 L2291.98 1541.24 L2291.98 1547.12 L2287.09 1547.12 L2287.09 1541.24 Z\" fill=\"#000000\" fill-rule=\"evenodd\" fill-opacity=\"1\" /><path clip-path=\"url(#clip220)\" d=\"M2312.16 1515.64 Q2308.55 1515.64 2306.72 1519.2 Q2304.92 1522.75 2304.92 1529.87 Q2304.92 1536.98 2306.72 1540.55 Q2308.55 1544.09 2312.16 1544.09 Q2315.79 1544.09 2317.6 1540.55 Q2319.43 1536.98 2319.43 1529.87 Q2319.43 1522.75 2317.6 1519.2 Q2315.79 1515.64 2312.16 1515.64 M2312.16 1511.93 Q2317.97 1511.93 2321.03 1516.54 Q2324.11 1521.12 2324.11 1529.87 Q2324.11 1538.6 2321.03 1543.21 Q2317.97 1547.79 2312.16 1547.79 Q2306.35 1547.79 2303.27 1543.21 Q2300.22 1538.6 2300.22 1529.87 Q2300.22 1521.12 2303.27 1516.54 Q2306.35 1511.93 2312.16 1511.93 Z\" fill=\"#000000\" fill-rule=\"evenodd\" fill-opacity=\"1\" /><polyline clip-path=\"url(#clip222)\" style=\"stroke:#000000; stroke-linecap:butt; stroke-linejoin:round; stroke-width:2; stroke-opacity:0.1; fill:none\" points=\"\n",
       "  156.112,1445.72 2352.76,1445.72 \n",
       "  \"/>\n",
       "<polyline clip-path=\"url(#clip222)\" style=\"stroke:#000000; stroke-linecap:butt; stroke-linejoin:round; stroke-width:2; stroke-opacity:0.1; fill:none\" points=\"\n",
       "  156.112,1106.28 2352.76,1106.28 \n",
       "  \"/>\n",
       "<polyline clip-path=\"url(#clip222)\" style=\"stroke:#000000; stroke-linecap:butt; stroke-linejoin:round; stroke-width:2; stroke-opacity:0.1; fill:none\" points=\"\n",
       "  156.112,766.846 2352.76,766.846 \n",
       "  \"/>\n",
       "<polyline clip-path=\"url(#clip222)\" style=\"stroke:#000000; stroke-linecap:butt; stroke-linejoin:round; stroke-width:2; stroke-opacity:0.1; fill:none\" points=\"\n",
       "  156.112,427.411 2352.76,427.411 \n",
       "  \"/>\n",
       "<polyline clip-path=\"url(#clip222)\" style=\"stroke:#000000; stroke-linecap:butt; stroke-linejoin:round; stroke-width:2; stroke-opacity:0.1; fill:none\" points=\"\n",
       "  156.112,87.9763 2352.76,87.9763 \n",
       "  \"/>\n",
       "<polyline clip-path=\"url(#clip220)\" style=\"stroke:#000000; stroke-linecap:butt; stroke-linejoin:round; stroke-width:4; stroke-opacity:1; fill:none\" points=\"\n",
       "  156.112,1486.45 156.112,47.2441 \n",
       "  \"/>\n",
       "<polyline clip-path=\"url(#clip220)\" style=\"stroke:#000000; stroke-linecap:butt; stroke-linejoin:round; stroke-width:4; stroke-opacity:1; fill:none\" points=\"\n",
       "  156.112,1445.72 175.01,1445.72 \n",
       "  \"/>\n",
       "<polyline clip-path=\"url(#clip220)\" style=\"stroke:#000000; stroke-linecap:butt; stroke-linejoin:round; stroke-width:4; stroke-opacity:1; fill:none\" points=\"\n",
       "  156.112,1106.28 175.01,1106.28 \n",
       "  \"/>\n",
       "<polyline clip-path=\"url(#clip220)\" style=\"stroke:#000000; stroke-linecap:butt; stroke-linejoin:round; stroke-width:4; stroke-opacity:1; fill:none\" points=\"\n",
       "  156.112,766.846 175.01,766.846 \n",
       "  \"/>\n",
       "<polyline clip-path=\"url(#clip220)\" style=\"stroke:#000000; stroke-linecap:butt; stroke-linejoin:round; stroke-width:4; stroke-opacity:1; fill:none\" points=\"\n",
       "  156.112,427.411 175.01,427.411 \n",
       "  \"/>\n",
       "<polyline clip-path=\"url(#clip220)\" style=\"stroke:#000000; stroke-linecap:butt; stroke-linejoin:round; stroke-width:4; stroke-opacity:1; fill:none\" points=\"\n",
       "  156.112,87.9763 175.01,87.9763 \n",
       "  \"/>\n",
       "<path clip-path=\"url(#clip220)\" d=\"M62.9365 1431.51 Q59.3254 1431.51 57.4967 1435.08 Q55.6912 1438.62 55.6912 1445.75 Q55.6912 1452.86 57.4967 1456.42 Q59.3254 1459.96 62.9365 1459.96 Q66.5707 1459.96 68.3763 1456.42 Q70.205 1452.86 70.205 1445.75 Q70.205 1438.62 68.3763 1435.08 Q66.5707 1431.51 62.9365 1431.51 M62.9365 1427.81 Q68.7467 1427.81 71.8022 1432.42 Q74.8809 1437 74.8809 1445.75 Q74.8809 1454.48 71.8022 1459.08 Q68.7467 1463.67 62.9365 1463.67 Q57.1264 1463.67 54.0477 1459.08 Q50.9921 1454.48 50.9921 1445.75 Q50.9921 1437 54.0477 1432.42 Q57.1264 1427.81 62.9365 1427.81 Z\" fill=\"#000000\" fill-rule=\"evenodd\" fill-opacity=\"1\" /><path clip-path=\"url(#clip220)\" d=\"M83.0984 1457.12 L87.9827 1457.12 L87.9827 1463 L83.0984 1463 L83.0984 1457.12 Z\" fill=\"#000000\" fill-rule=\"evenodd\" fill-opacity=\"1\" /><path clip-path=\"url(#clip220)\" d=\"M108.168 1431.51 Q104.557 1431.51 102.728 1435.08 Q100.922 1438.62 100.922 1445.75 Q100.922 1452.86 102.728 1456.42 Q104.557 1459.96 108.168 1459.96 Q111.802 1459.96 113.608 1456.42 Q115.436 1452.86 115.436 1445.75 Q115.436 1438.62 113.608 1435.08 Q111.802 1431.51 108.168 1431.51 M108.168 1427.81 Q113.978 1427.81 117.033 1432.42 Q120.112 1437 120.112 1445.75 Q120.112 1454.48 117.033 1459.08 Q113.978 1463.67 108.168 1463.67 Q102.358 1463.67 99.2789 1459.08 Q96.2234 1454.48 96.2234 1445.75 Q96.2234 1437 99.2789 1432.42 Q102.358 1427.81 108.168 1427.81 Z\" fill=\"#000000\" fill-rule=\"evenodd\" fill-opacity=\"1\" /><path clip-path=\"url(#clip220)\" d=\"M63.9319 1092.08 Q60.3208 1092.08 58.4921 1095.64 Q56.6865 1099.19 56.6865 1106.32 Q56.6865 1113.42 58.4921 1116.99 Q60.3208 1120.53 63.9319 1120.53 Q67.5661 1120.53 69.3717 1116.99 Q71.2004 1113.42 71.2004 1106.32 Q71.2004 1099.19 69.3717 1095.64 Q67.5661 1092.08 63.9319 1092.08 M63.9319 1088.38 Q69.742 1088.38 72.7976 1092.98 Q75.8763 1097.57 75.8763 1106.32 Q75.8763 1115.04 72.7976 1119.65 Q69.742 1124.23 63.9319 1124.23 Q58.1217 1124.23 55.043 1119.65 Q51.9875 1115.04 51.9875 1106.32 Q51.9875 1097.57 55.043 1092.98 Q58.1217 1088.38 63.9319 1088.38 Z\" fill=\"#000000\" fill-rule=\"evenodd\" fill-opacity=\"1\" /><path clip-path=\"url(#clip220)\" d=\"M84.0938 1117.68 L88.978 1117.68 L88.978 1123.56 L84.0938 1123.56 L84.0938 1117.68 Z\" fill=\"#000000\" fill-rule=\"evenodd\" fill-opacity=\"1\" /><path clip-path=\"url(#clip220)\" d=\"M99.2095 1089 L117.566 1089 L117.566 1092.94 L103.492 1092.94 L103.492 1101.41 Q104.51 1101.06 105.529 1100.9 Q106.547 1100.71 107.566 1100.71 Q113.353 1100.71 116.733 1103.89 Q120.112 1107.06 120.112 1112.47 Q120.112 1118.05 116.64 1121.15 Q113.168 1124.23 106.848 1124.23 Q104.672 1124.23 102.404 1123.86 Q100.159 1123.49 97.7511 1122.75 L97.7511 1118.05 Q99.8345 1119.19 102.057 1119.74 Q104.279 1120.3 106.756 1120.3 Q110.76 1120.3 113.098 1118.19 Q115.436 1116.08 115.436 1112.47 Q115.436 1108.86 113.098 1106.76 Q110.76 1104.65 106.756 1104.65 Q104.881 1104.65 103.006 1105.07 Q101.154 1105.48 99.2095 1106.36 L99.2095 1089 Z\" fill=\"#000000\" fill-rule=\"evenodd\" fill-opacity=\"1\" /><path clip-path=\"url(#clip220)\" d=\"M53.7467 780.191 L61.3856 780.191 L61.3856 753.825 L53.0754 755.492 L53.0754 751.233 L61.3393 749.566 L66.0152 749.566 L66.0152 780.191 L73.654 780.191 L73.654 784.126 L53.7467 784.126 L53.7467 780.191 Z\" fill=\"#000000\" fill-rule=\"evenodd\" fill-opacity=\"1\" /><path clip-path=\"url(#clip220)\" d=\"M83.0984 778.246 L87.9827 778.246 L87.9827 784.126 L83.0984 784.126 L83.0984 778.246 Z\" fill=\"#000000\" fill-rule=\"evenodd\" fill-opacity=\"1\" /><path clip-path=\"url(#clip220)\" d=\"M108.168 752.645 Q104.557 752.645 102.728 756.209 Q100.922 759.751 100.922 766.881 Q100.922 773.987 102.728 777.552 Q104.557 781.094 108.168 781.094 Q111.802 781.094 113.608 777.552 Q115.436 773.987 115.436 766.881 Q115.436 759.751 113.608 756.209 Q111.802 752.645 108.168 752.645 M108.168 748.941 Q113.978 748.941 117.033 753.547 Q120.112 758.131 120.112 766.881 Q120.112 775.608 117.033 780.214 Q113.978 784.797 108.168 784.797 Q102.358 784.797 99.2789 780.214 Q96.2234 775.608 96.2234 766.881 Q96.2234 758.131 99.2789 753.547 Q102.358 748.941 108.168 748.941 Z\" fill=\"#000000\" fill-rule=\"evenodd\" fill-opacity=\"1\" /><path clip-path=\"url(#clip220)\" d=\"M54.7421 440.756 L62.381 440.756 L62.381 414.39 L54.0708 416.057 L54.0708 411.798 L62.3347 410.131 L67.0106 410.131 L67.0106 440.756 L74.6494 440.756 L74.6494 444.691 L54.7421 444.691 L54.7421 440.756 Z\" fill=\"#000000\" fill-rule=\"evenodd\" fill-opacity=\"1\" /><path clip-path=\"url(#clip220)\" d=\"M84.0938 438.812 L88.978 438.812 L88.978 444.691 L84.0938 444.691 L84.0938 438.812 Z\" fill=\"#000000\" fill-rule=\"evenodd\" fill-opacity=\"1\" /><path clip-path=\"url(#clip220)\" d=\"M99.2095 410.131 L117.566 410.131 L117.566 414.066 L103.492 414.066 L103.492 422.538 Q104.51 422.191 105.529 422.029 Q106.547 421.844 107.566 421.844 Q113.353 421.844 116.733 425.015 Q120.112 428.187 120.112 433.603 Q120.112 439.182 116.64 442.284 Q113.168 445.362 106.848 445.362 Q104.672 445.362 102.404 444.992 Q100.159 444.622 97.7511 443.881 L97.7511 439.182 Q99.8345 440.316 102.057 440.872 Q104.279 441.427 106.756 441.427 Q110.76 441.427 113.098 439.321 Q115.436 437.214 115.436 433.603 Q115.436 429.992 113.098 427.886 Q110.76 425.779 106.756 425.779 Q104.881 425.779 103.006 426.196 Q101.154 426.613 99.2095 427.492 L99.2095 410.131 Z\" fill=\"#000000\" fill-rule=\"evenodd\" fill-opacity=\"1\" /><path clip-path=\"url(#clip220)\" d=\"M56.9643 101.321 L73.2837 101.321 L73.2837 105.256 L51.3393 105.256 L51.3393 101.321 Q54.0014 98.5665 58.5847 93.9369 Q63.1911 89.2841 64.3717 87.9416 Q66.617 85.4184 67.4967 83.6823 Q68.3994 81.9231 68.3994 80.2333 Q68.3994 77.4786 66.455 75.7425 Q64.5337 74.0064 61.4319 74.0064 Q59.2328 74.0064 56.7791 74.7703 Q54.3486 75.5342 51.5708 77.0851 L51.5708 72.3629 Q54.3949 71.2287 56.8486 70.65 Q59.3023 70.0713 61.3393 70.0713 Q66.7096 70.0713 69.9041 72.7565 Q73.0985 75.4416 73.0985 79.9323 Q73.0985 82.062 72.2883 83.9832 Q71.5013 85.8814 69.3948 88.474 Q68.8161 89.1453 65.7143 92.3628 Q62.6124 95.5573 56.9643 101.321 Z\" fill=\"#000000\" fill-rule=\"evenodd\" fill-opacity=\"1\" /><path clip-path=\"url(#clip220)\" d=\"M83.0984 99.3767 L87.9827 99.3767 L87.9827 105.256 L83.0984 105.256 L83.0984 99.3767 Z\" fill=\"#000000\" fill-rule=\"evenodd\" fill-opacity=\"1\" /><path clip-path=\"url(#clip220)\" d=\"M108.168 73.775 Q104.557 73.775 102.728 77.3398 Q100.922 80.8814 100.922 88.011 Q100.922 95.1174 102.728 98.6822 Q104.557 102.224 108.168 102.224 Q111.802 102.224 113.608 98.6822 Q115.436 95.1174 115.436 88.011 Q115.436 80.8814 113.608 77.3398 Q111.802 73.775 108.168 73.775 M108.168 70.0713 Q113.978 70.0713 117.033 74.6777 Q120.112 79.261 120.112 88.011 Q120.112 96.7378 117.033 101.344 Q113.978 105.928 108.168 105.928 Q102.358 105.928 99.2789 101.344 Q96.2234 96.7378 96.2234 88.011 Q96.2234 79.261 99.2789 74.6777 Q102.358 70.0713 108.168 70.0713 Z\" fill=\"#000000\" fill-rule=\"evenodd\" fill-opacity=\"1\" /><polyline clip-path=\"url(#clip222)\" style=\"stroke:#009af9; stroke-linecap:butt; stroke-linejoin:round; stroke-width:16; stroke-opacity:1; fill:none\" points=\"\n",
       "  218.281,1438.92 321.897,1380.59 425.512,1267.44 529.127,1109.57 632.742,921.087 736.358,718.825 839.973,520.852 943.588,344.854 1047.2,206.551 1150.82,118.297 \n",
       "  1254.43,87.9763 1358.05,118.297 1461.66,206.551 1565.28,344.854 1668.9,520.852 1772.51,718.825 1876.13,921.087 1979.74,1109.57 2083.36,1267.44 2186.97,1380.59 \n",
       "  2290.59,1438.92 \n",
       "  \"/>\n",
       "<circle clip-path=\"url(#clip222)\" cx=\"943.588\" cy=\"344.854\" r=\"14\" fill=\"#e26f46\" fill-rule=\"evenodd\" fill-opacity=\"1\" stroke=\"#000000\" stroke-opacity=\"1\" stroke-width=\"3.2\"/>\n",
       "<circle clip-path=\"url(#clip222)\" cx=\"1047.2\" cy=\"206.551\" r=\"14\" fill=\"#e26f46\" fill-rule=\"evenodd\" fill-opacity=\"1\" stroke=\"#000000\" stroke-opacity=\"1\" stroke-width=\"3.2\"/>\n",
       "<circle clip-path=\"url(#clip222)\" cx=\"1150.82\" cy=\"118.297\" r=\"14\" fill=\"#e26f46\" fill-rule=\"evenodd\" fill-opacity=\"1\" stroke=\"#000000\" stroke-opacity=\"1\" stroke-width=\"3.2\"/>\n",
       "<circle clip-path=\"url(#clip222)\" cx=\"1254.43\" cy=\"87.9763\" r=\"14\" fill=\"#e26f46\" fill-rule=\"evenodd\" fill-opacity=\"1\" stroke=\"#000000\" stroke-opacity=\"1\" stroke-width=\"3.2\"/>\n",
       "<circle clip-path=\"url(#clip222)\" cx=\"1358.05\" cy=\"118.297\" r=\"14\" fill=\"#e26f46\" fill-rule=\"evenodd\" fill-opacity=\"1\" stroke=\"#000000\" stroke-opacity=\"1\" stroke-width=\"3.2\"/>\n",
       "<circle clip-path=\"url(#clip222)\" cx=\"1461.66\" cy=\"206.551\" r=\"14\" fill=\"#e26f46\" fill-rule=\"evenodd\" fill-opacity=\"1\" stroke=\"#000000\" stroke-opacity=\"1\" stroke-width=\"3.2\"/>\n",
       "<circle clip-path=\"url(#clip222)\" cx=\"1565.28\" cy=\"344.854\" r=\"14\" fill=\"#e26f46\" fill-rule=\"evenodd\" fill-opacity=\"1\" stroke=\"#000000\" stroke-opacity=\"1\" stroke-width=\"3.2\"/>\n",
       "<polyline clip-path=\"url(#clip222)\" style=\"stroke:#3da44d; stroke-linecap:butt; stroke-linejoin:round; stroke-width:16; stroke-opacity:1; fill:none\" points=\"\n",
       "  218.281,1445.72 321.897,1445.72 425.512,1445.72 529.127,1445.72 632.742,1445.72 736.358,1445.72 839.973,1445.72 943.588,344.854 1047.2,206.551 1150.82,118.297 \n",
       "  1254.43,87.9763 1358.05,118.297 1461.66,206.551 1565.28,344.854 1668.9,1445.72 1772.51,1445.72 1876.13,1445.72 1979.74,1445.72 2083.36,1445.72 2186.97,1445.72 \n",
       "  2290.59,1445.72 \n",
       "  \"/>\n",
       "<path clip-path=\"url(#clip222)\" d=\"M218.281 1429.72 L214.521 1440.53 L203.065 1440.77 L212.201 1447.7 L208.873 1458.66 L218.281 1452.12 L227.689 1458.66 L224.361 1447.7 L233.497 1440.77 L222.041 1440.53 L218.281 1429.72 Z\" fill=\"#3da44d\" fill-rule=\"evenodd\" fill-opacity=\"1\" stroke=\"#000000\" stroke-opacity=\"1\" stroke-width=\"3.2\"/>\n",
       "<path clip-path=\"url(#clip222)\" d=\"M321.897 1429.72 L318.137 1440.53 L306.681 1440.77 L315.817 1447.7 L312.489 1458.66 L321.897 1452.12 L331.305 1458.66 L327.977 1447.7 L337.113 1440.77 L325.657 1440.53 L321.897 1429.72 Z\" fill=\"#3da44d\" fill-rule=\"evenodd\" fill-opacity=\"1\" stroke=\"#000000\" stroke-opacity=\"1\" stroke-width=\"3.2\"/>\n",
       "<path clip-path=\"url(#clip222)\" d=\"M425.512 1429.72 L421.752 1440.53 L410.296 1440.77 L419.432 1447.7 L416.104 1458.66 L425.512 1452.12 L434.92 1458.66 L431.592 1447.7 L440.728 1440.77 L429.272 1440.53 L425.512 1429.72 Z\" fill=\"#3da44d\" fill-rule=\"evenodd\" fill-opacity=\"1\" stroke=\"#000000\" stroke-opacity=\"1\" stroke-width=\"3.2\"/>\n",
       "<path clip-path=\"url(#clip222)\" d=\"M529.127 1429.72 L525.367 1440.53 L513.911 1440.77 L523.047 1447.7 L519.719 1458.66 L529.127 1452.12 L538.535 1458.66 L535.207 1447.7 L544.343 1440.77 L532.887 1440.53 L529.127 1429.72 Z\" fill=\"#3da44d\" fill-rule=\"evenodd\" fill-opacity=\"1\" stroke=\"#000000\" stroke-opacity=\"1\" stroke-width=\"3.2\"/>\n",
       "<path clip-path=\"url(#clip222)\" d=\"M632.742 1429.72 L628.982 1440.53 L617.526 1440.77 L626.662 1447.7 L623.334 1458.66 L632.742 1452.12 L642.15 1458.66 L638.822 1447.7 L647.958 1440.77 L636.502 1440.53 L632.742 1429.72 Z\" fill=\"#3da44d\" fill-rule=\"evenodd\" fill-opacity=\"1\" stroke=\"#000000\" stroke-opacity=\"1\" stroke-width=\"3.2\"/>\n",
       "<path clip-path=\"url(#clip222)\" d=\"M736.358 1429.72 L732.598 1440.53 L721.142 1440.77 L730.278 1447.7 L726.95 1458.66 L736.358 1452.12 L745.766 1458.66 L742.438 1447.7 L751.574 1440.77 L740.118 1440.53 L736.358 1429.72 Z\" fill=\"#3da44d\" fill-rule=\"evenodd\" fill-opacity=\"1\" stroke=\"#000000\" stroke-opacity=\"1\" stroke-width=\"3.2\"/>\n",
       "<path clip-path=\"url(#clip222)\" d=\"M839.973 1429.72 L836.213 1440.53 L824.757 1440.77 L833.893 1447.7 L830.565 1458.66 L839.973 1452.12 L849.381 1458.66 L846.053 1447.7 L855.189 1440.77 L843.733 1440.53 L839.973 1429.72 Z\" fill=\"#3da44d\" fill-rule=\"evenodd\" fill-opacity=\"1\" stroke=\"#000000\" stroke-opacity=\"1\" stroke-width=\"3.2\"/>\n",
       "<path clip-path=\"url(#clip222)\" d=\"M943.588 328.854 L939.828 339.67 L928.372 339.91 L937.508 346.838 L934.18 357.798 L943.588 351.254 L952.996 357.798 L949.668 346.838 L958.804 339.91 L947.348 339.67 L943.588 328.854 Z\" fill=\"#3da44d\" fill-rule=\"evenodd\" fill-opacity=\"1\" stroke=\"#000000\" stroke-opacity=\"1\" stroke-width=\"3.2\"/>\n",
       "<path clip-path=\"url(#clip222)\" d=\"M1047.2 190.551 L1043.44 201.367 L1031.99 201.607 L1041.12 208.535 L1037.8 219.495 L1047.2 212.951 L1056.61 219.495 L1053.28 208.535 L1062.42 201.607 L1050.96 201.367 L1047.2 190.551 Z\" fill=\"#3da44d\" fill-rule=\"evenodd\" fill-opacity=\"1\" stroke=\"#000000\" stroke-opacity=\"1\" stroke-width=\"3.2\"/>\n",
       "<path clip-path=\"url(#clip222)\" d=\"M1150.82 102.297 L1147.06 113.113 L1135.6 113.353 L1144.74 120.281 L1141.41 131.241 L1150.82 124.697 L1160.23 131.241 L1156.9 120.281 L1166.03 113.353 L1154.58 113.113 L1150.82 102.297 Z\" fill=\"#3da44d\" fill-rule=\"evenodd\" fill-opacity=\"1\" stroke=\"#000000\" stroke-opacity=\"1\" stroke-width=\"3.2\"/>\n",
       "<path clip-path=\"url(#clip222)\" d=\"M1254.43 71.9763 L1250.67 82.7923 L1239.22 83.0323 L1248.35 89.9603 L1245.03 100.92 L1254.43 94.3763 L1263.84 100.92 L1260.51 89.9603 L1269.65 83.0323 L1258.19 82.7923 L1254.43 71.9763 Z\" fill=\"#3da44d\" fill-rule=\"evenodd\" fill-opacity=\"1\" stroke=\"#000000\" stroke-opacity=\"1\" stroke-width=\"3.2\"/>\n",
       "<path clip-path=\"url(#clip222)\" d=\"M1358.05 102.297 L1354.29 113.113 L1342.83 113.353 L1351.97 120.281 L1348.64 131.241 L1358.05 124.697 L1367.46 131.241 L1364.13 120.281 L1373.27 113.353 L1361.81 113.113 L1358.05 102.297 Z\" fill=\"#3da44d\" fill-rule=\"evenodd\" fill-opacity=\"1\" stroke=\"#000000\" stroke-opacity=\"1\" stroke-width=\"3.2\"/>\n",
       "<path clip-path=\"url(#clip222)\" d=\"M1461.66 190.551 L1457.9 201.367 L1446.45 201.607 L1455.58 208.535 L1452.26 219.495 L1461.66 212.951 L1471.07 219.495 L1467.74 208.535 L1476.88 201.607 L1465.42 201.367 L1461.66 190.551 Z\" fill=\"#3da44d\" fill-rule=\"evenodd\" fill-opacity=\"1\" stroke=\"#000000\" stroke-opacity=\"1\" stroke-width=\"3.2\"/>\n",
       "<path clip-path=\"url(#clip222)\" d=\"M1565.28 328.854 L1561.52 339.67 L1550.06 339.91 L1559.2 346.838 L1555.87 357.798 L1565.28 351.254 L1574.69 357.798 L1571.36 346.838 L1580.5 339.91 L1569.04 339.67 L1565.28 328.854 Z\" fill=\"#3da44d\" fill-rule=\"evenodd\" fill-opacity=\"1\" stroke=\"#000000\" stroke-opacity=\"1\" stroke-width=\"3.2\"/>\n",
       "<path clip-path=\"url(#clip222)\" d=\"M1668.9 1429.72 L1665.14 1440.53 L1653.68 1440.77 L1662.82 1447.7 L1659.49 1458.66 L1668.9 1452.12 L1678.3 1458.66 L1674.98 1447.7 L1684.11 1440.77 L1672.66 1440.53 L1668.9 1429.72 Z\" fill=\"#3da44d\" fill-rule=\"evenodd\" fill-opacity=\"1\" stroke=\"#000000\" stroke-opacity=\"1\" stroke-width=\"3.2\"/>\n",
       "<path clip-path=\"url(#clip222)\" d=\"M1772.51 1429.72 L1768.75 1440.53 L1757.29 1440.77 L1766.43 1447.7 L1763.1 1458.66 L1772.51 1452.12 L1781.92 1458.66 L1778.59 1447.7 L1787.73 1440.77 L1776.27 1440.53 L1772.51 1429.72 Z\" fill=\"#3da44d\" fill-rule=\"evenodd\" fill-opacity=\"1\" stroke=\"#000000\" stroke-opacity=\"1\" stroke-width=\"3.2\"/>\n",
       "<path clip-path=\"url(#clip222)\" d=\"M1876.13 1429.72 L1872.37 1440.53 L1860.91 1440.77 L1870.05 1447.7 L1866.72 1458.66 L1876.13 1452.12 L1885.53 1458.66 L1882.21 1447.7 L1891.34 1440.77 L1879.89 1440.53 L1876.13 1429.72 Z\" fill=\"#3da44d\" fill-rule=\"evenodd\" fill-opacity=\"1\" stroke=\"#000000\" stroke-opacity=\"1\" stroke-width=\"3.2\"/>\n",
       "<path clip-path=\"url(#clip222)\" d=\"M1979.74 1429.72 L1975.98 1440.53 L1964.52 1440.77 L1973.66 1447.7 L1970.33 1458.66 L1979.74 1452.12 L1989.15 1458.66 L1985.82 1447.7 L1994.96 1440.77 L1983.5 1440.53 L1979.74 1429.72 Z\" fill=\"#3da44d\" fill-rule=\"evenodd\" fill-opacity=\"1\" stroke=\"#000000\" stroke-opacity=\"1\" stroke-width=\"3.2\"/>\n",
       "<path clip-path=\"url(#clip222)\" d=\"M2083.36 1429.72 L2079.6 1440.53 L2068.14 1440.77 L2077.28 1447.7 L2073.95 1458.66 L2083.36 1452.12 L2092.76 1458.66 L2089.44 1447.7 L2098.57 1440.77 L2087.12 1440.53 L2083.36 1429.72 Z\" fill=\"#3da44d\" fill-rule=\"evenodd\" fill-opacity=\"1\" stroke=\"#000000\" stroke-opacity=\"1\" stroke-width=\"3.2\"/>\n",
       "<path clip-path=\"url(#clip222)\" d=\"M2186.97 1429.72 L2183.21 1440.53 L2171.76 1440.77 L2180.89 1447.7 L2177.56 1458.66 L2186.97 1452.12 L2196.38 1458.66 L2193.05 1447.7 L2202.19 1440.77 L2190.73 1440.53 L2186.97 1429.72 Z\" fill=\"#3da44d\" fill-rule=\"evenodd\" fill-opacity=\"1\" stroke=\"#000000\" stroke-opacity=\"1\" stroke-width=\"3.2\"/>\n",
       "<path clip-path=\"url(#clip222)\" d=\"M2290.59 1429.72 L2286.83 1440.53 L2275.37 1440.77 L2284.51 1447.7 L2281.18 1458.66 L2290.59 1452.12 L2299.99 1458.66 L2296.67 1447.7 L2305.8 1440.77 L2294.35 1440.53 L2290.59 1429.72 Z\" fill=\"#3da44d\" fill-rule=\"evenodd\" fill-opacity=\"1\" stroke=\"#000000\" stroke-opacity=\"1\" stroke-width=\"3.2\"/>\n",
       "<path clip-path=\"url(#clip220)\" d=\"\n",
       "M1982.45 302.578 L2279.53 302.578 L2279.53 95.2176 L1982.45 95.2176  Z\n",
       "  \" fill=\"#ffffff\" fill-rule=\"evenodd\" fill-opacity=\"1\"/>\n",
       "<polyline clip-path=\"url(#clip220)\" style=\"stroke:#000000; stroke-linecap:butt; stroke-linejoin:round; stroke-width:4; stroke-opacity:1; fill:none\" points=\"\n",
       "  1982.45,302.578 2279.53,302.578 2279.53,95.2176 1982.45,95.2176 1982.45,302.578 \n",
       "  \"/>\n",
       "<polyline clip-path=\"url(#clip220)\" style=\"stroke:#009af9; stroke-linecap:butt; stroke-linejoin:round; stroke-width:4; stroke-opacity:1; fill:none\" points=\"\n",
       "  2006.86,147.058 2153.3,147.058 \n",
       "  \"/>\n",
       "<path clip-path=\"url(#clip220)\" d=\"M2191.55 166.745 Q2189.75 171.375 2188.04 172.787 Q2186.32 174.199 2183.45 174.199 L2180.05 174.199 L2180.05 170.634 L2182.55 170.634 Q2184.31 170.634 2185.28 169.8 Q2186.25 168.967 2187.43 165.865 L2188.2 163.921 L2177.71 138.412 L2182.23 138.412 L2190.33 158.689 L2198.43 138.412 L2202.94 138.412 L2191.55 166.745 Z\" fill=\"#000000\" fill-rule=\"evenodd\" fill-opacity=\"1\" /><path clip-path=\"url(#clip220)\" d=\"M2210.23 160.402 L2217.87 160.402 L2217.87 134.037 L2209.56 135.703 L2209.56 131.444 L2217.83 129.778 L2222.5 129.778 L2222.5 160.402 L2230.14 160.402 L2230.14 164.338 L2210.23 164.338 L2210.23 160.402 Z\" fill=\"#000000\" fill-rule=\"evenodd\" fill-opacity=\"1\" /><circle clip-path=\"url(#clip220)\" cx=\"2080.08\" cy=\"198.898\" r=\"23\" fill=\"#e26f46\" fill-rule=\"evenodd\" fill-opacity=\"1\" stroke=\"#000000\" stroke-opacity=\"1\" stroke-width=\"5.12\"/>\n",
       "<path clip-path=\"url(#clip220)\" d=\"M2191.55 218.585 Q2189.75 223.215 2188.04 224.627 Q2186.32 226.039 2183.45 226.039 L2180.05 226.039 L2180.05 222.474 L2182.55 222.474 Q2184.31 222.474 2185.28 221.64 Q2186.25 220.807 2187.43 217.705 L2188.2 215.761 L2177.71 190.252 L2182.23 190.252 L2190.33 210.529 L2198.43 190.252 L2202.94 190.252 L2191.55 218.585 Z\" fill=\"#000000\" fill-rule=\"evenodd\" fill-opacity=\"1\" /><path clip-path=\"url(#clip220)\" d=\"M2213.45 212.242 L2229.77 212.242 L2229.77 216.178 L2207.83 216.178 L2207.83 212.242 Q2210.49 209.488 2215.07 204.858 Q2219.68 200.205 2220.86 198.863 Q2223.1 196.34 2223.98 194.604 Q2224.89 192.844 2224.89 191.155 Q2224.89 188.4 2222.94 186.664 Q2221.02 184.928 2217.92 184.928 Q2215.72 184.928 2213.27 185.692 Q2210.84 186.455 2208.06 188.006 L2208.06 183.284 Q2210.88 182.15 2213.34 181.571 Q2215.79 180.993 2217.83 180.993 Q2223.2 180.993 2226.39 183.678 Q2229.59 186.363 2229.59 190.854 Q2229.59 192.983 2228.78 194.905 Q2227.99 196.803 2225.88 199.395 Q2225.3 200.067 2222.2 203.284 Q2219.1 206.479 2213.45 212.242 Z\" fill=\"#000000\" fill-rule=\"evenodd\" fill-opacity=\"1\" /><polyline clip-path=\"url(#clip220)\" style=\"stroke:#3da44d; stroke-linecap:butt; stroke-linejoin:round; stroke-width:4; stroke-opacity:1; fill:none\" points=\"\n",
       "  2006.86,250.738 2153.3,250.738 \n",
       "  \"/>\n",
       "<path clip-path=\"url(#clip220)\" d=\"M2080.08 225.138 L2074.07 242.443 L2055.74 242.827 L2070.35 253.912 L2065.03 271.448 L2080.08 260.978 L2095.14 271.448 L2089.81 253.912 L2104.43 242.827 L2086.1 242.443 L2080.08 225.138 Z\" fill=\"#3da44d\" fill-rule=\"evenodd\" fill-opacity=\"1\" stroke=\"#000000\" stroke-opacity=\"1\" stroke-width=\"5.12\"/>\n",
       "<path clip-path=\"url(#clip220)\" d=\"M2191.55 270.425 Q2189.75 275.055 2188.04 276.467 Q2186.32 277.879 2183.45 277.879 L2180.05 277.879 L2180.05 274.314 L2182.55 274.314 Q2184.31 274.314 2185.28 273.48 Q2186.25 272.647 2187.43 269.545 L2188.2 267.601 L2177.71 242.092 L2182.23 242.092 L2190.33 262.369 L2198.43 242.092 L2202.94 242.092 L2191.55 270.425 Z\" fill=\"#000000\" fill-rule=\"evenodd\" fill-opacity=\"1\" /><path clip-path=\"url(#clip220)\" d=\"M2223.59 249.383 Q2226.95 250.101 2228.82 252.369 Q2230.72 254.638 2230.72 257.971 Q2230.72 263.087 2227.2 265.888 Q2223.68 268.689 2217.2 268.689 Q2215.03 268.689 2212.71 268.249 Q2210.42 267.832 2207.97 266.976 L2207.97 262.462 Q2209.91 263.596 2212.22 264.175 Q2214.54 264.754 2217.06 264.754 Q2221.46 264.754 2223.75 263.018 Q2226.07 261.281 2226.07 257.971 Q2226.07 254.916 2223.91 253.203 Q2221.79 251.467 2217.97 251.467 L2213.94 251.467 L2213.94 247.624 L2218.15 247.624 Q2221.6 247.624 2223.43 246.258 Q2225.26 244.87 2225.26 242.277 Q2225.26 239.615 2223.36 238.203 Q2221.48 236.768 2217.97 236.768 Q2216.04 236.768 2213.85 237.184 Q2211.65 237.601 2209.01 238.481 L2209.01 234.314 Q2211.67 233.573 2213.98 233.203 Q2216.32 232.833 2218.38 232.833 Q2223.71 232.833 2226.81 235.263 Q2229.91 237.67 2229.91 241.791 Q2229.91 244.661 2228.27 246.652 Q2226.62 248.62 2223.59 249.383 Z\" fill=\"#000000\" fill-rule=\"evenodd\" fill-opacity=\"1\" /></svg>\n"
      ]
     },
     "execution_count": 27,
     "metadata": {},
     "output_type": "execute_result"
    }
   ],
   "source": [
    "u = 1 .+ cos.(3*x)\n",
    "plot(x, u)\n",
    "u_2 = P[2]' * u\n",
    "scatter!(P[2]' * x, u_2)\n",
    "plot!(x, P[2] * u_2, marker=:auto)"
   ]
  },
  {
   "cell_type": "markdown",
   "id": "56ff7c31",
   "metadata": {
    "slideshow": {
     "slide_type": "slide"
    }
   },
   "source": [
    "# The algorithm"
   ]
  },
  {
   "cell_type": "markdown",
   "id": "3aac0e55",
   "metadata": {
    "cell_style": "split",
    "slideshow": {
     "slide_type": ""
    }
   },
   "source": [
    "Define the subdomain operator $$A_i = P_i^T A P_i$$\n",
    "The additive Schwarz preconditioner is\n",
    "$$ M^{-1} = \\sum_i P_i A_i^{-1} P_i^T $$\n",
    "and it has error iteration matrix\n",
    "$$ I - \\sum_i  P_i A_i^{-1} P_i^T A $$"
   ]
  },
  {
   "cell_type": "code",
   "execution_count": 30,
   "id": "8a477e7c",
   "metadata": {
    "cell_style": "split"
   },
   "outputs": [
    {
     "data": {
      "image/svg+xml": [
       "<?xml version=\"1.0\" encoding=\"utf-8\"?>\n",
       "<svg xmlns=\"http://www.w3.org/2000/svg\" xmlns:xlink=\"http://www.w3.org/1999/xlink\" width=\"600\" height=\"400\" viewBox=\"0 0 2400 1600\">\n",
       "<defs>\n",
       "  <clipPath id=\"clip340\">\n",
       "    <rect x=\"0\" y=\"0\" width=\"2400\" height=\"1600\"/>\n",
       "  </clipPath>\n",
       "</defs>\n",
       "<path clip-path=\"url(#clip340)\" d=\"\n",
       "M0 1600 L2400 1600 L2400 0 L0 0  Z\n",
       "  \" fill=\"#ffffff\" fill-rule=\"evenodd\" fill-opacity=\"1\"/>\n",
       "<defs>\n",
       "  <clipPath id=\"clip341\">\n",
       "    <rect x=\"480\" y=\"0\" width=\"1681\" height=\"1600\"/>\n",
       "  </clipPath>\n",
       "</defs>\n",
       "<path clip-path=\"url(#clip340)\" d=\"\n",
       "M156.598 1486.45 L2352.76 1486.45 L2352.76 47.2441 L156.598 47.2441  Z\n",
       "  \" fill=\"#ffffff\" fill-rule=\"evenodd\" fill-opacity=\"1\"/>\n",
       "<defs>\n",
       "  <clipPath id=\"clip342\">\n",
       "    <rect x=\"156\" y=\"47\" width=\"2197\" height=\"1440\"/>\n",
       "  </clipPath>\n",
       "</defs>\n",
       "<polyline clip-path=\"url(#clip342)\" style=\"stroke:#000000; stroke-linecap:butt; stroke-linejoin:round; stroke-width:2; stroke-opacity:0.1; fill:none\" points=\"\n",
       "  218.754,1486.45 218.754,47.2441 \n",
       "  \"/>\n",
       "<polyline clip-path=\"url(#clip342)\" style=\"stroke:#000000; stroke-linecap:butt; stroke-linejoin:round; stroke-width:2; stroke-opacity:0.1; fill:none\" points=\"\n",
       "  736.715,1486.45 736.715,47.2441 \n",
       "  \"/>\n",
       "<polyline clip-path=\"url(#clip342)\" style=\"stroke:#000000; stroke-linecap:butt; stroke-linejoin:round; stroke-width:2; stroke-opacity:0.1; fill:none\" points=\"\n",
       "  1254.68,1486.45 1254.68,47.2441 \n",
       "  \"/>\n",
       "<polyline clip-path=\"url(#clip342)\" style=\"stroke:#000000; stroke-linecap:butt; stroke-linejoin:round; stroke-width:2; stroke-opacity:0.1; fill:none\" points=\"\n",
       "  1772.64,1486.45 1772.64,47.2441 \n",
       "  \"/>\n",
       "<polyline clip-path=\"url(#clip342)\" style=\"stroke:#000000; stroke-linecap:butt; stroke-linejoin:round; stroke-width:2; stroke-opacity:0.1; fill:none\" points=\"\n",
       "  2290.6,1486.45 2290.6,47.2441 \n",
       "  \"/>\n",
       "<polyline clip-path=\"url(#clip340)\" style=\"stroke:#000000; stroke-linecap:butt; stroke-linejoin:round; stroke-width:4; stroke-opacity:1; fill:none\" points=\"\n",
       "  156.598,1486.45 2352.76,1486.45 \n",
       "  \"/>\n",
       "<polyline clip-path=\"url(#clip340)\" style=\"stroke:#000000; stroke-linecap:butt; stroke-linejoin:round; stroke-width:4; stroke-opacity:1; fill:none\" points=\"\n",
       "  218.754,1486.45 218.754,1467.55 \n",
       "  \"/>\n",
       "<polyline clip-path=\"url(#clip340)\" style=\"stroke:#000000; stroke-linecap:butt; stroke-linejoin:round; stroke-width:4; stroke-opacity:1; fill:none\" points=\"\n",
       "  736.715,1486.45 736.715,1467.55 \n",
       "  \"/>\n",
       "<polyline clip-path=\"url(#clip340)\" style=\"stroke:#000000; stroke-linecap:butt; stroke-linejoin:round; stroke-width:4; stroke-opacity:1; fill:none\" points=\"\n",
       "  1254.68,1486.45 1254.68,1467.55 \n",
       "  \"/>\n",
       "<polyline clip-path=\"url(#clip340)\" style=\"stroke:#000000; stroke-linecap:butt; stroke-linejoin:round; stroke-width:4; stroke-opacity:1; fill:none\" points=\"\n",
       "  1772.64,1486.45 1772.64,1467.55 \n",
       "  \"/>\n",
       "<polyline clip-path=\"url(#clip340)\" style=\"stroke:#000000; stroke-linecap:butt; stroke-linejoin:round; stroke-width:4; stroke-opacity:1; fill:none\" points=\"\n",
       "  2290.6,1486.45 2290.6,1467.55 \n",
       "  \"/>\n",
       "<path clip-path=\"url(#clip340)\" d=\"M165.282 1530.29 L194.957 1530.29 L194.957 1534.23 L165.282 1534.23 L165.282 1530.29 Z\" fill=\"#000000\" fill-rule=\"evenodd\" fill-opacity=\"1\" /><path clip-path=\"url(#clip340)\" d=\"M205.86 1543.18 L213.499 1543.18 L213.499 1516.82 L205.189 1518.49 L205.189 1514.23 L213.453 1512.56 L218.129 1512.56 L218.129 1543.18 L225.767 1543.18 L225.767 1547.12 L205.86 1547.12 L205.86 1543.18 Z\" fill=\"#000000\" fill-rule=\"evenodd\" fill-opacity=\"1\" /><path clip-path=\"url(#clip340)\" d=\"M235.212 1541.24 L240.096 1541.24 L240.096 1547.12 L235.212 1547.12 L235.212 1541.24 Z\" fill=\"#000000\" fill-rule=\"evenodd\" fill-opacity=\"1\" /><path clip-path=\"url(#clip340)\" d=\"M260.281 1515.64 Q256.67 1515.64 254.841 1519.2 Q253.036 1522.75 253.036 1529.87 Q253.036 1536.98 254.841 1540.55 Q256.67 1544.09 260.281 1544.09 Q263.915 1544.09 265.721 1540.55 Q267.55 1536.98 267.55 1529.87 Q267.55 1522.75 265.721 1519.2 Q263.915 1515.64 260.281 1515.64 M260.281 1511.93 Q266.091 1511.93 269.147 1516.54 Q272.226 1521.12 272.226 1529.87 Q272.226 1538.6 269.147 1543.21 Q266.091 1547.79 260.281 1547.79 Q254.471 1547.79 251.392 1543.21 Q248.337 1538.6 248.337 1529.87 Q248.337 1521.12 251.392 1516.54 Q254.471 1511.93 260.281 1511.93 Z\" fill=\"#000000\" fill-rule=\"evenodd\" fill-opacity=\"1\" /><path clip-path=\"url(#clip340)\" d=\"M683.741 1530.29 L713.417 1530.29 L713.417 1534.23 L683.741 1534.23 L683.741 1530.29 Z\" fill=\"#000000\" fill-rule=\"evenodd\" fill-opacity=\"1\" /><path clip-path=\"url(#clip340)\" d=\"M733.509 1515.64 Q729.898 1515.64 728.07 1519.2 Q726.264 1522.75 726.264 1529.87 Q726.264 1536.98 728.07 1540.55 Q729.898 1544.09 733.509 1544.09 Q737.144 1544.09 738.949 1540.55 Q740.778 1536.98 740.778 1529.87 Q740.778 1522.75 738.949 1519.2 Q737.144 1515.64 733.509 1515.64 M733.509 1511.93 Q739.32 1511.93 742.375 1516.54 Q745.454 1521.12 745.454 1529.87 Q745.454 1538.6 742.375 1543.21 Q739.32 1547.79 733.509 1547.79 Q727.699 1547.79 724.621 1543.21 Q721.565 1538.6 721.565 1529.87 Q721.565 1521.12 724.621 1516.54 Q727.699 1511.93 733.509 1511.93 Z\" fill=\"#000000\" fill-rule=\"evenodd\" fill-opacity=\"1\" /><path clip-path=\"url(#clip340)\" d=\"M753.671 1541.24 L758.556 1541.24 L758.556 1547.12 L753.671 1547.12 L753.671 1541.24 Z\" fill=\"#000000\" fill-rule=\"evenodd\" fill-opacity=\"1\" /><path clip-path=\"url(#clip340)\" d=\"M768.787 1512.56 L787.143 1512.56 L787.143 1516.5 L773.069 1516.5 L773.069 1524.97 Q774.088 1524.62 775.106 1524.46 Q776.125 1524.27 777.143 1524.27 Q782.93 1524.27 786.31 1527.44 Q789.69 1530.62 789.69 1536.03 Q789.69 1541.61 786.217 1544.71 Q782.745 1547.79 776.426 1547.79 Q774.25 1547.79 771.981 1547.42 Q769.736 1547.05 767.329 1546.31 L767.329 1541.61 Q769.412 1542.74 771.634 1543.3 Q773.856 1543.86 776.333 1543.86 Q780.338 1543.86 782.676 1541.75 Q785.014 1539.64 785.014 1536.03 Q785.014 1532.42 782.676 1530.31 Q780.338 1528.21 776.333 1528.21 Q774.458 1528.21 772.583 1528.62 Q770.731 1529.04 768.787 1529.92 L768.787 1512.56 Z\" fill=\"#000000\" fill-rule=\"evenodd\" fill-opacity=\"1\" /><path clip-path=\"url(#clip340)\" d=\"M1232.06 1515.64 Q1228.45 1515.64 1226.62 1519.2 Q1224.82 1522.75 1224.82 1529.87 Q1224.82 1536.98 1226.62 1540.55 Q1228.45 1544.09 1232.06 1544.09 Q1235.7 1544.09 1237.5 1540.55 Q1239.33 1536.98 1239.33 1529.87 Q1239.33 1522.75 1237.5 1519.2 Q1235.7 1515.64 1232.06 1515.64 M1232.06 1511.93 Q1237.87 1511.93 1240.93 1516.54 Q1244.01 1521.12 1244.01 1529.87 Q1244.01 1538.6 1240.93 1543.21 Q1237.87 1547.79 1232.06 1547.79 Q1226.25 1547.79 1223.17 1543.21 Q1220.12 1538.6 1220.12 1529.87 Q1220.12 1521.12 1223.17 1516.54 Q1226.25 1511.93 1232.06 1511.93 Z\" fill=\"#000000\" fill-rule=\"evenodd\" fill-opacity=\"1\" /><path clip-path=\"url(#clip340)\" d=\"M1252.22 1541.24 L1257.11 1541.24 L1257.11 1547.12 L1252.22 1547.12 L1252.22 1541.24 Z\" fill=\"#000000\" fill-rule=\"evenodd\" fill-opacity=\"1\" /><path clip-path=\"url(#clip340)\" d=\"M1277.29 1515.64 Q1273.68 1515.64 1271.85 1519.2 Q1270.05 1522.75 1270.05 1529.87 Q1270.05 1536.98 1271.85 1540.55 Q1273.68 1544.09 1277.29 1544.09 Q1280.93 1544.09 1282.73 1540.55 Q1284.56 1536.98 1284.56 1529.87 Q1284.56 1522.75 1282.73 1519.2 Q1280.93 1515.64 1277.29 1515.64 M1277.29 1511.93 Q1283.1 1511.93 1286.16 1516.54 Q1289.24 1521.12 1289.24 1529.87 Q1289.24 1538.6 1286.16 1543.21 Q1283.1 1547.79 1277.29 1547.79 Q1271.48 1547.79 1268.4 1543.21 Q1265.35 1538.6 1265.35 1529.87 Q1265.35 1521.12 1268.4 1516.54 Q1271.48 1511.93 1277.29 1511.93 Z\" fill=\"#000000\" fill-rule=\"evenodd\" fill-opacity=\"1\" /><path clip-path=\"url(#clip340)\" d=\"M1750.52 1515.64 Q1746.91 1515.64 1745.08 1519.2 Q1743.28 1522.75 1743.28 1529.87 Q1743.28 1536.98 1745.08 1540.55 Q1746.91 1544.09 1750.52 1544.09 Q1754.16 1544.09 1755.96 1540.55 Q1757.79 1536.98 1757.79 1529.87 Q1757.79 1522.75 1755.96 1519.2 Q1754.16 1515.64 1750.52 1515.64 M1750.52 1511.93 Q1756.33 1511.93 1759.39 1516.54 Q1762.47 1521.12 1762.47 1529.87 Q1762.47 1538.6 1759.39 1543.21 Q1756.33 1547.79 1750.52 1547.79 Q1744.71 1547.79 1741.63 1543.21 Q1738.58 1538.6 1738.58 1529.87 Q1738.58 1521.12 1741.63 1516.54 Q1744.71 1511.93 1750.52 1511.93 Z\" fill=\"#000000\" fill-rule=\"evenodd\" fill-opacity=\"1\" /><path clip-path=\"url(#clip340)\" d=\"M1770.68 1541.24 L1775.57 1541.24 L1775.57 1547.12 L1770.68 1547.12 L1770.68 1541.24 Z\" fill=\"#000000\" fill-rule=\"evenodd\" fill-opacity=\"1\" /><path clip-path=\"url(#clip340)\" d=\"M1785.8 1512.56 L1804.15 1512.56 L1804.15 1516.5 L1790.08 1516.5 L1790.08 1524.97 Q1791.1 1524.62 1792.12 1524.46 Q1793.14 1524.27 1794.15 1524.27 Q1799.94 1524.27 1803.32 1527.44 Q1806.7 1530.62 1806.7 1536.03 Q1806.7 1541.61 1803.23 1544.71 Q1799.76 1547.79 1793.44 1547.79 Q1791.26 1547.79 1788.99 1547.42 Q1786.75 1547.05 1784.34 1546.31 L1784.34 1541.61 Q1786.42 1542.74 1788.65 1543.3 Q1790.87 1543.86 1793.34 1543.86 Q1797.35 1543.86 1799.69 1541.75 Q1802.03 1539.64 1802.03 1536.03 Q1802.03 1532.42 1799.69 1530.31 Q1797.35 1528.21 1793.34 1528.21 Q1791.47 1528.21 1789.59 1528.62 Q1787.74 1529.04 1785.8 1529.92 L1785.8 1512.56 Z\" fill=\"#000000\" fill-rule=\"evenodd\" fill-opacity=\"1\" /><path clip-path=\"url(#clip340)\" d=\"M2257.75 1543.18 L2265.39 1543.18 L2265.39 1516.82 L2257.08 1518.49 L2257.08 1514.23 L2265.35 1512.56 L2270.02 1512.56 L2270.02 1543.18 L2277.66 1543.18 L2277.66 1547.12 L2257.75 1547.12 L2257.75 1543.18 Z\" fill=\"#000000\" fill-rule=\"evenodd\" fill-opacity=\"1\" /><path clip-path=\"url(#clip340)\" d=\"M2287.11 1541.24 L2291.99 1541.24 L2291.99 1547.12 L2287.11 1547.12 L2287.11 1541.24 Z\" fill=\"#000000\" fill-rule=\"evenodd\" fill-opacity=\"1\" /><path clip-path=\"url(#clip340)\" d=\"M2312.17 1515.64 Q2308.56 1515.64 2306.73 1519.2 Q2304.93 1522.75 2304.93 1529.87 Q2304.93 1536.98 2306.73 1540.55 Q2308.56 1544.09 2312.17 1544.09 Q2315.81 1544.09 2317.61 1540.55 Q2319.44 1536.98 2319.44 1529.87 Q2319.44 1522.75 2317.61 1519.2 Q2315.81 1515.64 2312.17 1515.64 M2312.17 1511.93 Q2317.98 1511.93 2321.04 1516.54 Q2324.12 1521.12 2324.12 1529.87 Q2324.12 1538.6 2321.04 1543.21 Q2317.98 1547.79 2312.17 1547.79 Q2306.36 1547.79 2303.29 1543.21 Q2300.23 1538.6 2300.23 1529.87 Q2300.23 1521.12 2303.29 1516.54 Q2306.36 1511.93 2312.17 1511.93 Z\" fill=\"#000000\" fill-rule=\"evenodd\" fill-opacity=\"1\" /><polyline clip-path=\"url(#clip342)\" style=\"stroke:#000000; stroke-linecap:butt; stroke-linejoin:round; stroke-width:2; stroke-opacity:0.1; fill:none\" points=\"\n",
       "  156.598,1445.72 2352.76,1445.72 \n",
       "  \"/>\n",
       "<polyline clip-path=\"url(#clip342)\" style=\"stroke:#000000; stroke-linecap:butt; stroke-linejoin:round; stroke-width:2; stroke-opacity:0.1; fill:none\" points=\"\n",
       "  156.598,1143.78 2352.76,1143.78 \n",
       "  \"/>\n",
       "<polyline clip-path=\"url(#clip342)\" style=\"stroke:#000000; stroke-linecap:butt; stroke-linejoin:round; stroke-width:2; stroke-opacity:0.1; fill:none\" points=\"\n",
       "  156.598,841.842 2352.76,841.842 \n",
       "  \"/>\n",
       "<polyline clip-path=\"url(#clip342)\" style=\"stroke:#000000; stroke-linecap:butt; stroke-linejoin:round; stroke-width:2; stroke-opacity:0.1; fill:none\" points=\"\n",
       "  156.598,539.905 2352.76,539.905 \n",
       "  \"/>\n",
       "<polyline clip-path=\"url(#clip342)\" style=\"stroke:#000000; stroke-linecap:butt; stroke-linejoin:round; stroke-width:2; stroke-opacity:0.1; fill:none\" points=\"\n",
       "  156.598,237.968 2352.76,237.968 \n",
       "  \"/>\n",
       "<polyline clip-path=\"url(#clip340)\" style=\"stroke:#000000; stroke-linecap:butt; stroke-linejoin:round; stroke-width:4; stroke-opacity:1; fill:none\" points=\"\n",
       "  156.598,1486.45 156.598,47.2441 \n",
       "  \"/>\n",
       "<polyline clip-path=\"url(#clip340)\" style=\"stroke:#000000; stroke-linecap:butt; stroke-linejoin:round; stroke-width:4; stroke-opacity:1; fill:none\" points=\"\n",
       "  156.598,1445.72 175.496,1445.72 \n",
       "  \"/>\n",
       "<polyline clip-path=\"url(#clip340)\" style=\"stroke:#000000; stroke-linecap:butt; stroke-linejoin:round; stroke-width:4; stroke-opacity:1; fill:none\" points=\"\n",
       "  156.598,1143.78 175.496,1143.78 \n",
       "  \"/>\n",
       "<polyline clip-path=\"url(#clip340)\" style=\"stroke:#000000; stroke-linecap:butt; stroke-linejoin:round; stroke-width:4; stroke-opacity:1; fill:none\" points=\"\n",
       "  156.598,841.842 175.496,841.842 \n",
       "  \"/>\n",
       "<polyline clip-path=\"url(#clip340)\" style=\"stroke:#000000; stroke-linecap:butt; stroke-linejoin:round; stroke-width:4; stroke-opacity:1; fill:none\" points=\"\n",
       "  156.598,539.905 175.496,539.905 \n",
       "  \"/>\n",
       "<polyline clip-path=\"url(#clip340)\" style=\"stroke:#000000; stroke-linecap:butt; stroke-linejoin:round; stroke-width:4; stroke-opacity:1; fill:none\" points=\"\n",
       "  156.598,237.968 175.496,237.968 \n",
       "  \"/>\n",
       "<path clip-path=\"url(#clip340)\" d=\"M63.4226 1431.51 Q59.8115 1431.51 57.9828 1435.08 Q56.1773 1438.62 56.1773 1445.75 Q56.1773 1452.86 57.9828 1456.42 Q59.8115 1459.96 63.4226 1459.96 Q67.0569 1459.96 68.8624 1456.42 Q70.6911 1452.86 70.6911 1445.75 Q70.6911 1438.62 68.8624 1435.08 Q67.0569 1431.51 63.4226 1431.51 M63.4226 1427.81 Q69.2328 1427.81 72.2883 1432.42 Q75.367 1437 75.367 1445.75 Q75.367 1454.48 72.2883 1459.08 Q69.2328 1463.67 63.4226 1463.67 Q57.6125 1463.67 54.5338 1459.08 Q51.4782 1454.48 51.4782 1445.75 Q51.4782 1437 54.5338 1432.42 Q57.6125 1427.81 63.4226 1427.81 Z\" fill=\"#000000\" fill-rule=\"evenodd\" fill-opacity=\"1\" /><path clip-path=\"url(#clip340)\" d=\"M83.5845 1457.12 L88.4688 1457.12 L88.4688 1463 L83.5845 1463 L83.5845 1457.12 Z\" fill=\"#000000\" fill-rule=\"evenodd\" fill-opacity=\"1\" /><path clip-path=\"url(#clip340)\" d=\"M108.654 1431.51 Q105.043 1431.51 103.214 1435.08 Q101.409 1438.62 101.409 1445.75 Q101.409 1452.86 103.214 1456.42 Q105.043 1459.96 108.654 1459.96 Q112.288 1459.96 114.094 1456.42 Q115.922 1452.86 115.922 1445.75 Q115.922 1438.62 114.094 1435.08 Q112.288 1431.51 108.654 1431.51 M108.654 1427.81 Q114.464 1427.81 117.52 1432.42 Q120.598 1437 120.598 1445.75 Q120.598 1454.48 117.52 1459.08 Q114.464 1463.67 108.654 1463.67 Q102.844 1463.67 99.765 1459.08 Q96.7095 1454.48 96.7095 1445.75 Q96.7095 1437 99.765 1432.42 Q102.844 1427.81 108.654 1427.81 Z\" fill=\"#000000\" fill-rule=\"evenodd\" fill-opacity=\"1\" /><path clip-path=\"url(#clip340)\" d=\"M65.0198 1129.58 Q61.4087 1129.58 59.58 1133.14 Q57.7745 1136.68 57.7745 1143.81 Q57.7745 1150.92 59.58 1154.48 Q61.4087 1158.03 65.0198 1158.03 Q68.6541 1158.03 70.4596 1154.48 Q72.2883 1150.92 72.2883 1143.81 Q72.2883 1136.68 70.4596 1133.14 Q68.6541 1129.58 65.0198 1129.58 M65.0198 1125.87 Q70.83 1125.87 73.8855 1130.48 Q76.9642 1135.06 76.9642 1143.81 Q76.9642 1152.54 73.8855 1157.15 Q70.83 1161.73 65.0198 1161.73 Q59.2097 1161.73 56.131 1157.15 Q53.0754 1152.54 53.0754 1143.81 Q53.0754 1135.06 56.131 1130.48 Q59.2097 1125.87 65.0198 1125.87 Z\" fill=\"#000000\" fill-rule=\"evenodd\" fill-opacity=\"1\" /><path clip-path=\"url(#clip340)\" d=\"M85.1818 1155.18 L90.066 1155.18 L90.066 1161.06 L85.1818 1161.06 L85.1818 1155.18 Z\" fill=\"#000000\" fill-rule=\"evenodd\" fill-opacity=\"1\" /><path clip-path=\"url(#clip340)\" d=\"M104.279 1157.12 L120.598 1157.12 L120.598 1161.06 L98.6539 1161.06 L98.6539 1157.12 Q101.316 1154.37 105.899 1149.74 Q110.506 1145.09 111.686 1143.74 Q113.932 1141.22 114.811 1139.48 Q115.714 1137.73 115.714 1136.04 Q115.714 1133.28 113.77 1131.55 Q111.848 1129.81 108.746 1129.81 Q106.547 1129.81 104.094 1130.57 Q101.663 1131.34 98.8854 1132.89 L98.8854 1128.17 Q101.709 1127.03 104.163 1126.45 Q106.617 1125.87 108.654 1125.87 Q114.024 1125.87 117.219 1128.56 Q120.413 1131.24 120.413 1135.73 Q120.413 1137.86 119.603 1139.79 Q118.816 1141.68 116.709 1144.28 Q116.131 1144.95 113.029 1148.17 Q109.927 1151.36 104.279 1157.12 Z\" fill=\"#000000\" fill-rule=\"evenodd\" fill-opacity=\"1\" /><path clip-path=\"url(#clip340)\" d=\"M62.9365 827.641 Q59.3254 827.641 57.4967 831.205 Q55.6912 834.747 55.6912 841.877 Q55.6912 848.983 57.4967 852.548 Q59.3254 856.089 62.9365 856.089 Q66.5707 856.089 68.3763 852.548 Q70.205 848.983 70.205 841.877 Q70.205 834.747 68.3763 831.205 Q66.5707 827.641 62.9365 827.641 M62.9365 823.937 Q68.7467 823.937 71.8022 828.543 Q74.8809 833.127 74.8809 841.877 Q74.8809 850.603 71.8022 855.21 Q68.7467 859.793 62.9365 859.793 Q57.1264 859.793 54.0477 855.21 Q50.9921 850.603 50.9921 841.877 Q50.9921 833.127 54.0477 828.543 Q57.1264 823.937 62.9365 823.937 Z\" fill=\"#000000\" fill-rule=\"evenodd\" fill-opacity=\"1\" /><path clip-path=\"url(#clip340)\" d=\"M83.0984 853.242 L87.9827 853.242 L87.9827 859.122 L83.0984 859.122 L83.0984 853.242 Z\" fill=\"#000000\" fill-rule=\"evenodd\" fill-opacity=\"1\" /><path clip-path=\"url(#clip340)\" d=\"M111.015 828.636 L99.2095 847.085 L111.015 847.085 L111.015 828.636 M109.788 824.562 L115.668 824.562 L115.668 847.085 L120.598 847.085 L120.598 850.974 L115.668 850.974 L115.668 859.122 L111.015 859.122 L111.015 850.974 L95.4132 850.974 L95.4132 846.46 L109.788 824.562 Z\" fill=\"#000000\" fill-rule=\"evenodd\" fill-opacity=\"1\" /><path clip-path=\"url(#clip340)\" d=\"M63.2606 525.704 Q59.6495 525.704 57.8208 529.268 Q56.0152 532.81 56.0152 539.94 Q56.0152 547.046 57.8208 550.611 Q59.6495 554.153 63.2606 554.153 Q66.8948 554.153 68.7004 550.611 Q70.5291 547.046 70.5291 539.94 Q70.5291 532.81 68.7004 529.268 Q66.8948 525.704 63.2606 525.704 M63.2606 522 Q69.0707 522 72.1263 526.606 Q75.205 531.19 75.205 539.94 Q75.205 548.666 72.1263 553.273 Q69.0707 557.856 63.2606 557.856 Q57.4504 557.856 54.3717 553.273 Q51.3162 548.666 51.3162 539.94 Q51.3162 531.19 54.3717 526.606 Q57.4504 522 63.2606 522 Z\" fill=\"#000000\" fill-rule=\"evenodd\" fill-opacity=\"1\" /><path clip-path=\"url(#clip340)\" d=\"M83.4225 551.305 L88.3067 551.305 L88.3067 557.185 L83.4225 557.185 L83.4225 551.305 Z\" fill=\"#000000\" fill-rule=\"evenodd\" fill-opacity=\"1\" /><path clip-path=\"url(#clip340)\" d=\"M109.071 538.042 Q105.922 538.042 104.071 540.194 Q102.242 542.347 102.242 546.097 Q102.242 549.824 104.071 552 Q105.922 554.153 109.071 554.153 Q112.219 554.153 114.047 552 Q115.899 549.824 115.899 546.097 Q115.899 542.347 114.047 540.194 Q112.219 538.042 109.071 538.042 M118.353 523.389 L118.353 527.648 Q116.594 526.815 114.788 526.375 Q113.006 525.935 111.246 525.935 Q106.617 525.935 104.163 529.06 Q101.733 532.185 101.385 538.504 Q102.751 536.491 104.811 535.426 Q106.871 534.338 109.348 534.338 Q114.557 534.338 117.566 537.509 Q120.598 540.657 120.598 546.097 Q120.598 551.421 117.45 554.639 Q114.302 557.856 109.071 557.856 Q103.075 557.856 99.9039 553.273 Q96.7326 548.666 96.7326 539.94 Q96.7326 531.745 100.621 526.884 Q104.51 522 111.061 522 Q112.82 522 114.603 522.347 Q116.408 522.694 118.353 523.389 Z\" fill=\"#000000\" fill-rule=\"evenodd\" fill-opacity=\"1\" /><path clip-path=\"url(#clip340)\" d=\"M63.5152 223.767 Q59.9041 223.767 58.0754 227.331 Q56.2699 230.873 56.2699 238.003 Q56.2699 245.109 58.0754 248.674 Q59.9041 252.216 63.5152 252.216 Q67.1494 252.216 68.955 248.674 Q70.7837 245.109 70.7837 238.003 Q70.7837 230.873 68.955 227.331 Q67.1494 223.767 63.5152 223.767 M63.5152 220.063 Q69.3254 220.063 72.3809 224.669 Q75.4596 229.253 75.4596 238.003 Q75.4596 246.73 72.3809 251.336 Q69.3254 255.919 63.5152 255.919 Q57.7051 255.919 54.6264 251.336 Q51.5708 246.73 51.5708 238.003 Q51.5708 229.253 54.6264 224.669 Q57.7051 220.063 63.5152 220.063 Z\" fill=\"#000000\" fill-rule=\"evenodd\" fill-opacity=\"1\" /><path clip-path=\"url(#clip340)\" d=\"M83.6771 249.368 L88.5614 249.368 L88.5614 255.248 L83.6771 255.248 L83.6771 249.368 Z\" fill=\"#000000\" fill-rule=\"evenodd\" fill-opacity=\"1\" /><path clip-path=\"url(#clip340)\" d=\"M108.746 238.836 Q105.413 238.836 103.492 240.618 Q101.594 242.401 101.594 245.526 Q101.594 248.651 103.492 250.433 Q105.413 252.216 108.746 252.216 Q112.08 252.216 114.001 250.433 Q115.922 248.628 115.922 245.526 Q115.922 242.401 114.001 240.618 Q112.103 238.836 108.746 238.836 M104.071 236.845 Q101.061 236.105 99.3715 234.044 Q97.7048 231.984 97.7048 229.021 Q97.7048 224.878 100.645 222.47 Q103.608 220.063 108.746 220.063 Q113.908 220.063 116.848 222.47 Q119.788 224.878 119.788 229.021 Q119.788 231.984 118.098 234.044 Q116.432 236.105 113.445 236.845 Q116.825 237.632 118.7 239.924 Q120.598 242.216 120.598 245.526 Q120.598 250.549 117.52 253.234 Q114.464 255.919 108.746 255.919 Q103.029 255.919 99.9502 253.234 Q96.8947 250.549 96.8947 245.526 Q96.8947 242.216 98.7928 239.924 Q100.691 237.632 104.071 236.845 M102.358 229.461 Q102.358 232.146 104.024 233.651 Q105.714 235.156 108.746 235.156 Q111.756 235.156 113.445 233.651 Q115.158 232.146 115.158 229.461 Q115.158 226.776 113.445 225.271 Q111.756 223.767 108.746 223.767 Q105.714 223.767 104.024 225.271 Q102.358 226.776 102.358 229.461 Z\" fill=\"#000000\" fill-rule=\"evenodd\" fill-opacity=\"1\" /><polyline clip-path=\"url(#clip342)\" style=\"stroke:#009af9; stroke-linecap:butt; stroke-linejoin:round; stroke-width:16; stroke-opacity:1; fill:none\" points=\"\n",
       "  218.754,1445.72 322.346,1445.72 425.938,1445.72 529.531,1445.72 633.123,1445.72 736.715,1445.72 840.308,1445.72 943.9,1445.72 1047.49,1445.72 1151.08,1445.72 \n",
       "  1254.68,1445.72 1358.27,1445.72 1461.86,1445.72 1565.45,1445.72 1669.05,1445.72 1772.64,1445.72 1876.23,1445.72 1979.82,1445.72 2083.42,1445.72 2187.01,1445.72 \n",
       "  2290.6,1445.72 \n",
       "  \"/>\n",
       "<circle clip-path=\"url(#clip342)\" cx=\"218.754\" cy=\"1445.72\" r=\"14\" fill=\"#009af9\" fill-rule=\"evenodd\" fill-opacity=\"1\" stroke=\"#000000\" stroke-opacity=\"1\" stroke-width=\"3.2\"/>\n",
       "<circle clip-path=\"url(#clip342)\" cx=\"322.346\" cy=\"1445.72\" r=\"14\" fill=\"#009af9\" fill-rule=\"evenodd\" fill-opacity=\"1\" stroke=\"#000000\" stroke-opacity=\"1\" stroke-width=\"3.2\"/>\n",
       "<circle clip-path=\"url(#clip342)\" cx=\"425.938\" cy=\"1445.72\" r=\"14\" fill=\"#009af9\" fill-rule=\"evenodd\" fill-opacity=\"1\" stroke=\"#000000\" stroke-opacity=\"1\" stroke-width=\"3.2\"/>\n",
       "<circle clip-path=\"url(#clip342)\" cx=\"529.531\" cy=\"1445.72\" r=\"14\" fill=\"#009af9\" fill-rule=\"evenodd\" fill-opacity=\"1\" stroke=\"#000000\" stroke-opacity=\"1\" stroke-width=\"3.2\"/>\n",
       "<circle clip-path=\"url(#clip342)\" cx=\"633.123\" cy=\"1445.72\" r=\"14\" fill=\"#009af9\" fill-rule=\"evenodd\" fill-opacity=\"1\" stroke=\"#000000\" stroke-opacity=\"1\" stroke-width=\"3.2\"/>\n",
       "<circle clip-path=\"url(#clip342)\" cx=\"736.715\" cy=\"1445.72\" r=\"14\" fill=\"#009af9\" fill-rule=\"evenodd\" fill-opacity=\"1\" stroke=\"#000000\" stroke-opacity=\"1\" stroke-width=\"3.2\"/>\n",
       "<circle clip-path=\"url(#clip342)\" cx=\"840.308\" cy=\"1445.72\" r=\"14\" fill=\"#009af9\" fill-rule=\"evenodd\" fill-opacity=\"1\" stroke=\"#000000\" stroke-opacity=\"1\" stroke-width=\"3.2\"/>\n",
       "<circle clip-path=\"url(#clip342)\" cx=\"943.9\" cy=\"1445.72\" r=\"14\" fill=\"#009af9\" fill-rule=\"evenodd\" fill-opacity=\"1\" stroke=\"#000000\" stroke-opacity=\"1\" stroke-width=\"3.2\"/>\n",
       "<circle clip-path=\"url(#clip342)\" cx=\"1047.49\" cy=\"1445.72\" r=\"14\" fill=\"#009af9\" fill-rule=\"evenodd\" fill-opacity=\"1\" stroke=\"#000000\" stroke-opacity=\"1\" stroke-width=\"3.2\"/>\n",
       "<circle clip-path=\"url(#clip342)\" cx=\"1151.08\" cy=\"1445.72\" r=\"14\" fill=\"#009af9\" fill-rule=\"evenodd\" fill-opacity=\"1\" stroke=\"#000000\" stroke-opacity=\"1\" stroke-width=\"3.2\"/>\n",
       "<circle clip-path=\"url(#clip342)\" cx=\"1254.68\" cy=\"1445.72\" r=\"14\" fill=\"#009af9\" fill-rule=\"evenodd\" fill-opacity=\"1\" stroke=\"#000000\" stroke-opacity=\"1\" stroke-width=\"3.2\"/>\n",
       "<circle clip-path=\"url(#clip342)\" cx=\"1358.27\" cy=\"1445.72\" r=\"14\" fill=\"#009af9\" fill-rule=\"evenodd\" fill-opacity=\"1\" stroke=\"#000000\" stroke-opacity=\"1\" stroke-width=\"3.2\"/>\n",
       "<circle clip-path=\"url(#clip342)\" cx=\"1461.86\" cy=\"1445.72\" r=\"14\" fill=\"#009af9\" fill-rule=\"evenodd\" fill-opacity=\"1\" stroke=\"#000000\" stroke-opacity=\"1\" stroke-width=\"3.2\"/>\n",
       "<circle clip-path=\"url(#clip342)\" cx=\"1565.45\" cy=\"1445.72\" r=\"14\" fill=\"#009af9\" fill-rule=\"evenodd\" fill-opacity=\"1\" stroke=\"#000000\" stroke-opacity=\"1\" stroke-width=\"3.2\"/>\n",
       "<circle clip-path=\"url(#clip342)\" cx=\"1669.05\" cy=\"1445.72\" r=\"14\" fill=\"#009af9\" fill-rule=\"evenodd\" fill-opacity=\"1\" stroke=\"#000000\" stroke-opacity=\"1\" stroke-width=\"3.2\"/>\n",
       "<circle clip-path=\"url(#clip342)\" cx=\"1772.64\" cy=\"1445.72\" r=\"14\" fill=\"#009af9\" fill-rule=\"evenodd\" fill-opacity=\"1\" stroke=\"#000000\" stroke-opacity=\"1\" stroke-width=\"3.2\"/>\n",
       "<circle clip-path=\"url(#clip342)\" cx=\"1876.23\" cy=\"1445.72\" r=\"14\" fill=\"#009af9\" fill-rule=\"evenodd\" fill-opacity=\"1\" stroke=\"#000000\" stroke-opacity=\"1\" stroke-width=\"3.2\"/>\n",
       "<circle clip-path=\"url(#clip342)\" cx=\"1979.82\" cy=\"1445.72\" r=\"14\" fill=\"#009af9\" fill-rule=\"evenodd\" fill-opacity=\"1\" stroke=\"#000000\" stroke-opacity=\"1\" stroke-width=\"3.2\"/>\n",
       "<circle clip-path=\"url(#clip342)\" cx=\"2083.42\" cy=\"1445.72\" r=\"14\" fill=\"#009af9\" fill-rule=\"evenodd\" fill-opacity=\"1\" stroke=\"#000000\" stroke-opacity=\"1\" stroke-width=\"3.2\"/>\n",
       "<circle clip-path=\"url(#clip342)\" cx=\"2187.01\" cy=\"1445.72\" r=\"14\" fill=\"#009af9\" fill-rule=\"evenodd\" fill-opacity=\"1\" stroke=\"#000000\" stroke-opacity=\"1\" stroke-width=\"3.2\"/>\n",
       "<circle clip-path=\"url(#clip342)\" cx=\"2290.6\" cy=\"1445.72\" r=\"14\" fill=\"#009af9\" fill-rule=\"evenodd\" fill-opacity=\"1\" stroke=\"#000000\" stroke-opacity=\"1\" stroke-width=\"3.2\"/>\n",
       "<polyline clip-path=\"url(#clip342)\" style=\"stroke:#e26f46; stroke-linecap:butt; stroke-linejoin:round; stroke-width:16; stroke-opacity:1; fill:none\" points=\"\n",
       "  218.754,124.742 322.346,313.452 425.938,502.163 529.531,690.873 633.123,879.584 736.715,1068.29 840.308,1257.01 943.9,1445.72 1047.49,1445.72 1151.08,1445.72 \n",
       "  1254.68,1445.72 1358.27,1445.72 1461.86,1445.72 1565.45,1445.72 1669.05,1445.72 1772.64,1445.72 1876.23,1445.72 1979.82,1445.72 2083.42,1445.72 2187.01,1445.72 \n",
       "  2290.6,1445.72 \n",
       "  \"/>\n",
       "<path clip-path=\"url(#clip342)\" d=\"M202.754 108.742 L202.754 140.742 L234.754 140.742 L234.754 108.742 L202.754 108.742 Z\" fill=\"#e26f46\" fill-rule=\"evenodd\" fill-opacity=\"1\" stroke=\"#000000\" stroke-opacity=\"1\" stroke-width=\"3.2\"/>\n",
       "<path clip-path=\"url(#clip342)\" d=\"M306.346 297.452 L306.346 329.452 L338.346 329.452 L338.346 297.452 L306.346 297.452 Z\" fill=\"#e26f46\" fill-rule=\"evenodd\" fill-opacity=\"1\" stroke=\"#000000\" stroke-opacity=\"1\" stroke-width=\"3.2\"/>\n",
       "<path clip-path=\"url(#clip342)\" d=\"M409.938 486.163 L409.938 518.163 L441.938 518.163 L441.938 486.163 L409.938 486.163 Z\" fill=\"#e26f46\" fill-rule=\"evenodd\" fill-opacity=\"1\" stroke=\"#000000\" stroke-opacity=\"1\" stroke-width=\"3.2\"/>\n",
       "<path clip-path=\"url(#clip342)\" d=\"M513.531 674.873 L513.531 706.873 L545.531 706.873 L545.531 674.873 L513.531 674.873 Z\" fill=\"#e26f46\" fill-rule=\"evenodd\" fill-opacity=\"1\" stroke=\"#000000\" stroke-opacity=\"1\" stroke-width=\"3.2\"/>\n",
       "<path clip-path=\"url(#clip342)\" d=\"M617.123 863.584 L617.123 895.584 L649.123 895.584 L649.123 863.584 L617.123 863.584 Z\" fill=\"#e26f46\" fill-rule=\"evenodd\" fill-opacity=\"1\" stroke=\"#000000\" stroke-opacity=\"1\" stroke-width=\"3.2\"/>\n",
       "<path clip-path=\"url(#clip342)\" d=\"M720.715 1052.29 L720.715 1084.29 L752.715 1084.29 L752.715 1052.29 L720.715 1052.29 Z\" fill=\"#e26f46\" fill-rule=\"evenodd\" fill-opacity=\"1\" stroke=\"#000000\" stroke-opacity=\"1\" stroke-width=\"3.2\"/>\n",
       "<path clip-path=\"url(#clip342)\" d=\"M824.308 1241.01 L824.308 1273.01 L856.308 1273.01 L856.308 1241.01 L824.308 1241.01 Z\" fill=\"#e26f46\" fill-rule=\"evenodd\" fill-opacity=\"1\" stroke=\"#000000\" stroke-opacity=\"1\" stroke-width=\"3.2\"/>\n",
       "<path clip-path=\"url(#clip342)\" d=\"M927.9 1429.72 L927.9 1461.72 L959.9 1461.72 L959.9 1429.72 L927.9 1429.72 Z\" fill=\"#e26f46\" fill-rule=\"evenodd\" fill-opacity=\"1\" stroke=\"#000000\" stroke-opacity=\"1\" stroke-width=\"3.2\"/>\n",
       "<path clip-path=\"url(#clip342)\" d=\"M1031.49 1429.72 L1031.49 1461.72 L1063.49 1461.72 L1063.49 1429.72 L1031.49 1429.72 Z\" fill=\"#e26f46\" fill-rule=\"evenodd\" fill-opacity=\"1\" stroke=\"#000000\" stroke-opacity=\"1\" stroke-width=\"3.2\"/>\n",
       "<path clip-path=\"url(#clip342)\" d=\"M1135.08 1429.72 L1135.08 1461.72 L1167.08 1461.72 L1167.08 1429.72 L1135.08 1429.72 Z\" fill=\"#e26f46\" fill-rule=\"evenodd\" fill-opacity=\"1\" stroke=\"#000000\" stroke-opacity=\"1\" stroke-width=\"3.2\"/>\n",
       "<path clip-path=\"url(#clip342)\" d=\"M1238.68 1429.72 L1238.68 1461.72 L1270.68 1461.72 L1270.68 1429.72 L1238.68 1429.72 Z\" fill=\"#e26f46\" fill-rule=\"evenodd\" fill-opacity=\"1\" stroke=\"#000000\" stroke-opacity=\"1\" stroke-width=\"3.2\"/>\n",
       "<path clip-path=\"url(#clip342)\" d=\"M1342.27 1429.72 L1342.27 1461.72 L1374.27 1461.72 L1374.27 1429.72 L1342.27 1429.72 Z\" fill=\"#e26f46\" fill-rule=\"evenodd\" fill-opacity=\"1\" stroke=\"#000000\" stroke-opacity=\"1\" stroke-width=\"3.2\"/>\n",
       "<path clip-path=\"url(#clip342)\" d=\"M1445.86 1429.72 L1445.86 1461.72 L1477.86 1461.72 L1477.86 1429.72 L1445.86 1429.72 Z\" fill=\"#e26f46\" fill-rule=\"evenodd\" fill-opacity=\"1\" stroke=\"#000000\" stroke-opacity=\"1\" stroke-width=\"3.2\"/>\n",
       "<path clip-path=\"url(#clip342)\" d=\"M1549.45 1429.72 L1549.45 1461.72 L1581.45 1461.72 L1581.45 1429.72 L1549.45 1429.72 Z\" fill=\"#e26f46\" fill-rule=\"evenodd\" fill-opacity=\"1\" stroke=\"#000000\" stroke-opacity=\"1\" stroke-width=\"3.2\"/>\n",
       "<path clip-path=\"url(#clip342)\" d=\"M1653.05 1429.72 L1653.05 1461.72 L1685.05 1461.72 L1685.05 1429.72 L1653.05 1429.72 Z\" fill=\"#e26f46\" fill-rule=\"evenodd\" fill-opacity=\"1\" stroke=\"#000000\" stroke-opacity=\"1\" stroke-width=\"3.2\"/>\n",
       "<path clip-path=\"url(#clip342)\" d=\"M1756.64 1429.72 L1756.64 1461.72 L1788.64 1461.72 L1788.64 1429.72 L1756.64 1429.72 Z\" fill=\"#e26f46\" fill-rule=\"evenodd\" fill-opacity=\"1\" stroke=\"#000000\" stroke-opacity=\"1\" stroke-width=\"3.2\"/>\n",
       "<path clip-path=\"url(#clip342)\" d=\"M1860.23 1429.72 L1860.23 1461.72 L1892.23 1461.72 L1892.23 1429.72 L1860.23 1429.72 Z\" fill=\"#e26f46\" fill-rule=\"evenodd\" fill-opacity=\"1\" stroke=\"#000000\" stroke-opacity=\"1\" stroke-width=\"3.2\"/>\n",
       "<path clip-path=\"url(#clip342)\" d=\"M1963.82 1429.72 L1963.82 1461.72 L1995.82 1461.72 L1995.82 1429.72 L1963.82 1429.72 Z\" fill=\"#e26f46\" fill-rule=\"evenodd\" fill-opacity=\"1\" stroke=\"#000000\" stroke-opacity=\"1\" stroke-width=\"3.2\"/>\n",
       "<path clip-path=\"url(#clip342)\" d=\"M2067.42 1429.72 L2067.42 1461.72 L2099.42 1461.72 L2099.42 1429.72 L2067.42 1429.72 Z\" fill=\"#e26f46\" fill-rule=\"evenodd\" fill-opacity=\"1\" stroke=\"#000000\" stroke-opacity=\"1\" stroke-width=\"3.2\"/>\n",
       "<path clip-path=\"url(#clip342)\" d=\"M2171.01 1429.72 L2171.01 1461.72 L2203.01 1461.72 L2203.01 1429.72 L2171.01 1429.72 Z\" fill=\"#e26f46\" fill-rule=\"evenodd\" fill-opacity=\"1\" stroke=\"#000000\" stroke-opacity=\"1\" stroke-width=\"3.2\"/>\n",
       "<path clip-path=\"url(#clip342)\" d=\"M2274.6 1429.72 L2274.6 1461.72 L2306.6 1461.72 L2306.6 1429.72 L2274.6 1429.72 Z\" fill=\"#e26f46\" fill-rule=\"evenodd\" fill-opacity=\"1\" stroke=\"#000000\" stroke-opacity=\"1\" stroke-width=\"3.2\"/>\n",
       "<polyline clip-path=\"url(#clip342)\" style=\"stroke:#3da44d; stroke-linecap:butt; stroke-linejoin:round; stroke-width:16; stroke-opacity:1; fill:none\" points=\"\n",
       "  218.754,124.742 322.346,313.452 425.938,502.163 529.531,690.873 633.123,879.584 736.715,1068.29 840.308,1257.01 943.9,1280.59 1047.49,1304.18 1151.08,1327.77 \n",
       "  1254.68,1351.36 1358.27,1374.95 1461.86,1398.54 1565.45,1422.13 1669.05,1445.72 1772.64,1445.72 1876.23,1445.72 1979.82,1445.72 2083.42,1445.72 2187.01,1445.72 \n",
       "  2290.6,1445.72 \n",
       "  \"/>\n",
       "<path clip-path=\"url(#clip342)\" d=\"M218.754 108.742 L214.994 119.558 L203.538 119.798 L212.674 126.726 L209.346 137.686 L218.754 131.142 L228.162 137.686 L224.834 126.726 L233.97 119.798 L222.514 119.558 L218.754 108.742 Z\" fill=\"#3da44d\" fill-rule=\"evenodd\" fill-opacity=\"1\" stroke=\"#000000\" stroke-opacity=\"1\" stroke-width=\"3.2\"/>\n",
       "<path clip-path=\"url(#clip342)\" d=\"M322.346 297.452 L318.586 308.268 L307.13 308.508 L316.266 315.436 L312.938 326.396 L322.346 319.852 L331.754 326.396 L328.426 315.436 L337.562 308.508 L326.106 308.268 L322.346 297.452 Z\" fill=\"#3da44d\" fill-rule=\"evenodd\" fill-opacity=\"1\" stroke=\"#000000\" stroke-opacity=\"1\" stroke-width=\"3.2\"/>\n",
       "<path clip-path=\"url(#clip342)\" d=\"M425.938 486.163 L422.178 496.979 L410.722 497.219 L419.858 504.147 L416.53 515.107 L425.938 508.563 L435.346 515.107 L432.018 504.147 L441.154 497.219 L429.698 496.979 L425.938 486.163 Z\" fill=\"#3da44d\" fill-rule=\"evenodd\" fill-opacity=\"1\" stroke=\"#000000\" stroke-opacity=\"1\" stroke-width=\"3.2\"/>\n",
       "<path clip-path=\"url(#clip342)\" d=\"M529.531 674.873 L525.771 685.689 L514.315 685.929 L523.451 692.857 L520.123 703.817 L529.531 697.273 L538.939 703.817 L535.611 692.857 L544.747 685.929 L533.291 685.689 L529.531 674.873 Z\" fill=\"#3da44d\" fill-rule=\"evenodd\" fill-opacity=\"1\" stroke=\"#000000\" stroke-opacity=\"1\" stroke-width=\"3.2\"/>\n",
       "<path clip-path=\"url(#clip342)\" d=\"M633.123 863.584 L629.363 874.4 L617.907 874.64 L627.043 881.568 L623.715 892.528 L633.123 885.984 L642.531 892.528 L639.203 881.568 L648.339 874.64 L636.883 874.4 L633.123 863.584 Z\" fill=\"#3da44d\" fill-rule=\"evenodd\" fill-opacity=\"1\" stroke=\"#000000\" stroke-opacity=\"1\" stroke-width=\"3.2\"/>\n",
       "<path clip-path=\"url(#clip342)\" d=\"M736.715 1052.29 L732.955 1063.11 L721.499 1063.35 L730.635 1070.28 L727.307 1081.24 L736.715 1074.69 L746.123 1081.24 L742.795 1070.28 L751.931 1063.35 L740.475 1063.11 L736.715 1052.29 Z\" fill=\"#3da44d\" fill-rule=\"evenodd\" fill-opacity=\"1\" stroke=\"#000000\" stroke-opacity=\"1\" stroke-width=\"3.2\"/>\n",
       "<path clip-path=\"url(#clip342)\" d=\"M840.308 1241.01 L836.548 1251.82 L825.092 1252.06 L834.228 1258.99 L830.9 1269.95 L840.308 1263.41 L849.716 1269.95 L846.388 1258.99 L855.524 1252.06 L844.068 1251.82 L840.308 1241.01 Z\" fill=\"#3da44d\" fill-rule=\"evenodd\" fill-opacity=\"1\" stroke=\"#000000\" stroke-opacity=\"1\" stroke-width=\"3.2\"/>\n",
       "<path clip-path=\"url(#clip342)\" d=\"M943.9 1264.59 L940.14 1275.41 L928.684 1275.65 L937.82 1282.58 L934.492 1293.54 L943.9 1286.99 L953.308 1293.54 L949.98 1282.58 L959.116 1275.65 L947.66 1275.41 L943.9 1264.59 Z\" fill=\"#3da44d\" fill-rule=\"evenodd\" fill-opacity=\"1\" stroke=\"#000000\" stroke-opacity=\"1\" stroke-width=\"3.2\"/>\n",
       "<path clip-path=\"url(#clip342)\" d=\"M1047.49 1288.18 L1043.73 1299 L1032.28 1299.24 L1041.41 1306.17 L1038.08 1317.13 L1047.49 1310.58 L1056.9 1317.13 L1053.57 1306.17 L1062.71 1299.24 L1051.25 1299 L1047.49 1288.18 Z\" fill=\"#3da44d\" fill-rule=\"evenodd\" fill-opacity=\"1\" stroke=\"#000000\" stroke-opacity=\"1\" stroke-width=\"3.2\"/>\n",
       "<path clip-path=\"url(#clip342)\" d=\"M1151.08 1311.77 L1147.32 1322.59 L1135.87 1322.83 L1145 1329.76 L1141.68 1340.72 L1151.08 1334.17 L1160.49 1340.72 L1157.16 1329.76 L1166.3 1322.83 L1154.84 1322.59 L1151.08 1311.77 Z\" fill=\"#3da44d\" fill-rule=\"evenodd\" fill-opacity=\"1\" stroke=\"#000000\" stroke-opacity=\"1\" stroke-width=\"3.2\"/>\n",
       "<path clip-path=\"url(#clip342)\" d=\"M1254.68 1335.36 L1250.92 1346.18 L1239.46 1346.42 L1248.6 1353.34 L1245.27 1364.3 L1254.68 1357.76 L1264.09 1364.3 L1260.76 1353.34 L1269.89 1346.42 L1258.44 1346.18 L1254.68 1335.36 Z\" fill=\"#3da44d\" fill-rule=\"evenodd\" fill-opacity=\"1\" stroke=\"#000000\" stroke-opacity=\"1\" stroke-width=\"3.2\"/>\n",
       "<path clip-path=\"url(#clip342)\" d=\"M1358.27 1358.95 L1354.51 1369.77 L1343.05 1370.01 L1352.19 1376.93 L1348.86 1387.89 L1358.27 1381.35 L1367.68 1387.89 L1364.35 1376.93 L1373.49 1370.01 L1362.03 1369.77 L1358.27 1358.95 Z\" fill=\"#3da44d\" fill-rule=\"evenodd\" fill-opacity=\"1\" stroke=\"#000000\" stroke-opacity=\"1\" stroke-width=\"3.2\"/>\n",
       "<path clip-path=\"url(#clip342)\" d=\"M1461.86 1382.54 L1458.1 1393.35 L1446.65 1393.59 L1455.78 1400.52 L1452.45 1411.48 L1461.86 1404.94 L1471.27 1411.48 L1467.94 1400.52 L1477.08 1393.59 L1465.62 1393.35 L1461.86 1382.54 Z\" fill=\"#3da44d\" fill-rule=\"evenodd\" fill-opacity=\"1\" stroke=\"#000000\" stroke-opacity=\"1\" stroke-width=\"3.2\"/>\n",
       "<path clip-path=\"url(#clip342)\" d=\"M1565.45 1406.13 L1561.69 1416.94 L1550.24 1417.18 L1559.37 1424.11 L1556.05 1435.07 L1565.45 1428.53 L1574.86 1435.07 L1571.53 1424.11 L1580.67 1417.18 L1569.21 1416.94 L1565.45 1406.13 Z\" fill=\"#3da44d\" fill-rule=\"evenodd\" fill-opacity=\"1\" stroke=\"#000000\" stroke-opacity=\"1\" stroke-width=\"3.2\"/>\n",
       "<path clip-path=\"url(#clip342)\" d=\"M1669.05 1429.72 L1665.29 1440.53 L1653.83 1440.77 L1662.97 1447.7 L1659.64 1458.66 L1669.05 1452.12 L1678.45 1458.66 L1675.13 1447.7 L1684.26 1440.77 L1672.81 1440.53 L1669.05 1429.72 Z\" fill=\"#3da44d\" fill-rule=\"evenodd\" fill-opacity=\"1\" stroke=\"#000000\" stroke-opacity=\"1\" stroke-width=\"3.2\"/>\n",
       "<path clip-path=\"url(#clip342)\" d=\"M1772.64 1429.72 L1768.88 1440.53 L1757.42 1440.77 L1766.56 1447.7 L1763.23 1458.66 L1772.64 1452.12 L1782.05 1458.66 L1778.72 1447.7 L1787.85 1440.77 L1776.4 1440.53 L1772.64 1429.72 Z\" fill=\"#3da44d\" fill-rule=\"evenodd\" fill-opacity=\"1\" stroke=\"#000000\" stroke-opacity=\"1\" stroke-width=\"3.2\"/>\n",
       "<path clip-path=\"url(#clip342)\" d=\"M1876.23 1429.72 L1872.47 1440.53 L1861.02 1440.77 L1870.15 1447.7 L1866.82 1458.66 L1876.23 1452.12 L1885.64 1458.66 L1882.31 1447.7 L1891.45 1440.77 L1879.99 1440.53 L1876.23 1429.72 Z\" fill=\"#3da44d\" fill-rule=\"evenodd\" fill-opacity=\"1\" stroke=\"#000000\" stroke-opacity=\"1\" stroke-width=\"3.2\"/>\n",
       "<path clip-path=\"url(#clip342)\" d=\"M1979.82 1429.72 L1976.06 1440.53 L1964.61 1440.77 L1973.74 1447.7 L1970.42 1458.66 L1979.82 1452.12 L1989.23 1458.66 L1985.9 1447.7 L1995.04 1440.77 L1983.58 1440.53 L1979.82 1429.72 Z\" fill=\"#3da44d\" fill-rule=\"evenodd\" fill-opacity=\"1\" stroke=\"#000000\" stroke-opacity=\"1\" stroke-width=\"3.2\"/>\n",
       "<path clip-path=\"url(#clip342)\" d=\"M2083.42 1429.72 L2079.66 1440.53 L2068.2 1440.77 L2077.34 1447.7 L2074.01 1458.66 L2083.42 1452.12 L2092.82 1458.66 L2089.5 1447.7 L2098.63 1440.77 L2087.18 1440.53 L2083.42 1429.72 Z\" fill=\"#3da44d\" fill-rule=\"evenodd\" fill-opacity=\"1\" stroke=\"#000000\" stroke-opacity=\"1\" stroke-width=\"3.2\"/>\n",
       "<path clip-path=\"url(#clip342)\" d=\"M2187.01 1429.72 L2183.25 1440.53 L2171.79 1440.77 L2180.93 1447.7 L2177.6 1458.66 L2187.01 1452.12 L2196.42 1458.66 L2193.09 1447.7 L2202.22 1440.77 L2190.77 1440.53 L2187.01 1429.72 Z\" fill=\"#3da44d\" fill-rule=\"evenodd\" fill-opacity=\"1\" stroke=\"#000000\" stroke-opacity=\"1\" stroke-width=\"3.2\"/>\n",
       "<path clip-path=\"url(#clip342)\" d=\"M2290.6 1429.72 L2286.84 1440.53 L2275.38 1440.77 L2284.52 1447.7 L2281.19 1458.66 L2290.6 1452.12 L2300.01 1458.66 L2296.68 1447.7 L2305.82 1440.77 L2294.36 1440.53 L2290.6 1429.72 Z\" fill=\"#3da44d\" fill-rule=\"evenodd\" fill-opacity=\"1\" stroke=\"#000000\" stroke-opacity=\"1\" stroke-width=\"3.2\"/>\n",
       "<polyline clip-path=\"url(#clip342)\" style=\"stroke:#c271d2; stroke-linecap:butt; stroke-linejoin:round; stroke-width:16; stroke-opacity:1; fill:none\" points=\"\n",
       "  218.754,104.101 322.346,272.172 425.938,440.242 529.531,608.313 633.123,776.383 736.715,944.453 840.308,1112.52 943.9,1280.59 1047.49,1304.18 1151.08,1327.77 \n",
       "  1254.68,1351.36 1358.27,1374.95 1461.86,1398.54 1565.45,1422.13 1669.05,1425.08 1772.64,1428.02 1876.23,1430.97 1979.82,1433.92 2083.42,1436.87 2187.01,1439.82 \n",
       "  2290.6,1442.77 \n",
       "  \"/>\n",
       "<path clip-path=\"url(#clip342)\" d=\"M218.754 88.1014 L202.754 104.101 L218.754 120.101 L234.754 104.101 L218.754 88.1014 Z\" fill=\"#c271d2\" fill-rule=\"evenodd\" fill-opacity=\"1\" stroke=\"#000000\" stroke-opacity=\"1\" stroke-width=\"3.2\"/>\n",
       "<path clip-path=\"url(#clip342)\" d=\"M322.346 256.172 L306.346 272.172 L322.346 288.172 L338.346 272.172 L322.346 256.172 Z\" fill=\"#c271d2\" fill-rule=\"evenodd\" fill-opacity=\"1\" stroke=\"#000000\" stroke-opacity=\"1\" stroke-width=\"3.2\"/>\n",
       "<path clip-path=\"url(#clip342)\" d=\"M425.938 424.242 L409.938 440.242 L425.938 456.242 L441.938 440.242 L425.938 424.242 Z\" fill=\"#c271d2\" fill-rule=\"evenodd\" fill-opacity=\"1\" stroke=\"#000000\" stroke-opacity=\"1\" stroke-width=\"3.2\"/>\n",
       "<path clip-path=\"url(#clip342)\" d=\"M529.531 592.313 L513.531 608.313 L529.531 624.313 L545.531 608.313 L529.531 592.313 Z\" fill=\"#c271d2\" fill-rule=\"evenodd\" fill-opacity=\"1\" stroke=\"#000000\" stroke-opacity=\"1\" stroke-width=\"3.2\"/>\n",
       "<path clip-path=\"url(#clip342)\" d=\"M633.123 760.383 L617.123 776.383 L633.123 792.383 L649.123 776.383 L633.123 760.383 Z\" fill=\"#c271d2\" fill-rule=\"evenodd\" fill-opacity=\"1\" stroke=\"#000000\" stroke-opacity=\"1\" stroke-width=\"3.2\"/>\n",
       "<path clip-path=\"url(#clip342)\" d=\"M736.715 928.453 L720.715 944.453 L736.715 960.453 L752.715 944.453 L736.715 928.453 Z\" fill=\"#c271d2\" fill-rule=\"evenodd\" fill-opacity=\"1\" stroke=\"#000000\" stroke-opacity=\"1\" stroke-width=\"3.2\"/>\n",
       "<path clip-path=\"url(#clip342)\" d=\"M840.308 1096.52 L824.308 1112.52 L840.308 1128.52 L856.308 1112.52 L840.308 1096.52 Z\" fill=\"#c271d2\" fill-rule=\"evenodd\" fill-opacity=\"1\" stroke=\"#000000\" stroke-opacity=\"1\" stroke-width=\"3.2\"/>\n",
       "<path clip-path=\"url(#clip342)\" d=\"M943.9 1264.59 L927.9 1280.59 L943.9 1296.59 L959.9 1280.59 L943.9 1264.59 Z\" fill=\"#c271d2\" fill-rule=\"evenodd\" fill-opacity=\"1\" stroke=\"#000000\" stroke-opacity=\"1\" stroke-width=\"3.2\"/>\n",
       "<path clip-path=\"url(#clip342)\" d=\"M1047.49 1288.18 L1031.49 1304.18 L1047.49 1320.18 L1063.49 1304.18 L1047.49 1288.18 Z\" fill=\"#c271d2\" fill-rule=\"evenodd\" fill-opacity=\"1\" stroke=\"#000000\" stroke-opacity=\"1\" stroke-width=\"3.2\"/>\n",
       "<path clip-path=\"url(#clip342)\" d=\"M1151.08 1311.77 L1135.08 1327.77 L1151.08 1343.77 L1167.08 1327.77 L1151.08 1311.77 Z\" fill=\"#c271d2\" fill-rule=\"evenodd\" fill-opacity=\"1\" stroke=\"#000000\" stroke-opacity=\"1\" stroke-width=\"3.2\"/>\n",
       "<path clip-path=\"url(#clip342)\" d=\"M1254.68 1335.36 L1238.68 1351.36 L1254.68 1367.36 L1270.68 1351.36 L1254.68 1335.36 Z\" fill=\"#c271d2\" fill-rule=\"evenodd\" fill-opacity=\"1\" stroke=\"#000000\" stroke-opacity=\"1\" stroke-width=\"3.2\"/>\n",
       "<path clip-path=\"url(#clip342)\" d=\"M1358.27 1358.95 L1342.27 1374.95 L1358.27 1390.95 L1374.27 1374.95 L1358.27 1358.95 Z\" fill=\"#c271d2\" fill-rule=\"evenodd\" fill-opacity=\"1\" stroke=\"#000000\" stroke-opacity=\"1\" stroke-width=\"3.2\"/>\n",
       "<path clip-path=\"url(#clip342)\" d=\"M1461.86 1382.54 L1445.86 1398.54 L1461.86 1414.54 L1477.86 1398.54 L1461.86 1382.54 Z\" fill=\"#c271d2\" fill-rule=\"evenodd\" fill-opacity=\"1\" stroke=\"#000000\" stroke-opacity=\"1\" stroke-width=\"3.2\"/>\n",
       "<path clip-path=\"url(#clip342)\" d=\"M1565.45 1406.13 L1549.45 1422.13 L1565.45 1438.13 L1581.45 1422.13 L1565.45 1406.13 Z\" fill=\"#c271d2\" fill-rule=\"evenodd\" fill-opacity=\"1\" stroke=\"#000000\" stroke-opacity=\"1\" stroke-width=\"3.2\"/>\n",
       "<path clip-path=\"url(#clip342)\" d=\"M1669.05 1409.08 L1653.05 1425.08 L1669.05 1441.08 L1685.05 1425.08 L1669.05 1409.08 Z\" fill=\"#c271d2\" fill-rule=\"evenodd\" fill-opacity=\"1\" stroke=\"#000000\" stroke-opacity=\"1\" stroke-width=\"3.2\"/>\n",
       "<path clip-path=\"url(#clip342)\" d=\"M1772.64 1412.02 L1756.64 1428.02 L1772.64 1444.02 L1788.64 1428.02 L1772.64 1412.02 Z\" fill=\"#c271d2\" fill-rule=\"evenodd\" fill-opacity=\"1\" stroke=\"#000000\" stroke-opacity=\"1\" stroke-width=\"3.2\"/>\n",
       "<path clip-path=\"url(#clip342)\" d=\"M1876.23 1414.97 L1860.23 1430.97 L1876.23 1446.97 L1892.23 1430.97 L1876.23 1414.97 Z\" fill=\"#c271d2\" fill-rule=\"evenodd\" fill-opacity=\"1\" stroke=\"#000000\" stroke-opacity=\"1\" stroke-width=\"3.2\"/>\n",
       "<path clip-path=\"url(#clip342)\" d=\"M1979.82 1417.92 L1963.82 1433.92 L1979.82 1449.92 L1995.82 1433.92 L1979.82 1417.92 Z\" fill=\"#c271d2\" fill-rule=\"evenodd\" fill-opacity=\"1\" stroke=\"#000000\" stroke-opacity=\"1\" stroke-width=\"3.2\"/>\n",
       "<path clip-path=\"url(#clip342)\" d=\"M2083.42 1420.87 L2067.42 1436.87 L2083.42 1452.87 L2099.42 1436.87 L2083.42 1420.87 Z\" fill=\"#c271d2\" fill-rule=\"evenodd\" fill-opacity=\"1\" stroke=\"#000000\" stroke-opacity=\"1\" stroke-width=\"3.2\"/>\n",
       "<path clip-path=\"url(#clip342)\" d=\"M2187.01 1423.82 L2171.01 1439.82 L2187.01 1455.82 L2203.01 1439.82 L2187.01 1423.82 Z\" fill=\"#c271d2\" fill-rule=\"evenodd\" fill-opacity=\"1\" stroke=\"#000000\" stroke-opacity=\"1\" stroke-width=\"3.2\"/>\n",
       "<path clip-path=\"url(#clip342)\" d=\"M2290.6 1426.77 L2274.6 1442.77 L2290.6 1458.77 L2306.6 1442.77 L2290.6 1426.77 Z\" fill=\"#c271d2\" fill-rule=\"evenodd\" fill-opacity=\"1\" stroke=\"#000000\" stroke-opacity=\"1\" stroke-width=\"3.2\"/>\n",
       "<polyline clip-path=\"url(#clip342)\" style=\"stroke:#ac8d18; stroke-linecap:butt; stroke-linejoin:round; stroke-width:16; stroke-opacity:1; fill:none\" points=\"\n",
       "  218.754,104.101 322.346,272.172 425.938,440.242 529.531,608.313 633.123,776.383 736.715,944.453 840.308,1112.52 943.9,1151.59 1047.49,1190.66 1151.08,1229.73 \n",
       "  1254.68,1268.8 1358.27,1307.87 1461.86,1346.94 1565.45,1386.01 1669.05,1425.08 1772.64,1428.02 1876.23,1430.97 1979.82,1433.92 2083.42,1436.87 2187.01,1439.82 \n",
       "  2290.6,1442.77 \n",
       "  \"/>\n",
       "<path clip-path=\"url(#clip342)\" d=\"M218.754 120.101 L204.898 112.101 L204.898 96.1014 L218.754 88.1014 L232.61 96.1014 L232.61 112.101 Z\" fill=\"#ac8d18\" fill-rule=\"evenodd\" fill-opacity=\"1\" stroke=\"#000000\" stroke-opacity=\"1\" stroke-width=\"3.2\"/>\n",
       "<path clip-path=\"url(#clip342)\" d=\"M322.346 288.172 L308.49 280.172 L308.49 264.172 L322.346 256.172 L336.202 264.172 L336.202 280.172 Z\" fill=\"#ac8d18\" fill-rule=\"evenodd\" fill-opacity=\"1\" stroke=\"#000000\" stroke-opacity=\"1\" stroke-width=\"3.2\"/>\n",
       "<path clip-path=\"url(#clip342)\" d=\"M425.938 456.242 L412.082 448.242 L412.082 432.242 L425.938 424.242 L439.794 432.242 L439.794 448.242 Z\" fill=\"#ac8d18\" fill-rule=\"evenodd\" fill-opacity=\"1\" stroke=\"#000000\" stroke-opacity=\"1\" stroke-width=\"3.2\"/>\n",
       "<path clip-path=\"url(#clip342)\" d=\"M529.531 624.313 L515.675 616.313 L515.675 600.313 L529.531 592.313 L543.387 600.313 L543.387 616.313 Z\" fill=\"#ac8d18\" fill-rule=\"evenodd\" fill-opacity=\"1\" stroke=\"#000000\" stroke-opacity=\"1\" stroke-width=\"3.2\"/>\n",
       "<path clip-path=\"url(#clip342)\" d=\"M633.123 792.383 L619.267 784.383 L619.267 768.383 L633.123 760.383 L646.979 768.383 L646.979 784.383 Z\" fill=\"#ac8d18\" fill-rule=\"evenodd\" fill-opacity=\"1\" stroke=\"#000000\" stroke-opacity=\"1\" stroke-width=\"3.2\"/>\n",
       "<path clip-path=\"url(#clip342)\" d=\"M736.715 960.453 L722.859 952.453 L722.859 936.453 L736.715 928.453 L750.571 936.453 L750.571 952.453 Z\" fill=\"#ac8d18\" fill-rule=\"evenodd\" fill-opacity=\"1\" stroke=\"#000000\" stroke-opacity=\"1\" stroke-width=\"3.2\"/>\n",
       "<path clip-path=\"url(#clip342)\" d=\"M840.308 1128.52 L826.452 1120.52 L826.452 1104.52 L840.308 1096.52 L854.164 1104.52 L854.164 1120.52 Z\" fill=\"#ac8d18\" fill-rule=\"evenodd\" fill-opacity=\"1\" stroke=\"#000000\" stroke-opacity=\"1\" stroke-width=\"3.2\"/>\n",
       "<path clip-path=\"url(#clip342)\" d=\"M943.9 1167.59 L930.044 1159.59 L930.044 1143.59 L943.9 1135.59 L957.756 1143.59 L957.756 1159.59 Z\" fill=\"#ac8d18\" fill-rule=\"evenodd\" fill-opacity=\"1\" stroke=\"#000000\" stroke-opacity=\"1\" stroke-width=\"3.2\"/>\n",
       "<path clip-path=\"url(#clip342)\" d=\"M1047.49 1206.66 L1033.64 1198.66 L1033.64 1182.66 L1047.49 1174.66 L1061.35 1182.66 L1061.35 1198.66 Z\" fill=\"#ac8d18\" fill-rule=\"evenodd\" fill-opacity=\"1\" stroke=\"#000000\" stroke-opacity=\"1\" stroke-width=\"3.2\"/>\n",
       "<path clip-path=\"url(#clip342)\" d=\"M1151.08 1245.73 L1137.23 1237.73 L1137.23 1221.73 L1151.08 1213.73 L1164.94 1221.73 L1164.94 1237.73 Z\" fill=\"#ac8d18\" fill-rule=\"evenodd\" fill-opacity=\"1\" stroke=\"#000000\" stroke-opacity=\"1\" stroke-width=\"3.2\"/>\n",
       "<path clip-path=\"url(#clip342)\" d=\"M1254.68 1284.8 L1240.82 1276.8 L1240.82 1260.8 L1254.68 1252.8 L1268.53 1260.8 L1268.53 1276.8 Z\" fill=\"#ac8d18\" fill-rule=\"evenodd\" fill-opacity=\"1\" stroke=\"#000000\" stroke-opacity=\"1\" stroke-width=\"3.2\"/>\n",
       "<path clip-path=\"url(#clip342)\" d=\"M1358.27 1323.87 L1344.41 1315.87 L1344.41 1299.87 L1358.27 1291.87 L1372.13 1299.87 L1372.13 1315.87 Z\" fill=\"#ac8d18\" fill-rule=\"evenodd\" fill-opacity=\"1\" stroke=\"#000000\" stroke-opacity=\"1\" stroke-width=\"3.2\"/>\n",
       "<path clip-path=\"url(#clip342)\" d=\"M1461.86 1362.94 L1448.01 1354.94 L1448.01 1338.94 L1461.86 1330.94 L1475.72 1338.94 L1475.72 1354.94 Z\" fill=\"#ac8d18\" fill-rule=\"evenodd\" fill-opacity=\"1\" stroke=\"#000000\" stroke-opacity=\"1\" stroke-width=\"3.2\"/>\n",
       "<path clip-path=\"url(#clip342)\" d=\"M1565.45 1402.01 L1551.6 1394.01 L1551.6 1378.01 L1565.45 1370.01 L1579.31 1378.01 L1579.31 1394.01 Z\" fill=\"#ac8d18\" fill-rule=\"evenodd\" fill-opacity=\"1\" stroke=\"#000000\" stroke-opacity=\"1\" stroke-width=\"3.2\"/>\n",
       "<path clip-path=\"url(#clip342)\" d=\"M1669.05 1441.08 L1655.19 1433.08 L1655.19 1417.08 L1669.05 1409.08 L1682.9 1417.08 L1682.9 1433.08 Z\" fill=\"#ac8d18\" fill-rule=\"evenodd\" fill-opacity=\"1\" stroke=\"#000000\" stroke-opacity=\"1\" stroke-width=\"3.2\"/>\n",
       "<path clip-path=\"url(#clip342)\" d=\"M1772.64 1444.02 L1758.78 1436.02 L1758.78 1420.02 L1772.64 1412.02 L1786.49 1420.02 L1786.49 1436.02 Z\" fill=\"#ac8d18\" fill-rule=\"evenodd\" fill-opacity=\"1\" stroke=\"#000000\" stroke-opacity=\"1\" stroke-width=\"3.2\"/>\n",
       "<path clip-path=\"url(#clip342)\" d=\"M1876.23 1446.97 L1862.38 1438.97 L1862.38 1422.97 L1876.23 1414.97 L1890.09 1422.97 L1890.09 1438.97 Z\" fill=\"#ac8d18\" fill-rule=\"evenodd\" fill-opacity=\"1\" stroke=\"#000000\" stroke-opacity=\"1\" stroke-width=\"3.2\"/>\n",
       "<path clip-path=\"url(#clip342)\" d=\"M1979.82 1449.92 L1965.97 1441.92 L1965.97 1425.92 L1979.82 1417.92 L1993.68 1425.92 L1993.68 1441.92 Z\" fill=\"#ac8d18\" fill-rule=\"evenodd\" fill-opacity=\"1\" stroke=\"#000000\" stroke-opacity=\"1\" stroke-width=\"3.2\"/>\n",
       "<path clip-path=\"url(#clip342)\" d=\"M2083.42 1452.87 L2069.56 1444.87 L2069.56 1428.87 L2083.42 1420.87 L2097.27 1428.87 L2097.27 1444.87 Z\" fill=\"#ac8d18\" fill-rule=\"evenodd\" fill-opacity=\"1\" stroke=\"#000000\" stroke-opacity=\"1\" stroke-width=\"3.2\"/>\n",
       "<path clip-path=\"url(#clip342)\" d=\"M2187.01 1455.82 L2173.15 1447.82 L2173.15 1431.82 L2187.01 1423.82 L2200.86 1431.82 L2200.86 1447.82 Z\" fill=\"#ac8d18\" fill-rule=\"evenodd\" fill-opacity=\"1\" stroke=\"#000000\" stroke-opacity=\"1\" stroke-width=\"3.2\"/>\n",
       "<path clip-path=\"url(#clip342)\" d=\"M2290.6 1458.77 L2276.74 1450.77 L2276.74 1434.77 L2290.6 1426.77 L2304.46 1434.77 L2304.46 1450.77 Z\" fill=\"#ac8d18\" fill-rule=\"evenodd\" fill-opacity=\"1\" stroke=\"#000000\" stroke-opacity=\"1\" stroke-width=\"3.2\"/>\n",
       "<polyline clip-path=\"url(#clip342)\" style=\"stroke:#00a9ad; stroke-linecap:butt; stroke-linejoin:round; stroke-width:16; stroke-opacity:1; fill:none\" points=\"\n",
       "  218.754,87.9763 322.346,239.921 425.938,391.867 529.531,543.812 633.123,695.757 736.715,847.702 840.308,999.647 943.9,1151.59 1047.49,1190.66 1151.08,1229.73 \n",
       "  1254.68,1268.8 1358.27,1307.87 1461.86,1346.94 1565.45,1386.01 1669.05,1393.47 1772.64,1400.93 1876.23,1408.4 1979.82,1415.86 2083.42,1423.32 2187.01,1430.79 \n",
       "  2290.6,1438.25 \n",
       "  \"/>\n",
       "<line clip-path=\"url(#clip342)\" x1=\"218.754\" y1=\"87.9763\" x2=\"218.754\" y2=\"71.9763\" style=\"stroke:#00a9ad; stroke-width:3.2; stroke-opacity:1\"/>\n",
       "<line clip-path=\"url(#clip342)\" x1=\"218.754\" y1=\"87.9763\" x2=\"202.754\" y2=\"87.9763\" style=\"stroke:#00a9ad; stroke-width:3.2; stroke-opacity:1\"/>\n",
       "<line clip-path=\"url(#clip342)\" x1=\"218.754\" y1=\"87.9763\" x2=\"218.754\" y2=\"103.976\" style=\"stroke:#00a9ad; stroke-width:3.2; stroke-opacity:1\"/>\n",
       "<line clip-path=\"url(#clip342)\" x1=\"218.754\" y1=\"87.9763\" x2=\"234.754\" y2=\"87.9763\" style=\"stroke:#00a9ad; stroke-width:3.2; stroke-opacity:1\"/>\n",
       "<line clip-path=\"url(#clip342)\" x1=\"322.346\" y1=\"239.921\" x2=\"322.346\" y2=\"223.921\" style=\"stroke:#00a9ad; stroke-width:3.2; stroke-opacity:1\"/>\n",
       "<line clip-path=\"url(#clip342)\" x1=\"322.346\" y1=\"239.921\" x2=\"306.346\" y2=\"239.921\" style=\"stroke:#00a9ad; stroke-width:3.2; stroke-opacity:1\"/>\n",
       "<line clip-path=\"url(#clip342)\" x1=\"322.346\" y1=\"239.921\" x2=\"322.346\" y2=\"255.921\" style=\"stroke:#00a9ad; stroke-width:3.2; stroke-opacity:1\"/>\n",
       "<line clip-path=\"url(#clip342)\" x1=\"322.346\" y1=\"239.921\" x2=\"338.346\" y2=\"239.921\" style=\"stroke:#00a9ad; stroke-width:3.2; stroke-opacity:1\"/>\n",
       "<line clip-path=\"url(#clip342)\" x1=\"425.938\" y1=\"391.867\" x2=\"425.938\" y2=\"375.867\" style=\"stroke:#00a9ad; stroke-width:3.2; stroke-opacity:1\"/>\n",
       "<line clip-path=\"url(#clip342)\" x1=\"425.938\" y1=\"391.867\" x2=\"409.938\" y2=\"391.867\" style=\"stroke:#00a9ad; stroke-width:3.2; stroke-opacity:1\"/>\n",
       "<line clip-path=\"url(#clip342)\" x1=\"425.938\" y1=\"391.867\" x2=\"425.938\" y2=\"407.867\" style=\"stroke:#00a9ad; stroke-width:3.2; stroke-opacity:1\"/>\n",
       "<line clip-path=\"url(#clip342)\" x1=\"425.938\" y1=\"391.867\" x2=\"441.938\" y2=\"391.867\" style=\"stroke:#00a9ad; stroke-width:3.2; stroke-opacity:1\"/>\n",
       "<line clip-path=\"url(#clip342)\" x1=\"529.531\" y1=\"543.812\" x2=\"529.531\" y2=\"527.812\" style=\"stroke:#00a9ad; stroke-width:3.2; stroke-opacity:1\"/>\n",
       "<line clip-path=\"url(#clip342)\" x1=\"529.531\" y1=\"543.812\" x2=\"513.531\" y2=\"543.812\" style=\"stroke:#00a9ad; stroke-width:3.2; stroke-opacity:1\"/>\n",
       "<line clip-path=\"url(#clip342)\" x1=\"529.531\" y1=\"543.812\" x2=\"529.531\" y2=\"559.812\" style=\"stroke:#00a9ad; stroke-width:3.2; stroke-opacity:1\"/>\n",
       "<line clip-path=\"url(#clip342)\" x1=\"529.531\" y1=\"543.812\" x2=\"545.531\" y2=\"543.812\" style=\"stroke:#00a9ad; stroke-width:3.2; stroke-opacity:1\"/>\n",
       "<line clip-path=\"url(#clip342)\" x1=\"633.123\" y1=\"695.757\" x2=\"633.123\" y2=\"679.757\" style=\"stroke:#00a9ad; stroke-width:3.2; stroke-opacity:1\"/>\n",
       "<line clip-path=\"url(#clip342)\" x1=\"633.123\" y1=\"695.757\" x2=\"617.123\" y2=\"695.757\" style=\"stroke:#00a9ad; stroke-width:3.2; stroke-opacity:1\"/>\n",
       "<line clip-path=\"url(#clip342)\" x1=\"633.123\" y1=\"695.757\" x2=\"633.123\" y2=\"711.757\" style=\"stroke:#00a9ad; stroke-width:3.2; stroke-opacity:1\"/>\n",
       "<line clip-path=\"url(#clip342)\" x1=\"633.123\" y1=\"695.757\" x2=\"649.123\" y2=\"695.757\" style=\"stroke:#00a9ad; stroke-width:3.2; stroke-opacity:1\"/>\n",
       "<line clip-path=\"url(#clip342)\" x1=\"736.715\" y1=\"847.702\" x2=\"736.715\" y2=\"831.702\" style=\"stroke:#00a9ad; stroke-width:3.2; stroke-opacity:1\"/>\n",
       "<line clip-path=\"url(#clip342)\" x1=\"736.715\" y1=\"847.702\" x2=\"720.715\" y2=\"847.702\" style=\"stroke:#00a9ad; stroke-width:3.2; stroke-opacity:1\"/>\n",
       "<line clip-path=\"url(#clip342)\" x1=\"736.715\" y1=\"847.702\" x2=\"736.715\" y2=\"863.702\" style=\"stroke:#00a9ad; stroke-width:3.2; stroke-opacity:1\"/>\n",
       "<line clip-path=\"url(#clip342)\" x1=\"736.715\" y1=\"847.702\" x2=\"752.715\" y2=\"847.702\" style=\"stroke:#00a9ad; stroke-width:3.2; stroke-opacity:1\"/>\n",
       "<line clip-path=\"url(#clip342)\" x1=\"840.308\" y1=\"999.647\" x2=\"840.308\" y2=\"983.647\" style=\"stroke:#00a9ad; stroke-width:3.2; stroke-opacity:1\"/>\n",
       "<line clip-path=\"url(#clip342)\" x1=\"840.308\" y1=\"999.647\" x2=\"824.308\" y2=\"999.647\" style=\"stroke:#00a9ad; stroke-width:3.2; stroke-opacity:1\"/>\n",
       "<line clip-path=\"url(#clip342)\" x1=\"840.308\" y1=\"999.647\" x2=\"840.308\" y2=\"1015.65\" style=\"stroke:#00a9ad; stroke-width:3.2; stroke-opacity:1\"/>\n",
       "<line clip-path=\"url(#clip342)\" x1=\"840.308\" y1=\"999.647\" x2=\"856.308\" y2=\"999.647\" style=\"stroke:#00a9ad; stroke-width:3.2; stroke-opacity:1\"/>\n",
       "<line clip-path=\"url(#clip342)\" x1=\"943.9\" y1=\"1151.59\" x2=\"943.9\" y2=\"1135.59\" style=\"stroke:#00a9ad; stroke-width:3.2; stroke-opacity:1\"/>\n",
       "<line clip-path=\"url(#clip342)\" x1=\"943.9\" y1=\"1151.59\" x2=\"927.9\" y2=\"1151.59\" style=\"stroke:#00a9ad; stroke-width:3.2; stroke-opacity:1\"/>\n",
       "<line clip-path=\"url(#clip342)\" x1=\"943.9\" y1=\"1151.59\" x2=\"943.9\" y2=\"1167.59\" style=\"stroke:#00a9ad; stroke-width:3.2; stroke-opacity:1\"/>\n",
       "<line clip-path=\"url(#clip342)\" x1=\"943.9\" y1=\"1151.59\" x2=\"959.9\" y2=\"1151.59\" style=\"stroke:#00a9ad; stroke-width:3.2; stroke-opacity:1\"/>\n",
       "<line clip-path=\"url(#clip342)\" x1=\"1047.49\" y1=\"1190.66\" x2=\"1047.49\" y2=\"1174.66\" style=\"stroke:#00a9ad; stroke-width:3.2; stroke-opacity:1\"/>\n",
       "<line clip-path=\"url(#clip342)\" x1=\"1047.49\" y1=\"1190.66\" x2=\"1031.49\" y2=\"1190.66\" style=\"stroke:#00a9ad; stroke-width:3.2; stroke-opacity:1\"/>\n",
       "<line clip-path=\"url(#clip342)\" x1=\"1047.49\" y1=\"1190.66\" x2=\"1047.49\" y2=\"1206.66\" style=\"stroke:#00a9ad; stroke-width:3.2; stroke-opacity:1\"/>\n",
       "<line clip-path=\"url(#clip342)\" x1=\"1047.49\" y1=\"1190.66\" x2=\"1063.49\" y2=\"1190.66\" style=\"stroke:#00a9ad; stroke-width:3.2; stroke-opacity:1\"/>\n",
       "<line clip-path=\"url(#clip342)\" x1=\"1151.08\" y1=\"1229.73\" x2=\"1151.08\" y2=\"1213.73\" style=\"stroke:#00a9ad; stroke-width:3.2; stroke-opacity:1\"/>\n",
       "<line clip-path=\"url(#clip342)\" x1=\"1151.08\" y1=\"1229.73\" x2=\"1135.08\" y2=\"1229.73\" style=\"stroke:#00a9ad; stroke-width:3.2; stroke-opacity:1\"/>\n",
       "<line clip-path=\"url(#clip342)\" x1=\"1151.08\" y1=\"1229.73\" x2=\"1151.08\" y2=\"1245.73\" style=\"stroke:#00a9ad; stroke-width:3.2; stroke-opacity:1\"/>\n",
       "<line clip-path=\"url(#clip342)\" x1=\"1151.08\" y1=\"1229.73\" x2=\"1167.08\" y2=\"1229.73\" style=\"stroke:#00a9ad; stroke-width:3.2; stroke-opacity:1\"/>\n",
       "<line clip-path=\"url(#clip342)\" x1=\"1254.68\" y1=\"1268.8\" x2=\"1254.68\" y2=\"1252.8\" style=\"stroke:#00a9ad; stroke-width:3.2; stroke-opacity:1\"/>\n",
       "<line clip-path=\"url(#clip342)\" x1=\"1254.68\" y1=\"1268.8\" x2=\"1238.68\" y2=\"1268.8\" style=\"stroke:#00a9ad; stroke-width:3.2; stroke-opacity:1\"/>\n",
       "<line clip-path=\"url(#clip342)\" x1=\"1254.68\" y1=\"1268.8\" x2=\"1254.68\" y2=\"1284.8\" style=\"stroke:#00a9ad; stroke-width:3.2; stroke-opacity:1\"/>\n",
       "<line clip-path=\"url(#clip342)\" x1=\"1254.68\" y1=\"1268.8\" x2=\"1270.68\" y2=\"1268.8\" style=\"stroke:#00a9ad; stroke-width:3.2; stroke-opacity:1\"/>\n",
       "<line clip-path=\"url(#clip342)\" x1=\"1358.27\" y1=\"1307.87\" x2=\"1358.27\" y2=\"1291.87\" style=\"stroke:#00a9ad; stroke-width:3.2; stroke-opacity:1\"/>\n",
       "<line clip-path=\"url(#clip342)\" x1=\"1358.27\" y1=\"1307.87\" x2=\"1342.27\" y2=\"1307.87\" style=\"stroke:#00a9ad; stroke-width:3.2; stroke-opacity:1\"/>\n",
       "<line clip-path=\"url(#clip342)\" x1=\"1358.27\" y1=\"1307.87\" x2=\"1358.27\" y2=\"1323.87\" style=\"stroke:#00a9ad; stroke-width:3.2; stroke-opacity:1\"/>\n",
       "<line clip-path=\"url(#clip342)\" x1=\"1358.27\" y1=\"1307.87\" x2=\"1374.27\" y2=\"1307.87\" style=\"stroke:#00a9ad; stroke-width:3.2; stroke-opacity:1\"/>\n",
       "<line clip-path=\"url(#clip342)\" x1=\"1461.86\" y1=\"1346.94\" x2=\"1461.86\" y2=\"1330.94\" style=\"stroke:#00a9ad; stroke-width:3.2; stroke-opacity:1\"/>\n",
       "<line clip-path=\"url(#clip342)\" x1=\"1461.86\" y1=\"1346.94\" x2=\"1445.86\" y2=\"1346.94\" style=\"stroke:#00a9ad; stroke-width:3.2; stroke-opacity:1\"/>\n",
       "<line clip-path=\"url(#clip342)\" x1=\"1461.86\" y1=\"1346.94\" x2=\"1461.86\" y2=\"1362.94\" style=\"stroke:#00a9ad; stroke-width:3.2; stroke-opacity:1\"/>\n",
       "<line clip-path=\"url(#clip342)\" x1=\"1461.86\" y1=\"1346.94\" x2=\"1477.86\" y2=\"1346.94\" style=\"stroke:#00a9ad; stroke-width:3.2; stroke-opacity:1\"/>\n",
       "<line clip-path=\"url(#clip342)\" x1=\"1565.45\" y1=\"1386.01\" x2=\"1565.45\" y2=\"1370.01\" style=\"stroke:#00a9ad; stroke-width:3.2; stroke-opacity:1\"/>\n",
       "<line clip-path=\"url(#clip342)\" x1=\"1565.45\" y1=\"1386.01\" x2=\"1549.45\" y2=\"1386.01\" style=\"stroke:#00a9ad; stroke-width:3.2; stroke-opacity:1\"/>\n",
       "<line clip-path=\"url(#clip342)\" x1=\"1565.45\" y1=\"1386.01\" x2=\"1565.45\" y2=\"1402.01\" style=\"stroke:#00a9ad; stroke-width:3.2; stroke-opacity:1\"/>\n",
       "<line clip-path=\"url(#clip342)\" x1=\"1565.45\" y1=\"1386.01\" x2=\"1581.45\" y2=\"1386.01\" style=\"stroke:#00a9ad; stroke-width:3.2; stroke-opacity:1\"/>\n",
       "<line clip-path=\"url(#clip342)\" x1=\"1669.05\" y1=\"1393.47\" x2=\"1669.05\" y2=\"1377.47\" style=\"stroke:#00a9ad; stroke-width:3.2; stroke-opacity:1\"/>\n",
       "<line clip-path=\"url(#clip342)\" x1=\"1669.05\" y1=\"1393.47\" x2=\"1653.05\" y2=\"1393.47\" style=\"stroke:#00a9ad; stroke-width:3.2; stroke-opacity:1\"/>\n",
       "<line clip-path=\"url(#clip342)\" x1=\"1669.05\" y1=\"1393.47\" x2=\"1669.05\" y2=\"1409.47\" style=\"stroke:#00a9ad; stroke-width:3.2; stroke-opacity:1\"/>\n",
       "<line clip-path=\"url(#clip342)\" x1=\"1669.05\" y1=\"1393.47\" x2=\"1685.05\" y2=\"1393.47\" style=\"stroke:#00a9ad; stroke-width:3.2; stroke-opacity:1\"/>\n",
       "<line clip-path=\"url(#clip342)\" x1=\"1772.64\" y1=\"1400.93\" x2=\"1772.64\" y2=\"1384.93\" style=\"stroke:#00a9ad; stroke-width:3.2; stroke-opacity:1\"/>\n",
       "<line clip-path=\"url(#clip342)\" x1=\"1772.64\" y1=\"1400.93\" x2=\"1756.64\" y2=\"1400.93\" style=\"stroke:#00a9ad; stroke-width:3.2; stroke-opacity:1\"/>\n",
       "<line clip-path=\"url(#clip342)\" x1=\"1772.64\" y1=\"1400.93\" x2=\"1772.64\" y2=\"1416.93\" style=\"stroke:#00a9ad; stroke-width:3.2; stroke-opacity:1\"/>\n",
       "<line clip-path=\"url(#clip342)\" x1=\"1772.64\" y1=\"1400.93\" x2=\"1788.64\" y2=\"1400.93\" style=\"stroke:#00a9ad; stroke-width:3.2; stroke-opacity:1\"/>\n",
       "<line clip-path=\"url(#clip342)\" x1=\"1876.23\" y1=\"1408.4\" x2=\"1876.23\" y2=\"1392.4\" style=\"stroke:#00a9ad; stroke-width:3.2; stroke-opacity:1\"/>\n",
       "<line clip-path=\"url(#clip342)\" x1=\"1876.23\" y1=\"1408.4\" x2=\"1860.23\" y2=\"1408.4\" style=\"stroke:#00a9ad; stroke-width:3.2; stroke-opacity:1\"/>\n",
       "<line clip-path=\"url(#clip342)\" x1=\"1876.23\" y1=\"1408.4\" x2=\"1876.23\" y2=\"1424.4\" style=\"stroke:#00a9ad; stroke-width:3.2; stroke-opacity:1\"/>\n",
       "<line clip-path=\"url(#clip342)\" x1=\"1876.23\" y1=\"1408.4\" x2=\"1892.23\" y2=\"1408.4\" style=\"stroke:#00a9ad; stroke-width:3.2; stroke-opacity:1\"/>\n",
       "<line clip-path=\"url(#clip342)\" x1=\"1979.82\" y1=\"1415.86\" x2=\"1979.82\" y2=\"1399.86\" style=\"stroke:#00a9ad; stroke-width:3.2; stroke-opacity:1\"/>\n",
       "<line clip-path=\"url(#clip342)\" x1=\"1979.82\" y1=\"1415.86\" x2=\"1963.82\" y2=\"1415.86\" style=\"stroke:#00a9ad; stroke-width:3.2; stroke-opacity:1\"/>\n",
       "<line clip-path=\"url(#clip342)\" x1=\"1979.82\" y1=\"1415.86\" x2=\"1979.82\" y2=\"1431.86\" style=\"stroke:#00a9ad; stroke-width:3.2; stroke-opacity:1\"/>\n",
       "<line clip-path=\"url(#clip342)\" x1=\"1979.82\" y1=\"1415.86\" x2=\"1995.82\" y2=\"1415.86\" style=\"stroke:#00a9ad; stroke-width:3.2; stroke-opacity:1\"/>\n",
       "<line clip-path=\"url(#clip342)\" x1=\"2083.42\" y1=\"1423.32\" x2=\"2083.42\" y2=\"1407.32\" style=\"stroke:#00a9ad; stroke-width:3.2; stroke-opacity:1\"/>\n",
       "<line clip-path=\"url(#clip342)\" x1=\"2083.42\" y1=\"1423.32\" x2=\"2067.42\" y2=\"1423.32\" style=\"stroke:#00a9ad; stroke-width:3.2; stroke-opacity:1\"/>\n",
       "<line clip-path=\"url(#clip342)\" x1=\"2083.42\" y1=\"1423.32\" x2=\"2083.42\" y2=\"1439.32\" style=\"stroke:#00a9ad; stroke-width:3.2; stroke-opacity:1\"/>\n",
       "<line clip-path=\"url(#clip342)\" x1=\"2083.42\" y1=\"1423.32\" x2=\"2099.42\" y2=\"1423.32\" style=\"stroke:#00a9ad; stroke-width:3.2; stroke-opacity:1\"/>\n",
       "<line clip-path=\"url(#clip342)\" x1=\"2187.01\" y1=\"1430.79\" x2=\"2187.01\" y2=\"1414.79\" style=\"stroke:#00a9ad; stroke-width:3.2; stroke-opacity:1\"/>\n",
       "<line clip-path=\"url(#clip342)\" x1=\"2187.01\" y1=\"1430.79\" x2=\"2171.01\" y2=\"1430.79\" style=\"stroke:#00a9ad; stroke-width:3.2; stroke-opacity:1\"/>\n",
       "<line clip-path=\"url(#clip342)\" x1=\"2187.01\" y1=\"1430.79\" x2=\"2187.01\" y2=\"1446.79\" style=\"stroke:#00a9ad; stroke-width:3.2; stroke-opacity:1\"/>\n",
       "<line clip-path=\"url(#clip342)\" x1=\"2187.01\" y1=\"1430.79\" x2=\"2203.01\" y2=\"1430.79\" style=\"stroke:#00a9ad; stroke-width:3.2; stroke-opacity:1\"/>\n",
       "<line clip-path=\"url(#clip342)\" x1=\"2290.6\" y1=\"1438.25\" x2=\"2290.6\" y2=\"1422.25\" style=\"stroke:#00a9ad; stroke-width:3.2; stroke-opacity:1\"/>\n",
       "<line clip-path=\"url(#clip342)\" x1=\"2290.6\" y1=\"1438.25\" x2=\"2274.6\" y2=\"1438.25\" style=\"stroke:#00a9ad; stroke-width:3.2; stroke-opacity:1\"/>\n",
       "<line clip-path=\"url(#clip342)\" x1=\"2290.6\" y1=\"1438.25\" x2=\"2290.6\" y2=\"1454.25\" style=\"stroke:#00a9ad; stroke-width:3.2; stroke-opacity:1\"/>\n",
       "<line clip-path=\"url(#clip342)\" x1=\"2290.6\" y1=\"1438.25\" x2=\"2306.6\" y2=\"1438.25\" style=\"stroke:#00a9ad; stroke-width:3.2; stroke-opacity:1\"/>\n",
       "<path clip-path=\"url(#clip340)\" d=\"\n",
       "M1981.39 458.098 L2279.55 458.098 L2279.55 95.2176 L1981.39 95.2176  Z\n",
       "  \" fill=\"#ffffff\" fill-rule=\"evenodd\" fill-opacity=\"1\"/>\n",
       "<polyline clip-path=\"url(#clip340)\" style=\"stroke:#000000; stroke-linecap:butt; stroke-linejoin:round; stroke-width:4; stroke-opacity:1; fill:none\" points=\"\n",
       "  1981.39,458.098 2279.55,458.098 2279.55,95.2176 1981.39,95.2176 1981.39,458.098 \n",
       "  \"/>\n",
       "<polyline clip-path=\"url(#clip340)\" style=\"stroke:#009af9; stroke-linecap:butt; stroke-linejoin:round; stroke-width:4; stroke-opacity:1; fill:none\" points=\"\n",
       "  2005.79,147.058 2152.2,147.058 \n",
       "  \"/>\n",
       "<circle clip-path=\"url(#clip340)\" cx=\"2079\" cy=\"147.058\" r=\"23\" fill=\"#009af9\" fill-rule=\"evenodd\" fill-opacity=\"1\" stroke=\"#000000\" stroke-opacity=\"1\" stroke-width=\"5.12\"/>\n",
       "<path clip-path=\"url(#clip340)\" d=\"M2190.45 166.745 Q2188.64 171.375 2186.93 172.787 Q2185.21 174.199 2182.34 174.199 L2178.94 174.199 L2178.94 170.634 L2181.44 170.634 Q2183.2 170.634 2184.17 169.8 Q2185.15 168.967 2186.33 165.865 L2187.09 163.921 L2176.6 138.412 L2181.12 138.412 L2189.22 158.689 L2197.32 138.412 L2201.84 138.412 L2190.45 166.745 Z\" fill=\"#000000\" fill-rule=\"evenodd\" fill-opacity=\"1\" /><path clip-path=\"url(#clip340)\" d=\"M2209.13 160.402 L2216.77 160.402 L2216.77 134.037 L2208.46 135.703 L2208.46 131.444 L2216.72 129.778 L2221.4 129.778 L2221.4 160.402 L2229.03 160.402 L2229.03 164.338 L2209.13 164.338 L2209.13 160.402 Z\" fill=\"#000000\" fill-rule=\"evenodd\" fill-opacity=\"1\" /><polyline clip-path=\"url(#clip340)\" style=\"stroke:#e26f46; stroke-linecap:butt; stroke-linejoin:round; stroke-width:4; stroke-opacity:1; fill:none\" points=\"\n",
       "  2005.79,198.898 2152.2,198.898 \n",
       "  \"/>\n",
       "<path clip-path=\"url(#clip340)\" d=\"M2053.4 173.298 L2053.4 224.498 L2104.6 224.498 L2104.6 173.298 L2053.4 173.298 Z\" fill=\"#e26f46\" fill-rule=\"evenodd\" fill-opacity=\"1\" stroke=\"#000000\" stroke-opacity=\"1\" stroke-width=\"5.12\"/>\n",
       "<path clip-path=\"url(#clip340)\" d=\"M2190.45 218.585 Q2188.64 223.215 2186.93 224.627 Q2185.21 226.039 2182.34 226.039 L2178.94 226.039 L2178.94 222.474 L2181.44 222.474 Q2183.2 222.474 2184.17 221.64 Q2185.15 220.807 2186.33 217.705 L2187.09 215.761 L2176.6 190.252 L2181.12 190.252 L2189.22 210.529 L2197.32 190.252 L2201.84 190.252 L2190.45 218.585 Z\" fill=\"#000000\" fill-rule=\"evenodd\" fill-opacity=\"1\" /><path clip-path=\"url(#clip340)\" d=\"M2212.34 212.242 L2228.66 212.242 L2228.66 216.178 L2206.72 216.178 L2206.72 212.242 Q2209.38 209.488 2213.96 204.858 Q2218.57 200.205 2219.75 198.863 Q2222 196.34 2222.88 194.604 Q2223.78 192.844 2223.78 191.155 Q2223.78 188.4 2221.84 186.664 Q2219.91 184.928 2216.81 184.928 Q2214.61 184.928 2212.16 185.692 Q2209.73 186.455 2206.95 188.006 L2206.95 183.284 Q2209.78 182.15 2212.23 181.571 Q2214.68 180.993 2216.72 180.993 Q2222.09 180.993 2225.28 183.678 Q2228.48 186.363 2228.48 190.854 Q2228.48 192.983 2227.67 194.905 Q2226.88 196.803 2224.77 199.395 Q2224.2 200.067 2221.09 203.284 Q2217.99 206.479 2212.34 212.242 Z\" fill=\"#000000\" fill-rule=\"evenodd\" fill-opacity=\"1\" /><polyline clip-path=\"url(#clip340)\" style=\"stroke:#3da44d; stroke-linecap:butt; stroke-linejoin:round; stroke-width:4; stroke-opacity:1; fill:none\" points=\"\n",
       "  2005.79,250.738 2152.2,250.738 \n",
       "  \"/>\n",
       "<path clip-path=\"url(#clip340)\" d=\"M2079 225.138 L2072.98 242.443 L2054.65 242.827 L2069.27 253.912 L2063.94 271.448 L2079 260.978 L2094.05 271.448 L2088.72 253.912 L2103.34 242.827 L2085.01 242.443 L2079 225.138 Z\" fill=\"#3da44d\" fill-rule=\"evenodd\" fill-opacity=\"1\" stroke=\"#000000\" stroke-opacity=\"1\" stroke-width=\"5.12\"/>\n",
       "<path clip-path=\"url(#clip340)\" d=\"M2190.45 270.425 Q2188.64 275.055 2186.93 276.467 Q2185.21 277.879 2182.34 277.879 L2178.94 277.879 L2178.94 274.314 L2181.44 274.314 Q2183.2 274.314 2184.17 273.48 Q2185.15 272.647 2186.33 269.545 L2187.09 267.601 L2176.6 242.092 L2181.12 242.092 L2189.22 262.369 L2197.32 242.092 L2201.84 242.092 L2190.45 270.425 Z\" fill=\"#000000\" fill-rule=\"evenodd\" fill-opacity=\"1\" /><path clip-path=\"url(#clip340)\" d=\"M2222.48 249.383 Q2225.84 250.101 2227.71 252.369 Q2229.61 254.638 2229.61 257.971 Q2229.61 263.087 2226.09 265.888 Q2222.58 268.689 2216.09 268.689 Q2213.92 268.689 2211.6 268.249 Q2209.31 267.832 2206.86 266.976 L2206.86 262.462 Q2208.8 263.596 2211.12 264.175 Q2213.43 264.754 2215.96 264.754 Q2220.35 264.754 2222.65 263.018 Q2224.96 261.281 2224.96 257.971 Q2224.96 254.916 2222.81 253.203 Q2220.68 251.467 2216.86 251.467 L2212.83 251.467 L2212.83 247.624 L2217.04 247.624 Q2220.49 247.624 2222.32 246.258 Q2224.15 244.87 2224.15 242.277 Q2224.15 239.615 2222.25 238.203 Q2220.38 236.768 2216.86 236.768 Q2214.94 236.768 2212.74 237.184 Q2210.54 237.601 2207.9 238.481 L2207.9 234.314 Q2210.56 233.573 2212.88 233.203 Q2215.21 232.833 2217.27 232.833 Q2222.6 232.833 2225.7 235.263 Q2228.8 237.67 2228.8 241.791 Q2228.8 244.661 2227.16 246.652 Q2225.52 248.62 2222.48 249.383 Z\" fill=\"#000000\" fill-rule=\"evenodd\" fill-opacity=\"1\" /><polyline clip-path=\"url(#clip340)\" style=\"stroke:#c271d2; stroke-linecap:butt; stroke-linejoin:round; stroke-width:4; stroke-opacity:1; fill:none\" points=\"\n",
       "  2005.79,302.578 2152.2,302.578 \n",
       "  \"/>\n",
       "<path clip-path=\"url(#clip340)\" d=\"M2079 276.978 L2053.4 302.578 L2079 328.178 L2104.6 302.578 L2079 276.978 Z\" fill=\"#c271d2\" fill-rule=\"evenodd\" fill-opacity=\"1\" stroke=\"#000000\" stroke-opacity=\"1\" stroke-width=\"5.12\"/>\n",
       "<path clip-path=\"url(#clip340)\" d=\"M2190.45 322.265 Q2188.64 326.895 2186.93 328.307 Q2185.21 329.719 2182.34 329.719 L2178.94 329.719 L2178.94 326.154 L2181.44 326.154 Q2183.2 326.154 2184.17 325.32 Q2185.15 324.487 2186.33 321.385 L2187.09 319.441 L2176.6 293.932 L2181.12 293.932 L2189.22 314.209 L2197.32 293.932 L2201.84 293.932 L2190.45 322.265 Z\" fill=\"#000000\" fill-rule=\"evenodd\" fill-opacity=\"1\" /><path clip-path=\"url(#clip340)\" d=\"M2221.16 289.372 L2209.36 307.821 L2221.16 307.821 L2221.16 289.372 M2219.94 285.298 L2225.82 285.298 L2225.82 307.821 L2230.75 307.821 L2230.75 311.709 L2225.82 311.709 L2225.82 319.858 L2221.16 319.858 L2221.16 311.709 L2205.56 311.709 L2205.56 307.196 L2219.94 285.298 Z\" fill=\"#000000\" fill-rule=\"evenodd\" fill-opacity=\"1\" /><polyline clip-path=\"url(#clip340)\" style=\"stroke:#ac8d18; stroke-linecap:butt; stroke-linejoin:round; stroke-width:4; stroke-opacity:1; fill:none\" points=\"\n",
       "  2005.79,354.418 2152.2,354.418 \n",
       "  \"/>\n",
       "<path clip-path=\"url(#clip340)\" d=\"M2079 380.018 L2056.83 367.218 L2056.83 341.618 L2079 328.818 L2101.17 341.618 L2101.17 367.218 Z\" fill=\"#ac8d18\" fill-rule=\"evenodd\" fill-opacity=\"1\" stroke=\"#000000\" stroke-opacity=\"1\" stroke-width=\"5.12\"/>\n",
       "<path clip-path=\"url(#clip340)\" d=\"M2190.45 374.105 Q2188.64 378.735 2186.93 380.147 Q2185.21 381.559 2182.34 381.559 L2178.94 381.559 L2178.94 377.994 L2181.44 377.994 Q2183.2 377.994 2184.17 377.16 Q2185.15 376.327 2186.33 373.225 L2187.09 371.281 L2176.6 345.772 L2181.12 345.772 L2189.22 366.049 L2197.32 345.772 L2201.84 345.772 L2190.45 374.105 Z\" fill=\"#000000\" fill-rule=\"evenodd\" fill-opacity=\"1\" /><path clip-path=\"url(#clip340)\" d=\"M2208.36 337.138 L2226.72 337.138 L2226.72 341.073 L2212.65 341.073 L2212.65 349.545 Q2213.66 349.198 2214.68 349.036 Q2215.7 348.85 2216.72 348.85 Q2222.51 348.85 2225.89 352.022 Q2229.27 355.193 2229.27 360.61 Q2229.27 366.188 2225.79 369.29 Q2222.32 372.369 2216 372.369 Q2213.83 372.369 2211.56 371.998 Q2209.31 371.628 2206.9 370.887 L2206.9 366.188 Q2208.99 367.323 2211.21 367.878 Q2213.43 368.434 2215.91 368.434 Q2219.91 368.434 2222.25 366.327 Q2224.59 364.221 2224.59 360.61 Q2224.59 356.999 2222.25 354.892 Q2219.91 352.786 2215.91 352.786 Q2214.03 352.786 2212.16 353.202 Q2210.31 353.619 2208.36 354.499 L2208.36 337.138 Z\" fill=\"#000000\" fill-rule=\"evenodd\" fill-opacity=\"1\" /><polyline clip-path=\"url(#clip340)\" style=\"stroke:#00a9ad; stroke-linecap:butt; stroke-linejoin:round; stroke-width:4; stroke-opacity:1; fill:none\" points=\"\n",
       "  2005.79,406.258 2152.2,406.258 \n",
       "  \"/>\n",
       "<line clip-path=\"url(#clip340)\" x1=\"2079\" y1=\"406.258\" x2=\"2079\" y2=\"380.658\" style=\"stroke:#00a9ad; stroke-width:3.2; stroke-opacity:1\"/>\n",
       "<line clip-path=\"url(#clip340)\" x1=\"2079\" y1=\"406.258\" x2=\"2053.4\" y2=\"406.258\" style=\"stroke:#00a9ad; stroke-width:3.2; stroke-opacity:1\"/>\n",
       "<line clip-path=\"url(#clip340)\" x1=\"2079\" y1=\"406.258\" x2=\"2079\" y2=\"431.858\" style=\"stroke:#00a9ad; stroke-width:3.2; stroke-opacity:1\"/>\n",
       "<line clip-path=\"url(#clip340)\" x1=\"2079\" y1=\"406.258\" x2=\"2104.6\" y2=\"406.258\" style=\"stroke:#00a9ad; stroke-width:3.2; stroke-opacity:1\"/>\n",
       "<path clip-path=\"url(#clip340)\" d=\"M2190.45 425.945 Q2188.64 430.575 2186.93 431.987 Q2185.21 433.399 2182.34 433.399 L2178.94 433.399 L2178.94 429.834 L2181.44 429.834 Q2183.2 429.834 2184.17 429 Q2185.15 428.167 2186.33 425.065 L2187.09 423.121 L2176.6 397.612 L2181.12 397.612 L2189.22 417.889 L2197.32 397.612 L2201.84 397.612 L2190.45 425.945 Z\" fill=\"#000000\" fill-rule=\"evenodd\" fill-opacity=\"1\" /><path clip-path=\"url(#clip340)\" d=\"M2218.9 404.394 Q2215.75 404.394 2213.9 406.547 Q2212.07 408.7 2212.07 412.45 Q2212.07 416.176 2213.9 418.352 Q2215.75 420.505 2218.9 420.505 Q2222.04 420.505 2223.87 418.352 Q2225.72 416.176 2225.72 412.45 Q2225.72 408.7 2223.87 406.547 Q2222.04 404.394 2218.9 404.394 M2228.18 389.741 L2228.18 394.001 Q2226.42 393.167 2224.61 392.728 Q2222.83 392.288 2221.07 392.288 Q2216.44 392.288 2213.99 395.413 Q2211.56 398.538 2211.21 404.857 Q2212.58 402.843 2214.64 401.778 Q2216.7 400.69 2219.17 400.69 Q2224.38 400.69 2227.39 403.862 Q2230.42 407.01 2230.42 412.45 Q2230.42 417.774 2227.27 420.991 Q2224.13 424.209 2218.9 424.209 Q2212.9 424.209 2209.73 419.626 Q2206.56 415.019 2206.56 406.292 Q2206.56 398.098 2210.45 393.237 Q2214.34 388.353 2220.89 388.353 Q2222.65 388.353 2224.43 388.7 Q2226.23 389.047 2228.18 389.741 Z\" fill=\"#000000\" fill-rule=\"evenodd\" fill-opacity=\"1\" /></svg>\n"
      ]
     },
     "execution_count": 30,
     "metadata": {},
     "output_type": "execute_result"
    }
   ],
   "source": [
    "A = diagm(0 => 2*ones(n), -1 => -ones(n-1), 1 => -ones(n-1))\n",
    "b = zeros(n); b[1] = 1\n",
    "u = zero(b) # initial guess\n",
    "us = [u]\n",
    "for _ in 1:5\n",
    "    r = b - A * u # residual\n",
    "    u_next = copy(u);\n",
    "    for Pi in P\n",
    "        Ai = Pi' * A * Pi\n",
    "        ui = Ai \\ (Pi' * r)\n",
    "        u_next += Pi * ui\n",
    "    end\n",
    "    u = u_next; push!(us, u)\n",
    "end\n",
    "plot(x, us, marker=:auto)"
   ]
  },
  {
   "cell_type": "markdown",
   "id": "c6666d4a",
   "metadata": {
    "slideshow": {
     "slide_type": "slide"
    }
   },
   "source": [
    "# Theory\n",
    "Given a linear operator $A : V \\to V$, suppose we have a collection of prolongation operators $P_i : V_i \\to V$.  The columns of $P_i$ are \"basis functions\" for the subspace $V_i$.  The Galerkin operator $A_i = P_i^T A P_i$ is the action of the original operator $A$ in the subspace.\n",
    "\n",
    "Define the subspace projection\n",
    "\n",
    "$$ S_i = P_i A_i^{-1} P_i^T A . $$\n",
    "\n",
    "* $S_i$ is a projector: $S_i^2 = S_i$\n",
    "* If $A$ is SPD, $S_i$ is SPD with respect to the $A$ inner product $x^T A y$\n",
    "* $I - S_i$ is $A$-orthogonal to the range of $P_i$"
   ]
  },
  {
   "cell_type": "code",
   "execution_count": 23,
   "id": "e3a85421",
   "metadata": {
    "cell_style": "split",
    "slideshow": {
     "slide_type": ""
    }
   },
   "outputs": [
    {
     "data": {
      "text/plain": [
       "1.2036131040197588e-15"
      ]
     },
     "execution_count": 23,
     "metadata": {},
     "output_type": "execute_result"
    }
   ],
   "source": [
    "A2 = P[2]' * A * P[2]\n",
    "S2 = P[2] * inv(A2) * P[2]' * A\n",
    "norm(S2^2 - S2)"
   ]
  },
  {
   "cell_type": "code",
   "execution_count": 24,
   "id": "33e8f3d4",
   "metadata": {
    "cell_style": "split"
   },
   "outputs": [
    {
     "data": {
      "text/plain": [
       "1.1831170202396054e-15"
      ]
     },
     "execution_count": 24,
     "metadata": {},
     "output_type": "execute_result"
    }
   ],
   "source": [
    "norm(P[2]' * A * (I - S2))"
   ]
  },
  {
   "cell_type": "markdown",
   "id": "da59a5d0",
   "metadata": {
    "slideshow": {
     "slide_type": "fragment"
    }
   },
   "source": [
    "**Note:** The concept of $A$-orthogonality is meaningful only when $A$ is SPD.\n",
    "Does the mathematical expression $ P_i^T A (I - S_i) = 0 $ hold even when $A$ is nonsymmetric?"
   ]
  },
  {
   "cell_type": "markdown",
   "id": "06f70b70",
   "metadata": {
    "cell_style": "center",
    "slideshow": {
     "slide_type": "slide"
    }
   },
   "source": [
    "# Convergence theory\n",
    "\n",
    "The formal convergence is beyond the scope of this course, but the following estimates are useful.  We let $h$ be the element diameter, $H$ be the subdomain diameter, and $\\delta$ be the overlap, each normalized such that the global domain diameter is 1.  We express the convergence in terms of the condition number $\\kappa$ for the preconditioned operator."
   ]
  },
  {
   "cell_type": "markdown",
   "id": "ad6f9ec6",
   "metadata": {
    "cell_style": "split",
    "slideshow": {
     "slide_type": ""
    }
   },
   "source": [
    "* (Block) Jacobi: $\\delta=0$, $\\kappa \\sim H^{-2} H/h = (Hh)^{-1}$\n",
    "* Overlapping Schwarz: $\\kappa \\sim H^{-2} H/\\delta = (H \\delta)^{-1}$\n",
    "* 2-level overlapping Schwarz: $\\kappa \\sim H/\\delta$"
   ]
  },
  {
   "cell_type": "markdown",
   "id": "2be83ef4",
   "metadata": {
    "cell_style": "split"
   },
   "source": [
    "* Additive $ I - \\sum_{i=0}^n S_i, $\n",
    "\n",
    "* Multiplicative $ \\prod_{i=0}^n (I - S_i), $\n",
    "* Hybrid $ (I - S_0) (I - \\sum_{i=1}^n S_i) . $\n",
    "\n",
    "In each case above, the action is expressed in terms of the error iteration operator."
   ]
  },
  {
   "cell_type": "markdown",
   "id": "cb8e7b6b",
   "metadata": {
    "cell_style": "center",
    "slideshow": {
     "slide_type": "slide"
    }
   },
   "source": [
    "# PETSc experiments"
   ]
  },
  {
   "cell_type": "markdown",
   "id": "4d8b65e2",
   "metadata": {
    "cell_style": "split",
    "slideshow": {
     "slide_type": ""
    }
   },
   "source": [
    "* Compare domain decomposition and multigrid preconditioning\n",
    " * `-pc_type asm` (Additive Schwarz)\n",
    "  * `-pc_asm_type basic` (symmetric, versus `restrict`)\n",
    "  * `-pc_asm_overlap 2` (increase overlap)\n",
    "  * Effect of direct subdomain solver: `-sub_pc_type lu`"
   ]
  },
  {
   "cell_type": "markdown",
   "id": "ba46a7e2",
   "metadata": {
    "cell_style": "split"
   },
   "source": [
    "* Symmetric example: `src/snes/examples/tutorials/ex5.c`\n",
    "* Nonsymmetric example: `src/snes/examples/tutorials/ex19.c`\n",
    "* Compare preconditioned versus unpreconditioned norms.\n",
    "* Compare BiCG versus GMRES\n",
    " * `-pc_type mg` (Geometric Multigrid)\n",
    "* Use monitors:\n",
    " * `-ksp_monitor_true_residual`\n",
    " * `-ksp_monitor_singular_value`\n",
    " * `-ksp_converged_reason`\n",
    "* Explain methods: `-snes_view`\n",
    "* Performance info: `-log_view`"
   ]
  }
 ],
 "metadata": {
  "@webio": {
   "lastCommId": null,
   "lastKernelId": null
  },
  "celltoolbar": "Slideshow",
  "kernelspec": {
   "display_name": "Julia 1.7.2",
   "language": "julia",
   "name": "julia-1.7"
  },
  "language_info": {
   "file_extension": ".jl",
   "mimetype": "application/julia",
   "name": "julia",
   "version": "1.8.2"
  },
  "rise": {
   "enable_chalkboard": true
  }
 },
 "nbformat": 4,
 "nbformat_minor": 5
}
