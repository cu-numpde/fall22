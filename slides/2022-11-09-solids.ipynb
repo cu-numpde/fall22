{
 "cells": [
  {
   "cell_type": "markdown",
   "id": "3471b94b",
   "metadata": {
    "cell_style": "center",
    "slideshow": {
     "slide_type": "slide"
    }
   },
   "source": [
    "# 2022-11-09 Solid Mechanics"
   ]
  },
  {
   "cell_type": "markdown",
   "id": "4159be0e",
   "metadata": {
    "cell_style": "split",
    "slideshow": {
     "slide_type": ""
    }
   },
   "source": [
    "## Last time\n",
    "\n",
    "* Stabilized methods for transport\n",
    "  * VMS and SUPG\n",
    "* FE interfaces\n",
    "\n",
    "## Today\n",
    "* Mixed finite elements\n",
    "* Intro to solid mechanics, Ratel"
   ]
  },
  {
   "cell_type": "code",
   "execution_count": 1,
   "id": "e82d841d",
   "metadata": {
    "hideOutput": true,
    "slideshow": {
     "slide_type": "skip"
    }
   },
   "outputs": [
    {
     "data": {
      "text/plain": [
       "fe_jacobian (generic function with 1 method)"
      ]
     },
     "execution_count": 1,
     "metadata": {},
     "output_type": "execute_result"
    }
   ],
   "source": [
    "using Plots\n",
    "default(linewidth=3)\n",
    "using LinearAlgebra\n",
    "using SparseArrays\n",
    "using FastGaussQuadrature\n",
    "import NLsolve: nlsolve\n",
    "\n",
    "function my_spy(A)\n",
    "    cmax = norm(vec(A), Inf)\n",
    "    s = max(1, ceil(120 / size(A, 1)))\n",
    "    spy(A, marker=(:square, s), c=:diverging_rainbow_bgymr_45_85_c67_n256, clims=(-cmax, cmax))\n",
    "end\n",
    "\n",
    "function vander_legendre_deriv(x, k=nothing)\n",
    "    if isnothing(k)\n",
    "        k = length(x) # Square by default\n",
    "    end\n",
    "    m = length(x)\n",
    "    Q = ones(m, k)\n",
    "    dQ = zeros(m, k)\n",
    "    Q[:, 2] = x\n",
    "    dQ[:, 2] .= 1\n",
    "    for n in 1:k-2\n",
    "        Q[:, n+2] = ((2*n + 1) * x .* Q[:, n+1] - n * Q[:, n]) / (n + 1)\n",
    "        dQ[:, n+2] = (2*n + 1) * Q[:,n+1] + dQ[:,n]\n",
    "    end\n",
    "    Q, dQ\n",
    "end\n",
    "\n",
    "function febasis(P, Q, quadrature=gausslegendre)\n",
    "    x, _ = gausslobatto(P)\n",
    "    q, w = quadrature(Q)\n",
    "    Pk, _ = vander_legendre_deriv(x)\n",
    "    Bp, Dp = vander_legendre_deriv(q, P)\n",
    "    B = Bp / Pk\n",
    "    D = Dp / Pk\n",
    "    x, q, w, B, D\n",
    "end\n",
    "\n",
    "function fe1_mesh(P, nelem)\n",
    "    x = LinRange(-1, 1, nelem+1)\n",
    "    rows = Int[]\n",
    "    cols = Int[]\n",
    "    for i in 1:nelem\n",
    "        append!(rows, (i-1)*P+1:i*P)\n",
    "        append!(cols, (i-1)*(P-1)+1:i*(P-1)+1)\n",
    "    end\n",
    "    x, sparse(cols, rows, ones(nelem*P))'\n",
    "end\n",
    "\n",
    "function xnodal(x, P)\n",
    "    xn = Float64[]\n",
    "    xref, _ = gausslobatto(P)\n",
    "    for i in 1:length(x)-1\n",
    "        xL, xR = x[i:i+1]\n",
    "        append!(xn, (xL+xR)/2 .+ (xR-xL)/2 * xref[1+(i>1):end])\n",
    "    end\n",
    "    xn\n",
    "end\n",
    "\n",
    "struct FESpace\n",
    "    P::Int\n",
    "    Q::Int\n",
    "    nelem::Int\n",
    "    x::Vector\n",
    "    xn::Vector\n",
    "    Et::SparseMatrixCSC{Float64, Int64}\n",
    "    q::Vector\n",
    "    w::Vector\n",
    "    B::Matrix\n",
    "    D::Matrix\n",
    "    function FESpace(P, Q, nelem, quadrature=gausslegendre)\n",
    "        x, E = fe1_mesh(P, nelem)\n",
    "        xn = xnodal(x, P)\n",
    "        _, q, w, B, D = febasis(P, Q, quadrature)\n",
    "        new(P, Q, nelem, x, xn, E', q, w, B, D)\n",
    "    end\n",
    "end\n",
    "\n",
    "# Extract out what we need for element e\n",
    "function fe_element(fe, e)\n",
    "    xL, xR = fe.x[e:e+1]\n",
    "    q = (xL+xR)/2 .+ (xR-xL)/2*fe.q\n",
    "    w = (xR - xL)/2 * fe.w\n",
    "    E = fe.Et[:, (e-1)*fe.P+1:e*fe.P]'\n",
    "    dXdx = ones(fe.Q) * 2 / (xR - xL)\n",
    "    q, w, E, dXdx\n",
    "end\n",
    "\n",
    "function fe_residual(u_in, fe, fq; bci=[1], bcv=[1.])\n",
    "    u = copy(u_in); v = zero(u)\n",
    "    u[bci] = bcv\n",
    "    for e in 1:fe.nelem\n",
    "        q, w, E, dXdx = fe_element(fe, e)\n",
    "        B, D = fe.B, fe.D\n",
    "        ue = E * u\n",
    "        uq = B * ue\n",
    "        Duq = dXdx .* (D * ue)\n",
    "        f0, f1 = fq(q, uq, Duq)\n",
    "        ve = B' * (w .* f0) + D' * (dXdx .* w .* f1)\n",
    "        v += E' * ve\n",
    "    end\n",
    "    v[bci] = u_in[bci] - u[bci]\n",
    "    #println(\"residual\")\n",
    "    v\n",
    "end\n",
    "\n",
    "function fe_jacobian(u_in, fe, dfq; bci=[1], bcv=[1.])\n",
    "    u = copy(u_in); u[bci] = bcv\n",
    "    rows, cols, vals = Int[], Int[], Float64[]\n",
    "    for e in 1:fe.nelem\n",
    "        q, w, E, dXdx = fe_element(fe, e)\n",
    "        B, D, P = fe.B, fe.D, fe.P\n",
    "        ue = E * u\n",
    "        uq = B * ue; Duq = dXdx .* (D * ue)\n",
    "        K = zeros(P, P)\n",
    "        for j in 1:fe.P\n",
    "            du = B[:,j]\n",
    "            Ddu = dXdx .* D[:,j]\n",
    "            df0, df1 = dfq(q, uq, du, Duq, Ddu)\n",
    "            K[:,j] = B' * (w .* df0) + D' * (dXdx .* w .* df1)\n",
    "        end\n",
    "        inds = rowvals(E')\n",
    "        append!(rows, kron(ones(P), inds))\n",
    "        append!(cols, kron(inds, ones(P)))\n",
    "        append!(vals, vec(K))\n",
    "    end\n",
    "    A = sparse(rows, cols, vals)\n",
    "    A[bci, :] .= 0; A[:, bci] .= 0\n",
    "    A[bci,bci] = diagm(ones(length(bci)))\n",
    "    A\n",
    "end"
   ]
  },
  {
   "cell_type": "markdown",
   "id": "2eadaf42",
   "metadata": {
    "slideshow": {
     "slide_type": "slide"
    }
   },
   "source": [
    "# SUPG dispersion diagram (consistent)\n",
    "\n",
    "[LFAToolkit.jl](https://github.com/jeremylt/LFAToolkit.jl/)\n",
    "\n",
    "![](img/supg-dispersion.png)"
   ]
  },
  {
   "cell_type": "markdown",
   "id": "85c1cc07",
   "metadata": {
    "slideshow": {
     "slide_type": "slide"
    }
   },
   "source": [
    "# SUPG dispersion diagram (lumped)\n",
    "\n",
    "![](img/supg-dispersion-lumped.png)"
   ]
  },
  {
   "cell_type": "markdown",
   "id": "0bd3f859",
   "metadata": {
    "slideshow": {
     "slide_type": "slide"
    }
   },
   "source": [
    "# Finite element interfaces: [Deal.II](https://dealii.org)\n",
    "\n",
    "\\begin{gather*}\n",
    "    v^T F(u) \\sim \\int_\\Omega v \\cdot \\color{olive}{f_0(u, \\nabla u)} + \\nabla v \\!:\\! \\color{olive}{f_1(u, \\nabla u)} \\quad\n",
    "    v^T J w \\sim \\int_\\Omega \\begin{bmatrix} v \\\\ \\nabla v \\end{bmatrix}^T \\color{teal}{\\begin{bmatrix} f_{0,0} & f_{0,1} \\\\ f_{1,0} & f_{1,1} \\end{bmatrix}}\n",
    "    \\begin{bmatrix} w \\\\ \\nabla w \\end{bmatrix} \\\\\n",
    "    J w = \\sum_e \\mathcal E_e^T \\underbrace{\\begin{bmatrix} B_I \\\\ B_{\\nabla} \\end{bmatrix}^T\n",
    "    \\begin{bmatrix} I & \\\\ & \\left( \\frac{\\partial X}{\\partial x}\\right)^T \\end{bmatrix}}_{\\texttt{fe\\_values}} W_q \\color{teal}{\\begin{bmatrix} f_{0,0} & f_{0,1} \\\\ f_{1,0} & f_{1,1} \\end{bmatrix}} \\underbrace{\\begin{bmatrix} I & \\\\ & \\left( \\frac{\\partial X}{\\partial x}\\right) \\end{bmatrix} \\begin{bmatrix} B_I \\\\ B_{\\nabla} \\end{bmatrix}}_{\\texttt{fe\\_values}} \\mathcal E_e w_L\n",
    "\\end{gather*}"
   ]
  },
  {
   "cell_type": "markdown",
   "id": "51956696",
   "metadata": {
    "cell_style": "split"
   },
   "source": [
    "* Deal.II [step-7](https://dealii.org/developer/doxygen/deal.II/step_7.html)\n",
    "\n",
    "```python\n",
    "for e in elems:\n",
    "    fe_values.reinit()\n",
    "    for q in q_points:\n",
    "        for i in test_functions:\n",
    "            for j in trial_functions\n",
    "                K_e[i,j] += ...\n",
    "            f_e[i] += ...\n",
    "    for f in e.faces:\n",
    "        if f.at_boundary():\n",
    "            fe_face_values.reinit()\n",
    "            for q in q_points:\n",
    "                ...\n",
    "```"
   ]
  },
  {
   "cell_type": "markdown",
   "id": "43d3e705",
   "metadata": {
    "cell_style": "split"
   },
   "source": [
    "![](https://dealii.org/images/wiki/gallery/Single_layer.jpeg)\n",
    "\n"
   ]
  },
  {
   "cell_type": "markdown",
   "id": "158d0197",
   "metadata": {
    "slideshow": {
     "slide_type": "slide"
    }
   },
   "source": [
    "# Finite element interfaces: [MOOSE](https://mooseframework.org/)"
   ]
  },
  {
   "cell_type": "markdown",
   "id": "c452b5da",
   "metadata": {
    "cell_style": "split",
    "slideshow": {
     "slide_type": ""
    }
   },
   "source": [
    "## [Materials](https://mooseframework.inl.gov/modules/index.html)\n",
    "* Can be written without knowledge of finite elements\n",
    "* Registration allows libraries of materials (some in MOOSE, others packaged separatle)\n",
    "* Example: [crystal plasticity](https://mooseframework.inl.gov/source/materials/crystal_plasticity/ComputeMultipleCrystalPlasticityStress.html)\n",
    "* Code is C++, so can do dirty things\n",
    "  * table lookups, proprietary code\n",
    "  * implicit materials (Newton solve at each quadrature point)"
   ]
  },
  {
   "cell_type": "markdown",
   "id": "351ec6e9",
   "metadata": {
    "cell_style": "split",
    "slideshow": {
     "slide_type": ""
    }
   },
   "source": [
    "## Composition in configuration files\n",
    "\n",
    "* Add fields and coupling\n",
    "* Select materials from libraries\n",
    "* Multiphysics composition\n",
    "* Multiscale coupling\n",
    "\n",
    "## Graphical interface: [Peacock](https://mooseframework.inl.gov/application_usage/peacock.html)"
   ]
  },
  {
   "cell_type": "markdown",
   "id": "dcd2e2b9",
   "metadata": {
    "slideshow": {
     "slide_type": "slide"
    }
   },
   "source": [
    "# [Periodic table of finite elements](https://www-users.cse.umn.edu/~arnold/femtable/index.html)"
   ]
  },
  {
   "cell_type": "markdown",
   "id": "442e6625",
   "metadata": {
    "cell_style": "split",
    "slideshow": {
     "slide_type": ""
    }
   },
   "source": [
    "## Careful choice of mixed elements allows exactly satisfying discrete identities\n",
    "\n",
    "$$ \\nabla\\cdot\\nabla\\times u = 0$$\n",
    "$$ \\nabla\\times\\nabla u = 0$$\n",
    "\n",
    "* Generalized concept: Finite Element Exterior Calculus (FEEC)\n",
    "* Improved stability or numerical properties\n",
    "* Higher order of accuracy for quantity of interest despite non-smooth problem\n",
    "\n",
    "## $H^1$ Poisson\n",
    "\n",
    "Find $p$ such that\n",
    "\n",
    "$$\\int \\nabla q \\cdot \\kappa \\nabla p = \\int q f, \\quad \\forall q$$"
   ]
  },
  {
   "cell_type": "markdown",
   "id": "c37c896c",
   "metadata": {
    "cell_style": "split"
   },
   "source": [
    "## Mixed Poisson\n",
    "\n",
    "Find $\\mathbf u, p$ such that\n",
    "\n",
    "\\begin{align}\n",
    "\\int \\mathbf v \\cdot \\kappa^{-1} \\mathbf u - p \\nabla\\cdot \\mathbf v &= 0 & \\forall \\mathbf v \\\\\n",
    "\\int -q \\nabla\\cdot \\mathbf u &= -\\int q f & \\forall q\n",
    "\\end{align}\n",
    "\n",
    "Dirichlet (essential) and Neumann (natural) boundary conditions are swapped, and we get a \"saddle point\" linear problem\n",
    "$$\\begin{pmatrix} M & B^T \\\\ B & 0 \\end{pmatrix} \\begin{pmatrix} \\mathbf u \\\\ p \\end{pmatrix} =\n",
    "\\begin{pmatrix} 0 \\\\ -f \\end{pmatrix}.\n",
    "$$\n",
    "With appropriate choice of spaces, $p,q$ can live in a piecewise constant space while attaining second order accuracy in the fluxes $\\mathbf u$."
   ]
  },
  {
   "cell_type": "markdown",
   "id": "74684bf1",
   "metadata": {
    "cell_style": "split",
    "slideshow": {
     "slide_type": "slide"
    }
   },
   "source": [
    "## Problems with constraints"
   ]
  },
  {
   "cell_type": "markdown",
   "id": "b8c7719a",
   "metadata": {
    "cell_style": "split",
    "slideshow": {
     "slide_type": "slide"
    }
   },
   "source": [
    "## Stokes: (slow) incompressible flow\n",
    "\n",
    "Find velocity $\\mathbf u$ and pressure $p$ such that\n",
    "\\begin{align}\n",
    "-\\nabla\\cdot(\\eta \\nabla^s \\mathbf u - pI) &= 0 \\\\\n",
    "\\nabla\\cdot \\mathbf u &= 0\n",
    "\\end{align}\n",
    "where $\\nabla^s \\mathbf u$ is the symmetric part of the $3\\times 3$ gradient $\\nabla \\mathbf u$.\n",
    "\n",
    "Weak form: find $(\\mathbf u, p)$ such that\n",
    "$$ \\int \\nabla^s \\mathbf v \\!:\\! \\eta \\!:\\! \\nabla^s \\mathbf u - p \\nabla\\cdot \\mathbf v - q \\nabla\\cdot \\mathbf u = 0, \\quad \\forall (\\mathbf v, q)$$"
   ]
  },
  {
   "cell_type": "markdown",
   "id": "0eb34b65",
   "metadata": {
    "cell_style": "split"
   },
   "source": [
    "## Inf-sup stability\n",
    "\n",
    "For this problem to be well posed, it is necessary that the divergence of velocity spans the pressure space \"nicely\". This is quantified by the \"inf-sup constant\" (aka. [Ladyzhenskaya–Babuška–Brezzi](https://en.wikipedia.org/wiki/Ladyzhenskaya%E2%80%93Babu%C5%A1ka%E2%80%93Brezzi_condition) constant)\n",
    "\n",
    "$$\\beta = \\inf_{\\lVert p \\rVert =1} \\sup_{\\mathbf u \\ne 0} \\frac{\\int p \\nabla\\cdot \\mathbf u}{\\int \\nabla^s \\mathbf u \\!:\\! \\eta \\!:\\! \\nabla^s \\mathbf u}$$\n",
    "\n",
    "The method loses accuracy if $\\beta$ decays: you want it to stay of order 1 uniformly. Stability can be quantified numerically [by solving an eigenvalue problem (1993)](https://web.mit.edu/kjb/www/Publications_Prior_to_1998/The_Inf-Sup_Test.pdf). This short paper has many figures quantifying stable and unstable elements."
   ]
  },
  {
   "cell_type": "markdown",
   "id": "4545d387",
   "metadata": {
    "slideshow": {
     "slide_type": "slide"
    }
   },
   "source": [
    "# Solid mechanics: [Ratel Theory Guide](https://ratel.micromorph.org/doc/modeling/continuum-mechanics/balance-laws/)"
   ]
  },
  {
   "cell_type": "markdown",
   "id": "4850fc47",
   "metadata": {
    "cell_style": "split"
   },
   "source": [
    "## Material coordinates\n",
    "\n",
    "The current configuration $x$ is a function of the initial configuration $X$. We typically solve for displacement $u = x - X$, and define the **deformation gradient**\n",
    "$$ F = \\frac{\\partial x}{\\partial X} = I + \\underbrace{\\frac{\\partial u}{\\partial \n",
    "X}}_H$$\n",
    "where $H$ is known as **displacement gradient**."
   ]
  },
  {
   "cell_type": "markdown",
   "id": "442d7015",
   "metadata": {
    "cell_style": "split"
   },
   "source": [
    "## Conservation\n",
    "\n",
    "### Mass by definition of density\n",
    "### Momentum by equations we solve\n",
    "### Angular momentum by symmetry of stress and strain tensors"
   ]
  },
  {
   "cell_type": "markdown",
   "id": "07f518e9",
   "metadata": {
    "slideshow": {
     "slide_type": "slide"
    }
   },
   "source": [
    "# Momentum balance in initial configuration\n",
    "\n",
    "$$\\nabla\\cdot \\mathbf F \\mathbf S = 0$$\n",
    "\n",
    "where $\\mathbf F = I + H$ and $\\mathbf S$ is the symmetric stress tensor (Second Piola-Kirchhoff tensor)."
   ]
  },
  {
   "cell_type": "markdown",
   "id": "fbf1991a",
   "metadata": {
    "cell_style": "split"
   },
   "source": [
    "# Strain measures\n",
    "\n",
    "Stress $\\mathbf S$ must be defined as a function of displacement. A common choice is to define the **right Cauchy-Green tensor**\n",
    "\n",
    "$$ C = F^T F$$\n",
    "\n",
    "This has value $I$ for zero strain. A better formulation uses\n",
    "\n",
    "$$ E = \\frac 1 2 (C - I) = \\underbrace{\\frac 1 2 (H + H^T + H^T H)}_{\\text{stable}}$$"
   ]
  },
  {
   "cell_type": "markdown",
   "id": "ae1a3a12",
   "metadata": {
    "cell_style": "split"
   },
   "source": [
    "## [Neo-Hookean model](https://ratel.micromorph.org/doc/modeling/models/neo-hookean/)\n",
    "Strain energy density\n",
    "  \\begin{aligned}\n",
    "    \\psi \\left(\\mathbf{E} \\right) &= \\frac{\\lambda}{2} \\left( \\log J \\right)^2 - \\mu \\log J + \\frac \\mu 2 \\left( \\operatorname{trace} \\mathbf{C} - 3 \\right) \\\\\n",
    "                             &= \\frac{\\lambda}{2} \\left( \\log J \\right)^2 - \\mu \\log J + \\mu \\operatorname{trace} \\mathbf{E},\n",
    "  \\end{aligned}\n",
    "\n",
    "$$\\mathbf S = \\frac{\\partial \\psi}{\\partial \\mathbf E}$$"
   ]
  },
  {
   "cell_type": "markdown",
   "id": "6e3ef3a4",
   "metadata": {
    "slideshow": {
     "slide_type": "slide"
    }
   },
   "source": [
    "# Stable evaluation\n",
    "\n",
    "<img src=\"img/nh-initial-stable.svg\" width=\"70%\" />"
   ]
  },
  {
   "cell_type": "markdown",
   "id": "5cfc89bf",
   "metadata": {
    "cell_style": "center",
    "slideshow": {
     "slide_type": "slide"
    }
   },
   "source": [
    "## [Paper on Efficient Methods](https://arxiv.org/abs/2204.01722)\n",
    "\n",
    "<img src=\"img/op_schematic.svg\" width=\"80%\" />"
   ]
  }
 ],
 "metadata": {
  "@webio": {
   "lastCommId": null,
   "lastKernelId": null
  },
  "celltoolbar": "Slideshow",
  "kernelspec": {
   "display_name": "Julia 1.7.2",
   "language": "julia",
   "name": "julia-1.7"
  },
  "language_info": {
   "file_extension": ".jl",
   "mimetype": "application/julia",
   "name": "julia",
   "version": "1.8.2"
  },
  "rise": {
   "enable_chalkboard": true
  }
 },
 "nbformat": 4,
 "nbformat_minor": 5
}
