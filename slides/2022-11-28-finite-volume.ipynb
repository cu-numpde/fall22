{
 "cells": [
  {
   "cell_type": "markdown",
   "id": "3471b94b",
   "metadata": {
    "cell_style": "center",
    "slideshow": {
     "slide_type": "slide"
    }
   },
   "source": [
    "# 2022-11-28 Finite Volume"
   ]
  },
  {
   "cell_type": "markdown",
   "id": "4159be0e",
   "metadata": {
    "cell_style": "split",
    "slideshow": {
     "slide_type": ""
    }
   },
   "source": [
    "## Last time\n",
    "\n",
    "* CEED Fluids for compressible viscous flow\n",
    "* Solvers\n",
    "* Boundary conditions\n",
    "\n",
    "## Today\n",
    "\n",
    "* Notes on unstructured meshing workflow\n",
    "* Finite volume methods for hyperbolic conservation laws\n",
    "* Riemann solvers for scalar equations\n",
    "  * Shocks and the Rankine-Hugoniot condition\n",
    "  * Rarefactions and entropy solutions"
   ]
  },
  {
   "cell_type": "code",
   "execution_count": 1,
   "id": "7fd7f3b0",
   "metadata": {
    "slideshow": {
     "slide_type": "skip"
    }
   },
   "outputs": [
    {
     "name": "stderr",
     "output_type": "stream",
     "text": [
      "┌ Info: Precompiling Plots [91a5bcdd-55d7-5caf-9e0b-520d859cae80]\n",
      "└ @ Base loading.jl:1664\n",
      "WARNING: method definition for == at /home/jed/.julia/packages/ChainRulesCore/ctmSK/src/tangent_types/tangent.jl:68 declares type variable T but does not use it.\n",
      "WARNING: method definition for getindex at /home/jed/.julia/packages/ChainRulesCore/ctmSK/src/tangent_types/tangent.jl:120 declares type variable T but does not use it.\n",
      "WARNING: method definition for getindex at /home/jed/.julia/packages/ChainRulesCore/ctmSK/src/tangent_types/tangent.jl:120 declares type variable P but does not use it.\n",
      "WARNING: method definition for canonicalize at /home/jed/.julia/packages/ChainRulesCore/ctmSK/src/tangent_types/tangent.jl:240 declares type variable L but does not use it.\n",
      "WARNING: method definition for canonicalize at /home/jed/.julia/packages/ChainRulesCore/ctmSK/src/tangent_types/tangent.jl:241 declares type variable L but does not use it.\n"
     ]
    },
    {
     "data": {
      "text/plain": [
       "ode_rk_explicit (generic function with 1 method)"
      ]
     },
     "execution_count": 1,
     "metadata": {},
     "output_type": "execute_result"
    }
   ],
   "source": [
    "using LinearAlgebra\n",
    "using Plots\n",
    "default(linewidth=3)\n",
    "\n",
    "struct RKTable\n",
    "    A::Matrix\n",
    "    b::Vector\n",
    "    c::Vector\n",
    "    function RKTable(A, b)\n",
    "        s = length(b)\n",
    "        A = reshape(A, s, s)\n",
    "        c = vec(sum(A, dims=2))\n",
    "        new(A, b, c)\n",
    "    end\n",
    "end\n",
    "\n",
    "rk4 = RKTable([0 0 0 0; .5 0 0 0; 0 .5 0 0; 0 0 1 0], [1, 2, 2, 1] / 6)\n",
    "\n",
    "function ode_rk_explicit(f, u0; tfinal=1., h=0.1, table=rk4)\n",
    "    u = copy(u0)\n",
    "    t = 0.\n",
    "    n, s = length(u), length(table.c)\n",
    "    fY = zeros(n, s)\n",
    "    thist = [t]\n",
    "    uhist = [u0]\n",
    "    while t < tfinal\n",
    "        tnext = min(t+h, tfinal)\n",
    "        h = tnext - t\n",
    "        for i in 1:s\n",
    "            ti = t + h * table.c[i]\n",
    "            Yi = u + h * sum(fY[:,1:i-1] * table.A[i,1:i-1], dims=2)\n",
    "            fY[:,i] = f(ti, Yi)\n",
    "        end\n",
    "        u += h * fY * table.b\n",
    "        t = tnext\n",
    "        push!(thist, t)\n",
    "        push!(uhist, u)\n",
    "    end\n",
    "    thist, hcat(uhist...)\n",
    "end"
   ]
  },
  {
   "cell_type": "markdown",
   "id": "f60a2fe5",
   "metadata": {
    "slideshow": {
     "slide_type": "slide"
    }
   },
   "source": [
    "# Unstructured meshing"
   ]
  },
  {
   "cell_type": "markdown",
   "id": "ec9883cb",
   "metadata": {
    "cell_style": "split",
    "slideshow": {
     "slide_type": ""
    }
   },
   "source": [
    "* CAD models: spline-based (NURBS) geometry\n",
    "  * Label materials, boundary surfaces\n",
    "  * Proprietary formats or lossy open formats\n",
    "* Geometry clean-up\n",
    "  * Remove rivets, welds, brazing, bolt/thread detail\n",
    "* Mesh generation\n",
    "  * Tetrahedral meshing mostly automatic\n",
    "  * Hexahedral meshes often more efficient (e.g., locking in elasticity)\n",
    "    * Manually decompose geometry\n",
    "    * Various algorithms with poor quality elements\n",
    "  * Usually single node with lots of memory\n",
    "  "
   ]
  },
  {
   "cell_type": "markdown",
   "id": "20039875",
   "metadata": {
    "cell_style": "split",
    "slideshow": {
     "slide_type": ""
    }
   },
   "source": [
    "* Simulation\n",
    "  * Read, partition, solve, write output\n",
    "* Load in visualization software (e.g., Paraview, VisIt)\n",
    "  * Visualization outputs usually contain derived quantities\n",
    "    * Stress, velocity, pressure, temperature, vorticity\n",
    "  * Frequent checkpoints are commonly a bottleneck"
   ]
  },
  {
   "cell_type": "markdown",
   "id": "0284c028",
   "metadata": {
    "slideshow": {
     "slide_type": "slide"
    }
   },
   "source": [
    "# Finite Volume methods for hyperbolic conservation laws"
   ]
  },
  {
   "cell_type": "markdown",
   "id": "5fcdeb3d",
   "metadata": {
    "cell_style": "split"
   },
   "source": [
    "Hyperbolic conservation laws have the form\n",
    "\n",
    "$$ \\frac{\\partial \\mathbf q}{\\partial t} + \\nabla\\cdot F(\\mathbf q) = 0 $$\n",
    "\n",
    "where the (possibly nonlinear) function $F(\\mathbf q)$ is called the **flux**.  If $\\mathbf q$ has $m$ components, $F(\\mathbf q)$ is an $m\\times d$ matrix in $d$ dimensions. \n",
    "\n",
    "We can express finite volume methods by choosing test functions $\\mathbf v(x)$ that are piecewise constant on each element $e$ and integrating by parts\n",
    "\\begin{split} \\int_\\Omega \\mathbf v \\frac{\\partial \\mathbf q}{\\partial t} + \\mathbf v \\nabla\\cdot F(\\mathbf q) = 0 \\text{ for all } \\mathbf v \\\\\n",
    " \\frac{\\partial}{\\partial t} \\left( \\int_e \\mathbf q \\right) + \\int_{\\partial e} F(\\mathbf q) \\cdot \\hat n = 0 \\text{ for all } e .\n",
    "\\end{split}"
   ]
  },
  {
   "cell_type": "markdown",
   "id": "6337a487",
   "metadata": {
    "cell_style": "split"
   },
   "source": [
    "In finite volume methods, we choose as our unknowns the average values $\\bar{\\mathbf q}$ on each element, leading to the discrete equation\n",
    "$$ \\lvert e \\rvert \\frac{\\partial \\bar{\\mathbf q}}{\\partial t} + \\int_{\\partial e} F(\\mathbf q) \\cdot \\hat n = 0 \\text{ for all } e $$\n",
    "where $\\lvert e \\rvert$ is the volume of element $e$.\n",
    "\n",
    "The most basic methods will compute the interface flux in the second term using the cell average $\\bar{\\mathbf q}$, though higher order methods will perform a reconstruction using neighbors.\n",
    "Since $\\bar{\\mathbf q}$ is discontinuous at element interfaces, we will need to define a numerical flux using the (possibly reconstructed) value on each side."
   ]
  },
  {
   "cell_type": "markdown",
   "id": "c236f16e",
   "metadata": {
    "slideshow": {
     "slide_type": "slide"
    }
   },
   "source": [
    "# Examples of hyperbolic conservation laws in 1D"
   ]
  },
  {
   "cell_type": "markdown",
   "id": "19816e4c",
   "metadata": {
    "cell_style": "split"
   },
   "source": [
    "## Advection\n",
    "$$ \\frac{\\partial u}{\\partial t} + \\nabla\\cdot (\\underbrace{c u}_{F(u)}) = 0 $$\n",
    "where $c$ is velocity.  In the absence of boundary conditions, this has the solution\n",
    "$$ u(t,x) = u(0, x-ct) $$\n",
    "in terms of the initial condition.  Lines of constant $x-ct$ are called **characteristics**.\n",
    "* The wave speed is $F'(u) = c$, a constant."
   ]
  },
  {
   "cell_type": "markdown",
   "id": "f0df50ee",
   "metadata": {
    "cell_style": "split"
   },
   "source": [
    "## Burger's Equation\n",
    "$$ \\frac{\\partial u}{\\partial t} + \\nabla\\cdot \\underbrace{\\left(\\frac{u^2}{2}\\right)}_{F(u)} = 0 $$\n",
    "is a model for nonlinear convection.\n",
    "* The wave speed is $F'(u) = u$.\n",
    "\n",
    "## Traffic\n",
    "\n",
    "$$ \\frac{\\partial u}{\\partial t} + \\nabla\\cdot \\big(\\underbrace{u (1-u)}_{F(u)} \\big) = 0 $$\n",
    "where $u \\in [0,1]$ represents density of cars and $1-u$ is their speed.\n",
    "* The wave speed is $F'(u) = 1 - 2u$, representing the speed at which kinematic waves travel.\n",
    "* This is a non-convex flux function."
   ]
  },
  {
   "cell_type": "markdown",
   "id": "fdee90a0",
   "metadata": {
    "slideshow": {
     "slide_type": "slide"
    }
   },
   "source": [
    "# First crack at a numerical flux"
   ]
  },
  {
   "cell_type": "markdown",
   "id": "183d5964",
   "metadata": {
    "cell_style": "split",
    "slideshow": {
     "slide_type": ""
    }
   },
   "source": [
    "We represent the solution in terms of cell averages $\\bar u$, but need to compute\n",
    "$$ \\int_{\\partial e} F(u) \\cdot \\hat n $$\n",
    "on the boundary of each cell (i.e., on each face).  For interior faces, the flux $F(u)$ must be the same when viewed from either side.  As a first idea for an accurate numerical method, we could average the values from the left and right side of each face,\n",
    "$$ u_{\\text{face}} = \\frac{\\bar u_L + \\bar u_R}{2} .$$\n",
    "Let's try that."
   ]
  },
  {
   "cell_type": "code",
   "execution_count": 2,
   "id": "8a8e98c3",
   "metadata": {
    "cell_style": "split"
   },
   "outputs": [
    {
     "name": "stderr",
     "output_type": "stream",
     "text": [
      "┌ Info: Precompiling GR_jll [d2c73de3-f751-5644-a686-071e5b155ba9]\n",
      "└ @ Base loading.jl:1664\n"
     ]
    },
    {
     "data": {
      "image/svg+xml": [
       "<?xml version=\"1.0\" encoding=\"utf-8\"?>\n",
       "<svg xmlns=\"http://www.w3.org/2000/svg\" xmlns:xlink=\"http://www.w3.org/1999/xlink\" width=\"600\" height=\"400\" viewBox=\"0 0 2400 1600\">\n",
       "<defs>\n",
       "  <clipPath id=\"clip180\">\n",
       "    <rect x=\"0\" y=\"0\" width=\"2400\" height=\"1600\"/>\n",
       "  </clipPath>\n",
       "</defs>\n",
       "<path clip-path=\"url(#clip180)\" d=\"\n",
       "M0 1600 L2400 1600 L2400 0 L0 0  Z\n",
       "  \" fill=\"#ffffff\" fill-rule=\"evenodd\" fill-opacity=\"1\"/>\n",
       "<defs>\n",
       "  <clipPath id=\"clip181\">\n",
       "    <rect x=\"480\" y=\"0\" width=\"1681\" height=\"1600\"/>\n",
       "  </clipPath>\n",
       "</defs>\n",
       "<path clip-path=\"url(#clip180)\" d=\"\n",
       "M186.274 1486.45 L2352.76 1486.45 L2352.76 47.2441 L186.274 47.2441  Z\n",
       "  \" fill=\"#ffffff\" fill-rule=\"evenodd\" fill-opacity=\"1\"/>\n",
       "<defs>\n",
       "  <clipPath id=\"clip182\">\n",
       "    <rect x=\"186\" y=\"47\" width=\"2167\" height=\"1440\"/>\n",
       "  </clipPath>\n",
       "</defs>\n",
       "<polyline clip-path=\"url(#clip182)\" style=\"stroke:#000000; stroke-linecap:butt; stroke-linejoin:round; stroke-width:2; stroke-opacity:0.1; fill:none\" points=\"\n",
       "  186.274,1486.45 186.274,47.2441 \n",
       "  \"/>\n",
       "<polyline clip-path=\"url(#clip182)\" style=\"stroke:#000000; stroke-linecap:butt; stroke-linejoin:round; stroke-width:2; stroke-opacity:0.1; fill:none\" points=\"\n",
       "  727.894,1486.45 727.894,47.2441 \n",
       "  \"/>\n",
       "<polyline clip-path=\"url(#clip182)\" style=\"stroke:#000000; stroke-linecap:butt; stroke-linejoin:round; stroke-width:2; stroke-opacity:0.1; fill:none\" points=\"\n",
       "  1269.51,1486.45 1269.51,47.2441 \n",
       "  \"/>\n",
       "<polyline clip-path=\"url(#clip182)\" style=\"stroke:#000000; stroke-linecap:butt; stroke-linejoin:round; stroke-width:2; stroke-opacity:0.1; fill:none\" points=\"\n",
       "  1811.14,1486.45 1811.14,47.2441 \n",
       "  \"/>\n",
       "<polyline clip-path=\"url(#clip182)\" style=\"stroke:#000000; stroke-linecap:butt; stroke-linejoin:round; stroke-width:2; stroke-opacity:0.1; fill:none\" points=\"\n",
       "  2352.76,1486.45 2352.76,47.2441 \n",
       "  \"/>\n",
       "<polyline clip-path=\"url(#clip180)\" style=\"stroke:#000000; stroke-linecap:butt; stroke-linejoin:round; stroke-width:4; stroke-opacity:1; fill:none\" points=\"\n",
       "  186.274,1486.45 2352.76,1486.45 \n",
       "  \"/>\n",
       "<polyline clip-path=\"url(#clip180)\" style=\"stroke:#000000; stroke-linecap:butt; stroke-linejoin:round; stroke-width:4; stroke-opacity:1; fill:none\" points=\"\n",
       "  186.274,1486.45 186.274,1467.55 \n",
       "  \"/>\n",
       "<polyline clip-path=\"url(#clip180)\" style=\"stroke:#000000; stroke-linecap:butt; stroke-linejoin:round; stroke-width:4; stroke-opacity:1; fill:none\" points=\"\n",
       "  727.894,1486.45 727.894,1467.55 \n",
       "  \"/>\n",
       "<polyline clip-path=\"url(#clip180)\" style=\"stroke:#000000; stroke-linecap:butt; stroke-linejoin:round; stroke-width:4; stroke-opacity:1; fill:none\" points=\"\n",
       "  1269.51,1486.45 1269.51,1467.55 \n",
       "  \"/>\n",
       "<polyline clip-path=\"url(#clip180)\" style=\"stroke:#000000; stroke-linecap:butt; stroke-linejoin:round; stroke-width:4; stroke-opacity:1; fill:none\" points=\"\n",
       "  1811.14,1486.45 1811.14,1467.55 \n",
       "  \"/>\n",
       "<polyline clip-path=\"url(#clip180)\" style=\"stroke:#000000; stroke-linecap:butt; stroke-linejoin:round; stroke-width:4; stroke-opacity:1; fill:none\" points=\"\n",
       "  2352.76,1486.45 2352.76,1467.55 \n",
       "  \"/>\n",
       "<path clip-path=\"url(#clip180)\" d=\"M132.802 1532.02 L162.478 1532.02 L162.478 1535.95 L132.802 1535.95 L132.802 1532.02 Z\" fill=\"#000000\" fill-rule=\"evenodd\" fill-opacity=\"1\" /><path clip-path=\"url(#clip180)\" d=\"M173.381 1544.91 L181.019 1544.91 L181.019 1518.55 L172.709 1520.21 L172.709 1515.95 L180.973 1514.29 L185.649 1514.29 L185.649 1544.91 L193.288 1544.91 L193.288 1548.85 L173.381 1548.85 L173.381 1544.91 Z\" fill=\"#000000\" fill-rule=\"evenodd\" fill-opacity=\"1\" /><path clip-path=\"url(#clip180)\" d=\"M202.732 1542.97 L207.616 1542.97 L207.616 1548.85 L202.732 1548.85 L202.732 1542.97 Z\" fill=\"#000000\" fill-rule=\"evenodd\" fill-opacity=\"1\" /><path clip-path=\"url(#clip180)\" d=\"M227.802 1517.37 Q224.19 1517.37 222.362 1520.93 Q220.556 1524.47 220.556 1531.6 Q220.556 1538.71 222.362 1542.27 Q224.19 1545.82 227.802 1545.82 Q231.436 1545.82 233.241 1542.27 Q235.07 1538.71 235.07 1531.6 Q235.07 1524.47 233.241 1520.93 Q231.436 1517.37 227.802 1517.37 M227.802 1513.66 Q233.612 1513.66 236.667 1518.27 Q239.746 1522.85 239.746 1531.6 Q239.746 1540.33 236.667 1544.94 Q233.612 1549.52 227.802 1549.52 Q221.991 1549.52 218.913 1544.94 Q215.857 1540.33 215.857 1531.6 Q215.857 1522.85 218.913 1518.27 Q221.991 1513.66 227.802 1513.66 Z\" fill=\"#000000\" fill-rule=\"evenodd\" fill-opacity=\"1\" /><path clip-path=\"url(#clip180)\" d=\"M674.92 1532.02 L704.596 1532.02 L704.596 1535.95 L674.92 1535.95 L674.92 1532.02 Z\" fill=\"#000000\" fill-rule=\"evenodd\" fill-opacity=\"1\" /><path clip-path=\"url(#clip180)\" d=\"M724.688 1517.37 Q721.077 1517.37 719.249 1520.93 Q717.443 1524.47 717.443 1531.6 Q717.443 1538.71 719.249 1542.27 Q721.077 1545.82 724.688 1545.82 Q728.323 1545.82 730.128 1542.27 Q731.957 1538.71 731.957 1531.6 Q731.957 1524.47 730.128 1520.93 Q728.323 1517.37 724.688 1517.37 M724.688 1513.66 Q730.499 1513.66 733.554 1518.27 Q736.633 1522.85 736.633 1531.6 Q736.633 1540.33 733.554 1544.94 Q730.499 1549.52 724.688 1549.52 Q718.878 1549.52 715.8 1544.94 Q712.744 1540.33 712.744 1531.6 Q712.744 1522.85 715.8 1518.27 Q718.878 1513.66 724.688 1513.66 Z\" fill=\"#000000\" fill-rule=\"evenodd\" fill-opacity=\"1\" /><path clip-path=\"url(#clip180)\" d=\"M744.85 1542.97 L749.735 1542.97 L749.735 1548.85 L744.85 1548.85 L744.85 1542.97 Z\" fill=\"#000000\" fill-rule=\"evenodd\" fill-opacity=\"1\" /><path clip-path=\"url(#clip180)\" d=\"M759.966 1514.29 L778.322 1514.29 L778.322 1518.22 L764.248 1518.22 L764.248 1526.7 Q765.267 1526.35 766.285 1526.19 Q767.304 1526 768.323 1526 Q774.11 1526 777.489 1529.17 Q780.869 1532.34 780.869 1537.76 Q780.869 1543.34 777.397 1546.44 Q773.924 1549.52 767.605 1549.52 Q765.429 1549.52 763.16 1549.15 Q760.915 1548.78 758.508 1548.04 L758.508 1543.34 Q760.591 1544.47 762.813 1545.03 Q765.035 1545.58 767.512 1545.58 Q771.517 1545.58 773.855 1543.48 Q776.193 1541.37 776.193 1537.76 Q776.193 1534.15 773.855 1532.04 Q771.517 1529.94 767.512 1529.94 Q765.637 1529.94 763.762 1530.35 Q761.91 1530.77 759.966 1531.65 L759.966 1514.29 Z\" fill=\"#000000\" fill-rule=\"evenodd\" fill-opacity=\"1\" /><path clip-path=\"url(#clip180)\" d=\"M1246.9 1517.37 Q1243.29 1517.37 1241.46 1520.93 Q1239.65 1524.47 1239.65 1531.6 Q1239.65 1538.71 1241.46 1542.27 Q1243.29 1545.82 1246.9 1545.82 Q1250.53 1545.82 1252.34 1542.27 Q1254.17 1538.71 1254.17 1531.6 Q1254.17 1524.47 1252.34 1520.93 Q1250.53 1517.37 1246.9 1517.37 M1246.9 1513.66 Q1252.71 1513.66 1255.77 1518.27 Q1258.84 1522.85 1258.84 1531.6 Q1258.84 1540.33 1255.77 1544.94 Q1252.71 1549.52 1246.9 1549.52 Q1241.09 1549.52 1238.01 1544.94 Q1234.95 1540.33 1234.95 1531.6 Q1234.95 1522.85 1238.01 1518.27 Q1241.09 1513.66 1246.9 1513.66 Z\" fill=\"#000000\" fill-rule=\"evenodd\" fill-opacity=\"1\" /><path clip-path=\"url(#clip180)\" d=\"M1267.06 1542.97 L1271.95 1542.97 L1271.95 1548.85 L1267.06 1548.85 L1267.06 1542.97 Z\" fill=\"#000000\" fill-rule=\"evenodd\" fill-opacity=\"1\" /><path clip-path=\"url(#clip180)\" d=\"M1292.13 1517.37 Q1288.52 1517.37 1286.69 1520.93 Q1284.89 1524.47 1284.89 1531.6 Q1284.89 1538.71 1286.69 1542.27 Q1288.52 1545.82 1292.13 1545.82 Q1295.76 1545.82 1297.57 1542.27 Q1299.4 1538.71 1299.4 1531.6 Q1299.4 1524.47 1297.57 1520.93 Q1295.76 1517.37 1292.13 1517.37 M1292.13 1513.66 Q1297.94 1513.66 1301 1518.27 Q1304.07 1522.85 1304.07 1531.6 Q1304.07 1540.33 1301 1544.94 Q1297.94 1549.52 1292.13 1549.52 Q1286.32 1549.52 1283.24 1544.94 Q1280.19 1540.33 1280.19 1531.6 Q1280.19 1522.85 1283.24 1518.27 Q1286.32 1513.66 1292.13 1513.66 Z\" fill=\"#000000\" fill-rule=\"evenodd\" fill-opacity=\"1\" /><path clip-path=\"url(#clip180)\" d=\"M1789.02 1517.37 Q1785.41 1517.37 1783.58 1520.93 Q1781.77 1524.47 1781.77 1531.6 Q1781.77 1538.71 1783.58 1542.27 Q1785.41 1545.82 1789.02 1545.82 Q1792.65 1545.82 1794.46 1542.27 Q1796.29 1538.71 1796.29 1531.6 Q1796.29 1524.47 1794.46 1520.93 Q1792.65 1517.37 1789.02 1517.37 M1789.02 1513.66 Q1794.83 1513.66 1797.88 1518.27 Q1800.96 1522.85 1800.96 1531.6 Q1800.96 1540.33 1797.88 1544.94 Q1794.83 1549.52 1789.02 1549.52 Q1783.21 1549.52 1780.13 1544.94 Q1777.07 1540.33 1777.07 1531.6 Q1777.07 1522.85 1780.13 1518.27 Q1783.21 1513.66 1789.02 1513.66 Z\" fill=\"#000000\" fill-rule=\"evenodd\" fill-opacity=\"1\" /><path clip-path=\"url(#clip180)\" d=\"M1809.18 1542.97 L1814.06 1542.97 L1814.06 1548.85 L1809.18 1548.85 L1809.18 1542.97 Z\" fill=\"#000000\" fill-rule=\"evenodd\" fill-opacity=\"1\" /><path clip-path=\"url(#clip180)\" d=\"M1824.3 1514.29 L1842.65 1514.29 L1842.65 1518.22 L1828.58 1518.22 L1828.58 1526.7 Q1829.6 1526.35 1830.61 1526.19 Q1831.63 1526 1832.65 1526 Q1838.44 1526 1841.82 1529.17 Q1845.2 1532.34 1845.2 1537.76 Q1845.2 1543.34 1841.73 1546.44 Q1838.25 1549.52 1831.93 1549.52 Q1829.76 1549.52 1827.49 1549.15 Q1825.24 1548.78 1822.84 1548.04 L1822.84 1543.34 Q1824.92 1544.47 1827.14 1545.03 Q1829.36 1545.58 1831.84 1545.58 Q1835.85 1545.58 1838.18 1543.48 Q1840.52 1541.37 1840.52 1537.76 Q1840.52 1534.15 1838.18 1532.04 Q1835.85 1529.94 1831.84 1529.94 Q1829.97 1529.94 1828.09 1530.35 Q1826.24 1530.77 1824.3 1531.65 L1824.3 1514.29 Z\" fill=\"#000000\" fill-rule=\"evenodd\" fill-opacity=\"1\" /><path clip-path=\"url(#clip180)\" d=\"M2319.91 1544.91 L2327.55 1544.91 L2327.55 1518.55 L2319.24 1520.21 L2319.24 1515.95 L2327.5 1514.29 L2332.18 1514.29 L2332.18 1544.91 L2339.82 1544.91 L2339.82 1548.85 L2319.91 1548.85 L2319.91 1544.91 Z\" fill=\"#000000\" fill-rule=\"evenodd\" fill-opacity=\"1\" /><path clip-path=\"url(#clip180)\" d=\"M2349.26 1542.97 L2354.14 1542.97 L2354.14 1548.85 L2349.26 1548.85 L2349.26 1542.97 Z\" fill=\"#000000\" fill-rule=\"evenodd\" fill-opacity=\"1\" /><path clip-path=\"url(#clip180)\" d=\"M2374.33 1517.37 Q2370.72 1517.37 2368.89 1520.93 Q2367.08 1524.47 2367.08 1531.6 Q2367.08 1538.71 2368.89 1542.27 Q2370.72 1545.82 2374.33 1545.82 Q2377.96 1545.82 2379.77 1542.27 Q2381.6 1538.71 2381.6 1531.6 Q2381.6 1524.47 2379.77 1520.93 Q2377.96 1517.37 2374.33 1517.37 M2374.33 1513.66 Q2380.14 1513.66 2383.2 1518.27 Q2386.27 1522.85 2386.27 1531.6 Q2386.27 1540.33 2383.2 1544.94 Q2380.14 1549.52 2374.33 1549.52 Q2368.52 1549.52 2365.44 1544.94 Q2362.39 1540.33 2362.39 1531.6 Q2362.39 1522.85 2365.44 1518.27 Q2368.52 1513.66 2374.33 1513.66 Z\" fill=\"#000000\" fill-rule=\"evenodd\" fill-opacity=\"1\" /><polyline clip-path=\"url(#clip182)\" style=\"stroke:#000000; stroke-linecap:butt; stroke-linejoin:round; stroke-width:2; stroke-opacity:0.1; fill:none\" points=\"\n",
       "  186.274,1445.72 2352.76,1445.72 \n",
       "  \"/>\n",
       "<polyline clip-path=\"url(#clip182)\" style=\"stroke:#000000; stroke-linecap:butt; stroke-linejoin:round; stroke-width:2; stroke-opacity:0.1; fill:none\" points=\"\n",
       "  186.274,1106.28 2352.76,1106.28 \n",
       "  \"/>\n",
       "<polyline clip-path=\"url(#clip182)\" style=\"stroke:#000000; stroke-linecap:butt; stroke-linejoin:round; stroke-width:2; stroke-opacity:0.1; fill:none\" points=\"\n",
       "  186.274,766.846 2352.76,766.846 \n",
       "  \"/>\n",
       "<polyline clip-path=\"url(#clip182)\" style=\"stroke:#000000; stroke-linecap:butt; stroke-linejoin:round; stroke-width:2; stroke-opacity:0.1; fill:none\" points=\"\n",
       "  186.274,427.411 2352.76,427.411 \n",
       "  \"/>\n",
       "<polyline clip-path=\"url(#clip182)\" style=\"stroke:#000000; stroke-linecap:butt; stroke-linejoin:round; stroke-width:2; stroke-opacity:0.1; fill:none\" points=\"\n",
       "  186.274,87.9763 2352.76,87.9763 \n",
       "  \"/>\n",
       "<polyline clip-path=\"url(#clip180)\" style=\"stroke:#000000; stroke-linecap:butt; stroke-linejoin:round; stroke-width:4; stroke-opacity:1; fill:none\" points=\"\n",
       "  186.274,1486.45 186.274,47.2441 \n",
       "  \"/>\n",
       "<polyline clip-path=\"url(#clip180)\" style=\"stroke:#000000; stroke-linecap:butt; stroke-linejoin:round; stroke-width:4; stroke-opacity:1; fill:none\" points=\"\n",
       "  186.274,1445.72 205.172,1445.72 \n",
       "  \"/>\n",
       "<polyline clip-path=\"url(#clip180)\" style=\"stroke:#000000; stroke-linecap:butt; stroke-linejoin:round; stroke-width:4; stroke-opacity:1; fill:none\" points=\"\n",
       "  186.274,1106.28 205.172,1106.28 \n",
       "  \"/>\n",
       "<polyline clip-path=\"url(#clip180)\" style=\"stroke:#000000; stroke-linecap:butt; stroke-linejoin:round; stroke-width:4; stroke-opacity:1; fill:none\" points=\"\n",
       "  186.274,766.846 205.172,766.846 \n",
       "  \"/>\n",
       "<polyline clip-path=\"url(#clip180)\" style=\"stroke:#000000; stroke-linecap:butt; stroke-linejoin:round; stroke-width:4; stroke-opacity:1; fill:none\" points=\"\n",
       "  186.274,427.411 205.172,427.411 \n",
       "  \"/>\n",
       "<polyline clip-path=\"url(#clip180)\" style=\"stroke:#000000; stroke-linecap:butt; stroke-linejoin:round; stroke-width:4; stroke-opacity:1; fill:none\" points=\"\n",
       "  186.274,87.9763 205.172,87.9763 \n",
       "  \"/>\n",
       "<path clip-path=\"url(#clip180)\" d=\"M62.9365 1431.51 Q59.3254 1431.51 57.4967 1435.08 Q55.6912 1438.62 55.6912 1445.75 Q55.6912 1452.86 57.4967 1456.42 Q59.3254 1459.96 62.9365 1459.96 Q66.5707 1459.96 68.3763 1456.42 Q70.205 1452.86 70.205 1445.75 Q70.205 1438.62 68.3763 1435.08 Q66.5707 1431.51 62.9365 1431.51 M62.9365 1427.81 Q68.7467 1427.81 71.8022 1432.42 Q74.8809 1437 74.8809 1445.75 Q74.8809 1454.48 71.8022 1459.08 Q68.7467 1463.67 62.9365 1463.67 Q57.1264 1463.67 54.0477 1459.08 Q50.9921 1454.48 50.9921 1445.75 Q50.9921 1437 54.0477 1432.42 Q57.1264 1427.81 62.9365 1427.81 Z\" fill=\"#000000\" fill-rule=\"evenodd\" fill-opacity=\"1\" /><path clip-path=\"url(#clip180)\" d=\"M83.0984 1457.12 L87.9827 1457.12 L87.9827 1463 L83.0984 1463 L83.0984 1457.12 Z\" fill=\"#000000\" fill-rule=\"evenodd\" fill-opacity=\"1\" /><path clip-path=\"url(#clip180)\" d=\"M108.168 1431.51 Q104.557 1431.51 102.728 1435.08 Q100.922 1438.62 100.922 1445.75 Q100.922 1452.86 102.728 1456.42 Q104.557 1459.96 108.168 1459.96 Q111.802 1459.96 113.608 1456.42 Q115.436 1452.86 115.436 1445.75 Q115.436 1438.62 113.608 1435.08 Q111.802 1431.51 108.168 1431.51 M108.168 1427.81 Q113.978 1427.81 117.033 1432.42 Q120.112 1437 120.112 1445.75 Q120.112 1454.48 117.033 1459.08 Q113.978 1463.67 108.168 1463.67 Q102.358 1463.67 99.2789 1459.08 Q96.2234 1454.48 96.2234 1445.75 Q96.2234 1437 99.2789 1432.42 Q102.358 1427.81 108.168 1427.81 Z\" fill=\"#000000\" fill-rule=\"evenodd\" fill-opacity=\"1\" /><path clip-path=\"url(#clip180)\" d=\"M138.33 1431.51 Q134.719 1431.51 132.89 1435.08 Q131.084 1438.62 131.084 1445.75 Q131.084 1452.86 132.89 1456.42 Q134.719 1459.96 138.33 1459.96 Q141.964 1459.96 143.769 1456.42 Q145.598 1452.86 145.598 1445.75 Q145.598 1438.62 143.769 1435.08 Q141.964 1431.51 138.33 1431.51 M138.33 1427.81 Q144.14 1427.81 147.195 1432.42 Q150.274 1437 150.274 1445.75 Q150.274 1454.48 147.195 1459.08 Q144.14 1463.67 138.33 1463.67 Q132.519 1463.67 129.441 1459.08 Q126.385 1454.48 126.385 1445.75 Q126.385 1437 129.441 1432.42 Q132.519 1427.81 138.33 1427.81 Z\" fill=\"#000000\" fill-rule=\"evenodd\" fill-opacity=\"1\" /><path clip-path=\"url(#clip180)\" d=\"M63.9319 1092.08 Q60.3208 1092.08 58.4921 1095.64 Q56.6865 1099.19 56.6865 1106.32 Q56.6865 1113.42 58.4921 1116.99 Q60.3208 1120.53 63.9319 1120.53 Q67.5661 1120.53 69.3717 1116.99 Q71.2004 1113.42 71.2004 1106.32 Q71.2004 1099.19 69.3717 1095.64 Q67.5661 1092.08 63.9319 1092.08 M63.9319 1088.38 Q69.742 1088.38 72.7976 1092.98 Q75.8763 1097.57 75.8763 1106.32 Q75.8763 1115.04 72.7976 1119.65 Q69.742 1124.23 63.9319 1124.23 Q58.1217 1124.23 55.043 1119.65 Q51.9875 1115.04 51.9875 1106.32 Q51.9875 1097.57 55.043 1092.98 Q58.1217 1088.38 63.9319 1088.38 Z\" fill=\"#000000\" fill-rule=\"evenodd\" fill-opacity=\"1\" /><path clip-path=\"url(#clip180)\" d=\"M84.0938 1117.68 L88.978 1117.68 L88.978 1123.56 L84.0938 1123.56 L84.0938 1117.68 Z\" fill=\"#000000\" fill-rule=\"evenodd\" fill-opacity=\"1\" /><path clip-path=\"url(#clip180)\" d=\"M103.191 1119.63 L119.51 1119.63 L119.51 1123.56 L97.566 1123.56 L97.566 1119.63 Q100.228 1116.87 104.811 1112.24 Q109.418 1107.59 110.598 1106.25 Q112.844 1103.72 113.723 1101.99 Q114.626 1100.23 114.626 1098.54 Q114.626 1095.78 112.682 1094.05 Q110.76 1092.31 107.658 1092.31 Q105.459 1092.31 103.006 1093.07 Q100.575 1093.84 97.7974 1095.39 L97.7974 1090.67 Q100.621 1089.53 103.075 1088.95 Q105.529 1088.38 107.566 1088.38 Q112.936 1088.38 116.131 1091.06 Q119.325 1093.75 119.325 1098.24 Q119.325 1100.37 118.515 1102.29 Q117.728 1104.19 115.621 1106.78 Q115.043 1107.45 111.941 1110.67 Q108.839 1113.86 103.191 1119.63 Z\" fill=\"#000000\" fill-rule=\"evenodd\" fill-opacity=\"1\" /><path clip-path=\"url(#clip180)\" d=\"M129.371 1089 L147.728 1089 L147.728 1092.94 L133.654 1092.94 L133.654 1101.41 Q134.672 1101.06 135.691 1100.9 Q136.709 1100.71 137.728 1100.71 Q143.515 1100.71 146.894 1103.89 Q150.274 1107.06 150.274 1112.47 Q150.274 1118.05 146.802 1121.15 Q143.33 1124.23 137.01 1124.23 Q134.834 1124.23 132.566 1123.86 Q130.32 1123.49 127.913 1122.75 L127.913 1118.05 Q129.996 1119.19 132.219 1119.74 Q134.441 1120.3 136.918 1120.3 Q140.922 1120.3 143.26 1118.19 Q145.598 1116.08 145.598 1112.47 Q145.598 1108.86 143.26 1106.76 Q140.922 1104.65 136.918 1104.65 Q135.043 1104.65 133.168 1105.07 Q131.316 1105.48 129.371 1106.36 L129.371 1089 Z\" fill=\"#000000\" fill-rule=\"evenodd\" fill-opacity=\"1\" /><path clip-path=\"url(#clip180)\" d=\"M62.9365 752.645 Q59.3254 752.645 57.4967 756.209 Q55.6912 759.751 55.6912 766.881 Q55.6912 773.987 57.4967 777.552 Q59.3254 781.094 62.9365 781.094 Q66.5707 781.094 68.3763 777.552 Q70.205 773.987 70.205 766.881 Q70.205 759.751 68.3763 756.209 Q66.5707 752.645 62.9365 752.645 M62.9365 748.941 Q68.7467 748.941 71.8022 753.547 Q74.8809 758.131 74.8809 766.881 Q74.8809 775.608 71.8022 780.214 Q68.7467 784.797 62.9365 784.797 Q57.1264 784.797 54.0477 780.214 Q50.9921 775.608 50.9921 766.881 Q50.9921 758.131 54.0477 753.547 Q57.1264 748.941 62.9365 748.941 Z\" fill=\"#000000\" fill-rule=\"evenodd\" fill-opacity=\"1\" /><path clip-path=\"url(#clip180)\" d=\"M83.0984 778.246 L87.9827 778.246 L87.9827 784.126 L83.0984 784.126 L83.0984 778.246 Z\" fill=\"#000000\" fill-rule=\"evenodd\" fill-opacity=\"1\" /><path clip-path=\"url(#clip180)\" d=\"M98.2141 749.566 L116.57 749.566 L116.57 753.501 L102.496 753.501 L102.496 761.973 Q103.515 761.626 104.534 761.464 Q105.552 761.279 106.571 761.279 Q112.358 761.279 115.737 764.45 Q119.117 767.621 119.117 773.038 Q119.117 778.617 115.645 781.719 Q112.172 784.797 105.853 784.797 Q103.677 784.797 101.409 784.427 Q99.1632 784.057 96.7558 783.316 L96.7558 778.617 Q98.8391 779.751 101.061 780.307 Q103.284 780.862 105.76 780.862 Q109.765 780.862 112.103 778.756 Q114.441 776.649 114.441 773.038 Q114.441 769.427 112.103 767.321 Q109.765 765.214 105.76 765.214 Q103.885 765.214 102.01 765.631 Q100.159 766.047 98.2141 766.927 L98.2141 749.566 Z\" fill=\"#000000\" fill-rule=\"evenodd\" fill-opacity=\"1\" /><path clip-path=\"url(#clip180)\" d=\"M138.33 752.645 Q134.719 752.645 132.89 756.209 Q131.084 759.751 131.084 766.881 Q131.084 773.987 132.89 777.552 Q134.719 781.094 138.33 781.094 Q141.964 781.094 143.769 777.552 Q145.598 773.987 145.598 766.881 Q145.598 759.751 143.769 756.209 Q141.964 752.645 138.33 752.645 M138.33 748.941 Q144.14 748.941 147.195 753.547 Q150.274 758.131 150.274 766.881 Q150.274 775.608 147.195 780.214 Q144.14 784.797 138.33 784.797 Q132.519 784.797 129.441 780.214 Q126.385 775.608 126.385 766.881 Q126.385 758.131 129.441 753.547 Q132.519 748.941 138.33 748.941 Z\" fill=\"#000000\" fill-rule=\"evenodd\" fill-opacity=\"1\" /><path clip-path=\"url(#clip180)\" d=\"M63.9319 413.21 Q60.3208 413.21 58.4921 416.775 Q56.6865 420.316 56.6865 427.446 Q56.6865 434.552 58.4921 438.117 Q60.3208 441.659 63.9319 441.659 Q67.5661 441.659 69.3717 438.117 Q71.2004 434.552 71.2004 427.446 Q71.2004 420.316 69.3717 416.775 Q67.5661 413.21 63.9319 413.21 M63.9319 409.506 Q69.742 409.506 72.7976 414.113 Q75.8763 418.696 75.8763 427.446 Q75.8763 436.173 72.7976 440.779 Q69.742 445.362 63.9319 445.362 Q58.1217 445.362 55.043 440.779 Q51.9875 436.173 51.9875 427.446 Q51.9875 418.696 55.043 414.113 Q58.1217 409.506 63.9319 409.506 Z\" fill=\"#000000\" fill-rule=\"evenodd\" fill-opacity=\"1\" /><path clip-path=\"url(#clip180)\" d=\"M84.0938 438.812 L88.978 438.812 L88.978 444.691 L84.0938 444.691 L84.0938 438.812 Z\" fill=\"#000000\" fill-rule=\"evenodd\" fill-opacity=\"1\" /><path clip-path=\"url(#clip180)\" d=\"M97.9826 410.131 L120.205 410.131 L120.205 412.122 L107.658 444.691 L102.774 444.691 L114.58 414.066 L97.9826 414.066 L97.9826 410.131 Z\" fill=\"#000000\" fill-rule=\"evenodd\" fill-opacity=\"1\" /><path clip-path=\"url(#clip180)\" d=\"M129.371 410.131 L147.728 410.131 L147.728 414.066 L133.654 414.066 L133.654 422.538 Q134.672 422.191 135.691 422.029 Q136.709 421.844 137.728 421.844 Q143.515 421.844 146.894 425.015 Q150.274 428.187 150.274 433.603 Q150.274 439.182 146.802 442.284 Q143.33 445.362 137.01 445.362 Q134.834 445.362 132.566 444.992 Q130.32 444.622 127.913 443.881 L127.913 439.182 Q129.996 440.316 132.219 440.872 Q134.441 441.427 136.918 441.427 Q140.922 441.427 143.26 439.321 Q145.598 437.214 145.598 433.603 Q145.598 429.992 143.26 427.886 Q140.922 425.779 136.918 425.779 Q135.043 425.779 133.168 426.196 Q131.316 426.613 129.371 427.492 L129.371 410.131 Z\" fill=\"#000000\" fill-rule=\"evenodd\" fill-opacity=\"1\" /><path clip-path=\"url(#clip180)\" d=\"M53.7467 101.321 L61.3856 101.321 L61.3856 74.9555 L53.0754 76.6222 L53.0754 72.3629 L61.3393 70.6963 L66.0152 70.6963 L66.0152 101.321 L73.654 101.321 L73.654 105.256 L53.7467 105.256 L53.7467 101.321 Z\" fill=\"#000000\" fill-rule=\"evenodd\" fill-opacity=\"1\" /><path clip-path=\"url(#clip180)\" d=\"M83.0984 99.3767 L87.9827 99.3767 L87.9827 105.256 L83.0984 105.256 L83.0984 99.3767 Z\" fill=\"#000000\" fill-rule=\"evenodd\" fill-opacity=\"1\" /><path clip-path=\"url(#clip180)\" d=\"M108.168 73.775 Q104.557 73.775 102.728 77.3398 Q100.922 80.8814 100.922 88.011 Q100.922 95.1174 102.728 98.6822 Q104.557 102.224 108.168 102.224 Q111.802 102.224 113.608 98.6822 Q115.436 95.1174 115.436 88.011 Q115.436 80.8814 113.608 77.3398 Q111.802 73.775 108.168 73.775 M108.168 70.0713 Q113.978 70.0713 117.033 74.6777 Q120.112 79.261 120.112 88.011 Q120.112 96.7378 117.033 101.344 Q113.978 105.928 108.168 105.928 Q102.358 105.928 99.2789 101.344 Q96.2234 96.7378 96.2234 88.011 Q96.2234 79.261 99.2789 74.6777 Q102.358 70.0713 108.168 70.0713 Z\" fill=\"#000000\" fill-rule=\"evenodd\" fill-opacity=\"1\" /><path clip-path=\"url(#clip180)\" d=\"M138.33 73.775 Q134.719 73.775 132.89 77.3398 Q131.084 80.8814 131.084 88.011 Q131.084 95.1174 132.89 98.6822 Q134.719 102.224 138.33 102.224 Q141.964 102.224 143.769 98.6822 Q145.598 95.1174 145.598 88.011 Q145.598 80.8814 143.769 77.3398 Q141.964 73.775 138.33 73.775 M138.33 70.0713 Q144.14 70.0713 147.195 74.6777 Q150.274 79.261 150.274 88.011 Q150.274 96.7378 147.195 101.344 Q144.14 105.928 138.33 105.928 Q132.519 105.928 129.441 101.344 Q126.385 96.7378 126.385 88.011 Q126.385 79.261 129.441 74.6777 Q132.519 70.0713 138.33 70.0713 Z\" fill=\"#000000\" fill-rule=\"evenodd\" fill-opacity=\"1\" /><polyline clip-path=\"url(#clip182)\" style=\"stroke:#009af9; stroke-linecap:butt; stroke-linejoin:round; stroke-width:12; stroke-opacity:1; fill:none\" points=\"\n",
       "  186.274,1445.72 189.8,1445.72 193.326,1445.72 196.853,1445.72 200.379,1445.72 216.682,1445.72 232.984,1445.72 241.136,1445.72 249.287,1445.72 257.438,1445.72 \n",
       "  265.589,1445.72 269.665,1445.72 273.741,1445.72 274.76,1445.72 275.779,1445.72 276.797,1444.45 277.816,1439.34 279.854,1429.12 281.892,1418.9 285.968,1398.47 \n",
       "  290.043,1378.04 294.119,1357.6 298.195,1337.17 314.497,1255.43 330.8,1173.7 350.394,1075.46 369.989,977.22 389.583,878.981 409.177,780.743 442.311,614.623 \n",
       "  475.445,448.504 493.441,358.278 511.437,268.052 520.435,222.939 529.433,177.826 533.932,155.269 538.431,132.713 540.681,121.435 542.93,110.156 544.055,104.517 \n",
       "  545.18,98.8782 546.305,93.2391 547.429,88.3526 548.466,93.5514 549.503,98.7502 550.54,103.949 551.577,109.148 553.651,119.545 555.725,129.943 559.873,150.738 \n",
       "  564.02,171.533 572.316,213.123 580.611,254.713 597.202,337.894 613.793,421.074 684.942,777.787 767.375,1191.07 785.689,1282.89 804.003,1374.71 808.581,1397.67 \n",
       "  813.16,1420.62 815.449,1432.1 817.738,1443.58 818.883,1445.72 820.028,1445.72 821.172,1445.72 822.317,1445.72 826.896,1445.72 831.474,1445.72 836.053,1445.72 \n",
       "  840.631,1445.72 872.751,1445.72 904.871,1445.72 939.89,1445.72 974.909,1445.72 992.522,1445.72 1010.14,1445.72 1018.94,1445.72 1027.75,1445.72 1032.15,1445.72 \n",
       "  1036.56,1445.72 1040.96,1445.72 1045.36,1445.72 1047.8,1445.72 1050.23,1445.72 1050.84,1445.72 1051.45,1445.72 1052.06,1445.72 1052.67,1445.72 1053.27,87.9763 \n",
       "  1053.88,87.9763 1054.49,87.9763 1055.1,87.9763 1056.32,87.9763 1057.53,87.9763 1058.75,87.9763 1059.97,87.9763 1062.4,87.9763 1064.84,87.9763 1074.57,87.9763 \n",
       "  1084.31,87.9763 1103.79,87.9763 1123.26,87.9763 1160.32,87.9763 1197.38,87.9763 1274.44,87.9763 1339.31,87.9763 1378.91,87.9763 1418.51,87.9763 1436.65,87.9763 \n",
       "  1454.79,87.9763 1463.86,87.9763 1472.93,87.9763 1475.19,87.9763 1477.46,87.9763 1479.73,87.9763 1482,87.9763 1483.13,87.9763 1484.26,87.9763 1484.83,87.9763 \n",
       "  1485.4,87.9763 1485.96,87.9763 1486.53,1445.72 1487.1,1445.72 1487.66,1445.72 1488.23,1445.72 1488.8,1445.72 1489.93,1445.72 1491.06,1445.72 1495.25,1445.72 \n",
       "  1499.44,1445.72 1503.63,1445.72 1507.82,1445.72 1516.19,1445.72 1524.57,1445.72 1541.32,1445.72 1558.07,1445.72 1592.01,1445.72 1625.95,1445.72 1663.99,1445.72 \n",
       "  1702.02,1445.72 1710.64,1445.72 1719.25,1445.72 1723.56,1445.38 1727.87,1443.47 1732.18,1439.88 1736.49,1434.6 1740.8,1427.65 1745.1,1419.05 1749.41,1408.83 \n",
       "  1753.72,1397 1758.03,1383.6 1762.34,1368.65 1766.65,1352.21 1770.95,1334.3 1775.89,1312.06 1780.82,1288.03 1785.75,1262.3 1790.69,1234.95 1795.62,1206.06 \n",
       "  1800.55,1175.74 1805.48,1144.07 1810.42,1111.18 1815.35,1077.15 1820.28,1042.11 1825.21,1006.17 1830.15,969.446 1840.01,894.129 1849.88,817.147 1859.01,745.259 \n",
       "  1868.15,673.613 1877.28,603.013 1886.42,534.252 1895.55,468.099 1904.68,405.298 1909.25,375.376 1913.82,346.553 1918.39,318.91 1922.95,292.523 1927.46,267.812 \n",
       "  1931.96,244.463 1936.46,222.538 1940.96,202.098 1945.47,183.199 1949.97,165.892 1954.47,150.224 1958.98,136.238 1963.48,123.973 1967.98,113.461 1972.48,104.732 \n",
       "  1976.99,97.8084 1981.49,92.7103 1985.99,89.4512 1990.5,88.0399 1995,88.4804 1999.37,90.6787 2003.74,94.6158 2008.11,100.282 2012.49,107.662 2016.86,116.737 \n",
       "  2021.23,127.484 2025.6,139.875 2029.97,153.878 2034.34,169.458 2038.72,186.574 2043.09,205.182 2047.46,225.234 2051.83,246.68 2056.2,269.463 2060.58,293.525 \n",
       "  2064.95,318.804 2069.43,345.914 2073.91,374.161 2078.39,403.47 2082.87,433.76 2087.36,464.951 2091.84,496.957 2096.32,529.693 2100.8,563.07 2118.73,701.161 \n",
       "  2136.65,842.083 2146.47,918.292 2156.29,992.537 2161.2,1028.62 2166.11,1063.86 2171.03,1098.13 2175.94,1131.33 2180.85,1163.34 2185.76,1194.07 2190.67,1223.41 \n",
       "  2195.58,1251.27 2200.49,1277.56 2205.4,1302.2 2210.31,1325.1 2215.22,1346.18 2218.78,1360.32 2222.35,1373.45 2225.92,1385.54 2229.48,1396.57 2233.05,1406.52 \n",
       "  2236.62,1415.37 2240.18,1423.12 2243.75,1429.74 2247.31,1435.23 2250.88,1439.57 2254.45,1442.77 2258.01,1444.8 2265.15,1445.72 2272.28,1445.72 2300.81,1445.72 \n",
       "  2329.34,1445.72 2335.2,1445.72 2341.05,1445.72 2346.9,1445.72 2352.76,1445.72 \n",
       "  \"/>\n",
       "<path clip-path=\"url(#clip180)\" d=\"\n",
       "M1987.39 198.898 L2280.54 198.898 L2280.54 95.2176 L1987.39 95.2176  Z\n",
       "  \" fill=\"#ffffff\" fill-rule=\"evenodd\" fill-opacity=\"1\"/>\n",
       "<polyline clip-path=\"url(#clip180)\" style=\"stroke:#000000; stroke-linecap:butt; stroke-linejoin:round; stroke-width:4; stroke-opacity:1; fill:none\" points=\"\n",
       "  1987.39,198.898 2280.54,198.898 2280.54,95.2176 1987.39,95.2176 1987.39,198.898 \n",
       "  \"/>\n",
       "<polyline clip-path=\"url(#clip180)\" style=\"stroke:#009af9; stroke-linecap:butt; stroke-linejoin:round; stroke-width:4; stroke-opacity:1; fill:none\" points=\"\n",
       "  2011.46,147.058 2155.89,147.058 \n",
       "  \"/>\n",
       "<path clip-path=\"url(#clip180)\" d=\"M2193.81 166.745 Q2192 171.375 2190.29 172.787 Q2188.58 174.199 2185.71 174.199 L2182.3 174.199 L2182.3 170.634 L2184.8 170.634 Q2186.56 170.634 2187.53 169.8 Q2188.51 168.967 2189.69 165.865 L2190.45 163.921 L2179.97 138.412 L2184.48 138.412 L2192.58 158.689 L2200.68 138.412 L2205.2 138.412 L2193.81 166.745 Z\" fill=\"#000000\" fill-rule=\"evenodd\" fill-opacity=\"1\" /><path clip-path=\"url(#clip180)\" d=\"M2212.49 160.402 L2220.13 160.402 L2220.13 134.037 L2211.82 135.703 L2211.82 131.444 L2220.08 129.778 L2224.76 129.778 L2224.76 160.402 L2232.4 160.402 L2232.4 164.338 L2212.49 164.338 L2212.49 160.402 Z\" fill=\"#000000\" fill-rule=\"evenodd\" fill-opacity=\"1\" /></svg>\n"
      ]
     },
     "execution_count": 2,
     "metadata": {},
     "output_type": "execute_result"
    }
   ],
   "source": [
    "function testfunc(x)\n",
    "    max(1 - 4*abs.(x+2/3),\n",
    "        abs.(x) .< .2,\n",
    "        (2*abs.(x-2/3) .< .5) * cospi(2*(x-2/3)).^2\n",
    "    )\n",
    "end\n",
    "plot(testfunc, xlims=(-1, 1))"
   ]
  },
  {
   "cell_type": "markdown",
   "id": "89f97be1",
   "metadata": {
    "slideshow": {
     "slide_type": "slide"
    }
   },
   "source": [
    "# An implementation"
   ]
  },
  {
   "cell_type": "code",
   "execution_count": 3,
   "id": "5ff0b455",
   "metadata": {
    "cell_style": "split",
    "slideshow": {
     "slide_type": ""
    }
   },
   "outputs": [
    {
     "data": {
      "text/plain": [
       "fv_solve0 (generic function with 2 methods)"
      ]
     },
     "execution_count": 3,
     "metadata": {},
     "output_type": "execute_result"
    }
   ],
   "source": [
    "flux_advection(u) = u\n",
    "flux_burgers(u) = u^2/2\n",
    "flux_traffic(u) = u * (1 - u)\n",
    "\n",
    "function fv_solve0(flux, u_init, n, tfinal=1)\n",
    "    h = 2 / n\n",
    "    x = LinRange(-1+h/2, 1-h/2, n) # cell midpoints (centroids)\n",
    "    idxL = 1 .+ (n-1:2*n-2) .% n\n",
    "    idxR = 1 .+ (n+1:2*n) .% n\n",
    "    function rhs(t, u)\n",
    "        uL = .5 * (u + u[idxL])\n",
    "        uR = .5 * (u + u[idxR])\n",
    "        (flux.(uL) - flux.(uR)) / h\n",
    "    end\n",
    "    thist, uhist = ode_rk_explicit(rhs, u_init.(x), h=h, tfinal=tfinal)\n",
    "    x, thist, uhist\n",
    "end"
   ]
  },
  {
   "cell_type": "code",
   "execution_count": 11,
   "id": "c871365a",
   "metadata": {
    "cell_style": "split",
    "slideshow": {
     "slide_type": ""
    }
   },
   "outputs": [
    {
     "data": {
      "image/svg+xml": [
       "<?xml version=\"1.0\" encoding=\"utf-8\"?>\n",
       "<svg xmlns=\"http://www.w3.org/2000/svg\" xmlns:xlink=\"http://www.w3.org/1999/xlink\" width=\"600\" height=\"400\" viewBox=\"0 0 2400 1600\">\n",
       "<defs>\n",
       "  <clipPath id=\"clip500\">\n",
       "    <rect x=\"0\" y=\"0\" width=\"2400\" height=\"1600\"/>\n",
       "  </clipPath>\n",
       "</defs>\n",
       "<path clip-path=\"url(#clip500)\" d=\"\n",
       "M0 1600 L2400 1600 L2400 0 L0 0  Z\n",
       "  \" fill=\"#ffffff\" fill-rule=\"evenodd\" fill-opacity=\"1\"/>\n",
       "<defs>\n",
       "  <clipPath id=\"clip501\">\n",
       "    <rect x=\"480\" y=\"0\" width=\"1681\" height=\"1600\"/>\n",
       "  </clipPath>\n",
       "</defs>\n",
       "<path clip-path=\"url(#clip500)\" d=\"\n",
       "M192.339 1486.45 L2352.76 1486.45 L2352.76 47.2441 L192.339 47.2441  Z\n",
       "  \" fill=\"#ffffff\" fill-rule=\"evenodd\" fill-opacity=\"1\"/>\n",
       "<defs>\n",
       "  <clipPath id=\"clip502\">\n",
       "    <rect x=\"192\" y=\"47\" width=\"2161\" height=\"1440\"/>\n",
       "  </clipPath>\n",
       "</defs>\n",
       "<polyline clip-path=\"url(#clip502)\" style=\"stroke:#000000; stroke-linecap:butt; stroke-linejoin:round; stroke-width:2; stroke-opacity:0.1; fill:none\" points=\"\n",
       "  243.189,1486.45 243.189,47.2441 \n",
       "  \"/>\n",
       "<polyline clip-path=\"url(#clip502)\" style=\"stroke:#000000; stroke-linecap:butt; stroke-linejoin:round; stroke-width:2; stroke-opacity:0.1; fill:none\" points=\"\n",
       "  757.868,1486.45 757.868,47.2441 \n",
       "  \"/>\n",
       "<polyline clip-path=\"url(#clip502)\" style=\"stroke:#000000; stroke-linecap:butt; stroke-linejoin:round; stroke-width:2; stroke-opacity:0.1; fill:none\" points=\"\n",
       "  1272.55,1486.45 1272.55,47.2441 \n",
       "  \"/>\n",
       "<polyline clip-path=\"url(#clip502)\" style=\"stroke:#000000; stroke-linecap:butt; stroke-linejoin:round; stroke-width:2; stroke-opacity:0.1; fill:none\" points=\"\n",
       "  1787.23,1486.45 1787.23,47.2441 \n",
       "  \"/>\n",
       "<polyline clip-path=\"url(#clip502)\" style=\"stroke:#000000; stroke-linecap:butt; stroke-linejoin:round; stroke-width:2; stroke-opacity:0.1; fill:none\" points=\"\n",
       "  2301.91,1486.45 2301.91,47.2441 \n",
       "  \"/>\n",
       "<polyline clip-path=\"url(#clip500)\" style=\"stroke:#000000; stroke-linecap:butt; stroke-linejoin:round; stroke-width:4; stroke-opacity:1; fill:none\" points=\"\n",
       "  192.339,1486.45 2352.76,1486.45 \n",
       "  \"/>\n",
       "<polyline clip-path=\"url(#clip500)\" style=\"stroke:#000000; stroke-linecap:butt; stroke-linejoin:round; stroke-width:4; stroke-opacity:1; fill:none\" points=\"\n",
       "  243.189,1486.45 243.189,1467.55 \n",
       "  \"/>\n",
       "<polyline clip-path=\"url(#clip500)\" style=\"stroke:#000000; stroke-linecap:butt; stroke-linejoin:round; stroke-width:4; stroke-opacity:1; fill:none\" points=\"\n",
       "  757.868,1486.45 757.868,1467.55 \n",
       "  \"/>\n",
       "<polyline clip-path=\"url(#clip500)\" style=\"stroke:#000000; stroke-linecap:butt; stroke-linejoin:round; stroke-width:4; stroke-opacity:1; fill:none\" points=\"\n",
       "  1272.55,1486.45 1272.55,1467.55 \n",
       "  \"/>\n",
       "<polyline clip-path=\"url(#clip500)\" style=\"stroke:#000000; stroke-linecap:butt; stroke-linejoin:round; stroke-width:4; stroke-opacity:1; fill:none\" points=\"\n",
       "  1787.23,1486.45 1787.23,1467.55 \n",
       "  \"/>\n",
       "<polyline clip-path=\"url(#clip500)\" style=\"stroke:#000000; stroke-linecap:butt; stroke-linejoin:round; stroke-width:4; stroke-opacity:1; fill:none\" points=\"\n",
       "  2301.91,1486.45 2301.91,1467.55 \n",
       "  \"/>\n",
       "<path clip-path=\"url(#clip500)\" d=\"M189.717 1532.02 L219.393 1532.02 L219.393 1535.95 L189.717 1535.95 L189.717 1532.02 Z\" fill=\"#000000\" fill-rule=\"evenodd\" fill-opacity=\"1\" /><path clip-path=\"url(#clip500)\" d=\"M230.296 1544.91 L237.934 1544.91 L237.934 1518.55 L229.624 1520.21 L229.624 1515.95 L237.888 1514.29 L242.564 1514.29 L242.564 1544.91 L250.203 1544.91 L250.203 1548.85 L230.296 1548.85 L230.296 1544.91 Z\" fill=\"#000000\" fill-rule=\"evenodd\" fill-opacity=\"1\" /><path clip-path=\"url(#clip500)\" d=\"M259.647 1542.97 L264.532 1542.97 L264.532 1548.85 L259.647 1548.85 L259.647 1542.97 Z\" fill=\"#000000\" fill-rule=\"evenodd\" fill-opacity=\"1\" /><path clip-path=\"url(#clip500)\" d=\"M284.717 1517.37 Q281.106 1517.37 279.277 1520.93 Q277.471 1524.47 277.471 1531.6 Q277.471 1538.71 279.277 1542.27 Q281.106 1545.82 284.717 1545.82 Q288.351 1545.82 290.156 1542.27 Q291.985 1538.71 291.985 1531.6 Q291.985 1524.47 290.156 1520.93 Q288.351 1517.37 284.717 1517.37 M284.717 1513.66 Q290.527 1513.66 293.582 1518.27 Q296.661 1522.85 296.661 1531.6 Q296.661 1540.33 293.582 1544.94 Q290.527 1549.52 284.717 1549.52 Q278.906 1549.52 275.828 1544.94 Q272.772 1540.33 272.772 1531.6 Q272.772 1522.85 275.828 1518.27 Q278.906 1513.66 284.717 1513.66 Z\" fill=\"#000000\" fill-rule=\"evenodd\" fill-opacity=\"1\" /><path clip-path=\"url(#clip500)\" d=\"M704.894 1532.02 L734.57 1532.02 L734.57 1535.95 L704.894 1535.95 L704.894 1532.02 Z\" fill=\"#000000\" fill-rule=\"evenodd\" fill-opacity=\"1\" /><path clip-path=\"url(#clip500)\" d=\"M754.662 1517.37 Q751.051 1517.37 749.222 1520.93 Q747.417 1524.47 747.417 1531.6 Q747.417 1538.71 749.222 1542.27 Q751.051 1545.82 754.662 1545.82 Q758.296 1545.82 760.102 1542.27 Q761.931 1538.71 761.931 1531.6 Q761.931 1524.47 760.102 1520.93 Q758.296 1517.37 754.662 1517.37 M754.662 1513.66 Q760.472 1513.66 763.528 1518.27 Q766.607 1522.85 766.607 1531.6 Q766.607 1540.33 763.528 1544.94 Q760.472 1549.52 754.662 1549.52 Q748.852 1549.52 745.773 1544.94 Q742.718 1540.33 742.718 1531.6 Q742.718 1522.85 745.773 1518.27 Q748.852 1513.66 754.662 1513.66 Z\" fill=\"#000000\" fill-rule=\"evenodd\" fill-opacity=\"1\" /><path clip-path=\"url(#clip500)\" d=\"M774.824 1542.97 L779.708 1542.97 L779.708 1548.85 L774.824 1548.85 L774.824 1542.97 Z\" fill=\"#000000\" fill-rule=\"evenodd\" fill-opacity=\"1\" /><path clip-path=\"url(#clip500)\" d=\"M789.94 1514.29 L808.296 1514.29 L808.296 1518.22 L794.222 1518.22 L794.222 1526.7 Q795.241 1526.35 796.259 1526.19 Q797.278 1526 798.296 1526 Q804.083 1526 807.463 1529.17 Q810.842 1532.34 810.842 1537.76 Q810.842 1543.34 807.37 1546.44 Q803.898 1549.52 797.579 1549.52 Q795.403 1549.52 793.134 1549.15 Q790.889 1548.78 788.481 1548.04 L788.481 1543.34 Q790.565 1544.47 792.787 1545.03 Q795.009 1545.58 797.486 1545.58 Q801.491 1545.58 803.829 1543.48 Q806.167 1541.37 806.167 1537.76 Q806.167 1534.15 803.829 1532.04 Q801.491 1529.94 797.486 1529.94 Q795.611 1529.94 793.736 1530.35 Q791.884 1530.77 789.94 1531.65 L789.94 1514.29 Z\" fill=\"#000000\" fill-rule=\"evenodd\" fill-opacity=\"1\" /><path clip-path=\"url(#clip500)\" d=\"M1249.93 1517.37 Q1246.32 1517.37 1244.49 1520.93 Q1242.69 1524.47 1242.69 1531.6 Q1242.69 1538.71 1244.49 1542.27 Q1246.32 1545.82 1249.93 1545.82 Q1253.57 1545.82 1255.37 1542.27 Q1257.2 1538.71 1257.2 1531.6 Q1257.2 1524.47 1255.37 1520.93 Q1253.57 1517.37 1249.93 1517.37 M1249.93 1513.66 Q1255.74 1513.66 1258.8 1518.27 Q1261.88 1522.85 1261.88 1531.6 Q1261.88 1540.33 1258.8 1544.94 Q1255.74 1549.52 1249.93 1549.52 Q1244.12 1549.52 1241.04 1544.94 Q1237.99 1540.33 1237.99 1531.6 Q1237.99 1522.85 1241.04 1518.27 Q1244.12 1513.66 1249.93 1513.66 Z\" fill=\"#000000\" fill-rule=\"evenodd\" fill-opacity=\"1\" /><path clip-path=\"url(#clip500)\" d=\"M1270.09 1542.97 L1274.98 1542.97 L1274.98 1548.85 L1270.09 1548.85 L1270.09 1542.97 Z\" fill=\"#000000\" fill-rule=\"evenodd\" fill-opacity=\"1\" /><path clip-path=\"url(#clip500)\" d=\"M1295.16 1517.37 Q1291.55 1517.37 1289.72 1520.93 Q1287.92 1524.47 1287.92 1531.6 Q1287.92 1538.71 1289.72 1542.27 Q1291.55 1545.82 1295.16 1545.82 Q1298.8 1545.82 1300.6 1542.27 Q1302.43 1538.71 1302.43 1531.6 Q1302.43 1524.47 1300.6 1520.93 Q1298.8 1517.37 1295.16 1517.37 M1295.16 1513.66 Q1300.97 1513.66 1304.03 1518.27 Q1307.11 1522.85 1307.11 1531.6 Q1307.11 1540.33 1304.03 1544.94 Q1300.97 1549.52 1295.16 1549.52 Q1289.35 1549.52 1286.27 1544.94 Q1283.22 1540.33 1283.22 1531.6 Q1283.22 1522.85 1286.27 1518.27 Q1289.35 1513.66 1295.16 1513.66 Z\" fill=\"#000000\" fill-rule=\"evenodd\" fill-opacity=\"1\" /><path clip-path=\"url(#clip500)\" d=\"M1765.11 1517.37 Q1761.5 1517.37 1759.67 1520.93 Q1757.86 1524.47 1757.86 1531.6 Q1757.86 1538.71 1759.67 1542.27 Q1761.5 1545.82 1765.11 1545.82 Q1768.74 1545.82 1770.55 1542.27 Q1772.38 1538.71 1772.38 1531.6 Q1772.38 1524.47 1770.55 1520.93 Q1768.74 1517.37 1765.11 1517.37 M1765.11 1513.66 Q1770.92 1513.66 1773.97 1518.27 Q1777.05 1522.85 1777.05 1531.6 Q1777.05 1540.33 1773.97 1544.94 Q1770.92 1549.52 1765.11 1549.52 Q1759.3 1549.52 1756.22 1544.94 Q1753.16 1540.33 1753.16 1531.6 Q1753.16 1522.85 1756.22 1518.27 Q1759.3 1513.66 1765.11 1513.66 Z\" fill=\"#000000\" fill-rule=\"evenodd\" fill-opacity=\"1\" /><path clip-path=\"url(#clip500)\" d=\"M1785.27 1542.97 L1790.15 1542.97 L1790.15 1548.85 L1785.27 1548.85 L1785.27 1542.97 Z\" fill=\"#000000\" fill-rule=\"evenodd\" fill-opacity=\"1\" /><path clip-path=\"url(#clip500)\" d=\"M1800.39 1514.29 L1818.74 1514.29 L1818.74 1518.22 L1804.67 1518.22 L1804.67 1526.7 Q1805.69 1526.35 1806.71 1526.19 Q1807.72 1526 1808.74 1526 Q1814.53 1526 1817.91 1529.17 Q1821.29 1532.34 1821.29 1537.76 Q1821.29 1543.34 1817.82 1546.44 Q1814.34 1549.52 1808.02 1549.52 Q1805.85 1549.52 1803.58 1549.15 Q1801.34 1548.78 1798.93 1548.04 L1798.93 1543.34 Q1801.01 1544.47 1803.23 1545.03 Q1805.46 1545.58 1807.93 1545.58 Q1811.94 1545.58 1814.27 1543.48 Q1816.61 1541.37 1816.61 1537.76 Q1816.61 1534.15 1814.27 1532.04 Q1811.94 1529.94 1807.93 1529.94 Q1806.06 1529.94 1804.18 1530.35 Q1802.33 1530.77 1800.39 1531.65 L1800.39 1514.29 Z\" fill=\"#000000\" fill-rule=\"evenodd\" fill-opacity=\"1\" /><path clip-path=\"url(#clip500)\" d=\"M2269.06 1544.91 L2276.7 1544.91 L2276.7 1518.55 L2268.39 1520.21 L2268.39 1515.95 L2276.65 1514.29 L2281.33 1514.29 L2281.33 1544.91 L2288.97 1544.91 L2288.97 1548.85 L2269.06 1548.85 L2269.06 1544.91 Z\" fill=\"#000000\" fill-rule=\"evenodd\" fill-opacity=\"1\" /><path clip-path=\"url(#clip500)\" d=\"M2298.41 1542.97 L2303.29 1542.97 L2303.29 1548.85 L2298.41 1548.85 L2298.41 1542.97 Z\" fill=\"#000000\" fill-rule=\"evenodd\" fill-opacity=\"1\" /><path clip-path=\"url(#clip500)\" d=\"M2323.48 1517.37 Q2319.87 1517.37 2318.04 1520.93 Q2316.23 1524.47 2316.23 1531.6 Q2316.23 1538.71 2318.04 1542.27 Q2319.87 1545.82 2323.48 1545.82 Q2327.11 1545.82 2328.92 1542.27 Q2330.75 1538.71 2330.75 1531.6 Q2330.75 1524.47 2328.92 1520.93 Q2327.11 1517.37 2323.48 1517.37 M2323.48 1513.66 Q2329.29 1513.66 2332.35 1518.27 Q2335.42 1522.85 2335.42 1531.6 Q2335.42 1540.33 2332.35 1544.94 Q2329.29 1549.52 2323.48 1549.52 Q2317.67 1549.52 2314.59 1544.94 Q2311.54 1540.33 2311.54 1531.6 Q2311.54 1522.85 2314.59 1518.27 Q2317.67 1513.66 2323.48 1513.66 Z\" fill=\"#000000\" fill-rule=\"evenodd\" fill-opacity=\"1\" /><polyline clip-path=\"url(#clip502)\" style=\"stroke:#000000; stroke-linecap:butt; stroke-linejoin:round; stroke-width:2; stroke-opacity:0.1; fill:none\" points=\"\n",
       "  192.339,1355.06 2352.76,1355.06 \n",
       "  \"/>\n",
       "<polyline clip-path=\"url(#clip502)\" style=\"stroke:#000000; stroke-linecap:butt; stroke-linejoin:round; stroke-width:2; stroke-opacity:0.1; fill:none\" points=\"\n",
       "  192.339,1184.51 2352.76,1184.51 \n",
       "  \"/>\n",
       "<polyline clip-path=\"url(#clip502)\" style=\"stroke:#000000; stroke-linecap:butt; stroke-linejoin:round; stroke-width:2; stroke-opacity:0.1; fill:none\" points=\"\n",
       "  192.339,1013.96 2352.76,1013.96 \n",
       "  \"/>\n",
       "<polyline clip-path=\"url(#clip502)\" style=\"stroke:#000000; stroke-linecap:butt; stroke-linejoin:round; stroke-width:2; stroke-opacity:0.1; fill:none\" points=\"\n",
       "  192.339,843.405 2352.76,843.405 \n",
       "  \"/>\n",
       "<polyline clip-path=\"url(#clip502)\" style=\"stroke:#000000; stroke-linecap:butt; stroke-linejoin:round; stroke-width:2; stroke-opacity:0.1; fill:none\" points=\"\n",
       "  192.339,672.853 2352.76,672.853 \n",
       "  \"/>\n",
       "<polyline clip-path=\"url(#clip502)\" style=\"stroke:#000000; stroke-linecap:butt; stroke-linejoin:round; stroke-width:2; stroke-opacity:0.1; fill:none\" points=\"\n",
       "  192.339,502.301 2352.76,502.301 \n",
       "  \"/>\n",
       "<polyline clip-path=\"url(#clip502)\" style=\"stroke:#000000; stroke-linecap:butt; stroke-linejoin:round; stroke-width:2; stroke-opacity:0.1; fill:none\" points=\"\n",
       "  192.339,331.749 2352.76,331.749 \n",
       "  \"/>\n",
       "<polyline clip-path=\"url(#clip502)\" style=\"stroke:#000000; stroke-linecap:butt; stroke-linejoin:round; stroke-width:2; stroke-opacity:0.1; fill:none\" points=\"\n",
       "  192.339,161.197 2352.76,161.197 \n",
       "  \"/>\n",
       "<polyline clip-path=\"url(#clip500)\" style=\"stroke:#000000; stroke-linecap:butt; stroke-linejoin:round; stroke-width:4; stroke-opacity:1; fill:none\" points=\"\n",
       "  192.339,1486.45 192.339,47.2441 \n",
       "  \"/>\n",
       "<polyline clip-path=\"url(#clip500)\" style=\"stroke:#000000; stroke-linecap:butt; stroke-linejoin:round; stroke-width:4; stroke-opacity:1; fill:none\" points=\"\n",
       "  192.339,1355.06 211.236,1355.06 \n",
       "  \"/>\n",
       "<polyline clip-path=\"url(#clip500)\" style=\"stroke:#000000; stroke-linecap:butt; stroke-linejoin:round; stroke-width:4; stroke-opacity:1; fill:none\" points=\"\n",
       "  192.339,1184.51 211.236,1184.51 \n",
       "  \"/>\n",
       "<polyline clip-path=\"url(#clip500)\" style=\"stroke:#000000; stroke-linecap:butt; stroke-linejoin:round; stroke-width:4; stroke-opacity:1; fill:none\" points=\"\n",
       "  192.339,1013.96 211.236,1013.96 \n",
       "  \"/>\n",
       "<polyline clip-path=\"url(#clip500)\" style=\"stroke:#000000; stroke-linecap:butt; stroke-linejoin:round; stroke-width:4; stroke-opacity:1; fill:none\" points=\"\n",
       "  192.339,843.405 211.236,843.405 \n",
       "  \"/>\n",
       "<polyline clip-path=\"url(#clip500)\" style=\"stroke:#000000; stroke-linecap:butt; stroke-linejoin:round; stroke-width:4; stroke-opacity:1; fill:none\" points=\"\n",
       "  192.339,672.853 211.236,672.853 \n",
       "  \"/>\n",
       "<polyline clip-path=\"url(#clip500)\" style=\"stroke:#000000; stroke-linecap:butt; stroke-linejoin:round; stroke-width:4; stroke-opacity:1; fill:none\" points=\"\n",
       "  192.339,502.301 211.236,502.301 \n",
       "  \"/>\n",
       "<polyline clip-path=\"url(#clip500)\" style=\"stroke:#000000; stroke-linecap:butt; stroke-linejoin:round; stroke-width:4; stroke-opacity:1; fill:none\" points=\"\n",
       "  192.339,331.749 211.236,331.749 \n",
       "  \"/>\n",
       "<polyline clip-path=\"url(#clip500)\" style=\"stroke:#000000; stroke-linecap:butt; stroke-linejoin:round; stroke-width:4; stroke-opacity:1; fill:none\" points=\"\n",
       "  192.339,161.197 211.236,161.197 \n",
       "  \"/>\n",
       "<path clip-path=\"url(#clip500)\" d=\"M50.9921 1355.51 L80.6679 1355.51 L80.6679 1359.45 L50.9921 1359.45 L50.9921 1355.51 Z\" fill=\"#000000\" fill-rule=\"evenodd\" fill-opacity=\"1\" /><path clip-path=\"url(#clip500)\" d=\"M100.76 1340.86 Q97.1493 1340.86 95.3206 1344.42 Q93.515 1347.97 93.515 1355.1 Q93.515 1362.2 95.3206 1365.77 Q97.1493 1369.31 100.76 1369.31 Q104.395 1369.31 106.2 1365.77 Q108.029 1362.2 108.029 1355.1 Q108.029 1347.97 106.2 1344.42 Q104.395 1340.86 100.76 1340.86 M100.76 1337.16 Q106.571 1337.16 109.626 1341.76 Q112.705 1346.35 112.705 1355.1 Q112.705 1363.82 109.626 1368.43 Q106.571 1373.01 100.76 1373.01 Q94.9502 1373.01 91.8715 1368.43 Q88.816 1363.82 88.816 1355.1 Q88.816 1346.35 91.8715 1341.76 Q94.9502 1337.16 100.76 1337.16 Z\" fill=\"#000000\" fill-rule=\"evenodd\" fill-opacity=\"1\" /><path clip-path=\"url(#clip500)\" d=\"M120.922 1366.46 L125.807 1366.46 L125.807 1372.34 L120.922 1372.34 L120.922 1366.46 Z\" fill=\"#000000\" fill-rule=\"evenodd\" fill-opacity=\"1\" /><path clip-path=\"url(#clip500)\" d=\"M140.019 1368.41 L156.339 1368.41 L156.339 1372.34 L134.394 1372.34 L134.394 1368.41 Q137.056 1365.65 141.64 1361.02 Q146.246 1356.37 147.427 1355.03 Q149.672 1352.5 150.552 1350.77 Q151.455 1349.01 151.455 1347.32 Q151.455 1344.56 149.51 1342.83 Q147.589 1341.09 144.487 1341.09 Q142.288 1341.09 139.834 1341.85 Q137.404 1342.62 134.626 1344.17 L134.626 1339.45 Q137.45 1338.31 139.904 1337.73 Q142.357 1337.16 144.394 1337.16 Q149.765 1337.16 152.959 1339.84 Q156.154 1342.53 156.154 1347.02 Q156.154 1349.15 155.343 1351.07 Q154.556 1352.97 152.45 1355.56 Q151.871 1356.23 148.769 1359.45 Q145.668 1362.64 140.019 1368.41 Z\" fill=\"#000000\" fill-rule=\"evenodd\" fill-opacity=\"1\" /><path clip-path=\"url(#clip500)\" d=\"M99.1632 1170.31 Q95.5521 1170.31 93.7234 1173.87 Q91.9178 1177.41 91.9178 1184.54 Q91.9178 1191.65 93.7234 1195.21 Q95.5521 1198.76 99.1632 1198.76 Q102.797 1198.76 104.603 1195.21 Q106.432 1191.65 106.432 1184.54 Q106.432 1177.41 104.603 1173.87 Q102.797 1170.31 99.1632 1170.31 M99.1632 1166.6 Q104.973 1166.6 108.029 1171.21 Q111.108 1175.79 111.108 1184.54 Q111.108 1193.27 108.029 1197.88 Q104.973 1202.46 99.1632 1202.46 Q93.353 1202.46 90.2743 1197.88 Q87.2188 1193.27 87.2188 1184.54 Q87.2188 1175.79 90.2743 1171.21 Q93.353 1166.6 99.1632 1166.6 Z\" fill=\"#000000\" fill-rule=\"evenodd\" fill-opacity=\"1\" /><path clip-path=\"url(#clip500)\" d=\"M119.325 1195.91 L124.209 1195.91 L124.209 1201.79 L119.325 1201.79 L119.325 1195.91 Z\" fill=\"#000000\" fill-rule=\"evenodd\" fill-opacity=\"1\" /><path clip-path=\"url(#clip500)\" d=\"M144.394 1170.31 Q140.783 1170.31 138.955 1173.87 Q137.149 1177.41 137.149 1184.54 Q137.149 1191.65 138.955 1195.21 Q140.783 1198.76 144.394 1198.76 Q148.029 1198.76 149.834 1195.21 Q151.663 1191.65 151.663 1184.54 Q151.663 1177.41 149.834 1173.87 Q148.029 1170.31 144.394 1170.31 M144.394 1166.6 Q150.205 1166.6 153.26 1171.21 Q156.339 1175.79 156.339 1184.54 Q156.339 1193.27 153.26 1197.88 Q150.205 1202.46 144.394 1202.46 Q138.584 1202.46 135.506 1197.88 Q132.45 1193.27 132.45 1184.54 Q132.45 1175.79 135.506 1171.21 Q138.584 1166.6 144.394 1166.6 Z\" fill=\"#000000\" fill-rule=\"evenodd\" fill-opacity=\"1\" /><path clip-path=\"url(#clip500)\" d=\"M100.76 999.756 Q97.1493 999.756 95.3206 1003.32 Q93.515 1006.86 93.515 1013.99 Q93.515 1021.1 95.3206 1024.66 Q97.1493 1028.2 100.76 1028.2 Q104.395 1028.2 106.2 1024.66 Q108.029 1021.1 108.029 1013.99 Q108.029 1006.86 106.2 1003.32 Q104.395 999.756 100.76 999.756 M100.76 996.052 Q106.571 996.052 109.626 1000.66 Q112.705 1005.24 112.705 1013.99 Q112.705 1022.72 109.626 1027.32 Q106.571 1031.91 100.76 1031.91 Q94.9502 1031.91 91.8715 1027.32 Q88.816 1022.72 88.816 1013.99 Q88.816 1005.24 91.8715 1000.66 Q94.9502 996.052 100.76 996.052 Z\" fill=\"#000000\" fill-rule=\"evenodd\" fill-opacity=\"1\" /><path clip-path=\"url(#clip500)\" d=\"M120.922 1025.36 L125.807 1025.36 L125.807 1031.24 L120.922 1031.24 L120.922 1025.36 Z\" fill=\"#000000\" fill-rule=\"evenodd\" fill-opacity=\"1\" /><path clip-path=\"url(#clip500)\" d=\"M140.019 1027.3 L156.339 1027.3 L156.339 1031.24 L134.394 1031.24 L134.394 1027.3 Q137.056 1024.55 141.64 1019.92 Q146.246 1015.26 147.427 1013.92 Q149.672 1011.4 150.552 1009.66 Q151.455 1007.9 151.455 1006.21 Q151.455 1003.46 149.51 1001.72 Q147.589 999.987 144.487 999.987 Q142.288 999.987 139.834 1000.75 Q137.404 1001.51 134.626 1003.07 L134.626 998.343 Q137.45 997.209 139.904 996.631 Q142.357 996.052 144.394 996.052 Q149.765 996.052 152.959 998.737 Q156.154 1001.42 156.154 1005.91 Q156.154 1008.04 155.343 1009.96 Q154.556 1011.86 152.45 1014.45 Q151.871 1015.13 148.769 1018.34 Q145.668 1021.54 140.019 1027.3 Z\" fill=\"#000000\" fill-rule=\"evenodd\" fill-opacity=\"1\" /><path clip-path=\"url(#clip500)\" d=\"M98.6771 829.204 Q95.066 829.204 93.2373 832.768 Q91.4317 836.31 91.4317 843.44 Q91.4317 850.546 93.2373 854.111 Q95.066 857.652 98.6771 857.652 Q102.311 857.652 104.117 854.111 Q105.946 850.546 105.946 843.44 Q105.946 836.31 104.117 832.768 Q102.311 829.204 98.6771 829.204 M98.6771 825.5 Q104.487 825.5 107.543 830.106 Q110.621 834.69 110.621 843.44 Q110.621 852.166 107.543 856.773 Q104.487 861.356 98.6771 861.356 Q92.8669 861.356 89.7882 856.773 Q86.7327 852.166 86.7327 843.44 Q86.7327 834.69 89.7882 830.106 Q92.8669 825.5 98.6771 825.5 Z\" fill=\"#000000\" fill-rule=\"evenodd\" fill-opacity=\"1\" /><path clip-path=\"url(#clip500)\" d=\"M118.839 854.805 L123.723 854.805 L123.723 860.685 L118.839 860.685 L118.839 854.805 Z\" fill=\"#000000\" fill-rule=\"evenodd\" fill-opacity=\"1\" /><path clip-path=\"url(#clip500)\" d=\"M146.756 830.199 L134.95 848.648 L146.756 848.648 L146.756 830.199 M145.529 826.125 L151.408 826.125 L151.408 848.648 L156.339 848.648 L156.339 852.537 L151.408 852.537 L151.408 860.685 L146.756 860.685 L146.756 852.537 L131.154 852.537 L131.154 848.023 L145.529 826.125 Z\" fill=\"#000000\" fill-rule=\"evenodd\" fill-opacity=\"1\" /><path clip-path=\"url(#clip500)\" d=\"M99.0011 658.652 Q95.39 658.652 93.5613 662.216 Q91.7558 665.758 91.7558 672.888 Q91.7558 679.994 93.5613 683.559 Q95.39 687.101 99.0011 687.101 Q102.635 687.101 104.441 683.559 Q106.27 679.994 106.27 672.888 Q106.27 665.758 104.441 662.216 Q102.635 658.652 99.0011 658.652 M99.0011 654.948 Q104.811 654.948 107.867 659.554 Q110.946 664.138 110.946 672.888 Q110.946 681.614 107.867 686.221 Q104.811 690.804 99.0011 690.804 Q93.191 690.804 90.1123 686.221 Q87.0567 681.614 87.0567 672.888 Q87.0567 664.138 90.1123 659.554 Q93.191 654.948 99.0011 654.948 Z\" fill=\"#000000\" fill-rule=\"evenodd\" fill-opacity=\"1\" /><path clip-path=\"url(#clip500)\" d=\"M119.163 684.253 L124.047 684.253 L124.047 690.133 L119.163 690.133 L119.163 684.253 Z\" fill=\"#000000\" fill-rule=\"evenodd\" fill-opacity=\"1\" /><path clip-path=\"url(#clip500)\" d=\"M144.811 670.989 Q141.663 670.989 139.811 673.142 Q137.982 675.295 137.982 679.045 Q137.982 682.772 139.811 684.948 Q141.663 687.101 144.811 687.101 Q147.959 687.101 149.788 684.948 Q151.64 682.772 151.64 679.045 Q151.64 675.295 149.788 673.142 Q147.959 670.989 144.811 670.989 M154.093 656.337 L154.093 660.596 Q152.334 659.763 150.529 659.323 Q148.746 658.883 146.987 658.883 Q142.357 658.883 139.904 662.008 Q137.473 665.133 137.126 671.452 Q138.492 669.439 140.552 668.374 Q142.612 667.286 145.089 667.286 Q150.297 667.286 153.306 670.457 Q156.339 673.605 156.339 679.045 Q156.339 684.369 153.191 687.587 Q150.043 690.804 144.811 690.804 Q138.816 690.804 135.644 686.221 Q132.473 681.614 132.473 672.888 Q132.473 664.693 136.362 659.832 Q140.251 654.948 146.802 654.948 Q148.561 654.948 150.343 655.295 Q152.149 655.642 154.093 656.337 Z\" fill=\"#000000\" fill-rule=\"evenodd\" fill-opacity=\"1\" /><path clip-path=\"url(#clip500)\" d=\"M99.2558 488.1 Q95.6447 488.1 93.816 491.664 Q92.0104 495.206 92.0104 502.336 Q92.0104 509.442 93.816 513.007 Q95.6447 516.549 99.2558 516.549 Q102.89 516.549 104.696 513.007 Q106.524 509.442 106.524 502.336 Q106.524 495.206 104.696 491.664 Q102.89 488.1 99.2558 488.1 M99.2558 484.396 Q105.066 484.396 108.121 489.002 Q111.2 493.586 111.2 502.336 Q111.2 511.062 108.121 515.669 Q105.066 520.252 99.2558 520.252 Q93.4456 520.252 90.3669 515.669 Q87.3114 511.062 87.3114 502.336 Q87.3114 493.586 90.3669 489.002 Q93.4456 484.396 99.2558 484.396 Z\" fill=\"#000000\" fill-rule=\"evenodd\" fill-opacity=\"1\" /><path clip-path=\"url(#clip500)\" d=\"M119.418 513.701 L124.302 513.701 L124.302 519.581 L119.418 519.581 L119.418 513.701 Z\" fill=\"#000000\" fill-rule=\"evenodd\" fill-opacity=\"1\" /><path clip-path=\"url(#clip500)\" d=\"M144.487 503.169 Q141.154 503.169 139.232 504.951 Q137.334 506.734 137.334 509.859 Q137.334 512.984 139.232 514.766 Q141.154 516.549 144.487 516.549 Q147.82 516.549 149.742 514.766 Q151.663 512.961 151.663 509.859 Q151.663 506.734 149.742 504.951 Q147.843 503.169 144.487 503.169 M139.811 501.178 Q136.802 500.438 135.112 498.377 Q133.445 496.317 133.445 493.354 Q133.445 489.211 136.385 486.803 Q139.348 484.396 144.487 484.396 Q149.649 484.396 152.589 486.803 Q155.529 489.211 155.529 493.354 Q155.529 496.317 153.839 498.377 Q152.172 500.438 149.186 501.178 Q152.566 501.965 154.441 504.257 Q156.339 506.549 156.339 509.859 Q156.339 514.882 153.26 517.567 Q150.205 520.252 144.487 520.252 Q138.769 520.252 135.691 517.567 Q132.635 514.882 132.635 509.859 Q132.635 506.549 134.533 504.257 Q136.431 501.965 139.811 501.178 M138.098 493.794 Q138.098 496.479 139.765 497.984 Q141.455 499.488 144.487 499.488 Q147.496 499.488 149.186 497.984 Q150.899 496.479 150.899 493.794 Q150.899 491.109 149.186 489.604 Q147.496 488.1 144.487 488.1 Q141.455 488.1 139.765 489.604 Q138.098 491.109 138.098 493.794 Z\" fill=\"#000000\" fill-rule=\"evenodd\" fill-opacity=\"1\" /><path clip-path=\"url(#clip500)\" d=\"M89.9734 345.094 L97.6122 345.094 L97.6122 318.728 L89.3021 320.395 L89.3021 316.136 L97.566 314.469 L102.242 314.469 L102.242 345.094 L109.881 345.094 L109.881 349.029 L89.9734 349.029 L89.9734 345.094 Z\" fill=\"#000000\" fill-rule=\"evenodd\" fill-opacity=\"1\" /><path clip-path=\"url(#clip500)\" d=\"M119.325 343.149 L124.209 343.149 L124.209 349.029 L119.325 349.029 L119.325 343.149 Z\" fill=\"#000000\" fill-rule=\"evenodd\" fill-opacity=\"1\" /><path clip-path=\"url(#clip500)\" d=\"M144.394 317.548 Q140.783 317.548 138.955 321.112 Q137.149 324.654 137.149 331.784 Q137.149 338.89 138.955 342.455 Q140.783 345.997 144.394 345.997 Q148.029 345.997 149.834 342.455 Q151.663 338.89 151.663 331.784 Q151.663 324.654 149.834 321.112 Q148.029 317.548 144.394 317.548 M144.394 313.844 Q150.205 313.844 153.26 318.45 Q156.339 323.034 156.339 331.784 Q156.339 340.511 153.26 345.117 Q150.205 349.7 144.394 349.7 Q138.584 349.7 135.506 345.117 Q132.45 340.511 132.45 331.784 Q132.45 323.034 135.506 318.45 Q138.584 313.844 144.394 313.844 Z\" fill=\"#000000\" fill-rule=\"evenodd\" fill-opacity=\"1\" /><path clip-path=\"url(#clip500)\" d=\"M91.5706 174.542 L99.2095 174.542 L99.2095 148.176 L90.8993 149.843 L90.8993 145.584 L99.1632 143.917 L103.839 143.917 L103.839 174.542 L111.478 174.542 L111.478 178.477 L91.5706 178.477 L91.5706 174.542 Z\" fill=\"#000000\" fill-rule=\"evenodd\" fill-opacity=\"1\" /><path clip-path=\"url(#clip500)\" d=\"M120.922 172.597 L125.807 172.597 L125.807 178.477 L120.922 178.477 L120.922 172.597 Z\" fill=\"#000000\" fill-rule=\"evenodd\" fill-opacity=\"1\" /><path clip-path=\"url(#clip500)\" d=\"M140.019 174.542 L156.339 174.542 L156.339 178.477 L134.394 178.477 L134.394 174.542 Q137.056 171.787 141.64 167.158 Q146.246 162.505 147.427 161.162 Q149.672 158.639 150.552 156.903 Q151.455 155.144 151.455 153.454 Q151.455 150.699 149.51 148.963 Q147.589 147.227 144.487 147.227 Q142.288 147.227 139.834 147.991 Q137.404 148.755 134.626 150.306 L134.626 145.584 Q137.45 144.449 139.904 143.871 Q142.357 143.292 144.394 143.292 Q149.765 143.292 152.959 145.977 Q156.154 148.662 156.154 153.153 Q156.154 155.283 155.343 157.204 Q154.556 159.102 152.45 161.695 Q151.871 162.366 148.769 165.584 Q145.668 168.778 140.019 174.542 Z\" fill=\"#000000\" fill-rule=\"evenodd\" fill-opacity=\"1\" /><polyline clip-path=\"url(#clip502)\" style=\"stroke:#009af9; stroke-linecap:butt; stroke-linejoin:round; stroke-width:12; stroke-opacity:1; fill:none\" points=\"\n",
       "  253.483,1184.51 274.07,1184.51 294.657,1184.51 315.244,1184.51 335.831,1161.77 356.418,1093.55 377.006,1025.33 397.593,957.106 418.18,888.885 438.767,820.665 \n",
       "  459.354,752.444 479.941,684.223 500.529,616.002 521.116,547.781 541.703,479.561 562.29,411.34 582.877,343.119 603.464,388.6 624.052,456.82 644.639,525.041 \n",
       "  665.226,593.262 685.813,661.483 706.4,729.704 726.987,797.924 747.575,866.145 768.162,934.366 788.749,1002.59 809.336,1070.81 829.923,1139.03 850.51,1184.51 \n",
       "  871.098,1184.51 891.685,1184.51 912.272,1184.51 932.859,1184.51 953.446,1184.51 974.033,1184.51 994.621,1184.51 1015.21,1184.51 1035.79,1184.51 1056.38,1184.51 \n",
       "  1076.97,331.749 1097.56,331.749 1118.14,331.749 1138.73,331.749 1159.32,331.749 1179.91,331.749 1200.49,331.749 1221.08,331.749 1241.67,331.749 1262.25,331.749 \n",
       "  1282.84,331.749 1303.43,331.749 1324.02,331.749 1344.6,331.749 1365.19,331.749 1385.78,331.749 1406.36,331.749 1426.95,331.749 1447.54,331.749 1468.13,331.749 \n",
       "  1488.71,1184.51 1509.3,1184.51 1529.89,1184.51 1550.47,1184.51 1571.06,1184.51 1591.65,1184.51 1612.24,1184.51 1632.82,1184.51 1653.41,1184.51 1674,1184.51 \n",
       "  1694.58,1184.51 1715.17,1178.54 1735.76,1147.65 1756.35,1092.28 1776.93,1015.92 1797.52,923.358 1818.11,820.416 1838.69,713.56 1859.28,609.505 1879.87,514.788 \n",
       "  1900.46,435.361 1921.04,376.215 1941.63,341.066 1962.22,332.123 1982.8,349.947 2003.39,393.419 2023.98,459.807 2044.57,544.939 2065.15,643.467 2085.74,749.199 \n",
       "  2106.33,855.493 2126.91,955.669 2147.5,1043.43 2168.09,1113.27 2188.68,1160.79 2209.26,1183.01 2229.85,1184.51 2250.44,1184.51 2271.02,1184.51 2291.61,1184.51 \n",
       "  \n",
       "  \"/>\n",
       "<polyline clip-path=\"url(#clip502)\" style=\"stroke:#e26f46; stroke-linecap:butt; stroke-linejoin:round; stroke-width:12; stroke-opacity:1; fill:none\" points=\"\n",
       "  253.483,1174.82 274.07,1176 294.657,1187.35 315.244,1187.05 335.831,1175.84 356.418,1180.16 377.006,1197.66 397.593,1204.63 418.18,1185.77 438.767,1145.41 \n",
       "  459.354,1084.45 479.941,1030.04 500.529,946.132 521.116,899.285 541.703,819.858 562.29,738.295 582.877,694.188 603.464,636.186 624.052,537.719 644.639,438.136 \n",
       "  665.226,380.934 685.813,375.728 706.4,409.319 726.987,463.331 747.575,526.424 768.162,595.922 788.749,657.098 809.336,733.77 829.923,800.742 850.51,857.768 \n",
       "  871.098,929.064 891.685,1019.45 912.272,1078.65 932.859,1174.72 953.446,1088.27 974.033,1321.89 994.621,996.468 1015.21,1305.98 1035.79,1260.22 1056.38,988.499 \n",
       "  1076.97,1147.06 1097.56,1418.87 1118.14,1372.74 1138.73,1064.57 1159.32,734.924 1179.91,512.779 1200.49,399.995 1221.08,353.749 1241.67,337.936 1262.25,333.029 \n",
       "  1282.84,333.029 1303.43,328.121 1324.02,343.934 1344.6,297.687 1365.19,410.471 1385.78,188.325 1406.36,517.974 1426.95,209.802 1447.54,255.929 1468.13,527.736 \n",
       "  1488.71,369.195 1509.3,97.3856 1529.89,143.515 1550.47,451.686 1571.06,781.303 1591.65,1003.62 1612.24,1115.84 1632.82,1163.36 1653.41,1177.33 1674,1183.12 \n",
       "  1694.58,1185.99 1715.17,1183.26 1735.76,1180.84 1756.35,1185.17 1776.93,1193.3 1797.52,1195.33 1818.11,1181.58 1838.69,1146.51 1859.28,1089.06 1879.87,1011.47 \n",
       "  1900.46,918.159 1921.04,814.834 1941.63,707.956 1962.22,604.233 1982.8,510.181 2003.39,431.707 2023.98,373.746 2044.57,339.932 2065.15,332.398 2085.74,351.646 \n",
       "  2106.33,396.235 2126.91,464.283 2147.5,548.986 2168.09,649.949 2188.68,754.724 2209.26,859.213 2229.85,961.749 2250.44,1051.42 2271.02,1115.57 2291.61,1153.33 \n",
       "  \n",
       "  \"/>\n",
       "<polyline clip-path=\"url(#clip502)\" style=\"stroke:#3da44d; stroke-linecap:butt; stroke-linejoin:round; stroke-width:12; stroke-opacity:1; fill:none\" points=\"\n",
       "  253.483,865.685 274.07,973.402 294.657,1057.19 315.244,1108.17 335.831,1142.07 356.418,1175.72 377.006,1178.58 397.593,1184.71 418.18,1162.95 438.767,1184.18 \n",
       "  459.354,1198.07 479.941,1201.4 500.529,1213.02 521.116,1184.03 541.703,1127.24 562.29,1084.84 582.877,1034.46 603.464,952.784 624.052,870.722 644.639,817.96 \n",
       "  665.226,772.617 685.813,709.468 706.4,606.334 726.987,507.545 747.575,426.598 768.162,386.104 788.749,382.598 809.336,440.879 829.923,428.679 850.51,594.695 \n",
       "  871.098,492.059 891.685,807.425 912.272,596.56 932.859,839.836 953.446,922.973 974.033,817.701 994.621,1084.91 1015.21,1186.47 1035.79,1022.01 1056.38,1096.74 \n",
       "  1076.97,1307.07 1097.56,1264 1118.14,1058.84 1138.73,1022.17 1159.32,1209.82 1179.91,1397.06 1200.49,1415.22 1221.08,1207.16 1241.67,993.983 1262.25,641.147 \n",
       "  1282.84,641.147 1303.43,288.31 1324.02,501.486 1344.6,293.412 1365.19,275.289 1385.78,462.417 1406.36,275.115 1426.95,237.46 1447.54,445.193 1468.13,396.046 \n",
       "  1488.71,198.745 1509.3,248.459 1529.89,455.458 1550.47,493.926 1571.06,306.784 1591.65,116.189 1612.24,109.231 1632.82,290.853 1653.41,558.867 1674,807.775 \n",
       "  1694.58,983.54 1715.17,1087.27 1735.76,1143.52 1756.35,1171.39 1776.93,1180.58 1797.52,1179.53 1818.11,1177.95 1838.69,1182.35 1859.28,1192.3 1879.87,1201.39 \n",
       "  1900.46,1200.98 1921.04,1183.81 1941.63,1145.77 1962.22,1086.21 1982.8,1007.12 2003.39,913.177 2023.98,808.931 2044.57,702.916 2065.15,598.322 2085.74,506.104 \n",
       "  2106.33,428.217 2126.91,370.578 2147.5,339.576 2168.09,333.048 2188.68,352.69 2209.26,397.852 2229.85,472.327 2250.44,552.038 2271.02,653.231 2291.61,760.261 \n",
       "  \n",
       "  \"/>\n",
       "<polyline clip-path=\"url(#clip502)\" style=\"stroke:#c271d2; stroke-linecap:butt; stroke-linejoin:round; stroke-width:12; stroke-opacity:1; fill:none\" points=\"\n",
       "  253.483,401.966 274.07,479.335 294.657,547.916 315.244,660.551 335.831,766.142 356.418,886.046 377.006,977.521 397.593,1039.81 418.18,1112.79 438.767,1153.02 \n",
       "  459.354,1161.89 479.941,1173.37 500.529,1171.22 521.116,1164.9 541.703,1186.44 562.29,1218.17 582.877,1213.42 603.464,1195.66 624.052,1171.91 644.639,1149.59 \n",
       "  665.226,1085.78 685.813,1014.44 706.4,916.689 726.987,925.508 747.575,777.954 768.162,873.5 788.749,577.207 809.336,702.088 829.923,404.986 850.51,430.316 \n",
       "  871.098,473.989 891.685,290.202 912.272,463.929 932.859,538.068 953.446,440.214 974.033,615.848 994.621,754.667 1015.21,653.849 1035.79,709.139 1056.38,953.319 \n",
       "  1076.97,1039.91 1097.56,938.108 1118.14,1008.78 1138.73,1151.24 1159.32,1359.99 1179.91,1105.08 1200.49,1157.56 1221.08,906.083 1241.67,1254.46 1262.25,1350.24 \n",
       "  1282.84,1350.5 1303.43,1445.72 1324.02,1098.93 1344.6,843.972 1365.19,798.764 1385.78,529.879 1406.36,345.809 1426.95,448.578 1447.54,435.491 1468.13,259.221 \n",
       "  1488.71,257.303 1509.3,417.672 1529.89,435.226 1550.47,274.598 1571.06,190.64 1591.65,306.037 1612.24,468.984 1632.82,488.286 1653.41,342.463 1674,161.469 \n",
       "  1694.58,87.9763 1715.17,174.2 1735.76,375.694 1756.35,610.544 1776.93,817.04 1797.52,971.272 1818.11,1073.97 1838.69,1134.12 1859.28,1162.37 1879.87,1171.21 \n",
       "  1900.46,1172.62 1921.04,1177.08 1941.63,1186.06 1962.22,1199.63 1982.8,1207.44 2003.39,1205.57 2023.98,1185.8 2044.57,1144.28 2065.15,1084.09 2085.74,1002.61 \n",
       "  2106.33,908.336 2126.91,802.224 2147.5,699.778 2168.09,591.057 2188.68,500.959 2209.26,427.513 2229.85,366.633 2250.44,337.99 2271.02,333.292 2291.61,355.314 \n",
       "  \n",
       "  \"/>\n",
       "<polyline clip-path=\"url(#clip502)\" style=\"stroke:#ac8d18; stroke-linecap:butt; stroke-linejoin:round; stroke-width:12; stroke-opacity:1; fill:none\" points=\"\n",
       "  253.483,420.296 274.07,363.554 294.657,337.854 315.244,331.456 335.831,366.446 356.418,405.928 377.006,460.779 397.593,564.999 418.18,675.327 438.767,775.615 \n",
       "  459.354,881.868 479.941,981.036 500.529,1046.12 521.116,1111.96 541.703,1149.7 562.29,1164.88 582.877,1139.81 603.464,1179.38 624.052,1152.02 644.639,1263.96 \n",
       "  665.226,1119.59 685.813,1309.87 706.4,1101.51 726.987,1275.03 747.575,1100.34 768.162,1032.49 788.749,1081.52 809.336,861.134 829.923,927.555 850.51,919.05 \n",
       "  871.098,685.05 891.685,688.6 912.272,638.317 932.859,409.004 953.446,407.877 974.033,476.047 994.621,386.625 1015.21,329.993 1035.79,571.629 1056.38,565.969 \n",
       "  1076.97,624.85 1097.56,458.999 1118.14,867.582 1138.73,812.002 1159.32,909.188 1179.91,881.664 1200.49,889.813 1221.08,1259.1 1241.67,1242.98 1262.25,1116.87 \n",
       "  1282.84,1131.48 1303.43,989.039 1324.02,1047.32 1344.6,1364.66 1365.19,1427.57 1385.78,1318.43 1406.36,1307.15 1426.95,1171.92 1447.54,830.606 1468.13,609.196 \n",
       "  1488.71,601.537 1509.3,542.31 1529.89,353.664 1550.47,259.141 1571.06,354.701 1591.65,454.403 1612.24,393.305 1632.82,247.364 1653.41,199.014 1674,305.47 \n",
       "  1694.58,454.25 1715.17,498.851 1735.76,396.21 1756.35,225.43 1776.93,105.582 1797.52,109.466 1818.11,233.196 1838.69,428.622 1859.28,637.421 1879.87,824.405 \n",
       "  1900.46,967.93 1921.04,1066.34 1941.63,1124.24 1962.22,1150.25 1982.8,1162.7 2003.39,1167.47 2023.98,1178.58 2044.57,1189.59 2065.15,1207.46 2085.74,1211.9 \n",
       "  2106.33,1208.54 2126.91,1189.65 2147.5,1141.04 2168.09,1081.43 2188.68,999.547 2209.26,903.798 2229.85,793.782 2250.44,698.058 2271.02,581.144 2291.61,502.598 \n",
       "  \n",
       "  \"/>\n",
       "</svg>\n"
      ]
     },
     "execution_count": 11,
     "metadata": {},
     "output_type": "execute_result"
    }
   ],
   "source": [
    "x, thist, uhist = fv_solve0(flux_advection, testfunc, 100, .4)\n",
    "plot(x, uhist[:,1:5:end], legend=:none)"
   ]
  },
  {
   "cell_type": "markdown",
   "id": "60c3cf90",
   "metadata": {
    "slideshow": {
     "slide_type": "fragment"
    }
   },
   "source": [
    "Evidenitly our method has serious problems for discontinuous solutions and nonlinear problems."
   ]
  },
  {
   "cell_type": "markdown",
   "id": "e37cafb6",
   "metadata": {
    "slideshow": {
     "slide_type": "slide"
    }
   },
   "source": [
    "# Shocks, rarefactions, and Riemann problems"
   ]
  },
  {
   "cell_type": "markdown",
   "id": "fde825ad",
   "metadata": {
    "cell_style": "split"
   },
   "source": [
    "Burger's equation evolved a discontinuity in finite time from a smooth initial condition.  It turns out that all nonlinear hyperbolic equations have this property.  For Burgers, the peak travels to the right, overtaking the troughs.\n",
    "* This is called a **shock** and corresponds to characteristics converging when the gradient of the solution is negative.\n",
    "* When the gradient is positive, the characteristics diverge to produce a **rarefaction**.  The relationship to positive and negative gradients is reversed for a non-convex flux like Traffic."
   ]
  },
  {
   "cell_type": "markdown",
   "id": "366590cb",
   "metadata": {
    "cell_style": "split"
   },
   "source": [
    "We need a solution method that can correctly compute fluxes in case of a discontinuous solution.  Finite volume methods represent this in terms of a Riemann problem,\n",
    "$$ u(0, x) = \\begin{cases}\n",
    "u_L & \\text{if} & x < 0 \\\\\n",
    "u_R & \\text{if} & x > 0\n",
    "\\end{cases}\n",
    "$$\n",
    "where $u_L$ and $u_R$ are given.  The solution of a Riemann problem is the solution $u(t, x)$ at positive times.  In our finite volume schemes, it will be sufficient to compute the flux at $x=0$ at an infinitessimal positive time\n",
    "$$\\tilde F(u_L, u_R) = \\lim_{t\\to 0} F\\big(u(t, 0) \\big) . $$\n",
    "We call $\\tilde F$ the **numerical flux** and require that it must be consistent when there is no discontinuity,\n",
    "$$ \\tilde F(u, u) = F(u) .$$"
   ]
  },
  {
   "cell_type": "markdown",
   "id": "18ddf816",
   "metadata": {
    "slideshow": {
     "slide_type": "slide"
    }
   },
   "source": [
    "# A solver based on Riemann problems"
   ]
  },
  {
   "cell_type": "code",
   "execution_count": 12,
   "id": "1c459966",
   "metadata": {
    "cell_style": "split"
   },
   "outputs": [
    {
     "data": {
      "text/plain": [
       "fv_solve1 (generic function with 2 methods)"
      ]
     },
     "execution_count": 12,
     "metadata": {},
     "output_type": "execute_result"
    }
   ],
   "source": [
    "riemann_advection(uL, uR) = 1*uL # velocity is +1\n",
    "\n",
    "function fv_solve1(riemann, u_init, n, tfinal=1)\n",
    "    h = 2 / n\n",
    "    x = LinRange(-1+h/2, 1-h/2, n) # cell midpoints (centroids)\n",
    "    idxL = 1 .+ (n-1:2*n-2) .% n\n",
    "    idxR = 1 .+ (n+1:2*n) .% n\n",
    "    function rhs(t, u)\n",
    "        fluxL = riemann(u[idxL], u)\n",
    "        fluxR = riemann(u, u[idxR])\n",
    "        (fluxL - fluxR) / h\n",
    "    end\n",
    "    thist, uhist = ode_rk_explicit(rhs, u_init.(x), h=h, tfinal=tfinal)\n",
    "    x, thist, uhist\n",
    "end"
   ]
  },
  {
   "cell_type": "code",
   "execution_count": 13,
   "id": "f5335c2c",
   "metadata": {
    "cell_style": "split"
   },
   "outputs": [
    {
     "data": {
      "image/svg+xml": [
       "<?xml version=\"1.0\" encoding=\"utf-8\"?>\n",
       "<svg xmlns=\"http://www.w3.org/2000/svg\" xmlns:xlink=\"http://www.w3.org/1999/xlink\" width=\"600\" height=\"400\" viewBox=\"0 0 2400 1600\">\n",
       "<defs>\n",
       "  <clipPath id=\"clip540\">\n",
       "    <rect x=\"0\" y=\"0\" width=\"2400\" height=\"1600\"/>\n",
       "  </clipPath>\n",
       "</defs>\n",
       "<path clip-path=\"url(#clip540)\" d=\"\n",
       "M0 1600 L2400 1600 L2400 0 L0 0  Z\n",
       "  \" fill=\"#ffffff\" fill-rule=\"evenodd\" fill-opacity=\"1\"/>\n",
       "<defs>\n",
       "  <clipPath id=\"clip541\">\n",
       "    <rect x=\"480\" y=\"0\" width=\"1681\" height=\"1600\"/>\n",
       "  </clipPath>\n",
       "</defs>\n",
       "<path clip-path=\"url(#clip540)\" d=\"\n",
       "M186.274 1486.45 L2352.76 1486.45 L2352.76 47.2441 L186.274 47.2441  Z\n",
       "  \" fill=\"#ffffff\" fill-rule=\"evenodd\" fill-opacity=\"1\"/>\n",
       "<defs>\n",
       "  <clipPath id=\"clip542\">\n",
       "    <rect x=\"186\" y=\"47\" width=\"2167\" height=\"1440\"/>\n",
       "  </clipPath>\n",
       "</defs>\n",
       "<polyline clip-path=\"url(#clip542)\" style=\"stroke:#000000; stroke-linecap:butt; stroke-linejoin:round; stroke-width:2; stroke-opacity:0.1; fill:none\" points=\"\n",
       "  237.267,1486.45 237.267,47.2441 \n",
       "  \"/>\n",
       "<polyline clip-path=\"url(#clip542)\" style=\"stroke:#000000; stroke-linecap:butt; stroke-linejoin:round; stroke-width:2; stroke-opacity:0.1; fill:none\" points=\"\n",
       "  753.391,1486.45 753.391,47.2441 \n",
       "  \"/>\n",
       "<polyline clip-path=\"url(#clip542)\" style=\"stroke:#000000; stroke-linecap:butt; stroke-linejoin:round; stroke-width:2; stroke-opacity:0.1; fill:none\" points=\"\n",
       "  1269.51,1486.45 1269.51,47.2441 \n",
       "  \"/>\n",
       "<polyline clip-path=\"url(#clip542)\" style=\"stroke:#000000; stroke-linecap:butt; stroke-linejoin:round; stroke-width:2; stroke-opacity:0.1; fill:none\" points=\"\n",
       "  1785.64,1486.45 1785.64,47.2441 \n",
       "  \"/>\n",
       "<polyline clip-path=\"url(#clip542)\" style=\"stroke:#000000; stroke-linecap:butt; stroke-linejoin:round; stroke-width:2; stroke-opacity:0.1; fill:none\" points=\"\n",
       "  2301.76,1486.45 2301.76,47.2441 \n",
       "  \"/>\n",
       "<polyline clip-path=\"url(#clip540)\" style=\"stroke:#000000; stroke-linecap:butt; stroke-linejoin:round; stroke-width:4; stroke-opacity:1; fill:none\" points=\"\n",
       "  186.274,1486.45 2352.76,1486.45 \n",
       "  \"/>\n",
       "<polyline clip-path=\"url(#clip540)\" style=\"stroke:#000000; stroke-linecap:butt; stroke-linejoin:round; stroke-width:4; stroke-opacity:1; fill:none\" points=\"\n",
       "  237.267,1486.45 237.267,1467.55 \n",
       "  \"/>\n",
       "<polyline clip-path=\"url(#clip540)\" style=\"stroke:#000000; stroke-linecap:butt; stroke-linejoin:round; stroke-width:4; stroke-opacity:1; fill:none\" points=\"\n",
       "  753.391,1486.45 753.391,1467.55 \n",
       "  \"/>\n",
       "<polyline clip-path=\"url(#clip540)\" style=\"stroke:#000000; stroke-linecap:butt; stroke-linejoin:round; stroke-width:4; stroke-opacity:1; fill:none\" points=\"\n",
       "  1269.51,1486.45 1269.51,1467.55 \n",
       "  \"/>\n",
       "<polyline clip-path=\"url(#clip540)\" style=\"stroke:#000000; stroke-linecap:butt; stroke-linejoin:round; stroke-width:4; stroke-opacity:1; fill:none\" points=\"\n",
       "  1785.64,1486.45 1785.64,1467.55 \n",
       "  \"/>\n",
       "<polyline clip-path=\"url(#clip540)\" style=\"stroke:#000000; stroke-linecap:butt; stroke-linejoin:round; stroke-width:4; stroke-opacity:1; fill:none\" points=\"\n",
       "  2301.76,1486.45 2301.76,1467.55 \n",
       "  \"/>\n",
       "<path clip-path=\"url(#clip540)\" d=\"M183.795 1532.02 L213.471 1532.02 L213.471 1535.95 L183.795 1535.95 L183.795 1532.02 Z\" fill=\"#000000\" fill-rule=\"evenodd\" fill-opacity=\"1\" /><path clip-path=\"url(#clip540)\" d=\"M224.374 1544.91 L232.012 1544.91 L232.012 1518.55 L223.702 1520.21 L223.702 1515.95 L231.966 1514.29 L236.642 1514.29 L236.642 1544.91 L244.281 1544.91 L244.281 1548.85 L224.374 1548.85 L224.374 1544.91 Z\" fill=\"#000000\" fill-rule=\"evenodd\" fill-opacity=\"1\" /><path clip-path=\"url(#clip540)\" d=\"M253.725 1542.97 L258.61 1542.97 L258.61 1548.85 L253.725 1548.85 L253.725 1542.97 Z\" fill=\"#000000\" fill-rule=\"evenodd\" fill-opacity=\"1\" /><path clip-path=\"url(#clip540)\" d=\"M278.795 1517.37 Q275.184 1517.37 273.355 1520.93 Q271.549 1524.47 271.549 1531.6 Q271.549 1538.71 273.355 1542.27 Q275.184 1545.82 278.795 1545.82 Q282.429 1545.82 284.234 1542.27 Q286.063 1538.71 286.063 1531.6 Q286.063 1524.47 284.234 1520.93 Q282.429 1517.37 278.795 1517.37 M278.795 1513.66 Q284.605 1513.66 287.66 1518.27 Q290.739 1522.85 290.739 1531.6 Q290.739 1540.33 287.66 1544.94 Q284.605 1549.52 278.795 1549.52 Q272.984 1549.52 269.906 1544.94 Q266.85 1540.33 266.85 1531.6 Q266.85 1522.85 269.906 1518.27 Q272.984 1513.66 278.795 1513.66 Z\" fill=\"#000000\" fill-rule=\"evenodd\" fill-opacity=\"1\" /><path clip-path=\"url(#clip540)\" d=\"M700.417 1532.02 L730.093 1532.02 L730.093 1535.95 L700.417 1535.95 L700.417 1532.02 Z\" fill=\"#000000\" fill-rule=\"evenodd\" fill-opacity=\"1\" /><path clip-path=\"url(#clip540)\" d=\"M750.185 1517.37 Q746.574 1517.37 744.745 1520.93 Q742.94 1524.47 742.94 1531.6 Q742.94 1538.71 744.745 1542.27 Q746.574 1545.82 750.185 1545.82 Q753.819 1545.82 755.625 1542.27 Q757.453 1538.71 757.453 1531.6 Q757.453 1524.47 755.625 1520.93 Q753.819 1517.37 750.185 1517.37 M750.185 1513.66 Q755.995 1513.66 759.051 1518.27 Q762.129 1522.85 762.129 1531.6 Q762.129 1540.33 759.051 1544.94 Q755.995 1549.52 750.185 1549.52 Q744.375 1549.52 741.296 1544.94 Q738.241 1540.33 738.241 1531.6 Q738.241 1522.85 741.296 1518.27 Q744.375 1513.66 750.185 1513.66 Z\" fill=\"#000000\" fill-rule=\"evenodd\" fill-opacity=\"1\" /><path clip-path=\"url(#clip540)\" d=\"M770.347 1542.97 L775.231 1542.97 L775.231 1548.85 L770.347 1548.85 L770.347 1542.97 Z\" fill=\"#000000\" fill-rule=\"evenodd\" fill-opacity=\"1\" /><path clip-path=\"url(#clip540)\" d=\"M785.463 1514.29 L803.819 1514.29 L803.819 1518.22 L789.745 1518.22 L789.745 1526.7 Q790.763 1526.35 791.782 1526.19 Q792.801 1526 793.819 1526 Q799.606 1526 802.986 1529.17 Q806.365 1532.34 806.365 1537.76 Q806.365 1543.34 802.893 1546.44 Q799.421 1549.52 793.101 1549.52 Q790.926 1549.52 788.657 1549.15 Q786.412 1548.78 784.004 1548.04 L784.004 1543.34 Q786.088 1544.47 788.31 1545.03 Q790.532 1545.58 793.009 1545.58 Q797.013 1545.58 799.351 1543.48 Q801.689 1541.37 801.689 1537.76 Q801.689 1534.15 799.351 1532.04 Q797.013 1529.94 793.009 1529.94 Q791.134 1529.94 789.259 1530.35 Q787.407 1530.77 785.463 1531.65 L785.463 1514.29 Z\" fill=\"#000000\" fill-rule=\"evenodd\" fill-opacity=\"1\" /><path clip-path=\"url(#clip540)\" d=\"M1246.9 1517.37 Q1243.29 1517.37 1241.46 1520.93 Q1239.65 1524.47 1239.65 1531.6 Q1239.65 1538.71 1241.46 1542.27 Q1243.29 1545.82 1246.9 1545.82 Q1250.53 1545.82 1252.34 1542.27 Q1254.17 1538.71 1254.17 1531.6 Q1254.17 1524.47 1252.34 1520.93 Q1250.53 1517.37 1246.9 1517.37 M1246.9 1513.66 Q1252.71 1513.66 1255.77 1518.27 Q1258.84 1522.85 1258.84 1531.6 Q1258.84 1540.33 1255.77 1544.94 Q1252.71 1549.52 1246.9 1549.52 Q1241.09 1549.52 1238.01 1544.94 Q1234.95 1540.33 1234.95 1531.6 Q1234.95 1522.85 1238.01 1518.27 Q1241.09 1513.66 1246.9 1513.66 Z\" fill=\"#000000\" fill-rule=\"evenodd\" fill-opacity=\"1\" /><path clip-path=\"url(#clip540)\" d=\"M1267.06 1542.97 L1271.95 1542.97 L1271.95 1548.85 L1267.06 1548.85 L1267.06 1542.97 Z\" fill=\"#000000\" fill-rule=\"evenodd\" fill-opacity=\"1\" /><path clip-path=\"url(#clip540)\" d=\"M1292.13 1517.37 Q1288.52 1517.37 1286.69 1520.93 Q1284.89 1524.47 1284.89 1531.6 Q1284.89 1538.71 1286.69 1542.27 Q1288.52 1545.82 1292.13 1545.82 Q1295.76 1545.82 1297.57 1542.27 Q1299.4 1538.71 1299.4 1531.6 Q1299.4 1524.47 1297.57 1520.93 Q1295.76 1517.37 1292.13 1517.37 M1292.13 1513.66 Q1297.94 1513.66 1301 1518.27 Q1304.07 1522.85 1304.07 1531.6 Q1304.07 1540.33 1301 1544.94 Q1297.94 1549.52 1292.13 1549.52 Q1286.32 1549.52 1283.24 1544.94 Q1280.19 1540.33 1280.19 1531.6 Q1280.19 1522.85 1283.24 1518.27 Q1286.32 1513.66 1292.13 1513.66 Z\" fill=\"#000000\" fill-rule=\"evenodd\" fill-opacity=\"1\" /><path clip-path=\"url(#clip540)\" d=\"M1763.52 1517.37 Q1759.91 1517.37 1758.08 1520.93 Q1756.28 1524.47 1756.28 1531.6 Q1756.28 1538.71 1758.08 1542.27 Q1759.91 1545.82 1763.52 1545.82 Q1767.16 1545.82 1768.96 1542.27 Q1770.79 1538.71 1770.79 1531.6 Q1770.79 1524.47 1768.96 1520.93 Q1767.16 1517.37 1763.52 1517.37 M1763.52 1513.66 Q1769.33 1513.66 1772.39 1518.27 Q1775.47 1522.85 1775.47 1531.6 Q1775.47 1540.33 1772.39 1544.94 Q1769.33 1549.52 1763.52 1549.52 Q1757.71 1549.52 1754.63 1544.94 Q1751.58 1540.33 1751.58 1531.6 Q1751.58 1522.85 1754.63 1518.27 Q1757.71 1513.66 1763.52 1513.66 Z\" fill=\"#000000\" fill-rule=\"evenodd\" fill-opacity=\"1\" /><path clip-path=\"url(#clip540)\" d=\"M1783.68 1542.97 L1788.57 1542.97 L1788.57 1548.85 L1783.68 1548.85 L1783.68 1542.97 Z\" fill=\"#000000\" fill-rule=\"evenodd\" fill-opacity=\"1\" /><path clip-path=\"url(#clip540)\" d=\"M1798.8 1514.29 L1817.15 1514.29 L1817.15 1518.22 L1803.08 1518.22 L1803.08 1526.7 Q1804.1 1526.35 1805.12 1526.19 Q1806.14 1526 1807.15 1526 Q1812.94 1526 1816.32 1529.17 Q1819.7 1532.34 1819.7 1537.76 Q1819.7 1543.34 1816.23 1546.44 Q1812.76 1549.52 1806.44 1549.52 Q1804.26 1549.52 1801.99 1549.15 Q1799.75 1548.78 1797.34 1548.04 L1797.34 1543.34 Q1799.42 1544.47 1801.65 1545.03 Q1803.87 1545.58 1806.34 1545.58 Q1810.35 1545.58 1812.69 1543.48 Q1815.03 1541.37 1815.03 1537.76 Q1815.03 1534.15 1812.69 1532.04 Q1810.35 1529.94 1806.34 1529.94 Q1804.47 1529.94 1802.59 1530.35 Q1800.74 1530.77 1798.8 1531.65 L1798.8 1514.29 Z\" fill=\"#000000\" fill-rule=\"evenodd\" fill-opacity=\"1\" /><path clip-path=\"url(#clip540)\" d=\"M2268.92 1544.91 L2276.55 1544.91 L2276.55 1518.55 L2268.24 1520.21 L2268.24 1515.95 L2276.51 1514.29 L2281.18 1514.29 L2281.18 1544.91 L2288.82 1544.91 L2288.82 1548.85 L2268.92 1548.85 L2268.92 1544.91 Z\" fill=\"#000000\" fill-rule=\"evenodd\" fill-opacity=\"1\" /><path clip-path=\"url(#clip540)\" d=\"M2298.27 1542.97 L2303.15 1542.97 L2303.15 1548.85 L2298.27 1548.85 L2298.27 1542.97 Z\" fill=\"#000000\" fill-rule=\"evenodd\" fill-opacity=\"1\" /><path clip-path=\"url(#clip540)\" d=\"M2323.34 1517.37 Q2319.73 1517.37 2317.9 1520.93 Q2316.09 1524.47 2316.09 1531.6 Q2316.09 1538.71 2317.9 1542.27 Q2319.73 1545.82 2323.34 1545.82 Q2326.97 1545.82 2328.78 1542.27 Q2330.61 1538.71 2330.61 1531.6 Q2330.61 1524.47 2328.78 1520.93 Q2326.97 1517.37 2323.34 1517.37 M2323.34 1513.66 Q2329.15 1513.66 2332.2 1518.27 Q2335.28 1522.85 2335.28 1531.6 Q2335.28 1540.33 2332.2 1544.94 Q2329.15 1549.52 2323.34 1549.52 Q2317.53 1549.52 2314.45 1544.94 Q2311.39 1540.33 2311.39 1531.6 Q2311.39 1522.85 2314.45 1518.27 Q2317.53 1513.66 2323.34 1513.66 Z\" fill=\"#000000\" fill-rule=\"evenodd\" fill-opacity=\"1\" /><polyline clip-path=\"url(#clip542)\" style=\"stroke:#000000; stroke-linecap:butt; stroke-linejoin:round; stroke-width:2; stroke-opacity:0.1; fill:none\" points=\"\n",
       "  186.274,1445.72 2352.76,1445.72 \n",
       "  \"/>\n",
       "<polyline clip-path=\"url(#clip542)\" style=\"stroke:#000000; stroke-linecap:butt; stroke-linejoin:round; stroke-width:2; stroke-opacity:0.1; fill:none\" points=\"\n",
       "  186.274,1106.28 2352.76,1106.28 \n",
       "  \"/>\n",
       "<polyline clip-path=\"url(#clip542)\" style=\"stroke:#000000; stroke-linecap:butt; stroke-linejoin:round; stroke-width:2; stroke-opacity:0.1; fill:none\" points=\"\n",
       "  186.274,766.846 2352.76,766.846 \n",
       "  \"/>\n",
       "<polyline clip-path=\"url(#clip542)\" style=\"stroke:#000000; stroke-linecap:butt; stroke-linejoin:round; stroke-width:2; stroke-opacity:0.1; fill:none\" points=\"\n",
       "  186.274,427.411 2352.76,427.411 \n",
       "  \"/>\n",
       "<polyline clip-path=\"url(#clip542)\" style=\"stroke:#000000; stroke-linecap:butt; stroke-linejoin:round; stroke-width:2; stroke-opacity:0.1; fill:none\" points=\"\n",
       "  186.274,87.9763 2352.76,87.9763 \n",
       "  \"/>\n",
       "<polyline clip-path=\"url(#clip540)\" style=\"stroke:#000000; stroke-linecap:butt; stroke-linejoin:round; stroke-width:4; stroke-opacity:1; fill:none\" points=\"\n",
       "  186.274,1486.45 186.274,47.2441 \n",
       "  \"/>\n",
       "<polyline clip-path=\"url(#clip540)\" style=\"stroke:#000000; stroke-linecap:butt; stroke-linejoin:round; stroke-width:4; stroke-opacity:1; fill:none\" points=\"\n",
       "  186.274,1445.72 205.172,1445.72 \n",
       "  \"/>\n",
       "<polyline clip-path=\"url(#clip540)\" style=\"stroke:#000000; stroke-linecap:butt; stroke-linejoin:round; stroke-width:4; stroke-opacity:1; fill:none\" points=\"\n",
       "  186.274,1106.28 205.172,1106.28 \n",
       "  \"/>\n",
       "<polyline clip-path=\"url(#clip540)\" style=\"stroke:#000000; stroke-linecap:butt; stroke-linejoin:round; stroke-width:4; stroke-opacity:1; fill:none\" points=\"\n",
       "  186.274,766.846 205.172,766.846 \n",
       "  \"/>\n",
       "<polyline clip-path=\"url(#clip540)\" style=\"stroke:#000000; stroke-linecap:butt; stroke-linejoin:round; stroke-width:4; stroke-opacity:1; fill:none\" points=\"\n",
       "  186.274,427.411 205.172,427.411 \n",
       "  \"/>\n",
       "<polyline clip-path=\"url(#clip540)\" style=\"stroke:#000000; stroke-linecap:butt; stroke-linejoin:round; stroke-width:4; stroke-opacity:1; fill:none\" points=\"\n",
       "  186.274,87.9763 205.172,87.9763 \n",
       "  \"/>\n",
       "<path clip-path=\"url(#clip540)\" d=\"M62.9365 1431.51 Q59.3254 1431.51 57.4967 1435.08 Q55.6912 1438.62 55.6912 1445.75 Q55.6912 1452.86 57.4967 1456.42 Q59.3254 1459.96 62.9365 1459.96 Q66.5707 1459.96 68.3763 1456.42 Q70.205 1452.86 70.205 1445.75 Q70.205 1438.62 68.3763 1435.08 Q66.5707 1431.51 62.9365 1431.51 M62.9365 1427.81 Q68.7467 1427.81 71.8022 1432.42 Q74.8809 1437 74.8809 1445.75 Q74.8809 1454.48 71.8022 1459.08 Q68.7467 1463.67 62.9365 1463.67 Q57.1264 1463.67 54.0477 1459.08 Q50.9921 1454.48 50.9921 1445.75 Q50.9921 1437 54.0477 1432.42 Q57.1264 1427.81 62.9365 1427.81 Z\" fill=\"#000000\" fill-rule=\"evenodd\" fill-opacity=\"1\" /><path clip-path=\"url(#clip540)\" d=\"M83.0984 1457.12 L87.9827 1457.12 L87.9827 1463 L83.0984 1463 L83.0984 1457.12 Z\" fill=\"#000000\" fill-rule=\"evenodd\" fill-opacity=\"1\" /><path clip-path=\"url(#clip540)\" d=\"M108.168 1431.51 Q104.557 1431.51 102.728 1435.08 Q100.922 1438.62 100.922 1445.75 Q100.922 1452.86 102.728 1456.42 Q104.557 1459.96 108.168 1459.96 Q111.802 1459.96 113.608 1456.42 Q115.436 1452.86 115.436 1445.75 Q115.436 1438.62 113.608 1435.08 Q111.802 1431.51 108.168 1431.51 M108.168 1427.81 Q113.978 1427.81 117.033 1432.42 Q120.112 1437 120.112 1445.75 Q120.112 1454.48 117.033 1459.08 Q113.978 1463.67 108.168 1463.67 Q102.358 1463.67 99.2789 1459.08 Q96.2234 1454.48 96.2234 1445.75 Q96.2234 1437 99.2789 1432.42 Q102.358 1427.81 108.168 1427.81 Z\" fill=\"#000000\" fill-rule=\"evenodd\" fill-opacity=\"1\" /><path clip-path=\"url(#clip540)\" d=\"M138.33 1431.51 Q134.719 1431.51 132.89 1435.08 Q131.084 1438.62 131.084 1445.75 Q131.084 1452.86 132.89 1456.42 Q134.719 1459.96 138.33 1459.96 Q141.964 1459.96 143.769 1456.42 Q145.598 1452.86 145.598 1445.75 Q145.598 1438.62 143.769 1435.08 Q141.964 1431.51 138.33 1431.51 M138.33 1427.81 Q144.14 1427.81 147.195 1432.42 Q150.274 1437 150.274 1445.75 Q150.274 1454.48 147.195 1459.08 Q144.14 1463.67 138.33 1463.67 Q132.519 1463.67 129.441 1459.08 Q126.385 1454.48 126.385 1445.75 Q126.385 1437 129.441 1432.42 Q132.519 1427.81 138.33 1427.81 Z\" fill=\"#000000\" fill-rule=\"evenodd\" fill-opacity=\"1\" /><path clip-path=\"url(#clip540)\" d=\"M63.9319 1092.08 Q60.3208 1092.08 58.4921 1095.64 Q56.6865 1099.19 56.6865 1106.32 Q56.6865 1113.42 58.4921 1116.99 Q60.3208 1120.53 63.9319 1120.53 Q67.5661 1120.53 69.3717 1116.99 Q71.2004 1113.42 71.2004 1106.32 Q71.2004 1099.19 69.3717 1095.64 Q67.5661 1092.08 63.9319 1092.08 M63.9319 1088.38 Q69.742 1088.38 72.7976 1092.98 Q75.8763 1097.57 75.8763 1106.32 Q75.8763 1115.04 72.7976 1119.65 Q69.742 1124.23 63.9319 1124.23 Q58.1217 1124.23 55.043 1119.65 Q51.9875 1115.04 51.9875 1106.32 Q51.9875 1097.57 55.043 1092.98 Q58.1217 1088.38 63.9319 1088.38 Z\" fill=\"#000000\" fill-rule=\"evenodd\" fill-opacity=\"1\" /><path clip-path=\"url(#clip540)\" d=\"M84.0938 1117.68 L88.978 1117.68 L88.978 1123.56 L84.0938 1123.56 L84.0938 1117.68 Z\" fill=\"#000000\" fill-rule=\"evenodd\" fill-opacity=\"1\" /><path clip-path=\"url(#clip540)\" d=\"M103.191 1119.63 L119.51 1119.63 L119.51 1123.56 L97.566 1123.56 L97.566 1119.63 Q100.228 1116.87 104.811 1112.24 Q109.418 1107.59 110.598 1106.25 Q112.844 1103.72 113.723 1101.99 Q114.626 1100.23 114.626 1098.54 Q114.626 1095.78 112.682 1094.05 Q110.76 1092.31 107.658 1092.31 Q105.459 1092.31 103.006 1093.07 Q100.575 1093.84 97.7974 1095.39 L97.7974 1090.67 Q100.621 1089.53 103.075 1088.95 Q105.529 1088.38 107.566 1088.38 Q112.936 1088.38 116.131 1091.06 Q119.325 1093.75 119.325 1098.24 Q119.325 1100.37 118.515 1102.29 Q117.728 1104.19 115.621 1106.78 Q115.043 1107.45 111.941 1110.67 Q108.839 1113.86 103.191 1119.63 Z\" fill=\"#000000\" fill-rule=\"evenodd\" fill-opacity=\"1\" /><path clip-path=\"url(#clip540)\" d=\"M129.371 1089 L147.728 1089 L147.728 1092.94 L133.654 1092.94 L133.654 1101.41 Q134.672 1101.06 135.691 1100.9 Q136.709 1100.71 137.728 1100.71 Q143.515 1100.71 146.894 1103.89 Q150.274 1107.06 150.274 1112.47 Q150.274 1118.05 146.802 1121.15 Q143.33 1124.23 137.01 1124.23 Q134.834 1124.23 132.566 1123.86 Q130.32 1123.49 127.913 1122.75 L127.913 1118.05 Q129.996 1119.19 132.219 1119.74 Q134.441 1120.3 136.918 1120.3 Q140.922 1120.3 143.26 1118.19 Q145.598 1116.08 145.598 1112.47 Q145.598 1108.86 143.26 1106.76 Q140.922 1104.65 136.918 1104.65 Q135.043 1104.65 133.168 1105.07 Q131.316 1105.48 129.371 1106.36 L129.371 1089 Z\" fill=\"#000000\" fill-rule=\"evenodd\" fill-opacity=\"1\" /><path clip-path=\"url(#clip540)\" d=\"M62.9365 752.645 Q59.3254 752.645 57.4967 756.209 Q55.6912 759.751 55.6912 766.881 Q55.6912 773.987 57.4967 777.552 Q59.3254 781.094 62.9365 781.094 Q66.5707 781.094 68.3763 777.552 Q70.205 773.987 70.205 766.881 Q70.205 759.751 68.3763 756.209 Q66.5707 752.645 62.9365 752.645 M62.9365 748.941 Q68.7467 748.941 71.8022 753.547 Q74.8809 758.131 74.8809 766.881 Q74.8809 775.608 71.8022 780.214 Q68.7467 784.797 62.9365 784.797 Q57.1264 784.797 54.0477 780.214 Q50.9921 775.608 50.9921 766.881 Q50.9921 758.131 54.0477 753.547 Q57.1264 748.941 62.9365 748.941 Z\" fill=\"#000000\" fill-rule=\"evenodd\" fill-opacity=\"1\" /><path clip-path=\"url(#clip540)\" d=\"M83.0984 778.246 L87.9827 778.246 L87.9827 784.126 L83.0984 784.126 L83.0984 778.246 Z\" fill=\"#000000\" fill-rule=\"evenodd\" fill-opacity=\"1\" /><path clip-path=\"url(#clip540)\" d=\"M98.2141 749.566 L116.57 749.566 L116.57 753.501 L102.496 753.501 L102.496 761.973 Q103.515 761.626 104.534 761.464 Q105.552 761.279 106.571 761.279 Q112.358 761.279 115.737 764.45 Q119.117 767.621 119.117 773.038 Q119.117 778.617 115.645 781.719 Q112.172 784.797 105.853 784.797 Q103.677 784.797 101.409 784.427 Q99.1632 784.057 96.7558 783.316 L96.7558 778.617 Q98.8391 779.751 101.061 780.307 Q103.284 780.862 105.76 780.862 Q109.765 780.862 112.103 778.756 Q114.441 776.649 114.441 773.038 Q114.441 769.427 112.103 767.321 Q109.765 765.214 105.76 765.214 Q103.885 765.214 102.01 765.631 Q100.159 766.047 98.2141 766.927 L98.2141 749.566 Z\" fill=\"#000000\" fill-rule=\"evenodd\" fill-opacity=\"1\" /><path clip-path=\"url(#clip540)\" d=\"M138.33 752.645 Q134.719 752.645 132.89 756.209 Q131.084 759.751 131.084 766.881 Q131.084 773.987 132.89 777.552 Q134.719 781.094 138.33 781.094 Q141.964 781.094 143.769 777.552 Q145.598 773.987 145.598 766.881 Q145.598 759.751 143.769 756.209 Q141.964 752.645 138.33 752.645 M138.33 748.941 Q144.14 748.941 147.195 753.547 Q150.274 758.131 150.274 766.881 Q150.274 775.608 147.195 780.214 Q144.14 784.797 138.33 784.797 Q132.519 784.797 129.441 780.214 Q126.385 775.608 126.385 766.881 Q126.385 758.131 129.441 753.547 Q132.519 748.941 138.33 748.941 Z\" fill=\"#000000\" fill-rule=\"evenodd\" fill-opacity=\"1\" /><path clip-path=\"url(#clip540)\" d=\"M63.9319 413.21 Q60.3208 413.21 58.4921 416.775 Q56.6865 420.316 56.6865 427.446 Q56.6865 434.552 58.4921 438.117 Q60.3208 441.659 63.9319 441.659 Q67.5661 441.659 69.3717 438.117 Q71.2004 434.552 71.2004 427.446 Q71.2004 420.316 69.3717 416.775 Q67.5661 413.21 63.9319 413.21 M63.9319 409.506 Q69.742 409.506 72.7976 414.113 Q75.8763 418.696 75.8763 427.446 Q75.8763 436.173 72.7976 440.779 Q69.742 445.362 63.9319 445.362 Q58.1217 445.362 55.043 440.779 Q51.9875 436.173 51.9875 427.446 Q51.9875 418.696 55.043 414.113 Q58.1217 409.506 63.9319 409.506 Z\" fill=\"#000000\" fill-rule=\"evenodd\" fill-opacity=\"1\" /><path clip-path=\"url(#clip540)\" d=\"M84.0938 438.812 L88.978 438.812 L88.978 444.691 L84.0938 444.691 L84.0938 438.812 Z\" fill=\"#000000\" fill-rule=\"evenodd\" fill-opacity=\"1\" /><path clip-path=\"url(#clip540)\" d=\"M97.9826 410.131 L120.205 410.131 L120.205 412.122 L107.658 444.691 L102.774 444.691 L114.58 414.066 L97.9826 414.066 L97.9826 410.131 Z\" fill=\"#000000\" fill-rule=\"evenodd\" fill-opacity=\"1\" /><path clip-path=\"url(#clip540)\" d=\"M129.371 410.131 L147.728 410.131 L147.728 414.066 L133.654 414.066 L133.654 422.538 Q134.672 422.191 135.691 422.029 Q136.709 421.844 137.728 421.844 Q143.515 421.844 146.894 425.015 Q150.274 428.187 150.274 433.603 Q150.274 439.182 146.802 442.284 Q143.33 445.362 137.01 445.362 Q134.834 445.362 132.566 444.992 Q130.32 444.622 127.913 443.881 L127.913 439.182 Q129.996 440.316 132.219 440.872 Q134.441 441.427 136.918 441.427 Q140.922 441.427 143.26 439.321 Q145.598 437.214 145.598 433.603 Q145.598 429.992 143.26 427.886 Q140.922 425.779 136.918 425.779 Q135.043 425.779 133.168 426.196 Q131.316 426.613 129.371 427.492 L129.371 410.131 Z\" fill=\"#000000\" fill-rule=\"evenodd\" fill-opacity=\"1\" /><path clip-path=\"url(#clip540)\" d=\"M53.7467 101.321 L61.3856 101.321 L61.3856 74.9555 L53.0754 76.6222 L53.0754 72.3629 L61.3393 70.6963 L66.0152 70.6963 L66.0152 101.321 L73.654 101.321 L73.654 105.256 L53.7467 105.256 L53.7467 101.321 Z\" fill=\"#000000\" fill-rule=\"evenodd\" fill-opacity=\"1\" /><path clip-path=\"url(#clip540)\" d=\"M83.0984 99.3767 L87.9827 99.3767 L87.9827 105.256 L83.0984 105.256 L83.0984 99.3767 Z\" fill=\"#000000\" fill-rule=\"evenodd\" fill-opacity=\"1\" /><path clip-path=\"url(#clip540)\" d=\"M108.168 73.775 Q104.557 73.775 102.728 77.3398 Q100.922 80.8814 100.922 88.011 Q100.922 95.1174 102.728 98.6822 Q104.557 102.224 108.168 102.224 Q111.802 102.224 113.608 98.6822 Q115.436 95.1174 115.436 88.011 Q115.436 80.8814 113.608 77.3398 Q111.802 73.775 108.168 73.775 M108.168 70.0713 Q113.978 70.0713 117.033 74.6777 Q120.112 79.261 120.112 88.011 Q120.112 96.7378 117.033 101.344 Q113.978 105.928 108.168 105.928 Q102.358 105.928 99.2789 101.344 Q96.2234 96.7378 96.2234 88.011 Q96.2234 79.261 99.2789 74.6777 Q102.358 70.0713 108.168 70.0713 Z\" fill=\"#000000\" fill-rule=\"evenodd\" fill-opacity=\"1\" /><path clip-path=\"url(#clip540)\" d=\"M138.33 73.775 Q134.719 73.775 132.89 77.3398 Q131.084 80.8814 131.084 88.011 Q131.084 95.1174 132.89 98.6822 Q134.719 102.224 138.33 102.224 Q141.964 102.224 143.769 98.6822 Q145.598 95.1174 145.598 88.011 Q145.598 80.8814 143.769 77.3398 Q141.964 73.775 138.33 73.775 M138.33 70.0713 Q144.14 70.0713 147.195 74.6777 Q150.274 79.261 150.274 88.011 Q150.274 96.7378 147.195 101.344 Q144.14 105.928 138.33 105.928 Q132.519 105.928 129.441 101.344 Q126.385 96.7378 126.385 88.011 Q126.385 79.261 129.441 74.6777 Q132.519 70.0713 138.33 70.0713 Z\" fill=\"#000000\" fill-rule=\"evenodd\" fill-opacity=\"1\" /><polyline clip-path=\"url(#clip542)\" style=\"stroke:#009af9; stroke-linecap:butt; stroke-linejoin:round; stroke-width:12; stroke-opacity:1; fill:none\" points=\"\n",
       "  247.59,1445.72 268.234,1445.72 288.879,1445.72 309.524,1445.72 330.169,1409.51 350.814,1300.89 371.459,1192.27 392.104,1083.65 412.749,975.033 433.394,866.414 \n",
       "  454.039,757.794 474.684,649.175 495.329,540.556 515.974,431.937 536.619,323.318 557.264,214.699 577.909,106.079 598.554,178.492 619.199,287.111 639.844,395.731 \n",
       "  660.489,504.35 681.134,612.969 701.779,721.588 722.424,830.207 743.069,938.826 763.713,1047.45 784.358,1156.06 805.003,1264.68 825.648,1373.3 846.293,1445.72 \n",
       "  866.938,1445.72 887.583,1445.72 908.228,1445.72 928.873,1445.72 949.518,1445.72 970.163,1445.72 990.808,1445.72 1011.45,1445.72 1032.1,1445.72 1052.74,1445.72 \n",
       "  1073.39,87.9763 1094.03,87.9763 1114.68,87.9763 1135.32,87.9763 1155.97,87.9763 1176.61,87.9763 1197.26,87.9763 1217.9,87.9763 1238.55,87.9763 1259.19,87.9763 \n",
       "  1279.84,87.9763 1300.48,87.9763 1321.13,87.9763 1341.77,87.9763 1362.42,87.9763 1383.06,87.9763 1403.71,87.9763 1424.35,87.9763 1445,87.9763 1465.64,87.9763 \n",
       "  1486.29,1445.72 1506.93,1445.72 1527.58,1445.72 1548.22,1445.72 1568.87,1445.72 1589.51,1445.72 1610.16,1445.72 1630.8,1445.72 1651.45,1445.72 1672.09,1445.72 \n",
       "  1692.74,1445.72 1713.38,1436.21 1734.03,1387.02 1754.67,1298.87 1775.32,1177.29 1795.96,1029.92 1816.61,866.017 1837.25,695.885 1857.9,530.211 1878.54,379.406 \n",
       "  1899.19,252.945 1919.83,158.774 1940.48,102.811 1961.12,88.5718 1981.77,116.951 2002.41,186.165 2023.06,291.866 2043.7,427.411 2064.35,584.284 2084.99,752.629 \n",
       "  2105.64,921.866 2126.28,1081.36 2146.93,1221.1 2167.57,1332.29 2188.22,1407.95 2208.86,1443.33 2229.51,1445.72 2250.15,1445.72 2270.8,1445.72 2291.44,1445.72 \n",
       "  \n",
       "  \"/>\n",
       "<polyline clip-path=\"url(#clip542)\" style=\"stroke:#e26f46; stroke-linecap:butt; stroke-linejoin:round; stroke-width:12; stroke-opacity:1; fill:none\" points=\"\n",
       "  247.59,1379.66 268.234,1410.59 288.879,1428.37 309.524,1437.77 330.169,1442.07 350.814,1442.12 371.459,1435.56 392.104,1417.38 412.749,1382.43 433.394,1328.18 \n",
       "  454.039,1255.87 474.684,1169.24 495.329,1072.78 515.974,970.291 536.619,864.508 557.264,757.085 577.909,648.935 598.554,541.823 619.199,440.836 639.844,356.085 \n",
       "  660.489,299.68 681.134,280.457 701.779,299.536 722.424,351.431 743.069,427.274 763.713,518.652 784.358,618.945 805.003,723.904 825.648,831.027 846.293,938.828 \n",
       "  866.938,1045.26 887.583,1146.42 908.228,1236.52 928.873,1310.07 949.518,1364.4 970.163,1400.7 990.808,1422.68 1011.45,1434.84 1032.1,1440.97 1052.74,1443.81 \n",
       "  1073.39,1434.94 1094.03,1390.66 1114.68,1277.7 1135.32,1087.71 1155.97,846.843 1176.61,607.752 1197.26,409.458 1217.9,269.501 1238.55,180.975 1259.19,131.826 \n",
       "  1279.84,106.652 1300.48,95.4663 1321.13,90.6015 1341.77,88.8827 1362.42,88.2211 1383.06,88.0574 1403.71,87.9884 1424.35,87.9816 1445,87.9764 1465.64,87.9764 \n",
       "  1486.29,98.045 1506.93,142.795 1527.58,255.912 1548.22,445.96 1568.87,686.843 1589.51,925.939 1610.16,1124.23 1630.8,1264.19 1651.45,1352.72 1672.09,1401.87 \n",
       "  1692.74,1427.04 1713.38,1438.16 1734.03,1442.34 1754.67,1440.99 1775.32,1432.42 1795.96,1411.57 1816.61,1372.7 1837.25,1311.05 1857.9,1224.68 1878.54,1114.87 \n",
       "  1899.19,985.917 1919.83,844.489 1940.48,698.736 1961.12,557.482 1981.77,429.463 2002.41,322.67 2023.06,243.794 2043.7,197.785 2064.35,187.533 2084.99,213.682 \n",
       "  2105.64,274.587 2126.28,366.424 2146.93,483.42 2167.57,618.225 2188.22,762.368 2208.86,906.793 2229.51,1042.49 2250.15,1161.49 2270.8,1258.12 2291.44,1330.29 \n",
       "  \n",
       "  \"/>\n",
       "<polyline clip-path=\"url(#clip542)\" style=\"stroke:#3da44d; stroke-linecap:butt; stroke-linejoin:round; stroke-width:12; stroke-opacity:1; fill:none\" points=\"\n",
       "  247.59,893.923 268.234,1011.55 288.879,1117.16 309.524,1207 330.169,1279.43 350.814,1334.75 371.459,1374.7 392.104,1401.67 412.749,1417.84 433.394,1424.46 \n",
       "  454.039,1421.49 474.684,1407.83 495.329,1381.83 515.974,1342.15 536.619,1288.33 557.264,1221.08 577.909,1142.04 598.554,1053.47 619.199,957.813 639.844,857.564 \n",
       "  660.489,755.464 681.134,655 701.779,560.842 722.424,478.786 743.069,414.991 763.713,374.726 784.358,361.167 805.003,374.781 825.648,413.487 846.293,473.423 \n",
       "  866.938,549.928 887.583,638.357 908.228,734.512 928.873,834.632 949.518,935.137 970.163,1032.39 990.808,1122.77 1011.45,1203 1032.1,1270.75 1052.74,1324.99 \n",
       "  1073.39,1366.02 1094.03,1394.82 1114.68,1411.66 1135.32,1414.23 1155.97,1396.53 1176.61,1349.96 1197.26,1267.01 1217.9,1145.88 1238.55,993.279 1259.19,823.349 \n",
       "  1279.84,653.477 1300.48,499.239 1321.13,370.836 1341.77,272.089 1362.42,201.5 1383.06,154.364 1403.71,124.838 1424.35,107.431 1445,97.7446 1465.64,92.6466 \n",
       "  1486.29,90.1778 1506.93,89.638 1527.58,92.2491 1548.22,102.293 1568.87,127.723 1589.51,178.779 1610.16,264.206 1630.8,386.623 1651.45,539.871 1672.09,710.106 \n",
       "  1692.74,880.116 1713.38,1034.41 1734.03,1162.83 1754.67,1261.54 1775.32,1331.9 1795.96,1378.21 1816.61,1405.42 1837.25,1417.37 1857.9,1415.92 1878.54,1400.89 \n",
       "  1899.19,1370.71 1919.83,1323.33 1940.48,1257.26 1961.12,1172.32 1981.77,1070.19 2002.41,954.397 2023.06,830.155 2043.7,703.888 2064.35,582.662 2084.99,473.581 \n",
       "  2105.64,383.215 2126.28,317.092 2146.93,279.292 2167.57,272.153 2188.22,296.109 2208.86,349.648 2229.51,429.403 2250.15,530.368 2270.8,646.237 2291.44,769.872 \n",
       "  \n",
       "  \"/>\n",
       "<polyline clip-path=\"url(#clip542)\" style=\"stroke:#c271d2; stroke-linecap:butt; stroke-linejoin:round; stroke-width:12; stroke-opacity:1; fill:none\" points=\"\n",
       "  247.59,413.395 268.234,482.689 288.879,570.008 309.524,670.112 330.169,777.224 350.814,885.541 371.459,989.757 392.104,1085.52 412.749,1169.72 433.394,1240.62 \n",
       "  454.039,1297.66 474.684,1341.17 495.329,1371.94 515.974,1390.74 536.619,1398.03 557.264,1393.86 577.909,1377.93 598.554,1349.81 619.199,1309.27 639.844,1256.5 \n",
       "  660.489,1192.19 681.134,1117.59 701.779,1034.47 722.424,945.056 743.069,852.081 763.713,758.852 784.358,669.262 805.003,587.671 825.648,518.575 846.293,466.112 \n",
       "  866.938,433.514 887.583,422.675 908.228,433.941 928.873,466.183 949.518,517.068 970.163,583.451 990.808,661.734 1011.45,748.143 1032.1,838.894 1052.74,930.316 \n",
       "  1073.39,1018.96 1094.03,1101.79 1114.68,1176.31 1135.32,1240.69 1155.97,1293.67 1176.61,1334.23 1197.26,1360.95 1217.9,1371.58 1238.55,1362.84 1259.19,1330.97 \n",
       "  1279.84,1272.96 1300.48,1187.96 1321.13,1078.42 1341.77,950.27 1362.42,812.096 1383.06,673.537 1403.71,543.491 1424.35,428.697 1445,333.011 1465.64,257.443 \n",
       "  1486.29,200.734 1506.93,160.201 1527.58,132.582 1548.22,114.763 1568.87,104.359 1589.51,100.224 1610.16,102.88 1630.8,114.745 1651.45,139.897 1672.09,183.203 \n",
       "  1692.74,248.855 1713.38,338.75 1734.03,451.307 1754.67,581.244 1775.32,720.435 1795.96,859.537 1816.61,989.809 1837.25,1104.53 1857.9,1199.67 1878.54,1273.78 \n",
       "  1899.19,1327.31 1919.83,1361.66 1940.48,1378.32 1961.12,1378.3 1981.77,1361.96 2002.41,1329.17 2023.06,1279.7 2043.7,1213.74 2064.35,1132.28 2084.99,1037.46 \n",
       "  2105.64,932.643 2126.28,822.298 2146.93,711.744 2167.57,606.758 2188.22,513.135 2208.86,436.231 2229.51,380.546 2250.15,349.38 2270.8,344.578 2291.44,366.38 \n",
       "  \n",
       "  \"/>\n",
       "<polyline clip-path=\"url(#clip542)\" style=\"stroke:#ac8d18; stroke-linecap:butt; stroke-linejoin:round; stroke-width:12; stroke-opacity:1; fill:none\" points=\"\n",
       "  247.59,483.046 268.234,435.796 288.879,409.887 309.524,406.743 330.169,426.459 350.814,467.784 371.459,528.222 392.104,604.233 412.749,691.532 433.394,785.446 \n",
       "  454.039,881.306 474.684,974.809 495.329,1062.32 515.974,1141.05 536.619,1209.1 557.264,1265.4 577.909,1309.49 598.554,1341.31 619.199,1360.97 639.844,1368.58 \n",
       "  660.489,1364.21 681.134,1347.86 701.779,1319.58 722.424,1279.58 743.069,1228.36 763.713,1166.79 784.358,1096.16 805.003,1018.24 825.648,935.316 846.293,850.146 \n",
       "  866.938,765.955 887.583,686.298 908.228,614.868 928.873,555.218 949.518,510.447 970.163,482.901 990.808,473.956 1011.45,483.908 1032.1,511.999 1052.74,556.537 \n",
       "  1073.39,615.091 1094.03,684.711 1114.68,762.141 1135.32,844.016 1155.97,927.036 1176.61,1008.12 1197.26,1084.53 1217.9,1153.88 1238.55,1214.1 1259.19,1263.31 \n",
       "  1279.84,1299.59 1300.48,1320.8 1321.13,1324.64 1341.77,1308.83 1362.42,1271.63 1383.06,1212.42 1403.71,1132.24 1424.35,1034.08 1445,922.694 1465.64,804.088 \n",
       "  1486.29,684.721 1506.93,570.626 1527.58,466.688 1548.22,376.195 1568.87,300.734 1589.51,240.385 1610.16,194.127 1630.8,160.369 1651.45,137.51 1672.09,124.453 \n",
       "  1692.74,120.992 1713.38,127.995 1734.03,147.301 1754.67,181.296 1775.32,232.232 1795.96,301.436 1816.61,388.626 1837.25,491.546 1857.9,606.045 1878.54,726.582 \n",
       "  1899.19,847.008 1919.83,961.423 1940.48,1064.87 1961.12,1153.73 1981.77,1225.81 2002.41,1280.1 2023.06,1316.4 2043.7,1334.95 2064.35,1336.15 2084.99,1320.37 \n",
       "  2105.64,1288.01 2126.28,1239.7 2146.93,1176.44 2167.57,1099.91 2188.22,1012.53 2208.86,917.592 2229.51,819.092 2250.15,721.603 2270.8,629.972 2291.44,548.99 \n",
       "  \n",
       "  \"/>\n",
       "<polyline clip-path=\"url(#clip542)\" style=\"stroke:#00a9ad; stroke-linecap:butt; stroke-linejoin:round; stroke-width:12; stroke-opacity:1; fill:none\" points=\"\n",
       "  247.59,907.016 268.234,818.924 288.879,732.58 309.524,652.127 330.169,581.591 350.814,524.606 371.459,484.162 392.104,462.387 412.749,460.387 433.394,478.168 \n",
       "  454.039,514.636 474.684,567.696 495.329,634.42 515.974,711.289 536.619,794.474 557.264,880.119 577.909,964.613 598.554,1044.79 619.199,1118.06 639.844,1182.48 \n",
       "  660.489,1236.67 681.134,1279.75 701.779,1311.24 722.424,1330.87 743.069,1338.56 763.713,1334.32 784.358,1318.27 805.003,1290.66 825.648,1251.92 846.293,1202.76 \n",
       "  866.938,1144.23 887.583,1077.73 908.228,1005.11 928.873,928.62 949.518,850.908 970.163,774.927 990.808,703.804 1011.45,640.657 1032.1,588.387 1052.74,549.464 \n",
       "  1073.39,525.73 1094.03,518.266 1114.68,527.315 1135.32,552.291 1155.97,591.846 1176.61,643.994 1197.26,706.263 1217.9,775.871 1238.55,849.883 1259.19,925.369 \n",
       "  1279.84,999.507 1300.48,1069.66 1321.13,1133.38 1341.77,1188.37 1362.42,1232.44 1383.06,1263.45 1403.71,1279.35 1424.35,1278.3 1445,1258.9 1465.64,1220.49 \n",
       "  1486.29,1163.41 1506.93,1089.24 1527.58,1000.79 1548.22,901.906 1568.87,797.161 1589.51,691.331 1610.16,588.917 1630.8,493.715 1651.45,408.535 1672.09,335.107 \n",
       "  1692.74,274.17 1713.38,225.704 1734.03,189.274 1754.67,164.383 1775.32,150.797 1795.96,148.744 1816.61,158.957 1837.25,182.525 1857.9,220.586 1878.54,273.912 \n",
       "  1899.19,342.503 1919.83,425.276 1940.48,519.945 1961.12,623.124 1981.77,730.632 2002.41,837.924 2023.06,940.553 2043.7,1034.57 2064.35,1116.76 2084.99,1184.8 \n",
       "  2105.64,1237.13 2126.28,1272.89 2146.93,1291.74 2167.57,1293.68 2188.22,1279.04 2208.86,1248.43 2229.51,1202.81 2250.15,1143.6 2270.8,1072.75 2291.44,992.845 \n",
       "  \n",
       "  \"/>\n",
       "</svg>\n"
      ]
     },
     "execution_count": 13,
     "metadata": {},
     "output_type": "execute_result"
    }
   ],
   "source": [
    "x, thist, uhist = fv_solve1(riemann_advection, testfunc, 100, .5)\n",
    "plot(x, uhist[:,1:5:end], legend=:none)"
   ]
  },
  {
   "cell_type": "markdown",
   "id": "9285840b",
   "metadata": {
    "slideshow": {
     "slide_type": "fragment"
    }
   },
   "source": [
    "## Observations\n",
    "* Good: no oscillations/noisy artifacts: solutians are bounded between 0 and 1, just like exact solution.\n",
    "* Bad: Lots of numerical diffusion."
   ]
  },
  {
   "cell_type": "markdown",
   "id": "5eea8ce9",
   "metadata": {
    "slideshow": {
     "slide_type": "slide"
    }
   },
   "source": [
    "# Rankine-Hugoniot condition"
   ]
  },
  {
   "cell_type": "markdown",
   "id": "c302e618",
   "metadata": {
    "cell_style": "split",
    "slideshow": {
     "slide_type": ""
    }
   },
   "source": [
    "For a nonlinear equation, we need to know which direction the shock is moving.  If we move into the reference frame of the shock, the flux on the left must be equal to the flux on the right.  This leads to shock speed $s$ satisfying\n",
    "$$ s (\\underbrace{u_R - u_L}_{\\Delta u}) = (\\underbrace{F(u_R) - F(u_L)}_{\\Delta F}) \\cdot \\hat n $$\n",
    "where $\\hat n$ is any direction (e.g., the normal to a face in a multi-dimensional finite volume method).\n",
    "This condition holds also for hyperbolic system.\n",
    "\n",
    "For Burger's equation\n",
    "$$ \\frac{\\partial u}{\\partial t} + \\nabla\\cdot (u^2/2) = 0, $$\n",
    "our Riemann problem produces a shock if $u_L > u_R$, i.e., $\\Delta u < 0$.\n",
    "The shock moves to the right $(s > 0)$ if $\\Delta F < 0$, i.e., $F(u_L) > F(u_R)$."
   ]
  },
  {
   "cell_type": "markdown",
   "id": "715fd012",
   "metadata": {
    "cell_style": "split",
    "slideshow": {
     "slide_type": ""
    }
   },
   "source": [
    "![Toro (2009) Figure 2.13](../img/Toro-Shock-2.13.png)\n",
    "\n",
    "So if the solution is a shock, the numerical flux is the maximum of $f(u_L)$ and $f(u_R)$.\n",
    "We still don't know what to do in case of a rarefaction so will just average and see what happens."
   ]
  },
  {
   "cell_type": "markdown",
   "id": "87323914",
   "metadata": {
    "slideshow": {
     "slide_type": "slide"
    }
   },
   "source": [
    "# Burgers Riemann problem (shock)"
   ]
  },
  {
   "cell_type": "code",
   "execution_count": 14,
   "id": "2fea27ef",
   "metadata": {
    "cell_style": "split"
   },
   "outputs": [
    {
     "data": {
      "text/plain": [
       "riemann_burgers_shock (generic function with 1 method)"
      ]
     },
     "execution_count": 14,
     "metadata": {},
     "output_type": "execute_result"
    }
   ],
   "source": [
    "function riemann_burgers_shock(uL, uR)\n",
    "    flux = zero(uL)\n",
    "    for i in 1:length(flux)\n",
    "        flux[i] = if uL[i] > uR[i] # shock\n",
    "            max(flux_burgers(uL[i]), flux_burgers(uR[i]))\n",
    "        else\n",
    "            flux_burgers(.5*(uL[i] + uR[i]))\n",
    "        end\n",
    "    end\n",
    "    flux\n",
    "end"
   ]
  },
  {
   "cell_type": "code",
   "execution_count": 15,
   "id": "d4639e19",
   "metadata": {
    "cell_style": "split"
   },
   "outputs": [
    {
     "data": {
      "image/svg+xml": [
       "<?xml version=\"1.0\" encoding=\"utf-8\"?>\n",
       "<svg xmlns=\"http://www.w3.org/2000/svg\" xmlns:xlink=\"http://www.w3.org/1999/xlink\" width=\"600\" height=\"400\" viewBox=\"0 0 2400 1600\">\n",
       "<defs>\n",
       "  <clipPath id=\"clip580\">\n",
       "    <rect x=\"0\" y=\"0\" width=\"2400\" height=\"1600\"/>\n",
       "  </clipPath>\n",
       "</defs>\n",
       "<path clip-path=\"url(#clip580)\" d=\"\n",
       "M0 1600 L2400 1600 L2400 0 L0 0  Z\n",
       "  \" fill=\"#ffffff\" fill-rule=\"evenodd\" fill-opacity=\"1\"/>\n",
       "<defs>\n",
       "  <clipPath id=\"clip581\">\n",
       "    <rect x=\"480\" y=\"0\" width=\"1681\" height=\"1600\"/>\n",
       "  </clipPath>\n",
       "</defs>\n",
       "<path clip-path=\"url(#clip580)\" d=\"\n",
       "M193.936 1486.45 L2352.76 1486.45 L2352.76 47.2441 L193.936 47.2441  Z\n",
       "  \" fill=\"#ffffff\" fill-rule=\"evenodd\" fill-opacity=\"1\"/>\n",
       "<defs>\n",
       "  <clipPath id=\"clip582\">\n",
       "    <rect x=\"193\" y=\"47\" width=\"2160\" height=\"1440\"/>\n",
       "  </clipPath>\n",
       "</defs>\n",
       "<polyline clip-path=\"url(#clip582)\" style=\"stroke:#000000; stroke-linecap:butt; stroke-linejoin:round; stroke-width:2; stroke-opacity:0.1; fill:none\" points=\"\n",
       "  244.749,1486.45 244.749,47.2441 \n",
       "  \"/>\n",
       "<polyline clip-path=\"url(#clip582)\" style=\"stroke:#000000; stroke-linecap:butt; stroke-linejoin:round; stroke-width:2; stroke-opacity:0.1; fill:none\" points=\"\n",
       "  759.047,1486.45 759.047,47.2441 \n",
       "  \"/>\n",
       "<polyline clip-path=\"url(#clip582)\" style=\"stroke:#000000; stroke-linecap:butt; stroke-linejoin:round; stroke-width:2; stroke-opacity:0.1; fill:none\" points=\"\n",
       "  1273.35,1486.45 1273.35,47.2441 \n",
       "  \"/>\n",
       "<polyline clip-path=\"url(#clip582)\" style=\"stroke:#000000; stroke-linecap:butt; stroke-linejoin:round; stroke-width:2; stroke-opacity:0.1; fill:none\" points=\"\n",
       "  1787.64,1486.45 1787.64,47.2441 \n",
       "  \"/>\n",
       "<polyline clip-path=\"url(#clip582)\" style=\"stroke:#000000; stroke-linecap:butt; stroke-linejoin:round; stroke-width:2; stroke-opacity:0.1; fill:none\" points=\"\n",
       "  2301.94,1486.45 2301.94,47.2441 \n",
       "  \"/>\n",
       "<polyline clip-path=\"url(#clip580)\" style=\"stroke:#000000; stroke-linecap:butt; stroke-linejoin:round; stroke-width:4; stroke-opacity:1; fill:none\" points=\"\n",
       "  193.936,1486.45 2352.76,1486.45 \n",
       "  \"/>\n",
       "<polyline clip-path=\"url(#clip580)\" style=\"stroke:#000000; stroke-linecap:butt; stroke-linejoin:round; stroke-width:4; stroke-opacity:1; fill:none\" points=\"\n",
       "  244.749,1486.45 244.749,1467.55 \n",
       "  \"/>\n",
       "<polyline clip-path=\"url(#clip580)\" style=\"stroke:#000000; stroke-linecap:butt; stroke-linejoin:round; stroke-width:4; stroke-opacity:1; fill:none\" points=\"\n",
       "  759.047,1486.45 759.047,1467.55 \n",
       "  \"/>\n",
       "<polyline clip-path=\"url(#clip580)\" style=\"stroke:#000000; stroke-linecap:butt; stroke-linejoin:round; stroke-width:4; stroke-opacity:1; fill:none\" points=\"\n",
       "  1273.35,1486.45 1273.35,1467.55 \n",
       "  \"/>\n",
       "<polyline clip-path=\"url(#clip580)\" style=\"stroke:#000000; stroke-linecap:butt; stroke-linejoin:round; stroke-width:4; stroke-opacity:1; fill:none\" points=\"\n",
       "  1787.64,1486.45 1787.64,1467.55 \n",
       "  \"/>\n",
       "<polyline clip-path=\"url(#clip580)\" style=\"stroke:#000000; stroke-linecap:butt; stroke-linejoin:round; stroke-width:4; stroke-opacity:1; fill:none\" points=\"\n",
       "  2301.94,1486.45 2301.94,1467.55 \n",
       "  \"/>\n",
       "<path clip-path=\"url(#clip580)\" d=\"M191.277 1532.02 L220.953 1532.02 L220.953 1535.95 L191.277 1535.95 L191.277 1532.02 Z\" fill=\"#000000\" fill-rule=\"evenodd\" fill-opacity=\"1\" /><path clip-path=\"url(#clip580)\" d=\"M231.855 1544.91 L239.494 1544.91 L239.494 1518.55 L231.184 1520.21 L231.184 1515.95 L239.448 1514.29 L244.124 1514.29 L244.124 1544.91 L251.763 1544.91 L251.763 1548.85 L231.855 1548.85 L231.855 1544.91 Z\" fill=\"#000000\" fill-rule=\"evenodd\" fill-opacity=\"1\" /><path clip-path=\"url(#clip580)\" d=\"M261.207 1542.97 L266.091 1542.97 L266.091 1548.85 L261.207 1548.85 L261.207 1542.97 Z\" fill=\"#000000\" fill-rule=\"evenodd\" fill-opacity=\"1\" /><path clip-path=\"url(#clip580)\" d=\"M286.276 1517.37 Q282.665 1517.37 280.836 1520.93 Q279.031 1524.47 279.031 1531.6 Q279.031 1538.71 280.836 1542.27 Q282.665 1545.82 286.276 1545.82 Q289.91 1545.82 291.716 1542.27 Q293.545 1538.71 293.545 1531.6 Q293.545 1524.47 291.716 1520.93 Q289.91 1517.37 286.276 1517.37 M286.276 1513.66 Q292.086 1513.66 295.142 1518.27 Q298.221 1522.85 298.221 1531.6 Q298.221 1540.33 295.142 1544.94 Q292.086 1549.52 286.276 1549.52 Q280.466 1549.52 277.387 1544.94 Q274.332 1540.33 274.332 1531.6 Q274.332 1522.85 277.387 1518.27 Q280.466 1513.66 286.276 1513.66 Z\" fill=\"#000000\" fill-rule=\"evenodd\" fill-opacity=\"1\" /><path clip-path=\"url(#clip580)\" d=\"M706.073 1532.02 L735.749 1532.02 L735.749 1535.95 L706.073 1535.95 L706.073 1532.02 Z\" fill=\"#000000\" fill-rule=\"evenodd\" fill-opacity=\"1\" /><path clip-path=\"url(#clip580)\" d=\"M755.841 1517.37 Q752.23 1517.37 750.402 1520.93 Q748.596 1524.47 748.596 1531.6 Q748.596 1538.71 750.402 1542.27 Q752.23 1545.82 755.841 1545.82 Q759.476 1545.82 761.281 1542.27 Q763.11 1538.71 763.11 1531.6 Q763.11 1524.47 761.281 1520.93 Q759.476 1517.37 755.841 1517.37 M755.841 1513.66 Q761.651 1513.66 764.707 1518.27 Q767.786 1522.85 767.786 1531.6 Q767.786 1540.33 764.707 1544.94 Q761.651 1549.52 755.841 1549.52 Q750.031 1549.52 746.952 1544.94 Q743.897 1540.33 743.897 1531.6 Q743.897 1522.85 746.952 1518.27 Q750.031 1513.66 755.841 1513.66 Z\" fill=\"#000000\" fill-rule=\"evenodd\" fill-opacity=\"1\" /><path clip-path=\"url(#clip580)\" d=\"M776.003 1542.97 L780.887 1542.97 L780.887 1548.85 L776.003 1548.85 L776.003 1542.97 Z\" fill=\"#000000\" fill-rule=\"evenodd\" fill-opacity=\"1\" /><path clip-path=\"url(#clip580)\" d=\"M791.119 1514.29 L809.475 1514.29 L809.475 1518.22 L795.401 1518.22 L795.401 1526.7 Q796.42 1526.35 797.438 1526.19 Q798.457 1526 799.475 1526 Q805.262 1526 808.642 1529.17 Q812.022 1532.34 812.022 1537.76 Q812.022 1543.34 808.549 1546.44 Q805.077 1549.52 798.758 1549.52 Q796.582 1549.52 794.313 1549.15 Q792.068 1548.78 789.661 1548.04 L789.661 1543.34 Q791.744 1544.47 793.966 1545.03 Q796.188 1545.58 798.665 1545.58 Q802.67 1545.58 805.008 1543.48 Q807.346 1541.37 807.346 1537.76 Q807.346 1534.15 805.008 1532.04 Q802.67 1529.94 798.665 1529.94 Q796.79 1529.94 794.915 1530.35 Q793.063 1530.77 791.119 1531.65 L791.119 1514.29 Z\" fill=\"#000000\" fill-rule=\"evenodd\" fill-opacity=\"1\" /><path clip-path=\"url(#clip580)\" d=\"M1250.73 1517.37 Q1247.12 1517.37 1245.29 1520.93 Q1243.49 1524.47 1243.49 1531.6 Q1243.49 1538.71 1245.29 1542.27 Q1247.12 1545.82 1250.73 1545.82 Q1254.36 1545.82 1256.17 1542.27 Q1258 1538.71 1258 1531.6 Q1258 1524.47 1256.17 1520.93 Q1254.36 1517.37 1250.73 1517.37 M1250.73 1513.66 Q1256.54 1513.66 1259.6 1518.27 Q1262.67 1522.85 1262.67 1531.6 Q1262.67 1540.33 1259.6 1544.94 Q1256.54 1549.52 1250.73 1549.52 Q1244.92 1549.52 1241.84 1544.94 Q1238.79 1540.33 1238.79 1531.6 Q1238.79 1522.85 1241.84 1518.27 Q1244.92 1513.66 1250.73 1513.66 Z\" fill=\"#000000\" fill-rule=\"evenodd\" fill-opacity=\"1\" /><path clip-path=\"url(#clip580)\" d=\"M1270.89 1542.97 L1275.78 1542.97 L1275.78 1548.85 L1270.89 1548.85 L1270.89 1542.97 Z\" fill=\"#000000\" fill-rule=\"evenodd\" fill-opacity=\"1\" /><path clip-path=\"url(#clip580)\" d=\"M1295.96 1517.37 Q1292.35 1517.37 1290.52 1520.93 Q1288.72 1524.47 1288.72 1531.6 Q1288.72 1538.71 1290.52 1542.27 Q1292.35 1545.82 1295.96 1545.82 Q1299.6 1545.82 1301.4 1542.27 Q1303.23 1538.71 1303.23 1531.6 Q1303.23 1524.47 1301.4 1520.93 Q1299.6 1517.37 1295.96 1517.37 M1295.96 1513.66 Q1301.77 1513.66 1304.83 1518.27 Q1307.91 1522.85 1307.91 1531.6 Q1307.91 1540.33 1304.83 1544.94 Q1301.77 1549.52 1295.96 1549.52 Q1290.15 1549.52 1287.07 1544.94 Q1284.02 1540.33 1284.02 1531.6 Q1284.02 1522.85 1287.07 1518.27 Q1290.15 1513.66 1295.96 1513.66 Z\" fill=\"#000000\" fill-rule=\"evenodd\" fill-opacity=\"1\" /><path clip-path=\"url(#clip580)\" d=\"M1765.53 1517.37 Q1761.92 1517.37 1760.09 1520.93 Q1758.28 1524.47 1758.28 1531.6 Q1758.28 1538.71 1760.09 1542.27 Q1761.92 1545.82 1765.53 1545.82 Q1769.16 1545.82 1770.97 1542.27 Q1772.8 1538.71 1772.8 1531.6 Q1772.8 1524.47 1770.97 1520.93 Q1769.16 1517.37 1765.53 1517.37 M1765.53 1513.66 Q1771.34 1513.66 1774.39 1518.27 Q1777.47 1522.85 1777.47 1531.6 Q1777.47 1540.33 1774.39 1544.94 Q1771.34 1549.52 1765.53 1549.52 Q1759.72 1549.52 1756.64 1544.94 Q1753.58 1540.33 1753.58 1531.6 Q1753.58 1522.85 1756.64 1518.27 Q1759.72 1513.66 1765.53 1513.66 Z\" fill=\"#000000\" fill-rule=\"evenodd\" fill-opacity=\"1\" /><path clip-path=\"url(#clip580)\" d=\"M1785.69 1542.97 L1790.57 1542.97 L1790.57 1548.85 L1785.69 1548.85 L1785.69 1542.97 Z\" fill=\"#000000\" fill-rule=\"evenodd\" fill-opacity=\"1\" /><path clip-path=\"url(#clip580)\" d=\"M1800.8 1514.29 L1819.16 1514.29 L1819.16 1518.22 L1805.09 1518.22 L1805.09 1526.7 Q1806.11 1526.35 1807.12 1526.19 Q1808.14 1526 1809.16 1526 Q1814.95 1526 1818.33 1529.17 Q1821.71 1532.34 1821.71 1537.76 Q1821.71 1543.34 1818.23 1546.44 Q1814.76 1549.52 1808.44 1549.52 Q1806.27 1549.52 1804 1549.15 Q1801.75 1548.78 1799.35 1548.04 L1799.35 1543.34 Q1801.43 1544.47 1803.65 1545.03 Q1805.87 1545.58 1808.35 1545.58 Q1812.36 1545.58 1814.69 1543.48 Q1817.03 1541.37 1817.03 1537.76 Q1817.03 1534.15 1814.69 1532.04 Q1812.36 1529.94 1808.35 1529.94 Q1806.48 1529.94 1804.6 1530.35 Q1802.75 1530.77 1800.8 1531.65 L1800.8 1514.29 Z\" fill=\"#000000\" fill-rule=\"evenodd\" fill-opacity=\"1\" /><path clip-path=\"url(#clip580)\" d=\"M2269.1 1544.91 L2276.74 1544.91 L2276.74 1518.55 L2268.42 1520.21 L2268.42 1515.95 L2276.69 1514.29 L2281.36 1514.29 L2281.36 1544.91 L2289 1544.91 L2289 1548.85 L2269.1 1548.85 L2269.1 1544.91 Z\" fill=\"#000000\" fill-rule=\"evenodd\" fill-opacity=\"1\" /><path clip-path=\"url(#clip580)\" d=\"M2298.45 1542.97 L2303.33 1542.97 L2303.33 1548.85 L2298.45 1548.85 L2298.45 1542.97 Z\" fill=\"#000000\" fill-rule=\"evenodd\" fill-opacity=\"1\" /><path clip-path=\"url(#clip580)\" d=\"M2323.52 1517.37 Q2319.91 1517.37 2318.08 1520.93 Q2316.27 1524.47 2316.27 1531.6 Q2316.27 1538.71 2318.08 1542.27 Q2319.91 1545.82 2323.52 1545.82 Q2327.15 1545.82 2328.96 1542.27 Q2330.79 1538.71 2330.79 1531.6 Q2330.79 1524.47 2328.96 1520.93 Q2327.15 1517.37 2323.52 1517.37 M2323.52 1513.66 Q2329.33 1513.66 2332.38 1518.27 Q2335.46 1522.85 2335.46 1531.6 Q2335.46 1540.33 2332.38 1544.94 Q2329.33 1549.52 2323.52 1549.52 Q2317.71 1549.52 2314.63 1544.94 Q2311.57 1540.33 2311.57 1531.6 Q2311.57 1522.85 2314.63 1518.27 Q2317.71 1513.66 2323.52 1513.66 Z\" fill=\"#000000\" fill-rule=\"evenodd\" fill-opacity=\"1\" /><polyline clip-path=\"url(#clip582)\" style=\"stroke:#000000; stroke-linecap:butt; stroke-linejoin:round; stroke-width:2; stroke-opacity:0.1; fill:none\" points=\"\n",
       "  193.936,1446.05 2352.76,1446.05 \n",
       "  \"/>\n",
       "<polyline clip-path=\"url(#clip582)\" style=\"stroke:#000000; stroke-linecap:butt; stroke-linejoin:round; stroke-width:2; stroke-opacity:0.1; fill:none\" points=\"\n",
       "  193.936,1106.45 2352.76,1106.45 \n",
       "  \"/>\n",
       "<polyline clip-path=\"url(#clip582)\" style=\"stroke:#000000; stroke-linecap:butt; stroke-linejoin:round; stroke-width:2; stroke-opacity:0.1; fill:none\" points=\"\n",
       "  193.936,766.846 2352.76,766.846 \n",
       "  \"/>\n",
       "<polyline clip-path=\"url(#clip582)\" style=\"stroke:#000000; stroke-linecap:butt; stroke-linejoin:round; stroke-width:2; stroke-opacity:0.1; fill:none\" points=\"\n",
       "  193.936,427.244 2352.76,427.244 \n",
       "  \"/>\n",
       "<polyline clip-path=\"url(#clip582)\" style=\"stroke:#000000; stroke-linecap:butt; stroke-linejoin:round; stroke-width:2; stroke-opacity:0.1; fill:none\" points=\"\n",
       "  193.936,87.6411 2352.76,87.6411 \n",
       "  \"/>\n",
       "<polyline clip-path=\"url(#clip580)\" style=\"stroke:#000000; stroke-linecap:butt; stroke-linejoin:round; stroke-width:4; stroke-opacity:1; fill:none\" points=\"\n",
       "  193.936,1486.45 193.936,47.2441 \n",
       "  \"/>\n",
       "<polyline clip-path=\"url(#clip580)\" style=\"stroke:#000000; stroke-linecap:butt; stroke-linejoin:round; stroke-width:4; stroke-opacity:1; fill:none\" points=\"\n",
       "  193.936,1446.05 212.834,1446.05 \n",
       "  \"/>\n",
       "<polyline clip-path=\"url(#clip580)\" style=\"stroke:#000000; stroke-linecap:butt; stroke-linejoin:round; stroke-width:4; stroke-opacity:1; fill:none\" points=\"\n",
       "  193.936,1106.45 212.834,1106.45 \n",
       "  \"/>\n",
       "<polyline clip-path=\"url(#clip580)\" style=\"stroke:#000000; stroke-linecap:butt; stroke-linejoin:round; stroke-width:4; stroke-opacity:1; fill:none\" points=\"\n",
       "  193.936,766.846 212.834,766.846 \n",
       "  \"/>\n",
       "<polyline clip-path=\"url(#clip580)\" style=\"stroke:#000000; stroke-linecap:butt; stroke-linejoin:round; stroke-width:4; stroke-opacity:1; fill:none\" points=\"\n",
       "  193.936,427.244 212.834,427.244 \n",
       "  \"/>\n",
       "<polyline clip-path=\"url(#clip580)\" style=\"stroke:#000000; stroke-linecap:butt; stroke-linejoin:round; stroke-width:4; stroke-opacity:1; fill:none\" points=\"\n",
       "  193.936,87.6411 212.834,87.6411 \n",
       "  \"/>\n",
       "<path clip-path=\"url(#clip580)\" d=\"M50.9921 1446.5 L80.6679 1446.5 L80.6679 1450.44 L50.9921 1450.44 L50.9921 1446.5 Z\" fill=\"#000000\" fill-rule=\"evenodd\" fill-opacity=\"1\" /><path clip-path=\"url(#clip580)\" d=\"M91.5706 1459.4 L99.2095 1459.4 L99.2095 1433.03 L90.8993 1434.7 L90.8993 1430.44 L99.1632 1428.77 L103.839 1428.77 L103.839 1459.4 L111.478 1459.4 L111.478 1463.33 L91.5706 1463.33 L91.5706 1459.4 Z\" fill=\"#000000\" fill-rule=\"evenodd\" fill-opacity=\"1\" /><path clip-path=\"url(#clip580)\" d=\"M120.922 1457.45 L125.807 1457.45 L125.807 1463.33 L120.922 1463.33 L120.922 1457.45 Z\" fill=\"#000000\" fill-rule=\"evenodd\" fill-opacity=\"1\" /><path clip-path=\"url(#clip580)\" d=\"M145.992 1431.85 Q142.381 1431.85 140.552 1435.41 Q138.746 1438.96 138.746 1446.09 Q138.746 1453.19 140.552 1456.76 Q142.381 1460.3 145.992 1460.3 Q149.626 1460.3 151.431 1456.76 Q153.26 1453.19 153.26 1446.09 Q153.26 1438.96 151.431 1435.41 Q149.626 1431.85 145.992 1431.85 M145.992 1428.15 Q151.802 1428.15 154.857 1432.75 Q157.936 1437.34 157.936 1446.09 Q157.936 1454.81 154.857 1459.42 Q151.802 1464 145.992 1464 Q140.181 1464 137.103 1459.42 Q134.047 1454.81 134.047 1446.09 Q134.047 1437.34 137.103 1432.75 Q140.181 1428.15 145.992 1428.15 Z\" fill=\"#000000\" fill-rule=\"evenodd\" fill-opacity=\"1\" /><path clip-path=\"url(#clip580)\" d=\"M51.9875 1106.9 L81.6633 1106.9 L81.6633 1110.83 L51.9875 1110.83 L51.9875 1106.9 Z\" fill=\"#000000\" fill-rule=\"evenodd\" fill-opacity=\"1\" /><path clip-path=\"url(#clip580)\" d=\"M101.756 1092.25 Q98.1447 1092.25 96.316 1095.81 Q94.5104 1099.35 94.5104 1106.48 Q94.5104 1113.59 96.316 1117.15 Q98.1447 1120.7 101.756 1120.7 Q105.39 1120.7 107.196 1117.15 Q109.024 1113.59 109.024 1106.48 Q109.024 1099.35 107.196 1095.81 Q105.39 1092.25 101.756 1092.25 M101.756 1088.54 Q107.566 1088.54 110.621 1093.15 Q113.7 1097.73 113.7 1106.48 Q113.7 1115.21 110.621 1119.82 Q107.566 1124.4 101.756 1124.4 Q95.9456 1124.4 92.8669 1119.82 Q89.8114 1115.21 89.8114 1106.48 Q89.8114 1097.73 92.8669 1093.15 Q95.9456 1088.54 101.756 1088.54 Z\" fill=\"#000000\" fill-rule=\"evenodd\" fill-opacity=\"1\" /><path clip-path=\"url(#clip580)\" d=\"M121.918 1117.85 L126.802 1117.85 L126.802 1123.73 L121.918 1123.73 L121.918 1117.85 Z\" fill=\"#000000\" fill-rule=\"evenodd\" fill-opacity=\"1\" /><path clip-path=\"url(#clip580)\" d=\"M137.033 1089.17 L155.39 1089.17 L155.39 1093.1 L141.316 1093.1 L141.316 1101.58 Q142.334 1101.23 143.353 1101.07 Q144.371 1100.88 145.39 1100.88 Q151.177 1100.88 154.556 1104.05 Q157.936 1107.22 157.936 1112.64 Q157.936 1118.22 154.464 1121.32 Q150.992 1124.4 144.672 1124.4 Q142.496 1124.4 140.228 1124.03 Q137.982 1123.66 135.575 1122.92 L135.575 1118.22 Q137.658 1119.35 139.881 1119.91 Q142.103 1120.46 144.58 1120.46 Q148.584 1120.46 150.922 1118.36 Q153.26 1116.25 153.26 1112.64 Q153.26 1109.03 150.922 1106.92 Q148.584 1104.82 144.58 1104.82 Q142.705 1104.82 140.83 1105.23 Q138.978 1105.65 137.033 1106.53 L137.033 1089.17 Z\" fill=\"#000000\" fill-rule=\"evenodd\" fill-opacity=\"1\" /><path clip-path=\"url(#clip580)\" d=\"M100.76 752.645 Q97.1493 752.645 95.3206 756.209 Q93.515 759.751 93.515 766.881 Q93.515 773.987 95.3206 777.552 Q97.1493 781.094 100.76 781.094 Q104.395 781.094 106.2 777.552 Q108.029 773.987 108.029 766.881 Q108.029 759.751 106.2 756.209 Q104.395 752.645 100.76 752.645 M100.76 748.941 Q106.571 748.941 109.626 753.547 Q112.705 758.131 112.705 766.881 Q112.705 775.608 109.626 780.214 Q106.571 784.797 100.76 784.797 Q94.9502 784.797 91.8715 780.214 Q88.816 775.608 88.816 766.881 Q88.816 758.131 91.8715 753.547 Q94.9502 748.941 100.76 748.941 Z\" fill=\"#000000\" fill-rule=\"evenodd\" fill-opacity=\"1\" /><path clip-path=\"url(#clip580)\" d=\"M120.922 778.246 L125.807 778.246 L125.807 784.126 L120.922 784.126 L120.922 778.246 Z\" fill=\"#000000\" fill-rule=\"evenodd\" fill-opacity=\"1\" /><path clip-path=\"url(#clip580)\" d=\"M145.992 752.645 Q142.381 752.645 140.552 756.209 Q138.746 759.751 138.746 766.881 Q138.746 773.987 140.552 777.552 Q142.381 781.094 145.992 781.094 Q149.626 781.094 151.431 777.552 Q153.26 773.987 153.26 766.881 Q153.26 759.751 151.431 756.209 Q149.626 752.645 145.992 752.645 M145.992 748.941 Q151.802 748.941 154.857 753.547 Q157.936 758.131 157.936 766.881 Q157.936 775.608 154.857 780.214 Q151.802 784.797 145.992 784.797 Q140.181 784.797 137.103 780.214 Q134.047 775.608 134.047 766.881 Q134.047 758.131 137.103 753.547 Q140.181 748.941 145.992 748.941 Z\" fill=\"#000000\" fill-rule=\"evenodd\" fill-opacity=\"1\" /><path clip-path=\"url(#clip580)\" d=\"M101.756 413.042 Q98.1447 413.042 96.316 416.607 Q94.5104 420.149 94.5104 427.278 Q94.5104 434.385 96.316 437.95 Q98.1447 441.491 101.756 441.491 Q105.39 441.491 107.196 437.95 Q109.024 434.385 109.024 427.278 Q109.024 420.149 107.196 416.607 Q105.39 413.042 101.756 413.042 M101.756 409.339 Q107.566 409.339 110.621 413.945 Q113.7 418.528 113.7 427.278 Q113.7 436.005 110.621 440.612 Q107.566 445.195 101.756 445.195 Q95.9456 445.195 92.8669 440.612 Q89.8114 436.005 89.8114 427.278 Q89.8114 418.528 92.8669 413.945 Q95.9456 409.339 101.756 409.339 Z\" fill=\"#000000\" fill-rule=\"evenodd\" fill-opacity=\"1\" /><path clip-path=\"url(#clip580)\" d=\"M121.918 438.644 L126.802 438.644 L126.802 444.524 L121.918 444.524 L121.918 438.644 Z\" fill=\"#000000\" fill-rule=\"evenodd\" fill-opacity=\"1\" /><path clip-path=\"url(#clip580)\" d=\"M137.033 409.964 L155.39 409.964 L155.39 413.899 L141.316 413.899 L141.316 422.371 Q142.334 422.024 143.353 421.862 Q144.371 421.676 145.39 421.676 Q151.177 421.676 154.556 424.848 Q157.936 428.019 157.936 433.436 Q157.936 439.014 154.464 442.116 Q150.992 445.195 144.672 445.195 Q142.496 445.195 140.228 444.824 Q137.982 444.454 135.575 443.713 L135.575 439.014 Q137.658 440.149 139.881 440.704 Q142.103 441.26 144.58 441.26 Q148.584 441.26 150.922 439.153 Q153.26 437.047 153.26 433.436 Q153.26 429.825 150.922 427.718 Q148.584 425.612 144.58 425.612 Q142.705 425.612 140.83 426.028 Q138.978 426.445 137.033 427.325 L137.033 409.964 Z\" fill=\"#000000\" fill-rule=\"evenodd\" fill-opacity=\"1\" /><path clip-path=\"url(#clip580)\" d=\"M91.5706 100.986 L99.2095 100.986 L99.2095 74.6204 L90.8993 76.287 L90.8993 72.0278 L99.1632 70.3611 L103.839 70.3611 L103.839 100.986 L111.478 100.986 L111.478 104.921 L91.5706 104.921 L91.5706 100.986 Z\" fill=\"#000000\" fill-rule=\"evenodd\" fill-opacity=\"1\" /><path clip-path=\"url(#clip580)\" d=\"M120.922 99.0415 L125.807 99.0415 L125.807 104.921 L120.922 104.921 L120.922 99.0415 Z\" fill=\"#000000\" fill-rule=\"evenodd\" fill-opacity=\"1\" /><path clip-path=\"url(#clip580)\" d=\"M145.992 73.4398 Q142.381 73.4398 140.552 77.0046 Q138.746 80.5463 138.746 87.6759 Q138.746 94.7823 140.552 98.3471 Q142.381 101.889 145.992 101.889 Q149.626 101.889 151.431 98.3471 Q153.26 94.7823 153.26 87.6759 Q153.26 80.5463 151.431 77.0046 Q149.626 73.4398 145.992 73.4398 M145.992 69.7361 Q151.802 69.7361 154.857 74.3426 Q157.936 78.9259 157.936 87.6759 Q157.936 96.4027 154.857 101.009 Q151.802 105.592 145.992 105.592 Q140.181 105.592 137.103 101.009 Q134.047 96.4027 134.047 87.6759 Q134.047 78.9259 137.103 74.3426 Q140.181 69.7361 145.992 69.7361 Z\" fill=\"#000000\" fill-rule=\"evenodd\" fill-opacity=\"1\" /><polyline clip-path=\"url(#clip582)\" style=\"stroke:#009af9; stroke-linecap:butt; stroke-linejoin:round; stroke-width:12; stroke-opacity:1; fill:none\" points=\"\n",
       "  255.035,1445.72 275.607,1443.04 296.179,1437.69 316.751,1429.69 337.322,1419.08 357.894,1405.9 378.466,1390.19 399.038,1372.02 419.61,1351.47 440.182,1328.6 \n",
       "  460.754,1303.52 481.326,1276.33 501.898,1247.12 522.47,1216.01 543.042,1183.14 563.614,1148.62 584.186,1112.59 604.758,1075.2 625.33,1036.59 645.902,996.918 \n",
       "  666.474,956.338 687.046,915.01 707.617,873.097 728.189,830.765 748.761,788.18 769.333,745.512 789.905,702.927 810.477,660.595 831.049,618.682 851.621,577.354 \n",
       "  872.193,536.774 892.765,497.101 913.337,458.493 933.909,421.103 954.481,385.076 975.053,350.557 995.625,317.68 1016.2,286.576 1036.77,257.367 1057.34,230.169 \n",
       "  1077.91,205.089 1098.48,182.226 1119.06,161.67 1139.63,143.503 1160.2,127.795 1180.77,114.61 1201.34,103.999 1221.92,96.0033 1242.49,90.6555 1263.06,87.9763 \n",
       "  1283.63,87.9763 1304.2,90.6555 1324.78,96.0033 1345.35,103.999 1365.92,114.61 1386.49,127.795 1407.06,143.503 1427.64,161.67 1448.21,182.226 1468.78,205.089 \n",
       "  1489.35,230.169 1509.92,257.367 1530.5,286.576 1551.07,317.68 1571.64,350.557 1592.21,385.076 1612.78,421.103 1633.35,458.493 1653.93,497.101 1674.5,536.774 \n",
       "  1695.07,577.354 1715.64,618.682 1736.21,660.595 1756.79,702.927 1777.36,745.512 1797.93,788.18 1818.5,830.765 1839.07,873.097 1859.65,915.01 1880.22,956.338 \n",
       "  1900.79,996.918 1921.36,1036.59 1941.93,1075.2 1962.51,1112.59 1983.08,1148.62 2003.65,1183.14 2024.22,1216.01 2044.79,1247.12 2065.37,1276.33 2085.94,1303.52 \n",
       "  2106.51,1328.6 2127.08,1351.47 2147.65,1372.02 2168.23,1390.19 2188.8,1405.9 2209.37,1419.08 2229.94,1429.69 2250.51,1437.69 2271.09,1443.04 2291.66,1445.72 \n",
       "  \n",
       "  \"/>\n",
       "<polyline clip-path=\"url(#clip582)\" style=\"stroke:#e26f46; stroke-linecap:butt; stroke-linejoin:round; stroke-width:12; stroke-opacity:1; fill:none\" points=\"\n",
       "  255.035,1341.31 275.607,1323.81 296.179,1305.73 316.751,1286.41 337.322,1266.3 357.894,1245.85 378.466,1224.56 399.038,1202.67 419.61,1180.4 440.182,1157.5 \n",
       "  460.754,1134.24 481.326,1110.54 501.898,1086.49 522.47,1062.09 543.042,1037.39 563.614,1012.41 584.186,987.197 604.758,961.766 625.33,936.148 645.902,910.369 \n",
       "  666.474,884.456 687.046,858.433 707.617,832.325 728.189,806.158 748.761,779.954 769.333,753.738 789.905,727.534 810.477,701.367 831.049,675.259 851.621,649.236 \n",
       "  872.193,623.323 892.765,597.544 913.337,571.926 933.909,546.495 954.481,521.279 975.053,496.305 995.625,471.605 1016.2,447.207 1036.77,423.149 1057.34,399.448 \n",
       "  1077.91,376.188 1098.48,353.294 1119.06,331.019 1139.63,309.128 1160.2,287.84 1180.77,267.389 1201.34,247.282 1221.92,227.964 1242.49,209.879 1263.06,192.386 \n",
       "  1283.63,175.359 1304.2,159.731 1324.78,145.989 1345.35,133.353 1365.92,120.87 1386.49,109.064 1407.06,99.911 1427.64,95.2147 1448.21,94.3976 1468.78,95.3643 \n",
       "  1489.35,98.1211 1509.92,103.115 1530.5,110.803 1551.07,121.686 1571.64,136.317 1592.21,155.3 1612.78,179.312 1633.35,209.118 1653.93,245.592 1674.5,289.728 \n",
       "  1695.07,342.629 1715.64,405.454 1736.21,479.29 1756.79,564.864 1777.36,662.045 1797.93,871.647 1818.5,968.828 1839.07,1054.4 1859.65,1128.24 1880.22,1191.06 \n",
       "  1900.79,1243.96 1921.36,1288.1 1941.93,1324.57 1962.51,1354.38 1983.08,1378.39 2003.65,1397.37 2024.22,1412.01 2044.79,1422.89 2065.37,1430.58 2085.94,1435.57 \n",
       "  2106.51,1438.33 2127.08,1439.29 2147.65,1438.48 2168.23,1433.78 2188.8,1424.63 2209.37,1412.82 2229.94,1400.34 2250.51,1387.7 2271.09,1373.96 2291.66,1358.33 \n",
       "  \n",
       "  \"/>\n",
       "<polyline clip-path=\"url(#clip582)\" style=\"stroke:#3da44d; stroke-linecap:butt; stroke-linejoin:round; stroke-width:12; stroke-opacity:1; fill:none\" points=\"\n",
       "  255.035,1212.29 275.607,1195.83 296.179,1179.03 316.751,1161.82 337.322,1144.45 357.894,1127.13 378.466,1109.59 399.038,1091.72 419.61,1073.83 440.182,1055.9 \n",
       "  460.754,1037.7 481.326,1019.45 501.898,1001.16 522.47,982.687 543.042,964.203 563.614,945.61 584.186,926.966 604.758,908.261 625.33,889.506 645.902,870.707 \n",
       "  666.474,851.872 687.046,833.008 707.617,814.121 728.189,795.217 748.761,776.304 769.333,757.388 789.905,738.475 810.477,719.571 831.049,700.684 851.621,681.82 \n",
       "  872.193,662.985 892.765,644.186 913.337,625.431 933.909,606.726 954.481,588.082 975.053,569.489 995.625,551.005 1016.2,532.534 1036.77,514.238 1057.34,495.992 \n",
       "  1077.91,477.794 1098.48,459.864 1119.06,441.974 1139.63,424.105 1160.2,406.563 1180.77,389.24 1201.34,371.871 1221.92,354.657 1242.49,337.866 1263.06,321.402 \n",
       "  1283.63,304.952 1304.2,288.525 1324.78,272.534 1345.35,257.168 1365.92,242.235 1386.49,227.388 1407.06,212.453 1427.64,197.801 1448.21,184.129 1468.78,171.752 \n",
       "  1489.35,160.268 1509.92,148.72 1530.5,136.457 1551.07,123.772 1571.64,112.268 1592.21,104.281 1612.78,100.88 1633.35,100.639 1653.93,102.067 1674.5,105.521 \n",
       "  1695.07,111.68 1715.64,121.582 1736.21,136.874 1756.79,160.507 1777.36,198.864 1797.93,1334.83 1818.5,1373.18 1839.07,1396.82 1859.65,1412.11 1880.22,1422.01 \n",
       "  1900.79,1428.17 1921.36,1431.62 1941.93,1433.05 1962.51,1432.81 1983.08,1429.41 2003.65,1421.42 2024.22,1409.92 2044.79,1397.24 2065.37,1384.97 2085.94,1373.42 \n",
       "  2106.51,1361.94 2127.08,1349.56 2147.65,1335.89 2168.23,1321.24 2188.8,1306.3 2209.37,1291.46 2229.94,1276.52 2250.51,1261.16 2271.09,1245.17 2291.66,1228.74 \n",
       "  \n",
       "  \"/>\n",
       "<polyline clip-path=\"url(#clip582)\" style=\"stroke:#c271d2; stroke-linecap:butt; stroke-linejoin:round; stroke-width:12; stroke-opacity:1; fill:none\" points=\"\n",
       "  255.035,1122.77 275.607,1108.84 296.179,1094.89 316.751,1080.75 337.322,1066.46 357.894,1052.14 378.466,1037.9 399.038,1023.58 419.61,1009.09 440.182,994.586 \n",
       "  460.754,980.14 481.326,965.603 501.898,950.964 522.47,936.378 543.042,921.747 563.614,907.043 584.186,892.372 604.758,877.642 625.33,862.911 645.902,848.157 \n",
       "  666.474,833.392 687.046,818.615 707.617,803.83 728.189,789.039 748.761,774.244 769.333,759.448 789.905,744.653 810.477,729.862 831.049,715.077 851.621,700.3 \n",
       "  872.193,685.535 892.765,670.781 913.337,656.05 933.909,641.32 954.481,626.649 975.053,611.945 995.625,597.314 1016.2,582.728 1036.77,568.089 1057.34,553.552 \n",
       "  1077.91,539.106 1098.48,524.6 1119.06,510.111 1139.63,495.796 1160.2,481.547 1180.77,467.236 1201.34,452.944 1221.92,438.807 1242.49,424.849 1263.06,410.922 \n",
       "  1283.63,396.912 1304.2,382.946 1324.78,369.206 1345.35,355.683 1365.92,342.287 1386.49,328.87 1407.06,315.4 1427.64,302.011 1448.21,288.872 1468.78,276.146 \n",
       "  1489.35,263.761 1509.92,251.408 1530.5,238.918 1551.07,226.291 1571.64,213.743 1592.21,201.686 1612.78,190.49 1633.35,180.291 1653.93,170.591 1674.5,160.717 \n",
       "  1695.07,149.876 1715.64,137.76 1736.21,125.364 1756.79,114.923 1777.36,108.392 1797.93,1425.3 1818.5,1418.77 1839.07,1408.33 1859.65,1395.93 1880.22,1383.82 \n",
       "  1900.79,1372.98 1921.36,1363.1 1941.93,1353.4 1962.51,1343.2 1983.08,1332.01 2003.65,1319.95 2024.22,1307.4 2044.79,1294.77 2065.37,1282.28 2085.94,1269.93 \n",
       "  2106.51,1257.55 2127.08,1244.82 2147.65,1231.68 2168.23,1218.29 2188.8,1204.82 2209.37,1191.41 2229.94,1178.01 2250.51,1164.49 2271.09,1150.75 2291.66,1136.78 \n",
       "  \n",
       "  \"/>\n",
       "<polyline clip-path=\"url(#clip582)\" style=\"stroke:#ac8d18; stroke-linecap:butt; stroke-linejoin:round; stroke-width:12; stroke-opacity:1; fill:none\" points=\"\n",
       "  255.035,1061.68 275.607,1049.79 296.179,1037.95 316.751,1026.14 337.322,1014.31 357.894,1002.38 378.466,990.387 399.038,978.401 419.61,966.474 440.182,954.505 \n",
       "  460.754,942.437 481.326,930.374 501.898,918.36 522.47,906.305 543.042,894.184 563.614,882.105 584.186,870.018 604.758,857.879 625.33,845.773 645.902,833.636 \n",
       "  666.474,821.503 687.046,809.362 707.617,797.217 728.189,785.07 748.761,772.921 769.333,760.771 789.905,748.622 810.477,736.475 831.049,724.33 851.621,712.189 \n",
       "  872.193,700.056 892.765,687.919 913.337,675.813 933.909,663.674 954.481,651.587 975.053,639.508 995.625,627.387 1016.2,615.332 1036.77,603.318 1057.34,591.255 \n",
       "  1077.91,579.187 1098.48,567.218 1119.06,555.291 1139.63,543.305 1160.2,531.308 1180.77,519.385 1201.34,507.551 1221.92,495.746 1242.49,483.905 1263.06,472.016 \n",
       "  1283.63,460.204 1304.2,448.527 1324.78,436.92 1345.35,425.316 1365.92,413.665 1386.49,401.991 1407.06,390.41 1427.64,378.95 1448.21,367.609 1468.78,356.394 \n",
       "  1489.35,345.161 1509.92,333.889 1530.5,322.507 1551.07,311.302 1571.64,299.991 1592.21,289.792 1612.78,277.596 1633.35,270.383 1653.93,254.215 1674.5,251.795 \n",
       "  1695.07,231.221 1715.64,230.142 1736.21,210.178 1756.79,209.289 1777.36,191.146 1797.93,1342.55 1818.5,1324.4 1839.07,1323.51 1859.65,1303.55 1880.22,1302.47 \n",
       "  1900.79,1281.9 1921.36,1279.48 1941.93,1263.31 1962.51,1256.1 1983.08,1243.9 2003.65,1233.7 2024.22,1222.39 2044.79,1211.18 2065.37,1199.8 2085.94,1188.53 \n",
       "  2106.51,1177.3 2127.08,1166.08 2147.65,1154.74 2168.23,1143.28 2188.8,1131.7 2209.37,1120.03 2229.94,1108.38 2250.51,1096.77 2271.09,1085.16 2291.66,1073.49 \n",
       "  \n",
       "  \"/>\n",
       "<polyline clip-path=\"url(#clip582)\" style=\"stroke:#00a9ad; stroke-linecap:butt; stroke-linejoin:round; stroke-width:12; stroke-opacity:1; fill:none\" points=\"\n",
       "  255.035,1017.87 275.607,1007.8 296.179,997.648 316.751,987.446 337.322,977.241 357.894,967.055 378.466,956.899 399.038,946.719 419.61,936.473 440.182,926.198 \n",
       "  460.754,915.972 481.326,905.763 501.898,895.5 522.47,885.204 543.042,874.938 563.614,864.689 584.186,854.388 604.758,844.091 625.33,833.82 645.902,823.509 \n",
       "  666.474,813.216 687.046,802.913 707.617,792.61 728.189,782.305 748.761,771.999 769.333,761.693 789.905,751.387 810.477,741.082 831.049,730.779 851.621,720.476 \n",
       "  872.193,710.183 892.765,699.872 913.337,689.601 933.909,679.304 954.481,669.003 975.053,658.754 995.625,648.488 1016.2,638.192 1036.77,627.929 1057.34,617.72 \n",
       "  1077.91,607.494 1098.48,597.219 1119.06,586.973 1139.63,576.793 1160.2,566.637 1180.77,556.451 1201.34,546.246 1221.92,536.044 1242.49,525.893 1263.06,515.82 \n",
       "  1283.63,505.762 1304.2,495.658 1324.78,485.531 1345.35,475.418 1365.92,465.347 1386.49,455.409 1407.06,445.425 1427.64,435.644 1448.21,425.31 1468.78,416.242 \n",
       "  1489.35,404.362 1509.92,398.04 1530.5,382.305 1551.07,380.853 1571.64,361.439 1592.21,361.837 1612.78,342.647 1633.35,341.638 1653.93,323.287 1674.5,322.744 \n",
       "  1695.07,303.606 1715.64,303.593 1736.21,285.055 1756.79,285.351 1777.36,266.823 1797.93,1266.87 1818.5,1248.34 1839.07,1248.64 1859.65,1230.1 1880.22,1230.09 \n",
       "  1900.79,1210.95 1921.36,1210.4 1941.93,1192.05 1962.51,1191.05 1983.08,1171.86 2003.65,1172.25 2024.22,1152.84 2044.79,1151.39 2065.37,1135.65 2085.94,1129.33 \n",
       "  2106.51,1117.45 2127.08,1108.38 2147.65,1098.05 2168.23,1088.27 2188.8,1078.28 2209.37,1068.34 2229.94,1058.27 2250.51,1048.16 2271.09,1038.03 2291.66,1027.93 \n",
       "  \n",
       "  \"/>\n",
       "</svg>\n"
      ]
     },
     "execution_count": 15,
     "metadata": {},
     "output_type": "execute_result"
    }
   ],
   "source": [
    "x, thist, uhist = fv_solve1(\n",
    "    riemann_burgers_shock, cospi, 100, 1)\n",
    "plot(x, uhist[:,1:10:end], legend=:none)"
   ]
  },
  {
   "cell_type": "markdown",
   "id": "7ed9134f",
   "metadata": {
    "slideshow": {
     "slide_type": "slide"
    }
   },
   "source": [
    "# Rarefactions\n",
    "\n",
    "This solution was better, but we still have odd ripples in the rarefaction. This is an **expansion shock**, which is a **mathematical solution** to the PDE, but not a physical solution."
   ]
  },
  {
   "cell_type": "markdown",
   "id": "bf8f55ed",
   "metadata": {
    "cell_style": "split"
   },
   "source": [
    "![Toro (2009) Figure 2.14](../img/Toro-ShockRarefaction-2.14.png)"
   ]
  },
  {
   "cell_type": "markdown",
   "id": "830cc529",
   "metadata": {
    "cell_style": "split"
   },
   "source": [
    "but this violates the **entropy condition**\n",
    "$$ F'(u_L) > s > F'(u_R) . $$\n",
    "Shocks are compressive phenomena and physical solutions to the expansive scenario $F'(u_L) < F'(u_R)$ are rarefactions."
   ]
  },
  {
   "cell_type": "markdown",
   "id": "4d34f9f4",
   "metadata": {
    "slideshow": {
     "slide_type": "slide"
    }
   },
   "source": [
    "# Physical rarefactions"
   ]
  },
  {
   "cell_type": "markdown",
   "id": "e9e69fc1",
   "metadata": {
    "cell_style": "split"
   },
   "source": [
    "![Toro (2009) Figure 2.16](../img/Toro-Rarefaction-2.16.png)"
   ]
  },
  {
   "cell_type": "markdown",
   "id": "3abd5c4e",
   "metadata": {
    "cell_style": "split"
   },
   "source": [
    "We need to color into the rarefaction in a physical way. We can justify this by considering the hyperbolic problem to be the singular limit of a problem with diffusion/viscosity, leading to \"viscosity solutions\"."
   ]
  },
  {
   "cell_type": "markdown",
   "id": "ce50e4d5",
   "metadata": {
    "slideshow": {
     "slide_type": "slide"
    }
   },
   "source": [
    "# Entropy functions\n",
    "\n"
   ]
  },
  {
   "cell_type": "markdown",
   "id": "84b4ff75",
   "metadata": {
    "cell_style": "split"
   },
   "source": [
    "Consider a smooth function $\\eta(u)$ that is convex $\\eta''(u) > 0$ and a smooth solution $u(t,x)$.\n",
    "Then\n",
    "$$ u_t + F(u)_x = 0 $$\n",
    "is equivalent to\n",
    "$$ u_t + F'(u) u_x = 0 $$\n",
    "and we can write\n",
    "$$ \\eta'(u) u_t + \\eta'(u) F'(u) u_x = 0 . $$\n",
    "If we find a function $\\psi(u)$ such that $\\psi'(u) = \\eta'(u) F'(u)$, the equation above is equivalent (for smooth solutions) to\n",
    "$$ \\eta(u)_t + \\psi(u)_x = 0 $$\n",
    "which is a conservation law for the entropy $\\eta(u)$ with entropy flux $\\psi(u)$.\n"
   ]
  },
  {
   "cell_type": "markdown",
   "id": "fa4a46f7",
   "metadata": {
    "cell_style": "split"
   },
   "source": [
    "Now consider the parabolic equation\n",
    "$$ u_t + F(u)_x -\\epsilon u_{xx} = 0 $$\n",
    "for some positive $\\epsilon$.\n",
    "\n",
    "This equation has a smooth solution for any $\\epsilon > 0$ and $t > 0$ so we can multiply by $\\eta'(u)$ as above and apply the chain rule to yield\n",
    "$$ \\eta(u)_t + \\psi(u)_x - \\epsilon \\eta'(u) u_{xx} = 0 . $$\n",
    "Rearranging the last term produces\n",
    "$$ \\eta(u)_t + \\psi(u)_x - \\epsilon \\Big( \\eta'(u) u_x \\Big)_x = - \\epsilon \\eta''(u) u_x^2 . $$\n",
    "If both terms involving $\\epsilon$ were to vanish, we would be left with conservation of entropy."
   ]
  },
  {
   "cell_type": "markdown",
   "id": "6d313b3b",
   "metadata": {
    "slideshow": {
     "slide_type": "slide"
    }
   },
   "source": [
    "# Entropy solutions: $\\epsilon\\to 0$\n",
    "\n",
    "$$ \\eta(u)_t + \\psi(u)_x - \\epsilon \\Big( \\eta'(u) u_x \\Big)_x = - \\epsilon \\eta''(u) u_x^2 $$"
   ]
  },
  {
   "cell_type": "markdown",
   "id": "af206b05",
   "metadata": {
    "cell_style": "split"
   },
   "source": [
    "## Left side\n",
    "$$ \\int_a^b \\Big( \\eta'(u) u_x \\Big)_x dx = \\eta'(u) u_x |_{x=a}^b $$\n",
    "which is bounded independent of the values $u_x$ may take inside the interval.  Consequently, the left hand side reduces to a conservation law in the limit $\\epsilon\\to 0$."
   ]
  },
  {
   "cell_type": "markdown",
   "id": "57b75430",
   "metadata": {
    "cell_style": "split"
   },
   "source": [
    "## Right side\n",
    "\n",
    "The integral of the right hand side, however, does not vanish in the limit since\n",
    "$$\\int_a^b u_x^2$$ is unbounded as $u_x$ grows.\n",
    "* $\\eta(u)$ being convex implies $\\eta''(u) > 0$.\n",
    "\n",
    "So entropy must be dissipated across shocks,\n",
    "$$ \\eta(u)_t + \\psi(u)_x \\le 0, $$\n",
    "with equality for smooth solutions and strict inequality at shocks."
   ]
  },
  {
   "cell_type": "markdown",
   "id": "d3ddd88f",
   "metadata": {
    "slideshow": {
     "slide_type": "slide"
    }
   },
   "source": [
    "# Mathematical versus physical entropy\n",
    "\n",
    "Our choice of $\\eta(u)$ being a convex function $\\eta''(u) > 0$ causes entropy to be **dissipated** across shocks.  This is the convention in math literature because convex analysis chose the sign (versus \"concave analysis\").\n",
    "\n",
    "Physical entropy is **produced** by such processes, so $-\\eta(u)$ would make sense as a physical entropy."
   ]
  },
  {
   "cell_type": "markdown",
   "id": "e8fa2ddd",
   "metadata": {
    "cell_style": "split",
    "slideshow": {
     "slide_type": ""
    }
   },
   "source": [
    "## Uniqueness\n",
    "\n",
    "While any convex function will work to show uniqueness for **scalar** conservation laws, that is not true of hyperbolic **systems**, for which the \"entropy pair\" $(\\eta, \\psi)$ should satisfy a symmetry property. A \"physical entropy\" exists for real systems, and may be used for this purpose."
   ]
  },
  {
   "cell_type": "markdown",
   "id": "23c80f46",
   "metadata": {
    "cell_style": "split",
    "slideshow": {
     "slide_type": ""
    }
   },
   "source": [
    "## Shallow water\n",
    "\n",
    "$$\\begin{bmatrix} h \\\\ h\\mathbf u \\end{bmatrix}_t + \\nabla\\cdot\\begin{bmatrix} h\\mathbf u \\\\ h \\mathbf u \\otimes \\mathbf u + \\frac{g}{2} h^2 \\mathbf I \\end{bmatrix} = 0$$\n",
    "\n",
    "* conserve mass and momentum\n",
    "* energy is only conserved for smooth solutions\n",
    "* shocks (crashing waves) produce heat, but energy is not a state variable.\n",
    "* Energy is the \"entropy\" of shallow water\n",
    "$$ \\eta = \\underbrace{\\frac h 2 \\lvert \\mathbf u \\rvert^2}_{\\text{kinetic}} + \\underbrace{\\frac g 2 h^2}_{\\text{potential}}$$"
   ]
  },
  {
   "cell_type": "markdown",
   "id": "1b76c7ef",
   "metadata": {
    "slideshow": {
     "slide_type": "slide"
    }
   },
   "source": [
    "# Looking into the rarefaction fan\n",
    "\n"
   ]
  },
  {
   "cell_type": "code",
   "execution_count": 16,
   "id": "83e34248",
   "metadata": {
    "cell_style": "split"
   },
   "outputs": [
    {
     "data": {
      "text/plain": [
       "riemann_burgers (generic function with 1 method)"
      ]
     },
     "execution_count": 16,
     "metadata": {},
     "output_type": "execute_result"
    }
   ],
   "source": [
    "function riemann_burgers(uL, uR)\n",
    "    flux = zero(uL)\n",
    "    for i in 1:length(flux)\n",
    "        fL = flux_burgers(uL[i])\n",
    "        fR = flux_burgers(uR[i])\n",
    "        flux[i] = if uL[i] > uR[i] # shock\n",
    "            max(fL, fR)\n",
    "        elseif uL[i] > 0 # rarefaction all to the right\n",
    "            fL\n",
    "        elseif uR[i] < 0 # rarefaction all to the left\n",
    "            fR\n",
    "        else\n",
    "            0\n",
    "        end\n",
    "    end\n",
    "    flux\n",
    "end"
   ]
  },
  {
   "cell_type": "code",
   "execution_count": 17,
   "id": "10135413",
   "metadata": {
    "cell_style": "split",
    "scrolled": false
   },
   "outputs": [
    {
     "data": {
      "image/svg+xml": [
       "<?xml version=\"1.0\" encoding=\"utf-8\"?>\n",
       "<svg xmlns=\"http://www.w3.org/2000/svg\" xmlns:xlink=\"http://www.w3.org/1999/xlink\" width=\"600\" height=\"400\" viewBox=\"0 0 2400 1600\">\n",
       "<defs>\n",
       "  <clipPath id=\"clip620\">\n",
       "    <rect x=\"0\" y=\"0\" width=\"2400\" height=\"1600\"/>\n",
       "  </clipPath>\n",
       "</defs>\n",
       "<path clip-path=\"url(#clip620)\" d=\"\n",
       "M0 1600 L2400 1600 L2400 0 L0 0  Z\n",
       "  \" fill=\"#ffffff\" fill-rule=\"evenodd\" fill-opacity=\"1\"/>\n",
       "<defs>\n",
       "  <clipPath id=\"clip621\">\n",
       "    <rect x=\"480\" y=\"0\" width=\"1681\" height=\"1600\"/>\n",
       "  </clipPath>\n",
       "</defs>\n",
       "<path clip-path=\"url(#clip620)\" d=\"\n",
       "M193.936 1486.45 L2352.76 1486.45 L2352.76 47.2441 L193.936 47.2441  Z\n",
       "  \" fill=\"#ffffff\" fill-rule=\"evenodd\" fill-opacity=\"1\"/>\n",
       "<defs>\n",
       "  <clipPath id=\"clip622\">\n",
       "    <rect x=\"193\" y=\"47\" width=\"2160\" height=\"1440\"/>\n",
       "  </clipPath>\n",
       "</defs>\n",
       "<polyline clip-path=\"url(#clip622)\" style=\"stroke:#000000; stroke-linecap:butt; stroke-linejoin:round; stroke-width:2; stroke-opacity:0.1; fill:none\" points=\"\n",
       "  244.749,1486.45 244.749,47.2441 \n",
       "  \"/>\n",
       "<polyline clip-path=\"url(#clip622)\" style=\"stroke:#000000; stroke-linecap:butt; stroke-linejoin:round; stroke-width:2; stroke-opacity:0.1; fill:none\" points=\"\n",
       "  759.047,1486.45 759.047,47.2441 \n",
       "  \"/>\n",
       "<polyline clip-path=\"url(#clip622)\" style=\"stroke:#000000; stroke-linecap:butt; stroke-linejoin:round; stroke-width:2; stroke-opacity:0.1; fill:none\" points=\"\n",
       "  1273.35,1486.45 1273.35,47.2441 \n",
       "  \"/>\n",
       "<polyline clip-path=\"url(#clip622)\" style=\"stroke:#000000; stroke-linecap:butt; stroke-linejoin:round; stroke-width:2; stroke-opacity:0.1; fill:none\" points=\"\n",
       "  1787.64,1486.45 1787.64,47.2441 \n",
       "  \"/>\n",
       "<polyline clip-path=\"url(#clip622)\" style=\"stroke:#000000; stroke-linecap:butt; stroke-linejoin:round; stroke-width:2; stroke-opacity:0.1; fill:none\" points=\"\n",
       "  2301.94,1486.45 2301.94,47.2441 \n",
       "  \"/>\n",
       "<polyline clip-path=\"url(#clip620)\" style=\"stroke:#000000; stroke-linecap:butt; stroke-linejoin:round; stroke-width:4; stroke-opacity:1; fill:none\" points=\"\n",
       "  193.936,1486.45 2352.76,1486.45 \n",
       "  \"/>\n",
       "<polyline clip-path=\"url(#clip620)\" style=\"stroke:#000000; stroke-linecap:butt; stroke-linejoin:round; stroke-width:4; stroke-opacity:1; fill:none\" points=\"\n",
       "  244.749,1486.45 244.749,1467.55 \n",
       "  \"/>\n",
       "<polyline clip-path=\"url(#clip620)\" style=\"stroke:#000000; stroke-linecap:butt; stroke-linejoin:round; stroke-width:4; stroke-opacity:1; fill:none\" points=\"\n",
       "  759.047,1486.45 759.047,1467.55 \n",
       "  \"/>\n",
       "<polyline clip-path=\"url(#clip620)\" style=\"stroke:#000000; stroke-linecap:butt; stroke-linejoin:round; stroke-width:4; stroke-opacity:1; fill:none\" points=\"\n",
       "  1273.35,1486.45 1273.35,1467.55 \n",
       "  \"/>\n",
       "<polyline clip-path=\"url(#clip620)\" style=\"stroke:#000000; stroke-linecap:butt; stroke-linejoin:round; stroke-width:4; stroke-opacity:1; fill:none\" points=\"\n",
       "  1787.64,1486.45 1787.64,1467.55 \n",
       "  \"/>\n",
       "<polyline clip-path=\"url(#clip620)\" style=\"stroke:#000000; stroke-linecap:butt; stroke-linejoin:round; stroke-width:4; stroke-opacity:1; fill:none\" points=\"\n",
       "  2301.94,1486.45 2301.94,1467.55 \n",
       "  \"/>\n",
       "<path clip-path=\"url(#clip620)\" d=\"M191.277 1532.02 L220.953 1532.02 L220.953 1535.95 L191.277 1535.95 L191.277 1532.02 Z\" fill=\"#000000\" fill-rule=\"evenodd\" fill-opacity=\"1\" /><path clip-path=\"url(#clip620)\" d=\"M231.855 1544.91 L239.494 1544.91 L239.494 1518.55 L231.184 1520.21 L231.184 1515.95 L239.448 1514.29 L244.124 1514.29 L244.124 1544.91 L251.763 1544.91 L251.763 1548.85 L231.855 1548.85 L231.855 1544.91 Z\" fill=\"#000000\" fill-rule=\"evenodd\" fill-opacity=\"1\" /><path clip-path=\"url(#clip620)\" d=\"M261.207 1542.97 L266.091 1542.97 L266.091 1548.85 L261.207 1548.85 L261.207 1542.97 Z\" fill=\"#000000\" fill-rule=\"evenodd\" fill-opacity=\"1\" /><path clip-path=\"url(#clip620)\" d=\"M286.276 1517.37 Q282.665 1517.37 280.836 1520.93 Q279.031 1524.47 279.031 1531.6 Q279.031 1538.71 280.836 1542.27 Q282.665 1545.82 286.276 1545.82 Q289.91 1545.82 291.716 1542.27 Q293.545 1538.71 293.545 1531.6 Q293.545 1524.47 291.716 1520.93 Q289.91 1517.37 286.276 1517.37 M286.276 1513.66 Q292.086 1513.66 295.142 1518.27 Q298.221 1522.85 298.221 1531.6 Q298.221 1540.33 295.142 1544.94 Q292.086 1549.52 286.276 1549.52 Q280.466 1549.52 277.387 1544.94 Q274.332 1540.33 274.332 1531.6 Q274.332 1522.85 277.387 1518.27 Q280.466 1513.66 286.276 1513.66 Z\" fill=\"#000000\" fill-rule=\"evenodd\" fill-opacity=\"1\" /><path clip-path=\"url(#clip620)\" d=\"M706.073 1532.02 L735.749 1532.02 L735.749 1535.95 L706.073 1535.95 L706.073 1532.02 Z\" fill=\"#000000\" fill-rule=\"evenodd\" fill-opacity=\"1\" /><path clip-path=\"url(#clip620)\" d=\"M755.841 1517.37 Q752.23 1517.37 750.402 1520.93 Q748.596 1524.47 748.596 1531.6 Q748.596 1538.71 750.402 1542.27 Q752.23 1545.82 755.841 1545.82 Q759.476 1545.82 761.281 1542.27 Q763.11 1538.71 763.11 1531.6 Q763.11 1524.47 761.281 1520.93 Q759.476 1517.37 755.841 1517.37 M755.841 1513.66 Q761.651 1513.66 764.707 1518.27 Q767.786 1522.85 767.786 1531.6 Q767.786 1540.33 764.707 1544.94 Q761.651 1549.52 755.841 1549.52 Q750.031 1549.52 746.952 1544.94 Q743.897 1540.33 743.897 1531.6 Q743.897 1522.85 746.952 1518.27 Q750.031 1513.66 755.841 1513.66 Z\" fill=\"#000000\" fill-rule=\"evenodd\" fill-opacity=\"1\" /><path clip-path=\"url(#clip620)\" d=\"M776.003 1542.97 L780.887 1542.97 L780.887 1548.85 L776.003 1548.85 L776.003 1542.97 Z\" fill=\"#000000\" fill-rule=\"evenodd\" fill-opacity=\"1\" /><path clip-path=\"url(#clip620)\" d=\"M791.119 1514.29 L809.475 1514.29 L809.475 1518.22 L795.401 1518.22 L795.401 1526.7 Q796.42 1526.35 797.438 1526.19 Q798.457 1526 799.475 1526 Q805.262 1526 808.642 1529.17 Q812.022 1532.34 812.022 1537.76 Q812.022 1543.34 808.549 1546.44 Q805.077 1549.52 798.758 1549.52 Q796.582 1549.52 794.313 1549.15 Q792.068 1548.78 789.661 1548.04 L789.661 1543.34 Q791.744 1544.47 793.966 1545.03 Q796.188 1545.58 798.665 1545.58 Q802.67 1545.58 805.008 1543.48 Q807.346 1541.37 807.346 1537.76 Q807.346 1534.15 805.008 1532.04 Q802.67 1529.94 798.665 1529.94 Q796.79 1529.94 794.915 1530.35 Q793.063 1530.77 791.119 1531.65 L791.119 1514.29 Z\" fill=\"#000000\" fill-rule=\"evenodd\" fill-opacity=\"1\" /><path clip-path=\"url(#clip620)\" d=\"M1250.73 1517.37 Q1247.12 1517.37 1245.29 1520.93 Q1243.49 1524.47 1243.49 1531.6 Q1243.49 1538.71 1245.29 1542.27 Q1247.12 1545.82 1250.73 1545.82 Q1254.36 1545.82 1256.17 1542.27 Q1258 1538.71 1258 1531.6 Q1258 1524.47 1256.17 1520.93 Q1254.36 1517.37 1250.73 1517.37 M1250.73 1513.66 Q1256.54 1513.66 1259.6 1518.27 Q1262.67 1522.85 1262.67 1531.6 Q1262.67 1540.33 1259.6 1544.94 Q1256.54 1549.52 1250.73 1549.52 Q1244.92 1549.52 1241.84 1544.94 Q1238.79 1540.33 1238.79 1531.6 Q1238.79 1522.85 1241.84 1518.27 Q1244.92 1513.66 1250.73 1513.66 Z\" fill=\"#000000\" fill-rule=\"evenodd\" fill-opacity=\"1\" /><path clip-path=\"url(#clip620)\" d=\"M1270.89 1542.97 L1275.78 1542.97 L1275.78 1548.85 L1270.89 1548.85 L1270.89 1542.97 Z\" fill=\"#000000\" fill-rule=\"evenodd\" fill-opacity=\"1\" /><path clip-path=\"url(#clip620)\" d=\"M1295.96 1517.37 Q1292.35 1517.37 1290.52 1520.93 Q1288.72 1524.47 1288.72 1531.6 Q1288.72 1538.71 1290.52 1542.27 Q1292.35 1545.82 1295.96 1545.82 Q1299.6 1545.82 1301.4 1542.27 Q1303.23 1538.71 1303.23 1531.6 Q1303.23 1524.47 1301.4 1520.93 Q1299.6 1517.37 1295.96 1517.37 M1295.96 1513.66 Q1301.77 1513.66 1304.83 1518.27 Q1307.91 1522.85 1307.91 1531.6 Q1307.91 1540.33 1304.83 1544.94 Q1301.77 1549.52 1295.96 1549.52 Q1290.15 1549.52 1287.07 1544.94 Q1284.02 1540.33 1284.02 1531.6 Q1284.02 1522.85 1287.07 1518.27 Q1290.15 1513.66 1295.96 1513.66 Z\" fill=\"#000000\" fill-rule=\"evenodd\" fill-opacity=\"1\" /><path clip-path=\"url(#clip620)\" d=\"M1765.53 1517.37 Q1761.92 1517.37 1760.09 1520.93 Q1758.28 1524.47 1758.28 1531.6 Q1758.28 1538.71 1760.09 1542.27 Q1761.92 1545.82 1765.53 1545.82 Q1769.16 1545.82 1770.97 1542.27 Q1772.8 1538.71 1772.8 1531.6 Q1772.8 1524.47 1770.97 1520.93 Q1769.16 1517.37 1765.53 1517.37 M1765.53 1513.66 Q1771.34 1513.66 1774.39 1518.27 Q1777.47 1522.85 1777.47 1531.6 Q1777.47 1540.33 1774.39 1544.94 Q1771.34 1549.52 1765.53 1549.52 Q1759.72 1549.52 1756.64 1544.94 Q1753.58 1540.33 1753.58 1531.6 Q1753.58 1522.85 1756.64 1518.27 Q1759.72 1513.66 1765.53 1513.66 Z\" fill=\"#000000\" fill-rule=\"evenodd\" fill-opacity=\"1\" /><path clip-path=\"url(#clip620)\" d=\"M1785.69 1542.97 L1790.57 1542.97 L1790.57 1548.85 L1785.69 1548.85 L1785.69 1542.97 Z\" fill=\"#000000\" fill-rule=\"evenodd\" fill-opacity=\"1\" /><path clip-path=\"url(#clip620)\" d=\"M1800.8 1514.29 L1819.16 1514.29 L1819.16 1518.22 L1805.09 1518.22 L1805.09 1526.7 Q1806.11 1526.35 1807.12 1526.19 Q1808.14 1526 1809.16 1526 Q1814.95 1526 1818.33 1529.17 Q1821.71 1532.34 1821.71 1537.76 Q1821.71 1543.34 1818.23 1546.44 Q1814.76 1549.52 1808.44 1549.52 Q1806.27 1549.52 1804 1549.15 Q1801.75 1548.78 1799.35 1548.04 L1799.35 1543.34 Q1801.43 1544.47 1803.65 1545.03 Q1805.87 1545.58 1808.35 1545.58 Q1812.36 1545.58 1814.69 1543.48 Q1817.03 1541.37 1817.03 1537.76 Q1817.03 1534.15 1814.69 1532.04 Q1812.36 1529.94 1808.35 1529.94 Q1806.48 1529.94 1804.6 1530.35 Q1802.75 1530.77 1800.8 1531.65 L1800.8 1514.29 Z\" fill=\"#000000\" fill-rule=\"evenodd\" fill-opacity=\"1\" /><path clip-path=\"url(#clip620)\" d=\"M2269.1 1544.91 L2276.74 1544.91 L2276.74 1518.55 L2268.42 1520.21 L2268.42 1515.95 L2276.69 1514.29 L2281.36 1514.29 L2281.36 1544.91 L2289 1544.91 L2289 1548.85 L2269.1 1548.85 L2269.1 1544.91 Z\" fill=\"#000000\" fill-rule=\"evenodd\" fill-opacity=\"1\" /><path clip-path=\"url(#clip620)\" d=\"M2298.45 1542.97 L2303.33 1542.97 L2303.33 1548.85 L2298.45 1548.85 L2298.45 1542.97 Z\" fill=\"#000000\" fill-rule=\"evenodd\" fill-opacity=\"1\" /><path clip-path=\"url(#clip620)\" d=\"M2323.52 1517.37 Q2319.91 1517.37 2318.08 1520.93 Q2316.27 1524.47 2316.27 1531.6 Q2316.27 1538.71 2318.08 1542.27 Q2319.91 1545.82 2323.52 1545.82 Q2327.15 1545.82 2328.96 1542.27 Q2330.79 1538.71 2330.79 1531.6 Q2330.79 1524.47 2328.96 1520.93 Q2327.15 1517.37 2323.52 1517.37 M2323.52 1513.66 Q2329.33 1513.66 2332.38 1518.27 Q2335.46 1522.85 2335.46 1531.6 Q2335.46 1540.33 2332.38 1544.94 Q2329.33 1549.52 2323.52 1549.52 Q2317.71 1549.52 2314.63 1544.94 Q2311.57 1540.33 2311.57 1531.6 Q2311.57 1522.85 2314.63 1518.27 Q2317.71 1513.66 2323.52 1513.66 Z\" fill=\"#000000\" fill-rule=\"evenodd\" fill-opacity=\"1\" /><polyline clip-path=\"url(#clip622)\" style=\"stroke:#000000; stroke-linecap:butt; stroke-linejoin:round; stroke-width:2; stroke-opacity:0.1; fill:none\" points=\"\n",
       "  193.936,1446.05 2352.76,1446.05 \n",
       "  \"/>\n",
       "<polyline clip-path=\"url(#clip622)\" style=\"stroke:#000000; stroke-linecap:butt; stroke-linejoin:round; stroke-width:2; stroke-opacity:0.1; fill:none\" points=\"\n",
       "  193.936,1106.45 2352.76,1106.45 \n",
       "  \"/>\n",
       "<polyline clip-path=\"url(#clip622)\" style=\"stroke:#000000; stroke-linecap:butt; stroke-linejoin:round; stroke-width:2; stroke-opacity:0.1; fill:none\" points=\"\n",
       "  193.936,766.846 2352.76,766.846 \n",
       "  \"/>\n",
       "<polyline clip-path=\"url(#clip622)\" style=\"stroke:#000000; stroke-linecap:butt; stroke-linejoin:round; stroke-width:2; stroke-opacity:0.1; fill:none\" points=\"\n",
       "  193.936,427.244 2352.76,427.244 \n",
       "  \"/>\n",
       "<polyline clip-path=\"url(#clip622)\" style=\"stroke:#000000; stroke-linecap:butt; stroke-linejoin:round; stroke-width:2; stroke-opacity:0.1; fill:none\" points=\"\n",
       "  193.936,87.6411 2352.76,87.6411 \n",
       "  \"/>\n",
       "<polyline clip-path=\"url(#clip620)\" style=\"stroke:#000000; stroke-linecap:butt; stroke-linejoin:round; stroke-width:4; stroke-opacity:1; fill:none\" points=\"\n",
       "  193.936,1486.45 193.936,47.2441 \n",
       "  \"/>\n",
       "<polyline clip-path=\"url(#clip620)\" style=\"stroke:#000000; stroke-linecap:butt; stroke-linejoin:round; stroke-width:4; stroke-opacity:1; fill:none\" points=\"\n",
       "  193.936,1446.05 212.834,1446.05 \n",
       "  \"/>\n",
       "<polyline clip-path=\"url(#clip620)\" style=\"stroke:#000000; stroke-linecap:butt; stroke-linejoin:round; stroke-width:4; stroke-opacity:1; fill:none\" points=\"\n",
       "  193.936,1106.45 212.834,1106.45 \n",
       "  \"/>\n",
       "<polyline clip-path=\"url(#clip620)\" style=\"stroke:#000000; stroke-linecap:butt; stroke-linejoin:round; stroke-width:4; stroke-opacity:1; fill:none\" points=\"\n",
       "  193.936,766.846 212.834,766.846 \n",
       "  \"/>\n",
       "<polyline clip-path=\"url(#clip620)\" style=\"stroke:#000000; stroke-linecap:butt; stroke-linejoin:round; stroke-width:4; stroke-opacity:1; fill:none\" points=\"\n",
       "  193.936,427.244 212.834,427.244 \n",
       "  \"/>\n",
       "<polyline clip-path=\"url(#clip620)\" style=\"stroke:#000000; stroke-linecap:butt; stroke-linejoin:round; stroke-width:4; stroke-opacity:1; fill:none\" points=\"\n",
       "  193.936,87.6411 212.834,87.6411 \n",
       "  \"/>\n",
       "<path clip-path=\"url(#clip620)\" d=\"M50.9921 1446.5 L80.6679 1446.5 L80.6679 1450.44 L50.9921 1450.44 L50.9921 1446.5 Z\" fill=\"#000000\" fill-rule=\"evenodd\" fill-opacity=\"1\" /><path clip-path=\"url(#clip620)\" d=\"M91.5706 1459.4 L99.2095 1459.4 L99.2095 1433.03 L90.8993 1434.7 L90.8993 1430.44 L99.1632 1428.77 L103.839 1428.77 L103.839 1459.4 L111.478 1459.4 L111.478 1463.33 L91.5706 1463.33 L91.5706 1459.4 Z\" fill=\"#000000\" fill-rule=\"evenodd\" fill-opacity=\"1\" /><path clip-path=\"url(#clip620)\" d=\"M120.922 1457.45 L125.807 1457.45 L125.807 1463.33 L120.922 1463.33 L120.922 1457.45 Z\" fill=\"#000000\" fill-rule=\"evenodd\" fill-opacity=\"1\" /><path clip-path=\"url(#clip620)\" d=\"M145.992 1431.85 Q142.381 1431.85 140.552 1435.41 Q138.746 1438.96 138.746 1446.09 Q138.746 1453.19 140.552 1456.76 Q142.381 1460.3 145.992 1460.3 Q149.626 1460.3 151.431 1456.76 Q153.26 1453.19 153.26 1446.09 Q153.26 1438.96 151.431 1435.41 Q149.626 1431.85 145.992 1431.85 M145.992 1428.15 Q151.802 1428.15 154.857 1432.75 Q157.936 1437.34 157.936 1446.09 Q157.936 1454.81 154.857 1459.42 Q151.802 1464 145.992 1464 Q140.181 1464 137.103 1459.42 Q134.047 1454.81 134.047 1446.09 Q134.047 1437.34 137.103 1432.75 Q140.181 1428.15 145.992 1428.15 Z\" fill=\"#000000\" fill-rule=\"evenodd\" fill-opacity=\"1\" /><path clip-path=\"url(#clip620)\" d=\"M51.9875 1106.9 L81.6633 1106.9 L81.6633 1110.83 L51.9875 1110.83 L51.9875 1106.9 Z\" fill=\"#000000\" fill-rule=\"evenodd\" fill-opacity=\"1\" /><path clip-path=\"url(#clip620)\" d=\"M101.756 1092.25 Q98.1447 1092.25 96.316 1095.81 Q94.5104 1099.35 94.5104 1106.48 Q94.5104 1113.59 96.316 1117.15 Q98.1447 1120.7 101.756 1120.7 Q105.39 1120.7 107.196 1117.15 Q109.024 1113.59 109.024 1106.48 Q109.024 1099.35 107.196 1095.81 Q105.39 1092.25 101.756 1092.25 M101.756 1088.54 Q107.566 1088.54 110.621 1093.15 Q113.7 1097.73 113.7 1106.48 Q113.7 1115.21 110.621 1119.82 Q107.566 1124.4 101.756 1124.4 Q95.9456 1124.4 92.8669 1119.82 Q89.8114 1115.21 89.8114 1106.48 Q89.8114 1097.73 92.8669 1093.15 Q95.9456 1088.54 101.756 1088.54 Z\" fill=\"#000000\" fill-rule=\"evenodd\" fill-opacity=\"1\" /><path clip-path=\"url(#clip620)\" d=\"M121.918 1117.85 L126.802 1117.85 L126.802 1123.73 L121.918 1123.73 L121.918 1117.85 Z\" fill=\"#000000\" fill-rule=\"evenodd\" fill-opacity=\"1\" /><path clip-path=\"url(#clip620)\" d=\"M137.033 1089.17 L155.39 1089.17 L155.39 1093.1 L141.316 1093.1 L141.316 1101.58 Q142.334 1101.23 143.353 1101.07 Q144.371 1100.88 145.39 1100.88 Q151.177 1100.88 154.556 1104.05 Q157.936 1107.22 157.936 1112.64 Q157.936 1118.22 154.464 1121.32 Q150.992 1124.4 144.672 1124.4 Q142.496 1124.4 140.228 1124.03 Q137.982 1123.66 135.575 1122.92 L135.575 1118.22 Q137.658 1119.35 139.881 1119.91 Q142.103 1120.46 144.58 1120.46 Q148.584 1120.46 150.922 1118.36 Q153.26 1116.25 153.26 1112.64 Q153.26 1109.03 150.922 1106.92 Q148.584 1104.82 144.58 1104.82 Q142.705 1104.82 140.83 1105.23 Q138.978 1105.65 137.033 1106.53 L137.033 1089.17 Z\" fill=\"#000000\" fill-rule=\"evenodd\" fill-opacity=\"1\" /><path clip-path=\"url(#clip620)\" d=\"M100.76 752.645 Q97.1493 752.645 95.3206 756.209 Q93.515 759.751 93.515 766.881 Q93.515 773.987 95.3206 777.552 Q97.1493 781.094 100.76 781.094 Q104.395 781.094 106.2 777.552 Q108.029 773.987 108.029 766.881 Q108.029 759.751 106.2 756.209 Q104.395 752.645 100.76 752.645 M100.76 748.941 Q106.571 748.941 109.626 753.547 Q112.705 758.131 112.705 766.881 Q112.705 775.608 109.626 780.214 Q106.571 784.797 100.76 784.797 Q94.9502 784.797 91.8715 780.214 Q88.816 775.608 88.816 766.881 Q88.816 758.131 91.8715 753.547 Q94.9502 748.941 100.76 748.941 Z\" fill=\"#000000\" fill-rule=\"evenodd\" fill-opacity=\"1\" /><path clip-path=\"url(#clip620)\" d=\"M120.922 778.246 L125.807 778.246 L125.807 784.126 L120.922 784.126 L120.922 778.246 Z\" fill=\"#000000\" fill-rule=\"evenodd\" fill-opacity=\"1\" /><path clip-path=\"url(#clip620)\" d=\"M145.992 752.645 Q142.381 752.645 140.552 756.209 Q138.746 759.751 138.746 766.881 Q138.746 773.987 140.552 777.552 Q142.381 781.094 145.992 781.094 Q149.626 781.094 151.431 777.552 Q153.26 773.987 153.26 766.881 Q153.26 759.751 151.431 756.209 Q149.626 752.645 145.992 752.645 M145.992 748.941 Q151.802 748.941 154.857 753.547 Q157.936 758.131 157.936 766.881 Q157.936 775.608 154.857 780.214 Q151.802 784.797 145.992 784.797 Q140.181 784.797 137.103 780.214 Q134.047 775.608 134.047 766.881 Q134.047 758.131 137.103 753.547 Q140.181 748.941 145.992 748.941 Z\" fill=\"#000000\" fill-rule=\"evenodd\" fill-opacity=\"1\" /><path clip-path=\"url(#clip620)\" d=\"M101.756 413.042 Q98.1447 413.042 96.316 416.607 Q94.5104 420.149 94.5104 427.278 Q94.5104 434.385 96.316 437.95 Q98.1447 441.491 101.756 441.491 Q105.39 441.491 107.196 437.95 Q109.024 434.385 109.024 427.278 Q109.024 420.149 107.196 416.607 Q105.39 413.042 101.756 413.042 M101.756 409.339 Q107.566 409.339 110.621 413.945 Q113.7 418.528 113.7 427.278 Q113.7 436.005 110.621 440.612 Q107.566 445.195 101.756 445.195 Q95.9456 445.195 92.8669 440.612 Q89.8114 436.005 89.8114 427.278 Q89.8114 418.528 92.8669 413.945 Q95.9456 409.339 101.756 409.339 Z\" fill=\"#000000\" fill-rule=\"evenodd\" fill-opacity=\"1\" /><path clip-path=\"url(#clip620)\" d=\"M121.918 438.644 L126.802 438.644 L126.802 444.524 L121.918 444.524 L121.918 438.644 Z\" fill=\"#000000\" fill-rule=\"evenodd\" fill-opacity=\"1\" /><path clip-path=\"url(#clip620)\" d=\"M137.033 409.964 L155.39 409.964 L155.39 413.899 L141.316 413.899 L141.316 422.371 Q142.334 422.024 143.353 421.862 Q144.371 421.676 145.39 421.676 Q151.177 421.676 154.556 424.848 Q157.936 428.019 157.936 433.436 Q157.936 439.014 154.464 442.116 Q150.992 445.195 144.672 445.195 Q142.496 445.195 140.228 444.824 Q137.982 444.454 135.575 443.713 L135.575 439.014 Q137.658 440.149 139.881 440.704 Q142.103 441.26 144.58 441.26 Q148.584 441.26 150.922 439.153 Q153.26 437.047 153.26 433.436 Q153.26 429.825 150.922 427.718 Q148.584 425.612 144.58 425.612 Q142.705 425.612 140.83 426.028 Q138.978 426.445 137.033 427.325 L137.033 409.964 Z\" fill=\"#000000\" fill-rule=\"evenodd\" fill-opacity=\"1\" /><path clip-path=\"url(#clip620)\" d=\"M91.5706 100.986 L99.2095 100.986 L99.2095 74.6204 L90.8993 76.287 L90.8993 72.0278 L99.1632 70.3611 L103.839 70.3611 L103.839 100.986 L111.478 100.986 L111.478 104.921 L91.5706 104.921 L91.5706 100.986 Z\" fill=\"#000000\" fill-rule=\"evenodd\" fill-opacity=\"1\" /><path clip-path=\"url(#clip620)\" d=\"M120.922 99.0415 L125.807 99.0415 L125.807 104.921 L120.922 104.921 L120.922 99.0415 Z\" fill=\"#000000\" fill-rule=\"evenodd\" fill-opacity=\"1\" /><path clip-path=\"url(#clip620)\" d=\"M145.992 73.4398 Q142.381 73.4398 140.552 77.0046 Q138.746 80.5463 138.746 87.6759 Q138.746 94.7823 140.552 98.3471 Q142.381 101.889 145.992 101.889 Q149.626 101.889 151.431 98.3471 Q153.26 94.7823 153.26 87.6759 Q153.26 80.5463 151.431 77.0046 Q149.626 73.4398 145.992 73.4398 M145.992 69.7361 Q151.802 69.7361 154.857 74.3426 Q157.936 78.9259 157.936 87.6759 Q157.936 96.4027 154.857 101.009 Q151.802 105.592 145.992 105.592 Q140.181 105.592 137.103 101.009 Q134.047 96.4027 134.047 87.6759 Q134.047 78.9259 137.103 74.3426 Q140.181 69.7361 145.992 69.7361 Z\" fill=\"#000000\" fill-rule=\"evenodd\" fill-opacity=\"1\" /><polyline clip-path=\"url(#clip622)\" style=\"stroke:#009af9; stroke-linecap:butt; stroke-linejoin:round; stroke-width:12; stroke-opacity:1; fill:none\" points=\"\n",
       "  255.035,1445.72 275.607,1443.04 296.179,1437.69 316.751,1429.69 337.322,1419.08 357.894,1405.9 378.466,1390.19 399.038,1372.02 419.61,1351.47 440.182,1328.6 \n",
       "  460.754,1303.52 481.326,1276.33 501.898,1247.12 522.47,1216.01 543.042,1183.14 563.614,1148.62 584.186,1112.59 604.758,1075.2 625.33,1036.59 645.902,996.918 \n",
       "  666.474,956.338 687.046,915.01 707.617,873.097 728.189,830.765 748.761,788.18 769.333,745.512 789.905,702.927 810.477,660.595 831.049,618.682 851.621,577.354 \n",
       "  872.193,536.774 892.765,497.101 913.337,458.493 933.909,421.103 954.481,385.076 975.053,350.557 995.625,317.68 1016.2,286.576 1036.77,257.367 1057.34,230.169 \n",
       "  1077.91,205.089 1098.48,182.226 1119.06,161.67 1139.63,143.503 1160.2,127.795 1180.77,114.61 1201.34,103.999 1221.92,96.0033 1242.49,90.6555 1263.06,87.9763 \n",
       "  1283.63,87.9763 1304.2,90.6555 1324.78,96.0033 1345.35,103.999 1365.92,114.61 1386.49,127.795 1407.06,143.503 1427.64,161.67 1448.21,182.226 1468.78,205.089 \n",
       "  1489.35,230.169 1509.92,257.367 1530.5,286.576 1551.07,317.68 1571.64,350.557 1592.21,385.076 1612.78,421.103 1633.35,458.493 1653.93,497.101 1674.5,536.774 \n",
       "  1695.07,577.354 1715.64,618.682 1736.21,660.595 1756.79,702.927 1777.36,745.512 1797.93,788.18 1818.5,830.765 1839.07,873.097 1859.65,915.01 1880.22,956.338 \n",
       "  1900.79,996.918 1921.36,1036.59 1941.93,1075.2 1962.51,1112.59 1983.08,1148.62 2003.65,1183.14 2024.22,1216.01 2044.79,1247.12 2065.37,1276.33 2085.94,1303.52 \n",
       "  2106.51,1328.6 2127.08,1351.47 2147.65,1372.02 2168.23,1390.19 2188.8,1405.9 2209.37,1419.08 2229.94,1429.69 2250.51,1437.69 2271.09,1443.04 2291.66,1445.72 \n",
       "  \n",
       "  \"/>\n",
       "<polyline clip-path=\"url(#clip622)\" style=\"stroke:#e26f46; stroke-linecap:butt; stroke-linejoin:round; stroke-width:12; stroke-opacity:1; fill:none\" points=\"\n",
       "  255.035,1338.51 275.607,1321.77 296.179,1304.11 316.751,1285.62 337.322,1266.35 357.894,1246.36 378.466,1225.7 399.038,1204.44 419.61,1182.61 440.182,1160.27 \n",
       "  460.754,1137.44 481.326,1114.18 501.898,1090.51 522.47,1066.47 543.042,1042.1 563.614,1017.43 584.186,992.482 604.758,967.29 625.33,941.881 645.902,916.282 \n",
       "  666.474,890.518 687.046,864.609 707.617,838.566 728.189,812.332 748.761,785.284 769.333,748.407 789.905,721.36 810.477,695.126 831.049,669.082 851.621,643.174 \n",
       "  872.193,617.41 892.765,591.811 913.337,566.402 933.909,541.21 954.481,516.263 975.053,491.589 995.625,467.219 1016.2,443.184 1036.77,419.516 1057.34,396.251 \n",
       "  1077.91,373.426 1098.48,351.079 1119.06,329.251 1139.63,307.987 1160.2,287.335 1180.77,267.345 1201.34,248.073 1221.92,229.578 1242.49,211.925 1263.06,195.187 \n",
       "  1283.63,179.439 1304.2,164.77 1324.78,151.272 1345.35,139.052 1365.92,128.227 1386.49,118.928 1407.06,111.303 1427.64,105.519 1448.21,101.765 1468.78,100.259 \n",
       "  1489.35,101.248 1509.92,105.02 1530.5,111.905 1551.07,122.291 1571.64,136.63 1592.21,155.452 1612.78,179.38 1633.35,209.146 1653.93,245.603 1674.5,289.732 \n",
       "  1695.07,342.63 1715.64,405.455 1736.21,479.29 1756.79,564.864 1777.36,662.045 1797.93,871.647 1818.5,968.828 1839.07,1054.4 1859.65,1128.24 1880.22,1191.06 \n",
       "  1900.79,1243.96 1921.36,1288.09 1941.93,1324.55 1962.51,1354.31 1983.08,1378.24 2003.65,1397.06 2024.22,1411.4 2044.79,1421.79 2065.37,1428.67 2085.94,1432.44 \n",
       "  2106.51,1433.43 2127.08,1431.93 2147.65,1428.17 2168.23,1422.39 2188.8,1414.76 2209.37,1405.47 2229.94,1394.64 2250.51,1382.42 2271.09,1368.92 2291.66,1354.25 \n",
       "  \n",
       "  \"/>\n",
       "<polyline clip-path=\"url(#clip622)\" style=\"stroke:#3da44d; stroke-linecap:butt; stroke-linejoin:round; stroke-width:12; stroke-opacity:1; fill:none\" points=\"\n",
       "  255.035,1214.64 275.607,1198.48 296.179,1182.07 316.751,1165.42 337.322,1148.56 357.894,1131.49 378.466,1114.24 399.038,1096.81 419.61,1079.22 440.182,1061.49 \n",
       "  460.754,1043.61 481.326,1025.61 501.898,1007.5 522.47,989.269 543.042,970.944 563.614,952.528 584.186,934.03 604.758,915.458 625.33,896.817 645.902,878.115 \n",
       "  666.474,859.354 687.046,840.533 707.617,821.635 728.189,802.591 748.761,783.081 769.333,750.611 789.905,731.101 810.477,712.057 831.049,693.159 851.621,674.338 \n",
       "  872.193,655.577 892.765,636.875 913.337,618.234 933.909,599.662 954.481,581.164 975.053,562.748 995.625,544.423 1016.2,526.196 1036.77,508.078 1057.34,490.077 \n",
       "  1077.91,472.204 1098.48,454.468 1119.06,436.881 1139.63,419.455 1160.2,402.202 1180.77,385.137 1201.34,368.273 1221.92,351.626 1242.49,335.214 1263.06,319.055 \n",
       "  1283.63,303.168 1304.2,287.578 1324.78,272.307 1345.35,257.383 1365.92,242.836 1386.49,228.7 1407.06,215.014 1427.64,201.818 1448.21,189.164 1468.78,177.107 \n",
       "  1489.35,165.713 1509.92,155.057 1530.5,145.231 1551.07,136.341 1571.64,128.52 1592.21,121.928 1612.78,116.767 1633.35,113.296 1653.93,111.857 1674.5,112.914 \n",
       "  1695.07,117.125 1715.64,125.478 1736.21,139.573 1756.79,162.307 1777.36,200.012 1797.93,1333.68 1818.5,1371.39 1839.07,1394.12 1859.65,1408.21 1880.22,1416.57 \n",
       "  1900.79,1420.78 1921.36,1421.83 1941.93,1420.4 1962.51,1416.93 1983.08,1411.76 2003.65,1405.17 2024.22,1397.35 2044.79,1388.46 2065.37,1378.63 2085.94,1367.98 \n",
       "  2106.51,1356.58 2127.08,1344.53 2147.65,1331.87 2168.23,1318.68 2188.8,1304.99 2209.37,1290.86 2229.94,1276.31 2250.51,1261.39 2271.09,1246.11 2291.66,1230.52 \n",
       "  \n",
       "  \"/>\n",
       "<polyline clip-path=\"url(#clip622)\" style=\"stroke:#c271d2; stroke-linecap:butt; stroke-linejoin:round; stroke-width:12; stroke-opacity:1; fill:none\" points=\"\n",
       "  255.035,1127.68 275.607,1113.95 296.179,1100.13 316.751,1086.23 337.322,1072.25 357.894,1058.19 378.466,1044.06 399.038,1029.87 419.61,1015.61 440.182,1001.3 \n",
       "  460.754,986.937 481.326,972.523 501.898,958.063 522.47,943.561 543.042,929.018 563.614,914.439 584.186,899.826 604.758,885.181 625.33,870.506 645.902,855.801 \n",
       "  666.474,841.065 687.046,826.29 707.617,811.459 728.189,796.525 748.761,781.348 769.333,752.344 789.905,737.167 810.477,722.233 831.049,707.402 851.621,692.627 \n",
       "  872.193,677.891 892.765,663.186 913.337,648.511 933.909,633.866 954.481,619.253 975.053,604.674 995.625,590.131 1016.2,575.629 1036.77,561.169 1057.34,546.755 \n",
       "  1077.91,532.39 1098.48,518.079 1119.06,503.825 1139.63,489.631 1160.2,475.503 1180.77,461.445 1201.34,447.461 1221.92,433.557 1242.49,419.738 1263.06,406.009 \n",
       "  1283.63,392.377 1304.2,378.849 1324.78,365.431 1345.35,352.132 1365.92,338.959 1386.49,325.922 1407.06,313.031 1427.64,300.297 1448.21,287.732 1468.78,275.349 \n",
       "  1489.35,263.164 1509.92,251.192 1530.5,239.453 1551.07,227.969 1571.64,216.763 1592.21,205.864 1612.78,195.305 1633.35,185.124 1653.93,175.367 1674.5,166.088 \n",
       "  1695.07,157.356 1715.64,149.255 1736.21,141.893 1756.79,135.415 1777.36,130.018 1797.93,1403.67 1818.5,1398.28 1839.07,1391.8 1859.65,1384.44 1880.22,1376.34 \n",
       "  1900.79,1367.6 1921.36,1358.33 1941.93,1348.57 1962.51,1338.39 1983.08,1327.83 2003.65,1316.93 2024.22,1305.72 2044.79,1294.24 2065.37,1282.5 2085.94,1270.53 \n",
       "  2106.51,1258.34 2127.08,1245.96 2147.65,1233.39 2168.23,1220.66 2188.8,1207.77 2209.37,1194.73 2229.94,1181.56 2250.51,1168.26 2271.09,1154.84 2291.66,1141.31 \n",
       "  \n",
       "  \"/>\n",
       "<polyline clip-path=\"url(#clip622)\" style=\"stroke:#ac8d18; stroke-linecap:butt; stroke-linejoin:round; stroke-width:12; stroke-opacity:1; fill:none\" points=\"\n",
       "  255.035,1067.46 275.607,1055.81 296.179,1044.13 316.751,1032.41 337.322,1020.65 357.894,1008.85 378.466,997.028 399.038,985.173 419.61,973.29 440.182,961.38 \n",
       "  460.754,949.446 481.326,937.488 501.898,925.508 522.47,913.507 543.042,901.487 563.614,889.449 584.186,877.393 604.758,865.319 625.33,853.229 645.902,841.12 \n",
       "  666.474,828.989 687.046,816.829 707.617,804.628 728.189,792.355 748.761,779.949 769.333,753.743 789.905,741.337 810.477,729.064 831.049,716.863 851.621,704.703 \n",
       "  872.193,692.572 892.765,680.463 913.337,668.373 933.909,656.299 954.481,644.243 975.053,632.205 995.625,620.185 1016.2,608.184 1036.77,596.204 1057.34,584.246 \n",
       "  1077.91,572.312 1098.48,560.402 1119.06,548.519 1139.63,536.664 1160.2,524.839 1180.77,513.046 1201.34,501.287 1221.92,489.563 1242.49,477.878 1263.06,466.232 \n",
       "  1283.63,454.629 1304.2,443.07 1324.78,431.56 1345.35,420.1 1365.92,408.693 1386.49,397.343 1407.06,386.052 1427.64,374.826 1448.21,363.667 1468.78,352.581 \n",
       "  1489.35,341.57 1509.92,330.642 1530.5,319.801 1551.07,309.052 1571.64,298.404 1592.21,287.863 1612.78,277.436 1633.35,267.134 1653.93,256.967 1674.5,246.945 \n",
       "  1695.07,237.081 1715.64,227.392 1736.21,217.893 1756.79,208.605 1777.36,199.551 1797.93,1334.14 1818.5,1325.09 1839.07,1315.8 1859.65,1306.3 1880.22,1296.61 \n",
       "  1900.79,1286.75 1921.36,1276.73 1941.93,1266.56 1962.51,1256.26 1983.08,1245.83 2003.65,1235.29 2024.22,1224.64 2044.79,1213.89 2065.37,1203.05 2085.94,1192.12 \n",
       "  2106.51,1181.11 2127.08,1170.02 2147.65,1158.87 2168.23,1147.64 2188.8,1136.35 2209.37,1125 2229.94,1113.59 2250.51,1102.13 2271.09,1090.62 2291.66,1079.06 \n",
       "  \n",
       "  \"/>\n",
       "<polyline clip-path=\"url(#clip622)\" style=\"stroke:#00a9ad; stroke-linecap:butt; stroke-linejoin:round; stroke-width:12; stroke-opacity:1; fill:none\" points=\"\n",
       "  255.035,1024.04 275.607,1014.01 296.179,1003.96 316.751,993.882 337.322,983.789 357.894,973.679 378.466,963.553 399.038,953.41 419.61,943.253 440.182,933.081 \n",
       "  460.754,922.896 481.326,912.698 501.898,902.488 522.47,892.267 543.042,882.034 563.614,871.791 584.186,861.536 604.758,851.271 625.33,840.994 645.902,830.704 \n",
       "  666.474,820.396 687.046,810.067 707.617,799.706 728.189,789.295 748.761,778.796 769.333,754.896 789.905,744.397 810.477,733.986 831.049,723.625 851.621,713.296 \n",
       "  872.193,702.988 892.765,692.698 913.337,682.421 933.909,672.156 954.481,661.901 975.053,651.658 995.625,641.425 1016.2,631.204 1036.77,620.994 1057.34,610.796 \n",
       "  1077.91,600.611 1098.48,590.439 1119.06,580.282 1139.63,570.139 1160.2,560.013 1180.77,549.903 1201.34,539.81 1221.92,529.736 1242.49,519.682 1263.06,509.648 \n",
       "  1283.63,499.636 1304.2,489.647 1324.78,479.681 1345.35,469.741 1365.92,459.827 1386.49,449.94 1407.06,440.084 1427.64,430.257 1448.21,420.464 1468.78,410.704 \n",
       "  1489.35,400.981 1509.92,391.295 1530.5,381.649 1551.07,372.046 1571.64,362.487 1592.21,352.975 1612.78,343.514 1633.35,334.105 1653.93,324.753 1674.5,315.46 \n",
       "  1695.07,306.231 1715.64,297.071 1736.21,287.983 1756.79,278.973 1777.36,270.047 1797.93,1263.65 1818.5,1254.72 1839.07,1245.71 1859.65,1236.62 1880.22,1227.46 \n",
       "  1900.79,1218.23 1921.36,1208.94 1941.93,1199.59 1962.51,1190.18 1983.08,1180.72 2003.65,1171.21 2024.22,1161.65 2044.79,1152.04 2065.37,1142.4 2085.94,1132.71 \n",
       "  2106.51,1122.99 2127.08,1113.23 2147.65,1103.43 2168.23,1093.61 2188.8,1083.75 2209.37,1073.87 2229.94,1063.95 2250.51,1054.01 2271.09,1044.05 2291.66,1034.06 \n",
       "  \n",
       "  \"/>\n",
       "</svg>\n"
      ]
     },
     "execution_count": 17,
     "metadata": {},
     "output_type": "execute_result"
    }
   ],
   "source": [
    "x, thist, uhist = fv_solve1(\n",
    "    riemann_burgers, cospi, 100, 1)\n",
    "plot(x, uhist[:,1:10:end], legend=:none)"
   ]
  },
  {
   "cell_type": "markdown",
   "id": "bc00ba24",
   "metadata": {
    "slideshow": {
     "slide_type": "slide"
    }
   },
   "source": [
    "# Traffic equation"
   ]
  },
  {
   "cell_type": "markdown",
   "id": "47bb4b3f",
   "metadata": {
    "cell_style": "split"
   },
   "source": [
    "Our flux function is\n",
    "$$ f(u) = u (1 - u) $$\n",
    "and corresponding wave speed is\n",
    "$$ f'(u) = 1 - 2 u . $$\n",
    "* **Shock**\n",
    "The entropy condition for a shock\n",
    "$$ f'(u_L) > f'(u_R) $$\n",
    "occurs whenever $u_L < u_R$.\n",
    "By Rankine-Hugoniot\n",
    "$$ s \\Delta u = \\Delta f, $$\n",
    "the shock moves to the right when $\\Delta f = f(u_R) - f(u_L)$ is positive, in which case the flux is $f(u_L)$.  Taking the other case, the numerical flux for a shock is $\\min[f(u_L), f(u_R)]$.\n",
    "\n",
    "* **Rarefaction**\n",
    "A rarefaction occurs when $u_L > u_R$ and moves to the right when $f'(u_L) > 0$ which is the case when $u_L < 1/2$.\n",
    "Note that while $f'(1/2) = 0$ appears within a sonic rarefaction, the flux $f(1/2) \\ne 0$."
   ]
  },
  {
   "cell_type": "code",
   "execution_count": 18,
   "id": "6ebf0261",
   "metadata": {
    "cell_style": "split"
   },
   "outputs": [
    {
     "data": {
      "image/svg+xml": [
       "<?xml version=\"1.0\" encoding=\"utf-8\"?>\n",
       "<svg xmlns=\"http://www.w3.org/2000/svg\" xmlns:xlink=\"http://www.w3.org/1999/xlink\" width=\"600\" height=\"400\" viewBox=\"0 0 2400 1600\">\n",
       "<defs>\n",
       "  <clipPath id=\"clip660\">\n",
       "    <rect x=\"0\" y=\"0\" width=\"2400\" height=\"1600\"/>\n",
       "  </clipPath>\n",
       "</defs>\n",
       "<path clip-path=\"url(#clip660)\" d=\"\n",
       "M0 1600 L2400 1600 L2400 0 L0 0  Z\n",
       "  \" fill=\"#ffffff\" fill-rule=\"evenodd\" fill-opacity=\"1\"/>\n",
       "<defs>\n",
       "  <clipPath id=\"clip661\">\n",
       "    <rect x=\"480\" y=\"0\" width=\"1681\" height=\"1600\"/>\n",
       "  </clipPath>\n",
       "</defs>\n",
       "<path clip-path=\"url(#clip660)\" d=\"\n",
       "M186.274 1486.45 L2352.76 1486.45 L2352.76 47.2441 L186.274 47.2441  Z\n",
       "  \" fill=\"#ffffff\" fill-rule=\"evenodd\" fill-opacity=\"1\"/>\n",
       "<defs>\n",
       "  <clipPath id=\"clip662\">\n",
       "    <rect x=\"186\" y=\"47\" width=\"2167\" height=\"1440\"/>\n",
       "  </clipPath>\n",
       "</defs>\n",
       "<polyline clip-path=\"url(#clip662)\" style=\"stroke:#000000; stroke-linecap:butt; stroke-linejoin:round; stroke-width:2; stroke-opacity:0.1; fill:none\" points=\"\n",
       "  237.267,1486.45 237.267,47.2441 \n",
       "  \"/>\n",
       "<polyline clip-path=\"url(#clip662)\" style=\"stroke:#000000; stroke-linecap:butt; stroke-linejoin:round; stroke-width:2; stroke-opacity:0.1; fill:none\" points=\"\n",
       "  753.391,1486.45 753.391,47.2441 \n",
       "  \"/>\n",
       "<polyline clip-path=\"url(#clip662)\" style=\"stroke:#000000; stroke-linecap:butt; stroke-linejoin:round; stroke-width:2; stroke-opacity:0.1; fill:none\" points=\"\n",
       "  1269.51,1486.45 1269.51,47.2441 \n",
       "  \"/>\n",
       "<polyline clip-path=\"url(#clip662)\" style=\"stroke:#000000; stroke-linecap:butt; stroke-linejoin:round; stroke-width:2; stroke-opacity:0.1; fill:none\" points=\"\n",
       "  1785.64,1486.45 1785.64,47.2441 \n",
       "  \"/>\n",
       "<polyline clip-path=\"url(#clip662)\" style=\"stroke:#000000; stroke-linecap:butt; stroke-linejoin:round; stroke-width:2; stroke-opacity:0.1; fill:none\" points=\"\n",
       "  2301.76,1486.45 2301.76,47.2441 \n",
       "  \"/>\n",
       "<polyline clip-path=\"url(#clip660)\" style=\"stroke:#000000; stroke-linecap:butt; stroke-linejoin:round; stroke-width:4; stroke-opacity:1; fill:none\" points=\"\n",
       "  186.274,1486.45 2352.76,1486.45 \n",
       "  \"/>\n",
       "<polyline clip-path=\"url(#clip660)\" style=\"stroke:#000000; stroke-linecap:butt; stroke-linejoin:round; stroke-width:4; stroke-opacity:1; fill:none\" points=\"\n",
       "  237.267,1486.45 237.267,1467.55 \n",
       "  \"/>\n",
       "<polyline clip-path=\"url(#clip660)\" style=\"stroke:#000000; stroke-linecap:butt; stroke-linejoin:round; stroke-width:4; stroke-opacity:1; fill:none\" points=\"\n",
       "  753.391,1486.45 753.391,1467.55 \n",
       "  \"/>\n",
       "<polyline clip-path=\"url(#clip660)\" style=\"stroke:#000000; stroke-linecap:butt; stroke-linejoin:round; stroke-width:4; stroke-opacity:1; fill:none\" points=\"\n",
       "  1269.51,1486.45 1269.51,1467.55 \n",
       "  \"/>\n",
       "<polyline clip-path=\"url(#clip660)\" style=\"stroke:#000000; stroke-linecap:butt; stroke-linejoin:round; stroke-width:4; stroke-opacity:1; fill:none\" points=\"\n",
       "  1785.64,1486.45 1785.64,1467.55 \n",
       "  \"/>\n",
       "<polyline clip-path=\"url(#clip660)\" style=\"stroke:#000000; stroke-linecap:butt; stroke-linejoin:round; stroke-width:4; stroke-opacity:1; fill:none\" points=\"\n",
       "  2301.76,1486.45 2301.76,1467.55 \n",
       "  \"/>\n",
       "<path clip-path=\"url(#clip660)\" d=\"M183.795 1532.02 L213.471 1532.02 L213.471 1535.95 L183.795 1535.95 L183.795 1532.02 Z\" fill=\"#000000\" fill-rule=\"evenodd\" fill-opacity=\"1\" /><path clip-path=\"url(#clip660)\" d=\"M224.374 1544.91 L232.012 1544.91 L232.012 1518.55 L223.702 1520.21 L223.702 1515.95 L231.966 1514.29 L236.642 1514.29 L236.642 1544.91 L244.281 1544.91 L244.281 1548.85 L224.374 1548.85 L224.374 1544.91 Z\" fill=\"#000000\" fill-rule=\"evenodd\" fill-opacity=\"1\" /><path clip-path=\"url(#clip660)\" d=\"M253.725 1542.97 L258.61 1542.97 L258.61 1548.85 L253.725 1548.85 L253.725 1542.97 Z\" fill=\"#000000\" fill-rule=\"evenodd\" fill-opacity=\"1\" /><path clip-path=\"url(#clip660)\" d=\"M278.795 1517.37 Q275.184 1517.37 273.355 1520.93 Q271.549 1524.47 271.549 1531.6 Q271.549 1538.71 273.355 1542.27 Q275.184 1545.82 278.795 1545.82 Q282.429 1545.82 284.234 1542.27 Q286.063 1538.71 286.063 1531.6 Q286.063 1524.47 284.234 1520.93 Q282.429 1517.37 278.795 1517.37 M278.795 1513.66 Q284.605 1513.66 287.66 1518.27 Q290.739 1522.85 290.739 1531.6 Q290.739 1540.33 287.66 1544.94 Q284.605 1549.52 278.795 1549.52 Q272.984 1549.52 269.906 1544.94 Q266.85 1540.33 266.85 1531.6 Q266.85 1522.85 269.906 1518.27 Q272.984 1513.66 278.795 1513.66 Z\" fill=\"#000000\" fill-rule=\"evenodd\" fill-opacity=\"1\" /><path clip-path=\"url(#clip660)\" d=\"M700.417 1532.02 L730.093 1532.02 L730.093 1535.95 L700.417 1535.95 L700.417 1532.02 Z\" fill=\"#000000\" fill-rule=\"evenodd\" fill-opacity=\"1\" /><path clip-path=\"url(#clip660)\" d=\"M750.185 1517.37 Q746.574 1517.37 744.745 1520.93 Q742.94 1524.47 742.94 1531.6 Q742.94 1538.71 744.745 1542.27 Q746.574 1545.82 750.185 1545.82 Q753.819 1545.82 755.625 1542.27 Q757.453 1538.71 757.453 1531.6 Q757.453 1524.47 755.625 1520.93 Q753.819 1517.37 750.185 1517.37 M750.185 1513.66 Q755.995 1513.66 759.051 1518.27 Q762.129 1522.85 762.129 1531.6 Q762.129 1540.33 759.051 1544.94 Q755.995 1549.52 750.185 1549.52 Q744.375 1549.52 741.296 1544.94 Q738.241 1540.33 738.241 1531.6 Q738.241 1522.85 741.296 1518.27 Q744.375 1513.66 750.185 1513.66 Z\" fill=\"#000000\" fill-rule=\"evenodd\" fill-opacity=\"1\" /><path clip-path=\"url(#clip660)\" d=\"M770.347 1542.97 L775.231 1542.97 L775.231 1548.85 L770.347 1548.85 L770.347 1542.97 Z\" fill=\"#000000\" fill-rule=\"evenodd\" fill-opacity=\"1\" /><path clip-path=\"url(#clip660)\" d=\"M785.463 1514.29 L803.819 1514.29 L803.819 1518.22 L789.745 1518.22 L789.745 1526.7 Q790.763 1526.35 791.782 1526.19 Q792.801 1526 793.819 1526 Q799.606 1526 802.986 1529.17 Q806.365 1532.34 806.365 1537.76 Q806.365 1543.34 802.893 1546.44 Q799.421 1549.52 793.101 1549.52 Q790.926 1549.52 788.657 1549.15 Q786.412 1548.78 784.004 1548.04 L784.004 1543.34 Q786.088 1544.47 788.31 1545.03 Q790.532 1545.58 793.009 1545.58 Q797.013 1545.58 799.351 1543.48 Q801.689 1541.37 801.689 1537.76 Q801.689 1534.15 799.351 1532.04 Q797.013 1529.94 793.009 1529.94 Q791.134 1529.94 789.259 1530.35 Q787.407 1530.77 785.463 1531.65 L785.463 1514.29 Z\" fill=\"#000000\" fill-rule=\"evenodd\" fill-opacity=\"1\" /><path clip-path=\"url(#clip660)\" d=\"M1246.9 1517.37 Q1243.29 1517.37 1241.46 1520.93 Q1239.65 1524.47 1239.65 1531.6 Q1239.65 1538.71 1241.46 1542.27 Q1243.29 1545.82 1246.9 1545.82 Q1250.53 1545.82 1252.34 1542.27 Q1254.17 1538.71 1254.17 1531.6 Q1254.17 1524.47 1252.34 1520.93 Q1250.53 1517.37 1246.9 1517.37 M1246.9 1513.66 Q1252.71 1513.66 1255.77 1518.27 Q1258.84 1522.85 1258.84 1531.6 Q1258.84 1540.33 1255.77 1544.94 Q1252.71 1549.52 1246.9 1549.52 Q1241.09 1549.52 1238.01 1544.94 Q1234.95 1540.33 1234.95 1531.6 Q1234.95 1522.85 1238.01 1518.27 Q1241.09 1513.66 1246.9 1513.66 Z\" fill=\"#000000\" fill-rule=\"evenodd\" fill-opacity=\"1\" /><path clip-path=\"url(#clip660)\" d=\"M1267.06 1542.97 L1271.95 1542.97 L1271.95 1548.85 L1267.06 1548.85 L1267.06 1542.97 Z\" fill=\"#000000\" fill-rule=\"evenodd\" fill-opacity=\"1\" /><path clip-path=\"url(#clip660)\" d=\"M1292.13 1517.37 Q1288.52 1517.37 1286.69 1520.93 Q1284.89 1524.47 1284.89 1531.6 Q1284.89 1538.71 1286.69 1542.27 Q1288.52 1545.82 1292.13 1545.82 Q1295.76 1545.82 1297.57 1542.27 Q1299.4 1538.71 1299.4 1531.6 Q1299.4 1524.47 1297.57 1520.93 Q1295.76 1517.37 1292.13 1517.37 M1292.13 1513.66 Q1297.94 1513.66 1301 1518.27 Q1304.07 1522.85 1304.07 1531.6 Q1304.07 1540.33 1301 1544.94 Q1297.94 1549.52 1292.13 1549.52 Q1286.32 1549.52 1283.24 1544.94 Q1280.19 1540.33 1280.19 1531.6 Q1280.19 1522.85 1283.24 1518.27 Q1286.32 1513.66 1292.13 1513.66 Z\" fill=\"#000000\" fill-rule=\"evenodd\" fill-opacity=\"1\" /><path clip-path=\"url(#clip660)\" d=\"M1763.52 1517.37 Q1759.91 1517.37 1758.08 1520.93 Q1756.28 1524.47 1756.28 1531.6 Q1756.28 1538.71 1758.08 1542.27 Q1759.91 1545.82 1763.52 1545.82 Q1767.16 1545.82 1768.96 1542.27 Q1770.79 1538.71 1770.79 1531.6 Q1770.79 1524.47 1768.96 1520.93 Q1767.16 1517.37 1763.52 1517.37 M1763.52 1513.66 Q1769.33 1513.66 1772.39 1518.27 Q1775.47 1522.85 1775.47 1531.6 Q1775.47 1540.33 1772.39 1544.94 Q1769.33 1549.52 1763.52 1549.52 Q1757.71 1549.52 1754.63 1544.94 Q1751.58 1540.33 1751.58 1531.6 Q1751.58 1522.85 1754.63 1518.27 Q1757.71 1513.66 1763.52 1513.66 Z\" fill=\"#000000\" fill-rule=\"evenodd\" fill-opacity=\"1\" /><path clip-path=\"url(#clip660)\" d=\"M1783.68 1542.97 L1788.57 1542.97 L1788.57 1548.85 L1783.68 1548.85 L1783.68 1542.97 Z\" fill=\"#000000\" fill-rule=\"evenodd\" fill-opacity=\"1\" /><path clip-path=\"url(#clip660)\" d=\"M1798.8 1514.29 L1817.15 1514.29 L1817.15 1518.22 L1803.08 1518.22 L1803.08 1526.7 Q1804.1 1526.35 1805.12 1526.19 Q1806.14 1526 1807.15 1526 Q1812.94 1526 1816.32 1529.17 Q1819.7 1532.34 1819.7 1537.76 Q1819.7 1543.34 1816.23 1546.44 Q1812.76 1549.52 1806.44 1549.52 Q1804.26 1549.52 1801.99 1549.15 Q1799.75 1548.78 1797.34 1548.04 L1797.34 1543.34 Q1799.42 1544.47 1801.65 1545.03 Q1803.87 1545.58 1806.34 1545.58 Q1810.35 1545.58 1812.69 1543.48 Q1815.03 1541.37 1815.03 1537.76 Q1815.03 1534.15 1812.69 1532.04 Q1810.35 1529.94 1806.34 1529.94 Q1804.47 1529.94 1802.59 1530.35 Q1800.74 1530.77 1798.8 1531.65 L1798.8 1514.29 Z\" fill=\"#000000\" fill-rule=\"evenodd\" fill-opacity=\"1\" /><path clip-path=\"url(#clip660)\" d=\"M2268.92 1544.91 L2276.55 1544.91 L2276.55 1518.55 L2268.24 1520.21 L2268.24 1515.95 L2276.51 1514.29 L2281.18 1514.29 L2281.18 1544.91 L2288.82 1544.91 L2288.82 1548.85 L2268.92 1548.85 L2268.92 1544.91 Z\" fill=\"#000000\" fill-rule=\"evenodd\" fill-opacity=\"1\" /><path clip-path=\"url(#clip660)\" d=\"M2298.27 1542.97 L2303.15 1542.97 L2303.15 1548.85 L2298.27 1548.85 L2298.27 1542.97 Z\" fill=\"#000000\" fill-rule=\"evenodd\" fill-opacity=\"1\" /><path clip-path=\"url(#clip660)\" d=\"M2323.34 1517.37 Q2319.73 1517.37 2317.9 1520.93 Q2316.09 1524.47 2316.09 1531.6 Q2316.09 1538.71 2317.9 1542.27 Q2319.73 1545.82 2323.34 1545.82 Q2326.97 1545.82 2328.78 1542.27 Q2330.61 1538.71 2330.61 1531.6 Q2330.61 1524.47 2328.78 1520.93 Q2326.97 1517.37 2323.34 1517.37 M2323.34 1513.66 Q2329.15 1513.66 2332.2 1518.27 Q2335.28 1522.85 2335.28 1531.6 Q2335.28 1540.33 2332.2 1544.94 Q2329.15 1549.52 2323.34 1549.52 Q2317.53 1549.52 2314.45 1544.94 Q2311.39 1540.33 2311.39 1531.6 Q2311.39 1522.85 2314.45 1518.27 Q2317.53 1513.66 2323.34 1513.66 Z\" fill=\"#000000\" fill-rule=\"evenodd\" fill-opacity=\"1\" /><polyline clip-path=\"url(#clip662)\" style=\"stroke:#000000; stroke-linecap:butt; stroke-linejoin:round; stroke-width:2; stroke-opacity:0.1; fill:none\" points=\"\n",
       "  186.274,1445.72 2352.76,1445.72 \n",
       "  \"/>\n",
       "<polyline clip-path=\"url(#clip662)\" style=\"stroke:#000000; stroke-linecap:butt; stroke-linejoin:round; stroke-width:2; stroke-opacity:0.1; fill:none\" points=\"\n",
       "  186.274,1106.28 2352.76,1106.28 \n",
       "  \"/>\n",
       "<polyline clip-path=\"url(#clip662)\" style=\"stroke:#000000; stroke-linecap:butt; stroke-linejoin:round; stroke-width:2; stroke-opacity:0.1; fill:none\" points=\"\n",
       "  186.274,766.846 2352.76,766.846 \n",
       "  \"/>\n",
       "<polyline clip-path=\"url(#clip662)\" style=\"stroke:#000000; stroke-linecap:butt; stroke-linejoin:round; stroke-width:2; stroke-opacity:0.1; fill:none\" points=\"\n",
       "  186.274,427.411 2352.76,427.411 \n",
       "  \"/>\n",
       "<polyline clip-path=\"url(#clip662)\" style=\"stroke:#000000; stroke-linecap:butt; stroke-linejoin:round; stroke-width:2; stroke-opacity:0.1; fill:none\" points=\"\n",
       "  186.274,87.9763 2352.76,87.9763 \n",
       "  \"/>\n",
       "<polyline clip-path=\"url(#clip660)\" style=\"stroke:#000000; stroke-linecap:butt; stroke-linejoin:round; stroke-width:4; stroke-opacity:1; fill:none\" points=\"\n",
       "  186.274,1486.45 186.274,47.2441 \n",
       "  \"/>\n",
       "<polyline clip-path=\"url(#clip660)\" style=\"stroke:#000000; stroke-linecap:butt; stroke-linejoin:round; stroke-width:4; stroke-opacity:1; fill:none\" points=\"\n",
       "  186.274,1445.72 205.172,1445.72 \n",
       "  \"/>\n",
       "<polyline clip-path=\"url(#clip660)\" style=\"stroke:#000000; stroke-linecap:butt; stroke-linejoin:round; stroke-width:4; stroke-opacity:1; fill:none\" points=\"\n",
       "  186.274,1106.28 205.172,1106.28 \n",
       "  \"/>\n",
       "<polyline clip-path=\"url(#clip660)\" style=\"stroke:#000000; stroke-linecap:butt; stroke-linejoin:round; stroke-width:4; stroke-opacity:1; fill:none\" points=\"\n",
       "  186.274,766.846 205.172,766.846 \n",
       "  \"/>\n",
       "<polyline clip-path=\"url(#clip660)\" style=\"stroke:#000000; stroke-linecap:butt; stroke-linejoin:round; stroke-width:4; stroke-opacity:1; fill:none\" points=\"\n",
       "  186.274,427.411 205.172,427.411 \n",
       "  \"/>\n",
       "<polyline clip-path=\"url(#clip660)\" style=\"stroke:#000000; stroke-linecap:butt; stroke-linejoin:round; stroke-width:4; stroke-opacity:1; fill:none\" points=\"\n",
       "  186.274,87.9763 205.172,87.9763 \n",
       "  \"/>\n",
       "<path clip-path=\"url(#clip660)\" d=\"M62.9365 1431.51 Q59.3254 1431.51 57.4967 1435.08 Q55.6912 1438.62 55.6912 1445.75 Q55.6912 1452.86 57.4967 1456.42 Q59.3254 1459.96 62.9365 1459.96 Q66.5707 1459.96 68.3763 1456.42 Q70.205 1452.86 70.205 1445.75 Q70.205 1438.62 68.3763 1435.08 Q66.5707 1431.51 62.9365 1431.51 M62.9365 1427.81 Q68.7467 1427.81 71.8022 1432.42 Q74.8809 1437 74.8809 1445.75 Q74.8809 1454.48 71.8022 1459.08 Q68.7467 1463.67 62.9365 1463.67 Q57.1264 1463.67 54.0477 1459.08 Q50.9921 1454.48 50.9921 1445.75 Q50.9921 1437 54.0477 1432.42 Q57.1264 1427.81 62.9365 1427.81 Z\" fill=\"#000000\" fill-rule=\"evenodd\" fill-opacity=\"1\" /><path clip-path=\"url(#clip660)\" d=\"M83.0984 1457.12 L87.9827 1457.12 L87.9827 1463 L83.0984 1463 L83.0984 1457.12 Z\" fill=\"#000000\" fill-rule=\"evenodd\" fill-opacity=\"1\" /><path clip-path=\"url(#clip660)\" d=\"M108.168 1431.51 Q104.557 1431.51 102.728 1435.08 Q100.922 1438.62 100.922 1445.75 Q100.922 1452.86 102.728 1456.42 Q104.557 1459.96 108.168 1459.96 Q111.802 1459.96 113.608 1456.42 Q115.436 1452.86 115.436 1445.75 Q115.436 1438.62 113.608 1435.08 Q111.802 1431.51 108.168 1431.51 M108.168 1427.81 Q113.978 1427.81 117.033 1432.42 Q120.112 1437 120.112 1445.75 Q120.112 1454.48 117.033 1459.08 Q113.978 1463.67 108.168 1463.67 Q102.358 1463.67 99.2789 1459.08 Q96.2234 1454.48 96.2234 1445.75 Q96.2234 1437 99.2789 1432.42 Q102.358 1427.81 108.168 1427.81 Z\" fill=\"#000000\" fill-rule=\"evenodd\" fill-opacity=\"1\" /><path clip-path=\"url(#clip660)\" d=\"M138.33 1431.51 Q134.719 1431.51 132.89 1435.08 Q131.084 1438.62 131.084 1445.75 Q131.084 1452.86 132.89 1456.42 Q134.719 1459.96 138.33 1459.96 Q141.964 1459.96 143.769 1456.42 Q145.598 1452.86 145.598 1445.75 Q145.598 1438.62 143.769 1435.08 Q141.964 1431.51 138.33 1431.51 M138.33 1427.81 Q144.14 1427.81 147.195 1432.42 Q150.274 1437 150.274 1445.75 Q150.274 1454.48 147.195 1459.08 Q144.14 1463.67 138.33 1463.67 Q132.519 1463.67 129.441 1459.08 Q126.385 1454.48 126.385 1445.75 Q126.385 1437 129.441 1432.42 Q132.519 1427.81 138.33 1427.81 Z\" fill=\"#000000\" fill-rule=\"evenodd\" fill-opacity=\"1\" /><path clip-path=\"url(#clip660)\" d=\"M63.9319 1092.08 Q60.3208 1092.08 58.4921 1095.64 Q56.6865 1099.19 56.6865 1106.32 Q56.6865 1113.42 58.4921 1116.99 Q60.3208 1120.53 63.9319 1120.53 Q67.5661 1120.53 69.3717 1116.99 Q71.2004 1113.42 71.2004 1106.32 Q71.2004 1099.19 69.3717 1095.64 Q67.5661 1092.08 63.9319 1092.08 M63.9319 1088.38 Q69.742 1088.38 72.7976 1092.98 Q75.8763 1097.57 75.8763 1106.32 Q75.8763 1115.04 72.7976 1119.65 Q69.742 1124.23 63.9319 1124.23 Q58.1217 1124.23 55.043 1119.65 Q51.9875 1115.04 51.9875 1106.32 Q51.9875 1097.57 55.043 1092.98 Q58.1217 1088.38 63.9319 1088.38 Z\" fill=\"#000000\" fill-rule=\"evenodd\" fill-opacity=\"1\" /><path clip-path=\"url(#clip660)\" d=\"M84.0938 1117.68 L88.978 1117.68 L88.978 1123.56 L84.0938 1123.56 L84.0938 1117.68 Z\" fill=\"#000000\" fill-rule=\"evenodd\" fill-opacity=\"1\" /><path clip-path=\"url(#clip660)\" d=\"M103.191 1119.63 L119.51 1119.63 L119.51 1123.56 L97.566 1123.56 L97.566 1119.63 Q100.228 1116.87 104.811 1112.24 Q109.418 1107.59 110.598 1106.25 Q112.844 1103.72 113.723 1101.99 Q114.626 1100.23 114.626 1098.54 Q114.626 1095.78 112.682 1094.05 Q110.76 1092.31 107.658 1092.31 Q105.459 1092.31 103.006 1093.07 Q100.575 1093.84 97.7974 1095.39 L97.7974 1090.67 Q100.621 1089.53 103.075 1088.95 Q105.529 1088.38 107.566 1088.38 Q112.936 1088.38 116.131 1091.06 Q119.325 1093.75 119.325 1098.24 Q119.325 1100.37 118.515 1102.29 Q117.728 1104.19 115.621 1106.78 Q115.043 1107.45 111.941 1110.67 Q108.839 1113.86 103.191 1119.63 Z\" fill=\"#000000\" fill-rule=\"evenodd\" fill-opacity=\"1\" /><path clip-path=\"url(#clip660)\" d=\"M129.371 1089 L147.728 1089 L147.728 1092.94 L133.654 1092.94 L133.654 1101.41 Q134.672 1101.06 135.691 1100.9 Q136.709 1100.71 137.728 1100.71 Q143.515 1100.71 146.894 1103.89 Q150.274 1107.06 150.274 1112.47 Q150.274 1118.05 146.802 1121.15 Q143.33 1124.23 137.01 1124.23 Q134.834 1124.23 132.566 1123.86 Q130.32 1123.49 127.913 1122.75 L127.913 1118.05 Q129.996 1119.19 132.219 1119.74 Q134.441 1120.3 136.918 1120.3 Q140.922 1120.3 143.26 1118.19 Q145.598 1116.08 145.598 1112.47 Q145.598 1108.86 143.26 1106.76 Q140.922 1104.65 136.918 1104.65 Q135.043 1104.65 133.168 1105.07 Q131.316 1105.48 129.371 1106.36 L129.371 1089 Z\" fill=\"#000000\" fill-rule=\"evenodd\" fill-opacity=\"1\" /><path clip-path=\"url(#clip660)\" d=\"M62.9365 752.645 Q59.3254 752.645 57.4967 756.209 Q55.6912 759.751 55.6912 766.881 Q55.6912 773.987 57.4967 777.552 Q59.3254 781.094 62.9365 781.094 Q66.5707 781.094 68.3763 777.552 Q70.205 773.987 70.205 766.881 Q70.205 759.751 68.3763 756.209 Q66.5707 752.645 62.9365 752.645 M62.9365 748.941 Q68.7467 748.941 71.8022 753.547 Q74.8809 758.131 74.8809 766.881 Q74.8809 775.608 71.8022 780.214 Q68.7467 784.797 62.9365 784.797 Q57.1264 784.797 54.0477 780.214 Q50.9921 775.608 50.9921 766.881 Q50.9921 758.131 54.0477 753.547 Q57.1264 748.941 62.9365 748.941 Z\" fill=\"#000000\" fill-rule=\"evenodd\" fill-opacity=\"1\" /><path clip-path=\"url(#clip660)\" d=\"M83.0984 778.246 L87.9827 778.246 L87.9827 784.126 L83.0984 784.126 L83.0984 778.246 Z\" fill=\"#000000\" fill-rule=\"evenodd\" fill-opacity=\"1\" /><path clip-path=\"url(#clip660)\" d=\"M98.2141 749.566 L116.57 749.566 L116.57 753.501 L102.496 753.501 L102.496 761.973 Q103.515 761.626 104.534 761.464 Q105.552 761.279 106.571 761.279 Q112.358 761.279 115.737 764.45 Q119.117 767.621 119.117 773.038 Q119.117 778.617 115.645 781.719 Q112.172 784.797 105.853 784.797 Q103.677 784.797 101.409 784.427 Q99.1632 784.057 96.7558 783.316 L96.7558 778.617 Q98.8391 779.751 101.061 780.307 Q103.284 780.862 105.76 780.862 Q109.765 780.862 112.103 778.756 Q114.441 776.649 114.441 773.038 Q114.441 769.427 112.103 767.321 Q109.765 765.214 105.76 765.214 Q103.885 765.214 102.01 765.631 Q100.159 766.047 98.2141 766.927 L98.2141 749.566 Z\" fill=\"#000000\" fill-rule=\"evenodd\" fill-opacity=\"1\" /><path clip-path=\"url(#clip660)\" d=\"M138.33 752.645 Q134.719 752.645 132.89 756.209 Q131.084 759.751 131.084 766.881 Q131.084 773.987 132.89 777.552 Q134.719 781.094 138.33 781.094 Q141.964 781.094 143.769 777.552 Q145.598 773.987 145.598 766.881 Q145.598 759.751 143.769 756.209 Q141.964 752.645 138.33 752.645 M138.33 748.941 Q144.14 748.941 147.195 753.547 Q150.274 758.131 150.274 766.881 Q150.274 775.608 147.195 780.214 Q144.14 784.797 138.33 784.797 Q132.519 784.797 129.441 780.214 Q126.385 775.608 126.385 766.881 Q126.385 758.131 129.441 753.547 Q132.519 748.941 138.33 748.941 Z\" fill=\"#000000\" fill-rule=\"evenodd\" fill-opacity=\"1\" /><path clip-path=\"url(#clip660)\" d=\"M63.9319 413.21 Q60.3208 413.21 58.4921 416.775 Q56.6865 420.316 56.6865 427.446 Q56.6865 434.552 58.4921 438.117 Q60.3208 441.659 63.9319 441.659 Q67.5661 441.659 69.3717 438.117 Q71.2004 434.552 71.2004 427.446 Q71.2004 420.316 69.3717 416.775 Q67.5661 413.21 63.9319 413.21 M63.9319 409.506 Q69.742 409.506 72.7976 414.113 Q75.8763 418.696 75.8763 427.446 Q75.8763 436.173 72.7976 440.779 Q69.742 445.362 63.9319 445.362 Q58.1217 445.362 55.043 440.779 Q51.9875 436.173 51.9875 427.446 Q51.9875 418.696 55.043 414.113 Q58.1217 409.506 63.9319 409.506 Z\" fill=\"#000000\" fill-rule=\"evenodd\" fill-opacity=\"1\" /><path clip-path=\"url(#clip660)\" d=\"M84.0938 438.812 L88.978 438.812 L88.978 444.691 L84.0938 444.691 L84.0938 438.812 Z\" fill=\"#000000\" fill-rule=\"evenodd\" fill-opacity=\"1\" /><path clip-path=\"url(#clip660)\" d=\"M97.9826 410.131 L120.205 410.131 L120.205 412.122 L107.658 444.691 L102.774 444.691 L114.58 414.066 L97.9826 414.066 L97.9826 410.131 Z\" fill=\"#000000\" fill-rule=\"evenodd\" fill-opacity=\"1\" /><path clip-path=\"url(#clip660)\" d=\"M129.371 410.131 L147.728 410.131 L147.728 414.066 L133.654 414.066 L133.654 422.538 Q134.672 422.191 135.691 422.029 Q136.709 421.844 137.728 421.844 Q143.515 421.844 146.894 425.015 Q150.274 428.187 150.274 433.603 Q150.274 439.182 146.802 442.284 Q143.33 445.362 137.01 445.362 Q134.834 445.362 132.566 444.992 Q130.32 444.622 127.913 443.881 L127.913 439.182 Q129.996 440.316 132.219 440.872 Q134.441 441.427 136.918 441.427 Q140.922 441.427 143.26 439.321 Q145.598 437.214 145.598 433.603 Q145.598 429.992 143.26 427.886 Q140.922 425.779 136.918 425.779 Q135.043 425.779 133.168 426.196 Q131.316 426.613 129.371 427.492 L129.371 410.131 Z\" fill=\"#000000\" fill-rule=\"evenodd\" fill-opacity=\"1\" /><path clip-path=\"url(#clip660)\" d=\"M53.7467 101.321 L61.3856 101.321 L61.3856 74.9555 L53.0754 76.6222 L53.0754 72.3629 L61.3393 70.6963 L66.0152 70.6963 L66.0152 101.321 L73.654 101.321 L73.654 105.256 L53.7467 105.256 L53.7467 101.321 Z\" fill=\"#000000\" fill-rule=\"evenodd\" fill-opacity=\"1\" /><path clip-path=\"url(#clip660)\" d=\"M83.0984 99.3767 L87.9827 99.3767 L87.9827 105.256 L83.0984 105.256 L83.0984 99.3767 Z\" fill=\"#000000\" fill-rule=\"evenodd\" fill-opacity=\"1\" /><path clip-path=\"url(#clip660)\" d=\"M108.168 73.775 Q104.557 73.775 102.728 77.3398 Q100.922 80.8814 100.922 88.011 Q100.922 95.1174 102.728 98.6822 Q104.557 102.224 108.168 102.224 Q111.802 102.224 113.608 98.6822 Q115.436 95.1174 115.436 88.011 Q115.436 80.8814 113.608 77.3398 Q111.802 73.775 108.168 73.775 M108.168 70.0713 Q113.978 70.0713 117.033 74.6777 Q120.112 79.261 120.112 88.011 Q120.112 96.7378 117.033 101.344 Q113.978 105.928 108.168 105.928 Q102.358 105.928 99.2789 101.344 Q96.2234 96.7378 96.2234 88.011 Q96.2234 79.261 99.2789 74.6777 Q102.358 70.0713 108.168 70.0713 Z\" fill=\"#000000\" fill-rule=\"evenodd\" fill-opacity=\"1\" /><path clip-path=\"url(#clip660)\" d=\"M138.33 73.775 Q134.719 73.775 132.89 77.3398 Q131.084 80.8814 131.084 88.011 Q131.084 95.1174 132.89 98.6822 Q134.719 102.224 138.33 102.224 Q141.964 102.224 143.769 98.6822 Q145.598 95.1174 145.598 88.011 Q145.598 80.8814 143.769 77.3398 Q141.964 73.775 138.33 73.775 M138.33 70.0713 Q144.14 70.0713 147.195 74.6777 Q150.274 79.261 150.274 88.011 Q150.274 96.7378 147.195 101.344 Q144.14 105.928 138.33 105.928 Q132.519 105.928 129.441 101.344 Q126.385 96.7378 126.385 88.011 Q126.385 79.261 129.441 74.6777 Q132.519 70.0713 138.33 70.0713 Z\" fill=\"#000000\" fill-rule=\"evenodd\" fill-opacity=\"1\" /><polyline clip-path=\"url(#clip662)\" style=\"stroke:#009af9; stroke-linecap:butt; stroke-linejoin:round; stroke-width:12; stroke-opacity:1; fill:none\" points=\"\n",
       "  247.59,1445.72 268.234,1445.72 288.879,1445.72 309.524,1445.72 330.169,1409.51 350.814,1300.89 371.459,1192.27 392.104,1083.65 412.749,975.033 433.394,866.414 \n",
       "  454.039,757.794 474.684,649.175 495.329,540.556 515.974,431.937 536.619,323.318 557.264,214.699 577.909,106.079 598.554,178.492 619.199,287.111 639.844,395.731 \n",
       "  660.489,504.35 681.134,612.969 701.779,721.588 722.424,830.207 743.069,938.826 763.713,1047.45 784.358,1156.06 805.003,1264.68 825.648,1373.3 846.293,1445.72 \n",
       "  866.938,1445.72 887.583,1445.72 908.228,1445.72 928.873,1445.72 949.518,1445.72 970.163,1445.72 990.808,1445.72 1011.45,1445.72 1032.1,1445.72 1052.74,1445.72 \n",
       "  1073.39,87.9763 1094.03,87.9763 1114.68,87.9763 1135.32,87.9763 1155.97,87.9763 1176.61,87.9763 1197.26,87.9763 1217.9,87.9763 1238.55,87.9763 1259.19,87.9763 \n",
       "  1279.84,87.9763 1300.48,87.9763 1321.13,87.9763 1341.77,87.9763 1362.42,87.9763 1383.06,87.9763 1403.71,87.9763 1424.35,87.9763 1445,87.9763 1465.64,87.9763 \n",
       "  1486.29,1445.72 1506.93,1445.72 1527.58,1445.72 1548.22,1445.72 1568.87,1445.72 1589.51,1445.72 1610.16,1445.72 1630.8,1445.72 1651.45,1445.72 1672.09,1445.72 \n",
       "  1692.74,1445.72 1713.38,1436.21 1734.03,1387.02 1754.67,1298.87 1775.32,1177.29 1795.96,1029.92 1816.61,866.017 1837.25,695.885 1857.9,530.211 1878.54,379.406 \n",
       "  1899.19,252.945 1919.83,158.774 1940.48,102.811 1961.12,88.5718 1981.77,116.951 2002.41,186.165 2023.06,291.866 2043.7,427.411 2064.35,584.284 2084.99,752.629 \n",
       "  2105.64,921.866 2126.28,1081.36 2146.93,1221.1 2167.57,1332.29 2188.22,1407.95 2208.86,1443.33 2229.51,1445.72 2250.15,1445.72 2270.8,1445.72 2291.44,1445.72 \n",
       "  \n",
       "  \"/>\n",
       "<polyline clip-path=\"url(#clip662)\" style=\"stroke:#e26f46; stroke-linecap:butt; stroke-linejoin:round; stroke-width:12; stroke-opacity:1; fill:none\" points=\"\n",
       "  247.59,1409.49 268.234,1425.21 288.879,1434.95 309.524,1440.49 330.169,1443.1 350.814,1442.28 371.459,1433.76 392.104,1407.17 412.749,1343.51 433.394,1212.55 \n",
       "  454.039,735.143 474.684,345.201 495.329,260.847 515.974,242.887 536.619,264.226 557.264,307.79 577.909,362.714 598.554,422.253 619.199,482.61 639.844,542.992 \n",
       "  660.489,603.467 681.134,664.339 701.779,728.053 722.424,818.22 743.069,879.743 763.713,940.355 784.358,1000.78 805.003,1061.15 825.648,1121.5 846.293,1181.11 \n",
       "  866.938,1238.19 887.583,1290.5 908.228,1335.83 928.873,1372.6 949.518,1400.26 970.163,1419.44 990.808,1431.64 1011.45,1438.76 1032.1,1442.55 1052.74,1443.62 \n",
       "  1073.39,87.9763 1094.03,87.9763 1114.68,87.9773 1135.32,87.9789 1155.97,87.992 1176.61,88.0256 1197.26,88.1512 1217.9,88.483 1238.55,89.3778 1259.19,91.4214 \n",
       "  1279.84,95.8395 1300.48,104.331 1321.13,119.36 1341.77,143.524 1362.42,179.477 1383.06,228.944 1403.71,292.796 1424.35,370.868 1445,463.328 1465.64,572.873 \n",
       "  1486.29,960.819 1506.93,1070.36 1527.58,1162.82 1548.22,1240.9 1568.87,1304.75 1589.51,1354.22 1610.16,1390.17 1630.8,1414.33 1651.45,1429.36 1672.09,1437.85 \n",
       "  1692.74,1442.27 1713.38,1444.24 1734.03,1444.44 1754.67,1441.38 1775.32,1430.04 1795.96,1398.18 1816.61,1314.75 1837.25,349.77 1857.9,179.265 1878.54,163.555 \n",
       "  1899.19,179.785 1919.83,214.417 1940.48,260.942 1961.12,315.721 1981.77,376.508 2002.41,441.81 2023.06,510.607 2043.7,582.289 2064.35,657.221 2084.99,753.336 \n",
       "  2105.64,865.53 2126.28,939.746 2146.93,1011.51 2167.57,1080.7 2188.22,1146.61 2208.86,1208.22 2229.51,1264.25 2250.15,1313.29 2270.8,1354.15 2291.44,1386.15 \n",
       "  \n",
       "  \"/>\n",
       "<polyline clip-path=\"url(#clip662)\" style=\"stroke:#3da44d; stroke-linecap:butt; stroke-linejoin:round; stroke-width:12; stroke-opacity:1; fill:none\" points=\"\n",
       "  247.59,1275.85 268.234,1308.73 288.879,1338.16 309.524,1363.77 330.169,1385.35 350.814,1402.84 371.459,1416.32 392.104,1425.7 412.749,1430.21 433.394,1426.72 \n",
       "  454.039,1224.26 474.684,301.543 495.329,325.729 515.974,359.201 536.619,397.235 557.264,437.553 577.909,478.912 598.554,520.648 619.199,562.477 639.844,604.367 \n",
       "  660.489,646.406 681.134,688.856 701.779,732.902 722.424,810.047 743.069,852.435 763.713,894.479 784.358,936.38 805.003,978.218 825.648,1020.02 846.293,1061.76 \n",
       "  866.938,1103.27 887.583,1144.25 908.228,1184.32 928.873,1222.99 949.518,1259.69 970.163,1293.87 990.808,1324.95 1011.45,1352.46 1032.1,1376.05 1052.74,1304.51 \n",
       "  1073.39,88.7739 1094.03,89.6059 1114.68,91.1408 1135.32,93.815 1155.97,98.2153 1176.61,105.054 1197.26,115.105 1217.9,129.111 1238.55,147.677 1259.19,171.196 \n",
       "  1279.84,199.819 1300.48,233.471 1321.13,271.903 1341.77,314.763 1362.42,361.669 1383.06,412.279 1403.71,466.369 1424.35,523.956 1445,585.605 1465.64,653.697 \n",
       "  1486.29,879.995 1506.93,948.087 1527.58,1009.74 1548.22,1067.32 1568.87,1121.41 1589.51,1172.02 1610.16,1218.93 1630.8,1261.79 1651.45,1300.22 1672.09,1333.87 \n",
       "  1692.74,1362.5 1713.38,1386.01 1734.03,1404.57 1754.67,1418.52 1775.32,1428.3 1795.96,1434.09 1816.61,1434.97 1837.25,676.974 1857.9,255.449 1878.54,288.692 \n",
       "  1899.19,326.045 1919.83,366.172 1940.48,408.322 1961.12,452.024 1981.77,496.965 2002.41,542.951 2023.06,589.908 2043.7,638.004 2064.35,688.278 2084.99,753.976 \n",
       "  2105.64,839.226 2126.28,888.669 2146.93,936.423 2167.57,983.277 2188.22,1029.29 2208.86,1074.35 2229.51,1118.24 2250.15,1160.7 2270.8,1201.39 2291.44,1239.91 \n",
       "  \n",
       "  \"/>\n",
       "<polyline clip-path=\"url(#clip662)\" style=\"stroke:#c271d2; stroke-linecap:butt; stroke-linejoin:round; stroke-width:12; stroke-opacity:1; fill:none\" points=\"\n",
       "  247.59,1166.61 268.234,1197.3 288.879,1226.9 309.524,1255.24 330.169,1282.09 350.814,1307.26 371.459,1330.52 392.104,1351.65 412.749,1370.46 433.394,1386.66 \n",
       "  454.039,1397.88 474.684,1098.68 495.329,416.759 515.974,447.383 536.619,478.743 557.264,510.478 577.909,542.389 598.554,574.374 619.199,606.407 639.844,638.511 \n",
       "  660.489,670.755 681.134,703.306 701.779,736.674 722.424,804.117 743.069,836.457 763.713,868.614 784.358,900.683 805.003,932.702 825.648,964.692 846.293,996.658 \n",
       "  866.938,1028.58 887.583,1060.4 908.228,1092.05 928.873,1123.42 949.518,1154.36 970.163,1184.71 990.808,1214.27 1011.45,1242.83 1032.1,1270.15 1052.74,787.834 \n",
       "  1073.39,110.464 1094.03,119.93 1114.68,131.954 1135.32,146.726 1155.97,164.334 1176.61,184.769 1197.26,207.939 1217.9,233.688 1238.55,261.824 1259.19,292.138 \n",
       "  1279.84,324.418 1300.48,358.47 1321.13,394.12 1341.77,431.23 1362.42,469.701 1383.06,509.492 1403.71,550.649 1424.35,593.37 1445,638.213 1465.64,686.977 \n",
       "  1486.29,846.715 1506.93,895.479 1527.58,940.322 1548.22,983.043 1568.87,1024.2 1589.51,1063.99 1610.16,1102.46 1630.8,1139.57 1651.45,1175.22 1672.09,1209.27 \n",
       "  1692.74,1241.55 1713.38,1271.87 1734.03,1300 1754.67,1325.75 1775.32,1348.92 1795.96,1369.32 1816.61,1386.82 1837.25,1347.11 1857.9,483.289 1878.54,393.516 \n",
       "  1899.19,425.719 1919.83,458.652 1940.48,492.182 1961.12,526.218 1981.77,560.711 2002.41,595.657 2023.06,631.13 2043.7,667.403 2064.35,705.45 2084.99,754.559 \n",
       "  2105.64,823.994 2126.28,861.479 2146.93,897.391 2167.57,932.662 2188.22,967.504 2208.86,1001.96 2229.51,1036 2250.15,1069.58 2270.8,1102.61 2291.44,1135 \n",
       "  \n",
       "  \"/>\n",
       "<polyline clip-path=\"url(#clip662)\" style=\"stroke:#ac8d18; stroke-linecap:butt; stroke-linejoin:round; stroke-width:12; stroke-opacity:1; fill:none\" points=\"\n",
       "  247.59,1092.54 268.234,1118.71 288.879,1144.47 309.524,1169.77 330.169,1194.52 350.814,1218.63 371.459,1242.03 392.104,1264.59 412.749,1286.2 433.394,1306.73 \n",
       "  454.039,1326.01 474.684,1339.12 495.329,1158.02 515.974,529.465 536.619,530.744 557.264,556.582 577.909,582.471 598.554,608.397 619.199,634.363 639.844,660.394 \n",
       "  660.489,686.54 681.134,712.899 701.779,739.691 722.424,799.619 743.069,825.844 763.713,851.881 784.358,877.851 805.003,903.784 825.648,929.694 846.293,955.586 \n",
       "  866.938,981.46 887.583,1007.31 908.228,1033.1 928.873,1058.83 949.518,1084.43 970.163,1109.87 990.808,1135.07 1011.45,1159.98 1032.1,1091.51 1052.74,209.047 \n",
       "  1073.39,174.986 1094.03,192.744 1114.68,212.175 1135.32,233.16 1155.97,255.57 1176.61,279.276 1197.26,304.153 1217.9,330.084 1238.55,356.965 1259.19,384.703 \n",
       "  1279.84,413.222 1300.48,442.457 1321.13,472.363 1341.77,502.915 1362.42,534.109 1383.06,565.979 1403.71,598.614 1424.35,632.213 1445,667.246 1465.64,705.129 \n",
       "  1486.29,828.563 1506.93,866.446 1527.58,901.479 1548.22,935.078 1568.87,967.713 1589.51,999.583 1610.16,1030.78 1630.8,1061.33 1651.45,1091.24 1672.09,1120.47 \n",
       "  1692.74,1148.99 1713.38,1176.73 1734.03,1203.61 1754.67,1229.54 1775.32,1254.42 1795.96,1278.12 1816.61,1300.53 1837.25,1320.76 1857.9,1243.83 1878.54,541.439 \n",
       "  1899.19,490.103 1919.83,517.178 1940.48,544.511 1961.12,572.088 1981.77,599.916 2002.41,628.031 2023.06,656.536 2043.7,685.695 2064.35,716.333 2084.99,755.091 \n",
       "  2105.64,814.058 2126.28,844.397 2146.93,873.268 2167.57,901.569 2188.22,929.548 2208.86,957.291 2229.51,984.82 2250.15,1012.13 2270.8,1039.21 2291.44,1066.03 \n",
       "  \n",
       "  \"/>\n",
       "<polyline clip-path=\"url(#clip662)\" style=\"stroke:#00a9ad; stroke-linecap:butt; stroke-linejoin:round; stroke-width:12; stroke-opacity:1; fill:none\" points=\"\n",
       "  247.59,1040.94 268.234,1063.28 288.879,1085.44 309.524,1107.39 330.169,1129.11 350.814,1150.55 371.459,1171.68 392.104,1192.47 412.749,1212.85 433.394,1232.77 \n",
       "  454.039,1252.18 474.684,1270.9 495.329,1284.66 515.974,1195.13 536.619,671.238 557.264,588.375 577.909,610.146 598.554,631.944 619.199,653.779 639.844,675.669 \n",
       "  660.489,697.648 681.134,719.775 701.779,742.16 722.424,796.09 743.069,818.218 763.713,840.106 784.358,861.929 805.003,883.72 825.648,905.491 846.293,927.248 \n",
       "  866.938,948.994 887.583,970.727 908.228,992.442 928.873,1014.13 949.518,1035.78 970.163,1057.37 990.808,1078.88 1011.45,1099.21 1032.1,421.514 1052.74,233.3 \n",
       "  1073.39,251.216 1094.03,270.794 1114.68,291.148 1135.32,312.206 1155.97,333.897 1176.61,356.162 1197.26,378.948 1217.9,402.208 1238.55,425.903 1259.19,450.002 \n",
       "  1279.84,474.481 1300.48,499.324 1321.13,524.525 1341.77,550.09 1362.42,576.039 1383.06,602.42 1403.71,629.322 1424.35,656.922 1445,685.613 1465.64,716.559 \n",
       "  1486.29,817.133 1506.93,848.079 1527.58,876.77 1548.22,904.37 1568.87,931.272 1589.51,957.653 1610.16,983.602 1630.8,1009.17 1651.45,1034.37 1672.09,1059.21 \n",
       "  1692.74,1083.69 1713.38,1107.79 1734.03,1131.48 1754.67,1154.74 1775.32,1177.53 1795.96,1199.79 1816.61,1221.49 1837.25,1242.53 1857.9,1260.72 1878.54,1181.31 \n",
       "  1899.19,615.2 1919.83,557.1 1940.48,580.062 1961.12,603.177 1981.77,626.467 2002.41,649.978 2023.06,673.813 2043.7,698.207 2064.35,723.842 2084.99,755.578 \n",
       "  2105.64,807.065 2126.28,832.611 2146.93,856.8 2167.57,880.46 2188.22,903.838 2208.86,927.031 2229.51,950.078 2250.15,972.995 2270.8,995.783 2291.44,1018.44 \n",
       "  \n",
       "  \"/>\n",
       "<polyline clip-path=\"url(#clip662)\" style=\"stroke:#ed5d92; stroke-linecap:butt; stroke-linejoin:round; stroke-width:12; stroke-opacity:1; fill:none\" points=\"\n",
       "  247.59,1003.31 268.234,1022.67 288.879,1041.94 309.524,1061.1 330.169,1080.13 350.814,1099.04 371.459,1117.79 392.104,1136.37 412.749,1154.77 433.394,1172.94 \n",
       "  454.039,1190.88 474.684,1208.54 495.329,1225.76 515.974,1239.44 536.619,1198 557.264,818.659 577.909,630.436 598.554,649.242 619.199,668.079 639.844,686.962 \n",
       "  660.489,705.914 681.134,724.973 701.779,744.217 722.424,793.246 743.069,812.439 763.713,831.336 784.358,850.159 805.003,868.949 825.648,887.723 846.293,906.484 \n",
       "  866.938,925.236 887.583,943.98 908.228,962.714 928.873,981.437 949.518,1000.14 970.163,1018.83 990.808,1037.48 1011.45,623.444 1032.1,287.78 1052.74,299.8 \n",
       "  1073.39,318.022 1094.03,336.678 1114.68,355.708 1135.32,375.081 1155.97,394.767 1176.61,414.741 1197.26,434.982 1217.9,455.472 1238.55,476.198 1259.19,497.15 \n",
       "  1279.84,518.323 1300.48,539.717 1321.13,561.337 1341.77,583.198 1362.42,605.326 1383.06,627.768 1403.71,650.607 1424.35,673.995 1445,698.27 1465.64,724.416 \n",
       "  1486.29,809.276 1506.93,835.422 1527.58,859.697 1548.22,883.085 1568.87,905.924 1589.51,928.366 1610.16,950.494 1630.8,972.355 1651.45,993.975 1672.09,1015.37 \n",
       "  1692.74,1036.54 1713.38,1057.49 1734.03,1078.22 1754.67,1098.71 1775.32,1118.95 1795.96,1138.92 1816.61,1158.61 1837.25,1177.98 1857.9,1196.94 1878.54,1212.14 \n",
       "  1899.19,1139.59 1919.83,676.124 1940.48,605.756 1961.12,625.636 1981.77,645.654 2002.41,665.859 2023.06,686.344 2043.7,707.313 2064.35,729.332 2084.99,756.027 \n",
       "  2105.64,801.877 2126.28,823.967 2146.93,844.809 2167.57,865.157 2188.22,885.243 2208.86,905.167 2229.51,924.974 2250.15,944.685 2270.8,964.31 2291.44,983.851 \n",
       "  \n",
       "  \"/>\n",
       "<polyline clip-path=\"url(#clip662)\" style=\"stroke:#c68125; stroke-linecap:butt; stroke-linejoin:round; stroke-width:12; stroke-opacity:1; fill:none\" points=\"\n",
       "  247.59,974.743 268.234,991.785 288.879,1008.77 309.524,1025.69 330.169,1042.53 350.814,1059.31 371.459,1076 392.104,1092.59 412.749,1109.09 433.394,1125.47 \n",
       "  454.039,1141.73 474.684,1157.85 495.329,1173.81 515.974,1189.45 536.619,1202.59 557.264,1184.74 577.909,947.874 598.554,667.539 619.199,679.065 639.844,695.666 \n",
       "  660.489,712.321 681.134,729.058 701.779,745.958 722.424,790.907 743.069,807.888 763.713,824.53 784.358,841.083 805.003,857.603 825.648,874.104 846.293,890.595 \n",
       "  866.938,907.078 887.583,923.554 908.228,940.024 928.873,956.487 949.518,972.942 970.163,989.386 990.808,765.317 1011.45,342.548 1032.1,339.024 1052.74,355.448 \n",
       "  1073.39,372.317 1094.03,389.405 1114.68,406.696 1135.32,424.174 1155.97,441.827 1176.61,459.645 1197.26,477.619 1217.9,495.743 1238.55,514.014 1259.19,532.429 \n",
       "  1279.84,550.991 1300.48,569.704 1321.13,588.578 1341.77,607.629 1362.42,626.884 1383.06,646.386 1403.71,666.21 1424.35,686.49 1445,707.519 1465.64,730.15 \n",
       "  1486.29,803.542 1506.93,826.173 1527.58,847.202 1548.22,867.482 1568.87,887.305 1589.51,906.808 1610.16,926.063 1630.8,945.114 1651.45,963.988 1672.09,982.701 \n",
       "  1692.74,1001.26 1713.38,1019.68 1734.03,1037.95 1754.67,1056.07 1775.32,1074.05 1795.96,1091.87 1816.61,1109.52 1837.25,1127 1857.9,1144.28 1878.54,1161.2 \n",
       "  1899.19,1173.56 1919.83,1108.66 1940.48,723.882 1961.12,642.626 1981.77,660.178 2002.41,677.894 2023.06,695.856 2043.7,714.242 2064.35,733.52 2084.99,756.442 \n",
       "  2105.64,797.874 2126.28,817.347 2146.93,835.673 2167.57,853.534 2188.22,871.151 2208.86,888.618 2229.51,905.982 2250.15,923.266 2270.8,940.484 2291.44,957.643 \n",
       "  \n",
       "  \"/>\n",
       "<polyline clip-path=\"url(#clip662)\" style=\"stroke:#00a98d; stroke-linecap:butt; stroke-linejoin:round; stroke-width:12; stroke-opacity:1; fill:none\" points=\"\n",
       "  247.59,952.351 268.234,967.551 288.879,982.709 309.524,997.825 330.169,1012.9 350.814,1027.92 371.459,1042.89 392.104,1057.81 412.749,1072.67 433.394,1087.46 \n",
       "  454.039,1102.19 474.684,1116.83 495.329,1131.38 515.974,1145.84 536.619,1160.05 557.264,1172.46 577.909,1166.31 598.554,1027.18 619.199,729.087 639.844,702.588 \n",
       "  660.489,717.441 681.134,732.363 701.779,747.45 722.424,788.949 743.069,804.202 763.713,819.081 784.358,833.86 805.003,848.6 825.648,863.322 846.293,878.033 \n",
       "  866.938,892.736 887.583,907.434 908.228,922.127 928.873,936.816 949.518,951.499 970.163,857.807 990.808,406.913 1011.45,371.222 1032.1,385.373 1052.74,400.621 \n",
       "  1073.39,416.017 1094.03,431.541 1114.68,447.187 1135.32,462.947 1155.97,478.816 1176.61,494.79 1197.26,510.866 1217.9,527.042 1238.55,543.319 1259.19,559.699 \n",
       "  1279.84,576.185 1300.48,592.783 1321.13,609.506 1341.77,626.368 1362.42,643.396 1383.06,660.628 1403.71,678.131 1424.35,696.026 1445,714.571 1465.64,734.519 \n",
       "  1486.29,799.173 1506.93,819.121 1527.58,837.666 1548.22,855.561 1568.87,873.064 1589.51,890.296 1610.16,907.324 1630.8,924.186 1651.45,940.909 1672.09,957.507 \n",
       "  1692.74,973.993 1713.38,990.373 1734.03,1006.65 1754.67,1022.83 1775.32,1038.9 1795.96,1054.88 1816.61,1070.75 1837.25,1086.51 1857.9,1102.15 1878.54,1117.66 \n",
       "  1899.19,1132.77 1919.83,1142.62 1940.48,1083.68 1961.12,761.994 1981.77,671.561 2002.41,687.334 2023.06,703.327 2043.7,719.691 2064.35,736.82 2084.99,756.826 \n",
       "  2105.64,794.692 2126.28,812.111 2146.93,828.472 2167.57,844.397 2188.22,860.092 2208.86,875.646 2229.51,891.105 2250.15,906.493 2270.8,921.826 2291.44,937.11 \n",
       "  \n",
       "  \"/>\n",
       "<polyline clip-path=\"url(#clip662)\" style=\"stroke:#8e971d; stroke-linecap:butt; stroke-linejoin:round; stroke-width:12; stroke-opacity:1; fill:none\" points=\"\n",
       "  247.59,934.335 268.234,948.043 288.879,961.721 309.524,975.368 330.169,988.983 350.814,1002.57 371.459,1016.12 392.104,1029.63 412.749,1043.11 433.394,1056.54 \n",
       "  454.039,1069.93 474.684,1083.28 495.329,1096.57 515.974,1109.8 536.619,1122.96 557.264,1135.93 577.909,1147.56 598.554,1147.42 619.199,1066.66 639.844,807.663 \n",
       "  660.489,721.635 681.134,735.1 701.779,748.743 722.424,787.285 743.069,801.147 763.713,814.612 784.358,827.965 805.003,841.276 825.648,854.566 846.293,867.844 \n",
       "  866.938,881.116 887.583,894.382 908.228,907.644 928.873,920.902 949.518,902.947 970.163,489.601 990.808,399.145 1011.45,409.702 1032.1,423.505 1052.74,437.462 \n",
       "  1073.39,451.506 1094.03,465.633 1114.68,479.839 1135.32,494.122 1155.97,508.478 1176.61,522.908 1197.26,537.409 1217.9,551.984 1238.55,566.633 1259.19,581.36 \n",
       "  1279.84,596.169 1300.48,611.069 1321.13,626.068 1341.77,641.183 1362.42,656.438 1383.06,671.868 1403.71,687.533 1424.35,703.542 1445,720.126 1465.64,737.958 \n",
       "  1486.29,795.734 1506.93,813.566 1527.58,830.15 1548.22,846.159 1568.87,861.824 1589.51,877.254 1610.16,892.509 1630.8,907.624 1651.45,922.623 1672.09,937.522 \n",
       "  1692.74,952.332 1713.38,967.059 1734.03,981.708 1754.67,996.283 1775.32,1010.78 1795.96,1025.21 1816.61,1039.57 1837.25,1053.85 1857.9,1068.06 1878.54,1082.18 \n",
       "  1899.19,1096.2 1919.83,1109.73 1940.48,1117.36 1961.12,1063.48 1981.77,792.278 2002.41,694.94 2023.06,709.351 2043.7,724.091 2064.35,739.488 2084.99,757.182 \n",
       "  2105.64,792.102 2126.28,807.864 2146.93,822.646 2167.57,837.02 2188.22,851.176 2208.86,865.198 2229.51,879.131 2250.15,892.999 2270.8,906.817 2291.44,920.594 \n",
       "  \n",
       "  \"/>\n",
       "<polyline clip-path=\"url(#clip662)\" style=\"stroke:#00a8cb; stroke-linecap:butt; stroke-linejoin:round; stroke-width:12; stroke-opacity:1; fill:none\" points=\"\n",
       "  247.59,919.527 268.234,932.007 288.879,944.463 309.524,956.894 330.169,969.303 350.814,981.687 371.459,994.048 392.104,1006.38 412.749,1018.69 433.394,1030.98 \n",
       "  454.039,1043.23 474.684,1055.45 495.329,1067.64 515.974,1079.79 536.619,1091.9 557.264,1103.95 577.909,1115.85 598.554,1126.73 619.199,1129.77 639.844,1082.59 \n",
       "  660.489,885.336 681.134,742.93 701.779,749.874 722.424,785.854 743.069,798.571 763.713,810.875 784.358,823.058 805.003,835.194 825.648,847.308 846.293,859.409 \n",
       "  866.938,871.503 887.583,883.592 908.228,895.676 928.873,906.246 949.518,590.261 970.163,426.069 990.808,429.911 1011.45,442.334 1032.1,455.068 1052.74,467.867 \n",
       "  1073.39,480.727 1094.03,493.643 1114.68,506.615 1135.32,519.641 1155.97,532.722 1176.61,545.856 1197.26,559.045 1217.9,572.291 1238.55,585.594 1259.19,598.96 \n",
       "  1279.84,612.394 1300.48,625.901 1321.13,639.493 1341.77,653.185 1362.42,666.997 1383.06,680.962 1403.71,695.137 1424.35,709.617 1445,724.614 1465.64,740.735 \n",
       "  1486.29,792.957 1506.93,809.078 1527.58,824.075 1548.22,838.555 1568.87,852.729 1589.51,866.695 1610.16,880.507 1630.8,894.199 1651.45,907.791 1672.09,921.298 \n",
       "  1692.74,934.732 1713.38,948.098 1734.03,961.401 1754.67,974.647 1775.32,987.836 1795.96,1000.97 1816.61,1014.05 1837.25,1027.08 1857.9,1040.05 1878.54,1052.97 \n",
       "  1899.19,1065.82 1919.83,1078.58 1940.48,1090.71 1961.12,1096.43 1981.77,1046.62 2002.41,817.013 2023.06,714.313 2043.7,727.717 2064.35,741.69 2084.99,757.514 \n",
       "  2105.64,789.953 2126.28,804.348 2146.93,817.833 2167.57,830.935 2188.22,843.83 2208.86,856.598 2229.51,869.281 2250.15,881.904 2270.8,894.48 2291.44,907.019 \n",
       "  \n",
       "  \"/>\n",
       "</svg>\n"
      ]
     },
     "execution_count": 18,
     "metadata": {},
     "output_type": "execute_result"
    }
   ],
   "source": [
    "function riemann_traffic(uL, uR)\n",
    "    flux = zero(uL)\n",
    "    for i in 1:length(flux)\n",
    "        fL = flux_traffic(uL[i])\n",
    "        fR = flux_traffic(uR[i])\n",
    "        flux[i] = if uL[i] < uR[i] # shock\n",
    "            min(fL, fR)\n",
    "        elseif uL[i] < .5 # rarefaction all to the right\n",
    "            fL\n",
    "        elseif uR[i] > .5 # rarefaction all to the left\n",
    "            fR\n",
    "        else\n",
    "            flux_traffic(.5)\n",
    "        end\n",
    "    end\n",
    "    flux\n",
    "end\n",
    "x, thist, uhist = fv_solve1(riemann_traffic, testfunc, 100, 1)\n",
    "plot(x, uhist[:,1:5:end], legend=:none)"
   ]
  },
  {
   "cell_type": "markdown",
   "id": "3d477f06",
   "metadata": {
    "slideshow": {
     "slide_type": "slide"
    }
   },
   "source": [
    "# Preview: Riemann problem for the Euler equations"
   ]
  },
  {
   "cell_type": "markdown",
   "id": "19efe1ee",
   "metadata": {
    "cell_style": "split"
   },
   "source": [
    "<img src=\"../img/Toro-Euler-4.1.png\" />"
   ]
  },
  {
   "cell_type": "markdown",
   "id": "8ee99b2e",
   "metadata": {
    "cell_style": "split"
   },
   "source": [
    "* Two nonlinear (acoustic) waves\n",
    "  * Either is a shock or rarefaction\n",
    "* One linearly degenerate (contact) wave\n",
    "  * Not a shock or rarefaction\n",
    "  * Pressure is constant across the contact wave\n",
    "  * Different temperature and density\n",
    "* Need to determine the wave structure to sample the flux."
   ]
  },
  {
   "cell_type": "markdown",
   "id": "c99f370e",
   "metadata": {
    "slideshow": {
     "slide_type": "slide"
    }
   },
   "source": [
    "# Further resources"
   ]
  },
  {
   "cell_type": "markdown",
   "id": "745ba1e6",
   "metadata": {
    "cell_style": "split",
    "slideshow": {
     "slide_type": ""
    }
   },
   "source": [
    "## Book: Riemann Problems and Jupyter Solutions\n",
    "\n",
    "[Riemann Problems and Jupyter Solutions: Theory and Approximate Solvers for Hyperbolic PDEs](http://www.clawpack.org/riemann_book/) by David I. Ketcheson, Randall J. LeVeque, and Mauricio del Razo Sarmina is an excellent compilation of Jupyter notebooks for learning about hyperbolic conservation laws and Riemann solvers.\n",
    "\n",
    "You can [run in Binder](https://mybinder.org/v2/gh/clawpack/riemann_book/master) to interact with the notebooks without needing to install Clawpack."
   ]
  },
  {
   "cell_type": "markdown",
   "id": "9061ae12",
   "metadata": {
    "cell_style": "split",
    "slideshow": {
     "slide_type": ""
    }
   },
   "source": [
    "## Riemann solvers and gas dynamics\n",
    "\n",
    "[Toro: Riemann Solvers and Numerical Methods for Fluid Dynamics](https://link.springer.com/book/10.1007%2Fb79761#toc) (free download for CU students)"
   ]
  }
 ],
 "metadata": {
  "@webio": {
   "lastCommId": null,
   "lastKernelId": null
  },
  "celltoolbar": "Slideshow",
  "kernelspec": {
   "display_name": "Julia 1.7.2",
   "language": "julia",
   "name": "julia-1.7"
  },
  "language_info": {
   "file_extension": ".jl",
   "mimetype": "application/julia",
   "name": "julia",
   "version": "1.8.3"
  },
  "rise": {
   "enable_chalkboard": true
  }
 },
 "nbformat": 4,
 "nbformat_minor": 5
}
