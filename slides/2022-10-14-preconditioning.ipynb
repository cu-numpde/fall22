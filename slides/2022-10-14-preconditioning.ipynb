{
 "cells": [
  {
   "cell_type": "markdown",
   "id": "3471b94b",
   "metadata": {
    "cell_style": "center",
    "slideshow": {
     "slide_type": "slide"
    }
   },
   "source": [
    "# 2022-10-14 Preconditioning"
   ]
  },
  {
   "cell_type": "markdown",
   "id": "4159be0e",
   "metadata": {
    "cell_style": "split",
    "slideshow": {
     "slide_type": ""
    }
   },
   "source": [
    "## Last time\n",
    "\n",
    "* Krylov methods (focus on GMRES)\n",
    "* PETSc experiments\n",
    "* Simple preconditioners\n",
    "\n",
    "## Today\n",
    "* Preconditioning building blocks\n",
    "* Domain decomposition\n",
    "* PETSc discussion"
   ]
  },
  {
   "cell_type": "code",
   "execution_count": 1,
   "id": "e82d841d",
   "metadata": {
    "hideOutput": true,
    "slideshow": {
     "slide_type": "skip"
    }
   },
   "outputs": [
    {
     "data": {
      "text/plain": [
       "advdiff_matrix (generic function with 1 method)"
      ]
     },
     "execution_count": 1,
     "metadata": {},
     "output_type": "execute_result"
    }
   ],
   "source": [
    "using Plots\n",
    "default(linewidth=3)\n",
    "using LinearAlgebra\n",
    "using SparseArrays\n",
    "\n",
    "function my_spy(A)\n",
    "    cmax = norm(vec(A), Inf)\n",
    "    s = max(1, ceil(120 / size(A, 1)))\n",
    "    spy(A, marker=(:square, s), c=:diverging_rainbow_bgymr_45_85_c67_n256, clims=(-cmax, cmax))\n",
    "end\n",
    "\n",
    "function advdiff_matrix(n; kappa=1, wind=[0, 0])\n",
    "    h = 2 / (n + 1)\n",
    "    rows = Vector{Int64}()\n",
    "    cols = Vector{Int64}()\n",
    "    vals = Vector{Float64}()\n",
    "    idx((i, j),) = (i-1)*n + j\n",
    "    in_domain((i, j),) = 1 <= i <= n && 1 <= j <= n\n",
    "    stencil_advect = [-wind[1], -wind[2], 0, wind[1], wind[2]] / h\n",
    "    stencil_diffuse = [-1, -1, 4, -1, -1] * kappa / h^2\n",
    "    stencil = stencil_advect + stencil_diffuse\n",
    "    for i in 1:n\n",
    "        for j in 1:n\n",
    "            neighbors = [(i-1, j), (i, j-1), (i, j), (i+1, j), (i, j+1)]\n",
    "            mask = in_domain.(neighbors)\n",
    "            append!(rows, idx.(repeat([(i,j)], 5))[mask])\n",
    "            append!(cols, idx.(neighbors)[mask])\n",
    "            append!(vals, stencil[mask])\n",
    "        end\n",
    "    end\n",
    "    sparse(rows, cols, vals)\n",
    "end"
   ]
  },
  {
   "cell_type": "markdown",
   "id": "0144760c",
   "metadata": {
    "slideshow": {
     "slide_type": "slide"
    }
   },
   "source": [
    "# Simple preconditioners"
   ]
  },
  {
   "cell_type": "markdown",
   "id": "b0c22dd4",
   "metadata": {
    "cell_style": "split"
   },
   "source": [
    "## Jacobi `-pc_type jacobi`\n",
    "\n",
    "$$ P_{\\text{Jacobi}}^{-1} = D^{-1} $$\n",
    "where $D$ is the diagonal of $A$.\n",
    "\n",
    "## Gauss-Seidel `-pc_type sor`\n",
    "\n",
    "$$ P_{GS}^{-1} = (L+D)^{-1} $$\n",
    "where $L$ is the (strictly) lower triangular part of $A$.  The upper triangular part may be used instead, or a symmetric form\n",
    "$$ P_{SGS}^{-1} = (L+U)^{-1} A \\Big( I - (L+D)^{-1} \\Big) . $$\n",
    "\n",
    "### Over-relaxation\n",
    "\n",
    "`-pc_sor_omega 1.` is default (Gauss-Seidel)"
   ]
  },
  {
   "cell_type": "markdown",
   "id": "44f7d362",
   "metadata": {
    "cell_style": "split",
    "slideshow": {
     "slide_type": ""
    }
   },
   "source": [
    "## Run p-Laplacian example\n",
    "```console\n",
    "$ cd src/snes/tutorials\n",
    "$ make ex15\n",
    "$ ./ex15 -da_refine 2 -dm_view\n",
    "$ ./ex15 -ksp_monitor -pc_type jacobi\n",
    "$ ./ex15 -snes_view\n",
    "```\n",
    "\n",
    "## Experiments\n",
    "\n",
    "* How does iteration count vary under grid refinement?\n",
    "* How sensitive is it to parameters\n",
    "  * p-Laplacian `-p` $> 1$ and `-epsilon` $> 0$\n",
    "  * Bratu `-lambda` $< 6.8$\n",
    "* How sensitive to `-ksp_gmres_restart`?\n",
    "* `-ksp_monitor_true_residual`\n",
    "* `-ksp_view_eigenvalues`"
   ]
  },
  {
   "cell_type": "markdown",
   "id": "c9f57e0b",
   "metadata": {
    "slideshow": {
     "slide_type": "slide"
    }
   },
   "source": [
    "# Incomplete factorization"
   ]
  },
  {
   "cell_type": "markdown",
   "id": "185b6d73",
   "metadata": {
    "cell_style": "split"
   },
   "source": [
    "* Start factoring like in a sparse direct solver\n",
    "  * **ILU(0)** Discard fill outside the sparsity pattern of $A$\n",
    "  * **ILU($k$)**: only allow $k$ levels of fill\n",
    "  * **ILUT($\\epsilon$)**: only keep fill values larger than $\\epsilon$\n",
    "\n",
    "## Experiments\n",
    "* Try `-pc_factor_levels 2`\n",
    "* Impact on cost (check `-log_view`)\n",
    "* Impact on scalability (`-da_refine 6`)"
   ]
  },
  {
   "cell_type": "markdown",
   "id": "81a5f1b4",
   "metadata": {
    "cell_style": "split"
   },
   "source": [
    "## Kershaw (1978) matrix\n",
    "\n",
    "Incomplete Cholesky can break down for SPD matrices.\n",
    "\n",
    "```console\n",
    "$ make $PETSC_ARCH/tests/ksp/pc/tutorials/ex1\n",
    "```\n",
    "and try running."
   ]
  },
  {
   "cell_type": "code",
   "execution_count": 57,
   "id": "3e389a97",
   "metadata": {
    "cell_style": "split"
   },
   "outputs": [
    {
     "data": {
      "text/plain": [
       "4-element Vector{Float64}:\n",
       " 0.17157287525380904\n",
       " 0.17157287525381085\n",
       " 5.828427124746186\n",
       " 5.82842712474619"
      ]
     },
     "execution_count": 57,
     "metadata": {},
     "output_type": "execute_result"
    }
   ],
   "source": [
    "K = [3 -2 0 2; -2 3 -2 0; 0 -2 3 -2; 2 0 -2 3]\n",
    "eigvals(K)"
   ]
  },
  {
   "cell_type": "markdown",
   "id": "b4ca1029",
   "metadata": {
    "slideshow": {
     "slide_type": "slide"
    }
   },
   "source": [
    "# Domain decomposition"
   ]
  },
  {
   "cell_type": "markdown",
   "id": "0cda10a9",
   "metadata": {
    "cell_style": "split"
   },
   "source": [
    "![](https://upload.wikimedia.org/wikipedia/commons/a/a9/Ddm_original_logo.png)"
   ]
  },
  {
   "cell_type": "markdown",
   "id": "2077fda9",
   "metadata": {
    "cell_style": "split"
   },
   "source": [
    "## Alternating Schwarz method\n",
    "```python\n",
    "bc_circ = guess()\n",
    "while not converged:\n",
    "    u_circ = solve(A_circ, bc_circ)\n",
    "    bc_rect = eval(u_circ, rect)\n",
    "    u_rect = solve(A_rect, bc_rect)\n",
    "    bc_circ = eval(u_rect, circ)\n",
    "```\n",
    "\n",
    "This method was proposed in 1870 by [Hermann Schwarz](https://en.wikipedia.org/wiki/Hermann_Schwarz) as a theoretical tool, and is now called a **multiplicative** Schwarz method because the solves depend on each other.  We can see it as a generalization of Gauss-Seidel in which we solve on subdomains instead of at individual grid points.  As with Gauss-Seidel, it is difficult to expose parallelism."
   ]
  },
  {
   "cell_type": "markdown",
   "id": "5cf8c455",
   "metadata": {
    "slideshow": {
     "slide_type": "slide"
    }
   },
   "source": [
    "# Additive Schwarz\n",
    "\n",
    "The additive Schwarz method is more comparable to Jacobi, with each domain solved in parallel.  Our fundamental operation will be an embedding of each subdomain $V_i$ into the global domain $V$, which we call the **prolongation**\n",
    "\n",
    "$$ P_i : V_i \\to V $$\n",
    "\n",
    "The transpose of prolongation, $P_i^T$, will sometimes be called **restriction**.\n",
    "Let's work an example."
   ]
  },
  {
   "cell_type": "code",
   "execution_count": 59,
   "id": "6a09a1ae",
   "metadata": {
    "cell_style": "split"
   },
   "outputs": [],
   "source": [
    "n = 21\n",
    "x = LinRange(-1, 1, n)\n",
    "overlap = 0\n",
    "domains = [(1, n÷3), (n÷3+1, 2*n÷3), (2*n÷3+1, n)]\n",
    "Id = diagm(ones(n))\n",
    "P = []\n",
    "for (i, (left, right)) in enumerate(domains)\n",
    "    push!(P, Id[:, left:right])\n",
    "end"
   ]
  },
  {
   "cell_type": "code",
   "execution_count": 61,
   "id": "554a4db2",
   "metadata": {
    "cell_style": "split"
   },
   "outputs": [
    {
     "data": {
      "image/svg+xml": [
       "<?xml version=\"1.0\" encoding=\"utf-8\"?>\n",
       "<svg xmlns=\"http://www.w3.org/2000/svg\" xmlns:xlink=\"http://www.w3.org/1999/xlink\" width=\"600\" height=\"400\" viewBox=\"0 0 2400 1600\">\n",
       "<defs>\n",
       "  <clipPath id=\"clip110\">\n",
       "    <rect x=\"0\" y=\"0\" width=\"2400\" height=\"1600\"/>\n",
       "  </clipPath>\n",
       "</defs>\n",
       "<path clip-path=\"url(#clip110)\" d=\"\n",
       "M0 1600 L2400 1600 L2400 0 L0 0  Z\n",
       "  \" fill=\"#ffffff\" fill-rule=\"evenodd\" fill-opacity=\"1\"/>\n",
       "<defs>\n",
       "  <clipPath id=\"clip111\">\n",
       "    <rect x=\"480\" y=\"0\" width=\"1681\" height=\"1600\"/>\n",
       "  </clipPath>\n",
       "</defs>\n",
       "<path clip-path=\"url(#clip110)\" d=\"\n",
       "M156.112 1486.45 L2352.76 1486.45 L2352.76 47.2441 L156.112 47.2441  Z\n",
       "  \" fill=\"#ffffff\" fill-rule=\"evenodd\" fill-opacity=\"1\"/>\n",
       "<defs>\n",
       "  <clipPath id=\"clip112\">\n",
       "    <rect x=\"156\" y=\"47\" width=\"2198\" height=\"1440\"/>\n",
       "  </clipPath>\n",
       "</defs>\n",
       "<polyline clip-path=\"url(#clip112)\" style=\"stroke:#000000; stroke-linecap:butt; stroke-linejoin:round; stroke-width:2; stroke-opacity:0.1; fill:none\" points=\"\n",
       "  218.281,1486.45 218.281,47.2441 \n",
       "  \"/>\n",
       "<polyline clip-path=\"url(#clip112)\" style=\"stroke:#000000; stroke-linecap:butt; stroke-linejoin:round; stroke-width:2; stroke-opacity:0.1; fill:none\" points=\"\n",
       "  736.358,1486.45 736.358,47.2441 \n",
       "  \"/>\n",
       "<polyline clip-path=\"url(#clip112)\" style=\"stroke:#000000; stroke-linecap:butt; stroke-linejoin:round; stroke-width:2; stroke-opacity:0.1; fill:none\" points=\"\n",
       "  1254.43,1486.45 1254.43,47.2441 \n",
       "  \"/>\n",
       "<polyline clip-path=\"url(#clip112)\" style=\"stroke:#000000; stroke-linecap:butt; stroke-linejoin:round; stroke-width:2; stroke-opacity:0.1; fill:none\" points=\"\n",
       "  1772.51,1486.45 1772.51,47.2441 \n",
       "  \"/>\n",
       "<polyline clip-path=\"url(#clip112)\" style=\"stroke:#000000; stroke-linecap:butt; stroke-linejoin:round; stroke-width:2; stroke-opacity:0.1; fill:none\" points=\"\n",
       "  2290.59,1486.45 2290.59,47.2441 \n",
       "  \"/>\n",
       "<polyline clip-path=\"url(#clip110)\" style=\"stroke:#000000; stroke-linecap:butt; stroke-linejoin:round; stroke-width:4; stroke-opacity:1; fill:none\" points=\"\n",
       "  156.112,1486.45 2352.76,1486.45 \n",
       "  \"/>\n",
       "<polyline clip-path=\"url(#clip110)\" style=\"stroke:#000000; stroke-linecap:butt; stroke-linejoin:round; stroke-width:4; stroke-opacity:1; fill:none\" points=\"\n",
       "  218.281,1486.45 218.281,1467.55 \n",
       "  \"/>\n",
       "<polyline clip-path=\"url(#clip110)\" style=\"stroke:#000000; stroke-linecap:butt; stroke-linejoin:round; stroke-width:4; stroke-opacity:1; fill:none\" points=\"\n",
       "  736.358,1486.45 736.358,1467.55 \n",
       "  \"/>\n",
       "<polyline clip-path=\"url(#clip110)\" style=\"stroke:#000000; stroke-linecap:butt; stroke-linejoin:round; stroke-width:4; stroke-opacity:1; fill:none\" points=\"\n",
       "  1254.43,1486.45 1254.43,1467.55 \n",
       "  \"/>\n",
       "<polyline clip-path=\"url(#clip110)\" style=\"stroke:#000000; stroke-linecap:butt; stroke-linejoin:round; stroke-width:4; stroke-opacity:1; fill:none\" points=\"\n",
       "  1772.51,1486.45 1772.51,1467.55 \n",
       "  \"/>\n",
       "<polyline clip-path=\"url(#clip110)\" style=\"stroke:#000000; stroke-linecap:butt; stroke-linejoin:round; stroke-width:4; stroke-opacity:1; fill:none\" points=\"\n",
       "  2290.59,1486.45 2290.59,1467.55 \n",
       "  \"/>\n",
       "<path clip-path=\"url(#clip110)\" d=\"M164.809 1532.02 L194.485 1532.02 L194.485 1535.95 L164.809 1535.95 L164.809 1532.02 Z\" fill=\"#000000\" fill-rule=\"evenodd\" fill-opacity=\"1\" /><path clip-path=\"url(#clip110)\" d=\"M205.388 1544.91 L213.027 1544.91 L213.027 1518.55 L204.717 1520.21 L204.717 1515.95 L212.98 1514.29 L217.656 1514.29 L217.656 1544.91 L225.295 1544.91 L225.295 1548.85 L205.388 1548.85 L205.388 1544.91 Z\" fill=\"#000000\" fill-rule=\"evenodd\" fill-opacity=\"1\" /><path clip-path=\"url(#clip110)\" d=\"M234.74 1542.97 L239.624 1542.97 L239.624 1548.85 L234.74 1548.85 L234.74 1542.97 Z\" fill=\"#000000\" fill-rule=\"evenodd\" fill-opacity=\"1\" /><path clip-path=\"url(#clip110)\" d=\"M259.809 1517.37 Q256.198 1517.37 254.369 1520.93 Q252.564 1524.47 252.564 1531.6 Q252.564 1538.71 254.369 1542.27 Q256.198 1545.82 259.809 1545.82 Q263.443 1545.82 265.249 1542.27 Q267.077 1538.71 267.077 1531.6 Q267.077 1524.47 265.249 1520.93 Q263.443 1517.37 259.809 1517.37 M259.809 1513.66 Q265.619 1513.66 268.675 1518.27 Q271.753 1522.85 271.753 1531.6 Q271.753 1540.33 268.675 1544.94 Q265.619 1549.52 259.809 1549.52 Q253.999 1549.52 250.92 1544.94 Q247.864 1540.33 247.864 1531.6 Q247.864 1522.85 250.92 1518.27 Q253.999 1513.66 259.809 1513.66 Z\" fill=\"#000000\" fill-rule=\"evenodd\" fill-opacity=\"1\" /><path clip-path=\"url(#clip110)\" d=\"M683.383 1532.02 L713.059 1532.02 L713.059 1535.95 L683.383 1535.95 L683.383 1532.02 Z\" fill=\"#000000\" fill-rule=\"evenodd\" fill-opacity=\"1\" /><path clip-path=\"url(#clip110)\" d=\"M733.152 1517.37 Q729.541 1517.37 727.712 1520.93 Q725.906 1524.47 725.906 1531.6 Q725.906 1538.71 727.712 1542.27 Q729.541 1545.82 733.152 1545.82 Q736.786 1545.82 738.591 1542.27 Q740.42 1538.71 740.42 1531.6 Q740.42 1524.47 738.591 1520.93 Q736.786 1517.37 733.152 1517.37 M733.152 1513.66 Q738.962 1513.66 742.017 1518.27 Q745.096 1522.85 745.096 1531.6 Q745.096 1540.33 742.017 1544.94 Q738.962 1549.52 733.152 1549.52 Q727.341 1549.52 724.263 1544.94 Q721.207 1540.33 721.207 1531.6 Q721.207 1522.85 724.263 1518.27 Q727.341 1513.66 733.152 1513.66 Z\" fill=\"#000000\" fill-rule=\"evenodd\" fill-opacity=\"1\" /><path clip-path=\"url(#clip110)\" d=\"M753.314 1542.97 L758.198 1542.97 L758.198 1548.85 L753.314 1548.85 L753.314 1542.97 Z\" fill=\"#000000\" fill-rule=\"evenodd\" fill-opacity=\"1\" /><path clip-path=\"url(#clip110)\" d=\"M768.429 1514.29 L786.786 1514.29 L786.786 1518.22 L772.712 1518.22 L772.712 1526.7 Q773.73 1526.35 774.749 1526.19 Q775.767 1526 776.786 1526 Q782.573 1526 785.952 1529.17 Q789.332 1532.34 789.332 1537.76 Q789.332 1543.34 785.86 1546.44 Q782.387 1549.52 776.068 1549.52 Q773.892 1549.52 771.624 1549.15 Q769.378 1548.78 766.971 1548.04 L766.971 1543.34 Q769.054 1544.47 771.276 1545.03 Q773.499 1545.58 775.975 1545.58 Q779.98 1545.58 782.318 1543.48 Q784.656 1541.37 784.656 1537.76 Q784.656 1534.15 782.318 1532.04 Q779.98 1529.94 775.975 1529.94 Q774.101 1529.94 772.226 1530.35 Q770.374 1530.77 768.429 1531.65 L768.429 1514.29 Z\" fill=\"#000000\" fill-rule=\"evenodd\" fill-opacity=\"1\" /><path clip-path=\"url(#clip110)\" d=\"M1231.82 1517.37 Q1228.21 1517.37 1226.38 1520.93 Q1224.57 1524.47 1224.57 1531.6 Q1224.57 1538.71 1226.38 1542.27 Q1228.21 1545.82 1231.82 1545.82 Q1235.45 1545.82 1237.26 1542.27 Q1239.09 1538.71 1239.09 1531.6 Q1239.09 1524.47 1237.26 1520.93 Q1235.45 1517.37 1231.82 1517.37 M1231.82 1513.66 Q1237.63 1513.66 1240.68 1518.27 Q1243.76 1522.85 1243.76 1531.6 Q1243.76 1540.33 1240.68 1544.94 Q1237.63 1549.52 1231.82 1549.52 Q1226.01 1549.52 1222.93 1544.94 Q1219.87 1540.33 1219.87 1531.6 Q1219.87 1522.85 1222.93 1518.27 Q1226.01 1513.66 1231.82 1513.66 Z\" fill=\"#000000\" fill-rule=\"evenodd\" fill-opacity=\"1\" /><path clip-path=\"url(#clip110)\" d=\"M1251.98 1542.97 L1256.86 1542.97 L1256.86 1548.85 L1251.98 1548.85 L1251.98 1542.97 Z\" fill=\"#000000\" fill-rule=\"evenodd\" fill-opacity=\"1\" /><path clip-path=\"url(#clip110)\" d=\"M1277.05 1517.37 Q1273.44 1517.37 1271.61 1520.93 Q1269.8 1524.47 1269.8 1531.6 Q1269.8 1538.71 1271.61 1542.27 Q1273.44 1545.82 1277.05 1545.82 Q1280.68 1545.82 1282.49 1542.27 Q1284.32 1538.71 1284.32 1531.6 Q1284.32 1524.47 1282.49 1520.93 Q1280.68 1517.37 1277.05 1517.37 M1277.05 1513.66 Q1282.86 1513.66 1285.92 1518.27 Q1288.99 1522.85 1288.99 1531.6 Q1288.99 1540.33 1285.92 1544.94 Q1282.86 1549.52 1277.05 1549.52 Q1271.24 1549.52 1268.16 1544.94 Q1265.11 1540.33 1265.11 1531.6 Q1265.11 1522.85 1268.16 1518.27 Q1271.24 1513.66 1277.05 1513.66 Z\" fill=\"#000000\" fill-rule=\"evenodd\" fill-opacity=\"1\" /><path clip-path=\"url(#clip110)\" d=\"M1750.39 1517.37 Q1746.78 1517.37 1744.95 1520.93 Q1743.15 1524.47 1743.15 1531.6 Q1743.15 1538.71 1744.95 1542.27 Q1746.78 1545.82 1750.39 1545.82 Q1754.03 1545.82 1755.83 1542.27 Q1757.66 1538.71 1757.66 1531.6 Q1757.66 1524.47 1755.83 1520.93 Q1754.03 1517.37 1750.39 1517.37 M1750.39 1513.66 Q1756.2 1513.66 1759.26 1518.27 Q1762.34 1522.85 1762.34 1531.6 Q1762.34 1540.33 1759.26 1544.94 Q1756.2 1549.52 1750.39 1549.52 Q1744.58 1549.52 1741.5 1544.94 Q1738.45 1540.33 1738.45 1531.6 Q1738.45 1522.85 1741.5 1518.27 Q1744.58 1513.66 1750.39 1513.66 Z\" fill=\"#000000\" fill-rule=\"evenodd\" fill-opacity=\"1\" /><path clip-path=\"url(#clip110)\" d=\"M1770.55 1542.97 L1775.44 1542.97 L1775.44 1548.85 L1770.55 1548.85 L1770.55 1542.97 Z\" fill=\"#000000\" fill-rule=\"evenodd\" fill-opacity=\"1\" /><path clip-path=\"url(#clip110)\" d=\"M1785.67 1514.29 L1804.03 1514.29 L1804.03 1518.22 L1789.95 1518.22 L1789.95 1526.7 Q1790.97 1526.35 1791.99 1526.19 Q1793.01 1526 1794.03 1526 Q1799.81 1526 1803.19 1529.17 Q1806.57 1532.34 1806.57 1537.76 Q1806.57 1543.34 1803.1 1546.44 Q1799.63 1549.52 1793.31 1549.52 Q1791.13 1549.52 1788.86 1549.15 Q1786.62 1548.78 1784.21 1548.04 L1784.21 1543.34 Q1786.3 1544.47 1788.52 1545.03 Q1790.74 1545.58 1793.22 1545.58 Q1797.22 1545.58 1799.56 1543.48 Q1801.9 1541.37 1801.9 1537.76 Q1801.9 1534.15 1799.56 1532.04 Q1797.22 1529.94 1793.22 1529.94 Q1791.34 1529.94 1789.47 1530.35 Q1787.61 1530.77 1785.67 1531.65 L1785.67 1514.29 Z\" fill=\"#000000\" fill-rule=\"evenodd\" fill-opacity=\"1\" /><path clip-path=\"url(#clip110)\" d=\"M2257.74 1544.91 L2265.38 1544.91 L2265.38 1518.55 L2257.07 1520.21 L2257.07 1515.95 L2265.33 1514.29 L2270.01 1514.29 L2270.01 1544.91 L2277.65 1544.91 L2277.65 1548.85 L2257.74 1548.85 L2257.74 1544.91 Z\" fill=\"#000000\" fill-rule=\"evenodd\" fill-opacity=\"1\" /><path clip-path=\"url(#clip110)\" d=\"M2287.09 1542.97 L2291.98 1542.97 L2291.98 1548.85 L2287.09 1548.85 L2287.09 1542.97 Z\" fill=\"#000000\" fill-rule=\"evenodd\" fill-opacity=\"1\" /><path clip-path=\"url(#clip110)\" d=\"M2312.16 1517.37 Q2308.55 1517.37 2306.72 1520.93 Q2304.92 1524.47 2304.92 1531.6 Q2304.92 1538.71 2306.72 1542.27 Q2308.55 1545.82 2312.16 1545.82 Q2315.79 1545.82 2317.6 1542.27 Q2319.43 1538.71 2319.43 1531.6 Q2319.43 1524.47 2317.6 1520.93 Q2315.79 1517.37 2312.16 1517.37 M2312.16 1513.66 Q2317.97 1513.66 2321.03 1518.27 Q2324.11 1522.85 2324.11 1531.6 Q2324.11 1540.33 2321.03 1544.94 Q2317.97 1549.52 2312.16 1549.52 Q2306.35 1549.52 2303.27 1544.94 Q2300.22 1540.33 2300.22 1531.6 Q2300.22 1522.85 2303.27 1518.27 Q2306.35 1513.66 2312.16 1513.66 Z\" fill=\"#000000\" fill-rule=\"evenodd\" fill-opacity=\"1\" /><polyline clip-path=\"url(#clip112)\" style=\"stroke:#000000; stroke-linecap:butt; stroke-linejoin:round; stroke-width:2; stroke-opacity:0.1; fill:none\" points=\"\n",
       "  156.112,1445.72 2352.76,1445.72 \n",
       "  \"/>\n",
       "<polyline clip-path=\"url(#clip112)\" style=\"stroke:#000000; stroke-linecap:butt; stroke-linejoin:round; stroke-width:2; stroke-opacity:0.1; fill:none\" points=\"\n",
       "  156.112,1106.28 2352.76,1106.28 \n",
       "  \"/>\n",
       "<polyline clip-path=\"url(#clip112)\" style=\"stroke:#000000; stroke-linecap:butt; stroke-linejoin:round; stroke-width:2; stroke-opacity:0.1; fill:none\" points=\"\n",
       "  156.112,766.846 2352.76,766.846 \n",
       "  \"/>\n",
       "<polyline clip-path=\"url(#clip112)\" style=\"stroke:#000000; stroke-linecap:butt; stroke-linejoin:round; stroke-width:2; stroke-opacity:0.1; fill:none\" points=\"\n",
       "  156.112,427.411 2352.76,427.411 \n",
       "  \"/>\n",
       "<polyline clip-path=\"url(#clip112)\" style=\"stroke:#000000; stroke-linecap:butt; stroke-linejoin:round; stroke-width:2; stroke-opacity:0.1; fill:none\" points=\"\n",
       "  156.112,87.9763 2352.76,87.9763 \n",
       "  \"/>\n",
       "<polyline clip-path=\"url(#clip110)\" style=\"stroke:#000000; stroke-linecap:butt; stroke-linejoin:round; stroke-width:4; stroke-opacity:1; fill:none\" points=\"\n",
       "  156.112,1486.45 156.112,47.2441 \n",
       "  \"/>\n",
       "<polyline clip-path=\"url(#clip110)\" style=\"stroke:#000000; stroke-linecap:butt; stroke-linejoin:round; stroke-width:4; stroke-opacity:1; fill:none\" points=\"\n",
       "  156.112,1445.72 175.01,1445.72 \n",
       "  \"/>\n",
       "<polyline clip-path=\"url(#clip110)\" style=\"stroke:#000000; stroke-linecap:butt; stroke-linejoin:round; stroke-width:4; stroke-opacity:1; fill:none\" points=\"\n",
       "  156.112,1106.28 175.01,1106.28 \n",
       "  \"/>\n",
       "<polyline clip-path=\"url(#clip110)\" style=\"stroke:#000000; stroke-linecap:butt; stroke-linejoin:round; stroke-width:4; stroke-opacity:1; fill:none\" points=\"\n",
       "  156.112,766.846 175.01,766.846 \n",
       "  \"/>\n",
       "<polyline clip-path=\"url(#clip110)\" style=\"stroke:#000000; stroke-linecap:butt; stroke-linejoin:round; stroke-width:4; stroke-opacity:1; fill:none\" points=\"\n",
       "  156.112,427.411 175.01,427.411 \n",
       "  \"/>\n",
       "<polyline clip-path=\"url(#clip110)\" style=\"stroke:#000000; stroke-linecap:butt; stroke-linejoin:round; stroke-width:4; stroke-opacity:1; fill:none\" points=\"\n",
       "  156.112,87.9763 175.01,87.9763 \n",
       "  \"/>\n",
       "<path clip-path=\"url(#clip110)\" d=\"M62.9365 1431.51 Q59.3254 1431.51 57.4967 1435.08 Q55.6912 1438.62 55.6912 1445.75 Q55.6912 1452.86 57.4967 1456.42 Q59.3254 1459.96 62.9365 1459.96 Q66.5707 1459.96 68.3763 1456.42 Q70.205 1452.86 70.205 1445.75 Q70.205 1438.62 68.3763 1435.08 Q66.5707 1431.51 62.9365 1431.51 M62.9365 1427.81 Q68.7467 1427.81 71.8022 1432.42 Q74.8809 1437 74.8809 1445.75 Q74.8809 1454.48 71.8022 1459.08 Q68.7467 1463.67 62.9365 1463.67 Q57.1264 1463.67 54.0477 1459.08 Q50.9921 1454.48 50.9921 1445.75 Q50.9921 1437 54.0477 1432.42 Q57.1264 1427.81 62.9365 1427.81 Z\" fill=\"#000000\" fill-rule=\"evenodd\" fill-opacity=\"1\" /><path clip-path=\"url(#clip110)\" d=\"M83.0984 1457.12 L87.9827 1457.12 L87.9827 1463 L83.0984 1463 L83.0984 1457.12 Z\" fill=\"#000000\" fill-rule=\"evenodd\" fill-opacity=\"1\" /><path clip-path=\"url(#clip110)\" d=\"M108.168 1431.51 Q104.557 1431.51 102.728 1435.08 Q100.922 1438.62 100.922 1445.75 Q100.922 1452.86 102.728 1456.42 Q104.557 1459.96 108.168 1459.96 Q111.802 1459.96 113.608 1456.42 Q115.436 1452.86 115.436 1445.75 Q115.436 1438.62 113.608 1435.08 Q111.802 1431.51 108.168 1431.51 M108.168 1427.81 Q113.978 1427.81 117.033 1432.42 Q120.112 1437 120.112 1445.75 Q120.112 1454.48 117.033 1459.08 Q113.978 1463.67 108.168 1463.67 Q102.358 1463.67 99.2789 1459.08 Q96.2234 1454.48 96.2234 1445.75 Q96.2234 1437 99.2789 1432.42 Q102.358 1427.81 108.168 1427.81 Z\" fill=\"#000000\" fill-rule=\"evenodd\" fill-opacity=\"1\" /><path clip-path=\"url(#clip110)\" d=\"M63.9319 1092.08 Q60.3208 1092.08 58.4921 1095.64 Q56.6865 1099.19 56.6865 1106.32 Q56.6865 1113.42 58.4921 1116.99 Q60.3208 1120.53 63.9319 1120.53 Q67.5661 1120.53 69.3717 1116.99 Q71.2004 1113.42 71.2004 1106.32 Q71.2004 1099.19 69.3717 1095.64 Q67.5661 1092.08 63.9319 1092.08 M63.9319 1088.38 Q69.742 1088.38 72.7976 1092.98 Q75.8763 1097.57 75.8763 1106.32 Q75.8763 1115.04 72.7976 1119.65 Q69.742 1124.23 63.9319 1124.23 Q58.1217 1124.23 55.043 1119.65 Q51.9875 1115.04 51.9875 1106.32 Q51.9875 1097.57 55.043 1092.98 Q58.1217 1088.38 63.9319 1088.38 Z\" fill=\"#000000\" fill-rule=\"evenodd\" fill-opacity=\"1\" /><path clip-path=\"url(#clip110)\" d=\"M84.0938 1117.68 L88.978 1117.68 L88.978 1123.56 L84.0938 1123.56 L84.0938 1117.68 Z\" fill=\"#000000\" fill-rule=\"evenodd\" fill-opacity=\"1\" /><path clip-path=\"url(#clip110)\" d=\"M99.2095 1089 L117.566 1089 L117.566 1092.94 L103.492 1092.94 L103.492 1101.41 Q104.51 1101.06 105.529 1100.9 Q106.547 1100.71 107.566 1100.71 Q113.353 1100.71 116.733 1103.89 Q120.112 1107.06 120.112 1112.47 Q120.112 1118.05 116.64 1121.15 Q113.168 1124.23 106.848 1124.23 Q104.672 1124.23 102.404 1123.86 Q100.159 1123.49 97.7511 1122.75 L97.7511 1118.05 Q99.8345 1119.19 102.057 1119.74 Q104.279 1120.3 106.756 1120.3 Q110.76 1120.3 113.098 1118.19 Q115.436 1116.08 115.436 1112.47 Q115.436 1108.86 113.098 1106.76 Q110.76 1104.65 106.756 1104.65 Q104.881 1104.65 103.006 1105.07 Q101.154 1105.48 99.2095 1106.36 L99.2095 1089 Z\" fill=\"#000000\" fill-rule=\"evenodd\" fill-opacity=\"1\" /><path clip-path=\"url(#clip110)\" d=\"M53.7467 780.191 L61.3856 780.191 L61.3856 753.825 L53.0754 755.492 L53.0754 751.233 L61.3393 749.566 L66.0152 749.566 L66.0152 780.191 L73.654 780.191 L73.654 784.126 L53.7467 784.126 L53.7467 780.191 Z\" fill=\"#000000\" fill-rule=\"evenodd\" fill-opacity=\"1\" /><path clip-path=\"url(#clip110)\" d=\"M83.0984 778.246 L87.9827 778.246 L87.9827 784.126 L83.0984 784.126 L83.0984 778.246 Z\" fill=\"#000000\" fill-rule=\"evenodd\" fill-opacity=\"1\" /><path clip-path=\"url(#clip110)\" d=\"M108.168 752.645 Q104.557 752.645 102.728 756.209 Q100.922 759.751 100.922 766.881 Q100.922 773.987 102.728 777.552 Q104.557 781.094 108.168 781.094 Q111.802 781.094 113.608 777.552 Q115.436 773.987 115.436 766.881 Q115.436 759.751 113.608 756.209 Q111.802 752.645 108.168 752.645 M108.168 748.941 Q113.978 748.941 117.033 753.547 Q120.112 758.131 120.112 766.881 Q120.112 775.608 117.033 780.214 Q113.978 784.797 108.168 784.797 Q102.358 784.797 99.2789 780.214 Q96.2234 775.608 96.2234 766.881 Q96.2234 758.131 99.2789 753.547 Q102.358 748.941 108.168 748.941 Z\" fill=\"#000000\" fill-rule=\"evenodd\" fill-opacity=\"1\" /><path clip-path=\"url(#clip110)\" d=\"M54.7421 440.756 L62.381 440.756 L62.381 414.39 L54.0708 416.057 L54.0708 411.798 L62.3347 410.131 L67.0106 410.131 L67.0106 440.756 L74.6494 440.756 L74.6494 444.691 L54.7421 444.691 L54.7421 440.756 Z\" fill=\"#000000\" fill-rule=\"evenodd\" fill-opacity=\"1\" /><path clip-path=\"url(#clip110)\" d=\"M84.0938 438.812 L88.978 438.812 L88.978 444.691 L84.0938 444.691 L84.0938 438.812 Z\" fill=\"#000000\" fill-rule=\"evenodd\" fill-opacity=\"1\" /><path clip-path=\"url(#clip110)\" d=\"M99.2095 410.131 L117.566 410.131 L117.566 414.066 L103.492 414.066 L103.492 422.538 Q104.51 422.191 105.529 422.029 Q106.547 421.844 107.566 421.844 Q113.353 421.844 116.733 425.015 Q120.112 428.187 120.112 433.603 Q120.112 439.182 116.64 442.284 Q113.168 445.362 106.848 445.362 Q104.672 445.362 102.404 444.992 Q100.159 444.622 97.7511 443.881 L97.7511 439.182 Q99.8345 440.316 102.057 440.872 Q104.279 441.427 106.756 441.427 Q110.76 441.427 113.098 439.321 Q115.436 437.214 115.436 433.603 Q115.436 429.992 113.098 427.886 Q110.76 425.779 106.756 425.779 Q104.881 425.779 103.006 426.196 Q101.154 426.613 99.2095 427.492 L99.2095 410.131 Z\" fill=\"#000000\" fill-rule=\"evenodd\" fill-opacity=\"1\" /><path clip-path=\"url(#clip110)\" d=\"M56.9643 101.321 L73.2837 101.321 L73.2837 105.256 L51.3393 105.256 L51.3393 101.321 Q54.0014 98.5665 58.5847 93.9369 Q63.1911 89.2841 64.3717 87.9416 Q66.617 85.4184 67.4967 83.6823 Q68.3994 81.9231 68.3994 80.2333 Q68.3994 77.4786 66.455 75.7425 Q64.5337 74.0064 61.4319 74.0064 Q59.2328 74.0064 56.7791 74.7703 Q54.3486 75.5342 51.5708 77.0851 L51.5708 72.3629 Q54.3949 71.2287 56.8486 70.65 Q59.3023 70.0713 61.3393 70.0713 Q66.7096 70.0713 69.9041 72.7565 Q73.0985 75.4416 73.0985 79.9323 Q73.0985 82.062 72.2883 83.9832 Q71.5013 85.8814 69.3948 88.474 Q68.8161 89.1453 65.7143 92.3628 Q62.6124 95.5573 56.9643 101.321 Z\" fill=\"#000000\" fill-rule=\"evenodd\" fill-opacity=\"1\" /><path clip-path=\"url(#clip110)\" d=\"M83.0984 99.3767 L87.9827 99.3767 L87.9827 105.256 L83.0984 105.256 L83.0984 99.3767 Z\" fill=\"#000000\" fill-rule=\"evenodd\" fill-opacity=\"1\" /><path clip-path=\"url(#clip110)\" d=\"M108.168 73.775 Q104.557 73.775 102.728 77.3398 Q100.922 80.8814 100.922 88.011 Q100.922 95.1174 102.728 98.6822 Q104.557 102.224 108.168 102.224 Q111.802 102.224 113.608 98.6822 Q115.436 95.1174 115.436 88.011 Q115.436 80.8814 113.608 77.3398 Q111.802 73.775 108.168 73.775 M108.168 70.0713 Q113.978 70.0713 117.033 74.6777 Q120.112 79.261 120.112 88.011 Q120.112 96.7378 117.033 101.344 Q113.978 105.928 108.168 105.928 Q102.358 105.928 99.2789 101.344 Q96.2234 96.7378 96.2234 88.011 Q96.2234 79.261 99.2789 74.6777 Q102.358 70.0713 108.168 70.0713 Z\" fill=\"#000000\" fill-rule=\"evenodd\" fill-opacity=\"1\" /><polyline clip-path=\"url(#clip112)\" style=\"stroke:#009af9; stroke-linecap:butt; stroke-linejoin:round; stroke-width:12; stroke-opacity:1; fill:none\" points=\"\n",
       "  218.281,1438.92 321.897,1380.59 425.512,1267.44 529.127,1109.57 632.742,921.087 736.358,718.825 839.973,520.852 943.588,344.854 1047.2,206.551 1150.82,118.297 \n",
       "  1254.43,87.9763 1358.05,118.297 1461.66,206.551 1565.28,344.854 1668.9,520.852 1772.51,718.825 1876.13,921.087 1979.74,1109.57 2083.36,1267.44 2186.97,1380.59 \n",
       "  2290.59,1438.92 \n",
       "  \"/>\n",
       "<circle clip-path=\"url(#clip112)\" cx=\"943.588\" cy=\"344.854\" r=\"14.4\" fill=\"#e26f46\" fill-rule=\"evenodd\" fill-opacity=\"1\" stroke=\"#000000\" stroke-opacity=\"1\" stroke-width=\"3.2\"/>\n",
       "<circle clip-path=\"url(#clip112)\" cx=\"1047.2\" cy=\"206.551\" r=\"14.4\" fill=\"#e26f46\" fill-rule=\"evenodd\" fill-opacity=\"1\" stroke=\"#000000\" stroke-opacity=\"1\" stroke-width=\"3.2\"/>\n",
       "<circle clip-path=\"url(#clip112)\" cx=\"1150.82\" cy=\"118.297\" r=\"14.4\" fill=\"#e26f46\" fill-rule=\"evenodd\" fill-opacity=\"1\" stroke=\"#000000\" stroke-opacity=\"1\" stroke-width=\"3.2\"/>\n",
       "<circle clip-path=\"url(#clip112)\" cx=\"1254.43\" cy=\"87.9763\" r=\"14.4\" fill=\"#e26f46\" fill-rule=\"evenodd\" fill-opacity=\"1\" stroke=\"#000000\" stroke-opacity=\"1\" stroke-width=\"3.2\"/>\n",
       "<circle clip-path=\"url(#clip112)\" cx=\"1358.05\" cy=\"118.297\" r=\"14.4\" fill=\"#e26f46\" fill-rule=\"evenodd\" fill-opacity=\"1\" stroke=\"#000000\" stroke-opacity=\"1\" stroke-width=\"3.2\"/>\n",
       "<circle clip-path=\"url(#clip112)\" cx=\"1461.66\" cy=\"206.551\" r=\"14.4\" fill=\"#e26f46\" fill-rule=\"evenodd\" fill-opacity=\"1\" stroke=\"#000000\" stroke-opacity=\"1\" stroke-width=\"3.2\"/>\n",
       "<circle clip-path=\"url(#clip112)\" cx=\"1565.28\" cy=\"344.854\" r=\"14.4\" fill=\"#e26f46\" fill-rule=\"evenodd\" fill-opacity=\"1\" stroke=\"#000000\" stroke-opacity=\"1\" stroke-width=\"3.2\"/>\n",
       "<polyline clip-path=\"url(#clip112)\" style=\"stroke:#3da44d; stroke-linecap:butt; stroke-linejoin:round; stroke-width:12; stroke-opacity:1; fill:none\" points=\"\n",
       "  218.281,1445.72 321.897,1445.72 425.512,1445.72 529.127,1445.72 632.742,1445.72 736.358,1445.72 839.973,1445.72 943.588,344.854 1047.2,206.551 1150.82,118.297 \n",
       "  1254.43,87.9763 1358.05,118.297 1461.66,206.551 1565.28,344.854 1668.9,1445.72 1772.51,1445.72 1876.13,1445.72 1979.74,1445.72 2083.36,1445.72 2186.97,1445.72 \n",
       "  2290.59,1445.72 \n",
       "  \"/>\n",
       "<line clip-path=\"url(#clip112)\" x1=\"218.281\" y1=\"1445.72\" x2=\"218.281\" y2=\"1429.72\" style=\"stroke:#3da44d; stroke-width:3.2; stroke-opacity:1\"/>\n",
       "<line clip-path=\"url(#clip112)\" x1=\"218.281\" y1=\"1445.72\" x2=\"202.281\" y2=\"1445.72\" style=\"stroke:#3da44d; stroke-width:3.2; stroke-opacity:1\"/>\n",
       "<line clip-path=\"url(#clip112)\" x1=\"218.281\" y1=\"1445.72\" x2=\"218.281\" y2=\"1461.72\" style=\"stroke:#3da44d; stroke-width:3.2; stroke-opacity:1\"/>\n",
       "<line clip-path=\"url(#clip112)\" x1=\"218.281\" y1=\"1445.72\" x2=\"234.281\" y2=\"1445.72\" style=\"stroke:#3da44d; stroke-width:3.2; stroke-opacity:1\"/>\n",
       "<line clip-path=\"url(#clip112)\" x1=\"321.897\" y1=\"1445.72\" x2=\"321.897\" y2=\"1429.72\" style=\"stroke:#3da44d; stroke-width:3.2; stroke-opacity:1\"/>\n",
       "<line clip-path=\"url(#clip112)\" x1=\"321.897\" y1=\"1445.72\" x2=\"305.897\" y2=\"1445.72\" style=\"stroke:#3da44d; stroke-width:3.2; stroke-opacity:1\"/>\n",
       "<line clip-path=\"url(#clip112)\" x1=\"321.897\" y1=\"1445.72\" x2=\"321.897\" y2=\"1461.72\" style=\"stroke:#3da44d; stroke-width:3.2; stroke-opacity:1\"/>\n",
       "<line clip-path=\"url(#clip112)\" x1=\"321.897\" y1=\"1445.72\" x2=\"337.897\" y2=\"1445.72\" style=\"stroke:#3da44d; stroke-width:3.2; stroke-opacity:1\"/>\n",
       "<line clip-path=\"url(#clip112)\" x1=\"425.512\" y1=\"1445.72\" x2=\"425.512\" y2=\"1429.72\" style=\"stroke:#3da44d; stroke-width:3.2; stroke-opacity:1\"/>\n",
       "<line clip-path=\"url(#clip112)\" x1=\"425.512\" y1=\"1445.72\" x2=\"409.512\" y2=\"1445.72\" style=\"stroke:#3da44d; stroke-width:3.2; stroke-opacity:1\"/>\n",
       "<line clip-path=\"url(#clip112)\" x1=\"425.512\" y1=\"1445.72\" x2=\"425.512\" y2=\"1461.72\" style=\"stroke:#3da44d; stroke-width:3.2; stroke-opacity:1\"/>\n",
       "<line clip-path=\"url(#clip112)\" x1=\"425.512\" y1=\"1445.72\" x2=\"441.512\" y2=\"1445.72\" style=\"stroke:#3da44d; stroke-width:3.2; stroke-opacity:1\"/>\n",
       "<line clip-path=\"url(#clip112)\" x1=\"529.127\" y1=\"1445.72\" x2=\"529.127\" y2=\"1429.72\" style=\"stroke:#3da44d; stroke-width:3.2; stroke-opacity:1\"/>\n",
       "<line clip-path=\"url(#clip112)\" x1=\"529.127\" y1=\"1445.72\" x2=\"513.127\" y2=\"1445.72\" style=\"stroke:#3da44d; stroke-width:3.2; stroke-opacity:1\"/>\n",
       "<line clip-path=\"url(#clip112)\" x1=\"529.127\" y1=\"1445.72\" x2=\"529.127\" y2=\"1461.72\" style=\"stroke:#3da44d; stroke-width:3.2; stroke-opacity:1\"/>\n",
       "<line clip-path=\"url(#clip112)\" x1=\"529.127\" y1=\"1445.72\" x2=\"545.127\" y2=\"1445.72\" style=\"stroke:#3da44d; stroke-width:3.2; stroke-opacity:1\"/>\n",
       "<line clip-path=\"url(#clip112)\" x1=\"632.742\" y1=\"1445.72\" x2=\"632.742\" y2=\"1429.72\" style=\"stroke:#3da44d; stroke-width:3.2; stroke-opacity:1\"/>\n",
       "<line clip-path=\"url(#clip112)\" x1=\"632.742\" y1=\"1445.72\" x2=\"616.742\" y2=\"1445.72\" style=\"stroke:#3da44d; stroke-width:3.2; stroke-opacity:1\"/>\n",
       "<line clip-path=\"url(#clip112)\" x1=\"632.742\" y1=\"1445.72\" x2=\"632.742\" y2=\"1461.72\" style=\"stroke:#3da44d; stroke-width:3.2; stroke-opacity:1\"/>\n",
       "<line clip-path=\"url(#clip112)\" x1=\"632.742\" y1=\"1445.72\" x2=\"648.742\" y2=\"1445.72\" style=\"stroke:#3da44d; stroke-width:3.2; stroke-opacity:1\"/>\n",
       "<line clip-path=\"url(#clip112)\" x1=\"736.358\" y1=\"1445.72\" x2=\"736.358\" y2=\"1429.72\" style=\"stroke:#3da44d; stroke-width:3.2; stroke-opacity:1\"/>\n",
       "<line clip-path=\"url(#clip112)\" x1=\"736.358\" y1=\"1445.72\" x2=\"720.358\" y2=\"1445.72\" style=\"stroke:#3da44d; stroke-width:3.2; stroke-opacity:1\"/>\n",
       "<line clip-path=\"url(#clip112)\" x1=\"736.358\" y1=\"1445.72\" x2=\"736.358\" y2=\"1461.72\" style=\"stroke:#3da44d; stroke-width:3.2; stroke-opacity:1\"/>\n",
       "<line clip-path=\"url(#clip112)\" x1=\"736.358\" y1=\"1445.72\" x2=\"752.358\" y2=\"1445.72\" style=\"stroke:#3da44d; stroke-width:3.2; stroke-opacity:1\"/>\n",
       "<line clip-path=\"url(#clip112)\" x1=\"839.973\" y1=\"1445.72\" x2=\"839.973\" y2=\"1429.72\" style=\"stroke:#3da44d; stroke-width:3.2; stroke-opacity:1\"/>\n",
       "<line clip-path=\"url(#clip112)\" x1=\"839.973\" y1=\"1445.72\" x2=\"823.973\" y2=\"1445.72\" style=\"stroke:#3da44d; stroke-width:3.2; stroke-opacity:1\"/>\n",
       "<line clip-path=\"url(#clip112)\" x1=\"839.973\" y1=\"1445.72\" x2=\"839.973\" y2=\"1461.72\" style=\"stroke:#3da44d; stroke-width:3.2; stroke-opacity:1\"/>\n",
       "<line clip-path=\"url(#clip112)\" x1=\"839.973\" y1=\"1445.72\" x2=\"855.973\" y2=\"1445.72\" style=\"stroke:#3da44d; stroke-width:3.2; stroke-opacity:1\"/>\n",
       "<line clip-path=\"url(#clip112)\" x1=\"943.588\" y1=\"344.854\" x2=\"943.588\" y2=\"328.854\" style=\"stroke:#3da44d; stroke-width:3.2; stroke-opacity:1\"/>\n",
       "<line clip-path=\"url(#clip112)\" x1=\"943.588\" y1=\"344.854\" x2=\"927.588\" y2=\"344.854\" style=\"stroke:#3da44d; stroke-width:3.2; stroke-opacity:1\"/>\n",
       "<line clip-path=\"url(#clip112)\" x1=\"943.588\" y1=\"344.854\" x2=\"943.588\" y2=\"360.854\" style=\"stroke:#3da44d; stroke-width:3.2; stroke-opacity:1\"/>\n",
       "<line clip-path=\"url(#clip112)\" x1=\"943.588\" y1=\"344.854\" x2=\"959.588\" y2=\"344.854\" style=\"stroke:#3da44d; stroke-width:3.2; stroke-opacity:1\"/>\n",
       "<line clip-path=\"url(#clip112)\" x1=\"1047.2\" y1=\"206.551\" x2=\"1047.2\" y2=\"190.551\" style=\"stroke:#3da44d; stroke-width:3.2; stroke-opacity:1\"/>\n",
       "<line clip-path=\"url(#clip112)\" x1=\"1047.2\" y1=\"206.551\" x2=\"1031.2\" y2=\"206.551\" style=\"stroke:#3da44d; stroke-width:3.2; stroke-opacity:1\"/>\n",
       "<line clip-path=\"url(#clip112)\" x1=\"1047.2\" y1=\"206.551\" x2=\"1047.2\" y2=\"222.551\" style=\"stroke:#3da44d; stroke-width:3.2; stroke-opacity:1\"/>\n",
       "<line clip-path=\"url(#clip112)\" x1=\"1047.2\" y1=\"206.551\" x2=\"1063.2\" y2=\"206.551\" style=\"stroke:#3da44d; stroke-width:3.2; stroke-opacity:1\"/>\n",
       "<line clip-path=\"url(#clip112)\" x1=\"1150.82\" y1=\"118.297\" x2=\"1150.82\" y2=\"102.297\" style=\"stroke:#3da44d; stroke-width:3.2; stroke-opacity:1\"/>\n",
       "<line clip-path=\"url(#clip112)\" x1=\"1150.82\" y1=\"118.297\" x2=\"1134.82\" y2=\"118.297\" style=\"stroke:#3da44d; stroke-width:3.2; stroke-opacity:1\"/>\n",
       "<line clip-path=\"url(#clip112)\" x1=\"1150.82\" y1=\"118.297\" x2=\"1150.82\" y2=\"134.297\" style=\"stroke:#3da44d; stroke-width:3.2; stroke-opacity:1\"/>\n",
       "<line clip-path=\"url(#clip112)\" x1=\"1150.82\" y1=\"118.297\" x2=\"1166.82\" y2=\"118.297\" style=\"stroke:#3da44d; stroke-width:3.2; stroke-opacity:1\"/>\n",
       "<line clip-path=\"url(#clip112)\" x1=\"1254.43\" y1=\"87.9763\" x2=\"1254.43\" y2=\"71.9763\" style=\"stroke:#3da44d; stroke-width:3.2; stroke-opacity:1\"/>\n",
       "<line clip-path=\"url(#clip112)\" x1=\"1254.43\" y1=\"87.9763\" x2=\"1238.43\" y2=\"87.9763\" style=\"stroke:#3da44d; stroke-width:3.2; stroke-opacity:1\"/>\n",
       "<line clip-path=\"url(#clip112)\" x1=\"1254.43\" y1=\"87.9763\" x2=\"1254.43\" y2=\"103.976\" style=\"stroke:#3da44d; stroke-width:3.2; stroke-opacity:1\"/>\n",
       "<line clip-path=\"url(#clip112)\" x1=\"1254.43\" y1=\"87.9763\" x2=\"1270.43\" y2=\"87.9763\" style=\"stroke:#3da44d; stroke-width:3.2; stroke-opacity:1\"/>\n",
       "<line clip-path=\"url(#clip112)\" x1=\"1358.05\" y1=\"118.297\" x2=\"1358.05\" y2=\"102.297\" style=\"stroke:#3da44d; stroke-width:3.2; stroke-opacity:1\"/>\n",
       "<line clip-path=\"url(#clip112)\" x1=\"1358.05\" y1=\"118.297\" x2=\"1342.05\" y2=\"118.297\" style=\"stroke:#3da44d; stroke-width:3.2; stroke-opacity:1\"/>\n",
       "<line clip-path=\"url(#clip112)\" x1=\"1358.05\" y1=\"118.297\" x2=\"1358.05\" y2=\"134.297\" style=\"stroke:#3da44d; stroke-width:3.2; stroke-opacity:1\"/>\n",
       "<line clip-path=\"url(#clip112)\" x1=\"1358.05\" y1=\"118.297\" x2=\"1374.05\" y2=\"118.297\" style=\"stroke:#3da44d; stroke-width:3.2; stroke-opacity:1\"/>\n",
       "<line clip-path=\"url(#clip112)\" x1=\"1461.66\" y1=\"206.551\" x2=\"1461.66\" y2=\"190.551\" style=\"stroke:#3da44d; stroke-width:3.2; stroke-opacity:1\"/>\n",
       "<line clip-path=\"url(#clip112)\" x1=\"1461.66\" y1=\"206.551\" x2=\"1445.66\" y2=\"206.551\" style=\"stroke:#3da44d; stroke-width:3.2; stroke-opacity:1\"/>\n",
       "<line clip-path=\"url(#clip112)\" x1=\"1461.66\" y1=\"206.551\" x2=\"1461.66\" y2=\"222.551\" style=\"stroke:#3da44d; stroke-width:3.2; stroke-opacity:1\"/>\n",
       "<line clip-path=\"url(#clip112)\" x1=\"1461.66\" y1=\"206.551\" x2=\"1477.66\" y2=\"206.551\" style=\"stroke:#3da44d; stroke-width:3.2; stroke-opacity:1\"/>\n",
       "<line clip-path=\"url(#clip112)\" x1=\"1565.28\" y1=\"344.854\" x2=\"1565.28\" y2=\"328.854\" style=\"stroke:#3da44d; stroke-width:3.2; stroke-opacity:1\"/>\n",
       "<line clip-path=\"url(#clip112)\" x1=\"1565.28\" y1=\"344.854\" x2=\"1549.28\" y2=\"344.854\" style=\"stroke:#3da44d; stroke-width:3.2; stroke-opacity:1\"/>\n",
       "<line clip-path=\"url(#clip112)\" x1=\"1565.28\" y1=\"344.854\" x2=\"1565.28\" y2=\"360.854\" style=\"stroke:#3da44d; stroke-width:3.2; stroke-opacity:1\"/>\n",
       "<line clip-path=\"url(#clip112)\" x1=\"1565.28\" y1=\"344.854\" x2=\"1581.28\" y2=\"344.854\" style=\"stroke:#3da44d; stroke-width:3.2; stroke-opacity:1\"/>\n",
       "<line clip-path=\"url(#clip112)\" x1=\"1668.9\" y1=\"1445.72\" x2=\"1668.9\" y2=\"1429.72\" style=\"stroke:#3da44d; stroke-width:3.2; stroke-opacity:1\"/>\n",
       "<line clip-path=\"url(#clip112)\" x1=\"1668.9\" y1=\"1445.72\" x2=\"1652.9\" y2=\"1445.72\" style=\"stroke:#3da44d; stroke-width:3.2; stroke-opacity:1\"/>\n",
       "<line clip-path=\"url(#clip112)\" x1=\"1668.9\" y1=\"1445.72\" x2=\"1668.9\" y2=\"1461.72\" style=\"stroke:#3da44d; stroke-width:3.2; stroke-opacity:1\"/>\n",
       "<line clip-path=\"url(#clip112)\" x1=\"1668.9\" y1=\"1445.72\" x2=\"1684.9\" y2=\"1445.72\" style=\"stroke:#3da44d; stroke-width:3.2; stroke-opacity:1\"/>\n",
       "<line clip-path=\"url(#clip112)\" x1=\"1772.51\" y1=\"1445.72\" x2=\"1772.51\" y2=\"1429.72\" style=\"stroke:#3da44d; stroke-width:3.2; stroke-opacity:1\"/>\n",
       "<line clip-path=\"url(#clip112)\" x1=\"1772.51\" y1=\"1445.72\" x2=\"1756.51\" y2=\"1445.72\" style=\"stroke:#3da44d; stroke-width:3.2; stroke-opacity:1\"/>\n",
       "<line clip-path=\"url(#clip112)\" x1=\"1772.51\" y1=\"1445.72\" x2=\"1772.51\" y2=\"1461.72\" style=\"stroke:#3da44d; stroke-width:3.2; stroke-opacity:1\"/>\n",
       "<line clip-path=\"url(#clip112)\" x1=\"1772.51\" y1=\"1445.72\" x2=\"1788.51\" y2=\"1445.72\" style=\"stroke:#3da44d; stroke-width:3.2; stroke-opacity:1\"/>\n",
       "<line clip-path=\"url(#clip112)\" x1=\"1876.13\" y1=\"1445.72\" x2=\"1876.13\" y2=\"1429.72\" style=\"stroke:#3da44d; stroke-width:3.2; stroke-opacity:1\"/>\n",
       "<line clip-path=\"url(#clip112)\" x1=\"1876.13\" y1=\"1445.72\" x2=\"1860.13\" y2=\"1445.72\" style=\"stroke:#3da44d; stroke-width:3.2; stroke-opacity:1\"/>\n",
       "<line clip-path=\"url(#clip112)\" x1=\"1876.13\" y1=\"1445.72\" x2=\"1876.13\" y2=\"1461.72\" style=\"stroke:#3da44d; stroke-width:3.2; stroke-opacity:1\"/>\n",
       "<line clip-path=\"url(#clip112)\" x1=\"1876.13\" y1=\"1445.72\" x2=\"1892.13\" y2=\"1445.72\" style=\"stroke:#3da44d; stroke-width:3.2; stroke-opacity:1\"/>\n",
       "<line clip-path=\"url(#clip112)\" x1=\"1979.74\" y1=\"1445.72\" x2=\"1979.74\" y2=\"1429.72\" style=\"stroke:#3da44d; stroke-width:3.2; stroke-opacity:1\"/>\n",
       "<line clip-path=\"url(#clip112)\" x1=\"1979.74\" y1=\"1445.72\" x2=\"1963.74\" y2=\"1445.72\" style=\"stroke:#3da44d; stroke-width:3.2; stroke-opacity:1\"/>\n",
       "<line clip-path=\"url(#clip112)\" x1=\"1979.74\" y1=\"1445.72\" x2=\"1979.74\" y2=\"1461.72\" style=\"stroke:#3da44d; stroke-width:3.2; stroke-opacity:1\"/>\n",
       "<line clip-path=\"url(#clip112)\" x1=\"1979.74\" y1=\"1445.72\" x2=\"1995.74\" y2=\"1445.72\" style=\"stroke:#3da44d; stroke-width:3.2; stroke-opacity:1\"/>\n",
       "<line clip-path=\"url(#clip112)\" x1=\"2083.36\" y1=\"1445.72\" x2=\"2083.36\" y2=\"1429.72\" style=\"stroke:#3da44d; stroke-width:3.2; stroke-opacity:1\"/>\n",
       "<line clip-path=\"url(#clip112)\" x1=\"2083.36\" y1=\"1445.72\" x2=\"2067.36\" y2=\"1445.72\" style=\"stroke:#3da44d; stroke-width:3.2; stroke-opacity:1\"/>\n",
       "<line clip-path=\"url(#clip112)\" x1=\"2083.36\" y1=\"1445.72\" x2=\"2083.36\" y2=\"1461.72\" style=\"stroke:#3da44d; stroke-width:3.2; stroke-opacity:1\"/>\n",
       "<line clip-path=\"url(#clip112)\" x1=\"2083.36\" y1=\"1445.72\" x2=\"2099.36\" y2=\"1445.72\" style=\"stroke:#3da44d; stroke-width:3.2; stroke-opacity:1\"/>\n",
       "<line clip-path=\"url(#clip112)\" x1=\"2186.97\" y1=\"1445.72\" x2=\"2186.97\" y2=\"1429.72\" style=\"stroke:#3da44d; stroke-width:3.2; stroke-opacity:1\"/>\n",
       "<line clip-path=\"url(#clip112)\" x1=\"2186.97\" y1=\"1445.72\" x2=\"2170.97\" y2=\"1445.72\" style=\"stroke:#3da44d; stroke-width:3.2; stroke-opacity:1\"/>\n",
       "<line clip-path=\"url(#clip112)\" x1=\"2186.97\" y1=\"1445.72\" x2=\"2186.97\" y2=\"1461.72\" style=\"stroke:#3da44d; stroke-width:3.2; stroke-opacity:1\"/>\n",
       "<line clip-path=\"url(#clip112)\" x1=\"2186.97\" y1=\"1445.72\" x2=\"2202.97\" y2=\"1445.72\" style=\"stroke:#3da44d; stroke-width:3.2; stroke-opacity:1\"/>\n",
       "<line clip-path=\"url(#clip112)\" x1=\"2290.59\" y1=\"1445.72\" x2=\"2290.59\" y2=\"1429.72\" style=\"stroke:#3da44d; stroke-width:3.2; stroke-opacity:1\"/>\n",
       "<line clip-path=\"url(#clip112)\" x1=\"2290.59\" y1=\"1445.72\" x2=\"2274.59\" y2=\"1445.72\" style=\"stroke:#3da44d; stroke-width:3.2; stroke-opacity:1\"/>\n",
       "<line clip-path=\"url(#clip112)\" x1=\"2290.59\" y1=\"1445.72\" x2=\"2290.59\" y2=\"1461.72\" style=\"stroke:#3da44d; stroke-width:3.2; stroke-opacity:1\"/>\n",
       "<line clip-path=\"url(#clip112)\" x1=\"2290.59\" y1=\"1445.72\" x2=\"2306.59\" y2=\"1445.72\" style=\"stroke:#3da44d; stroke-width:3.2; stroke-opacity:1\"/>\n",
       "<path clip-path=\"url(#clip110)\" d=\"\n",
       "M1982.45 302.578 L2279.53 302.578 L2279.53 95.2176 L1982.45 95.2176  Z\n",
       "  \" fill=\"#ffffff\" fill-rule=\"evenodd\" fill-opacity=\"1\"/>\n",
       "<polyline clip-path=\"url(#clip110)\" style=\"stroke:#000000; stroke-linecap:butt; stroke-linejoin:round; stroke-width:4; stroke-opacity:1; fill:none\" points=\"\n",
       "  1982.45,302.578 2279.53,302.578 2279.53,95.2176 1982.45,95.2176 1982.45,302.578 \n",
       "  \"/>\n",
       "<polyline clip-path=\"url(#clip110)\" style=\"stroke:#009af9; stroke-linecap:butt; stroke-linejoin:round; stroke-width:4; stroke-opacity:1; fill:none\" points=\"\n",
       "  2006.86,147.058 2153.3,147.058 \n",
       "  \"/>\n",
       "<path clip-path=\"url(#clip110)\" d=\"M2191.55 166.745 Q2189.75 171.375 2188.04 172.787 Q2186.32 174.199 2183.45 174.199 L2180.05 174.199 L2180.05 170.634 L2182.55 170.634 Q2184.31 170.634 2185.28 169.8 Q2186.25 168.967 2187.43 165.865 L2188.2 163.921 L2177.71 138.412 L2182.23 138.412 L2190.33 158.689 L2198.43 138.412 L2202.94 138.412 L2191.55 166.745 Z\" fill=\"#000000\" fill-rule=\"evenodd\" fill-opacity=\"1\" /><path clip-path=\"url(#clip110)\" d=\"M2210.23 160.402 L2217.87 160.402 L2217.87 134.037 L2209.56 135.703 L2209.56 131.444 L2217.83 129.778 L2222.5 129.778 L2222.5 160.402 L2230.14 160.402 L2230.14 164.338 L2210.23 164.338 L2210.23 160.402 Z\" fill=\"#000000\" fill-rule=\"evenodd\" fill-opacity=\"1\" /><circle clip-path=\"url(#clip110)\" cx=\"2080.08\" cy=\"198.898\" r=\"23.04\" fill=\"#e26f46\" fill-rule=\"evenodd\" fill-opacity=\"1\" stroke=\"#000000\" stroke-opacity=\"1\" stroke-width=\"5.12\"/>\n",
       "<path clip-path=\"url(#clip110)\" d=\"M2191.55 218.585 Q2189.75 223.215 2188.04 224.627 Q2186.32 226.039 2183.45 226.039 L2180.05 226.039 L2180.05 222.474 L2182.55 222.474 Q2184.31 222.474 2185.28 221.64 Q2186.25 220.807 2187.43 217.705 L2188.2 215.761 L2177.71 190.252 L2182.23 190.252 L2190.33 210.529 L2198.43 190.252 L2202.94 190.252 L2191.55 218.585 Z\" fill=\"#000000\" fill-rule=\"evenodd\" fill-opacity=\"1\" /><path clip-path=\"url(#clip110)\" d=\"M2213.45 212.242 L2229.77 212.242 L2229.77 216.178 L2207.83 216.178 L2207.83 212.242 Q2210.49 209.488 2215.07 204.858 Q2219.68 200.205 2220.86 198.863 Q2223.1 196.34 2223.98 194.604 Q2224.89 192.844 2224.89 191.155 Q2224.89 188.4 2222.94 186.664 Q2221.02 184.928 2217.92 184.928 Q2215.72 184.928 2213.27 185.692 Q2210.84 186.455 2208.06 188.006 L2208.06 183.284 Q2210.88 182.15 2213.34 181.571 Q2215.79 180.993 2217.83 180.993 Q2223.2 180.993 2226.39 183.678 Q2229.59 186.363 2229.59 190.854 Q2229.59 192.983 2228.78 194.905 Q2227.99 196.803 2225.88 199.395 Q2225.3 200.067 2222.2 203.284 Q2219.1 206.479 2213.45 212.242 Z\" fill=\"#000000\" fill-rule=\"evenodd\" fill-opacity=\"1\" /><polyline clip-path=\"url(#clip110)\" style=\"stroke:#3da44d; stroke-linecap:butt; stroke-linejoin:round; stroke-width:4; stroke-opacity:1; fill:none\" points=\"\n",
       "  2006.86,250.738 2153.3,250.738 \n",
       "  \"/>\n",
       "<line clip-path=\"url(#clip110)\" x1=\"2080.08\" y1=\"250.738\" x2=\"2080.08\" y2=\"225.138\" style=\"stroke:#3da44d; stroke-width:5.12; stroke-opacity:1\"/>\n",
       "<line clip-path=\"url(#clip110)\" x1=\"2080.08\" y1=\"250.738\" x2=\"2054.48\" y2=\"250.738\" style=\"stroke:#3da44d; stroke-width:5.12; stroke-opacity:1\"/>\n",
       "<line clip-path=\"url(#clip110)\" x1=\"2080.08\" y1=\"250.738\" x2=\"2080.08\" y2=\"276.338\" style=\"stroke:#3da44d; stroke-width:5.12; stroke-opacity:1\"/>\n",
       "<line clip-path=\"url(#clip110)\" x1=\"2080.08\" y1=\"250.738\" x2=\"2105.68\" y2=\"250.738\" style=\"stroke:#3da44d; stroke-width:5.12; stroke-opacity:1\"/>\n",
       "<path clip-path=\"url(#clip110)\" d=\"M2191.55 270.425 Q2189.75 275.055 2188.04 276.467 Q2186.32 277.879 2183.45 277.879 L2180.05 277.879 L2180.05 274.314 L2182.55 274.314 Q2184.31 274.314 2185.28 273.48 Q2186.25 272.647 2187.43 269.545 L2188.2 267.601 L2177.71 242.092 L2182.23 242.092 L2190.33 262.369 L2198.43 242.092 L2202.94 242.092 L2191.55 270.425 Z\" fill=\"#000000\" fill-rule=\"evenodd\" fill-opacity=\"1\" /><path clip-path=\"url(#clip110)\" d=\"M2223.59 249.383 Q2226.95 250.101 2228.82 252.369 Q2230.72 254.638 2230.72 257.971 Q2230.72 263.087 2227.2 265.888 Q2223.68 268.689 2217.2 268.689 Q2215.03 268.689 2212.71 268.249 Q2210.42 267.832 2207.97 266.976 L2207.97 262.462 Q2209.91 263.596 2212.22 264.175 Q2214.54 264.754 2217.06 264.754 Q2221.46 264.754 2223.75 263.018 Q2226.07 261.281 2226.07 257.971 Q2226.07 254.916 2223.91 253.203 Q2221.79 251.467 2217.97 251.467 L2213.94 251.467 L2213.94 247.624 L2218.15 247.624 Q2221.6 247.624 2223.43 246.258 Q2225.26 244.87 2225.26 242.277 Q2225.26 239.615 2223.36 238.203 Q2221.48 236.768 2217.97 236.768 Q2216.04 236.768 2213.85 237.184 Q2211.65 237.601 2209.01 238.481 L2209.01 234.314 Q2211.67 233.573 2213.98 233.203 Q2216.32 232.833 2218.38 232.833 Q2223.71 232.833 2226.81 235.263 Q2229.91 237.67 2229.91 241.791 Q2229.91 244.661 2228.27 246.652 Q2226.62 248.62 2223.59 249.383 Z\" fill=\"#000000\" fill-rule=\"evenodd\" fill-opacity=\"1\" /></svg>\n"
      ]
     },
     "execution_count": 61,
     "metadata": {},
     "output_type": "execute_result"
    }
   ],
   "source": [
    "u = 1 .+ cos.(3*x)\n",
    "plot(x, u)\n",
    "u_2 = P[2]' * u\n",
    "scatter!(P[2]' * x, u_2)\n",
    "plot!(x, P[2] * u_2, marker=:auto)"
   ]
  },
  {
   "cell_type": "markdown",
   "id": "56ff7c31",
   "metadata": {
    "slideshow": {
     "slide_type": "slide"
    }
   },
   "source": [
    "# The algorithm"
   ]
  },
  {
   "cell_type": "markdown",
   "id": "3aac0e55",
   "metadata": {
    "cell_style": "split",
    "slideshow": {
     "slide_type": ""
    }
   },
   "source": [
    "Define the subdomain operator $$A_i = P_i^T A P_i$$\n",
    "The additive Schwarz preconditioner is\n",
    "$$ M^{-1} = \\sum_i P_i A_i^{-1} P_i^T $$\n",
    "and it has error iteration matrix\n",
    "$$ I - \\sum_i  P_i A_i^{-1} P_i^T A $$"
   ]
  },
  {
   "cell_type": "code",
   "execution_count": 64,
   "id": "8a477e7c",
   "metadata": {
    "cell_style": "split"
   },
   "outputs": [
    {
     "data": {
      "image/svg+xml": [
       "<?xml version=\"1.0\" encoding=\"utf-8\"?>\n",
       "<svg xmlns=\"http://www.w3.org/2000/svg\" xmlns:xlink=\"http://www.w3.org/1999/xlink\" width=\"600\" height=\"400\" viewBox=\"0 0 2400 1600\">\n",
       "<defs>\n",
       "  <clipPath id=\"clip230\">\n",
       "    <rect x=\"0\" y=\"0\" width=\"2400\" height=\"1600\"/>\n",
       "  </clipPath>\n",
       "</defs>\n",
       "<path clip-path=\"url(#clip230)\" d=\"\n",
       "M0 1600 L2400 1600 L2400 0 L0 0  Z\n",
       "  \" fill=\"#ffffff\" fill-rule=\"evenodd\" fill-opacity=\"1\"/>\n",
       "<defs>\n",
       "  <clipPath id=\"clip231\">\n",
       "    <rect x=\"480\" y=\"0\" width=\"1681\" height=\"1600\"/>\n",
       "  </clipPath>\n",
       "</defs>\n",
       "<path clip-path=\"url(#clip230)\" d=\"\n",
       "M156.598 1486.45 L2352.76 1486.45 L2352.76 47.2441 L156.598 47.2441  Z\n",
       "  \" fill=\"#ffffff\" fill-rule=\"evenodd\" fill-opacity=\"1\"/>\n",
       "<defs>\n",
       "  <clipPath id=\"clip232\">\n",
       "    <rect x=\"156\" y=\"47\" width=\"2197\" height=\"1440\"/>\n",
       "  </clipPath>\n",
       "</defs>\n",
       "<polyline clip-path=\"url(#clip232)\" style=\"stroke:#000000; stroke-linecap:butt; stroke-linejoin:round; stroke-width:2; stroke-opacity:0.1; fill:none\" points=\"\n",
       "  218.754,1486.45 218.754,47.2441 \n",
       "  \"/>\n",
       "<polyline clip-path=\"url(#clip232)\" style=\"stroke:#000000; stroke-linecap:butt; stroke-linejoin:round; stroke-width:2; stroke-opacity:0.1; fill:none\" points=\"\n",
       "  736.715,1486.45 736.715,47.2441 \n",
       "  \"/>\n",
       "<polyline clip-path=\"url(#clip232)\" style=\"stroke:#000000; stroke-linecap:butt; stroke-linejoin:round; stroke-width:2; stroke-opacity:0.1; fill:none\" points=\"\n",
       "  1254.68,1486.45 1254.68,47.2441 \n",
       "  \"/>\n",
       "<polyline clip-path=\"url(#clip232)\" style=\"stroke:#000000; stroke-linecap:butt; stroke-linejoin:round; stroke-width:2; stroke-opacity:0.1; fill:none\" points=\"\n",
       "  1772.64,1486.45 1772.64,47.2441 \n",
       "  \"/>\n",
       "<polyline clip-path=\"url(#clip232)\" style=\"stroke:#000000; stroke-linecap:butt; stroke-linejoin:round; stroke-width:2; stroke-opacity:0.1; fill:none\" points=\"\n",
       "  2290.6,1486.45 2290.6,47.2441 \n",
       "  \"/>\n",
       "<polyline clip-path=\"url(#clip230)\" style=\"stroke:#000000; stroke-linecap:butt; stroke-linejoin:round; stroke-width:4; stroke-opacity:1; fill:none\" points=\"\n",
       "  156.598,1486.45 2352.76,1486.45 \n",
       "  \"/>\n",
       "<polyline clip-path=\"url(#clip230)\" style=\"stroke:#000000; stroke-linecap:butt; stroke-linejoin:round; stroke-width:4; stroke-opacity:1; fill:none\" points=\"\n",
       "  218.754,1486.45 218.754,1467.55 \n",
       "  \"/>\n",
       "<polyline clip-path=\"url(#clip230)\" style=\"stroke:#000000; stroke-linecap:butt; stroke-linejoin:round; stroke-width:4; stroke-opacity:1; fill:none\" points=\"\n",
       "  736.715,1486.45 736.715,1467.55 \n",
       "  \"/>\n",
       "<polyline clip-path=\"url(#clip230)\" style=\"stroke:#000000; stroke-linecap:butt; stroke-linejoin:round; stroke-width:4; stroke-opacity:1; fill:none\" points=\"\n",
       "  1254.68,1486.45 1254.68,1467.55 \n",
       "  \"/>\n",
       "<polyline clip-path=\"url(#clip230)\" style=\"stroke:#000000; stroke-linecap:butt; stroke-linejoin:round; stroke-width:4; stroke-opacity:1; fill:none\" points=\"\n",
       "  1772.64,1486.45 1772.64,1467.55 \n",
       "  \"/>\n",
       "<polyline clip-path=\"url(#clip230)\" style=\"stroke:#000000; stroke-linecap:butt; stroke-linejoin:round; stroke-width:4; stroke-opacity:1; fill:none\" points=\"\n",
       "  2290.6,1486.45 2290.6,1467.55 \n",
       "  \"/>\n",
       "<path clip-path=\"url(#clip230)\" d=\"M165.282 1532.02 L194.957 1532.02 L194.957 1535.95 L165.282 1535.95 L165.282 1532.02 Z\" fill=\"#000000\" fill-rule=\"evenodd\" fill-opacity=\"1\" /><path clip-path=\"url(#clip230)\" d=\"M205.86 1544.91 L213.499 1544.91 L213.499 1518.55 L205.189 1520.21 L205.189 1515.95 L213.453 1514.29 L218.129 1514.29 L218.129 1544.91 L225.767 1544.91 L225.767 1548.85 L205.86 1548.85 L205.86 1544.91 Z\" fill=\"#000000\" fill-rule=\"evenodd\" fill-opacity=\"1\" /><path clip-path=\"url(#clip230)\" d=\"M235.212 1542.97 L240.096 1542.97 L240.096 1548.85 L235.212 1548.85 L235.212 1542.97 Z\" fill=\"#000000\" fill-rule=\"evenodd\" fill-opacity=\"1\" /><path clip-path=\"url(#clip230)\" d=\"M260.281 1517.37 Q256.67 1517.37 254.841 1520.93 Q253.036 1524.47 253.036 1531.6 Q253.036 1538.71 254.841 1542.27 Q256.67 1545.82 260.281 1545.82 Q263.915 1545.82 265.721 1542.27 Q267.55 1538.71 267.55 1531.6 Q267.55 1524.47 265.721 1520.93 Q263.915 1517.37 260.281 1517.37 M260.281 1513.66 Q266.091 1513.66 269.147 1518.27 Q272.226 1522.85 272.226 1531.6 Q272.226 1540.33 269.147 1544.94 Q266.091 1549.52 260.281 1549.52 Q254.471 1549.52 251.392 1544.94 Q248.337 1540.33 248.337 1531.6 Q248.337 1522.85 251.392 1518.27 Q254.471 1513.66 260.281 1513.66 Z\" fill=\"#000000\" fill-rule=\"evenodd\" fill-opacity=\"1\" /><path clip-path=\"url(#clip230)\" d=\"M683.741 1532.02 L713.417 1532.02 L713.417 1535.95 L683.741 1535.95 L683.741 1532.02 Z\" fill=\"#000000\" fill-rule=\"evenodd\" fill-opacity=\"1\" /><path clip-path=\"url(#clip230)\" d=\"M733.509 1517.37 Q729.898 1517.37 728.07 1520.93 Q726.264 1524.47 726.264 1531.6 Q726.264 1538.71 728.07 1542.27 Q729.898 1545.82 733.509 1545.82 Q737.144 1545.82 738.949 1542.27 Q740.778 1538.71 740.778 1531.6 Q740.778 1524.47 738.949 1520.93 Q737.144 1517.37 733.509 1517.37 M733.509 1513.66 Q739.32 1513.66 742.375 1518.27 Q745.454 1522.85 745.454 1531.6 Q745.454 1540.33 742.375 1544.94 Q739.32 1549.52 733.509 1549.52 Q727.699 1549.52 724.621 1544.94 Q721.565 1540.33 721.565 1531.6 Q721.565 1522.85 724.621 1518.27 Q727.699 1513.66 733.509 1513.66 Z\" fill=\"#000000\" fill-rule=\"evenodd\" fill-opacity=\"1\" /><path clip-path=\"url(#clip230)\" d=\"M753.671 1542.97 L758.556 1542.97 L758.556 1548.85 L753.671 1548.85 L753.671 1542.97 Z\" fill=\"#000000\" fill-rule=\"evenodd\" fill-opacity=\"1\" /><path clip-path=\"url(#clip230)\" d=\"M768.787 1514.29 L787.143 1514.29 L787.143 1518.22 L773.069 1518.22 L773.069 1526.7 Q774.088 1526.35 775.106 1526.19 Q776.125 1526 777.143 1526 Q782.93 1526 786.31 1529.17 Q789.69 1532.34 789.69 1537.76 Q789.69 1543.34 786.217 1546.44 Q782.745 1549.52 776.426 1549.52 Q774.25 1549.52 771.981 1549.15 Q769.736 1548.78 767.329 1548.04 L767.329 1543.34 Q769.412 1544.47 771.634 1545.03 Q773.856 1545.58 776.333 1545.58 Q780.338 1545.58 782.676 1543.48 Q785.014 1541.37 785.014 1537.76 Q785.014 1534.15 782.676 1532.04 Q780.338 1529.94 776.333 1529.94 Q774.458 1529.94 772.583 1530.35 Q770.731 1530.77 768.787 1531.65 L768.787 1514.29 Z\" fill=\"#000000\" fill-rule=\"evenodd\" fill-opacity=\"1\" /><path clip-path=\"url(#clip230)\" d=\"M1232.06 1517.37 Q1228.45 1517.37 1226.62 1520.93 Q1224.82 1524.47 1224.82 1531.6 Q1224.82 1538.71 1226.62 1542.27 Q1228.45 1545.82 1232.06 1545.82 Q1235.7 1545.82 1237.5 1542.27 Q1239.33 1538.71 1239.33 1531.6 Q1239.33 1524.47 1237.5 1520.93 Q1235.7 1517.37 1232.06 1517.37 M1232.06 1513.66 Q1237.87 1513.66 1240.93 1518.27 Q1244.01 1522.85 1244.01 1531.6 Q1244.01 1540.33 1240.93 1544.94 Q1237.87 1549.52 1232.06 1549.52 Q1226.25 1549.52 1223.17 1544.94 Q1220.12 1540.33 1220.12 1531.6 Q1220.12 1522.85 1223.17 1518.27 Q1226.25 1513.66 1232.06 1513.66 Z\" fill=\"#000000\" fill-rule=\"evenodd\" fill-opacity=\"1\" /><path clip-path=\"url(#clip230)\" d=\"M1252.22 1542.97 L1257.11 1542.97 L1257.11 1548.85 L1252.22 1548.85 L1252.22 1542.97 Z\" fill=\"#000000\" fill-rule=\"evenodd\" fill-opacity=\"1\" /><path clip-path=\"url(#clip230)\" d=\"M1277.29 1517.37 Q1273.68 1517.37 1271.85 1520.93 Q1270.05 1524.47 1270.05 1531.6 Q1270.05 1538.71 1271.85 1542.27 Q1273.68 1545.82 1277.29 1545.82 Q1280.93 1545.82 1282.73 1542.27 Q1284.56 1538.71 1284.56 1531.6 Q1284.56 1524.47 1282.73 1520.93 Q1280.93 1517.37 1277.29 1517.37 M1277.29 1513.66 Q1283.1 1513.66 1286.16 1518.27 Q1289.24 1522.85 1289.24 1531.6 Q1289.24 1540.33 1286.16 1544.94 Q1283.1 1549.52 1277.29 1549.52 Q1271.48 1549.52 1268.4 1544.94 Q1265.35 1540.33 1265.35 1531.6 Q1265.35 1522.85 1268.4 1518.27 Q1271.48 1513.66 1277.29 1513.66 Z\" fill=\"#000000\" fill-rule=\"evenodd\" fill-opacity=\"1\" /><path clip-path=\"url(#clip230)\" d=\"M1750.52 1517.37 Q1746.91 1517.37 1745.08 1520.93 Q1743.28 1524.47 1743.28 1531.6 Q1743.28 1538.71 1745.08 1542.27 Q1746.91 1545.82 1750.52 1545.82 Q1754.16 1545.82 1755.96 1542.27 Q1757.79 1538.71 1757.79 1531.6 Q1757.79 1524.47 1755.96 1520.93 Q1754.16 1517.37 1750.52 1517.37 M1750.52 1513.66 Q1756.33 1513.66 1759.39 1518.27 Q1762.47 1522.85 1762.47 1531.6 Q1762.47 1540.33 1759.39 1544.94 Q1756.33 1549.52 1750.52 1549.52 Q1744.71 1549.52 1741.63 1544.94 Q1738.58 1540.33 1738.58 1531.6 Q1738.58 1522.85 1741.63 1518.27 Q1744.71 1513.66 1750.52 1513.66 Z\" fill=\"#000000\" fill-rule=\"evenodd\" fill-opacity=\"1\" /><path clip-path=\"url(#clip230)\" d=\"M1770.68 1542.97 L1775.57 1542.97 L1775.57 1548.85 L1770.68 1548.85 L1770.68 1542.97 Z\" fill=\"#000000\" fill-rule=\"evenodd\" fill-opacity=\"1\" /><path clip-path=\"url(#clip230)\" d=\"M1785.8 1514.29 L1804.15 1514.29 L1804.15 1518.22 L1790.08 1518.22 L1790.08 1526.7 Q1791.1 1526.35 1792.12 1526.19 Q1793.14 1526 1794.15 1526 Q1799.94 1526 1803.32 1529.17 Q1806.7 1532.34 1806.7 1537.76 Q1806.7 1543.34 1803.23 1546.44 Q1799.76 1549.52 1793.44 1549.52 Q1791.26 1549.52 1788.99 1549.15 Q1786.75 1548.78 1784.34 1548.04 L1784.34 1543.34 Q1786.42 1544.47 1788.65 1545.03 Q1790.87 1545.58 1793.34 1545.58 Q1797.35 1545.58 1799.69 1543.48 Q1802.03 1541.37 1802.03 1537.76 Q1802.03 1534.15 1799.69 1532.04 Q1797.35 1529.94 1793.34 1529.94 Q1791.47 1529.94 1789.59 1530.35 Q1787.74 1530.77 1785.8 1531.65 L1785.8 1514.29 Z\" fill=\"#000000\" fill-rule=\"evenodd\" fill-opacity=\"1\" /><path clip-path=\"url(#clip230)\" d=\"M2257.75 1544.91 L2265.39 1544.91 L2265.39 1518.55 L2257.08 1520.21 L2257.08 1515.95 L2265.35 1514.29 L2270.02 1514.29 L2270.02 1544.91 L2277.66 1544.91 L2277.66 1548.85 L2257.75 1548.85 L2257.75 1544.91 Z\" fill=\"#000000\" fill-rule=\"evenodd\" fill-opacity=\"1\" /><path clip-path=\"url(#clip230)\" d=\"M2287.11 1542.97 L2291.99 1542.97 L2291.99 1548.85 L2287.11 1548.85 L2287.11 1542.97 Z\" fill=\"#000000\" fill-rule=\"evenodd\" fill-opacity=\"1\" /><path clip-path=\"url(#clip230)\" d=\"M2312.17 1517.37 Q2308.56 1517.37 2306.73 1520.93 Q2304.93 1524.47 2304.93 1531.6 Q2304.93 1538.71 2306.73 1542.27 Q2308.56 1545.82 2312.17 1545.82 Q2315.81 1545.82 2317.61 1542.27 Q2319.44 1538.71 2319.44 1531.6 Q2319.44 1524.47 2317.61 1520.93 Q2315.81 1517.37 2312.17 1517.37 M2312.17 1513.66 Q2317.98 1513.66 2321.04 1518.27 Q2324.12 1522.85 2324.12 1531.6 Q2324.12 1540.33 2321.04 1544.94 Q2317.98 1549.52 2312.17 1549.52 Q2306.36 1549.52 2303.29 1544.94 Q2300.23 1540.33 2300.23 1531.6 Q2300.23 1522.85 2303.29 1518.27 Q2306.36 1513.66 2312.17 1513.66 Z\" fill=\"#000000\" fill-rule=\"evenodd\" fill-opacity=\"1\" /><polyline clip-path=\"url(#clip232)\" style=\"stroke:#000000; stroke-linecap:butt; stroke-linejoin:round; stroke-width:2; stroke-opacity:0.1; fill:none\" points=\"\n",
       "  156.598,1445.72 2352.76,1445.72 \n",
       "  \"/>\n",
       "<polyline clip-path=\"url(#clip232)\" style=\"stroke:#000000; stroke-linecap:butt; stroke-linejoin:round; stroke-width:2; stroke-opacity:0.1; fill:none\" points=\"\n",
       "  156.598,1143.78 2352.76,1143.78 \n",
       "  \"/>\n",
       "<polyline clip-path=\"url(#clip232)\" style=\"stroke:#000000; stroke-linecap:butt; stroke-linejoin:round; stroke-width:2; stroke-opacity:0.1; fill:none\" points=\"\n",
       "  156.598,841.842 2352.76,841.842 \n",
       "  \"/>\n",
       "<polyline clip-path=\"url(#clip232)\" style=\"stroke:#000000; stroke-linecap:butt; stroke-linejoin:round; stroke-width:2; stroke-opacity:0.1; fill:none\" points=\"\n",
       "  156.598,539.905 2352.76,539.905 \n",
       "  \"/>\n",
       "<polyline clip-path=\"url(#clip232)\" style=\"stroke:#000000; stroke-linecap:butt; stroke-linejoin:round; stroke-width:2; stroke-opacity:0.1; fill:none\" points=\"\n",
       "  156.598,237.968 2352.76,237.968 \n",
       "  \"/>\n",
       "<polyline clip-path=\"url(#clip230)\" style=\"stroke:#000000; stroke-linecap:butt; stroke-linejoin:round; stroke-width:4; stroke-opacity:1; fill:none\" points=\"\n",
       "  156.598,1486.45 156.598,47.2441 \n",
       "  \"/>\n",
       "<polyline clip-path=\"url(#clip230)\" style=\"stroke:#000000; stroke-linecap:butt; stroke-linejoin:round; stroke-width:4; stroke-opacity:1; fill:none\" points=\"\n",
       "  156.598,1445.72 175.496,1445.72 \n",
       "  \"/>\n",
       "<polyline clip-path=\"url(#clip230)\" style=\"stroke:#000000; stroke-linecap:butt; stroke-linejoin:round; stroke-width:4; stroke-opacity:1; fill:none\" points=\"\n",
       "  156.598,1143.78 175.496,1143.78 \n",
       "  \"/>\n",
       "<polyline clip-path=\"url(#clip230)\" style=\"stroke:#000000; stroke-linecap:butt; stroke-linejoin:round; stroke-width:4; stroke-opacity:1; fill:none\" points=\"\n",
       "  156.598,841.842 175.496,841.842 \n",
       "  \"/>\n",
       "<polyline clip-path=\"url(#clip230)\" style=\"stroke:#000000; stroke-linecap:butt; stroke-linejoin:round; stroke-width:4; stroke-opacity:1; fill:none\" points=\"\n",
       "  156.598,539.905 175.496,539.905 \n",
       "  \"/>\n",
       "<polyline clip-path=\"url(#clip230)\" style=\"stroke:#000000; stroke-linecap:butt; stroke-linejoin:round; stroke-width:4; stroke-opacity:1; fill:none\" points=\"\n",
       "  156.598,237.968 175.496,237.968 \n",
       "  \"/>\n",
       "<path clip-path=\"url(#clip230)\" d=\"M63.4226 1431.51 Q59.8115 1431.51 57.9828 1435.08 Q56.1773 1438.62 56.1773 1445.75 Q56.1773 1452.86 57.9828 1456.42 Q59.8115 1459.96 63.4226 1459.96 Q67.0569 1459.96 68.8624 1456.42 Q70.6911 1452.86 70.6911 1445.75 Q70.6911 1438.62 68.8624 1435.08 Q67.0569 1431.51 63.4226 1431.51 M63.4226 1427.81 Q69.2328 1427.81 72.2883 1432.42 Q75.367 1437 75.367 1445.75 Q75.367 1454.48 72.2883 1459.08 Q69.2328 1463.67 63.4226 1463.67 Q57.6125 1463.67 54.5338 1459.08 Q51.4782 1454.48 51.4782 1445.75 Q51.4782 1437 54.5338 1432.42 Q57.6125 1427.81 63.4226 1427.81 Z\" fill=\"#000000\" fill-rule=\"evenodd\" fill-opacity=\"1\" /><path clip-path=\"url(#clip230)\" d=\"M83.5845 1457.12 L88.4688 1457.12 L88.4688 1463 L83.5845 1463 L83.5845 1457.12 Z\" fill=\"#000000\" fill-rule=\"evenodd\" fill-opacity=\"1\" /><path clip-path=\"url(#clip230)\" d=\"M108.654 1431.51 Q105.043 1431.51 103.214 1435.08 Q101.409 1438.62 101.409 1445.75 Q101.409 1452.86 103.214 1456.42 Q105.043 1459.96 108.654 1459.96 Q112.288 1459.96 114.094 1456.42 Q115.922 1452.86 115.922 1445.75 Q115.922 1438.62 114.094 1435.08 Q112.288 1431.51 108.654 1431.51 M108.654 1427.81 Q114.464 1427.81 117.52 1432.42 Q120.598 1437 120.598 1445.75 Q120.598 1454.48 117.52 1459.08 Q114.464 1463.67 108.654 1463.67 Q102.844 1463.67 99.765 1459.08 Q96.7095 1454.48 96.7095 1445.75 Q96.7095 1437 99.765 1432.42 Q102.844 1427.81 108.654 1427.81 Z\" fill=\"#000000\" fill-rule=\"evenodd\" fill-opacity=\"1\" /><path clip-path=\"url(#clip230)\" d=\"M65.0198 1129.58 Q61.4087 1129.58 59.58 1133.14 Q57.7745 1136.68 57.7745 1143.81 Q57.7745 1150.92 59.58 1154.48 Q61.4087 1158.03 65.0198 1158.03 Q68.6541 1158.03 70.4596 1154.48 Q72.2883 1150.92 72.2883 1143.81 Q72.2883 1136.68 70.4596 1133.14 Q68.6541 1129.58 65.0198 1129.58 M65.0198 1125.87 Q70.83 1125.87 73.8855 1130.48 Q76.9642 1135.06 76.9642 1143.81 Q76.9642 1152.54 73.8855 1157.15 Q70.83 1161.73 65.0198 1161.73 Q59.2097 1161.73 56.131 1157.15 Q53.0754 1152.54 53.0754 1143.81 Q53.0754 1135.06 56.131 1130.48 Q59.2097 1125.87 65.0198 1125.87 Z\" fill=\"#000000\" fill-rule=\"evenodd\" fill-opacity=\"1\" /><path clip-path=\"url(#clip230)\" d=\"M85.1818 1155.18 L90.066 1155.18 L90.066 1161.06 L85.1818 1161.06 L85.1818 1155.18 Z\" fill=\"#000000\" fill-rule=\"evenodd\" fill-opacity=\"1\" /><path clip-path=\"url(#clip230)\" d=\"M104.279 1157.12 L120.598 1157.12 L120.598 1161.06 L98.6539 1161.06 L98.6539 1157.12 Q101.316 1154.37 105.899 1149.74 Q110.506 1145.09 111.686 1143.74 Q113.932 1141.22 114.811 1139.48 Q115.714 1137.73 115.714 1136.04 Q115.714 1133.28 113.77 1131.55 Q111.848 1129.81 108.746 1129.81 Q106.547 1129.81 104.094 1130.57 Q101.663 1131.34 98.8854 1132.89 L98.8854 1128.17 Q101.709 1127.03 104.163 1126.45 Q106.617 1125.87 108.654 1125.87 Q114.024 1125.87 117.219 1128.56 Q120.413 1131.24 120.413 1135.73 Q120.413 1137.86 119.603 1139.79 Q118.816 1141.68 116.709 1144.28 Q116.131 1144.95 113.029 1148.17 Q109.927 1151.36 104.279 1157.12 Z\" fill=\"#000000\" fill-rule=\"evenodd\" fill-opacity=\"1\" /><path clip-path=\"url(#clip230)\" d=\"M62.9365 827.641 Q59.3254 827.641 57.4967 831.205 Q55.6912 834.747 55.6912 841.877 Q55.6912 848.983 57.4967 852.548 Q59.3254 856.089 62.9365 856.089 Q66.5707 856.089 68.3763 852.548 Q70.205 848.983 70.205 841.877 Q70.205 834.747 68.3763 831.205 Q66.5707 827.641 62.9365 827.641 M62.9365 823.937 Q68.7467 823.937 71.8022 828.543 Q74.8809 833.127 74.8809 841.877 Q74.8809 850.603 71.8022 855.21 Q68.7467 859.793 62.9365 859.793 Q57.1264 859.793 54.0477 855.21 Q50.9921 850.603 50.9921 841.877 Q50.9921 833.127 54.0477 828.543 Q57.1264 823.937 62.9365 823.937 Z\" fill=\"#000000\" fill-rule=\"evenodd\" fill-opacity=\"1\" /><path clip-path=\"url(#clip230)\" d=\"M83.0984 853.242 L87.9827 853.242 L87.9827 859.122 L83.0984 859.122 L83.0984 853.242 Z\" fill=\"#000000\" fill-rule=\"evenodd\" fill-opacity=\"1\" /><path clip-path=\"url(#clip230)\" d=\"M111.015 828.636 L99.2095 847.085 L111.015 847.085 L111.015 828.636 M109.788 824.562 L115.668 824.562 L115.668 847.085 L120.598 847.085 L120.598 850.974 L115.668 850.974 L115.668 859.122 L111.015 859.122 L111.015 850.974 L95.4132 850.974 L95.4132 846.46 L109.788 824.562 Z\" fill=\"#000000\" fill-rule=\"evenodd\" fill-opacity=\"1\" /><path clip-path=\"url(#clip230)\" d=\"M63.2606 525.704 Q59.6495 525.704 57.8208 529.268 Q56.0152 532.81 56.0152 539.94 Q56.0152 547.046 57.8208 550.611 Q59.6495 554.153 63.2606 554.153 Q66.8948 554.153 68.7004 550.611 Q70.5291 547.046 70.5291 539.94 Q70.5291 532.81 68.7004 529.268 Q66.8948 525.704 63.2606 525.704 M63.2606 522 Q69.0707 522 72.1263 526.606 Q75.205 531.19 75.205 539.94 Q75.205 548.666 72.1263 553.273 Q69.0707 557.856 63.2606 557.856 Q57.4504 557.856 54.3717 553.273 Q51.3162 548.666 51.3162 539.94 Q51.3162 531.19 54.3717 526.606 Q57.4504 522 63.2606 522 Z\" fill=\"#000000\" fill-rule=\"evenodd\" fill-opacity=\"1\" /><path clip-path=\"url(#clip230)\" d=\"M83.4225 551.305 L88.3067 551.305 L88.3067 557.185 L83.4225 557.185 L83.4225 551.305 Z\" fill=\"#000000\" fill-rule=\"evenodd\" fill-opacity=\"1\" /><path clip-path=\"url(#clip230)\" d=\"M109.071 538.042 Q105.922 538.042 104.071 540.194 Q102.242 542.347 102.242 546.097 Q102.242 549.824 104.071 552 Q105.922 554.153 109.071 554.153 Q112.219 554.153 114.047 552 Q115.899 549.824 115.899 546.097 Q115.899 542.347 114.047 540.194 Q112.219 538.042 109.071 538.042 M118.353 523.389 L118.353 527.648 Q116.594 526.815 114.788 526.375 Q113.006 525.935 111.246 525.935 Q106.617 525.935 104.163 529.06 Q101.733 532.185 101.385 538.504 Q102.751 536.491 104.811 535.426 Q106.871 534.338 109.348 534.338 Q114.557 534.338 117.566 537.509 Q120.598 540.657 120.598 546.097 Q120.598 551.421 117.45 554.639 Q114.302 557.856 109.071 557.856 Q103.075 557.856 99.9039 553.273 Q96.7326 548.666 96.7326 539.94 Q96.7326 531.745 100.621 526.884 Q104.51 522 111.061 522 Q112.82 522 114.603 522.347 Q116.408 522.694 118.353 523.389 Z\" fill=\"#000000\" fill-rule=\"evenodd\" fill-opacity=\"1\" /><path clip-path=\"url(#clip230)\" d=\"M63.5152 223.767 Q59.9041 223.767 58.0754 227.331 Q56.2699 230.873 56.2699 238.003 Q56.2699 245.109 58.0754 248.674 Q59.9041 252.216 63.5152 252.216 Q67.1494 252.216 68.955 248.674 Q70.7837 245.109 70.7837 238.003 Q70.7837 230.873 68.955 227.331 Q67.1494 223.767 63.5152 223.767 M63.5152 220.063 Q69.3254 220.063 72.3809 224.669 Q75.4596 229.253 75.4596 238.003 Q75.4596 246.73 72.3809 251.336 Q69.3254 255.919 63.5152 255.919 Q57.7051 255.919 54.6264 251.336 Q51.5708 246.73 51.5708 238.003 Q51.5708 229.253 54.6264 224.669 Q57.7051 220.063 63.5152 220.063 Z\" fill=\"#000000\" fill-rule=\"evenodd\" fill-opacity=\"1\" /><path clip-path=\"url(#clip230)\" d=\"M83.6771 249.368 L88.5614 249.368 L88.5614 255.248 L83.6771 255.248 L83.6771 249.368 Z\" fill=\"#000000\" fill-rule=\"evenodd\" fill-opacity=\"1\" /><path clip-path=\"url(#clip230)\" d=\"M108.746 238.836 Q105.413 238.836 103.492 240.618 Q101.594 242.401 101.594 245.526 Q101.594 248.651 103.492 250.433 Q105.413 252.216 108.746 252.216 Q112.08 252.216 114.001 250.433 Q115.922 248.628 115.922 245.526 Q115.922 242.401 114.001 240.618 Q112.103 238.836 108.746 238.836 M104.071 236.845 Q101.061 236.105 99.3715 234.044 Q97.7048 231.984 97.7048 229.021 Q97.7048 224.878 100.645 222.47 Q103.608 220.063 108.746 220.063 Q113.908 220.063 116.848 222.47 Q119.788 224.878 119.788 229.021 Q119.788 231.984 118.098 234.044 Q116.432 236.105 113.445 236.845 Q116.825 237.632 118.7 239.924 Q120.598 242.216 120.598 245.526 Q120.598 250.549 117.52 253.234 Q114.464 255.919 108.746 255.919 Q103.029 255.919 99.9502 253.234 Q96.8947 250.549 96.8947 245.526 Q96.8947 242.216 98.7928 239.924 Q100.691 237.632 104.071 236.845 M102.358 229.461 Q102.358 232.146 104.024 233.651 Q105.714 235.156 108.746 235.156 Q111.756 235.156 113.445 233.651 Q115.158 232.146 115.158 229.461 Q115.158 226.776 113.445 225.271 Q111.756 223.767 108.746 223.767 Q105.714 223.767 104.024 225.271 Q102.358 226.776 102.358 229.461 Z\" fill=\"#000000\" fill-rule=\"evenodd\" fill-opacity=\"1\" /><polyline clip-path=\"url(#clip232)\" style=\"stroke:#009af9; stroke-linecap:butt; stroke-linejoin:round; stroke-width:12; stroke-opacity:1; fill:none\" points=\"\n",
       "  218.754,1445.72 322.346,1445.72 425.938,1445.72 529.531,1445.72 633.123,1445.72 736.715,1445.72 840.308,1445.72 943.9,1445.72 1047.49,1445.72 1151.08,1445.72 \n",
       "  1254.68,1445.72 1358.27,1445.72 1461.86,1445.72 1565.45,1445.72 1669.05,1445.72 1772.64,1445.72 1876.23,1445.72 1979.82,1445.72 2083.42,1445.72 2187.01,1445.72 \n",
       "  2290.6,1445.72 \n",
       "  \"/>\n",
       "<line clip-path=\"url(#clip232)\" x1=\"218.754\" y1=\"1445.72\" x2=\"218.754\" y2=\"1429.72\" style=\"stroke:#009af9; stroke-width:3.2; stroke-opacity:1\"/>\n",
       "<line clip-path=\"url(#clip232)\" x1=\"218.754\" y1=\"1445.72\" x2=\"202.754\" y2=\"1445.72\" style=\"stroke:#009af9; stroke-width:3.2; stroke-opacity:1\"/>\n",
       "<line clip-path=\"url(#clip232)\" x1=\"218.754\" y1=\"1445.72\" x2=\"218.754\" y2=\"1461.72\" style=\"stroke:#009af9; stroke-width:3.2; stroke-opacity:1\"/>\n",
       "<line clip-path=\"url(#clip232)\" x1=\"218.754\" y1=\"1445.72\" x2=\"234.754\" y2=\"1445.72\" style=\"stroke:#009af9; stroke-width:3.2; stroke-opacity:1\"/>\n",
       "<line clip-path=\"url(#clip232)\" x1=\"322.346\" y1=\"1445.72\" x2=\"322.346\" y2=\"1429.72\" style=\"stroke:#009af9; stroke-width:3.2; stroke-opacity:1\"/>\n",
       "<line clip-path=\"url(#clip232)\" x1=\"322.346\" y1=\"1445.72\" x2=\"306.346\" y2=\"1445.72\" style=\"stroke:#009af9; stroke-width:3.2; stroke-opacity:1\"/>\n",
       "<line clip-path=\"url(#clip232)\" x1=\"322.346\" y1=\"1445.72\" x2=\"322.346\" y2=\"1461.72\" style=\"stroke:#009af9; stroke-width:3.2; stroke-opacity:1\"/>\n",
       "<line clip-path=\"url(#clip232)\" x1=\"322.346\" y1=\"1445.72\" x2=\"338.346\" y2=\"1445.72\" style=\"stroke:#009af9; stroke-width:3.2; stroke-opacity:1\"/>\n",
       "<line clip-path=\"url(#clip232)\" x1=\"425.938\" y1=\"1445.72\" x2=\"425.938\" y2=\"1429.72\" style=\"stroke:#009af9; stroke-width:3.2; stroke-opacity:1\"/>\n",
       "<line clip-path=\"url(#clip232)\" x1=\"425.938\" y1=\"1445.72\" x2=\"409.938\" y2=\"1445.72\" style=\"stroke:#009af9; stroke-width:3.2; stroke-opacity:1\"/>\n",
       "<line clip-path=\"url(#clip232)\" x1=\"425.938\" y1=\"1445.72\" x2=\"425.938\" y2=\"1461.72\" style=\"stroke:#009af9; stroke-width:3.2; stroke-opacity:1\"/>\n",
       "<line clip-path=\"url(#clip232)\" x1=\"425.938\" y1=\"1445.72\" x2=\"441.938\" y2=\"1445.72\" style=\"stroke:#009af9; stroke-width:3.2; stroke-opacity:1\"/>\n",
       "<line clip-path=\"url(#clip232)\" x1=\"529.531\" y1=\"1445.72\" x2=\"529.531\" y2=\"1429.72\" style=\"stroke:#009af9; stroke-width:3.2; stroke-opacity:1\"/>\n",
       "<line clip-path=\"url(#clip232)\" x1=\"529.531\" y1=\"1445.72\" x2=\"513.531\" y2=\"1445.72\" style=\"stroke:#009af9; stroke-width:3.2; stroke-opacity:1\"/>\n",
       "<line clip-path=\"url(#clip232)\" x1=\"529.531\" y1=\"1445.72\" x2=\"529.531\" y2=\"1461.72\" style=\"stroke:#009af9; stroke-width:3.2; stroke-opacity:1\"/>\n",
       "<line clip-path=\"url(#clip232)\" x1=\"529.531\" y1=\"1445.72\" x2=\"545.531\" y2=\"1445.72\" style=\"stroke:#009af9; stroke-width:3.2; stroke-opacity:1\"/>\n",
       "<line clip-path=\"url(#clip232)\" x1=\"633.123\" y1=\"1445.72\" x2=\"633.123\" y2=\"1429.72\" style=\"stroke:#009af9; stroke-width:3.2; stroke-opacity:1\"/>\n",
       "<line clip-path=\"url(#clip232)\" x1=\"633.123\" y1=\"1445.72\" x2=\"617.123\" y2=\"1445.72\" style=\"stroke:#009af9; stroke-width:3.2; stroke-opacity:1\"/>\n",
       "<line clip-path=\"url(#clip232)\" x1=\"633.123\" y1=\"1445.72\" x2=\"633.123\" y2=\"1461.72\" style=\"stroke:#009af9; stroke-width:3.2; stroke-opacity:1\"/>\n",
       "<line clip-path=\"url(#clip232)\" x1=\"633.123\" y1=\"1445.72\" x2=\"649.123\" y2=\"1445.72\" style=\"stroke:#009af9; stroke-width:3.2; stroke-opacity:1\"/>\n",
       "<line clip-path=\"url(#clip232)\" x1=\"736.715\" y1=\"1445.72\" x2=\"736.715\" y2=\"1429.72\" style=\"stroke:#009af9; stroke-width:3.2; stroke-opacity:1\"/>\n",
       "<line clip-path=\"url(#clip232)\" x1=\"736.715\" y1=\"1445.72\" x2=\"720.715\" y2=\"1445.72\" style=\"stroke:#009af9; stroke-width:3.2; stroke-opacity:1\"/>\n",
       "<line clip-path=\"url(#clip232)\" x1=\"736.715\" y1=\"1445.72\" x2=\"736.715\" y2=\"1461.72\" style=\"stroke:#009af9; stroke-width:3.2; stroke-opacity:1\"/>\n",
       "<line clip-path=\"url(#clip232)\" x1=\"736.715\" y1=\"1445.72\" x2=\"752.715\" y2=\"1445.72\" style=\"stroke:#009af9; stroke-width:3.2; stroke-opacity:1\"/>\n",
       "<line clip-path=\"url(#clip232)\" x1=\"840.308\" y1=\"1445.72\" x2=\"840.308\" y2=\"1429.72\" style=\"stroke:#009af9; stroke-width:3.2; stroke-opacity:1\"/>\n",
       "<line clip-path=\"url(#clip232)\" x1=\"840.308\" y1=\"1445.72\" x2=\"824.308\" y2=\"1445.72\" style=\"stroke:#009af9; stroke-width:3.2; stroke-opacity:1\"/>\n",
       "<line clip-path=\"url(#clip232)\" x1=\"840.308\" y1=\"1445.72\" x2=\"840.308\" y2=\"1461.72\" style=\"stroke:#009af9; stroke-width:3.2; stroke-opacity:1\"/>\n",
       "<line clip-path=\"url(#clip232)\" x1=\"840.308\" y1=\"1445.72\" x2=\"856.308\" y2=\"1445.72\" style=\"stroke:#009af9; stroke-width:3.2; stroke-opacity:1\"/>\n",
       "<line clip-path=\"url(#clip232)\" x1=\"943.9\" y1=\"1445.72\" x2=\"943.9\" y2=\"1429.72\" style=\"stroke:#009af9; stroke-width:3.2; stroke-opacity:1\"/>\n",
       "<line clip-path=\"url(#clip232)\" x1=\"943.9\" y1=\"1445.72\" x2=\"927.9\" y2=\"1445.72\" style=\"stroke:#009af9; stroke-width:3.2; stroke-opacity:1\"/>\n",
       "<line clip-path=\"url(#clip232)\" x1=\"943.9\" y1=\"1445.72\" x2=\"943.9\" y2=\"1461.72\" style=\"stroke:#009af9; stroke-width:3.2; stroke-opacity:1\"/>\n",
       "<line clip-path=\"url(#clip232)\" x1=\"943.9\" y1=\"1445.72\" x2=\"959.9\" y2=\"1445.72\" style=\"stroke:#009af9; stroke-width:3.2; stroke-opacity:1\"/>\n",
       "<line clip-path=\"url(#clip232)\" x1=\"1047.49\" y1=\"1445.72\" x2=\"1047.49\" y2=\"1429.72\" style=\"stroke:#009af9; stroke-width:3.2; stroke-opacity:1\"/>\n",
       "<line clip-path=\"url(#clip232)\" x1=\"1047.49\" y1=\"1445.72\" x2=\"1031.49\" y2=\"1445.72\" style=\"stroke:#009af9; stroke-width:3.2; stroke-opacity:1\"/>\n",
       "<line clip-path=\"url(#clip232)\" x1=\"1047.49\" y1=\"1445.72\" x2=\"1047.49\" y2=\"1461.72\" style=\"stroke:#009af9; stroke-width:3.2; stroke-opacity:1\"/>\n",
       "<line clip-path=\"url(#clip232)\" x1=\"1047.49\" y1=\"1445.72\" x2=\"1063.49\" y2=\"1445.72\" style=\"stroke:#009af9; stroke-width:3.2; stroke-opacity:1\"/>\n",
       "<line clip-path=\"url(#clip232)\" x1=\"1151.08\" y1=\"1445.72\" x2=\"1151.08\" y2=\"1429.72\" style=\"stroke:#009af9; stroke-width:3.2; stroke-opacity:1\"/>\n",
       "<line clip-path=\"url(#clip232)\" x1=\"1151.08\" y1=\"1445.72\" x2=\"1135.08\" y2=\"1445.72\" style=\"stroke:#009af9; stroke-width:3.2; stroke-opacity:1\"/>\n",
       "<line clip-path=\"url(#clip232)\" x1=\"1151.08\" y1=\"1445.72\" x2=\"1151.08\" y2=\"1461.72\" style=\"stroke:#009af9; stroke-width:3.2; stroke-opacity:1\"/>\n",
       "<line clip-path=\"url(#clip232)\" x1=\"1151.08\" y1=\"1445.72\" x2=\"1167.08\" y2=\"1445.72\" style=\"stroke:#009af9; stroke-width:3.2; stroke-opacity:1\"/>\n",
       "<line clip-path=\"url(#clip232)\" x1=\"1254.68\" y1=\"1445.72\" x2=\"1254.68\" y2=\"1429.72\" style=\"stroke:#009af9; stroke-width:3.2; stroke-opacity:1\"/>\n",
       "<line clip-path=\"url(#clip232)\" x1=\"1254.68\" y1=\"1445.72\" x2=\"1238.68\" y2=\"1445.72\" style=\"stroke:#009af9; stroke-width:3.2; stroke-opacity:1\"/>\n",
       "<line clip-path=\"url(#clip232)\" x1=\"1254.68\" y1=\"1445.72\" x2=\"1254.68\" y2=\"1461.72\" style=\"stroke:#009af9; stroke-width:3.2; stroke-opacity:1\"/>\n",
       "<line clip-path=\"url(#clip232)\" x1=\"1254.68\" y1=\"1445.72\" x2=\"1270.68\" y2=\"1445.72\" style=\"stroke:#009af9; stroke-width:3.2; stroke-opacity:1\"/>\n",
       "<line clip-path=\"url(#clip232)\" x1=\"1358.27\" y1=\"1445.72\" x2=\"1358.27\" y2=\"1429.72\" style=\"stroke:#009af9; stroke-width:3.2; stroke-opacity:1\"/>\n",
       "<line clip-path=\"url(#clip232)\" x1=\"1358.27\" y1=\"1445.72\" x2=\"1342.27\" y2=\"1445.72\" style=\"stroke:#009af9; stroke-width:3.2; stroke-opacity:1\"/>\n",
       "<line clip-path=\"url(#clip232)\" x1=\"1358.27\" y1=\"1445.72\" x2=\"1358.27\" y2=\"1461.72\" style=\"stroke:#009af9; stroke-width:3.2; stroke-opacity:1\"/>\n",
       "<line clip-path=\"url(#clip232)\" x1=\"1358.27\" y1=\"1445.72\" x2=\"1374.27\" y2=\"1445.72\" style=\"stroke:#009af9; stroke-width:3.2; stroke-opacity:1\"/>\n",
       "<line clip-path=\"url(#clip232)\" x1=\"1461.86\" y1=\"1445.72\" x2=\"1461.86\" y2=\"1429.72\" style=\"stroke:#009af9; stroke-width:3.2; stroke-opacity:1\"/>\n",
       "<line clip-path=\"url(#clip232)\" x1=\"1461.86\" y1=\"1445.72\" x2=\"1445.86\" y2=\"1445.72\" style=\"stroke:#009af9; stroke-width:3.2; stroke-opacity:1\"/>\n",
       "<line clip-path=\"url(#clip232)\" x1=\"1461.86\" y1=\"1445.72\" x2=\"1461.86\" y2=\"1461.72\" style=\"stroke:#009af9; stroke-width:3.2; stroke-opacity:1\"/>\n",
       "<line clip-path=\"url(#clip232)\" x1=\"1461.86\" y1=\"1445.72\" x2=\"1477.86\" y2=\"1445.72\" style=\"stroke:#009af9; stroke-width:3.2; stroke-opacity:1\"/>\n",
       "<line clip-path=\"url(#clip232)\" x1=\"1565.45\" y1=\"1445.72\" x2=\"1565.45\" y2=\"1429.72\" style=\"stroke:#009af9; stroke-width:3.2; stroke-opacity:1\"/>\n",
       "<line clip-path=\"url(#clip232)\" x1=\"1565.45\" y1=\"1445.72\" x2=\"1549.45\" y2=\"1445.72\" style=\"stroke:#009af9; stroke-width:3.2; stroke-opacity:1\"/>\n",
       "<line clip-path=\"url(#clip232)\" x1=\"1565.45\" y1=\"1445.72\" x2=\"1565.45\" y2=\"1461.72\" style=\"stroke:#009af9; stroke-width:3.2; stroke-opacity:1\"/>\n",
       "<line clip-path=\"url(#clip232)\" x1=\"1565.45\" y1=\"1445.72\" x2=\"1581.45\" y2=\"1445.72\" style=\"stroke:#009af9; stroke-width:3.2; stroke-opacity:1\"/>\n",
       "<line clip-path=\"url(#clip232)\" x1=\"1669.05\" y1=\"1445.72\" x2=\"1669.05\" y2=\"1429.72\" style=\"stroke:#009af9; stroke-width:3.2; stroke-opacity:1\"/>\n",
       "<line clip-path=\"url(#clip232)\" x1=\"1669.05\" y1=\"1445.72\" x2=\"1653.05\" y2=\"1445.72\" style=\"stroke:#009af9; stroke-width:3.2; stroke-opacity:1\"/>\n",
       "<line clip-path=\"url(#clip232)\" x1=\"1669.05\" y1=\"1445.72\" x2=\"1669.05\" y2=\"1461.72\" style=\"stroke:#009af9; stroke-width:3.2; stroke-opacity:1\"/>\n",
       "<line clip-path=\"url(#clip232)\" x1=\"1669.05\" y1=\"1445.72\" x2=\"1685.05\" y2=\"1445.72\" style=\"stroke:#009af9; stroke-width:3.2; stroke-opacity:1\"/>\n",
       "<line clip-path=\"url(#clip232)\" x1=\"1772.64\" y1=\"1445.72\" x2=\"1772.64\" y2=\"1429.72\" style=\"stroke:#009af9; stroke-width:3.2; stroke-opacity:1\"/>\n",
       "<line clip-path=\"url(#clip232)\" x1=\"1772.64\" y1=\"1445.72\" x2=\"1756.64\" y2=\"1445.72\" style=\"stroke:#009af9; stroke-width:3.2; stroke-opacity:1\"/>\n",
       "<line clip-path=\"url(#clip232)\" x1=\"1772.64\" y1=\"1445.72\" x2=\"1772.64\" y2=\"1461.72\" style=\"stroke:#009af9; stroke-width:3.2; stroke-opacity:1\"/>\n",
       "<line clip-path=\"url(#clip232)\" x1=\"1772.64\" y1=\"1445.72\" x2=\"1788.64\" y2=\"1445.72\" style=\"stroke:#009af9; stroke-width:3.2; stroke-opacity:1\"/>\n",
       "<line clip-path=\"url(#clip232)\" x1=\"1876.23\" y1=\"1445.72\" x2=\"1876.23\" y2=\"1429.72\" style=\"stroke:#009af9; stroke-width:3.2; stroke-opacity:1\"/>\n",
       "<line clip-path=\"url(#clip232)\" x1=\"1876.23\" y1=\"1445.72\" x2=\"1860.23\" y2=\"1445.72\" style=\"stroke:#009af9; stroke-width:3.2; stroke-opacity:1\"/>\n",
       "<line clip-path=\"url(#clip232)\" x1=\"1876.23\" y1=\"1445.72\" x2=\"1876.23\" y2=\"1461.72\" style=\"stroke:#009af9; stroke-width:3.2; stroke-opacity:1\"/>\n",
       "<line clip-path=\"url(#clip232)\" x1=\"1876.23\" y1=\"1445.72\" x2=\"1892.23\" y2=\"1445.72\" style=\"stroke:#009af9; stroke-width:3.2; stroke-opacity:1\"/>\n",
       "<line clip-path=\"url(#clip232)\" x1=\"1979.82\" y1=\"1445.72\" x2=\"1979.82\" y2=\"1429.72\" style=\"stroke:#009af9; stroke-width:3.2; stroke-opacity:1\"/>\n",
       "<line clip-path=\"url(#clip232)\" x1=\"1979.82\" y1=\"1445.72\" x2=\"1963.82\" y2=\"1445.72\" style=\"stroke:#009af9; stroke-width:3.2; stroke-opacity:1\"/>\n",
       "<line clip-path=\"url(#clip232)\" x1=\"1979.82\" y1=\"1445.72\" x2=\"1979.82\" y2=\"1461.72\" style=\"stroke:#009af9; stroke-width:3.2; stroke-opacity:1\"/>\n",
       "<line clip-path=\"url(#clip232)\" x1=\"1979.82\" y1=\"1445.72\" x2=\"1995.82\" y2=\"1445.72\" style=\"stroke:#009af9; stroke-width:3.2; stroke-opacity:1\"/>\n",
       "<line clip-path=\"url(#clip232)\" x1=\"2083.42\" y1=\"1445.72\" x2=\"2083.42\" y2=\"1429.72\" style=\"stroke:#009af9; stroke-width:3.2; stroke-opacity:1\"/>\n",
       "<line clip-path=\"url(#clip232)\" x1=\"2083.42\" y1=\"1445.72\" x2=\"2067.42\" y2=\"1445.72\" style=\"stroke:#009af9; stroke-width:3.2; stroke-opacity:1\"/>\n",
       "<line clip-path=\"url(#clip232)\" x1=\"2083.42\" y1=\"1445.72\" x2=\"2083.42\" y2=\"1461.72\" style=\"stroke:#009af9; stroke-width:3.2; stroke-opacity:1\"/>\n",
       "<line clip-path=\"url(#clip232)\" x1=\"2083.42\" y1=\"1445.72\" x2=\"2099.42\" y2=\"1445.72\" style=\"stroke:#009af9; stroke-width:3.2; stroke-opacity:1\"/>\n",
       "<line clip-path=\"url(#clip232)\" x1=\"2187.01\" y1=\"1445.72\" x2=\"2187.01\" y2=\"1429.72\" style=\"stroke:#009af9; stroke-width:3.2; stroke-opacity:1\"/>\n",
       "<line clip-path=\"url(#clip232)\" x1=\"2187.01\" y1=\"1445.72\" x2=\"2171.01\" y2=\"1445.72\" style=\"stroke:#009af9; stroke-width:3.2; stroke-opacity:1\"/>\n",
       "<line clip-path=\"url(#clip232)\" x1=\"2187.01\" y1=\"1445.72\" x2=\"2187.01\" y2=\"1461.72\" style=\"stroke:#009af9; stroke-width:3.2; stroke-opacity:1\"/>\n",
       "<line clip-path=\"url(#clip232)\" x1=\"2187.01\" y1=\"1445.72\" x2=\"2203.01\" y2=\"1445.72\" style=\"stroke:#009af9; stroke-width:3.2; stroke-opacity:1\"/>\n",
       "<line clip-path=\"url(#clip232)\" x1=\"2290.6\" y1=\"1445.72\" x2=\"2290.6\" y2=\"1429.72\" style=\"stroke:#009af9; stroke-width:3.2; stroke-opacity:1\"/>\n",
       "<line clip-path=\"url(#clip232)\" x1=\"2290.6\" y1=\"1445.72\" x2=\"2274.6\" y2=\"1445.72\" style=\"stroke:#009af9; stroke-width:3.2; stroke-opacity:1\"/>\n",
       "<line clip-path=\"url(#clip232)\" x1=\"2290.6\" y1=\"1445.72\" x2=\"2290.6\" y2=\"1461.72\" style=\"stroke:#009af9; stroke-width:3.2; stroke-opacity:1\"/>\n",
       "<line clip-path=\"url(#clip232)\" x1=\"2290.6\" y1=\"1445.72\" x2=\"2306.6\" y2=\"1445.72\" style=\"stroke:#009af9; stroke-width:3.2; stroke-opacity:1\"/>\n",
       "<polyline clip-path=\"url(#clip232)\" style=\"stroke:#e26f46; stroke-linecap:butt; stroke-linejoin:round; stroke-width:12; stroke-opacity:1; fill:none\" points=\"\n",
       "  218.754,124.742 322.346,313.452 425.938,502.163 529.531,690.873 633.123,879.584 736.715,1068.29 840.308,1257.01 943.9,1445.72 1047.49,1445.72 1151.08,1445.72 \n",
       "  1254.68,1445.72 1358.27,1445.72 1461.86,1445.72 1565.45,1445.72 1669.05,1445.72 1772.64,1445.72 1876.23,1445.72 1979.82,1445.72 2083.42,1445.72 2187.01,1445.72 \n",
       "  2290.6,1445.72 \n",
       "  \"/>\n",
       "<circle clip-path=\"url(#clip232)\" cx=\"218.754\" cy=\"124.742\" r=\"14.4\" fill=\"#e26f46\" fill-rule=\"evenodd\" fill-opacity=\"1\" stroke=\"#000000\" stroke-opacity=\"1\" stroke-width=\"3.2\"/>\n",
       "<circle clip-path=\"url(#clip232)\" cx=\"322.346\" cy=\"313.452\" r=\"14.4\" fill=\"#e26f46\" fill-rule=\"evenodd\" fill-opacity=\"1\" stroke=\"#000000\" stroke-opacity=\"1\" stroke-width=\"3.2\"/>\n",
       "<circle clip-path=\"url(#clip232)\" cx=\"425.938\" cy=\"502.163\" r=\"14.4\" fill=\"#e26f46\" fill-rule=\"evenodd\" fill-opacity=\"1\" stroke=\"#000000\" stroke-opacity=\"1\" stroke-width=\"3.2\"/>\n",
       "<circle clip-path=\"url(#clip232)\" cx=\"529.531\" cy=\"690.873\" r=\"14.4\" fill=\"#e26f46\" fill-rule=\"evenodd\" fill-opacity=\"1\" stroke=\"#000000\" stroke-opacity=\"1\" stroke-width=\"3.2\"/>\n",
       "<circle clip-path=\"url(#clip232)\" cx=\"633.123\" cy=\"879.584\" r=\"14.4\" fill=\"#e26f46\" fill-rule=\"evenodd\" fill-opacity=\"1\" stroke=\"#000000\" stroke-opacity=\"1\" stroke-width=\"3.2\"/>\n",
       "<circle clip-path=\"url(#clip232)\" cx=\"736.715\" cy=\"1068.29\" r=\"14.4\" fill=\"#e26f46\" fill-rule=\"evenodd\" fill-opacity=\"1\" stroke=\"#000000\" stroke-opacity=\"1\" stroke-width=\"3.2\"/>\n",
       "<circle clip-path=\"url(#clip232)\" cx=\"840.308\" cy=\"1257.01\" r=\"14.4\" fill=\"#e26f46\" fill-rule=\"evenodd\" fill-opacity=\"1\" stroke=\"#000000\" stroke-opacity=\"1\" stroke-width=\"3.2\"/>\n",
       "<circle clip-path=\"url(#clip232)\" cx=\"943.9\" cy=\"1445.72\" r=\"14.4\" fill=\"#e26f46\" fill-rule=\"evenodd\" fill-opacity=\"1\" stroke=\"#000000\" stroke-opacity=\"1\" stroke-width=\"3.2\"/>\n",
       "<circle clip-path=\"url(#clip232)\" cx=\"1047.49\" cy=\"1445.72\" r=\"14.4\" fill=\"#e26f46\" fill-rule=\"evenodd\" fill-opacity=\"1\" stroke=\"#000000\" stroke-opacity=\"1\" stroke-width=\"3.2\"/>\n",
       "<circle clip-path=\"url(#clip232)\" cx=\"1151.08\" cy=\"1445.72\" r=\"14.4\" fill=\"#e26f46\" fill-rule=\"evenodd\" fill-opacity=\"1\" stroke=\"#000000\" stroke-opacity=\"1\" stroke-width=\"3.2\"/>\n",
       "<circle clip-path=\"url(#clip232)\" cx=\"1254.68\" cy=\"1445.72\" r=\"14.4\" fill=\"#e26f46\" fill-rule=\"evenodd\" fill-opacity=\"1\" stroke=\"#000000\" stroke-opacity=\"1\" stroke-width=\"3.2\"/>\n",
       "<circle clip-path=\"url(#clip232)\" cx=\"1358.27\" cy=\"1445.72\" r=\"14.4\" fill=\"#e26f46\" fill-rule=\"evenodd\" fill-opacity=\"1\" stroke=\"#000000\" stroke-opacity=\"1\" stroke-width=\"3.2\"/>\n",
       "<circle clip-path=\"url(#clip232)\" cx=\"1461.86\" cy=\"1445.72\" r=\"14.4\" fill=\"#e26f46\" fill-rule=\"evenodd\" fill-opacity=\"1\" stroke=\"#000000\" stroke-opacity=\"1\" stroke-width=\"3.2\"/>\n",
       "<circle clip-path=\"url(#clip232)\" cx=\"1565.45\" cy=\"1445.72\" r=\"14.4\" fill=\"#e26f46\" fill-rule=\"evenodd\" fill-opacity=\"1\" stroke=\"#000000\" stroke-opacity=\"1\" stroke-width=\"3.2\"/>\n",
       "<circle clip-path=\"url(#clip232)\" cx=\"1669.05\" cy=\"1445.72\" r=\"14.4\" fill=\"#e26f46\" fill-rule=\"evenodd\" fill-opacity=\"1\" stroke=\"#000000\" stroke-opacity=\"1\" stroke-width=\"3.2\"/>\n",
       "<circle clip-path=\"url(#clip232)\" cx=\"1772.64\" cy=\"1445.72\" r=\"14.4\" fill=\"#e26f46\" fill-rule=\"evenodd\" fill-opacity=\"1\" stroke=\"#000000\" stroke-opacity=\"1\" stroke-width=\"3.2\"/>\n",
       "<circle clip-path=\"url(#clip232)\" cx=\"1876.23\" cy=\"1445.72\" r=\"14.4\" fill=\"#e26f46\" fill-rule=\"evenodd\" fill-opacity=\"1\" stroke=\"#000000\" stroke-opacity=\"1\" stroke-width=\"3.2\"/>\n",
       "<circle clip-path=\"url(#clip232)\" cx=\"1979.82\" cy=\"1445.72\" r=\"14.4\" fill=\"#e26f46\" fill-rule=\"evenodd\" fill-opacity=\"1\" stroke=\"#000000\" stroke-opacity=\"1\" stroke-width=\"3.2\"/>\n",
       "<circle clip-path=\"url(#clip232)\" cx=\"2083.42\" cy=\"1445.72\" r=\"14.4\" fill=\"#e26f46\" fill-rule=\"evenodd\" fill-opacity=\"1\" stroke=\"#000000\" stroke-opacity=\"1\" stroke-width=\"3.2\"/>\n",
       "<circle clip-path=\"url(#clip232)\" cx=\"2187.01\" cy=\"1445.72\" r=\"14.4\" fill=\"#e26f46\" fill-rule=\"evenodd\" fill-opacity=\"1\" stroke=\"#000000\" stroke-opacity=\"1\" stroke-width=\"3.2\"/>\n",
       "<circle clip-path=\"url(#clip232)\" cx=\"2290.6\" cy=\"1445.72\" r=\"14.4\" fill=\"#e26f46\" fill-rule=\"evenodd\" fill-opacity=\"1\" stroke=\"#000000\" stroke-opacity=\"1\" stroke-width=\"3.2\"/>\n",
       "<polyline clip-path=\"url(#clip232)\" style=\"stroke:#3da44d; stroke-linecap:butt; stroke-linejoin:round; stroke-width:12; stroke-opacity:1; fill:none\" points=\"\n",
       "  218.754,124.742 322.346,313.452 425.938,502.163 529.531,690.873 633.123,879.584 736.715,1068.29 840.308,1257.01 943.9,1280.59 1047.49,1304.18 1151.08,1327.77 \n",
       "  1254.68,1351.36 1358.27,1374.95 1461.86,1398.54 1565.45,1422.13 1669.05,1445.72 1772.64,1445.72 1876.23,1445.72 1979.82,1445.72 2083.42,1445.72 2187.01,1445.72 \n",
       "  2290.6,1445.72 \n",
       "  \"/>\n",
       "<line clip-path=\"url(#clip232)\" x1=\"218.754\" y1=\"124.742\" x2=\"218.754\" y2=\"108.742\" style=\"stroke:#3da44d; stroke-width:3.2; stroke-opacity:1\"/>\n",
       "<line clip-path=\"url(#clip232)\" x1=\"218.754\" y1=\"124.742\" x2=\"202.754\" y2=\"124.742\" style=\"stroke:#3da44d; stroke-width:3.2; stroke-opacity:1\"/>\n",
       "<line clip-path=\"url(#clip232)\" x1=\"218.754\" y1=\"124.742\" x2=\"218.754\" y2=\"140.742\" style=\"stroke:#3da44d; stroke-width:3.2; stroke-opacity:1\"/>\n",
       "<line clip-path=\"url(#clip232)\" x1=\"218.754\" y1=\"124.742\" x2=\"234.754\" y2=\"124.742\" style=\"stroke:#3da44d; stroke-width:3.2; stroke-opacity:1\"/>\n",
       "<line clip-path=\"url(#clip232)\" x1=\"322.346\" y1=\"313.452\" x2=\"322.346\" y2=\"297.452\" style=\"stroke:#3da44d; stroke-width:3.2; stroke-opacity:1\"/>\n",
       "<line clip-path=\"url(#clip232)\" x1=\"322.346\" y1=\"313.452\" x2=\"306.346\" y2=\"313.452\" style=\"stroke:#3da44d; stroke-width:3.2; stroke-opacity:1\"/>\n",
       "<line clip-path=\"url(#clip232)\" x1=\"322.346\" y1=\"313.452\" x2=\"322.346\" y2=\"329.452\" style=\"stroke:#3da44d; stroke-width:3.2; stroke-opacity:1\"/>\n",
       "<line clip-path=\"url(#clip232)\" x1=\"322.346\" y1=\"313.452\" x2=\"338.346\" y2=\"313.452\" style=\"stroke:#3da44d; stroke-width:3.2; stroke-opacity:1\"/>\n",
       "<line clip-path=\"url(#clip232)\" x1=\"425.938\" y1=\"502.163\" x2=\"425.938\" y2=\"486.163\" style=\"stroke:#3da44d; stroke-width:3.2; stroke-opacity:1\"/>\n",
       "<line clip-path=\"url(#clip232)\" x1=\"425.938\" y1=\"502.163\" x2=\"409.938\" y2=\"502.163\" style=\"stroke:#3da44d; stroke-width:3.2; stroke-opacity:1\"/>\n",
       "<line clip-path=\"url(#clip232)\" x1=\"425.938\" y1=\"502.163\" x2=\"425.938\" y2=\"518.163\" style=\"stroke:#3da44d; stroke-width:3.2; stroke-opacity:1\"/>\n",
       "<line clip-path=\"url(#clip232)\" x1=\"425.938\" y1=\"502.163\" x2=\"441.938\" y2=\"502.163\" style=\"stroke:#3da44d; stroke-width:3.2; stroke-opacity:1\"/>\n",
       "<line clip-path=\"url(#clip232)\" x1=\"529.531\" y1=\"690.873\" x2=\"529.531\" y2=\"674.873\" style=\"stroke:#3da44d; stroke-width:3.2; stroke-opacity:1\"/>\n",
       "<line clip-path=\"url(#clip232)\" x1=\"529.531\" y1=\"690.873\" x2=\"513.531\" y2=\"690.873\" style=\"stroke:#3da44d; stroke-width:3.2; stroke-opacity:1\"/>\n",
       "<line clip-path=\"url(#clip232)\" x1=\"529.531\" y1=\"690.873\" x2=\"529.531\" y2=\"706.873\" style=\"stroke:#3da44d; stroke-width:3.2; stroke-opacity:1\"/>\n",
       "<line clip-path=\"url(#clip232)\" x1=\"529.531\" y1=\"690.873\" x2=\"545.531\" y2=\"690.873\" style=\"stroke:#3da44d; stroke-width:3.2; stroke-opacity:1\"/>\n",
       "<line clip-path=\"url(#clip232)\" x1=\"633.123\" y1=\"879.584\" x2=\"633.123\" y2=\"863.584\" style=\"stroke:#3da44d; stroke-width:3.2; stroke-opacity:1\"/>\n",
       "<line clip-path=\"url(#clip232)\" x1=\"633.123\" y1=\"879.584\" x2=\"617.123\" y2=\"879.584\" style=\"stroke:#3da44d; stroke-width:3.2; stroke-opacity:1\"/>\n",
       "<line clip-path=\"url(#clip232)\" x1=\"633.123\" y1=\"879.584\" x2=\"633.123\" y2=\"895.584\" style=\"stroke:#3da44d; stroke-width:3.2; stroke-opacity:1\"/>\n",
       "<line clip-path=\"url(#clip232)\" x1=\"633.123\" y1=\"879.584\" x2=\"649.123\" y2=\"879.584\" style=\"stroke:#3da44d; stroke-width:3.2; stroke-opacity:1\"/>\n",
       "<line clip-path=\"url(#clip232)\" x1=\"736.715\" y1=\"1068.29\" x2=\"736.715\" y2=\"1052.29\" style=\"stroke:#3da44d; stroke-width:3.2; stroke-opacity:1\"/>\n",
       "<line clip-path=\"url(#clip232)\" x1=\"736.715\" y1=\"1068.29\" x2=\"720.715\" y2=\"1068.29\" style=\"stroke:#3da44d; stroke-width:3.2; stroke-opacity:1\"/>\n",
       "<line clip-path=\"url(#clip232)\" x1=\"736.715\" y1=\"1068.29\" x2=\"736.715\" y2=\"1084.29\" style=\"stroke:#3da44d; stroke-width:3.2; stroke-opacity:1\"/>\n",
       "<line clip-path=\"url(#clip232)\" x1=\"736.715\" y1=\"1068.29\" x2=\"752.715\" y2=\"1068.29\" style=\"stroke:#3da44d; stroke-width:3.2; stroke-opacity:1\"/>\n",
       "<line clip-path=\"url(#clip232)\" x1=\"840.308\" y1=\"1257.01\" x2=\"840.308\" y2=\"1241.01\" style=\"stroke:#3da44d; stroke-width:3.2; stroke-opacity:1\"/>\n",
       "<line clip-path=\"url(#clip232)\" x1=\"840.308\" y1=\"1257.01\" x2=\"824.308\" y2=\"1257.01\" style=\"stroke:#3da44d; stroke-width:3.2; stroke-opacity:1\"/>\n",
       "<line clip-path=\"url(#clip232)\" x1=\"840.308\" y1=\"1257.01\" x2=\"840.308\" y2=\"1273.01\" style=\"stroke:#3da44d; stroke-width:3.2; stroke-opacity:1\"/>\n",
       "<line clip-path=\"url(#clip232)\" x1=\"840.308\" y1=\"1257.01\" x2=\"856.308\" y2=\"1257.01\" style=\"stroke:#3da44d; stroke-width:3.2; stroke-opacity:1\"/>\n",
       "<line clip-path=\"url(#clip232)\" x1=\"943.9\" y1=\"1280.59\" x2=\"943.9\" y2=\"1264.59\" style=\"stroke:#3da44d; stroke-width:3.2; stroke-opacity:1\"/>\n",
       "<line clip-path=\"url(#clip232)\" x1=\"943.9\" y1=\"1280.59\" x2=\"927.9\" y2=\"1280.59\" style=\"stroke:#3da44d; stroke-width:3.2; stroke-opacity:1\"/>\n",
       "<line clip-path=\"url(#clip232)\" x1=\"943.9\" y1=\"1280.59\" x2=\"943.9\" y2=\"1296.59\" style=\"stroke:#3da44d; stroke-width:3.2; stroke-opacity:1\"/>\n",
       "<line clip-path=\"url(#clip232)\" x1=\"943.9\" y1=\"1280.59\" x2=\"959.9\" y2=\"1280.59\" style=\"stroke:#3da44d; stroke-width:3.2; stroke-opacity:1\"/>\n",
       "<line clip-path=\"url(#clip232)\" x1=\"1047.49\" y1=\"1304.18\" x2=\"1047.49\" y2=\"1288.18\" style=\"stroke:#3da44d; stroke-width:3.2; stroke-opacity:1\"/>\n",
       "<line clip-path=\"url(#clip232)\" x1=\"1047.49\" y1=\"1304.18\" x2=\"1031.49\" y2=\"1304.18\" style=\"stroke:#3da44d; stroke-width:3.2; stroke-opacity:1\"/>\n",
       "<line clip-path=\"url(#clip232)\" x1=\"1047.49\" y1=\"1304.18\" x2=\"1047.49\" y2=\"1320.18\" style=\"stroke:#3da44d; stroke-width:3.2; stroke-opacity:1\"/>\n",
       "<line clip-path=\"url(#clip232)\" x1=\"1047.49\" y1=\"1304.18\" x2=\"1063.49\" y2=\"1304.18\" style=\"stroke:#3da44d; stroke-width:3.2; stroke-opacity:1\"/>\n",
       "<line clip-path=\"url(#clip232)\" x1=\"1151.08\" y1=\"1327.77\" x2=\"1151.08\" y2=\"1311.77\" style=\"stroke:#3da44d; stroke-width:3.2; stroke-opacity:1\"/>\n",
       "<line clip-path=\"url(#clip232)\" x1=\"1151.08\" y1=\"1327.77\" x2=\"1135.08\" y2=\"1327.77\" style=\"stroke:#3da44d; stroke-width:3.2; stroke-opacity:1\"/>\n",
       "<line clip-path=\"url(#clip232)\" x1=\"1151.08\" y1=\"1327.77\" x2=\"1151.08\" y2=\"1343.77\" style=\"stroke:#3da44d; stroke-width:3.2; stroke-opacity:1\"/>\n",
       "<line clip-path=\"url(#clip232)\" x1=\"1151.08\" y1=\"1327.77\" x2=\"1167.08\" y2=\"1327.77\" style=\"stroke:#3da44d; stroke-width:3.2; stroke-opacity:1\"/>\n",
       "<line clip-path=\"url(#clip232)\" x1=\"1254.68\" y1=\"1351.36\" x2=\"1254.68\" y2=\"1335.36\" style=\"stroke:#3da44d; stroke-width:3.2; stroke-opacity:1\"/>\n",
       "<line clip-path=\"url(#clip232)\" x1=\"1254.68\" y1=\"1351.36\" x2=\"1238.68\" y2=\"1351.36\" style=\"stroke:#3da44d; stroke-width:3.2; stroke-opacity:1\"/>\n",
       "<line clip-path=\"url(#clip232)\" x1=\"1254.68\" y1=\"1351.36\" x2=\"1254.68\" y2=\"1367.36\" style=\"stroke:#3da44d; stroke-width:3.2; stroke-opacity:1\"/>\n",
       "<line clip-path=\"url(#clip232)\" x1=\"1254.68\" y1=\"1351.36\" x2=\"1270.68\" y2=\"1351.36\" style=\"stroke:#3da44d; stroke-width:3.2; stroke-opacity:1\"/>\n",
       "<line clip-path=\"url(#clip232)\" x1=\"1358.27\" y1=\"1374.95\" x2=\"1358.27\" y2=\"1358.95\" style=\"stroke:#3da44d; stroke-width:3.2; stroke-opacity:1\"/>\n",
       "<line clip-path=\"url(#clip232)\" x1=\"1358.27\" y1=\"1374.95\" x2=\"1342.27\" y2=\"1374.95\" style=\"stroke:#3da44d; stroke-width:3.2; stroke-opacity:1\"/>\n",
       "<line clip-path=\"url(#clip232)\" x1=\"1358.27\" y1=\"1374.95\" x2=\"1358.27\" y2=\"1390.95\" style=\"stroke:#3da44d; stroke-width:3.2; stroke-opacity:1\"/>\n",
       "<line clip-path=\"url(#clip232)\" x1=\"1358.27\" y1=\"1374.95\" x2=\"1374.27\" y2=\"1374.95\" style=\"stroke:#3da44d; stroke-width:3.2; stroke-opacity:1\"/>\n",
       "<line clip-path=\"url(#clip232)\" x1=\"1461.86\" y1=\"1398.54\" x2=\"1461.86\" y2=\"1382.54\" style=\"stroke:#3da44d; stroke-width:3.2; stroke-opacity:1\"/>\n",
       "<line clip-path=\"url(#clip232)\" x1=\"1461.86\" y1=\"1398.54\" x2=\"1445.86\" y2=\"1398.54\" style=\"stroke:#3da44d; stroke-width:3.2; stroke-opacity:1\"/>\n",
       "<line clip-path=\"url(#clip232)\" x1=\"1461.86\" y1=\"1398.54\" x2=\"1461.86\" y2=\"1414.54\" style=\"stroke:#3da44d; stroke-width:3.2; stroke-opacity:1\"/>\n",
       "<line clip-path=\"url(#clip232)\" x1=\"1461.86\" y1=\"1398.54\" x2=\"1477.86\" y2=\"1398.54\" style=\"stroke:#3da44d; stroke-width:3.2; stroke-opacity:1\"/>\n",
       "<line clip-path=\"url(#clip232)\" x1=\"1565.45\" y1=\"1422.13\" x2=\"1565.45\" y2=\"1406.13\" style=\"stroke:#3da44d; stroke-width:3.2; stroke-opacity:1\"/>\n",
       "<line clip-path=\"url(#clip232)\" x1=\"1565.45\" y1=\"1422.13\" x2=\"1549.45\" y2=\"1422.13\" style=\"stroke:#3da44d; stroke-width:3.2; stroke-opacity:1\"/>\n",
       "<line clip-path=\"url(#clip232)\" x1=\"1565.45\" y1=\"1422.13\" x2=\"1565.45\" y2=\"1438.13\" style=\"stroke:#3da44d; stroke-width:3.2; stroke-opacity:1\"/>\n",
       "<line clip-path=\"url(#clip232)\" x1=\"1565.45\" y1=\"1422.13\" x2=\"1581.45\" y2=\"1422.13\" style=\"stroke:#3da44d; stroke-width:3.2; stroke-opacity:1\"/>\n",
       "<line clip-path=\"url(#clip232)\" x1=\"1669.05\" y1=\"1445.72\" x2=\"1669.05\" y2=\"1429.72\" style=\"stroke:#3da44d; stroke-width:3.2; stroke-opacity:1\"/>\n",
       "<line clip-path=\"url(#clip232)\" x1=\"1669.05\" y1=\"1445.72\" x2=\"1653.05\" y2=\"1445.72\" style=\"stroke:#3da44d; stroke-width:3.2; stroke-opacity:1\"/>\n",
       "<line clip-path=\"url(#clip232)\" x1=\"1669.05\" y1=\"1445.72\" x2=\"1669.05\" y2=\"1461.72\" style=\"stroke:#3da44d; stroke-width:3.2; stroke-opacity:1\"/>\n",
       "<line clip-path=\"url(#clip232)\" x1=\"1669.05\" y1=\"1445.72\" x2=\"1685.05\" y2=\"1445.72\" style=\"stroke:#3da44d; stroke-width:3.2; stroke-opacity:1\"/>\n",
       "<line clip-path=\"url(#clip232)\" x1=\"1772.64\" y1=\"1445.72\" x2=\"1772.64\" y2=\"1429.72\" style=\"stroke:#3da44d; stroke-width:3.2; stroke-opacity:1\"/>\n",
       "<line clip-path=\"url(#clip232)\" x1=\"1772.64\" y1=\"1445.72\" x2=\"1756.64\" y2=\"1445.72\" style=\"stroke:#3da44d; stroke-width:3.2; stroke-opacity:1\"/>\n",
       "<line clip-path=\"url(#clip232)\" x1=\"1772.64\" y1=\"1445.72\" x2=\"1772.64\" y2=\"1461.72\" style=\"stroke:#3da44d; stroke-width:3.2; stroke-opacity:1\"/>\n",
       "<line clip-path=\"url(#clip232)\" x1=\"1772.64\" y1=\"1445.72\" x2=\"1788.64\" y2=\"1445.72\" style=\"stroke:#3da44d; stroke-width:3.2; stroke-opacity:1\"/>\n",
       "<line clip-path=\"url(#clip232)\" x1=\"1876.23\" y1=\"1445.72\" x2=\"1876.23\" y2=\"1429.72\" style=\"stroke:#3da44d; stroke-width:3.2; stroke-opacity:1\"/>\n",
       "<line clip-path=\"url(#clip232)\" x1=\"1876.23\" y1=\"1445.72\" x2=\"1860.23\" y2=\"1445.72\" style=\"stroke:#3da44d; stroke-width:3.2; stroke-opacity:1\"/>\n",
       "<line clip-path=\"url(#clip232)\" x1=\"1876.23\" y1=\"1445.72\" x2=\"1876.23\" y2=\"1461.72\" style=\"stroke:#3da44d; stroke-width:3.2; stroke-opacity:1\"/>\n",
       "<line clip-path=\"url(#clip232)\" x1=\"1876.23\" y1=\"1445.72\" x2=\"1892.23\" y2=\"1445.72\" style=\"stroke:#3da44d; stroke-width:3.2; stroke-opacity:1\"/>\n",
       "<line clip-path=\"url(#clip232)\" x1=\"1979.82\" y1=\"1445.72\" x2=\"1979.82\" y2=\"1429.72\" style=\"stroke:#3da44d; stroke-width:3.2; stroke-opacity:1\"/>\n",
       "<line clip-path=\"url(#clip232)\" x1=\"1979.82\" y1=\"1445.72\" x2=\"1963.82\" y2=\"1445.72\" style=\"stroke:#3da44d; stroke-width:3.2; stroke-opacity:1\"/>\n",
       "<line clip-path=\"url(#clip232)\" x1=\"1979.82\" y1=\"1445.72\" x2=\"1979.82\" y2=\"1461.72\" style=\"stroke:#3da44d; stroke-width:3.2; stroke-opacity:1\"/>\n",
       "<line clip-path=\"url(#clip232)\" x1=\"1979.82\" y1=\"1445.72\" x2=\"1995.82\" y2=\"1445.72\" style=\"stroke:#3da44d; stroke-width:3.2; stroke-opacity:1\"/>\n",
       "<line clip-path=\"url(#clip232)\" x1=\"2083.42\" y1=\"1445.72\" x2=\"2083.42\" y2=\"1429.72\" style=\"stroke:#3da44d; stroke-width:3.2; stroke-opacity:1\"/>\n",
       "<line clip-path=\"url(#clip232)\" x1=\"2083.42\" y1=\"1445.72\" x2=\"2067.42\" y2=\"1445.72\" style=\"stroke:#3da44d; stroke-width:3.2; stroke-opacity:1\"/>\n",
       "<line clip-path=\"url(#clip232)\" x1=\"2083.42\" y1=\"1445.72\" x2=\"2083.42\" y2=\"1461.72\" style=\"stroke:#3da44d; stroke-width:3.2; stroke-opacity:1\"/>\n",
       "<line clip-path=\"url(#clip232)\" x1=\"2083.42\" y1=\"1445.72\" x2=\"2099.42\" y2=\"1445.72\" style=\"stroke:#3da44d; stroke-width:3.2; stroke-opacity:1\"/>\n",
       "<line clip-path=\"url(#clip232)\" x1=\"2187.01\" y1=\"1445.72\" x2=\"2187.01\" y2=\"1429.72\" style=\"stroke:#3da44d; stroke-width:3.2; stroke-opacity:1\"/>\n",
       "<line clip-path=\"url(#clip232)\" x1=\"2187.01\" y1=\"1445.72\" x2=\"2171.01\" y2=\"1445.72\" style=\"stroke:#3da44d; stroke-width:3.2; stroke-opacity:1\"/>\n",
       "<line clip-path=\"url(#clip232)\" x1=\"2187.01\" y1=\"1445.72\" x2=\"2187.01\" y2=\"1461.72\" style=\"stroke:#3da44d; stroke-width:3.2; stroke-opacity:1\"/>\n",
       "<line clip-path=\"url(#clip232)\" x1=\"2187.01\" y1=\"1445.72\" x2=\"2203.01\" y2=\"1445.72\" style=\"stroke:#3da44d; stroke-width:3.2; stroke-opacity:1\"/>\n",
       "<line clip-path=\"url(#clip232)\" x1=\"2290.6\" y1=\"1445.72\" x2=\"2290.6\" y2=\"1429.72\" style=\"stroke:#3da44d; stroke-width:3.2; stroke-opacity:1\"/>\n",
       "<line clip-path=\"url(#clip232)\" x1=\"2290.6\" y1=\"1445.72\" x2=\"2274.6\" y2=\"1445.72\" style=\"stroke:#3da44d; stroke-width:3.2; stroke-opacity:1\"/>\n",
       "<line clip-path=\"url(#clip232)\" x1=\"2290.6\" y1=\"1445.72\" x2=\"2290.6\" y2=\"1461.72\" style=\"stroke:#3da44d; stroke-width:3.2; stroke-opacity:1\"/>\n",
       "<line clip-path=\"url(#clip232)\" x1=\"2290.6\" y1=\"1445.72\" x2=\"2306.6\" y2=\"1445.72\" style=\"stroke:#3da44d; stroke-width:3.2; stroke-opacity:1\"/>\n",
       "<polyline clip-path=\"url(#clip232)\" style=\"stroke:#c271d2; stroke-linecap:butt; stroke-linejoin:round; stroke-width:12; stroke-opacity:1; fill:none\" points=\"\n",
       "  218.754,104.101 322.346,272.172 425.938,440.242 529.531,608.313 633.123,776.383 736.715,944.453 840.308,1112.52 943.9,1280.59 1047.49,1304.18 1151.08,1327.77 \n",
       "  1254.68,1351.36 1358.27,1374.95 1461.86,1398.54 1565.45,1422.13 1669.05,1425.08 1772.64,1428.02 1876.23,1430.97 1979.82,1433.92 2083.42,1436.87 2187.01,1439.82 \n",
       "  2290.6,1442.77 \n",
       "  \"/>\n",
       "<path clip-path=\"url(#clip232)\" d=\"M218.754 88.1014 L202.754 104.101 L218.754 120.101 L234.754 104.101 L218.754 88.1014 Z\" fill=\"#c271d2\" fill-rule=\"evenodd\" fill-opacity=\"1\" stroke=\"#000000\" stroke-opacity=\"1\" stroke-width=\"3.2\"/>\n",
       "<path clip-path=\"url(#clip232)\" d=\"M322.346 256.172 L306.346 272.172 L322.346 288.172 L338.346 272.172 L322.346 256.172 Z\" fill=\"#c271d2\" fill-rule=\"evenodd\" fill-opacity=\"1\" stroke=\"#000000\" stroke-opacity=\"1\" stroke-width=\"3.2\"/>\n",
       "<path clip-path=\"url(#clip232)\" d=\"M425.938 424.242 L409.938 440.242 L425.938 456.242 L441.938 440.242 L425.938 424.242 Z\" fill=\"#c271d2\" fill-rule=\"evenodd\" fill-opacity=\"1\" stroke=\"#000000\" stroke-opacity=\"1\" stroke-width=\"3.2\"/>\n",
       "<path clip-path=\"url(#clip232)\" d=\"M529.531 592.313 L513.531 608.313 L529.531 624.313 L545.531 608.313 L529.531 592.313 Z\" fill=\"#c271d2\" fill-rule=\"evenodd\" fill-opacity=\"1\" stroke=\"#000000\" stroke-opacity=\"1\" stroke-width=\"3.2\"/>\n",
       "<path clip-path=\"url(#clip232)\" d=\"M633.123 760.383 L617.123 776.383 L633.123 792.383 L649.123 776.383 L633.123 760.383 Z\" fill=\"#c271d2\" fill-rule=\"evenodd\" fill-opacity=\"1\" stroke=\"#000000\" stroke-opacity=\"1\" stroke-width=\"3.2\"/>\n",
       "<path clip-path=\"url(#clip232)\" d=\"M736.715 928.453 L720.715 944.453 L736.715 960.453 L752.715 944.453 L736.715 928.453 Z\" fill=\"#c271d2\" fill-rule=\"evenodd\" fill-opacity=\"1\" stroke=\"#000000\" stroke-opacity=\"1\" stroke-width=\"3.2\"/>\n",
       "<path clip-path=\"url(#clip232)\" d=\"M840.308 1096.52 L824.308 1112.52 L840.308 1128.52 L856.308 1112.52 L840.308 1096.52 Z\" fill=\"#c271d2\" fill-rule=\"evenodd\" fill-opacity=\"1\" stroke=\"#000000\" stroke-opacity=\"1\" stroke-width=\"3.2\"/>\n",
       "<path clip-path=\"url(#clip232)\" d=\"M943.9 1264.59 L927.9 1280.59 L943.9 1296.59 L959.9 1280.59 L943.9 1264.59 Z\" fill=\"#c271d2\" fill-rule=\"evenodd\" fill-opacity=\"1\" stroke=\"#000000\" stroke-opacity=\"1\" stroke-width=\"3.2\"/>\n",
       "<path clip-path=\"url(#clip232)\" d=\"M1047.49 1288.18 L1031.49 1304.18 L1047.49 1320.18 L1063.49 1304.18 L1047.49 1288.18 Z\" fill=\"#c271d2\" fill-rule=\"evenodd\" fill-opacity=\"1\" stroke=\"#000000\" stroke-opacity=\"1\" stroke-width=\"3.2\"/>\n",
       "<path clip-path=\"url(#clip232)\" d=\"M1151.08 1311.77 L1135.08 1327.77 L1151.08 1343.77 L1167.08 1327.77 L1151.08 1311.77 Z\" fill=\"#c271d2\" fill-rule=\"evenodd\" fill-opacity=\"1\" stroke=\"#000000\" stroke-opacity=\"1\" stroke-width=\"3.2\"/>\n",
       "<path clip-path=\"url(#clip232)\" d=\"M1254.68 1335.36 L1238.68 1351.36 L1254.68 1367.36 L1270.68 1351.36 L1254.68 1335.36 Z\" fill=\"#c271d2\" fill-rule=\"evenodd\" fill-opacity=\"1\" stroke=\"#000000\" stroke-opacity=\"1\" stroke-width=\"3.2\"/>\n",
       "<path clip-path=\"url(#clip232)\" d=\"M1358.27 1358.95 L1342.27 1374.95 L1358.27 1390.95 L1374.27 1374.95 L1358.27 1358.95 Z\" fill=\"#c271d2\" fill-rule=\"evenodd\" fill-opacity=\"1\" stroke=\"#000000\" stroke-opacity=\"1\" stroke-width=\"3.2\"/>\n",
       "<path clip-path=\"url(#clip232)\" d=\"M1461.86 1382.54 L1445.86 1398.54 L1461.86 1414.54 L1477.86 1398.54 L1461.86 1382.54 Z\" fill=\"#c271d2\" fill-rule=\"evenodd\" fill-opacity=\"1\" stroke=\"#000000\" stroke-opacity=\"1\" stroke-width=\"3.2\"/>\n",
       "<path clip-path=\"url(#clip232)\" d=\"M1565.45 1406.13 L1549.45 1422.13 L1565.45 1438.13 L1581.45 1422.13 L1565.45 1406.13 Z\" fill=\"#c271d2\" fill-rule=\"evenodd\" fill-opacity=\"1\" stroke=\"#000000\" stroke-opacity=\"1\" stroke-width=\"3.2\"/>\n",
       "<path clip-path=\"url(#clip232)\" d=\"M1669.05 1409.08 L1653.05 1425.08 L1669.05 1441.08 L1685.05 1425.08 L1669.05 1409.08 Z\" fill=\"#c271d2\" fill-rule=\"evenodd\" fill-opacity=\"1\" stroke=\"#000000\" stroke-opacity=\"1\" stroke-width=\"3.2\"/>\n",
       "<path clip-path=\"url(#clip232)\" d=\"M1772.64 1412.02 L1756.64 1428.02 L1772.64 1444.02 L1788.64 1428.02 L1772.64 1412.02 Z\" fill=\"#c271d2\" fill-rule=\"evenodd\" fill-opacity=\"1\" stroke=\"#000000\" stroke-opacity=\"1\" stroke-width=\"3.2\"/>\n",
       "<path clip-path=\"url(#clip232)\" d=\"M1876.23 1414.97 L1860.23 1430.97 L1876.23 1446.97 L1892.23 1430.97 L1876.23 1414.97 Z\" fill=\"#c271d2\" fill-rule=\"evenodd\" fill-opacity=\"1\" stroke=\"#000000\" stroke-opacity=\"1\" stroke-width=\"3.2\"/>\n",
       "<path clip-path=\"url(#clip232)\" d=\"M1979.82 1417.92 L1963.82 1433.92 L1979.82 1449.92 L1995.82 1433.92 L1979.82 1417.92 Z\" fill=\"#c271d2\" fill-rule=\"evenodd\" fill-opacity=\"1\" stroke=\"#000000\" stroke-opacity=\"1\" stroke-width=\"3.2\"/>\n",
       "<path clip-path=\"url(#clip232)\" d=\"M2083.42 1420.87 L2067.42 1436.87 L2083.42 1452.87 L2099.42 1436.87 L2083.42 1420.87 Z\" fill=\"#c271d2\" fill-rule=\"evenodd\" fill-opacity=\"1\" stroke=\"#000000\" stroke-opacity=\"1\" stroke-width=\"3.2\"/>\n",
       "<path clip-path=\"url(#clip232)\" d=\"M2187.01 1423.82 L2171.01 1439.82 L2187.01 1455.82 L2203.01 1439.82 L2187.01 1423.82 Z\" fill=\"#c271d2\" fill-rule=\"evenodd\" fill-opacity=\"1\" stroke=\"#000000\" stroke-opacity=\"1\" stroke-width=\"3.2\"/>\n",
       "<path clip-path=\"url(#clip232)\" d=\"M2290.6 1426.77 L2274.6 1442.77 L2290.6 1458.77 L2306.6 1442.77 L2290.6 1426.77 Z\" fill=\"#c271d2\" fill-rule=\"evenodd\" fill-opacity=\"1\" stroke=\"#000000\" stroke-opacity=\"1\" stroke-width=\"3.2\"/>\n",
       "<polyline clip-path=\"url(#clip232)\" style=\"stroke:#ac8d18; stroke-linecap:butt; stroke-linejoin:round; stroke-width:12; stroke-opacity:1; fill:none\" points=\"\n",
       "  218.754,104.101 322.346,272.172 425.938,440.242 529.531,608.313 633.123,776.383 736.715,944.453 840.308,1112.52 943.9,1151.59 1047.49,1190.66 1151.08,1229.73 \n",
       "  1254.68,1268.8 1358.27,1307.87 1461.86,1346.94 1565.45,1386.01 1669.05,1425.08 1772.64,1428.02 1876.23,1430.97 1979.82,1433.92 2083.42,1436.87 2187.01,1439.82 \n",
       "  2290.6,1442.77 \n",
       "  \"/>\n",
       "<path clip-path=\"url(#clip232)\" d=\"M234.754 88.1014 L202.754 88.1014 L218.754 120.101 L234.754 88.1014 Z\" fill=\"#ac8d18\" fill-rule=\"evenodd\" fill-opacity=\"1\" stroke=\"#000000\" stroke-opacity=\"1\" stroke-width=\"3.2\"/>\n",
       "<path clip-path=\"url(#clip232)\" d=\"M338.346 256.172 L306.346 256.172 L322.346 288.172 L338.346 256.172 Z\" fill=\"#ac8d18\" fill-rule=\"evenodd\" fill-opacity=\"1\" stroke=\"#000000\" stroke-opacity=\"1\" stroke-width=\"3.2\"/>\n",
       "<path clip-path=\"url(#clip232)\" d=\"M441.938 424.242 L409.938 424.242 L425.938 456.242 L441.938 424.242 Z\" fill=\"#ac8d18\" fill-rule=\"evenodd\" fill-opacity=\"1\" stroke=\"#000000\" stroke-opacity=\"1\" stroke-width=\"3.2\"/>\n",
       "<path clip-path=\"url(#clip232)\" d=\"M545.531 592.313 L513.531 592.313 L529.531 624.313 L545.531 592.313 Z\" fill=\"#ac8d18\" fill-rule=\"evenodd\" fill-opacity=\"1\" stroke=\"#000000\" stroke-opacity=\"1\" stroke-width=\"3.2\"/>\n",
       "<path clip-path=\"url(#clip232)\" d=\"M649.123 760.383 L617.123 760.383 L633.123 792.383 L649.123 760.383 Z\" fill=\"#ac8d18\" fill-rule=\"evenodd\" fill-opacity=\"1\" stroke=\"#000000\" stroke-opacity=\"1\" stroke-width=\"3.2\"/>\n",
       "<path clip-path=\"url(#clip232)\" d=\"M752.715 928.453 L720.715 928.453 L736.715 960.453 L752.715 928.453 Z\" fill=\"#ac8d18\" fill-rule=\"evenodd\" fill-opacity=\"1\" stroke=\"#000000\" stroke-opacity=\"1\" stroke-width=\"3.2\"/>\n",
       "<path clip-path=\"url(#clip232)\" d=\"M856.308 1096.52 L824.308 1096.52 L840.308 1128.52 L856.308 1096.52 Z\" fill=\"#ac8d18\" fill-rule=\"evenodd\" fill-opacity=\"1\" stroke=\"#000000\" stroke-opacity=\"1\" stroke-width=\"3.2\"/>\n",
       "<path clip-path=\"url(#clip232)\" d=\"M959.9 1135.59 L927.9 1135.59 L943.9 1167.59 L959.9 1135.59 Z\" fill=\"#ac8d18\" fill-rule=\"evenodd\" fill-opacity=\"1\" stroke=\"#000000\" stroke-opacity=\"1\" stroke-width=\"3.2\"/>\n",
       "<path clip-path=\"url(#clip232)\" d=\"M1063.49 1174.66 L1031.49 1174.66 L1047.49 1206.66 L1063.49 1174.66 Z\" fill=\"#ac8d18\" fill-rule=\"evenodd\" fill-opacity=\"1\" stroke=\"#000000\" stroke-opacity=\"1\" stroke-width=\"3.2\"/>\n",
       "<path clip-path=\"url(#clip232)\" d=\"M1167.08 1213.73 L1135.08 1213.73 L1151.08 1245.73 L1167.08 1213.73 Z\" fill=\"#ac8d18\" fill-rule=\"evenodd\" fill-opacity=\"1\" stroke=\"#000000\" stroke-opacity=\"1\" stroke-width=\"3.2\"/>\n",
       "<path clip-path=\"url(#clip232)\" d=\"M1270.68 1252.8 L1238.68 1252.8 L1254.68 1284.8 L1270.68 1252.8 Z\" fill=\"#ac8d18\" fill-rule=\"evenodd\" fill-opacity=\"1\" stroke=\"#000000\" stroke-opacity=\"1\" stroke-width=\"3.2\"/>\n",
       "<path clip-path=\"url(#clip232)\" d=\"M1374.27 1291.87 L1342.27 1291.87 L1358.27 1323.87 L1374.27 1291.87 Z\" fill=\"#ac8d18\" fill-rule=\"evenodd\" fill-opacity=\"1\" stroke=\"#000000\" stroke-opacity=\"1\" stroke-width=\"3.2\"/>\n",
       "<path clip-path=\"url(#clip232)\" d=\"M1477.86 1330.94 L1445.86 1330.94 L1461.86 1362.94 L1477.86 1330.94 Z\" fill=\"#ac8d18\" fill-rule=\"evenodd\" fill-opacity=\"1\" stroke=\"#000000\" stroke-opacity=\"1\" stroke-width=\"3.2\"/>\n",
       "<path clip-path=\"url(#clip232)\" d=\"M1581.45 1370.01 L1549.45 1370.01 L1565.45 1402.01 L1581.45 1370.01 Z\" fill=\"#ac8d18\" fill-rule=\"evenodd\" fill-opacity=\"1\" stroke=\"#000000\" stroke-opacity=\"1\" stroke-width=\"3.2\"/>\n",
       "<path clip-path=\"url(#clip232)\" d=\"M1685.05 1409.08 L1653.05 1409.08 L1669.05 1441.08 L1685.05 1409.08 Z\" fill=\"#ac8d18\" fill-rule=\"evenodd\" fill-opacity=\"1\" stroke=\"#000000\" stroke-opacity=\"1\" stroke-width=\"3.2\"/>\n",
       "<path clip-path=\"url(#clip232)\" d=\"M1788.64 1412.02 L1756.64 1412.02 L1772.64 1444.02 L1788.64 1412.02 Z\" fill=\"#ac8d18\" fill-rule=\"evenodd\" fill-opacity=\"1\" stroke=\"#000000\" stroke-opacity=\"1\" stroke-width=\"3.2\"/>\n",
       "<path clip-path=\"url(#clip232)\" d=\"M1892.23 1414.97 L1860.23 1414.97 L1876.23 1446.97 L1892.23 1414.97 Z\" fill=\"#ac8d18\" fill-rule=\"evenodd\" fill-opacity=\"1\" stroke=\"#000000\" stroke-opacity=\"1\" stroke-width=\"3.2\"/>\n",
       "<path clip-path=\"url(#clip232)\" d=\"M1995.82 1417.92 L1963.82 1417.92 L1979.82 1449.92 L1995.82 1417.92 Z\" fill=\"#ac8d18\" fill-rule=\"evenodd\" fill-opacity=\"1\" stroke=\"#000000\" stroke-opacity=\"1\" stroke-width=\"3.2\"/>\n",
       "<path clip-path=\"url(#clip232)\" d=\"M2099.42 1420.87 L2067.42 1420.87 L2083.42 1452.87 L2099.42 1420.87 Z\" fill=\"#ac8d18\" fill-rule=\"evenodd\" fill-opacity=\"1\" stroke=\"#000000\" stroke-opacity=\"1\" stroke-width=\"3.2\"/>\n",
       "<path clip-path=\"url(#clip232)\" d=\"M2203.01 1423.82 L2171.01 1423.82 L2187.01 1455.82 L2203.01 1423.82 Z\" fill=\"#ac8d18\" fill-rule=\"evenodd\" fill-opacity=\"1\" stroke=\"#000000\" stroke-opacity=\"1\" stroke-width=\"3.2\"/>\n",
       "<path clip-path=\"url(#clip232)\" d=\"M2306.6 1426.77 L2274.6 1426.77 L2290.6 1458.77 L2306.6 1426.77 Z\" fill=\"#ac8d18\" fill-rule=\"evenodd\" fill-opacity=\"1\" stroke=\"#000000\" stroke-opacity=\"1\" stroke-width=\"3.2\"/>\n",
       "<polyline clip-path=\"url(#clip232)\" style=\"stroke:#00a9ad; stroke-linecap:butt; stroke-linejoin:round; stroke-width:12; stroke-opacity:1; fill:none\" points=\"\n",
       "  218.754,87.9763 322.346,239.921 425.938,391.867 529.531,543.812 633.123,695.757 736.715,847.702 840.308,999.647 943.9,1151.59 1047.49,1190.66 1151.08,1229.73 \n",
       "  1254.68,1268.8 1358.27,1307.87 1461.86,1346.94 1565.45,1386.01 1669.05,1393.47 1772.64,1400.93 1876.23,1408.4 1979.82,1415.86 2083.42,1423.32 2187.01,1430.79 \n",
       "  2290.6,1438.25 \n",
       "  \"/>\n",
       "<path clip-path=\"url(#clip232)\" d=\"M218.754 71.9763 L206.242 78.0083 L203.154 91.5443 L211.81 102.392 L225.698 102.392 L234.354 91.5443 L231.266 78.0083 Z\" fill=\"#00a9ad\" fill-rule=\"evenodd\" fill-opacity=\"1\" stroke=\"#000000\" stroke-opacity=\"1\" stroke-width=\"3.2\"/>\n",
       "<path clip-path=\"url(#clip232)\" d=\"M322.346 223.921 L309.834 229.953 L306.746 243.489 L315.402 254.337 L329.29 254.337 L337.946 243.489 L334.858 229.953 Z\" fill=\"#00a9ad\" fill-rule=\"evenodd\" fill-opacity=\"1\" stroke=\"#000000\" stroke-opacity=\"1\" stroke-width=\"3.2\"/>\n",
       "<path clip-path=\"url(#clip232)\" d=\"M425.938 375.867 L413.426 381.899 L410.338 395.435 L418.994 406.283 L432.882 406.283 L441.538 395.435 L438.45 381.899 Z\" fill=\"#00a9ad\" fill-rule=\"evenodd\" fill-opacity=\"1\" stroke=\"#000000\" stroke-opacity=\"1\" stroke-width=\"3.2\"/>\n",
       "<path clip-path=\"url(#clip232)\" d=\"M529.531 527.812 L517.019 533.844 L513.931 547.38 L522.587 558.228 L536.475 558.228 L545.131 547.38 L542.043 533.844 Z\" fill=\"#00a9ad\" fill-rule=\"evenodd\" fill-opacity=\"1\" stroke=\"#000000\" stroke-opacity=\"1\" stroke-width=\"3.2\"/>\n",
       "<path clip-path=\"url(#clip232)\" d=\"M633.123 679.757 L620.611 685.789 L617.523 699.325 L626.179 710.173 L640.067 710.173 L648.723 699.325 L645.635 685.789 Z\" fill=\"#00a9ad\" fill-rule=\"evenodd\" fill-opacity=\"1\" stroke=\"#000000\" stroke-opacity=\"1\" stroke-width=\"3.2\"/>\n",
       "<path clip-path=\"url(#clip232)\" d=\"M736.715 831.702 L724.203 837.734 L721.115 851.27 L729.771 862.118 L743.659 862.118 L752.315 851.27 L749.227 837.734 Z\" fill=\"#00a9ad\" fill-rule=\"evenodd\" fill-opacity=\"1\" stroke=\"#000000\" stroke-opacity=\"1\" stroke-width=\"3.2\"/>\n",
       "<path clip-path=\"url(#clip232)\" d=\"M840.308 983.647 L827.796 989.679 L824.708 1003.22 L833.364 1014.06 L847.252 1014.06 L855.908 1003.22 L852.82 989.679 Z\" fill=\"#00a9ad\" fill-rule=\"evenodd\" fill-opacity=\"1\" stroke=\"#000000\" stroke-opacity=\"1\" stroke-width=\"3.2\"/>\n",
       "<path clip-path=\"url(#clip232)\" d=\"M943.9 1135.59 L931.388 1141.62 L928.3 1155.16 L936.956 1166.01 L950.844 1166.01 L959.5 1155.16 L956.412 1141.62 Z\" fill=\"#00a9ad\" fill-rule=\"evenodd\" fill-opacity=\"1\" stroke=\"#000000\" stroke-opacity=\"1\" stroke-width=\"3.2\"/>\n",
       "<path clip-path=\"url(#clip232)\" d=\"M1047.49 1174.66 L1034.98 1180.69 L1031.89 1194.23 L1040.55 1205.08 L1054.44 1205.08 L1063.09 1194.23 L1060 1180.69 Z\" fill=\"#00a9ad\" fill-rule=\"evenodd\" fill-opacity=\"1\" stroke=\"#000000\" stroke-opacity=\"1\" stroke-width=\"3.2\"/>\n",
       "<path clip-path=\"url(#clip232)\" d=\"M1151.08 1213.73 L1138.57 1219.76 L1135.48 1233.3 L1144.14 1244.15 L1158.03 1244.15 L1166.68 1233.3 L1163.6 1219.76 Z\" fill=\"#00a9ad\" fill-rule=\"evenodd\" fill-opacity=\"1\" stroke=\"#000000\" stroke-opacity=\"1\" stroke-width=\"3.2\"/>\n",
       "<path clip-path=\"url(#clip232)\" d=\"M1254.68 1252.8 L1242.17 1258.83 L1239.08 1272.37 L1247.73 1283.22 L1261.62 1283.22 L1270.28 1272.37 L1267.19 1258.83 Z\" fill=\"#00a9ad\" fill-rule=\"evenodd\" fill-opacity=\"1\" stroke=\"#000000\" stroke-opacity=\"1\" stroke-width=\"3.2\"/>\n",
       "<path clip-path=\"url(#clip232)\" d=\"M1358.27 1291.87 L1345.76 1297.9 L1342.67 1311.44 L1351.33 1322.28 L1365.21 1322.28 L1373.87 1311.44 L1370.78 1297.9 Z\" fill=\"#00a9ad\" fill-rule=\"evenodd\" fill-opacity=\"1\" stroke=\"#000000\" stroke-opacity=\"1\" stroke-width=\"3.2\"/>\n",
       "<path clip-path=\"url(#clip232)\" d=\"M1461.86 1330.94 L1449.35 1336.97 L1446.26 1350.51 L1454.92 1361.35 L1468.81 1361.35 L1477.46 1350.51 L1474.37 1336.97 Z\" fill=\"#00a9ad\" fill-rule=\"evenodd\" fill-opacity=\"1\" stroke=\"#000000\" stroke-opacity=\"1\" stroke-width=\"3.2\"/>\n",
       "<path clip-path=\"url(#clip232)\" d=\"M1565.45 1370.01 L1552.94 1376.04 L1549.85 1389.57 L1558.51 1400.42 L1572.4 1400.42 L1581.05 1389.57 L1577.97 1376.04 Z\" fill=\"#00a9ad\" fill-rule=\"evenodd\" fill-opacity=\"1\" stroke=\"#000000\" stroke-opacity=\"1\" stroke-width=\"3.2\"/>\n",
       "<path clip-path=\"url(#clip232)\" d=\"M1669.05 1377.47 L1656.53 1383.5 L1653.45 1397.04 L1662.1 1407.89 L1675.99 1407.89 L1684.65 1397.04 L1681.56 1383.5 Z\" fill=\"#00a9ad\" fill-rule=\"evenodd\" fill-opacity=\"1\" stroke=\"#000000\" stroke-opacity=\"1\" stroke-width=\"3.2\"/>\n",
       "<path clip-path=\"url(#clip232)\" d=\"M1772.64 1384.93 L1760.13 1390.97 L1757.04 1404.5 L1765.69 1415.35 L1779.58 1415.35 L1788.24 1404.5 L1785.15 1390.97 Z\" fill=\"#00a9ad\" fill-rule=\"evenodd\" fill-opacity=\"1\" stroke=\"#000000\" stroke-opacity=\"1\" stroke-width=\"3.2\"/>\n",
       "<path clip-path=\"url(#clip232)\" d=\"M1876.23 1392.4 L1863.72 1398.43 L1860.63 1411.97 L1869.29 1422.81 L1883.18 1422.81 L1891.83 1411.97 L1888.74 1398.43 Z\" fill=\"#00a9ad\" fill-rule=\"evenodd\" fill-opacity=\"1\" stroke=\"#000000\" stroke-opacity=\"1\" stroke-width=\"3.2\"/>\n",
       "<path clip-path=\"url(#clip232)\" d=\"M1979.82 1399.86 L1967.31 1405.89 L1964.22 1419.43 L1972.88 1430.28 L1986.77 1430.28 L1995.42 1419.43 L1992.34 1405.89 Z\" fill=\"#00a9ad\" fill-rule=\"evenodd\" fill-opacity=\"1\" stroke=\"#000000\" stroke-opacity=\"1\" stroke-width=\"3.2\"/>\n",
       "<path clip-path=\"url(#clip232)\" d=\"M2083.42 1407.32 L2070.9 1413.36 L2067.82 1426.89 L2076.47 1437.74 L2090.36 1437.74 L2099.02 1426.89 L2095.93 1413.36 Z\" fill=\"#00a9ad\" fill-rule=\"evenodd\" fill-opacity=\"1\" stroke=\"#000000\" stroke-opacity=\"1\" stroke-width=\"3.2\"/>\n",
       "<path clip-path=\"url(#clip232)\" d=\"M2187.01 1414.79 L2174.5 1420.82 L2171.41 1434.36 L2180.06 1445.2 L2193.95 1445.2 L2202.61 1434.36 L2199.52 1420.82 Z\" fill=\"#00a9ad\" fill-rule=\"evenodd\" fill-opacity=\"1\" stroke=\"#000000\" stroke-opacity=\"1\" stroke-width=\"3.2\"/>\n",
       "<path clip-path=\"url(#clip232)\" d=\"M2290.6 1422.25 L2278.09 1428.28 L2275 1441.82 L2283.66 1452.67 L2297.54 1452.67 L2306.2 1441.82 L2303.11 1428.28 Z\" fill=\"#00a9ad\" fill-rule=\"evenodd\" fill-opacity=\"1\" stroke=\"#000000\" stroke-opacity=\"1\" stroke-width=\"3.2\"/>\n",
       "<path clip-path=\"url(#clip230)\" d=\"\n",
       "M1981.39 458.098 L2279.55 458.098 L2279.55 95.2176 L1981.39 95.2176  Z\n",
       "  \" fill=\"#ffffff\" fill-rule=\"evenodd\" fill-opacity=\"1\"/>\n",
       "<polyline clip-path=\"url(#clip230)\" style=\"stroke:#000000; stroke-linecap:butt; stroke-linejoin:round; stroke-width:4; stroke-opacity:1; fill:none\" points=\"\n",
       "  1981.39,458.098 2279.55,458.098 2279.55,95.2176 1981.39,95.2176 1981.39,458.098 \n",
       "  \"/>\n",
       "<polyline clip-path=\"url(#clip230)\" style=\"stroke:#009af9; stroke-linecap:butt; stroke-linejoin:round; stroke-width:4; stroke-opacity:1; fill:none\" points=\"\n",
       "  2005.79,147.058 2152.2,147.058 \n",
       "  \"/>\n",
       "<line clip-path=\"url(#clip230)\" x1=\"2079\" y1=\"147.058\" x2=\"2079\" y2=\"121.458\" style=\"stroke:#009af9; stroke-width:5.12; stroke-opacity:1\"/>\n",
       "<line clip-path=\"url(#clip230)\" x1=\"2079\" y1=\"147.058\" x2=\"2053.4\" y2=\"147.058\" style=\"stroke:#009af9; stroke-width:5.12; stroke-opacity:1\"/>\n",
       "<line clip-path=\"url(#clip230)\" x1=\"2079\" y1=\"147.058\" x2=\"2079\" y2=\"172.658\" style=\"stroke:#009af9; stroke-width:5.12; stroke-opacity:1\"/>\n",
       "<line clip-path=\"url(#clip230)\" x1=\"2079\" y1=\"147.058\" x2=\"2104.6\" y2=\"147.058\" style=\"stroke:#009af9; stroke-width:5.12; stroke-opacity:1\"/>\n",
       "<path clip-path=\"url(#clip230)\" d=\"M2190.45 166.745 Q2188.64 171.375 2186.93 172.787 Q2185.21 174.199 2182.34 174.199 L2178.94 174.199 L2178.94 170.634 L2181.44 170.634 Q2183.2 170.634 2184.17 169.8 Q2185.15 168.967 2186.33 165.865 L2187.09 163.921 L2176.6 138.412 L2181.12 138.412 L2189.22 158.689 L2197.32 138.412 L2201.84 138.412 L2190.45 166.745 Z\" fill=\"#000000\" fill-rule=\"evenodd\" fill-opacity=\"1\" /><path clip-path=\"url(#clip230)\" d=\"M2209.13 160.402 L2216.77 160.402 L2216.77 134.037 L2208.46 135.703 L2208.46 131.444 L2216.72 129.778 L2221.4 129.778 L2221.4 160.402 L2229.03 160.402 L2229.03 164.338 L2209.13 164.338 L2209.13 160.402 Z\" fill=\"#000000\" fill-rule=\"evenodd\" fill-opacity=\"1\" /><polyline clip-path=\"url(#clip230)\" style=\"stroke:#e26f46; stroke-linecap:butt; stroke-linejoin:round; stroke-width:4; stroke-opacity:1; fill:none\" points=\"\n",
       "  2005.79,198.898 2152.2,198.898 \n",
       "  \"/>\n",
       "<circle clip-path=\"url(#clip230)\" cx=\"2079\" cy=\"198.898\" r=\"23.04\" fill=\"#e26f46\" fill-rule=\"evenodd\" fill-opacity=\"1\" stroke=\"#000000\" stroke-opacity=\"1\" stroke-width=\"5.12\"/>\n",
       "<path clip-path=\"url(#clip230)\" d=\"M2190.45 218.585 Q2188.64 223.215 2186.93 224.627 Q2185.21 226.039 2182.34 226.039 L2178.94 226.039 L2178.94 222.474 L2181.44 222.474 Q2183.2 222.474 2184.17 221.64 Q2185.15 220.807 2186.33 217.705 L2187.09 215.761 L2176.6 190.252 L2181.12 190.252 L2189.22 210.529 L2197.32 190.252 L2201.84 190.252 L2190.45 218.585 Z\" fill=\"#000000\" fill-rule=\"evenodd\" fill-opacity=\"1\" /><path clip-path=\"url(#clip230)\" d=\"M2212.34 212.242 L2228.66 212.242 L2228.66 216.178 L2206.72 216.178 L2206.72 212.242 Q2209.38 209.488 2213.96 204.858 Q2218.57 200.205 2219.75 198.863 Q2222 196.34 2222.88 194.604 Q2223.78 192.844 2223.78 191.155 Q2223.78 188.4 2221.84 186.664 Q2219.91 184.928 2216.81 184.928 Q2214.61 184.928 2212.16 185.692 Q2209.73 186.455 2206.95 188.006 L2206.95 183.284 Q2209.78 182.15 2212.23 181.571 Q2214.68 180.993 2216.72 180.993 Q2222.09 180.993 2225.28 183.678 Q2228.48 186.363 2228.48 190.854 Q2228.48 192.983 2227.67 194.905 Q2226.88 196.803 2224.77 199.395 Q2224.2 200.067 2221.09 203.284 Q2217.99 206.479 2212.34 212.242 Z\" fill=\"#000000\" fill-rule=\"evenodd\" fill-opacity=\"1\" /><polyline clip-path=\"url(#clip230)\" style=\"stroke:#3da44d; stroke-linecap:butt; stroke-linejoin:round; stroke-width:4; stroke-opacity:1; fill:none\" points=\"\n",
       "  2005.79,250.738 2152.2,250.738 \n",
       "  \"/>\n",
       "<line clip-path=\"url(#clip230)\" x1=\"2079\" y1=\"250.738\" x2=\"2079\" y2=\"225.138\" style=\"stroke:#3da44d; stroke-width:5.12; stroke-opacity:1\"/>\n",
       "<line clip-path=\"url(#clip230)\" x1=\"2079\" y1=\"250.738\" x2=\"2053.4\" y2=\"250.738\" style=\"stroke:#3da44d; stroke-width:5.12; stroke-opacity:1\"/>\n",
       "<line clip-path=\"url(#clip230)\" x1=\"2079\" y1=\"250.738\" x2=\"2079\" y2=\"276.338\" style=\"stroke:#3da44d; stroke-width:5.12; stroke-opacity:1\"/>\n",
       "<line clip-path=\"url(#clip230)\" x1=\"2079\" y1=\"250.738\" x2=\"2104.6\" y2=\"250.738\" style=\"stroke:#3da44d; stroke-width:5.12; stroke-opacity:1\"/>\n",
       "<path clip-path=\"url(#clip230)\" d=\"M2190.45 270.425 Q2188.64 275.055 2186.93 276.467 Q2185.21 277.879 2182.34 277.879 L2178.94 277.879 L2178.94 274.314 L2181.44 274.314 Q2183.2 274.314 2184.17 273.48 Q2185.15 272.647 2186.33 269.545 L2187.09 267.601 L2176.6 242.092 L2181.12 242.092 L2189.22 262.369 L2197.32 242.092 L2201.84 242.092 L2190.45 270.425 Z\" fill=\"#000000\" fill-rule=\"evenodd\" fill-opacity=\"1\" /><path clip-path=\"url(#clip230)\" d=\"M2222.48 249.383 Q2225.84 250.101 2227.71 252.369 Q2229.61 254.638 2229.61 257.971 Q2229.61 263.087 2226.09 265.888 Q2222.58 268.689 2216.09 268.689 Q2213.92 268.689 2211.6 268.249 Q2209.31 267.832 2206.86 266.976 L2206.86 262.462 Q2208.8 263.596 2211.12 264.175 Q2213.43 264.754 2215.96 264.754 Q2220.35 264.754 2222.65 263.018 Q2224.96 261.281 2224.96 257.971 Q2224.96 254.916 2222.81 253.203 Q2220.68 251.467 2216.86 251.467 L2212.83 251.467 L2212.83 247.624 L2217.04 247.624 Q2220.49 247.624 2222.32 246.258 Q2224.15 244.87 2224.15 242.277 Q2224.15 239.615 2222.25 238.203 Q2220.38 236.768 2216.86 236.768 Q2214.94 236.768 2212.74 237.184 Q2210.54 237.601 2207.9 238.481 L2207.9 234.314 Q2210.56 233.573 2212.88 233.203 Q2215.21 232.833 2217.27 232.833 Q2222.6 232.833 2225.7 235.263 Q2228.8 237.67 2228.8 241.791 Q2228.8 244.661 2227.16 246.652 Q2225.52 248.62 2222.48 249.383 Z\" fill=\"#000000\" fill-rule=\"evenodd\" fill-opacity=\"1\" /><polyline clip-path=\"url(#clip230)\" style=\"stroke:#c271d2; stroke-linecap:butt; stroke-linejoin:round; stroke-width:4; stroke-opacity:1; fill:none\" points=\"\n",
       "  2005.79,302.578 2152.2,302.578 \n",
       "  \"/>\n",
       "<path clip-path=\"url(#clip230)\" d=\"M2079 276.978 L2053.4 302.578 L2079 328.178 L2104.6 302.578 L2079 276.978 Z\" fill=\"#c271d2\" fill-rule=\"evenodd\" fill-opacity=\"1\" stroke=\"#000000\" stroke-opacity=\"1\" stroke-width=\"5.12\"/>\n",
       "<path clip-path=\"url(#clip230)\" d=\"M2190.45 322.265 Q2188.64 326.895 2186.93 328.307 Q2185.21 329.719 2182.34 329.719 L2178.94 329.719 L2178.94 326.154 L2181.44 326.154 Q2183.2 326.154 2184.17 325.32 Q2185.15 324.487 2186.33 321.385 L2187.09 319.441 L2176.6 293.932 L2181.12 293.932 L2189.22 314.209 L2197.32 293.932 L2201.84 293.932 L2190.45 322.265 Z\" fill=\"#000000\" fill-rule=\"evenodd\" fill-opacity=\"1\" /><path clip-path=\"url(#clip230)\" d=\"M2221.16 289.372 L2209.36 307.821 L2221.16 307.821 L2221.16 289.372 M2219.94 285.298 L2225.82 285.298 L2225.82 307.821 L2230.75 307.821 L2230.75 311.709 L2225.82 311.709 L2225.82 319.858 L2221.16 319.858 L2221.16 311.709 L2205.56 311.709 L2205.56 307.196 L2219.94 285.298 Z\" fill=\"#000000\" fill-rule=\"evenodd\" fill-opacity=\"1\" /><polyline clip-path=\"url(#clip230)\" style=\"stroke:#ac8d18; stroke-linecap:butt; stroke-linejoin:round; stroke-width:4; stroke-opacity:1; fill:none\" points=\"\n",
       "  2005.79,354.418 2152.2,354.418 \n",
       "  \"/>\n",
       "<path clip-path=\"url(#clip230)\" d=\"M2104.6 328.818 L2053.4 328.818 L2079 380.018 L2104.6 328.818 Z\" fill=\"#ac8d18\" fill-rule=\"evenodd\" fill-opacity=\"1\" stroke=\"#000000\" stroke-opacity=\"1\" stroke-width=\"5.12\"/>\n",
       "<path clip-path=\"url(#clip230)\" d=\"M2190.45 374.105 Q2188.64 378.735 2186.93 380.147 Q2185.21 381.559 2182.34 381.559 L2178.94 381.559 L2178.94 377.994 L2181.44 377.994 Q2183.2 377.994 2184.17 377.16 Q2185.15 376.327 2186.33 373.225 L2187.09 371.281 L2176.6 345.772 L2181.12 345.772 L2189.22 366.049 L2197.32 345.772 L2201.84 345.772 L2190.45 374.105 Z\" fill=\"#000000\" fill-rule=\"evenodd\" fill-opacity=\"1\" /><path clip-path=\"url(#clip230)\" d=\"M2208.36 337.138 L2226.72 337.138 L2226.72 341.073 L2212.65 341.073 L2212.65 349.545 Q2213.66 349.198 2214.68 349.036 Q2215.7 348.85 2216.72 348.85 Q2222.51 348.85 2225.89 352.022 Q2229.27 355.193 2229.27 360.61 Q2229.27 366.188 2225.79 369.29 Q2222.32 372.369 2216 372.369 Q2213.83 372.369 2211.56 371.998 Q2209.31 371.628 2206.9 370.887 L2206.9 366.188 Q2208.99 367.323 2211.21 367.878 Q2213.43 368.434 2215.91 368.434 Q2219.91 368.434 2222.25 366.327 Q2224.59 364.221 2224.59 360.61 Q2224.59 356.999 2222.25 354.892 Q2219.91 352.786 2215.91 352.786 Q2214.03 352.786 2212.16 353.202 Q2210.31 353.619 2208.36 354.499 L2208.36 337.138 Z\" fill=\"#000000\" fill-rule=\"evenodd\" fill-opacity=\"1\" /><polyline clip-path=\"url(#clip230)\" style=\"stroke:#00a9ad; stroke-linecap:butt; stroke-linejoin:round; stroke-width:4; stroke-opacity:1; fill:none\" points=\"\n",
       "  2005.79,406.258 2152.2,406.258 \n",
       "  \"/>\n",
       "<path clip-path=\"url(#clip230)\" d=\"M2079 380.658 L2058.98 390.309 L2054.04 411.966 L2067.89 429.323 L2090.11 429.323 L2103.96 411.966 L2099.02 390.309 Z\" fill=\"#00a9ad\" fill-rule=\"evenodd\" fill-opacity=\"1\" stroke=\"#000000\" stroke-opacity=\"1\" stroke-width=\"5.12\"/>\n",
       "<path clip-path=\"url(#clip230)\" d=\"M2190.45 425.945 Q2188.64 430.575 2186.93 431.987 Q2185.21 433.399 2182.34 433.399 L2178.94 433.399 L2178.94 429.834 L2181.44 429.834 Q2183.2 429.834 2184.17 429 Q2185.15 428.167 2186.33 425.065 L2187.09 423.121 L2176.6 397.612 L2181.12 397.612 L2189.22 417.889 L2197.32 397.612 L2201.84 397.612 L2190.45 425.945 Z\" fill=\"#000000\" fill-rule=\"evenodd\" fill-opacity=\"1\" /><path clip-path=\"url(#clip230)\" d=\"M2218.9 404.394 Q2215.75 404.394 2213.9 406.547 Q2212.07 408.7 2212.07 412.45 Q2212.07 416.176 2213.9 418.352 Q2215.75 420.505 2218.9 420.505 Q2222.04 420.505 2223.87 418.352 Q2225.72 416.176 2225.72 412.45 Q2225.72 408.7 2223.87 406.547 Q2222.04 404.394 2218.9 404.394 M2228.18 389.741 L2228.18 394.001 Q2226.42 393.167 2224.61 392.728 Q2222.83 392.288 2221.07 392.288 Q2216.44 392.288 2213.99 395.413 Q2211.56 398.538 2211.21 404.857 Q2212.58 402.843 2214.64 401.778 Q2216.7 400.69 2219.17 400.69 Q2224.38 400.69 2227.39 403.862 Q2230.42 407.01 2230.42 412.45 Q2230.42 417.774 2227.27 420.991 Q2224.13 424.209 2218.9 424.209 Q2212.9 424.209 2209.73 419.626 Q2206.56 415.019 2206.56 406.292 Q2206.56 398.098 2210.45 393.237 Q2214.34 388.353 2220.89 388.353 Q2222.65 388.353 2224.43 388.7 Q2226.23 389.047 2228.18 389.741 Z\" fill=\"#000000\" fill-rule=\"evenodd\" fill-opacity=\"1\" /></svg>\n"
      ]
     },
     "execution_count": 64,
     "metadata": {},
     "output_type": "execute_result"
    }
   ],
   "source": [
    "A = diagm(0 => 2*ones(n), -1 => -ones(n-1), 1 => -ones(n-1))\n",
    "b = zeros(n); b[1] = 1\n",
    "u = zero(b) # initial guess\n",
    "us = [u]\n",
    "for _ in 1:5\n",
    "    r = b - A * u # residual\n",
    "    u_next = copy(u);\n",
    "    for Pi in P\n",
    "        Ai = Pi' * A * Pi\n",
    "        ui = Ai \\ (Pi' * r)\n",
    "        u_next += Pi * ui\n",
    "    end\n",
    "    u = u_next; push!(us, u)\n",
    "end\n",
    "plot(x, us, marker=:auto)"
   ]
  },
  {
   "cell_type": "markdown",
   "id": "c6666d4a",
   "metadata": {
    "slideshow": {
     "slide_type": "slide"
    }
   },
   "source": [
    "# Theory\n",
    "Given a linear operator $A : V \\to V$, suppose we have a collection of prolongation operators $P_i : V_i \\to V$.  The columns of $P_i$ are \"basis functions\" for the subspace $V_i$.  The Galerkin operator $A_i = P_i^T A P_i$ is the action of the original operator $A$ in the subspace.\n",
    "\n",
    "Define the subspace projection\n",
    "\n",
    "$$ S_i = P_i A_i^{-1} P_i^T A . $$\n",
    "\n",
    "* $S_i$ is a projector: $S_i^2 = S_i$\n",
    "* If $A$ is SPD, $S_i$ is SPD with respect to the $A$ inner product $x^T A y$\n",
    "* $I - S_i$ is $A$-orthogonal to the range of $P_i$"
   ]
  },
  {
   "cell_type": "code",
   "execution_count": 6,
   "id": "e3a85421",
   "metadata": {
    "cell_style": "split",
    "slideshow": {
     "slide_type": ""
    }
   },
   "outputs": [
    {
     "data": {
      "text/plain": [
       "1.2036131040197588e-15"
      ]
     },
     "execution_count": 6,
     "metadata": {},
     "output_type": "execute_result"
    }
   ],
   "source": [
    "A2 = P[2]' * A * P[2]\n",
    "S2 = P[2] * inv(A2) * P[2]' * A\n",
    "norm(S2^2 - S2)"
   ]
  },
  {
   "cell_type": "code",
   "execution_count": 7,
   "id": "33e8f3d4",
   "metadata": {
    "cell_style": "split"
   },
   "outputs": [
    {
     "data": {
      "text/plain": [
       "1.1831170202396054e-15"
      ]
     },
     "execution_count": 7,
     "metadata": {},
     "output_type": "execute_result"
    }
   ],
   "source": [
    "norm(P[2]' * A * (I - S2))"
   ]
  },
  {
   "cell_type": "markdown",
   "id": "da59a5d0",
   "metadata": {
    "slideshow": {
     "slide_type": "fragment"
    }
   },
   "source": [
    "**Note:** The concept of $A$-orthogonality is meaningful only when $A$ is SPD.\n",
    "Does the mathematical expression $ P_i^T A (I - S_i) = 0 $ hold even when $A$ is nonsymmetric?"
   ]
  },
  {
   "cell_type": "markdown",
   "id": "06f70b70",
   "metadata": {
    "cell_style": "center",
    "slideshow": {
     "slide_type": "slide"
    }
   },
   "source": [
    "# Convergence theory\n",
    "\n",
    "The formal convergence is beyond the scope of this course, but the following estimates are useful.  We let $h$ be the element diameter, $H$ be the subdomain diameter, and $\\delta$ be the overlap, each normalized such that the global domain diameter is 1.  We express the convergence in terms of the condition number $\\kappa$ for the preconditioned operator."
   ]
  },
  {
   "cell_type": "markdown",
   "id": "ad6f9ec6",
   "metadata": {
    "cell_style": "split",
    "slideshow": {
     "slide_type": ""
    }
   },
   "source": [
    "* (Block) Jacobi: $\\delta=0$, $\\kappa \\sim H^{-2} H/h = (Hh)^{-1}$\n",
    "* Overlapping Schwarz: $\\kappa \\sim H^{-2} H/\\delta = (H \\delta)^{-1}$\n",
    "* 2-level overlapping Schwarz: $\\kappa \\sim H/\\delta$"
   ]
  },
  {
   "cell_type": "markdown",
   "id": "2be83ef4",
   "metadata": {
    "cell_style": "split"
   },
   "source": [
    "* Additive $ I - \\sum_{i=0}^n S_i, $\n",
    "\n",
    "* Multiplicative $ \\prod_{i=0}^n (I - S_i), $\n",
    "* Hybrid $ (I - S_0) (I - \\sum_{i=1}^n S_i) . $\n",
    "\n",
    "In each case above, the action is expressed in terms of the error iteration operator."
   ]
  },
  {
   "cell_type": "markdown",
   "id": "cb8e7b6b",
   "metadata": {
    "cell_style": "center",
    "slideshow": {
     "slide_type": "slide"
    }
   },
   "source": [
    "# PETSc experiments"
   ]
  },
  {
   "cell_type": "markdown",
   "id": "4d8b65e2",
   "metadata": {
    "cell_style": "split",
    "slideshow": {
     "slide_type": ""
    }
   },
   "source": [
    "* Compare domain decomposition and multigrid preconditioning\n",
    " * `-pc_type asm` (Additive Schwarz)\n",
    "  * `-pc_asm_type basic` (symmetric, versus `restrict`)\n",
    "  * `-pc_asm_overlap 2` (increase overlap)\n",
    "  * Effect of direct subdomain solver: `-sub_pc_type lu`"
   ]
  },
  {
   "cell_type": "markdown",
   "id": "ba46a7e2",
   "metadata": {
    "cell_style": "split"
   },
   "source": [
    "* Symmetric example: `src/snes/examples/tutorials/ex5.c`\n",
    "* Nonsymmetric example: `src/snes/examples/tutorials/ex19.c`\n",
    "* Compare preconditioned versus unpreconditioned norms.\n",
    "* Compare BiCG versus GMRES\n",
    " * `-pc_type mg` (Geometric Multigrid)\n",
    "* Use monitors:\n",
    " * `-ksp_monitor_true_residual`\n",
    " * `-ksp_monitor_singular_value`\n",
    " * `-ksp_converged_reason`\n",
    "* Explain methods: `-snes_view`\n",
    "* Performance info: `-log_view`"
   ]
  }
 ],
 "metadata": {
  "@webio": {
   "lastCommId": null,
   "lastKernelId": null
  },
  "celltoolbar": "Slideshow",
  "kernelspec": {
   "display_name": "Julia 1.7.2",
   "language": "julia",
   "name": "julia-1.7"
  },
  "language_info": {
   "file_extension": ".jl",
   "mimetype": "application/julia",
   "name": "julia",
   "version": "1.8.2"
  },
  "rise": {
   "enable_chalkboard": true
  }
 },
 "nbformat": 4,
 "nbformat_minor": 5
}
